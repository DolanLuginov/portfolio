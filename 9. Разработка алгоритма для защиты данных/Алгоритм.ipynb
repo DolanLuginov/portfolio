{
 "cells": [
  {
   "cell_type": "markdown",
   "metadata": {},
   "source": [
    "# Защита персональных данных клиентов"
   ]
  },
  {
   "cell_type": "markdown",
   "metadata": {},
   "source": [
    "Нам нужно защитить данные клиентов страховой компании. Нужно разработать такой метод преобразования данных, чтобы по ним было сложно восстановить персональную информацию, и чтобы при преобразовании качество моделей машинного обучения не ухудшилось."
   ]
  },
  {
   "cell_type": "markdown",
   "metadata": {},
   "source": [
    "## Загрузка данных"
   ]
  },
  {
   "cell_type": "code",
   "execution_count": 1,
   "metadata": {},
   "outputs": [],
   "source": [
    "import numpy as np\n",
    "import pandas as pd\n",
    "import matplotlib.pyplot as plt\n",
    "%matplotlib inline\n",
    "import seaborn as sns\n",
    "\n",
    "from sklearn.linear_model import LinearRegression\n",
    "from sklearn.model_selection import cross_val_score"
   ]
  },
  {
   "cell_type": "code",
   "execution_count": 2,
   "metadata": {},
   "outputs": [
    {
     "data": {
      "text/html": [
       "<div>\n",
       "<style scoped>\n",
       "    .dataframe tbody tr th:only-of-type {\n",
       "        vertical-align: middle;\n",
       "    }\n",
       "\n",
       "    .dataframe tbody tr th {\n",
       "        vertical-align: top;\n",
       "    }\n",
       "\n",
       "    .dataframe thead th {\n",
       "        text-align: right;\n",
       "    }\n",
       "</style>\n",
       "<table border=\"1\" class=\"dataframe\">\n",
       "  <thead>\n",
       "    <tr style=\"text-align: right;\">\n",
       "      <th></th>\n",
       "      <th>Пол</th>\n",
       "      <th>Возраст</th>\n",
       "      <th>Зарплата</th>\n",
       "      <th>Члены семьи</th>\n",
       "      <th>Страховые выплаты</th>\n",
       "    </tr>\n",
       "  </thead>\n",
       "  <tbody>\n",
       "    <tr>\n",
       "      <td>0</td>\n",
       "      <td>1</td>\n",
       "      <td>41.0</td>\n",
       "      <td>49600.0</td>\n",
       "      <td>1</td>\n",
       "      <td>0</td>\n",
       "    </tr>\n",
       "    <tr>\n",
       "      <td>1</td>\n",
       "      <td>0</td>\n",
       "      <td>46.0</td>\n",
       "      <td>38000.0</td>\n",
       "      <td>1</td>\n",
       "      <td>1</td>\n",
       "    </tr>\n",
       "    <tr>\n",
       "      <td>2</td>\n",
       "      <td>0</td>\n",
       "      <td>29.0</td>\n",
       "      <td>21000.0</td>\n",
       "      <td>0</td>\n",
       "      <td>0</td>\n",
       "    </tr>\n",
       "    <tr>\n",
       "      <td>3</td>\n",
       "      <td>0</td>\n",
       "      <td>21.0</td>\n",
       "      <td>41700.0</td>\n",
       "      <td>2</td>\n",
       "      <td>0</td>\n",
       "    </tr>\n",
       "    <tr>\n",
       "      <td>4</td>\n",
       "      <td>1</td>\n",
       "      <td>28.0</td>\n",
       "      <td>26100.0</td>\n",
       "      <td>0</td>\n",
       "      <td>0</td>\n",
       "    </tr>\n",
       "  </tbody>\n",
       "</table>\n",
       "</div>"
      ],
      "text/plain": [
       "   Пол  Возраст  Зарплата  Члены семьи  Страховые выплаты\n",
       "0    1     41.0   49600.0            1                  0\n",
       "1    0     46.0   38000.0            1                  1\n",
       "2    0     29.0   21000.0            0                  0\n",
       "3    0     21.0   41700.0            2                  0\n",
       "4    1     28.0   26100.0            0                  0"
      ]
     },
     "execution_count": 2,
     "metadata": {},
     "output_type": "execute_result"
    }
   ],
   "source": [
    "df = pd.read_csv('/datasets/insurance.csv')\n",
    "df.head()"
   ]
  },
  {
   "cell_type": "code",
   "execution_count": 3,
   "metadata": {
    "scrolled": false
   },
   "outputs": [
    {
     "name": "stdout",
     "output_type": "stream",
     "text": [
      "<class 'pandas.core.frame.DataFrame'>\n",
      "RangeIndex: 5000 entries, 0 to 4999\n",
      "Data columns (total 5 columns):\n",
      "Пол                  5000 non-null int64\n",
      "Возраст              5000 non-null float64\n",
      "Зарплата             5000 non-null float64\n",
      "Члены семьи          5000 non-null int64\n",
      "Страховые выплаты    5000 non-null int64\n",
      "dtypes: float64(2), int64(3)\n",
      "memory usage: 195.4 KB\n"
     ]
    }
   ],
   "source": [
    "df.info()"
   ]
  },
  {
   "cell_type": "code",
   "execution_count": 4,
   "metadata": {},
   "outputs": [],
   "source": [
    "X = df.drop('Страховые выплаты', axis=1)\n",
    "y = df['Страховые выплаты']"
   ]
  },
  {
   "cell_type": "markdown",
   "metadata": {},
   "source": [
    "## Умножение матриц"
   ]
  },
  {
   "cell_type": "markdown",
   "metadata": {},
   "source": [
    "Обратимая матрица - это матрица, для которой существует обратная матрица. Для неквадратных матриц и вырожденных матриц обратных матриц не существует. Поэтому для умножения матрицы признаков на произвольную обратимую матрицу, нужно чтобы размер такой матрицы был равен $n*n$, где n - это кол-во признаков (в нашем случае 4 на 4)"
   ]
  },
  {
   "cell_type": "markdown",
   "metadata": {},
   "source": [
    "Докажем, что при умножении матрицы признаков на обратимую матрицу качество линейной регрессии не изменится"
   ]
  },
  {
   "cell_type": "markdown",
   "metadata": {},
   "source": [
    "Запишем все объекты в матрицу $X$ (каждая строка отвечает одному объекту). Пусть наша модель линейной регрессии задана столбцом $w$. Тогда предсказания нашей модели это столбец $Xw$ (на каждой строке – предсказание для соответствующего объекта).\n",
    "\n",
    "Домножим $X$ на квадратную обратимую матрицу $A$. Возьмём модель линейной регрессии, заданную столбцом $A^{-1}w$. Тогда эта модель на наших объектах будет давать предсказания $(XA)(A^{-1}w)=Xw$\n",
    "\n",
    "Тем самым, после умножения $X$ на квадратную обратимую матрицу $A$ мы всё равно можем построить модель линейной регрессии, которая даёт те же результаты, что и до умножения."
   ]
  },
  {
   "cell_type": "markdown",
   "metadata": {},
   "source": [
    "## Алгоритм преобразования"
   ]
  },
  {
   "cell_type": "markdown",
   "metadata": {},
   "source": [
    "**Алгоритм**\n",
    "* Создадим квадратную матрицу P размером n x n, где n - количество признаков, со случайными значениями\n",
    "* Проверим, что существует обратная ей матрица.\n",
    "* Умножим датасет с признаками размером m x n (где m - количество объектов) на созданную матрицу и получаем новую матрицу признаков, которая также имеет размер m x n."
   ]
  },
  {
   "cell_type": "code",
   "execution_count": 5,
   "metadata": {},
   "outputs": [],
   "source": [
    "def transform(X, random_state=None):\n",
    "    \n",
    "    if random_state:\n",
    "        np.random.seed(random_state)\n",
    "    n = X.shape[1]\n",
    "    P = np.random.normal(size=(n, n))\n",
    "    \n",
    "    try:\n",
    "        P_inv = np.linalg.inv(P)\n",
    "        return X.values.dot(P)\n",
    "    except:\n",
    "        print('Матрица необратима. Попробуйте другой random_state')"
   ]
  },
  {
   "cell_type": "code",
   "execution_count": 6,
   "metadata": {},
   "outputs": [],
   "source": [
    "# Функция для обратного шифрования, чтобы не терять данные\n",
    "\n",
    "def transform_back(X_new, random_state):\n",
    "    np.random.seed(random_state)\n",
    "    n = X_new.shape[1]\n",
    "    P = np.random.normal(size=(n, n))\n",
    "    P_inv = np.linalg.inv(Z)\n",
    "    return np.dot(X_new, P_inv)"
   ]
  },
  {
   "cell_type": "markdown",
   "metadata": {},
   "source": [
    "## Проверка алгоритма"
   ]
  },
  {
   "cell_type": "markdown",
   "metadata": {},
   "source": [
    "Для начала определим метрику до преобразований"
   ]
  },
  {
   "cell_type": "code",
   "execution_count": 7,
   "metadata": {},
   "outputs": [],
   "source": [
    "model = LinearRegression()"
   ]
  },
  {
   "cell_type": "code",
   "execution_count": 8,
   "metadata": {},
   "outputs": [
    {
     "data": {
      "text/plain": [
       "0.414600847386013"
      ]
     },
     "execution_count": 8,
     "metadata": {},
     "output_type": "execute_result"
    }
   ],
   "source": [
    "cross_val_score(model, X, y, cv=10).mean()"
   ]
  },
  {
   "cell_type": "markdown",
   "metadata": {},
   "source": [
    "Проверим наш алгоритм для десяти различных random_seed"
   ]
  },
  {
   "cell_type": "code",
   "execution_count": 9,
   "metadata": {},
   "outputs": [
    {
     "name": "stdout",
     "output_type": "stream",
     "text": [
      "0.4146008473859516\n",
      "0.4146008473856896\n",
      "0.4146008473860661\n",
      "0.41460084738607855\n",
      "0.41460084738601904\n",
      "0.4146008473859745\n",
      "0.41460084738599806\n",
      "0.41460084738607456\n",
      "0.41460084738597747\n",
      "0.414600847385478\n"
     ]
    }
   ],
   "source": [
    "for i in range(10):\n",
    "    X_new = transform(X, i)\n",
    "    print(cross_val_score(model, X_new, y, cv=10).mean())"
   ]
  },
  {
   "cell_type": "markdown",
   "metadata": {},
   "source": [
    "Качество модели не изменилось) Алгоритм прошел проверку!"
   ]
  }
 ],
 "metadata": {
  "ExecuteTimeLog": [
   {
    "duration": 608,
    "start_time": "2021-11-12T08:55:38.135Z"
   },
   {
    "duration": 31,
    "start_time": "2021-11-12T08:55:56.255Z"
   },
   {
    "duration": 4,
    "start_time": "2021-11-12T08:58:04.916Z"
   },
   {
    "duration": 7,
    "start_time": "2021-11-12T08:58:12.120Z"
   },
   {
    "duration": 4,
    "start_time": "2021-11-12T09:01:51.386Z"
   },
   {
    "duration": 697,
    "start_time": "2021-11-12T09:02:29.238Z"
   },
   {
    "duration": 226,
    "start_time": "2021-11-12T09:02:34.292Z"
   },
   {
    "duration": 3,
    "start_time": "2021-11-12T09:02:58.381Z"
   },
   {
    "duration": 339,
    "start_time": "2021-11-12T09:04:04.816Z"
   },
   {
    "duration": 150,
    "start_time": "2021-11-12T09:04:18.164Z"
   },
   {
    "duration": 476,
    "start_time": "2021-11-12T09:04:59.934Z"
   },
   {
    "duration": 5,
    "start_time": "2021-11-12T09:05:10.265Z"
   },
   {
    "duration": 143,
    "start_time": "2021-11-12T09:05:51.792Z"
   },
   {
    "duration": 137,
    "start_time": "2021-11-12T09:05:56.076Z"
   },
   {
    "duration": 6,
    "start_time": "2021-11-12T09:06:41.974Z"
   },
   {
    "duration": 1454,
    "start_time": "2021-11-13T07:04:37.801Z"
   },
   {
    "duration": 64,
    "start_time": "2021-11-13T07:04:39.260Z"
   },
   {
    "duration": 9,
    "start_time": "2021-11-13T07:04:39.327Z"
   },
   {
    "duration": 9,
    "start_time": "2021-11-13T07:04:39.338Z"
   },
   {
    "duration": 250,
    "start_time": "2021-11-13T07:04:39.350Z"
   },
   {
    "duration": 3,
    "start_time": "2021-11-13T07:04:39.603Z"
   },
   {
    "duration": 6,
    "start_time": "2021-11-13T07:08:32.945Z"
   },
   {
    "duration": 36,
    "start_time": "2021-11-13T07:08:49.085Z"
   },
   {
    "duration": 34,
    "start_time": "2021-11-13T07:08:53.647Z"
   },
   {
    "duration": 35,
    "start_time": "2021-11-13T07:08:56.392Z"
   },
   {
    "duration": 35,
    "start_time": "2021-11-13T07:08:59.091Z"
   },
   {
    "duration": 7,
    "start_time": "2021-11-13T07:11:17.542Z"
   },
   {
    "duration": 6,
    "start_time": "2021-11-13T07:11:20.657Z"
   },
   {
    "duration": 6,
    "start_time": "2021-11-13T07:11:22.872Z"
   },
   {
    "duration": 5,
    "start_time": "2021-11-13T07:11:27.196Z"
   },
   {
    "duration": 6,
    "start_time": "2021-11-13T07:11:53.807Z"
   },
   {
    "duration": 5,
    "start_time": "2021-11-13T07:12:37.606Z"
   },
   {
    "duration": 7,
    "start_time": "2021-11-13T07:12:50.438Z"
   },
   {
    "duration": 7,
    "start_time": "2021-11-13T07:13:06.786Z"
   },
   {
    "duration": 7,
    "start_time": "2021-11-13T07:13:35.477Z"
   },
   {
    "duration": 6,
    "start_time": "2021-11-13T07:13:40.157Z"
   },
   {
    "duration": 6,
    "start_time": "2021-11-13T07:14:00.314Z"
   },
   {
    "duration": 6,
    "start_time": "2021-11-13T07:14:09.871Z"
   },
   {
    "duration": 22,
    "start_time": "2021-11-13T07:14:27.247Z"
   },
   {
    "duration": 7,
    "start_time": "2021-11-13T07:14:54.272Z"
   },
   {
    "duration": 21,
    "start_time": "2021-11-13T07:14:55.789Z"
   },
   {
    "duration": 496,
    "start_time": "2021-11-13T07:15:07.057Z"
   },
   {
    "duration": 7,
    "start_time": "2021-11-13T07:15:12.142Z"
   },
   {
    "duration": 21,
    "start_time": "2021-11-13T07:15:12.791Z"
   },
   {
    "duration": 4,
    "start_time": "2021-11-13T07:15:15.000Z"
   },
   {
    "duration": 36,
    "start_time": "2021-11-13T07:15:17.059Z"
   },
   {
    "duration": 7,
    "start_time": "2021-11-13T07:15:17.965Z"
   },
   {
    "duration": 21,
    "start_time": "2021-11-13T07:15:18.811Z"
   },
   {
    "duration": 370,
    "start_time": "2021-11-13T07:21:26.758Z"
   },
   {
    "duration": 373,
    "start_time": "2021-11-13T07:21:30.605Z"
   },
   {
    "duration": 337,
    "start_time": "2021-11-13T07:21:33.779Z"
   },
   {
    "duration": 619,
    "start_time": "2021-11-13T07:22:16.659Z"
   },
   {
    "duration": 595,
    "start_time": "2021-11-13T07:22:38.907Z"
   },
   {
    "duration": 5,
    "start_time": "2021-11-13T07:25:32.091Z"
   },
   {
    "duration": 5,
    "start_time": "2021-11-13T07:25:48.103Z"
   },
   {
    "duration": 22,
    "start_time": "2021-11-13T07:25:56.076Z"
   },
   {
    "duration": 5,
    "start_time": "2021-11-13T07:25:58.716Z"
   },
   {
    "duration": 5,
    "start_time": "2021-11-13T07:25:59.061Z"
   },
   {
    "duration": 23,
    "start_time": "2021-11-13T07:25:59.275Z"
   },
   {
    "duration": 5,
    "start_time": "2021-11-13T07:26:02.113Z"
   },
   {
    "duration": 4,
    "start_time": "2021-11-13T07:26:02.378Z"
   },
   {
    "duration": 21,
    "start_time": "2021-11-13T07:26:02.680Z"
   },
   {
    "duration": 4,
    "start_time": "2021-11-13T07:26:04.743Z"
   },
   {
    "duration": 4,
    "start_time": "2021-11-13T07:26:05.059Z"
   },
   {
    "duration": 28,
    "start_time": "2021-11-13T07:26:05.370Z"
   },
   {
    "duration": 65,
    "start_time": "2021-11-13T07:26:46.422Z"
   },
   {
    "duration": 6,
    "start_time": "2021-11-13T07:26:47.315Z"
   },
   {
    "duration": 35,
    "start_time": "2021-11-13T07:26:47.815Z"
   },
   {
    "duration": 4,
    "start_time": "2021-11-13T07:26:49.084Z"
   },
   {
    "duration": 4,
    "start_time": "2021-11-13T07:26:49.955Z"
   },
   {
    "duration": 36,
    "start_time": "2021-11-13T07:26:53.152Z"
   },
   {
    "duration": 7,
    "start_time": "2021-11-13T07:39:22.279Z"
   },
   {
    "duration": 3,
    "start_time": "2021-11-13T07:39:25.880Z"
   },
   {
    "duration": 59,
    "start_time": "2021-11-13T07:39:26.557Z"
   },
   {
    "duration": 7,
    "start_time": "2021-11-13T07:39:27.306Z"
   },
   {
    "duration": 36,
    "start_time": "2021-11-13T07:39:27.946Z"
   },
   {
    "duration": 6,
    "start_time": "2021-11-13T07:39:28.947Z"
   },
   {
    "duration": 4,
    "start_time": "2021-11-13T07:39:29.960Z"
   },
   {
    "duration": 38,
    "start_time": "2021-11-13T07:39:30.453Z"
   },
   {
    "duration": 1479,
    "start_time": "2021-11-13T07:49:18.471Z"
   },
   {
    "duration": 34,
    "start_time": "2021-11-13T07:49:19.953Z"
   },
   {
    "duration": 8,
    "start_time": "2021-11-13T07:49:19.991Z"
   },
   {
    "duration": 8,
    "start_time": "2021-11-13T07:49:20.003Z"
   },
   {
    "duration": 262,
    "start_time": "2021-11-13T07:49:20.014Z"
   },
   {
    "duration": 4,
    "start_time": "2021-11-13T07:49:20.279Z"
   },
   {
    "duration": 88,
    "start_time": "2021-11-13T07:49:20.286Z"
   },
   {
    "duration": 8,
    "start_time": "2021-11-13T07:49:20.378Z"
   },
   {
    "duration": 36,
    "start_time": "2021-11-13T07:49:20.389Z"
   },
   {
    "duration": 33,
    "start_time": "2021-11-13T07:49:20.427Z"
   },
   {
    "duration": 6,
    "start_time": "2021-11-13T07:49:20.463Z"
   },
   {
    "duration": 34,
    "start_time": "2021-11-13T07:49:20.472Z"
   },
   {
    "duration": 7,
    "start_time": "2021-11-13T07:54:28.019Z"
   },
   {
    "duration": 38,
    "start_time": "2021-11-13T07:54:28.946Z"
   },
   {
    "duration": 7,
    "start_time": "2021-11-13T07:54:35.537Z"
   },
   {
    "duration": 33,
    "start_time": "2021-11-13T07:54:36.175Z"
   },
   {
    "duration": 6,
    "start_time": "2021-11-13T07:54:40.314Z"
   },
   {
    "duration": 34,
    "start_time": "2021-11-13T07:54:40.877Z"
   },
   {
    "duration": 7,
    "start_time": "2021-11-13T07:54:46.825Z"
   },
   {
    "duration": 33,
    "start_time": "2021-11-13T07:54:47.384Z"
   },
   {
    "duration": 15,
    "start_time": "2021-11-13T07:54:52.448Z"
   },
   {
    "duration": 2159,
    "start_time": "2021-11-13T07:54:52.901Z"
   },
   {
    "duration": 7,
    "start_time": "2021-11-13T07:55:55.977Z"
   },
   {
    "duration": 36,
    "start_time": "2021-11-13T07:55:57.055Z"
   },
   {
    "duration": 4,
    "start_time": "2021-11-13T07:59:18.665Z"
   },
   {
    "duration": 7,
    "start_time": "2021-11-13T07:59:59.868Z"
   },
   {
    "duration": 7,
    "start_time": "2021-11-13T08:00:02.646Z"
   },
   {
    "duration": 271,
    "start_time": "2021-11-13T08:00:43.338Z"
   },
   {
    "duration": 529,
    "start_time": "2021-11-13T08:00:51.069Z"
   },
   {
    "duration": 128,
    "start_time": "2021-11-13T08:04:23.031Z"
   },
   {
    "duration": 300,
    "start_time": "2021-11-13T08:10:50.888Z"
   },
   {
    "duration": 1528,
    "start_time": "2021-11-13T08:17:15.759Z"
   },
   {
    "duration": 32,
    "start_time": "2021-11-13T08:17:17.290Z"
   },
   {
    "duration": 9,
    "start_time": "2021-11-13T08:17:17.325Z"
   },
   {
    "duration": 5,
    "start_time": "2021-11-13T08:17:17.337Z"
   },
   {
    "duration": 273,
    "start_time": "2021-11-13T08:17:17.360Z"
   },
   {
    "duration": 3,
    "start_time": "2021-11-13T08:17:17.636Z"
   },
   {
    "duration": 76,
    "start_time": "2021-11-13T08:17:17.642Z"
   },
   {
    "duration": 542,
    "start_time": "2021-11-13T08:17:17.721Z"
   },
   {
    "duration": 5,
    "start_time": "2021-11-13T08:17:18.266Z"
   },
   {
    "duration": 406,
    "start_time": "2021-11-13T08:17:18.274Z"
   },
   {
    "duration": 99,
    "start_time": "2021-11-13T23:22:47.265Z"
   },
   {
    "duration": 7,
    "start_time": "2021-11-15T09:22:35.187Z"
   },
   {
    "duration": 1192,
    "start_time": "2021-11-15T09:22:40.562Z"
   },
   {
    "duration": 27,
    "start_time": "2021-11-15T09:22:41.756Z"
   },
   {
    "duration": 7,
    "start_time": "2021-11-15T09:22:41.785Z"
   },
   {
    "duration": 14,
    "start_time": "2021-11-15T09:22:41.794Z"
   },
   {
    "duration": 151,
    "start_time": "2021-11-15T09:22:41.810Z"
   },
   {
    "duration": 2,
    "start_time": "2021-11-15T09:22:41.963Z"
   },
   {
    "duration": 44,
    "start_time": "2021-11-15T09:22:41.967Z"
   },
   {
    "duration": 441,
    "start_time": "2021-11-15T09:22:42.013Z"
   },
   {
    "duration": 4,
    "start_time": "2021-11-15T09:22:42.456Z"
   },
   {
    "duration": 9,
    "start_time": "2021-11-15T09:22:42.462Z"
   },
   {
    "duration": 308,
    "start_time": "2021-11-15T09:22:42.473Z"
   },
   {
    "duration": 4,
    "start_time": "2021-11-15T09:27:34.085Z"
   },
   {
    "duration": 4,
    "start_time": "2021-11-15T09:28:21.906Z"
   },
   {
    "duration": 10,
    "start_time": "2021-11-15T09:28:27.595Z"
   },
   {
    "duration": 4,
    "start_time": "2021-11-15T09:28:35.220Z"
   },
   {
    "duration": 10,
    "start_time": "2021-11-15T09:28:35.891Z"
   },
   {
    "duration": 110,
    "start_time": "2021-11-15T09:30:29.947Z"
   },
   {
    "duration": 3,
    "start_time": "2021-11-15T09:30:37.710Z"
   },
   {
    "duration": 1219,
    "start_time": "2021-11-15T09:30:49.627Z"
   },
   {
    "duration": 4,
    "start_time": "2021-11-15T09:38:09.445Z"
   },
   {
    "duration": 288,
    "start_time": "2021-11-15T09:39:05.789Z"
   },
   {
    "duration": 3,
    "start_time": "2021-11-15T09:40:25.658Z"
   },
   {
    "duration": 5,
    "start_time": "2021-11-15T09:40:29.399Z"
   },
   {
    "duration": 4,
    "start_time": "2021-11-15T09:40:41.236Z"
   },
   {
    "duration": 6,
    "start_time": "2021-11-15T09:40:44.481Z"
   },
   {
    "duration": 4,
    "start_time": "2021-11-15T09:40:45.080Z"
   },
   {
    "duration": 278,
    "start_time": "2021-11-15T09:41:34.822Z"
   },
   {
    "duration": 5,
    "start_time": "2021-11-15T09:42:25.826Z"
   },
   {
    "duration": 4,
    "start_time": "2021-11-15T09:42:36.439Z"
   },
   {
    "duration": 10,
    "start_time": "2021-11-15T09:42:38.292Z"
   },
   {
    "duration": 335,
    "start_time": "2021-11-15T09:42:55.046Z"
   },
   {
    "duration": 11,
    "start_time": "2021-11-15T09:43:05.667Z"
   },
   {
    "duration": 4,
    "start_time": "2021-11-15T09:43:25.097Z"
   },
   {
    "duration": 4,
    "start_time": "2021-11-15T09:43:27.091Z"
   },
   {
    "duration": 4,
    "start_time": "2021-11-15T09:43:27.998Z"
   },
   {
    "duration": 5,
    "start_time": "2021-11-15T09:43:37.143Z"
   },
   {
    "duration": 4,
    "start_time": "2021-11-15T09:43:37.489Z"
   },
   {
    "duration": 11,
    "start_time": "2021-11-15T09:43:37.820Z"
   },
   {
    "duration": 5,
    "start_time": "2021-11-15T09:44:08.373Z"
   },
   {
    "duration": 4,
    "start_time": "2021-11-15T09:44:09.155Z"
   },
   {
    "duration": 5,
    "start_time": "2021-11-15T09:44:11.251Z"
   },
   {
    "duration": 277,
    "start_time": "2021-11-15T09:44:16.729Z"
   },
   {
    "duration": 5,
    "start_time": "2021-11-15T09:44:20.692Z"
   },
   {
    "duration": 4,
    "start_time": "2021-11-15T09:45:11.231Z"
   },
   {
    "duration": 3,
    "start_time": "2021-11-15T09:46:11.029Z"
   },
   {
    "duration": 4,
    "start_time": "2021-11-15T09:46:18.497Z"
   },
   {
    "duration": 3,
    "start_time": "2021-11-15T09:47:02.081Z"
   },
   {
    "duration": 602,
    "start_time": "2021-11-15T09:47:02.584Z"
   },
   {
    "duration": 4,
    "start_time": "2021-11-15T09:47:19.904Z"
   },
   {
    "duration": 5,
    "start_time": "2021-11-15T09:47:20.302Z"
   },
   {
    "duration": 4,
    "start_time": "2021-11-15T09:50:03.488Z"
   },
   {
    "duration": 4,
    "start_time": "2021-11-15T09:50:05.339Z"
   },
   {
    "duration": 5,
    "start_time": "2021-11-15T09:50:16.184Z"
   },
   {
    "duration": 5,
    "start_time": "2021-11-15T09:50:16.872Z"
   },
   {
    "duration": 478,
    "start_time": "2021-11-15T09:51:18.603Z"
   },
   {
    "duration": 4,
    "start_time": "2021-11-15T09:51:28.023Z"
   },
   {
    "duration": 7,
    "start_time": "2021-11-15T09:53:28.568Z"
   },
   {
    "duration": 6,
    "start_time": "2021-11-15T09:53:33.522Z"
   },
   {
    "duration": 6,
    "start_time": "2021-11-15T09:53:36.839Z"
   },
   {
    "duration": 5,
    "start_time": "2021-11-15T09:53:40.668Z"
   },
   {
    "duration": 8,
    "start_time": "2021-11-15T09:53:49.881Z"
   },
   {
    "duration": 3,
    "start_time": "2021-11-15T09:58:12.915Z"
   },
   {
    "duration": 545,
    "start_time": "2021-11-15T09:58:28.981Z"
   },
   {
    "duration": 3,
    "start_time": "2021-11-15T09:58:55.610Z"
   },
   {
    "duration": 7,
    "start_time": "2021-11-15T09:58:56.894Z"
   },
   {
    "duration": 638,
    "start_time": "2021-11-15T09:58:58.602Z"
   },
   {
    "duration": 4,
    "start_time": "2021-11-15T09:59:23.741Z"
   },
   {
    "duration": 6,
    "start_time": "2021-11-15T09:59:24.080Z"
   },
   {
    "duration": 563,
    "start_time": "2021-11-15T09:59:24.638Z"
   },
   {
    "duration": 4,
    "start_time": "2021-11-15T09:59:40.334Z"
   },
   {
    "duration": 6,
    "start_time": "2021-11-15T09:59:41.093Z"
   },
   {
    "duration": 6,
    "start_time": "2021-11-15T09:59:41.451Z"
   },
   {
    "duration": 5,
    "start_time": "2021-11-15T10:00:18.181Z"
   },
   {
    "duration": 7,
    "start_time": "2021-11-15T10:00:18.858Z"
   },
   {
    "duration": 6,
    "start_time": "2021-11-15T10:00:20.840Z"
   },
   {
    "duration": 3,
    "start_time": "2021-11-15T10:02:32.156Z"
   },
   {
    "duration": 10,
    "start_time": "2021-11-15T10:02:32.817Z"
   },
   {
    "duration": 6,
    "start_time": "2021-11-15T10:02:49.269Z"
   },
   {
    "duration": 7,
    "start_time": "2021-11-15T10:03:26.440Z"
   },
   {
    "duration": 1209,
    "start_time": "2021-11-15T10:05:27.535Z"
   },
   {
    "duration": 28,
    "start_time": "2021-11-15T10:05:28.746Z"
   },
   {
    "duration": 6,
    "start_time": "2021-11-15T10:05:28.777Z"
   },
   {
    "duration": 10,
    "start_time": "2021-11-15T10:05:28.785Z"
   },
   {
    "duration": 173,
    "start_time": "2021-11-15T10:05:28.797Z"
   },
   {
    "duration": 3,
    "start_time": "2021-11-15T10:05:28.971Z"
   },
   {
    "duration": 48,
    "start_time": "2021-11-15T10:05:28.976Z"
   },
   {
    "duration": 538,
    "start_time": "2021-11-15T10:05:29.026Z"
   },
   {
    "duration": 5,
    "start_time": "2021-11-15T10:05:29.567Z"
   },
   {
    "duration": 10,
    "start_time": "2021-11-15T10:05:29.574Z"
   },
   {
    "duration": 62,
    "start_time": "2021-11-15T10:05:29.586Z"
   },
   {
    "duration": 6,
    "start_time": "2021-11-15T10:05:29.651Z"
   },
   {
    "duration": 325,
    "start_time": "2021-11-15T10:05:29.659Z"
   },
   {
    "duration": 401,
    "start_time": "2021-11-15T10:06:55.326Z"
   },
   {
    "duration": 415,
    "start_time": "2021-11-15T10:06:59.967Z"
   },
   {
    "duration": 4,
    "start_time": "2021-11-15T10:07:11.764Z"
   },
   {
    "duration": 4,
    "start_time": "2021-11-15T10:07:12.167Z"
   },
   {
    "duration": 7,
    "start_time": "2021-11-15T10:07:13.735Z"
   },
   {
    "duration": 4,
    "start_time": "2021-11-15T11:35:50.177Z"
   },
   {
    "duration": 3,
    "start_time": "2021-11-15T11:35:58.296Z"
   },
   {
    "duration": 3,
    "start_time": "2021-11-15T11:40:10.331Z"
   },
   {
    "duration": 1199,
    "start_time": "2021-11-15T11:43:05.691Z"
   },
   {
    "duration": 29,
    "start_time": "2021-11-15T11:43:06.892Z"
   },
   {
    "duration": 9,
    "start_time": "2021-11-15T11:43:06.924Z"
   },
   {
    "duration": 13,
    "start_time": "2021-11-15T11:43:06.935Z"
   },
   {
    "duration": 12,
    "start_time": "2021-11-15T11:43:06.949Z"
   },
   {
    "duration": 62,
    "start_time": "2021-11-15T11:43:06.963Z"
   },
   {
    "duration": 4,
    "start_time": "2021-11-15T11:43:07.027Z"
   },
   {
    "duration": 8,
    "start_time": "2021-11-15T11:43:07.034Z"
   },
   {
    "duration": 4,
    "start_time": "2021-11-15T11:43:35.847Z"
   },
   {
    "duration": 794,
    "start_time": "2021-11-15T11:45:05.148Z"
   },
   {
    "duration": 300,
    "start_time": "2021-11-15T11:45:21.542Z"
   },
   {
    "duration": 4,
    "start_time": "2021-11-15T11:47:37.168Z"
   },
   {
    "duration": 7,
    "start_time": "2021-11-15T11:47:41.089Z"
   },
   {
    "duration": 6,
    "start_time": "2021-11-15T11:47:43.242Z"
   },
   {
    "duration": 4,
    "start_time": "2021-11-15T11:47:59.721Z"
   },
   {
    "duration": 3,
    "start_time": "2021-11-15T11:48:00.275Z"
   },
   {
    "duration": 13,
    "start_time": "2021-11-15T11:48:01.369Z"
   },
   {
    "duration": 4,
    "start_time": "2021-11-15T11:48:41.609Z"
   },
   {
    "duration": 7,
    "start_time": "2021-11-15T11:48:45.040Z"
   },
   {
    "duration": 23,
    "start_time": "2021-11-15T11:48:54.570Z"
   },
   {
    "duration": 23,
    "start_time": "2021-11-15T11:48:58.410Z"
   },
   {
    "duration": 37,
    "start_time": "2021-11-15T11:49:15.018Z"
   },
   {
    "duration": 1144,
    "start_time": "2021-11-15T11:49:59.608Z"
   },
   {
    "duration": 1727,
    "start_time": "2021-11-16T12:29:49.481Z"
   },
   {
    "duration": 32,
    "start_time": "2021-11-16T12:29:51.210Z"
   },
   {
    "duration": 10,
    "start_time": "2021-11-16T12:29:51.246Z"
   },
   {
    "duration": 23,
    "start_time": "2021-11-16T12:29:51.259Z"
   },
   {
    "duration": 10,
    "start_time": "2021-11-16T12:29:51.285Z"
   },
   {
    "duration": 7,
    "start_time": "2021-11-16T12:29:51.299Z"
   },
   {
    "duration": 11,
    "start_time": "2021-11-16T12:29:51.309Z"
   },
   {
    "duration": 91,
    "start_time": "2021-11-16T12:29:51.324Z"
   },
   {
    "duration": 1779,
    "start_time": "2021-11-16T12:29:51.417Z"
   }
  ],
  "kernelspec": {
   "display_name": "Python 3",
   "language": "python",
   "name": "python3"
  },
  "language_info": {
   "codemirror_mode": {
    "name": "ipython",
    "version": 3
   },
   "file_extension": ".py",
   "mimetype": "text/x-python",
   "name": "python",
   "nbconvert_exporter": "python",
   "pygments_lexer": "ipython3",
   "version": "3.8.5"
  },
  "toc": {
   "base_numbering": 1,
   "nav_menu": {},
   "number_sections": true,
   "sideBar": true,
   "skip_h1_title": true,
   "title_cell": "Содержание",
   "title_sidebar": "Contents",
   "toc_cell": true,
   "toc_position": {},
   "toc_section_display": true,
   "toc_window_display": false
  }
 },
 "nbformat": 4,
 "nbformat_minor": 2
}
