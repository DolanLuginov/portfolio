{
 "cells": [
  {
   "cell_type": "markdown",
   "metadata": {},
   "source": [
    "# Задача"
   ]
  },
  {
   "cell_type": "markdown",
   "metadata": {},
   "source": [
    "Заказчик — кредитный отдел банка. Нужно разобраться, влияет ли семейное положение и количество детей клиента на факт погашения кредита в срок. Входные данные от банка — статистика о платёжеспособности клиентов.\n",
    "Результаты исследования будут учтены при построении модели кредитного скоринга — специальной системы, которая оценивает способность потенциального заёмщика вернуть кредит банку."
   ]
  },
  {
   "cell_type": "markdown",
   "metadata": {
    "id": "g1dc7b8axB7E"
   },
   "source": [
    "# **Импорт и общая информация датасета**"
   ]
  },
  {
   "cell_type": "markdown",
   "metadata": {
    "id": "JzTk-VCCya2J"
   },
   "source": [
    "Описание полей  \n",
    "\n",
    "- children — количество детей в семье  \n",
    "- days_employed — общий трудовой стаж в днях  \n",
    "- dob_years — возраст клиента в годах  \n",
    "- education — уровень образования клиента  \n",
    "- education_id — идентификатор уровня образования  \n",
    "- family_status — семейное положение  \n",
    "- family_status_id — идентификатор семейного положения  \n",
    "- gender — пол клиента  \n",
    "- income_type — тип занятости  \n",
    "- debt — имел ли задолженность по возврату кредитов  \n",
    "- total_income — ежемесячный доход  \n",
    "- purpose — цель получения кредита"
   ]
  },
  {
   "cell_type": "code",
   "execution_count": 1,
   "metadata": {
    "id": "3UkVIRbJxqmu"
   },
   "outputs": [],
   "source": [
    "import pandas as pd\n",
    "import numpy as np\n",
    "\n",
    "import seaborn as sns\n",
    "import matplotlib.pyplot as plt\n",
    "\n",
    "from pymystem3 import Mystem\n",
    "m = Mystem()\n",
    "\n",
    "from collections import Counter\n",
    "\n",
    "import warnings\n",
    "warnings.filterwarnings(\"ignore\");"
   ]
  },
  {
   "cell_type": "code",
   "execution_count": 2,
   "metadata": {
    "id": "o4r3YAkFyRbB"
   },
   "outputs": [],
   "source": [
    "df = pd.read_csv('data.csv')"
   ]
  },
  {
   "cell_type": "code",
   "execution_count": 3,
   "metadata": {
    "colab": {
     "base_uri": "https://localhost:8080/",
     "height": 359
    },
    "id": "3ThYXNc9yXDF",
    "outputId": "93ed6dc3-be00-46e3-b925-4af82e72e209",
    "scrolled": true
   },
   "outputs": [
    {
     "data": {
      "text/html": [
       "<div>\n",
       "<style scoped>\n",
       "    .dataframe tbody tr th:only-of-type {\n",
       "        vertical-align: middle;\n",
       "    }\n",
       "\n",
       "    .dataframe tbody tr th {\n",
       "        vertical-align: top;\n",
       "    }\n",
       "\n",
       "    .dataframe thead th {\n",
       "        text-align: right;\n",
       "    }\n",
       "</style>\n",
       "<table border=\"1\" class=\"dataframe\">\n",
       "  <thead>\n",
       "    <tr style=\"text-align: right;\">\n",
       "      <th></th>\n",
       "      <th>children</th>\n",
       "      <th>days_employed</th>\n",
       "      <th>dob_years</th>\n",
       "      <th>education</th>\n",
       "      <th>education_id</th>\n",
       "      <th>family_status</th>\n",
       "      <th>family_status_id</th>\n",
       "      <th>gender</th>\n",
       "      <th>income_type</th>\n",
       "      <th>debt</th>\n",
       "      <th>total_income</th>\n",
       "      <th>purpose</th>\n",
       "    </tr>\n",
       "  </thead>\n",
       "  <tbody>\n",
       "    <tr>\n",
       "      <th>0</th>\n",
       "      <td>1</td>\n",
       "      <td>-8437.673028</td>\n",
       "      <td>42</td>\n",
       "      <td>высшее</td>\n",
       "      <td>0</td>\n",
       "      <td>женат / замужем</td>\n",
       "      <td>0</td>\n",
       "      <td>F</td>\n",
       "      <td>сотрудник</td>\n",
       "      <td>0</td>\n",
       "      <td>253875.639453</td>\n",
       "      <td>покупка жилья</td>\n",
       "    </tr>\n",
       "    <tr>\n",
       "      <th>1</th>\n",
       "      <td>1</td>\n",
       "      <td>-4024.803754</td>\n",
       "      <td>36</td>\n",
       "      <td>среднее</td>\n",
       "      <td>1</td>\n",
       "      <td>женат / замужем</td>\n",
       "      <td>0</td>\n",
       "      <td>F</td>\n",
       "      <td>сотрудник</td>\n",
       "      <td>0</td>\n",
       "      <td>112080.014102</td>\n",
       "      <td>приобретение автомобиля</td>\n",
       "    </tr>\n",
       "    <tr>\n",
       "      <th>2</th>\n",
       "      <td>0</td>\n",
       "      <td>-5623.422610</td>\n",
       "      <td>33</td>\n",
       "      <td>Среднее</td>\n",
       "      <td>1</td>\n",
       "      <td>женат / замужем</td>\n",
       "      <td>0</td>\n",
       "      <td>M</td>\n",
       "      <td>сотрудник</td>\n",
       "      <td>0</td>\n",
       "      <td>145885.952297</td>\n",
       "      <td>покупка жилья</td>\n",
       "    </tr>\n",
       "    <tr>\n",
       "      <th>3</th>\n",
       "      <td>3</td>\n",
       "      <td>-4124.747207</td>\n",
       "      <td>32</td>\n",
       "      <td>среднее</td>\n",
       "      <td>1</td>\n",
       "      <td>женат / замужем</td>\n",
       "      <td>0</td>\n",
       "      <td>M</td>\n",
       "      <td>сотрудник</td>\n",
       "      <td>0</td>\n",
       "      <td>267628.550329</td>\n",
       "      <td>дополнительное образование</td>\n",
       "    </tr>\n",
       "    <tr>\n",
       "      <th>4</th>\n",
       "      <td>0</td>\n",
       "      <td>340266.072047</td>\n",
       "      <td>53</td>\n",
       "      <td>среднее</td>\n",
       "      <td>1</td>\n",
       "      <td>гражданский брак</td>\n",
       "      <td>1</td>\n",
       "      <td>F</td>\n",
       "      <td>пенсионер</td>\n",
       "      <td>0</td>\n",
       "      <td>158616.077870</td>\n",
       "      <td>сыграть свадьбу</td>\n",
       "    </tr>\n",
       "    <tr>\n",
       "      <th>5</th>\n",
       "      <td>0</td>\n",
       "      <td>-926.185831</td>\n",
       "      <td>27</td>\n",
       "      <td>высшее</td>\n",
       "      <td>0</td>\n",
       "      <td>гражданский брак</td>\n",
       "      <td>1</td>\n",
       "      <td>M</td>\n",
       "      <td>компаньон</td>\n",
       "      <td>0</td>\n",
       "      <td>255763.565419</td>\n",
       "      <td>покупка жилья</td>\n",
       "    </tr>\n",
       "    <tr>\n",
       "      <th>6</th>\n",
       "      <td>0</td>\n",
       "      <td>-2879.202052</td>\n",
       "      <td>43</td>\n",
       "      <td>высшее</td>\n",
       "      <td>0</td>\n",
       "      <td>женат / замужем</td>\n",
       "      <td>0</td>\n",
       "      <td>F</td>\n",
       "      <td>компаньон</td>\n",
       "      <td>0</td>\n",
       "      <td>240525.971920</td>\n",
       "      <td>операции с жильем</td>\n",
       "    </tr>\n",
       "    <tr>\n",
       "      <th>7</th>\n",
       "      <td>0</td>\n",
       "      <td>-152.779569</td>\n",
       "      <td>50</td>\n",
       "      <td>СРЕДНЕЕ</td>\n",
       "      <td>1</td>\n",
       "      <td>женат / замужем</td>\n",
       "      <td>0</td>\n",
       "      <td>M</td>\n",
       "      <td>сотрудник</td>\n",
       "      <td>0</td>\n",
       "      <td>135823.934197</td>\n",
       "      <td>образование</td>\n",
       "    </tr>\n",
       "    <tr>\n",
       "      <th>8</th>\n",
       "      <td>2</td>\n",
       "      <td>-6929.865299</td>\n",
       "      <td>35</td>\n",
       "      <td>ВЫСШЕЕ</td>\n",
       "      <td>0</td>\n",
       "      <td>гражданский брак</td>\n",
       "      <td>1</td>\n",
       "      <td>F</td>\n",
       "      <td>сотрудник</td>\n",
       "      <td>0</td>\n",
       "      <td>95856.832424</td>\n",
       "      <td>на проведение свадьбы</td>\n",
       "    </tr>\n",
       "    <tr>\n",
       "      <th>9</th>\n",
       "      <td>0</td>\n",
       "      <td>-2188.756445</td>\n",
       "      <td>41</td>\n",
       "      <td>среднее</td>\n",
       "      <td>1</td>\n",
       "      <td>женат / замужем</td>\n",
       "      <td>0</td>\n",
       "      <td>M</td>\n",
       "      <td>сотрудник</td>\n",
       "      <td>0</td>\n",
       "      <td>144425.938277</td>\n",
       "      <td>покупка жилья для семьи</td>\n",
       "    </tr>\n",
       "  </tbody>\n",
       "</table>\n",
       "</div>"
      ],
      "text/plain": [
       "   children  days_employed  dob_years education  education_id  \\\n",
       "0         1   -8437.673028         42    высшее             0   \n",
       "1         1   -4024.803754         36   среднее             1   \n",
       "2         0   -5623.422610         33   Среднее             1   \n",
       "3         3   -4124.747207         32   среднее             1   \n",
       "4         0  340266.072047         53   среднее             1   \n",
       "5         0    -926.185831         27    высшее             0   \n",
       "6         0   -2879.202052         43    высшее             0   \n",
       "7         0    -152.779569         50   СРЕДНЕЕ             1   \n",
       "8         2   -6929.865299         35    ВЫСШЕЕ             0   \n",
       "9         0   -2188.756445         41   среднее             1   \n",
       "\n",
       "      family_status  family_status_id gender income_type  debt   total_income  \\\n",
       "0   женат / замужем                 0      F   сотрудник     0  253875.639453   \n",
       "1   женат / замужем                 0      F   сотрудник     0  112080.014102   \n",
       "2   женат / замужем                 0      M   сотрудник     0  145885.952297   \n",
       "3   женат / замужем                 0      M   сотрудник     0  267628.550329   \n",
       "4  гражданский брак                 1      F   пенсионер     0  158616.077870   \n",
       "5  гражданский брак                 1      M   компаньон     0  255763.565419   \n",
       "6   женат / замужем                 0      F   компаньон     0  240525.971920   \n",
       "7   женат / замужем                 0      M   сотрудник     0  135823.934197   \n",
       "8  гражданский брак                 1      F   сотрудник     0   95856.832424   \n",
       "9   женат / замужем                 0      M   сотрудник     0  144425.938277   \n",
       "\n",
       "                      purpose  \n",
       "0               покупка жилья  \n",
       "1     приобретение автомобиля  \n",
       "2               покупка жилья  \n",
       "3  дополнительное образование  \n",
       "4             сыграть свадьбу  \n",
       "5               покупка жилья  \n",
       "6           операции с жильем  \n",
       "7                 образование  \n",
       "8       на проведение свадьбы  \n",
       "9     покупка жилья для семьи  "
      ]
     },
     "execution_count": 3,
     "metadata": {},
     "output_type": "execute_result"
    }
   ],
   "source": [
    "df.head(10)"
   ]
  },
  {
   "cell_type": "code",
   "execution_count": 4,
   "metadata": {
    "colab": {
     "base_uri": "https://localhost:8080/"
    },
    "id": "5QPyQggMz4DK",
    "outputId": "d2aac3fc-952d-4702-8e6c-c7184822208e"
   },
   "outputs": [
    {
     "name": "stdout",
     "output_type": "stream",
     "text": [
      "<class 'pandas.core.frame.DataFrame'>\n",
      "RangeIndex: 21525 entries, 0 to 21524\n",
      "Data columns (total 12 columns):\n",
      " #   Column            Non-Null Count  Dtype  \n",
      "---  ------            --------------  -----  \n",
      " 0   children          21525 non-null  int64  \n",
      " 1   days_employed     19351 non-null  float64\n",
      " 2   dob_years         21525 non-null  int64  \n",
      " 3   education         21525 non-null  object \n",
      " 4   education_id      21525 non-null  int64  \n",
      " 5   family_status     21525 non-null  object \n",
      " 6   family_status_id  21525 non-null  int64  \n",
      " 7   gender            21525 non-null  object \n",
      " 8   income_type       21525 non-null  object \n",
      " 9   debt              21525 non-null  int64  \n",
      " 10  total_income      19351 non-null  float64\n",
      " 11  purpose           21525 non-null  object \n",
      "dtypes: float64(2), int64(5), object(5)\n",
      "memory usage: 2.0+ MB\n"
     ]
    }
   ],
   "source": [
    "df.info()"
   ]
  },
  {
   "cell_type": "markdown",
   "metadata": {
    "id": "UzPAFry4y1sx"
   },
   "source": [
    "# **Предобработка данных**"
   ]
  },
  {
   "cell_type": "markdown",
   "metadata": {
    "id": "x4mJqQEQy7XQ"
   },
   "source": [
    "## **Обработка пропусков**"
   ]
  },
  {
   "cell_type": "code",
   "execution_count": 5,
   "metadata": {
    "colab": {
     "base_uri": "https://localhost:8080/"
    },
    "id": "4CkRKB00yZCf",
    "outputId": "ea1f8de9-8acf-42d1-e066-969c4ac41b5d"
   },
   "outputs": [
    {
     "data": {
      "text/plain": [
       "children               0\n",
       "days_employed       2174\n",
       "dob_years              0\n",
       "education              0\n",
       "education_id           0\n",
       "family_status          0\n",
       "family_status_id       0\n",
       "gender                 0\n",
       "income_type            0\n",
       "debt                   0\n",
       "total_income        2174\n",
       "purpose                0\n",
       "dtype: int64"
      ]
     },
     "execution_count": 5,
     "metadata": {},
     "output_type": "execute_result"
    }
   ],
   "source": [
    "df.isna().sum()"
   ]
  },
  {
   "cell_type": "markdown",
   "metadata": {
    "id": "fqeMOxlt1YpW"
   },
   "source": [
    "Пропущенные значения в датасете присутствуют в столбцах days_employed и total_income. Их количество одинаковое. Проверим соответствуют ли они"
   ]
  },
  {
   "cell_type": "code",
   "execution_count": 6,
   "metadata": {
    "colab": {
     "base_uri": "https://localhost:8080/"
    },
    "id": "RtmdoA0i0yNU",
    "outputId": "04c2ca26-440c-4dc6-cfb0-5dcfcd531b37"
   },
   "outputs": [
    {
     "data": {
      "text/plain": [
       "2174"
      ]
     },
     "execution_count": 6,
     "metadata": {},
     "output_type": "execute_result"
    }
   ],
   "source": [
    "len(df[(df['days_employed'].isna()) & (df['total_income'].isna())])"
   ]
  },
  {
   "cell_type": "markdown",
   "metadata": {},
   "source": [
    "Да, пропущенные значения соответствуют"
   ]
  },
  {
   "cell_type": "markdown",
   "metadata": {
    "id": "IQlhE-QE3wWm"
   },
   "source": [
    "Правильнее будет заменить пропущенные значения исходя из типа занятости клиента. Но сначала проверим значения этих столбцов на аномалии"
   ]
  },
  {
   "cell_type": "code",
   "execution_count": 7,
   "metadata": {},
   "outputs": [
    {
     "data": {
      "text/plain": [
       "(-18388.949900568383, 401755.40047533)"
      ]
     },
     "execution_count": 7,
     "metadata": {},
     "output_type": "execute_result"
    }
   ],
   "source": [
    "df['days_employed'].min(), df['days_employed'].max()"
   ]
  },
  {
   "cell_type": "markdown",
   "metadata": {},
   "source": [
    "В days_employed присутствуют отрицательные значения. Заменим их абсолютным значением"
   ]
  },
  {
   "cell_type": "code",
   "execution_count": 8,
   "metadata": {},
   "outputs": [],
   "source": [
    "df['days_employed'] = df['days_employed'].map(lambda x: abs(x))"
   ]
  },
  {
   "cell_type": "code",
   "execution_count": 9,
   "metadata": {},
   "outputs": [
    {
     "data": {
      "image/png": "[encoded data removed]",
      "text/plain": [
       "<Figure size 432x288 with 1 Axes>"
      ]
     },
     "metadata": {
      "needs_background": "light"
     },
     "output_type": "display_data"
    }
   ],
   "source": [
    "plt.hist(df['days_employed'], bins=50)\n",
    "plt.title('Общий трудовой стаж в днях')\n",
    "plt.show()"
   ]
  },
  {
   "cell_type": "markdown",
   "metadata": {},
   "source": [
    "Также присутствуют аномальные значения. Если 52 (количество лет от 18 до 70) лет умножить на 365 дней, то получится 18980 дней. Значения большие от этого будем считать аномальными"
   ]
  },
  {
   "cell_type": "code",
   "execution_count": 10,
   "metadata": {
    "scrolled": true
   },
   "outputs": [
    {
     "data": {
      "text/plain": [
       "3445"
      ]
     },
     "execution_count": 10,
     "metadata": {},
     "output_type": "execute_result"
    }
   ],
   "source": [
    "df[df['days_employed']>18980]['days_employed'].count()"
   ]
  },
  {
   "cell_type": "markdown",
   "metadata": {},
   "source": [
    "Таких аномальных значений 3445. Наверное, они появились из-за того, что их считали по часам, а не по дням"
   ]
  },
  {
   "cell_type": "code",
   "execution_count": 11,
   "metadata": {},
   "outputs": [
    {
     "name": "stdout",
     "output_type": "stream",
     "text": [
      "16666.666666666668\n"
     ]
    }
   ],
   "source": [
    "print(400000 / 24)"
   ]
  },
  {
   "cell_type": "markdown",
   "metadata": {},
   "source": [
    "Кажется правдоподобным. Тогда поделим аномальные значения на 24"
   ]
  },
  {
   "cell_type": "code",
   "execution_count": 12,
   "metadata": {},
   "outputs": [],
   "source": [
    "df['days_employed'] = df['days_employed'].map(lambda x: x/24 if x > 18980 else x)"
   ]
  },
  {
   "cell_type": "code",
   "execution_count": 13,
   "metadata": {},
   "outputs": [
    {
     "data": {
      "image/png": "[encoded data removed]",
      "text/plain": [
       "<Figure size 432x288 with 1 Axes>"
      ]
     },
     "metadata": {
      "needs_background": "light"
     },
     "output_type": "display_data"
    }
   ],
   "source": [
    "plt.hist(df['days_employed'], bins=50)\n",
    "plt.title('Общий трудовой стаж в днях')\n",
    "plt.show()"
   ]
  },
  {
   "cell_type": "markdown",
   "metadata": {},
   "source": [
    "Интересное скопление значений в интервале 13750 - 17000. Выясним почему так получилось"
   ]
  },
  {
   "cell_type": "code",
   "execution_count": 14,
   "metadata": {},
   "outputs": [
    {
     "data": {
      "text/plain": [
       "пенсионер      3384\n",
       "сотрудник        18\n",
       "госслужащий       7\n",
       "компаньон         7\n",
       "безработный       2\n",
       "Name: income_type, dtype: int64"
      ]
     },
     "execution_count": 14,
     "metadata": {},
     "output_type": "execute_result"
    }
   ],
   "source": [
    "df[df['days_employed']>13750]['income_type'].value_counts()"
   ]
  },
  {
   "cell_type": "markdown",
   "metadata": {},
   "source": [
    "Оказывается, эти значения принадлежат пенсионерам. Все сходится - у них большой трудовой стаж, поэтому значения сильно отклоняются от среднего"
   ]
  },
  {
   "cell_type": "markdown",
   "metadata": {},
   "source": [
    "Теперь посмотрим на столбец total_income"
   ]
  },
  {
   "cell_type": "code",
   "execution_count": 15,
   "metadata": {},
   "outputs": [
    {
     "data": {
      "text/plain": [
       "(20667.26379327158, 2265604.028722744)"
      ]
     },
     "execution_count": 15,
     "metadata": {},
     "output_type": "execute_result"
    }
   ],
   "source": [
    "df['total_income'].min(), df['total_income'].max()"
   ]
  },
  {
   "cell_type": "markdown",
   "metadata": {},
   "source": [
    "Не присутствуют отрицательные значения"
   ]
  },
  {
   "cell_type": "code",
   "execution_count": 16,
   "metadata": {},
   "outputs": [
    {
     "data": {
      "image/png": "[encoded data removed]",
      "text/plain": [
       "<Figure size 432x288 with 1 Axes>"
      ]
     },
     "metadata": {
      "needs_background": "light"
     },
     "output_type": "display_data"
    }
   ],
   "source": [
    "plt.hist(df['total_income'], bins=50)\n",
    "plt.title('Eжемесячный доход')\n",
    "plt.show()"
   ]
  },
  {
   "cell_type": "markdown",
   "metadata": {},
   "source": [
    "Есть аномальные значения, которые слишком далеко отклоняются в большую сторону. Избавимся от них с помощью перцентилей"
   ]
  },
  {
   "cell_type": "code",
   "execution_count": 17,
   "metadata": {},
   "outputs": [
    {
     "data": {
      "text/plain": [
       "517206.827256117"
      ]
     },
     "execution_count": 17,
     "metadata": {},
     "output_type": "execute_result"
    }
   ],
   "source": [
    "max_threshold = df['total_income'].quantile(0.99)\n",
    "max_threshold"
   ]
  },
  {
   "cell_type": "code",
   "execution_count": 18,
   "metadata": {},
   "outputs": [],
   "source": [
    "df = df[(df['total_income'] < max_threshold) | (df['total_income'].isna())]"
   ]
  },
  {
   "cell_type": "code",
   "execution_count": 19,
   "metadata": {},
   "outputs": [
    {
     "data": {
      "image/png": "[encoded data removed]",
      "text/plain": [
       "<Figure size 432x288 with 1 Axes>"
      ]
     },
     "metadata": {
      "needs_background": "light"
     },
     "output_type": "display_data"
    }
   ],
   "source": [
    "plt.hist(df['total_income'], bins=50)\n",
    "plt.title('Eжемесячный доход')\n",
    "plt.show()"
   ]
  },
  {
   "cell_type": "markdown",
   "metadata": {},
   "source": [
    "Теперь распределение выглядит лучше!"
   ]
  },
  {
   "cell_type": "code",
   "execution_count": 20,
   "metadata": {},
   "outputs": [],
   "source": [
    "def df_fillna_days_employed(row):\n",
    "    income_type = row['income_type']\n",
    "    median_days = df.groupby('income_type')['days_employed'].median()[income_type]\n",
    "    return median_days"
   ]
  },
  {
   "cell_type": "code",
   "execution_count": 21,
   "metadata": {},
   "outputs": [],
   "source": [
    "def df_fillna_total_income(row):\n",
    "    income_type = row['income_type']\n",
    "    median_income = df.groupby('income_type')['total_income'].median()[income_type]\n",
    "    return median_income"
   ]
  },
  {
   "cell_type": "code",
   "execution_count": 22,
   "metadata": {},
   "outputs": [],
   "source": [
    "df.loc[df['days_employed'].isna(), 'days_employed'] = df.loc[df['days_employed'].isna()].apply(df_fillna_days_employed, axis=1)"
   ]
  },
  {
   "cell_type": "code",
   "execution_count": 23,
   "metadata": {},
   "outputs": [],
   "source": [
    "df.loc[df['total_income'].isna(), 'total_income'] = df.loc[df['total_income'].isna()].apply(df_fillna_total_income, axis=1)"
   ]
  },
  {
   "cell_type": "code",
   "execution_count": 24,
   "metadata": {},
   "outputs": [
    {
     "data": {
      "text/plain": [
       "children            0\n",
       "days_employed       0\n",
       "dob_years           0\n",
       "education           0\n",
       "education_id        0\n",
       "family_status       0\n",
       "family_status_id    0\n",
       "gender              0\n",
       "income_type         0\n",
       "debt                0\n",
       "total_income        0\n",
       "purpose             0\n",
       "dtype: int64"
      ]
     },
     "execution_count": 24,
     "metadata": {},
     "output_type": "execute_result"
    }
   ],
   "source": [
    "df.isna().sum()"
   ]
  },
  {
   "cell_type": "code",
   "execution_count": 25,
   "metadata": {},
   "outputs": [
    {
     "data": {
      "text/html": [
       "<div>\n",
       "<style scoped>\n",
       "    .dataframe tbody tr th:only-of-type {\n",
       "        vertical-align: middle;\n",
       "    }\n",
       "\n",
       "    .dataframe tbody tr th {\n",
       "        vertical-align: top;\n",
       "    }\n",
       "\n",
       "    .dataframe thead th {\n",
       "        text-align: right;\n",
       "    }\n",
       "</style>\n",
       "<table border=\"1\" class=\"dataframe\">\n",
       "  <thead>\n",
       "    <tr style=\"text-align: right;\">\n",
       "      <th></th>\n",
       "      <th>children</th>\n",
       "      <th>days_employed</th>\n",
       "      <th>dob_years</th>\n",
       "      <th>education</th>\n",
       "      <th>education_id</th>\n",
       "      <th>family_status</th>\n",
       "      <th>family_status_id</th>\n",
       "      <th>gender</th>\n",
       "      <th>income_type</th>\n",
       "      <th>debt</th>\n",
       "      <th>total_income</th>\n",
       "      <th>purpose</th>\n",
       "    </tr>\n",
       "  </thead>\n",
       "  <tbody>\n",
       "    <tr>\n",
       "      <th>0</th>\n",
       "      <td>1</td>\n",
       "      <td>8437.673028</td>\n",
       "      <td>42</td>\n",
       "      <td>высшее</td>\n",
       "      <td>0</td>\n",
       "      <td>женат / замужем</td>\n",
       "      <td>0</td>\n",
       "      <td>F</td>\n",
       "      <td>сотрудник</td>\n",
       "      <td>0</td>\n",
       "      <td>253875.639453</td>\n",
       "      <td>покупка жилья</td>\n",
       "    </tr>\n",
       "    <tr>\n",
       "      <th>1</th>\n",
       "      <td>1</td>\n",
       "      <td>4024.803754</td>\n",
       "      <td>36</td>\n",
       "      <td>среднее</td>\n",
       "      <td>1</td>\n",
       "      <td>женат / замужем</td>\n",
       "      <td>0</td>\n",
       "      <td>F</td>\n",
       "      <td>сотрудник</td>\n",
       "      <td>0</td>\n",
       "      <td>112080.014102</td>\n",
       "      <td>приобретение автомобиля</td>\n",
       "    </tr>\n",
       "    <tr>\n",
       "      <th>2</th>\n",
       "      <td>0</td>\n",
       "      <td>5623.422610</td>\n",
       "      <td>33</td>\n",
       "      <td>Среднее</td>\n",
       "      <td>1</td>\n",
       "      <td>женат / замужем</td>\n",
       "      <td>0</td>\n",
       "      <td>M</td>\n",
       "      <td>сотрудник</td>\n",
       "      <td>0</td>\n",
       "      <td>145885.952297</td>\n",
       "      <td>покупка жилья</td>\n",
       "    </tr>\n",
       "    <tr>\n",
       "      <th>3</th>\n",
       "      <td>3</td>\n",
       "      <td>4124.747207</td>\n",
       "      <td>32</td>\n",
       "      <td>среднее</td>\n",
       "      <td>1</td>\n",
       "      <td>женат / замужем</td>\n",
       "      <td>0</td>\n",
       "      <td>M</td>\n",
       "      <td>сотрудник</td>\n",
       "      <td>0</td>\n",
       "      <td>267628.550329</td>\n",
       "      <td>дополнительное образование</td>\n",
       "    </tr>\n",
       "    <tr>\n",
       "      <th>4</th>\n",
       "      <td>0</td>\n",
       "      <td>14177.753002</td>\n",
       "      <td>53</td>\n",
       "      <td>среднее</td>\n",
       "      <td>1</td>\n",
       "      <td>гражданский брак</td>\n",
       "      <td>1</td>\n",
       "      <td>F</td>\n",
       "      <td>пенсионер</td>\n",
       "      <td>0</td>\n",
       "      <td>158616.077870</td>\n",
       "      <td>сыграть свадьбу</td>\n",
       "    </tr>\n",
       "  </tbody>\n",
       "</table>\n",
       "</div>"
      ],
      "text/plain": [
       "   children  days_employed  dob_years education  education_id  \\\n",
       "0         1    8437.673028         42    высшее             0   \n",
       "1         1    4024.803754         36   среднее             1   \n",
       "2         0    5623.422610         33   Среднее             1   \n",
       "3         3    4124.747207         32   среднее             1   \n",
       "4         0   14177.753002         53   среднее             1   \n",
       "\n",
       "      family_status  family_status_id gender income_type  debt   total_income  \\\n",
       "0   женат / замужем                 0      F   сотрудник     0  253875.639453   \n",
       "1   женат / замужем                 0      F   сотрудник     0  112080.014102   \n",
       "2   женат / замужем                 0      M   сотрудник     0  145885.952297   \n",
       "3   женат / замужем                 0      M   сотрудник     0  267628.550329   \n",
       "4  гражданский брак                 1      F   пенсионер     0  158616.077870   \n",
       "\n",
       "                      purpose  \n",
       "0               покупка жилья  \n",
       "1     приобретение автомобиля  \n",
       "2               покупка жилья  \n",
       "3  дополнительное образование  \n",
       "4             сыграть свадьбу  "
      ]
     },
     "execution_count": 25,
     "metadata": {},
     "output_type": "execute_result"
    }
   ],
   "source": [
    "df.head()"
   ]
  },
  {
   "cell_type": "markdown",
   "metadata": {},
   "source": [
    "С пропущенными значениями разобрались. Посмотрим на ошибочные значения"
   ]
  },
  {
   "cell_type": "markdown",
   "metadata": {},
   "source": [
    "## Обработка ошибочных значений"
   ]
  },
  {
   "cell_type": "code",
   "execution_count": 26,
   "metadata": {
    "colab": {
     "base_uri": "https://localhost:8080/"
    },
    "id": "RprjNEfD7e0F",
    "outputId": "e637af1e-519b-4ef7-8e5e-20cb7c7798bc"
   },
   "outputs": [
    {
     "data": {
      "text/plain": [
       "array([ 1,  0,  3,  2, -1,  4, 20,  5], dtype=int64)"
      ]
     },
     "execution_count": 26,
     "metadata": {},
     "output_type": "execute_result"
    }
   ],
   "source": [
    "df['children'].unique()"
   ]
  },
  {
   "cell_type": "markdown",
   "metadata": {},
   "source": [
    "Присутствует значение -1 в количестве детей клиентов"
   ]
  },
  {
   "cell_type": "code",
   "execution_count": 27,
   "metadata": {},
   "outputs": [],
   "source": [
    "df['children'] = df['children'].map(lambda x: abs(x))"
   ]
  },
  {
   "cell_type": "code",
   "execution_count": 28,
   "metadata": {
    "colab": {
     "base_uri": "https://localhost:8080/"
    },
    "id": "Vt7juHRT8NKS",
    "outputId": "902d7740-9088-4148-f529-2a687c3d6c2c"
   },
   "outputs": [
    {
     "data": {
      "image/png": "[encoded data removed]",
      "text/plain": [
       "<Figure size 432x288 with 1 Axes>"
      ]
     },
     "metadata": {
      "needs_background": "light"
     },
     "output_type": "display_data"
    }
   ],
   "source": [
    "sns.countplot(df['children'])\n",
    "plt.show()"
   ]
  },
  {
   "cell_type": "code",
   "execution_count": 29,
   "metadata": {},
   "outputs": [
    {
     "data": {
      "text/plain": [
       "76"
      ]
     },
     "execution_count": 29,
     "metadata": {},
     "output_type": "execute_result"
    }
   ],
   "source": [
    "len(df[df['children'] == 20])"
   ]
  },
  {
   "cell_type": "markdown",
   "metadata": {},
   "source": [
    "Всего 76 клиентов с 20 детьми. Можно избавиться от них"
   ]
  },
  {
   "cell_type": "code",
   "execution_count": 30,
   "metadata": {},
   "outputs": [],
   "source": [
    "df = df.loc[df['children']!=20]"
   ]
  },
  {
   "cell_type": "code",
   "execution_count": 31,
   "metadata": {
    "colab": {
     "base_uri": "https://localhost:8080/"
    },
    "id": "uGOKdbId9lWK",
    "outputId": "94ce8650-bb15-4723-8c8d-36f0cd3c59a9"
   },
   "outputs": [
    {
     "data": {
      "image/png": "[encoded data removed]",
      "text/plain": [
       "<Figure size 432x288 with 1 Axes>"
      ]
     },
     "metadata": {
      "needs_background": "light"
     },
     "output_type": "display_data"
    }
   ],
   "source": [
    "plt.hist(df['dob_years'], bins=50)\n",
    "plt.title('Bозраст клиента в годах')\n",
    "plt.show()"
   ]
  },
  {
   "cell_type": "code",
   "execution_count": 32,
   "metadata": {},
   "outputs": [
    {
     "data": {
      "text/plain": [
       "100"
      ]
     },
     "execution_count": 32,
     "metadata": {},
     "output_type": "execute_result"
    }
   ],
   "source": [
    "len(df[df['dob_years'] < 18])"
   ]
  },
  {
   "cell_type": "markdown",
   "metadata": {},
   "source": [
    "В данных есть 100 клиентов младше 18 лет. Кредиты выдают лишь совершеннолетним клиентам. Заменим их на медианный возраст исходя от типа занятости"
   ]
  },
  {
   "cell_type": "code",
   "execution_count": 33,
   "metadata": {},
   "outputs": [],
   "source": [
    "def df_anomaly_dob_years(row):\n",
    "    income_type = row['income_type']\n",
    "    median_year = df.groupby('income_type')['dob_years'].median()[income_type]\n",
    "    return median_year"
   ]
  },
  {
   "cell_type": "code",
   "execution_count": 34,
   "metadata": {},
   "outputs": [],
   "source": [
    "df.loc[df['dob_years'] < 18, 'dob_years'] = df.loc[df['dob_years'] < 18].apply(df_anomaly_dob_years, axis=1)"
   ]
  },
  {
   "cell_type": "code",
   "execution_count": 35,
   "metadata": {},
   "outputs": [
    {
     "data": {
      "image/png": "[encoded data removed]",
      "text/plain": [
       "<Figure size 432x288 with 1 Axes>"
      ]
     },
     "metadata": {
      "needs_background": "light"
     },
     "output_type": "display_data"
    }
   ],
   "source": [
    "plt.hist(df['dob_years'], bins=50)\n",
    "plt.title('Bозраст клиента в годах')\n",
    "plt.show()"
   ]
  },
  {
   "cell_type": "markdown",
   "metadata": {},
   "source": [
    "Теперь распределение выглядит лучше"
   ]
  },
  {
   "cell_type": "code",
   "execution_count": 36,
   "metadata": {
    "colab": {
     "base_uri": "https://localhost:8080/"
    },
    "id": "OY2ULR6m9y2s",
    "outputId": "4441d26e-a7f9-4f5f-afc1-2523a44af012"
   },
   "outputs": [
    {
     "data": {
      "text/plain": [
       "array(['высшее', 'среднее', 'Среднее', 'СРЕДНЕЕ', 'ВЫСШЕЕ',\n",
       "       'неоконченное высшее', 'начальное', 'Высшее',\n",
       "       'НЕОКОНЧЕННОЕ ВЫСШЕЕ', 'Неоконченное высшее', 'НАЧАЛЬНОЕ',\n",
       "       'Начальное', 'Ученая степень', 'УЧЕНАЯ СТЕПЕНЬ', 'ученая степень'],\n",
       "      dtype=object)"
      ]
     },
     "execution_count": 36,
     "metadata": {},
     "output_type": "execute_result"
    }
   ],
   "source": [
    "df['education'].unique()"
   ]
  },
  {
   "cell_type": "markdown",
   "metadata": {},
   "source": [
    "Значения в столбце education написаны разными регистрами. Приведем всех их в нижний регистр"
   ]
  },
  {
   "cell_type": "code",
   "execution_count": 37,
   "metadata": {},
   "outputs": [
    {
     "data": {
      "text/plain": [
       "array(['высшее', 'среднее', 'неоконченное высшее', 'начальное',\n",
       "       'ученая степень'], dtype=object)"
      ]
     },
     "execution_count": 37,
     "metadata": {},
     "output_type": "execute_result"
    }
   ],
   "source": [
    "df['education'].str.lower().unique()"
   ]
  },
  {
   "cell_type": "markdown",
   "metadata": {},
   "source": [
    "Правильно, у нас всего 5 классов в этом столбце"
   ]
  },
  {
   "cell_type": "code",
   "execution_count": 38,
   "metadata": {},
   "outputs": [],
   "source": [
    "df['education'] = df['education'].str.lower()"
   ]
  },
  {
   "cell_type": "code",
   "execution_count": 39,
   "metadata": {
    "colab": {
     "base_uri": "https://localhost:8080/"
    },
    "id": "frN6ZYAX-FqR",
    "outputId": "6becf05e-eb17-4000-ebe1-eb0f50e9e466"
   },
   "outputs": [
    {
     "data": {
      "text/plain": [
       "array([0, 1, 2, 3, 4], dtype=int64)"
      ]
     },
     "execution_count": 39,
     "metadata": {},
     "output_type": "execute_result"
    }
   ],
   "source": [
    "df['education_id'].unique()"
   ]
  },
  {
   "cell_type": "code",
   "execution_count": 40,
   "metadata": {
    "colab": {
     "base_uri": "https://localhost:8080/"
    },
    "id": "SQqLN468-Nc9",
    "outputId": "92201ab2-50a4-4e0a-b5b5-e7eda59c68e3"
   },
   "outputs": [
    {
     "data": {
      "text/plain": [
       "array(['женат / замужем', 'гражданский брак', 'вдовец / вдова',\n",
       "       'в разводе', 'Не женат / не замужем'], dtype=object)"
      ]
     },
     "execution_count": 40,
     "metadata": {},
     "output_type": "execute_result"
    }
   ],
   "source": [
    "df['family_status'].unique()"
   ]
  },
  {
   "cell_type": "code",
   "execution_count": 41,
   "metadata": {
    "colab": {
     "base_uri": "https://localhost:8080/"
    },
    "id": "5fQyakVh-W78",
    "outputId": "ce640925-b899-45c6-d02d-688631081042"
   },
   "outputs": [
    {
     "data": {
      "text/plain": [
       "array([0, 1, 2, 3, 4], dtype=int64)"
      ]
     },
     "execution_count": 41,
     "metadata": {},
     "output_type": "execute_result"
    }
   ],
   "source": [
    "df['family_status_id'].unique()"
   ]
  },
  {
   "cell_type": "code",
   "execution_count": 42,
   "metadata": {
    "colab": {
     "base_uri": "https://localhost:8080/"
    },
    "id": "vQ3t07fm-cEb",
    "outputId": "9f6de0e1-351d-446d-c9a6-3bc26ca3ee99"
   },
   "outputs": [
    {
     "data": {
      "text/plain": [
       "array(['F', 'M', 'XNA'], dtype=object)"
      ]
     },
     "execution_count": 42,
     "metadata": {},
     "output_type": "execute_result"
    }
   ],
   "source": [
    "df['gender'].unique()"
   ]
  },
  {
   "cell_type": "code",
   "execution_count": 43,
   "metadata": {
    "colab": {
     "base_uri": "https://localhost:8080/"
    },
    "id": "av_UWtXZ-izz",
    "outputId": "18c9c549-0dd4-4f1e-d986-ce1a985712a2"
   },
   "outputs": [
    {
     "data": {
      "text/plain": [
       "1"
      ]
     },
     "execution_count": 43,
     "metadata": {},
     "output_type": "execute_result"
    }
   ],
   "source": [
    "len(df[df['gender'] == 'XNA'])"
   ]
  },
  {
   "cell_type": "markdown",
   "metadata": {
    "id": "8xnxQkqs_Qrq"
   },
   "source": [
    "Кто-то указал в поле 'XNA'. Он всего лишь один, поэтому избавимся от этого пришельца"
   ]
  },
  {
   "cell_type": "code",
   "execution_count": 44,
   "metadata": {
    "id": "FyG1O8aS-tPy"
   },
   "outputs": [],
   "source": [
    "df = df.loc[df['gender'] != 'XNA']"
   ]
  },
  {
   "cell_type": "code",
   "execution_count": 45,
   "metadata": {
    "colab": {
     "base_uri": "https://localhost:8080/"
    },
    "id": "Eokwj2tJ_LYd",
    "outputId": "9b9fcb55-c523-462d-dd7c-2aab3f450aba"
   },
   "outputs": [
    {
     "data": {
      "text/plain": [
       "array(['сотрудник', 'пенсионер', 'компаньон', 'госслужащий',\n",
       "       'безработный', 'предприниматель', 'студент', 'в декрете'],\n",
       "      dtype=object)"
      ]
     },
     "execution_count": 45,
     "metadata": {},
     "output_type": "execute_result"
    }
   ],
   "source": [
    "df['income_type'].unique()"
   ]
  },
  {
   "cell_type": "code",
   "execution_count": 46,
   "metadata": {
    "colab": {
     "base_uri": "https://localhost:8080/"
    },
    "id": "wEkMr1QI_q62",
    "outputId": "0309b751-6dfc-481a-840f-0041c4813deb"
   },
   "outputs": [
    {
     "data": {
      "text/plain": [
       "array([0, 1], dtype=int64)"
      ]
     },
     "execution_count": 46,
     "metadata": {},
     "output_type": "execute_result"
    }
   ],
   "source": [
    "df['debt'].unique()"
   ]
  },
  {
   "cell_type": "code",
   "execution_count": 47,
   "metadata": {
    "colab": {
     "base_uri": "https://localhost:8080/"
    },
    "id": "FEt5sfZn_vWe",
    "outputId": "a9208a17-62f3-4cf0-ea7f-ab9a172a540f"
   },
   "outputs": [
    {
     "data": {
      "text/plain": [
       "array(['покупка жилья', 'приобретение автомобиля',\n",
       "       'дополнительное образование', 'сыграть свадьбу',\n",
       "       'операции с жильем', 'образование', 'на проведение свадьбы',\n",
       "       'покупка жилья для семьи', 'покупка недвижимости',\n",
       "       'покупка коммерческой недвижимости', 'покупка жилой недвижимости',\n",
       "       'строительство собственной недвижимости', 'недвижимость',\n",
       "       'строительство недвижимости', 'на покупку подержанного автомобиля',\n",
       "       'на покупку своего автомобиля',\n",
       "       'операции с коммерческой недвижимостью',\n",
       "       'строительство жилой недвижимости', 'жилье',\n",
       "       'операции со своей недвижимостью', 'автомобили',\n",
       "       'сделка с подержанным автомобилем', 'получение образования',\n",
       "       'заняться образованием', 'автомобиль', 'свадьба',\n",
       "       'получение дополнительного образования', 'покупка своего жилья',\n",
       "       'операции с недвижимостью', 'получение высшего образования',\n",
       "       'свой автомобиль', 'сделка с автомобилем',\n",
       "       'профильное образование', 'высшее образование',\n",
       "       'покупка жилья для сдачи', 'на покупку автомобиля', 'ремонт жилью',\n",
       "       'заняться высшим образованием'], dtype=object)"
      ]
     },
     "execution_count": 47,
     "metadata": {},
     "output_type": "execute_result"
    }
   ],
   "source": [
    "df['purpose'].unique()"
   ]
  },
  {
   "cell_type": "markdown",
   "metadata": {
    "id": "Qno4iN9a_4aT"
   },
   "source": [
    "С пропусками разобрались!)"
   ]
  },
  {
   "cell_type": "markdown",
   "metadata": {
    "id": "SQDVNlp-_9DO"
   },
   "source": [
    "## **Замена типа данных**"
   ]
  },
  {
   "cell_type": "code",
   "execution_count": 48,
   "metadata": {
    "colab": {
     "base_uri": "https://localhost:8080/"
    },
    "id": "5ih0qrKn_zdx",
    "outputId": "93eeebea-4be5-4cb1-b289-3999450a814d"
   },
   "outputs": [
    {
     "data": {
      "text/plain": [
       "children              int64\n",
       "days_employed       float64\n",
       "dob_years           float64\n",
       "education            object\n",
       "education_id          int64\n",
       "family_status        object\n",
       "family_status_id      int64\n",
       "gender               object\n",
       "income_type          object\n",
       "debt                  int64\n",
       "total_income        float64\n",
       "purpose              object\n",
       "dtype: object"
      ]
     },
     "execution_count": 48,
     "metadata": {},
     "output_type": "execute_result"
    }
   ],
   "source": [
    "df.dtypes"
   ]
  },
  {
   "cell_type": "markdown",
   "metadata": {
    "id": "XGuMFe0aA9Zq"
   },
   "source": [
    "В столбцах days_employed, total_income и dob_years вещественный тип данных. Это может помешать нам для дальнейшего исследования. Заменим их на целочисленный с помощью метода astype()"
   ]
  },
  {
   "cell_type": "code",
   "execution_count": 49,
   "metadata": {
    "id": "5dFKgbZOAlBW"
   },
   "outputs": [],
   "source": [
    "df['days_employed'] = df['days_employed'].astype('int')"
   ]
  },
  {
   "cell_type": "code",
   "execution_count": 50,
   "metadata": {
    "id": "qdFdcNMjBnBq"
   },
   "outputs": [],
   "source": [
    "df['total_income'] = df['total_income'].astype('int')"
   ]
  },
  {
   "cell_type": "code",
   "execution_count": 51,
   "metadata": {},
   "outputs": [],
   "source": [
    "df['dob_years'] = df['dob_years'].astype('int')"
   ]
  },
  {
   "cell_type": "code",
   "execution_count": 52,
   "metadata": {
    "colab": {
     "base_uri": "https://localhost:8080/",
     "height": 0
    },
    "id": "_H_7-FEYBybY",
    "outputId": "741e50c5-97e6-4f42-dd82-f39ebd5ddb14"
   },
   "outputs": [
    {
     "data": {
      "text/plain": [
       "children             int64\n",
       "days_employed        int32\n",
       "dob_years            int32\n",
       "education           object\n",
       "education_id         int64\n",
       "family_status       object\n",
       "family_status_id     int64\n",
       "gender              object\n",
       "income_type         object\n",
       "debt                 int64\n",
       "total_income         int32\n",
       "purpose             object\n",
       "dtype: object"
      ]
     },
     "execution_count": 52,
     "metadata": {},
     "output_type": "execute_result"
    }
   ],
   "source": [
    "df.dtypes"
   ]
  },
  {
   "cell_type": "markdown",
   "metadata": {
    "id": "_23JuibzB1CX"
   },
   "source": [
    "## **Обработка дубликатов**"
   ]
  },
  {
   "cell_type": "code",
   "execution_count": 53,
   "metadata": {
    "colab": {
     "base_uri": "https://localhost:8080/"
    },
    "id": "m-vHcuIXBzU9",
    "outputId": "57613c54-5fd1-4dbd-9649-5aa3260fb5b4"
   },
   "outputs": [
    {
     "data": {
      "text/plain": [
       "71"
      ]
     },
     "execution_count": 53,
     "metadata": {},
     "output_type": "execute_result"
    }
   ],
   "source": [
    "df.duplicated().sum()"
   ]
  },
  {
   "cell_type": "code",
   "execution_count": 54,
   "metadata": {
    "id": "9DWjKIWZFpTa"
   },
   "outputs": [],
   "source": [
    "df = df.drop_duplicates().reset_index(drop=True)"
   ]
  },
  {
   "cell_type": "code",
   "execution_count": 55,
   "metadata": {},
   "outputs": [
    {
     "data": {
      "text/plain": [
       "0"
      ]
     },
     "execution_count": 55,
     "metadata": {},
     "output_type": "execute_result"
    }
   ],
   "source": [
    "df.duplicated().sum()"
   ]
  },
  {
   "cell_type": "markdown",
   "metadata": {
    "id": "X6VYD_QfHX3y"
   },
   "source": [
    "## Категоризация цели получения кредита"
   ]
  },
  {
   "cell_type": "code",
   "execution_count": 56,
   "metadata": {
    "id": "W6Tq7MHEHiAF"
   },
   "outputs": [],
   "source": [
    "purposes = list(df['purpose'].unique())"
   ]
  },
  {
   "cell_type": "code",
   "execution_count": 57,
   "metadata": {},
   "outputs": [],
   "source": [
    "purpose_text = ' '.join(purposes)"
   ]
  },
  {
   "cell_type": "code",
   "execution_count": 58,
   "metadata": {},
   "outputs": [],
   "source": [
    "lemmas = m.lemmatize(purpose_text)"
   ]
  },
  {
   "cell_type": "code",
   "execution_count": 59,
   "metadata": {},
   "outputs": [
    {
     "data": {
      "text/plain": [
       "Counter({'покупка': 10,\n",
       "         ' ': 96,\n",
       "         'жилье': 7,\n",
       "         'приобретение': 1,\n",
       "         'автомобиль': 9,\n",
       "         'дополнительный': 2,\n",
       "         'образование': 9,\n",
       "         'сыграть': 1,\n",
       "         'свадьба': 3,\n",
       "         'операция': 4,\n",
       "         'с': 5,\n",
       "         'на': 4,\n",
       "         'проведение': 1,\n",
       "         'для': 2,\n",
       "         'семья': 1,\n",
       "         'недвижимость': 10,\n",
       "         'коммерческий': 2,\n",
       "         'жилой': 2,\n",
       "         'строительство': 3,\n",
       "         'собственный': 1,\n",
       "         'подержать': 2,\n",
       "         'свой': 4,\n",
       "         'со': 1,\n",
       "         'сделка': 2,\n",
       "         'получение': 3,\n",
       "         'заниматься': 2,\n",
       "         'высокий': 3,\n",
       "         'профильный': 1,\n",
       "         'сдача': 1,\n",
       "         'ремонт': 1,\n",
       "         '\\n': 1})"
      ]
     },
     "execution_count": 59,
     "metadata": {},
     "output_type": "execute_result"
    }
   ],
   "source": [
    "Counter(lemmas)"
   ]
  },
  {
   "cell_type": "markdown",
   "metadata": {
    "id": "8fBMP9x-OYJQ"
   },
   "source": [
    "Цели получения кредита соответствуют следующим категориям:  \n",
    "1. Недвижимость\n",
    "2. Автомобиль\n",
    "3. Образование\n",
    "4. Свадьба"
   ]
  },
  {
   "cell_type": "code",
   "execution_count": 60,
   "metadata": {},
   "outputs": [],
   "source": [
    "def purpose_category(row):\n",
    "    purpose = row['purpose']\n",
    "    if ('недвижим' in purpose) or ('жиль' in purpose):\n",
    "        return 'Недвижимость'\n",
    "    elif 'автомоб' in purpose:\n",
    "        return 'Автомобиль'\n",
    "    elif 'образован' in purpose:\n",
    "        return 'Образование'\n",
    "    elif 'свадьб' in purpose:\n",
    "        return 'Свадьба'\n",
    "    return 'Неизвестно'"
   ]
  },
  {
   "cell_type": "code",
   "execution_count": 61,
   "metadata": {},
   "outputs": [],
   "source": [
    "df['purpose_category'] = df.apply(purpose_category, axis=1)"
   ]
  },
  {
   "cell_type": "code",
   "execution_count": 62,
   "metadata": {
    "colab": {
     "base_uri": "https://localhost:8080/"
    },
    "id": "iJxa2MRpS_7F",
    "outputId": "31e066bb-8f63-4712-c1b3-34085b81b7a4",
    "scrolled": true
   },
   "outputs": [
    {
     "data": {
      "text/plain": [
       "Недвижимость    10661\n",
       "Автомобиль       4257\n",
       "Образование      3967\n",
       "Свадьба          2298\n",
       "Name: purpose_category, dtype: int64"
      ]
     },
     "execution_count": 62,
     "metadata": {},
     "output_type": "execute_result"
    }
   ],
   "source": [
    "df['purpose_category'].value_counts()"
   ]
  },
  {
   "cell_type": "code",
   "execution_count": 63,
   "metadata": {},
   "outputs": [],
   "source": [
    "df = df.drop(['purpose'], axis=1)"
   ]
  },
  {
   "cell_type": "code",
   "execution_count": 64,
   "metadata": {},
   "outputs": [
    {
     "data": {
      "text/html": [
       "<div>\n",
       "<style scoped>\n",
       "    .dataframe tbody tr th:only-of-type {\n",
       "        vertical-align: middle;\n",
       "    }\n",
       "\n",
       "    .dataframe tbody tr th {\n",
       "        vertical-align: top;\n",
       "    }\n",
       "\n",
       "    .dataframe thead th {\n",
       "        text-align: right;\n",
       "    }\n",
       "</style>\n",
       "<table border=\"1\" class=\"dataframe\">\n",
       "  <thead>\n",
       "    <tr style=\"text-align: right;\">\n",
       "      <th></th>\n",
       "      <th>children</th>\n",
       "      <th>days_employed</th>\n",
       "      <th>dob_years</th>\n",
       "      <th>education</th>\n",
       "      <th>education_id</th>\n",
       "      <th>family_status</th>\n",
       "      <th>family_status_id</th>\n",
       "      <th>gender</th>\n",
       "      <th>income_type</th>\n",
       "      <th>debt</th>\n",
       "      <th>total_income</th>\n",
       "      <th>purpose_category</th>\n",
       "    </tr>\n",
       "  </thead>\n",
       "  <tbody>\n",
       "    <tr>\n",
       "      <th>0</th>\n",
       "      <td>1</td>\n",
       "      <td>8437</td>\n",
       "      <td>42</td>\n",
       "      <td>высшее</td>\n",
       "      <td>0</td>\n",
       "      <td>женат / замужем</td>\n",
       "      <td>0</td>\n",
       "      <td>F</td>\n",
       "      <td>сотрудник</td>\n",
       "      <td>0</td>\n",
       "      <td>253875</td>\n",
       "      <td>Недвижимость</td>\n",
       "    </tr>\n",
       "    <tr>\n",
       "      <th>1</th>\n",
       "      <td>1</td>\n",
       "      <td>4024</td>\n",
       "      <td>36</td>\n",
       "      <td>среднее</td>\n",
       "      <td>1</td>\n",
       "      <td>женат / замужем</td>\n",
       "      <td>0</td>\n",
       "      <td>F</td>\n",
       "      <td>сотрудник</td>\n",
       "      <td>0</td>\n",
       "      <td>112080</td>\n",
       "      <td>Автомобиль</td>\n",
       "    </tr>\n",
       "    <tr>\n",
       "      <th>2</th>\n",
       "      <td>0</td>\n",
       "      <td>5623</td>\n",
       "      <td>33</td>\n",
       "      <td>среднее</td>\n",
       "      <td>1</td>\n",
       "      <td>женат / замужем</td>\n",
       "      <td>0</td>\n",
       "      <td>M</td>\n",
       "      <td>сотрудник</td>\n",
       "      <td>0</td>\n",
       "      <td>145885</td>\n",
       "      <td>Недвижимость</td>\n",
       "    </tr>\n",
       "    <tr>\n",
       "      <th>3</th>\n",
       "      <td>3</td>\n",
       "      <td>4124</td>\n",
       "      <td>32</td>\n",
       "      <td>среднее</td>\n",
       "      <td>1</td>\n",
       "      <td>женат / замужем</td>\n",
       "      <td>0</td>\n",
       "      <td>M</td>\n",
       "      <td>сотрудник</td>\n",
       "      <td>0</td>\n",
       "      <td>267628</td>\n",
       "      <td>Образование</td>\n",
       "    </tr>\n",
       "    <tr>\n",
       "      <th>4</th>\n",
       "      <td>0</td>\n",
       "      <td>14177</td>\n",
       "      <td>53</td>\n",
       "      <td>среднее</td>\n",
       "      <td>1</td>\n",
       "      <td>гражданский брак</td>\n",
       "      <td>1</td>\n",
       "      <td>F</td>\n",
       "      <td>пенсионер</td>\n",
       "      <td>0</td>\n",
       "      <td>158616</td>\n",
       "      <td>Свадьба</td>\n",
       "    </tr>\n",
       "  </tbody>\n",
       "</table>\n",
       "</div>"
      ],
      "text/plain": [
       "   children  days_employed  dob_years education  education_id  \\\n",
       "0         1           8437         42    высшее             0   \n",
       "1         1           4024         36   среднее             1   \n",
       "2         0           5623         33   среднее             1   \n",
       "3         3           4124         32   среднее             1   \n",
       "4         0          14177         53   среднее             1   \n",
       "\n",
       "      family_status  family_status_id gender income_type  debt  total_income  \\\n",
       "0   женат / замужем                 0      F   сотрудник     0        253875   \n",
       "1   женат / замужем                 0      F   сотрудник     0        112080   \n",
       "2   женат / замужем                 0      M   сотрудник     0        145885   \n",
       "3   женат / замужем                 0      M   сотрудник     0        267628   \n",
       "4  гражданский брак                 1      F   пенсионер     0        158616   \n",
       "\n",
       "  purpose_category  \n",
       "0     Недвижимость  \n",
       "1       Автомобиль  \n",
       "2     Недвижимость  \n",
       "3      Образование  \n",
       "4          Свадьба  "
      ]
     },
     "execution_count": 64,
     "metadata": {},
     "output_type": "execute_result"
    }
   ],
   "source": [
    "df.head()"
   ]
  },
  {
   "cell_type": "markdown",
   "metadata": {
    "id": "y8sSgwouq1V9"
   },
   "source": [
    "Теперь все клиенты разбиты по категориям"
   ]
  },
  {
   "cell_type": "markdown",
   "metadata": {},
   "source": [
    "# Проверка гипотез"
   ]
  },
  {
   "cell_type": "markdown",
   "metadata": {
    "id": "zIykx0A-sP9X"
   },
   "source": [
    "## **Есть ли зависимость между наличием детей и возвратом кредита в срок?**"
   ]
  },
  {
   "cell_type": "code",
   "execution_count": 65,
   "metadata": {},
   "outputs": [
    {
     "data": {
      "text/plain": [
       "0.07549735222556175"
      ]
     },
     "execution_count": 65,
     "metadata": {},
     "output_type": "execute_result"
    }
   ],
   "source": [
    "df[df['children']==0]['debt'].mean()"
   ]
  },
  {
   "cell_type": "code",
   "execution_count": 66,
   "metadata": {},
   "outputs": [
    {
     "data": {
      "text/plain": [
       "0.09238451935081149"
      ]
     },
     "execution_count": 66,
     "metadata": {},
     "output_type": "execute_result"
    }
   ],
   "source": [
    "df[df['children']>0]['debt'].mean()"
   ]
  },
  {
   "cell_type": "markdown",
   "metadata": {
    "id": "AzvkFGt8GNPK"
   },
   "source": [
    "Видно, что клиенты без детей возвращают кредиты лучше"
   ]
  },
  {
   "cell_type": "code",
   "execution_count": 67,
   "metadata": {},
   "outputs": [
    {
     "data": {
      "text/html": [
       "<div>\n",
       "<style scoped>\n",
       "    .dataframe tbody tr th:only-of-type {\n",
       "        vertical-align: middle;\n",
       "    }\n",
       "\n",
       "    .dataframe tbody tr th {\n",
       "        vertical-align: top;\n",
       "    }\n",
       "\n",
       "    .dataframe thead tr th {\n",
       "        text-align: left;\n",
       "    }\n",
       "\n",
       "    .dataframe thead tr:last-of-type th {\n",
       "        text-align: right;\n",
       "    }\n",
       "</style>\n",
       "<table border=\"1\" class=\"dataframe\">\n",
       "  <thead>\n",
       "    <tr>\n",
       "      <th></th>\n",
       "      <th colspan=\"2\" halign=\"left\">debt</th>\n",
       "    </tr>\n",
       "    <tr>\n",
       "      <th></th>\n",
       "      <th>count</th>\n",
       "      <th>mean</th>\n",
       "    </tr>\n",
       "    <tr>\n",
       "      <th>children</th>\n",
       "      <th></th>\n",
       "      <th></th>\n",
       "    </tr>\n",
       "  </thead>\n",
       "  <tbody>\n",
       "    <tr>\n",
       "      <th>0</th>\n",
       "      <td>13974</td>\n",
       "      <td>0.075497</td>\n",
       "    </tr>\n",
       "    <tr>\n",
       "      <th>1</th>\n",
       "      <td>4809</td>\n",
       "      <td>0.092119</td>\n",
       "    </tr>\n",
       "    <tr>\n",
       "      <th>2</th>\n",
       "      <td>2025</td>\n",
       "      <td>0.094815</td>\n",
       "    </tr>\n",
       "    <tr>\n",
       "      <th>3</th>\n",
       "      <td>325</td>\n",
       "      <td>0.083077</td>\n",
       "    </tr>\n",
       "    <tr>\n",
       "      <th>4</th>\n",
       "      <td>41</td>\n",
       "      <td>0.097561</td>\n",
       "    </tr>\n",
       "    <tr>\n",
       "      <th>5</th>\n",
       "      <td>9</td>\n",
       "      <td>0.000000</td>\n",
       "    </tr>\n",
       "  </tbody>\n",
       "</table>\n",
       "</div>"
      ],
      "text/plain": [
       "           debt          \n",
       "          count      mean\n",
       "children                 \n",
       "0         13974  0.075497\n",
       "1          4809  0.092119\n",
       "2          2025  0.094815\n",
       "3           325  0.083077\n",
       "4            41  0.097561\n",
       "5             9  0.000000"
      ]
     },
     "execution_count": 67,
     "metadata": {},
     "output_type": "execute_result"
    }
   ],
   "source": [
    "df.groupby('children').agg({'debt':['count', 'mean']})"
   ]
  },
  {
   "cell_type": "markdown",
   "metadata": {},
   "source": [
    "Да, видим резкое ухудшение среднего значения возврата кредитов. Следовательно, наличие детей отрицательно сказывается на кредитной репутации"
   ]
  },
  {
   "cell_type": "markdown",
   "metadata": {
    "id": "KJ1WD2FIB1g3"
   },
   "source": [
    "## **Есть ли зависимость между семейным положением и возвратом кредита в срок?**"
   ]
  },
  {
   "cell_type": "code",
   "execution_count": 68,
   "metadata": {
    "colab": {
     "base_uri": "https://localhost:8080/",
     "height": 266
    },
    "id": "pVhOi9XOskRF",
    "outputId": "bf4edf89-5244-432c-a660-f15d9eaab8f8"
   },
   "outputs": [
    {
     "data": {
      "text/html": [
       "<div>\n",
       "<style scoped>\n",
       "    .dataframe tbody tr th:only-of-type {\n",
       "        vertical-align: middle;\n",
       "    }\n",
       "\n",
       "    .dataframe tbody tr th {\n",
       "        vertical-align: top;\n",
       "    }\n",
       "\n",
       "    .dataframe thead tr th {\n",
       "        text-align: left;\n",
       "    }\n",
       "\n",
       "    .dataframe thead tr:last-of-type th {\n",
       "        text-align: right;\n",
       "    }\n",
       "</style>\n",
       "<table border=\"1\" class=\"dataframe\">\n",
       "  <thead>\n",
       "    <tr>\n",
       "      <th></th>\n",
       "      <th>count</th>\n",
       "      <th>mean</th>\n",
       "    </tr>\n",
       "    <tr>\n",
       "      <th></th>\n",
       "      <th>debt</th>\n",
       "      <th>debt</th>\n",
       "    </tr>\n",
       "    <tr>\n",
       "      <th>family_status</th>\n",
       "      <th></th>\n",
       "      <th></th>\n",
       "    </tr>\n",
       "  </thead>\n",
       "  <tbody>\n",
       "    <tr>\n",
       "      <th>Не женат / не замужем</th>\n",
       "      <td>2780</td>\n",
       "      <td>0.097482</td>\n",
       "    </tr>\n",
       "    <tr>\n",
       "      <th>в разводе</th>\n",
       "      <td>1181</td>\n",
       "      <td>0.071126</td>\n",
       "    </tr>\n",
       "    <tr>\n",
       "      <th>вдовец / вдова</th>\n",
       "      <td>950</td>\n",
       "      <td>0.066316</td>\n",
       "    </tr>\n",
       "    <tr>\n",
       "      <th>гражданский брак</th>\n",
       "      <td>4108</td>\n",
       "      <td>0.092746</td>\n",
       "    </tr>\n",
       "    <tr>\n",
       "      <th>женат / замужем</th>\n",
       "      <td>12164</td>\n",
       "      <td>0.075797</td>\n",
       "    </tr>\n",
       "  </tbody>\n",
       "</table>\n",
       "</div>"
      ],
      "text/plain": [
       "                       count      mean\n",
       "                        debt      debt\n",
       "family_status                         \n",
       "Не женат / не замужем   2780  0.097482\n",
       "в разводе               1181  0.071126\n",
       "вдовец / вдова           950  0.066316\n",
       "гражданский брак        4108  0.092746\n",
       "женат / замужем        12164  0.075797"
      ]
     },
     "execution_count": 68,
     "metadata": {},
     "output_type": "execute_result"
    }
   ],
   "source": [
    "df.pivot_table(index='family_status', values='debt', aggfunc=['count', 'mean'])"
   ]
  },
  {
   "cell_type": "markdown",
   "metadata": {},
   "source": [
    "Интересно, что женатые клиенты возвращают кредит лучше, чем клиенты с гражданским браком. В официальном браке (через ЗАГС) долги зачастую делятся поровну, а при сожительстве (гражданский брак) обязательства по их погашению ложатся исключительно на заемщика."
   ]
  },
  {
   "cell_type": "markdown",
   "metadata": {
    "id": "cdwJfDcRHSXq"
   },
   "source": [
    "По таблице видно, что лучше всех возвращают кредит вдовы, хуже всех - не женатые клиенты и семьи с гражданским браком. Из-за различия в количестве клиентов в каждой группе, нельзя утверждать про явную зависимость."
   ]
  },
  {
   "cell_type": "markdown",
   "metadata": {
    "id": "0zyZof8WDSH0"
   },
   "source": [
    "## **Есть ли зависимость между уровнем дохода и возвратом кредита в срок?**"
   ]
  },
  {
   "cell_type": "code",
   "execution_count": 69,
   "metadata": {},
   "outputs": [
    {
     "data": {
      "text/plain": [
       "debt\n",
       "0    160381.417429\n",
       "1    156570.249855\n",
       "Name: total_income, dtype: float64"
      ]
     },
     "execution_count": 69,
     "metadata": {},
     "output_type": "execute_result"
    }
   ],
   "source": [
    "df.groupby('debt')['total_income'].mean()"
   ]
  },
  {
   "cell_type": "markdown",
   "metadata": {},
   "source": [
    "Средняя зарплата тех, кто возвращает кредиты вовремя кредиты выше"
   ]
  },
  {
   "cell_type": "code",
   "execution_count": 70,
   "metadata": {
    "id": "kqmxDdwTCnP3"
   },
   "outputs": [],
   "source": [
    "df['income_cut'] = pd.qcut(df['total_income'], 5)"
   ]
  },
  {
   "cell_type": "code",
   "execution_count": 71,
   "metadata": {},
   "outputs": [
    {
     "data": {
      "text/plain": [
       "income_cut\n",
       "(20666.999, 98183.0]    0.080717\n",
       "(98183.0, 131535.2]     0.082389\n",
       "(131535.2, 160249.4]    0.089450\n",
       "(160249.4, 211253.0]    0.082625\n",
       "(211253.0, 516062.0]    0.071041\n",
       "Name: debt, dtype: float64"
      ]
     },
     "execution_count": 71,
     "metadata": {},
     "output_type": "execute_result"
    }
   ],
   "source": [
    "df.groupby('income_cut')['debt'].mean()"
   ]
  },
  {
   "cell_type": "markdown",
   "metadata": {},
   "source": [
    "Клиенты поровну разделены на 5 групп по размеру месячной зарплаты. Лучше всех возвращают кредит самые богатые клиенты. Но прямой зависимости между уровнем дохода и возвратом кредита в срок не наблюдается"
   ]
  },
  {
   "cell_type": "markdown",
   "metadata": {
    "id": "zNasBDi-FnJ1"
   },
   "source": [
    "## **Как разные цели кредита влияют на его возврат в срок?**"
   ]
  },
  {
   "cell_type": "code",
   "execution_count": 72,
   "metadata": {
    "colab": {
     "base_uri": "https://localhost:8080/",
     "height": 235
    },
    "id": "gJZ8UnqVFY7h",
    "outputId": "a6109c5c-bbb4-40c3-8488-c184b403678c"
   },
   "outputs": [
    {
     "data": {
      "text/html": [
       "<div>\n",
       "<style scoped>\n",
       "    .dataframe tbody tr th:only-of-type {\n",
       "        vertical-align: middle;\n",
       "    }\n",
       "\n",
       "    .dataframe tbody tr th {\n",
       "        vertical-align: top;\n",
       "    }\n",
       "\n",
       "    .dataframe thead tr th {\n",
       "        text-align: left;\n",
       "    }\n",
       "\n",
       "    .dataframe thead tr:last-of-type th {\n",
       "        text-align: right;\n",
       "    }\n",
       "</style>\n",
       "<table border=\"1\" class=\"dataframe\">\n",
       "  <thead>\n",
       "    <tr>\n",
       "      <th></th>\n",
       "      <th>count</th>\n",
       "      <th>mean</th>\n",
       "    </tr>\n",
       "    <tr>\n",
       "      <th></th>\n",
       "      <th>debt</th>\n",
       "      <th>debt</th>\n",
       "    </tr>\n",
       "    <tr>\n",
       "      <th>purpose_category</th>\n",
       "      <th></th>\n",
       "      <th></th>\n",
       "    </tr>\n",
       "  </thead>\n",
       "  <tbody>\n",
       "    <tr>\n",
       "      <th>Автомобиль</th>\n",
       "      <td>4257</td>\n",
       "      <td>0.093728</td>\n",
       "    </tr>\n",
       "    <tr>\n",
       "      <th>Недвижимость</th>\n",
       "      <td>10661</td>\n",
       "      <td>0.072695</td>\n",
       "    </tr>\n",
       "    <tr>\n",
       "      <th>Образование</th>\n",
       "      <td>3967</td>\n",
       "      <td>0.092009</td>\n",
       "    </tr>\n",
       "    <tr>\n",
       "      <th>Свадьба</th>\n",
       "      <td>2298</td>\n",
       "      <td>0.079199</td>\n",
       "    </tr>\n",
       "  </tbody>\n",
       "</table>\n",
       "</div>"
      ],
      "text/plain": [
       "                  count      mean\n",
       "                   debt      debt\n",
       "purpose_category                 \n",
       "Автомобиль         4257  0.093728\n",
       "Недвижимость      10661  0.072695\n",
       "Образование        3967  0.092009\n",
       "Свадьба            2298  0.079199"
      ]
     },
     "execution_count": 72,
     "metadata": {},
     "output_type": "execute_result"
    }
   ],
   "source": [
    "df.pivot_table(index='purpose_category', values='debt', aggfunc=['count', 'mean'])"
   ]
  },
  {
   "cell_type": "markdown",
   "metadata": {
    "id": "wsZfRJ7lJw6v"
   },
   "source": [
    "Люди лучше возвращают кредит, если берут его для покупки недвижимости. Затем идет кредит на свадьбу. И хуже возвращают кредит на автомобиль и образование с почти одинаковыми значениями."
   ]
  },
  {
   "cell_type": "markdown",
   "metadata": {},
   "source": [
    "## Как возвращают кредиты представители разных полов"
   ]
  },
  {
   "cell_type": "code",
   "execution_count": 73,
   "metadata": {},
   "outputs": [
    {
     "data": {
      "text/html": [
       "<div>\n",
       "<style scoped>\n",
       "    .dataframe tbody tr th:only-of-type {\n",
       "        vertical-align: middle;\n",
       "    }\n",
       "\n",
       "    .dataframe tbody tr th {\n",
       "        vertical-align: top;\n",
       "    }\n",
       "\n",
       "    .dataframe thead tr th {\n",
       "        text-align: left;\n",
       "    }\n",
       "\n",
       "    .dataframe thead tr:last-of-type th {\n",
       "        text-align: right;\n",
       "    }\n",
       "</style>\n",
       "<table border=\"1\" class=\"dataframe\">\n",
       "  <thead>\n",
       "    <tr>\n",
       "      <th></th>\n",
       "      <th>count</th>\n",
       "      <th>mean</th>\n",
       "    </tr>\n",
       "    <tr>\n",
       "      <th></th>\n",
       "      <th>debt</th>\n",
       "      <th>debt</th>\n",
       "    </tr>\n",
       "    <tr>\n",
       "      <th>gender</th>\n",
       "      <th></th>\n",
       "      <th></th>\n",
       "    </tr>\n",
       "  </thead>\n",
       "  <tbody>\n",
       "    <tr>\n",
       "      <th>F</th>\n",
       "      <td>14052</td>\n",
       "      <td>0.070168</td>\n",
       "    </tr>\n",
       "    <tr>\n",
       "      <th>M</th>\n",
       "      <td>7131</td>\n",
       "      <td>0.103071</td>\n",
       "    </tr>\n",
       "  </tbody>\n",
       "</table>\n",
       "</div>"
      ],
      "text/plain": [
       "        count      mean\n",
       "         debt      debt\n",
       "gender                 \n",
       "F       14052  0.070168\n",
       "M        7131  0.103071"
      ]
     },
     "execution_count": 73,
     "metadata": {},
     "output_type": "execute_result"
    }
   ],
   "source": [
    "df.pivot_table(index='gender', values='debt', aggfunc=['count', 'mean'])"
   ]
  },
  {
   "cell_type": "markdown",
   "metadata": {},
   "source": [
    "Женщин в наших данных в два раза больше. По таблице видно, что они возвращают кредиты лучше, чем мужчины"
   ]
  },
  {
   "cell_type": "markdown",
   "metadata": {},
   "source": [
    "## Есть ли зависимость между образованием и возвратом кредита в срок?"
   ]
  },
  {
   "cell_type": "code",
   "execution_count": 74,
   "metadata": {},
   "outputs": [
    {
     "data": {
      "text/html": [
       "<div>\n",
       "<style scoped>\n",
       "    .dataframe tbody tr th:only-of-type {\n",
       "        vertical-align: middle;\n",
       "    }\n",
       "\n",
       "    .dataframe tbody tr th {\n",
       "        vertical-align: top;\n",
       "    }\n",
       "\n",
       "    .dataframe thead tr th {\n",
       "        text-align: left;\n",
       "    }\n",
       "\n",
       "    .dataframe thead tr:last-of-type th {\n",
       "        text-align: right;\n",
       "    }\n",
       "</style>\n",
       "<table border=\"1\" class=\"dataframe\">\n",
       "  <thead>\n",
       "    <tr>\n",
       "      <th></th>\n",
       "      <th>count</th>\n",
       "      <th>mean</th>\n",
       "    </tr>\n",
       "    <tr>\n",
       "      <th></th>\n",
       "      <th>debt</th>\n",
       "      <th>debt</th>\n",
       "    </tr>\n",
       "    <tr>\n",
       "      <th>education</th>\n",
       "      <th></th>\n",
       "      <th></th>\n",
       "    </tr>\n",
       "  </thead>\n",
       "  <tbody>\n",
       "    <tr>\n",
       "      <th>высшее</th>\n",
       "      <td>5108</td>\n",
       "      <td>0.053054</td>\n",
       "    </tr>\n",
       "    <tr>\n",
       "      <th>начальное</th>\n",
       "      <td>282</td>\n",
       "      <td>0.109929</td>\n",
       "    </tr>\n",
       "    <tr>\n",
       "      <th>неоконченное высшее</th>\n",
       "      <td>733</td>\n",
       "      <td>0.088677</td>\n",
       "    </tr>\n",
       "    <tr>\n",
       "      <th>среднее</th>\n",
       "      <td>15054</td>\n",
       "      <td>0.089943</td>\n",
       "    </tr>\n",
       "    <tr>\n",
       "      <th>ученая степень</th>\n",
       "      <td>6</td>\n",
       "      <td>0.000000</td>\n",
       "    </tr>\n",
       "  </tbody>\n",
       "</table>\n",
       "</div>"
      ],
      "text/plain": [
       "                     count      mean\n",
       "                      debt      debt\n",
       "education                           \n",
       "высшее                5108  0.053054\n",
       "начальное              282  0.109929\n",
       "неоконченное высшее    733  0.088677\n",
       "среднее              15054  0.089943\n",
       "ученая степень           6  0.000000"
      ]
     },
     "execution_count": 74,
     "metadata": {},
     "output_type": "execute_result"
    }
   ],
   "source": [
    "df.pivot_table(index='education', values='debt', aggfunc=['count', 'mean'])"
   ]
  },
  {
   "cell_type": "markdown",
   "metadata": {},
   "source": [
    "Люди с высшим образованием возвращают кредит намного лучше. Хуже всех оказались клиенты с начальным образованием. Интересный факт: из всего 6 клиентов с ученой степенью все погасили кредит вовремя)"
   ]
  },
  {
   "cell_type": "markdown",
   "metadata": {},
   "source": [
    "Образование точно имеет зависимость на погашение кредита в срок"
   ]
  },
  {
   "cell_type": "markdown",
   "metadata": {},
   "source": [
    "## Есть ли зависимость между возрастом клиента и возвратом кредита в срок?"
   ]
  },
  {
   "cell_type": "code",
   "execution_count": 75,
   "metadata": {},
   "outputs": [],
   "source": [
    "df['dob_years_cut'] = pd.qcut(df['dob_years'], 5)"
   ]
  },
  {
   "cell_type": "code",
   "execution_count": 76,
   "metadata": {
    "scrolled": true
   },
   "outputs": [
    {
     "data": {
      "text/plain": [
       "dob_years_cut\n",
       "(18.999, 32.0]    0.111416\n",
       "(32.0, 39.0]      0.091558\n",
       "(39.0, 47.0]      0.078390\n",
       "(47.0, 56.0]      0.065516\n",
       "(56.0, 75.0]      0.053850\n",
       "Name: debt, dtype: float64"
      ]
     },
     "execution_count": 76,
     "metadata": {},
     "output_type": "execute_result"
    }
   ],
   "source": [
    "df.groupby('dob_years_cut')['debt'].mean()"
   ]
  },
  {
   "cell_type": "markdown",
   "metadata": {},
   "source": [
    "Видна прямая зависимость между возрастом клиента и возвратом кредита в срок. С возрастом клиенты возвращают кредиты вовремя"
   ]
  },
  {
   "cell_type": "markdown",
   "metadata": {},
   "source": [
    "# Вывод"
   ]
  },
  {
   "cell_type": "markdown",
   "metadata": {},
   "source": [
    "Мы провели предобработку и анализ данных кредитного отдела банка. Нашей целью было выявить: влияет ли семейное положение и количество детей клиента на факт погашения кредита в срок. И в результате исследования мы пришли к таким выводам:  \n",
    "1. Клиенты берут кредит на одну из четырех категорий: недвижимость, автомобиль, образование и свадьба. Лучше всего возвращают кредит, если берут его для покупки недвижимости. Хуже всего - на автомобиль.  \n",
    "2. Наличие детей отрицательно сказывается на возврат кредита вовремя  \n",
    "3. Клиенты официально зарегистрировавшие свой брак возвращают кредит лучше, чем клиенты с гражданским браком  \n",
    "4. Мы не нашли зависимости между уровнем дохода и возвратом кредита в срок  \n",
    "5. Женщины возвращают кредит лучше, чем мужчины  \n",
    "6. Есть прямая зависимость между образованием клиента и возвратом кредита в срок. Люди с высшим образованием возвращают кредит намного лучше.  \n",
    "7. С возрастом клиенты возвращают кредиты вовремя"
   ]
  }
 ],
 "metadata": {
  "ExecuteTimeLog": [
   {
    "duration": 581,
    "start_time": "2021-07-24T06:50:58.954Z"
   },
   {
    "duration": 591,
    "start_time": "2021-07-24T06:50:59.536Z"
   },
   {
    "duration": 1659,
    "start_time": "2021-07-24T06:51:00.130Z"
   },
   {
    "duration": -11,
    "start_time": "2021-07-24T06:51:01.805Z"
   },
   {
    "duration": -13,
    "start_time": "2021-07-24T06:51:01.808Z"
   },
   {
    "duration": -15,
    "start_time": "2021-07-24T06:51:01.811Z"
   },
   {
    "duration": -17,
    "start_time": "2021-07-24T06:51:01.814Z"
   },
   {
    "duration": -17,
    "start_time": "2021-07-24T06:51:01.816Z"
   },
   {
    "duration": -19,
    "start_time": "2021-07-24T06:51:01.819Z"
   },
   {
    "duration": -20,
    "start_time": "2021-07-24T06:51:01.821Z"
   },
   {
    "duration": -20,
    "start_time": "2021-07-24T06:51:01.823Z"
   },
   {
    "duration": -21,
    "start_time": "2021-07-24T06:51:01.825Z"
   },
   {
    "duration": -22,
    "start_time": "2021-07-24T06:51:01.827Z"
   },
   {
    "duration": -22,
    "start_time": "2021-07-24T06:51:01.829Z"
   },
   {
    "duration": -23,
    "start_time": "2021-07-24T06:51:01.831Z"
   },
   {
    "duration": -29,
    "start_time": "2021-07-24T06:51:01.838Z"
   },
   {
    "duration": -30,
    "start_time": "2021-07-24T06:51:01.841Z"
   },
   {
    "duration": -31,
    "start_time": "2021-07-24T06:51:01.843Z"
   },
   {
    "duration": -32,
    "start_time": "2021-07-24T06:51:01.845Z"
   },
   {
    "duration": -32,
    "start_time": "2021-07-24T06:51:01.847Z"
   },
   {
    "duration": -34,
    "start_time": "2021-07-24T06:51:01.850Z"
   },
   {
    "duration": -35,
    "start_time": "2021-07-24T06:51:01.852Z"
   },
   {
    "duration": -42,
    "start_time": "2021-07-24T06:51:01.861Z"
   },
   {
    "duration": -53,
    "start_time": "2021-07-24T06:51:01.873Z"
   },
   {
    "duration": -55,
    "start_time": "2021-07-24T06:51:01.876Z"
   },
   {
    "duration": -60,
    "start_time": "2021-07-24T06:51:01.883Z"
   },
   {
    "duration": -62,
    "start_time": "2021-07-24T06:51:01.886Z"
   },
   {
    "duration": -64,
    "start_time": "2021-07-24T06:51:01.889Z"
   },
   {
    "duration": -64,
    "start_time": "2021-07-24T06:51:01.891Z"
   },
   {
    "duration": -65,
    "start_time": "2021-07-24T06:51:01.893Z"
   },
   {
    "duration": -66,
    "start_time": "2021-07-24T06:51:01.895Z"
   },
   {
    "duration": -66,
    "start_time": "2021-07-24T06:51:01.897Z"
   },
   {
    "duration": -68,
    "start_time": "2021-07-24T06:51:01.900Z"
   },
   {
    "duration": -70,
    "start_time": "2021-07-24T06:51:01.903Z"
   },
   {
    "duration": -76,
    "start_time": "2021-07-24T06:51:01.910Z"
   },
   {
    "duration": -21,
    "start_time": "2021-07-24T06:51:01.913Z"
   },
   {
    "duration": -22,
    "start_time": "2021-07-24T06:51:01.915Z"
   },
   {
    "duration": -22,
    "start_time": "2021-07-24T06:51:01.917Z"
   },
   {
    "duration": -33,
    "start_time": "2021-07-24T06:51:01.929Z"
   },
   {
    "duration": -34,
    "start_time": "2021-07-24T06:51:01.931Z"
   },
   {
    "duration": -49,
    "start_time": "2021-07-24T06:51:01.947Z"
   },
   {
    "duration": -49,
    "start_time": "2021-07-24T06:51:01.949Z"
   },
   {
    "duration": -54,
    "start_time": "2021-07-24T06:51:01.955Z"
   },
   {
    "duration": -62,
    "start_time": "2021-07-24T06:51:01.964Z"
   },
   {
    "duration": -222,
    "start_time": "2021-07-24T06:51:02.126Z"
   },
   {
    "duration": -254,
    "start_time": "2021-07-24T06:51:02.159Z"
   },
   {
    "duration": -281,
    "start_time": "2021-07-24T06:51:02.187Z"
   },
   {
    "duration": -281,
    "start_time": "2021-07-24T06:51:02.189Z"
   },
   {
    "duration": -281,
    "start_time": "2021-07-24T06:51:02.190Z"
   },
   {
    "duration": -282,
    "start_time": "2021-07-24T06:51:02.192Z"
   },
   {
    "duration": -281,
    "start_time": "2021-07-24T06:51:02.193Z"
   },
   {
    "duration": -281,
    "start_time": "2021-07-24T06:51:02.194Z"
   },
   {
    "duration": -282,
    "start_time": "2021-07-24T06:51:02.196Z"
   },
   {
    "duration": -281,
    "start_time": "2021-07-24T06:51:02.197Z"
   },
   {
    "duration": -282,
    "start_time": "2021-07-24T06:51:02.199Z"
   },
   {
    "duration": -282,
    "start_time": "2021-07-24T06:51:02.200Z"
   },
   {
    "duration": -282,
    "start_time": "2021-07-24T06:51:02.202Z"
   },
   {
    "duration": -282,
    "start_time": "2021-07-24T06:51:02.203Z"
   },
   {
    "duration": -283,
    "start_time": "2021-07-24T06:51:02.205Z"
   },
   {
    "duration": -282,
    "start_time": "2021-07-24T06:51:02.206Z"
   },
   {
    "duration": -283,
    "start_time": "2021-07-24T06:51:02.208Z"
   },
   {
    "duration": -287,
    "start_time": "2021-07-24T06:51:02.213Z"
   },
   {
    "duration": -287,
    "start_time": "2021-07-24T06:51:02.215Z"
   },
   {
    "duration": -288,
    "start_time": "2021-07-24T06:51:02.217Z"
   },
   {
    "duration": -289,
    "start_time": "2021-07-24T06:51:02.219Z"
   },
   {
    "duration": -289,
    "start_time": "2021-07-24T06:51:02.220Z"
   },
   {
    "duration": -289,
    "start_time": "2021-07-24T06:51:02.222Z"
   },
   {
    "duration": -289,
    "start_time": "2021-07-24T06:51:02.223Z"
   },
   {
    "duration": -290,
    "start_time": "2021-07-24T06:51:02.225Z"
   },
   {
    "duration": -291,
    "start_time": "2021-07-24T06:51:02.226Z"
   },
   {
    "duration": -292,
    "start_time": "2021-07-24T06:51:02.228Z"
   },
   {
    "duration": -294,
    "start_time": "2021-07-24T06:51:02.230Z"
   },
   {
    "duration": -294,
    "start_time": "2021-07-24T06:51:02.231Z"
   },
   {
    "duration": -296,
    "start_time": "2021-07-24T06:51:02.233Z"
   },
   {
    "duration": 704,
    "start_time": "2021-07-24T07:29:07.897Z"
   },
   {
    "duration": 4,
    "start_time": "2021-07-24T07:29:09.274Z"
   },
   {
    "duration": 65,
    "start_time": "2021-07-24T07:29:12.972Z"
   },
   {
    "duration": 16,
    "start_time": "2021-07-24T07:29:16.529Z"
   },
   {
    "duration": 702,
    "start_time": "2021-07-24T18:35:40.335Z"
   },
   {
    "duration": 3,
    "start_time": "2021-07-24T18:35:41.040Z"
   },
   {
    "duration": 68,
    "start_time": "2021-07-24T18:35:41.046Z"
   },
   {
    "duration": 15,
    "start_time": "2021-07-24T18:35:41.116Z"
   },
   {
    "duration": 27,
    "start_time": "2021-07-24T18:35:41.134Z"
   },
   {
    "duration": 40,
    "start_time": "2021-07-24T18:35:41.163Z"
   },
   {
    "duration": 20,
    "start_time": "2021-07-24T18:35:41.206Z"
   },
   {
    "duration": 16,
    "start_time": "2021-07-24T18:35:41.229Z"
   },
   {
    "duration": 12,
    "start_time": "2021-07-24T18:35:41.249Z"
   },
   {
    "duration": 13,
    "start_time": "2021-07-24T18:35:41.303Z"
   },
   {
    "duration": 13,
    "start_time": "2021-07-24T18:35:41.319Z"
   },
   {
    "duration": 9,
    "start_time": "2021-07-24T18:35:41.334Z"
   },
   {
    "duration": 9,
    "start_time": "2021-07-24T18:35:41.346Z"
   },
   {
    "duration": 6,
    "start_time": "2021-07-24T18:35:41.402Z"
   },
   {
    "duration": 12,
    "start_time": "2021-07-24T18:35:41.411Z"
   },
   {
    "duration": 6,
    "start_time": "2021-07-24T18:35:41.426Z"
   },
   {
    "duration": 4,
    "start_time": "2021-07-24T18:35:41.435Z"
   },
   {
    "duration": 17,
    "start_time": "2021-07-24T18:35:41.441Z"
   },
   {
    "duration": 45,
    "start_time": "2021-07-24T18:35:41.460Z"
   },
   {
    "duration": 11,
    "start_time": "2021-07-24T18:35:41.507Z"
   },
   {
    "duration": 8,
    "start_time": "2021-07-24T18:35:41.520Z"
   },
   {
    "duration": 8,
    "start_time": "2021-07-24T18:35:41.530Z"
   },
   {
    "duration": 11,
    "start_time": "2021-07-24T18:35:41.540Z"
   },
   {
    "duration": 51,
    "start_time": "2021-07-24T18:35:41.554Z"
   },
   {
    "duration": 8,
    "start_time": "2021-07-24T18:35:41.608Z"
   },
   {
    "duration": 8,
    "start_time": "2021-07-24T18:35:41.619Z"
   },
   {
    "duration": 6,
    "start_time": "2021-07-24T18:35:41.634Z"
   },
   {
    "duration": 6,
    "start_time": "2021-07-24T18:35:41.644Z"
   },
   {
    "duration": 50,
    "start_time": "2021-07-24T18:35:41.653Z"
   },
   {
    "duration": 9,
    "start_time": "2021-07-24T18:35:41.706Z"
   },
   {
    "duration": 6,
    "start_time": "2021-07-24T18:35:41.717Z"
   },
   {
    "duration": 7,
    "start_time": "2021-07-24T18:35:41.726Z"
   },
   {
    "duration": 7,
    "start_time": "2021-07-24T18:35:41.736Z"
   },
   {
    "duration": 57,
    "start_time": "2021-07-24T18:35:41.746Z"
   },
   {
    "duration": 11,
    "start_time": "2021-07-24T18:35:41.805Z"
   },
   {
    "duration": 12,
    "start_time": "2021-07-24T18:35:41.819Z"
   },
   {
    "duration": 6,
    "start_time": "2021-07-24T18:35:41.833Z"
   },
   {
    "duration": 10,
    "start_time": "2021-07-24T18:35:41.842Z"
   },
   {
    "duration": 51,
    "start_time": "2021-07-24T18:35:41.855Z"
   },
   {
    "duration": 18,
    "start_time": "2021-07-24T18:35:41.908Z"
   },
   {
    "duration": 7,
    "start_time": "2021-07-24T18:35:41.929Z"
   },
   {
    "duration": 6,
    "start_time": "2021-07-24T18:35:41.938Z"
   },
   {
    "duration": 18,
    "start_time": "2021-07-24T18:35:41.946Z"
   },
   {
    "duration": 23,
    "start_time": "2021-07-24T18:35:42.000Z"
   },
   {
    "duration": 27,
    "start_time": "2021-07-24T18:35:42.026Z"
   },
   {
    "duration": 49,
    "start_time": "2021-07-24T18:35:42.055Z"
   },
   {
    "duration": 16,
    "start_time": "2021-07-24T18:35:42.106Z"
   },
   {
    "duration": 10,
    "start_time": "2021-07-24T18:35:42.125Z"
   },
   {
    "duration": 18,
    "start_time": "2021-07-24T18:35:42.138Z"
   },
   {
    "duration": 49,
    "start_time": "2021-07-24T18:35:42.158Z"
   },
   {
    "duration": 13,
    "start_time": "2021-07-24T18:35:42.210Z"
   },
   {
    "duration": 20,
    "start_time": "2021-07-24T18:35:42.226Z"
   },
   {
    "duration": 12,
    "start_time": "2021-07-24T18:35:42.249Z"
   },
   {
    "duration": 41,
    "start_time": "2021-07-24T18:35:42.263Z"
   },
   {
    "duration": 10,
    "start_time": "2021-07-24T18:35:42.306Z"
   },
   {
    "duration": 5,
    "start_time": "2021-07-24T18:35:42.319Z"
   },
   {
    "duration": 5,
    "start_time": "2021-07-24T18:35:42.327Z"
   },
   {
    "duration": 3,
    "start_time": "2021-07-24T18:35:42.336Z"
   },
   {
    "duration": 8,
    "start_time": "2021-07-24T18:35:42.342Z"
   },
   {
    "duration": 49,
    "start_time": "2021-07-24T18:35:42.352Z"
   },
   {
    "duration": 784,
    "start_time": "2021-07-24T18:35:42.404Z"
   },
   {
    "duration": 9,
    "start_time": "2021-07-24T18:35:43.191Z"
   },
   {
    "duration": 19,
    "start_time": "2021-07-24T18:35:43.203Z"
   },
   {
    "duration": 7,
    "start_time": "2021-07-24T18:35:43.225Z"
   },
   {
    "duration": 5,
    "start_time": "2021-07-24T18:35:43.234Z"
   },
   {
    "duration": 409,
    "start_time": "2021-07-24T18:35:43.242Z"
   },
   {
    "duration": 19,
    "start_time": "2021-07-24T18:35:43.654Z"
   },
   {
    "duration": 26,
    "start_time": "2021-07-24T18:35:43.675Z"
   },
   {
    "duration": 20,
    "start_time": "2021-07-24T18:35:43.704Z"
   },
   {
    "duration": 33,
    "start_time": "2021-07-24T18:35:43.727Z"
   },
   {
    "duration": 44,
    "start_time": "2021-07-24T18:35:43.763Z"
   },
   {
    "duration": 22,
    "start_time": "2021-07-24T18:35:43.809Z"
   },
   {
    "duration": 20,
    "start_time": "2021-07-24T18:35:43.833Z"
   },
   {
    "duration": 59,
    "start_time": "2021-07-24T18:35:43.855Z"
   },
   {
    "duration": 8,
    "start_time": "2021-07-24T18:37:39.805Z"
   }
  ],
  "colab": {
   "collapsed_sections": [
    "x4mJqQEQy7XQ",
    "SQDVNlp-_9DO",
    "_23JuibzB1CX"
   ],
   "name": "first_project_dolan.ipynb",
   "provenance": []
  },
  "kernelspec": {
   "display_name": "Python 3",
   "language": "python",
   "name": "python3"
  },
  "language_info": {
   "codemirror_mode": {
    "name": "ipython",
    "version": 3
   },
   "file_extension": ".py",
   "mimetype": "text/x-python",
   "name": "python",
   "nbconvert_exporter": "python",
   "pygments_lexer": "ipython3",
   "version": "3.8.5"
  },
  "toc": {
   "base_numbering": 1,
   "nav_menu": {},
   "number_sections": true,
   "sideBar": true,
   "skip_h1_title": true,
   "title_cell": "Table of Contents",
   "title_sidebar": "Contents",
   "toc_cell": false,
   "toc_position": {},
   "toc_section_display": true,
   "toc_window_display": false
  }
 },
 "nbformat": 4,
 "nbformat_minor": 1
}
