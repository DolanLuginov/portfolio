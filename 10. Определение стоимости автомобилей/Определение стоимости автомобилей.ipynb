{
 "cells": [
  {
   "cell_type": "markdown",
   "metadata": {},
   "source": [
    "# Определение стоимости автомобилей"
   ]
  },
  {
   "cell_type": "markdown",
   "metadata": {},
   "source": [
    "Сервис по продаже автомобилей с пробегом разрабатывает приложение для привлечения новых клиентов. В нём можно быстро узнать рыночную стоимость своего автомобиля. В нашем распоряжении исторические данные: технические характеристики, комплектации и цены автомобилей. Нам нужно построить модель для определения стоимости. Метрика - RMSE \n",
    "\n",
    "Заказчику важны:\n",
    "\n",
    "- качество предсказания;\n",
    "- скорость предсказания;\n",
    "- время обучения."
   ]
  },
  {
   "cell_type": "markdown",
   "metadata": {},
   "source": [
    "Импортируем нужные библиотеки"
   ]
  },
  {
   "cell_type": "code",
   "execution_count": 1,
   "metadata": {},
   "outputs": [],
   "source": [
    "import pandas as pd\n",
    "import numpy as np\n",
    "import matplotlib.pyplot as plt\n",
    "from sklearn.model_selection import train_test_split\n",
    "from sklearn.preprocessing import MinMaxScaler\n",
    "from sklearn.model_selection import cross_val_score\n",
    "from sklearn.metrics import make_scorer\n",
    "from sklearn.model_selection import GridSearchCV, StratifiedKFold\n",
    "from sklearn.linear_model import LinearRegression\n",
    "from sklearn.ensemble import RandomForestRegressor\n",
    "from lightgbm import LGBMRegressor\n",
    "\n",
    "import warnings\n",
    "warnings.filterwarnings('ignore')\n",
    "\n",
    "RAND = 22"
   ]
  },
  {
   "cell_type": "markdown",
   "metadata": {},
   "source": [
    "# Подготовка данных"
   ]
  },
  {
   "cell_type": "code",
   "execution_count": 2,
   "metadata": {},
   "outputs": [
    {
     "data": {
      "text/html": [
       "<div>\n",
       "<style scoped>\n",
       "    .dataframe tbody tr th:only-of-type {\n",
       "        vertical-align: middle;\n",
       "    }\n",
       "\n",
       "    .dataframe tbody tr th {\n",
       "        vertical-align: top;\n",
       "    }\n",
       "\n",
       "    .dataframe thead th {\n",
       "        text-align: right;\n",
       "    }\n",
       "</style>\n",
       "<table border=\"1\" class=\"dataframe\">\n",
       "  <thead>\n",
       "    <tr style=\"text-align: right;\">\n",
       "      <th></th>\n",
       "      <th>DateCrawled</th>\n",
       "      <th>Price</th>\n",
       "      <th>VehicleType</th>\n",
       "      <th>RegistrationYear</th>\n",
       "      <th>Gearbox</th>\n",
       "      <th>Power</th>\n",
       "      <th>Model</th>\n",
       "      <th>Kilometer</th>\n",
       "      <th>RegistrationMonth</th>\n",
       "      <th>FuelType</th>\n",
       "      <th>Brand</th>\n",
       "      <th>NotRepaired</th>\n",
       "      <th>DateCreated</th>\n",
       "      <th>NumberOfPictures</th>\n",
       "      <th>PostalCode</th>\n",
       "      <th>LastSeen</th>\n",
       "    </tr>\n",
       "  </thead>\n",
       "  <tbody>\n",
       "    <tr>\n",
       "      <th>0</th>\n",
       "      <td>2016-03-24 11:52:17</td>\n",
       "      <td>480</td>\n",
       "      <td>NaN</td>\n",
       "      <td>1993</td>\n",
       "      <td>manual</td>\n",
       "      <td>0</td>\n",
       "      <td>golf</td>\n",
       "      <td>150000</td>\n",
       "      <td>0</td>\n",
       "      <td>petrol</td>\n",
       "      <td>volkswagen</td>\n",
       "      <td>NaN</td>\n",
       "      <td>2016-03-24 00:00:00</td>\n",
       "      <td>0</td>\n",
       "      <td>70435</td>\n",
       "      <td>2016-04-07 03:16:57</td>\n",
       "    </tr>\n",
       "    <tr>\n",
       "      <th>1</th>\n",
       "      <td>2016-03-24 10:58:45</td>\n",
       "      <td>18300</td>\n",
       "      <td>coupe</td>\n",
       "      <td>2011</td>\n",
       "      <td>manual</td>\n",
       "      <td>190</td>\n",
       "      <td>NaN</td>\n",
       "      <td>125000</td>\n",
       "      <td>5</td>\n",
       "      <td>gasoline</td>\n",
       "      <td>audi</td>\n",
       "      <td>yes</td>\n",
       "      <td>2016-03-24 00:00:00</td>\n",
       "      <td>0</td>\n",
       "      <td>66954</td>\n",
       "      <td>2016-04-07 01:46:50</td>\n",
       "    </tr>\n",
       "    <tr>\n",
       "      <th>2</th>\n",
       "      <td>2016-03-14 12:52:21</td>\n",
       "      <td>9800</td>\n",
       "      <td>suv</td>\n",
       "      <td>2004</td>\n",
       "      <td>auto</td>\n",
       "      <td>163</td>\n",
       "      <td>grand</td>\n",
       "      <td>125000</td>\n",
       "      <td>8</td>\n",
       "      <td>gasoline</td>\n",
       "      <td>jeep</td>\n",
       "      <td>NaN</td>\n",
       "      <td>2016-03-14 00:00:00</td>\n",
       "      <td>0</td>\n",
       "      <td>90480</td>\n",
       "      <td>2016-04-05 12:47:46</td>\n",
       "    </tr>\n",
       "    <tr>\n",
       "      <th>3</th>\n",
       "      <td>2016-03-17 16:54:04</td>\n",
       "      <td>1500</td>\n",
       "      <td>small</td>\n",
       "      <td>2001</td>\n",
       "      <td>manual</td>\n",
       "      <td>75</td>\n",
       "      <td>golf</td>\n",
       "      <td>150000</td>\n",
       "      <td>6</td>\n",
       "      <td>petrol</td>\n",
       "      <td>volkswagen</td>\n",
       "      <td>no</td>\n",
       "      <td>2016-03-17 00:00:00</td>\n",
       "      <td>0</td>\n",
       "      <td>91074</td>\n",
       "      <td>2016-03-17 17:40:17</td>\n",
       "    </tr>\n",
       "    <tr>\n",
       "      <th>4</th>\n",
       "      <td>2016-03-31 17:25:20</td>\n",
       "      <td>3600</td>\n",
       "      <td>small</td>\n",
       "      <td>2008</td>\n",
       "      <td>manual</td>\n",
       "      <td>69</td>\n",
       "      <td>fabia</td>\n",
       "      <td>90000</td>\n",
       "      <td>7</td>\n",
       "      <td>gasoline</td>\n",
       "      <td>skoda</td>\n",
       "      <td>no</td>\n",
       "      <td>2016-03-31 00:00:00</td>\n",
       "      <td>0</td>\n",
       "      <td>60437</td>\n",
       "      <td>2016-04-06 10:17:21</td>\n",
       "    </tr>\n",
       "  </tbody>\n",
       "</table>\n",
       "</div>"
      ],
      "text/plain": [
       "           DateCrawled  Price VehicleType  RegistrationYear Gearbox  Power  \\\n",
       "0  2016-03-24 11:52:17    480         NaN              1993  manual      0   \n",
       "1  2016-03-24 10:58:45  18300       coupe              2011  manual    190   \n",
       "2  2016-03-14 12:52:21   9800         suv              2004    auto    163   \n",
       "3  2016-03-17 16:54:04   1500       small              2001  manual     75   \n",
       "4  2016-03-31 17:25:20   3600       small              2008  manual     69   \n",
       "\n",
       "   Model  Kilometer  RegistrationMonth  FuelType       Brand NotRepaired  \\\n",
       "0   golf     150000                  0    petrol  volkswagen         NaN   \n",
       "1    NaN     125000                  5  gasoline        audi         yes   \n",
       "2  grand     125000                  8  gasoline        jeep         NaN   \n",
       "3   golf     150000                  6    petrol  volkswagen          no   \n",
       "4  fabia      90000                  7  gasoline       skoda          no   \n",
       "\n",
       "           DateCreated  NumberOfPictures  PostalCode             LastSeen  \n",
       "0  2016-03-24 00:00:00                 0       70435  2016-04-07 03:16:57  \n",
       "1  2016-03-24 00:00:00                 0       66954  2016-04-07 01:46:50  \n",
       "2  2016-03-14 00:00:00                 0       90480  2016-04-05 12:47:46  \n",
       "3  2016-03-17 00:00:00                 0       91074  2016-03-17 17:40:17  \n",
       "4  2016-03-31 00:00:00                 0       60437  2016-04-06 10:17:21  "
      ]
     },
     "execution_count": 2,
     "metadata": {},
     "output_type": "execute_result"
    }
   ],
   "source": [
    "df = pd.read_csv('autos.csv')\n",
    "df.head()"
   ]
  },
  {
   "cell_type": "code",
   "execution_count": 3,
   "metadata": {
    "scrolled": false
   },
   "outputs": [
    {
     "name": "stdout",
     "output_type": "stream",
     "text": [
      "<class 'pandas.core.frame.DataFrame'>\n",
      "RangeIndex: 354369 entries, 0 to 354368\n",
      "Data columns (total 16 columns):\n",
      " #   Column             Non-Null Count   Dtype \n",
      "---  ------             --------------   ----- \n",
      " 0   DateCrawled        354369 non-null  object\n",
      " 1   Price              354369 non-null  int64 \n",
      " 2   VehicleType        316879 non-null  object\n",
      " 3   RegistrationYear   354369 non-null  int64 \n",
      " 4   Gearbox            334536 non-null  object\n",
      " 5   Power              354369 non-null  int64 \n",
      " 6   Model              334664 non-null  object\n",
      " 7   Kilometer          354369 non-null  int64 \n",
      " 8   RegistrationMonth  354369 non-null  int64 \n",
      " 9   FuelType           321474 non-null  object\n",
      " 10  Brand              354369 non-null  object\n",
      " 11  NotRepaired        283215 non-null  object\n",
      " 12  DateCreated        354369 non-null  object\n",
      " 13  NumberOfPictures   354369 non-null  int64 \n",
      " 14  PostalCode         354369 non-null  int64 \n",
      " 15  LastSeen           354369 non-null  object\n",
      "dtypes: int64(7), object(9)\n",
      "memory usage: 43.3+ MB\n"
     ]
    }
   ],
   "source": [
    "df.info()"
   ]
  },
  {
   "cell_type": "markdown",
   "metadata": {},
   "source": [
    "Для обучения модели нам понадобятся признаки 'VehicleType', 'Gearbox', 'RegistrationYear', 'Power', 'Kilometer', 'FuelType', 'NotRepaired', 'Price'\n",
    "Так как в них присутствуют пропущенные значения, попытаемся заполнить их пользуясь брендом и моделью машины. Создадим новый признак Name"
   ]
  },
  {
   "cell_type": "code",
   "execution_count": 4,
   "metadata": {},
   "outputs": [],
   "source": [
    "df['Name'] = df['Brand'] + ' ' + df['Model']"
   ]
  },
  {
   "cell_type": "code",
   "execution_count": 5,
   "metadata": {},
   "outputs": [],
   "source": [
    "# заполняем пропуски в VehicleType\n",
    "names_vt = [name for name in list(df[df['VehicleType'].isna()]['Name'].unique()) if isinstance(name, str) == True]\n",
    "\n",
    "for name in names_vt:\n",
    "    df.loc[(df['Name']==name)&(df['VehicleType'].isna()), 'VehicleType'] = df[df['Name']==name]['VehicleType'].value_counts().index[0]"
   ]
  },
  {
   "cell_type": "code",
   "execution_count": 6,
   "metadata": {},
   "outputs": [
    {
     "data": {
      "text/plain": [
       "6828"
      ]
     },
     "execution_count": 6,
     "metadata": {},
     "output_type": "execute_result"
    }
   ],
   "source": [
    "df['VehicleType'].isna().sum()"
   ]
  },
  {
   "cell_type": "markdown",
   "metadata": {},
   "source": [
    "Несколько пропущенных значений остались, потому что у некоторых машин признак Name имеет значение NaN  \n",
    "Таким же образом заполним пропуски в Gearbox"
   ]
  },
  {
   "cell_type": "code",
   "execution_count": 7,
   "metadata": {},
   "outputs": [],
   "source": [
    "# заполняем пропуски в Gearbox\n",
    "names_gb = [name for name in list(df[df['Gearbox'].isna()]['Name'].unique()) if isinstance(name, str) == True]\n",
    "\n",
    "for name in names_gb:\n",
    "    df.loc[(df['Name']==name)&(df['Gearbox'].isna()), 'Gearbox'] = df[df['Name']==name]['Gearbox'].value_counts().index[0]"
   ]
  },
  {
   "cell_type": "code",
   "execution_count": 8,
   "metadata": {},
   "outputs": [
    {
     "data": {
      "text/plain": [
       "4131"
      ]
     },
     "execution_count": 8,
     "metadata": {},
     "output_type": "execute_result"
    }
   ],
   "source": [
    "df['Gearbox'].isna().sum()"
   ]
  },
  {
   "cell_type": "markdown",
   "metadata": {},
   "source": [
    "Большинство пропущенных значений заполнены)  \n",
    "Остался признак FuelType"
   ]
  },
  {
   "cell_type": "code",
   "execution_count": 9,
   "metadata": {},
   "outputs": [],
   "source": [
    "# заполняем пропуски в FuelType\n",
    "names_ft = [name for name in list(df[df['FuelType'].isna()]['Name'].unique()) if isinstance(name, str) == True]\n",
    "\n",
    "for name in names_gb:\n",
    "    df.loc[(df['Name']==name)&(df['FuelType'].isna()), 'FuelType'] = df[df['Name']==name]['FuelType'].value_counts().index[0]"
   ]
  },
  {
   "cell_type": "code",
   "execution_count": 10,
   "metadata": {},
   "outputs": [
    {
     "data": {
      "text/plain": [
       "7184"
      ]
     },
     "execution_count": 10,
     "metadata": {},
     "output_type": "execute_result"
    }
   ],
   "source": [
    "df['FuelType'].isna().sum()"
   ]
  },
  {
   "cell_type": "markdown",
   "metadata": {},
   "source": [
    "Удалим оставшиеся пропущенные значения в интересующих нас признаков"
   ]
  },
  {
   "cell_type": "code",
   "execution_count": 11,
   "metadata": {},
   "outputs": [],
   "source": [
    "df = df.dropna(subset=['VehicleType', 'Gearbox', 'Power', 'Kilometer', 'FuelType', 'NotRepaired', 'Price'], axis=0).reset_index(drop=True)"
   ]
  },
  {
   "cell_type": "markdown",
   "metadata": {},
   "source": [
    "Также посмотрим на дубликаты"
   ]
  },
  {
   "cell_type": "code",
   "execution_count": 12,
   "metadata": {},
   "outputs": [
    {
     "data": {
      "text/plain": [
       "4"
      ]
     },
     "execution_count": 12,
     "metadata": {},
     "output_type": "execute_result"
    }
   ],
   "source": [
    "df.duplicated().sum()"
   ]
  },
  {
   "cell_type": "code",
   "execution_count": 13,
   "metadata": {},
   "outputs": [],
   "source": [
    "df = df.drop_duplicates().reset_index(drop=True)"
   ]
  },
  {
   "cell_type": "markdown",
   "metadata": {},
   "source": [
    "Подготовим данные для модели"
   ]
  },
  {
   "cell_type": "code",
   "execution_count": 14,
   "metadata": {
    "scrolled": true
   },
   "outputs": [
    {
     "data": {
      "text/html": [
       "<div>\n",
       "<style scoped>\n",
       "    .dataframe tbody tr th:only-of-type {\n",
       "        vertical-align: middle;\n",
       "    }\n",
       "\n",
       "    .dataframe tbody tr th {\n",
       "        vertical-align: top;\n",
       "    }\n",
       "\n",
       "    .dataframe thead th {\n",
       "        text-align: right;\n",
       "    }\n",
       "</style>\n",
       "<table border=\"1\" class=\"dataframe\">\n",
       "  <thead>\n",
       "    <tr style=\"text-align: right;\">\n",
       "      <th></th>\n",
       "      <th>VehicleType</th>\n",
       "      <th>Gearbox</th>\n",
       "      <th>Power</th>\n",
       "      <th>Kilometer</th>\n",
       "      <th>FuelType</th>\n",
       "      <th>NotRepaired</th>\n",
       "      <th>Price</th>\n",
       "      <th>RegistrationYear</th>\n",
       "    </tr>\n",
       "  </thead>\n",
       "  <tbody>\n",
       "    <tr>\n",
       "      <th>0</th>\n",
       "      <td>coupe</td>\n",
       "      <td>manual</td>\n",
       "      <td>190</td>\n",
       "      <td>125000</td>\n",
       "      <td>gasoline</td>\n",
       "      <td>yes</td>\n",
       "      <td>18300</td>\n",
       "      <td>2011</td>\n",
       "    </tr>\n",
       "    <tr>\n",
       "      <th>1</th>\n",
       "      <td>small</td>\n",
       "      <td>manual</td>\n",
       "      <td>75</td>\n",
       "      <td>150000</td>\n",
       "      <td>petrol</td>\n",
       "      <td>no</td>\n",
       "      <td>1500</td>\n",
       "      <td>2001</td>\n",
       "    </tr>\n",
       "    <tr>\n",
       "      <th>2</th>\n",
       "      <td>small</td>\n",
       "      <td>manual</td>\n",
       "      <td>69</td>\n",
       "      <td>90000</td>\n",
       "      <td>gasoline</td>\n",
       "      <td>no</td>\n",
       "      <td>3600</td>\n",
       "      <td>2008</td>\n",
       "    </tr>\n",
       "    <tr>\n",
       "      <th>3</th>\n",
       "      <td>sedan</td>\n",
       "      <td>manual</td>\n",
       "      <td>102</td>\n",
       "      <td>150000</td>\n",
       "      <td>petrol</td>\n",
       "      <td>yes</td>\n",
       "      <td>650</td>\n",
       "      <td>1995</td>\n",
       "    </tr>\n",
       "    <tr>\n",
       "      <th>4</th>\n",
       "      <td>convertible</td>\n",
       "      <td>manual</td>\n",
       "      <td>109</td>\n",
       "      <td>150000</td>\n",
       "      <td>petrol</td>\n",
       "      <td>no</td>\n",
       "      <td>2200</td>\n",
       "      <td>2004</td>\n",
       "    </tr>\n",
       "  </tbody>\n",
       "</table>\n",
       "</div>"
      ],
      "text/plain": [
       "   VehicleType Gearbox  Power  Kilometer  FuelType NotRepaired  Price  \\\n",
       "0        coupe  manual    190     125000  gasoline         yes  18300   \n",
       "1        small  manual     75     150000    petrol          no   1500   \n",
       "2        small  manual     69      90000  gasoline          no   3600   \n",
       "3        sedan  manual    102     150000    petrol         yes    650   \n",
       "4  convertible  manual    109     150000    petrol          no   2200   \n",
       "\n",
       "   RegistrationYear  \n",
       "0              2011  \n",
       "1              2001  \n",
       "2              2008  \n",
       "3              1995  \n",
       "4              2004  "
      ]
     },
     "execution_count": 14,
     "metadata": {},
     "output_type": "execute_result"
    }
   ],
   "source": [
    "data_for_model = df[['VehicleType', 'Gearbox', 'Power', 'Kilometer', 'FuelType', 'NotRepaired', 'Price', 'RegistrationYear']]\n",
    "data_for_model.head()"
   ]
  },
  {
   "cell_type": "markdown",
   "metadata": {},
   "source": [
    "Проведем предобработку, чтобы в модель попали чистые данные"
   ]
  },
  {
   "cell_type": "code",
   "execution_count": 15,
   "metadata": {},
   "outputs": [
    {
     "data": {
      "image/png": "[encoded data removed]",
      "text/plain": [
       "<Figure size 432x288 with 1 Axes>"
      ]
     },
     "metadata": {
      "needs_background": "light"
     },
     "output_type": "display_data"
    }
   ],
   "source": [
    "plt.hist(data_for_model['Power'])\n",
    "plt.title('Power')\n",
    "plt.show()"
   ]
  },
  {
   "cell_type": "code",
   "execution_count": 16,
   "metadata": {},
   "outputs": [
    {
     "data": {
      "text/plain": [
       "(0, 20000)"
      ]
     },
     "execution_count": 16,
     "metadata": {},
     "output_type": "execute_result"
    }
   ],
   "source": [
    "data_for_model['Power'].min(), data_for_model['Power'].max()"
   ]
  },
  {
   "cell_type": "markdown",
   "metadata": {},
   "source": [
    "Присутствуют выбросы и нулевые значения в столбце Power. Избавимся от них с помощью процентилей"
   ]
  },
  {
   "cell_type": "code",
   "execution_count": 17,
   "metadata": {},
   "outputs": [
    {
     "name": "stdout",
     "output_type": "stream",
     "text": [
      "54.0 306.0\n"
     ]
    }
   ],
   "source": [
    "max_threshold = data_for_model['Power'].quantile(0.99)\n",
    "min_threshold = data_for_model['Power'].quantile(0.1)\n",
    "print(min_threshold, max_threshold)"
   ]
  },
  {
   "cell_type": "code",
   "execution_count": 18,
   "metadata": {},
   "outputs": [
    {
     "data": {
      "image/png": "[encoded data removed]",
      "text/plain": [
       "<Figure size 432x288 with 1 Axes>"
      ]
     },
     "metadata": {
      "needs_background": "light"
     },
     "output_type": "display_data"
    }
   ],
   "source": [
    "data_for_model = data_for_model[(data_for_model['Power'] < max_threshold) & (data_for_model['Power'] > min_threshold)]\n",
    "\n",
    "plt.hist(data_for_model['Power'])\n",
    "plt.title('Power')\n",
    "plt.show()"
   ]
  },
  {
   "cell_type": "markdown",
   "metadata": {},
   "source": [
    "Теперь распределение выглядит лучше)"
   ]
  },
  {
   "cell_type": "code",
   "execution_count": 19,
   "metadata": {
    "scrolled": true
   },
   "outputs": [
    {
     "data": {
      "image/png": "[encoded data removed]",
      "text/plain": [
       "<Figure size 432x288 with 1 Axes>"
      ]
     },
     "metadata": {
      "needs_background": "light"
     },
     "output_type": "display_data"
    }
   ],
   "source": [
    "plt.hist(data_for_model['Kilometer'])\n",
    "plt.title('Kilometer')\n",
    "plt.show()"
   ]
  },
  {
   "cell_type": "markdown",
   "metadata": {},
   "source": [
    "Большинство значений в столбце Kilometer находится районе 15000. Нулевых значений нет"
   ]
  },
  {
   "cell_type": "code",
   "execution_count": 20,
   "metadata": {
    "scrolled": true
   },
   "outputs": [
    {
     "data": {
      "image/png": "[encoded data removed]",
      "text/plain": [
       "<Figure size 432x288 with 1 Axes>"
      ]
     },
     "metadata": {
      "needs_background": "light"
     },
     "output_type": "display_data"
    }
   ],
   "source": [
    "plt.hist(data_for_model['Price'], bins=50)\n",
    "plt.title('Price')\n",
    "plt.show()"
   ]
  },
  {
   "cell_type": "markdown",
   "metadata": {},
   "source": [
    "Присутствуют много нулевых значений в столбце Price"
   ]
  },
  {
   "cell_type": "code",
   "execution_count": 21,
   "metadata": {},
   "outputs": [
    {
     "data": {
      "image/png": "[encoded data removed]",
      "text/plain": [
       "<Figure size 432x288 with 1 Axes>"
      ]
     },
     "metadata": {
      "needs_background": "light"
     },
     "output_type": "display_data"
    }
   ],
   "source": [
    "data_for_model = data_for_model[data_for_model['Price'] > 1000]\n",
    "\n",
    "plt.hist(data_for_model['Price'], bins=50)\n",
    "plt.title('Price')\n",
    "plt.show()"
   ]
  },
  {
   "cell_type": "code",
   "execution_count": 22,
   "metadata": {},
   "outputs": [
    {
     "data": {
      "image/png": "[encoded data removed]",
      "text/plain": [
       "<Figure size 432x288 with 1 Axes>"
      ]
     },
     "metadata": {
      "needs_background": "light"
     },
     "output_type": "display_data"
    }
   ],
   "source": [
    "plt.hist(data_for_model['RegistrationYear'])\n",
    "plt.title('RegistrationYear')\n",
    "plt.show()"
   ]
  },
  {
   "cell_type": "markdown",
   "metadata": {},
   "source": [
    "Есть сильные выбросы в годе регистрации автомобиля. Так же избавимся от них с помощью процентилей"
   ]
  },
  {
   "cell_type": "code",
   "execution_count": 23,
   "metadata": {
    "scrolled": true
   },
   "outputs": [
    {
     "data": {
      "image/png": "[encoded data removed]",
      "text/plain": [
       "<Figure size 432x288 with 1 Axes>"
      ]
     },
     "metadata": {
      "needs_background": "light"
     },
     "output_type": "display_data"
    }
   ],
   "source": [
    "min_threshold = data_for_model['RegistrationYear'].quantile(0.01) # 1985\n",
    "data_for_model = data_for_model[data_for_model['RegistrationYear'] > min_threshold]\n",
    "\n",
    "plt.hist(data_for_model['RegistrationYear'])\n",
    "plt.title('RegistrationYear')\n",
    "plt.show()"
   ]
  },
  {
   "cell_type": "markdown",
   "metadata": {},
   "source": [
    "# Моделирование"
   ]
  },
  {
   "cell_type": "markdown",
   "metadata": {},
   "source": [
    "Разделим данные на матрицу признаков и вектор ответов"
   ]
  },
  {
   "cell_type": "code",
   "execution_count": 24,
   "metadata": {},
   "outputs": [],
   "source": [
    "X = data_for_model.drop('Price', axis=1)\n",
    "y = data_for_model['Price']"
   ]
  },
  {
   "cell_type": "markdown",
   "metadata": {},
   "source": [
    "Преобразуем категориальные признаки в численный, пользуясь техникой OneHotEncoding"
   ]
  },
  {
   "cell_type": "code",
   "execution_count": 25,
   "metadata": {
    "scrolled": true
   },
   "outputs": [
    {
     "data": {
      "text/html": [
       "<div>\n",
       "<style scoped>\n",
       "    .dataframe tbody tr th:only-of-type {\n",
       "        vertical-align: middle;\n",
       "    }\n",
       "\n",
       "    .dataframe tbody tr th {\n",
       "        vertical-align: top;\n",
       "    }\n",
       "\n",
       "    .dataframe thead th {\n",
       "        text-align: right;\n",
       "    }\n",
       "</style>\n",
       "<table border=\"1\" class=\"dataframe\">\n",
       "  <thead>\n",
       "    <tr style=\"text-align: right;\">\n",
       "      <th></th>\n",
       "      <th>Power</th>\n",
       "      <th>Kilometer</th>\n",
       "      <th>RegistrationYear</th>\n",
       "      <th>VehicleType_convertible</th>\n",
       "      <th>VehicleType_coupe</th>\n",
       "      <th>VehicleType_other</th>\n",
       "      <th>VehicleType_sedan</th>\n",
       "      <th>VehicleType_small</th>\n",
       "      <th>VehicleType_suv</th>\n",
       "      <th>VehicleType_wagon</th>\n",
       "      <th>Gearbox_manual</th>\n",
       "      <th>FuelType_electric</th>\n",
       "      <th>FuelType_gasoline</th>\n",
       "      <th>FuelType_hybrid</th>\n",
       "      <th>FuelType_lpg</th>\n",
       "      <th>FuelType_other</th>\n",
       "      <th>FuelType_petrol</th>\n",
       "      <th>NotRepaired_yes</th>\n",
       "    </tr>\n",
       "  </thead>\n",
       "  <tbody>\n",
       "    <tr>\n",
       "      <th>0</th>\n",
       "      <td>190</td>\n",
       "      <td>125000</td>\n",
       "      <td>2011</td>\n",
       "      <td>0</td>\n",
       "      <td>1</td>\n",
       "      <td>0</td>\n",
       "      <td>0</td>\n",
       "      <td>0</td>\n",
       "      <td>0</td>\n",
       "      <td>0</td>\n",
       "      <td>1</td>\n",
       "      <td>0</td>\n",
       "      <td>1</td>\n",
       "      <td>0</td>\n",
       "      <td>0</td>\n",
       "      <td>0</td>\n",
       "      <td>0</td>\n",
       "      <td>1</td>\n",
       "    </tr>\n",
       "    <tr>\n",
       "      <th>1</th>\n",
       "      <td>75</td>\n",
       "      <td>150000</td>\n",
       "      <td>2001</td>\n",
       "      <td>0</td>\n",
       "      <td>0</td>\n",
       "      <td>0</td>\n",
       "      <td>0</td>\n",
       "      <td>1</td>\n",
       "      <td>0</td>\n",
       "      <td>0</td>\n",
       "      <td>1</td>\n",
       "      <td>0</td>\n",
       "      <td>0</td>\n",
       "      <td>0</td>\n",
       "      <td>0</td>\n",
       "      <td>0</td>\n",
       "      <td>1</td>\n",
       "      <td>0</td>\n",
       "    </tr>\n",
       "    <tr>\n",
       "      <th>2</th>\n",
       "      <td>69</td>\n",
       "      <td>90000</td>\n",
       "      <td>2008</td>\n",
       "      <td>0</td>\n",
       "      <td>0</td>\n",
       "      <td>0</td>\n",
       "      <td>0</td>\n",
       "      <td>1</td>\n",
       "      <td>0</td>\n",
       "      <td>0</td>\n",
       "      <td>1</td>\n",
       "      <td>0</td>\n",
       "      <td>1</td>\n",
       "      <td>0</td>\n",
       "      <td>0</td>\n",
       "      <td>0</td>\n",
       "      <td>0</td>\n",
       "      <td>0</td>\n",
       "    </tr>\n",
       "    <tr>\n",
       "      <th>4</th>\n",
       "      <td>109</td>\n",
       "      <td>150000</td>\n",
       "      <td>2004</td>\n",
       "      <td>1</td>\n",
       "      <td>0</td>\n",
       "      <td>0</td>\n",
       "      <td>0</td>\n",
       "      <td>0</td>\n",
       "      <td>0</td>\n",
       "      <td>0</td>\n",
       "      <td>1</td>\n",
       "      <td>0</td>\n",
       "      <td>0</td>\n",
       "      <td>0</td>\n",
       "      <td>0</td>\n",
       "      <td>0</td>\n",
       "      <td>1</td>\n",
       "      <td>0</td>\n",
       "    </tr>\n",
       "    <tr>\n",
       "      <th>6</th>\n",
       "      <td>105</td>\n",
       "      <td>150000</td>\n",
       "      <td>2004</td>\n",
       "      <td>0</td>\n",
       "      <td>0</td>\n",
       "      <td>0</td>\n",
       "      <td>1</td>\n",
       "      <td>0</td>\n",
       "      <td>0</td>\n",
       "      <td>0</td>\n",
       "      <td>1</td>\n",
       "      <td>0</td>\n",
       "      <td>0</td>\n",
       "      <td>0</td>\n",
       "      <td>0</td>\n",
       "      <td>0</td>\n",
       "      <td>1</td>\n",
       "      <td>0</td>\n",
       "    </tr>\n",
       "  </tbody>\n",
       "</table>\n",
       "</div>"
      ],
      "text/plain": [
       "   Power  Kilometer  RegistrationYear  VehicleType_convertible  \\\n",
       "0    190     125000              2011                        0   \n",
       "1     75     150000              2001                        0   \n",
       "2     69      90000              2008                        0   \n",
       "4    109     150000              2004                        1   \n",
       "6    105     150000              2004                        0   \n",
       "\n",
       "   VehicleType_coupe  VehicleType_other  VehicleType_sedan  VehicleType_small  \\\n",
       "0                  1                  0                  0                  0   \n",
       "1                  0                  0                  0                  1   \n",
       "2                  0                  0                  0                  1   \n",
       "4                  0                  0                  0                  0   \n",
       "6                  0                  0                  1                  0   \n",
       "\n",
       "   VehicleType_suv  VehicleType_wagon  Gearbox_manual  FuelType_electric  \\\n",
       "0                0                  0               1                  0   \n",
       "1                0                  0               1                  0   \n",
       "2                0                  0               1                  0   \n",
       "4                0                  0               1                  0   \n",
       "6                0                  0               1                  0   \n",
       "\n",
       "   FuelType_gasoline  FuelType_hybrid  FuelType_lpg  FuelType_other  \\\n",
       "0                  1                0             0               0   \n",
       "1                  0                0             0               0   \n",
       "2                  1                0             0               0   \n",
       "4                  0                0             0               0   \n",
       "6                  0                0             0               0   \n",
       "\n",
       "   FuelType_petrol  NotRepaired_yes  \n",
       "0                0                1  \n",
       "1                1                0  \n",
       "2                0                0  \n",
       "4                1                0  \n",
       "6                1                0  "
      ]
     },
     "execution_count": 25,
     "metadata": {},
     "output_type": "execute_result"
    }
   ],
   "source": [
    "X = pd.get_dummies(X, drop_first=True)\n",
    "X.head()"
   ]
  },
  {
   "cell_type": "markdown",
   "metadata": {},
   "source": [
    "Разделим на обучающую и тестовую выборки"
   ]
  },
  {
   "cell_type": "code",
   "execution_count": 26,
   "metadata": {},
   "outputs": [],
   "source": [
    "X_train, X_test, y_train, y_test = train_test_split(X, y, test_size=0.3, random_state=RAND)"
   ]
  },
  {
   "cell_type": "code",
   "execution_count": 27,
   "metadata": {},
   "outputs": [
    {
     "data": {
      "text/plain": [
       "((141565, 18), (60671, 18))"
      ]
     },
     "execution_count": 27,
     "metadata": {},
     "output_type": "execute_result"
    }
   ],
   "source": [
    "X_train.shape, X_test.shape"
   ]
  },
  {
   "cell_type": "markdown",
   "metadata": {},
   "source": [
    "Также масштабируем признаки, чтобы все имели равносильное влияние на работу модели"
   ]
  },
  {
   "cell_type": "code",
   "execution_count": 28,
   "metadata": {},
   "outputs": [],
   "source": [
    "numeric = ['Power', 'Kilometer', 'RegistrationYear']\n",
    "scaler = MinMaxScaler()\n",
    "scaler.fit(X_train[numeric])\n",
    "X_train[numeric] = scaler.transform(X_train[numeric])\n",
    "X_test[numeric] = scaler.transform(X_test[numeric])"
   ]
  },
  {
   "cell_type": "code",
   "execution_count": 29,
   "metadata": {},
   "outputs": [
    {
     "data": {
      "text/html": [
       "<div>\n",
       "<style scoped>\n",
       "    .dataframe tbody tr th:only-of-type {\n",
       "        vertical-align: middle;\n",
       "    }\n",
       "\n",
       "    .dataframe tbody tr th {\n",
       "        vertical-align: top;\n",
       "    }\n",
       "\n",
       "    .dataframe thead th {\n",
       "        text-align: right;\n",
       "    }\n",
       "</style>\n",
       "<table border=\"1\" class=\"dataframe\">\n",
       "  <thead>\n",
       "    <tr style=\"text-align: right;\">\n",
       "      <th></th>\n",
       "      <th>Power</th>\n",
       "      <th>Kilometer</th>\n",
       "      <th>RegistrationYear</th>\n",
       "      <th>VehicleType_convertible</th>\n",
       "      <th>VehicleType_coupe</th>\n",
       "      <th>VehicleType_other</th>\n",
       "      <th>VehicleType_sedan</th>\n",
       "      <th>VehicleType_small</th>\n",
       "      <th>VehicleType_suv</th>\n",
       "      <th>VehicleType_wagon</th>\n",
       "      <th>Gearbox_manual</th>\n",
       "      <th>FuelType_electric</th>\n",
       "      <th>FuelType_gasoline</th>\n",
       "      <th>FuelType_hybrid</th>\n",
       "      <th>FuelType_lpg</th>\n",
       "      <th>FuelType_other</th>\n",
       "      <th>FuelType_petrol</th>\n",
       "      <th>NotRepaired_yes</th>\n",
       "    </tr>\n",
       "  </thead>\n",
       "  <tbody>\n",
       "    <tr>\n",
       "      <th>15450</th>\n",
       "      <td>0.200</td>\n",
       "      <td>1.0</td>\n",
       "      <td>0.454545</td>\n",
       "      <td>0</td>\n",
       "      <td>0</td>\n",
       "      <td>0</td>\n",
       "      <td>0</td>\n",
       "      <td>1</td>\n",
       "      <td>0</td>\n",
       "      <td>0</td>\n",
       "      <td>1</td>\n",
       "      <td>0</td>\n",
       "      <td>0</td>\n",
       "      <td>0</td>\n",
       "      <td>0</td>\n",
       "      <td>0</td>\n",
       "      <td>1</td>\n",
       "      <td>0</td>\n",
       "    </tr>\n",
       "    <tr>\n",
       "      <th>122857</th>\n",
       "      <td>0.460</td>\n",
       "      <td>1.0</td>\n",
       "      <td>0.424242</td>\n",
       "      <td>1</td>\n",
       "      <td>0</td>\n",
       "      <td>0</td>\n",
       "      <td>0</td>\n",
       "      <td>0</td>\n",
       "      <td>0</td>\n",
       "      <td>0</td>\n",
       "      <td>0</td>\n",
       "      <td>0</td>\n",
       "      <td>0</td>\n",
       "      <td>0</td>\n",
       "      <td>0</td>\n",
       "      <td>0</td>\n",
       "      <td>1</td>\n",
       "      <td>0</td>\n",
       "    </tr>\n",
       "    <tr>\n",
       "      <th>263458</th>\n",
       "      <td>0.380</td>\n",
       "      <td>1.0</td>\n",
       "      <td>0.393939</td>\n",
       "      <td>0</td>\n",
       "      <td>0</td>\n",
       "      <td>0</td>\n",
       "      <td>0</td>\n",
       "      <td>0</td>\n",
       "      <td>0</td>\n",
       "      <td>0</td>\n",
       "      <td>1</td>\n",
       "      <td>0</td>\n",
       "      <td>0</td>\n",
       "      <td>0</td>\n",
       "      <td>0</td>\n",
       "      <td>0</td>\n",
       "      <td>1</td>\n",
       "      <td>0</td>\n",
       "    </tr>\n",
       "    <tr>\n",
       "      <th>12171</th>\n",
       "      <td>0.340</td>\n",
       "      <td>1.0</td>\n",
       "      <td>0.757576</td>\n",
       "      <td>0</td>\n",
       "      <td>0</td>\n",
       "      <td>0</td>\n",
       "      <td>0</td>\n",
       "      <td>0</td>\n",
       "      <td>0</td>\n",
       "      <td>1</td>\n",
       "      <td>1</td>\n",
       "      <td>0</td>\n",
       "      <td>1</td>\n",
       "      <td>0</td>\n",
       "      <td>0</td>\n",
       "      <td>0</td>\n",
       "      <td>0</td>\n",
       "      <td>1</td>\n",
       "    </tr>\n",
       "    <tr>\n",
       "      <th>238360</th>\n",
       "      <td>0.548</td>\n",
       "      <td>1.0</td>\n",
       "      <td>0.606061</td>\n",
       "      <td>0</td>\n",
       "      <td>1</td>\n",
       "      <td>0</td>\n",
       "      <td>0</td>\n",
       "      <td>0</td>\n",
       "      <td>0</td>\n",
       "      <td>0</td>\n",
       "      <td>1</td>\n",
       "      <td>0</td>\n",
       "      <td>0</td>\n",
       "      <td>0</td>\n",
       "      <td>0</td>\n",
       "      <td>0</td>\n",
       "      <td>1</td>\n",
       "      <td>0</td>\n",
       "    </tr>\n",
       "  </tbody>\n",
       "</table>\n",
       "</div>"
      ],
      "text/plain": [
       "        Power  Kilometer  RegistrationYear  VehicleType_convertible  \\\n",
       "15450   0.200        1.0          0.454545                        0   \n",
       "122857  0.460        1.0          0.424242                        1   \n",
       "263458  0.380        1.0          0.393939                        0   \n",
       "12171   0.340        1.0          0.757576                        0   \n",
       "238360  0.548        1.0          0.606061                        0   \n",
       "\n",
       "        VehicleType_coupe  VehicleType_other  VehicleType_sedan  \\\n",
       "15450                   0                  0                  0   \n",
       "122857                  0                  0                  0   \n",
       "263458                  0                  0                  0   \n",
       "12171                   0                  0                  0   \n",
       "238360                  1                  0                  0   \n",
       "\n",
       "        VehicleType_small  VehicleType_suv  VehicleType_wagon  Gearbox_manual  \\\n",
       "15450                   1                0                  0               1   \n",
       "122857                  0                0                  0               0   \n",
       "263458                  0                0                  0               1   \n",
       "12171                   0                0                  1               1   \n",
       "238360                  0                0                  0               1   \n",
       "\n",
       "        FuelType_electric  FuelType_gasoline  FuelType_hybrid  FuelType_lpg  \\\n",
       "15450                   0                  0                0             0   \n",
       "122857                  0                  0                0             0   \n",
       "263458                  0                  0                0             0   \n",
       "12171                   0                  1                0             0   \n",
       "238360                  0                  0                0             0   \n",
       "\n",
       "        FuelType_other  FuelType_petrol  NotRepaired_yes  \n",
       "15450                0                1                0  \n",
       "122857               0                1                0  \n",
       "263458               0                1                0  \n",
       "12171                0                0                1  \n",
       "238360               0                1                0  "
      ]
     },
     "execution_count": 29,
     "metadata": {},
     "output_type": "execute_result"
    }
   ],
   "source": [
    "X_train.head()"
   ]
  },
  {
   "cell_type": "code",
   "execution_count": 30,
   "metadata": {},
   "outputs": [],
   "source": [
    "# функция для расчета rmse\n",
    "\n",
    "def rmse(predict, actual):\n",
    "    predict = np.array(predict)\n",
    "    actual = np.array(actual)\n",
    "\n",
    "    distance = predict - actual\n",
    "\n",
    "    square_distance = distance ** 2\n",
    "\n",
    "    mean_square_distance = square_distance.mean()\n",
    "\n",
    "    score = np.sqrt(mean_square_distance)\n",
    "\n",
    "    return score"
   ]
  },
  {
   "cell_type": "code",
   "execution_count": 31,
   "metadata": {},
   "outputs": [],
   "source": [
    "rmse_score = make_scorer(rmse, greater_is_better = False)"
   ]
  },
  {
   "cell_type": "markdown",
   "metadata": {},
   "source": [
    "Проверим значение метрики на константной модели, которая каждый раз предсказывает среднее значение "
   ]
  },
  {
   "cell_type": "code",
   "execution_count": 32,
   "metadata": {},
   "outputs": [
    {
     "data": {
      "text/plain": [
       "4587.710337917496"
      ]
     },
     "execution_count": 32,
     "metadata": {},
     "output_type": "execute_result"
    }
   ],
   "source": [
    "y_test_mean = pd.Series(y_test.mean(), index=y_test.index)\n",
    "rmse(y_test_mean, y_test)"
   ]
  },
  {
   "cell_type": "markdown",
   "metadata": {},
   "source": [
    "## Baseline"
   ]
  },
  {
   "cell_type": "markdown",
   "metadata": {},
   "source": [
    "### Linear Regression"
   ]
  },
  {
   "cell_type": "code",
   "execution_count": 33,
   "metadata": {},
   "outputs": [],
   "source": [
    "model = LinearRegression()"
   ]
  },
  {
   "cell_type": "code",
   "execution_count": 34,
   "metadata": {},
   "outputs": [
    {
     "name": "stdout",
     "output_type": "stream",
     "text": [
      "Wall time: 257 ms\n"
     ]
    },
    {
     "data": {
      "text/plain": [
       "LinearRegression()"
      ]
     },
     "execution_count": 34,
     "metadata": {},
     "output_type": "execute_result"
    }
   ],
   "source": [
    "%%time\n",
    "\n",
    "model.fit(X_train, y_train)"
   ]
  },
  {
   "cell_type": "code",
   "execution_count": 35,
   "metadata": {},
   "outputs": [
    {
     "name": "stdout",
     "output_type": "stream",
     "text": [
      "Wall time: 22 ms\n"
     ]
    }
   ],
   "source": [
    "%%time\n",
    "\n",
    "y_pred = model.predict(X_test)"
   ]
  },
  {
   "cell_type": "code",
   "execution_count": 36,
   "metadata": {},
   "outputs": [
    {
     "data": {
      "text/plain": [
       "2783.88695005378"
      ]
     },
     "execution_count": 36,
     "metadata": {},
     "output_type": "execute_result"
    }
   ],
   "source": [
    "rmse(y_pred, y_test)"
   ]
  },
  {
   "cell_type": "markdown",
   "metadata": {},
   "source": [
    "### Random Forest Regressor"
   ]
  },
  {
   "cell_type": "code",
   "execution_count": 37,
   "metadata": {},
   "outputs": [],
   "source": [
    "model = RandomForestRegressor(random_state=RAND)"
   ]
  },
  {
   "cell_type": "code",
   "execution_count": 38,
   "metadata": {},
   "outputs": [
    {
     "name": "stdout",
     "output_type": "stream",
     "text": [
      "Wall time: 57.9 s\n"
     ]
    },
    {
     "data": {
      "text/plain": [
       "RandomForestRegressor(random_state=22)"
      ]
     },
     "execution_count": 38,
     "metadata": {},
     "output_type": "execute_result"
    }
   ],
   "source": [
    "%%time\n",
    "\n",
    "model.fit(X_train, y_train)"
   ]
  },
  {
   "cell_type": "code",
   "execution_count": 39,
   "metadata": {},
   "outputs": [
    {
     "name": "stdout",
     "output_type": "stream",
     "text": [
      "Wall time: 3.23 s\n"
     ]
    }
   ],
   "source": [
    "%%time\n",
    "\n",
    "y_pred = model.predict(X_test)"
   ]
  },
  {
   "cell_type": "code",
   "execution_count": 40,
   "metadata": {},
   "outputs": [
    {
     "data": {
      "text/plain": [
       "1845.1198449909043"
      ]
     },
     "execution_count": 40,
     "metadata": {},
     "output_type": "execute_result"
    }
   ],
   "source": [
    "rmse(y_pred, y_test)"
   ]
  },
  {
   "cell_type": "markdown",
   "metadata": {},
   "source": [
    "### LightGBM"
   ]
  },
  {
   "cell_type": "code",
   "execution_count": 41,
   "metadata": {},
   "outputs": [],
   "source": [
    "model = LGBMRegressor()"
   ]
  },
  {
   "cell_type": "code",
   "execution_count": 42,
   "metadata": {},
   "outputs": [
    {
     "name": "stdout",
     "output_type": "stream",
     "text": [
      "Wall time: 996 ms\n"
     ]
    },
    {
     "data": {
      "text/plain": [
       "LGBMRegressor()"
      ]
     },
     "execution_count": 42,
     "metadata": {},
     "output_type": "execute_result"
    }
   ],
   "source": [
    "%%time\n",
    "\n",
    "model.fit(X_train, y_train)"
   ]
  },
  {
   "cell_type": "code",
   "execution_count": 43,
   "metadata": {},
   "outputs": [
    {
     "name": "stdout",
     "output_type": "stream",
     "text": [
      "Wall time: 337 ms\n"
     ]
    }
   ],
   "source": [
    "%%time\n",
    "\n",
    "y_pred = model.predict(X_test)"
   ]
  },
  {
   "cell_type": "code",
   "execution_count": 44,
   "metadata": {},
   "outputs": [
    {
     "data": {
      "text/plain": [
       "1924.744901193449"
      ]
     },
     "execution_count": 44,
     "metadata": {},
     "output_type": "execute_result"
    }
   ],
   "source": [
    "rmse(y_pred, y_test)"
   ]
  },
  {
   "cell_type": "markdown",
   "metadata": {},
   "source": [
    "Дольше всех обучается алгоритм случайного леса. Худший показатель метрики RMSE у линейной регрессии. Дальше будем работать с LightGBM, так как он быстро обучается и качество у него неплохое. Думаю, если подберем гиперпараметры качество еще улучшится"
   ]
  },
  {
   "cell_type": "markdown",
   "metadata": {},
   "source": [
    "## Подбор гиперпараметров"
   ]
  },
  {
   "cell_type": "code",
   "execution_count": 45,
   "metadata": {},
   "outputs": [],
   "source": [
    "parameters_grid = {\n",
    "    'max_depth': [5, 7, 10],\n",
    "    'num_leaves': [50, 80, 110],\n",
    "    'n_estimators': [100, 300, 500]\n",
    "}\n",
    "\n",
    "model = LGBMRegressor()\n",
    "cv = StratifiedKFold(n_splits=3, shuffle=True)\n",
    "grid_cv = GridSearchCV(model, parameters_grid, scoring=rmse_score, cv=cv, verbose=1000)"
   ]
  },
  {
   "cell_type": "code",
   "execution_count": 46,
   "metadata": {
    "scrolled": true
   },
   "outputs": [],
   "source": [
    "# grid_cv.fit(X_train, y_train)"
   ]
  },
  {
   "cell_type": "code",
   "execution_count": 47,
   "metadata": {},
   "outputs": [],
   "source": [
    "# grid_cv.best_params_\n",
    "\n",
    "# {'max_depth': 10, 'n_estimators': 500, 'num_leaves': 110}"
   ]
  },
  {
   "cell_type": "code",
   "execution_count": 48,
   "metadata": {},
   "outputs": [],
   "source": [
    "parameters_grid = {\n",
    "    'max_depth': [10, 15, 20],\n",
    "    'num_leaves': [110, 130, 150],\n",
    "    'n_estimators': [500, 700, 1000]\n",
    "}\n",
    "\n",
    "model = LGBMRegressor()\n",
    "cv = StratifiedKFold(n_splits=3, shuffle=True)\n",
    "grid_cv = GridSearchCV(model, parameters_grid, scoring=rmse_score, cv=cv, verbose=1000)"
   ]
  },
  {
   "cell_type": "code",
   "execution_count": 49,
   "metadata": {
    "scrolled": true
   },
   "outputs": [],
   "source": [
    "# grid_cv.fit(X_train, y_train)"
   ]
  },
  {
   "cell_type": "code",
   "execution_count": 50,
   "metadata": {},
   "outputs": [],
   "source": [
    "# grid_cv.best_params_\n",
    "\n",
    "# {'max_depth': 20, 'n_estimators': 500, 'num_leaves': 130}"
   ]
  },
  {
   "cell_type": "code",
   "execution_count": 51,
   "metadata": {},
   "outputs": [],
   "source": [
    "parameters_grid = {\n",
    "    'max_depth': [20, 25, 30],\n",
    "    'num_leaves': [120, 130, 140],\n",
    "    'n_estimators': [400, 500, 600]\n",
    "}\n",
    "\n",
    "model = LGBMRegressor()\n",
    "cv = StratifiedKFold(n_splits=3, shuffle=True)\n",
    "grid_cv = GridSearchCV(model, parameters_grid, scoring=rmse_score, cv=cv, verbose=1000)"
   ]
  },
  {
   "cell_type": "code",
   "execution_count": 52,
   "metadata": {
    "scrolled": true
   },
   "outputs": [],
   "source": [
    "# grid_cv.fit(X_train, y_train)"
   ]
  },
  {
   "cell_type": "code",
   "execution_count": 53,
   "metadata": {},
   "outputs": [],
   "source": [
    "# grid_cv.best_params_\n",
    "\n",
    "# {'max_depth': 20, 'n_estimators': 500, 'num_leaves': 130}"
   ]
  },
  {
   "cell_type": "code",
   "execution_count": 54,
   "metadata": {},
   "outputs": [],
   "source": [
    "parameters_grid = {\n",
    "    'max_depth': [18, 20, 22],\n",
    "    'num_leaves': [128, 130, 132],\n",
    "    'n_estimators': [480, 500, 520]\n",
    "}\n",
    "\n",
    "model = LGBMRegressor()\n",
    "cv = StratifiedKFold(n_splits=3, shuffle=True)\n",
    "grid_cv = GridSearchCV(model, parameters_grid, scoring=rmse_score, cv=cv, verbose=1000)"
   ]
  },
  {
   "cell_type": "code",
   "execution_count": 55,
   "metadata": {
    "scrolled": true
   },
   "outputs": [],
   "source": [
    "# grid_cv.fit(X_train, y_train)"
   ]
  },
  {
   "cell_type": "code",
   "execution_count": 56,
   "metadata": {},
   "outputs": [],
   "source": [
    "# grid_cv.best_params_\n",
    "\n",
    "# {'max_depth': 18, 'n_estimators': 480, 'num_leaves': 130}"
   ]
  },
  {
   "cell_type": "code",
   "execution_count": 57,
   "metadata": {},
   "outputs": [],
   "source": [
    "best_params = {'max_depth': 18, 'n_estimators': 480, 'num_leaves': 130}"
   ]
  },
  {
   "cell_type": "code",
   "execution_count": 58,
   "metadata": {},
   "outputs": [],
   "source": [
    "model = LGBMRegressor(**best_params)"
   ]
  },
  {
   "cell_type": "code",
   "execution_count": 59,
   "metadata": {},
   "outputs": [
    {
     "name": "stdout",
     "output_type": "stream",
     "text": [
      "Wall time: 5.11 s\n"
     ]
    },
    {
     "data": {
      "text/plain": [
       "LGBMRegressor(max_depth=18, n_estimators=480, num_leaves=130)"
      ]
     },
     "execution_count": 59,
     "metadata": {},
     "output_type": "execute_result"
    }
   ],
   "source": [
    "%%time\n",
    "\n",
    "model.fit(X_train, y_train)"
   ]
  },
  {
   "cell_type": "code",
   "execution_count": 60,
   "metadata": {},
   "outputs": [
    {
     "name": "stdout",
     "output_type": "stream",
     "text": [
      "Wall time: 1.96 s\n"
     ]
    }
   ],
   "source": [
    "%%time\n",
    "\n",
    "y_pred = model.predict(X_test)"
   ]
  },
  {
   "cell_type": "code",
   "execution_count": 61,
   "metadata": {},
   "outputs": [
    {
     "data": {
      "text/plain": [
       "1785.9165188243405"
      ]
     },
     "execution_count": 61,
     "metadata": {},
     "output_type": "execute_result"
    }
   ],
   "source": [
    "rmse(y_pred, y_test)"
   ]
  },
  {
   "cell_type": "markdown",
   "metadata": {},
   "source": [
    "Время обучения: 5 секунд  \n",
    "Скорость предсказания: 2 секунды  \n",
    "RMSE: 1786"
   ]
  }
 ],
 "metadata": {
  "ExecuteTimeLog": [
   {
    "duration": 820,
    "start_time": "2021-11-29T07:46:59.959Z"
   },
   {
    "duration": 1171,
    "start_time": "2021-11-29T07:47:21.548Z"
   },
   {
    "duration": 32,
    "start_time": "2021-11-29T07:47:26.265Z"
   },
   {
    "duration": 158,
    "start_time": "2021-11-29T07:49:22.079Z"
   },
   {
    "duration": 183,
    "start_time": "2021-11-29T07:49:37.298Z"
   },
   {
    "duration": 8,
    "start_time": "2021-11-29T07:51:15.641Z"
   },
   {
    "duration": 52,
    "start_time": "2021-11-29T07:51:27.722Z"
   },
   {
    "duration": 20,
    "start_time": "2021-11-29T07:51:49.222Z"
   },
   {
    "duration": -46,
    "start_time": "2021-11-29T07:53:48.302Z"
   },
   {
    "duration": 48,
    "start_time": "2021-11-29T07:53:51.010Z"
   },
   {
    "duration": 28,
    "start_time": "2021-11-29T07:54:11.090Z"
   },
   {
    "duration": 30,
    "start_time": "2021-11-29T07:54:54.393Z"
   },
   {
    "duration": 212,
    "start_time": "2021-11-29T08:02:20.372Z"
   },
   {
    "duration": 27,
    "start_time": "2021-11-29T08:03:16.667Z"
   },
   {
    "duration": 46,
    "start_time": "2021-11-29T08:05:54.155Z"
   },
   {
    "duration": 789,
    "start_time": "2021-11-29T08:13:45.657Z"
   },
   {
    "duration": 1069,
    "start_time": "2021-11-29T08:13:46.449Z"
   },
   {
    "duration": 41,
    "start_time": "2021-11-29T08:13:47.521Z"
   },
   {
    "duration": 167,
    "start_time": "2021-11-29T08:13:47.564Z"
   },
   {
    "duration": 147,
    "start_time": "2021-11-29T08:16:59.773Z"
   },
   {
    "duration": 45,
    "start_time": "2021-11-29T08:17:32.220Z"
   },
   {
    "duration": 493,
    "start_time": "2021-11-29T08:18:42.861Z"
   },
   {
    "duration": 133,
    "start_time": "2021-11-29T08:19:22.558Z"
   },
   {
    "duration": 93,
    "start_time": "2021-11-29T08:21:25.345Z"
   },
   {
    "duration": 147,
    "start_time": "2021-11-29T08:21:30.358Z"
   },
   {
    "duration": 39,
    "start_time": "2021-11-29T08:21:54.028Z"
   },
   {
    "duration": 74,
    "start_time": "2021-11-29T08:22:28.978Z"
   },
   {
    "duration": 42,
    "start_time": "2021-11-29T08:22:42.855Z"
   },
   {
    "duration": 32,
    "start_time": "2021-11-29T08:22:55.185Z"
   },
   {
    "duration": 39,
    "start_time": "2021-11-29T08:23:45.335Z"
   },
   {
    "duration": 173,
    "start_time": "2021-11-29T08:25:08.507Z"
   },
   {
    "duration": 194,
    "start_time": "2021-11-29T08:25:17.825Z"
   },
   {
    "duration": 77,
    "start_time": "2021-11-29T08:29:24.058Z"
   },
   {
    "duration": 43,
    "start_time": "2021-11-29T08:29:32.820Z"
   },
   {
    "duration": 47,
    "start_time": "2021-11-29T08:36:35.575Z"
   },
   {
    "duration": 48,
    "start_time": "2021-11-29T08:36:47.035Z"
   },
   {
    "duration": 49,
    "start_time": "2021-11-29T08:36:50.632Z"
   },
   {
    "duration": 1183,
    "start_time": "2021-11-29T08:36:54.704Z"
   },
   {
    "duration": 47,
    "start_time": "2021-11-29T08:36:57.070Z"
   },
   {
    "duration": 51,
    "start_time": "2021-11-29T08:37:02.204Z"
   },
   {
    "duration": 4,
    "start_time": "2021-11-29T08:38:44.633Z"
   },
   {
    "duration": 6974,
    "start_time": "2021-11-29T08:39:12.825Z"
   },
   {
    "duration": 1106,
    "start_time": "2021-11-29T08:39:43.080Z"
   },
   {
    "duration": 7,
    "start_time": "2021-11-29T08:40:20.337Z"
   },
   {
    "duration": 27,
    "start_time": "2021-11-29T08:40:24.453Z"
   },
   {
    "duration": 60,
    "start_time": "2021-11-29T08:40:54.307Z"
   },
   {
    "duration": 5,
    "start_time": "2021-11-29T08:41:07.311Z"
   },
   {
    "duration": 5990,
    "start_time": "2021-11-29T08:41:08.023Z"
   },
   {
    "duration": 21,
    "start_time": "2021-11-29T08:41:26.989Z"
   },
   {
    "duration": 154,
    "start_time": "2021-11-29T08:41:38.601Z"
   },
   {
    "duration": 5995,
    "start_time": "2021-11-29T08:42:56.209Z"
   },
   {
    "duration": 4,
    "start_time": "2021-11-29T08:43:10.450Z"
   },
   {
    "duration": 9264,
    "start_time": "2021-11-29T08:43:11.591Z"
   },
   {
    "duration": 16506,
    "start_time": "2021-11-29T08:43:34.239Z"
   },
   {
    "duration": 266,
    "start_time": "2021-11-29T08:43:54.839Z"
   },
   {
    "duration": 6,
    "start_time": "2021-11-29T08:44:12.658Z"
   },
   {
    "duration": 1111,
    "start_time": "2021-11-29T08:44:13.332Z"
   },
   {
    "duration": 6,
    "start_time": "2021-11-29T08:44:42.791Z"
   },
   {
    "duration": 1318,
    "start_time": "2021-11-29T08:44:43.108Z"
   },
   {
    "duration": 4,
    "start_time": "2021-11-29T08:44:54.225Z"
   },
   {
    "duration": 9310,
    "start_time": "2021-11-29T08:44:55.154Z"
   },
   {
    "duration": 262,
    "start_time": "2021-11-29T08:45:06.287Z"
   },
   {
    "duration": 905,
    "start_time": "2021-11-29T09:23:53.832Z"
   },
   {
    "duration": 1106,
    "start_time": "2021-11-29T09:23:54.740Z"
   },
   {
    "duration": 40,
    "start_time": "2021-11-29T09:23:55.849Z"
   },
   {
    "duration": 168,
    "start_time": "2021-11-29T09:23:55.892Z"
   },
   {
    "duration": 232,
    "start_time": "2021-11-29T09:23:56.064Z"
   },
   {
    "duration": 45,
    "start_time": "2021-11-29T09:23:56.298Z"
   },
   {
    "duration": 104,
    "start_time": "2021-11-29T09:23:56.361Z"
   },
   {
    "duration": 136,
    "start_time": "2021-11-29T09:23:56.468Z"
   },
   {
    "duration": 39,
    "start_time": "2021-11-29T09:23:56.607Z"
   },
   {
    "duration": 105,
    "start_time": "2021-11-29T09:24:38.206Z"
   },
   {
    "duration": 133,
    "start_time": "2021-11-29T09:24:45.640Z"
   },
   {
    "duration": 41,
    "start_time": "2021-11-29T09:25:39.559Z"
   },
   {
    "duration": 105,
    "start_time": "2021-11-29T09:27:22.862Z"
   },
   {
    "duration": 130,
    "start_time": "2021-11-29T09:27:27.475Z"
   },
   {
    "duration": 96,
    "start_time": "2021-11-29T09:28:23.177Z"
   },
   {
    "duration": 126,
    "start_time": "2021-11-29T09:28:29.134Z"
   },
   {
    "duration": 132,
    "start_time": "2021-11-29T09:28:50.079Z"
   },
   {
    "duration": 7,
    "start_time": "2021-11-29T09:29:28.196Z"
   },
   {
    "duration": 43,
    "start_time": "2021-11-29T09:29:33.588Z"
   },
   {
    "duration": 123,
    "start_time": "2021-11-29T09:30:38.120Z"
   },
   {
    "duration": 802,
    "start_time": "2021-11-29T09:30:44.745Z"
   },
   {
    "duration": 1120,
    "start_time": "2021-11-29T09:30:45.550Z"
   },
   {
    "duration": 34,
    "start_time": "2021-11-29T09:30:46.674Z"
   },
   {
    "duration": 191,
    "start_time": "2021-11-29T09:30:46.712Z"
   },
   {
    "duration": 172,
    "start_time": "2021-11-29T09:30:46.906Z"
   },
   {
    "duration": 238,
    "start_time": "2021-11-29T09:31:02.576Z"
   },
   {
    "duration": 307,
    "start_time": "2021-11-29T09:32:22.704Z"
   },
   {
    "duration": 271,
    "start_time": "2021-11-29T09:32:52.583Z"
   },
   {
    "duration": 111,
    "start_time": "2021-11-29T09:32:58.345Z"
   },
   {
    "duration": 84,
    "start_time": "2021-11-29T09:46:24.612Z"
   },
   {
    "duration": 113,
    "start_time": "2021-11-29T09:49:56.803Z"
   },
   {
    "duration": 21,
    "start_time": "2021-11-29T09:50:02.950Z"
   },
   {
    "duration": 756,
    "start_time": "2021-11-29T09:50:25.705Z"
   },
   {
    "duration": 573,
    "start_time": "2021-11-29T09:50:36.064Z"
   },
   {
    "duration": 480,
    "start_time": "2021-11-29T09:51:10.222Z"
   },
   {
    "duration": 594,
    "start_time": "2021-11-29T09:52:28.252Z"
   },
   {
    "duration": 843,
    "start_time": "2021-11-29T09:57:30.216Z"
   },
   {
    "duration": 5,
    "start_time": "2021-11-29T10:11:40.632Z"
   },
   {
    "duration": 978,
    "start_time": "2021-11-29T10:12:09.063Z"
   },
   {
    "duration": 21,
    "start_time": "2021-11-29T10:13:46.871Z"
   },
   {
    "duration": 4,
    "start_time": "2021-11-29T10:14:32.627Z"
   },
   {
    "duration": 5,
    "start_time": "2021-11-29T10:14:39.565Z"
   },
   {
    "duration": 4,
    "start_time": "2021-11-29T10:14:43.181Z"
   },
   {
    "duration": 412,
    "start_time": "2021-11-29T10:16:05.623Z"
   },
   {
    "duration": 5,
    "start_time": "2021-11-29T10:16:41.141Z"
   },
   {
    "duration": 676621,
    "start_time": "2021-11-29T10:17:04.036Z"
   },
   {
    "duration": 1319,
    "start_time": "2021-11-29T10:29:40.842Z"
   },
   {
    "duration": 1256,
    "start_time": "2021-11-29T10:29:42.164Z"
   },
   {
    "duration": 53,
    "start_time": "2021-11-29T10:29:43.423Z"
   },
   {
    "duration": 187,
    "start_time": "2021-11-29T10:29:43.479Z"
   },
   {
    "duration": 169,
    "start_time": "2021-11-29T10:29:43.670Z"
   },
   {
    "duration": 968,
    "start_time": "2021-11-29T10:29:43.842Z"
   },
   {
    "duration": 159,
    "start_time": "2021-11-29T10:29:44.654Z"
   },
   {
    "duration": 158,
    "start_time": "2021-11-29T10:29:44.658Z"
   },
   {
    "duration": 148,
    "start_time": "2021-11-29T10:29:44.669Z"
   },
   {
    "duration": 124,
    "start_time": "2021-11-29T10:29:44.695Z"
   },
   {
    "duration": 116,
    "start_time": "2021-11-29T10:29:44.705Z"
   },
   {
    "duration": 114,
    "start_time": "2021-11-29T10:29:44.709Z"
   },
   {
    "duration": 929,
    "start_time": "2021-11-29T10:29:59.905Z"
   },
   {
    "duration": 25,
    "start_time": "2021-11-29T10:31:52.885Z"
   },
   {
    "duration": 13,
    "start_time": "2021-11-29T10:32:09.085Z"
   },
   {
    "duration": 384,
    "start_time": "2021-11-29T10:32:54.980Z"
   },
   {
    "duration": 72,
    "start_time": "2021-11-29T10:33:01.234Z"
   },
   {
    "duration": 28,
    "start_time": "2021-11-29T10:35:45.947Z"
   },
   {
    "duration": 14,
    "start_time": "2021-11-29T10:35:46.617Z"
   },
   {
    "duration": 75,
    "start_time": "2021-11-29T10:35:48.454Z"
   },
   {
    "duration": 150,
    "start_time": "2021-11-29T10:36:05.576Z"
   },
   {
    "duration": 583,
    "start_time": "2021-11-29T10:36:22.303Z"
   },
   {
    "duration": 101,
    "start_time": "2021-11-29T10:36:36.234Z"
   },
   {
    "duration": 15,
    "start_time": "2021-11-29T10:36:38.763Z"
   },
   {
    "duration": 12,
    "start_time": "2021-11-29T10:36:47.515Z"
   },
   {
    "duration": 108,
    "start_time": "2021-11-29T10:36:53.013Z"
   },
   {
    "duration": 67,
    "start_time": "2021-11-29T10:37:11.584Z"
   },
   {
    "duration": 5,
    "start_time": "2021-11-29T10:37:13.543Z"
   },
   {
    "duration": 5,
    "start_time": "2021-11-29T10:37:14.879Z"
   },
   {
    "duration": 46792,
    "start_time": "2021-11-29T10:37:16.272Z"
   },
   {
    "duration": 144,
    "start_time": "2021-11-29T10:38:38.297Z"
   },
   {
    "duration": 986,
    "start_time": "2021-11-29T10:38:55.464Z"
   },
   {
    "duration": 4,
    "start_time": "2021-11-29T10:39:08.079Z"
   },
   {
    "duration": 177,
    "start_time": "2021-11-29T10:39:36.096Z"
   },
   {
    "duration": 377,
    "start_time": "2021-11-29T10:40:10.537Z"
   },
   {
    "duration": 13,
    "start_time": "2021-11-29T10:40:31.852Z"
   },
   {
    "duration": 6,
    "start_time": "2021-11-29T10:40:52.255Z"
   },
   {
    "duration": 5,
    "start_time": "2021-11-29T10:41:53.647Z"
   },
   {
    "duration": 10,
    "start_time": "2021-11-29T10:42:59.064Z"
   },
   {
    "duration": 6,
    "start_time": "2021-11-29T10:43:06.247Z"
   },
   {
    "duration": 7,
    "start_time": "2021-11-29T10:43:17.846Z"
   },
   {
    "duration": 7,
    "start_time": "2021-11-29T10:43:20.509Z"
   },
   {
    "duration": 450,
    "start_time": "2021-11-29T10:43:48.181Z"
   },
   {
    "duration": 6,
    "start_time": "2021-11-29T10:44:07.943Z"
   },
   {
    "duration": 6,
    "start_time": "2021-11-29T10:44:12.136Z"
   },
   {
    "duration": 12,
    "start_time": "2021-11-29T10:46:11.073Z"
   },
   {
    "duration": 8,
    "start_time": "2021-11-29T10:46:15.936Z"
   },
   {
    "duration": 429,
    "start_time": "2021-11-29T10:47:01.204Z"
   },
   {
    "duration": 303,
    "start_time": "2021-11-29T10:47:07.680Z"
   },
   {
    "duration": 294,
    "start_time": "2021-11-29T10:47:12.754Z"
   },
   {
    "duration": 7,
    "start_time": "2021-11-29T10:47:44.754Z"
   },
   {
    "duration": 1521,
    "start_time": "2021-11-29T10:48:15.650Z"
   },
   {
    "duration": 1105,
    "start_time": "2021-11-29T10:48:18.188Z"
   },
   {
    "duration": 163,
    "start_time": "2021-11-29T10:48:25.260Z"
   },
   {
    "duration": 163,
    "start_time": "2021-11-29T10:48:28.792Z"
   },
   {
    "duration": 27,
    "start_time": "2021-11-29T10:48:33.283Z"
   },
   {
    "duration": 15,
    "start_time": "2021-11-29T10:48:39.007Z"
   },
   {
    "duration": 70,
    "start_time": "2021-11-29T10:49:01.228Z"
   },
   {
    "duration": 119,
    "start_time": "2021-11-29T10:49:05.341Z"
   },
   {
    "duration": 97,
    "start_time": "2021-11-29T10:49:16.304Z"
   },
   {
    "duration": 80,
    "start_time": "2021-11-29T10:49:23.553Z"
   },
   {
    "duration": 78,
    "start_time": "2021-11-29T10:49:32.338Z"
   },
   {
    "duration": 104,
    "start_time": "2021-11-29T10:49:49.713Z"
   },
   {
    "duration": 126,
    "start_time": "2021-11-29T10:50:17.686Z"
   },
   {
    "duration": 55,
    "start_time": "2021-11-29T10:50:34.916Z"
   },
   {
    "duration": 26,
    "start_time": "2021-11-29T10:51:01.540Z"
   },
   {
    "duration": 23,
    "start_time": "2021-11-29T10:51:50.311Z"
   },
   {
    "duration": 5,
    "start_time": "2021-11-29T10:52:41.262Z"
   },
   {
    "duration": 128,
    "start_time": "2021-11-29T10:52:47.522Z"
   },
   {
    "duration": 5,
    "start_time": "2021-11-29T10:52:50.856Z"
   },
   {
    "duration": 9,
    "start_time": "2021-11-29T10:53:06.754Z"
   },
   {
    "duration": 9,
    "start_time": "2021-11-29T10:53:20.710Z"
   },
   {
    "duration": 9,
    "start_time": "2021-11-29T10:53:35.845Z"
   },
   {
    "duration": 9,
    "start_time": "2021-11-29T10:53:40.957Z"
   },
   {
    "duration": 9,
    "start_time": "2021-11-29T10:53:50.155Z"
   },
   {
    "duration": 12,
    "start_time": "2021-11-29T10:53:56.088Z"
   },
   {
    "duration": 9,
    "start_time": "2021-11-29T10:53:56.934Z"
   },
   {
    "duration": 10,
    "start_time": "2021-11-29T10:54:01.121Z"
   },
   {
    "duration": 11,
    "start_time": "2021-11-29T10:54:04.188Z"
   },
   {
    "duration": 10,
    "start_time": "2021-11-29T10:54:09.235Z"
   },
   {
    "duration": 10,
    "start_time": "2021-11-29T10:54:13.216Z"
   },
   {
    "duration": 10,
    "start_time": "2021-11-29T10:54:13.983Z"
   },
   {
    "duration": 10,
    "start_time": "2021-11-29T10:55:26.114Z"
   },
   {
    "duration": 10,
    "start_time": "2021-11-29T10:55:29.670Z"
   },
   {
    "duration": 10,
    "start_time": "2021-11-29T10:55:32.723Z"
   },
   {
    "duration": 9,
    "start_time": "2021-11-29T10:55:35.103Z"
   },
   {
    "duration": 9,
    "start_time": "2021-11-29T10:55:40.685Z"
   },
   {
    "duration": 10,
    "start_time": "2021-11-29T10:55:45.441Z"
   },
   {
    "duration": 28,
    "start_time": "2021-11-29T10:56:17.945Z"
   },
   {
    "duration": 24,
    "start_time": "2021-11-29T10:59:11.505Z"
   },
   {
    "duration": 6,
    "start_time": "2021-11-29T11:00:53.608Z"
   },
   {
    "duration": 6,
    "start_time": "2021-11-29T11:00:58.090Z"
   },
   {
    "duration": 8,
    "start_time": "2021-11-29T11:01:38.753Z"
   },
   {
    "duration": 8,
    "start_time": "2021-11-29T11:01:42.972Z"
   },
   {
    "duration": 8,
    "start_time": "2021-11-29T11:01:49.438Z"
   },
   {
    "duration": 10,
    "start_time": "2021-11-29T11:01:54.300Z"
   },
   {
    "duration": 10,
    "start_time": "2021-11-29T11:02:01.218Z"
   },
   {
    "duration": 420,
    "start_time": "2021-11-29T11:02:30.070Z"
   },
   {
    "duration": 338,
    "start_time": "2021-11-29T11:04:35.087Z"
   },
   {
    "duration": 312,
    "start_time": "2021-11-29T11:05:10.188Z"
   },
   {
    "duration": 307,
    "start_time": "2021-11-29T11:05:18.178Z"
   },
   {
    "duration": 11,
    "start_time": "2021-11-29T11:05:51.548Z"
   },
   {
    "duration": 81,
    "start_time": "2021-11-29T11:05:53.696Z"
   },
   {
    "duration": 3,
    "start_time": "2021-11-29T11:06:28.778Z"
   },
   {
    "duration": 36,
    "start_time": "2021-11-29T11:06:32.384Z"
   },
   {
    "duration": 5,
    "start_time": "2021-11-29T11:08:05.145Z"
   },
   {
    "duration": 4,
    "start_time": "2021-11-29T11:08:18.660Z"
   },
   {
    "duration": 518,
    "start_time": "2021-11-29T11:09:17.087Z"
   },
   {
    "duration": 5,
    "start_time": "2021-11-29T11:10:17.141Z"
   },
   {
    "duration": 414,
    "start_time": "2021-11-29T11:10:26.628Z"
   },
   {
    "duration": 65,
    "start_time": "2021-11-29T11:13:47.843Z"
   },
   {
    "duration": 19,
    "start_time": "2021-11-29T11:14:11.206Z"
   },
   {
    "duration": 5,
    "start_time": "2021-11-29T11:15:11.811Z"
   },
   {
    "duration": 1421,
    "start_time": "2021-11-29T11:15:29.327Z"
   },
   {
    "duration": 1214,
    "start_time": "2021-11-29T11:15:30.751Z"
   },
   {
    "duration": 1298,
    "start_time": "2021-11-29T11:16:41.381Z"
   },
   {
    "duration": 1098,
    "start_time": "2021-11-29T11:16:44.568Z"
   },
   {
    "duration": 163,
    "start_time": "2021-11-29T11:16:46.213Z"
   },
   {
    "duration": 167,
    "start_time": "2021-11-29T11:16:48.437Z"
   },
   {
    "duration": 26,
    "start_time": "2021-11-29T11:17:04.078Z"
   },
   {
    "duration": 16,
    "start_time": "2021-11-29T11:17:06.071Z"
   },
   {
    "duration": 40,
    "start_time": "2021-11-29T11:17:11.165Z"
   },
   {
    "duration": 71,
    "start_time": "2021-11-29T11:17:14.635Z"
   },
   {
    "duration": 119,
    "start_time": "2021-11-29T11:17:18.905Z"
   },
   {
    "duration": 90,
    "start_time": "2021-11-29T11:17:19.608Z"
   },
   {
    "duration": 98,
    "start_time": "2021-11-29T11:17:22.054Z"
   },
   {
    "duration": 53,
    "start_time": "2021-11-29T11:17:33.107Z"
   },
   {
    "duration": 38,
    "start_time": "2021-11-29T11:17:55.293Z"
   },
   {
    "duration": 70,
    "start_time": "2021-11-29T11:17:56.048Z"
   },
   {
    "duration": 161,
    "start_time": "2021-11-29T11:18:00.425Z"
   },
   {
    "duration": 79,
    "start_time": "2021-11-29T11:18:07.154Z"
   },
   {
    "duration": 151,
    "start_time": "2021-11-29T11:18:11.737Z"
   },
   {
    "duration": 5,
    "start_time": "2021-11-29T11:18:15.125Z"
   },
   {
    "duration": 27,
    "start_time": "2021-11-29T11:18:18.624Z"
   },
   {
    "duration": 601,
    "start_time": "2021-11-29T11:18:22.995Z"
   },
   {
    "duration": 302,
    "start_time": "2021-11-29T11:18:25.404Z"
   },
   {
    "duration": 13,
    "start_time": "2021-11-29T11:18:31.535Z"
   },
   {
    "duration": 83,
    "start_time": "2021-11-29T11:18:32.473Z"
   },
   {
    "duration": 34,
    "start_time": "2021-11-29T11:18:37.698Z"
   },
   {
    "duration": 94,
    "start_time": "2021-11-29T11:18:45.968Z"
   },
   {
    "duration": 5,
    "start_time": "2021-11-29T11:19:44.670Z"
   },
   {
    "duration": 10,
    "start_time": "2021-11-29T11:19:52.570Z"
   },
   {
    "duration": 78,
    "start_time": "2021-11-29T11:19:53.259Z"
   },
   {
    "duration": 38,
    "start_time": "2021-11-29T11:19:54.218Z"
   },
   {
    "duration": 56,
    "start_time": "2021-11-29T11:19:55.153Z"
   },
   {
    "duration": 18,
    "start_time": "2021-11-29T11:19:57.499Z"
   },
   {
    "duration": 5,
    "start_time": "2021-11-29T11:20:11.047Z"
   },
   {
    "duration": 4,
    "start_time": "2021-11-29T11:20:12.276Z"
   },
   {
    "duration": 34599,
    "start_time": "2021-11-29T11:20:12.863Z"
   },
   {
    "duration": 4,
    "start_time": "2021-11-29T11:20:53.850Z"
   },
   {
    "duration": 80,
    "start_time": "2021-11-29T11:20:56.987Z"
   },
   {
    "duration": 10,
    "start_time": "2021-11-29T11:21:00.182Z"
   },
   {
    "duration": 6,
    "start_time": "2021-11-29T11:21:04.275Z"
   },
   {
    "duration": 22,
    "start_time": "2021-11-29T11:22:27.812Z"
   },
   {
    "duration": 21,
    "start_time": "2021-11-29T11:22:41.355Z"
   },
   {
    "duration": 22,
    "start_time": "2021-11-29T11:23:27.912Z"
   },
   {
    "duration": 22,
    "start_time": "2021-11-29T11:23:46.139Z"
   },
   {
    "duration": 310,
    "start_time": "2021-11-29T11:24:18.910Z"
   },
   {
    "duration": 316,
    "start_time": "2021-11-29T11:24:30.601Z"
   },
   {
    "duration": 6,
    "start_time": "2021-11-29T11:25:07.416Z"
   },
   {
    "duration": 6,
    "start_time": "2021-11-29T11:25:37.840Z"
   },
   {
    "duration": 16,
    "start_time": "2021-11-29T11:27:03.500Z"
   },
   {
    "duration": 1335,
    "start_time": "2021-11-29T11:27:11.268Z"
   },
   {
    "duration": 1320,
    "start_time": "2021-11-29T11:27:12.606Z"
   },
   {
    "duration": 184,
    "start_time": "2021-11-29T11:27:13.929Z"
   },
   {
    "duration": 58,
    "start_time": "2021-11-29T11:27:14.115Z"
   },
   {
    "duration": 84,
    "start_time": "2021-11-29T11:27:14.175Z"
   },
   {
    "duration": 176,
    "start_time": "2021-11-29T11:27:14.261Z"
   },
   {
    "duration": 99,
    "start_time": "2021-11-29T11:27:14.439Z"
   },
   {
    "duration": 190,
    "start_time": "2021-11-29T11:27:14.543Z"
   },
   {
    "duration": 33,
    "start_time": "2021-11-29T11:27:14.737Z"
   },
   {
    "duration": 23,
    "start_time": "2021-11-29T11:27:14.772Z"
   },
   {
    "duration": 30,
    "start_time": "2021-11-29T11:27:14.797Z"
   },
   {
    "duration": 55,
    "start_time": "2021-11-29T11:27:14.830Z"
   },
   {
    "duration": 7,
    "start_time": "2021-11-29T11:27:14.887Z"
   },
   {
    "duration": 32,
    "start_time": "2021-11-29T11:27:14.896Z"
   },
   {
    "duration": 429,
    "start_time": "2021-11-29T11:27:14.931Z"
   },
   {
    "duration": 419,
    "start_time": "2021-11-29T11:27:15.362Z"
   },
   {
    "duration": 18,
    "start_time": "2021-11-29T11:27:15.783Z"
   },
   {
    "duration": 16,
    "start_time": "2021-11-29T11:27:15.803Z"
   },
   {
    "duration": 102,
    "start_time": "2021-11-29T11:27:15.821Z"
   },
   {
    "duration": 52,
    "start_time": "2021-11-29T11:27:15.926Z"
   },
   {
    "duration": 59,
    "start_time": "2021-11-29T11:27:15.981Z"
   },
   {
    "duration": 31,
    "start_time": "2021-11-29T11:27:16.043Z"
   },
   {
    "duration": 5,
    "start_time": "2021-11-29T11:27:16.081Z"
   },
   {
    "duration": 7,
    "start_time": "2021-11-29T11:27:16.089Z"
   },
   {
    "duration": 33468,
    "start_time": "2021-11-29T11:27:16.098Z"
   },
   {
    "duration": 5,
    "start_time": "2021-11-29T11:27:49.569Z"
   },
   {
    "duration": 188,
    "start_time": "2021-11-29T11:27:49.578Z"
   },
   {
    "duration": 97,
    "start_time": "2021-11-29T11:27:49.769Z"
   },
   {
    "duration": 97,
    "start_time": "2021-11-29T11:27:49.869Z"
   },
   {
    "duration": 1351,
    "start_time": "2021-11-30T05:53:12.877Z"
   },
   {
    "duration": 1098,
    "start_time": "2021-11-30T05:53:16.019Z"
   },
   {
    "duration": 1119,
    "start_time": "2021-11-30T05:53:22.481Z"
   },
   {
    "duration": 151,
    "start_time": "2021-11-30T05:53:32.788Z"
   },
   {
    "duration": 200,
    "start_time": "2021-11-30T05:56:51.045Z"
   },
   {
    "duration": 20,
    "start_time": "2021-11-30T05:57:42.556Z"
   },
   {
    "duration": 44,
    "start_time": "2021-11-30T05:58:02.275Z"
   },
   {
    "duration": 208,
    "start_time": "2021-11-30T06:00:06.465Z"
   },
   {
    "duration": 40,
    "start_time": "2021-11-30T06:00:10.922Z"
   },
   {
    "duration": 45,
    "start_time": "2021-11-30T06:00:25.807Z"
   },
   {
    "duration": 58,
    "start_time": "2021-11-30T06:00:47.888Z"
   },
   {
    "duration": 513,
    "start_time": "2021-11-30T06:02:09.192Z"
   },
   {
    "duration": 399,
    "start_time": "2021-11-30T06:02:14.262Z"
   },
   {
    "duration": 429,
    "start_time": "2021-11-30T06:02:21.962Z"
   },
   {
    "duration": 410,
    "start_time": "2021-11-30T06:02:26.800Z"
   },
   {
    "duration": 49,
    "start_time": "2021-11-30T06:02:34.036Z"
   },
   {
    "duration": 52,
    "start_time": "2021-11-30T06:03:15.627Z"
   },
   {
    "duration": 50,
    "start_time": "2021-11-30T06:04:24.501Z"
   },
   {
    "duration": 53,
    "start_time": "2021-11-30T06:05:04.416Z"
   },
   {
    "duration": 49,
    "start_time": "2021-11-30T06:05:15.990Z"
   },
   {
    "duration": 51,
    "start_time": "2021-11-30T06:06:32.684Z"
   },
   {
    "duration": 381,
    "start_time": "2021-11-30T06:07:03.557Z"
   },
   {
    "duration": 128,
    "start_time": "2021-11-30T06:08:13.358Z"
   },
   {
    "duration": 103,
    "start_time": "2021-11-30T06:08:31.261Z"
   },
   {
    "duration": 6506,
    "start_time": "2021-11-30T06:10:12.790Z"
   },
   {
    "duration": 6203,
    "start_time": "2021-11-30T06:13:06.047Z"
   },
   {
    "duration": 6113,
    "start_time": "2021-11-30T06:13:46.410Z"
   },
   {
    "duration": 9152,
    "start_time": "2021-11-30T06:14:34.171Z"
   },
   {
    "duration": 49,
    "start_time": "2021-11-30T06:17:26.806Z"
   },
   {
    "duration": 11376,
    "start_time": "2021-11-30T06:18:26.035Z"
   },
   {
    "duration": 17640,
    "start_time": "2021-11-30T06:19:49.937Z"
   },
   {
    "duration": 8,
    "start_time": "2021-11-30T06:20:26.080Z"
   },
   {
    "duration": 21238,
    "start_time": "2021-11-30T06:22:57.488Z"
   },
   {
    "duration": 7,
    "start_time": "2021-11-30T06:23:20.814Z"
   },
   {
    "duration": 22,
    "start_time": "2021-11-30T06:23:33.393Z"
   },
   {
    "duration": 20,
    "start_time": "2021-11-30T06:23:36.433Z"
   },
   {
    "duration": 29,
    "start_time": "2021-11-30T06:24:17.016Z"
   },
   {
    "duration": 59,
    "start_time": "2021-11-30T06:24:33.791Z"
   },
   {
    "duration": 33,
    "start_time": "2021-11-30T06:24:46.902Z"
   },
   {
    "duration": 174,
    "start_time": "2021-11-30T06:25:27.644Z"
   },
   {
    "duration": 21455,
    "start_time": "2021-11-30T06:26:41.262Z"
   },
   {
    "duration": 21,
    "start_time": "2021-11-30T06:27:23.820Z"
   },
   {
    "duration": 165,
    "start_time": "2021-11-30T06:27:26.798Z"
   },
   {
    "duration": 1164,
    "start_time": "2021-11-30T06:28:10.796Z"
   },
   {
    "duration": 153,
    "start_time": "2021-11-30T06:28:13.996Z"
   },
   {
    "duration": 204,
    "start_time": "2021-11-30T06:28:16.311Z"
   },
   {
    "duration": 1225,
    "start_time": "2021-11-30T06:28:30.444Z"
   },
   {
    "duration": 155,
    "start_time": "2021-11-30T06:28:32.559Z"
   },
   {
    "duration": 158,
    "start_time": "2021-11-30T06:28:38.259Z"
   },
   {
    "duration": 22408,
    "start_time": "2021-11-30T06:28:56.954Z"
   },
   {
    "duration": 21,
    "start_time": "2021-11-30T06:29:24.359Z"
   },
   {
    "duration": 22009,
    "start_time": "2021-11-30T06:29:28.480Z"
   },
   {
    "duration": 21,
    "start_time": "2021-11-30T06:30:11.961Z"
   },
   {
    "duration": 22658,
    "start_time": "2021-11-30T06:30:57.034Z"
   },
   {
    "duration": 34,
    "start_time": "2021-11-30T06:31:28.808Z"
   },
   {
    "duration": 254,
    "start_time": "2021-11-30T06:31:43.263Z"
   },
   {
    "duration": 29,
    "start_time": "2021-11-30T06:32:28.561Z"
   },
   {
    "duration": 66,
    "start_time": "2021-11-30T06:32:29.783Z"
   },
   {
    "duration": 150,
    "start_time": "2021-11-30T06:32:38.438Z"
   },
   {
    "duration": 91,
    "start_time": "2021-11-30T06:32:41.595Z"
   },
   {
    "duration": 187,
    "start_time": "2021-11-30T06:32:51.056Z"
   },
   {
    "duration": 34,
    "start_time": "2021-11-30T06:32:54.176Z"
   },
   {
    "duration": 25,
    "start_time": "2021-11-30T06:32:56.233Z"
   },
   {
    "duration": 24,
    "start_time": "2021-11-30T06:32:58.019Z"
   },
   {
    "duration": 27,
    "start_time": "2021-11-30T06:33:00.185Z"
   },
   {
    "duration": 5,
    "start_time": "2021-11-30T06:33:10.968Z"
   },
   {
    "duration": 28,
    "start_time": "2021-11-30T06:33:14.986Z"
   },
   {
    "duration": 428,
    "start_time": "2021-11-30T06:33:20.979Z"
   },
   {
    "duration": 305,
    "start_time": "2021-11-30T06:33:24.069Z"
   },
   {
    "duration": 18,
    "start_time": "2021-11-30T06:33:30.622Z"
   },
   {
    "duration": 10,
    "start_time": "2021-11-30T06:33:33.121Z"
   },
   {
    "duration": 73,
    "start_time": "2021-11-30T06:33:34.008Z"
   },
   {
    "duration": 37,
    "start_time": "2021-11-30T06:33:37.432Z"
   },
   {
    "duration": 65,
    "start_time": "2021-11-30T06:33:42.396Z"
   },
   {
    "duration": 20,
    "start_time": "2021-11-30T06:33:45.105Z"
   },
   {
    "duration": 4,
    "start_time": "2021-11-30T06:33:51.491Z"
   },
   {
    "duration": 4,
    "start_time": "2021-11-30T06:33:52.398Z"
   },
   {
    "duration": 33978,
    "start_time": "2021-11-30T06:33:53.481Z"
   },
   {
    "duration": 4,
    "start_time": "2021-11-30T06:34:45.044Z"
   },
   {
    "duration": 75,
    "start_time": "2021-11-30T06:34:47.196Z"
   },
   {
    "duration": 16,
    "start_time": "2021-11-30T06:34:51.076Z"
   },
   {
    "duration": 5,
    "start_time": "2021-11-30T06:34:52.959Z"
   },
   {
    "duration": 6,
    "start_time": "2021-11-30T06:38:07.540Z"
   },
   {
    "duration": 10,
    "start_time": "2021-11-30T06:38:37.257Z"
   },
   {
    "duration": 5,
    "start_time": "2021-11-30T06:38:55.912Z"
   },
   {
    "duration": 5,
    "start_time": "2021-11-30T06:39:13.338Z"
   },
   {
    "duration": 6,
    "start_time": "2021-11-30T06:39:30.022Z"
   },
   {
    "duration": 8,
    "start_time": "2021-11-30T06:39:40.873Z"
   },
   {
    "duration": 178,
    "start_time": "2021-11-30T07:20:17.225Z"
   },
   {
    "duration": 4,
    "start_time": "2021-11-30T07:22:20.336Z"
   },
   {
    "duration": 3436,
    "start_time": "2021-11-30T07:22:36.425Z"
   },
   {
    "duration": 169,
    "start_time": "2021-11-30T07:23:03.096Z"
   },
   {
    "duration": 7,
    "start_time": "2021-11-30T07:23:08.205Z"
   },
   {
    "duration": 3536738,
    "start_time": "2021-11-30T07:28:00.731Z"
   },
   {
    "duration": 3,
    "start_time": "2021-11-30T08:28:41.159Z"
   },
   {
    "duration": 12523,
    "start_time": "2021-11-30T08:28:42.650Z"
   },
   {
    "duration": 803,
    "start_time": "2021-11-30T08:28:57.463Z"
   },
   {
    "duration": 6,
    "start_time": "2021-11-30T08:28:58.806Z"
   },
   {
    "duration": 4,
    "start_time": "2021-11-30T08:29:06.967Z"
   },
   {
    "duration": 4203,
    "start_time": "2021-11-30T08:29:08.359Z"
   },
   {
    "duration": 184,
    "start_time": "2021-11-30T08:29:17.178Z"
   },
   {
    "duration": 6,
    "start_time": "2021-11-30T08:29:18.102Z"
   },
   {
    "duration": 3,
    "start_time": "2021-11-30T08:29:31.050Z"
   },
   {
    "duration": 11901,
    "start_time": "2021-11-30T08:29:31.561Z"
   },
   {
    "duration": 1009,
    "start_time": "2021-11-30T08:29:43.464Z"
   },
   {
    "duration": 5,
    "start_time": "2021-11-30T08:29:44.476Z"
   },
   {
    "duration": 4,
    "start_time": "2021-11-30T08:29:50.285Z"
   },
   {
    "duration": 20716,
    "start_time": "2021-11-30T08:29:50.658Z"
   },
   {
    "duration": 1607,
    "start_time": "2021-11-30T08:30:11.376Z"
   },
   {
    "duration": 7,
    "start_time": "2021-11-30T08:30:13.058Z"
   },
   {
    "duration": 4,
    "start_time": "2021-11-30T08:30:23.310Z"
   },
   {
    "duration": 26475,
    "start_time": "2021-11-30T08:30:23.697Z"
   },
   {
    "duration": 1404,
    "start_time": "2021-11-30T08:30:50.175Z"
   },
   {
    "duration": 6,
    "start_time": "2021-11-30T08:30:51.582Z"
   },
   {
    "duration": 1492,
    "start_time": "2021-12-01T05:57:59.468Z"
   },
   {
    "duration": 1140,
    "start_time": "2021-12-01T05:58:06.212Z"
   },
   {
    "duration": 158,
    "start_time": "2021-12-01T05:58:10.440Z"
   },
   {
    "duration": 176,
    "start_time": "2021-12-01T05:58:47.978Z"
   },
   {
    "duration": 22414,
    "start_time": "2021-12-01T05:59:33.217Z"
   },
   {
    "duration": 21,
    "start_time": "2021-12-01T05:59:56.692Z"
   },
   {
    "duration": 291,
    "start_time": "2021-12-01T06:00:15.634Z"
   },
   {
    "duration": 21934,
    "start_time": "2021-12-01T06:02:55.263Z"
   },
   {
    "duration": 21,
    "start_time": "2021-12-01T06:03:18.596Z"
   },
   {
    "duration": 22430,
    "start_time": "2021-12-01T06:04:13.818Z"
   },
   {
    "duration": 32,
    "start_time": "2021-12-01T06:04:36.250Z"
   },
   {
    "duration": 188,
    "start_time": "2021-12-01T06:05:24.007Z"
   },
   {
    "duration": 263,
    "start_time": "2021-12-01T06:06:07.546Z"
   },
   {
    "duration": 240,
    "start_time": "2021-12-01T06:06:33.205Z"
   },
   {
    "duration": 472,
    "start_time": "2021-12-01T06:06:46.653Z"
   },
   {
    "duration": 552,
    "start_time": "2021-12-01T06:07:19.534Z"
   },
   {
    "duration": 730,
    "start_time": "2021-12-01T06:07:28.252Z"
   },
   {
    "duration": 748,
    "start_time": "2021-12-01T06:07:46.380Z"
   },
   {
    "duration": 27,
    "start_time": "2021-12-01T06:07:49.315Z"
   },
   {
    "duration": 6,
    "start_time": "2021-12-01T06:08:17.933Z"
   },
   {
    "duration": 447,
    "start_time": "2021-12-01T06:09:15.391Z"
   },
   {
    "duration": 519,
    "start_time": "2021-12-01T06:09:18.801Z"
   },
   {
    "duration": 298,
    "start_time": "2021-12-01T06:09:28.659Z"
   },
   {
    "duration": 1029,
    "start_time": "2021-12-01T06:10:24.708Z"
   },
   {
    "duration": 489,
    "start_time": "2021-12-01T06:10:34.804Z"
   },
   {
    "duration": 449,
    "start_time": "2021-12-01T06:10:44.021Z"
   },
   {
    "duration": 561,
    "start_time": "2021-12-01T06:10:50.266Z"
   },
   {
    "duration": 513,
    "start_time": "2021-12-01T06:10:56.441Z"
   },
   {
    "duration": 347,
    "start_time": "2021-12-01T06:11:05.291Z"
   },
   {
    "duration": 14,
    "start_time": "2021-12-01T06:12:23.359Z"
   },
   {
    "duration": 110,
    "start_time": "2021-12-01T06:12:31.165Z"
   },
   {
    "duration": 12,
    "start_time": "2021-12-01T06:12:34.358Z"
   },
   {
    "duration": 11,
    "start_time": "2021-12-01T06:14:18.643Z"
   },
   {
    "duration": 11,
    "start_time": "2021-12-01T06:14:23.946Z"
   },
   {
    "duration": 10,
    "start_time": "2021-12-01T06:14:41.057Z"
   },
   {
    "duration": 12,
    "start_time": "2021-12-01T06:14:46.229Z"
   },
   {
    "duration": 9,
    "start_time": "2021-12-01T06:14:55.268Z"
   },
   {
    "duration": 132,
    "start_time": "2021-12-01T06:15:30.123Z"
   },
   {
    "duration": 468,
    "start_time": "2021-12-01T06:15:33.201Z"
   },
   {
    "duration": 462,
    "start_time": "2021-12-01T06:15:53.635Z"
   },
   {
    "duration": 484,
    "start_time": "2021-12-01T06:16:01.405Z"
   },
   {
    "duration": 454,
    "start_time": "2021-12-01T06:16:21.363Z"
   },
   {
    "duration": 28,
    "start_time": "2021-12-01T06:16:30.657Z"
   },
   {
    "duration": 28,
    "start_time": "2021-12-01T06:16:36.850Z"
   },
   {
    "duration": 15,
    "start_time": "2021-12-01T06:16:44.261Z"
   },
   {
    "duration": 110,
    "start_time": "2021-12-01T06:16:47.018Z"
   },
   {
    "duration": 68,
    "start_time": "2021-12-01T06:16:56.006Z"
   },
   {
    "duration": 100,
    "start_time": "2021-12-01T06:16:57.723Z"
   },
   {
    "duration": 19,
    "start_time": "2021-12-01T06:16:59.551Z"
   },
   {
    "duration": 6,
    "start_time": "2021-12-01T06:17:08.254Z"
   },
   {
    "duration": 5,
    "start_time": "2021-12-01T06:17:10.313Z"
   },
   {
    "duration": 8,
    "start_time": "2021-12-01T06:17:11.674Z"
   },
   {
    "duration": 5,
    "start_time": "2021-12-01T06:17:26.421Z"
   },
   {
    "duration": 241,
    "start_time": "2021-12-01T06:17:28.144Z"
   },
   {
    "duration": 95,
    "start_time": "2021-12-01T06:17:30.791Z"
   },
   {
    "duration": 8,
    "start_time": "2021-12-01T06:17:32.594Z"
   },
   {
    "duration": 4,
    "start_time": "2021-12-01T06:17:38.437Z"
   },
   {
    "duration": 686668,
    "start_time": "2021-12-01T06:17:43.289Z"
   },
   {
    "duration": 218,
    "start_time": "2021-12-01T06:29:09.960Z"
   },
   {
    "duration": 4,
    "start_time": "2021-12-01T06:29:20.737Z"
   },
   {
    "duration": 102833,
    "start_time": "2021-12-01T06:29:21.335Z"
   },
   {
    "duration": 427,
    "start_time": "2021-12-01T06:31:27.493Z"
   },
   {
    "duration": 314,
    "start_time": "2021-12-01T06:31:34.509Z"
   },
   {
    "duration": 332,
    "start_time": "2021-12-01T06:31:39.641Z"
   },
   {
    "duration": 480,
    "start_time": "2021-12-01T06:31:57.055Z"
   },
   {
    "duration": 5,
    "start_time": "2021-12-01T06:38:17.102Z"
   },
   {
    "duration": 1392,
    "start_time": "2021-12-01T06:38:31.031Z"
   },
   {
    "duration": 1236,
    "start_time": "2021-12-01T06:38:32.426Z"
   },
   {
    "duration": 177,
    "start_time": "2021-12-01T06:38:33.666Z"
   },
   {
    "duration": 167,
    "start_time": "2021-12-01T06:38:33.845Z"
   },
   {
    "duration": 224,
    "start_time": "2021-12-01T06:38:34.014Z"
   },
   {
    "duration": 29076,
    "start_time": "2021-12-01T06:38:34.240Z"
   },
   {
    "duration": 34,
    "start_time": "2021-12-01T06:39:03.319Z"
   },
   {
    "duration": 23575,
    "start_time": "2021-12-01T06:39:03.358Z"
   },
   {
    "duration": 23,
    "start_time": "2021-12-01T06:39:26.938Z"
   },
   {
    "duration": 23562,
    "start_time": "2021-12-01T06:39:26.964Z"
   },
   {
    "duration": 21,
    "start_time": "2021-12-01T06:39:50.528Z"
   },
   {
    "duration": 299,
    "start_time": "2021-12-01T06:39:50.551Z"
   },
   {
    "duration": 542,
    "start_time": "2021-12-01T06:39:50.852Z"
   },
   {
    "duration": 890,
    "start_time": "2021-12-01T06:39:51.398Z"
   },
   {
    "duration": 36,
    "start_time": "2021-12-01T06:39:52.291Z"
   },
   {
    "duration": 438,
    "start_time": "2021-12-01T06:39:52.330Z"
   },
   {
    "duration": 330,
    "start_time": "2021-12-01T06:39:52.770Z"
   },
   {
    "duration": 347,
    "start_time": "2021-12-01T06:39:53.102Z"
   },
   {
    "duration": 333,
    "start_time": "2021-12-01T06:39:53.452Z"
   },
   {
    "duration": 31,
    "start_time": "2021-12-01T06:39:53.788Z"
   },
   {
    "duration": 19,
    "start_time": "2021-12-01T06:39:53.822Z"
   },
   {
    "duration": 204,
    "start_time": "2021-12-01T06:39:53.844Z"
   },
   {
    "duration": 114,
    "start_time": "2021-12-01T06:39:54.056Z"
   },
   {
    "duration": 163,
    "start_time": "2021-12-01T06:39:54.174Z"
   },
   {
    "duration": 27,
    "start_time": "2021-12-01T06:39:54.340Z"
   },
   {
    "duration": 4,
    "start_time": "2021-12-01T06:39:54.384Z"
   },
   {
    "duration": 8,
    "start_time": "2021-12-01T06:39:54.391Z"
   },
   {
    "duration": 12,
    "start_time": "2021-12-01T06:39:54.401Z"
   },
   {
    "duration": 44670,
    "start_time": "2021-12-01T06:39:54.415Z"
   },
   {
    "duration": 3,
    "start_time": "2021-12-01T06:40:39.088Z"
   },
   {
    "duration": 287,
    "start_time": "2021-12-01T06:40:39.095Z"
   },
   {
    "duration": 98,
    "start_time": "2021-12-01T06:40:39.384Z"
   },
   {
    "duration": 10,
    "start_time": "2021-12-01T06:40:39.487Z"
   },
   {
    "duration": 4,
    "start_time": "2021-12-01T06:40:39.583Z"
   },
   {
    "duration": 156196,
    "start_time": "2021-12-01T06:40:39.589Z"
   },
   {
    "duration": 413,
    "start_time": "2021-12-01T06:43:15.788Z"
   },
   {
    "duration": 6,
    "start_time": "2021-12-01T06:43:16.204Z"
   },
   {
    "duration": 35,
    "start_time": "2021-12-01T06:52:09.090Z"
   },
   {
    "duration": 2298,
    "start_time": "2021-12-01T06:52:38.754Z"
   },
   {
    "duration": 4,
    "start_time": "2021-12-01T06:53:06.935Z"
   },
   {
    "duration": 275315,
    "start_time": "2021-12-01T06:53:08.067Z"
   },
   {
    "duration": 508,
    "start_time": "2021-12-01T06:59:21.592Z"
   },
   {
    "duration": 9,
    "start_time": "2021-12-01T06:59:22.638Z"
   },
   {
    "duration": 67563,
    "start_time": "2021-12-01T07:00:33.270Z"
   },
   {
    "duration": 1403,
    "start_time": "2021-12-02T06:15:30.007Z"
   },
   {
    "duration": 1154,
    "start_time": "2021-12-02T06:15:34.802Z"
   },
   {
    "duration": 159,
    "start_time": "2021-12-02T06:15:41.012Z"
   },
   {
    "duration": 164,
    "start_time": "2021-12-02T06:15:53.092Z"
   },
   {
    "duration": 22693,
    "start_time": "2021-12-02T06:15:57.348Z"
   },
   {
    "duration": 21,
    "start_time": "2021-12-02T06:16:49.854Z"
   },
   {
    "duration": 21923,
    "start_time": "2021-12-02T06:16:54.694Z"
   },
   {
    "duration": 22,
    "start_time": "2021-12-02T06:17:47.734Z"
   },
   {
    "duration": 22411,
    "start_time": "2021-12-02T06:17:52.303Z"
   },
   {
    "duration": 20,
    "start_time": "2021-12-02T06:18:51.433Z"
   },
   {
    "duration": 270,
    "start_time": "2021-12-02T06:19:01.264Z"
   },
   {
    "duration": 573,
    "start_time": "2021-12-02T06:19:04.991Z"
   },
   {
    "duration": 643,
    "start_time": "2021-12-02T06:19:08.103Z"
   },
   {
    "duration": 26,
    "start_time": "2021-12-02T06:19:12.456Z"
   },
   {
    "duration": 413,
    "start_time": "2021-12-02T06:19:16.524Z"
   },
   {
    "duration": 311,
    "start_time": "2021-12-02T06:19:20.853Z"
   },
   {
    "duration": 311,
    "start_time": "2021-12-02T06:19:25.944Z"
   },
   {
    "duration": 316,
    "start_time": "2021-12-02T06:19:30.807Z"
   },
   {
    "duration": 25,
    "start_time": "2021-12-02T06:19:38.232Z"
   },
   {
    "duration": 14,
    "start_time": "2021-12-02T06:19:46.632Z"
   },
   {
    "duration": 106,
    "start_time": "2021-12-02T06:19:50.664Z"
   },
   {
    "duration": 67,
    "start_time": "2021-12-02T06:19:56.233Z"
   },
   {
    "duration": 98,
    "start_time": "2021-12-02T06:20:01.505Z"
   },
   {
    "duration": 71,
    "start_time": "2021-12-02T06:20:11.814Z"
   },
   {
    "duration": 96,
    "start_time": "2021-12-02T06:20:13.102Z"
   },
   {
    "duration": 19,
    "start_time": "2021-12-02T06:20:13.957Z"
   },
   {
    "duration": 5,
    "start_time": "2021-12-02T06:20:23.951Z"
   },
   {
    "duration": 3,
    "start_time": "2021-12-02T06:20:24.671Z"
   },
   {
    "duration": 7,
    "start_time": "2021-12-02T06:20:27.002Z"
   },
   {
    "duration": 37009,
    "start_time": "2021-12-02T06:20:31.321Z"
   },
   {
    "duration": 3,
    "start_time": "2021-12-02T06:23:04.834Z"
   },
   {
    "duration": 150,
    "start_time": "2021-12-02T06:23:07.190Z"
   },
   {
    "duration": 16,
    "start_time": "2021-12-02T06:23:42.734Z"
   },
   {
    "duration": 5,
    "start_time": "2021-12-02T06:23:54.258Z"
   },
   {
    "duration": 246373,
    "start_time": "2021-12-02T06:31:43.122Z"
   },
   {
    "duration": 539,
    "start_time": "2021-12-02T06:36:44.422Z"
   },
   {
    "duration": 6,
    "start_time": "2021-12-02T06:36:51.096Z"
   },
   {
    "duration": 484317,
    "start_time": "2021-12-02T06:36:55.216Z"
   },
   {
    "duration": 56463,
    "start_time": "2021-12-02T06:45:38.051Z"
   },
   {
    "duration": 4,
    "start_time": "2021-12-02T06:48:15.090Z"
   },
   {
    "duration": 4,
    "start_time": "2021-12-02T06:48:43.283Z"
   },
   {
    "duration": 1678277,
    "start_time": "2021-12-02T06:49:05.360Z"
   },
   {
    "duration": 5,
    "start_time": "2021-12-02T07:25:53.376Z"
   },
   {
    "duration": 87251,
    "start_time": "2021-12-02T07:25:54.489Z"
   },
   {
    "duration": 5,
    "start_time": "2021-12-02T07:27:35.098Z"
   },
   {
    "duration": 1768,
    "start_time": "2021-12-02T07:27:35.671Z"
   },
   {
    "duration": 239,
    "start_time": "2021-12-02T07:27:40.291Z"
   },
   {
    "duration": 9,
    "start_time": "2021-12-02T07:27:41.011Z"
   },
   {
    "duration": 6,
    "start_time": "2021-12-02T07:27:45.263Z"
   },
   {
    "duration": 1911,
    "start_time": "2021-12-02T07:27:45.626Z"
   },
   {
    "duration": 261,
    "start_time": "2021-12-02T07:27:47.542Z"
   },
   {
    "duration": 7,
    "start_time": "2021-12-02T07:27:47.805Z"
   },
   {
    "duration": 4,
    "start_time": "2021-12-02T07:27:52.892Z"
   },
   {
    "duration": 1538,
    "start_time": "2021-12-02T07:27:53.296Z"
   },
   {
    "duration": 182,
    "start_time": "2021-12-02T07:27:54.837Z"
   },
   {
    "duration": 11,
    "start_time": "2021-12-02T07:27:55.023Z"
   },
   {
    "duration": 4,
    "start_time": "2021-12-02T07:28:02.437Z"
   },
   {
    "duration": 1128,
    "start_time": "2021-12-02T07:28:02.780Z"
   },
   {
    "duration": 170,
    "start_time": "2021-12-02T07:28:03.911Z"
   },
   {
    "duration": 7,
    "start_time": "2021-12-02T07:28:04.084Z"
   },
   {
    "duration": 4,
    "start_time": "2021-12-02T07:28:07.814Z"
   },
   {
    "duration": 3307,
    "start_time": "2021-12-02T07:28:08.075Z"
   },
   {
    "duration": 236,
    "start_time": "2021-12-02T07:28:11.386Z"
   },
   {
    "duration": 8,
    "start_time": "2021-12-02T07:28:11.631Z"
   },
   {
    "duration": 5,
    "start_time": "2021-12-02T07:28:18.556Z"
   },
   {
    "duration": 1854,
    "start_time": "2021-12-02T07:28:18.884Z"
   },
   {
    "duration": 189,
    "start_time": "2021-12-02T07:28:20.741Z"
   },
   {
    "duration": 7,
    "start_time": "2021-12-02T07:28:20.933Z"
   },
   {
    "duration": 4,
    "start_time": "2021-12-02T07:28:27.687Z"
   },
   {
    "duration": 1926,
    "start_time": "2021-12-02T07:28:27.910Z"
   },
   {
    "duration": 181,
    "start_time": "2021-12-02T07:28:29.838Z"
   },
   {
    "duration": 7,
    "start_time": "2021-12-02T07:28:30.029Z"
   },
   {
    "duration": 6,
    "start_time": "2021-12-02T07:28:50.642Z"
   },
   {
    "duration": 189,
    "start_time": "2021-12-02T07:28:50.964Z"
   },
   {
    "duration": 1838,
    "start_time": "2021-12-02T07:28:51.357Z"
   },
   {
    "duration": 3155,
    "start_time": "2021-12-02T07:28:58.824Z"
   },
   {
    "duration": 196,
    "start_time": "2021-12-02T07:29:01.981Z"
   },
   {
    "duration": 7,
    "start_time": "2021-12-02T07:29:02.180Z"
   },
   {
    "duration": 4,
    "start_time": "2021-12-02T07:29:10.557Z"
   },
   {
    "duration": 1736,
    "start_time": "2021-12-02T07:29:12.252Z"
   },
   {
    "duration": 181,
    "start_time": "2021-12-02T07:29:13.992Z"
   },
   {
    "duration": 7,
    "start_time": "2021-12-02T07:29:14.176Z"
   },
   {
    "duration": 4,
    "start_time": "2021-12-02T07:29:17.834Z"
   },
   {
    "duration": 1977,
    "start_time": "2021-12-02T07:29:18.155Z"
   },
   {
    "duration": 176,
    "start_time": "2021-12-02T07:29:20.135Z"
   },
   {
    "duration": 18,
    "start_time": "2021-12-02T07:29:20.314Z"
   },
   {
    "duration": 3,
    "start_time": "2021-12-02T07:29:24.589Z"
   },
   {
    "duration": 1440,
    "start_time": "2021-12-02T07:29:24.873Z"
   },
   {
    "duration": 103,
    "start_time": "2021-12-02T07:29:26.316Z"
   },
   {
    "duration": 9,
    "start_time": "2021-12-02T07:29:26.432Z"
   },
   {
    "duration": 6,
    "start_time": "2021-12-02T07:29:30.606Z"
   },
   {
    "duration": 1728,
    "start_time": "2021-12-02T07:29:30.856Z"
   },
   {
    "duration": 169,
    "start_time": "2021-12-02T07:29:32.588Z"
   },
   {
    "duration": 5,
    "start_time": "2021-12-02T07:29:32.760Z"
   },
   {
    "duration": 4,
    "start_time": "2021-12-02T07:29:35.665Z"
   },
   {
    "duration": 1750,
    "start_time": "2021-12-02T07:29:36.007Z"
   },
   {
    "duration": 194,
    "start_time": "2021-12-02T07:29:37.761Z"
   },
   {
    "duration": 7,
    "start_time": "2021-12-02T07:29:37.959Z"
   },
   {
    "duration": 4,
    "start_time": "2021-12-02T07:29:43.603Z"
   },
   {
    "duration": 1795,
    "start_time": "2021-12-02T07:29:43.835Z"
   },
   {
    "duration": 203,
    "start_time": "2021-12-02T07:29:45.634Z"
   },
   {
    "duration": 8,
    "start_time": "2021-12-02T07:29:45.841Z"
   },
   {
    "duration": 4,
    "start_time": "2021-12-02T07:29:50.589Z"
   },
   {
    "duration": 1920,
    "start_time": "2021-12-02T07:29:50.829Z"
   },
   {
    "duration": 215,
    "start_time": "2021-12-02T07:29:52.752Z"
   },
   {
    "duration": 7,
    "start_time": "2021-12-02T07:29:52.970Z"
   },
   {
    "duration": 4,
    "start_time": "2021-12-02T07:29:58.069Z"
   },
   {
    "duration": 1965,
    "start_time": "2021-12-02T07:29:58.312Z"
   },
   {
    "duration": 212,
    "start_time": "2021-12-02T07:30:00.280Z"
   },
   {
    "duration": 7,
    "start_time": "2021-12-02T07:30:00.494Z"
   },
   {
    "duration": 3,
    "start_time": "2021-12-02T07:30:04.602Z"
   },
   {
    "duration": 1765,
    "start_time": "2021-12-02T07:30:04.879Z"
   },
   {
    "duration": 183,
    "start_time": "2021-12-02T07:30:06.647Z"
   },
   {
    "duration": 7,
    "start_time": "2021-12-02T07:30:06.833Z"
   },
   {
    "duration": 4,
    "start_time": "2021-12-02T07:30:10.589Z"
   },
   {
    "duration": 1859,
    "start_time": "2021-12-02T07:30:10.854Z"
   },
   {
    "duration": 206,
    "start_time": "2021-12-02T07:30:12.716Z"
   },
   {
    "duration": 7,
    "start_time": "2021-12-02T07:30:12.925Z"
   },
   {
    "duration": 4,
    "start_time": "2021-12-02T07:30:51.252Z"
   },
   {
    "duration": 1857,
    "start_time": "2021-12-02T07:30:51.624Z"
   },
   {
    "duration": 243,
    "start_time": "2021-12-02T07:30:53.485Z"
   },
   {
    "duration": 5,
    "start_time": "2021-12-02T07:30:53.731Z"
   },
   {
    "duration": 4,
    "start_time": "2021-12-02T07:31:35.616Z"
   },
   {
    "duration": 1933,
    "start_time": "2021-12-02T07:31:35.895Z"
   },
   {
    "duration": 187,
    "start_time": "2021-12-02T07:31:37.831Z"
   },
   {
    "duration": 11,
    "start_time": "2021-12-02T07:31:38.021Z"
   },
   {
    "duration": 5,
    "start_time": "2021-12-02T07:31:44.167Z"
   },
   {
    "duration": 1787,
    "start_time": "2021-12-02T07:31:44.396Z"
   },
   {
    "duration": 185,
    "start_time": "2021-12-02T07:31:46.186Z"
   },
   {
    "duration": 7,
    "start_time": "2021-12-02T07:31:46.374Z"
   },
   {
    "duration": 4,
    "start_time": "2021-12-02T07:31:50.272Z"
   },
   {
    "duration": 1911,
    "start_time": "2021-12-02T07:31:50.462Z"
   },
   {
    "duration": 202,
    "start_time": "2021-12-02T07:31:52.377Z"
   },
   {
    "duration": 7,
    "start_time": "2021-12-02T07:31:52.582Z"
   },
   {
    "duration": 6,
    "start_time": "2021-12-02T07:31:57.461Z"
   },
   {
    "duration": 3693,
    "start_time": "2021-12-02T07:31:57.738Z"
   },
   {
    "duration": 319,
    "start_time": "2021-12-02T07:32:01.435Z"
   },
   {
    "duration": 8,
    "start_time": "2021-12-02T07:32:01.759Z"
   },
   {
    "duration": 4,
    "start_time": "2021-12-02T07:32:05.206Z"
   },
   {
    "duration": 1867,
    "start_time": "2021-12-02T07:32:05.484Z"
   },
   {
    "duration": 227,
    "start_time": "2021-12-02T07:32:07.354Z"
   },
   {
    "duration": 6,
    "start_time": "2021-12-02T07:32:07.584Z"
   },
   {
    "duration": 4,
    "start_time": "2021-12-02T07:32:10.462Z"
   },
   {
    "duration": 1822,
    "start_time": "2021-12-02T07:32:10.722Z"
   },
   {
    "duration": 202,
    "start_time": "2021-12-02T07:32:12.547Z"
   },
   {
    "duration": 6,
    "start_time": "2021-12-02T07:32:12.752Z"
   },
   {
    "duration": 4,
    "start_time": "2021-12-02T07:32:15.676Z"
   },
   {
    "duration": 1822,
    "start_time": "2021-12-02T07:32:15.915Z"
   },
   {
    "duration": 202,
    "start_time": "2021-12-02T07:32:17.740Z"
   },
   {
    "duration": 6,
    "start_time": "2021-12-02T07:32:17.945Z"
   },
   {
    "duration": 3,
    "start_time": "2021-12-02T07:32:21.968Z"
   },
   {
    "duration": 1907,
    "start_time": "2021-12-02T07:32:22.189Z"
   },
   {
    "duration": 203,
    "start_time": "2021-12-02T07:32:24.100Z"
   },
   {
    "duration": 7,
    "start_time": "2021-12-02T07:32:24.307Z"
   },
   {
    "duration": 5,
    "start_time": "2021-12-02T07:32:27.954Z"
   },
   {
    "duration": 1904,
    "start_time": "2021-12-02T07:32:28.150Z"
   },
   {
    "duration": 202,
    "start_time": "2021-12-02T07:32:30.057Z"
   },
   {
    "duration": 6,
    "start_time": "2021-12-02T07:32:30.262Z"
   },
   {
    "duration": 4,
    "start_time": "2021-12-02T07:32:35.298Z"
   },
   {
    "duration": 1985,
    "start_time": "2021-12-02T07:32:35.505Z"
   },
   {
    "duration": 198,
    "start_time": "2021-12-02T07:32:37.492Z"
   },
   {
    "duration": 5,
    "start_time": "2021-12-02T07:32:37.693Z"
   },
   {
    "duration": 4,
    "start_time": "2021-12-02T07:32:40.914Z"
   },
   {
    "duration": 2036,
    "start_time": "2021-12-02T07:32:41.094Z"
   },
   {
    "duration": 200,
    "start_time": "2021-12-02T07:32:43.133Z"
   },
   {
    "duration": 8,
    "start_time": "2021-12-02T07:32:43.336Z"
   },
   {
    "duration": 6,
    "start_time": "2021-12-02T07:32:49.297Z"
   },
   {
    "duration": 3529,
    "start_time": "2021-12-02T07:32:49.487Z"
   },
   {
    "duration": 203,
    "start_time": "2021-12-02T07:32:53.019Z"
   },
   {
    "duration": 8,
    "start_time": "2021-12-02T07:32:53.225Z"
   },
   {
    "duration": 4,
    "start_time": "2021-12-02T07:32:57.569Z"
   },
   {
    "duration": 1930,
    "start_time": "2021-12-02T07:32:57.781Z"
   },
   {
    "duration": 188,
    "start_time": "2021-12-02T07:32:59.713Z"
   },
   {
    "duration": 6,
    "start_time": "2021-12-02T07:32:59.904Z"
   },
   {
    "duration": 5,
    "start_time": "2021-12-02T07:33:12.226Z"
   },
   {
    "duration": 1757,
    "start_time": "2021-12-02T07:33:12.234Z"
   },
   {
    "duration": 196,
    "start_time": "2021-12-02T07:33:13.993Z"
   },
   {
    "duration": 6,
    "start_time": "2021-12-02T07:33:14.192Z"
   },
   {
    "duration": 294,
    "start_time": "2021-12-02T07:36:25.824Z"
   },
   {
    "duration": 3,
    "start_time": "2021-12-02T07:36:39.611Z"
   },
   {
    "duration": 3,
    "start_time": "2021-12-02T07:36:52.648Z"
   },
   {
    "duration": 89972,
    "start_time": "2021-12-02T07:36:58.582Z"
   },
   {
    "duration": 207,
    "start_time": "2021-12-02T07:38:28.557Z"
   },
   {
    "duration": 6,
    "start_time": "2021-12-02T07:38:28.767Z"
   },
   {
    "duration": 5,
    "start_time": "2021-12-02T07:38:30.386Z"
   },
   {
    "duration": 1440,
    "start_time": "2021-12-02T07:40:42.642Z"
   },
   {
    "duration": 1181,
    "start_time": "2021-12-02T07:40:44.084Z"
   },
   {
    "duration": 172,
    "start_time": "2021-12-02T07:40:45.268Z"
   },
   {
    "duration": 177,
    "start_time": "2021-12-02T07:40:45.443Z"
   },
   {
    "duration": 22811,
    "start_time": "2021-12-02T07:40:45.623Z"
   },
   {
    "duration": 37,
    "start_time": "2021-12-02T07:41:08.441Z"
   },
   {
    "duration": 24208,
    "start_time": "2021-12-02T07:41:08.482Z"
   },
   {
    "duration": 22,
    "start_time": "2021-12-02T07:41:32.694Z"
   },
   {
    "duration": 22609,
    "start_time": "2021-12-02T07:41:32.731Z"
   },
   {
    "duration": 23,
    "start_time": "2021-12-02T07:41:55.342Z"
   },
   {
    "duration": 286,
    "start_time": "2021-12-02T07:41:55.368Z"
   },
   {
    "duration": 559,
    "start_time": "2021-12-02T07:41:55.656Z"
   },
   {
    "duration": 739,
    "start_time": "2021-12-02T07:41:56.218Z"
   },
   {
    "duration": 30,
    "start_time": "2021-12-02T07:41:56.959Z"
   },
   {
    "duration": 856,
    "start_time": "2021-12-02T07:41:56.993Z"
   },
   {
    "duration": 635,
    "start_time": "2021-12-02T07:41:57.853Z"
   },
   {
    "duration": 654,
    "start_time": "2021-12-02T07:41:58.491Z"
   },
   {
    "duration": 648,
    "start_time": "2021-12-02T07:41:59.149Z"
   },
   {
    "duration": 43,
    "start_time": "2021-12-02T07:41:59.800Z"
   },
   {
    "duration": 15,
    "start_time": "2021-12-02T07:41:59.846Z"
   },
   {
    "duration": 153,
    "start_time": "2021-12-02T07:41:59.864Z"
   },
   {
    "duration": 148,
    "start_time": "2021-12-02T07:42:00.021Z"
   },
   {
    "duration": 219,
    "start_time": "2021-12-02T07:42:00.180Z"
   },
   {
    "duration": 46,
    "start_time": "2021-12-02T07:42:00.404Z"
   },
   {
    "duration": 8,
    "start_time": "2021-12-02T07:42:00.454Z"
   },
   {
    "duration": 14,
    "start_time": "2021-12-02T07:42:00.465Z"
   },
   {
    "duration": 17,
    "start_time": "2021-12-02T07:42:00.482Z"
   },
   {
    "duration": 42016,
    "start_time": "2021-12-02T07:42:00.529Z"
   },
   {
    "duration": 81,
    "start_time": "2021-12-02T07:42:42.549Z"
   },
   {
    "duration": 206,
    "start_time": "2021-12-02T07:42:42.633Z"
   },
   {
    "duration": 98,
    "start_time": "2021-12-02T07:42:42.843Z"
   },
   {
    "duration": 92,
    "start_time": "2021-12-02T07:42:42.945Z"
   },
   {
    "duration": 88,
    "start_time": "2021-12-02T07:42:43.042Z"
   },
   {
    "duration": 1974,
    "start_time": "2021-12-02T07:42:43.133Z"
   },
   {
    "duration": 196,
    "start_time": "2021-12-02T07:42:45.110Z"
   },
   {
    "duration": 21,
    "start_time": "2021-12-02T07:42:45.309Z"
   },
   {
    "duration": 4,
    "start_time": "2021-12-02T07:42:45.332Z"
   },
   {
    "duration": 354797,
    "start_time": "2021-12-02T07:42:45.339Z"
   },
   {
    "duration": 821,
    "start_time": "2021-12-02T07:48:40.138Z"
   },
   {
    "duration": 6,
    "start_time": "2021-12-02T07:48:40.961Z"
   },
   {
    "duration": 5,
    "start_time": "2021-12-02T07:52:27.951Z"
   },
   {
    "duration": 8,
    "start_time": "2021-12-02T07:52:43.295Z"
   },
   {
    "duration": 4,
    "start_time": "2021-12-02T07:52:43.306Z"
   },
   {
    "duration": 52577,
    "start_time": "2021-12-02T07:52:43.313Z"
   },
   {
    "duration": 236,
    "start_time": "2021-12-02T07:53:35.893Z"
   },
   {
    "duration": 4,
    "start_time": "2021-12-02T07:53:39.279Z"
   },
   {
    "duration": 88737,
    "start_time": "2021-12-02T07:53:39.909Z"
   },
   {
    "duration": 686,
    "start_time": "2021-12-02T07:55:08.650Z"
   },
   {
    "duration": 6,
    "start_time": "2021-12-02T07:55:09.339Z"
   },
   {
    "duration": 4,
    "start_time": "2021-12-02T07:57:27.744Z"
   },
   {
    "duration": 1444,
    "start_time": "2021-12-02T07:57:42.410Z"
   },
   {
    "duration": 1222,
    "start_time": "2021-12-02T07:57:43.857Z"
   },
   {
    "duration": 176,
    "start_time": "2021-12-02T07:57:45.082Z"
   },
   {
    "duration": 181,
    "start_time": "2021-12-02T07:57:45.261Z"
   },
   {
    "duration": 23557,
    "start_time": "2021-12-02T07:57:45.444Z"
   },
   {
    "duration": 28,
    "start_time": "2021-12-02T07:58:09.003Z"
   },
   {
    "duration": 23919,
    "start_time": "2021-12-02T07:58:09.034Z"
   },
   {
    "duration": 21,
    "start_time": "2021-12-02T07:58:32.957Z"
   },
   {
    "duration": 23248,
    "start_time": "2021-12-02T07:58:32.981Z"
   },
   {
    "duration": 20,
    "start_time": "2021-12-02T07:58:56.232Z"
   },
   {
    "duration": 281,
    "start_time": "2021-12-02T07:58:56.255Z"
   },
   {
    "duration": 564,
    "start_time": "2021-12-02T07:58:56.539Z"
   },
   {
    "duration": 678,
    "start_time": "2021-12-02T07:58:57.106Z"
   },
   {
    "duration": 28,
    "start_time": "2021-12-02T07:58:57.786Z"
   },
   {
    "duration": 451,
    "start_time": "2021-12-02T07:58:57.817Z"
   },
   {
    "duration": 326,
    "start_time": "2021-12-02T07:58:58.270Z"
   },
   {
    "duration": 341,
    "start_time": "2021-12-02T07:58:58.598Z"
   },
   {
    "duration": 336,
    "start_time": "2021-12-02T07:58:58.942Z"
   },
   {
    "duration": 27,
    "start_time": "2021-12-02T07:58:59.280Z"
   },
   {
    "duration": 17,
    "start_time": "2021-12-02T07:58:59.329Z"
   },
   {
    "duration": 134,
    "start_time": "2021-12-02T07:58:59.348Z"
   },
   {
    "duration": 85,
    "start_time": "2021-12-02T07:58:59.485Z"
   },
   {
    "duration": 108,
    "start_time": "2021-12-02T07:58:59.575Z"
   },
   {
    "duration": 19,
    "start_time": "2021-12-02T07:58:59.686Z"
   },
   {
    "duration": 22,
    "start_time": "2021-12-02T07:58:59.708Z"
   },
   {
    "duration": 4,
    "start_time": "2021-12-02T07:58:59.733Z"
   },
   {
    "duration": 14,
    "start_time": "2021-12-02T07:58:59.740Z"
   },
   {
    "duration": 39673,
    "start_time": "2021-12-02T07:58:59.757Z"
   },
   {
    "duration": 5,
    "start_time": "2021-12-02T07:59:39.433Z"
   },
   {
    "duration": 301,
    "start_time": "2021-12-02T07:59:39.441Z"
   },
   {
    "duration": 93,
    "start_time": "2021-12-02T07:59:39.745Z"
   },
   {
    "duration": 93,
    "start_time": "2021-12-02T07:59:39.842Z"
   },
   {
    "duration": 87,
    "start_time": "2021-12-02T07:59:39.942Z"
   },
   {
    "duration": 3656,
    "start_time": "2021-12-02T07:59:40.032Z"
   },
   {
    "duration": 318,
    "start_time": "2021-12-02T07:59:43.692Z"
   },
   {
    "duration": 18,
    "start_time": "2021-12-02T07:59:44.013Z"
   },
   {
    "duration": 5,
    "start_time": "2021-12-02T07:59:44.034Z"
   },
   {
    "duration": 518914,
    "start_time": "2021-12-02T07:59:44.042Z"
   },
   {
    "duration": 802,
    "start_time": "2021-12-02T08:08:23.030Z"
   },
   {
    "duration": 7,
    "start_time": "2021-12-02T08:08:23.835Z"
   },
   {
    "duration": 1445,
    "start_time": "2021-12-03T06:49:36.352Z"
   },
   {
    "duration": 1192,
    "start_time": "2021-12-03T06:49:46.249Z"
   },
   {
    "duration": 157,
    "start_time": "2021-12-03T06:49:58.880Z"
   },
   {
    "duration": 169,
    "start_time": "2021-12-03T06:50:24.074Z"
   },
   {
    "duration": 22525,
    "start_time": "2021-12-03T06:50:25.944Z"
   },
   {
    "duration": 22,
    "start_time": "2021-12-03T06:51:17.392Z"
   },
   {
    "duration": 22145,
    "start_time": "2021-12-03T06:51:19.883Z"
   },
   {
    "duration": 35,
    "start_time": "2021-12-03T06:51:47.672Z"
   },
   {
    "duration": 26189,
    "start_time": "2021-12-03T06:51:49.314Z"
   },
   {
    "duration": 21,
    "start_time": "2021-12-03T06:52:18.900Z"
   },
   {
    "duration": 274,
    "start_time": "2021-12-03T06:52:25.037Z"
   },
   {
    "duration": 586,
    "start_time": "2021-12-03T06:52:26.678Z"
   },
   {
    "duration": 602,
    "start_time": "2021-12-03T06:52:29.241Z"
   },
   {
    "duration": 28,
    "start_time": "2021-12-03T06:52:37.831Z"
   },
   {
    "duration": 424,
    "start_time": "2021-12-03T06:54:10.154Z"
   },
   {
    "duration": 292,
    "start_time": "2021-12-03T06:54:42.314Z"
   },
   {
    "duration": 55375,
    "start_time": "2021-12-03T06:55:05.162Z"
   },
   {
    "duration": 7101,
    "start_time": "2021-12-03T06:56:28.440Z"
   },
   {
    "duration": 605,
    "start_time": "2021-12-03T06:56:43.345Z"
   },
   {
    "duration": 25785,
    "start_time": "2021-12-03T06:57:07.632Z"
   },
   {
    "duration": 8,
    "start_time": "2021-12-03T06:58:44.476Z"
   },
   {
    "duration": 405,
    "start_time": "2021-12-03T06:58:50.809Z"
   },
   {
    "duration": 31585,
    "start_time": "2021-12-03T06:58:59.972Z"
   },
   {
    "duration": 57,
    "start_time": "2021-12-03T07:02:19.717Z"
   },
   {
    "duration": 32,
    "start_time": "2021-12-03T07:02:47.286Z"
   },
   {
    "duration": 53,
    "start_time": "2021-12-03T07:04:25.469Z"
   },
   {
    "duration": 411,
    "start_time": "2021-12-03T07:04:48.361Z"
   },
   {
    "duration": 6,
    "start_time": "2021-12-03T07:05:10.132Z"
   },
   {
    "duration": 37,
    "start_time": "2021-12-03T07:05:17.546Z"
   },
   {
    "duration": 30165,
    "start_time": "2021-12-03T07:05:21.058Z"
   },
   {
    "duration": 44,
    "start_time": "2021-12-03T07:06:50.375Z"
   },
   {
    "duration": 22,
    "start_time": "2021-12-03T07:06:54.914Z"
   },
   {
    "duration": 2749,
    "start_time": "2021-12-03T07:07:49.441Z"
   },
   {
    "duration": 1047,
    "start_time": "2021-12-03T07:07:54.516Z"
   },
   {
    "duration": 182,
    "start_time": "2021-12-03T07:07:58.364Z"
   },
   {
    "duration": 190,
    "start_time": "2021-12-03T07:08:02.152Z"
   },
   {
    "duration": 24111,
    "start_time": "2021-12-03T07:08:03.815Z"
   },
   {
    "duration": 37,
    "start_time": "2021-12-03T07:08:31.298Z"
   },
   {
    "duration": 41501,
    "start_time": "2021-12-03T07:08:33.118Z"
   },
   {
    "duration": 36,
    "start_time": "2021-12-03T07:09:17.110Z"
   },
   {
    "duration": 30718,
    "start_time": "2021-12-03T07:09:18.840Z"
   },
   {
    "duration": 27,
    "start_time": "2021-12-03T07:09:49.560Z"
   },
   {
    "duration": 267,
    "start_time": "2021-12-03T07:09:52.584Z"
   },
   {
    "duration": 578,
    "start_time": "2021-12-03T07:09:56.832Z"
   },
   {
    "duration": 874,
    "start_time": "2021-12-03T07:09:58.769Z"
   },
   {
    "duration": 35,
    "start_time": "2021-12-03T07:10:08.264Z"
   },
   {
    "duration": 483,
    "start_time": "2021-12-03T07:10:16.452Z"
   },
   {
    "duration": 392,
    "start_time": "2021-12-03T07:10:37.951Z"
   },
   {
    "duration": 332,
    "start_time": "2021-12-03T07:10:46.734Z"
   },
   {
    "duration": 305,
    "start_time": "2021-12-03T07:11:05.262Z"
   },
   {
    "duration": 338,
    "start_time": "2021-12-03T07:11:19.915Z"
   },
   {
    "duration": 425,
    "start_time": "2021-12-03T07:11:31.422Z"
   },
   {
    "duration": 43,
    "start_time": "2021-12-03T07:12:00.762Z"
   },
   {
    "duration": 10,
    "start_time": "2021-12-03T07:12:15.451Z"
   },
   {
    "duration": 11,
    "start_time": "2021-12-03T07:12:25.660Z"
   },
   {
    "duration": 540,
    "start_time": "2021-12-03T07:12:46.359Z"
   },
   {
    "duration": 30,
    "start_time": "2021-12-03T07:12:53.795Z"
   },
   {
    "duration": 13,
    "start_time": "2021-12-03T07:13:01.482Z"
   },
   {
    "duration": 10,
    "start_time": "2021-12-03T07:13:11.128Z"
   },
   {
    "duration": 26,
    "start_time": "2021-12-03T07:14:39.795Z"
   },
   {
    "duration": 13,
    "start_time": "2021-12-03T07:15:14.986Z"
   },
   {
    "duration": 13,
    "start_time": "2021-12-03T07:15:20.562Z"
   },
   {
    "duration": 28,
    "start_time": "2021-12-03T07:15:30.412Z"
   },
   {
    "duration": 10,
    "start_time": "2021-12-03T07:16:08.573Z"
   },
   {
    "duration": 21,
    "start_time": "2021-12-03T07:17:18.246Z"
   },
   {
    "duration": 315,
    "start_time": "2021-12-03T07:17:57.859Z"
   },
   {
    "duration": 38,
    "start_time": "2021-12-03T07:18:54.297Z"
   },
   {
    "duration": 5,
    "start_time": "2021-12-03T07:19:20.521Z"
   },
   {
    "duration": 6,
    "start_time": "2021-12-03T07:19:31.919Z"
   },
   {
    "duration": 10,
    "start_time": "2021-12-03T07:20:03.795Z"
   },
   {
    "duration": 10,
    "start_time": "2021-12-03T07:20:09.424Z"
   },
   {
    "duration": 312,
    "start_time": "2021-12-03T07:21:35.786Z"
   },
   {
    "duration": 13,
    "start_time": "2021-12-03T07:21:59.133Z"
   },
   {
    "duration": 151,
    "start_time": "2021-12-03T07:22:05.806Z"
   },
   {
    "duration": 58,
    "start_time": "2021-12-03T07:22:14.546Z"
   },
   {
    "duration": 20,
    "start_time": "2021-12-03T07:22:29.711Z"
   },
   {
    "duration": 22,
    "start_time": "2021-12-03T07:22:32.175Z"
   },
   {
    "duration": 5,
    "start_time": "2021-12-03T07:22:44.785Z"
   },
   {
    "duration": 5,
    "start_time": "2021-12-03T07:22:47.500Z"
   },
   {
    "duration": 8,
    "start_time": "2021-12-03T07:22:54.555Z"
   },
   {
    "duration": 42131,
    "start_time": "2021-12-03T07:22:57.361Z"
   },
   {
    "duration": 4,
    "start_time": "2021-12-03T07:23:55.755Z"
   },
   {
    "duration": 167,
    "start_time": "2021-12-03T07:23:56.823Z"
   },
   {
    "duration": 17,
    "start_time": "2021-12-03T07:23:59.873Z"
   },
   {
    "duration": 6,
    "start_time": "2021-12-03T07:24:01.874Z"
   },
   {
    "duration": 5,
    "start_time": "2021-12-03T07:24:10.350Z"
   },
   {
    "duration": 1790,
    "start_time": "2021-12-03T07:24:11.110Z"
   },
   {
    "duration": 157,
    "start_time": "2021-12-03T07:24:14.253Z"
   },
   {
    "duration": 6,
    "start_time": "2021-12-03T07:24:15.711Z"
   },
   {
    "duration": 4,
    "start_time": "2021-12-03T07:24:38.139Z"
   },
   {
    "duration": 246865,
    "start_time": "2021-12-03T07:24:38.630Z"
   },
   {
    "duration": 700,
    "start_time": "2021-12-03T07:28:45.498Z"
   },
   {
    "duration": 6,
    "start_time": "2021-12-03T07:28:46.201Z"
   },
   {
    "duration": 4,
    "start_time": "2021-12-03T07:29:47.515Z"
   },
   {
    "duration": 413071,
    "start_time": "2021-12-03T07:29:48.012Z"
   },
   {
    "duration": 635,
    "start_time": "2021-12-03T07:36:41.086Z"
   },
   {
    "duration": 9,
    "start_time": "2021-12-03T07:36:41.724Z"
   },
   {
    "duration": 4,
    "start_time": "2021-12-03T07:37:42.114Z"
   },
   {
    "duration": 671,
    "start_time": "2021-12-03T07:37:42.500Z"
   },
   {
    "duration": 37,
    "start_time": "2021-12-03T07:37:43.222Z"
   },
   {
    "duration": 6,
    "start_time": "2021-12-03T07:37:44.742Z"
   },
   {
    "duration": 4,
    "start_time": "2021-12-03T07:37:48.999Z"
   },
   {
    "duration": 959,
    "start_time": "2021-12-03T07:37:49.698Z"
   },
   {
    "duration": 62,
    "start_time": "2021-12-03T07:37:50.660Z"
   },
   {
    "duration": 6,
    "start_time": "2021-12-03T07:37:50.725Z"
   },
   {
    "duration": 4,
    "start_time": "2021-12-03T07:37:56.734Z"
   },
   {
    "duration": 1258,
    "start_time": "2021-12-03T07:37:57.108Z"
   },
   {
    "duration": 73,
    "start_time": "2021-12-03T07:37:58.369Z"
   },
   {
    "duration": 7,
    "start_time": "2021-12-03T07:37:58.446Z"
   },
   {
    "duration": 5,
    "start_time": "2021-12-03T07:38:02.565Z"
   },
   {
    "duration": 2160,
    "start_time": "2021-12-03T07:38:02.858Z"
   },
   {
    "duration": 102,
    "start_time": "2021-12-03T07:38:05.021Z"
   },
   {
    "duration": 7,
    "start_time": "2021-12-03T07:38:05.127Z"
   },
   {
    "duration": 5,
    "start_time": "2021-12-03T07:38:08.996Z"
   },
   {
    "duration": 1603,
    "start_time": "2021-12-03T07:38:09.333Z"
   },
   {
    "duration": 119,
    "start_time": "2021-12-03T07:38:10.938Z"
   },
   {
    "duration": 6,
    "start_time": "2021-12-03T07:38:11.060Z"
   },
   {
    "duration": 5,
    "start_time": "2021-12-03T07:38:16.508Z"
   },
   {
    "duration": 1729,
    "start_time": "2021-12-03T07:38:16.876Z"
   },
   {
    "duration": 144,
    "start_time": "2021-12-03T07:38:18.607Z"
   },
   {
    "duration": 5,
    "start_time": "2021-12-03T07:38:18.754Z"
   },
   {
    "duration": 3,
    "start_time": "2021-12-03T07:38:22.626Z"
   },
   {
    "duration": 1938,
    "start_time": "2021-12-03T07:38:22.882Z"
   },
   {
    "duration": 163,
    "start_time": "2021-12-03T07:38:24.822Z"
   },
   {
    "duration": 5,
    "start_time": "2021-12-03T07:38:24.988Z"
   },
   {
    "duration": 4,
    "start_time": "2021-12-03T07:38:29.316Z"
   },
   {
    "duration": 1875,
    "start_time": "2021-12-03T07:38:29.598Z"
   },
   {
    "duration": 171,
    "start_time": "2021-12-03T07:38:31.483Z"
   },
   {
    "duration": 7,
    "start_time": "2021-12-03T07:38:31.658Z"
   },
   {
    "duration": 3,
    "start_time": "2021-12-03T07:38:34.749Z"
   },
   {
    "duration": 1942,
    "start_time": "2021-12-03T07:38:35.213Z"
   },
   {
    "duration": 174,
    "start_time": "2021-12-03T07:38:37.158Z"
   },
   {
    "duration": 6,
    "start_time": "2021-12-03T07:38:37.335Z"
   },
   {
    "duration": 4,
    "start_time": "2021-12-03T07:38:41.383Z"
   },
   {
    "duration": 1878,
    "start_time": "2021-12-03T07:38:41.631Z"
   },
   {
    "duration": 181,
    "start_time": "2021-12-03T07:38:43.512Z"
   },
   {
    "duration": 6,
    "start_time": "2021-12-03T07:38:43.696Z"
   },
   {
    "duration": 4,
    "start_time": "2021-12-03T07:38:49.110Z"
   },
   {
    "duration": 1910,
    "start_time": "2021-12-03T07:38:49.346Z"
   },
   {
    "duration": 177,
    "start_time": "2021-12-03T07:38:51.258Z"
   },
   {
    "duration": 6,
    "start_time": "2021-12-03T07:38:51.437Z"
   },
   {
    "duration": 5,
    "start_time": "2021-12-03T07:38:57.430Z"
   },
   {
    "duration": 1906,
    "start_time": "2021-12-03T07:38:57.749Z"
   },
   {
    "duration": 184,
    "start_time": "2021-12-03T07:38:59.658Z"
   },
   {
    "duration": 5,
    "start_time": "2021-12-03T07:38:59.845Z"
   },
   {
    "duration": 4,
    "start_time": "2021-12-03T07:39:04.497Z"
   },
   {
    "duration": 2004,
    "start_time": "2021-12-03T07:39:04.736Z"
   },
   {
    "duration": 209,
    "start_time": "2021-12-03T07:39:06.743Z"
   },
   {
    "duration": 8,
    "start_time": "2021-12-03T07:39:06.955Z"
   },
   {
    "duration": 4,
    "start_time": "2021-12-03T07:39:10.991Z"
   },
   {
    "duration": 1985,
    "start_time": "2021-12-03T07:39:11.302Z"
   },
   {
    "duration": 196,
    "start_time": "2021-12-03T07:39:13.290Z"
   },
   {
    "duration": 5,
    "start_time": "2021-12-03T07:39:13.489Z"
   },
   {
    "duration": 5,
    "start_time": "2021-12-03T07:39:18.646Z"
   },
   {
    "duration": 1962,
    "start_time": "2021-12-03T07:39:18.865Z"
   },
   {
    "duration": 210,
    "start_time": "2021-12-03T07:39:20.829Z"
   },
   {
    "duration": 5,
    "start_time": "2021-12-03T07:39:21.042Z"
   },
   {
    "duration": 4,
    "start_time": "2021-12-03T07:39:27.892Z"
   },
   {
    "duration": 1952,
    "start_time": "2021-12-03T07:39:28.153Z"
   },
   {
    "duration": 211,
    "start_time": "2021-12-03T07:39:30.109Z"
   },
   {
    "duration": 6,
    "start_time": "2021-12-03T07:39:30.323Z"
   },
   {
    "duration": 5,
    "start_time": "2021-12-03T07:39:33.927Z"
   },
   {
    "duration": 2276,
    "start_time": "2021-12-03T07:39:34.185Z"
   },
   {
    "duration": 220,
    "start_time": "2021-12-03T07:39:36.464Z"
   },
   {
    "duration": 6,
    "start_time": "2021-12-03T07:39:36.687Z"
   },
   {
    "duration": 4,
    "start_time": "2021-12-03T07:39:40.355Z"
   },
   {
    "duration": 1976,
    "start_time": "2021-12-03T07:39:40.572Z"
   },
   {
    "duration": 199,
    "start_time": "2021-12-03T07:39:42.551Z"
   },
   {
    "duration": 7,
    "start_time": "2021-12-03T07:39:42.753Z"
   },
   {
    "duration": 5,
    "start_time": "2021-12-03T07:39:48.510Z"
   },
   {
    "duration": 1855,
    "start_time": "2021-12-03T07:39:48.771Z"
   },
   {
    "duration": 254,
    "start_time": "2021-12-03T07:39:50.630Z"
   },
   {
    "duration": 7,
    "start_time": "2021-12-03T07:39:50.888Z"
   },
   {
    "duration": 4,
    "start_time": "2021-12-03T07:39:54.203Z"
   },
   {
    "duration": 1518,
    "start_time": "2021-12-03T07:39:54.464Z"
   },
   {
    "duration": 199,
    "start_time": "2021-12-03T07:39:55.984Z"
   },
   {
    "duration": 6,
    "start_time": "2021-12-03T07:39:56.186Z"
   },
   {
    "duration": 4,
    "start_time": "2021-12-03T07:40:00.211Z"
   },
   {
    "duration": 1744,
    "start_time": "2021-12-03T07:40:00.450Z"
   },
   {
    "duration": 201,
    "start_time": "2021-12-03T07:40:02.197Z"
   },
   {
    "duration": 6,
    "start_time": "2021-12-03T07:40:02.401Z"
   },
   {
    "duration": 5,
    "start_time": "2021-12-03T07:40:06.289Z"
   },
   {
    "duration": 2003,
    "start_time": "2021-12-03T07:40:06.521Z"
   },
   {
    "duration": 200,
    "start_time": "2021-12-03T07:40:08.528Z"
   },
   {
    "duration": 7,
    "start_time": "2021-12-03T07:40:08.732Z"
   },
   {
    "duration": 4,
    "start_time": "2021-12-03T07:40:11.474Z"
   },
   {
    "duration": 2370,
    "start_time": "2021-12-03T07:40:11.747Z"
   },
   {
    "duration": 196,
    "start_time": "2021-12-03T07:40:14.120Z"
   },
   {
    "duration": 6,
    "start_time": "2021-12-03T07:40:14.319Z"
   },
   {
    "duration": 4,
    "start_time": "2021-12-03T07:40:17.165Z"
   },
   {
    "duration": 1982,
    "start_time": "2021-12-03T07:40:17.331Z"
   },
   {
    "duration": 200,
    "start_time": "2021-12-03T07:40:19.317Z"
   },
   {
    "duration": 6,
    "start_time": "2021-12-03T07:40:19.521Z"
   },
   {
    "duration": 3,
    "start_time": "2021-12-03T07:40:23.668Z"
   },
   {
    "duration": 2101,
    "start_time": "2021-12-03T07:40:23.930Z"
   },
   {
    "duration": 221,
    "start_time": "2021-12-03T07:40:26.035Z"
   },
   {
    "duration": 23,
    "start_time": "2021-12-03T07:40:26.259Z"
   },
   {
    "duration": 4,
    "start_time": "2021-12-03T07:40:30.826Z"
   },
   {
    "duration": 2582,
    "start_time": "2021-12-03T07:40:31.065Z"
   },
   {
    "duration": 234,
    "start_time": "2021-12-03T07:40:33.650Z"
   },
   {
    "duration": 7,
    "start_time": "2021-12-03T07:40:33.891Z"
   },
   {
    "duration": 4,
    "start_time": "2021-12-03T07:40:39.471Z"
   },
   {
    "duration": 2133,
    "start_time": "2021-12-03T07:40:39.678Z"
   },
   {
    "duration": 234,
    "start_time": "2021-12-03T07:40:41.814Z"
   },
   {
    "duration": 6,
    "start_time": "2021-12-03T07:40:42.050Z"
   },
   {
    "duration": 4,
    "start_time": "2021-12-03T07:40:47.619Z"
   },
   {
    "duration": 2031,
    "start_time": "2021-12-03T07:40:47.832Z"
   },
   {
    "duration": 220,
    "start_time": "2021-12-03T07:40:49.866Z"
   },
   {
    "duration": 7,
    "start_time": "2021-12-03T07:40:50.089Z"
   },
   {
    "duration": 4,
    "start_time": "2021-12-03T07:40:53.864Z"
   },
   {
    "duration": 2413,
    "start_time": "2021-12-03T07:40:54.077Z"
   },
   {
    "duration": 221,
    "start_time": "2021-12-03T07:40:56.492Z"
   },
   {
    "duration": 5,
    "start_time": "2021-12-03T07:40:56.716Z"
   },
   {
    "duration": 3,
    "start_time": "2021-12-03T07:41:00.799Z"
   },
   {
    "duration": 2120,
    "start_time": "2021-12-03T07:41:01.032Z"
   },
   {
    "duration": 214,
    "start_time": "2021-12-03T07:41:03.154Z"
   },
   {
    "duration": 11,
    "start_time": "2021-12-03T07:41:03.371Z"
   },
   {
    "duration": 4,
    "start_time": "2021-12-03T07:41:07.362Z"
   },
   {
    "duration": 2015,
    "start_time": "2021-12-03T07:41:07.562Z"
   },
   {
    "duration": 196,
    "start_time": "2021-12-03T07:41:09.579Z"
   },
   {
    "duration": 6,
    "start_time": "2021-12-03T07:41:09.783Z"
   },
   {
    "duration": 4,
    "start_time": "2021-12-03T07:41:14.413Z"
   },
   {
    "duration": 2010,
    "start_time": "2021-12-03T07:41:14.651Z"
   },
   {
    "duration": 220,
    "start_time": "2021-12-03T07:41:16.663Z"
   },
   {
    "duration": 6,
    "start_time": "2021-12-03T07:41:16.886Z"
   },
   {
    "duration": 3,
    "start_time": "2021-12-03T07:41:34.953Z"
   },
   {
    "duration": 486190,
    "start_time": "2021-12-03T07:41:35.394Z"
   },
   {
    "duration": 623,
    "start_time": "2021-12-03T07:49:41.587Z"
   },
   {
    "duration": 6,
    "start_time": "2021-12-03T07:49:42.213Z"
   },
   {
    "duration": 2722,
    "start_time": "2021-12-03T07:57:57.890Z"
   },
   {
    "duration": 1246,
    "start_time": "2021-12-03T07:58:00.614Z"
   },
   {
    "duration": 210,
    "start_time": "2021-12-03T07:58:01.863Z"
   },
   {
    "duration": 189,
    "start_time": "2021-12-03T07:58:02.076Z"
   },
   {
    "duration": 26224,
    "start_time": "2021-12-03T07:58:02.268Z"
   },
   {
    "duration": 38,
    "start_time": "2021-12-03T07:58:28.495Z"
   },
   {
    "duration": 26657,
    "start_time": "2021-12-03T07:58:28.536Z"
   },
   {
    "duration": 24,
    "start_time": "2021-12-03T07:58:55.198Z"
   },
   {
    "duration": 28603,
    "start_time": "2021-12-03T07:58:55.226Z"
   },
   {
    "duration": 49,
    "start_time": "2021-12-03T07:59:23.832Z"
   },
   {
    "duration": 361,
    "start_time": "2021-12-03T07:59:23.884Z"
   },
   {
    "duration": 753,
    "start_time": "2021-12-03T07:59:24.248Z"
   },
   {
    "duration": 885,
    "start_time": "2021-12-03T07:59:25.003Z"
   },
   {
    "duration": 36,
    "start_time": "2021-12-03T07:59:25.891Z"
   },
   {
    "duration": 418,
    "start_time": "2021-12-03T07:59:25.930Z"
   },
   {
    "duration": 338,
    "start_time": "2021-12-03T07:59:26.351Z"
   },
   {
    "duration": 436,
    "start_time": "2021-12-03T07:59:26.692Z"
   },
   {
    "duration": 396,
    "start_time": "2021-12-03T07:59:27.131Z"
   },
   {
    "duration": 24,
    "start_time": "2021-12-03T07:59:27.530Z"
   },
   {
    "duration": 394,
    "start_time": "2021-12-03T07:59:27.556Z"
   },
   {
    "duration": 349,
    "start_time": "2021-12-03T07:59:27.953Z"
   },
   {
    "duration": 14,
    "start_time": "2021-12-03T07:59:28.306Z"
   },
   {
    "duration": 170,
    "start_time": "2021-12-03T07:59:28.325Z"
   },
   {
    "duration": 60,
    "start_time": "2021-12-03T07:59:28.498Z"
   },
   {
    "duration": 36,
    "start_time": "2021-12-03T07:59:28.560Z"
   },
   {
    "duration": 20,
    "start_time": "2021-12-03T07:59:28.599Z"
   },
   {
    "duration": 5,
    "start_time": "2021-12-03T07:59:28.622Z"
   },
   {
    "duration": 9,
    "start_time": "2021-12-03T07:59:28.630Z"
   },
   {
    "duration": 42,
    "start_time": "2021-12-03T07:59:28.641Z"
   },
   {
    "duration": 43716,
    "start_time": "2021-12-03T07:59:28.686Z"
   },
   {
    "duration": 4,
    "start_time": "2021-12-03T08:00:12.483Z"
   },
   {
    "duration": 200,
    "start_time": "2021-12-03T08:00:12.490Z"
   },
   {
    "duration": 94,
    "start_time": "2021-12-03T08:00:12.694Z"
   },
   {
    "duration": 91,
    "start_time": "2021-12-03T08:00:12.792Z"
   },
   {
    "duration": 6,
    "start_time": "2021-12-03T08:00:12.887Z"
   },
   {
    "duration": 2422,
    "start_time": "2021-12-03T08:00:12.896Z"
   },
   {
    "duration": 227,
    "start_time": "2021-12-03T08:00:15.320Z"
   },
   {
    "duration": 6,
    "start_time": "2021-12-03T08:00:15.550Z"
   },
   {
    "duration": 24,
    "start_time": "2021-12-03T08:00:15.559Z"
   },
   {
    "duration": 512118,
    "start_time": "2021-12-03T08:00:15.586Z"
   },
   {
    "duration": 697,
    "start_time": "2021-12-03T08:08:47.707Z"
   },
   {
    "duration": 7,
    "start_time": "2021-12-03T08:08:48.409Z"
   }
  ],
  "kernelspec": {
   "display_name": "Python 3",
   "language": "python",
   "name": "python3"
  },
  "language_info": {
   "codemirror_mode": {
    "name": "ipython",
    "version": 3
   },
   "file_extension": ".py",
   "mimetype": "text/x-python",
   "name": "python",
   "nbconvert_exporter": "python",
   "pygments_lexer": "ipython3",
   "version": "3.8.5"
  },
  "toc": {
   "base_numbering": 1,
   "nav_menu": {},
   "number_sections": true,
   "sideBar": true,
   "skip_h1_title": true,
   "title_cell": "Table of Contents",
   "title_sidebar": "Contents",
   "toc_cell": false,
   "toc_position": {},
   "toc_section_display": true,
   "toc_window_display": false
  }
 },
 "nbformat": 4,
 "nbformat_minor": 2
}
