{
 "cells": [
  {
   "cell_type": "markdown",
   "metadata": {},
   "source": [
    "# Задача"
   ]
  },
  {
   "cell_type": "markdown",
   "metadata": {},
   "source": [
    "Перед нами данные интернет-магазина «Стримчик» за весь период до 2016 года. Нам нужно выявить определяющие успешность игры закономерности, чтобы  сделать ставку на потенциально популярный продукт и спланировать рекламные кампании на 2017 год"
   ]
  },
  {
   "cell_type": "markdown",
   "metadata": {},
   "source": [
    "# **Загрузка и знакомство с данными**"
   ]
  },
  {
   "cell_type": "markdown",
   "metadata": {},
   "source": [
    "Описание полей\n",
    "\n",
    "Name — название игры  \n",
    "Platform — платформа  \n",
    "Year_of_Release — год выпуска  \n",
    "Genre — жанр игры  \n",
    "NA_sales — продажи в Северной Америке (миллионы проданных копий)  \n",
    "EU_sales — продажи в Европе (миллионы проданных копий)  \n",
    "JP_sales — продажи в Японии (миллионы проданных копий)  \n",
    "Other_sales — продажи в других странах (миллионы проданных копий)  \n",
    "Critic_Score — оценка критиков (максимум 100)  \n",
    "User_Score — оценка пользователей (максимум 10)  \n",
    "Rating — рейтинг от организации ESRB"
   ]
  },
  {
   "cell_type": "code",
   "execution_count": 1,
   "metadata": {},
   "outputs": [],
   "source": [
    "import pandas as pd\n",
    "import numpy as np\n",
    "import matplotlib.pyplot as plt\n",
    "import seaborn as sns\n",
    "import math as mt\n",
    "from math import factorial\n",
    "from scipy import stats as st\n",
    "import re\n",
    "\n",
    "import warnings\n",
    "warnings.filterwarnings('ignore')"
   ]
  },
  {
   "cell_type": "code",
   "execution_count": 2,
   "metadata": {},
   "outputs": [],
   "source": [
    "df = pd.read_csv('games.csv')"
   ]
  },
  {
   "cell_type": "code",
   "execution_count": 3,
   "metadata": {
    "scrolled": true
   },
   "outputs": [
    {
     "data": {
      "text/html": [
       "<div>\n",
       "<style scoped>\n",
       "    .dataframe tbody tr th:only-of-type {\n",
       "        vertical-align: middle;\n",
       "    }\n",
       "\n",
       "    .dataframe tbody tr th {\n",
       "        vertical-align: top;\n",
       "    }\n",
       "\n",
       "    .dataframe thead th {\n",
       "        text-align: right;\n",
       "    }\n",
       "</style>\n",
       "<table border=\"1\" class=\"dataframe\">\n",
       "  <thead>\n",
       "    <tr style=\"text-align: right;\">\n",
       "      <th></th>\n",
       "      <th>Name</th>\n",
       "      <th>Platform</th>\n",
       "      <th>Year_of_Release</th>\n",
       "      <th>Genre</th>\n",
       "      <th>NA_sales</th>\n",
       "      <th>EU_sales</th>\n",
       "      <th>JP_sales</th>\n",
       "      <th>Other_sales</th>\n",
       "      <th>Critic_Score</th>\n",
       "      <th>User_Score</th>\n",
       "      <th>Rating</th>\n",
       "    </tr>\n",
       "  </thead>\n",
       "  <tbody>\n",
       "    <tr>\n",
       "      <th>0</th>\n",
       "      <td>Wii Sports</td>\n",
       "      <td>Wii</td>\n",
       "      <td>2006.0</td>\n",
       "      <td>Sports</td>\n",
       "      <td>41.36</td>\n",
       "      <td>28.96</td>\n",
       "      <td>3.77</td>\n",
       "      <td>8.45</td>\n",
       "      <td>76.0</td>\n",
       "      <td>8</td>\n",
       "      <td>E</td>\n",
       "    </tr>\n",
       "    <tr>\n",
       "      <th>1</th>\n",
       "      <td>Super Mario Bros.</td>\n",
       "      <td>NES</td>\n",
       "      <td>1985.0</td>\n",
       "      <td>Platform</td>\n",
       "      <td>29.08</td>\n",
       "      <td>3.58</td>\n",
       "      <td>6.81</td>\n",
       "      <td>0.77</td>\n",
       "      <td>NaN</td>\n",
       "      <td>NaN</td>\n",
       "      <td>NaN</td>\n",
       "    </tr>\n",
       "    <tr>\n",
       "      <th>2</th>\n",
       "      <td>Mario Kart Wii</td>\n",
       "      <td>Wii</td>\n",
       "      <td>2008.0</td>\n",
       "      <td>Racing</td>\n",
       "      <td>15.68</td>\n",
       "      <td>12.76</td>\n",
       "      <td>3.79</td>\n",
       "      <td>3.29</td>\n",
       "      <td>82.0</td>\n",
       "      <td>8.3</td>\n",
       "      <td>E</td>\n",
       "    </tr>\n",
       "    <tr>\n",
       "      <th>3</th>\n",
       "      <td>Wii Sports Resort</td>\n",
       "      <td>Wii</td>\n",
       "      <td>2009.0</td>\n",
       "      <td>Sports</td>\n",
       "      <td>15.61</td>\n",
       "      <td>10.93</td>\n",
       "      <td>3.28</td>\n",
       "      <td>2.95</td>\n",
       "      <td>80.0</td>\n",
       "      <td>8</td>\n",
       "      <td>E</td>\n",
       "    </tr>\n",
       "    <tr>\n",
       "      <th>4</th>\n",
       "      <td>Pokemon Red/Pokemon Blue</td>\n",
       "      <td>GB</td>\n",
       "      <td>1996.0</td>\n",
       "      <td>Role-Playing</td>\n",
       "      <td>11.27</td>\n",
       "      <td>8.89</td>\n",
       "      <td>10.22</td>\n",
       "      <td>1.00</td>\n",
       "      <td>NaN</td>\n",
       "      <td>NaN</td>\n",
       "      <td>NaN</td>\n",
       "    </tr>\n",
       "  </tbody>\n",
       "</table>\n",
       "</div>"
      ],
      "text/plain": [
       "                       Name Platform  Year_of_Release         Genre  NA_sales  \\\n",
       "0                Wii Sports      Wii           2006.0        Sports     41.36   \n",
       "1         Super Mario Bros.      NES           1985.0      Platform     29.08   \n",
       "2            Mario Kart Wii      Wii           2008.0        Racing     15.68   \n",
       "3         Wii Sports Resort      Wii           2009.0        Sports     15.61   \n",
       "4  Pokemon Red/Pokemon Blue       GB           1996.0  Role-Playing     11.27   \n",
       "\n",
       "   EU_sales  JP_sales  Other_sales  Critic_Score User_Score Rating  \n",
       "0     28.96      3.77         8.45          76.0          8      E  \n",
       "1      3.58      6.81         0.77           NaN        NaN    NaN  \n",
       "2     12.76      3.79         3.29          82.0        8.3      E  \n",
       "3     10.93      3.28         2.95          80.0          8      E  \n",
       "4      8.89     10.22         1.00           NaN        NaN    NaN  "
      ]
     },
     "execution_count": 3,
     "metadata": {},
     "output_type": "execute_result"
    }
   ],
   "source": [
    "df.head()"
   ]
  },
  {
   "cell_type": "code",
   "execution_count": 4,
   "metadata": {},
   "outputs": [
    {
     "name": "stdout",
     "output_type": "stream",
     "text": [
      "<class 'pandas.core.frame.DataFrame'>\n",
      "RangeIndex: 16715 entries, 0 to 16714\n",
      "Data columns (total 11 columns):\n",
      " #   Column           Non-Null Count  Dtype  \n",
      "---  ------           --------------  -----  \n",
      " 0   Name             16713 non-null  object \n",
      " 1   Platform         16715 non-null  object \n",
      " 2   Year_of_Release  16446 non-null  float64\n",
      " 3   Genre            16713 non-null  object \n",
      " 4   NA_sales         16715 non-null  float64\n",
      " 5   EU_sales         16715 non-null  float64\n",
      " 6   JP_sales         16715 non-null  float64\n",
      " 7   Other_sales      16715 non-null  float64\n",
      " 8   Critic_Score     8137 non-null   float64\n",
      " 9   User_Score       10014 non-null  object \n",
      " 10  Rating           9949 non-null   object \n",
      "dtypes: float64(6), object(5)\n",
      "memory usage: 1.4+ MB\n"
     ]
    }
   ],
   "source": [
    "df.info()"
   ]
  },
  {
   "cell_type": "markdown",
   "metadata": {},
   "source": [
    "Всего в нашей таблице 16715 наблюдений и 11 уникальных признаков"
   ]
  },
  {
   "cell_type": "markdown",
   "metadata": {},
   "source": [
    "# Предобработка данных"
   ]
  },
  {
   "cell_type": "markdown",
   "metadata": {},
   "source": [
    "Приведем все названия столбцов в нижний регистр"
   ]
  },
  {
   "cell_type": "code",
   "execution_count": 5,
   "metadata": {},
   "outputs": [],
   "source": [
    "df.columns = df.columns.str.lower()"
   ]
  },
  {
   "cell_type": "code",
   "execution_count": 6,
   "metadata": {
    "scrolled": true
   },
   "outputs": [
    {
     "data": {
      "text/plain": [
       "Index(['name', 'platform', 'year_of_release', 'genre', 'na_sales', 'eu_sales',\n",
       "       'jp_sales', 'other_sales', 'critic_score', 'user_score', 'rating'],\n",
       "      dtype='object')"
      ]
     },
     "execution_count": 6,
     "metadata": {},
     "output_type": "execute_result"
    }
   ],
   "source": [
    "df.columns"
   ]
  },
  {
   "cell_type": "code",
   "execution_count": 7,
   "metadata": {},
   "outputs": [
    {
     "data": {
      "text/plain": [
       "name                  2\n",
       "platform              0\n",
       "year_of_release     269\n",
       "genre                 2\n",
       "na_sales              0\n",
       "eu_sales              0\n",
       "jp_sales              0\n",
       "other_sales           0\n",
       "critic_score       8578\n",
       "user_score         6701\n",
       "rating             6766\n",
       "dtype: int64"
      ]
     },
     "execution_count": 7,
     "metadata": {},
     "output_type": "execute_result"
    }
   ],
   "source": [
    "df.isna().sum()"
   ]
  },
  {
   "cell_type": "code",
   "execution_count": 8,
   "metadata": {},
   "outputs": [
    {
     "data": {
      "text/html": [
       "<div>\n",
       "<style scoped>\n",
       "    .dataframe tbody tr th:only-of-type {\n",
       "        vertical-align: middle;\n",
       "    }\n",
       "\n",
       "    .dataframe tbody tr th {\n",
       "        vertical-align: top;\n",
       "    }\n",
       "\n",
       "    .dataframe thead th {\n",
       "        text-align: right;\n",
       "    }\n",
       "</style>\n",
       "<table border=\"1\" class=\"dataframe\">\n",
       "  <thead>\n",
       "    <tr style=\"text-align: right;\">\n",
       "      <th></th>\n",
       "      <th>name</th>\n",
       "      <th>platform</th>\n",
       "      <th>year_of_release</th>\n",
       "      <th>genre</th>\n",
       "      <th>na_sales</th>\n",
       "      <th>eu_sales</th>\n",
       "      <th>jp_sales</th>\n",
       "      <th>other_sales</th>\n",
       "      <th>critic_score</th>\n",
       "      <th>user_score</th>\n",
       "      <th>rating</th>\n",
       "    </tr>\n",
       "  </thead>\n",
       "  <tbody>\n",
       "    <tr>\n",
       "      <th>659</th>\n",
       "      <td>NaN</td>\n",
       "      <td>GEN</td>\n",
       "      <td>1993.0</td>\n",
       "      <td>NaN</td>\n",
       "      <td>1.78</td>\n",
       "      <td>0.53</td>\n",
       "      <td>0.00</td>\n",
       "      <td>0.08</td>\n",
       "      <td>NaN</td>\n",
       "      <td>NaN</td>\n",
       "      <td>NaN</td>\n",
       "    </tr>\n",
       "    <tr>\n",
       "      <th>14244</th>\n",
       "      <td>NaN</td>\n",
       "      <td>GEN</td>\n",
       "      <td>1993.0</td>\n",
       "      <td>NaN</td>\n",
       "      <td>0.00</td>\n",
       "      <td>0.00</td>\n",
       "      <td>0.03</td>\n",
       "      <td>0.00</td>\n",
       "      <td>NaN</td>\n",
       "      <td>NaN</td>\n",
       "      <td>NaN</td>\n",
       "    </tr>\n",
       "  </tbody>\n",
       "</table>\n",
       "</div>"
      ],
      "text/plain": [
       "      name platform  year_of_release genre  na_sales  eu_sales  jp_sales  \\\n",
       "659    NaN      GEN           1993.0   NaN      1.78      0.53      0.00   \n",
       "14244  NaN      GEN           1993.0   NaN      0.00      0.00      0.03   \n",
       "\n",
       "       other_sales  critic_score user_score rating  \n",
       "659           0.08           NaN        NaN    NaN  \n",
       "14244         0.00           NaN        NaN    NaN  "
      ]
     },
     "execution_count": 8,
     "metadata": {},
     "output_type": "execute_result"
    }
   ],
   "source": [
    "df[df['name'].isna()]"
   ]
  },
  {
   "cell_type": "markdown",
   "metadata": {},
   "source": [
    "Пропущенные значения в столбцах name и genre совпадают. Большинство признаков у этих 2 наблюдений тоже пропущены. Поэтому их можно удалить"
   ]
  },
  {
   "cell_type": "code",
   "execution_count": 9,
   "metadata": {},
   "outputs": [],
   "source": [
    "df = df[~df['name'].isna()].reset_index(drop=True)"
   ]
  },
  {
   "cell_type": "code",
   "execution_count": 10,
   "metadata": {},
   "outputs": [
    {
     "data": {
      "text/html": [
       "<div>\n",
       "<style scoped>\n",
       "    .dataframe tbody tr th:only-of-type {\n",
       "        vertical-align: middle;\n",
       "    }\n",
       "\n",
       "    .dataframe tbody tr th {\n",
       "        vertical-align: top;\n",
       "    }\n",
       "\n",
       "    .dataframe thead th {\n",
       "        text-align: right;\n",
       "    }\n",
       "</style>\n",
       "<table border=\"1\" class=\"dataframe\">\n",
       "  <thead>\n",
       "    <tr style=\"text-align: right;\">\n",
       "      <th></th>\n",
       "      <th>name</th>\n",
       "      <th>platform</th>\n",
       "      <th>year_of_release</th>\n",
       "      <th>genre</th>\n",
       "      <th>na_sales</th>\n",
       "      <th>eu_sales</th>\n",
       "      <th>jp_sales</th>\n",
       "      <th>other_sales</th>\n",
       "      <th>critic_score</th>\n",
       "      <th>user_score</th>\n",
       "      <th>rating</th>\n",
       "    </tr>\n",
       "  </thead>\n",
       "  <tbody>\n",
       "    <tr>\n",
       "      <th>183</th>\n",
       "      <td>Madden NFL 2004</td>\n",
       "      <td>PS2</td>\n",
       "      <td>NaN</td>\n",
       "      <td>Sports</td>\n",
       "      <td>4.26</td>\n",
       "      <td>0.26</td>\n",
       "      <td>0.01</td>\n",
       "      <td>0.71</td>\n",
       "      <td>94.0</td>\n",
       "      <td>8.5</td>\n",
       "      <td>E</td>\n",
       "    </tr>\n",
       "    <tr>\n",
       "      <th>377</th>\n",
       "      <td>FIFA Soccer 2004</td>\n",
       "      <td>PS2</td>\n",
       "      <td>NaN</td>\n",
       "      <td>Sports</td>\n",
       "      <td>0.59</td>\n",
       "      <td>2.36</td>\n",
       "      <td>0.04</td>\n",
       "      <td>0.51</td>\n",
       "      <td>84.0</td>\n",
       "      <td>6.4</td>\n",
       "      <td>E</td>\n",
       "    </tr>\n",
       "    <tr>\n",
       "      <th>456</th>\n",
       "      <td>LEGO Batman: The Videogame</td>\n",
       "      <td>Wii</td>\n",
       "      <td>NaN</td>\n",
       "      <td>Action</td>\n",
       "      <td>1.80</td>\n",
       "      <td>0.97</td>\n",
       "      <td>0.00</td>\n",
       "      <td>0.29</td>\n",
       "      <td>74.0</td>\n",
       "      <td>7.9</td>\n",
       "      <td>E10+</td>\n",
       "    </tr>\n",
       "    <tr>\n",
       "      <th>475</th>\n",
       "      <td>wwe Smackdown vs. Raw 2006</td>\n",
       "      <td>PS2</td>\n",
       "      <td>NaN</td>\n",
       "      <td>Fighting</td>\n",
       "      <td>1.57</td>\n",
       "      <td>1.02</td>\n",
       "      <td>0.00</td>\n",
       "      <td>0.41</td>\n",
       "      <td>NaN</td>\n",
       "      <td>NaN</td>\n",
       "      <td>NaN</td>\n",
       "    </tr>\n",
       "    <tr>\n",
       "      <th>609</th>\n",
       "      <td>Space Invaders</td>\n",
       "      <td>2600</td>\n",
       "      <td>NaN</td>\n",
       "      <td>Shooter</td>\n",
       "      <td>2.36</td>\n",
       "      <td>0.14</td>\n",
       "      <td>0.00</td>\n",
       "      <td>0.03</td>\n",
       "      <td>NaN</td>\n",
       "      <td>NaN</td>\n",
       "      <td>NaN</td>\n",
       "    </tr>\n",
       "    <tr>\n",
       "      <th>...</th>\n",
       "      <td>...</td>\n",
       "      <td>...</td>\n",
       "      <td>...</td>\n",
       "      <td>...</td>\n",
       "      <td>...</td>\n",
       "      <td>...</td>\n",
       "      <td>...</td>\n",
       "      <td>...</td>\n",
       "      <td>...</td>\n",
       "      <td>...</td>\n",
       "      <td>...</td>\n",
       "    </tr>\n",
       "    <tr>\n",
       "      <th>16371</th>\n",
       "      <td>PDC World Championship Darts 2008</td>\n",
       "      <td>PSP</td>\n",
       "      <td>NaN</td>\n",
       "      <td>Sports</td>\n",
       "      <td>0.01</td>\n",
       "      <td>0.00</td>\n",
       "      <td>0.00</td>\n",
       "      <td>0.00</td>\n",
       "      <td>43.0</td>\n",
       "      <td>tbd</td>\n",
       "      <td>E10+</td>\n",
       "    </tr>\n",
       "    <tr>\n",
       "      <th>16403</th>\n",
       "      <td>Freaky Flyers</td>\n",
       "      <td>GC</td>\n",
       "      <td>NaN</td>\n",
       "      <td>Racing</td>\n",
       "      <td>0.01</td>\n",
       "      <td>0.00</td>\n",
       "      <td>0.00</td>\n",
       "      <td>0.00</td>\n",
       "      <td>69.0</td>\n",
       "      <td>6.5</td>\n",
       "      <td>T</td>\n",
       "    </tr>\n",
       "    <tr>\n",
       "      <th>16446</th>\n",
       "      <td>Inversion</td>\n",
       "      <td>PC</td>\n",
       "      <td>NaN</td>\n",
       "      <td>Shooter</td>\n",
       "      <td>0.01</td>\n",
       "      <td>0.00</td>\n",
       "      <td>0.00</td>\n",
       "      <td>0.00</td>\n",
       "      <td>59.0</td>\n",
       "      <td>6.7</td>\n",
       "      <td>M</td>\n",
       "    </tr>\n",
       "    <tr>\n",
       "      <th>16456</th>\n",
       "      <td>Hakuouki: Shinsengumi Kitan</td>\n",
       "      <td>PS3</td>\n",
       "      <td>NaN</td>\n",
       "      <td>Adventure</td>\n",
       "      <td>0.01</td>\n",
       "      <td>0.00</td>\n",
       "      <td>0.00</td>\n",
       "      <td>0.00</td>\n",
       "      <td>NaN</td>\n",
       "      <td>NaN</td>\n",
       "      <td>NaN</td>\n",
       "    </tr>\n",
       "    <tr>\n",
       "      <th>16520</th>\n",
       "      <td>Virtua Quest</td>\n",
       "      <td>GC</td>\n",
       "      <td>NaN</td>\n",
       "      <td>Role-Playing</td>\n",
       "      <td>0.01</td>\n",
       "      <td>0.00</td>\n",
       "      <td>0.00</td>\n",
       "      <td>0.00</td>\n",
       "      <td>55.0</td>\n",
       "      <td>5.5</td>\n",
       "      <td>T</td>\n",
       "    </tr>\n",
       "  </tbody>\n",
       "</table>\n",
       "<p>269 rows × 11 columns</p>\n",
       "</div>"
      ],
      "text/plain": [
       "                                    name platform  year_of_release  \\\n",
       "183                      Madden NFL 2004      PS2              NaN   \n",
       "377                     FIFA Soccer 2004      PS2              NaN   \n",
       "456           LEGO Batman: The Videogame      Wii              NaN   \n",
       "475           wwe Smackdown vs. Raw 2006      PS2              NaN   \n",
       "609                       Space Invaders     2600              NaN   \n",
       "...                                  ...      ...              ...   \n",
       "16371  PDC World Championship Darts 2008      PSP              NaN   \n",
       "16403                      Freaky Flyers       GC              NaN   \n",
       "16446                          Inversion       PC              NaN   \n",
       "16456        Hakuouki: Shinsengumi Kitan      PS3              NaN   \n",
       "16520                       Virtua Quest       GC              NaN   \n",
       "\n",
       "              genre  na_sales  eu_sales  jp_sales  other_sales  critic_score  \\\n",
       "183          Sports      4.26      0.26      0.01         0.71          94.0   \n",
       "377          Sports      0.59      2.36      0.04         0.51          84.0   \n",
       "456          Action      1.80      0.97      0.00         0.29          74.0   \n",
       "475        Fighting      1.57      1.02      0.00         0.41           NaN   \n",
       "609         Shooter      2.36      0.14      0.00         0.03           NaN   \n",
       "...             ...       ...       ...       ...          ...           ...   \n",
       "16371        Sports      0.01      0.00      0.00         0.00          43.0   \n",
       "16403        Racing      0.01      0.00      0.00         0.00          69.0   \n",
       "16446       Shooter      0.01      0.00      0.00         0.00          59.0   \n",
       "16456     Adventure      0.01      0.00      0.00         0.00           NaN   \n",
       "16520  Role-Playing      0.01      0.00      0.00         0.00          55.0   \n",
       "\n",
       "      user_score rating  \n",
       "183          8.5      E  \n",
       "377          6.4      E  \n",
       "456          7.9   E10+  \n",
       "475          NaN    NaN  \n",
       "609          NaN    NaN  \n",
       "...          ...    ...  \n",
       "16371        tbd   E10+  \n",
       "16403        6.5      T  \n",
       "16446        6.7      M  \n",
       "16456        NaN    NaN  \n",
       "16520        5.5      T  \n",
       "\n",
       "[269 rows x 11 columns]"
      ]
     },
     "execution_count": 10,
     "metadata": {},
     "output_type": "execute_result"
    }
   ],
   "source": [
    "df[df['year_of_release'].isna()]"
   ]
  },
  {
   "cell_type": "markdown",
   "metadata": {},
   "source": [
    "Пропущенные значение в столбце year_of_release можно заполнить пользуясь названием игры. Также информация о дате выпуска может находиться в других платформах этой игры "
   ]
  },
  {
   "cell_type": "code",
   "execution_count": 11,
   "metadata": {},
   "outputs": [],
   "source": [
    "def get_release_year(row):\n",
    "    name = row['name']\n",
    "    m = re.search(r'\\d+$', name)\n",
    "    year = 0\n",
    "    if m is not None:\n",
    "        if len(m.group())  == 4:\n",
    "            year = int(m.group())\n",
    "    if year > 1900 and year <= 2017:\n",
    "        return year\n",
    "    \n",
    "    year = df[df['name'] == name]['year_of_release'].median()\n",
    "    return year"
   ]
  },
  {
   "cell_type": "code",
   "execution_count": 12,
   "metadata": {},
   "outputs": [],
   "source": [
    "df.loc[df['year_of_release'].isna(), 'year_of_release'] = df.loc[df['year_of_release'].isna()].apply(get_release_year, axis=1)"
   ]
  },
  {
   "cell_type": "code",
   "execution_count": 13,
   "metadata": {
    "scrolled": false
   },
   "outputs": [
    {
     "data": {
      "text/plain": [
       "array([2006. , 1985. , 2008. , 2009. , 1996. , 1989. , 1984. , 2005. ,\n",
       "       1999. , 2007. , 2010. , 2013. , 2004. , 1990. , 1988. , 2002. ,\n",
       "       2001. , 2011. , 1998. , 2015. , 2012. , 2014. , 1992. , 1997. ,\n",
       "       1993. , 1994. , 1982. , 2016. , 2003. , 1986. , 2000. , 1995. ,\n",
       "       1991. , 1981. , 1987. , 1980. , 1983. ,    nan, 2002.5, 2013.5,\n",
       "       2005.5, 2001.5])"
      ]
     },
     "execution_count": 13,
     "metadata": {},
     "output_type": "execute_result"
    }
   ],
   "source": [
    "df['year_of_release'].unique()"
   ]
  },
  {
   "cell_type": "markdown",
   "metadata": {},
   "source": [
    "Нужно округлить нецелые значения года"
   ]
  },
  {
   "cell_type": "code",
   "execution_count": 14,
   "metadata": {},
   "outputs": [],
   "source": [
    "df.loc[~df['year_of_release'].isna(), 'year_of_release'] = df.loc[~df['year_of_release'].isna(), 'year_of_release'].astype('int')"
   ]
  },
  {
   "cell_type": "code",
   "execution_count": 15,
   "metadata": {},
   "outputs": [
    {
     "data": {
      "text/plain": [
       "array([2006., 1985., 2008., 2009., 1996., 1989., 1984., 2005., 1999.,\n",
       "       2007., 2010., 2013., 2004., 1990., 1988., 2002., 2001., 2011.,\n",
       "       1998., 2015., 2012., 2014., 1992., 1997., 1993., 1994., 1982.,\n",
       "       2016., 2003., 1986., 2000., 1995., 1991., 1981., 1987., 1980.,\n",
       "       1983.,   nan])"
      ]
     },
     "execution_count": 15,
     "metadata": {},
     "output_type": "execute_result"
    }
   ],
   "source": [
    "df['year_of_release'].unique()"
   ]
  },
  {
   "cell_type": "markdown",
   "metadata": {},
   "source": [
    "Приведем столбцы к правильному типу данных"
   ]
  },
  {
   "cell_type": "code",
   "execution_count": 16,
   "metadata": {},
   "outputs": [
    {
     "data": {
      "text/plain": [
       "name                object\n",
       "platform            object\n",
       "year_of_release    float64\n",
       "genre               object\n",
       "na_sales           float64\n",
       "eu_sales           float64\n",
       "jp_sales           float64\n",
       "other_sales        float64\n",
       "critic_score       float64\n",
       "user_score          object\n",
       "rating              object\n",
       "dtype: object"
      ]
     },
     "execution_count": 16,
     "metadata": {},
     "output_type": "execute_result"
    }
   ],
   "source": [
    "df.dtypes"
   ]
  },
  {
   "cell_type": "markdown",
   "metadata": {},
   "source": [
    "Проверим почему тип данных в столбце user_score - object."
   ]
  },
  {
   "cell_type": "code",
   "execution_count": 17,
   "metadata": {
    "scrolled": false
   },
   "outputs": [
    {
     "data": {
      "text/plain": [
       "array(['8', nan, '8.3', '8.5', '6.6', '8.4', '8.6', '7.7', '6.3', '7.4',\n",
       "       '8.2', '9', '7.9', '8.1', '8.7', '7.1', '3.4', '5.3', '4.8', '3.2',\n",
       "       '8.9', '6.4', '7.8', '7.5', '2.6', '7.2', '9.2', '7', '7.3', '4.3',\n",
       "       '7.6', '5.7', '5', '9.1', '6.5', 'tbd', '8.8', '6.9', '9.4', '6.8',\n",
       "       '6.1', '6.7', '5.4', '4', '4.9', '4.5', '9.3', '6.2', '4.2', '6',\n",
       "       '3.7', '4.1', '5.8', '5.6', '5.5', '4.4', '4.6', '5.9', '3.9',\n",
       "       '3.1', '2.9', '5.2', '3.3', '4.7', '5.1', '3.5', '2.5', '1.9', '3',\n",
       "       '2.7', '2.2', '2', '9.5', '2.1', '3.6', '2.8', '1.8', '3.8', '0',\n",
       "       '1.6', '9.6', '2.4', '1.7', '1.1', '0.3', '1.5', '0.7', '1.2',\n",
       "       '2.3', '0.5', '1.3', '0.2', '0.6', '1.4', '0.9', '1', '9.7'],\n",
       "      dtype=object)"
      ]
     },
     "execution_count": 17,
     "metadata": {},
     "output_type": "execute_result"
    }
   ],
   "source": [
    "df['user_score'].unique()"
   ]
  },
  {
   "cell_type": "markdown",
   "metadata": {},
   "source": [
    "'tbd' - to be determined, т.е. будет определено. Это данные за 2016 год? "
   ]
  },
  {
   "cell_type": "code",
   "execution_count": 18,
   "metadata": {},
   "outputs": [
    {
     "data": {
      "text/plain": [
       "array([2010., 2005., 2011.,   nan, 2009., 2004., 1999., 2001., 2008.,\n",
       "       2007., 2003., 2000., 2006., 2002., 2015., 2014., 2012., 2013.,\n",
       "       2016., 1997.])"
      ]
     },
     "execution_count": 18,
     "metadata": {},
     "output_type": "execute_result"
    }
   ],
   "source": [
    "df[df['user_score']=='tbd']['year_of_release'].unique()"
   ]
  },
  {
   "cell_type": "markdown",
   "metadata": {},
   "source": [
    "'tbd' присутствуют почти во всех годах. Тогда будем считать их как пропущенные значения. Изменим тип данных в столбце user_score в числовой тип с помощью pd.to_numeric()"
   ]
  },
  {
   "cell_type": "code",
   "execution_count": 19,
   "metadata": {},
   "outputs": [],
   "source": [
    "df['user_score'] = pd.to_numeric(df['user_score'], errors='coerce')"
   ]
  },
  {
   "cell_type": "code",
   "execution_count": 20,
   "metadata": {},
   "outputs": [
    {
     "data": {
      "text/plain": [
       "name                object\n",
       "platform            object\n",
       "year_of_release    float64\n",
       "genre               object\n",
       "na_sales           float64\n",
       "eu_sales           float64\n",
       "jp_sales           float64\n",
       "other_sales        float64\n",
       "critic_score       float64\n",
       "user_score         float64\n",
       "rating              object\n",
       "dtype: object"
      ]
     },
     "execution_count": 20,
     "metadata": {},
     "output_type": "execute_result"
    }
   ],
   "source": [
    "df.dtypes"
   ]
  },
  {
   "cell_type": "markdown",
   "metadata": {},
   "source": [
    "Также проверим на дубликаты"
   ]
  },
  {
   "cell_type": "code",
   "execution_count": 21,
   "metadata": {},
   "outputs": [
    {
     "data": {
      "text/plain": [
       "0"
      ]
     },
     "execution_count": 21,
     "metadata": {},
     "output_type": "execute_result"
    }
   ],
   "source": [
    "df.duplicated().sum()"
   ]
  },
  {
   "cell_type": "markdown",
   "metadata": {},
   "source": [
    "# Добавление столбца total_sales"
   ]
  },
  {
   "cell_type": "code",
   "execution_count": 22,
   "metadata": {},
   "outputs": [],
   "source": [
    "df['total_sales'] = df[['na_sales','eu_sales','jp_sales','other_sales']].sum(axis=1)"
   ]
  },
  {
   "cell_type": "code",
   "execution_count": 23,
   "metadata": {},
   "outputs": [
    {
     "data": {
      "text/html": [
       "<div>\n",
       "<style scoped>\n",
       "    .dataframe tbody tr th:only-of-type {\n",
       "        vertical-align: middle;\n",
       "    }\n",
       "\n",
       "    .dataframe tbody tr th {\n",
       "        vertical-align: top;\n",
       "    }\n",
       "\n",
       "    .dataframe thead th {\n",
       "        text-align: right;\n",
       "    }\n",
       "</style>\n",
       "<table border=\"1\" class=\"dataframe\">\n",
       "  <thead>\n",
       "    <tr style=\"text-align: right;\">\n",
       "      <th></th>\n",
       "      <th>name</th>\n",
       "      <th>platform</th>\n",
       "      <th>year_of_release</th>\n",
       "      <th>genre</th>\n",
       "      <th>na_sales</th>\n",
       "      <th>eu_sales</th>\n",
       "      <th>jp_sales</th>\n",
       "      <th>other_sales</th>\n",
       "      <th>critic_score</th>\n",
       "      <th>user_score</th>\n",
       "      <th>rating</th>\n",
       "      <th>total_sales</th>\n",
       "    </tr>\n",
       "  </thead>\n",
       "  <tbody>\n",
       "    <tr>\n",
       "      <th>0</th>\n",
       "      <td>Wii Sports</td>\n",
       "      <td>Wii</td>\n",
       "      <td>2006.0</td>\n",
       "      <td>Sports</td>\n",
       "      <td>41.36</td>\n",
       "      <td>28.96</td>\n",
       "      <td>3.77</td>\n",
       "      <td>8.45</td>\n",
       "      <td>76.0</td>\n",
       "      <td>8.0</td>\n",
       "      <td>E</td>\n",
       "      <td>82.54</td>\n",
       "    </tr>\n",
       "    <tr>\n",
       "      <th>1</th>\n",
       "      <td>Super Mario Bros.</td>\n",
       "      <td>NES</td>\n",
       "      <td>1985.0</td>\n",
       "      <td>Platform</td>\n",
       "      <td>29.08</td>\n",
       "      <td>3.58</td>\n",
       "      <td>6.81</td>\n",
       "      <td>0.77</td>\n",
       "      <td>NaN</td>\n",
       "      <td>NaN</td>\n",
       "      <td>NaN</td>\n",
       "      <td>40.24</td>\n",
       "    </tr>\n",
       "    <tr>\n",
       "      <th>2</th>\n",
       "      <td>Mario Kart Wii</td>\n",
       "      <td>Wii</td>\n",
       "      <td>2008.0</td>\n",
       "      <td>Racing</td>\n",
       "      <td>15.68</td>\n",
       "      <td>12.76</td>\n",
       "      <td>3.79</td>\n",
       "      <td>3.29</td>\n",
       "      <td>82.0</td>\n",
       "      <td>8.3</td>\n",
       "      <td>E</td>\n",
       "      <td>35.52</td>\n",
       "    </tr>\n",
       "    <tr>\n",
       "      <th>3</th>\n",
       "      <td>Wii Sports Resort</td>\n",
       "      <td>Wii</td>\n",
       "      <td>2009.0</td>\n",
       "      <td>Sports</td>\n",
       "      <td>15.61</td>\n",
       "      <td>10.93</td>\n",
       "      <td>3.28</td>\n",
       "      <td>2.95</td>\n",
       "      <td>80.0</td>\n",
       "      <td>8.0</td>\n",
       "      <td>E</td>\n",
       "      <td>32.77</td>\n",
       "    </tr>\n",
       "    <tr>\n",
       "      <th>4</th>\n",
       "      <td>Pokemon Red/Pokemon Blue</td>\n",
       "      <td>GB</td>\n",
       "      <td>1996.0</td>\n",
       "      <td>Role-Playing</td>\n",
       "      <td>11.27</td>\n",
       "      <td>8.89</td>\n",
       "      <td>10.22</td>\n",
       "      <td>1.00</td>\n",
       "      <td>NaN</td>\n",
       "      <td>NaN</td>\n",
       "      <td>NaN</td>\n",
       "      <td>31.38</td>\n",
       "    </tr>\n",
       "  </tbody>\n",
       "</table>\n",
       "</div>"
      ],
      "text/plain": [
       "                       name platform  year_of_release         genre  na_sales  \\\n",
       "0                Wii Sports      Wii           2006.0        Sports     41.36   \n",
       "1         Super Mario Bros.      NES           1985.0      Platform     29.08   \n",
       "2            Mario Kart Wii      Wii           2008.0        Racing     15.68   \n",
       "3         Wii Sports Resort      Wii           2009.0        Sports     15.61   \n",
       "4  Pokemon Red/Pokemon Blue       GB           1996.0  Role-Playing     11.27   \n",
       "\n",
       "   eu_sales  jp_sales  other_sales  critic_score  user_score rating  \\\n",
       "0     28.96      3.77         8.45          76.0         8.0      E   \n",
       "1      3.58      6.81         0.77           NaN         NaN    NaN   \n",
       "2     12.76      3.79         3.29          82.0         8.3      E   \n",
       "3     10.93      3.28         2.95          80.0         8.0      E   \n",
       "4      8.89     10.22         1.00           NaN         NaN    NaN   \n",
       "\n",
       "   total_sales  \n",
       "0        82.54  \n",
       "1        40.24  \n",
       "2        35.52  \n",
       "3        32.77  \n",
       "4        31.38  "
      ]
     },
     "execution_count": 23,
     "metadata": {},
     "output_type": "execute_result"
    }
   ],
   "source": [
    "df.head()"
   ]
  },
  {
   "cell_type": "markdown",
   "metadata": {},
   "source": [
    "# Исследовательский анализ данных"
   ]
  },
  {
   "cell_type": "markdown",
   "metadata": {},
   "source": [
    "Посмотрим сколько игр выпускалось в разные годы"
   ]
  },
  {
   "cell_type": "code",
   "execution_count": 24,
   "metadata": {},
   "outputs": [],
   "source": [
    "games_by_year = pd.DataFrame(df.groupby('year_of_release')['name'].nunique()).reset_index().rename(columns={'name':'games_count'})"
   ]
  },
  {
   "cell_type": "code",
   "execution_count": 25,
   "metadata": {},
   "outputs": [
    {
     "data": {
      "image/png": "[encoded data removed]",
      "text/plain": [
       "<Figure size 432x288 with 1 Axes>"
      ]
     },
     "metadata": {
      "needs_background": "light"
     },
     "output_type": "display_data"
    }
   ],
   "source": [
    "plt.bar(games_by_year['year_of_release'], games_by_year['games_count'])\n",
    "plt.title('Кол-во выпущенных игр по годам')\n",
    "plt.xlabel('Год')\n",
    "plt.ylabel('Кол-во игр')\n",
    "plt.show()"
   ]
  },
  {
   "cell_type": "markdown",
   "metadata": {},
   "source": [
    "Бум производства игр произошел начиная с 1995 года"
   ]
  },
  {
   "cell_type": "markdown",
   "metadata": {},
   "source": [
    "Выберем платформы с наибольшими суммарными продажами и построим распределение по годам"
   ]
  },
  {
   "cell_type": "code",
   "execution_count": 26,
   "metadata": {},
   "outputs": [],
   "source": [
    "top_platforms = df.groupby('platform')['total_sales'].sum().sort_values(ascending=False).head(5).index.to_list()"
   ]
  },
  {
   "cell_type": "code",
   "execution_count": 27,
   "metadata": {
    "scrolled": true
   },
   "outputs": [
    {
     "data": {
      "text/plain": [
       "['PS2', 'X360', 'PS3', 'Wii', 'DS']"
      ]
     },
     "execution_count": 27,
     "metadata": {},
     "output_type": "execute_result"
    }
   ],
   "source": [
    "top_platforms"
   ]
  },
  {
   "cell_type": "markdown",
   "metadata": {},
   "source": [
    "PS2 и Xbox 360 лидируют по суммарным продажам в нашей таблице. Посмотрим отдельно на лидеров продаж в 2015 году"
   ]
  },
  {
   "cell_type": "code",
   "execution_count": 28,
   "metadata": {},
   "outputs": [],
   "source": [
    "top_platforms_2015 = df[df['year_of_release']==2015].groupby('platform')['total_sales'].sum().sort_values(ascending=False).head(5).index.to_list()"
   ]
  },
  {
   "cell_type": "code",
   "execution_count": 29,
   "metadata": {
    "scrolled": true
   },
   "outputs": [
    {
     "data": {
      "text/plain": [
       "['PS4', 'XOne', '3DS', 'PS3', 'WiiU']"
      ]
     },
     "execution_count": 29,
     "metadata": {},
     "output_type": "execute_result"
    }
   ],
   "source": [
    "top_platforms_2015"
   ]
  },
  {
   "cell_type": "markdown",
   "metadata": {},
   "source": [
    "А в последнее время лидируют PS4 и Xbox One"
   ]
  },
  {
   "cell_type": "markdown",
   "metadata": {},
   "source": [
    "Построим распределение суммарных продаж по годам для семейства PlayStation"
   ]
  },
  {
   "cell_type": "code",
   "execution_count": 30,
   "metadata": {},
   "outputs": [],
   "source": [
    "def platfrom_sales_barplot(platform):\n",
    "    sales_df = pd.DataFrame(df[df['platform']==platform].groupby('year_of_release')['total_sales'].sum()).reset_index()\n",
    "    plt.bar(sales_df['year_of_release'], sales_df['total_sales'])\n",
    "    plt.title(f'{platform} Продажи по годам')\n",
    "    plt.xlabel('Год')\n",
    "    plt.ylabel('Продажи (млн $)')\n",
    "    plt.show()"
   ]
  },
  {
   "cell_type": "code",
   "execution_count": 31,
   "metadata": {
    "scrolled": true
   },
   "outputs": [
    {
     "data": {
      "image/png": "[encoded data removed]",
      "text/plain": [
       "<Figure size 432x288 with 1 Axes>"
      ]
     },
     "metadata": {
      "needs_background": "light"
     },
     "output_type": "display_data"
    }
   ],
   "source": [
    "platfrom_sales_barplot('PS2')"
   ]
  },
  {
   "cell_type": "markdown",
   "metadata": {},
   "source": [
    "Пик продаж произошел в 2001 - 2004 годах. C 2004 года суммарные продажи на платформе PS2 начали падать. PS3 появилась в 2006 году, поэтому люди предпочли подождать выхода новой версии PS. PS2 5 лет поддерживала рост показателей суммарных продаж"
   ]
  },
  {
   "cell_type": "code",
   "execution_count": 32,
   "metadata": {},
   "outputs": [
    {
     "data": {
      "image/png": "[encoded data removed]",
      "text/plain": [
       "<Figure size 432x288 with 1 Axes>"
      ]
     },
     "metadata": {
      "needs_background": "light"
     },
     "output_type": "display_data"
    }
   ],
   "source": [
    "platfrom_sales_barplot('PS3')"
   ]
  },
  {
   "cell_type": "markdown",
   "metadata": {},
   "source": [
    "Пик продаж произошел в 2008 - 2011 годах. C 2011 года суммарные продажи на платформе PS3 начали падать. PS4 появилась в 2013 году. PS3 6 лет поддерживала рост показателей суммарных продаж"
   ]
  },
  {
   "cell_type": "code",
   "execution_count": 33,
   "metadata": {},
   "outputs": [
    {
     "data": {
      "image/png": "[encoded data removed]",
      "text/plain": [
       "<Figure size 432x288 with 1 Axes>"
      ]
     },
     "metadata": {
      "needs_background": "light"
     },
     "output_type": "display_data"
    }
   ],
   "source": [
    "platfrom_sales_barplot('PS4')"
   ]
  },
  {
   "cell_type": "markdown",
   "metadata": {},
   "source": [
    "PS4 вышел в ноябре 2013 года, поэтому в этом году не очень хорошие продажи. Можно предсказать, что до 2018 года продажи будут продолжать увеличиваться"
   ]
  },
  {
   "cell_type": "markdown",
   "metadata": {},
   "source": [
    "Построим распределение суммарных продаж по годам для семейства Xbox"
   ]
  },
  {
   "cell_type": "code",
   "execution_count": 34,
   "metadata": {},
   "outputs": [
    {
     "data": {
      "image/png": "[encoded data removed]",
      "text/plain": [
       "<Figure size 432x288 with 1 Axes>"
      ]
     },
     "metadata": {
      "needs_background": "light"
     },
     "output_type": "display_data"
    }
   ],
   "source": [
    "platfrom_sales_barplot('X360')"
   ]
  },
  {
   "cell_type": "markdown",
   "metadata": {},
   "source": [
    "Пик продаж произошел в 2010 году, после чего продажи стали падать. Xbox One вышел в 2013 году. Xbox360 6 лет поддерживала рост показателей суммарных продаж"
   ]
  },
  {
   "cell_type": "code",
   "execution_count": 35,
   "metadata": {},
   "outputs": [
    {
     "data": {
      "image/png": "[encoded data removed]",
      "text/plain": [
       "<Figure size 432x288 with 1 Axes>"
      ]
     },
     "metadata": {
      "needs_background": "light"
     },
     "output_type": "display_data"
    }
   ],
   "source": [
    "platfrom_sales_barplot('XOne')"
   ]
  },
  {
   "cell_type": "markdown",
   "metadata": {},
   "source": [
    "График Xbox One очень похож на график PS4. С момента выхода приставки продажи с каждым годом увеличиваются"
   ]
  },
  {
   "cell_type": "markdown",
   "metadata": {},
   "source": [
    "Также рассмотрим распределение суммарных продаж по годам для семейства Nintendo"
   ]
  },
  {
   "cell_type": "code",
   "execution_count": 36,
   "metadata": {},
   "outputs": [
    {
     "data": {
      "image/png": "[encoded data removed]",
      "text/plain": [
       "<Figure size 432x288 with 1 Axes>"
      ]
     },
     "metadata": {
      "needs_background": "light"
     },
     "output_type": "display_data"
    }
   ],
   "source": [
    "platfrom_sales_barplot('Wii')"
   ]
  },
  {
   "cell_type": "markdown",
   "metadata": {},
   "source": [
    "C 2009 года продажи стали падать. Пик продаж произошел в том же году. Следующее поколение приставки вышло в 2012 году. Nintendo Wii поддерживала рост продаж 4 года"
   ]
  },
  {
   "cell_type": "code",
   "execution_count": 37,
   "metadata": {},
   "outputs": [
    {
     "data": {
      "image/png": "[encoded data removed]",
      "text/plain": [
       "<Figure size 432x288 with 1 Axes>"
      ]
     },
     "metadata": {
      "needs_background": "light"
     },
     "output_type": "display_data"
    }
   ],
   "source": [
    "platfrom_sales_barplot('WiiU')"
   ]
  },
  {
   "cell_type": "markdown",
   "metadata": {},
   "source": [
    "Продажи стали падать начиная с 2014 года. Приставка вышла в 2012 году, продержав всего 3 года положительного тренда продаж"
   ]
  },
  {
   "cell_type": "code",
   "execution_count": 38,
   "metadata": {},
   "outputs": [
    {
     "data": {
      "image/png": "[encoded data removed]",
      "text/plain": [
       "<Figure size 432x288 with 1 Axes>"
      ]
     },
     "metadata": {
      "needs_background": "light"
     },
     "output_type": "display_data"
    }
   ],
   "source": [
    "platfrom_sales_barplot('DS')"
   ]
  },
  {
   "cell_type": "markdown",
   "metadata": {},
   "source": [
    "Nintendo DS вышел в 2004 году. В 2008 году продажи начали падать. В 2014 продаж почти совсем нет"
   ]
  },
  {
   "cell_type": "code",
   "execution_count": 39,
   "metadata": {},
   "outputs": [
    {
     "data": {
      "image/png": "[encoded data removed]",
      "text/plain": [
       "<Figure size 432x288 with 1 Axes>"
      ]
     },
     "metadata": {
      "needs_background": "light"
     },
     "output_type": "display_data"
    }
   ],
   "source": [
    "platfrom_sales_barplot('3DS')"
   ]
  },
  {
   "cell_type": "markdown",
   "metadata": {},
   "source": [
    "Nintendo 3DS вышел в 2011 году, и показатели суммарных продаж почти каждый год падают. "
   ]
  },
  {
   "cell_type": "markdown",
   "metadata": {},
   "source": [
    "Дополнительно посмотрим на PC"
   ]
  },
  {
   "cell_type": "code",
   "execution_count": 40,
   "metadata": {},
   "outputs": [
    {
     "data": {
      "image/png": "[encoded data removed]",
      "text/plain": [
       "<Figure size 432x288 with 1 Axes>"
      ]
     },
     "metadata": {
      "needs_background": "light"
     },
     "output_type": "display_data"
    }
   ],
   "source": [
    "platfrom_sales_barplot('PC')"
   ]
  },
  {
   "cell_type": "markdown",
   "metadata": {},
   "source": [
    "Самая долговечная платформа. Пик продаж игр произошел в 2011 году"
   ]
  },
  {
   "cell_type": "markdown",
   "metadata": {},
   "source": [
    "Каждая игровая платформа имеет свой жизненный цикл: она (обычно торжественно) запускается и какое-то время поддерживается компанией-владельцем. Но рано или поздно эта поддержка оканчивается: прекращается производство новых консолей, перестают выходить новые игры для них, и, получается, в какой-то момент какая-то игра становится последней выпущенной на платформе и ставит своеобразную точку. Посмотрев на графики мы приходим к выводу, что каждая популярная игровая платформа держится в течение 5 лет пока не падают ее продажи, и сменяется более новой платформой через еще 2-3 года"
   ]
  },
  {
   "cell_type": "markdown",
   "metadata": {},
   "source": [
    "# Актуальный период"
   ]
  },
  {
   "cell_type": "markdown",
   "metadata": {},
   "source": [
    "Оставим в нашей таблице только актуальные данные, чтобы построить прогноз на 2017 год. Изучив предыдущие графики мы увидели, что на 2017 год будут актуальны платформы PS4, Xbox One и Nintendo WiiU. Они начали активную продажу консолей и игр в 2014 году. В том же году \"неактуальные\" платформы были на самых нижних показателях суммарных продаж"
   ]
  },
  {
   "cell_type": "code",
   "execution_count": 41,
   "metadata": {},
   "outputs": [],
   "source": [
    "df = df[df['year_of_release']>=2014].sort_values(by=['year_of_release', 'total_sales'], ascending=[True, False]).reset_index(drop=True)"
   ]
  },
  {
   "cell_type": "code",
   "execution_count": 42,
   "metadata": {},
   "outputs": [
    {
     "name": "stdout",
     "output_type": "stream",
     "text": [
      "<class 'pandas.core.frame.DataFrame'>\n",
      "RangeIndex: 1689 entries, 0 to 1688\n",
      "Data columns (total 12 columns):\n",
      " #   Column           Non-Null Count  Dtype  \n",
      "---  ------           --------------  -----  \n",
      " 0   name             1689 non-null   object \n",
      " 1   platform         1689 non-null   object \n",
      " 2   year_of_release  1689 non-null   float64\n",
      " 3   genre            1689 non-null   object \n",
      " 4   na_sales         1689 non-null   float64\n",
      " 5   eu_sales         1689 non-null   float64\n",
      " 6   jp_sales         1689 non-null   float64\n",
      " 7   other_sales      1689 non-null   float64\n",
      " 8   critic_score     718 non-null    float64\n",
      " 9   user_score       888 non-null    float64\n",
      " 10  rating           940 non-null    object \n",
      " 11  total_sales      1689 non-null   float64\n",
      "dtypes: float64(8), object(4)\n",
      "memory usage: 158.5+ KB\n"
     ]
    }
   ],
   "source": [
    "df.info()"
   ]
  },
  {
   "cell_type": "code",
   "execution_count": 43,
   "metadata": {},
   "outputs": [],
   "source": [
    "df['year_of_release'] = df['year_of_release'].astype('int')"
   ]
  },
  {
   "cell_type": "code",
   "execution_count": 44,
   "metadata": {},
   "outputs": [
    {
     "data": {
      "text/html": [
       "<div>\n",
       "<style scoped>\n",
       "    .dataframe tbody tr th:only-of-type {\n",
       "        vertical-align: middle;\n",
       "    }\n",
       "\n",
       "    .dataframe tbody tr th {\n",
       "        vertical-align: top;\n",
       "    }\n",
       "\n",
       "    .dataframe thead th {\n",
       "        text-align: right;\n",
       "    }\n",
       "</style>\n",
       "<table border=\"1\" class=\"dataframe\">\n",
       "  <thead>\n",
       "    <tr style=\"text-align: right;\">\n",
       "      <th></th>\n",
       "      <th>name</th>\n",
       "      <th>platform</th>\n",
       "      <th>year_of_release</th>\n",
       "      <th>genre</th>\n",
       "      <th>na_sales</th>\n",
       "      <th>eu_sales</th>\n",
       "      <th>jp_sales</th>\n",
       "      <th>other_sales</th>\n",
       "      <th>critic_score</th>\n",
       "      <th>user_score</th>\n",
       "      <th>rating</th>\n",
       "      <th>total_sales</th>\n",
       "    </tr>\n",
       "  </thead>\n",
       "  <tbody>\n",
       "    <tr>\n",
       "      <th>0</th>\n",
       "      <td>Grand Theft Auto V</td>\n",
       "      <td>PS4</td>\n",
       "      <td>2014</td>\n",
       "      <td>Action</td>\n",
       "      <td>3.96</td>\n",
       "      <td>6.31</td>\n",
       "      <td>0.38</td>\n",
       "      <td>1.97</td>\n",
       "      <td>97.0</td>\n",
       "      <td>8.3</td>\n",
       "      <td>M</td>\n",
       "      <td>12.62</td>\n",
       "    </tr>\n",
       "    <tr>\n",
       "      <th>1</th>\n",
       "      <td>Pokemon Omega Ruby/Pokemon Alpha Sapphire</td>\n",
       "      <td>3DS</td>\n",
       "      <td>2014</td>\n",
       "      <td>Role-Playing</td>\n",
       "      <td>4.35</td>\n",
       "      <td>3.49</td>\n",
       "      <td>3.10</td>\n",
       "      <td>0.74</td>\n",
       "      <td>NaN</td>\n",
       "      <td>NaN</td>\n",
       "      <td>NaN</td>\n",
       "      <td>11.68</td>\n",
       "    </tr>\n",
       "    <tr>\n",
       "      <th>2</th>\n",
       "      <td>Call of Duty: Advanced Warfare</td>\n",
       "      <td>PS4</td>\n",
       "      <td>2014</td>\n",
       "      <td>Shooter</td>\n",
       "      <td>2.81</td>\n",
       "      <td>3.48</td>\n",
       "      <td>0.14</td>\n",
       "      <td>1.23</td>\n",
       "      <td>83.0</td>\n",
       "      <td>5.7</td>\n",
       "      <td>M</td>\n",
       "      <td>7.66</td>\n",
       "    </tr>\n",
       "    <tr>\n",
       "      <th>3</th>\n",
       "      <td>Super Smash Bros. for Wii U and 3DS</td>\n",
       "      <td>3DS</td>\n",
       "      <td>2014</td>\n",
       "      <td>Fighting</td>\n",
       "      <td>3.27</td>\n",
       "      <td>1.37</td>\n",
       "      <td>2.43</td>\n",
       "      <td>0.48</td>\n",
       "      <td>NaN</td>\n",
       "      <td>NaN</td>\n",
       "      <td>NaN</td>\n",
       "      <td>7.55</td>\n",
       "    </tr>\n",
       "    <tr>\n",
       "      <th>4</th>\n",
       "      <td>Mario Kart 8</td>\n",
       "      <td>WiiU</td>\n",
       "      <td>2014</td>\n",
       "      <td>Racing</td>\n",
       "      <td>3.15</td>\n",
       "      <td>2.15</td>\n",
       "      <td>1.28</td>\n",
       "      <td>0.51</td>\n",
       "      <td>88.0</td>\n",
       "      <td>9.1</td>\n",
       "      <td>E</td>\n",
       "      <td>7.09</td>\n",
       "    </tr>\n",
       "  </tbody>\n",
       "</table>\n",
       "</div>"
      ],
      "text/plain": [
       "                                        name platform  year_of_release  \\\n",
       "0                         Grand Theft Auto V      PS4             2014   \n",
       "1  Pokemon Omega Ruby/Pokemon Alpha Sapphire      3DS             2014   \n",
       "2             Call of Duty: Advanced Warfare      PS4             2014   \n",
       "3        Super Smash Bros. for Wii U and 3DS      3DS             2014   \n",
       "4                               Mario Kart 8     WiiU             2014   \n",
       "\n",
       "          genre  na_sales  eu_sales  jp_sales  other_sales  critic_score  \\\n",
       "0        Action      3.96      6.31      0.38         1.97          97.0   \n",
       "1  Role-Playing      4.35      3.49      3.10         0.74           NaN   \n",
       "2       Shooter      2.81      3.48      0.14         1.23          83.0   \n",
       "3      Fighting      3.27      1.37      2.43         0.48           NaN   \n",
       "4        Racing      3.15      2.15      1.28         0.51          88.0   \n",
       "\n",
       "   user_score rating  total_sales  \n",
       "0         8.3      M        12.62  \n",
       "1         NaN    NaN        11.68  \n",
       "2         5.7      M         7.66  \n",
       "3         NaN    NaN         7.55  \n",
       "4         9.1      E         7.09  "
      ]
     },
     "execution_count": 44,
     "metadata": {},
     "output_type": "execute_result"
    }
   ],
   "source": [
    "df.head()"
   ]
  },
  {
   "cell_type": "markdown",
   "metadata": {},
   "source": [
    "Посмотрим какие платформы принесли больше всех денег в актуальный период"
   ]
  },
  {
   "cell_type": "code",
   "execution_count": 45,
   "metadata": {
    "scrolled": false
   },
   "outputs": [
    {
     "data": {
      "text/plain": [
       "platform\n",
       "PS4     288.15\n",
       "XOne    140.36\n",
       "3DS      86.68\n",
       "PS3      68.18\n",
       "X360     48.22\n",
       "WiiU     42.98\n",
       "PC       27.05\n",
       "PSV      22.40\n",
       "Wii       5.07\n",
       "PSP       0.36\n",
       "Name: total_sales, dtype: float64"
      ]
     },
     "execution_count": 45,
     "metadata": {},
     "output_type": "execute_result"
    }
   ],
   "source": [
    "df.groupby('platform')['total_sales'].sum().sort_values(ascending=False)"
   ]
  },
  {
   "cell_type": "markdown",
   "metadata": {},
   "source": [
    "PS4 и Xbox One лидируют с большим отрывом от остальных. А продажи PS4 в два раза больше чем Xbox One. Исходя из предыдущих графиков, у обоих продажи растут, у остальных - падают. Поэтому на 2017 год я бы сделал ставку на эти платформы. 3DS тоже можно взять, т.к. она еще живет и делает свою прибыль)"
   ]
  },
  {
   "cell_type": "markdown",
   "metadata": {},
   "source": [
    "Построим график, на котором будут изображены боксплоты глобальных продаж для каждой отдельной платформы"
   ]
  },
  {
   "cell_type": "code",
   "execution_count": 46,
   "metadata": {
    "scrolled": false
   },
   "outputs": [
    {
     "data": {
      "image/png": "[encoded data removed]",
      "text/plain": [
       "<Figure size 720x720 with 1 Axes>"
      ]
     },
     "metadata": {
      "needs_background": "light"
     },
     "output_type": "display_data"
    }
   ],
   "source": [
    "df.boxplot(column='total_sales', by='platform', figsize=(10,10))\n",
    "plt.title('Глобальные продажи для каждой платформы')\n",
    "plt.show()"
   ]
  },
  {
   "cell_type": "markdown",
   "metadata": {},
   "source": [
    "Выбросы показываются в виде кружков. Что это такое в нашей задаче? Это какие-то популярные игры. Я бы даже сказал бестселлеры. И это очень показательная штука. Посмотрите на Nintendo 3DS. Маленький ящик и много выбросов. Это говорит о том, что большАя часть объема продаж делается за счет этих выбросов. В то же время у Xbox One ситуация иная: большой бокс, длинный ус и мало выбросов. Это свидетельствует о том, что на нем покупают самые разные игры, причем, в немалом количестве"
   ]
  },
  {
   "cell_type": "code",
   "execution_count": 47,
   "metadata": {},
   "outputs": [],
   "source": [
    "def platform_best_games(platform):\n",
    "    return df[df['platform']==platform].sort_values(by='total_sales', ascending=False).head()"
   ]
  },
  {
   "cell_type": "code",
   "execution_count": 48,
   "metadata": {
    "scrolled": true
   },
   "outputs": [
    {
     "data": {
      "text/html": [
       "<div>\n",
       "<style scoped>\n",
       "    .dataframe tbody tr th:only-of-type {\n",
       "        vertical-align: middle;\n",
       "    }\n",
       "\n",
       "    .dataframe tbody tr th {\n",
       "        vertical-align: top;\n",
       "    }\n",
       "\n",
       "    .dataframe thead th {\n",
       "        text-align: right;\n",
       "    }\n",
       "</style>\n",
       "<table border=\"1\" class=\"dataframe\">\n",
       "  <thead>\n",
       "    <tr style=\"text-align: right;\">\n",
       "      <th></th>\n",
       "      <th>name</th>\n",
       "      <th>platform</th>\n",
       "      <th>year_of_release</th>\n",
       "      <th>genre</th>\n",
       "      <th>na_sales</th>\n",
       "      <th>eu_sales</th>\n",
       "      <th>jp_sales</th>\n",
       "      <th>other_sales</th>\n",
       "      <th>critic_score</th>\n",
       "      <th>user_score</th>\n",
       "      <th>rating</th>\n",
       "      <th>total_sales</th>\n",
       "    </tr>\n",
       "  </thead>\n",
       "  <tbody>\n",
       "    <tr>\n",
       "      <th>581</th>\n",
       "      <td>Call of Duty: Black Ops 3</td>\n",
       "      <td>PS4</td>\n",
       "      <td>2015</td>\n",
       "      <td>Shooter</td>\n",
       "      <td>6.03</td>\n",
       "      <td>5.86</td>\n",
       "      <td>0.36</td>\n",
       "      <td>2.38</td>\n",
       "      <td>NaN</td>\n",
       "      <td>NaN</td>\n",
       "      <td>NaN</td>\n",
       "      <td>14.63</td>\n",
       "    </tr>\n",
       "    <tr>\n",
       "      <th>0</th>\n",
       "      <td>Grand Theft Auto V</td>\n",
       "      <td>PS4</td>\n",
       "      <td>2014</td>\n",
       "      <td>Action</td>\n",
       "      <td>3.96</td>\n",
       "      <td>6.31</td>\n",
       "      <td>0.38</td>\n",
       "      <td>1.97</td>\n",
       "      <td>97.0</td>\n",
       "      <td>8.3</td>\n",
       "      <td>M</td>\n",
       "      <td>12.62</td>\n",
       "    </tr>\n",
       "    <tr>\n",
       "      <th>582</th>\n",
       "      <td>FIFA 16</td>\n",
       "      <td>PS4</td>\n",
       "      <td>2015</td>\n",
       "      <td>Sports</td>\n",
       "      <td>1.12</td>\n",
       "      <td>6.12</td>\n",
       "      <td>0.06</td>\n",
       "      <td>1.28</td>\n",
       "      <td>82.0</td>\n",
       "      <td>4.3</td>\n",
       "      <td>E</td>\n",
       "      <td>8.58</td>\n",
       "    </tr>\n",
       "    <tr>\n",
       "      <th>583</th>\n",
       "      <td>Star Wars Battlefront (2015)</td>\n",
       "      <td>PS4</td>\n",
       "      <td>2015</td>\n",
       "      <td>Shooter</td>\n",
       "      <td>2.99</td>\n",
       "      <td>3.49</td>\n",
       "      <td>0.22</td>\n",
       "      <td>1.28</td>\n",
       "      <td>NaN</td>\n",
       "      <td>NaN</td>\n",
       "      <td>NaN</td>\n",
       "      <td>7.98</td>\n",
       "    </tr>\n",
       "    <tr>\n",
       "      <th>2</th>\n",
       "      <td>Call of Duty: Advanced Warfare</td>\n",
       "      <td>PS4</td>\n",
       "      <td>2014</td>\n",
       "      <td>Shooter</td>\n",
       "      <td>2.81</td>\n",
       "      <td>3.48</td>\n",
       "      <td>0.14</td>\n",
       "      <td>1.23</td>\n",
       "      <td>83.0</td>\n",
       "      <td>5.7</td>\n",
       "      <td>M</td>\n",
       "      <td>7.66</td>\n",
       "    </tr>\n",
       "  </tbody>\n",
       "</table>\n",
       "</div>"
      ],
      "text/plain": [
       "                               name platform  year_of_release    genre  \\\n",
       "581       Call of Duty: Black Ops 3      PS4             2015  Shooter   \n",
       "0                Grand Theft Auto V      PS4             2014   Action   \n",
       "582                         FIFA 16      PS4             2015   Sports   \n",
       "583    Star Wars Battlefront (2015)      PS4             2015  Shooter   \n",
       "2    Call of Duty: Advanced Warfare      PS4             2014  Shooter   \n",
       "\n",
       "     na_sales  eu_sales  jp_sales  other_sales  critic_score  user_score  \\\n",
       "581      6.03      5.86      0.36         2.38           NaN         NaN   \n",
       "0        3.96      6.31      0.38         1.97          97.0         8.3   \n",
       "582      1.12      6.12      0.06         1.28          82.0         4.3   \n",
       "583      2.99      3.49      0.22         1.28           NaN         NaN   \n",
       "2        2.81      3.48      0.14         1.23          83.0         5.7   \n",
       "\n",
       "    rating  total_sales  \n",
       "581    NaN        14.63  \n",
       "0        M        12.62  \n",
       "582      E         8.58  \n",
       "583    NaN         7.98  \n",
       "2        M         7.66  "
      ]
     },
     "execution_count": 48,
     "metadata": {},
     "output_type": "execute_result"
    }
   ],
   "source": [
    "platform_best_games('PS4')"
   ]
  },
  {
   "cell_type": "code",
   "execution_count": 49,
   "metadata": {
    "scrolled": false
   },
   "outputs": [
    {
     "data": {
      "text/html": [
       "<div>\n",
       "<style scoped>\n",
       "    .dataframe tbody tr th:only-of-type {\n",
       "        vertical-align: middle;\n",
       "    }\n",
       "\n",
       "    .dataframe tbody tr th {\n",
       "        vertical-align: top;\n",
       "    }\n",
       "\n",
       "    .dataframe thead th {\n",
       "        text-align: right;\n",
       "    }\n",
       "</style>\n",
       "<table border=\"1\" class=\"dataframe\">\n",
       "  <thead>\n",
       "    <tr style=\"text-align: right;\">\n",
       "      <th></th>\n",
       "      <th>name</th>\n",
       "      <th>platform</th>\n",
       "      <th>year_of_release</th>\n",
       "      <th>genre</th>\n",
       "      <th>na_sales</th>\n",
       "      <th>eu_sales</th>\n",
       "      <th>jp_sales</th>\n",
       "      <th>other_sales</th>\n",
       "      <th>critic_score</th>\n",
       "      <th>user_score</th>\n",
       "      <th>rating</th>\n",
       "      <th>total_sales</th>\n",
       "    </tr>\n",
       "  </thead>\n",
       "  <tbody>\n",
       "    <tr>\n",
       "      <th>584</th>\n",
       "      <td>Call of Duty: Black Ops 3</td>\n",
       "      <td>XOne</td>\n",
       "      <td>2015</td>\n",
       "      <td>Shooter</td>\n",
       "      <td>4.59</td>\n",
       "      <td>2.11</td>\n",
       "      <td>0.01</td>\n",
       "      <td>0.68</td>\n",
       "      <td>NaN</td>\n",
       "      <td>NaN</td>\n",
       "      <td>NaN</td>\n",
       "      <td>7.39</td>\n",
       "    </tr>\n",
       "    <tr>\n",
       "      <th>7</th>\n",
       "      <td>Grand Theft Auto V</td>\n",
       "      <td>XOne</td>\n",
       "      <td>2014</td>\n",
       "      <td>Action</td>\n",
       "      <td>2.81</td>\n",
       "      <td>2.19</td>\n",
       "      <td>0.00</td>\n",
       "      <td>0.47</td>\n",
       "      <td>97.0</td>\n",
       "      <td>7.9</td>\n",
       "      <td>M</td>\n",
       "      <td>5.47</td>\n",
       "    </tr>\n",
       "    <tr>\n",
       "      <th>9</th>\n",
       "      <td>Call of Duty: Advanced Warfare</td>\n",
       "      <td>XOne</td>\n",
       "      <td>2014</td>\n",
       "      <td>Shooter</td>\n",
       "      <td>3.22</td>\n",
       "      <td>1.55</td>\n",
       "      <td>0.01</td>\n",
       "      <td>0.48</td>\n",
       "      <td>81.0</td>\n",
       "      <td>5.4</td>\n",
       "      <td>M</td>\n",
       "      <td>5.26</td>\n",
       "    </tr>\n",
       "    <tr>\n",
       "      <th>587</th>\n",
       "      <td>Halo 5: Guardians</td>\n",
       "      <td>XOne</td>\n",
       "      <td>2015</td>\n",
       "      <td>Shooter</td>\n",
       "      <td>2.78</td>\n",
       "      <td>1.27</td>\n",
       "      <td>0.03</td>\n",
       "      <td>0.41</td>\n",
       "      <td>84.0</td>\n",
       "      <td>6.4</td>\n",
       "      <td>T</td>\n",
       "      <td>4.49</td>\n",
       "    </tr>\n",
       "    <tr>\n",
       "      <th>589</th>\n",
       "      <td>Fallout 4</td>\n",
       "      <td>XOne</td>\n",
       "      <td>2015</td>\n",
       "      <td>Role-Playing</td>\n",
       "      <td>2.51</td>\n",
       "      <td>1.32</td>\n",
       "      <td>0.01</td>\n",
       "      <td>0.38</td>\n",
       "      <td>88.0</td>\n",
       "      <td>6.2</td>\n",
       "      <td>M</td>\n",
       "      <td>4.22</td>\n",
       "    </tr>\n",
       "  </tbody>\n",
       "</table>\n",
       "</div>"
      ],
      "text/plain": [
       "                               name platform  year_of_release         genre  \\\n",
       "584       Call of Duty: Black Ops 3     XOne             2015       Shooter   \n",
       "7                Grand Theft Auto V     XOne             2014        Action   \n",
       "9    Call of Duty: Advanced Warfare     XOne             2014       Shooter   \n",
       "587               Halo 5: Guardians     XOne             2015       Shooter   \n",
       "589                       Fallout 4     XOne             2015  Role-Playing   \n",
       "\n",
       "     na_sales  eu_sales  jp_sales  other_sales  critic_score  user_score  \\\n",
       "584      4.59      2.11      0.01         0.68           NaN         NaN   \n",
       "7        2.81      2.19      0.00         0.47          97.0         7.9   \n",
       "9        3.22      1.55      0.01         0.48          81.0         5.4   \n",
       "587      2.78      1.27      0.03         0.41          84.0         6.4   \n",
       "589      2.51      1.32      0.01         0.38          88.0         6.2   \n",
       "\n",
       "    rating  total_sales  \n",
       "584    NaN         7.39  \n",
       "7        M         5.47  \n",
       "9        M         5.26  \n",
       "587      T         4.49  \n",
       "589      M         4.22  "
      ]
     },
     "execution_count": 49,
     "metadata": {},
     "output_type": "execute_result"
    }
   ],
   "source": [
    "platform_best_games('XOne')"
   ]
  },
  {
   "cell_type": "markdown",
   "metadata": {},
   "source": [
    "Игра Call of Duty: Black Ops 3 принесла PS4 в два раза больше денег, чем Xbox One"
   ]
  },
  {
   "cell_type": "code",
   "execution_count": 50,
   "metadata": {
    "scrolled": true
   },
   "outputs": [
    {
     "data": {
      "text/html": [
       "<div>\n",
       "<style scoped>\n",
       "    .dataframe tbody tr th:only-of-type {\n",
       "        vertical-align: middle;\n",
       "    }\n",
       "\n",
       "    .dataframe tbody tr th {\n",
       "        vertical-align: top;\n",
       "    }\n",
       "\n",
       "    .dataframe thead th {\n",
       "        text-align: right;\n",
       "    }\n",
       "</style>\n",
       "<table border=\"1\" class=\"dataframe\">\n",
       "  <thead>\n",
       "    <tr style=\"text-align: right;\">\n",
       "      <th></th>\n",
       "      <th>name</th>\n",
       "      <th>platform</th>\n",
       "      <th>year_of_release</th>\n",
       "      <th>genre</th>\n",
       "      <th>na_sales</th>\n",
       "      <th>eu_sales</th>\n",
       "      <th>jp_sales</th>\n",
       "      <th>other_sales</th>\n",
       "      <th>critic_score</th>\n",
       "      <th>user_score</th>\n",
       "      <th>rating</th>\n",
       "      <th>total_sales</th>\n",
       "    </tr>\n",
       "  </thead>\n",
       "  <tbody>\n",
       "    <tr>\n",
       "      <th>1</th>\n",
       "      <td>Pokemon Omega Ruby/Pokemon Alpha Sapphire</td>\n",
       "      <td>3DS</td>\n",
       "      <td>2014</td>\n",
       "      <td>Role-Playing</td>\n",
       "      <td>4.35</td>\n",
       "      <td>3.49</td>\n",
       "      <td>3.10</td>\n",
       "      <td>0.74</td>\n",
       "      <td>NaN</td>\n",
       "      <td>NaN</td>\n",
       "      <td>NaN</td>\n",
       "      <td>11.68</td>\n",
       "    </tr>\n",
       "    <tr>\n",
       "      <th>3</th>\n",
       "      <td>Super Smash Bros. for Wii U and 3DS</td>\n",
       "      <td>3DS</td>\n",
       "      <td>2014</td>\n",
       "      <td>Fighting</td>\n",
       "      <td>3.27</td>\n",
       "      <td>1.37</td>\n",
       "      <td>2.43</td>\n",
       "      <td>0.48</td>\n",
       "      <td>NaN</td>\n",
       "      <td>NaN</td>\n",
       "      <td>NaN</td>\n",
       "      <td>7.55</td>\n",
       "    </tr>\n",
       "    <tr>\n",
       "      <th>1188</th>\n",
       "      <td>Pokemon Sun/Moon</td>\n",
       "      <td>3DS</td>\n",
       "      <td>2016</td>\n",
       "      <td>Role-Playing</td>\n",
       "      <td>2.98</td>\n",
       "      <td>1.45</td>\n",
       "      <td>2.26</td>\n",
       "      <td>0.45</td>\n",
       "      <td>NaN</td>\n",
       "      <td>NaN</td>\n",
       "      <td>NaN</td>\n",
       "      <td>7.14</td>\n",
       "    </tr>\n",
       "    <tr>\n",
       "      <th>19</th>\n",
       "      <td>Monster Hunter 4 Ultimate</td>\n",
       "      <td>3DS</td>\n",
       "      <td>2014</td>\n",
       "      <td>Role-Playing</td>\n",
       "      <td>0.68</td>\n",
       "      <td>0.48</td>\n",
       "      <td>2.62</td>\n",
       "      <td>0.11</td>\n",
       "      <td>86.0</td>\n",
       "      <td>8.7</td>\n",
       "      <td>T</td>\n",
       "      <td>3.89</td>\n",
       "    </tr>\n",
       "    <tr>\n",
       "      <th>596</th>\n",
       "      <td>Monster Hunter X</td>\n",
       "      <td>3DS</td>\n",
       "      <td>2015</td>\n",
       "      <td>Action</td>\n",
       "      <td>0.27</td>\n",
       "      <td>0.21</td>\n",
       "      <td>2.79</td>\n",
       "      <td>0.05</td>\n",
       "      <td>NaN</td>\n",
       "      <td>NaN</td>\n",
       "      <td>NaN</td>\n",
       "      <td>3.32</td>\n",
       "    </tr>\n",
       "  </tbody>\n",
       "</table>\n",
       "</div>"
      ],
      "text/plain": [
       "                                           name platform  year_of_release  \\\n",
       "1     Pokemon Omega Ruby/Pokemon Alpha Sapphire      3DS             2014   \n",
       "3           Super Smash Bros. for Wii U and 3DS      3DS             2014   \n",
       "1188                           Pokemon Sun/Moon      3DS             2016   \n",
       "19                    Monster Hunter 4 Ultimate      3DS             2014   \n",
       "596                            Monster Hunter X      3DS             2015   \n",
       "\n",
       "             genre  na_sales  eu_sales  jp_sales  other_sales  critic_score  \\\n",
       "1     Role-Playing      4.35      3.49      3.10         0.74           NaN   \n",
       "3         Fighting      3.27      1.37      2.43         0.48           NaN   \n",
       "1188  Role-Playing      2.98      1.45      2.26         0.45           NaN   \n",
       "19    Role-Playing      0.68      0.48      2.62         0.11          86.0   \n",
       "596         Action      0.27      0.21      2.79         0.05           NaN   \n",
       "\n",
       "      user_score rating  total_sales  \n",
       "1            NaN    NaN        11.68  \n",
       "3            NaN    NaN         7.55  \n",
       "1188         NaN    NaN         7.14  \n",
       "19           8.7      T         3.89  \n",
       "596          NaN    NaN         3.32  "
      ]
     },
     "execution_count": 50,
     "metadata": {},
     "output_type": "execute_result"
    }
   ],
   "source": [
    "platform_best_games('3DS')"
   ]
  },
  {
   "cell_type": "markdown",
   "metadata": {},
   "source": [
    "А у лидера портативных платформ больше всего денег принесла игра Pokemon Omega Ruby/Pokemon Alpha Sapphire. Его игры очень сильно отличаются от игр PS4 и Xbox One. Да, там в CoD не поиграешь) Зато можешь убивать время в поезде, играя в Марио. Особенно, если ты в Японии"
   ]
  },
  {
   "cell_type": "markdown",
   "metadata": {},
   "source": [
    "Посмотрим, как влияют на продажи внутри платформы PS4 отзывы пользователей и критиков."
   ]
  },
  {
   "cell_type": "code",
   "execution_count": 51,
   "metadata": {},
   "outputs": [],
   "source": [
    "def score_sales_corr(platform):\n",
    "    return df[df['platform']==platform][['critic_score','user_score','total_sales']].corr()"
   ]
  },
  {
   "cell_type": "code",
   "execution_count": 52,
   "metadata": {},
   "outputs": [],
   "source": [
    "def user_score_sales_scatter(platform):\n",
    "    plt.scatter(df[df['platform']==platform]['user_score'], df[df['platform']==platform]['total_sales'])\n",
    "    plt.title(f'Корреляция между оценкой игроков и суммой продаж ({platform})')\n",
    "    plt.xlabel('Оценка игроков')\n",
    "    plt.ylabel('Сумма продаж')\n",
    "    plt.grid()\n",
    "    plt.show()"
   ]
  },
  {
   "cell_type": "code",
   "execution_count": 53,
   "metadata": {},
   "outputs": [],
   "source": [
    "def critic_score_sales_scatter(platform):\n",
    "    plt.scatter(df[df['platform']==platform]['critic_score'], df[df['platform']==platform]['total_sales'])\n",
    "    plt.title(f'Корреляция между оценкой критиков и суммой продаж ({platform})')\n",
    "    plt.xlabel('Оценка критиков')\n",
    "    plt.ylabel('Сумма продаж')\n",
    "    plt.grid()\n",
    "    plt.show()"
   ]
  },
  {
   "cell_type": "code",
   "execution_count": 54,
   "metadata": {
    "scrolled": true
   },
   "outputs": [
    {
     "data": {
      "text/html": [
       "<div>\n",
       "<style scoped>\n",
       "    .dataframe tbody tr th:only-of-type {\n",
       "        vertical-align: middle;\n",
       "    }\n",
       "\n",
       "    .dataframe tbody tr th {\n",
       "        vertical-align: top;\n",
       "    }\n",
       "\n",
       "    .dataframe thead th {\n",
       "        text-align: right;\n",
       "    }\n",
       "</style>\n",
       "<table border=\"1\" class=\"dataframe\">\n",
       "  <thead>\n",
       "    <tr style=\"text-align: right;\">\n",
       "      <th></th>\n",
       "      <th>critic_score</th>\n",
       "      <th>user_score</th>\n",
       "      <th>total_sales</th>\n",
       "    </tr>\n",
       "  </thead>\n",
       "  <tbody>\n",
       "    <tr>\n",
       "      <th>critic_score</th>\n",
       "      <td>1.000000</td>\n",
       "      <td>0.546434</td>\n",
       "      <td>0.402661</td>\n",
       "    </tr>\n",
       "    <tr>\n",
       "      <th>user_score</th>\n",
       "      <td>0.546434</td>\n",
       "      <td>1.000000</td>\n",
       "      <td>-0.040132</td>\n",
       "    </tr>\n",
       "    <tr>\n",
       "      <th>total_sales</th>\n",
       "      <td>0.402661</td>\n",
       "      <td>-0.040132</td>\n",
       "      <td>1.000000</td>\n",
       "    </tr>\n",
       "  </tbody>\n",
       "</table>\n",
       "</div>"
      ],
      "text/plain": [
       "              critic_score  user_score  total_sales\n",
       "critic_score      1.000000    0.546434     0.402661\n",
       "user_score        0.546434    1.000000    -0.040132\n",
       "total_sales       0.402661   -0.040132     1.000000"
      ]
     },
     "execution_count": 54,
     "metadata": {},
     "output_type": "execute_result"
    }
   ],
   "source": [
    "score_sales_corr('PS4')"
   ]
  },
  {
   "cell_type": "markdown",
   "metadata": {},
   "source": [
    "Корреляция между продажами и отзывами пользователей - отрицательная. Посмотрим, почему такое значение на графике"
   ]
  },
  {
   "cell_type": "code",
   "execution_count": 55,
   "metadata": {
    "scrolled": false
   },
   "outputs": [
    {
     "data": {
      "image/png": "[encoded data removed]",
      "text/plain": [
       "<Figure size 432x288 with 1 Axes>"
      ]
     },
     "metadata": {
      "needs_background": "light"
     },
     "output_type": "display_data"
    }
   ],
   "source": [
    "user_score_sales_scatter('PS4')"
   ]
  },
  {
   "cell_type": "markdown",
   "metadata": {},
   "source": [
    "Крохотная да взаимосвясь присутствует. С увеличением пользовательского рейтинга увеличивается кол-во игр принесших большие деньги. Но есть несколько непредсказуемых значений, у которых маленький рейтинг и сумма продаж достигает 8 млн"
   ]
  },
  {
   "cell_type": "code",
   "execution_count": 56,
   "metadata": {
    "scrolled": true
   },
   "outputs": [
    {
     "data": {
      "image/png": "[encoded data removed]",
      "text/plain": [
       "<Figure size 432x288 with 1 Axes>"
      ]
     },
     "metadata": {
      "needs_background": "light"
     },
     "output_type": "display_data"
    }
   ],
   "source": [
    "critic_score_sales_scatter('PS4')"
   ]
  },
  {
   "cell_type": "markdown",
   "metadata": {},
   "source": [
    "Здесь уже хорошо видна взаимосвязь. Значит мнение критиков лучше предсказывает успешность игры"
   ]
  },
  {
   "cell_type": "markdown",
   "metadata": {},
   "source": [
    "Соотнесем выводы с продажами игр на других платформах"
   ]
  },
  {
   "cell_type": "code",
   "execution_count": 57,
   "metadata": {},
   "outputs": [
    {
     "data": {
      "text/html": [
       "<div>\n",
       "<style scoped>\n",
       "    .dataframe tbody tr th:only-of-type {\n",
       "        vertical-align: middle;\n",
       "    }\n",
       "\n",
       "    .dataframe tbody tr th {\n",
       "        vertical-align: top;\n",
       "    }\n",
       "\n",
       "    .dataframe thead th {\n",
       "        text-align: right;\n",
       "    }\n",
       "</style>\n",
       "<table border=\"1\" class=\"dataframe\">\n",
       "  <thead>\n",
       "    <tr style=\"text-align: right;\">\n",
       "      <th></th>\n",
       "      <th>critic_score</th>\n",
       "      <th>user_score</th>\n",
       "      <th>total_sales</th>\n",
       "    </tr>\n",
       "  </thead>\n",
       "  <tbody>\n",
       "    <tr>\n",
       "      <th>critic_score</th>\n",
       "      <td>1.000000</td>\n",
       "      <td>0.440977</td>\n",
       "      <td>0.428677</td>\n",
       "    </tr>\n",
       "    <tr>\n",
       "      <th>user_score</th>\n",
       "      <td>0.440977</td>\n",
       "      <td>1.000000</td>\n",
       "      <td>-0.070384</td>\n",
       "    </tr>\n",
       "    <tr>\n",
       "      <th>total_sales</th>\n",
       "      <td>0.428677</td>\n",
       "      <td>-0.070384</td>\n",
       "      <td>1.000000</td>\n",
       "    </tr>\n",
       "  </tbody>\n",
       "</table>\n",
       "</div>"
      ],
      "text/plain": [
       "              critic_score  user_score  total_sales\n",
       "critic_score      1.000000    0.440977     0.428677\n",
       "user_score        0.440977    1.000000    -0.070384\n",
       "total_sales       0.428677   -0.070384     1.000000"
      ]
     },
     "execution_count": 57,
     "metadata": {},
     "output_type": "execute_result"
    }
   ],
   "source": [
    "score_sales_corr('XOne')"
   ]
  },
  {
   "cell_type": "code",
   "execution_count": 58,
   "metadata": {
    "scrolled": true
   },
   "outputs": [
    {
     "data": {
      "image/png": "[encoded data removed]",
      "text/plain": [
       "<Figure size 432x288 with 1 Axes>"
      ]
     },
     "metadata": {
      "needs_background": "light"
     },
     "output_type": "display_data"
    }
   ],
   "source": [
    "user_score_sales_scatter('XOne')"
   ]
  },
  {
   "cell_type": "code",
   "execution_count": 59,
   "metadata": {},
   "outputs": [
    {
     "data": {
      "image/png": "[encoded data removed]",
      "text/plain": [
       "<Figure size 432x288 with 1 Axes>"
      ]
     },
     "metadata": {
      "needs_background": "light"
     },
     "output_type": "display_data"
    }
   ],
   "source": [
    "critic_score_sales_scatter('XOne')"
   ]
  },
  {
   "cell_type": "markdown",
   "metadata": {},
   "source": [
    "В Xbox One такая же взаимосвязь. Здесть тоже мнение критиков лучше предсказывает успешность игры"
   ]
  },
  {
   "cell_type": "markdown",
   "metadata": {},
   "source": [
    "Обьединим лидеров портативных платформ для расчета корреляции, так как их кол-во невелико"
   ]
  },
  {
   "cell_type": "code",
   "execution_count": 60,
   "metadata": {
    "scrolled": true
   },
   "outputs": [
    {
     "data": {
      "text/html": [
       "<div>\n",
       "<style scoped>\n",
       "    .dataframe tbody tr th:only-of-type {\n",
       "        vertical-align: middle;\n",
       "    }\n",
       "\n",
       "    .dataframe tbody tr th {\n",
       "        vertical-align: top;\n",
       "    }\n",
       "\n",
       "    .dataframe thead th {\n",
       "        text-align: right;\n",
       "    }\n",
       "</style>\n",
       "<table border=\"1\" class=\"dataframe\">\n",
       "  <thead>\n",
       "    <tr style=\"text-align: right;\">\n",
       "      <th></th>\n",
       "      <th>critic_score</th>\n",
       "      <th>user_score</th>\n",
       "      <th>total_sales</th>\n",
       "    </tr>\n",
       "  </thead>\n",
       "  <tbody>\n",
       "    <tr>\n",
       "      <th>critic_score</th>\n",
       "      <td>1.000000</td>\n",
       "      <td>0.808945</td>\n",
       "      <td>0.347830</td>\n",
       "    </tr>\n",
       "    <tr>\n",
       "      <th>user_score</th>\n",
       "      <td>0.808945</td>\n",
       "      <td>1.000000</td>\n",
       "      <td>0.310211</td>\n",
       "    </tr>\n",
       "    <tr>\n",
       "      <th>total_sales</th>\n",
       "      <td>0.347830</td>\n",
       "      <td>0.310211</td>\n",
       "      <td>1.000000</td>\n",
       "    </tr>\n",
       "  </tbody>\n",
       "</table>\n",
       "</div>"
      ],
      "text/plain": [
       "              critic_score  user_score  total_sales\n",
       "critic_score      1.000000    0.808945     0.347830\n",
       "user_score        0.808945    1.000000     0.310211\n",
       "total_sales       0.347830    0.310211     1.000000"
      ]
     },
     "execution_count": 60,
     "metadata": {},
     "output_type": "execute_result"
    }
   ],
   "source": [
    "df[(df['platform']=='3DS') | (df['platform']=='WiiU')][['critic_score','user_score','total_sales']].corr()"
   ]
  },
  {
   "cell_type": "code",
   "execution_count": 61,
   "metadata": {
    "scrolled": true
   },
   "outputs": [
    {
     "data": {
      "image/png": "[encoded data removed]",
      "text/plain": [
       "<Figure size 432x288 with 1 Axes>"
      ]
     },
     "metadata": {
      "needs_background": "light"
     },
     "output_type": "display_data"
    }
   ],
   "source": [
    "plt.scatter(df[(df['platform']=='3DS') | (df['platform']=='WiiU')]['user_score'], df[(df['platform']=='3DS') | (df['platform']=='WiiU')]['total_sales'])\n",
    "plt.title('Корреляция между оценкой игроков и суммой продаж (Nintendo 3DS и WiiU)')\n",
    "plt.xlabel('Оценка игроков')\n",
    "plt.ylabel('Сумма продаж')\n",
    "plt.grid()\n",
    "plt.show()"
   ]
  },
  {
   "cell_type": "code",
   "execution_count": 62,
   "metadata": {
    "scrolled": false
   },
   "outputs": [
    {
     "data": {
      "image/png": "[encoded data removed]",
      "text/plain": [
       "<Figure size 432x288 with 1 Axes>"
      ]
     },
     "metadata": {
      "needs_background": "light"
     },
     "output_type": "display_data"
    }
   ],
   "source": [
    "plt.scatter(df[(df['platform']=='3DS') | (df['platform']=='WiiU')]['critic_score'], df[(df['platform']=='3DS') | (df['platform']=='WiiU')]['total_sales'])\n",
    "plt.title('Корреляция между оценкой критиков и суммой продаж (Nintendo 3DS и WiiU)')\n",
    "plt.xlabel('Оценка критиков')\n",
    "plt.ylabel('Сумма продаж')\n",
    "plt.grid()\n",
    "plt.show()"
   ]
  },
  {
   "cell_type": "markdown",
   "metadata": {},
   "source": [
    "В портативных платформах почти одинаковые оценки критиков и игроков. Но взаимосвязь с продажами слабая"
   ]
  },
  {
   "cell_type": "markdown",
   "metadata": {},
   "source": [
    "Отдельно хочу посмотреть на PC"
   ]
  },
  {
   "cell_type": "code",
   "execution_count": 63,
   "metadata": {},
   "outputs": [
    {
     "data": {
      "text/html": [
       "<div>\n",
       "<style scoped>\n",
       "    .dataframe tbody tr th:only-of-type {\n",
       "        vertical-align: middle;\n",
       "    }\n",
       "\n",
       "    .dataframe tbody tr th {\n",
       "        vertical-align: top;\n",
       "    }\n",
       "\n",
       "    .dataframe thead th {\n",
       "        text-align: right;\n",
       "    }\n",
       "</style>\n",
       "<table border=\"1\" class=\"dataframe\">\n",
       "  <thead>\n",
       "    <tr style=\"text-align: right;\">\n",
       "      <th></th>\n",
       "      <th>critic_score</th>\n",
       "      <th>user_score</th>\n",
       "      <th>total_sales</th>\n",
       "    </tr>\n",
       "  </thead>\n",
       "  <tbody>\n",
       "    <tr>\n",
       "      <th>critic_score</th>\n",
       "      <td>1.000000</td>\n",
       "      <td>0.466099</td>\n",
       "      <td>0.174634</td>\n",
       "    </tr>\n",
       "    <tr>\n",
       "      <th>user_score</th>\n",
       "      <td>0.466099</td>\n",
       "      <td>1.000000</td>\n",
       "      <td>-0.071597</td>\n",
       "    </tr>\n",
       "    <tr>\n",
       "      <th>total_sales</th>\n",
       "      <td>0.174634</td>\n",
       "      <td>-0.071597</td>\n",
       "      <td>1.000000</td>\n",
       "    </tr>\n",
       "  </tbody>\n",
       "</table>\n",
       "</div>"
      ],
      "text/plain": [
       "              critic_score  user_score  total_sales\n",
       "critic_score      1.000000    0.466099     0.174634\n",
       "user_score        0.466099    1.000000    -0.071597\n",
       "total_sales       0.174634   -0.071597     1.000000"
      ]
     },
     "execution_count": 63,
     "metadata": {},
     "output_type": "execute_result"
    }
   ],
   "source": [
    "score_sales_corr('PC')"
   ]
  },
  {
   "cell_type": "code",
   "execution_count": 64,
   "metadata": {},
   "outputs": [
    {
     "data": {
      "image/png": "[encoded data removed]",
      "text/plain": [
       "<Figure size 432x288 with 1 Axes>"
      ]
     },
     "metadata": {
      "needs_background": "light"
     },
     "output_type": "display_data"
    }
   ],
   "source": [
    "user_score_sales_scatter('PC')"
   ]
  },
  {
   "cell_type": "code",
   "execution_count": 65,
   "metadata": {
    "scrolled": false
   },
   "outputs": [
    {
     "data": {
      "image/png": "[encoded data removed]",
      "text/plain": [
       "<Figure size 432x288 with 1 Axes>"
      ]
     },
     "metadata": {
      "needs_background": "light"
     },
     "output_type": "display_data"
    }
   ],
   "source": [
    "critic_score_sales_scatter('PC')"
   ]
  },
  {
   "cell_type": "markdown",
   "metadata": {},
   "source": [
    "Графики внешне очень похожи. Есть интересная игра, в которую не поверили, а она выстрелила! Найдем ее "
   ]
  },
  {
   "cell_type": "code",
   "execution_count": 66,
   "metadata": {},
   "outputs": [
    {
     "data": {
      "text/html": [
       "<div>\n",
       "<style scoped>\n",
       "    .dataframe tbody tr th:only-of-type {\n",
       "        vertical-align: middle;\n",
       "    }\n",
       "\n",
       "    .dataframe tbody tr th {\n",
       "        vertical-align: top;\n",
       "    }\n",
       "\n",
       "    .dataframe thead th {\n",
       "        text-align: right;\n",
       "    }\n",
       "</style>\n",
       "<table border=\"1\" class=\"dataframe\">\n",
       "  <thead>\n",
       "    <tr style=\"text-align: right;\">\n",
       "      <th></th>\n",
       "      <th>name</th>\n",
       "      <th>platform</th>\n",
       "      <th>year_of_release</th>\n",
       "      <th>genre</th>\n",
       "      <th>na_sales</th>\n",
       "      <th>eu_sales</th>\n",
       "      <th>jp_sales</th>\n",
       "      <th>other_sales</th>\n",
       "      <th>critic_score</th>\n",
       "      <th>user_score</th>\n",
       "      <th>rating</th>\n",
       "      <th>total_sales</th>\n",
       "    </tr>\n",
       "  </thead>\n",
       "  <tbody>\n",
       "    <tr>\n",
       "      <th>24</th>\n",
       "      <td>The Sims 4</td>\n",
       "      <td>PC</td>\n",
       "      <td>2014</td>\n",
       "      <td>Simulation</td>\n",
       "      <td>1.0</td>\n",
       "      <td>1.82</td>\n",
       "      <td>0.0</td>\n",
       "      <td>0.23</td>\n",
       "      <td>70.0</td>\n",
       "      <td>3.9</td>\n",
       "      <td>T</td>\n",
       "      <td>3.05</td>\n",
       "    </tr>\n",
       "  </tbody>\n",
       "</table>\n",
       "</div>"
      ],
      "text/plain": [
       "          name platform  year_of_release       genre  na_sales  eu_sales  \\\n",
       "24  The Sims 4       PC             2014  Simulation       1.0      1.82   \n",
       "\n",
       "    jp_sales  other_sales  critic_score  user_score rating  total_sales  \n",
       "24       0.0         0.23          70.0         3.9      T         3.05  "
      ]
     },
     "execution_count": 66,
     "metadata": {},
     "output_type": "execute_result"
    }
   ],
   "source": [
    "df[df['platform']=='PC'].sort_values(by='total_sales', ascending=False).head(1)"
   ]
  },
  {
   "cell_type": "markdown",
   "metadata": {},
   "source": [
    "Вот она игра в которую не верили) "
   ]
  },
  {
   "cell_type": "markdown",
   "metadata": {},
   "source": [
    "Посмотрим на общее распределение игр по жанрам"
   ]
  },
  {
   "cell_type": "code",
   "execution_count": 67,
   "metadata": {},
   "outputs": [
    {
     "data": {
      "text/html": [
       "<div>\n",
       "<style scoped>\n",
       "    .dataframe tbody tr th:only-of-type {\n",
       "        vertical-align: middle;\n",
       "    }\n",
       "\n",
       "    .dataframe tbody tr th {\n",
       "        vertical-align: top;\n",
       "    }\n",
       "\n",
       "    .dataframe thead th {\n",
       "        text-align: right;\n",
       "    }\n",
       "</style>\n",
       "<table border=\"1\" class=\"dataframe\">\n",
       "  <thead>\n",
       "    <tr style=\"text-align: right;\">\n",
       "      <th></th>\n",
       "      <th>total_sales</th>\n",
       "    </tr>\n",
       "    <tr>\n",
       "      <th>genre</th>\n",
       "      <th></th>\n",
       "    </tr>\n",
       "  </thead>\n",
       "  <tbody>\n",
       "    <tr>\n",
       "      <th>Action</th>\n",
       "      <td>619</td>\n",
       "    </tr>\n",
       "    <tr>\n",
       "      <th>Role-Playing</th>\n",
       "      <td>221</td>\n",
       "    </tr>\n",
       "    <tr>\n",
       "      <th>Adventure</th>\n",
       "      <td>185</td>\n",
       "    </tr>\n",
       "    <tr>\n",
       "      <th>Sports</th>\n",
       "      <td>161</td>\n",
       "    </tr>\n",
       "    <tr>\n",
       "      <th>Shooter</th>\n",
       "      <td>128</td>\n",
       "    </tr>\n",
       "    <tr>\n",
       "      <th>Misc</th>\n",
       "      <td>113</td>\n",
       "    </tr>\n",
       "    <tr>\n",
       "      <th>Racing</th>\n",
       "      <td>69</td>\n",
       "    </tr>\n",
       "    <tr>\n",
       "      <th>Fighting</th>\n",
       "      <td>60</td>\n",
       "    </tr>\n",
       "    <tr>\n",
       "      <th>Simulation</th>\n",
       "      <td>44</td>\n",
       "    </tr>\n",
       "    <tr>\n",
       "      <th>Platform</th>\n",
       "      <td>38</td>\n",
       "    </tr>\n",
       "    <tr>\n",
       "      <th>Strategy</th>\n",
       "      <td>37</td>\n",
       "    </tr>\n",
       "    <tr>\n",
       "      <th>Puzzle</th>\n",
       "      <td>14</td>\n",
       "    </tr>\n",
       "  </tbody>\n",
       "</table>\n",
       "</div>"
      ],
      "text/plain": [
       "              total_sales\n",
       "genre                    \n",
       "Action                619\n",
       "Role-Playing          221\n",
       "Adventure             185\n",
       "Sports                161\n",
       "Shooter               128\n",
       "Misc                  113\n",
       "Racing                 69\n",
       "Fighting               60\n",
       "Simulation             44\n",
       "Platform               38\n",
       "Strategy               37\n",
       "Puzzle                 14"
      ]
     },
     "execution_count": 67,
     "metadata": {},
     "output_type": "execute_result"
    }
   ],
   "source": [
    "pd.pivot_table(df, index='genre', values='total_sales', aggfunc='count').sort_values(by='total_sales', ascending=False)"
   ]
  },
  {
   "cell_type": "markdown",
   "metadata": {},
   "source": [
    "Больше всего игр с жанром Action"
   ]
  },
  {
   "cell_type": "code",
   "execution_count": 68,
   "metadata": {
    "scrolled": false
   },
   "outputs": [
    {
     "data": {
      "text/html": [
       "<div>\n",
       "<style scoped>\n",
       "    .dataframe tbody tr th:only-of-type {\n",
       "        vertical-align: middle;\n",
       "    }\n",
       "\n",
       "    .dataframe tbody tr th {\n",
       "        vertical-align: top;\n",
       "    }\n",
       "\n",
       "    .dataframe thead th {\n",
       "        text-align: right;\n",
       "    }\n",
       "</style>\n",
       "<table border=\"1\" class=\"dataframe\">\n",
       "  <thead>\n",
       "    <tr style=\"text-align: right;\">\n",
       "      <th></th>\n",
       "      <th>total_sales</th>\n",
       "    </tr>\n",
       "    <tr>\n",
       "      <th>genre</th>\n",
       "      <th></th>\n",
       "    </tr>\n",
       "  </thead>\n",
       "  <tbody>\n",
       "    <tr>\n",
       "      <th>Action</th>\n",
       "      <td>199.36</td>\n",
       "    </tr>\n",
       "    <tr>\n",
       "      <th>Shooter</th>\n",
       "      <td>170.94</td>\n",
       "    </tr>\n",
       "    <tr>\n",
       "      <th>Sports</th>\n",
       "      <td>109.48</td>\n",
       "    </tr>\n",
       "    <tr>\n",
       "      <th>Role-Playing</th>\n",
       "      <td>101.44</td>\n",
       "    </tr>\n",
       "    <tr>\n",
       "      <th>Misc</th>\n",
       "      <td>37.55</td>\n",
       "    </tr>\n",
       "    <tr>\n",
       "      <th>Fighting</th>\n",
       "      <td>28.22</td>\n",
       "    </tr>\n",
       "    <tr>\n",
       "      <th>Racing</th>\n",
       "      <td>27.52</td>\n",
       "    </tr>\n",
       "    <tr>\n",
       "      <th>Platform</th>\n",
       "      <td>18.09</td>\n",
       "    </tr>\n",
       "    <tr>\n",
       "      <th>Adventure</th>\n",
       "      <td>17.55</td>\n",
       "    </tr>\n",
       "    <tr>\n",
       "      <th>Simulation</th>\n",
       "      <td>13.13</td>\n",
       "    </tr>\n",
       "    <tr>\n",
       "      <th>Strategy</th>\n",
       "      <td>3.96</td>\n",
       "    </tr>\n",
       "    <tr>\n",
       "      <th>Puzzle</th>\n",
       "      <td>2.21</td>\n",
       "    </tr>\n",
       "  </tbody>\n",
       "</table>\n",
       "</div>"
      ],
      "text/plain": [
       "              total_sales\n",
       "genre                    \n",
       "Action             199.36\n",
       "Shooter            170.94\n",
       "Sports             109.48\n",
       "Role-Playing       101.44\n",
       "Misc                37.55\n",
       "Fighting            28.22\n",
       "Racing              27.52\n",
       "Platform            18.09\n",
       "Adventure           17.55\n",
       "Simulation          13.13\n",
       "Strategy             3.96\n",
       "Puzzle               2.21"
      ]
     },
     "execution_count": 68,
     "metadata": {},
     "output_type": "execute_result"
    }
   ],
   "source": [
    "pd.pivot_table(df, index='genre', values='total_sales', aggfunc='sum').sort_values(by='total_sales', ascending=False)"
   ]
  },
  {
   "cell_type": "markdown",
   "metadata": {},
   "source": [
    "Больше всех денег принесли жанры Action, Shooter, Sports, Role-Playing. "
   ]
  },
  {
   "cell_type": "code",
   "execution_count": 69,
   "metadata": {
    "scrolled": false
   },
   "outputs": [
    {
     "data": {
      "text/html": [
       "<div>\n",
       "<style scoped>\n",
       "    .dataframe tbody tr th:only-of-type {\n",
       "        vertical-align: middle;\n",
       "    }\n",
       "\n",
       "    .dataframe tbody tr th {\n",
       "        vertical-align: top;\n",
       "    }\n",
       "\n",
       "    .dataframe thead th {\n",
       "        text-align: right;\n",
       "    }\n",
       "</style>\n",
       "<table border=\"1\" class=\"dataframe\">\n",
       "  <thead>\n",
       "    <tr style=\"text-align: right;\">\n",
       "      <th></th>\n",
       "      <th>total_sales</th>\n",
       "    </tr>\n",
       "    <tr>\n",
       "      <th>genre</th>\n",
       "      <th></th>\n",
       "    </tr>\n",
       "  </thead>\n",
       "  <tbody>\n",
       "    <tr>\n",
       "      <th>Shooter</th>\n",
       "      <td>1.335469</td>\n",
       "    </tr>\n",
       "    <tr>\n",
       "      <th>Sports</th>\n",
       "      <td>0.680000</td>\n",
       "    </tr>\n",
       "    <tr>\n",
       "      <th>Platform</th>\n",
       "      <td>0.476053</td>\n",
       "    </tr>\n",
       "    <tr>\n",
       "      <th>Fighting</th>\n",
       "      <td>0.470333</td>\n",
       "    </tr>\n",
       "    <tr>\n",
       "      <th>Role-Playing</th>\n",
       "      <td>0.459005</td>\n",
       "    </tr>\n",
       "    <tr>\n",
       "      <th>Racing</th>\n",
       "      <td>0.398841</td>\n",
       "    </tr>\n",
       "    <tr>\n",
       "      <th>Misc</th>\n",
       "      <td>0.332301</td>\n",
       "    </tr>\n",
       "    <tr>\n",
       "      <th>Action</th>\n",
       "      <td>0.322068</td>\n",
       "    </tr>\n",
       "    <tr>\n",
       "      <th>Simulation</th>\n",
       "      <td>0.298409</td>\n",
       "    </tr>\n",
       "    <tr>\n",
       "      <th>Puzzle</th>\n",
       "      <td>0.157857</td>\n",
       "    </tr>\n",
       "    <tr>\n",
       "      <th>Strategy</th>\n",
       "      <td>0.107027</td>\n",
       "    </tr>\n",
       "    <tr>\n",
       "      <th>Adventure</th>\n",
       "      <td>0.094865</td>\n",
       "    </tr>\n",
       "  </tbody>\n",
       "</table>\n",
       "</div>"
      ],
      "text/plain": [
       "              total_sales\n",
       "genre                    \n",
       "Shooter          1.335469\n",
       "Sports           0.680000\n",
       "Platform         0.476053\n",
       "Fighting         0.470333\n",
       "Role-Playing     0.459005\n",
       "Racing           0.398841\n",
       "Misc             0.332301\n",
       "Action           0.322068\n",
       "Simulation       0.298409\n",
       "Puzzle           0.157857\n",
       "Strategy         0.107027\n",
       "Adventure        0.094865"
      ]
     },
     "execution_count": 69,
     "metadata": {},
     "output_type": "execute_result"
    }
   ],
   "source": [
    "pd.pivot_table(df, index='genre', values='total_sales', aggfunc='mean').sort_values(by='total_sales', ascending=False)"
   ]
  },
  {
   "cell_type": "code",
   "execution_count": 70,
   "metadata": {},
   "outputs": [
    {
     "data": {
      "text/html": [
       "<div>\n",
       "<style scoped>\n",
       "    .dataframe tbody tr th:only-of-type {\n",
       "        vertical-align: middle;\n",
       "    }\n",
       "\n",
       "    .dataframe tbody tr th {\n",
       "        vertical-align: top;\n",
       "    }\n",
       "\n",
       "    .dataframe thead th {\n",
       "        text-align: right;\n",
       "    }\n",
       "</style>\n",
       "<table border=\"1\" class=\"dataframe\">\n",
       "  <thead>\n",
       "    <tr style=\"text-align: right;\">\n",
       "      <th></th>\n",
       "      <th>total_sales</th>\n",
       "    </tr>\n",
       "    <tr>\n",
       "      <th>genre</th>\n",
       "      <th></th>\n",
       "    </tr>\n",
       "  </thead>\n",
       "  <tbody>\n",
       "    <tr>\n",
       "      <th>Shooter</th>\n",
       "      <td>0.515</td>\n",
       "    </tr>\n",
       "    <tr>\n",
       "      <th>Sports</th>\n",
       "      <td>0.180</td>\n",
       "    </tr>\n",
       "    <tr>\n",
       "      <th>Platform</th>\n",
       "      <td>0.140</td>\n",
       "    </tr>\n",
       "    <tr>\n",
       "      <th>Fighting</th>\n",
       "      <td>0.125</td>\n",
       "    </tr>\n",
       "    <tr>\n",
       "      <th>Role-Playing</th>\n",
       "      <td>0.110</td>\n",
       "    </tr>\n",
       "    <tr>\n",
       "      <th>Simulation</th>\n",
       "      <td>0.100</td>\n",
       "    </tr>\n",
       "    <tr>\n",
       "      <th>Action</th>\n",
       "      <td>0.090</td>\n",
       "    </tr>\n",
       "    <tr>\n",
       "      <th>Misc</th>\n",
       "      <td>0.090</td>\n",
       "    </tr>\n",
       "    <tr>\n",
       "      <th>Racing</th>\n",
       "      <td>0.090</td>\n",
       "    </tr>\n",
       "    <tr>\n",
       "      <th>Strategy</th>\n",
       "      <td>0.060</td>\n",
       "    </tr>\n",
       "    <tr>\n",
       "      <th>Puzzle</th>\n",
       "      <td>0.045</td>\n",
       "    </tr>\n",
       "    <tr>\n",
       "      <th>Adventure</th>\n",
       "      <td>0.030</td>\n",
       "    </tr>\n",
       "  </tbody>\n",
       "</table>\n",
       "</div>"
      ],
      "text/plain": [
       "              total_sales\n",
       "genre                    \n",
       "Shooter             0.515\n",
       "Sports              0.180\n",
       "Platform            0.140\n",
       "Fighting            0.125\n",
       "Role-Playing        0.110\n",
       "Simulation          0.100\n",
       "Action              0.090\n",
       "Misc                0.090\n",
       "Racing              0.090\n",
       "Strategy            0.060\n",
       "Puzzle              0.045\n",
       "Adventure           0.030"
      ]
     },
     "execution_count": 70,
     "metadata": {},
     "output_type": "execute_result"
    }
   ],
   "source": [
    "pd.pivot_table(df, index='genre', values='total_sales', aggfunc='median').sort_values(by='total_sales', ascending=False)"
   ]
  },
  {
   "cell_type": "markdown",
   "metadata": {},
   "source": [
    "В среднем и по медианному значению Shooter приносит больше всех денег. Значит Action делает продажи за счет большего количества игр и большого количества бестселлеров)"
   ]
  },
  {
   "cell_type": "markdown",
   "metadata": {},
   "source": [
    "# Портрет пользователя каждого региона"
   ]
  },
  {
   "cell_type": "code",
   "execution_count": 71,
   "metadata": {},
   "outputs": [],
   "source": [
    "def top_5_by_region(grouping, region):\n",
    "    return df.groupby(grouping)[region].sum().sort_values(ascending=False).head()"
   ]
  },
  {
   "cell_type": "code",
   "execution_count": 72,
   "metadata": {
    "scrolled": true
   },
   "outputs": [
    {
     "data": {
      "text/plain": [
       "platform\n",
       "PS4     98.61\n",
       "XOne    81.27\n",
       "X360    28.30\n",
       "3DS     22.64\n",
       "PS3     22.05\n",
       "Name: na_sales, dtype: float64"
      ]
     },
     "execution_count": 72,
     "metadata": {},
     "output_type": "execute_result"
    }
   ],
   "source": [
    "top_5_by_region('platform', 'na_sales')"
   ]
  },
  {
   "cell_type": "markdown",
   "metadata": {},
   "source": [
    "В Северной Америке PS4 и Xbox One приносят больше всех денег"
   ]
  },
  {
   "cell_type": "code",
   "execution_count": 73,
   "metadata": {},
   "outputs": [
    {
     "data": {
      "text/plain": [
       "platform\n",
       "PS4     130.04\n",
       "XOne     46.25\n",
       "PS3      25.54\n",
       "PC       17.97\n",
       "3DS      16.12\n",
       "Name: eu_sales, dtype: float64"
      ]
     },
     "execution_count": 73,
     "metadata": {},
     "output_type": "execute_result"
    }
   ],
   "source": [
    "top_5_by_region('platform', 'eu_sales')"
   ]
  },
  {
   "cell_type": "markdown",
   "metadata": {},
   "source": [
    "В Европе лидирует PS4 с большим отрывом от Xbox One"
   ]
  },
  {
   "cell_type": "code",
   "execution_count": 74,
   "metadata": {
    "scrolled": true
   },
   "outputs": [
    {
     "data": {
      "text/plain": [
       "platform\n",
       "3DS     44.24\n",
       "PS4     15.02\n",
       "PSV     14.54\n",
       "PS3     11.22\n",
       "WiiU     7.31\n",
       "Name: jp_sales, dtype: float64"
      ]
     },
     "execution_count": 74,
     "metadata": {},
     "output_type": "execute_result"
    }
   ],
   "source": [
    "top_5_by_region('platform', 'jp_sales')"
   ]
  },
  {
   "cell_type": "markdown",
   "metadata": {},
   "source": [
    "В Японии больше всех денег приносит Nintendo 3DS и платформы Sony. Не удивительно, ведь обе компании являются японскими"
   ]
  },
  {
   "cell_type": "code",
   "execution_count": 75,
   "metadata": {},
   "outputs": [
    {
     "data": {
      "text/plain": [
       "genre\n",
       "Shooter         79.02\n",
       "Action          72.53\n",
       "Sports          46.13\n",
       "Role-Playing    33.47\n",
       "Misc            15.05\n",
       "Name: na_sales, dtype: float64"
      ]
     },
     "execution_count": 75,
     "metadata": {},
     "output_type": "execute_result"
    }
   ],
   "source": [
    "top_5_by_region('genre', 'na_sales')"
   ]
  },
  {
   "cell_type": "markdown",
   "metadata": {},
   "source": [
    "В Северной Америке предпочитают жанры Shooter и Action. Лидирует Shooter"
   ]
  },
  {
   "cell_type": "code",
   "execution_count": 76,
   "metadata": {},
   "outputs": [
    {
     "data": {
      "text/plain": [
       "genre\n",
       "Action          74.68\n",
       "Shooter         65.52\n",
       "Sports          45.73\n",
       "Role-Playing    28.17\n",
       "Racing          14.13\n",
       "Name: eu_sales, dtype: float64"
      ]
     },
     "execution_count": 76,
     "metadata": {},
     "output_type": "execute_result"
    }
   ],
   "source": [
    "top_5_by_region('genre', 'eu_sales')"
   ]
  },
  {
   "cell_type": "markdown",
   "metadata": {},
   "source": [
    "В Европе тоже предпочитают жанры Action и Shooter. Лидирует Action"
   ]
  },
  {
   "cell_type": "code",
   "execution_count": 77,
   "metadata": {},
   "outputs": [
    {
     "data": {
      "text/plain": [
       "genre\n",
       "Role-Playing    31.16\n",
       "Action          29.58\n",
       "Fighting         6.37\n",
       "Misc             5.61\n",
       "Shooter          4.87\n",
       "Name: jp_sales, dtype: float64"
      ]
     },
     "execution_count": 77,
     "metadata": {},
     "output_type": "execute_result"
    }
   ],
   "source": [
    "top_5_by_region('genre', 'jp_sales')"
   ]
  },
  {
   "cell_type": "markdown",
   "metadata": {},
   "source": [
    "В Японии предпочитают ролевые игры. Наравне с ним стоит Action"
   ]
  },
  {
   "cell_type": "code",
   "execution_count": 78,
   "metadata": {},
   "outputs": [],
   "source": [
    "df['rating'] = df['rating'].fillna('undef')"
   ]
  },
  {
   "cell_type": "code",
   "execution_count": 79,
   "metadata": {
    "scrolled": true
   },
   "outputs": [
    {
     "data": {
      "text/plain": [
       "rating\n",
       "M        96.42\n",
       "undef    64.72\n",
       "E        50.74\n",
       "T        38.95\n",
       "E10+     33.23\n",
       "Name: na_sales, dtype: float64"
      ]
     },
     "execution_count": 79,
     "metadata": {},
     "output_type": "execute_result"
    }
   ],
   "source": [
    "top_5_by_region('rating', 'na_sales')"
   ]
  },
  {
   "cell_type": "markdown",
   "metadata": {},
   "source": [
    "В Северной Америке большинство игр имеют рейтинг для взрослых"
   ]
  },
  {
   "cell_type": "code",
   "execution_count": 80,
   "metadata": {},
   "outputs": [
    {
     "data": {
      "text/plain": [
       "rating\n",
       "M        93.44\n",
       "undef    58.95\n",
       "E        58.06\n",
       "T        34.07\n",
       "E10+     26.16\n",
       "Name: eu_sales, dtype: float64"
      ]
     },
     "execution_count": 80,
     "metadata": {},
     "output_type": "execute_result"
    }
   ],
   "source": [
    "top_5_by_region('rating', 'eu_sales')"
   ]
  },
  {
   "cell_type": "markdown",
   "metadata": {},
   "source": [
    "В Европе тоже преобладают игры для взрослых"
   ]
  },
  {
   "cell_type": "code",
   "execution_count": 81,
   "metadata": {
    "scrolled": false
   },
   "outputs": [
    {
     "data": {
      "text/plain": [
       "rating\n",
       "undef    56.90\n",
       "T        14.78\n",
       "E         8.94\n",
       "M         8.01\n",
       "E10+      4.46\n",
       "Name: jp_sales, dtype: float64"
      ]
     },
     "execution_count": 81,
     "metadata": {},
     "output_type": "execute_result"
    }
   ],
   "source": [
    "top_5_by_region('rating', 'jp_sales')"
   ]
  },
  {
   "cell_type": "markdown",
   "metadata": {},
   "source": [
    "В Японии больше всех денег принесли игры с пропущенным рейтингом. Затем идут игры с рейтингом для подростков."
   ]
  },
  {
   "cell_type": "markdown",
   "metadata": {},
   "source": [
    "# Проверка гипотез"
   ]
  },
  {
   "cell_type": "markdown",
   "metadata": {},
   "source": [
    "## Средние пользовательские рейтинги платформ Xbox One и PC одинаковые"
   ]
  },
  {
   "cell_type": "markdown",
   "metadata": {},
   "source": [
    "Нулевая гипотеза: средние пользовательские рейтинги платформ Xbox One и PC одинаковые  \n",
    "Альтернативная гипотеза: они отличаются"
   ]
  },
  {
   "cell_type": "code",
   "execution_count": 82,
   "metadata": {},
   "outputs": [
    {
     "name": "stdout",
     "output_type": "stream",
     "text": [
      "p-значение: 0.10450507919348306\n",
      "Не получилось отвергнуть нулевую гипотезу\n"
     ]
    }
   ],
   "source": [
    "alpha = 0.05  \n",
    "results = st.ttest_ind(df[df['platform']=='XOne']['user_score'].dropna(), df[df['platform']=='PC']['user_score'].dropna())\n",
    "print('p-значение:', results.pvalue)\n",
    "if results.pvalue < alpha:\n",
    "    print('Отвергаем нулевую гипотезу')\n",
    "else:\n",
    "    print('Не получилось отвергнуть нулевую гипотезу') "
   ]
  },
  {
   "cell_type": "code",
   "execution_count": 83,
   "metadata": {
    "scrolled": true
   },
   "outputs": [
    {
     "data": {
      "text/plain": [
       "6.594545454545456"
      ]
     },
     "execution_count": 83,
     "metadata": {},
     "output_type": "execute_result"
    }
   ],
   "source": [
    "df[df['platform']=='XOne']['user_score'].mean()"
   ]
  },
  {
   "cell_type": "code",
   "execution_count": 84,
   "metadata": {},
   "outputs": [
    {
     "data": {
      "text/plain": [
       "6.298360655737705"
      ]
     },
     "execution_count": 84,
     "metadata": {},
     "output_type": "execute_result"
    }
   ],
   "source": [
    "df[df['platform']=='PC']['user_score'].mean()"
   ]
  },
  {
   "cell_type": "markdown",
   "metadata": {},
   "source": [
    "Значит наша гипотеза оказалась верной - средние пользовательские рейтинги платформ Xbox One и PC одинаковые"
   ]
  },
  {
   "cell_type": "markdown",
   "metadata": {},
   "source": [
    "## Средние пользовательские рейтинги жанров Action и Sports разные"
   ]
  },
  {
   "cell_type": "markdown",
   "metadata": {},
   "source": [
    "Нулевая гипотеза: средние пользовательские рейтинги жанров Action и Sports одинаковые  \n",
    "Альтернативная гипотеза: они отличаются"
   ]
  },
  {
   "cell_type": "code",
   "execution_count": 85,
   "metadata": {},
   "outputs": [
    {
     "name": "stdout",
     "output_type": "stream",
     "text": [
      "p-значение: 2.8711147985107304e-19\n",
      "Отвергаем нулевую гипотезу\n"
     ]
    }
   ],
   "source": [
    "alpha = 0.05  \n",
    "results = st.ttest_ind(df[df['genre']=='Action']['user_score'].dropna(), df[df['genre']=='Sports']['user_score'].dropna())\n",
    "print('p-значение:', results.pvalue)\n",
    "if results.pvalue < alpha:\n",
    "    print('Отвергаем нулевую гипотезу')\n",
    "else:\n",
    "    print('Не получилось отвергнуть нулевую гипотезу') "
   ]
  },
  {
   "cell_type": "code",
   "execution_count": 86,
   "metadata": {},
   "outputs": [
    {
     "data": {
      "text/plain": [
       "6.7606060606060545"
      ]
     },
     "execution_count": 86,
     "metadata": {},
     "output_type": "execute_result"
    }
   ],
   "source": [
    "df[df['genre']=='Action']['user_score'].mean()"
   ]
  },
  {
   "cell_type": "code",
   "execution_count": 87,
   "metadata": {},
   "outputs": [
    {
     "data": {
      "text/plain": [
       "5.2251968503937025"
      ]
     },
     "execution_count": 87,
     "metadata": {},
     "output_type": "execute_result"
    }
   ],
   "source": [
    "df[df['genre']=='Sports']['user_score'].mean()"
   ]
  },
  {
   "cell_type": "markdown",
   "metadata": {},
   "source": [
    "Значит наша гипотеза оказалась верной - средние пользовательские рейтинги жанров Action и Sports разные"
   ]
  },
  {
   "cell_type": "markdown",
   "metadata": {},
   "source": [
    "# Вывод"
   ]
  },
  {
   "cell_type": "markdown",
   "metadata": {},
   "source": [
    "Мы провели исследование данных интернет-магазина «Стримчик», который продаёт по всему миру компьютерные игры. У нас данные до 2016 года и мы должны запланировать кампанию на 2017 год. В ходе исследования мы выяснили актуальный период времени для более точного предсказания 2017 года. Для актуального периода мы выбрали данные с 2014 года и выше. Дальше мы провели исследование уже по этим данным. И пришли к таким выводам:  \n",
    "1. Лидирующие платформы - PS4 и Xbox One. Для 2017 года нужно сделать ставку на игры этих платформ;  \n",
    "2. Средний рейтинг критиков лучше предсказывает успешность игры, чем рейтинг пользователей;  \n",
    "3. Больше всего денег приносят игры с жанрами Action, Shooter, Sports, Role-Playing;  \n",
    "4. В Северной Америке и Европе отдают предпочтение платформам PS4 и Xbox One, и в основном играют в игры с жанрами Action, Shooter и Sport. В Японии лидирует Nintendo 3DS, PS4 и PSV; японцы предпочитают ролевые игры и Action. Поэтому помимо PS4 и Xbox One нужно еще обратить внимание на игры портативных игровых консолей Nintendo 3DS и Nintendo WiiU. В Северной Америке и Европе лидируют игры с рейтингом для взрослых, а в Японии большинство денег принесли рейтинги с пропущенными значениями, после чего идут игры для подростков и старше;\n",
    "5. Старые модели игровых консолей сменяются новыми каждые 5-7 лет. Поэтому не стоит долго продавать игры одной платформы. Вспомним пример PSP);  \n",
    "6. Самая долговечная платформа - PC. Игры на пк приносят не так много денег как на игровых консолях, но их покупают всегда."
   ]
  }
 ],
 "metadata": {
  "ExecuteTimeLog": [
   {
    "duration": 1519,
    "start_time": "2021-08-30T14:05:29.490Z"
   },
   {
    "duration": 54,
    "start_time": "2021-08-30T14:05:53.161Z"
   },
   {
    "duration": 28,
    "start_time": "2021-08-30T14:05:56.186Z"
   },
   {
    "duration": 5,
    "start_time": "2021-08-30T14:08:15.152Z"
   },
   {
    "duration": 18,
    "start_time": "2021-08-30T14:08:18.336Z"
   },
   {
    "duration": 4,
    "start_time": "2021-08-30T14:10:24.268Z"
   },
   {
    "duration": 453,
    "start_time": "2021-08-30T14:10:39.980Z"
   },
   {
    "duration": 14,
    "start_time": "2021-08-30T14:11:01.763Z"
   },
   {
    "duration": 16,
    "start_time": "2021-08-30T14:11:27.919Z"
   },
   {
    "duration": 12,
    "start_time": "2021-08-30T14:12:45.823Z"
   },
   {
    "duration": 8587,
    "start_time": "2021-08-30T14:13:25.243Z"
   },
   {
    "duration": 396,
    "start_time": "2021-08-30T14:13:47.305Z"
   },
   {
    "duration": 329,
    "start_time": "2021-08-30T14:14:00.673Z"
   },
   {
    "duration": 680,
    "start_time": "2021-08-30T14:14:14.958Z"
   },
   {
    "duration": 609,
    "start_time": "2021-08-30T14:14:18.654Z"
   },
   {
    "duration": 408,
    "start_time": "2021-08-30T14:14:26.191Z"
   },
   {
    "duration": 30,
    "start_time": "2021-08-30T14:15:09.046Z"
   },
   {
    "duration": 40,
    "start_time": "2021-08-30T14:15:44.021Z"
   },
   {
    "duration": 29,
    "start_time": "2021-08-30T14:16:40.268Z"
   },
   {
    "duration": 32,
    "start_time": "2021-08-30T14:17:53.886Z"
   },
   {
    "duration": 298,
    "start_time": "2021-08-30T14:18:00.683Z"
   },
   {
    "duration": 11,
    "start_time": "2021-08-30T14:18:09.148Z"
   },
   {
    "duration": 7,
    "start_time": "2021-08-30T14:18:23.568Z"
   },
   {
    "duration": 366,
    "start_time": "2021-08-30T14:18:55.747Z"
   },
   {
    "duration": 116,
    "start_time": "2021-08-30T14:19:13.768Z"
   },
   {
    "duration": 6,
    "start_time": "2021-08-30T14:19:28.483Z"
   },
   {
    "duration": 9,
    "start_time": "2021-08-30T14:19:32.481Z"
   },
   {
    "duration": 20,
    "start_time": "2021-08-30T14:20:41.014Z"
   },
   {
    "duration": 22,
    "start_time": "2021-08-30T14:21:09.868Z"
   },
   {
    "duration": 24,
    "start_time": "2021-08-30T14:21:24.468Z"
   },
   {
    "duration": 20,
    "start_time": "2021-08-30T14:29:35.867Z"
   },
   {
    "duration": 21,
    "start_time": "2021-08-30T14:36:56.582Z"
   },
   {
    "duration": 147,
    "start_time": "2021-08-30T14:37:23.194Z"
   },
   {
    "duration": 21,
    "start_time": "2021-08-30T14:37:33.055Z"
   },
   {
    "duration": 1517,
    "start_time": "2021-08-30T14:37:57.398Z"
   },
   {
    "duration": 47,
    "start_time": "2021-08-30T14:37:58.918Z"
   },
   {
    "duration": 22,
    "start_time": "2021-08-30T14:37:58.969Z"
   },
   {
    "duration": 14,
    "start_time": "2021-08-30T14:37:58.994Z"
   },
   {
    "duration": 4,
    "start_time": "2021-08-30T14:37:59.010Z"
   },
   {
    "duration": 21,
    "start_time": "2021-08-30T14:37:59.017Z"
   },
   {
    "duration": 8,
    "start_time": "2021-08-30T14:39:32.935Z"
   },
   {
    "duration": 19,
    "start_time": "2021-08-30T14:39:38.507Z"
   },
   {
    "duration": 9,
    "start_time": "2021-08-30T14:40:41.496Z"
   },
   {
    "duration": 20,
    "start_time": "2021-08-30T14:40:42.205Z"
   },
   {
    "duration": 1478,
    "start_time": "2021-08-30T14:40:56.503Z"
   },
   {
    "duration": 52,
    "start_time": "2021-08-30T14:40:57.985Z"
   },
   {
    "duration": 21,
    "start_time": "2021-08-30T14:40:58.040Z"
   },
   {
    "duration": 32,
    "start_time": "2021-08-30T14:40:58.064Z"
   },
   {
    "duration": 5,
    "start_time": "2021-08-30T14:40:58.099Z"
   },
   {
    "duration": 14,
    "start_time": "2021-08-30T14:40:58.106Z"
   },
   {
    "duration": 20,
    "start_time": "2021-08-30T14:40:58.122Z"
   },
   {
    "duration": 1567,
    "start_time": "2021-08-30T14:41:10.711Z"
   },
   {
    "duration": 53,
    "start_time": "2021-08-30T14:41:12.284Z"
   },
   {
    "duration": 23,
    "start_time": "2021-08-30T14:41:12.340Z"
   },
   {
    "duration": 33,
    "start_time": "2021-08-30T14:41:12.365Z"
   },
   {
    "duration": 5,
    "start_time": "2021-08-30T14:41:12.401Z"
   },
   {
    "duration": 11,
    "start_time": "2021-08-30T14:41:12.408Z"
   },
   {
    "duration": 20,
    "start_time": "2021-08-30T14:41:12.422Z"
   },
   {
    "duration": 1514,
    "start_time": "2021-08-30T14:41:48.846Z"
   },
   {
    "duration": 53,
    "start_time": "2021-08-30T14:41:50.363Z"
   },
   {
    "duration": 25,
    "start_time": "2021-08-30T14:41:50.419Z"
   },
   {
    "duration": 39,
    "start_time": "2021-08-30T14:41:50.448Z"
   },
   {
    "duration": 6,
    "start_time": "2021-08-30T14:41:50.490Z"
   },
   {
    "duration": 13,
    "start_time": "2021-08-30T14:41:50.499Z"
   },
   {
    "duration": 31,
    "start_time": "2021-08-30T14:41:50.514Z"
   },
   {
    "duration": 23,
    "start_time": "2021-08-30T14:42:02.590Z"
   },
   {
    "duration": 551,
    "start_time": "2021-08-30T14:42:22.413Z"
   },
   {
    "duration": 18,
    "start_time": "2021-08-30T14:42:33.563Z"
   },
   {
    "duration": 1580,
    "start_time": "2021-08-30T14:42:40.863Z"
   },
   {
    "duration": 52,
    "start_time": "2021-08-30T14:42:42.445Z"
   },
   {
    "duration": 25,
    "start_time": "2021-08-30T14:42:42.501Z"
   },
   {
    "duration": 15,
    "start_time": "2021-08-30T14:42:42.528Z"
   },
   {
    "duration": 12,
    "start_time": "2021-08-30T14:42:42.545Z"
   },
   {
    "duration": 45,
    "start_time": "2021-08-30T14:42:42.559Z"
   },
   {
    "duration": 15,
    "start_time": "2021-08-30T14:42:56.988Z"
   },
   {
    "duration": 2532,
    "start_time": "2021-08-30T14:44:57.635Z"
   },
   {
    "duration": 34,
    "start_time": "2021-08-30T14:45:36.881Z"
   },
   {
    "duration": 14,
    "start_time": "2021-08-30T14:49:06.159Z"
   },
   {
    "duration": 13,
    "start_time": "2021-08-30T14:49:10.628Z"
   },
   {
    "duration": 15,
    "start_time": "2021-08-30T14:50:14.568Z"
   },
   {
    "duration": 372,
    "start_time": "2021-08-30T14:51:12.499Z"
   },
   {
    "duration": 12,
    "start_time": "2021-08-30T14:51:16.975Z"
   },
   {
    "duration": 22,
    "start_time": "2021-08-30T14:51:47.228Z"
   },
   {
    "duration": 13,
    "start_time": "2021-08-30T14:52:24.708Z"
   },
   {
    "duration": 12,
    "start_time": "2021-08-30T14:52:31.342Z"
   },
   {
    "duration": 18,
    "start_time": "2021-08-30T14:52:38.625Z"
   },
   {
    "duration": 21,
    "start_time": "2021-08-30T14:53:42.621Z"
   },
   {
    "duration": 13,
    "start_time": "2021-08-30T14:55:24.625Z"
   },
   {
    "duration": 30,
    "start_time": "2021-08-30T14:55:27.824Z"
   },
   {
    "duration": 28,
    "start_time": "2021-08-30T14:56:25.327Z"
   },
   {
    "duration": 375,
    "start_time": "2021-08-30T14:56:38.523Z"
   },
   {
    "duration": 26,
    "start_time": "2021-08-30T14:56:44.590Z"
   },
   {
    "duration": 30,
    "start_time": "2021-08-30T14:57:55.580Z"
   },
   {
    "duration": 317,
    "start_time": "2021-08-30T14:58:01.225Z"
   },
   {
    "duration": 32,
    "start_time": "2021-08-30T14:58:16.429Z"
   },
   {
    "duration": 344,
    "start_time": "2021-08-30T14:59:21.712Z"
   },
   {
    "duration": 33,
    "start_time": "2021-08-30T15:00:04.643Z"
   },
   {
    "duration": 25,
    "start_time": "2021-08-30T15:00:22.623Z"
   },
   {
    "duration": 9572,
    "start_time": "2021-08-30T15:02:10.364Z"
   },
   {
    "duration": 8785,
    "start_time": "2021-08-30T15:02:36.918Z"
   },
   {
    "duration": 29,
    "start_time": "2021-08-30T15:02:58.849Z"
   },
   {
    "duration": 954,
    "start_time": "2021-08-30T15:03:03.379Z"
   },
   {
    "duration": 1085,
    "start_time": "2021-08-30T15:03:15.464Z"
   },
   {
    "duration": 1264,
    "start_time": "2021-08-30T15:03:22.123Z"
   },
   {
    "duration": 12,
    "start_time": "2021-08-30T15:03:33.174Z"
   },
   {
    "duration": 319,
    "start_time": "2021-08-30T15:04:04.857Z"
   },
   {
    "duration": 634,
    "start_time": "2021-08-30T15:04:33.885Z"
   },
   {
    "duration": 360,
    "start_time": "2021-08-30T15:06:36.686Z"
   },
   {
    "duration": 349,
    "start_time": "2021-08-30T15:06:47.939Z"
   },
   {
    "duration": 22,
    "start_time": "2021-08-30T15:10:08.908Z"
   },
   {
    "duration": 1475,
    "start_time": "2021-08-30T15:10:54.769Z"
   },
   {
    "duration": 47,
    "start_time": "2021-08-30T15:10:56.247Z"
   },
   {
    "duration": 23,
    "start_time": "2021-08-30T15:10:56.298Z"
   },
   {
    "duration": 16,
    "start_time": "2021-08-30T15:10:56.325Z"
   },
   {
    "duration": 10,
    "start_time": "2021-08-30T15:10:56.344Z"
   },
   {
    "duration": 42,
    "start_time": "2021-08-30T15:10:56.357Z"
   },
   {
    "duration": 14,
    "start_time": "2021-08-30T15:10:56.401Z"
   },
   {
    "duration": 40,
    "start_time": "2021-08-30T15:10:56.419Z"
   },
   {
    "duration": 23,
    "start_time": "2021-08-30T15:10:56.461Z"
   },
   {
    "duration": 38,
    "start_time": "2021-08-30T15:10:56.487Z"
   },
   {
    "duration": 13,
    "start_time": "2021-08-30T15:10:56.527Z"
   },
   {
    "duration": 11,
    "start_time": "2021-08-30T15:10:56.542Z"
   },
   {
    "duration": 42,
    "start_time": "2021-08-30T15:10:56.555Z"
   },
   {
    "duration": 7,
    "start_time": "2021-08-30T15:10:56.600Z"
   },
   {
    "duration": 22,
    "start_time": "2021-08-30T15:10:56.609Z"
   },
   {
    "duration": 52,
    "start_time": "2021-08-30T15:10:56.634Z"
   },
   {
    "duration": 352,
    "start_time": "2021-08-30T15:10:56.689Z"
   },
   {
    "duration": 350,
    "start_time": "2021-08-30T15:13:25.935Z"
   },
   {
    "duration": 10,
    "start_time": "2021-08-30T15:14:49.174Z"
   },
   {
    "duration": 11,
    "start_time": "2021-08-30T15:14:57.614Z"
   },
   {
    "duration": 11,
    "start_time": "2021-08-30T15:15:05.680Z"
   },
   {
    "duration": 11,
    "start_time": "2021-08-30T15:15:33.783Z"
   },
   {
    "duration": 10,
    "start_time": "2021-08-30T15:16:43.160Z"
   },
   {
    "duration": 11,
    "start_time": "2021-08-30T15:16:56.370Z"
   },
   {
    "duration": 9,
    "start_time": "2021-08-30T15:17:31.274Z"
   },
   {
    "duration": 10,
    "start_time": "2021-08-30T15:17:38.638Z"
   },
   {
    "duration": 8,
    "start_time": "2021-08-30T15:20:05.195Z"
   },
   {
    "duration": 5,
    "start_time": "2021-08-30T15:20:29.493Z"
   },
   {
    "duration": 13,
    "start_time": "2021-08-30T15:22:28.429Z"
   },
   {
    "duration": 20,
    "start_time": "2021-08-30T15:23:22.055Z"
   },
   {
    "duration": 19,
    "start_time": "2021-08-30T15:23:30.059Z"
   },
   {
    "duration": 11,
    "start_time": "2021-08-30T15:23:53.726Z"
   },
   {
    "duration": 8,
    "start_time": "2021-08-30T15:25:12.524Z"
   },
   {
    "duration": 5,
    "start_time": "2021-08-30T15:25:13.155Z"
   },
   {
    "duration": 514,
    "start_time": "2021-08-30T15:25:42.907Z"
   },
   {
    "duration": 10,
    "start_time": "2021-08-30T15:25:53.695Z"
   },
   {
    "duration": 7,
    "start_time": "2021-08-30T15:26:01.871Z"
   },
   {
    "duration": 283,
    "start_time": "2021-08-30T15:27:54.447Z"
   },
   {
    "duration": 316,
    "start_time": "2021-08-30T15:28:31.411Z"
   },
   {
    "duration": 10,
    "start_time": "2021-08-30T15:29:08.399Z"
   },
   {
    "duration": 300,
    "start_time": "2021-08-30T15:29:09.575Z"
   },
   {
    "duration": 7,
    "start_time": "2021-08-30T15:29:56.490Z"
   },
   {
    "duration": 12,
    "start_time": "2021-08-30T15:30:10.679Z"
   },
   {
    "duration": 309,
    "start_time": "2021-08-30T15:30:26.373Z"
   },
   {
    "duration": 12,
    "start_time": "2021-08-30T15:31:12.073Z"
   },
   {
    "duration": 291,
    "start_time": "2021-08-30T15:31:21.864Z"
   },
   {
    "duration": 11,
    "start_time": "2021-08-30T15:32:08.650Z"
   },
   {
    "duration": 369,
    "start_time": "2021-08-30T15:32:33.559Z"
   },
   {
    "duration": 9,
    "start_time": "2021-08-30T15:33:25.266Z"
   },
   {
    "duration": 281,
    "start_time": "2021-08-30T15:33:40.449Z"
   },
   {
    "duration": 10,
    "start_time": "2021-08-30T15:34:42.219Z"
   },
   {
    "duration": 283,
    "start_time": "2021-08-30T15:35:02.863Z"
   },
   {
    "duration": 12,
    "start_time": "2021-08-30T15:35:18.070Z"
   },
   {
    "duration": 258,
    "start_time": "2021-08-30T15:35:30.206Z"
   },
   {
    "duration": 12,
    "start_time": "2021-08-30T15:36:23.811Z"
   },
   {
    "duration": 303,
    "start_time": "2021-08-30T15:36:36.870Z"
   },
   {
    "duration": 294,
    "start_time": "2021-08-30T15:36:52.333Z"
   },
   {
    "duration": 296,
    "start_time": "2021-08-30T15:37:13.965Z"
   },
   {
    "duration": 11,
    "start_time": "2021-08-30T15:37:43.668Z"
   },
   {
    "duration": 293,
    "start_time": "2021-08-30T15:38:00.950Z"
   },
   {
    "duration": 1515,
    "start_time": "2021-08-30T15:38:13.180Z"
   },
   {
    "duration": 50,
    "start_time": "2021-08-30T15:38:14.698Z"
   },
   {
    "duration": 36,
    "start_time": "2021-08-30T15:38:14.751Z"
   },
   {
    "duration": 18,
    "start_time": "2021-08-30T15:38:14.791Z"
   },
   {
    "duration": 5,
    "start_time": "2021-08-30T15:38:14.812Z"
   },
   {
    "duration": 20,
    "start_time": "2021-08-30T15:38:14.821Z"
   },
   {
    "duration": 58,
    "start_time": "2021-08-30T15:38:14.844Z"
   },
   {
    "duration": 21,
    "start_time": "2021-08-30T15:38:14.904Z"
   },
   {
    "duration": 12,
    "start_time": "2021-08-30T15:38:14.929Z"
   },
   {
    "duration": 58,
    "start_time": "2021-08-30T15:38:14.947Z"
   },
   {
    "duration": 21,
    "start_time": "2021-08-30T15:38:15.008Z"
   },
   {
    "duration": 12,
    "start_time": "2021-08-30T15:38:15.032Z"
   },
   {
    "duration": 61,
    "start_time": "2021-08-30T15:38:15.047Z"
   },
   {
    "duration": 13,
    "start_time": "2021-08-30T15:38:15.110Z"
   },
   {
    "duration": 24,
    "start_time": "2021-08-30T15:38:15.125Z"
   },
   {
    "duration": 34,
    "start_time": "2021-08-30T15:38:15.183Z"
   },
   {
    "duration": 413,
    "start_time": "2021-08-30T15:38:15.219Z"
   },
   {
    "duration": 8,
    "start_time": "2021-08-30T15:38:15.634Z"
   },
   {
    "duration": 8,
    "start_time": "2021-08-30T15:38:15.645Z"
   },
   {
    "duration": 28,
    "start_time": "2021-08-30T15:38:15.655Z"
   },
   {
    "duration": 12,
    "start_time": "2021-08-30T15:38:15.686Z"
   },
   {
    "duration": 10,
    "start_time": "2021-08-30T15:38:15.701Z"
   },
   {
    "duration": 370,
    "start_time": "2021-08-30T15:38:15.714Z"
   },
   {
    "duration": 15,
    "start_time": "2021-08-30T15:38:16.088Z"
   },
   {
    "duration": 349,
    "start_time": "2021-08-30T15:38:16.105Z"
   },
   {
    "duration": 10,
    "start_time": "2021-08-30T15:38:16.457Z"
   },
   {
    "duration": 370,
    "start_time": "2021-08-30T15:38:16.487Z"
   },
   {
    "duration": 11,
    "start_time": "2021-08-30T15:38:16.860Z"
   },
   {
    "duration": 492,
    "start_time": "2021-08-30T15:38:16.874Z"
   },
   {
    "duration": 29,
    "start_time": "2021-08-30T15:38:17.369Z"
   },
   {
    "duration": 461,
    "start_time": "2021-08-30T15:38:17.401Z"
   },
   {
    "duration": 25,
    "start_time": "2021-08-30T15:38:17.865Z"
   },
   {
    "duration": 355,
    "start_time": "2021-08-30T15:38:17.893Z"
   },
   {
    "duration": 10,
    "start_time": "2021-08-30T15:38:18.250Z"
   },
   {
    "duration": 438,
    "start_time": "2021-08-30T15:38:18.262Z"
   },
   {
    "duration": 17,
    "start_time": "2021-08-30T15:38:18.703Z"
   },
   {
    "duration": 344,
    "start_time": "2021-08-30T15:38:18.722Z"
   },
   {
    "duration": 23,
    "start_time": "2021-08-30T15:38:19.068Z"
   },
   {
    "duration": 315,
    "start_time": "2021-08-30T15:38:19.094Z"
   },
   {
    "duration": 1484,
    "start_time": "2021-08-31T12:22:24.964Z"
   },
   {
    "duration": 47,
    "start_time": "2021-08-31T12:22:26.451Z"
   },
   {
    "duration": 23,
    "start_time": "2021-08-31T12:22:26.501Z"
   },
   {
    "duration": 16,
    "start_time": "2021-08-31T12:22:26.528Z"
   },
   {
    "duration": 4,
    "start_time": "2021-08-31T12:22:26.547Z"
   },
   {
    "duration": 46,
    "start_time": "2021-08-31T12:22:26.553Z"
   },
   {
    "duration": 13,
    "start_time": "2021-08-31T12:22:26.602Z"
   },
   {
    "duration": 16,
    "start_time": "2021-08-31T12:22:26.618Z"
   },
   {
    "duration": 50,
    "start_time": "2021-08-31T12:22:26.638Z"
   },
   {
    "duration": 24,
    "start_time": "2021-08-31T12:22:26.692Z"
   },
   {
    "duration": 15,
    "start_time": "2021-08-31T12:22:26.718Z"
   },
   {
    "duration": 51,
    "start_time": "2021-08-31T12:22:26.736Z"
   },
   {
    "duration": 23,
    "start_time": "2021-08-31T12:22:26.790Z"
   },
   {
    "duration": 24,
    "start_time": "2021-08-31T12:22:26.816Z"
   },
   {
    "duration": 21,
    "start_time": "2021-08-31T12:22:26.843Z"
   },
   {
    "duration": 41,
    "start_time": "2021-08-31T12:22:26.883Z"
   },
   {
    "duration": 402,
    "start_time": "2021-08-31T12:22:26.926Z"
   },
   {
    "duration": 9,
    "start_time": "2021-08-31T12:22:27.330Z"
   },
   {
    "duration": 6,
    "start_time": "2021-08-31T12:22:27.342Z"
   },
   {
    "duration": 37,
    "start_time": "2021-08-31T12:22:27.351Z"
   },
   {
    "duration": 5,
    "start_time": "2021-08-31T12:22:27.391Z"
   },
   {
    "duration": 12,
    "start_time": "2021-08-31T12:22:27.399Z"
   },
   {
    "duration": 459,
    "start_time": "2021-08-31T12:22:27.414Z"
   },
   {
    "duration": 15,
    "start_time": "2021-08-31T12:22:27.883Z"
   },
   {
    "duration": 319,
    "start_time": "2021-08-31T12:22:27.902Z"
   },
   {
    "duration": 11,
    "start_time": "2021-08-31T12:22:28.224Z"
   },
   {
    "duration": 304,
    "start_time": "2021-08-31T12:22:28.242Z"
   },
   {
    "duration": 12,
    "start_time": "2021-08-31T12:22:28.550Z"
   },
   {
    "duration": 291,
    "start_time": "2021-08-31T12:22:28.584Z"
   },
   {
    "duration": 11,
    "start_time": "2021-08-31T12:22:28.878Z"
   },
   {
    "duration": 302,
    "start_time": "2021-08-31T12:22:28.892Z"
   },
   {
    "duration": 13,
    "start_time": "2021-08-31T12:22:29.197Z"
   },
   {
    "duration": 309,
    "start_time": "2021-08-31T12:22:29.212Z"
   },
   {
    "duration": 9,
    "start_time": "2021-08-31T12:22:29.523Z"
   },
   {
    "duration": 333,
    "start_time": "2021-08-31T12:22:29.534Z"
   },
   {
    "duration": 18,
    "start_time": "2021-08-31T12:22:29.869Z"
   },
   {
    "duration": 300,
    "start_time": "2021-08-31T12:22:29.889Z"
   },
   {
    "duration": 12,
    "start_time": "2021-08-31T12:22:30.192Z"
   },
   {
    "duration": 294,
    "start_time": "2021-08-31T12:22:30.207Z"
   },
   {
    "duration": 35,
    "start_time": "2021-08-31T12:23:00.050Z"
   },
   {
    "duration": 10,
    "start_time": "2021-08-31T12:23:23.753Z"
   },
   {
    "duration": 11,
    "start_time": "2021-08-31T12:23:38.038Z"
   },
   {
    "duration": 33,
    "start_time": "2021-08-31T12:23:45.453Z"
   },
   {
    "duration": 33,
    "start_time": "2021-08-31T12:25:00.876Z"
   },
   {
    "duration": 32,
    "start_time": "2021-08-31T12:27:43.791Z"
   },
   {
    "duration": 35,
    "start_time": "2021-08-31T12:31:23.704Z"
   },
   {
    "duration": 6,
    "start_time": "2021-08-31T12:32:02.755Z"
   },
   {
    "duration": 11,
    "start_time": "2021-08-31T12:32:07.893Z"
   },
   {
    "duration": 20,
    "start_time": "2021-08-31T12:32:31.180Z"
   },
   {
    "duration": 34,
    "start_time": "2021-08-31T12:33:34.173Z"
   },
   {
    "duration": 32,
    "start_time": "2021-08-31T12:33:41.474Z"
   },
   {
    "duration": 1429,
    "start_time": "2021-08-31T12:34:00.603Z"
   },
   {
    "duration": 46,
    "start_time": "2021-08-31T12:34:02.034Z"
   },
   {
    "duration": 21,
    "start_time": "2021-08-31T12:34:02.083Z"
   },
   {
    "duration": 22,
    "start_time": "2021-08-31T12:34:02.107Z"
   },
   {
    "duration": 6,
    "start_time": "2021-08-31T12:34:02.131Z"
   },
   {
    "duration": 33,
    "start_time": "2021-08-31T12:34:02.139Z"
   },
   {
    "duration": 18,
    "start_time": "2021-08-31T12:34:02.174Z"
   },
   {
    "duration": 19,
    "start_time": "2021-08-31T12:34:02.194Z"
   },
   {
    "duration": 15,
    "start_time": "2021-08-31T12:34:02.217Z"
   },
   {
    "duration": 27,
    "start_time": "2021-08-31T12:34:02.236Z"
   },
   {
    "duration": 12,
    "start_time": "2021-08-31T12:34:02.283Z"
   },
   {
    "duration": 15,
    "start_time": "2021-08-31T12:34:02.297Z"
   },
   {
    "duration": 24,
    "start_time": "2021-08-31T12:34:02.315Z"
   },
   {
    "duration": 6,
    "start_time": "2021-08-31T12:34:02.342Z"
   },
   {
    "duration": 49,
    "start_time": "2021-08-31T12:34:02.350Z"
   },
   {
    "duration": 43,
    "start_time": "2021-08-31T12:34:02.402Z"
   },
   {
    "duration": 365,
    "start_time": "2021-08-31T12:34:02.448Z"
   },
   {
    "duration": 8,
    "start_time": "2021-08-31T12:34:02.815Z"
   },
   {
    "duration": 26,
    "start_time": "2021-08-31T12:34:02.825Z"
   },
   {
    "duration": 17,
    "start_time": "2021-08-31T12:34:02.853Z"
   },
   {
    "duration": 17,
    "start_time": "2021-08-31T12:34:02.872Z"
   },
   {
    "duration": 20,
    "start_time": "2021-08-31T12:34:02.891Z"
   },
   {
    "duration": 293,
    "start_time": "2021-08-31T12:34:02.913Z"
   },
   {
    "duration": 10,
    "start_time": "2021-08-31T12:34:03.208Z"
   },
   {
    "duration": 309,
    "start_time": "2021-08-31T12:34:03.221Z"
   },
   {
    "duration": 10,
    "start_time": "2021-08-31T12:34:03.533Z"
   },
   {
    "duration": 304,
    "start_time": "2021-08-31T12:34:03.548Z"
   },
   {
    "duration": 11,
    "start_time": "2021-08-31T12:34:03.855Z"
   },
   {
    "duration": 302,
    "start_time": "2021-08-31T12:34:03.883Z"
   },
   {
    "duration": 11,
    "start_time": "2021-08-31T12:34:04.187Z"
   },
   {
    "duration": 290,
    "start_time": "2021-08-31T12:34:04.200Z"
   },
   {
    "duration": 11,
    "start_time": "2021-08-31T12:34:04.492Z"
   },
   {
    "duration": 305,
    "start_time": "2021-08-31T12:34:04.505Z"
   },
   {
    "duration": 10,
    "start_time": "2021-08-31T12:34:04.812Z"
   },
   {
    "duration": 345,
    "start_time": "2021-08-31T12:34:04.824Z"
   },
   {
    "duration": 17,
    "start_time": "2021-08-31T12:34:05.171Z"
   },
   {
    "duration": 285,
    "start_time": "2021-08-31T12:34:05.190Z"
   },
   {
    "duration": 11,
    "start_time": "2021-08-31T12:34:05.481Z"
   },
   {
    "duration": 272,
    "start_time": "2021-08-31T12:34:05.495Z"
   },
   {
    "duration": 15,
    "start_time": "2021-08-31T12:34:05.770Z"
   },
   {
    "duration": 11,
    "start_time": "2021-08-31T12:34:05.787Z"
   },
   {
    "duration": 21,
    "start_time": "2021-08-31T12:34:05.801Z"
   },
   {
    "duration": 32,
    "start_time": "2021-08-31T12:34:44.711Z"
   },
   {
    "duration": 31,
    "start_time": "2021-08-31T12:35:32.201Z"
   },
   {
    "duration": 33,
    "start_time": "2021-08-31T12:36:39.591Z"
   },
   {
    "duration": 33,
    "start_time": "2021-08-31T12:36:59.833Z"
   },
   {
    "duration": 1518,
    "start_time": "2021-08-31T12:37:48.643Z"
   },
   {
    "duration": 48,
    "start_time": "2021-08-31T12:37:50.163Z"
   },
   {
    "duration": 25,
    "start_time": "2021-08-31T12:37:50.215Z"
   },
   {
    "duration": 39,
    "start_time": "2021-08-31T12:37:50.243Z"
   },
   {
    "duration": 4,
    "start_time": "2021-08-31T12:37:50.284Z"
   },
   {
    "duration": 24,
    "start_time": "2021-08-31T12:37:50.291Z"
   },
   {
    "duration": 12,
    "start_time": "2021-08-31T12:37:50.317Z"
   },
   {
    "duration": 15,
    "start_time": "2021-08-31T12:37:50.334Z"
   },
   {
    "duration": 42,
    "start_time": "2021-08-31T12:37:50.352Z"
   },
   {
    "duration": 19,
    "start_time": "2021-08-31T12:37:50.397Z"
   },
   {
    "duration": 17,
    "start_time": "2021-08-31T12:37:50.419Z"
   },
   {
    "duration": 50,
    "start_time": "2021-08-31T12:37:50.439Z"
   },
   {
    "duration": 26,
    "start_time": "2021-08-31T12:37:50.492Z"
   },
   {
    "duration": 8,
    "start_time": "2021-08-31T12:37:50.521Z"
   },
   {
    "duration": 62,
    "start_time": "2021-08-31T12:37:50.532Z"
   },
   {
    "duration": 30,
    "start_time": "2021-08-31T12:37:50.598Z"
   },
   {
    "duration": 404,
    "start_time": "2021-08-31T12:37:50.630Z"
   },
   {
    "duration": 9,
    "start_time": "2021-08-31T12:37:51.038Z"
   },
   {
    "duration": 8,
    "start_time": "2021-08-31T12:37:51.050Z"
   },
   {
    "duration": 11,
    "start_time": "2021-08-31T12:37:51.083Z"
   },
   {
    "duration": 9,
    "start_time": "2021-08-31T12:37:51.097Z"
   },
   {
    "duration": 15,
    "start_time": "2021-08-31T12:37:51.109Z"
   },
   {
    "duration": 332,
    "start_time": "2021-08-31T12:37:51.131Z"
   },
   {
    "duration": 20,
    "start_time": "2021-08-31T12:37:51.467Z"
   },
   {
    "duration": 296,
    "start_time": "2021-08-31T12:37:51.489Z"
   },
   {
    "duration": 10,
    "start_time": "2021-08-31T12:37:51.787Z"
   },
   {
    "duration": 300,
    "start_time": "2021-08-31T12:37:51.800Z"
   },
   {
    "duration": 9,
    "start_time": "2021-08-31T12:37:52.103Z"
   },
   {
    "duration": 313,
    "start_time": "2021-08-31T12:37:52.114Z"
   },
   {
    "duration": 11,
    "start_time": "2021-08-31T12:37:52.430Z"
   },
   {
    "duration": 304,
    "start_time": "2021-08-31T12:37:52.443Z"
   },
   {
    "duration": 11,
    "start_time": "2021-08-31T12:37:52.750Z"
   },
   {
    "duration": 318,
    "start_time": "2021-08-31T12:37:52.764Z"
   },
   {
    "duration": 9,
    "start_time": "2021-08-31T12:37:53.084Z"
   },
   {
    "duration": 327,
    "start_time": "2021-08-31T12:37:53.095Z"
   },
   {
    "duration": 12,
    "start_time": "2021-08-31T12:37:53.425Z"
   },
   {
    "duration": 308,
    "start_time": "2021-08-31T12:37:53.440Z"
   },
   {
    "duration": 10,
    "start_time": "2021-08-31T12:37:53.750Z"
   },
   {
    "duration": 285,
    "start_time": "2021-08-31T12:37:53.763Z"
   },
   {
    "duration": 9,
    "start_time": "2021-08-31T12:37:54.050Z"
   },
   {
    "duration": 25,
    "start_time": "2021-08-31T12:37:54.062Z"
   },
   {
    "duration": 30,
    "start_time": "2021-08-31T12:37:54.090Z"
   },
   {
    "duration": 5,
    "start_time": "2021-08-31T12:38:56.306Z"
   },
   {
    "duration": 19,
    "start_time": "2021-08-31T12:39:02.661Z"
   },
   {
    "duration": 10,
    "start_time": "2021-08-31T12:42:37.199Z"
   },
   {
    "duration": 11,
    "start_time": "2021-08-31T12:42:45.155Z"
   },
   {
    "duration": 11,
    "start_time": "2021-08-31T12:42:57.373Z"
   },
   {
    "duration": 14,
    "start_time": "2021-08-31T12:43:02.319Z"
   },
   {
    "duration": 502,
    "start_time": "2021-08-31T12:55:14.878Z"
   },
   {
    "duration": 207,
    "start_time": "2021-08-31T12:56:02.938Z"
   },
   {
    "duration": 204,
    "start_time": "2021-08-31T12:56:58.912Z"
   },
   {
    "duration": 9,
    "start_time": "2021-08-31T12:57:14.646Z"
   },
   {
    "duration": 8,
    "start_time": "2021-08-31T12:57:19.527Z"
   },
   {
    "duration": 8,
    "start_time": "2021-08-31T12:57:24.939Z"
   },
   {
    "duration": 13,
    "start_time": "2021-08-31T12:59:48.690Z"
   },
   {
    "duration": 12,
    "start_time": "2021-08-31T13:00:42.490Z"
   },
   {
    "duration": 20,
    "start_time": "2021-08-31T13:03:29.336Z"
   },
   {
    "duration": 15,
    "start_time": "2021-08-31T13:04:34.433Z"
   },
   {
    "duration": 483,
    "start_time": "2021-08-31T13:06:55.024Z"
   },
   {
    "duration": 433,
    "start_time": "2021-08-31T13:08:20.574Z"
   },
   {
    "duration": 381,
    "start_time": "2021-08-31T13:08:47.326Z"
   },
   {
    "duration": 415,
    "start_time": "2021-08-31T13:08:57.681Z"
   },
   {
    "duration": 428,
    "start_time": "2021-08-31T13:09:11.559Z"
   },
   {
    "duration": 401,
    "start_time": "2021-08-31T13:09:50.329Z"
   },
   {
    "duration": 540,
    "start_time": "2021-08-31T13:10:01.463Z"
   },
   {
    "duration": 14,
    "start_time": "2021-08-31T13:10:33.476Z"
   },
   {
    "duration": 396,
    "start_time": "2021-08-31T13:11:15.902Z"
   },
   {
    "duration": 559,
    "start_time": "2021-08-31T13:11:51.978Z"
   },
   {
    "duration": 419,
    "start_time": "2021-08-31T13:12:09.174Z"
   },
   {
    "duration": 640,
    "start_time": "2021-08-31T13:15:58.448Z"
   },
   {
    "duration": 10,
    "start_time": "2021-08-31T13:17:43.575Z"
   },
   {
    "duration": 361,
    "start_time": "2021-08-31T13:29:53.899Z"
   },
   {
    "duration": 32,
    "start_time": "2021-08-31T13:30:00.791Z"
   },
   {
    "duration": 401,
    "start_time": "2021-08-31T13:30:17.970Z"
   },
   {
    "duration": 438,
    "start_time": "2021-08-31T13:30:24.270Z"
   },
   {
    "duration": 460,
    "start_time": "2021-08-31T13:30:35.511Z"
   },
   {
    "duration": 835,
    "start_time": "2021-08-31T13:30:52.399Z"
   },
   {
    "duration": 29,
    "start_time": "2021-08-31T13:30:58.413Z"
   },
   {
    "duration": 29,
    "start_time": "2021-08-31T13:31:08.226Z"
   },
   {
    "duration": 31,
    "start_time": "2021-08-31T13:31:15.689Z"
   },
   {
    "duration": 511,
    "start_time": "2021-08-31T13:36:07.570Z"
   },
   {
    "duration": 349,
    "start_time": "2021-08-31T13:36:14.370Z"
   },
   {
    "duration": 31,
    "start_time": "2021-08-31T13:36:24.870Z"
   },
   {
    "duration": 17,
    "start_time": "2021-08-31T13:36:57.274Z"
   },
   {
    "duration": 391,
    "start_time": "2021-08-31T13:37:03.159Z"
   },
   {
    "duration": 19,
    "start_time": "2021-08-31T13:37:13.922Z"
   },
   {
    "duration": 20,
    "start_time": "2021-08-31T13:37:32.699Z"
   },
   {
    "duration": 20,
    "start_time": "2021-08-31T13:37:46.185Z"
   },
   {
    "duration": 23,
    "start_time": "2021-08-31T13:38:39.580Z"
   },
   {
    "duration": 23,
    "start_time": "2021-08-31T13:39:06.790Z"
   },
   {
    "duration": 22,
    "start_time": "2021-08-31T13:40:40.849Z"
   },
   {
    "duration": 6,
    "start_time": "2021-08-31T13:42:49.909Z"
   },
   {
    "duration": 11,
    "start_time": "2021-08-31T13:42:56.530Z"
   },
   {
    "duration": 12,
    "start_time": "2021-08-31T13:43:21.184Z"
   },
   {
    "duration": 9,
    "start_time": "2021-08-31T13:43:32.929Z"
   },
   {
    "duration": 13,
    "start_time": "2021-08-31T13:43:46.032Z"
   },
   {
    "duration": 11,
    "start_time": "2021-08-31T13:44:16.397Z"
   },
   {
    "duration": 16,
    "start_time": "2021-08-31T13:44:34.987Z"
   },
   {
    "duration": 26,
    "start_time": "2021-08-31T13:47:50.667Z"
   },
   {
    "duration": 10,
    "start_time": "2021-08-31T13:48:45.306Z"
   },
   {
    "duration": 13,
    "start_time": "2021-08-31T13:48:52.894Z"
   },
   {
    "duration": 14,
    "start_time": "2021-08-31T13:49:26.689Z"
   },
   {
    "duration": 14,
    "start_time": "2021-08-31T13:49:36.179Z"
   },
   {
    "duration": 12,
    "start_time": "2021-08-31T13:50:23.896Z"
   },
   {
    "duration": 10,
    "start_time": "2021-08-31T13:51:23.140Z"
   },
   {
    "duration": 12,
    "start_time": "2021-08-31T13:51:46.763Z"
   },
   {
    "duration": 10,
    "start_time": "2021-08-31T13:51:58.445Z"
   },
   {
    "duration": 11,
    "start_time": "2021-08-31T13:57:51.180Z"
   },
   {
    "duration": 10,
    "start_time": "2021-08-31T13:59:14.493Z"
   },
   {
    "duration": 11,
    "start_time": "2021-08-31T13:59:23.195Z"
   },
   {
    "duration": 13,
    "start_time": "2021-08-31T13:59:40.731Z"
   },
   {
    "duration": 13,
    "start_time": "2021-08-31T13:59:51.378Z"
   },
   {
    "duration": 11,
    "start_time": "2021-08-31T14:00:12.884Z"
   },
   {
    "duration": 11,
    "start_time": "2021-08-31T14:00:22.204Z"
   },
   {
    "duration": 16,
    "start_time": "2021-08-31T14:01:44.130Z"
   },
   {
    "duration": 8,
    "start_time": "2021-08-31T14:02:04.174Z"
   },
   {
    "duration": 8,
    "start_time": "2021-08-31T14:02:10.785Z"
   },
   {
    "duration": 1894,
    "start_time": "2021-08-31T14:03:50.915Z"
   },
   {
    "duration": 60,
    "start_time": "2021-08-31T14:03:52.812Z"
   },
   {
    "duration": 30,
    "start_time": "2021-08-31T14:03:52.875Z"
   },
   {
    "duration": 22,
    "start_time": "2021-08-31T14:03:52.908Z"
   },
   {
    "duration": 5,
    "start_time": "2021-08-31T14:03:52.932Z"
   },
   {
    "duration": 64,
    "start_time": "2021-08-31T14:03:52.940Z"
   },
   {
    "duration": 19,
    "start_time": "2021-08-31T14:03:53.007Z"
   },
   {
    "duration": 16,
    "start_time": "2021-08-31T14:03:53.032Z"
   },
   {
    "duration": 35,
    "start_time": "2021-08-31T14:03:53.051Z"
   },
   {
    "duration": 20,
    "start_time": "2021-08-31T14:03:53.089Z"
   },
   {
    "duration": 13,
    "start_time": "2021-08-31T14:03:53.112Z"
   },
   {
    "duration": 57,
    "start_time": "2021-08-31T14:03:53.128Z"
   },
   {
    "duration": 32,
    "start_time": "2021-08-31T14:03:53.188Z"
   },
   {
    "duration": 14,
    "start_time": "2021-08-31T14:03:53.223Z"
   },
   {
    "duration": 43,
    "start_time": "2021-08-31T14:03:53.239Z"
   },
   {
    "duration": 26,
    "start_time": "2021-08-31T14:03:53.285Z"
   },
   {
    "duration": 413,
    "start_time": "2021-08-31T14:03:53.314Z"
   },
   {
    "duration": 9,
    "start_time": "2021-08-31T14:03:53.730Z"
   },
   {
    "duration": 9,
    "start_time": "2021-08-31T14:03:53.742Z"
   },
   {
    "duration": 32,
    "start_time": "2021-08-31T14:03:53.753Z"
   },
   {
    "duration": 11,
    "start_time": "2021-08-31T14:03:53.788Z"
   },
   {
    "duration": 15,
    "start_time": "2021-08-31T14:03:53.802Z"
   },
   {
    "duration": 325,
    "start_time": "2021-08-31T14:03:53.823Z"
   },
   {
    "duration": 10,
    "start_time": "2021-08-31T14:03:54.152Z"
   },
   {
    "duration": 320,
    "start_time": "2021-08-31T14:03:54.166Z"
   },
   {
    "duration": 10,
    "start_time": "2021-08-31T14:03:54.489Z"
   },
   {
    "duration": 311,
    "start_time": "2021-08-31T14:03:54.501Z"
   },
   {
    "duration": 10,
    "start_time": "2021-08-31T14:03:54.815Z"
   },
   {
    "duration": 332,
    "start_time": "2021-08-31T14:03:54.828Z"
   },
   {
    "duration": 20,
    "start_time": "2021-08-31T14:03:55.162Z"
   },
   {
    "duration": 437,
    "start_time": "2021-08-31T14:03:55.186Z"
   },
   {
    "duration": 14,
    "start_time": "2021-08-31T14:03:55.626Z"
   },
   {
    "duration": 463,
    "start_time": "2021-08-31T14:03:55.643Z"
   },
   {
    "duration": 10,
    "start_time": "2021-08-31T14:03:56.108Z"
   },
   {
    "duration": 340,
    "start_time": "2021-08-31T14:03:56.120Z"
   },
   {
    "duration": 22,
    "start_time": "2021-08-31T14:03:56.463Z"
   },
   {
    "duration": 294,
    "start_time": "2021-08-31T14:03:56.488Z"
   },
   {
    "duration": 10,
    "start_time": "2021-08-31T14:03:56.785Z"
   },
   {
    "duration": 391,
    "start_time": "2021-08-31T14:03:56.798Z"
   },
   {
    "duration": 12,
    "start_time": "2021-08-31T14:03:57.192Z"
   },
   {
    "duration": 9,
    "start_time": "2021-08-31T14:03:57.207Z"
   },
   {
    "duration": 7,
    "start_time": "2021-08-31T14:03:57.218Z"
   },
   {
    "duration": 62,
    "start_time": "2021-08-31T14:03:57.228Z"
   },
   {
    "duration": 12,
    "start_time": "2021-08-31T14:03:57.293Z"
   },
   {
    "duration": 14,
    "start_time": "2021-08-31T14:03:57.308Z"
   },
   {
    "duration": 18,
    "start_time": "2021-08-31T14:03:57.324Z"
   },
   {
    "duration": 535,
    "start_time": "2021-08-31T14:03:57.384Z"
   },
   {
    "duration": 576,
    "start_time": "2021-08-31T14:03:57.922Z"
   },
   {
    "duration": 19,
    "start_time": "2021-08-31T14:03:58.501Z"
   },
   {
    "duration": 595,
    "start_time": "2021-08-31T14:03:58.523Z"
   },
   {
    "duration": 552,
    "start_time": "2021-08-31T14:03:59.121Z"
   },
   {
    "duration": 19,
    "start_time": "2021-08-31T14:03:59.682Z"
   },
   {
    "duration": 30,
    "start_time": "2021-08-31T14:03:59.704Z"
   },
   {
    "duration": 12,
    "start_time": "2021-08-31T14:03:59.737Z"
   },
   {
    "duration": 43,
    "start_time": "2021-08-31T14:03:59.752Z"
   },
   {
    "duration": 11,
    "start_time": "2021-08-31T14:03:59.798Z"
   },
   {
    "duration": 15,
    "start_time": "2021-08-31T14:03:59.812Z"
   },
   {
    "duration": 28,
    "start_time": "2021-08-31T14:03:59.830Z"
   },
   {
    "duration": 13,
    "start_time": "2021-08-31T14:03:59.883Z"
   },
   {
    "duration": 23,
    "start_time": "2021-08-31T14:03:59.898Z"
   },
   {
    "duration": 12,
    "start_time": "2021-08-31T14:03:59.924Z"
   },
   {
    "duration": 10,
    "start_time": "2021-08-31T14:03:59.939Z"
   },
   {
    "duration": 19,
    "start_time": "2021-08-31T14:03:59.983Z"
   },
   {
    "duration": 22,
    "start_time": "2021-08-31T14:04:00.004Z"
   },
   {
    "duration": 17,
    "start_time": "2021-08-31T14:04:00.028Z"
   },
   {
    "duration": 40,
    "start_time": "2021-08-31T14:04:00.048Z"
   },
   {
    "duration": 14,
    "start_time": "2021-08-31T14:04:00.091Z"
   },
   {
    "duration": 12,
    "start_time": "2021-08-31T14:04:00.114Z"
   },
   {
    "duration": 1508,
    "start_time": "2021-09-01T13:31:49.838Z"
   },
   {
    "duration": 47,
    "start_time": "2021-09-01T13:31:51.968Z"
   },
   {
    "duration": 24,
    "start_time": "2021-09-01T13:31:52.651Z"
   },
   {
    "duration": 15,
    "start_time": "2021-09-01T13:31:53.703Z"
   },
   {
    "duration": 4,
    "start_time": "2021-09-01T13:31:56.701Z"
   },
   {
    "duration": 20,
    "start_time": "2021-09-01T13:31:57.655Z"
   },
   {
    "duration": 15,
    "start_time": "2021-09-01T13:32:01.079Z"
   },
   {
    "duration": 12,
    "start_time": "2021-09-01T13:32:04.762Z"
   },
   {
    "duration": 13,
    "start_time": "2021-09-01T13:32:07.096Z"
   },
   {
    "duration": 14,
    "start_time": "2021-09-01T13:33:59.365Z"
   },
   {
    "duration": 18,
    "start_time": "2021-09-01T13:34:05.098Z"
   },
   {
    "duration": 13,
    "start_time": "2021-09-01T13:34:06.396Z"
   },
   {
    "duration": 11,
    "start_time": "2021-09-01T13:34:08.787Z"
   },
   {
    "duration": 22,
    "start_time": "2021-09-01T13:34:11.587Z"
   },
   {
    "duration": 12,
    "start_time": "2021-09-01T13:34:17.965Z"
   },
   {
    "duration": 21,
    "start_time": "2021-09-01T13:34:18.583Z"
   },
   {
    "duration": 35,
    "start_time": "2021-09-01T13:35:37.001Z"
   },
   {
    "duration": 382,
    "start_time": "2021-09-01T13:35:38.213Z"
   },
   {
    "duration": 7,
    "start_time": "2021-09-01T13:37:52.282Z"
   },
   {
    "duration": 9,
    "start_time": "2021-09-01T13:40:44.675Z"
   },
   {
    "duration": 5,
    "start_time": "2021-09-01T13:40:45.125Z"
   },
   {
    "duration": 11,
    "start_time": "2021-09-01T13:41:54.450Z"
   },
   {
    "duration": 316,
    "start_time": "2021-09-01T13:41:56.132Z"
   },
   {
    "duration": 14,
    "start_time": "2021-09-01T13:58:29.876Z"
   },
   {
    "duration": 328,
    "start_time": "2021-09-01T13:58:31.527Z"
   },
   {
    "duration": 11,
    "start_time": "2021-09-01T13:58:34.883Z"
   },
   {
    "duration": 316,
    "start_time": "2021-09-01T13:58:35.202Z"
   },
   {
    "duration": 11,
    "start_time": "2021-09-01T13:58:36.627Z"
   },
   {
    "duration": 464,
    "start_time": "2021-09-01T13:58:37.080Z"
   },
   {
    "duration": 11,
    "start_time": "2021-09-01T13:58:40.722Z"
   },
   {
    "duration": 312,
    "start_time": "2021-09-01T13:58:41.532Z"
   },
   {
    "duration": 15,
    "start_time": "2021-09-01T14:01:31.627Z"
   },
   {
    "duration": 297,
    "start_time": "2021-09-01T14:01:32.451Z"
   },
   {
    "duration": 11,
    "start_time": "2021-09-01T14:13:31.228Z"
   },
   {
    "duration": 401,
    "start_time": "2021-09-01T14:13:31.486Z"
   },
   {
    "duration": 10,
    "start_time": "2021-09-01T14:30:23.776Z"
   },
   {
    "duration": 10,
    "start_time": "2021-09-01T14:30:25.452Z"
   },
   {
    "duration": 5,
    "start_time": "2021-09-01T14:30:31.427Z"
   },
   {
    "duration": 19,
    "start_time": "2021-09-01T14:30:32.243Z"
   },
   {
    "duration": 5,
    "start_time": "2021-09-01T14:31:19.751Z"
   },
   {
    "duration": 20,
    "start_time": "2021-09-01T14:31:20.042Z"
   },
   {
    "duration": 11,
    "start_time": "2021-09-01T14:31:22.392Z"
   },
   {
    "duration": 1612,
    "start_time": "2021-09-02T12:52:21.664Z"
   },
   {
    "duration": 47,
    "start_time": "2021-09-02T12:52:23.280Z"
   },
   {
    "duration": 24,
    "start_time": "2021-09-02T12:52:27.219Z"
   },
   {
    "duration": 15,
    "start_time": "2021-09-02T12:52:28.012Z"
   },
   {
    "duration": 5,
    "start_time": "2021-09-02T12:52:32.739Z"
   },
   {
    "duration": 25,
    "start_time": "2021-09-02T12:52:33.158Z"
   },
   {
    "duration": 16,
    "start_time": "2021-09-02T12:52:41.258Z"
   },
   {
    "duration": 8,
    "start_time": "2021-09-02T12:54:06.812Z"
   },
   {
    "duration": 34,
    "start_time": "2021-09-02T12:56:21.770Z"
   },
   {
    "duration": 18,
    "start_time": "2021-09-02T12:58:39.457Z"
   },
   {
    "duration": 7,
    "start_time": "2021-09-02T12:58:41.444Z"
   },
   {
    "duration": 14,
    "start_time": "2021-09-02T12:58:43.874Z"
   },
   {
    "duration": 32,
    "start_time": "2021-09-02T12:58:50.062Z"
   },
   {
    "duration": 22,
    "start_time": "2021-09-02T12:58:53.060Z"
   },
   {
    "duration": 11,
    "start_time": "2021-09-02T12:58:53.909Z"
   },
   {
    "duration": 27,
    "start_time": "2021-09-02T12:58:55.640Z"
   },
   {
    "duration": 12,
    "start_time": "2021-09-02T12:59:02.872Z"
   },
   {
    "duration": 28,
    "start_time": "2021-09-02T12:59:03.266Z"
   },
   {
    "duration": 30,
    "start_time": "2021-09-02T12:59:08.387Z"
   },
   {
    "duration": 396,
    "start_time": "2021-09-02T12:59:08.828Z"
   },
   {
    "duration": 10,
    "start_time": "2021-09-02T12:59:16.692Z"
   },
   {
    "duration": 6,
    "start_time": "2021-09-02T12:59:18.285Z"
   },
   {
    "duration": 12,
    "start_time": "2021-09-02T12:59:21.089Z"
   },
   {
    "duration": 5,
    "start_time": "2021-09-02T12:59:21.750Z"
   },
   {
    "duration": 12,
    "start_time": "2021-09-02T12:59:30.510Z"
   },
   {
    "duration": 302,
    "start_time": "2021-09-02T12:59:30.987Z"
   },
   {
    "duration": 10,
    "start_time": "2021-09-02T12:59:41.947Z"
   },
   {
    "duration": 367,
    "start_time": "2021-09-02T12:59:42.453Z"
   },
   {
    "duration": 11,
    "start_time": "2021-09-02T12:59:45.087Z"
   },
   {
    "duration": 328,
    "start_time": "2021-09-02T12:59:45.494Z"
   },
   {
    "duration": 12,
    "start_time": "2021-09-02T12:59:48.722Z"
   },
   {
    "duration": 353,
    "start_time": "2021-09-02T12:59:49.091Z"
   },
   {
    "duration": 10,
    "start_time": "2021-09-02T12:59:51.349Z"
   },
   {
    "duration": 331,
    "start_time": "2021-09-02T12:59:51.709Z"
   },
   {
    "duration": 12,
    "start_time": "2021-09-02T12:59:56.945Z"
   },
   {
    "duration": 309,
    "start_time": "2021-09-02T12:59:57.353Z"
   },
   {
    "duration": 16,
    "start_time": "2021-09-02T12:59:59.754Z"
   },
   {
    "duration": 360,
    "start_time": "2021-09-02T13:00:00.699Z"
   },
   {
    "duration": 13,
    "start_time": "2021-09-02T13:00:02.992Z"
   },
   {
    "duration": 315,
    "start_time": "2021-09-02T13:00:03.969Z"
   },
   {
    "duration": 11,
    "start_time": "2021-09-02T13:00:06.687Z"
   },
   {
    "duration": 310,
    "start_time": "2021-09-02T13:00:07.538Z"
   },
   {
    "duration": 10,
    "start_time": "2021-09-02T13:01:16.193Z"
   },
   {
    "duration": 10,
    "start_time": "2021-09-02T13:01:19.277Z"
   },
   {
    "duration": 5,
    "start_time": "2021-09-02T13:01:27.919Z"
   },
   {
    "duration": 19,
    "start_time": "2021-09-02T13:01:33.019Z"
   },
   {
    "duration": 10,
    "start_time": "2021-09-02T13:01:40.774Z"
   },
   {
    "duration": 15,
    "start_time": "2021-09-02T13:02:02.292Z"
   },
   {
    "duration": 16,
    "start_time": "2021-09-02T13:05:48.463Z"
   },
   {
    "duration": 391,
    "start_time": "2021-09-02T13:06:08.319Z"
   },
   {
    "duration": 508,
    "start_time": "2021-09-02T13:18:26.502Z"
   },
   {
    "duration": 314,
    "start_time": "2021-09-02T13:18:43.115Z"
   },
   {
    "duration": 215,
    "start_time": "2021-09-02T13:19:38.099Z"
   },
   {
    "duration": 221,
    "start_time": "2021-09-02T13:19:57.404Z"
   },
   {
    "duration": 217,
    "start_time": "2021-09-02T13:20:14.147Z"
   },
   {
    "duration": 356,
    "start_time": "2021-09-02T13:20:46.455Z"
   },
   {
    "duration": 198,
    "start_time": "2021-09-02T13:20:50.703Z"
   },
   {
    "duration": 206,
    "start_time": "2021-09-02T13:21:43.037Z"
   },
   {
    "duration": 207,
    "start_time": "2021-09-02T13:22:08.575Z"
   },
   {
    "duration": 223,
    "start_time": "2021-09-02T13:22:27.374Z"
   },
   {
    "duration": 298,
    "start_time": "2021-09-02T13:22:51.267Z"
   },
   {
    "duration": 227,
    "start_time": "2021-09-02T13:23:06.639Z"
   },
   {
    "duration": 1494,
    "start_time": "2021-09-02T13:29:24.083Z"
   },
   {
    "duration": 45,
    "start_time": "2021-09-02T13:29:25.581Z"
   },
   {
    "duration": 22,
    "start_time": "2021-09-02T13:29:25.629Z"
   },
   {
    "duration": 36,
    "start_time": "2021-09-02T13:29:25.653Z"
   },
   {
    "duration": 4,
    "start_time": "2021-09-02T13:29:25.692Z"
   },
   {
    "duration": 25,
    "start_time": "2021-09-02T13:29:25.699Z"
   },
   {
    "duration": 22,
    "start_time": "2021-09-02T13:29:25.727Z"
   },
   {
    "duration": 32,
    "start_time": "2021-09-02T13:29:25.751Z"
   },
   {
    "duration": 36,
    "start_time": "2021-09-02T13:29:25.789Z"
   },
   {
    "duration": 11,
    "start_time": "2021-09-02T13:29:25.828Z"
   },
   {
    "duration": 10,
    "start_time": "2021-09-02T13:29:25.867Z"
   },
   {
    "duration": 13,
    "start_time": "2021-09-02T13:29:25.878Z"
   },
   {
    "duration": 18,
    "start_time": "2021-09-02T13:29:25.893Z"
   },
   {
    "duration": 17,
    "start_time": "2021-09-02T13:29:25.914Z"
   },
   {
    "duration": 16,
    "start_time": "2021-09-02T13:29:25.971Z"
   },
   {
    "duration": 21,
    "start_time": "2021-09-02T13:29:25.989Z"
   },
   {
    "duration": 11,
    "start_time": "2021-09-02T13:29:26.013Z"
   },
   {
    "duration": 39,
    "start_time": "2021-09-02T13:29:26.029Z"
   },
   {
    "duration": 33,
    "start_time": "2021-09-02T13:29:26.071Z"
   },
   {
    "duration": 387,
    "start_time": "2021-09-02T13:29:26.106Z"
   },
   {
    "duration": 8,
    "start_time": "2021-09-02T13:29:26.497Z"
   },
   {
    "duration": 14,
    "start_time": "2021-09-02T13:29:26.507Z"
   },
   {
    "duration": 18,
    "start_time": "2021-09-02T13:29:26.523Z"
   },
   {
    "duration": 40,
    "start_time": "2021-09-02T13:29:26.544Z"
   },
   {
    "duration": 17,
    "start_time": "2021-09-02T13:29:26.587Z"
   },
   {
    "duration": 317,
    "start_time": "2021-09-02T13:29:26.606Z"
   },
   {
    "duration": 10,
    "start_time": "2021-09-02T13:29:26.929Z"
   },
   {
    "duration": 325,
    "start_time": "2021-09-02T13:29:26.943Z"
   },
   {
    "duration": 12,
    "start_time": "2021-09-02T13:29:27.273Z"
   },
   {
    "duration": 312,
    "start_time": "2021-09-02T13:29:27.288Z"
   },
   {
    "duration": 12,
    "start_time": "2021-09-02T13:29:27.603Z"
   },
   {
    "duration": 317,
    "start_time": "2021-09-02T13:29:27.618Z"
   },
   {
    "duration": 10,
    "start_time": "2021-09-02T13:29:27.937Z"
   },
   {
    "duration": 294,
    "start_time": "2021-09-02T13:29:27.949Z"
   },
   {
    "duration": 24,
    "start_time": "2021-09-02T13:29:28.245Z"
   },
   {
    "duration": 321,
    "start_time": "2021-09-02T13:29:28.279Z"
   },
   {
    "duration": 10,
    "start_time": "2021-09-02T13:29:28.603Z"
   },
   {
    "duration": 365,
    "start_time": "2021-09-02T13:29:28.615Z"
   },
   {
    "duration": 12,
    "start_time": "2021-09-02T13:29:28.984Z"
   },
   {
    "duration": 336,
    "start_time": "2021-09-02T13:29:28.999Z"
   },
   {
    "duration": 11,
    "start_time": "2021-09-02T13:29:29.338Z"
   },
   {
    "duration": 276,
    "start_time": "2021-09-02T13:29:29.363Z"
   },
   {
    "duration": 27,
    "start_time": "2021-09-02T13:29:29.641Z"
   },
   {
    "duration": 331,
    "start_time": "2021-09-02T13:29:29.671Z"
   },
   {
    "duration": 10,
    "start_time": "2021-09-02T13:29:30.004Z"
   },
   {
    "duration": 23,
    "start_time": "2021-09-02T13:29:30.016Z"
   },
   {
    "duration": 25,
    "start_time": "2021-09-02T13:29:30.041Z"
   },
   {
    "duration": 30,
    "start_time": "2021-09-02T13:29:30.068Z"
   },
   {
    "duration": 11,
    "start_time": "2021-09-02T13:29:30.102Z"
   },
   {
    "duration": 254,
    "start_time": "2021-09-02T13:29:30.115Z"
   },
   {
    "duration": 219,
    "start_time": "2021-09-02T13:29:30.371Z"
   },
   {
    "duration": 235,
    "start_time": "2021-09-02T13:29:30.593Z"
   },
   {
    "duration": 36,
    "start_time": "2021-09-02T13:29:30.831Z"
   },
   {
    "duration": 443,
    "start_time": "2021-09-02T13:29:30.870Z"
   },
   {
    "duration": 435,
    "start_time": "2021-09-02T13:29:31.315Z"
   },
   {
    "duration": 23,
    "start_time": "2021-09-02T13:29:31.752Z"
   },
   {
    "duration": 407,
    "start_time": "2021-09-02T13:29:31.778Z"
   },
   {
    "duration": 385,
    "start_time": "2021-09-02T13:29:32.187Z"
   },
   {
    "duration": 24,
    "start_time": "2021-09-02T13:29:32.574Z"
   },
   {
    "duration": 19,
    "start_time": "2021-09-02T13:29:32.600Z"
   },
   {
    "duration": 19,
    "start_time": "2021-09-02T13:29:32.621Z"
   },
   {
    "duration": 28,
    "start_time": "2021-09-02T13:29:32.642Z"
   },
   {
    "duration": 13,
    "start_time": "2021-09-02T13:29:32.672Z"
   },
   {
    "duration": 121,
    "start_time": "2021-09-02T13:29:32.688Z"
   },
   {
    "duration": 33,
    "start_time": "2021-09-02T13:29:32.811Z"
   },
   {
    "duration": 29,
    "start_time": "2021-09-02T13:29:32.847Z"
   },
   {
    "duration": 14,
    "start_time": "2021-09-02T13:29:32.879Z"
   },
   {
    "duration": 29,
    "start_time": "2021-09-02T13:29:32.895Z"
   },
   {
    "duration": 18,
    "start_time": "2021-09-02T13:29:32.927Z"
   },
   {
    "duration": 20,
    "start_time": "2021-09-02T13:29:32.947Z"
   },
   {
    "duration": 27,
    "start_time": "2021-09-02T13:29:32.969Z"
   },
   {
    "duration": 9,
    "start_time": "2021-09-02T13:29:32.999Z"
   },
   {
    "duration": 24,
    "start_time": "2021-09-02T13:29:33.010Z"
   },
   {
    "duration": 16,
    "start_time": "2021-09-02T13:29:33.036Z"
   },
   {
    "duration": 30,
    "start_time": "2021-09-02T13:29:33.054Z"
   },
   {
    "duration": 466,
    "start_time": "2021-09-02T13:36:05.388Z"
   },
   {
    "duration": 505,
    "start_time": "2021-09-02T13:36:53.666Z"
   },
   {
    "duration": 509,
    "start_time": "2021-09-02T13:39:36.681Z"
   },
   {
    "duration": 512,
    "start_time": "2021-09-02T13:41:42.791Z"
   },
   {
    "duration": 515,
    "start_time": "2021-09-02T13:41:50.368Z"
   },
   {
    "duration": 728,
    "start_time": "2021-09-02T13:49:50.416Z"
   },
   {
    "duration": 628,
    "start_time": "2021-09-02T13:50:14.823Z"
   },
   {
    "duration": 15,
    "start_time": "2021-09-02T13:52:29.167Z"
   },
   {
    "duration": 19,
    "start_time": "2021-09-02T13:59:12.696Z"
   },
   {
    "duration": 15,
    "start_time": "2021-09-02T13:59:30.507Z"
   },
   {
    "duration": 15,
    "start_time": "2021-09-02T14:00:03.806Z"
   },
   {
    "duration": 19,
    "start_time": "2021-09-02T14:00:35.683Z"
   },
   {
    "duration": 32,
    "start_time": "2021-09-02T14:00:58.884Z"
   },
   {
    "duration": 32,
    "start_time": "2021-09-02T14:01:22.688Z"
   },
   {
    "duration": 33,
    "start_time": "2021-09-02T14:01:31.086Z"
   },
   {
    "duration": 32,
    "start_time": "2021-09-02T14:01:46.678Z"
   },
   {
    "duration": 22,
    "start_time": "2021-09-02T14:01:58.453Z"
   },
   {
    "duration": 23,
    "start_time": "2021-09-02T14:02:01.487Z"
   },
   {
    "duration": 824,
    "start_time": "2021-09-02T14:02:04.636Z"
   },
   {
    "duration": 35,
    "start_time": "2021-09-02T14:02:09.196Z"
   },
   {
    "duration": 23,
    "start_time": "2021-09-02T14:03:52.930Z"
   },
   {
    "duration": 14,
    "start_time": "2021-09-02T14:08:20.827Z"
   },
   {
    "duration": 439,
    "start_time": "2021-09-02T14:09:18.322Z"
   },
   {
    "duration": 440,
    "start_time": "2021-09-02T14:09:24.148Z"
   },
   {
    "duration": 434,
    "start_time": "2021-09-02T14:27:18.918Z"
   },
   {
    "duration": 22,
    "start_time": "2021-09-02T14:31:34.103Z"
   },
   {
    "duration": 19,
    "start_time": "2021-09-02T14:31:48.553Z"
   },
   {
    "duration": 555,
    "start_time": "2021-09-02T14:32:23.013Z"
   },
   {
    "duration": 426,
    "start_time": "2021-09-02T14:32:29.322Z"
   },
   {
    "duration": 435,
    "start_time": "2021-09-02T14:33:43.727Z"
   },
   {
    "duration": 441,
    "start_time": "2021-09-02T14:34:39.251Z"
   },
   {
    "duration": 401,
    "start_time": "2021-09-02T14:35:02.108Z"
   },
   {
    "duration": 409,
    "start_time": "2021-09-02T14:35:14.622Z"
   },
   {
    "duration": 123,
    "start_time": "2021-09-02T14:44:46.758Z"
   },
   {
    "duration": 707,
    "start_time": "2021-09-02T14:44:50.166Z"
   },
   {
    "duration": 421,
    "start_time": "2021-09-02T14:45:06.156Z"
   },
   {
    "duration": 509,
    "start_time": "2021-09-02T14:45:28.117Z"
   },
   {
    "duration": 422,
    "start_time": "2021-09-02T14:45:55.606Z"
   },
   {
    "duration": 16,
    "start_time": "2021-09-02T14:46:55.159Z"
   },
   {
    "duration": 16,
    "start_time": "2021-09-02T14:48:38.666Z"
   },
   {
    "duration": 424,
    "start_time": "2021-09-02T14:48:39.648Z"
   },
   {
    "duration": 421,
    "start_time": "2021-09-02T14:48:44.478Z"
   },
   {
    "duration": 22,
    "start_time": "2021-09-02T14:54:59.518Z"
   },
   {
    "duration": 336,
    "start_time": "2021-09-03T12:32:13.059Z"
   },
   {
    "duration": 1646,
    "start_time": "2021-09-03T12:32:25.930Z"
   },
   {
    "duration": 50,
    "start_time": "2021-09-03T12:32:27.579Z"
   },
   {
    "duration": 27,
    "start_time": "2021-09-03T12:32:27.632Z"
   },
   {
    "duration": 14,
    "start_time": "2021-09-03T12:32:27.662Z"
   },
   {
    "duration": 6,
    "start_time": "2021-09-03T12:32:27.679Z"
   },
   {
    "duration": 23,
    "start_time": "2021-09-03T12:32:27.687Z"
   },
   {
    "duration": 48,
    "start_time": "2021-09-03T12:32:27.712Z"
   },
   {
    "duration": 8,
    "start_time": "2021-09-03T12:32:27.765Z"
   },
   {
    "duration": 35,
    "start_time": "2021-09-03T12:32:27.776Z"
   },
   {
    "duration": 12,
    "start_time": "2021-09-03T12:32:27.813Z"
   },
   {
    "duration": 33,
    "start_time": "2021-09-03T12:32:27.828Z"
   },
   {
    "duration": 17,
    "start_time": "2021-09-03T12:32:27.863Z"
   },
   {
    "duration": 18,
    "start_time": "2021-09-03T12:32:27.883Z"
   },
   {
    "duration": 20,
    "start_time": "2021-09-03T12:32:27.903Z"
   },
   {
    "duration": 42,
    "start_time": "2021-09-03T12:32:27.925Z"
   },
   {
    "duration": 24,
    "start_time": "2021-09-03T12:32:27.971Z"
   },
   {
    "duration": 26,
    "start_time": "2021-09-03T12:32:27.998Z"
   },
   {
    "duration": 46,
    "start_time": "2021-09-03T12:32:28.027Z"
   },
   {
    "duration": 28,
    "start_time": "2021-09-03T12:32:28.076Z"
   },
   {
    "duration": 396,
    "start_time": "2021-09-03T12:32:28.106Z"
   },
   {
    "duration": 8,
    "start_time": "2021-09-03T12:32:28.504Z"
   },
   {
    "duration": 10,
    "start_time": "2021-09-03T12:32:28.515Z"
   },
   {
    "duration": 30,
    "start_time": "2021-09-03T12:32:28.532Z"
   },
   {
    "duration": 6,
    "start_time": "2021-09-03T12:32:28.566Z"
   },
   {
    "duration": 11,
    "start_time": "2021-09-03T12:32:28.574Z"
   },
   {
    "duration": 324,
    "start_time": "2021-09-03T12:32:28.588Z"
   },
   {
    "duration": 12,
    "start_time": "2021-09-03T12:32:28.914Z"
   },
   {
    "duration": 322,
    "start_time": "2021-09-03T12:32:28.928Z"
   },
   {
    "duration": 11,
    "start_time": "2021-09-03T12:32:29.256Z"
   },
   {
    "duration": 309,
    "start_time": "2021-09-03T12:32:29.270Z"
   },
   {
    "duration": 10,
    "start_time": "2021-09-03T12:32:29.581Z"
   },
   {
    "duration": 320,
    "start_time": "2021-09-03T12:32:29.594Z"
   },
   {
    "duration": 10,
    "start_time": "2021-09-03T12:32:29.917Z"
   },
   {
    "duration": 296,
    "start_time": "2021-09-03T12:32:29.930Z"
   },
   {
    "duration": 11,
    "start_time": "2021-09-03T12:32:30.228Z"
   },
   {
    "duration": 347,
    "start_time": "2021-09-03T12:32:30.257Z"
   },
   {
    "duration": 11,
    "start_time": "2021-09-03T12:32:30.607Z"
   },
   {
    "duration": 364,
    "start_time": "2021-09-03T12:32:30.620Z"
   },
   {
    "duration": 11,
    "start_time": "2021-09-03T12:32:30.986Z"
   },
   {
    "duration": 306,
    "start_time": "2021-09-03T12:32:31.000Z"
   },
   {
    "duration": 11,
    "start_time": "2021-09-03T12:32:31.309Z"
   },
   {
    "duration": 293,
    "start_time": "2021-09-03T12:32:31.323Z"
   },
   {
    "duration": 11,
    "start_time": "2021-09-03T12:32:31.619Z"
   },
   {
    "duration": 354,
    "start_time": "2021-09-03T12:32:31.633Z"
   },
   {
    "duration": 10,
    "start_time": "2021-09-03T12:32:31.990Z"
   },
   {
    "duration": 21,
    "start_time": "2021-09-03T12:32:32.002Z"
   },
   {
    "duration": 5,
    "start_time": "2021-09-03T12:32:32.025Z"
   },
   {
    "duration": 39,
    "start_time": "2021-09-03T12:32:32.032Z"
   },
   {
    "duration": 10,
    "start_time": "2021-09-03T12:32:32.074Z"
   },
   {
    "duration": 553,
    "start_time": "2021-09-03T12:32:32.087Z"
   },
   {
    "duration": 33,
    "start_time": "2021-09-03T12:32:32.643Z"
   },
   {
    "duration": 24,
    "start_time": "2021-09-03T12:32:32.679Z"
   },
   {
    "duration": 61,
    "start_time": "2021-09-03T12:32:32.706Z"
   },
   {
    "duration": 16,
    "start_time": "2021-09-03T12:32:32.770Z"
   },
   {
    "duration": 406,
    "start_time": "2021-09-03T12:32:32.789Z"
   },
   {
    "duration": 424,
    "start_time": "2021-09-03T12:32:33.198Z"
   },
   {
    "duration": 31,
    "start_time": "2021-09-03T12:32:33.625Z"
   },
   {
    "duration": 416,
    "start_time": "2021-09-03T12:32:33.658Z"
   },
   {
    "duration": 410,
    "start_time": "2021-09-03T12:32:34.077Z"
   },
   {
    "duration": 17,
    "start_time": "2021-09-03T12:32:34.489Z"
   },
   {
    "duration": 464,
    "start_time": "2021-09-03T12:32:34.508Z"
   },
   {
    "duration": 604,
    "start_time": "2021-09-03T12:32:34.975Z"
   },
   {
    "duration": 19,
    "start_time": "2021-09-03T12:32:35.582Z"
   },
   {
    "duration": 575,
    "start_time": "2021-09-03T12:32:35.603Z"
   },
   {
    "duration": 505,
    "start_time": "2021-09-03T12:32:36.181Z"
   },
   {
    "duration": 29,
    "start_time": "2021-09-03T12:32:36.689Z"
   },
   {
    "duration": 47,
    "start_time": "2021-09-03T12:32:36.721Z"
   },
   {
    "duration": 28,
    "start_time": "2021-09-03T12:32:36.779Z"
   },
   {
    "duration": 16,
    "start_time": "2021-09-03T12:32:36.811Z"
   },
   {
    "duration": 38,
    "start_time": "2021-09-03T12:32:36.830Z"
   },
   {
    "duration": 13,
    "start_time": "2021-09-03T12:32:36.871Z"
   },
   {
    "duration": 19,
    "start_time": "2021-09-03T12:32:36.887Z"
   },
   {
    "duration": 48,
    "start_time": "2021-09-03T12:32:36.909Z"
   },
   {
    "duration": 10,
    "start_time": "2021-09-03T12:32:36.960Z"
   },
   {
    "duration": 11,
    "start_time": "2021-09-03T12:32:36.973Z"
   },
   {
    "duration": 12,
    "start_time": "2021-09-03T12:32:36.987Z"
   },
   {
    "duration": 23,
    "start_time": "2021-09-03T12:32:37.002Z"
   },
   {
    "duration": 39,
    "start_time": "2021-09-03T12:32:37.027Z"
   },
   {
    "duration": 15,
    "start_time": "2021-09-03T12:32:37.068Z"
   },
   {
    "duration": 19,
    "start_time": "2021-09-03T12:32:37.085Z"
   },
   {
    "duration": 18,
    "start_time": "2021-09-03T12:32:37.107Z"
   },
   {
    "duration": 11,
    "start_time": "2021-09-03T12:32:37.157Z"
   },
   {
    "duration": 10,
    "start_time": "2021-09-03T12:32:37.171Z"
   },
   {
    "duration": 11,
    "start_time": "2021-09-03T12:33:36.312Z"
   },
   {
    "duration": 9,
    "start_time": "2021-09-03T12:33:47.615Z"
   },
   {
    "duration": 12,
    "start_time": "2021-09-03T12:34:04.039Z"
   },
   {
    "duration": 14,
    "start_time": "2021-09-03T12:34:16.100Z"
   },
   {
    "duration": 10,
    "start_time": "2021-09-03T12:34:19.309Z"
   },
   {
    "duration": 10,
    "start_time": "2021-09-03T12:34:23.059Z"
   },
   {
    "duration": 13,
    "start_time": "2021-09-03T12:54:31.103Z"
   },
   {
    "duration": 9,
    "start_time": "2021-09-03T12:54:32.816Z"
   },
   {
    "duration": 9,
    "start_time": "2021-09-03T12:54:34.114Z"
   },
   {
    "duration": 1440,
    "start_time": "2021-09-03T13:23:48.980Z"
   },
   {
    "duration": 51,
    "start_time": "2021-09-03T13:23:50.423Z"
   },
   {
    "duration": 23,
    "start_time": "2021-09-03T13:23:50.477Z"
   },
   {
    "duration": 18,
    "start_time": "2021-09-03T13:23:50.503Z"
   },
   {
    "duration": 5,
    "start_time": "2021-09-03T13:23:50.523Z"
   },
   {
    "duration": 18,
    "start_time": "2021-09-03T13:23:50.556Z"
   },
   {
    "duration": 17,
    "start_time": "2021-09-03T13:23:50.577Z"
   },
   {
    "duration": 9,
    "start_time": "2021-09-03T13:23:50.596Z"
   },
   {
    "duration": 59,
    "start_time": "2021-09-03T13:23:50.609Z"
   },
   {
    "duration": 12,
    "start_time": "2021-09-03T13:23:50.671Z"
   },
   {
    "duration": 13,
    "start_time": "2021-09-03T13:23:50.685Z"
   },
   {
    "duration": 18,
    "start_time": "2021-09-03T13:23:50.700Z"
   },
   {
    "duration": 42,
    "start_time": "2021-09-03T13:23:50.721Z"
   },
   {
    "duration": 25,
    "start_time": "2021-09-03T13:23:50.765Z"
   },
   {
    "duration": 11,
    "start_time": "2021-09-03T13:23:50.793Z"
   },
   {
    "duration": 49,
    "start_time": "2021-09-03T13:23:50.806Z"
   },
   {
    "duration": 12,
    "start_time": "2021-09-03T13:23:50.858Z"
   },
   {
    "duration": 26,
    "start_time": "2021-09-03T13:23:50.873Z"
   },
   {
    "duration": 27,
    "start_time": "2021-09-03T13:23:50.902Z"
   },
   {
    "duration": 402,
    "start_time": "2021-09-03T13:23:50.931Z"
   },
   {
    "duration": 20,
    "start_time": "2021-09-03T13:23:51.336Z"
   },
   {
    "duration": 6,
    "start_time": "2021-09-03T13:23:51.359Z"
   },
   {
    "duration": 21,
    "start_time": "2021-09-03T13:23:51.368Z"
   },
   {
    "duration": 24,
    "start_time": "2021-09-03T13:23:51.392Z"
   },
   {
    "duration": 17,
    "start_time": "2021-09-03T13:23:51.418Z"
   },
   {
    "duration": 327,
    "start_time": "2021-09-03T13:23:51.437Z"
   },
   {
    "duration": 10,
    "start_time": "2021-09-03T13:23:51.771Z"
   },
   {
    "duration": 333,
    "start_time": "2021-09-03T13:23:51.785Z"
   },
   {
    "duration": 14,
    "start_time": "2021-09-03T13:23:52.121Z"
   },
   {
    "duration": 349,
    "start_time": "2021-09-03T13:23:52.156Z"
   },
   {
    "duration": 10,
    "start_time": "2021-09-03T13:23:52.507Z"
   },
   {
    "duration": 328,
    "start_time": "2021-09-03T13:23:52.519Z"
   },
   {
    "duration": 15,
    "start_time": "2021-09-03T13:23:52.849Z"
   },
   {
    "duration": 306,
    "start_time": "2021-09-03T13:23:52.866Z"
   },
   {
    "duration": 10,
    "start_time": "2021-09-03T13:23:53.174Z"
   },
   {
    "duration": 326,
    "start_time": "2021-09-03T13:23:53.186Z"
   },
   {
    "duration": 14,
    "start_time": "2021-09-03T13:23:53.515Z"
   },
   {
    "duration": 357,
    "start_time": "2021-09-03T13:23:53.534Z"
   },
   {
    "duration": 12,
    "start_time": "2021-09-03T13:23:53.893Z"
   },
   {
    "duration": 315,
    "start_time": "2021-09-03T13:23:53.907Z"
   },
   {
    "duration": 10,
    "start_time": "2021-09-03T13:23:54.224Z"
   },
   {
    "duration": 301,
    "start_time": "2021-09-03T13:23:54.237Z"
   },
   {
    "duration": 19,
    "start_time": "2021-09-03T13:23:54.542Z"
   },
   {
    "duration": 353,
    "start_time": "2021-09-03T13:23:54.564Z"
   },
   {
    "duration": 10,
    "start_time": "2021-09-03T13:23:54.920Z"
   },
   {
    "duration": 30,
    "start_time": "2021-09-03T13:23:54.932Z"
   },
   {
    "duration": 5,
    "start_time": "2021-09-03T13:23:54.964Z"
   },
   {
    "duration": 25,
    "start_time": "2021-09-03T13:23:54.971Z"
   },
   {
    "duration": 13,
    "start_time": "2021-09-03T13:23:54.999Z"
   },
   {
    "duration": 587,
    "start_time": "2021-09-03T13:23:55.014Z"
   },
   {
    "duration": 23,
    "start_time": "2021-09-03T13:23:55.604Z"
   },
   {
    "duration": 41,
    "start_time": "2021-09-03T13:23:55.630Z"
   },
   {
    "duration": 24,
    "start_time": "2021-09-03T13:23:55.673Z"
   },
   {
    "duration": 21,
    "start_time": "2021-09-03T13:23:55.700Z"
   },
   {
    "duration": 453,
    "start_time": "2021-09-03T13:23:55.724Z"
   },
   {
    "duration": 409,
    "start_time": "2021-09-03T13:23:56.180Z"
   },
   {
    "duration": 14,
    "start_time": "2021-09-03T13:23:56.592Z"
   },
   {
    "duration": 449,
    "start_time": "2021-09-03T13:23:56.609Z"
   },
   {
    "duration": 422,
    "start_time": "2021-09-03T13:23:57.061Z"
   },
   {
    "duration": 16,
    "start_time": "2021-09-03T13:23:57.486Z"
   },
   {
    "duration": 447,
    "start_time": "2021-09-03T13:23:57.504Z"
   },
   {
    "duration": 523,
    "start_time": "2021-09-03T13:23:57.956Z"
   },
   {
    "duration": 15,
    "start_time": "2021-09-03T13:23:58.482Z"
   },
   {
    "duration": 456,
    "start_time": "2021-09-03T13:23:58.499Z"
   },
   {
    "duration": 425,
    "start_time": "2021-09-03T13:23:58.958Z"
   },
   {
    "duration": 22,
    "start_time": "2021-09-03T13:23:59.386Z"
   },
   {
    "duration": 38,
    "start_time": "2021-09-03T13:23:59.411Z"
   },
   {
    "duration": 35,
    "start_time": "2021-09-03T13:23:59.456Z"
   },
   {
    "duration": 35,
    "start_time": "2021-09-03T13:23:59.493Z"
   },
   {
    "duration": 15,
    "start_time": "2021-09-03T13:23:59.531Z"
   },
   {
    "duration": 31,
    "start_time": "2021-09-03T13:23:59.549Z"
   },
   {
    "duration": 32,
    "start_time": "2021-09-03T13:23:59.582Z"
   },
   {
    "duration": 18,
    "start_time": "2021-09-03T13:23:59.616Z"
   },
   {
    "duration": 23,
    "start_time": "2021-09-03T13:23:59.636Z"
   },
   {
    "duration": 37,
    "start_time": "2021-09-03T13:23:59.662Z"
   },
   {
    "duration": 20,
    "start_time": "2021-09-03T13:23:59.701Z"
   },
   {
    "duration": 28,
    "start_time": "2021-09-03T13:23:59.723Z"
   },
   {
    "duration": 17,
    "start_time": "2021-09-03T13:23:59.753Z"
   },
   {
    "duration": 24,
    "start_time": "2021-09-03T13:23:59.773Z"
   },
   {
    "duration": 15,
    "start_time": "2021-09-03T13:23:59.800Z"
   },
   {
    "duration": 28,
    "start_time": "2021-09-03T13:23:59.822Z"
   },
   {
    "duration": 36,
    "start_time": "2021-09-03T13:23:59.852Z"
   },
   {
    "duration": 35,
    "start_time": "2021-09-03T13:23:59.891Z"
   },
   {
    "duration": 1514,
    "start_time": "2021-09-03T14:37:51.626Z"
   },
   {
    "duration": 48,
    "start_time": "2021-09-03T14:37:53.143Z"
   },
   {
    "duration": 23,
    "start_time": "2021-09-03T14:37:53.195Z"
   },
   {
    "duration": 28,
    "start_time": "2021-09-03T14:37:53.221Z"
   },
   {
    "duration": 16,
    "start_time": "2021-09-03T14:37:53.252Z"
   },
   {
    "duration": 35,
    "start_time": "2021-09-03T14:37:53.270Z"
   },
   {
    "duration": 26,
    "start_time": "2021-09-03T14:37:53.308Z"
   },
   {
    "duration": 14,
    "start_time": "2021-09-03T14:37:53.337Z"
   },
   {
    "duration": 37,
    "start_time": "2021-09-03T14:37:53.355Z"
   },
   {
    "duration": 12,
    "start_time": "2021-09-03T14:37:53.395Z"
   },
   {
    "duration": 18,
    "start_time": "2021-09-03T14:37:53.409Z"
   },
   {
    "duration": 29,
    "start_time": "2021-09-03T14:37:53.429Z"
   },
   {
    "duration": 24,
    "start_time": "2021-09-03T14:37:53.460Z"
   },
   {
    "duration": 26,
    "start_time": "2021-09-03T14:37:53.487Z"
   },
   {
    "duration": 18,
    "start_time": "2021-09-03T14:37:53.515Z"
   },
   {
    "duration": 37,
    "start_time": "2021-09-03T14:37:53.535Z"
   },
   {
    "duration": 9,
    "start_time": "2021-09-03T14:37:53.574Z"
   },
   {
    "duration": 25,
    "start_time": "2021-09-03T14:37:53.585Z"
   },
   {
    "duration": 37,
    "start_time": "2021-09-03T14:37:53.612Z"
   },
   {
    "duration": 408,
    "start_time": "2021-09-03T14:37:53.651Z"
   },
   {
    "duration": 9,
    "start_time": "2021-09-03T14:37:54.061Z"
   },
   {
    "duration": 9,
    "start_time": "2021-09-03T14:37:54.073Z"
   },
   {
    "duration": 9,
    "start_time": "2021-09-03T14:37:54.084Z"
   },
   {
    "duration": 6,
    "start_time": "2021-09-03T14:37:54.095Z"
   },
   {
    "duration": 12,
    "start_time": "2021-09-03T14:37:54.103Z"
   },
   {
    "duration": 338,
    "start_time": "2021-09-03T14:37:54.117Z"
   },
   {
    "duration": 14,
    "start_time": "2021-09-03T14:37:54.461Z"
   },
   {
    "duration": 416,
    "start_time": "2021-09-03T14:37:54.479Z"
   },
   {
    "duration": 10,
    "start_time": "2021-09-03T14:37:54.897Z"
   },
   {
    "duration": 405,
    "start_time": "2021-09-03T14:37:54.909Z"
   },
   {
    "duration": 10,
    "start_time": "2021-09-03T14:37:55.316Z"
   },
   {
    "duration": 318,
    "start_time": "2021-09-03T14:37:55.329Z"
   },
   {
    "duration": 20,
    "start_time": "2021-09-03T14:37:55.649Z"
   },
   {
    "duration": 300,
    "start_time": "2021-09-03T14:37:55.671Z"
   },
   {
    "duration": 10,
    "start_time": "2021-09-03T14:37:55.973Z"
   },
   {
    "duration": 327,
    "start_time": "2021-09-03T14:37:55.986Z"
   },
   {
    "duration": 10,
    "start_time": "2021-09-03T14:37:56.315Z"
   },
   {
    "duration": 354,
    "start_time": "2021-09-03T14:37:56.328Z"
   },
   {
    "duration": 11,
    "start_time": "2021-09-03T14:37:56.684Z"
   },
   {
    "duration": 308,
    "start_time": "2021-09-03T14:37:56.697Z"
   },
   {
    "duration": 10,
    "start_time": "2021-09-03T14:37:57.007Z"
   },
   {
    "duration": 395,
    "start_time": "2021-09-03T14:37:57.019Z"
   },
   {
    "duration": 10,
    "start_time": "2021-09-03T14:37:57.416Z"
   },
   {
    "duration": 358,
    "start_time": "2021-09-03T14:37:57.428Z"
   },
   {
    "duration": 10,
    "start_time": "2021-09-03T14:37:57.788Z"
   },
   {
    "duration": 11,
    "start_time": "2021-09-03T14:37:57.800Z"
   },
   {
    "duration": 5,
    "start_time": "2021-09-03T14:37:57.813Z"
   },
   {
    "duration": 52,
    "start_time": "2021-09-03T14:37:57.820Z"
   },
   {
    "duration": 10,
    "start_time": "2021-09-03T14:37:57.875Z"
   },
   {
    "duration": 559,
    "start_time": "2021-09-03T14:37:57.888Z"
   },
   {
    "duration": 31,
    "start_time": "2021-09-03T14:37:58.450Z"
   },
   {
    "duration": 25,
    "start_time": "2021-09-03T14:37:58.484Z"
   },
   {
    "duration": 23,
    "start_time": "2021-09-03T14:37:58.511Z"
   },
   {
    "duration": 14,
    "start_time": "2021-09-03T14:37:58.568Z"
   },
   {
    "duration": 407,
    "start_time": "2021-09-03T14:37:58.584Z"
   },
   {
    "duration": 414,
    "start_time": "2021-09-03T14:37:58.993Z"
   },
   {
    "duration": 15,
    "start_time": "2021-09-03T14:37:59.409Z"
   },
   {
    "duration": 448,
    "start_time": "2021-09-03T14:37:59.427Z"
   },
   {
    "duration": 421,
    "start_time": "2021-09-03T14:37:59.877Z"
   },
   {
    "duration": 16,
    "start_time": "2021-09-03T14:38:00.300Z"
   },
   {
    "duration": 460,
    "start_time": "2021-09-03T14:38:00.318Z"
   },
   {
    "duration": 516,
    "start_time": "2021-09-03T14:38:00.780Z"
   },
   {
    "duration": 15,
    "start_time": "2021-09-03T14:38:01.299Z"
   },
   {
    "duration": 484,
    "start_time": "2021-09-03T14:38:01.317Z"
   },
   {
    "duration": 382,
    "start_time": "2021-09-03T14:38:01.804Z"
   },
   {
    "duration": 22,
    "start_time": "2021-09-03T14:38:02.189Z"
   },
   {
    "duration": 46,
    "start_time": "2021-09-03T14:38:02.213Z"
   },
   {
    "duration": 36,
    "start_time": "2021-09-03T14:38:02.261Z"
   },
   {
    "duration": 10,
    "start_time": "2021-09-03T14:38:02.299Z"
   },
   {
    "duration": 13,
    "start_time": "2021-09-03T14:38:02.312Z"
   },
   {
    "duration": 14,
    "start_time": "2021-09-03T14:38:02.328Z"
   },
   {
    "duration": 10,
    "start_time": "2021-09-03T14:38:02.368Z"
   },
   {
    "duration": 24,
    "start_time": "2021-09-03T14:38:02.380Z"
   },
   {
    "duration": 22,
    "start_time": "2021-09-03T14:38:02.406Z"
   },
   {
    "duration": 10,
    "start_time": "2021-09-03T14:38:02.430Z"
   },
   {
    "duration": 29,
    "start_time": "2021-09-03T14:38:02.442Z"
   },
   {
    "duration": 17,
    "start_time": "2021-09-03T14:38:02.474Z"
   },
   {
    "duration": 30,
    "start_time": "2021-09-03T14:38:02.493Z"
   },
   {
    "duration": 18,
    "start_time": "2021-09-03T14:38:02.525Z"
   },
   {
    "duration": 10,
    "start_time": "2021-09-03T14:38:02.545Z"
   },
   {
    "duration": 14,
    "start_time": "2021-09-03T14:38:02.572Z"
   },
   {
    "duration": 17,
    "start_time": "2021-09-03T14:38:02.588Z"
   },
   {
    "duration": 11,
    "start_time": "2021-09-03T14:38:02.608Z"
   },
   {
    "duration": 34,
    "start_time": "2021-09-03T14:50:15.691Z"
   },
   {
    "duration": 229,
    "start_time": "2021-09-04T07:26:33.803Z"
   },
   {
    "duration": 1004,
    "start_time": "2021-09-04T07:28:22.849Z"
   },
   {
    "duration": 1079,
    "start_time": "2021-09-04T07:28:40.526Z"
   },
   {
    "duration": 48,
    "start_time": "2021-09-04T07:28:42.268Z"
   },
   {
    "duration": 16,
    "start_time": "2021-09-04T07:28:43.348Z"
   },
   {
    "duration": 10,
    "start_time": "2021-09-04T07:28:48.118Z"
   },
   {
    "duration": 3,
    "start_time": "2021-09-04T07:28:52.445Z"
   },
   {
    "duration": 12,
    "start_time": "2021-09-04T07:28:53.119Z"
   },
   {
    "duration": 9,
    "start_time": "2021-09-04T07:28:54.159Z"
   },
   {
    "duration": 11,
    "start_time": "2021-09-04T07:29:00.125Z"
   },
   {
    "duration": 22,
    "start_time": "2021-09-04T07:29:03.047Z"
   },
   {
    "duration": 9,
    "start_time": "2021-09-04T07:29:12.930Z"
   },
   {
    "duration": 5,
    "start_time": "2021-09-04T07:29:14.175Z"
   },
   {
    "duration": 8,
    "start_time": "2021-09-04T07:29:16.255Z"
   },
   {
    "duration": 13,
    "start_time": "2021-09-04T07:29:18.971Z"
   },
   {
    "duration": 11,
    "start_time": "2021-09-04T07:29:19.705Z"
   },
   {
    "duration": 9,
    "start_time": "2021-09-04T07:29:20.051Z"
   },
   {
    "duration": 16,
    "start_time": "2021-09-04T07:29:20.688Z"
   },
   {
    "duration": 6,
    "start_time": "2021-09-04T07:29:23.449Z"
   },
   {
    "duration": 14,
    "start_time": "2021-09-04T07:29:24.291Z"
   },
   {
    "duration": 19,
    "start_time": "2021-09-04T07:29:27.968Z"
   },
   {
    "duration": 238,
    "start_time": "2021-09-04T07:29:29.162Z"
   },
   {
    "duration": 6,
    "start_time": "2021-09-04T07:29:36.819Z"
   },
   {
    "duration": 4,
    "start_time": "2021-09-04T07:29:37.205Z"
   },
   {
    "duration": 7,
    "start_time": "2021-09-04T07:29:38.145Z"
   },
   {
    "duration": 4,
    "start_time": "2021-09-04T07:29:38.650Z"
   },
   {
    "duration": 3,
    "start_time": "2021-09-04T07:32:52.979Z"
   },
   {
    "duration": 7,
    "start_time": "2021-09-04T07:33:09.065Z"
   },
   {
    "duration": 4,
    "start_time": "2021-09-04T07:35:39.180Z"
   },
   {
    "duration": 176,
    "start_time": "2021-09-04T07:36:37.834Z"
   },
   {
    "duration": 8,
    "start_time": "2021-09-04T07:37:12.789Z"
   },
   {
    "duration": 175,
    "start_time": "2021-09-04T07:37:13.405Z"
   },
   {
    "duration": 4,
    "start_time": "2021-09-04T07:38:53.393Z"
   },
   {
    "duration": 184,
    "start_time": "2021-09-04T07:39:06.166Z"
   },
   {
    "duration": 4,
    "start_time": "2021-09-04T07:39:23.563Z"
   },
   {
    "duration": 254,
    "start_time": "2021-09-04T07:39:24.348Z"
   },
   {
    "duration": 181,
    "start_time": "2021-09-04T07:39:29.789Z"
   },
   {
    "duration": 175,
    "start_time": "2021-09-04T07:39:42.624Z"
   },
   {
    "duration": 3,
    "start_time": "2021-09-04T07:40:31.967Z"
   },
   {
    "duration": 178,
    "start_time": "2021-09-04T07:40:33.034Z"
   },
   {
    "duration": 253,
    "start_time": "2021-09-04T07:40:35.982Z"
   },
   {
    "duration": 176,
    "start_time": "2021-09-04T07:40:49.063Z"
   },
   {
    "duration": 181,
    "start_time": "2021-09-04T07:41:20.170Z"
   },
   {
    "duration": 185,
    "start_time": "2021-09-04T07:41:58.481Z"
   },
   {
    "duration": 178,
    "start_time": "2021-09-04T07:42:15.630Z"
   },
   {
    "duration": 158,
    "start_time": "2021-09-04T07:42:35.909Z"
   },
   {
    "duration": 190,
    "start_time": "2021-09-04T07:42:49.413Z"
   },
   {
    "duration": 159,
    "start_time": "2021-09-04T07:43:27.486Z"
   },
   {
    "duration": 169,
    "start_time": "2021-09-04T07:43:34.000Z"
   },
   {
    "duration": 214,
    "start_time": "2021-09-04T07:44:01.294Z"
   },
   {
    "duration": 7,
    "start_time": "2021-09-04T07:58:50.715Z"
   },
   {
    "duration": 7,
    "start_time": "2021-09-04T07:58:51.740Z"
   },
   {
    "duration": 3,
    "start_time": "2021-09-04T07:58:54.985Z"
   },
   {
    "duration": 14,
    "start_time": "2021-09-04T07:58:57.578Z"
   },
   {
    "duration": 8,
    "start_time": "2021-09-04T07:58:59.600Z"
   },
   {
    "duration": 3,
    "start_time": "2021-09-04T08:00:23.688Z"
   },
   {
    "duration": 31,
    "start_time": "2021-09-04T08:00:51.984Z"
   },
   {
    "duration": 393,
    "start_time": "2021-09-04T08:01:35.305Z"
   },
   {
    "duration": 433,
    "start_time": "2021-09-04T08:02:08.836Z"
   },
   {
    "duration": 454,
    "start_time": "2021-09-04T08:03:48.636Z"
   },
   {
    "duration": 325,
    "start_time": "2021-09-04T08:03:56.424Z"
   },
   {
    "duration": 372,
    "start_time": "2021-09-04T08:04:08.774Z"
   },
   {
    "duration": 395,
    "start_time": "2021-09-04T08:05:32.776Z"
   },
   {
    "duration": 371,
    "start_time": "2021-09-04T08:05:41.297Z"
   },
   {
    "duration": 3,
    "start_time": "2021-09-04T08:07:17.730Z"
   },
   {
    "duration": 15,
    "start_time": "2021-09-04T08:07:28.459Z"
   },
   {
    "duration": 15,
    "start_time": "2021-09-04T08:07:40.246Z"
   },
   {
    "duration": 15,
    "start_time": "2021-09-04T08:08:06.210Z"
   },
   {
    "duration": 4,
    "start_time": "2021-09-04T08:18:58.355Z"
   },
   {
    "duration": 318,
    "start_time": "2021-09-04T08:19:26.411Z"
   },
   {
    "duration": 4,
    "start_time": "2021-09-04T08:19:40.671Z"
   },
   {
    "duration": 10,
    "start_time": "2021-09-04T08:19:41.426Z"
   },
   {
    "duration": 4,
    "start_time": "2021-09-04T08:19:56.624Z"
   },
   {
    "duration": 309,
    "start_time": "2021-09-04T08:19:57.544Z"
   },
   {
    "duration": 3,
    "start_time": "2021-09-04T08:20:21.240Z"
   },
   {
    "duration": 10,
    "start_time": "2021-09-04T08:20:21.920Z"
   },
   {
    "duration": 4,
    "start_time": "2021-09-04T08:21:42.560Z"
   },
   {
    "duration": 419,
    "start_time": "2021-09-04T08:22:15.411Z"
   },
   {
    "duration": 4,
    "start_time": "2021-09-04T08:23:14.869Z"
   },
   {
    "duration": 335,
    "start_time": "2021-09-04T08:23:29.395Z"
   },
   {
    "duration": 12,
    "start_time": "2021-09-04T08:23:56.497Z"
   },
   {
    "duration": 288,
    "start_time": "2021-09-04T08:24:14.730Z"
   },
   {
    "duration": 291,
    "start_time": "2021-09-04T08:24:23.035Z"
   },
   {
    "duration": 10,
    "start_time": "2021-09-04T08:24:47.451Z"
   },
   {
    "duration": 311,
    "start_time": "2021-09-04T08:24:58.508Z"
   },
   {
    "duration": 329,
    "start_time": "2021-09-04T08:25:13.250Z"
   },
   {
    "duration": 14,
    "start_time": "2021-09-04T08:25:33.175Z"
   },
   {
    "duration": 293,
    "start_time": "2021-09-04T08:25:41.034Z"
   },
   {
    "duration": 312,
    "start_time": "2021-09-04T08:25:48.511Z"
   },
   {
    "duration": 9,
    "start_time": "2021-09-04T08:26:19.434Z"
   },
   {
    "duration": 322,
    "start_time": "2021-09-04T08:26:28.196Z"
   },
   {
    "duration": 299,
    "start_time": "2021-09-04T08:26:37.519Z"
   },
   {
    "duration": 14,
    "start_time": "2021-09-04T08:26:43.354Z"
   },
   {
    "duration": 14,
    "start_time": "2021-09-04T08:26:54.845Z"
   },
   {
    "duration": 14,
    "start_time": "2021-09-04T08:26:57.725Z"
   },
   {
    "duration": 238,
    "start_time": "2021-09-04T08:28:38.060Z"
   },
   {
    "duration": 13,
    "start_time": "2021-09-04T08:29:15.344Z"
   },
   {
    "duration": 192,
    "start_time": "2021-09-04T08:29:31.006Z"
   },
   {
    "duration": 204,
    "start_time": "2021-09-04T08:31:13.500Z"
   },
   {
    "duration": 12,
    "start_time": "2021-09-04T08:31:36.520Z"
   },
   {
    "duration": 20,
    "start_time": "2021-09-04T08:31:42.880Z"
   },
   {
    "duration": 18,
    "start_time": "2021-09-04T08:31:55.581Z"
   },
   {
    "duration": 13,
    "start_time": "2021-09-04T08:32:22.942Z"
   },
   {
    "duration": 18,
    "start_time": "2021-09-04T08:32:38.392Z"
   },
   {
    "duration": 15,
    "start_time": "2021-09-04T08:33:15.131Z"
   },
   {
    "duration": 13,
    "start_time": "2021-09-04T08:33:27.505Z"
   },
   {
    "duration": 3,
    "start_time": "2021-09-04T08:38:19.544Z"
   },
   {
    "duration": 7,
    "start_time": "2021-09-04T08:38:30.934Z"
   },
   {
    "duration": 7,
    "start_time": "2021-09-04T08:38:50.428Z"
   },
   {
    "duration": 7,
    "start_time": "2021-09-04T08:39:02.789Z"
   },
   {
    "duration": 3,
    "start_time": "2021-09-04T08:41:47.934Z"
   },
   {
    "duration": 7,
    "start_time": "2021-09-04T08:41:59.586Z"
   },
   {
    "duration": 179,
    "start_time": "2021-09-04T08:43:23.669Z"
   },
   {
    "duration": 3,
    "start_time": "2021-09-04T08:43:32.375Z"
   },
   {
    "duration": 9,
    "start_time": "2021-09-04T08:43:33.254Z"
   },
   {
    "duration": 6,
    "start_time": "2021-09-04T08:43:45.911Z"
   },
   {
    "duration": 8,
    "start_time": "2021-09-04T08:43:58.375Z"
   },
   {
    "duration": 7,
    "start_time": "2021-09-04T08:44:11.048Z"
   },
   {
    "duration": 8,
    "start_time": "2021-09-04T08:44:22.982Z"
   },
   {
    "duration": 10,
    "start_time": "2021-09-04T08:44:35.387Z"
   },
   {
    "duration": 6,
    "start_time": "2021-09-04T08:45:25.509Z"
   },
   {
    "duration": 3,
    "start_time": "2021-09-04T08:45:40.353Z"
   },
   {
    "duration": 8,
    "start_time": "2021-09-04T08:45:51.325Z"
   },
   {
    "duration": 7,
    "start_time": "2021-09-04T08:46:10.267Z"
   },
   {
    "duration": 7,
    "start_time": "2021-09-04T08:46:15.564Z"
   },
   {
    "duration": 9,
    "start_time": "2021-09-04T08:46:25.990Z"
   },
   {
    "duration": 58,
    "start_time": "2021-09-04T09:05:42.084Z"
   },
   {
    "duration": 52,
    "start_time": "2021-09-04T09:05:47.763Z"
   },
   {
    "duration": 62,
    "start_time": "2021-09-04T09:06:23.491Z"
   },
   {
    "duration": 55,
    "start_time": "2021-09-04T09:06:25.880Z"
   },
   {
    "duration": 56,
    "start_time": "2021-09-04T09:06:33.341Z"
   },
   {
    "duration": 1022,
    "start_time": "2021-09-04T09:07:27.109Z"
   },
   {
    "duration": 2,
    "start_time": "2021-09-04T09:07:28.133Z"
   },
   {
    "duration": 41,
    "start_time": "2021-09-04T09:07:28.137Z"
   },
   {
    "duration": 15,
    "start_time": "2021-09-04T09:07:28.180Z"
   },
   {
    "duration": 9,
    "start_time": "2021-09-04T09:07:28.197Z"
   },
   {
    "duration": 2,
    "start_time": "2021-09-04T09:07:28.208Z"
   },
   {
    "duration": 14,
    "start_time": "2021-09-04T09:07:28.212Z"
   },
   {
    "duration": 10,
    "start_time": "2021-09-04T09:07:28.228Z"
   },
   {
    "duration": 4,
    "start_time": "2021-09-04T09:07:28.241Z"
   },
   {
    "duration": 47,
    "start_time": "2021-09-04T09:07:28.247Z"
   },
   {
    "duration": 7,
    "start_time": "2021-09-04T09:07:28.295Z"
   },
   {
    "duration": 9,
    "start_time": "2021-09-04T09:07:28.304Z"
   },
   {
    "duration": 12,
    "start_time": "2021-09-04T09:07:28.315Z"
   },
   {
    "duration": 13,
    "start_time": "2021-09-04T09:07:28.329Z"
   },
   {
    "duration": 11,
    "start_time": "2021-09-04T09:07:28.343Z"
   },
   {
    "duration": 36,
    "start_time": "2021-09-04T09:07:28.355Z"
   },
   {
    "duration": 17,
    "start_time": "2021-09-04T09:07:28.393Z"
   },
   {
    "duration": 6,
    "start_time": "2021-09-04T09:07:28.411Z"
   },
   {
    "duration": 13,
    "start_time": "2021-09-04T09:07:28.419Z"
   },
   {
    "duration": 51,
    "start_time": "2021-09-04T09:07:28.434Z"
   },
   {
    "duration": 249,
    "start_time": "2021-09-04T09:07:28.486Z"
   },
   {
    "duration": 6,
    "start_time": "2021-09-04T09:07:28.737Z"
   },
   {
    "duration": 5,
    "start_time": "2021-09-04T09:07:28.745Z"
   },
   {
    "duration": 6,
    "start_time": "2021-09-04T09:07:28.752Z"
   },
   {
    "duration": 26,
    "start_time": "2021-09-04T09:07:28.760Z"
   },
   {
    "duration": 4,
    "start_time": "2021-09-04T09:07:28.788Z"
   },
   {
    "duration": 202,
    "start_time": "2021-09-04T09:07:28.798Z"
   },
   {
    "duration": 193,
    "start_time": "2021-09-04T09:07:29.003Z"
   },
   {
    "duration": 191,
    "start_time": "2021-09-04T09:07:29.198Z"
   },
   {
    "duration": 193,
    "start_time": "2021-09-04T09:07:29.390Z"
   },
   {
    "duration": 189,
    "start_time": "2021-09-04T09:07:29.585Z"
   },
   {
    "duration": 192,
    "start_time": "2021-09-04T09:07:29.775Z"
   },
   {
    "duration": 232,
    "start_time": "2021-09-04T09:07:29.968Z"
   },
   {
    "duration": 214,
    "start_time": "2021-09-04T09:07:30.202Z"
   },
   {
    "duration": 180,
    "start_time": "2021-09-04T09:07:30.418Z"
   },
   {
    "duration": 232,
    "start_time": "2021-09-04T09:07:30.601Z"
   },
   {
    "duration": 8,
    "start_time": "2021-09-04T09:07:30.835Z"
   },
   {
    "duration": 9,
    "start_time": "2021-09-04T09:07:30.845Z"
   },
   {
    "duration": 5,
    "start_time": "2021-09-04T09:07:30.856Z"
   },
   {
    "duration": 31,
    "start_time": "2021-09-04T09:07:30.863Z"
   },
   {
    "duration": 21,
    "start_time": "2021-09-04T09:07:30.896Z"
   },
   {
    "duration": 368,
    "start_time": "2021-09-04T09:07:30.918Z"
   },
   {
    "duration": 3,
    "start_time": "2021-09-04T09:07:31.288Z"
   },
   {
    "duration": 21,
    "start_time": "2021-09-04T09:07:31.292Z"
   },
   {
    "duration": 14,
    "start_time": "2021-09-04T09:07:31.315Z"
   },
   {
    "duration": 13,
    "start_time": "2021-09-04T09:07:31.330Z"
   },
   {
    "duration": 6,
    "start_time": "2021-09-04T09:07:31.344Z"
   },
   {
    "duration": 7,
    "start_time": "2021-09-04T09:07:31.352Z"
   },
   {
    "duration": 4,
    "start_time": "2021-09-04T09:07:31.384Z"
   },
   {
    "duration": 14,
    "start_time": "2021-09-04T09:07:31.389Z"
   },
   {
    "duration": 299,
    "start_time": "2021-09-04T09:07:31.405Z"
   },
   {
    "duration": 300,
    "start_time": "2021-09-04T09:07:31.705Z"
   },
   {
    "duration": 10,
    "start_time": "2021-09-04T09:07:32.006Z"
   },
   {
    "duration": 279,
    "start_time": "2021-09-04T09:07:32.017Z"
   },
   {
    "duration": 297,
    "start_time": "2021-09-04T09:07:32.298Z"
   },
   {
    "duration": 10,
    "start_time": "2021-09-04T09:07:32.597Z"
   },
   {
    "duration": 303,
    "start_time": "2021-09-04T09:07:32.609Z"
   },
   {
    "duration": 392,
    "start_time": "2021-09-04T09:07:32.914Z"
   },
   {
    "duration": 10,
    "start_time": "2021-09-04T09:07:33.308Z"
   },
   {
    "duration": 296,
    "start_time": "2021-09-04T09:07:33.320Z"
   },
   {
    "duration": 298,
    "start_time": "2021-09-04T09:07:33.618Z"
   },
   {
    "duration": 13,
    "start_time": "2021-09-04T09:07:33.918Z"
   },
   {
    "duration": 15,
    "start_time": "2021-09-04T09:07:33.932Z"
   },
   {
    "duration": 12,
    "start_time": "2021-09-04T09:07:33.949Z"
   },
   {
    "duration": 32,
    "start_time": "2021-09-04T09:07:33.963Z"
   },
   {
    "duration": 12,
    "start_time": "2021-09-04T09:07:33.996Z"
   },
   {
    "duration": 2,
    "start_time": "2021-09-04T09:07:34.010Z"
   },
   {
    "duration": 8,
    "start_time": "2021-09-04T09:07:34.014Z"
   },
   {
    "duration": 6,
    "start_time": "2021-09-04T09:07:34.024Z"
   },
   {
    "duration": 6,
    "start_time": "2021-09-04T09:07:34.032Z"
   },
   {
    "duration": 6,
    "start_time": "2021-09-04T09:07:34.039Z"
   },
   {
    "duration": 41,
    "start_time": "2021-09-04T09:07:34.047Z"
   },
   {
    "duration": 8,
    "start_time": "2021-09-04T09:07:34.090Z"
   },
   {
    "duration": 3,
    "start_time": "2021-09-04T09:07:34.099Z"
   },
   {
    "duration": 13,
    "start_time": "2021-09-04T09:07:34.104Z"
   },
   {
    "duration": 8,
    "start_time": "2021-09-04T09:07:34.118Z"
   },
   {
    "duration": 6,
    "start_time": "2021-09-04T09:07:34.128Z"
   },
   {
    "duration": 7,
    "start_time": "2021-09-04T09:07:34.135Z"
   },
   {
    "duration": 5,
    "start_time": "2021-09-04T09:07:34.144Z"
   },
   {
    "duration": 34,
    "start_time": "2021-09-04T09:07:34.150Z"
   },
   {
    "duration": 9,
    "start_time": "2021-09-04T09:07:34.189Z"
   },
   {
    "duration": 5,
    "start_time": "2021-09-04T09:07:34.199Z"
   },
   {
    "duration": 9,
    "start_time": "2021-09-04T09:07:34.206Z"
   }
  ],
  "kernelspec": {
   "display_name": "Python 3",
   "language": "python",
   "name": "python3"
  },
  "language_info": {
   "codemirror_mode": {
    "name": "ipython",
    "version": 3
   },
   "file_extension": ".py",
   "mimetype": "text/x-python",
   "name": "python",
   "nbconvert_exporter": "python",
   "pygments_lexer": "ipython3",
   "version": "3.8.5"
  },
  "toc": {
   "base_numbering": 1,
   "nav_menu": {},
   "number_sections": true,
   "sideBar": true,
   "skip_h1_title": true,
   "title_cell": "Table of Contents",
   "title_sidebar": "Contents",
   "toc_cell": false,
   "toc_position": {
    "height": "calc(100% - 180px)",
    "left": "10px",
    "top": "150px",
    "width": "215px"
   },
   "toc_section_display": true,
   "toc_window_display": true
  }
 },
 "nbformat": 4,
 "nbformat_minor": 2
}
