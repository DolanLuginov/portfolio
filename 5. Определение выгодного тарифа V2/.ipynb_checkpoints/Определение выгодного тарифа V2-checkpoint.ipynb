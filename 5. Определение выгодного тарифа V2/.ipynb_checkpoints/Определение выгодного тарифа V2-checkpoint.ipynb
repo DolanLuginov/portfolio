{
 "cells": [
  {
   "cell_type": "markdown",
   "metadata": {},
   "source": [
    "# Рекомендация тарифов"
   ]
  },
  {
   "cell_type": "markdown",
   "metadata": {},
   "source": [
    "Оператор мобильной связи выяснил: многие клиенты пользуются архивными тарифами. Они хотят построить систему, способную проанализировать поведение клиентов и предложить пользователям новый тариф: «Смарт» или «Ультра».  \n",
    "В нашем распоряжении данные о поведении клиентов, которые уже перешли на тарифы. Нужно построить модель для задачи классификации, которая выберет подходящий тариф. Предобработка данных не понадобится (я ее уже делал в этом проекте \"Определение выгодного тарифа V1\"\n",
    ")."
   ]
  },
  {
   "cell_type": "markdown",
   "metadata": {},
   "source": [
    "# Загрузка и знакомство с данными"
   ]
  },
  {
   "cell_type": "markdown",
   "metadata": {},
   "source": [
    "Описание полей\n",
    "\n",
    "- сalls — количество звонков  \n",
    "- minutes — суммарная длительность звонков в минутах  \n",
    "- messages — количество sms-сообщений  \n",
    "- mb_used — израсходованный интернет-трафик в Мб  \n",
    "- is_ultra — каким тарифом пользовался в течение месяца («Ультра» — 1, «Смарт» — 0)"
   ]
  },
  {
   "cell_type": "code",
   "execution_count": 1,
   "metadata": {},
   "outputs": [],
   "source": [
    "import pandas as pd\n",
    "import numpy as np\n",
    "import seaborn as sns\n",
    "import matplotlib.pyplot as plt\n",
    "from sklearn.preprocessing import MinMaxScaler\n",
    "from sklearn.model_selection import cross_val_score\n",
    "from sklearn.model_selection import train_test_split, StratifiedKFold, GridSearchCV\n",
    "from sklearn.linear_model import LogisticRegression\n",
    "from sklearn.ensemble import RandomForestClassifier\n",
    "from lightgbm import LGBMClassifier\n",
    "from sklearn.metrics import precision_score, recall_score, auc, accuracy_score, roc_auc_score, f1_score,\\\n",
    "classification_report, roc_curve\n",
    "\n",
    "import warnings\n",
    "warnings.filterwarnings('ignore')\n",
    "\n",
    "RAND = 10"
   ]
  },
  {
   "cell_type": "code",
   "execution_count": 2,
   "metadata": {},
   "outputs": [],
   "source": [
    "df = pd.read_csv('users_behavior.csv')"
   ]
  },
  {
   "cell_type": "code",
   "execution_count": 3,
   "metadata": {},
   "outputs": [
    {
     "name": "stdout",
     "output_type": "stream",
     "text": [
      "<class 'pandas.core.frame.DataFrame'>\n",
      "RangeIndex: 3214 entries, 0 to 3213\n",
      "Data columns (total 5 columns):\n",
      " #   Column    Non-Null Count  Dtype  \n",
      "---  ------    --------------  -----  \n",
      " 0   calls     3214 non-null   float64\n",
      " 1   minutes   3214 non-null   float64\n",
      " 2   messages  3214 non-null   float64\n",
      " 3   mb_used   3214 non-null   float64\n",
      " 4   is_ultra  3214 non-null   int64  \n",
      "dtypes: float64(4), int64(1)\n",
      "memory usage: 125.7 KB\n"
     ]
    }
   ],
   "source": [
    "df.info()"
   ]
  },
  {
   "cell_type": "code",
   "execution_count": 4,
   "metadata": {
    "scrolled": false
   },
   "outputs": [
    {
     "data": {
      "text/html": [
       "<div>\n",
       "<style scoped>\n",
       "    .dataframe tbody tr th:only-of-type {\n",
       "        vertical-align: middle;\n",
       "    }\n",
       "\n",
       "    .dataframe tbody tr th {\n",
       "        vertical-align: top;\n",
       "    }\n",
       "\n",
       "    .dataframe thead th {\n",
       "        text-align: right;\n",
       "    }\n",
       "</style>\n",
       "<table border=\"1\" class=\"dataframe\">\n",
       "  <thead>\n",
       "    <tr style=\"text-align: right;\">\n",
       "      <th></th>\n",
       "      <th>calls</th>\n",
       "      <th>minutes</th>\n",
       "      <th>messages</th>\n",
       "      <th>mb_used</th>\n",
       "      <th>is_ultra</th>\n",
       "    </tr>\n",
       "  </thead>\n",
       "  <tbody>\n",
       "    <tr>\n",
       "      <th>0</th>\n",
       "      <td>40.0</td>\n",
       "      <td>311.90</td>\n",
       "      <td>83.0</td>\n",
       "      <td>19915.42</td>\n",
       "      <td>0</td>\n",
       "    </tr>\n",
       "    <tr>\n",
       "      <th>1</th>\n",
       "      <td>85.0</td>\n",
       "      <td>516.75</td>\n",
       "      <td>56.0</td>\n",
       "      <td>22696.96</td>\n",
       "      <td>0</td>\n",
       "    </tr>\n",
       "    <tr>\n",
       "      <th>2</th>\n",
       "      <td>77.0</td>\n",
       "      <td>467.66</td>\n",
       "      <td>86.0</td>\n",
       "      <td>21060.45</td>\n",
       "      <td>0</td>\n",
       "    </tr>\n",
       "    <tr>\n",
       "      <th>3</th>\n",
       "      <td>106.0</td>\n",
       "      <td>745.53</td>\n",
       "      <td>81.0</td>\n",
       "      <td>8437.39</td>\n",
       "      <td>1</td>\n",
       "    </tr>\n",
       "    <tr>\n",
       "      <th>4</th>\n",
       "      <td>66.0</td>\n",
       "      <td>418.74</td>\n",
       "      <td>1.0</td>\n",
       "      <td>14502.75</td>\n",
       "      <td>0</td>\n",
       "    </tr>\n",
       "  </tbody>\n",
       "</table>\n",
       "</div>"
      ],
      "text/plain": [
       "   calls  minutes  messages   mb_used  is_ultra\n",
       "0   40.0   311.90      83.0  19915.42         0\n",
       "1   85.0   516.75      56.0  22696.96         0\n",
       "2   77.0   467.66      86.0  21060.45         0\n",
       "3  106.0   745.53      81.0   8437.39         1\n",
       "4   66.0   418.74       1.0  14502.75         0"
      ]
     },
     "execution_count": 4,
     "metadata": {},
     "output_type": "execute_result"
    }
   ],
   "source": [
    "df.head()"
   ]
  },
  {
   "cell_type": "markdown",
   "metadata": {},
   "source": [
    "Четыре количественных признака и номинативный целевой признак"
   ]
  },
  {
   "cell_type": "code",
   "execution_count": 5,
   "metadata": {},
   "outputs": [
    {
     "data": {
      "text/plain": [
       "0    0.693528\n",
       "1    0.306472\n",
       "Name: is_ultra, dtype: float64"
      ]
     },
     "execution_count": 5,
     "metadata": {},
     "output_type": "execute_result"
    }
   ],
   "source": [
    "df['is_ultra'].value_counts(normalize=True)"
   ]
  },
  {
   "cell_type": "markdown",
   "metadata": {},
   "source": [
    "Дисбаланс в соотношении классов в выборке. Тарифом Смарт пользуются 70% пользователей. Это стоит учесть при построении моделей"
   ]
  },
  {
   "cell_type": "code",
   "execution_count": 6,
   "metadata": {},
   "outputs": [
    {
     "data": {
      "text/html": [
       "<div>\n",
       "<style scoped>\n",
       "    .dataframe tbody tr th:only-of-type {\n",
       "        vertical-align: middle;\n",
       "    }\n",
       "\n",
       "    .dataframe tbody tr th {\n",
       "        vertical-align: top;\n",
       "    }\n",
       "\n",
       "    .dataframe thead th {\n",
       "        text-align: right;\n",
       "    }\n",
       "</style>\n",
       "<table border=\"1\" class=\"dataframe\">\n",
       "  <thead>\n",
       "    <tr style=\"text-align: right;\">\n",
       "      <th></th>\n",
       "      <th>calls</th>\n",
       "      <th>minutes</th>\n",
       "      <th>messages</th>\n",
       "      <th>mb_used</th>\n",
       "      <th>is_ultra</th>\n",
       "    </tr>\n",
       "  </thead>\n",
       "  <tbody>\n",
       "    <tr>\n",
       "      <th>calls</th>\n",
       "      <td>1.000000</td>\n",
       "      <td>0.982083</td>\n",
       "      <td>0.177385</td>\n",
       "      <td>0.286442</td>\n",
       "      <td>0.207122</td>\n",
       "    </tr>\n",
       "    <tr>\n",
       "      <th>minutes</th>\n",
       "      <td>0.982083</td>\n",
       "      <td>1.000000</td>\n",
       "      <td>0.173110</td>\n",
       "      <td>0.280967</td>\n",
       "      <td>0.206955</td>\n",
       "    </tr>\n",
       "    <tr>\n",
       "      <th>messages</th>\n",
       "      <td>0.177385</td>\n",
       "      <td>0.173110</td>\n",
       "      <td>1.000000</td>\n",
       "      <td>0.195721</td>\n",
       "      <td>0.203830</td>\n",
       "    </tr>\n",
       "    <tr>\n",
       "      <th>mb_used</th>\n",
       "      <td>0.286442</td>\n",
       "      <td>0.280967</td>\n",
       "      <td>0.195721</td>\n",
       "      <td>1.000000</td>\n",
       "      <td>0.198568</td>\n",
       "    </tr>\n",
       "    <tr>\n",
       "      <th>is_ultra</th>\n",
       "      <td>0.207122</td>\n",
       "      <td>0.206955</td>\n",
       "      <td>0.203830</td>\n",
       "      <td>0.198568</td>\n",
       "      <td>1.000000</td>\n",
       "    </tr>\n",
       "  </tbody>\n",
       "</table>\n",
       "</div>"
      ],
      "text/plain": [
       "             calls   minutes  messages   mb_used  is_ultra\n",
       "calls     1.000000  0.982083  0.177385  0.286442  0.207122\n",
       "minutes   0.982083  1.000000  0.173110  0.280967  0.206955\n",
       "messages  0.177385  0.173110  1.000000  0.195721  0.203830\n",
       "mb_used   0.286442  0.280967  0.195721  1.000000  0.198568\n",
       "is_ultra  0.207122  0.206955  0.203830  0.198568  1.000000"
      ]
     },
     "execution_count": 6,
     "metadata": {},
     "output_type": "execute_result"
    }
   ],
   "source": [
    "df.corr()"
   ]
  },
  {
   "cell_type": "markdown",
   "metadata": {},
   "source": [
    "Присутствует сильная корреляция между calls и minutes. В обучении модели эти признаки будут доминировать, поэтому стоит удалить один из признаков "
   ]
  },
  {
   "cell_type": "code",
   "execution_count": 7,
   "metadata": {},
   "outputs": [],
   "source": [
    "df = df.drop('calls', axis=1)"
   ]
  },
  {
   "cell_type": "code",
   "execution_count": 8,
   "metadata": {},
   "outputs": [
    {
     "data": {
      "text/html": [
       "<div>\n",
       "<style scoped>\n",
       "    .dataframe tbody tr th:only-of-type {\n",
       "        vertical-align: middle;\n",
       "    }\n",
       "\n",
       "    .dataframe tbody tr th {\n",
       "        vertical-align: top;\n",
       "    }\n",
       "\n",
       "    .dataframe thead th {\n",
       "        text-align: right;\n",
       "    }\n",
       "</style>\n",
       "<table border=\"1\" class=\"dataframe\">\n",
       "  <thead>\n",
       "    <tr style=\"text-align: right;\">\n",
       "      <th></th>\n",
       "      <th>minutes</th>\n",
       "      <th>messages</th>\n",
       "      <th>mb_used</th>\n",
       "      <th>is_ultra</th>\n",
       "    </tr>\n",
       "  </thead>\n",
       "  <tbody>\n",
       "    <tr>\n",
       "      <th>0</th>\n",
       "      <td>311.90</td>\n",
       "      <td>83.0</td>\n",
       "      <td>19915.42</td>\n",
       "      <td>0</td>\n",
       "    </tr>\n",
       "    <tr>\n",
       "      <th>1</th>\n",
       "      <td>516.75</td>\n",
       "      <td>56.0</td>\n",
       "      <td>22696.96</td>\n",
       "      <td>0</td>\n",
       "    </tr>\n",
       "    <tr>\n",
       "      <th>2</th>\n",
       "      <td>467.66</td>\n",
       "      <td>86.0</td>\n",
       "      <td>21060.45</td>\n",
       "      <td>0</td>\n",
       "    </tr>\n",
       "    <tr>\n",
       "      <th>3</th>\n",
       "      <td>745.53</td>\n",
       "      <td>81.0</td>\n",
       "      <td>8437.39</td>\n",
       "      <td>1</td>\n",
       "    </tr>\n",
       "    <tr>\n",
       "      <th>4</th>\n",
       "      <td>418.74</td>\n",
       "      <td>1.0</td>\n",
       "      <td>14502.75</td>\n",
       "      <td>0</td>\n",
       "    </tr>\n",
       "  </tbody>\n",
       "</table>\n",
       "</div>"
      ],
      "text/plain": [
       "   minutes  messages   mb_used  is_ultra\n",
       "0   311.90      83.0  19915.42         0\n",
       "1   516.75      56.0  22696.96         0\n",
       "2   467.66      86.0  21060.45         0\n",
       "3   745.53      81.0   8437.39         1\n",
       "4   418.74       1.0  14502.75         0"
      ]
     },
     "execution_count": 8,
     "metadata": {},
     "output_type": "execute_result"
    }
   ],
   "source": [
    "df.head()"
   ]
  },
  {
   "cell_type": "markdown",
   "metadata": {},
   "source": [
    "# Разбиение данных на выборки"
   ]
  },
  {
   "cell_type": "markdown",
   "metadata": {},
   "source": [
    "Поделим наш датасет на тренировочный и тестовый выборки в соотношении 2:8"
   ]
  },
  {
   "cell_type": "code",
   "execution_count": 9,
   "metadata": {},
   "outputs": [],
   "source": [
    "X = df.drop(['is_ultra'], axis=1)\n",
    "y = df['is_ultra']"
   ]
  },
  {
   "cell_type": "code",
   "execution_count": 10,
   "metadata": {},
   "outputs": [],
   "source": [
    "X_train, X_test, y_train, y_test = train_test_split(X, y, test_size=0.2, random_state=RAND, shuffle=True, stratify=y)"
   ]
  },
  {
   "cell_type": "code",
   "execution_count": 11,
   "metadata": {
    "scrolled": false
   },
   "outputs": [
    {
     "data": {
      "text/plain": [
       "((2571, 3), (2571,))"
      ]
     },
     "execution_count": 11,
     "metadata": {},
     "output_type": "execute_result"
    }
   ],
   "source": [
    "X_train.shape, y_train.shape"
   ]
  },
  {
   "cell_type": "code",
   "execution_count": 12,
   "metadata": {},
   "outputs": [
    {
     "data": {
      "text/plain": [
       "((643, 3), (643,))"
      ]
     },
     "execution_count": 12,
     "metadata": {},
     "output_type": "execute_result"
    }
   ],
   "source": [
    "X_test.shape, y_test.shape"
   ]
  },
  {
   "cell_type": "markdown",
   "metadata": {},
   "source": [
    "# Масштабирование признаков"
   ]
  },
  {
   "cell_type": "markdown",
   "metadata": {},
   "source": [
    "Мы будем использовать линейную модель, поэтому стоит масштабировать данные"
   ]
  },
  {
   "cell_type": "code",
   "execution_count": 13,
   "metadata": {},
   "outputs": [],
   "source": [
    "scaler = MinMaxScaler()\n",
    "scaler.fit(X_train)\n",
    "X_train = pd.DataFrame(scaler.transform(X_train), index=X_train.index, columns=X_train.columns)\n",
    "X_test = pd.DataFrame(scaler.transform(X_test), index=X_test.index, columns=X_test.columns)"
   ]
  },
  {
   "cell_type": "markdown",
   "metadata": {},
   "source": [
    "# Моделирование"
   ]
  },
  {
   "cell_type": "code",
   "execution_count": 14,
   "metadata": {},
   "outputs": [],
   "source": [
    "metrics = pd.DataFrame(\n",
    "    index=['accuracy', 'roc-auc', 'precision', 'recall', 'f1'])"
   ]
  },
  {
   "cell_type": "markdown",
   "metadata": {},
   "source": [
    "## Baseline"
   ]
  },
  {
   "cell_type": "markdown",
   "metadata": {},
   "source": [
    "### Logistic Regression"
   ]
  },
  {
   "cell_type": "code",
   "execution_count": 15,
   "metadata": {},
   "outputs": [],
   "source": [
    "model = LogisticRegression(class_weight='balanced', random_state=RAND)\n",
    "model.fit(X_train, y_train)\n",
    "\n",
    "y_pred = model.predict(X_test)\n",
    "y_score = model.predict_proba(X_test)[:,1]"
   ]
  },
  {
   "cell_type": "code",
   "execution_count": 16,
   "metadata": {},
   "outputs": [
    {
     "name": "stdout",
     "output_type": "stream",
     "text": [
      "accuracy: 0.5863141524105754\n",
      "roc-auc: 0.6401516013748834\n",
      "precision: 0.3853820598006645\n",
      "recall: 0.5888324873096447\n",
      "f1: 0.465863453815261\n"
     ]
    }
   ],
   "source": [
    "print('accuracy:', accuracy_score(y_test, y_pred))\n",
    "print('roc-auc:', roc_auc_score(y_test, y_score))\n",
    "print('precision:', precision_score(y_test, y_pred))\n",
    "print('recall:', recall_score(y_test, y_pred))\n",
    "print('f1:', f1_score(y_test, y_pred))"
   ]
  },
  {
   "cell_type": "markdown",
   "metadata": {},
   "source": [
    "Если оператору выгоднее пресказать лучше больше клиентов с тарифом Ультра, чтобы избежать большие потери, то лучше ориентироваться на метрику recall, если будем сравнивать в baseline и другими алгоритмами, иначе precision."
   ]
  },
  {
   "cell_type": "code",
   "execution_count": 17,
   "metadata": {},
   "outputs": [],
   "source": [
    "metrics['Baseline_LR'] = [accuracy_score(y_test, y_pred),\n",
    "                          roc_auc_score(y_test, y_score),\n",
    "                          precision_score(y_test, y_pred),\n",
    "                          recall_score(y_test, y_pred),\n",
    "                          f1_score(y_test, y_pred)]"
   ]
  },
  {
   "cell_type": "code",
   "execution_count": 18,
   "metadata": {},
   "outputs": [
    {
     "data": {
      "text/html": [
       "<div>\n",
       "<style scoped>\n",
       "    .dataframe tbody tr th:only-of-type {\n",
       "        vertical-align: middle;\n",
       "    }\n",
       "\n",
       "    .dataframe tbody tr th {\n",
       "        vertical-align: top;\n",
       "    }\n",
       "\n",
       "    .dataframe thead th {\n",
       "        text-align: right;\n",
       "    }\n",
       "</style>\n",
       "<table border=\"1\" class=\"dataframe\">\n",
       "  <thead>\n",
       "    <tr style=\"text-align: right;\">\n",
       "      <th></th>\n",
       "      <th>Baseline_LR</th>\n",
       "    </tr>\n",
       "  </thead>\n",
       "  <tbody>\n",
       "    <tr>\n",
       "      <th>accuracy</th>\n",
       "      <td>0.586314</td>\n",
       "    </tr>\n",
       "    <tr>\n",
       "      <th>roc-auc</th>\n",
       "      <td>0.640152</td>\n",
       "    </tr>\n",
       "    <tr>\n",
       "      <th>precision</th>\n",
       "      <td>0.385382</td>\n",
       "    </tr>\n",
       "    <tr>\n",
       "      <th>recall</th>\n",
       "      <td>0.588832</td>\n",
       "    </tr>\n",
       "    <tr>\n",
       "      <th>f1</th>\n",
       "      <td>0.465863</td>\n",
       "    </tr>\n",
       "  </tbody>\n",
       "</table>\n",
       "</div>"
      ],
      "text/plain": [
       "           Baseline_LR\n",
       "accuracy      0.586314\n",
       "roc-auc       0.640152\n",
       "precision     0.385382\n",
       "recall        0.588832\n",
       "f1            0.465863"
      ]
     },
     "execution_count": 18,
     "metadata": {},
     "output_type": "execute_result"
    }
   ],
   "source": [
    "metrics"
   ]
  },
  {
   "cell_type": "markdown",
   "metadata": {},
   "source": [
    "### Random Forest Classifier"
   ]
  },
  {
   "cell_type": "code",
   "execution_count": 19,
   "metadata": {},
   "outputs": [],
   "source": [
    "model = RandomForestClassifier(class_weight = 'balanced', random_state=RAND)\n",
    "model.fit(X_train, y_train)\n",
    "\n",
    "y_pred = model.predict(X_test)\n",
    "y_score = model.predict_proba(X_test)[:,1]"
   ]
  },
  {
   "cell_type": "code",
   "execution_count": 20,
   "metadata": {},
   "outputs": [
    {
     "data": {
      "text/html": [
       "<div>\n",
       "<style scoped>\n",
       "    .dataframe tbody tr th:only-of-type {\n",
       "        vertical-align: middle;\n",
       "    }\n",
       "\n",
       "    .dataframe tbody tr th {\n",
       "        vertical-align: top;\n",
       "    }\n",
       "\n",
       "    .dataframe thead th {\n",
       "        text-align: right;\n",
       "    }\n",
       "</style>\n",
       "<table border=\"1\" class=\"dataframe\">\n",
       "  <thead>\n",
       "    <tr style=\"text-align: right;\">\n",
       "      <th></th>\n",
       "      <th>Baseline_LR</th>\n",
       "      <th>Baseline_RFC</th>\n",
       "    </tr>\n",
       "  </thead>\n",
       "  <tbody>\n",
       "    <tr>\n",
       "      <th>accuracy</th>\n",
       "      <td>0.586314</td>\n",
       "      <td>0.783826</td>\n",
       "    </tr>\n",
       "    <tr>\n",
       "      <th>roc-auc</th>\n",
       "      <td>0.640152</td>\n",
       "      <td>0.778192</td>\n",
       "    </tr>\n",
       "    <tr>\n",
       "      <th>precision</th>\n",
       "      <td>0.385382</td>\n",
       "      <td>0.701389</td>\n",
       "    </tr>\n",
       "    <tr>\n",
       "      <th>recall</th>\n",
       "      <td>0.588832</td>\n",
       "      <td>0.512690</td>\n",
       "    </tr>\n",
       "    <tr>\n",
       "      <th>f1</th>\n",
       "      <td>0.465863</td>\n",
       "      <td>0.592375</td>\n",
       "    </tr>\n",
       "  </tbody>\n",
       "</table>\n",
       "</div>"
      ],
      "text/plain": [
       "           Baseline_LR  Baseline_RFC\n",
       "accuracy      0.586314      0.783826\n",
       "roc-auc       0.640152      0.778192\n",
       "precision     0.385382      0.701389\n",
       "recall        0.588832      0.512690\n",
       "f1            0.465863      0.592375"
      ]
     },
     "execution_count": 20,
     "metadata": {},
     "output_type": "execute_result"
    }
   ],
   "source": [
    "metrics['Baseline_RFC'] = [accuracy_score(y_test, y_pred),\n",
    "                          roc_auc_score(y_test, y_score),\n",
    "                          precision_score(y_test, y_pred),\n",
    "                          recall_score(y_test, y_pred),\n",
    "                          f1_score(y_test, y_pred)]\n",
    "metrics"
   ]
  },
  {
   "cell_type": "markdown",
   "metadata": {},
   "source": [
    "### LightGBM"
   ]
  },
  {
   "cell_type": "code",
   "execution_count": 21,
   "metadata": {},
   "outputs": [],
   "source": [
    "model = LGBMClassifier(class_weight = 'balanced', random_state=RAND)\n",
    "model.fit(X_train, y_train)\n",
    "\n",
    "y_pred = model.predict(X_test)\n",
    "y_score = model.predict_proba(X_test)[:,1]"
   ]
  },
  {
   "cell_type": "code",
   "execution_count": 22,
   "metadata": {},
   "outputs": [
    {
     "data": {
      "text/html": [
       "<div>\n",
       "<style scoped>\n",
       "    .dataframe tbody tr th:only-of-type {\n",
       "        vertical-align: middle;\n",
       "    }\n",
       "\n",
       "    .dataframe tbody tr th {\n",
       "        vertical-align: top;\n",
       "    }\n",
       "\n",
       "    .dataframe thead th {\n",
       "        text-align: right;\n",
       "    }\n",
       "</style>\n",
       "<table border=\"1\" class=\"dataframe\">\n",
       "  <thead>\n",
       "    <tr style=\"text-align: right;\">\n",
       "      <th></th>\n",
       "      <th>Baseline_LR</th>\n",
       "      <th>Baseline_RFC</th>\n",
       "      <th>Baseline_LGBM</th>\n",
       "    </tr>\n",
       "  </thead>\n",
       "  <tbody>\n",
       "    <tr>\n",
       "      <th>accuracy</th>\n",
       "      <td>0.586314</td>\n",
       "      <td>0.783826</td>\n",
       "      <td>0.752722</td>\n",
       "    </tr>\n",
       "    <tr>\n",
       "      <th>roc-auc</th>\n",
       "      <td>0.640152</td>\n",
       "      <td>0.778192</td>\n",
       "      <td>0.784719</td>\n",
       "    </tr>\n",
       "    <tr>\n",
       "      <th>precision</th>\n",
       "      <td>0.385382</td>\n",
       "      <td>0.701389</td>\n",
       "      <td>0.596939</td>\n",
       "    </tr>\n",
       "    <tr>\n",
       "      <th>recall</th>\n",
       "      <td>0.588832</td>\n",
       "      <td>0.512690</td>\n",
       "      <td>0.593909</td>\n",
       "    </tr>\n",
       "    <tr>\n",
       "      <th>f1</th>\n",
       "      <td>0.465863</td>\n",
       "      <td>0.592375</td>\n",
       "      <td>0.595420</td>\n",
       "    </tr>\n",
       "  </tbody>\n",
       "</table>\n",
       "</div>"
      ],
      "text/plain": [
       "           Baseline_LR  Baseline_RFC  Baseline_LGBM\n",
       "accuracy      0.586314      0.783826       0.752722\n",
       "roc-auc       0.640152      0.778192       0.784719\n",
       "precision     0.385382      0.701389       0.596939\n",
       "recall        0.588832      0.512690       0.593909\n",
       "f1            0.465863      0.592375       0.595420"
      ]
     },
     "execution_count": 22,
     "metadata": {},
     "output_type": "execute_result"
    }
   ],
   "source": [
    "metrics['Baseline_LGBM'] = [accuracy_score(y_test, y_pred),\n",
    "                          roc_auc_score(y_test, y_score),\n",
    "                          precision_score(y_test, y_pred),\n",
    "                          recall_score(y_test, y_pred),\n",
    "                          f1_score(y_test, y_pred)]\n",
    "metrics"
   ]
  },
  {
   "cell_type": "markdown",
   "metadata": {},
   "source": [
    "## Подбор гиперпараметров"
   ]
  },
  {
   "cell_type": "markdown",
   "metadata": {},
   "source": [
    "### Logistic Regression"
   ]
  },
  {
   "cell_type": "code",
   "execution_count": 23,
   "metadata": {},
   "outputs": [],
   "source": [
    "parameters_grid = {\n",
    "    'penalty': ['l1', 'l2', 'elasticnet'],\n",
    "    'C': np.linspace(1, 1000, num=5),\n",
    "    'solver': ['sag', 'saga', 'lbfgs'],\n",
    "    'l1_ratio': [0.25, 0.5, 0.75],\n",
    "    'max_iter': np.arange(100, 500, 100)\n",
    "}\n",
    "\n",
    "model = LogisticRegression(class_weight='balanced', random_state=RAND)\n",
    "cv = StratifiedKFold(n_splits=3, shuffle=True)\n",
    "grid_cv = GridSearchCV(model, parameters_grid, scoring='f1', cv=cv, verbose=100)"
   ]
  },
  {
   "cell_type": "code",
   "execution_count": 24,
   "metadata": {
    "scrolled": true
   },
   "outputs": [],
   "source": [
    "# grid_cv.fit(X_train, y_train)"
   ]
  },
  {
   "cell_type": "code",
   "execution_count": 25,
   "metadata": {},
   "outputs": [],
   "source": [
    "# grid_cv.best_params_\n",
    "\n",
    "# {'C': 1.0, 'l1_ratio': 0.25, 'max_iter': 100, 'penalty': 'l2', 'solver': 'sag'}"
   ]
  },
  {
   "cell_type": "code",
   "execution_count": 26,
   "metadata": {},
   "outputs": [],
   "source": [
    "best_params = {'C': 1.0, \n",
    "               'l1_ratio': 0.5,\n",
    "               'max_iter': 100, \n",
    "               'penalty': 'elasticnet', \n",
    "               'solver': 'saga'}"
   ]
  },
  {
   "cell_type": "code",
   "execution_count": 27,
   "metadata": {},
   "outputs": [],
   "source": [
    "model = LogisticRegression(**best_params, class_weight='balanced', random_state=RAND)\n",
    "model.fit(X_train, y_train)\n",
    "\n",
    "y_pred = model.predict(X_test)\n",
    "y_score = model.predict_proba(X_test)[:,1]"
   ]
  },
  {
   "cell_type": "code",
   "execution_count": 28,
   "metadata": {},
   "outputs": [
    {
     "data": {
      "text/html": [
       "<div>\n",
       "<style scoped>\n",
       "    .dataframe tbody tr th:only-of-type {\n",
       "        vertical-align: middle;\n",
       "    }\n",
       "\n",
       "    .dataframe tbody tr th {\n",
       "        vertical-align: top;\n",
       "    }\n",
       "\n",
       "    .dataframe thead th {\n",
       "        text-align: right;\n",
       "    }\n",
       "</style>\n",
       "<table border=\"1\" class=\"dataframe\">\n",
       "  <thead>\n",
       "    <tr style=\"text-align: right;\">\n",
       "      <th></th>\n",
       "      <th>Baseline_LR</th>\n",
       "      <th>Baseline_RFC</th>\n",
       "      <th>Baseline_LGBM</th>\n",
       "      <th>Grid_LR</th>\n",
       "    </tr>\n",
       "  </thead>\n",
       "  <tbody>\n",
       "    <tr>\n",
       "      <th>accuracy</th>\n",
       "      <td>0.586314</td>\n",
       "      <td>0.783826</td>\n",
       "      <td>0.752722</td>\n",
       "      <td>0.587869</td>\n",
       "    </tr>\n",
       "    <tr>\n",
       "      <th>roc-auc</th>\n",
       "      <td>0.640152</td>\n",
       "      <td>0.778192</td>\n",
       "      <td>0.784719</td>\n",
       "      <td>0.640163</td>\n",
       "    </tr>\n",
       "    <tr>\n",
       "      <th>precision</th>\n",
       "      <td>0.385382</td>\n",
       "      <td>0.701389</td>\n",
       "      <td>0.596939</td>\n",
       "      <td>0.387417</td>\n",
       "    </tr>\n",
       "    <tr>\n",
       "      <th>recall</th>\n",
       "      <td>0.588832</td>\n",
       "      <td>0.512690</td>\n",
       "      <td>0.593909</td>\n",
       "      <td>0.593909</td>\n",
       "    </tr>\n",
       "    <tr>\n",
       "      <th>f1</th>\n",
       "      <td>0.465863</td>\n",
       "      <td>0.592375</td>\n",
       "      <td>0.595420</td>\n",
       "      <td>0.468938</td>\n",
       "    </tr>\n",
       "  </tbody>\n",
       "</table>\n",
       "</div>"
      ],
      "text/plain": [
       "           Baseline_LR  Baseline_RFC  Baseline_LGBM   Grid_LR\n",
       "accuracy      0.586314      0.783826       0.752722  0.587869\n",
       "roc-auc       0.640152      0.778192       0.784719  0.640163\n",
       "precision     0.385382      0.701389       0.596939  0.387417\n",
       "recall        0.588832      0.512690       0.593909  0.593909\n",
       "f1            0.465863      0.592375       0.595420  0.468938"
      ]
     },
     "execution_count": 28,
     "metadata": {},
     "output_type": "execute_result"
    }
   ],
   "source": [
    "metrics['Grid_LR'] = [accuracy_score(y_test, y_pred),\n",
    "                      roc_auc_score(y_test, y_score),\n",
    "                      precision_score(y_test, y_pred),\n",
    "                      recall_score(y_test, y_pred),\n",
    "                      f1_score(y_test, y_pred)]\n",
    "metrics"
   ]
  },
  {
   "cell_type": "markdown",
   "metadata": {},
   "source": [
    "Метрики почти не изменились"
   ]
  },
  {
   "cell_type": "markdown",
   "metadata": {},
   "source": [
    "### Random Forest Classifier"
   ]
  },
  {
   "cell_type": "code",
   "execution_count": 29,
   "metadata": {},
   "outputs": [],
   "source": [
    "parameters_grid = {\n",
    "    'max_depth': [5, 8, 15],\n",
    "    'min_samples_split': [2, 5, 10],\n",
    "    'min_samples_leaf': [1, 2, 5]\n",
    "}\n",
    "\n",
    "model = RandomForestClassifier(class_weight='balanced', random_state=RAND)\n",
    "cv = StratifiedKFold(n_splits=3, shuffle=True)\n",
    "grid_cv = GridSearchCV(model, parameters_grid, scoring='f1', cv=cv, verbose=100)"
   ]
  },
  {
   "cell_type": "code",
   "execution_count": 30,
   "metadata": {
    "scrolled": true
   },
   "outputs": [],
   "source": [
    "# grid_cv.fit(X_train, y_train)"
   ]
  },
  {
   "cell_type": "code",
   "execution_count": 31,
   "metadata": {},
   "outputs": [],
   "source": [
    "# grid_cv.best_params_\n",
    "\n",
    "# {'max_depth': 8, 'min_samples_leaf': 1, 'min_samples_split': 10}"
   ]
  },
  {
   "cell_type": "code",
   "execution_count": 32,
   "metadata": {},
   "outputs": [],
   "source": [
    "parameters_grid = {\n",
    "    'max_depth': [6, 8, 10],\n",
    "    'min_samples_split': [7, 10, 15]\n",
    "}\n",
    "\n",
    "model = RandomForestClassifier(min_samples_leaf=1, class_weight='balanced', random_state=RAND)\n",
    "cv = StratifiedKFold(n_splits=3, shuffle=True)\n",
    "grid_cv = GridSearchCV(model, parameters_grid, scoring='f1', cv=cv, verbose=100)"
   ]
  },
  {
   "cell_type": "code",
   "execution_count": 33,
   "metadata": {
    "scrolled": true
   },
   "outputs": [],
   "source": [
    "# grid_cv.fit(X_train, y_train)"
   ]
  },
  {
   "cell_type": "code",
   "execution_count": 34,
   "metadata": {},
   "outputs": [],
   "source": [
    "# grid_cv.best_params_\n",
    "\n",
    "# {'max_depth': 10, 'min_samples_split': 10}"
   ]
  },
  {
   "cell_type": "code",
   "execution_count": 35,
   "metadata": {},
   "outputs": [],
   "source": [
    "parameters_grid = {\n",
    "    'max_depth': [10, 12, 15],\n",
    "    'min_samples_split': [8, 10, 12]\n",
    "}\n",
    "\n",
    "model = RandomForestClassifier(min_samples_leaf=1, class_weight='balanced', random_state=RAND)\n",
    "cv = StratifiedKFold(n_splits=3, shuffle=True)\n",
    "grid_cv = GridSearchCV(model, parameters_grid, scoring='f1', cv=cv, verbose=100)"
   ]
  },
  {
   "cell_type": "code",
   "execution_count": 36,
   "metadata": {
    "scrolled": true
   },
   "outputs": [],
   "source": [
    "# grid_cv.fit(X_train, y_train)"
   ]
  },
  {
   "cell_type": "code",
   "execution_count": 37,
   "metadata": {},
   "outputs": [],
   "source": [
    "# grid_cv.best_params_\n",
    "\n",
    "# {'max_depth': 10, 'min_samples_split': 10}"
   ]
  },
  {
   "cell_type": "code",
   "execution_count": 38,
   "metadata": {},
   "outputs": [],
   "source": [
    "parameters_grid = {\n",
    "    'max_depth': [9, 10, 11],\n",
    "    'min_samples_split': [9, 10, 11]\n",
    "}\n",
    "\n",
    "model = RandomForestClassifier(min_samples_leaf=1, class_weight='balanced', random_state=RAND)\n",
    "cv = StratifiedKFold(n_splits=3, shuffle=True)\n",
    "grid_cv = GridSearchCV(model, parameters_grid, scoring='f1', cv=cv, verbose=100)"
   ]
  },
  {
   "cell_type": "code",
   "execution_count": 39,
   "metadata": {
    "scrolled": true
   },
   "outputs": [],
   "source": [
    "# grid_cv.fit(X_train, y_train)"
   ]
  },
  {
   "cell_type": "code",
   "execution_count": 40,
   "metadata": {},
   "outputs": [],
   "source": [
    "# grid_cv.best_params_\n",
    "\n",
    "# {'max_depth': 11, 'min_samples_split': 11}"
   ]
  },
  {
   "cell_type": "code",
   "execution_count": 41,
   "metadata": {},
   "outputs": [],
   "source": [
    "best_params = {'max_depth': 11, \n",
    "               'min_samples_leaf': 1, \n",
    "               'min_samples_split': 11}"
   ]
  },
  {
   "cell_type": "code",
   "execution_count": 42,
   "metadata": {},
   "outputs": [],
   "source": [
    "model = RandomForestClassifier(**best_params, class_weight='balanced', random_state=RAND)\n",
    "model.fit(X_train, y_train)\n",
    "\n",
    "y_pred = model.predict(X_test)\n",
    "y_score = model.predict_proba(X_test)[:,1]"
   ]
  },
  {
   "cell_type": "code",
   "execution_count": 43,
   "metadata": {},
   "outputs": [
    {
     "data": {
      "text/html": [
       "<div>\n",
       "<style scoped>\n",
       "    .dataframe tbody tr th:only-of-type {\n",
       "        vertical-align: middle;\n",
       "    }\n",
       "\n",
       "    .dataframe tbody tr th {\n",
       "        vertical-align: top;\n",
       "    }\n",
       "\n",
       "    .dataframe thead th {\n",
       "        text-align: right;\n",
       "    }\n",
       "</style>\n",
       "<table border=\"1\" class=\"dataframe\">\n",
       "  <thead>\n",
       "    <tr style=\"text-align: right;\">\n",
       "      <th></th>\n",
       "      <th>Baseline_LR</th>\n",
       "      <th>Baseline_RFC</th>\n",
       "      <th>Baseline_LGBM</th>\n",
       "      <th>Grid_LR</th>\n",
       "      <th>Grid_RFC</th>\n",
       "    </tr>\n",
       "  </thead>\n",
       "  <tbody>\n",
       "    <tr>\n",
       "      <th>accuracy</th>\n",
       "      <td>0.586314</td>\n",
       "      <td>0.783826</td>\n",
       "      <td>0.752722</td>\n",
       "      <td>0.587869</td>\n",
       "      <td>0.783826</td>\n",
       "    </tr>\n",
       "    <tr>\n",
       "      <th>roc-auc</th>\n",
       "      <td>0.640152</td>\n",
       "      <td>0.778192</td>\n",
       "      <td>0.784719</td>\n",
       "      <td>0.640163</td>\n",
       "      <td>0.803373</td>\n",
       "    </tr>\n",
       "    <tr>\n",
       "      <th>precision</th>\n",
       "      <td>0.385382</td>\n",
       "      <td>0.701389</td>\n",
       "      <td>0.596939</td>\n",
       "      <td>0.387417</td>\n",
       "      <td>0.670588</td>\n",
       "    </tr>\n",
       "    <tr>\n",
       "      <th>recall</th>\n",
       "      <td>0.588832</td>\n",
       "      <td>0.512690</td>\n",
       "      <td>0.593909</td>\n",
       "      <td>0.593909</td>\n",
       "      <td>0.578680</td>\n",
       "    </tr>\n",
       "    <tr>\n",
       "      <th>f1</th>\n",
       "      <td>0.465863</td>\n",
       "      <td>0.592375</td>\n",
       "      <td>0.595420</td>\n",
       "      <td>0.468938</td>\n",
       "      <td>0.621253</td>\n",
       "    </tr>\n",
       "  </tbody>\n",
       "</table>\n",
       "</div>"
      ],
      "text/plain": [
       "           Baseline_LR  Baseline_RFC  Baseline_LGBM   Grid_LR  Grid_RFC\n",
       "accuracy      0.586314      0.783826       0.752722  0.587869  0.783826\n",
       "roc-auc       0.640152      0.778192       0.784719  0.640163  0.803373\n",
       "precision     0.385382      0.701389       0.596939  0.387417  0.670588\n",
       "recall        0.588832      0.512690       0.593909  0.593909  0.578680\n",
       "f1            0.465863      0.592375       0.595420  0.468938  0.621253"
      ]
     },
     "execution_count": 43,
     "metadata": {},
     "output_type": "execute_result"
    }
   ],
   "source": [
    "metrics['Grid_RFC'] = [accuracy_score(y_test, y_pred),\n",
    "                      roc_auc_score(y_test, y_score),\n",
    "                      precision_score(y_test, y_pred),\n",
    "                      recall_score(y_test, y_pred),\n",
    "                      f1_score(y_test, y_pred)]\n",
    "metrics"
   ]
  },
  {
   "cell_type": "markdown",
   "metadata": {},
   "source": [
    "Площадь под кривой ROC увеличилась. Это значит, что модель стала еще лучше в сравнении рандомной модели. Точность упала, зато увеличилась полнота и как следствие f1-мера"
   ]
  },
  {
   "cell_type": "markdown",
   "metadata": {},
   "source": [
    "### LightGBM"
   ]
  },
  {
   "cell_type": "code",
   "execution_count": 44,
   "metadata": {},
   "outputs": [],
   "source": [
    "parameters_grid = {\n",
    "    'max_depth': range(3,8,2),\n",
    "    'num_leaves':range(50, 170, 30),\n",
    "    'min_data_in_leave': range(10, 50, 10)\n",
    "}\n",
    "\n",
    "model = LGBMClassifier(class_weight='balanced', random_state=RAND)\n",
    "cv = StratifiedKFold(n_splits=3, shuffle=True)\n",
    "grid_cv = GridSearchCV(model, parameters_grid, scoring='f1', cv=cv, verbose=2)"
   ]
  },
  {
   "cell_type": "code",
   "execution_count": 45,
   "metadata": {
    "scrolled": true
   },
   "outputs": [],
   "source": [
    "# grid_cv.fit(X_train, y_train)"
   ]
  },
  {
   "cell_type": "code",
   "execution_count": 46,
   "metadata": {},
   "outputs": [],
   "source": [
    "# grid_cv.best_params_\n",
    "\n",
    "# {'max_depth': 3, 'min_data_in_leave': 10, 'num_leaves': 50}"
   ]
  },
  {
   "cell_type": "code",
   "execution_count": 47,
   "metadata": {},
   "outputs": [],
   "source": [
    "parameters_grid = {\n",
    "    'max_depth': [2, 3, 4],\n",
    "    'num_leaves': [30, 40, 50, 60, 70],\n",
    "    'min_data_in_leave': [5, 10, 15]\n",
    "}\n",
    "\n",
    "model = LGBMClassifier(class_weight='balanced', random_state=RAND)\n",
    "cv = StratifiedKFold(n_splits=3, shuffle=True)\n",
    "grid_cv = GridSearchCV(model, parameters_grid, scoring='f1', cv=cv, verbose=2)"
   ]
  },
  {
   "cell_type": "code",
   "execution_count": 48,
   "metadata": {
    "scrolled": true
   },
   "outputs": [],
   "source": [
    "# grid_cv.fit(X_train, y_train)"
   ]
  },
  {
   "cell_type": "code",
   "execution_count": 49,
   "metadata": {},
   "outputs": [],
   "source": [
    "# grid_cv.best_params_\n",
    "\n",
    "# {'max_depth': 3, 'min_data_in_leave': 5, 'num_leaves': 30}"
   ]
  },
  {
   "cell_type": "code",
   "execution_count": 50,
   "metadata": {},
   "outputs": [],
   "source": [
    "parameters_grid = {\n",
    "    'num_leaves': [15, 20, 25, 30, 35],\n",
    "    'min_data_in_leave': [3, 5, 7]\n",
    "}\n",
    "\n",
    "model = LGBMClassifier(max_depth=3, class_weight='balanced', random_state=RAND)\n",
    "cv = StratifiedKFold(n_splits=3, shuffle=True)\n",
    "grid_cv = GridSearchCV(model, parameters_grid, scoring='f1', cv=cv, verbose=2)"
   ]
  },
  {
   "cell_type": "code",
   "execution_count": 51,
   "metadata": {
    "scrolled": true
   },
   "outputs": [],
   "source": [
    "# grid_cv.fit(X_train, y_train)"
   ]
  },
  {
   "cell_type": "code",
   "execution_count": 52,
   "metadata": {},
   "outputs": [],
   "source": [
    "# grid_cv.best_params_\n",
    "\n",
    "# {'min_data_in_leave': 3, 'num_leaves': 15}"
   ]
  },
  {
   "cell_type": "code",
   "execution_count": 53,
   "metadata": {},
   "outputs": [],
   "source": [
    "parameters_grid = {\n",
    "    'num_leaves': [12, 15, 18],\n",
    "    'min_data_in_leave': [2, 3, 4]\n",
    "}\n",
    "\n",
    "model = LGBMClassifier(max_depth=3, class_weight='balanced', random_state=RAND)\n",
    "cv = StratifiedKFold(n_splits=3, shuffle=True)\n",
    "grid_cv = GridSearchCV(model, parameters_grid, scoring='f1', cv=cv, verbose=2)"
   ]
  },
  {
   "cell_type": "code",
   "execution_count": 54,
   "metadata": {
    "scrolled": true
   },
   "outputs": [],
   "source": [
    "# grid_cv.fit(X_train, y_train)"
   ]
  },
  {
   "cell_type": "code",
   "execution_count": 55,
   "metadata": {},
   "outputs": [],
   "source": [
    "# grid_cv.best_params_\n",
    "\n",
    "# {'min_data_in_leave': 2, 'num_leaves': 12}"
   ]
  },
  {
   "cell_type": "code",
   "execution_count": 56,
   "metadata": {},
   "outputs": [],
   "source": [
    "parameters_grid = {\n",
    "    'num_leaves': range(1, 16)\n",
    "}\n",
    "\n",
    "model = LGBMClassifier(max_depth=3, min_data_in_leave=2, class_weight='balanced', random_state=RAND)\n",
    "cv = StratifiedKFold(n_splits=3, shuffle=True)\n",
    "grid_cv = GridSearchCV(model, parameters_grid, scoring='f1', cv=cv, verbose=2)"
   ]
  },
  {
   "cell_type": "code",
   "execution_count": 57,
   "metadata": {
    "scrolled": true
   },
   "outputs": [],
   "source": [
    "# grid_cv.fit(X_train, y_train)"
   ]
  },
  {
   "cell_type": "code",
   "execution_count": 58,
   "metadata": {},
   "outputs": [],
   "source": [
    "# grid_cv.best_params_\n",
    "\n",
    "# {'min_data_in_leave': 2, 'num_leaves': 12}"
   ]
  },
  {
   "cell_type": "code",
   "execution_count": 59,
   "metadata": {},
   "outputs": [],
   "source": [
    "best_params = {'max_depth': 3, \n",
    "               'min_data_in_leave': 2, \n",
    "               'num_leaves': 12}"
   ]
  },
  {
   "cell_type": "code",
   "execution_count": 60,
   "metadata": {},
   "outputs": [
    {
     "name": "stdout",
     "output_type": "stream",
     "text": [
      "[LightGBM] [Warning] Unknown parameter: min_data_in_leave\n"
     ]
    }
   ],
   "source": [
    "model = LGBMClassifier(**best_params, class_weight='balanced', random_state=RAND)\n",
    "model.fit(X_train, y_train)\n",
    "\n",
    "y_pred = model.predict(X_test)\n",
    "y_score = model.predict_proba(X_test)[:,1]"
   ]
  },
  {
   "cell_type": "code",
   "execution_count": 61,
   "metadata": {},
   "outputs": [
    {
     "data": {
      "text/html": [
       "<div>\n",
       "<style scoped>\n",
       "    .dataframe tbody tr th:only-of-type {\n",
       "        vertical-align: middle;\n",
       "    }\n",
       "\n",
       "    .dataframe tbody tr th {\n",
       "        vertical-align: top;\n",
       "    }\n",
       "\n",
       "    .dataframe thead th {\n",
       "        text-align: right;\n",
       "    }\n",
       "</style>\n",
       "<table border=\"1\" class=\"dataframe\">\n",
       "  <thead>\n",
       "    <tr style=\"text-align: right;\">\n",
       "      <th></th>\n",
       "      <th>Baseline_LR</th>\n",
       "      <th>Baseline_RFC</th>\n",
       "      <th>Baseline_LGBM</th>\n",
       "      <th>Grid_LR</th>\n",
       "      <th>Grid_RFC</th>\n",
       "      <th>Grid_LGBM</th>\n",
       "    </tr>\n",
       "  </thead>\n",
       "  <tbody>\n",
       "    <tr>\n",
       "      <th>accuracy</th>\n",
       "      <td>0.586314</td>\n",
       "      <td>0.783826</td>\n",
       "      <td>0.752722</td>\n",
       "      <td>0.587869</td>\n",
       "      <td>0.783826</td>\n",
       "      <td>0.782271</td>\n",
       "    </tr>\n",
       "    <tr>\n",
       "      <th>roc-auc</th>\n",
       "      <td>0.640152</td>\n",
       "      <td>0.778192</td>\n",
       "      <td>0.784719</td>\n",
       "      <td>0.640163</td>\n",
       "      <td>0.803373</td>\n",
       "      <td>0.812063</td>\n",
       "    </tr>\n",
       "    <tr>\n",
       "      <th>precision</th>\n",
       "      <td>0.385382</td>\n",
       "      <td>0.701389</td>\n",
       "      <td>0.596939</td>\n",
       "      <td>0.387417</td>\n",
       "      <td>0.670588</td>\n",
       "      <td>0.657459</td>\n",
       "    </tr>\n",
       "    <tr>\n",
       "      <th>recall</th>\n",
       "      <td>0.588832</td>\n",
       "      <td>0.512690</td>\n",
       "      <td>0.593909</td>\n",
       "      <td>0.593909</td>\n",
       "      <td>0.578680</td>\n",
       "      <td>0.604061</td>\n",
       "    </tr>\n",
       "    <tr>\n",
       "      <th>f1</th>\n",
       "      <td>0.465863</td>\n",
       "      <td>0.592375</td>\n",
       "      <td>0.595420</td>\n",
       "      <td>0.468938</td>\n",
       "      <td>0.621253</td>\n",
       "      <td>0.629630</td>\n",
       "    </tr>\n",
       "  </tbody>\n",
       "</table>\n",
       "</div>"
      ],
      "text/plain": [
       "           Baseline_LR  Baseline_RFC  Baseline_LGBM   Grid_LR  Grid_RFC  \\\n",
       "accuracy      0.586314      0.783826       0.752722  0.587869  0.783826   \n",
       "roc-auc       0.640152      0.778192       0.784719  0.640163  0.803373   \n",
       "precision     0.385382      0.701389       0.596939  0.387417  0.670588   \n",
       "recall        0.588832      0.512690       0.593909  0.593909  0.578680   \n",
       "f1            0.465863      0.592375       0.595420  0.468938  0.621253   \n",
       "\n",
       "           Grid_LGBM  \n",
       "accuracy    0.782271  \n",
       "roc-auc     0.812063  \n",
       "precision   0.657459  \n",
       "recall      0.604061  \n",
       "f1          0.629630  "
      ]
     },
     "execution_count": 61,
     "metadata": {},
     "output_type": "execute_result"
    }
   ],
   "source": [
    "metrics['Grid_LGBM'] = [accuracy_score(y_test, y_pred),\n",
    "                      roc_auc_score(y_test, y_score),\n",
    "                      precision_score(y_test, y_pred),\n",
    "                      recall_score(y_test, y_pred),\n",
    "                      f1_score(y_test, y_pred)]\n",
    "metrics"
   ]
  },
  {
   "cell_type": "markdown",
   "metadata": {},
   "source": [
    "Аккуратность модели увеличилась. Также стали лучше площадь под кривой, полнота и f1-мера. Точность уменьшилась"
   ]
  },
  {
   "cell_type": "code",
   "execution_count": 62,
   "metadata": {},
   "outputs": [
    {
     "data": {
      "image/png": "[encoded data removed]",
      "text/plain": [
       "<Figure size 432x288 with 1 Axes>"
      ]
     },
     "metadata": {
      "needs_background": "light"
     },
     "output_type": "display_data"
    }
   ],
   "source": [
    "fpr, tpr, thresholds = roc_curve(y_test, y_score)\n",
    "\n",
    "roc_auc = auc(fpr, tpr)\n",
    "\n",
    "plt.plot(fpr, tpr, color='darkorange', label='ROC curve (area = %0.2f)' % roc_auc)\n",
    "plt.plot([0, 1], [0, 1], color='navy', lw=2, linestyle='--')\n",
    "plt.xlim([0.0, 1.0])\n",
    "plt.ylim([0.0, 1.05])\n",
    "\n",
    "plt.xlabel('False Positive Rate')\n",
    "plt.ylabel('True Positive Rate')\n",
    "\n",
    "plt.title('LightGBM ROC AUC = %0.3f' % roc_auc)\n",
    "plt.legend(loc=\"lower right\")\n",
    "plt.show()"
   ]
  },
  {
   "cell_type": "markdown",
   "metadata": {},
   "source": [
    "В итоге по всем показателям лучшим стал алгоритм градиентного бустинга LightGBM с подобранными параметрами:\n",
    "- F1-мера составила 0.63\n",
    "- Площадь под кривой ROC = 0.81\n",
    "- Аккуратность модели 0.78\n",
    "- Полнота предсказаний 0.6\n",
    "- Точность предсказаний 0.66"
   ]
  }
 ],
 "metadata": {
  "ExecuteTimeLog": [
   {
    "duration": 1053,
    "start_time": "2021-09-17T13:39:24.690Z"
   },
   {
    "duration": 19,
    "start_time": "2021-09-17T13:40:01.260Z"
   },
   {
    "duration": 14,
    "start_time": "2021-09-17T13:40:10.106Z"
   },
   {
    "duration": 7,
    "start_time": "2021-09-17T13:40:42.905Z"
   },
   {
    "duration": 3,
    "start_time": "2021-09-17T13:43:31.888Z"
   },
   {
    "duration": 3,
    "start_time": "2021-09-17T13:44:40.181Z"
   },
   {
    "duration": 6,
    "start_time": "2021-09-17T13:47:27.185Z"
   },
   {
    "duration": 1181,
    "start_time": "2021-09-17T13:50:09.613Z"
   },
   {
    "duration": 20,
    "start_time": "2021-09-17T13:50:11.507Z"
   },
   {
    "duration": 14,
    "start_time": "2021-09-17T13:50:12.258Z"
   },
   {
    "duration": 7,
    "start_time": "2021-09-17T13:50:14.249Z"
   },
   {
    "duration": 4,
    "start_time": "2021-09-17T13:50:19.227Z"
   },
   {
    "duration": 5,
    "start_time": "2021-09-17T13:50:27.592Z"
   },
   {
    "duration": 6,
    "start_time": "2021-09-17T13:51:26.223Z"
   },
   {
    "duration": 4,
    "start_time": "2021-09-17T13:51:46.180Z"
   },
   {
    "duration": 123,
    "start_time": "2021-09-17T13:51:55.469Z"
   },
   {
    "duration": 370,
    "start_time": "2021-09-17T13:51:59.642Z"
   },
   {
    "duration": 4,
    "start_time": "2021-09-17T13:52:07.815Z"
   },
   {
    "duration": 78,
    "start_time": "2021-09-17T13:52:10.943Z"
   },
   {
    "duration": 4,
    "start_time": "2021-09-17T13:52:13.814Z"
   },
   {
    "duration": 5,
    "start_time": "2021-09-17T13:52:50.223Z"
   },
   {
    "duration": 4,
    "start_time": "2021-09-17T13:53:08.981Z"
   },
   {
    "duration": 5,
    "start_time": "2021-09-17T13:53:26.550Z"
   },
   {
    "duration": 4,
    "start_time": "2021-09-17T13:53:39.371Z"
   },
   {
    "duration": 3,
    "start_time": "2021-09-17T14:04:34.589Z"
   },
   {
    "duration": 3,
    "start_time": "2021-09-17T14:06:03.844Z"
   },
   {
    "duration": 263,
    "start_time": "2021-09-17T14:12:51.482Z"
   },
   {
    "duration": 542,
    "start_time": "2021-09-17T14:13:06.588Z"
   },
   {
    "duration": 15,
    "start_time": "2021-09-17T14:13:21.154Z"
   },
   {
    "duration": 14,
    "start_time": "2021-09-17T14:13:39.888Z"
   },
   {
    "duration": 13,
    "start_time": "2021-09-17T14:13:51.124Z"
   },
   {
    "duration": 1079,
    "start_time": "2021-09-17T14:14:25.417Z"
   },
   {
    "duration": 19,
    "start_time": "2021-09-17T14:14:26.498Z"
   },
   {
    "duration": 15,
    "start_time": "2021-09-17T14:14:26.520Z"
   },
   {
    "duration": 6,
    "start_time": "2021-09-17T14:14:26.541Z"
   },
   {
    "duration": 7,
    "start_time": "2021-09-17T14:14:26.549Z"
   },
   {
    "duration": 7,
    "start_time": "2021-09-17T14:14:26.558Z"
   },
   {
    "duration": 11,
    "start_time": "2021-09-17T14:14:26.567Z"
   },
   {
    "duration": 6,
    "start_time": "2021-09-17T14:14:26.579Z"
   },
   {
    "duration": 6,
    "start_time": "2021-09-17T14:14:26.587Z"
   },
   {
    "duration": 4,
    "start_time": "2021-09-17T14:14:26.595Z"
   },
   {
    "duration": 4,
    "start_time": "2021-09-17T14:14:26.600Z"
   },
   {
    "duration": 566,
    "start_time": "2021-09-17T14:14:26.606Z"
   },
   {
    "duration": 8,
    "start_time": "2021-09-17T14:14:27.174Z"
   },
   {
    "duration": 4,
    "start_time": "2021-09-17T14:17:12.822Z"
   },
   {
    "duration": 3,
    "start_time": "2021-09-17T14:17:39.415Z"
   },
   {
    "duration": 524,
    "start_time": "2021-09-17T14:17:46.221Z"
   },
   {
    "duration": 10,
    "start_time": "2021-09-17T14:17:51.011Z"
   },
   {
    "duration": 1130,
    "start_time": "2021-09-17T14:18:19.706Z"
   },
   {
    "duration": 22,
    "start_time": "2021-09-17T14:18:20.838Z"
   },
   {
    "duration": 17,
    "start_time": "2021-09-17T14:18:20.862Z"
   },
   {
    "duration": 7,
    "start_time": "2021-09-17T14:18:20.881Z"
   },
   {
    "duration": 6,
    "start_time": "2021-09-17T14:18:20.890Z"
   },
   {
    "duration": 11,
    "start_time": "2021-09-17T14:18:20.898Z"
   },
   {
    "duration": 12,
    "start_time": "2021-09-17T14:18:20.911Z"
   },
   {
    "duration": 17,
    "start_time": "2021-09-17T14:18:20.926Z"
   },
   {
    "duration": 5,
    "start_time": "2021-09-17T14:18:20.946Z"
   },
   {
    "duration": 5,
    "start_time": "2021-09-17T14:18:20.953Z"
   },
   {
    "duration": 5,
    "start_time": "2021-09-17T14:18:20.960Z"
   },
   {
    "duration": 607,
    "start_time": "2021-09-17T14:18:20.967Z"
   },
   {
    "duration": 8,
    "start_time": "2021-09-17T14:18:21.576Z"
   },
   {
    "duration": 413,
    "start_time": "2021-09-17T14:18:21.585Z"
   },
   {
    "duration": 9,
    "start_time": "2021-09-17T14:19:16.010Z"
   },
   {
    "duration": 3,
    "start_time": "2021-09-17T14:22:41.875Z"
   },
   {
    "duration": 48110,
    "start_time": "2021-09-17T14:23:47.516Z"
   },
   {
    "duration": 10,
    "start_time": "2021-09-17T14:24:44.386Z"
   },
   {
    "duration": 4,
    "start_time": "2021-09-17T14:25:30.772Z"
   },
   {
    "duration": 1058,
    "start_time": "2021-09-17T14:26:59.670Z"
   },
   {
    "duration": 21,
    "start_time": "2021-09-17T14:27:00.730Z"
   },
   {
    "duration": 19,
    "start_time": "2021-09-17T14:27:00.753Z"
   },
   {
    "duration": 14,
    "start_time": "2021-09-17T14:27:00.774Z"
   },
   {
    "duration": 8,
    "start_time": "2021-09-17T14:27:00.789Z"
   },
   {
    "duration": 13,
    "start_time": "2021-09-17T14:27:00.798Z"
   },
   {
    "duration": 12,
    "start_time": "2021-09-17T14:27:00.813Z"
   },
   {
    "duration": 8,
    "start_time": "2021-09-17T14:27:00.826Z"
   },
   {
    "duration": 16,
    "start_time": "2021-09-17T14:27:00.836Z"
   },
   {
    "duration": 13,
    "start_time": "2021-09-17T14:27:00.853Z"
   },
   {
    "duration": 11,
    "start_time": "2021-09-17T14:27:00.867Z"
   },
   {
    "duration": 544,
    "start_time": "2021-09-17T14:27:00.880Z"
   },
   {
    "duration": 8,
    "start_time": "2021-09-17T14:27:01.426Z"
   },
   {
    "duration": 3,
    "start_time": "2021-09-17T14:27:01.441Z"
   },
   {
    "duration": 2322,
    "start_time": "2021-09-17T14:27:01.446Z"
   },
   {
    "duration": 8,
    "start_time": "2021-09-17T14:27:03.769Z"
   },
   {
    "duration": 4,
    "start_time": "2021-09-17T14:28:24.179Z"
   },
   {
    "duration": 1289,
    "start_time": "2021-09-17T14:28:30.300Z"
   },
   {
    "duration": 20,
    "start_time": "2021-09-17T14:28:31.591Z"
   },
   {
    "duration": 48,
    "start_time": "2021-09-17T14:28:31.613Z"
   },
   {
    "duration": 8,
    "start_time": "2021-09-17T14:28:31.664Z"
   },
   {
    "duration": 6,
    "start_time": "2021-09-17T14:28:31.674Z"
   },
   {
    "duration": 10,
    "start_time": "2021-09-17T14:28:31.682Z"
   },
   {
    "duration": 8,
    "start_time": "2021-09-17T14:28:31.694Z"
   },
   {
    "duration": 6,
    "start_time": "2021-09-17T14:28:31.705Z"
   },
   {
    "duration": 7,
    "start_time": "2021-09-17T14:28:31.713Z"
   },
   {
    "duration": 20,
    "start_time": "2021-09-17T14:28:31.721Z"
   },
   {
    "duration": 3,
    "start_time": "2021-09-17T14:28:31.743Z"
   },
   {
    "duration": 536,
    "start_time": "2021-09-17T14:28:31.748Z"
   },
   {
    "duration": 9,
    "start_time": "2021-09-17T14:28:32.286Z"
   },
   {
    "duration": 5,
    "start_time": "2021-09-17T14:28:32.297Z"
   },
   {
    "duration": 2361,
    "start_time": "2021-09-17T14:28:32.303Z"
   },
   {
    "duration": 8,
    "start_time": "2021-09-17T14:28:34.666Z"
   },
   {
    "duration": 3,
    "start_time": "2021-09-17T14:30:04.106Z"
   },
   {
    "duration": 3,
    "start_time": "2021-09-17T14:30:47.070Z"
   },
   {
    "duration": 10,
    "start_time": "2021-09-17T14:32:21.696Z"
   },
   {
    "duration": 4,
    "start_time": "2021-09-17T14:32:29.127Z"
   },
   {
    "duration": 11,
    "start_time": "2021-09-17T14:32:34.509Z"
   },
   {
    "duration": 3,
    "start_time": "2021-09-17T14:32:35.080Z"
   },
   {
    "duration": 11,
    "start_time": "2021-09-17T14:32:38.176Z"
   },
   {
    "duration": 4,
    "start_time": "2021-09-17T14:32:39.052Z"
   },
   {
    "duration": 118,
    "start_time": "2021-09-17T14:33:32.236Z"
   },
   {
    "duration": 10,
    "start_time": "2021-09-17T14:34:10.625Z"
   },
   {
    "duration": 419,
    "start_time": "2021-09-17T14:36:31.524Z"
   },
   {
    "duration": 27,
    "start_time": "2021-09-17T14:37:44.110Z"
   },
   {
    "duration": 19,
    "start_time": "2021-09-17T14:37:52.725Z"
   },
   {
    "duration": 446,
    "start_time": "2021-09-17T14:38:29.191Z"
   },
   {
    "duration": 478,
    "start_time": "2021-09-17T14:38:42.420Z"
   },
   {
    "duration": 411,
    "start_time": "2021-09-17T14:38:50.264Z"
   },
   {
    "duration": 662,
    "start_time": "2021-09-17T14:38:56.710Z"
   },
   {
    "duration": 352,
    "start_time": "2021-09-17T14:40:01.860Z"
   },
   {
    "duration": 246,
    "start_time": "2021-09-17T14:40:14.520Z"
   },
   {
    "duration": 223,
    "start_time": "2021-09-17T14:40:25.771Z"
   },
   {
    "duration": 236,
    "start_time": "2021-09-17T14:40:54.256Z"
   },
   {
    "duration": 243,
    "start_time": "2021-09-17T14:41:08.754Z"
   },
   {
    "duration": 233,
    "start_time": "2021-09-17T14:41:18.026Z"
   },
   {
    "duration": 1407,
    "start_time": "2021-09-17T14:41:43.188Z"
   },
   {
    "duration": 23,
    "start_time": "2021-09-17T14:41:44.597Z"
   },
   {
    "duration": 16,
    "start_time": "2021-09-17T14:41:44.623Z"
   },
   {
    "duration": 15,
    "start_time": "2021-09-17T14:41:44.642Z"
   },
   {
    "duration": 3,
    "start_time": "2021-09-17T14:41:44.659Z"
   },
   {
    "duration": 8,
    "start_time": "2021-09-17T14:41:44.664Z"
   },
   {
    "duration": 9,
    "start_time": "2021-09-17T14:41:44.673Z"
   },
   {
    "duration": 8,
    "start_time": "2021-09-17T14:41:44.683Z"
   },
   {
    "duration": 10,
    "start_time": "2021-09-17T14:41:44.693Z"
   },
   {
    "duration": 8,
    "start_time": "2021-09-17T14:41:44.704Z"
   },
   {
    "duration": 11,
    "start_time": "2021-09-17T14:41:44.714Z"
   },
   {
    "duration": 572,
    "start_time": "2021-09-17T14:41:44.727Z"
   },
   {
    "duration": 8,
    "start_time": "2021-09-17T14:41:45.301Z"
   },
   {
    "duration": 9,
    "start_time": "2021-09-17T14:41:45.311Z"
   },
   {
    "duration": 249,
    "start_time": "2021-09-17T14:41:55.197Z"
   },
   {
    "duration": 232,
    "start_time": "2021-09-17T14:41:59.829Z"
   },
   {
    "duration": 402,
    "start_time": "2021-09-17T14:42:24.672Z"
   },
   {
    "duration": 3,
    "start_time": "2021-09-17T14:43:26.364Z"
   },
   {
    "duration": 2619,
    "start_time": "2021-09-17T14:43:27.786Z"
   },
   {
    "duration": 7,
    "start_time": "2021-09-17T14:43:36.896Z"
   },
   {
    "duration": 261,
    "start_time": "2021-09-17T14:44:09.086Z"
   },
   {
    "duration": 9048,
    "start_time": "2021-09-17T14:44:59.637Z"
   },
   {
    "duration": 8,
    "start_time": "2021-09-17T14:45:17.306Z"
   },
   {
    "duration": 1193,
    "start_time": "2021-09-17T14:46:34.114Z"
   },
   {
    "duration": 20,
    "start_time": "2021-09-17T14:46:35.308Z"
   },
   {
    "duration": 11,
    "start_time": "2021-09-17T14:46:35.330Z"
   },
   {
    "duration": 10,
    "start_time": "2021-09-17T14:46:35.343Z"
   },
   {
    "duration": 6,
    "start_time": "2021-09-17T14:46:35.354Z"
   },
   {
    "duration": 7,
    "start_time": "2021-09-17T14:46:35.362Z"
   },
   {
    "duration": 6,
    "start_time": "2021-09-17T14:46:35.371Z"
   },
   {
    "duration": 3,
    "start_time": "2021-09-17T14:46:35.380Z"
   },
   {
    "duration": 9,
    "start_time": "2021-09-17T14:46:35.385Z"
   },
   {
    "duration": 7,
    "start_time": "2021-09-17T14:46:35.395Z"
   },
   {
    "duration": 5,
    "start_time": "2021-09-17T14:46:35.404Z"
   },
   {
    "duration": 567,
    "start_time": "2021-09-17T14:46:35.411Z"
   },
   {
    "duration": 9,
    "start_time": "2021-09-17T14:46:35.980Z"
   },
   {
    "duration": 11,
    "start_time": "2021-09-17T14:46:35.991Z"
   },
   {
    "duration": 252,
    "start_time": "2021-09-17T14:46:36.003Z"
   },
   {
    "duration": 2,
    "start_time": "2021-09-17T14:46:36.257Z"
   },
   {
    "duration": 2415,
    "start_time": "2021-09-17T14:46:36.261Z"
   },
   {
    "duration": 9,
    "start_time": "2021-09-17T14:46:38.678Z"
   },
   {
    "duration": 12,
    "start_time": "2021-09-17T14:46:38.688Z"
   },
   {
    "duration": 243,
    "start_time": "2021-09-17T14:46:38.701Z"
   },
   {
    "duration": 3,
    "start_time": "2021-09-17T14:46:38.946Z"
   },
   {
    "duration": 13,
    "start_time": "2021-09-17T14:46:38.950Z"
   },
   {
    "duration": 3,
    "start_time": "2021-09-17T14:46:38.965Z"
   },
   {
    "duration": 8,
    "start_time": "2021-09-17T14:47:41.738Z"
   },
   {
    "duration": 8,
    "start_time": "2021-09-17T14:48:17.198Z"
   },
   {
    "duration": 2,
    "start_time": "2021-09-17T15:19:24.527Z"
   },
   {
    "duration": 359,
    "start_time": "2021-09-17T15:20:01.600Z"
   },
   {
    "duration": 32,
    "start_time": "2021-09-17T15:20:20.081Z"
   },
   {
    "duration": 3,
    "start_time": "2021-09-17T15:20:44.726Z"
   },
   {
    "duration": 29,
    "start_time": "2021-09-17T15:20:45.979Z"
   },
   {
    "duration": 3,
    "start_time": "2021-09-17T15:20:57.615Z"
   },
   {
    "duration": 31,
    "start_time": "2021-09-17T15:20:58.054Z"
   },
   {
    "duration": 8,
    "start_time": "2021-09-17T15:21:15.836Z"
   },
   {
    "duration": 2,
    "start_time": "2021-09-17T15:27:39.008Z"
   },
   {
    "duration": 3,
    "start_time": "2021-09-17T15:28:09.424Z"
   },
   {
    "duration": 513,
    "start_time": "2021-09-17T15:29:09.888Z"
   },
   {
    "duration": 5,
    "start_time": "2021-09-17T15:29:33.055Z"
   },
   {
    "duration": 5,
    "start_time": "2021-09-17T15:29:37.679Z"
   },
   {
    "duration": 1196,
    "start_time": "2021-09-17T15:29:50.607Z"
   },
   {
    "duration": 19,
    "start_time": "2021-09-17T15:29:51.805Z"
   },
   {
    "duration": 14,
    "start_time": "2021-09-17T15:29:51.826Z"
   },
   {
    "duration": 9,
    "start_time": "2021-09-17T15:29:51.842Z"
   },
   {
    "duration": 8,
    "start_time": "2021-09-17T15:29:51.853Z"
   },
   {
    "duration": 14,
    "start_time": "2021-09-17T15:29:51.862Z"
   },
   {
    "duration": 17,
    "start_time": "2021-09-17T15:29:51.878Z"
   },
   {
    "duration": 18,
    "start_time": "2021-09-17T15:29:51.897Z"
   },
   {
    "duration": 12,
    "start_time": "2021-09-17T15:29:51.917Z"
   },
   {
    "duration": 17,
    "start_time": "2021-09-17T15:29:51.931Z"
   },
   {
    "duration": 19,
    "start_time": "2021-09-17T15:29:51.950Z"
   },
   {
    "duration": 588,
    "start_time": "2021-09-17T15:29:51.971Z"
   },
   {
    "duration": 8,
    "start_time": "2021-09-17T15:29:52.561Z"
   },
   {
    "duration": 17,
    "start_time": "2021-09-17T15:29:52.570Z"
   },
   {
    "duration": 260,
    "start_time": "2021-09-17T15:29:52.588Z"
   },
   {
    "duration": 8,
    "start_time": "2021-09-17T15:29:52.850Z"
   },
   {
    "duration": 6,
    "start_time": "2021-09-17T15:29:52.860Z"
   },
   {
    "duration": 2524,
    "start_time": "2021-09-17T15:29:52.867Z"
   },
   {
    "duration": 7,
    "start_time": "2021-09-17T15:29:55.393Z"
   },
   {
    "duration": 27,
    "start_time": "2021-09-17T15:29:55.402Z"
   },
   {
    "duration": 243,
    "start_time": "2021-09-17T15:29:55.431Z"
   },
   {
    "duration": 8,
    "start_time": "2021-09-17T15:29:55.676Z"
   },
   {
    "duration": 4,
    "start_time": "2021-09-17T15:29:55.687Z"
   },
   {
    "duration": 12,
    "start_time": "2021-09-17T15:29:55.693Z"
   },
   {
    "duration": 3,
    "start_time": "2021-09-17T15:29:55.707Z"
   },
   {
    "duration": 5,
    "start_time": "2021-09-17T15:29:55.712Z"
   },
   {
    "duration": 56,
    "start_time": "2021-09-17T15:29:55.718Z"
   },
   {
    "duration": 6,
    "start_time": "2021-09-17T15:29:55.776Z"
   },
   {
    "duration": 3,
    "start_time": "2021-09-17T15:32:23.027Z"
   },
   {
    "duration": 29,
    "start_time": "2021-09-17T15:32:24.538Z"
   },
   {
    "duration": 7,
    "start_time": "2021-09-17T15:32:26.435Z"
   },
   {
    "duration": 3,
    "start_time": "2021-09-17T15:32:33.790Z"
   },
   {
    "duration": 44,
    "start_time": "2021-09-17T15:32:36.866Z"
   },
   {
    "duration": 8,
    "start_time": "2021-09-17T15:32:38.510Z"
   },
   {
    "duration": 1258,
    "start_time": "2021-09-17T15:33:15.772Z"
   },
   {
    "duration": 21,
    "start_time": "2021-09-17T15:33:17.032Z"
   },
   {
    "duration": 19,
    "start_time": "2021-09-17T15:33:17.056Z"
   },
   {
    "duration": 19,
    "start_time": "2021-09-17T15:33:17.077Z"
   },
   {
    "duration": 6,
    "start_time": "2021-09-17T15:33:17.099Z"
   },
   {
    "duration": 20,
    "start_time": "2021-09-17T15:33:17.107Z"
   },
   {
    "duration": 11,
    "start_time": "2021-09-17T15:33:17.129Z"
   },
   {
    "duration": 15,
    "start_time": "2021-09-17T15:33:17.143Z"
   },
   {
    "duration": 27,
    "start_time": "2021-09-17T15:33:17.161Z"
   },
   {
    "duration": 6,
    "start_time": "2021-09-17T15:33:17.189Z"
   },
   {
    "duration": 9,
    "start_time": "2021-09-17T15:33:17.196Z"
   },
   {
    "duration": 674,
    "start_time": "2021-09-17T15:33:17.207Z"
   },
   {
    "duration": 8,
    "start_time": "2021-09-17T15:33:17.883Z"
   },
   {
    "duration": 8,
    "start_time": "2021-09-17T15:33:17.893Z"
   },
   {
    "duration": 316,
    "start_time": "2021-09-17T15:33:17.902Z"
   },
   {
    "duration": 11,
    "start_time": "2021-09-17T15:33:18.220Z"
   },
   {
    "duration": 6,
    "start_time": "2021-09-17T15:33:18.244Z"
   },
   {
    "duration": 2796,
    "start_time": "2021-09-17T15:33:18.252Z"
   },
   {
    "duration": 8,
    "start_time": "2021-09-17T15:33:21.050Z"
   },
   {
    "duration": 12,
    "start_time": "2021-09-17T15:33:21.059Z"
   },
   {
    "duration": 260,
    "start_time": "2021-09-17T15:33:21.073Z"
   },
   {
    "duration": 14,
    "start_time": "2021-09-17T15:33:21.335Z"
   },
   {
    "duration": 11,
    "start_time": "2021-09-17T15:33:21.352Z"
   },
   {
    "duration": 18,
    "start_time": "2021-09-17T15:33:21.365Z"
   },
   {
    "duration": 3,
    "start_time": "2021-09-17T15:33:21.385Z"
   },
   {
    "duration": 18,
    "start_time": "2021-09-17T15:33:21.390Z"
   },
   {
    "duration": 52,
    "start_time": "2021-09-17T15:33:21.410Z"
   },
   {
    "duration": 7,
    "start_time": "2021-09-17T15:33:21.463Z"
   },
   {
    "duration": 81,
    "start_time": "2021-09-17T15:42:14.166Z"
   },
   {
    "duration": 358,
    "start_time": "2021-09-17T15:53:08.298Z"
   },
   {
    "duration": 250,
    "start_time": "2021-09-17T15:53:20.383Z"
   },
   {
    "duration": 1271,
    "start_time": "2021-09-17T15:53:37.956Z"
   },
   {
    "duration": 20,
    "start_time": "2021-09-17T15:53:39.228Z"
   },
   {
    "duration": 11,
    "start_time": "2021-09-17T15:53:39.250Z"
   },
   {
    "duration": 7,
    "start_time": "2021-09-17T15:53:39.262Z"
   },
   {
    "duration": 7,
    "start_time": "2021-09-17T15:53:39.270Z"
   },
   {
    "duration": 8,
    "start_time": "2021-09-17T15:53:39.278Z"
   },
   {
    "duration": 7,
    "start_time": "2021-09-17T15:53:39.287Z"
   },
   {
    "duration": 5,
    "start_time": "2021-09-17T15:53:39.296Z"
   },
   {
    "duration": 5,
    "start_time": "2021-09-17T15:53:39.303Z"
   },
   {
    "duration": 5,
    "start_time": "2021-09-17T15:53:39.309Z"
   },
   {
    "duration": 4,
    "start_time": "2021-09-17T15:53:39.315Z"
   },
   {
    "duration": 571,
    "start_time": "2021-09-17T15:53:39.344Z"
   },
   {
    "duration": 8,
    "start_time": "2021-09-17T15:53:39.916Z"
   },
   {
    "duration": 19,
    "start_time": "2021-09-17T15:53:39.926Z"
   },
   {
    "duration": 250,
    "start_time": "2021-09-17T15:53:39.946Z"
   },
   {
    "duration": 8,
    "start_time": "2021-09-17T15:53:40.198Z"
   },
   {
    "duration": 6,
    "start_time": "2021-09-17T15:53:40.207Z"
   },
   {
    "duration": 2606,
    "start_time": "2021-09-17T15:53:40.215Z"
   },
   {
    "duration": 9,
    "start_time": "2021-09-17T15:53:42.822Z"
   },
   {
    "duration": 17,
    "start_time": "2021-09-17T15:53:42.832Z"
   },
   {
    "duration": 229,
    "start_time": "2021-09-17T15:53:42.850Z"
   },
   {
    "duration": 8,
    "start_time": "2021-09-17T15:53:43.080Z"
   },
   {
    "duration": 5,
    "start_time": "2021-09-17T15:53:43.091Z"
   },
   {
    "duration": 14,
    "start_time": "2021-09-17T15:53:43.098Z"
   },
   {
    "duration": 3,
    "start_time": "2021-09-17T15:53:43.113Z"
   },
   {
    "duration": 5,
    "start_time": "2021-09-17T15:53:43.118Z"
   },
   {
    "duration": 33,
    "start_time": "2021-09-17T15:53:43.144Z"
   },
   {
    "duration": 7,
    "start_time": "2021-09-17T15:53:43.178Z"
   },
   {
    "duration": 336,
    "start_time": "2021-09-17T15:53:43.187Z"
   },
   {
    "duration": 259,
    "start_time": "2021-09-17T15:53:48.475Z"
   },
   {
    "duration": 90,
    "start_time": "2021-09-17T15:54:30.641Z"
   },
   {
    "duration": 89,
    "start_time": "2021-09-17T15:54:36.291Z"
   },
   {
    "duration": 3,
    "start_time": "2021-09-17T16:14:48.670Z"
   },
   {
    "duration": 1114,
    "start_time": "2021-09-17T16:14:54.594Z"
   },
   {
    "duration": 2,
    "start_time": "2021-09-17T16:14:55.710Z"
   },
   {
    "duration": 32,
    "start_time": "2021-09-17T16:14:55.715Z"
   },
   {
    "duration": 30,
    "start_time": "2021-09-17T16:14:55.749Z"
   },
   {
    "duration": 10,
    "start_time": "2021-09-17T16:14:55.781Z"
   },
   {
    "duration": 22,
    "start_time": "2021-09-17T16:14:55.792Z"
   },
   {
    "duration": 13,
    "start_time": "2021-09-17T16:14:55.815Z"
   },
   {
    "duration": 12,
    "start_time": "2021-09-17T16:14:55.830Z"
   },
   {
    "duration": 14,
    "start_time": "2021-09-17T16:14:55.844Z"
   },
   {
    "duration": 27,
    "start_time": "2021-09-17T16:14:55.860Z"
   },
   {
    "duration": 19,
    "start_time": "2021-09-17T16:14:55.888Z"
   },
   {
    "duration": 29,
    "start_time": "2021-09-17T16:14:55.909Z"
   },
   {
    "duration": 569,
    "start_time": "2021-09-17T16:14:55.940Z"
   },
   {
    "duration": 8,
    "start_time": "2021-09-17T16:14:56.510Z"
   },
   {
    "duration": 23,
    "start_time": "2021-09-17T16:14:56.520Z"
   },
   {
    "duration": 250,
    "start_time": "2021-09-17T16:14:56.544Z"
   },
   {
    "duration": 3,
    "start_time": "2021-09-17T16:14:56.796Z"
   },
   {
    "duration": 2409,
    "start_time": "2021-09-17T16:14:56.801Z"
   },
   {
    "duration": 8,
    "start_time": "2021-09-17T16:14:59.211Z"
   },
   {
    "duration": 7,
    "start_time": "2021-09-17T16:14:59.221Z"
   },
   {
    "duration": 246,
    "start_time": "2021-09-17T16:14:59.230Z"
   },
   {
    "duration": 8,
    "start_time": "2021-09-17T16:14:59.478Z"
   },
   {
    "duration": 4,
    "start_time": "2021-09-17T16:14:59.488Z"
   },
   {
    "duration": 13,
    "start_time": "2021-09-17T16:14:59.494Z"
   },
   {
    "duration": 3,
    "start_time": "2021-09-17T16:14:59.508Z"
   },
   {
    "duration": 5,
    "start_time": "2021-09-17T16:14:59.513Z"
   },
   {
    "duration": 33,
    "start_time": "2021-09-17T16:14:59.547Z"
   },
   {
    "duration": 7,
    "start_time": "2021-09-17T16:14:59.582Z"
   },
   {
    "duration": 113,
    "start_time": "2021-09-17T16:14:59.591Z"
   },
   {
    "duration": 1220,
    "start_time": "2021-09-17T16:24:51.932Z"
   },
   {
    "duration": 2,
    "start_time": "2021-09-17T16:24:53.154Z"
   },
   {
    "duration": 23,
    "start_time": "2021-09-17T16:24:53.159Z"
   },
   {
    "duration": 12,
    "start_time": "2021-09-17T16:24:53.185Z"
   },
   {
    "duration": 7,
    "start_time": "2021-09-17T16:24:53.198Z"
   },
   {
    "duration": 9,
    "start_time": "2021-09-17T16:24:53.207Z"
   },
   {
    "duration": 7,
    "start_time": "2021-09-17T16:24:53.218Z"
   },
   {
    "duration": 16,
    "start_time": "2021-09-17T16:24:53.228Z"
   },
   {
    "duration": 4,
    "start_time": "2021-09-17T16:24:53.247Z"
   },
   {
    "duration": 6,
    "start_time": "2021-09-17T16:24:53.252Z"
   },
   {
    "duration": 6,
    "start_time": "2021-09-17T16:24:53.259Z"
   },
   {
    "duration": 13,
    "start_time": "2021-09-17T16:24:53.267Z"
   },
   {
    "duration": 594,
    "start_time": "2021-09-17T16:24:53.282Z"
   },
   {
    "duration": 8,
    "start_time": "2021-09-17T16:24:53.878Z"
   },
   {
    "duration": 10,
    "start_time": "2021-09-17T16:24:53.887Z"
   },
   {
    "duration": 252,
    "start_time": "2021-09-17T16:24:53.899Z"
   },
   {
    "duration": 3,
    "start_time": "2021-09-17T16:24:54.153Z"
   },
   {
    "duration": 2455,
    "start_time": "2021-09-17T16:24:54.158Z"
   },
   {
    "duration": 8,
    "start_time": "2021-09-17T16:24:56.614Z"
   },
   {
    "duration": 8,
    "start_time": "2021-09-17T16:24:56.624Z"
   },
   {
    "duration": 253,
    "start_time": "2021-09-17T16:24:56.633Z"
   },
   {
    "duration": 2,
    "start_time": "2021-09-17T16:24:56.888Z"
   },
   {
    "duration": 12,
    "start_time": "2021-09-17T16:24:56.893Z"
   },
   {
    "duration": 4,
    "start_time": "2021-09-17T16:24:56.906Z"
   },
   {
    "duration": 4,
    "start_time": "2021-09-17T16:24:56.911Z"
   },
   {
    "duration": 58,
    "start_time": "2021-09-17T16:24:56.916Z"
   },
   {
    "duration": 7,
    "start_time": "2021-09-17T16:24:56.975Z"
   },
   {
    "duration": 105,
    "start_time": "2021-09-17T16:24:56.984Z"
   },
   {
    "duration": 1160,
    "start_time": "2021-09-18T14:30:24.605Z"
   },
   {
    "duration": 3,
    "start_time": "2021-09-18T14:30:25.766Z"
   },
   {
    "duration": 21,
    "start_time": "2021-09-18T14:30:25.771Z"
   },
   {
    "duration": 11,
    "start_time": "2021-09-18T14:30:25.794Z"
   },
   {
    "duration": 6,
    "start_time": "2021-09-18T14:30:25.807Z"
   },
   {
    "duration": 6,
    "start_time": "2021-09-18T14:30:25.814Z"
   },
   {
    "duration": 7,
    "start_time": "2021-09-18T14:30:25.821Z"
   },
   {
    "duration": 4,
    "start_time": "2021-09-18T14:30:25.830Z"
   },
   {
    "duration": 5,
    "start_time": "2021-09-18T14:30:25.836Z"
   },
   {
    "duration": 5,
    "start_time": "2021-09-18T14:30:25.842Z"
   },
   {
    "duration": 5,
    "start_time": "2021-09-18T14:30:25.848Z"
   },
   {
    "duration": 5,
    "start_time": "2021-09-18T14:30:25.854Z"
   },
   {
    "duration": 601,
    "start_time": "2021-09-18T14:30:25.860Z"
   },
   {
    "duration": 9,
    "start_time": "2021-09-18T14:30:26.463Z"
   },
   {
    "duration": 8,
    "start_time": "2021-09-18T14:30:26.473Z"
   },
   {
    "duration": 268,
    "start_time": "2021-09-18T14:30:26.482Z"
   },
   {
    "duration": 3,
    "start_time": "2021-09-18T14:30:26.752Z"
   },
   {
    "duration": 2423,
    "start_time": "2021-09-18T14:30:26.756Z"
   },
   {
    "duration": 9,
    "start_time": "2021-09-18T14:30:29.181Z"
   },
   {
    "duration": 12,
    "start_time": "2021-09-18T14:30:29.192Z"
   },
   {
    "duration": 271,
    "start_time": "2021-09-18T14:30:29.206Z"
   },
   {
    "duration": 4,
    "start_time": "2021-09-18T14:30:29.479Z"
   },
   {
    "duration": 20,
    "start_time": "2021-09-18T14:30:29.486Z"
   },
   {
    "duration": 3,
    "start_time": "2021-09-18T14:30:29.508Z"
   },
   {
    "duration": 7,
    "start_time": "2021-09-18T14:30:29.513Z"
   },
   {
    "duration": 35,
    "start_time": "2021-09-18T14:30:29.521Z"
   },
   {
    "duration": 6,
    "start_time": "2021-09-18T14:30:29.558Z"
   },
   {
    "duration": 116,
    "start_time": "2021-09-18T14:30:29.565Z"
   },
   {
    "duration": 1559,
    "start_time": "2021-09-19T09:30:06.475Z"
   },
   {
    "duration": 5,
    "start_time": "2021-09-19T09:30:09.325Z"
   },
   {
    "duration": 20,
    "start_time": "2021-09-19T09:30:10.106Z"
   },
   {
    "duration": 18,
    "start_time": "2021-09-19T09:30:11.243Z"
   },
   {
    "duration": 9,
    "start_time": "2021-09-19T09:30:14.910Z"
   },
   {
    "duration": 8,
    "start_time": "2021-09-19T09:30:15.662Z"
   },
   {
    "duration": 9,
    "start_time": "2021-09-19T09:31:27.185Z"
   },
   {
    "duration": 14,
    "start_time": "2021-09-19T09:38:30.590Z"
   },
   {
    "duration": 14,
    "start_time": "2021-09-19T09:49:30.579Z"
   },
   {
    "duration": 10,
    "start_time": "2021-09-19T09:49:39.904Z"
   },
   {
    "duration": 9,
    "start_time": "2021-09-19T09:49:49.613Z"
   },
   {
    "duration": 9,
    "start_time": "2021-09-19T09:50:19.146Z"
   },
   {
    "duration": 5,
    "start_time": "2021-09-19T09:51:43.994Z"
   },
   {
    "duration": 11,
    "start_time": "2021-09-19T09:51:49.131Z"
   },
   {
    "duration": 5,
    "start_time": "2021-09-19T09:53:14.729Z"
   },
   {
    "duration": 9,
    "start_time": "2021-09-19T09:53:39.251Z"
   },
   {
    "duration": 9,
    "start_time": "2021-09-19T09:53:58.993Z"
   },
   {
    "duration": 5,
    "start_time": "2021-09-19T09:54:01.359Z"
   },
   {
    "duration": 5,
    "start_time": "2021-09-19T09:54:02.205Z"
   },
   {
    "duration": 4,
    "start_time": "2021-09-19T09:54:04.217Z"
   },
   {
    "duration": 4,
    "start_time": "2021-09-19T09:54:19.440Z"
   },
   {
    "duration": 8,
    "start_time": "2021-09-19T09:56:30.634Z"
   },
   {
    "duration": 9,
    "start_time": "2021-09-19T10:00:44.471Z"
   },
   {
    "duration": 3,
    "start_time": "2021-09-19T10:08:59.687Z"
   },
   {
    "duration": 4,
    "start_time": "2021-09-19T10:12:24.494Z"
   },
   {
    "duration": 4,
    "start_time": "2021-09-19T10:14:25.149Z"
   },
   {
    "duration": 6309,
    "start_time": "2021-09-19T10:14:57.230Z"
   },
   {
    "duration": 5,
    "start_time": "2021-09-19T10:18:05.281Z"
   },
   {
    "duration": 3,
    "start_time": "2021-09-19T10:18:57.816Z"
   },
   {
    "duration": 8,
    "start_time": "2021-09-19T10:19:32.041Z"
   },
   {
    "duration": 4,
    "start_time": "2021-09-19T10:21:43.455Z"
   },
   {
    "duration": 986,
    "start_time": "2021-09-19T10:22:08.530Z"
   },
   {
    "duration": 3,
    "start_time": "2021-09-19T10:22:16.806Z"
   },
   {
    "duration": 3,
    "start_time": "2021-09-19T10:22:30.441Z"
   },
   {
    "duration": 1474,
    "start_time": "2022-01-10T07:02:24.046Z"
   },
   {
    "duration": 4,
    "start_time": "2022-01-10T07:02:25.522Z"
   },
   {
    "duration": 74,
    "start_time": "2022-01-10T07:02:25.528Z"
   },
   {
    "duration": 17,
    "start_time": "2022-01-10T07:02:25.895Z"
   },
   {
    "duration": 9,
    "start_time": "2022-01-10T07:02:35.506Z"
   }
  ],
  "kernelspec": {
   "display_name": "Python 3",
   "language": "python",
   "name": "python3"
  },
  "language_info": {
   "codemirror_mode": {
    "name": "ipython",
    "version": 3
   },
   "file_extension": ".py",
   "mimetype": "text/x-python",
   "name": "python",
   "nbconvert_exporter": "python",
   "pygments_lexer": "ipython3",
   "version": "3.8.5"
  },
  "toc": {
   "base_numbering": 1,
   "nav_menu": {},
   "number_sections": true,
   "sideBar": true,
   "skip_h1_title": true,
   "title_cell": "Table of Contents",
   "title_sidebar": "Contents",
   "toc_cell": false,
   "toc_position": {},
   "toc_section_display": true,
   "toc_window_display": false
  }
 },
 "nbformat": 4,
 "nbformat_minor": 2
}
