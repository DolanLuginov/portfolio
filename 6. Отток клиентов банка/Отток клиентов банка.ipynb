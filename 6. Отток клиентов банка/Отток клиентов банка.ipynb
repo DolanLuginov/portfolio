{
 "cells": [
  {
   "cell_type": "markdown",
   "metadata": {},
   "source": [
    "# Задача"
   ]
  },
  {
   "cell_type": "markdown",
   "metadata": {},
   "source": [
    "Нам предоставлены исторические данные о поведении клиентов и расторжении договоров с банком. Нужно спрогнозировать, уйдёт клиент из банка в ближайшее время или нет. Требование: довести F1-меру на тестовой выборке до 0.59"
   ]
  },
  {
   "cell_type": "markdown",
   "metadata": {},
   "source": [
    "Признаки:  \n",
    "\n",
    "- RowNumber — индекс строки в данных  \n",
    "- CustomerId — уникальный идентификатор клиента  \n",
    "- Surname — фамилия  \n",
    "- CreditScore — кредитный рейтинг  \n",
    "- Geography — страна проживания  \n",
    "- Gender — пол  \n",
    "- Age — возраст  \n",
    "- Tenure — сколько лет человек является клиентом банка  \n",
    "- Balance — баланс на счёте  \n",
    "- NumOfProducts — количество продуктов банка, используемых клиентом  \n",
    "- HasCrCard — наличие кредитной карты  \n",
    "- IsActiveMember — активность клиента  \n",
    "- EstimatedSalary — предполагаемая зарплата  \n",
    "\n",
    "Целевой признак:  \n",
    "\n",
    "- Exited — факт ухода клиента  "
   ]
  },
  {
   "cell_type": "markdown",
   "metadata": {},
   "source": [
    "# Подготовка данных"
   ]
  },
  {
   "cell_type": "code",
   "execution_count": 1,
   "metadata": {},
   "outputs": [],
   "source": [
    "import pandas as pd\n",
    "import numpy as np\n",
    "from matplotlib import pyplot as plt\n",
    "import seaborn as sns\n",
    "%matplotlib inline\n",
    "\n",
    "from sklearn.preprocessing import StandardScaler, MinMaxScaler\n",
    "from sklearn.model_selection import train_test_split, GridSearchCV, StratifiedKFold\n",
    "\n",
    "from sklearn.linear_model import LogisticRegression\n",
    "from sklearn.ensemble import RandomForestClassifier\n",
    "from lightgbm import LGBMClassifier\n",
    "\n",
    "from sklearn.metrics import precision_score, recall_score, auc, accuracy_score, roc_auc_score, f1_score,\\\n",
    "classification_report, roc_curve\n",
    "from sklearn.utils import shuffle\n",
    "\n",
    "import warnings\n",
    "warnings.filterwarnings(\"ignore\")\n",
    "\n",
    "RAND = 22"
   ]
  },
  {
   "cell_type": "code",
   "execution_count": 2,
   "metadata": {},
   "outputs": [],
   "source": [
    "df = pd.read_csv('Churn.csv')"
   ]
  },
  {
   "cell_type": "code",
   "execution_count": 3,
   "metadata": {},
   "outputs": [
    {
     "data": {
      "text/html": [
       "<div>\n",
       "<style scoped>\n",
       "    .dataframe tbody tr th:only-of-type {\n",
       "        vertical-align: middle;\n",
       "    }\n",
       "\n",
       "    .dataframe tbody tr th {\n",
       "        vertical-align: top;\n",
       "    }\n",
       "\n",
       "    .dataframe thead th {\n",
       "        text-align: right;\n",
       "    }\n",
       "</style>\n",
       "<table border=\"1\" class=\"dataframe\">\n",
       "  <thead>\n",
       "    <tr style=\"text-align: right;\">\n",
       "      <th></th>\n",
       "      <th>RowNumber</th>\n",
       "      <th>CustomerId</th>\n",
       "      <th>Surname</th>\n",
       "      <th>CreditScore</th>\n",
       "      <th>Geography</th>\n",
       "      <th>Gender</th>\n",
       "      <th>Age</th>\n",
       "      <th>Tenure</th>\n",
       "      <th>Balance</th>\n",
       "      <th>NumOfProducts</th>\n",
       "      <th>HasCrCard</th>\n",
       "      <th>IsActiveMember</th>\n",
       "      <th>EstimatedSalary</th>\n",
       "      <th>Exited</th>\n",
       "    </tr>\n",
       "  </thead>\n",
       "  <tbody>\n",
       "    <tr>\n",
       "      <th>0</th>\n",
       "      <td>1</td>\n",
       "      <td>15634602</td>\n",
       "      <td>Hargrave</td>\n",
       "      <td>619</td>\n",
       "      <td>France</td>\n",
       "      <td>Female</td>\n",
       "      <td>42</td>\n",
       "      <td>2.0</td>\n",
       "      <td>0.00</td>\n",
       "      <td>1</td>\n",
       "      <td>1</td>\n",
       "      <td>1</td>\n",
       "      <td>101348.88</td>\n",
       "      <td>1</td>\n",
       "    </tr>\n",
       "    <tr>\n",
       "      <th>1</th>\n",
       "      <td>2</td>\n",
       "      <td>15647311</td>\n",
       "      <td>Hill</td>\n",
       "      <td>608</td>\n",
       "      <td>Spain</td>\n",
       "      <td>Female</td>\n",
       "      <td>41</td>\n",
       "      <td>1.0</td>\n",
       "      <td>83807.86</td>\n",
       "      <td>1</td>\n",
       "      <td>0</td>\n",
       "      <td>1</td>\n",
       "      <td>112542.58</td>\n",
       "      <td>0</td>\n",
       "    </tr>\n",
       "    <tr>\n",
       "      <th>2</th>\n",
       "      <td>3</td>\n",
       "      <td>15619304</td>\n",
       "      <td>Onio</td>\n",
       "      <td>502</td>\n",
       "      <td>France</td>\n",
       "      <td>Female</td>\n",
       "      <td>42</td>\n",
       "      <td>8.0</td>\n",
       "      <td>159660.80</td>\n",
       "      <td>3</td>\n",
       "      <td>1</td>\n",
       "      <td>0</td>\n",
       "      <td>113931.57</td>\n",
       "      <td>1</td>\n",
       "    </tr>\n",
       "    <tr>\n",
       "      <th>3</th>\n",
       "      <td>4</td>\n",
       "      <td>15701354</td>\n",
       "      <td>Boni</td>\n",
       "      <td>699</td>\n",
       "      <td>France</td>\n",
       "      <td>Female</td>\n",
       "      <td>39</td>\n",
       "      <td>1.0</td>\n",
       "      <td>0.00</td>\n",
       "      <td>2</td>\n",
       "      <td>0</td>\n",
       "      <td>0</td>\n",
       "      <td>93826.63</td>\n",
       "      <td>0</td>\n",
       "    </tr>\n",
       "    <tr>\n",
       "      <th>4</th>\n",
       "      <td>5</td>\n",
       "      <td>15737888</td>\n",
       "      <td>Mitchell</td>\n",
       "      <td>850</td>\n",
       "      <td>Spain</td>\n",
       "      <td>Female</td>\n",
       "      <td>43</td>\n",
       "      <td>2.0</td>\n",
       "      <td>125510.82</td>\n",
       "      <td>1</td>\n",
       "      <td>1</td>\n",
       "      <td>1</td>\n",
       "      <td>79084.10</td>\n",
       "      <td>0</td>\n",
       "    </tr>\n",
       "  </tbody>\n",
       "</table>\n",
       "</div>"
      ],
      "text/plain": [
       "   RowNumber  CustomerId   Surname  CreditScore Geography  Gender  Age  \\\n",
       "0          1    15634602  Hargrave          619    France  Female   42   \n",
       "1          2    15647311      Hill          608     Spain  Female   41   \n",
       "2          3    15619304      Onio          502    France  Female   42   \n",
       "3          4    15701354      Boni          699    France  Female   39   \n",
       "4          5    15737888  Mitchell          850     Spain  Female   43   \n",
       "\n",
       "   Tenure    Balance  NumOfProducts  HasCrCard  IsActiveMember  \\\n",
       "0     2.0       0.00              1          1               1   \n",
       "1     1.0   83807.86              1          0               1   \n",
       "2     8.0  159660.80              3          1               0   \n",
       "3     1.0       0.00              2          0               0   \n",
       "4     2.0  125510.82              1          1               1   \n",
       "\n",
       "   EstimatedSalary  Exited  \n",
       "0        101348.88       1  \n",
       "1        112542.58       0  \n",
       "2        113931.57       1  \n",
       "3         93826.63       0  \n",
       "4         79084.10       0  "
      ]
     },
     "execution_count": 3,
     "metadata": {},
     "output_type": "execute_result"
    }
   ],
   "source": [
    "df.head()"
   ]
  },
  {
   "cell_type": "code",
   "execution_count": 4,
   "metadata": {},
   "outputs": [],
   "source": [
    "df = df.drop('RowNumber', axis=1)"
   ]
  },
  {
   "cell_type": "code",
   "execution_count": 5,
   "metadata": {
    "scrolled": true
   },
   "outputs": [
    {
     "name": "stdout",
     "output_type": "stream",
     "text": [
      "<class 'pandas.core.frame.DataFrame'>\n",
      "RangeIndex: 10000 entries, 0 to 9999\n",
      "Data columns (total 13 columns):\n",
      " #   Column           Non-Null Count  Dtype  \n",
      "---  ------           --------------  -----  \n",
      " 0   CustomerId       10000 non-null  int64  \n",
      " 1   Surname          10000 non-null  object \n",
      " 2   CreditScore      10000 non-null  int64  \n",
      " 3   Geography        10000 non-null  object \n",
      " 4   Gender           10000 non-null  object \n",
      " 5   Age              10000 non-null  int64  \n",
      " 6   Tenure           9091 non-null   float64\n",
      " 7   Balance          10000 non-null  float64\n",
      " 8   NumOfProducts    10000 non-null  int64  \n",
      " 9   HasCrCard        10000 non-null  int64  \n",
      " 10  IsActiveMember   10000 non-null  int64  \n",
      " 11  EstimatedSalary  10000 non-null  float64\n",
      " 12  Exited           10000 non-null  int64  \n",
      "dtypes: float64(3), int64(7), object(3)\n",
      "memory usage: 1015.8+ KB\n"
     ]
    }
   ],
   "source": [
    "df.info()"
   ]
  },
  {
   "cell_type": "markdown",
   "metadata": {},
   "source": [
    "В нашем датасете 10000 наблюдений. Есть пропущенные значения в столбце Tenure. Это довольно важный признак, поэтому если заполнить его константным значением, то мы сильно исказим наши данные, и модели будут плохо предсказывать"
   ]
  },
  {
   "cell_type": "code",
   "execution_count": 6,
   "metadata": {},
   "outputs": [],
   "source": [
    "df = df.dropna().reset_index(drop=True)"
   ]
  },
  {
   "cell_type": "markdown",
   "metadata": {},
   "source": [
    "Целевой признак 'Exited' имеет категориальный тип данных (1 - ушел из банка, 0 - не ушел). Значит мы имеем дело с классификацией - исходя из признаков должны предсказать факт ухода клиента от банка. Сначала посмотрим на баланс классов"
   ]
  },
  {
   "cell_type": "code",
   "execution_count": 7,
   "metadata": {
    "scrolled": true
   },
   "outputs": [
    {
     "name": "stdout",
     "output_type": "stream",
     "text": [
      "0    0.796062\n",
      "1    0.203938\n",
      "Name: Exited, dtype: float64\n"
     ]
    },
    {
     "data": {
      "image/png": "[encoded data removed]",
      "text/plain": [
       "<Figure size 432x288 with 1 Axes>"
      ]
     },
     "metadata": {
      "needs_background": "light"
     },
     "output_type": "display_data"
    }
   ],
   "source": [
    "print(df['Exited'].value_counts(normalize=True))\n",
    "sns.countplot(x='Exited', data=df);"
   ]
  },
  {
   "cell_type": "markdown",
   "metadata": {},
   "source": [
    "В датесете присутствует дисбаланс классов, при обучении модели это стоит учитывать"
   ]
  },
  {
   "cell_type": "markdown",
   "metadata": {},
   "source": [
    "Отделим целевой признак"
   ]
  },
  {
   "cell_type": "code",
   "execution_count": 8,
   "metadata": {
    "scrolled": true
   },
   "outputs": [],
   "source": [
    "X = df.drop(['CustomerId', 'Surname', 'Exited'], axis=1)\n",
    "y = df['Exited']"
   ]
  },
  {
   "cell_type": "code",
   "execution_count": 9,
   "metadata": {},
   "outputs": [
    {
     "data": {
      "text/html": [
       "<div>\n",
       "<style scoped>\n",
       "    .dataframe tbody tr th:only-of-type {\n",
       "        vertical-align: middle;\n",
       "    }\n",
       "\n",
       "    .dataframe tbody tr th {\n",
       "        vertical-align: top;\n",
       "    }\n",
       "\n",
       "    .dataframe thead th {\n",
       "        text-align: right;\n",
       "    }\n",
       "</style>\n",
       "<table border=\"1\" class=\"dataframe\">\n",
       "  <thead>\n",
       "    <tr style=\"text-align: right;\">\n",
       "      <th></th>\n",
       "      <th>CreditScore</th>\n",
       "      <th>Geography</th>\n",
       "      <th>Gender</th>\n",
       "      <th>Age</th>\n",
       "      <th>Tenure</th>\n",
       "      <th>Balance</th>\n",
       "      <th>NumOfProducts</th>\n",
       "      <th>HasCrCard</th>\n",
       "      <th>IsActiveMember</th>\n",
       "      <th>EstimatedSalary</th>\n",
       "    </tr>\n",
       "  </thead>\n",
       "  <tbody>\n",
       "    <tr>\n",
       "      <th>0</th>\n",
       "      <td>619</td>\n",
       "      <td>France</td>\n",
       "      <td>Female</td>\n",
       "      <td>42</td>\n",
       "      <td>2.0</td>\n",
       "      <td>0.00</td>\n",
       "      <td>1</td>\n",
       "      <td>1</td>\n",
       "      <td>1</td>\n",
       "      <td>101348.88</td>\n",
       "    </tr>\n",
       "    <tr>\n",
       "      <th>1</th>\n",
       "      <td>608</td>\n",
       "      <td>Spain</td>\n",
       "      <td>Female</td>\n",
       "      <td>41</td>\n",
       "      <td>1.0</td>\n",
       "      <td>83807.86</td>\n",
       "      <td>1</td>\n",
       "      <td>0</td>\n",
       "      <td>1</td>\n",
       "      <td>112542.58</td>\n",
       "    </tr>\n",
       "    <tr>\n",
       "      <th>2</th>\n",
       "      <td>502</td>\n",
       "      <td>France</td>\n",
       "      <td>Female</td>\n",
       "      <td>42</td>\n",
       "      <td>8.0</td>\n",
       "      <td>159660.80</td>\n",
       "      <td>3</td>\n",
       "      <td>1</td>\n",
       "      <td>0</td>\n",
       "      <td>113931.57</td>\n",
       "    </tr>\n",
       "    <tr>\n",
       "      <th>3</th>\n",
       "      <td>699</td>\n",
       "      <td>France</td>\n",
       "      <td>Female</td>\n",
       "      <td>39</td>\n",
       "      <td>1.0</td>\n",
       "      <td>0.00</td>\n",
       "      <td>2</td>\n",
       "      <td>0</td>\n",
       "      <td>0</td>\n",
       "      <td>93826.63</td>\n",
       "    </tr>\n",
       "    <tr>\n",
       "      <th>4</th>\n",
       "      <td>850</td>\n",
       "      <td>Spain</td>\n",
       "      <td>Female</td>\n",
       "      <td>43</td>\n",
       "      <td>2.0</td>\n",
       "      <td>125510.82</td>\n",
       "      <td>1</td>\n",
       "      <td>1</td>\n",
       "      <td>1</td>\n",
       "      <td>79084.10</td>\n",
       "    </tr>\n",
       "  </tbody>\n",
       "</table>\n",
       "</div>"
      ],
      "text/plain": [
       "   CreditScore Geography  Gender  Age  Tenure    Balance  NumOfProducts  \\\n",
       "0          619    France  Female   42     2.0       0.00              1   \n",
       "1          608     Spain  Female   41     1.0   83807.86              1   \n",
       "2          502    France  Female   42     8.0  159660.80              3   \n",
       "3          699    France  Female   39     1.0       0.00              2   \n",
       "4          850     Spain  Female   43     2.0  125510.82              1   \n",
       "\n",
       "   HasCrCard  IsActiveMember  EstimatedSalary  \n",
       "0          1               1        101348.88  \n",
       "1          0               1        112542.58  \n",
       "2          1               0        113931.57  \n",
       "3          0               0         93826.63  \n",
       "4          1               1         79084.10  "
      ]
     },
     "execution_count": 9,
     "metadata": {},
     "output_type": "execute_result"
    }
   ],
   "source": [
    "X.head()"
   ]
  },
  {
   "cell_type": "markdown",
   "metadata": {},
   "source": [
    "Для корректной работы алгоритмов нужно привести все категориальные признаки в численный тип данных"
   ]
  },
  {
   "cell_type": "code",
   "execution_count": 10,
   "metadata": {},
   "outputs": [
    {
     "data": {
      "text/html": [
       "<div>\n",
       "<style scoped>\n",
       "    .dataframe tbody tr th:only-of-type {\n",
       "        vertical-align: middle;\n",
       "    }\n",
       "\n",
       "    .dataframe tbody tr th {\n",
       "        vertical-align: top;\n",
       "    }\n",
       "\n",
       "    .dataframe thead th {\n",
       "        text-align: right;\n",
       "    }\n",
       "</style>\n",
       "<table border=\"1\" class=\"dataframe\">\n",
       "  <thead>\n",
       "    <tr style=\"text-align: right;\">\n",
       "      <th></th>\n",
       "      <th>CreditScore</th>\n",
       "      <th>Age</th>\n",
       "      <th>Tenure</th>\n",
       "      <th>Balance</th>\n",
       "      <th>NumOfProducts</th>\n",
       "      <th>HasCrCard</th>\n",
       "      <th>IsActiveMember</th>\n",
       "      <th>EstimatedSalary</th>\n",
       "      <th>Geography_Germany</th>\n",
       "      <th>Geography_Spain</th>\n",
       "      <th>Gender_Male</th>\n",
       "    </tr>\n",
       "  </thead>\n",
       "  <tbody>\n",
       "    <tr>\n",
       "      <th>0</th>\n",
       "      <td>619</td>\n",
       "      <td>42</td>\n",
       "      <td>2.0</td>\n",
       "      <td>0.00</td>\n",
       "      <td>1</td>\n",
       "      <td>1</td>\n",
       "      <td>1</td>\n",
       "      <td>101348.88</td>\n",
       "      <td>0</td>\n",
       "      <td>0</td>\n",
       "      <td>0</td>\n",
       "    </tr>\n",
       "    <tr>\n",
       "      <th>1</th>\n",
       "      <td>608</td>\n",
       "      <td>41</td>\n",
       "      <td>1.0</td>\n",
       "      <td>83807.86</td>\n",
       "      <td>1</td>\n",
       "      <td>0</td>\n",
       "      <td>1</td>\n",
       "      <td>112542.58</td>\n",
       "      <td>0</td>\n",
       "      <td>1</td>\n",
       "      <td>0</td>\n",
       "    </tr>\n",
       "    <tr>\n",
       "      <th>2</th>\n",
       "      <td>502</td>\n",
       "      <td>42</td>\n",
       "      <td>8.0</td>\n",
       "      <td>159660.80</td>\n",
       "      <td>3</td>\n",
       "      <td>1</td>\n",
       "      <td>0</td>\n",
       "      <td>113931.57</td>\n",
       "      <td>0</td>\n",
       "      <td>0</td>\n",
       "      <td>0</td>\n",
       "    </tr>\n",
       "    <tr>\n",
       "      <th>3</th>\n",
       "      <td>699</td>\n",
       "      <td>39</td>\n",
       "      <td>1.0</td>\n",
       "      <td>0.00</td>\n",
       "      <td>2</td>\n",
       "      <td>0</td>\n",
       "      <td>0</td>\n",
       "      <td>93826.63</td>\n",
       "      <td>0</td>\n",
       "      <td>0</td>\n",
       "      <td>0</td>\n",
       "    </tr>\n",
       "    <tr>\n",
       "      <th>4</th>\n",
       "      <td>850</td>\n",
       "      <td>43</td>\n",
       "      <td>2.0</td>\n",
       "      <td>125510.82</td>\n",
       "      <td>1</td>\n",
       "      <td>1</td>\n",
       "      <td>1</td>\n",
       "      <td>79084.10</td>\n",
       "      <td>0</td>\n",
       "      <td>1</td>\n",
       "      <td>0</td>\n",
       "    </tr>\n",
       "  </tbody>\n",
       "</table>\n",
       "</div>"
      ],
      "text/plain": [
       "   CreditScore  Age  Tenure    Balance  NumOfProducts  HasCrCard  \\\n",
       "0          619   42     2.0       0.00              1          1   \n",
       "1          608   41     1.0   83807.86              1          0   \n",
       "2          502   42     8.0  159660.80              3          1   \n",
       "3          699   39     1.0       0.00              2          0   \n",
       "4          850   43     2.0  125510.82              1          1   \n",
       "\n",
       "   IsActiveMember  EstimatedSalary  Geography_Germany  Geography_Spain  \\\n",
       "0               1        101348.88                  0                0   \n",
       "1               1        112542.58                  0                1   \n",
       "2               0        113931.57                  0                0   \n",
       "3               0         93826.63                  0                0   \n",
       "4               1         79084.10                  0                1   \n",
       "\n",
       "   Gender_Male  \n",
       "0            0  \n",
       "1            0  \n",
       "2            0  \n",
       "3            0  \n",
       "4            0  "
      ]
     },
     "execution_count": 10,
     "metadata": {},
     "output_type": "execute_result"
    }
   ],
   "source": [
    "X = pd.get_dummies(X, drop_first=True)\n",
    "X.head()"
   ]
  },
  {
   "cell_type": "markdown",
   "metadata": {},
   "source": [
    "Посмотрим на корреляцию признаков"
   ]
  },
  {
   "cell_type": "code",
   "execution_count": 11,
   "metadata": {},
   "outputs": [
    {
     "data": {
      "image/png": "[encoded data removed]",
      "text/plain": [
       "<Figure size 432x288 with 2 Axes>"
      ]
     },
     "metadata": {
      "needs_background": "light"
     },
     "output_type": "display_data"
    }
   ],
   "source": [
    "sns.heatmap(X.corr())\n",
    "plt.show()"
   ]
  },
  {
   "cell_type": "markdown",
   "metadata": {},
   "source": [
    "Сильной связи между признаками нет. Это будет плюсом в обучении моделей"
   ]
  },
  {
   "cell_type": "markdown",
   "metadata": {},
   "source": [
    "Признаки имеют разные масштабы значений. Из-за этого веса у линейных моделей будет сильно различаться. Чтобы избежать этого нам нужно стандартизировать численные значения признаков. Но сначала разделим данные на обучающую и тестовую выборки"
   ]
  },
  {
   "cell_type": "code",
   "execution_count": 12,
   "metadata": {},
   "outputs": [],
   "source": [
    "X_train, X_test, y_train, y_test = train_test_split(X, y, test_size=0.3, stratify=y, shuffle=True, random_state=RAND)"
   ]
  },
  {
   "cell_type": "code",
   "execution_count": 13,
   "metadata": {},
   "outputs": [
    {
     "data": {
      "text/plain": [
       "((6363, 11), (2728, 11))"
      ]
     },
     "execution_count": 13,
     "metadata": {},
     "output_type": "execute_result"
    }
   ],
   "source": [
    "X_train.shape, X_test.shape"
   ]
  },
  {
   "cell_type": "code",
   "execution_count": 14,
   "metadata": {},
   "outputs": [],
   "source": [
    "numeric = ['CreditScore', 'Age', 'Balance', 'EstimatedSalary']"
   ]
  },
  {
   "cell_type": "code",
   "execution_count": 15,
   "metadata": {},
   "outputs": [
    {
     "data": {
      "text/plain": [
       "StandardScaler()"
      ]
     },
     "execution_count": 15,
     "metadata": {},
     "output_type": "execute_result"
    }
   ],
   "source": [
    "scaler = StandardScaler()\n",
    "scaler.fit(X_train[numeric]) "
   ]
  },
  {
   "cell_type": "code",
   "execution_count": 16,
   "metadata": {},
   "outputs": [],
   "source": [
    "X_train[numeric] = scaler.transform(X_train[numeric])\n",
    "X_test[numeric] = scaler.transform(X_test[numeric])"
   ]
  },
  {
   "cell_type": "code",
   "execution_count": 17,
   "metadata": {},
   "outputs": [
    {
     "data": {
      "text/html": [
       "<div>\n",
       "<style scoped>\n",
       "    .dataframe tbody tr th:only-of-type {\n",
       "        vertical-align: middle;\n",
       "    }\n",
       "\n",
       "    .dataframe tbody tr th {\n",
       "        vertical-align: top;\n",
       "    }\n",
       "\n",
       "    .dataframe thead th {\n",
       "        text-align: right;\n",
       "    }\n",
       "</style>\n",
       "<table border=\"1\" class=\"dataframe\">\n",
       "  <thead>\n",
       "    <tr style=\"text-align: right;\">\n",
       "      <th></th>\n",
       "      <th>CreditScore</th>\n",
       "      <th>Age</th>\n",
       "      <th>Tenure</th>\n",
       "      <th>Balance</th>\n",
       "      <th>NumOfProducts</th>\n",
       "      <th>HasCrCard</th>\n",
       "      <th>IsActiveMember</th>\n",
       "      <th>EstimatedSalary</th>\n",
       "      <th>Geography_Germany</th>\n",
       "      <th>Geography_Spain</th>\n",
       "      <th>Gender_Male</th>\n",
       "    </tr>\n",
       "  </thead>\n",
       "  <tbody>\n",
       "    <tr>\n",
       "      <th>8723</th>\n",
       "      <td>1.241726</td>\n",
       "      <td>-0.759917</td>\n",
       "      <td>3.0</td>\n",
       "      <td>1.256240</td>\n",
       "      <td>2</td>\n",
       "      <td>1</td>\n",
       "      <td>1</td>\n",
       "      <td>1.497281</td>\n",
       "      <td>0</td>\n",
       "      <td>0</td>\n",
       "      <td>1</td>\n",
       "    </tr>\n",
       "    <tr>\n",
       "      <th>1500</th>\n",
       "      <td>1.272761</td>\n",
       "      <td>1.224806</td>\n",
       "      <td>4.0</td>\n",
       "      <td>-1.222541</td>\n",
       "      <td>1</td>\n",
       "      <td>0</td>\n",
       "      <td>1</td>\n",
       "      <td>0.767497</td>\n",
       "      <td>0</td>\n",
       "      <td>0</td>\n",
       "      <td>1</td>\n",
       "    </tr>\n",
       "    <tr>\n",
       "      <th>5739</th>\n",
       "      <td>-2.068749</td>\n",
       "      <td>-0.948939</td>\n",
       "      <td>7.0</td>\n",
       "      <td>0.651159</td>\n",
       "      <td>1</td>\n",
       "      <td>1</td>\n",
       "      <td>1</td>\n",
       "      <td>-0.983125</td>\n",
       "      <td>0</td>\n",
       "      <td>0</td>\n",
       "      <td>1</td>\n",
       "    </tr>\n",
       "    <tr>\n",
       "      <th>7663</th>\n",
       "      <td>0.134786</td>\n",
       "      <td>-0.570896</td>\n",
       "      <td>8.0</td>\n",
       "      <td>0.324528</td>\n",
       "      <td>1</td>\n",
       "      <td>1</td>\n",
       "      <td>1</td>\n",
       "      <td>-1.098228</td>\n",
       "      <td>0</td>\n",
       "      <td>1</td>\n",
       "      <td>0</td>\n",
       "    </tr>\n",
       "    <tr>\n",
       "      <th>4696</th>\n",
       "      <td>0.455488</td>\n",
       "      <td>-0.098343</td>\n",
       "      <td>1.0</td>\n",
       "      <td>-1.222541</td>\n",
       "      <td>2</td>\n",
       "      <td>0</td>\n",
       "      <td>1</td>\n",
       "      <td>0.989207</td>\n",
       "      <td>0</td>\n",
       "      <td>0</td>\n",
       "      <td>1</td>\n",
       "    </tr>\n",
       "  </tbody>\n",
       "</table>\n",
       "</div>"
      ],
      "text/plain": [
       "      CreditScore       Age  Tenure   Balance  NumOfProducts  HasCrCard  \\\n",
       "8723     1.241726 -0.759917     3.0  1.256240              2          1   \n",
       "1500     1.272761  1.224806     4.0 -1.222541              1          0   \n",
       "5739    -2.068749 -0.948939     7.0  0.651159              1          1   \n",
       "7663     0.134786 -0.570896     8.0  0.324528              1          1   \n",
       "4696     0.455488 -0.098343     1.0 -1.222541              2          0   \n",
       "\n",
       "      IsActiveMember  EstimatedSalary  Geography_Germany  Geography_Spain  \\\n",
       "8723               1         1.497281                  0                0   \n",
       "1500               1         0.767497                  0                0   \n",
       "5739               1        -0.983125                  0                0   \n",
       "7663               1        -1.098228                  0                1   \n",
       "4696               1         0.989207                  0                0   \n",
       "\n",
       "      Gender_Male  \n",
       "8723            1  \n",
       "1500            1  \n",
       "5739            1  \n",
       "7663            0  \n",
       "4696            1  "
      ]
     },
     "execution_count": 17,
     "metadata": {},
     "output_type": "execute_result"
    }
   ],
   "source": [
    "X_train.head()"
   ]
  },
  {
   "cell_type": "code",
   "execution_count": 18,
   "metadata": {},
   "outputs": [
    {
     "data": {
      "text/html": [
       "<div>\n",
       "<style scoped>\n",
       "    .dataframe tbody tr th:only-of-type {\n",
       "        vertical-align: middle;\n",
       "    }\n",
       "\n",
       "    .dataframe tbody tr th {\n",
       "        vertical-align: top;\n",
       "    }\n",
       "\n",
       "    .dataframe thead th {\n",
       "        text-align: right;\n",
       "    }\n",
       "</style>\n",
       "<table border=\"1\" class=\"dataframe\">\n",
       "  <thead>\n",
       "    <tr style=\"text-align: right;\">\n",
       "      <th></th>\n",
       "      <th>CreditScore</th>\n",
       "      <th>Age</th>\n",
       "      <th>Tenure</th>\n",
       "      <th>Balance</th>\n",
       "      <th>NumOfProducts</th>\n",
       "      <th>HasCrCard</th>\n",
       "      <th>IsActiveMember</th>\n",
       "      <th>EstimatedSalary</th>\n",
       "      <th>Geography_Germany</th>\n",
       "      <th>Geography_Spain</th>\n",
       "      <th>Gender_Male</th>\n",
       "    </tr>\n",
       "  </thead>\n",
       "  <tbody>\n",
       "    <tr>\n",
       "      <th>8776</th>\n",
       "      <td>0.258928</td>\n",
       "      <td>-0.003832</td>\n",
       "      <td>6.0</td>\n",
       "      <td>-1.222541</td>\n",
       "      <td>2</td>\n",
       "      <td>0</td>\n",
       "      <td>0</td>\n",
       "      <td>-0.288349</td>\n",
       "      <td>0</td>\n",
       "      <td>0</td>\n",
       "      <td>0</td>\n",
       "    </tr>\n",
       "    <tr>\n",
       "      <th>8795</th>\n",
       "      <td>-0.620417</td>\n",
       "      <td>-0.287364</td>\n",
       "      <td>1.0</td>\n",
       "      <td>-1.222541</td>\n",
       "      <td>2</td>\n",
       "      <td>1</td>\n",
       "      <td>0</td>\n",
       "      <td>-0.889252</td>\n",
       "      <td>0</td>\n",
       "      <td>0</td>\n",
       "      <td>1</td>\n",
       "    </tr>\n",
       "    <tr>\n",
       "      <th>1947</th>\n",
       "      <td>0.103750</td>\n",
       "      <td>-0.381875</td>\n",
       "      <td>6.0</td>\n",
       "      <td>0.388472</td>\n",
       "      <td>1</td>\n",
       "      <td>1</td>\n",
       "      <td>0</td>\n",
       "      <td>-1.405521</td>\n",
       "      <td>0</td>\n",
       "      <td>0</td>\n",
       "      <td>0</td>\n",
       "    </tr>\n",
       "    <tr>\n",
       "      <th>3591</th>\n",
       "      <td>-1.189404</td>\n",
       "      <td>0.941274</td>\n",
       "      <td>3.0</td>\n",
       "      <td>-1.222541</td>\n",
       "      <td>1</td>\n",
       "      <td>0</td>\n",
       "      <td>0</td>\n",
       "      <td>-0.664084</td>\n",
       "      <td>0</td>\n",
       "      <td>0</td>\n",
       "      <td>0</td>\n",
       "    </tr>\n",
       "    <tr>\n",
       "      <th>3875</th>\n",
       "      <td>-0.279024</td>\n",
       "      <td>0.090679</td>\n",
       "      <td>5.0</td>\n",
       "      <td>0.676559</td>\n",
       "      <td>1</td>\n",
       "      <td>1</td>\n",
       "      <td>0</td>\n",
       "      <td>1.615628</td>\n",
       "      <td>0</td>\n",
       "      <td>0</td>\n",
       "      <td>1</td>\n",
       "    </tr>\n",
       "  </tbody>\n",
       "</table>\n",
       "</div>"
      ],
      "text/plain": [
       "      CreditScore       Age  Tenure   Balance  NumOfProducts  HasCrCard  \\\n",
       "8776     0.258928 -0.003832     6.0 -1.222541              2          0   \n",
       "8795    -0.620417 -0.287364     1.0 -1.222541              2          1   \n",
       "1947     0.103750 -0.381875     6.0  0.388472              1          1   \n",
       "3591    -1.189404  0.941274     3.0 -1.222541              1          0   \n",
       "3875    -0.279024  0.090679     5.0  0.676559              1          1   \n",
       "\n",
       "      IsActiveMember  EstimatedSalary  Geography_Germany  Geography_Spain  \\\n",
       "8776               0        -0.288349                  0                0   \n",
       "8795               0        -0.889252                  0                0   \n",
       "1947               0        -1.405521                  0                0   \n",
       "3591               0        -0.664084                  0                0   \n",
       "3875               0         1.615628                  0                0   \n",
       "\n",
       "      Gender_Male  \n",
       "8776            0  \n",
       "8795            1  \n",
       "1947            0  \n",
       "3591            0  \n",
       "3875            1  "
      ]
     },
     "execution_count": 18,
     "metadata": {},
     "output_type": "execute_result"
    }
   ],
   "source": [
    "X_test.head()"
   ]
  },
  {
   "cell_type": "markdown",
   "metadata": {},
   "source": [
    "Теперь данные готовы для моделирования"
   ]
  },
  {
   "cell_type": "markdown",
   "metadata": {},
   "source": [
    "# Моделирование"
   ]
  },
  {
   "cell_type": "markdown",
   "metadata": {},
   "source": [
    "## Baseline"
   ]
  },
  {
   "cell_type": "markdown",
   "metadata": {},
   "source": [
    "В этот датафрейм будем хранить метрики моделей"
   ]
  },
  {
   "cell_type": "code",
   "execution_count": 19,
   "metadata": {},
   "outputs": [],
   "source": [
    "metrics = pd.DataFrame(index=['accuracy', 'roc-auc', 'precision', 'recall', 'f1'])"
   ]
  },
  {
   "cell_type": "markdown",
   "metadata": {},
   "source": [
    "### Logistic Regression"
   ]
  },
  {
   "cell_type": "code",
   "execution_count": 20,
   "metadata": {},
   "outputs": [],
   "source": [
    "model = LogisticRegression(class_weight='balanced', random_state=RAND)\n",
    "model.fit(X_train, y_train)\n",
    "\n",
    "y_pred = model.predict(X_test)\n",
    "y_score = model.predict_proba(X_test)[:,1]"
   ]
  },
  {
   "cell_type": "code",
   "execution_count": 21,
   "metadata": {},
   "outputs": [
    {
     "name": "stdout",
     "output_type": "stream",
     "text": [
      "accuracy: 0.7129765395894428\n",
      "roc-auc: 0.7736620096188243\n",
      "precision: 0.3850050658561297\n",
      "recall: 0.6834532374100719\n",
      "f1: 0.49254698639014904\n"
     ]
    }
   ],
   "source": [
    "print('accuracy:', accuracy_score(y_test, y_pred))\n",
    "print('roc-auc:', roc_auc_score(y_test, y_score))\n",
    "print('precision:', precision_score(y_test, y_pred))\n",
    "print('recall:', recall_score(y_test, y_pred))\n",
    "print('f1:', f1_score(y_test, y_pred))"
   ]
  },
  {
   "cell_type": "markdown",
   "metadata": {},
   "source": [
    "Если банку выгоднее пресказать лучше больше \"плохих\" клиентов, чтобы избежать большие потери, то лучше ориентироваться еще на метрику recall, если будем сравнивать в baseline и другими алгоритмами, иначе precision."
   ]
  },
  {
   "cell_type": "code",
   "execution_count": 22,
   "metadata": {},
   "outputs": [
    {
     "data": {
      "text/html": [
       "<div>\n",
       "<style scoped>\n",
       "    .dataframe tbody tr th:only-of-type {\n",
       "        vertical-align: middle;\n",
       "    }\n",
       "\n",
       "    .dataframe tbody tr th {\n",
       "        vertical-align: top;\n",
       "    }\n",
       "\n",
       "    .dataframe thead th {\n",
       "        text-align: right;\n",
       "    }\n",
       "</style>\n",
       "<table border=\"1\" class=\"dataframe\">\n",
       "  <thead>\n",
       "    <tr style=\"text-align: right;\">\n",
       "      <th></th>\n",
       "      <th>Baseline_LR</th>\n",
       "    </tr>\n",
       "  </thead>\n",
       "  <tbody>\n",
       "    <tr>\n",
       "      <th>accuracy</th>\n",
       "      <td>0.712977</td>\n",
       "    </tr>\n",
       "    <tr>\n",
       "      <th>roc-auc</th>\n",
       "      <td>0.773662</td>\n",
       "    </tr>\n",
       "    <tr>\n",
       "      <th>precision</th>\n",
       "      <td>0.385005</td>\n",
       "    </tr>\n",
       "    <tr>\n",
       "      <th>recall</th>\n",
       "      <td>0.683453</td>\n",
       "    </tr>\n",
       "    <tr>\n",
       "      <th>f1</th>\n",
       "      <td>0.492547</td>\n",
       "    </tr>\n",
       "  </tbody>\n",
       "</table>\n",
       "</div>"
      ],
      "text/plain": [
       "           Baseline_LR\n",
       "accuracy      0.712977\n",
       "roc-auc       0.773662\n",
       "precision     0.385005\n",
       "recall        0.683453\n",
       "f1            0.492547"
      ]
     },
     "execution_count": 22,
     "metadata": {},
     "output_type": "execute_result"
    }
   ],
   "source": [
    "metrics['Baseline_LR'] = [accuracy_score(y_test, y_pred),\n",
    "                          roc_auc_score(y_test, y_score),\n",
    "                          precision_score(y_test, y_pred),\n",
    "                          recall_score(y_test, y_pred),\n",
    "                          f1_score(y_test, y_pred)]\n",
    "metrics"
   ]
  },
  {
   "cell_type": "markdown",
   "metadata": {},
   "source": [
    "### Random Forest Classifier"
   ]
  },
  {
   "cell_type": "code",
   "execution_count": 23,
   "metadata": {},
   "outputs": [],
   "source": [
    "model = RandomForestClassifier(class_weight = 'balanced', random_state=RAND)\n",
    "model.fit(X_train, y_train)\n",
    "\n",
    "y_pred = model.predict(X_test)\n",
    "y_score = model.predict_proba(X_test)[:,1]"
   ]
  },
  {
   "cell_type": "code",
   "execution_count": 24,
   "metadata": {},
   "outputs": [
    {
     "data": {
      "text/html": [
       "<div>\n",
       "<style scoped>\n",
       "    .dataframe tbody tr th:only-of-type {\n",
       "        vertical-align: middle;\n",
       "    }\n",
       "\n",
       "    .dataframe tbody tr th {\n",
       "        vertical-align: top;\n",
       "    }\n",
       "\n",
       "    .dataframe thead th {\n",
       "        text-align: right;\n",
       "    }\n",
       "</style>\n",
       "<table border=\"1\" class=\"dataframe\">\n",
       "  <thead>\n",
       "    <tr style=\"text-align: right;\">\n",
       "      <th></th>\n",
       "      <th>Baseline_LR</th>\n",
       "      <th>Baseline_RFC</th>\n",
       "    </tr>\n",
       "  </thead>\n",
       "  <tbody>\n",
       "    <tr>\n",
       "      <th>accuracy</th>\n",
       "      <td>0.712977</td>\n",
       "      <td>0.855572</td>\n",
       "    </tr>\n",
       "    <tr>\n",
       "      <th>roc-auc</th>\n",
       "      <td>0.773662</td>\n",
       "      <td>0.860015</td>\n",
       "    </tr>\n",
       "    <tr>\n",
       "      <th>precision</th>\n",
       "      <td>0.385005</td>\n",
       "      <td>0.761290</td>\n",
       "    </tr>\n",
       "    <tr>\n",
       "      <th>recall</th>\n",
       "      <td>0.683453</td>\n",
       "      <td>0.424460</td>\n",
       "    </tr>\n",
       "    <tr>\n",
       "      <th>f1</th>\n",
       "      <td>0.492547</td>\n",
       "      <td>0.545035</td>\n",
       "    </tr>\n",
       "  </tbody>\n",
       "</table>\n",
       "</div>"
      ],
      "text/plain": [
       "           Baseline_LR  Baseline_RFC\n",
       "accuracy      0.712977      0.855572\n",
       "roc-auc       0.773662      0.860015\n",
       "precision     0.385005      0.761290\n",
       "recall        0.683453      0.424460\n",
       "f1            0.492547      0.545035"
      ]
     },
     "execution_count": 24,
     "metadata": {},
     "output_type": "execute_result"
    }
   ],
   "source": [
    "metrics['Baseline_RFC'] = [accuracy_score(y_test, y_pred),\n",
    "                          roc_auc_score(y_test, y_score),\n",
    "                          precision_score(y_test, y_pred),\n",
    "                          recall_score(y_test, y_pred),\n",
    "                          f1_score(y_test, y_pred)]\n",
    "metrics"
   ]
  },
  {
   "cell_type": "markdown",
   "metadata": {},
   "source": [
    "### LightGBM"
   ]
  },
  {
   "cell_type": "code",
   "execution_count": 25,
   "metadata": {},
   "outputs": [],
   "source": [
    "model = LGBMClassifier(class_weight = 'balanced', random_state=RAND)\n",
    "model.fit(X_train, y_train)\n",
    "\n",
    "y_pred = model.predict(X_test)\n",
    "y_score = model.predict_proba(X_test)[:,1]"
   ]
  },
  {
   "cell_type": "code",
   "execution_count": 26,
   "metadata": {},
   "outputs": [
    {
     "data": {
      "text/html": [
       "<div>\n",
       "<style scoped>\n",
       "    .dataframe tbody tr th:only-of-type {\n",
       "        vertical-align: middle;\n",
       "    }\n",
       "\n",
       "    .dataframe tbody tr th {\n",
       "        vertical-align: top;\n",
       "    }\n",
       "\n",
       "    .dataframe thead th {\n",
       "        text-align: right;\n",
       "    }\n",
       "</style>\n",
       "<table border=\"1\" class=\"dataframe\">\n",
       "  <thead>\n",
       "    <tr style=\"text-align: right;\">\n",
       "      <th></th>\n",
       "      <th>Baseline_LR</th>\n",
       "      <th>Baseline_RFC</th>\n",
       "      <th>Baseline_LGBM</th>\n",
       "    </tr>\n",
       "  </thead>\n",
       "  <tbody>\n",
       "    <tr>\n",
       "      <th>accuracy</th>\n",
       "      <td>0.712977</td>\n",
       "      <td>0.855572</td>\n",
       "      <td>0.822581</td>\n",
       "    </tr>\n",
       "    <tr>\n",
       "      <th>roc-auc</th>\n",
       "      <td>0.773662</td>\n",
       "      <td>0.860015</td>\n",
       "      <td>0.859060</td>\n",
       "    </tr>\n",
       "    <tr>\n",
       "      <th>precision</th>\n",
       "      <td>0.385005</td>\n",
       "      <td>0.761290</td>\n",
       "      <td>0.551873</td>\n",
       "    </tr>\n",
       "    <tr>\n",
       "      <th>recall</th>\n",
       "      <td>0.683453</td>\n",
       "      <td>0.424460</td>\n",
       "      <td>0.688849</td>\n",
       "    </tr>\n",
       "    <tr>\n",
       "      <th>f1</th>\n",
       "      <td>0.492547</td>\n",
       "      <td>0.545035</td>\n",
       "      <td>0.612800</td>\n",
       "    </tr>\n",
       "  </tbody>\n",
       "</table>\n",
       "</div>"
      ],
      "text/plain": [
       "           Baseline_LR  Baseline_RFC  Baseline_LGBM\n",
       "accuracy      0.712977      0.855572       0.822581\n",
       "roc-auc       0.773662      0.860015       0.859060\n",
       "precision     0.385005      0.761290       0.551873\n",
       "recall        0.683453      0.424460       0.688849\n",
       "f1            0.492547      0.545035       0.612800"
      ]
     },
     "execution_count": 26,
     "metadata": {},
     "output_type": "execute_result"
    }
   ],
   "source": [
    "metrics['Baseline_LGBM'] = [accuracy_score(y_test, y_pred),\n",
    "                          roc_auc_score(y_test, y_score),\n",
    "                          precision_score(y_test, y_pred),\n",
    "                          recall_score(y_test, y_pred),\n",
    "                          f1_score(y_test, y_pred)]\n",
    "metrics"
   ]
  },
  {
   "cell_type": "markdown",
   "metadata": {},
   "source": [
    "Без подбора никаких параметров, лучше всех себя показал алгоритм градиентного бустинга. F1-мера составила 0.61, площадь под ROC-кривой 0.86"
   ]
  },
  {
   "cell_type": "markdown",
   "metadata": {},
   "source": [
    "## Подбор гиперпараметров"
   ]
  },
  {
   "cell_type": "markdown",
   "metadata": {},
   "source": [
    "### Logistic Regression"
   ]
  },
  {
   "cell_type": "code",
   "execution_count": 27,
   "metadata": {},
   "outputs": [],
   "source": [
    "parameters_grid = {\n",
    "    'penalty': ['l1', 'l2', 'elasticnet'],\n",
    "    'C': np.linspace(1, 1000, num=5),\n",
    "    'solver': ['sag', 'saga', 'lbfgs'],\n",
    "    'l1_ratio': [0.25, 0.5, 0.75],\n",
    "    'max_iter': np.arange(100, 500, 100)\n",
    "}\n",
    "\n",
    "model = LogisticRegression(class_weight='balanced', random_state=RAND)\n",
    "cv = StratifiedKFold(n_splits=3, shuffle=True)\n",
    "grid_cv = GridSearchCV(model, parameters_grid, scoring='f1', cv=cv, verbose=2)"
   ]
  },
  {
   "cell_type": "code",
   "execution_count": 28,
   "metadata": {
    "scrolled": true
   },
   "outputs": [],
   "source": [
    "# grid_cv.fit(X_train, y_train)"
   ]
  },
  {
   "cell_type": "code",
   "execution_count": 29,
   "metadata": {},
   "outputs": [],
   "source": [
    "# grid_cv.best_params_\n",
    "\n",
    "# {'C': 1.0, 'l1_ratio': 0.25, 'max_iter': 100, 'penalty': 'elasticnet', 'solver': 'saga'}"
   ]
  },
  {
   "cell_type": "code",
   "execution_count": 30,
   "metadata": {},
   "outputs": [],
   "source": [
    "best_params = {'C': 1.0, \n",
    "               'l1_ratio': 0.25,\n",
    "               'max_iter': 100, \n",
    "               'penalty': 'l1', \n",
    "               'solver': 'saga'}"
   ]
  },
  {
   "cell_type": "code",
   "execution_count": 31,
   "metadata": {},
   "outputs": [],
   "source": [
    "model = LogisticRegression(**best_params, class_weight='balanced', random_state=RAND)\n",
    "model.fit(X_train, y_train)\n",
    "\n",
    "y_pred = model.predict(X_test)\n",
    "y_score = model.predict_proba(X_test)[:,1]"
   ]
  },
  {
   "cell_type": "code",
   "execution_count": 32,
   "metadata": {},
   "outputs": [
    {
     "data": {
      "text/html": [
       "<div>\n",
       "<style scoped>\n",
       "    .dataframe tbody tr th:only-of-type {\n",
       "        vertical-align: middle;\n",
       "    }\n",
       "\n",
       "    .dataframe tbody tr th {\n",
       "        vertical-align: top;\n",
       "    }\n",
       "\n",
       "    .dataframe thead th {\n",
       "        text-align: right;\n",
       "    }\n",
       "</style>\n",
       "<table border=\"1\" class=\"dataframe\">\n",
       "  <thead>\n",
       "    <tr style=\"text-align: right;\">\n",
       "      <th></th>\n",
       "      <th>Baseline_LR</th>\n",
       "      <th>Baseline_RFC</th>\n",
       "      <th>Baseline_LGBM</th>\n",
       "      <th>Grid_LR</th>\n",
       "    </tr>\n",
       "  </thead>\n",
       "  <tbody>\n",
       "    <tr>\n",
       "      <th>accuracy</th>\n",
       "      <td>0.712977</td>\n",
       "      <td>0.855572</td>\n",
       "      <td>0.822581</td>\n",
       "      <td>0.712977</td>\n",
       "    </tr>\n",
       "    <tr>\n",
       "      <th>roc-auc</th>\n",
       "      <td>0.773662</td>\n",
       "      <td>0.860015</td>\n",
       "      <td>0.859060</td>\n",
       "      <td>0.773710</td>\n",
       "    </tr>\n",
       "    <tr>\n",
       "      <th>precision</th>\n",
       "      <td>0.385005</td>\n",
       "      <td>0.761290</td>\n",
       "      <td>0.551873</td>\n",
       "      <td>0.385238</td>\n",
       "    </tr>\n",
       "    <tr>\n",
       "      <th>recall</th>\n",
       "      <td>0.683453</td>\n",
       "      <td>0.424460</td>\n",
       "      <td>0.688849</td>\n",
       "      <td>0.685252</td>\n",
       "    </tr>\n",
       "    <tr>\n",
       "      <th>f1</th>\n",
       "      <td>0.492547</td>\n",
       "      <td>0.545035</td>\n",
       "      <td>0.612800</td>\n",
       "      <td>0.493204</td>\n",
       "    </tr>\n",
       "  </tbody>\n",
       "</table>\n",
       "</div>"
      ],
      "text/plain": [
       "           Baseline_LR  Baseline_RFC  Baseline_LGBM   Grid_LR\n",
       "accuracy      0.712977      0.855572       0.822581  0.712977\n",
       "roc-auc       0.773662      0.860015       0.859060  0.773710\n",
       "precision     0.385005      0.761290       0.551873  0.385238\n",
       "recall        0.683453      0.424460       0.688849  0.685252\n",
       "f1            0.492547      0.545035       0.612800  0.493204"
      ]
     },
     "execution_count": 32,
     "metadata": {},
     "output_type": "execute_result"
    }
   ],
   "source": [
    "metrics['Grid_LR'] = [accuracy_score(y_test, y_pred),\n",
    "                      roc_auc_score(y_test, y_score),\n",
    "                      precision_score(y_test, y_pred),\n",
    "                      recall_score(y_test, y_pred),\n",
    "                      f1_score(y_test, y_pred)]\n",
    "metrics"
   ]
  },
  {
   "cell_type": "markdown",
   "metadata": {},
   "source": [
    "Качество не улучшилось"
   ]
  },
  {
   "cell_type": "markdown",
   "metadata": {},
   "source": [
    "### Random Forest Classifier"
   ]
  },
  {
   "cell_type": "code",
   "execution_count": 33,
   "metadata": {},
   "outputs": [],
   "source": [
    "parameters_grid = {\n",
    "    'max_depth': [5, 8, 15],\n",
    "    'min_samples_split': [2, 5, 10],\n",
    "    'min_samples_leaf': [1, 2, 5]\n",
    "}\n",
    "\n",
    "model = RandomForestClassifier(class_weight='balanced', random_state=RAND)\n",
    "cv = StratifiedKFold(n_splits=3, shuffle=True)\n",
    "grid_cv = GridSearchCV(model, parameters_grid, scoring='f1', cv=cv, verbose=2)"
   ]
  },
  {
   "cell_type": "code",
   "execution_count": 34,
   "metadata": {
    "scrolled": true
   },
   "outputs": [],
   "source": [
    "# grid_cv.fit(X_train, y_train)"
   ]
  },
  {
   "cell_type": "code",
   "execution_count": 35,
   "metadata": {},
   "outputs": [],
   "source": [
    "# grid_cv.best_params_\n",
    "\n",
    "# {'max_depth': 15, 'min_samples_split': 10, 'min_samples_leaf': 2}"
   ]
  },
  {
   "cell_type": "code",
   "execution_count": 36,
   "metadata": {},
   "outputs": [],
   "source": [
    "parameters_grid = {\n",
    "    'max_depth': [10, 15, 20],\n",
    "    'min_samples_split': [10, 15, 20],\n",
    "    'min_samples_leaf': [2, 3, 4]\n",
    "}\n",
    "\n",
    "model = RandomForestClassifier(class_weight='balanced', random_state=RAND)\n",
    "cv = StratifiedKFold(n_splits=3, shuffle=True)\n",
    "grid_cv = GridSearchCV(model, parameters_grid, scoring='f1', cv=cv, verbose=2)"
   ]
  },
  {
   "cell_type": "code",
   "execution_count": 37,
   "metadata": {
    "scrolled": true
   },
   "outputs": [],
   "source": [
    "# grid_cv.fit(X_train, y_train)"
   ]
  },
  {
   "cell_type": "code",
   "execution_count": 38,
   "metadata": {},
   "outputs": [],
   "source": [
    "# grid_cv.best_params_\n",
    "\n",
    "# {'max_depth': 20, 'min_samples_leaf': 2, 'min_samples_split': 15}"
   ]
  },
  {
   "cell_type": "code",
   "execution_count": 39,
   "metadata": {},
   "outputs": [],
   "source": [
    "parameters_grid = {\n",
    "    'max_depth': [18, 20, 22, 24],\n",
    "    'min_samples_split': [10, 15, 20]\n",
    "}\n",
    "\n",
    "model = RandomForestClassifier(min_samples_leaf=2, class_weight='balanced', random_state=RAND)\n",
    "cv = StratifiedKFold(n_splits=3, shuffle=True)\n",
    "grid_cv = GridSearchCV(model, parameters_grid, scoring='f1', cv=cv, verbose=2)"
   ]
  },
  {
   "cell_type": "code",
   "execution_count": 40,
   "metadata": {
    "scrolled": true
   },
   "outputs": [],
   "source": [
    "# grid_cv.fit(X_train, y_train)"
   ]
  },
  {
   "cell_type": "code",
   "execution_count": 41,
   "metadata": {},
   "outputs": [],
   "source": [
    "# grid_cv.best_params_\n",
    "\n",
    "# {'max_depth': 18, 'min_samples_split': 10}"
   ]
  },
  {
   "cell_type": "code",
   "execution_count": 42,
   "metadata": {},
   "outputs": [],
   "source": [
    "parameters_grid = {\n",
    "    'max_depth': [16, 17, 18, 19],\n",
    "    'min_samples_split': [8, 10, 12]\n",
    "}\n",
    "\n",
    "model = RandomForestClassifier(min_samples_leaf=2, class_weight='balanced', random_state=RAND)\n",
    "cv = StratifiedKFold(n_splits=3, shuffle=True)\n",
    "grid_cv = GridSearchCV(model, parameters_grid, scoring='f1', cv=cv, verbose=2)"
   ]
  },
  {
   "cell_type": "code",
   "execution_count": 43,
   "metadata": {
    "scrolled": true
   },
   "outputs": [],
   "source": [
    "# grid_cv.fit(X_train, y_train)"
   ]
  },
  {
   "cell_type": "code",
   "execution_count": 44,
   "metadata": {},
   "outputs": [],
   "source": [
    "# grid_cv.best_params_\n",
    "\n",
    "# {'max_depth': 19, 'min_samples_split': 12}"
   ]
  },
  {
   "cell_type": "code",
   "execution_count": 45,
   "metadata": {},
   "outputs": [],
   "source": [
    "best_params = {'max_depth': 19, \n",
    "               'min_samples_leaf': 2, \n",
    "               'min_samples_split': 12}"
   ]
  },
  {
   "cell_type": "code",
   "execution_count": 46,
   "metadata": {},
   "outputs": [],
   "source": [
    "model = RandomForestClassifier(**best_params, class_weight='balanced', random_state=RAND)\n",
    "model.fit(X_train, y_train)\n",
    "\n",
    "y_pred = model.predict(X_test)\n",
    "y_score = model.predict_proba(X_test)[:,1]"
   ]
  },
  {
   "cell_type": "code",
   "execution_count": 47,
   "metadata": {},
   "outputs": [
    {
     "data": {
      "text/html": [
       "<div>\n",
       "<style scoped>\n",
       "    .dataframe tbody tr th:only-of-type {\n",
       "        vertical-align: middle;\n",
       "    }\n",
       "\n",
       "    .dataframe tbody tr th {\n",
       "        vertical-align: top;\n",
       "    }\n",
       "\n",
       "    .dataframe thead th {\n",
       "        text-align: right;\n",
       "    }\n",
       "</style>\n",
       "<table border=\"1\" class=\"dataframe\">\n",
       "  <thead>\n",
       "    <tr style=\"text-align: right;\">\n",
       "      <th></th>\n",
       "      <th>Baseline_LR</th>\n",
       "      <th>Baseline_RFC</th>\n",
       "      <th>Baseline_LGBM</th>\n",
       "      <th>Grid_LR</th>\n",
       "      <th>Grid_RFC</th>\n",
       "    </tr>\n",
       "  </thead>\n",
       "  <tbody>\n",
       "    <tr>\n",
       "      <th>accuracy</th>\n",
       "      <td>0.712977</td>\n",
       "      <td>0.855572</td>\n",
       "      <td>0.822581</td>\n",
       "      <td>0.712977</td>\n",
       "      <td>0.851173</td>\n",
       "    </tr>\n",
       "    <tr>\n",
       "      <th>roc-auc</th>\n",
       "      <td>0.773662</td>\n",
       "      <td>0.860015</td>\n",
       "      <td>0.859060</td>\n",
       "      <td>0.773710</td>\n",
       "      <td>0.862714</td>\n",
       "    </tr>\n",
       "    <tr>\n",
       "      <th>precision</th>\n",
       "      <td>0.385005</td>\n",
       "      <td>0.761290</td>\n",
       "      <td>0.551873</td>\n",
       "      <td>0.385238</td>\n",
       "      <td>0.644788</td>\n",
       "    </tr>\n",
       "    <tr>\n",
       "      <th>recall</th>\n",
       "      <td>0.683453</td>\n",
       "      <td>0.424460</td>\n",
       "      <td>0.688849</td>\n",
       "      <td>0.685252</td>\n",
       "      <td>0.600719</td>\n",
       "    </tr>\n",
       "    <tr>\n",
       "      <th>f1</th>\n",
       "      <td>0.492547</td>\n",
       "      <td>0.545035</td>\n",
       "      <td>0.612800</td>\n",
       "      <td>0.493204</td>\n",
       "      <td>0.621974</td>\n",
       "    </tr>\n",
       "  </tbody>\n",
       "</table>\n",
       "</div>"
      ],
      "text/plain": [
       "           Baseline_LR  Baseline_RFC  Baseline_LGBM   Grid_LR  Grid_RFC\n",
       "accuracy      0.712977      0.855572       0.822581  0.712977  0.851173\n",
       "roc-auc       0.773662      0.860015       0.859060  0.773710  0.862714\n",
       "precision     0.385005      0.761290       0.551873  0.385238  0.644788\n",
       "recall        0.683453      0.424460       0.688849  0.685252  0.600719\n",
       "f1            0.492547      0.545035       0.612800  0.493204  0.621974"
      ]
     },
     "execution_count": 47,
     "metadata": {},
     "output_type": "execute_result"
    }
   ],
   "source": [
    "metrics['Grid_RFC'] = [accuracy_score(y_test, y_pred),\n",
    "                      roc_auc_score(y_test, y_score),\n",
    "                      precision_score(y_test, y_pred),\n",
    "                      recall_score(y_test, y_pred),\n",
    "                      f1_score(y_test, y_pred)]\n",
    "metrics"
   ]
  },
  {
   "cell_type": "markdown",
   "metadata": {},
   "source": [
    "Увеличили f1-меру, увеличив значение полноты"
   ]
  },
  {
   "cell_type": "markdown",
   "metadata": {},
   "source": [
    "### LightGBM"
   ]
  },
  {
   "cell_type": "code",
   "execution_count": 48,
   "metadata": {},
   "outputs": [],
   "source": [
    "parameters_grid = {\n",
    "    'max_depth': [5, 8, 15],\n",
    "    'num_leaves': [50, 100, 150],\n",
    "    'min_data_in_leaf': [10, 20, 30]\n",
    "}\n",
    "\n",
    "model = LGBMClassifier(class_weight='balanced', random_state=RAND)\n",
    "cv = StratifiedKFold(n_splits=3, shuffle=True)\n",
    "grid_cv = GridSearchCV(model, parameters_grid, scoring='f1', cv=cv, verbose=2)"
   ]
  },
  {
   "cell_type": "code",
   "execution_count": 49,
   "metadata": {
    "scrolled": true
   },
   "outputs": [],
   "source": [
    "# grid_cv.fit(X_train, y_train)"
   ]
  },
  {
   "cell_type": "code",
   "execution_count": 50,
   "metadata": {},
   "outputs": [],
   "source": [
    "# grid_cv.best_params_\n",
    "\n",
    "# {'max_depth': 8, 'min_data_in_leaf': 20, 'num_leaves': 100}"
   ]
  },
  {
   "cell_type": "code",
   "execution_count": 51,
   "metadata": {},
   "outputs": [],
   "source": [
    "parameters_grid = {\n",
    "    'max_depth': [6, 8, 10],\n",
    "    'num_leaves': [80, 100, 120],\n",
    "    'min_data_in_leaf': [15, 20, 25]\n",
    "}\n",
    "\n",
    "model = LGBMClassifier(class_weight='balanced', random_state=RAND)\n",
    "cv = StratifiedKFold(n_splits=3, shuffle=True)\n",
    "grid_cv = GridSearchCV(model, parameters_grid, scoring='f1', cv=cv, verbose=2)"
   ]
  },
  {
   "cell_type": "code",
   "execution_count": 52,
   "metadata": {
    "scrolled": true
   },
   "outputs": [],
   "source": [
    "# grid_cv.fit(X_train, y_train)"
   ]
  },
  {
   "cell_type": "code",
   "execution_count": 53,
   "metadata": {},
   "outputs": [],
   "source": [
    "# grid_cv.best_params_\n",
    "\n",
    "# {'max_depth': 10, 'min_data_in_leaf': 25, 'num_leaves': 80}"
   ]
  },
  {
   "cell_type": "code",
   "execution_count": 54,
   "metadata": {},
   "outputs": [],
   "source": [
    "parameters_grid = {\n",
    "    'max_depth': [9, 10, 12],\n",
    "    'num_leaves': [70, 80, 90],\n",
    "    'min_data_in_leaf': [22, 25, 28]\n",
    "}\n",
    "\n",
    "model = LGBMClassifier(class_weight='balanced', random_state=RAND)\n",
    "cv = StratifiedKFold(n_splits=3, shuffle=True)\n",
    "grid_cv = GridSearchCV(model, parameters_grid, scoring='f1', cv=cv, verbose=2)"
   ]
  },
  {
   "cell_type": "code",
   "execution_count": 55,
   "metadata": {
    "scrolled": true
   },
   "outputs": [],
   "source": [
    "# grid_cv.fit(X_train, y_train)"
   ]
  },
  {
   "cell_type": "code",
   "execution_count": 56,
   "metadata": {},
   "outputs": [],
   "source": [
    "# grid_cv.best_params_\n",
    "\n",
    "# {'max_depth': 10, 'min_data_in_leaf': 28, 'num_leaves': 90}"
   ]
  },
  {
   "cell_type": "code",
   "execution_count": 57,
   "metadata": {},
   "outputs": [],
   "source": [
    "best_params = {'max_depth': 10, \n",
    "               'min_data_in_leaf': 28, \n",
    "               'num_leaves': 90}"
   ]
  },
  {
   "cell_type": "code",
   "execution_count": 58,
   "metadata": {},
   "outputs": [
    {
     "name": "stdout",
     "output_type": "stream",
     "text": [
      "[LightGBM] [Warning] min_data_in_leaf is set=28, min_child_samples=20 will be ignored. Current value: min_data_in_leaf=28\n"
     ]
    }
   ],
   "source": [
    "model = LGBMClassifier(**best_params, class_weight='balanced', random_state=RAND)\n",
    "model.fit(X_train, y_train)\n",
    "\n",
    "y_pred = model.predict(X_test)\n",
    "y_score = model.predict_proba(X_test)[:,1]"
   ]
  },
  {
   "cell_type": "code",
   "execution_count": 59,
   "metadata": {},
   "outputs": [
    {
     "data": {
      "text/html": [
       "<div>\n",
       "<style scoped>\n",
       "    .dataframe tbody tr th:only-of-type {\n",
       "        vertical-align: middle;\n",
       "    }\n",
       "\n",
       "    .dataframe tbody tr th {\n",
       "        vertical-align: top;\n",
       "    }\n",
       "\n",
       "    .dataframe thead th {\n",
       "        text-align: right;\n",
       "    }\n",
       "</style>\n",
       "<table border=\"1\" class=\"dataframe\">\n",
       "  <thead>\n",
       "    <tr style=\"text-align: right;\">\n",
       "      <th></th>\n",
       "      <th>Baseline_LR</th>\n",
       "      <th>Baseline_RFC</th>\n",
       "      <th>Baseline_LGBM</th>\n",
       "      <th>Grid_LR</th>\n",
       "      <th>Grid_RFC</th>\n",
       "      <th>Grid_LGBM</th>\n",
       "    </tr>\n",
       "  </thead>\n",
       "  <tbody>\n",
       "    <tr>\n",
       "      <th>accuracy</th>\n",
       "      <td>0.712977</td>\n",
       "      <td>0.855572</td>\n",
       "      <td>0.822581</td>\n",
       "      <td>0.712977</td>\n",
       "      <td>0.851173</td>\n",
       "      <td>0.828079</td>\n",
       "    </tr>\n",
       "    <tr>\n",
       "      <th>roc-auc</th>\n",
       "      <td>0.773662</td>\n",
       "      <td>0.860015</td>\n",
       "      <td>0.859060</td>\n",
       "      <td>0.773710</td>\n",
       "      <td>0.862714</td>\n",
       "      <td>0.850801</td>\n",
       "    </tr>\n",
       "    <tr>\n",
       "      <th>precision</th>\n",
       "      <td>0.385005</td>\n",
       "      <td>0.761290</td>\n",
       "      <td>0.551873</td>\n",
       "      <td>0.385238</td>\n",
       "      <td>0.644788</td>\n",
       "      <td>0.568075</td>\n",
       "    </tr>\n",
       "    <tr>\n",
       "      <th>recall</th>\n",
       "      <td>0.683453</td>\n",
       "      <td>0.424460</td>\n",
       "      <td>0.688849</td>\n",
       "      <td>0.685252</td>\n",
       "      <td>0.600719</td>\n",
       "      <td>0.652878</td>\n",
       "    </tr>\n",
       "    <tr>\n",
       "      <th>f1</th>\n",
       "      <td>0.492547</td>\n",
       "      <td>0.545035</td>\n",
       "      <td>0.612800</td>\n",
       "      <td>0.493204</td>\n",
       "      <td>0.621974</td>\n",
       "      <td>0.607531</td>\n",
       "    </tr>\n",
       "  </tbody>\n",
       "</table>\n",
       "</div>"
      ],
      "text/plain": [
       "           Baseline_LR  Baseline_RFC  Baseline_LGBM   Grid_LR  Grid_RFC  \\\n",
       "accuracy      0.712977      0.855572       0.822581  0.712977  0.851173   \n",
       "roc-auc       0.773662      0.860015       0.859060  0.773710  0.862714   \n",
       "precision     0.385005      0.761290       0.551873  0.385238  0.644788   \n",
       "recall        0.683453      0.424460       0.688849  0.685252  0.600719   \n",
       "f1            0.492547      0.545035       0.612800  0.493204  0.621974   \n",
       "\n",
       "           Grid_LGBM  \n",
       "accuracy    0.828079  \n",
       "roc-auc     0.850801  \n",
       "precision   0.568075  \n",
       "recall      0.652878  \n",
       "f1          0.607531  "
      ]
     },
     "execution_count": 59,
     "metadata": {},
     "output_type": "execute_result"
    }
   ],
   "source": [
    "metrics['Grid_LGBM'] = [accuracy_score(y_test, y_pred),\n",
    "                      roc_auc_score(y_test, y_score),\n",
    "                      precision_score(y_test, y_pred),\n",
    "                      recall_score(y_test, y_pred),\n",
    "                      f1_score(y_test, y_pred)]\n",
    "metrics"
   ]
  },
  {
   "cell_type": "markdown",
   "metadata": {},
   "source": [
    "Немного улучшилась полнота, но упало значение точности. Из-за этого f1-мера почти не изменилась"
   ]
  },
  {
   "cell_type": "markdown",
   "metadata": {},
   "source": [
    "Если банку выгоднее предсказывать как можно больше клиентов, которые уйдут от них, то нужно смотреть на метрику recall. И лучший результат по этой метрике у градиентного бустинга.  \n",
    "Если банку наоборот выгоднее не ошибиться в выборе клиента, который от них уйдет, то тут уже нужно смотреть на метрику precision. Лучшим по этой метрике оказался алгоритм случайного леса без подобранных параметров.\n",
    "Наиболее часто смотрят на метрику f1-меры. Так как он сбалансирует выше названные метрики. Тут лучшим оказался случайный лес с подобранными параметрами"
   ]
  },
  {
   "cell_type": "code",
   "execution_count": 60,
   "metadata": {
    "scrolled": true
   },
   "outputs": [
    {
     "data": {
      "image/png": "[encoded data removed]",
      "text/plain": [
       "<Figure size 432x288 with 1 Axes>"
      ]
     },
     "metadata": {
      "needs_background": "light"
     },
     "output_type": "display_data"
    }
   ],
   "source": [
    "best_params = {'max_depth': 19, \n",
    "               'min_samples_leaf': 2, \n",
    "               'min_samples_split': 12}\n",
    "\n",
    "model = RandomForestClassifier(**best_params, class_weight='balanced', random_state=RAND)\n",
    "model.fit(X_train, y_train)\n",
    "\n",
    "y_pred = model.predict(X_test)\n",
    "y_score = model.predict_proba(X_test)[:,1]\n",
    "\n",
    "fpr, tpr, thresholds = roc_curve(y_test, y_score)\n",
    "\n",
    "roc_auc = auc(fpr, tpr)\n",
    "\n",
    "plt.plot(fpr, tpr, color='darkorange', label='ROC curve (area = %0.2f)' % roc_auc)\n",
    "plt.plot([0, 1], [0, 1], color='navy', lw=2, linestyle='--')\n",
    "plt.xlim([0.0, 1.0])\n",
    "plt.ylim([0.0, 1.05])\n",
    "\n",
    "plt.xlabel('False Positive Rate')\n",
    "plt.ylabel('True Positive Rate')\n",
    "\n",
    "plt.title('Случайный лес ROC AUC = %0.3f' % roc_auc)\n",
    "plt.legend(loc=\"lower right\")\n",
    "plt.show()"
   ]
  },
  {
   "cell_type": "markdown",
   "metadata": {},
   "source": [
    "Площадь под кривой составила 0.86. Это означает что наша модель намного лучше, чем рандомный выбор (пунктирная линия)"
   ]
  }
 ],
 "metadata": {
  "ExecuteTimeLog": [
   {
    "duration": 724,
    "start_time": "2021-10-02T11:42:53.476Z"
   },
   {
    "duration": 31,
    "start_time": "2021-10-02T11:44:16.503Z"
   },
   {
    "duration": 18,
    "start_time": "2021-10-02T11:44:22.042Z"
   },
   {
    "duration": 524,
    "start_time": "2021-10-02T11:50:45.798Z"
   },
   {
    "duration": 139,
    "start_time": "2021-10-02T11:51:33.048Z"
   },
   {
    "duration": 124,
    "start_time": "2021-10-02T11:51:37.152Z"
   },
   {
    "duration": 10,
    "start_time": "2021-10-02T11:53:31.507Z"
   },
   {
    "duration": 143,
    "start_time": "2021-10-02T11:53:45.253Z"
   },
   {
    "duration": 10,
    "start_time": "2021-10-02T11:55:46.652Z"
   },
   {
    "duration": 4,
    "start_time": "2021-10-02T11:59:19.971Z"
   },
   {
    "duration": 5,
    "start_time": "2021-10-02T11:59:24.597Z"
   },
   {
    "duration": 7,
    "start_time": "2021-10-02T11:59:42.244Z"
   },
   {
    "duration": 4,
    "start_time": "2021-10-02T11:59:53.457Z"
   },
   {
    "duration": 15,
    "start_time": "2021-10-02T11:59:57.187Z"
   },
   {
    "duration": 7,
    "start_time": "2021-10-02T12:00:05.012Z"
   },
   {
    "duration": 9,
    "start_time": "2021-10-02T12:07:04.228Z"
   },
   {
    "duration": 8,
    "start_time": "2021-10-02T12:07:15.978Z"
   },
   {
    "duration": 8,
    "start_time": "2021-10-02T12:07:34.654Z"
   },
   {
    "duration": 25,
    "start_time": "2021-10-02T12:12:42.623Z"
   },
   {
    "duration": 39,
    "start_time": "2021-10-02T12:13:24.039Z"
   },
   {
    "duration": 19,
    "start_time": "2021-10-02T12:13:59.898Z"
   },
   {
    "duration": 1363,
    "start_time": "2021-10-02T12:14:37.536Z"
   },
   {
    "duration": 30,
    "start_time": "2021-10-02T12:14:39.908Z"
   },
   {
    "duration": 9,
    "start_time": "2021-10-02T12:14:40.877Z"
   },
   {
    "duration": 5,
    "start_time": "2021-10-02T12:14:44.076Z"
   },
   {
    "duration": 8,
    "start_time": "2021-10-02T12:14:44.786Z"
   },
   {
    "duration": 15,
    "start_time": "2021-10-02T12:14:49.378Z"
   },
   {
    "duration": 142,
    "start_time": "2021-10-02T12:14:54.037Z"
   },
   {
    "duration": 12,
    "start_time": "2021-10-02T12:14:58.141Z"
   },
   {
    "duration": 20,
    "start_time": "2021-10-02T12:15:03.453Z"
   },
   {
    "duration": 47,
    "start_time": "2021-10-02T12:44:02.502Z"
   },
   {
    "duration": 11,
    "start_time": "2021-10-02T12:45:03.172Z"
   },
   {
    "duration": 15,
    "start_time": "2021-10-02T12:45:13.223Z"
   },
   {
    "duration": 10,
    "start_time": "2021-10-02T12:45:23.611Z"
   },
   {
    "duration": 8,
    "start_time": "2021-10-02T12:45:39.306Z"
   },
   {
    "duration": 6,
    "start_time": "2021-10-02T12:45:58.288Z"
   },
   {
    "duration": 5,
    "start_time": "2021-10-02T12:46:10.881Z"
   },
   {
    "duration": 350,
    "start_time": "2021-10-02T12:46:26.059Z"
   },
   {
    "duration": 1185,
    "start_time": "2021-10-02T12:52:06.319Z"
   },
   {
    "duration": 31,
    "start_time": "2021-10-02T12:52:08.183Z"
   },
   {
    "duration": 9,
    "start_time": "2021-10-02T12:52:08.919Z"
   },
   {
    "duration": 5,
    "start_time": "2021-10-02T12:52:10.904Z"
   },
   {
    "duration": 8,
    "start_time": "2021-10-02T12:52:11.215Z"
   },
   {
    "duration": 14,
    "start_time": "2021-10-02T12:52:13.924Z"
   },
   {
    "duration": 137,
    "start_time": "2021-10-02T12:52:15.992Z"
   },
   {
    "duration": 13,
    "start_time": "2021-10-02T12:52:18.510Z"
   },
   {
    "duration": 22,
    "start_time": "2021-10-02T12:52:21.344Z"
   },
   {
    "duration": 2,
    "start_time": "2021-10-02T12:52:32.323Z"
   },
   {
    "duration": 7,
    "start_time": "2021-10-02T12:55:36.858Z"
   },
   {
    "duration": 6,
    "start_time": "2021-10-02T12:58:08.415Z"
   },
   {
    "duration": 7,
    "start_time": "2021-10-02T13:00:41.765Z"
   },
   {
    "duration": 3,
    "start_time": "2021-10-02T13:00:59.790Z"
   },
   {
    "duration": 8,
    "start_time": "2021-10-02T13:01:22.746Z"
   },
   {
    "duration": 12,
    "start_time": "2021-10-02T13:01:40.814Z"
   },
   {
    "duration": 11,
    "start_time": "2021-10-02T13:01:49.693Z"
   },
   {
    "duration": 46,
    "start_time": "2021-10-02T13:14:22.449Z"
   },
   {
    "duration": 16,
    "start_time": "2021-10-02T13:18:47.264Z"
   },
   {
    "duration": 5,
    "start_time": "2021-10-02T13:19:06.047Z"
   },
   {
    "duration": 5,
    "start_time": "2021-10-02T13:19:22.484Z"
   },
   {
    "duration": 2,
    "start_time": "2021-10-02T13:25:40.084Z"
   },
   {
    "duration": 1103,
    "start_time": "2021-10-02T13:31:39.797Z"
   },
   {
    "duration": 29,
    "start_time": "2021-10-02T13:31:40.902Z"
   },
   {
    "duration": 9,
    "start_time": "2021-10-02T13:31:40.932Z"
   },
   {
    "duration": 3,
    "start_time": "2021-10-02T13:31:40.944Z"
   },
   {
    "duration": 9,
    "start_time": "2021-10-02T13:31:40.949Z"
   },
   {
    "duration": 14,
    "start_time": "2021-10-02T13:31:40.959Z"
   },
   {
    "duration": 150,
    "start_time": "2021-10-02T13:31:40.974Z"
   },
   {
    "duration": 19,
    "start_time": "2021-10-02T13:31:41.125Z"
   },
   {
    "duration": 20,
    "start_time": "2021-10-02T13:31:41.146Z"
   },
   {
    "duration": 2,
    "start_time": "2021-10-02T13:31:41.168Z"
   },
   {
    "duration": 9,
    "start_time": "2021-10-02T13:31:41.172Z"
   },
   {
    "duration": 2,
    "start_time": "2021-10-02T13:31:41.183Z"
   },
   {
    "duration": 10,
    "start_time": "2021-10-02T13:31:41.187Z"
   },
   {
    "duration": 10,
    "start_time": "2021-10-02T13:31:41.199Z"
   },
   {
    "duration": 42,
    "start_time": "2021-10-02T13:31:41.210Z"
   },
   {
    "duration": 14,
    "start_time": "2021-10-02T13:31:41.254Z"
   },
   {
    "duration": 425,
    "start_time": "2021-10-02T13:31:41.270Z"
   },
   {
    "duration": -2982,
    "start_time": "2021-10-02T13:31:44.679Z"
   },
   {
    "duration": -3023,
    "start_time": "2021-10-02T13:31:44.721Z"
   },
   {
    "duration": -3055,
    "start_time": "2021-10-02T13:31:44.754Z"
   },
   {
    "duration": -3059,
    "start_time": "2021-10-02T13:31:44.759Z"
   },
   {
    "duration": -3074,
    "start_time": "2021-10-02T13:31:44.775Z"
   },
   {
    "duration": 9,
    "start_time": "2021-10-02T13:32:12.988Z"
   },
   {
    "duration": 4,
    "start_time": "2021-10-02T13:32:14.366Z"
   },
   {
    "duration": 5,
    "start_time": "2021-10-02T13:32:15.612Z"
   },
   {
    "duration": 4,
    "start_time": "2021-10-02T13:32:16.277Z"
   },
   {
    "duration": 1213,
    "start_time": "2021-10-02T16:54:45.978Z"
   },
   {
    "duration": 32,
    "start_time": "2021-10-02T16:54:48.033Z"
   },
   {
    "duration": 11,
    "start_time": "2021-10-02T16:54:49.760Z"
   },
   {
    "duration": 5,
    "start_time": "2021-10-02T16:54:53.196Z"
   },
   {
    "duration": 8,
    "start_time": "2021-10-02T16:54:54.081Z"
   },
   {
    "duration": 16,
    "start_time": "2021-10-02T16:54:57.207Z"
   },
   {
    "duration": 151,
    "start_time": "2021-10-02T16:55:01.166Z"
   },
   {
    "duration": 14,
    "start_time": "2021-10-02T16:55:07.346Z"
   },
   {
    "duration": 22,
    "start_time": "2021-10-02T16:55:10.641Z"
   },
   {
    "duration": 3,
    "start_time": "2021-10-02T16:55:13.642Z"
   },
   {
    "duration": 3,
    "start_time": "2021-10-02T16:55:28.064Z"
   },
   {
    "duration": 9,
    "start_time": "2021-10-02T16:55:32.269Z"
   },
   {
    "duration": 13,
    "start_time": "2021-10-02T16:55:34.638Z"
   },
   {
    "duration": 12,
    "start_time": "2021-10-02T16:55:35.407Z"
   },
   {
    "duration": 10,
    "start_time": "2021-10-02T16:55:38.372Z"
   },
   {
    "duration": 9,
    "start_time": "2021-10-02T16:55:39.324Z"
   },
   {
    "duration": 4,
    "start_time": "2021-10-02T16:55:39.383Z"
   },
   {
    "duration": 6,
    "start_time": "2021-10-02T16:55:40.052Z"
   },
   {
    "duration": 4,
    "start_time": "2021-10-02T16:55:40.699Z"
   },
   {
    "duration": 4,
    "start_time": "2021-10-02T16:58:29.651Z"
   },
   {
    "duration": 4,
    "start_time": "2021-10-02T17:05:56.430Z"
   },
   {
    "duration": 6,
    "start_time": "2021-10-02T17:06:04.872Z"
   },
   {
    "duration": 3,
    "start_time": "2021-10-02T17:13:34.393Z"
   },
   {
    "duration": 19,
    "start_time": "2021-10-02T17:13:57.247Z"
   },
   {
    "duration": 3,
    "start_time": "2021-10-02T17:14:44.656Z"
   },
   {
    "duration": 17,
    "start_time": "2021-10-02T17:14:46.997Z"
   },
   {
    "duration": 17,
    "start_time": "2021-10-02T17:16:53.088Z"
   },
   {
    "duration": 9,
    "start_time": "2021-10-02T17:18:22.088Z"
   },
   {
    "duration": 7,
    "start_time": "2021-10-02T17:19:14.171Z"
   },
   {
    "duration": 313,
    "start_time": "2021-10-02T17:19:22.418Z"
   },
   {
    "duration": 8,
    "start_time": "2021-10-02T17:19:47.947Z"
   },
   {
    "duration": 9,
    "start_time": "2021-10-02T17:19:48.617Z"
   },
   {
    "duration": 6,
    "start_time": "2021-10-02T17:23:52.638Z"
   },
   {
    "duration": 238,
    "start_time": "2021-10-02T17:28:31.543Z"
   },
   {
    "duration": 237,
    "start_time": "2021-10-02T17:28:42.121Z"
   },
   {
    "duration": 6,
    "start_time": "2021-10-02T17:28:48.663Z"
   },
   {
    "duration": 4,
    "start_time": "2021-10-02T17:29:59.687Z"
   },
   {
    "duration": 5,
    "start_time": "2021-10-02T17:30:13.890Z"
   },
   {
    "duration": 6,
    "start_time": "2021-10-02T17:30:23.207Z"
   },
   {
    "duration": 7,
    "start_time": "2021-10-02T17:36:07.175Z"
   },
   {
    "duration": 3,
    "start_time": "2021-10-02T17:47:19.574Z"
   },
   {
    "duration": 17,
    "start_time": "2021-10-02T17:47:20.578Z"
   },
   {
    "duration": 7,
    "start_time": "2021-10-02T17:47:22.885Z"
   },
   {
    "duration": 6,
    "start_time": "2021-10-02T17:47:23.988Z"
   },
   {
    "duration": 6,
    "start_time": "2021-10-02T17:47:25.489Z"
   },
   {
    "duration": 6,
    "start_time": "2021-10-02T17:47:26.945Z"
   },
   {
    "duration": 6,
    "start_time": "2021-10-02T17:47:27.536Z"
   },
   {
    "duration": 17,
    "start_time": "2021-10-02T17:47:33.112Z"
   },
   {
    "duration": 8,
    "start_time": "2021-10-02T17:47:41.086Z"
   },
   {
    "duration": 235,
    "start_time": "2021-10-02T17:50:14.373Z"
   },
   {
    "duration": 6,
    "start_time": "2021-10-02T17:50:42.428Z"
   },
   {
    "duration": 6,
    "start_time": "2021-10-02T17:50:58.142Z"
   },
   {
    "duration": 651,
    "start_time": "2021-10-02T17:52:59.825Z"
   },
   {
    "duration": 5,
    "start_time": "2021-10-02T18:01:59.687Z"
   },
   {
    "duration": 304,
    "start_time": "2021-10-02T18:03:26.646Z"
   },
   {
    "duration": 7,
    "start_time": "2021-10-02T18:03:58.691Z"
   },
   {
    "duration": 200,
    "start_time": "2021-10-02T18:04:02.552Z"
   },
   {
    "duration": 10,
    "start_time": "2021-10-02T18:04:05.622Z"
   },
   {
    "duration": 176,
    "start_time": "2021-10-02T18:04:21.682Z"
   },
   {
    "duration": 9,
    "start_time": "2021-10-02T18:04:22.618Z"
   },
   {
    "duration": 1263,
    "start_time": "2021-10-02T18:04:35.912Z"
   },
   {
    "duration": 31,
    "start_time": "2021-10-02T18:04:37.177Z"
   },
   {
    "duration": 9,
    "start_time": "2021-10-02T18:04:37.210Z"
   },
   {
    "duration": 5,
    "start_time": "2021-10-02T18:04:37.221Z"
   },
   {
    "duration": 10,
    "start_time": "2021-10-02T18:04:37.227Z"
   },
   {
    "duration": 20,
    "start_time": "2021-10-02T18:04:37.239Z"
   },
   {
    "duration": 161,
    "start_time": "2021-10-02T18:04:37.260Z"
   },
   {
    "duration": 14,
    "start_time": "2021-10-02T18:04:37.422Z"
   },
   {
    "duration": 21,
    "start_time": "2021-10-02T18:04:37.450Z"
   },
   {
    "duration": 3,
    "start_time": "2021-10-02T18:04:37.473Z"
   },
   {
    "duration": 8,
    "start_time": "2021-10-02T18:04:37.477Z"
   },
   {
    "duration": 11,
    "start_time": "2021-10-02T18:04:37.487Z"
   },
   {
    "duration": 10,
    "start_time": "2021-10-02T18:04:37.500Z"
   },
   {
    "duration": 9,
    "start_time": "2021-10-02T18:04:37.512Z"
   },
   {
    "duration": 35,
    "start_time": "2021-10-02T18:04:37.523Z"
   },
   {
    "duration": 8,
    "start_time": "2021-10-02T18:04:37.559Z"
   },
   {
    "duration": 4,
    "start_time": "2021-10-02T18:04:37.569Z"
   },
   {
    "duration": 9,
    "start_time": "2021-10-02T18:04:37.574Z"
   },
   {
    "duration": 10,
    "start_time": "2021-10-02T18:04:37.584Z"
   },
   {
    "duration": 9,
    "start_time": "2021-10-02T18:04:37.595Z"
   },
   {
    "duration": 11,
    "start_time": "2021-10-02T18:04:37.605Z"
   },
   {
    "duration": 8,
    "start_time": "2021-10-02T18:04:37.617Z"
   },
   {
    "duration": 3,
    "start_time": "2021-10-02T18:04:37.648Z"
   },
   {
    "duration": 20,
    "start_time": "2021-10-02T18:04:37.653Z"
   },
   {
    "duration": 7,
    "start_time": "2021-10-02T18:04:37.675Z"
   },
   {
    "duration": 168,
    "start_time": "2021-10-02T18:04:37.685Z"
   },
   {
    "duration": 5,
    "start_time": "2021-10-02T18:04:37.856Z"
   },
   {
    "duration": 6,
    "start_time": "2021-10-02T18:04:37.863Z"
   },
   {
    "duration": 6,
    "start_time": "2021-10-02T18:04:37.870Z"
   },
   {
    "duration": 181,
    "start_time": "2021-10-02T18:04:37.877Z"
   },
   {
    "duration": 13,
    "start_time": "2021-10-02T18:04:38.151Z"
   },
   {
    "duration": 1247,
    "start_time": "2021-10-02T18:05:04.874Z"
   },
   {
    "duration": 31,
    "start_time": "2021-10-02T18:05:06.123Z"
   },
   {
    "duration": 9,
    "start_time": "2021-10-02T18:05:06.157Z"
   },
   {
    "duration": 6,
    "start_time": "2021-10-02T18:05:06.168Z"
   },
   {
    "duration": 17,
    "start_time": "2021-10-02T18:05:06.176Z"
   },
   {
    "duration": 21,
    "start_time": "2021-10-02T18:05:06.195Z"
   },
   {
    "duration": 157,
    "start_time": "2021-10-02T18:05:06.217Z"
   },
   {
    "duration": 13,
    "start_time": "2021-10-02T18:05:06.375Z"
   },
   {
    "duration": 40,
    "start_time": "2021-10-02T18:05:06.391Z"
   },
   {
    "duration": 19,
    "start_time": "2021-10-02T18:05:06.433Z"
   },
   {
    "duration": 28,
    "start_time": "2021-10-02T18:05:06.454Z"
   },
   {
    "duration": 25,
    "start_time": "2021-10-02T18:05:06.484Z"
   },
   {
    "duration": 18,
    "start_time": "2021-10-02T18:05:06.510Z"
   },
   {
    "duration": 12,
    "start_time": "2021-10-02T18:05:06.530Z"
   },
   {
    "duration": 28,
    "start_time": "2021-10-02T18:05:06.544Z"
   },
   {
    "duration": 23,
    "start_time": "2021-10-02T18:05:06.573Z"
   },
   {
    "duration": 11,
    "start_time": "2021-10-02T18:05:06.598Z"
   },
   {
    "duration": 36,
    "start_time": "2021-10-02T18:05:06.611Z"
   },
   {
    "duration": 10,
    "start_time": "2021-10-02T18:05:06.648Z"
   },
   {
    "duration": 16,
    "start_time": "2021-10-02T18:05:06.659Z"
   },
   {
    "duration": 20,
    "start_time": "2021-10-02T18:05:06.677Z"
   },
   {
    "duration": 16,
    "start_time": "2021-10-02T18:05:06.699Z"
   },
   {
    "duration": 50,
    "start_time": "2021-10-02T18:05:06.717Z"
   },
   {
    "duration": 16,
    "start_time": "2021-10-02T18:05:06.769Z"
   },
   {
    "duration": 186,
    "start_time": "2021-10-02T18:05:06.787Z"
   },
   {
    "duration": 38,
    "start_time": "2021-10-02T18:05:06.975Z"
   },
   {
    "duration": 38,
    "start_time": "2021-10-02T18:05:07.016Z"
   },
   {
    "duration": 51,
    "start_time": "2021-10-02T18:05:07.056Z"
   },
   {
    "duration": 242,
    "start_time": "2021-10-02T18:05:07.108Z"
   },
   {
    "duration": 101,
    "start_time": "2021-10-02T18:05:07.353Z"
   },
   {
    "duration": 7,
    "start_time": "2021-10-02T18:05:55.590Z"
   },
   {
    "duration": 6,
    "start_time": "2021-10-02T18:06:23.649Z"
   },
   {
    "duration": 1437,
    "start_time": "2021-10-02T18:06:31.921Z"
   },
   {
    "duration": 38,
    "start_time": "2021-10-02T18:06:33.361Z"
   },
   {
    "duration": 14,
    "start_time": "2021-10-02T18:06:33.402Z"
   },
   {
    "duration": 4,
    "start_time": "2021-10-02T18:06:33.418Z"
   },
   {
    "duration": 10,
    "start_time": "2021-10-02T18:06:33.424Z"
   },
   {
    "duration": 24,
    "start_time": "2021-10-02T18:06:33.436Z"
   },
   {
    "duration": 238,
    "start_time": "2021-10-02T18:06:33.462Z"
   },
   {
    "duration": 18,
    "start_time": "2021-10-02T18:06:33.702Z"
   },
   {
    "duration": 48,
    "start_time": "2021-10-02T18:06:33.723Z"
   },
   {
    "duration": 3,
    "start_time": "2021-10-02T18:06:33.774Z"
   },
   {
    "duration": 6,
    "start_time": "2021-10-02T18:06:33.779Z"
   },
   {
    "duration": 14,
    "start_time": "2021-10-02T18:06:33.786Z"
   },
   {
    "duration": 12,
    "start_time": "2021-10-02T18:06:33.802Z"
   },
   {
    "duration": 34,
    "start_time": "2021-10-02T18:06:33.815Z"
   },
   {
    "duration": 10,
    "start_time": "2021-10-02T18:06:33.851Z"
   },
   {
    "duration": 8,
    "start_time": "2021-10-02T18:06:33.863Z"
   },
   {
    "duration": 4,
    "start_time": "2021-10-02T18:06:33.873Z"
   },
   {
    "duration": 10,
    "start_time": "2021-10-02T18:06:33.878Z"
   },
   {
    "duration": 11,
    "start_time": "2021-10-02T18:06:33.889Z"
   },
   {
    "duration": 10,
    "start_time": "2021-10-02T18:06:33.901Z"
   },
   {
    "duration": 36,
    "start_time": "2021-10-02T18:06:33.913Z"
   },
   {
    "duration": 9,
    "start_time": "2021-10-02T18:06:33.951Z"
   },
   {
    "duration": 24,
    "start_time": "2021-10-02T18:06:33.962Z"
   },
   {
    "duration": 67,
    "start_time": "2021-10-02T18:06:33.988Z"
   },
   {
    "duration": 98,
    "start_time": "2021-10-02T18:06:34.058Z"
   },
   {
    "duration": 98,
    "start_time": "2021-10-02T18:06:34.158Z"
   },
   {
    "duration": 7,
    "start_time": "2021-10-02T18:06:34.259Z"
   },
   {
    "duration": 6,
    "start_time": "2021-10-02T18:06:34.267Z"
   },
   {
    "duration": 279,
    "start_time": "2021-10-02T18:06:34.274Z"
   },
   {
    "duration": 100,
    "start_time": "2021-10-02T18:06:34.555Z"
   },
   {
    "duration": 1197,
    "start_time": "2021-10-02T18:07:30.908Z"
   },
   {
    "duration": 32,
    "start_time": "2021-10-02T18:07:32.106Z"
   },
   {
    "duration": 10,
    "start_time": "2021-10-02T18:07:32.140Z"
   },
   {
    "duration": 5,
    "start_time": "2021-10-02T18:07:32.152Z"
   },
   {
    "duration": 12,
    "start_time": "2021-10-02T18:07:32.159Z"
   },
   {
    "duration": 15,
    "start_time": "2021-10-02T18:07:32.173Z"
   },
   {
    "duration": 168,
    "start_time": "2021-10-02T18:07:32.189Z"
   },
   {
    "duration": 14,
    "start_time": "2021-10-02T18:07:32.359Z"
   },
   {
    "duration": 22,
    "start_time": "2021-10-02T18:07:32.377Z"
   },
   {
    "duration": 3,
    "start_time": "2021-10-02T18:07:32.401Z"
   },
   {
    "duration": 5,
    "start_time": "2021-10-02T18:07:32.406Z"
   },
   {
    "duration": 40,
    "start_time": "2021-10-02T18:07:32.413Z"
   },
   {
    "duration": 11,
    "start_time": "2021-10-02T18:07:32.456Z"
   },
   {
    "duration": 10,
    "start_time": "2021-10-02T18:07:32.469Z"
   },
   {
    "duration": 12,
    "start_time": "2021-10-02T18:07:32.481Z"
   },
   {
    "duration": 8,
    "start_time": "2021-10-02T18:07:32.494Z"
   },
   {
    "duration": 7,
    "start_time": "2021-10-02T18:07:32.503Z"
   },
   {
    "duration": 39,
    "start_time": "2021-10-02T18:07:32.511Z"
   },
   {
    "duration": 5,
    "start_time": "2021-10-02T18:07:32.552Z"
   },
   {
    "duration": 6,
    "start_time": "2021-10-02T18:07:32.558Z"
   },
   {
    "duration": 8,
    "start_time": "2021-10-02T18:07:32.565Z"
   },
   {
    "duration": 12,
    "start_time": "2021-10-02T18:07:32.575Z"
   },
   {
    "duration": 24,
    "start_time": "2021-10-02T18:07:32.589Z"
   },
   {
    "duration": 42,
    "start_time": "2021-10-02T18:07:32.615Z"
   },
   {
    "duration": 96,
    "start_time": "2021-10-02T18:07:32.659Z"
   },
   {
    "duration": 93,
    "start_time": "2021-10-02T18:07:32.757Z"
   },
   {
    "duration": 7,
    "start_time": "2021-10-02T18:07:32.853Z"
   },
   {
    "duration": 6,
    "start_time": "2021-10-02T18:07:32.862Z"
   },
   {
    "duration": 179,
    "start_time": "2021-10-02T18:07:32.870Z"
   },
   {
    "duration": 100,
    "start_time": "2021-10-02T18:07:33.051Z"
   },
   {
    "duration": 7,
    "start_time": "2021-10-02T18:12:13.797Z"
   },
   {
    "duration": 1175,
    "start_time": "2021-10-02T18:12:25.693Z"
   },
   {
    "duration": 34,
    "start_time": "2021-10-02T18:12:26.869Z"
   },
   {
    "duration": 12,
    "start_time": "2021-10-02T18:12:26.906Z"
   },
   {
    "duration": 5,
    "start_time": "2021-10-02T18:12:26.920Z"
   },
   {
    "duration": 26,
    "start_time": "2021-10-02T18:12:26.927Z"
   },
   {
    "duration": 17,
    "start_time": "2021-10-02T18:12:26.955Z"
   },
   {
    "duration": 161,
    "start_time": "2021-10-02T18:12:26.974Z"
   },
   {
    "duration": 19,
    "start_time": "2021-10-02T18:12:27.139Z"
   },
   {
    "duration": 22,
    "start_time": "2021-10-02T18:12:27.161Z"
   },
   {
    "duration": 3,
    "start_time": "2021-10-02T18:12:27.186Z"
   },
   {
    "duration": 5,
    "start_time": "2021-10-02T18:12:27.191Z"
   },
   {
    "duration": 12,
    "start_time": "2021-10-02T18:12:27.198Z"
   },
   {
    "duration": 46,
    "start_time": "2021-10-02T18:12:27.212Z"
   },
   {
    "duration": 10,
    "start_time": "2021-10-02T18:12:27.261Z"
   },
   {
    "duration": 10,
    "start_time": "2021-10-02T18:12:27.272Z"
   },
   {
    "duration": 7,
    "start_time": "2021-10-02T18:12:27.283Z"
   },
   {
    "duration": 3,
    "start_time": "2021-10-02T18:12:27.292Z"
   },
   {
    "duration": 13,
    "start_time": "2021-10-02T18:12:27.297Z"
   },
   {
    "duration": 13,
    "start_time": "2021-10-02T18:12:27.312Z"
   },
   {
    "duration": 24,
    "start_time": "2021-10-02T18:12:27.326Z"
   },
   {
    "duration": 12,
    "start_time": "2021-10-02T18:12:27.352Z"
   },
   {
    "duration": 11,
    "start_time": "2021-10-02T18:12:27.366Z"
   },
   {
    "duration": 27,
    "start_time": "2021-10-02T18:12:27.381Z"
   },
   {
    "duration": 12,
    "start_time": "2021-10-02T18:12:27.410Z"
   },
   {
    "duration": 98,
    "start_time": "2021-10-02T18:12:27.453Z"
   },
   {
    "duration": 7,
    "start_time": "2021-10-02T18:12:27.553Z"
   },
   {
    "duration": 8,
    "start_time": "2021-10-02T18:12:27.562Z"
   },
   {
    "duration": 6,
    "start_time": "2021-10-02T18:12:27.571Z"
   },
   {
    "duration": 175,
    "start_time": "2021-10-02T18:12:27.579Z"
   },
   {
    "duration": 93,
    "start_time": "2021-10-02T18:12:27.756Z"
   },
   {
    "duration": 284,
    "start_time": "2021-10-02T18:18:49.766Z"
   },
   {
    "duration": 283,
    "start_time": "2021-10-02T18:19:18.456Z"
   },
   {
    "duration": 19,
    "start_time": "2021-10-02T18:20:52.008Z"
   },
   {
    "duration": 21,
    "start_time": "2021-10-02T18:21:28.737Z"
   },
   {
    "duration": 9,
    "start_time": "2021-10-02T18:21:34.463Z"
   },
   {
    "duration": 748,
    "start_time": "2021-10-02T18:28:56.767Z"
   },
   {
    "duration": 1021,
    "start_time": "2021-10-02T18:31:36.618Z"
   },
   {
    "duration": 740,
    "start_time": "2021-10-02T18:31:58.652Z"
   },
   {
    "duration": 68,
    "start_time": "2021-10-02T18:35:24.198Z"
   },
   {
    "duration": 56,
    "start_time": "2021-10-02T18:35:40.904Z"
   },
   {
    "duration": 1246,
    "start_time": "2021-10-02T18:36:21.117Z"
   },
   {
    "duration": 31,
    "start_time": "2021-10-02T18:36:22.365Z"
   },
   {
    "duration": 9,
    "start_time": "2021-10-02T18:36:22.398Z"
   },
   {
    "duration": 8,
    "start_time": "2021-10-02T18:36:22.409Z"
   },
   {
    "duration": 20,
    "start_time": "2021-10-02T18:36:22.418Z"
   },
   {
    "duration": 17,
    "start_time": "2021-10-02T18:36:22.440Z"
   },
   {
    "duration": 144,
    "start_time": "2021-10-02T18:36:22.459Z"
   },
   {
    "duration": 13,
    "start_time": "2021-10-02T18:36:22.605Z"
   },
   {
    "duration": 38,
    "start_time": "2021-10-02T18:36:22.620Z"
   },
   {
    "duration": 2,
    "start_time": "2021-10-02T18:36:22.660Z"
   },
   {
    "duration": 9,
    "start_time": "2021-10-02T18:36:22.664Z"
   },
   {
    "duration": 11,
    "start_time": "2021-10-02T18:36:22.674Z"
   },
   {
    "duration": 11,
    "start_time": "2021-10-02T18:36:22.686Z"
   },
   {
    "duration": 10,
    "start_time": "2021-10-02T18:36:22.698Z"
   },
   {
    "duration": 11,
    "start_time": "2021-10-02T18:36:22.710Z"
   },
   {
    "duration": 32,
    "start_time": "2021-10-02T18:36:22.723Z"
   },
   {
    "duration": 4,
    "start_time": "2021-10-02T18:36:22.757Z"
   },
   {
    "duration": 11,
    "start_time": "2021-10-02T18:36:22.763Z"
   },
   {
    "duration": 10,
    "start_time": "2021-10-02T18:36:22.775Z"
   },
   {
    "duration": 7,
    "start_time": "2021-10-02T18:36:22.787Z"
   },
   {
    "duration": 9,
    "start_time": "2021-10-02T18:36:22.795Z"
   },
   {
    "duration": 10,
    "start_time": "2021-10-02T18:36:22.806Z"
   },
   {
    "duration": 25,
    "start_time": "2021-10-02T18:36:22.817Z"
   },
   {
    "duration": 9,
    "start_time": "2021-10-02T18:36:22.844Z"
   },
   {
    "duration": 101,
    "start_time": "2021-10-02T18:36:22.855Z"
   },
   {
    "duration": 92,
    "start_time": "2021-10-02T18:36:22.959Z"
   },
   {
    "duration": 16,
    "start_time": "2021-10-02T18:36:23.054Z"
   },
   {
    "duration": 7,
    "start_time": "2021-10-02T18:36:23.072Z"
   },
   {
    "duration": 277,
    "start_time": "2021-10-02T18:36:23.080Z"
   },
   {
    "duration": 399,
    "start_time": "2021-10-02T18:36:23.359Z"
   },
   {
    "duration": 20,
    "start_time": "2021-10-02T18:36:23.760Z"
   },
   {
    "duration": 26,
    "start_time": "2021-10-02T18:36:23.782Z"
   },
   {
    "duration": 764,
    "start_time": "2021-10-02T18:36:23.809Z"
   },
   {
    "duration": 79,
    "start_time": "2021-10-02T18:36:24.575Z"
   },
   {
    "duration": 49,
    "start_time": "2021-10-02T18:36:24.655Z"
   },
   {
    "duration": 6,
    "start_time": "2021-10-02T18:37:12.431Z"
   },
   {
    "duration": 1234,
    "start_time": "2021-10-02T18:38:04.541Z"
   },
   {
    "duration": 30,
    "start_time": "2021-10-02T18:38:05.777Z"
   },
   {
    "duration": 9,
    "start_time": "2021-10-02T18:38:05.810Z"
   },
   {
    "duration": 16,
    "start_time": "2021-10-02T18:38:05.820Z"
   },
   {
    "duration": 23,
    "start_time": "2021-10-02T18:38:05.838Z"
   },
   {
    "duration": 37,
    "start_time": "2021-10-02T18:38:05.863Z"
   },
   {
    "duration": 159,
    "start_time": "2021-10-02T18:38:05.901Z"
   },
   {
    "duration": 12,
    "start_time": "2021-10-02T18:38:06.061Z"
   },
   {
    "duration": 23,
    "start_time": "2021-10-02T18:38:06.076Z"
   },
   {
    "duration": 2,
    "start_time": "2021-10-02T18:38:06.101Z"
   },
   {
    "duration": 6,
    "start_time": "2021-10-02T18:38:06.105Z"
   },
   {
    "duration": 12,
    "start_time": "2021-10-02T18:38:06.112Z"
   },
   {
    "duration": 32,
    "start_time": "2021-10-02T18:38:06.126Z"
   },
   {
    "duration": 10,
    "start_time": "2021-10-02T18:38:06.160Z"
   },
   {
    "duration": 9,
    "start_time": "2021-10-02T18:38:06.172Z"
   },
   {
    "duration": 7,
    "start_time": "2021-10-02T18:38:06.183Z"
   },
   {
    "duration": 5,
    "start_time": "2021-10-02T18:38:06.191Z"
   },
   {
    "duration": 9,
    "start_time": "2021-10-02T18:38:06.198Z"
   },
   {
    "duration": 9,
    "start_time": "2021-10-02T18:38:06.209Z"
   },
   {
    "duration": 32,
    "start_time": "2021-10-02T18:38:06.219Z"
   },
   {
    "duration": 22,
    "start_time": "2021-10-02T18:38:06.253Z"
   },
   {
    "duration": 14,
    "start_time": "2021-10-02T18:38:06.277Z"
   },
   {
    "duration": 25,
    "start_time": "2021-10-02T18:38:06.293Z"
   },
   {
    "duration": 5,
    "start_time": "2021-10-02T18:38:06.320Z"
   },
   {
    "duration": 32,
    "start_time": "2021-10-02T18:38:06.327Z"
   },
   {
    "duration": 98,
    "start_time": "2021-10-02T18:38:06.362Z"
   },
   {
    "duration": 6,
    "start_time": "2021-10-02T18:38:06.464Z"
   },
   {
    "duration": 8,
    "start_time": "2021-10-02T18:38:06.550Z"
   },
   {
    "duration": 296,
    "start_time": "2021-10-02T18:38:06.560Z"
   },
   {
    "duration": 391,
    "start_time": "2021-10-02T18:38:06.858Z"
   },
   {
    "duration": 19,
    "start_time": "2021-10-02T18:38:07.250Z"
   },
   {
    "duration": 26,
    "start_time": "2021-10-02T18:38:07.271Z"
   },
   {
    "duration": 780,
    "start_time": "2021-10-02T18:38:07.298Z"
   },
   {
    "duration": 83,
    "start_time": "2021-10-02T18:38:08.080Z"
   },
   {
    "duration": 50,
    "start_time": "2021-10-02T18:38:08.165Z"
   },
   {
    "duration": 1207,
    "start_time": "2021-10-02T18:40:40.065Z"
   },
   {
    "duration": 33,
    "start_time": "2021-10-02T18:40:41.274Z"
   },
   {
    "duration": 11,
    "start_time": "2021-10-02T18:40:41.310Z"
   },
   {
    "duration": 4,
    "start_time": "2021-10-02T18:40:41.323Z"
   },
   {
    "duration": 24,
    "start_time": "2021-10-02T18:40:41.329Z"
   },
   {
    "duration": 14,
    "start_time": "2021-10-02T18:40:41.354Z"
   },
   {
    "duration": 149,
    "start_time": "2021-10-02T18:40:41.370Z"
   },
   {
    "duration": 12,
    "start_time": "2021-10-02T18:40:41.520Z"
   },
   {
    "duration": 29,
    "start_time": "2021-10-02T18:40:41.535Z"
   },
   {
    "duration": 2,
    "start_time": "2021-10-02T18:40:41.566Z"
   },
   {
    "duration": 8,
    "start_time": "2021-10-02T18:40:41.570Z"
   },
   {
    "duration": 13,
    "start_time": "2021-10-02T18:40:41.579Z"
   },
   {
    "duration": 12,
    "start_time": "2021-10-02T18:40:41.594Z"
   },
   {
    "duration": 11,
    "start_time": "2021-10-02T18:40:41.608Z"
   },
   {
    "duration": 12,
    "start_time": "2021-10-02T18:40:41.650Z"
   },
   {
    "duration": 9,
    "start_time": "2021-10-02T18:40:41.664Z"
   },
   {
    "duration": 4,
    "start_time": "2021-10-02T18:40:41.675Z"
   },
   {
    "duration": 15,
    "start_time": "2021-10-02T18:40:41.680Z"
   },
   {
    "duration": 8,
    "start_time": "2021-10-02T18:40:41.697Z"
   },
   {
    "duration": 18,
    "start_time": "2021-10-02T18:40:41.706Z"
   },
   {
    "duration": 10,
    "start_time": "2021-10-02T18:40:41.725Z"
   },
   {
    "duration": 9,
    "start_time": "2021-10-02T18:40:41.736Z"
   },
   {
    "duration": 20,
    "start_time": "2021-10-02T18:40:41.749Z"
   },
   {
    "duration": 7,
    "start_time": "2021-10-02T18:40:41.770Z"
   },
   {
    "duration": 80,
    "start_time": "2021-10-02T18:40:41.780Z"
   },
   {
    "duration": 91,
    "start_time": "2021-10-02T18:40:41.862Z"
   },
   {
    "duration": 5,
    "start_time": "2021-10-02T18:40:41.956Z"
   },
   {
    "duration": 5,
    "start_time": "2021-10-02T18:40:41.963Z"
   },
   {
    "duration": 284,
    "start_time": "2021-10-02T18:40:41.970Z"
   },
   {
    "duration": 385,
    "start_time": "2021-10-02T18:40:42.256Z"
   },
   {
    "duration": 20,
    "start_time": "2021-10-02T18:40:42.649Z"
   },
   {
    "duration": 26,
    "start_time": "2021-10-02T18:40:42.671Z"
   },
   {
    "duration": 768,
    "start_time": "2021-10-02T18:40:42.699Z"
   },
   {
    "duration": 80,
    "start_time": "2021-10-02T18:40:43.469Z"
   },
   {
    "duration": 51,
    "start_time": "2021-10-02T18:40:43.551Z"
   },
   {
    "duration": 1260,
    "start_time": "2021-10-02T18:41:17.612Z"
   },
   {
    "duration": 30,
    "start_time": "2021-10-02T18:41:18.875Z"
   },
   {
    "duration": 11,
    "start_time": "2021-10-02T18:41:18.908Z"
   },
   {
    "duration": 4,
    "start_time": "2021-10-02T18:41:18.921Z"
   },
   {
    "duration": 22,
    "start_time": "2021-10-02T18:41:18.927Z"
   },
   {
    "duration": 18,
    "start_time": "2021-10-02T18:41:18.952Z"
   },
   {
    "duration": 167,
    "start_time": "2021-10-02T18:41:18.972Z"
   },
   {
    "duration": 13,
    "start_time": "2021-10-02T18:41:19.149Z"
   },
   {
    "duration": 22,
    "start_time": "2021-10-02T18:41:19.166Z"
   },
   {
    "duration": 3,
    "start_time": "2021-10-02T18:41:19.191Z"
   },
   {
    "duration": 6,
    "start_time": "2021-10-02T18:41:19.196Z"
   },
   {
    "duration": 14,
    "start_time": "2021-10-02T18:41:19.204Z"
   },
   {
    "duration": 49,
    "start_time": "2021-10-02T18:41:19.220Z"
   },
   {
    "duration": 12,
    "start_time": "2021-10-02T18:41:19.271Z"
   },
   {
    "duration": 24,
    "start_time": "2021-10-02T18:41:19.285Z"
   },
   {
    "duration": 23,
    "start_time": "2021-10-02T18:41:19.311Z"
   },
   {
    "duration": 12,
    "start_time": "2021-10-02T18:41:19.336Z"
   },
   {
    "duration": 10,
    "start_time": "2021-10-02T18:41:19.350Z"
   },
   {
    "duration": 8,
    "start_time": "2021-10-02T18:41:19.362Z"
   },
   {
    "duration": 7,
    "start_time": "2021-10-02T18:41:19.371Z"
   },
   {
    "duration": 8,
    "start_time": "2021-10-02T18:41:19.380Z"
   },
   {
    "duration": 8,
    "start_time": "2021-10-02T18:41:19.389Z"
   },
   {
    "duration": 22,
    "start_time": "2021-10-02T18:41:19.399Z"
   },
   {
    "duration": 36,
    "start_time": "2021-10-02T18:41:19.423Z"
   },
   {
    "duration": 102,
    "start_time": "2021-10-02T18:41:19.551Z"
   },
   {
    "duration": 6,
    "start_time": "2021-10-02T18:41:19.655Z"
   },
   {
    "duration": 5,
    "start_time": "2021-10-02T18:41:19.664Z"
   },
   {
    "duration": 7,
    "start_time": "2021-10-02T18:41:19.671Z"
   },
   {
    "duration": 372,
    "start_time": "2021-10-02T18:41:19.680Z"
   },
   {
    "duration": 379,
    "start_time": "2021-10-02T18:41:20.054Z"
   },
   {
    "duration": 29,
    "start_time": "2021-10-02T18:41:20.435Z"
   },
   {
    "duration": 27,
    "start_time": "2021-10-02T18:41:20.466Z"
   },
   {
    "duration": 780,
    "start_time": "2021-10-02T18:41:20.495Z"
   },
   {
    "duration": 80,
    "start_time": "2021-10-02T18:41:21.277Z"
   },
   {
    "duration": 53,
    "start_time": "2021-10-02T18:41:21.359Z"
   },
   {
    "duration": 7,
    "start_time": "2021-10-02T18:46:38.884Z"
   },
   {
    "duration": 7,
    "start_time": "2021-10-02T18:47:19.390Z"
   },
   {
    "duration": 6,
    "start_time": "2021-10-02T18:47:32.790Z"
   },
   {
    "duration": 7,
    "start_time": "2021-10-02T18:47:35.822Z"
   },
   {
    "duration": 1195,
    "start_time": "2021-10-02T18:47:50.889Z"
   },
   {
    "duration": 33,
    "start_time": "2021-10-02T18:47:52.335Z"
   },
   {
    "duration": 12,
    "start_time": "2021-10-02T18:47:52.975Z"
   },
   {
    "duration": 6,
    "start_time": "2021-10-02T18:47:57.173Z"
   },
   {
    "duration": 9,
    "start_time": "2021-10-02T18:47:57.556Z"
   },
   {
    "duration": 17,
    "start_time": "2021-10-02T18:48:00.084Z"
   },
   {
    "duration": 149,
    "start_time": "2021-10-02T18:48:01.035Z"
   },
   {
    "duration": 15,
    "start_time": "2021-10-02T18:48:03.842Z"
   },
   {
    "duration": 22,
    "start_time": "2021-10-02T18:48:05.389Z"
   },
   {
    "duration": 3,
    "start_time": "2021-10-02T18:48:07.733Z"
   },
   {
    "duration": 3,
    "start_time": "2021-10-02T18:48:08.585Z"
   },
   {
    "duration": 10,
    "start_time": "2021-10-02T18:48:12.405Z"
   },
   {
    "duration": 12,
    "start_time": "2021-10-02T18:48:13.258Z"
   },
   {
    "duration": 12,
    "start_time": "2021-10-02T18:48:15.409Z"
   },
   {
    "duration": 11,
    "start_time": "2021-10-02T18:48:18.959Z"
   },
   {
    "duration": 9,
    "start_time": "2021-10-02T18:48:19.597Z"
   },
   {
    "duration": 4,
    "start_time": "2021-10-02T18:48:20.096Z"
   },
   {
    "duration": 4,
    "start_time": "2021-10-02T18:48:20.725Z"
   },
   {
    "duration": 5,
    "start_time": "2021-10-02T18:48:21.369Z"
   },
   {
    "duration": 4,
    "start_time": "2021-10-02T18:48:25.028Z"
   },
   {
    "duration": 5,
    "start_time": "2021-10-02T18:49:04.830Z"
   },
   {
    "duration": 3,
    "start_time": "2021-10-02T18:49:09.408Z"
   },
   {
    "duration": 18,
    "start_time": "2021-10-02T18:49:09.905Z"
   },
   {
    "duration": 16,
    "start_time": "2021-10-02T18:49:12.547Z"
   },
   {
    "duration": 6,
    "start_time": "2021-10-02T18:49:15.155Z"
   },
   {
    "duration": 8,
    "start_time": "2021-10-02T18:49:19.537Z"
   },
   {
    "duration": 6,
    "start_time": "2021-10-02T18:49:20.956Z"
   },
   {
    "duration": 6,
    "start_time": "2021-10-02T18:49:24.544Z"
   },
   {
    "duration": 5,
    "start_time": "2021-10-02T18:49:37.585Z"
   },
   {
    "duration": 6,
    "start_time": "2021-10-02T18:49:41.581Z"
   },
   {
    "duration": 4,
    "start_time": "2021-10-02T18:51:12.194Z"
   },
   {
    "duration": 6,
    "start_time": "2021-10-02T18:51:25.080Z"
   },
   {
    "duration": 1213,
    "start_time": "2021-10-02T18:51:59.578Z"
   },
   {
    "duration": 32,
    "start_time": "2021-10-02T18:52:00.793Z"
   },
   {
    "duration": 10,
    "start_time": "2021-10-02T18:52:00.827Z"
   },
   {
    "duration": 10,
    "start_time": "2021-10-02T18:52:00.839Z"
   },
   {
    "duration": 13,
    "start_time": "2021-10-02T18:52:00.851Z"
   },
   {
    "duration": 15,
    "start_time": "2021-10-02T18:52:00.866Z"
   },
   {
    "duration": 157,
    "start_time": "2021-10-02T18:52:00.883Z"
   },
   {
    "duration": 18,
    "start_time": "2021-10-02T18:52:01.042Z"
   },
   {
    "duration": 41,
    "start_time": "2021-10-02T18:52:01.062Z"
   },
   {
    "duration": 13,
    "start_time": "2021-10-02T18:52:01.105Z"
   },
   {
    "duration": 15,
    "start_time": "2021-10-02T18:52:01.120Z"
   },
   {
    "duration": 22,
    "start_time": "2021-10-02T18:52:01.137Z"
   },
   {
    "duration": 13,
    "start_time": "2021-10-02T18:52:01.161Z"
   },
   {
    "duration": 13,
    "start_time": "2021-10-02T18:52:01.175Z"
   },
   {
    "duration": 21,
    "start_time": "2021-10-02T18:52:01.190Z"
   },
   {
    "duration": 8,
    "start_time": "2021-10-02T18:52:01.213Z"
   },
   {
    "duration": 6,
    "start_time": "2021-10-02T18:52:01.223Z"
   },
   {
    "duration": 14,
    "start_time": "2021-10-02T18:52:01.230Z"
   },
   {
    "duration": 9,
    "start_time": "2021-10-02T18:52:01.249Z"
   },
   {
    "duration": 18,
    "start_time": "2021-10-02T18:52:01.259Z"
   },
   {
    "duration": 33,
    "start_time": "2021-10-02T18:52:01.279Z"
   },
   {
    "duration": 21,
    "start_time": "2021-10-02T18:52:01.314Z"
   },
   {
    "duration": 44,
    "start_time": "2021-10-02T18:52:01.337Z"
   },
   {
    "duration": 19,
    "start_time": "2021-10-02T18:52:01.383Z"
   },
   {
    "duration": 150,
    "start_time": "2021-10-02T18:52:01.403Z"
   },
   {
    "duration": 11,
    "start_time": "2021-10-02T18:52:01.555Z"
   },
   {
    "duration": 13,
    "start_time": "2021-10-02T18:52:01.569Z"
   },
   {
    "duration": 12,
    "start_time": "2021-10-02T18:52:01.584Z"
   },
   {
    "duration": 250,
    "start_time": "2021-10-02T18:52:01.598Z"
   },
   {
    "duration": 403,
    "start_time": "2021-10-02T18:52:01.851Z"
   },
   {
    "duration": 21,
    "start_time": "2021-10-02T18:52:02.256Z"
   },
   {
    "duration": 27,
    "start_time": "2021-10-02T18:52:02.279Z"
   },
   {
    "duration": 771,
    "start_time": "2021-10-02T18:52:02.308Z"
   },
   {
    "duration": 75,
    "start_time": "2021-10-02T18:52:03.081Z"
   },
   {
    "duration": 52,
    "start_time": "2021-10-02T18:52:03.158Z"
   },
   {
    "duration": 1191,
    "start_time": "2021-10-02T18:54:39.277Z"
   },
   {
    "duration": 31,
    "start_time": "2021-10-02T18:54:40.470Z"
   },
   {
    "duration": 11,
    "start_time": "2021-10-02T18:54:40.503Z"
   },
   {
    "duration": 4,
    "start_time": "2021-10-02T18:54:40.515Z"
   },
   {
    "duration": 17,
    "start_time": "2021-10-02T18:54:40.521Z"
   },
   {
    "duration": 19,
    "start_time": "2021-10-02T18:54:40.540Z"
   },
   {
    "duration": 149,
    "start_time": "2021-10-02T18:54:40.562Z"
   },
   {
    "duration": 13,
    "start_time": "2021-10-02T18:54:40.714Z"
   },
   {
    "duration": 37,
    "start_time": "2021-10-02T18:54:40.730Z"
   },
   {
    "duration": 2,
    "start_time": "2021-10-02T18:54:40.768Z"
   },
   {
    "duration": 7,
    "start_time": "2021-10-02T18:54:40.772Z"
   },
   {
    "duration": 12,
    "start_time": "2021-10-02T18:54:40.781Z"
   },
   {
    "duration": 11,
    "start_time": "2021-10-02T18:54:40.794Z"
   },
   {
    "duration": 11,
    "start_time": "2021-10-02T18:54:40.807Z"
   },
   {
    "duration": 36,
    "start_time": "2021-10-02T18:54:40.819Z"
   },
   {
    "duration": 8,
    "start_time": "2021-10-02T18:54:40.857Z"
   },
   {
    "duration": 3,
    "start_time": "2021-10-02T18:54:40.867Z"
   },
   {
    "duration": 10,
    "start_time": "2021-10-02T18:54:40.872Z"
   },
   {
    "duration": 10,
    "start_time": "2021-10-02T18:54:40.883Z"
   },
   {
    "duration": 7,
    "start_time": "2021-10-02T18:54:40.895Z"
   },
   {
    "duration": 8,
    "start_time": "2021-10-02T18:54:40.903Z"
   },
   {
    "duration": 10,
    "start_time": "2021-10-02T18:54:40.913Z"
   },
   {
    "duration": 30,
    "start_time": "2021-10-02T18:54:40.926Z"
   },
   {
    "duration": 7,
    "start_time": "2021-10-02T18:54:40.958Z"
   },
   {
    "duration": 93,
    "start_time": "2021-10-02T18:54:40.966Z"
   },
   {
    "duration": 90,
    "start_time": "2021-10-02T18:54:41.061Z"
   },
   {
    "duration": 6,
    "start_time": "2021-10-02T18:54:41.153Z"
   },
   {
    "duration": 7,
    "start_time": "2021-10-02T18:54:41.160Z"
   },
   {
    "duration": 287,
    "start_time": "2021-10-02T18:54:41.169Z"
   },
   {
    "duration": 384,
    "start_time": "2021-10-02T18:54:41.458Z"
   },
   {
    "duration": 21,
    "start_time": "2021-10-02T18:54:41.849Z"
   },
   {
    "duration": 27,
    "start_time": "2021-10-02T18:54:41.872Z"
   },
   {
    "duration": 768,
    "start_time": "2021-10-02T18:54:41.901Z"
   },
   {
    "duration": 81,
    "start_time": "2021-10-02T18:54:42.671Z"
   },
   {
    "duration": 51,
    "start_time": "2021-10-02T18:54:42.753Z"
   },
   {
    "duration": 1201,
    "start_time": "2021-10-02T18:56:12.568Z"
   },
   {
    "duration": 31,
    "start_time": "2021-10-02T18:56:13.771Z"
   },
   {
    "duration": 11,
    "start_time": "2021-10-02T18:56:13.804Z"
   },
   {
    "duration": 5,
    "start_time": "2021-10-02T18:56:13.817Z"
   },
   {
    "duration": 9,
    "start_time": "2021-10-02T18:56:13.824Z"
   },
   {
    "duration": 17,
    "start_time": "2021-10-02T18:56:13.849Z"
   },
   {
    "duration": 159,
    "start_time": "2021-10-02T18:56:13.868Z"
   },
   {
    "duration": 28,
    "start_time": "2021-10-02T18:56:14.029Z"
   },
   {
    "duration": 23,
    "start_time": "2021-10-02T18:56:14.061Z"
   },
   {
    "duration": 3,
    "start_time": "2021-10-02T18:56:14.087Z"
   },
   {
    "duration": 8,
    "start_time": "2021-10-02T18:56:14.092Z"
   },
   {
    "duration": 13,
    "start_time": "2021-10-02T18:56:14.102Z"
   },
   {
    "duration": 41,
    "start_time": "2021-10-02T18:56:14.116Z"
   },
   {
    "duration": 11,
    "start_time": "2021-10-02T18:56:14.159Z"
   },
   {
    "duration": 12,
    "start_time": "2021-10-02T18:56:14.171Z"
   },
   {
    "duration": 7,
    "start_time": "2021-10-02T18:56:14.185Z"
   },
   {
    "duration": 4,
    "start_time": "2021-10-02T18:56:14.194Z"
   },
   {
    "duration": 14,
    "start_time": "2021-10-02T18:56:14.199Z"
   },
   {
    "duration": 10,
    "start_time": "2021-10-02T18:56:14.214Z"
   },
   {
    "duration": 24,
    "start_time": "2021-10-02T18:56:14.225Z"
   },
   {
    "duration": 4,
    "start_time": "2021-10-02T18:56:14.251Z"
   },
   {
    "duration": 13,
    "start_time": "2021-10-02T18:56:14.257Z"
   },
   {
    "duration": 22,
    "start_time": "2021-10-02T18:56:14.271Z"
   },
   {
    "duration": 10,
    "start_time": "2021-10-02T18:56:14.294Z"
   },
   {
    "duration": 102,
    "start_time": "2021-10-02T18:56:14.351Z"
   },
   {
    "duration": 5,
    "start_time": "2021-10-02T18:56:14.455Z"
   },
   {
    "duration": 5,
    "start_time": "2021-10-02T18:56:14.463Z"
   },
   {
    "duration": 7,
    "start_time": "2021-10-02T18:56:14.470Z"
   },
   {
    "duration": 373,
    "start_time": "2021-10-02T18:56:14.478Z"
   },
   {
    "duration": 379,
    "start_time": "2021-10-02T18:56:14.854Z"
   },
   {
    "duration": 31,
    "start_time": "2021-10-02T18:56:15.235Z"
   },
   {
    "duration": 26,
    "start_time": "2021-10-02T18:56:15.268Z"
   },
   {
    "duration": 744,
    "start_time": "2021-10-02T18:56:15.295Z"
   },
   {
    "duration": 69,
    "start_time": "2021-10-02T18:56:16.049Z"
   },
   {
    "duration": 58,
    "start_time": "2021-10-02T18:56:16.119Z"
   },
   {
    "duration": 114,
    "start_time": "2021-10-02T18:56:56.928Z"
   },
   {
    "duration": 1723,
    "start_time": "2021-10-02T18:57:16.053Z"
   },
   {
    "duration": 29,
    "start_time": "2021-10-02T18:57:17.778Z"
   },
   {
    "duration": 10,
    "start_time": "2021-10-02T18:57:17.809Z"
   },
   {
    "duration": 7,
    "start_time": "2021-10-02T18:57:17.821Z"
   },
   {
    "duration": 7,
    "start_time": "2021-10-02T18:57:17.830Z"
   },
   {
    "duration": 18,
    "start_time": "2021-10-02T18:57:17.839Z"
   },
   {
    "duration": 153,
    "start_time": "2021-10-02T18:57:17.859Z"
   },
   {
    "duration": 12,
    "start_time": "2021-10-02T18:57:18.014Z"
   },
   {
    "duration": 37,
    "start_time": "2021-10-02T18:57:18.028Z"
   },
   {
    "duration": 2,
    "start_time": "2021-10-02T18:57:18.067Z"
   },
   {
    "duration": 7,
    "start_time": "2021-10-02T18:57:18.070Z"
   },
   {
    "duration": 14,
    "start_time": "2021-10-02T18:57:18.078Z"
   },
   {
    "duration": 10,
    "start_time": "2021-10-02T18:57:18.094Z"
   },
   {
    "duration": 13,
    "start_time": "2021-10-02T18:57:18.106Z"
   },
   {
    "duration": 31,
    "start_time": "2021-10-02T18:57:18.120Z"
   },
   {
    "duration": 7,
    "start_time": "2021-10-02T18:57:18.153Z"
   },
   {
    "duration": 3,
    "start_time": "2021-10-02T18:57:18.163Z"
   },
   {
    "duration": 10,
    "start_time": "2021-10-02T18:57:18.168Z"
   },
   {
    "duration": 11,
    "start_time": "2021-10-02T18:57:18.180Z"
   },
   {
    "duration": 10,
    "start_time": "2021-10-02T18:57:18.192Z"
   },
   {
    "duration": 9,
    "start_time": "2021-10-02T18:57:18.204Z"
   },
   {
    "duration": 12,
    "start_time": "2021-10-02T18:57:18.214Z"
   },
   {
    "duration": 26,
    "start_time": "2021-10-02T18:57:18.229Z"
   },
   {
    "duration": 7,
    "start_time": "2021-10-02T18:57:18.258Z"
   },
   {
    "duration": 85,
    "start_time": "2021-10-02T18:57:18.266Z"
   },
   {
    "duration": 96,
    "start_time": "2021-10-02T18:57:18.353Z"
   },
   {
    "duration": 6,
    "start_time": "2021-10-02T18:57:18.451Z"
   },
   {
    "duration": 6,
    "start_time": "2021-10-02T18:57:18.458Z"
   },
   {
    "duration": 489,
    "start_time": "2021-10-02T18:57:18.466Z"
   },
   {
    "duration": 386,
    "start_time": "2021-10-02T18:57:18.958Z"
   },
   {
    "duration": 22,
    "start_time": "2021-10-02T18:57:19.345Z"
   },
   {
    "duration": 26,
    "start_time": "2021-10-02T18:57:19.368Z"
   },
   {
    "duration": 828,
    "start_time": "2021-10-02T18:57:19.396Z"
   },
   {
    "duration": 75,
    "start_time": "2021-10-02T18:57:20.225Z"
   },
   {
    "duration": 59,
    "start_time": "2021-10-02T18:57:20.301Z"
   },
   {
    "duration": 1602,
    "start_time": "2021-10-03T09:21:52.751Z"
   },
   {
    "duration": 37,
    "start_time": "2021-10-03T09:21:54.356Z"
   },
   {
    "duration": 15,
    "start_time": "2021-10-03T09:21:54.397Z"
   },
   {
    "duration": 8,
    "start_time": "2021-10-03T09:21:54.415Z"
   },
   {
    "duration": 49,
    "start_time": "2021-10-03T09:21:54.426Z"
   },
   {
    "duration": 23,
    "start_time": "2021-10-03T09:21:54.478Z"
   },
   {
    "duration": 273,
    "start_time": "2021-10-03T09:21:54.503Z"
   },
   {
    "duration": 18,
    "start_time": "2021-10-03T09:21:54.780Z"
   },
   {
    "duration": 34,
    "start_time": "2021-10-03T09:21:54.801Z"
   },
   {
    "duration": 29,
    "start_time": "2021-10-03T09:21:54.838Z"
   },
   {
    "duration": 4,
    "start_time": "2021-10-03T09:21:54.869Z"
   },
   {
    "duration": 24,
    "start_time": "2021-10-03T09:21:54.875Z"
   },
   {
    "duration": 15,
    "start_time": "2021-10-03T09:21:54.901Z"
   },
   {
    "duration": 16,
    "start_time": "2021-10-03T09:21:54.919Z"
   },
   {
    "duration": 37,
    "start_time": "2021-10-03T09:21:54.938Z"
   },
   {
    "duration": 11,
    "start_time": "2021-10-03T09:21:54.978Z"
   },
   {
    "duration": 10,
    "start_time": "2021-10-03T09:21:54.991Z"
   },
   {
    "duration": 12,
    "start_time": "2021-10-03T09:21:55.003Z"
   },
   {
    "duration": 12,
    "start_time": "2021-10-03T09:21:55.017Z"
   },
   {
    "duration": 35,
    "start_time": "2021-10-03T09:21:55.032Z"
   },
   {
    "duration": 9,
    "start_time": "2021-10-03T09:21:55.070Z"
   },
   {
    "duration": 8,
    "start_time": "2021-10-03T09:21:55.082Z"
   },
   {
    "duration": 28,
    "start_time": "2021-10-03T09:21:55.096Z"
   },
   {
    "duration": 49,
    "start_time": "2021-10-03T09:21:55.127Z"
   },
   {
    "duration": 104,
    "start_time": "2021-10-03T09:21:55.179Z"
   },
   {
    "duration": 87,
    "start_time": "2021-10-03T09:21:55.287Z"
   },
   {
    "duration": 7,
    "start_time": "2021-10-03T09:21:55.377Z"
   },
   {
    "duration": 9,
    "start_time": "2021-10-03T09:21:55.386Z"
   },
   {
    "duration": 382,
    "start_time": "2021-10-03T09:21:55.397Z"
   },
   {
    "duration": 694,
    "start_time": "2021-10-03T09:22:40.084Z"
   },
   {
    "duration": 12,
    "start_time": "2021-10-03T09:22:49.219Z"
   },
   {
    "duration": 1543,
    "start_time": "2021-10-03T09:22:56.584Z"
   },
   {
    "duration": 35,
    "start_time": "2021-10-03T09:22:58.129Z"
   },
   {
    "duration": 14,
    "start_time": "2021-10-03T09:22:58.168Z"
   },
   {
    "duration": 5,
    "start_time": "2021-10-03T09:22:58.185Z"
   },
   {
    "duration": 13,
    "start_time": "2021-10-03T09:22:58.192Z"
   },
   {
    "duration": 22,
    "start_time": "2021-10-03T09:22:58.207Z"
   },
   {
    "duration": 262,
    "start_time": "2021-10-03T09:22:58.267Z"
   },
   {
    "duration": 20,
    "start_time": "2021-10-03T09:22:58.531Z"
   },
   {
    "duration": 32,
    "start_time": "2021-10-03T09:22:58.569Z"
   },
   {
    "duration": 4,
    "start_time": "2021-10-03T09:22:58.605Z"
   },
   {
    "duration": 7,
    "start_time": "2021-10-03T09:22:58.612Z"
   },
   {
    "duration": 46,
    "start_time": "2021-10-03T09:22:58.622Z"
   },
   {
    "duration": 19,
    "start_time": "2021-10-03T09:22:58.671Z"
   },
   {
    "duration": 19,
    "start_time": "2021-10-03T09:22:58.693Z"
   },
   {
    "duration": 56,
    "start_time": "2021-10-03T09:22:58.715Z"
   },
   {
    "duration": 14,
    "start_time": "2021-10-03T09:22:58.773Z"
   },
   {
    "duration": 6,
    "start_time": "2021-10-03T09:22:58.790Z"
   },
   {
    "duration": 7,
    "start_time": "2021-10-03T09:22:58.799Z"
   },
   {
    "duration": 20,
    "start_time": "2021-10-03T09:22:58.809Z"
   },
   {
    "duration": 36,
    "start_time": "2021-10-03T09:22:58.832Z"
   },
   {
    "duration": 11,
    "start_time": "2021-10-03T09:22:58.871Z"
   },
   {
    "duration": 7,
    "start_time": "2021-10-03T09:22:58.885Z"
   },
   {
    "duration": 31,
    "start_time": "2021-10-03T09:22:58.894Z"
   },
   {
    "duration": 47,
    "start_time": "2021-10-03T09:22:58.927Z"
   },
   {
    "duration": 188,
    "start_time": "2021-10-03T09:22:58.978Z"
   },
   {
    "duration": 9,
    "start_time": "2021-10-03T09:22:59.169Z"
   },
   {
    "duration": 8,
    "start_time": "2021-10-03T09:22:59.182Z"
   },
   {
    "duration": 7,
    "start_time": "2021-10-03T09:22:59.192Z"
   },
   {
    "duration": 471,
    "start_time": "2021-10-03T09:22:59.202Z"
   },
   {
    "duration": 1553,
    "start_time": "2021-10-03T09:23:12.390Z"
   },
   {
    "duration": 34,
    "start_time": "2021-10-03T09:23:13.946Z"
   },
   {
    "duration": 13,
    "start_time": "2021-10-03T09:23:13.983Z"
   },
   {
    "duration": 5,
    "start_time": "2021-10-03T09:23:13.999Z"
   },
   {
    "duration": 16,
    "start_time": "2021-10-03T09:23:14.006Z"
   },
   {
    "duration": 47,
    "start_time": "2021-10-03T09:23:14.024Z"
   },
   {
    "duration": 274,
    "start_time": "2021-10-03T09:23:14.074Z"
   },
   {
    "duration": 27,
    "start_time": "2021-10-03T09:23:14.351Z"
   },
   {
    "duration": 33,
    "start_time": "2021-10-03T09:23:14.383Z"
   },
   {
    "duration": 3,
    "start_time": "2021-10-03T09:23:14.419Z"
   },
   {
    "duration": 10,
    "start_time": "2021-10-03T09:23:14.425Z"
   },
   {
    "duration": 11,
    "start_time": "2021-10-03T09:23:14.468Z"
   },
   {
    "duration": 17,
    "start_time": "2021-10-03T09:23:14.482Z"
   },
   {
    "duration": 17,
    "start_time": "2021-10-03T09:23:14.501Z"
   },
   {
    "duration": 51,
    "start_time": "2021-10-03T09:23:14.521Z"
   },
   {
    "duration": 11,
    "start_time": "2021-10-03T09:23:14.574Z"
   },
   {
    "duration": 6,
    "start_time": "2021-10-03T09:23:14.587Z"
   },
   {
    "duration": 8,
    "start_time": "2021-10-03T09:23:14.595Z"
   },
   {
    "duration": 6,
    "start_time": "2021-10-03T09:23:14.605Z"
   },
   {
    "duration": 5,
    "start_time": "2021-10-03T09:23:14.614Z"
   },
   {
    "duration": 52,
    "start_time": "2021-10-03T09:23:14.621Z"
   },
   {
    "duration": 8,
    "start_time": "2021-10-03T09:23:14.676Z"
   },
   {
    "duration": 32,
    "start_time": "2021-10-03T09:23:14.686Z"
   },
   {
    "duration": 148,
    "start_time": "2021-10-03T09:23:14.720Z"
   },
   {
    "duration": 99,
    "start_time": "2021-10-03T09:23:14.872Z"
   },
   {
    "duration": 8,
    "start_time": "2021-10-03T09:23:14.974Z"
   },
   {
    "duration": 8,
    "start_time": "2021-10-03T09:23:14.986Z"
   },
   {
    "duration": 9,
    "start_time": "2021-10-03T09:23:14.996Z"
   },
   {
    "duration": 466,
    "start_time": "2021-10-03T09:23:15.008Z"
   },
   {
    "duration": 1550,
    "start_time": "2021-10-03T09:23:39.769Z"
   },
   {
    "duration": 35,
    "start_time": "2021-10-03T09:23:41.321Z"
   },
   {
    "duration": 17,
    "start_time": "2021-10-03T09:23:41.359Z"
   },
   {
    "duration": 5,
    "start_time": "2021-10-03T09:23:41.379Z"
   },
   {
    "duration": 11,
    "start_time": "2021-10-03T09:23:41.387Z"
   },
   {
    "duration": 21,
    "start_time": "2021-10-03T09:23:41.401Z"
   },
   {
    "duration": 297,
    "start_time": "2021-10-03T09:23:41.424Z"
   },
   {
    "duration": 20,
    "start_time": "2021-10-03T09:23:41.723Z"
   },
   {
    "duration": 50,
    "start_time": "2021-10-03T09:23:41.748Z"
   },
   {
    "duration": 3,
    "start_time": "2021-10-03T09:23:41.801Z"
   },
   {
    "duration": 6,
    "start_time": "2021-10-03T09:23:41.807Z"
   },
   {
    "duration": 15,
    "start_time": "2021-10-03T09:23:41.815Z"
   },
   {
    "duration": 45,
    "start_time": "2021-10-03T09:23:41.833Z"
   },
   {
    "duration": 17,
    "start_time": "2021-10-03T09:23:41.880Z"
   },
   {
    "duration": 17,
    "start_time": "2021-10-03T09:23:41.899Z"
   },
   {
    "duration": 11,
    "start_time": "2021-10-03T09:23:41.919Z"
   },
   {
    "duration": 37,
    "start_time": "2021-10-03T09:23:41.932Z"
   },
   {
    "duration": 8,
    "start_time": "2021-10-03T09:23:41.971Z"
   },
   {
    "duration": 10,
    "start_time": "2021-10-03T09:23:41.981Z"
   },
   {
    "duration": 5,
    "start_time": "2021-10-03T09:23:41.993Z"
   },
   {
    "duration": 7,
    "start_time": "2021-10-03T09:23:42.001Z"
   },
   {
    "duration": 6,
    "start_time": "2021-10-03T09:23:42.011Z"
   },
   {
    "duration": 70,
    "start_time": "2021-10-03T09:23:42.019Z"
   },
   {
    "duration": 7,
    "start_time": "2021-10-03T09:23:42.092Z"
   },
   {
    "duration": 102,
    "start_time": "2021-10-03T09:23:42.167Z"
   },
   {
    "duration": 8,
    "start_time": "2021-10-03T09:23:42.271Z"
   },
   {
    "duration": 8,
    "start_time": "2021-10-03T09:23:42.283Z"
   },
   {
    "duration": 8,
    "start_time": "2021-10-03T09:23:42.293Z"
   },
   {
    "duration": 471,
    "start_time": "2021-10-03T09:23:42.303Z"
   },
   {
    "duration": 415,
    "start_time": "2021-10-03T09:25:51.959Z"
   },
   {
    "duration": 427,
    "start_time": "2021-10-03T09:26:01.619Z"
   },
   {
    "duration": 430,
    "start_time": "2021-10-03T09:26:08.159Z"
   },
   {
    "duration": 1571,
    "start_time": "2021-10-03T09:26:17.945Z"
   },
   {
    "duration": 33,
    "start_time": "2021-10-03T09:26:19.519Z"
   },
   {
    "duration": 19,
    "start_time": "2021-10-03T09:26:19.555Z"
   },
   {
    "duration": 6,
    "start_time": "2021-10-03T09:26:19.577Z"
   },
   {
    "duration": 17,
    "start_time": "2021-10-03T09:26:19.585Z"
   },
   {
    "duration": 23,
    "start_time": "2021-10-03T09:26:19.604Z"
   },
   {
    "duration": 282,
    "start_time": "2021-10-03T09:26:19.629Z"
   },
   {
    "duration": 18,
    "start_time": "2021-10-03T09:26:19.915Z"
   },
   {
    "duration": 51,
    "start_time": "2021-10-03T09:26:19.936Z"
   },
   {
    "duration": 3,
    "start_time": "2021-10-03T09:26:19.990Z"
   },
   {
    "duration": 7,
    "start_time": "2021-10-03T09:26:19.995Z"
   },
   {
    "duration": 14,
    "start_time": "2021-10-03T09:26:20.004Z"
   },
   {
    "duration": 15,
    "start_time": "2021-10-03T09:26:20.020Z"
   },
   {
    "duration": 16,
    "start_time": "2021-10-03T09:26:20.067Z"
   },
   {
    "duration": 18,
    "start_time": "2021-10-03T09:26:20.085Z"
   },
   {
    "duration": 10,
    "start_time": "2021-10-03T09:26:20.106Z"
   },
   {
    "duration": 5,
    "start_time": "2021-10-03T09:26:20.118Z"
   },
   {
    "duration": 8,
    "start_time": "2021-10-03T09:26:20.125Z"
   },
   {
    "duration": 5,
    "start_time": "2021-10-03T09:26:20.168Z"
   },
   {
    "duration": 6,
    "start_time": "2021-10-03T09:26:20.176Z"
   },
   {
    "duration": 10,
    "start_time": "2021-10-03T09:26:20.184Z"
   },
   {
    "duration": 5,
    "start_time": "2021-10-03T09:26:20.197Z"
   },
   {
    "duration": 64,
    "start_time": "2021-10-03T09:26:20.206Z"
   },
   {
    "duration": 9,
    "start_time": "2021-10-03T09:26:20.273Z"
   },
   {
    "duration": 90,
    "start_time": "2021-10-03T09:26:20.285Z"
   },
   {
    "duration": 8,
    "start_time": "2021-10-03T09:26:20.467Z"
   },
   {
    "duration": 9,
    "start_time": "2021-10-03T09:26:20.477Z"
   },
   {
    "duration": 11,
    "start_time": "2021-10-03T09:26:20.489Z"
   },
   {
    "duration": 474,
    "start_time": "2021-10-03T09:26:20.502Z"
   },
   {
    "duration": 433,
    "start_time": "2021-10-03T09:26:21.068Z"
   },
   {
    "duration": 31,
    "start_time": "2021-10-03T09:27:24.208Z"
   },
   {
    "duration": 1538,
    "start_time": "2021-10-03T09:27:40.885Z"
   },
   {
    "duration": 35,
    "start_time": "2021-10-03T09:27:42.425Z"
   },
   {
    "duration": 13,
    "start_time": "2021-10-03T09:27:42.463Z"
   },
   {
    "duration": 6,
    "start_time": "2021-10-03T09:27:42.479Z"
   },
   {
    "duration": 14,
    "start_time": "2021-10-03T09:27:42.487Z"
   },
   {
    "duration": 23,
    "start_time": "2021-10-03T09:27:42.503Z"
   },
   {
    "duration": 246,
    "start_time": "2021-10-03T09:27:42.568Z"
   },
   {
    "duration": 19,
    "start_time": "2021-10-03T09:27:42.816Z"
   },
   {
    "duration": 52,
    "start_time": "2021-10-03T09:27:42.839Z"
   },
   {
    "duration": 3,
    "start_time": "2021-10-03T09:27:42.894Z"
   },
   {
    "duration": 5,
    "start_time": "2021-10-03T09:27:42.900Z"
   },
   {
    "duration": 17,
    "start_time": "2021-10-03T09:27:42.907Z"
   },
   {
    "duration": 44,
    "start_time": "2021-10-03T09:27:42.926Z"
   },
   {
    "duration": 16,
    "start_time": "2021-10-03T09:27:42.973Z"
   },
   {
    "duration": 13,
    "start_time": "2021-10-03T09:27:42.992Z"
   },
   {
    "duration": 11,
    "start_time": "2021-10-03T09:27:43.008Z"
   },
   {
    "duration": 47,
    "start_time": "2021-10-03T09:27:43.021Z"
   },
   {
    "duration": 6,
    "start_time": "2021-10-03T09:27:43.071Z"
   },
   {
    "duration": 7,
    "start_time": "2021-10-03T09:27:43.080Z"
   },
   {
    "duration": 5,
    "start_time": "2021-10-03T09:27:43.090Z"
   },
   {
    "duration": 9,
    "start_time": "2021-10-03T09:27:43.099Z"
   },
   {
    "duration": 56,
    "start_time": "2021-10-03T09:27:43.111Z"
   },
   {
    "duration": 30,
    "start_time": "2021-10-03T09:27:43.170Z"
   },
   {
    "duration": 66,
    "start_time": "2021-10-03T09:27:43.202Z"
   },
   {
    "duration": 98,
    "start_time": "2021-10-03T09:27:43.271Z"
   },
   {
    "duration": 8,
    "start_time": "2021-10-03T09:27:43.372Z"
   },
   {
    "duration": 9,
    "start_time": "2021-10-03T09:27:43.385Z"
   },
   {
    "duration": 75,
    "start_time": "2021-10-03T09:27:43.397Z"
   },
   {
    "duration": 392,
    "start_time": "2021-10-03T09:27:43.475Z"
   },
   {
    "duration": 427,
    "start_time": "2021-10-03T09:27:43.869Z"
   },
   {
    "duration": 28,
    "start_time": "2021-10-03T09:27:44.299Z"
   },
   {
    "duration": 28,
    "start_time": "2021-10-03T09:28:25.806Z"
   },
   {
    "duration": 40,
    "start_time": "2021-10-03T09:28:45.179Z"
   },
   {
    "duration": 1570,
    "start_time": "2021-10-03T09:29:22.258Z"
   },
   {
    "duration": 36,
    "start_time": "2021-10-03T09:29:23.831Z"
   },
   {
    "duration": 13,
    "start_time": "2021-10-03T09:29:23.870Z"
   },
   {
    "duration": 6,
    "start_time": "2021-10-03T09:29:23.886Z"
   },
   {
    "duration": 13,
    "start_time": "2021-10-03T09:29:23.894Z"
   },
   {
    "duration": 24,
    "start_time": "2021-10-03T09:29:23.909Z"
   },
   {
    "duration": 273,
    "start_time": "2021-10-03T09:29:23.968Z"
   },
   {
    "duration": 27,
    "start_time": "2021-10-03T09:29:24.243Z"
   },
   {
    "duration": 32,
    "start_time": "2021-10-03T09:29:24.274Z"
   },
   {
    "duration": 3,
    "start_time": "2021-10-03T09:29:24.309Z"
   },
   {
    "duration": 7,
    "start_time": "2021-10-03T09:29:24.314Z"
   },
   {
    "duration": 44,
    "start_time": "2021-10-03T09:29:24.324Z"
   },
   {
    "duration": 15,
    "start_time": "2021-10-03T09:29:24.371Z"
   },
   {
    "duration": 19,
    "start_time": "2021-10-03T09:29:24.388Z"
   },
   {
    "duration": 14,
    "start_time": "2021-10-03T09:29:24.409Z"
   },
   {
    "duration": 45,
    "start_time": "2021-10-03T09:29:24.425Z"
   },
   {
    "duration": 5,
    "start_time": "2021-10-03T09:29:24.473Z"
   },
   {
    "duration": 7,
    "start_time": "2021-10-03T09:29:24.480Z"
   },
   {
    "duration": 8,
    "start_time": "2021-10-03T09:29:24.489Z"
   },
   {
    "duration": 6,
    "start_time": "2021-10-03T09:29:24.499Z"
   },
   {
    "duration": 8,
    "start_time": "2021-10-03T09:29:24.507Z"
   },
   {
    "duration": 8,
    "start_time": "2021-10-03T09:29:24.517Z"
   },
   {
    "duration": 64,
    "start_time": "2021-10-03T09:29:24.527Z"
   },
   {
    "duration": 74,
    "start_time": "2021-10-03T09:29:24.594Z"
   },
   {
    "duration": 98,
    "start_time": "2021-10-03T09:29:24.671Z"
   },
   {
    "duration": 8,
    "start_time": "2021-10-03T09:29:24.771Z"
   },
   {
    "duration": 7,
    "start_time": "2021-10-03T09:29:24.784Z"
   },
   {
    "duration": 7,
    "start_time": "2021-10-03T09:29:24.794Z"
   },
   {
    "duration": 469,
    "start_time": "2021-10-03T09:29:24.804Z"
   },
   {
    "duration": 521,
    "start_time": "2021-10-03T09:29:25.276Z"
   },
   {
    "duration": 29,
    "start_time": "2021-10-03T09:29:25.799Z"
   },
   {
    "duration": 64,
    "start_time": "2021-10-03T09:29:25.830Z"
   },
   {
    "duration": 79806,
    "start_time": "2021-10-03T09:31:05.504Z"
   },
   {
    "duration": 1195,
    "start_time": "2021-10-03T09:32:45.006Z"
   },
   {
    "duration": 1239,
    "start_time": "2021-10-03T09:32:56.034Z"
   },
   {
    "duration": 1200,
    "start_time": "2021-10-03T09:33:00.942Z"
   },
   {
    "duration": 1168,
    "start_time": "2021-10-03T09:33:05.580Z"
   },
   {
    "duration": 112,
    "start_time": "2021-10-03T09:33:58.118Z"
   },
   {
    "duration": 79,
    "start_time": "2021-10-03T09:34:05.167Z"
   },
   {
    "duration": 1572,
    "start_time": "2021-10-03T09:34:36.249Z"
   },
   {
    "duration": 34,
    "start_time": "2021-10-03T09:34:37.824Z"
   },
   {
    "duration": 16,
    "start_time": "2021-10-03T09:34:37.861Z"
   },
   {
    "duration": 7,
    "start_time": "2021-10-03T09:34:37.880Z"
   },
   {
    "duration": 12,
    "start_time": "2021-10-03T09:34:37.890Z"
   },
   {
    "duration": 24,
    "start_time": "2021-10-03T09:34:37.905Z"
   },
   {
    "duration": 271,
    "start_time": "2021-10-03T09:34:37.968Z"
   },
   {
    "duration": 26,
    "start_time": "2021-10-03T09:34:38.243Z"
   },
   {
    "duration": 34,
    "start_time": "2021-10-03T09:34:38.272Z"
   },
   {
    "duration": 3,
    "start_time": "2021-10-03T09:34:38.309Z"
   },
   {
    "duration": 14,
    "start_time": "2021-10-03T09:34:38.314Z"
   },
   {
    "duration": 41,
    "start_time": "2021-10-03T09:34:38.330Z"
   },
   {
    "duration": 16,
    "start_time": "2021-10-03T09:34:38.373Z"
   },
   {
    "duration": 17,
    "start_time": "2021-10-03T09:34:38.392Z"
   },
   {
    "duration": 14,
    "start_time": "2021-10-03T09:34:38.411Z"
   },
   {
    "duration": 43,
    "start_time": "2021-10-03T09:34:38.427Z"
   },
   {
    "duration": 5,
    "start_time": "2021-10-03T09:34:38.473Z"
   },
   {
    "duration": 7,
    "start_time": "2021-10-03T09:34:38.480Z"
   },
   {
    "duration": 7,
    "start_time": "2021-10-03T09:34:38.489Z"
   },
   {
    "duration": 5,
    "start_time": "2021-10-03T09:34:38.499Z"
   },
   {
    "duration": 11,
    "start_time": "2021-10-03T09:34:38.507Z"
   },
   {
    "duration": 47,
    "start_time": "2021-10-03T09:34:38.520Z"
   },
   {
    "duration": 31,
    "start_time": "2021-10-03T09:34:38.572Z"
   },
   {
    "duration": 9,
    "start_time": "2021-10-03T09:34:38.606Z"
   },
   {
    "duration": 99,
    "start_time": "2021-10-03T09:34:38.668Z"
   },
   {
    "duration": 10,
    "start_time": "2021-10-03T09:34:38.770Z"
   },
   {
    "duration": 12,
    "start_time": "2021-10-03T09:34:38.783Z"
   },
   {
    "duration": 10,
    "start_time": "2021-10-03T09:34:38.798Z"
   },
   {
    "duration": 462,
    "start_time": "2021-10-03T09:34:38.811Z"
   },
   {
    "duration": 477,
    "start_time": "2021-10-03T09:34:39.276Z"
   },
   {
    "duration": 36,
    "start_time": "2021-10-03T09:34:39.755Z"
   },
   {
    "duration": 42,
    "start_time": "2021-10-03T09:34:39.793Z"
   },
   {
    "duration": 1211,
    "start_time": "2021-10-03T09:34:39.837Z"
   },
   {
    "duration": 122,
    "start_time": "2021-10-03T09:34:41.050Z"
   },
   {
    "duration": 77,
    "start_time": "2021-10-03T09:34:41.174Z"
   },
   {
    "duration": 4,
    "start_time": "2021-10-03T09:37:36.441Z"
   },
   {
    "duration": 35,
    "start_time": "2021-10-03T09:38:34.434Z"
   },
   {
    "duration": 378,
    "start_time": "2021-10-03T09:38:41.289Z"
   },
   {
    "duration": 2488,
    "start_time": "2021-10-03T09:39:57.868Z"
   },
   {
    "duration": 38,
    "start_time": "2021-10-03T09:40:00.359Z"
   },
   {
    "duration": 34,
    "start_time": "2021-10-03T09:40:00.401Z"
   },
   {
    "duration": 6,
    "start_time": "2021-10-03T09:40:00.440Z"
   },
   {
    "duration": 28,
    "start_time": "2021-10-03T09:40:00.449Z"
   },
   {
    "duration": 54,
    "start_time": "2021-10-03T09:40:00.481Z"
   },
   {
    "duration": 267,
    "start_time": "2021-10-03T09:40:00.539Z"
   },
   {
    "duration": 18,
    "start_time": "2021-10-03T09:40:00.810Z"
   },
   {
    "duration": 53,
    "start_time": "2021-10-03T09:40:00.831Z"
   },
   {
    "duration": 4,
    "start_time": "2021-10-03T09:40:00.886Z"
   },
   {
    "duration": 32,
    "start_time": "2021-10-03T09:40:00.892Z"
   },
   {
    "duration": 35,
    "start_time": "2021-10-03T09:40:00.927Z"
   },
   {
    "duration": 21,
    "start_time": "2021-10-03T09:40:00.965Z"
   },
   {
    "duration": 20,
    "start_time": "2021-10-03T09:40:00.989Z"
   },
   {
    "duration": 24,
    "start_time": "2021-10-03T09:40:01.011Z"
   },
   {
    "duration": 26,
    "start_time": "2021-10-03T09:40:01.037Z"
   },
   {
    "duration": 12,
    "start_time": "2021-10-03T09:40:01.065Z"
   },
   {
    "duration": 17,
    "start_time": "2021-10-03T09:40:01.079Z"
   },
   {
    "duration": 24,
    "start_time": "2021-10-03T09:40:01.098Z"
   },
   {
    "duration": 14,
    "start_time": "2021-10-03T09:40:01.124Z"
   },
   {
    "duration": 28,
    "start_time": "2021-10-03T09:40:01.141Z"
   },
   {
    "duration": 42,
    "start_time": "2021-10-03T09:40:01.171Z"
   },
   {
    "duration": 64,
    "start_time": "2021-10-03T09:40:01.217Z"
   },
   {
    "duration": 35,
    "start_time": "2021-10-03T09:40:01.284Z"
   },
   {
    "duration": 130,
    "start_time": "2021-10-03T09:40:01.369Z"
   },
   {
    "duration": 29,
    "start_time": "2021-10-03T09:40:01.501Z"
   },
   {
    "duration": 31,
    "start_time": "2021-10-03T09:40:01.532Z"
   },
   {
    "duration": 36,
    "start_time": "2021-10-03T09:40:01.565Z"
   },
   {
    "duration": 367,
    "start_time": "2021-10-03T09:40:01.603Z"
   },
   {
    "duration": 498,
    "start_time": "2021-10-03T09:40:01.973Z"
   },
   {
    "duration": 29,
    "start_time": "2021-10-03T09:40:02.473Z"
   },
   {
    "duration": 63,
    "start_time": "2021-10-03T09:40:02.504Z"
   },
   {
    "duration": 1204,
    "start_time": "2021-10-03T09:40:02.570Z"
   },
   {
    "duration": 129,
    "start_time": "2021-10-03T09:40:03.776Z"
   },
   {
    "duration": 81,
    "start_time": "2021-10-03T09:40:03.907Z"
   },
   {
    "duration": 77,
    "start_time": "2021-10-03T09:40:03.991Z"
   },
   {
    "duration": 600,
    "start_time": "2021-10-03T09:40:04.071Z"
   },
   {
    "duration": 1579,
    "start_time": "2021-10-03T09:41:40.245Z"
   },
   {
    "duration": 34,
    "start_time": "2021-10-03T09:41:41.827Z"
   },
   {
    "duration": 13,
    "start_time": "2021-10-03T09:41:41.864Z"
   },
   {
    "duration": 11,
    "start_time": "2021-10-03T09:41:41.880Z"
   },
   {
    "duration": 25,
    "start_time": "2021-10-03T09:41:41.893Z"
   },
   {
    "duration": 22,
    "start_time": "2021-10-03T09:41:41.921Z"
   },
   {
    "duration": 291,
    "start_time": "2021-10-03T09:41:41.945Z"
   },
   {
    "duration": 27,
    "start_time": "2021-10-03T09:41:42.240Z"
   },
   {
    "duration": 37,
    "start_time": "2021-10-03T09:41:42.270Z"
   },
   {
    "duration": 3,
    "start_time": "2021-10-03T09:41:42.309Z"
   },
   {
    "duration": 24,
    "start_time": "2021-10-03T09:41:42.314Z"
   },
   {
    "duration": 18,
    "start_time": "2021-10-03T09:41:42.341Z"
   },
   {
    "duration": 18,
    "start_time": "2021-10-03T09:41:42.368Z"
   },
   {
    "duration": 17,
    "start_time": "2021-10-03T09:41:42.388Z"
   },
   {
    "duration": 20,
    "start_time": "2021-10-03T09:41:42.408Z"
   },
   {
    "duration": 46,
    "start_time": "2021-10-03T09:41:42.430Z"
   },
   {
    "duration": 20,
    "start_time": "2021-10-03T09:41:42.479Z"
   },
   {
    "duration": 27,
    "start_time": "2021-10-03T09:41:42.501Z"
   },
   {
    "duration": 33,
    "start_time": "2021-10-03T09:41:42.531Z"
   },
   {
    "duration": 29,
    "start_time": "2021-10-03T09:41:42.567Z"
   },
   {
    "duration": 28,
    "start_time": "2021-10-03T09:41:42.599Z"
   },
   {
    "duration": 28,
    "start_time": "2021-10-03T09:41:42.629Z"
   },
   {
    "duration": 56,
    "start_time": "2021-10-03T09:41:42.664Z"
   },
   {
    "duration": 10,
    "start_time": "2021-10-03T09:41:42.724Z"
   },
   {
    "duration": 152,
    "start_time": "2021-10-03T09:41:42.736Z"
   },
   {
    "duration": 16,
    "start_time": "2021-10-03T09:41:42.890Z"
   },
   {
    "duration": 14,
    "start_time": "2021-10-03T09:41:42.908Z"
   },
   {
    "duration": 23,
    "start_time": "2021-10-03T09:41:42.925Z"
   },
   {
    "duration": 219,
    "start_time": "2021-10-03T09:41:42.950Z"
   },
   {
    "duration": 515,
    "start_time": "2021-10-03T09:41:43.171Z"
   },
   {
    "duration": 27,
    "start_time": "2021-10-03T09:41:43.689Z"
   },
   {
    "duration": 61,
    "start_time": "2021-10-03T09:41:43.718Z"
   },
   {
    "duration": 1179,
    "start_time": "2021-10-03T09:41:43.782Z"
   },
   {
    "duration": 120,
    "start_time": "2021-10-03T09:41:44.968Z"
   },
   {
    "duration": 84,
    "start_time": "2021-10-03T09:41:45.091Z"
   },
   {
    "duration": 98,
    "start_time": "2021-10-03T09:41:45.178Z"
   },
   {
    "duration": 600,
    "start_time": "2021-10-03T09:41:45.369Z"
   },
   {
    "duration": 447,
    "start_time": "2021-10-03T09:43:51.543Z"
   },
   {
    "duration": 42,
    "start_time": "2021-10-03T09:44:36.309Z"
   },
   {
    "duration": 64,
    "start_time": "2021-10-03T09:44:53.679Z"
   },
   {
    "duration": 1213,
    "start_time": "2021-10-03T09:47:02.833Z"
   },
   {
    "duration": 95,
    "start_time": "2021-10-03T09:47:57.892Z"
   },
   {
    "duration": 72,
    "start_time": "2021-10-03T09:48:17.365Z"
   },
   {
    "duration": 11,
    "start_time": "2021-10-03T10:00:00.773Z"
   },
   {
    "duration": 16,
    "start_time": "2021-10-03T10:01:33.528Z"
   },
   {
    "duration": 9,
    "start_time": "2021-10-03T10:01:51.725Z"
   },
   {
    "duration": 5,
    "start_time": "2021-10-03T10:02:55.533Z"
   },
   {
    "duration": 523,
    "start_time": "2021-10-03T10:03:23.850Z"
   },
   {
    "duration": 18,
    "start_time": "2021-10-03T10:04:16.494Z"
   },
   {
    "duration": 327,
    "start_time": "2021-10-03T10:04:44.833Z"
   },
   {
    "duration": 6,
    "start_time": "2021-10-03T10:05:06.133Z"
   },
   {
    "duration": 324,
    "start_time": "2021-10-03T10:06:25.830Z"
   },
   {
    "duration": 291,
    "start_time": "2021-10-03T10:06:36.212Z"
   },
   {
    "duration": 7,
    "start_time": "2021-10-03T10:07:11.553Z"
   },
   {
    "duration": 7,
    "start_time": "2021-10-03T10:07:18.803Z"
   },
   {
    "duration": 6,
    "start_time": "2021-10-03T10:07:25.108Z"
   },
   {
    "duration": 379,
    "start_time": "2021-10-03T10:09:08.423Z"
   },
   {
    "duration": 175,
    "start_time": "2021-10-03T10:09:30.593Z"
   },
   {
    "duration": 227,
    "start_time": "2021-10-03T10:09:55.740Z"
   },
   {
    "duration": 589,
    "start_time": "2021-10-03T10:22:51.650Z"
   },
   {
    "duration": 33,
    "start_time": "2021-10-03T10:23:53.255Z"
   },
   {
    "duration": 50,
    "start_time": "2021-10-03T10:24:09.000Z"
   },
   {
    "duration": 1660,
    "start_time": "2021-10-03T10:25:15.797Z"
   },
   {
    "duration": 118,
    "start_time": "2021-10-03T10:26:23.538Z"
   },
   {
    "duration": 74,
    "start_time": "2021-10-03T10:26:34.867Z"
   },
   {
    "duration": 6,
    "start_time": "2021-10-03T10:29:40.020Z"
   },
   {
    "duration": 16,
    "start_time": "2021-10-03T10:31:51.465Z"
   },
   {
    "duration": 422,
    "start_time": "2021-10-03T10:33:04.653Z"
   },
   {
    "duration": 17,
    "start_time": "2021-10-03T10:33:25.098Z"
   },
   {
    "duration": 103,
    "start_time": "2021-10-03T10:33:27.367Z"
   },
   {
    "duration": 459,
    "start_time": "2021-10-03T10:34:31.423Z"
   },
   {
    "duration": 225,
    "start_time": "2021-10-03T10:36:37.821Z"
   },
   {
    "duration": 18,
    "start_time": "2021-10-03T10:37:16.819Z"
   },
   {
    "duration": 49,
    "start_time": "2021-10-03T10:37:35.023Z"
   },
   {
    "duration": 781,
    "start_time": "2021-10-03T10:38:32.338Z"
   },
   {
    "duration": 56,
    "start_time": "2021-10-03T10:39:32.339Z"
   },
   {
    "duration": 78,
    "start_time": "2021-10-03T10:39:41.808Z"
   },
   {
    "duration": 1704,
    "start_time": "2021-10-03T10:40:01.031Z"
   },
   {
    "duration": 36,
    "start_time": "2021-10-03T10:40:02.738Z"
   },
   {
    "duration": 14,
    "start_time": "2021-10-03T10:40:02.780Z"
   },
   {
    "duration": 9,
    "start_time": "2021-10-03T10:40:02.797Z"
   },
   {
    "duration": 12,
    "start_time": "2021-10-03T10:40:02.809Z"
   },
   {
    "duration": 55,
    "start_time": "2021-10-03T10:40:02.823Z"
   },
   {
    "duration": 286,
    "start_time": "2021-10-03T10:40:02.881Z"
   },
   {
    "duration": 21,
    "start_time": "2021-10-03T10:40:03.169Z"
   },
   {
    "duration": 36,
    "start_time": "2021-10-03T10:40:03.194Z"
   },
   {
    "duration": 3,
    "start_time": "2021-10-03T10:40:03.233Z"
   },
   {
    "duration": 5,
    "start_time": "2021-10-03T10:40:03.269Z"
   },
   {
    "duration": 19,
    "start_time": "2021-10-03T10:40:03.278Z"
   },
   {
    "duration": 16,
    "start_time": "2021-10-03T10:40:03.299Z"
   },
   {
    "duration": 52,
    "start_time": "2021-10-03T10:40:03.318Z"
   },
   {
    "duration": 17,
    "start_time": "2021-10-03T10:40:03.372Z"
   },
   {
    "duration": 12,
    "start_time": "2021-10-03T10:40:03.391Z"
   },
   {
    "duration": 6,
    "start_time": "2021-10-03T10:40:03.406Z"
   },
   {
    "duration": 9,
    "start_time": "2021-10-03T10:40:03.414Z"
   },
   {
    "duration": 9,
    "start_time": "2021-10-03T10:40:03.467Z"
   },
   {
    "duration": 5,
    "start_time": "2021-10-03T10:40:03.482Z"
   },
   {
    "duration": 10,
    "start_time": "2021-10-03T10:40:03.489Z"
   },
   {
    "duration": 10,
    "start_time": "2021-10-03T10:40:03.502Z"
   },
   {
    "duration": 74,
    "start_time": "2021-10-03T10:40:03.516Z"
   },
   {
    "duration": 78,
    "start_time": "2021-10-03T10:40:03.593Z"
   },
   {
    "duration": 93,
    "start_time": "2021-10-03T10:40:03.679Z"
   },
   {
    "duration": 12,
    "start_time": "2021-10-03T10:40:03.775Z"
   },
   {
    "duration": 9,
    "start_time": "2021-10-03T10:40:03.796Z"
   },
   {
    "duration": 58,
    "start_time": "2021-10-03T10:40:03.810Z"
   },
   {
    "duration": 410,
    "start_time": "2021-10-03T10:40:03.873Z"
   },
   {
    "duration": 537,
    "start_time": "2021-10-03T10:40:04.287Z"
   },
   {
    "duration": 43,
    "start_time": "2021-10-03T10:40:04.826Z"
   },
   {
    "duration": 46,
    "start_time": "2021-10-03T10:40:04.873Z"
   },
   {
    "duration": 1278,
    "start_time": "2021-10-03T10:40:04.921Z"
   },
   {
    "duration": 135,
    "start_time": "2021-10-03T10:40:06.202Z"
   },
   {
    "duration": 88,
    "start_time": "2021-10-03T10:40:06.339Z"
   },
   {
    "duration": 59,
    "start_time": "2021-10-03T10:40:06.430Z"
   },
   {
    "duration": 578,
    "start_time": "2021-10-03T10:40:06.492Z"
   },
   {
    "duration": 481,
    "start_time": "2021-10-03T10:40:07.073Z"
   },
   {
    "duration": 39,
    "start_time": "2021-10-03T10:40:07.557Z"
   },
   {
    "duration": 44,
    "start_time": "2021-10-03T10:40:07.599Z"
   },
   {
    "duration": 1314,
    "start_time": "2021-10-03T10:40:07.666Z"
   },
   {
    "duration": 114,
    "start_time": "2021-10-03T10:40:08.983Z"
   },
   {
    "duration": 89,
    "start_time": "2021-10-03T10:40:09.100Z"
   },
   {
    "duration": 9,
    "start_time": "2021-10-03T10:40:09.191Z"
   },
   {
    "duration": 16,
    "start_time": "2021-10-03T10:40:09.202Z"
   },
   {
    "duration": 26,
    "start_time": "2021-10-03T10:40:09.220Z"
   },
   {
    "duration": 124,
    "start_time": "2021-10-03T10:40:09.249Z"
   },
   {
    "duration": 501,
    "start_time": "2021-10-03T10:40:09.378Z"
   },
   {
    "duration": 691,
    "start_time": "2021-10-03T10:40:09.882Z"
   },
   {
    "duration": 36,
    "start_time": "2021-10-03T10:40:10.576Z"
   },
   {
    "duration": 70,
    "start_time": "2021-10-03T10:40:10.615Z"
   },
   {
    "duration": 1814,
    "start_time": "2021-10-03T10:40:10.688Z"
   },
   {
    "duration": 135,
    "start_time": "2021-10-03T10:40:12.505Z"
   },
   {
    "duration": 85,
    "start_time": "2021-10-03T10:40:12.643Z"
   },
   {
    "duration": 6,
    "start_time": "2021-10-03T10:40:12.731Z"
   },
   {
    "duration": 34,
    "start_time": "2021-10-03T10:40:12.739Z"
   },
   {
    "duration": 91,
    "start_time": "2021-10-03T10:40:12.776Z"
   },
   {
    "duration": 300,
    "start_time": "2021-10-03T10:40:12.870Z"
   },
   {
    "duration": 334,
    "start_time": "2021-10-03T10:40:13.173Z"
   },
   {
    "duration": 17,
    "start_time": "2021-10-03T10:40:13.509Z"
   },
   {
    "duration": 72,
    "start_time": "2021-10-03T10:40:13.528Z"
   },
   {
    "duration": 899,
    "start_time": "2021-10-03T10:40:13.603Z"
   },
   {
    "duration": 64,
    "start_time": "2021-10-03T10:40:14.504Z"
   },
   {
    "duration": 73,
    "start_time": "2021-10-03T10:40:14.572Z"
   },
   {
    "duration": 99,
    "start_time": "2021-10-03T10:41:51.822Z"
   },
   {
    "duration": 5,
    "start_time": "2021-10-03T10:43:12.916Z"
   },
   {
    "duration": 85,
    "start_time": "2021-10-03T10:43:57.556Z"
   },
   {
    "duration": 74,
    "start_time": "2021-10-03T10:44:11.922Z"
   },
   {
    "duration": 125,
    "start_time": "2021-10-03T10:45:39.206Z"
   },
   {
    "duration": 69,
    "start_time": "2021-10-03T10:46:52.475Z"
   },
   {
    "duration": 1254,
    "start_time": "2021-10-03T10:49:04.706Z"
   },
   {
    "duration": 1289,
    "start_time": "2021-10-03T10:49:38.941Z"
   },
   {
    "duration": 100,
    "start_time": "2021-10-03T10:51:24.395Z"
   },
   {
    "duration": 75,
    "start_time": "2021-10-03T10:51:25.275Z"
   },
   {
    "duration": 1692,
    "start_time": "2021-10-03T10:55:33.555Z"
   },
   {
    "duration": 40,
    "start_time": "2021-10-03T10:55:35.250Z"
   },
   {
    "duration": 15,
    "start_time": "2021-10-03T10:55:35.293Z"
   },
   {
    "duration": 16,
    "start_time": "2021-10-03T10:55:35.311Z"
   },
   {
    "duration": 37,
    "start_time": "2021-10-03T10:55:35.330Z"
   },
   {
    "duration": 32,
    "start_time": "2021-10-03T10:55:35.370Z"
   },
   {
    "duration": 293,
    "start_time": "2021-10-03T10:55:35.405Z"
   },
   {
    "duration": 20,
    "start_time": "2021-10-03T10:55:35.700Z"
   },
   {
    "duration": 56,
    "start_time": "2021-10-03T10:55:35.725Z"
   },
   {
    "duration": 3,
    "start_time": "2021-10-03T10:55:35.785Z"
   },
   {
    "duration": 16,
    "start_time": "2021-10-03T10:55:35.791Z"
   },
   {
    "duration": 27,
    "start_time": "2021-10-03T10:55:35.810Z"
   },
   {
    "duration": 28,
    "start_time": "2021-10-03T10:55:35.840Z"
   },
   {
    "duration": 38,
    "start_time": "2021-10-03T10:55:35.871Z"
   },
   {
    "duration": 14,
    "start_time": "2021-10-03T10:55:35.911Z"
   },
   {
    "duration": 14,
    "start_time": "2021-10-03T10:55:35.928Z"
   },
   {
    "duration": 6,
    "start_time": "2021-10-03T10:55:35.945Z"
   },
   {
    "duration": 21,
    "start_time": "2021-10-03T10:55:35.953Z"
   },
   {
    "duration": 19,
    "start_time": "2021-10-03T10:55:35.978Z"
   },
   {
    "duration": 14,
    "start_time": "2021-10-03T10:55:35.999Z"
   },
   {
    "duration": 33,
    "start_time": "2021-10-03T10:55:36.016Z"
   },
   {
    "duration": 12,
    "start_time": "2021-10-03T10:55:36.052Z"
   },
   {
    "duration": 44,
    "start_time": "2021-10-03T10:55:36.067Z"
   },
   {
    "duration": 56,
    "start_time": "2021-10-03T10:55:36.113Z"
   },
   {
    "duration": 111,
    "start_time": "2021-10-03T10:55:36.172Z"
   },
   {
    "duration": 20,
    "start_time": "2021-10-03T10:55:36.285Z"
   },
   {
    "duration": 8,
    "start_time": "2021-10-03T10:55:36.312Z"
   },
   {
    "duration": 48,
    "start_time": "2021-10-03T10:55:36.323Z"
   },
   {
    "duration": 400,
    "start_time": "2021-10-03T10:55:36.373Z"
   },
   {
    "duration": 480,
    "start_time": "2021-10-03T10:55:36.778Z"
   },
   {
    "duration": 39,
    "start_time": "2021-10-03T10:55:37.260Z"
   },
   {
    "duration": 66,
    "start_time": "2021-10-03T10:55:37.301Z"
   },
   {
    "duration": 1273,
    "start_time": "2021-10-03T10:55:37.371Z"
   },
   {
    "duration": 148,
    "start_time": "2021-10-03T10:55:38.647Z"
   },
   {
    "duration": 87,
    "start_time": "2021-10-03T10:55:38.799Z"
   },
   {
    "duration": 80,
    "start_time": "2021-10-03T10:55:38.888Z"
   },
   {
    "duration": 498,
    "start_time": "2021-10-03T10:55:38.972Z"
   },
   {
    "duration": 562,
    "start_time": "2021-10-03T10:55:39.475Z"
   },
   {
    "duration": 53,
    "start_time": "2021-10-03T10:55:40.040Z"
   },
   {
    "duration": 44,
    "start_time": "2021-10-03T10:55:40.095Z"
   },
   {
    "duration": 1269,
    "start_time": "2021-10-03T10:55:40.142Z"
   },
   {
    "duration": 112,
    "start_time": "2021-10-03T10:55:41.414Z"
   },
   {
    "duration": 88,
    "start_time": "2021-10-03T10:55:41.528Z"
   },
   {
    "duration": 10,
    "start_time": "2021-10-03T10:55:41.619Z"
   },
   {
    "duration": 38,
    "start_time": "2021-10-03T10:55:41.631Z"
   },
   {
    "duration": 20,
    "start_time": "2021-10-03T10:55:41.672Z"
   },
   {
    "duration": 75,
    "start_time": "2021-10-03T10:55:41.695Z"
   },
   {
    "duration": 408,
    "start_time": "2021-10-03T10:55:41.773Z"
   },
   {
    "duration": 689,
    "start_time": "2021-10-03T10:55:42.185Z"
   },
   {
    "duration": 36,
    "start_time": "2021-10-03T10:55:42.878Z"
   },
   {
    "duration": 70,
    "start_time": "2021-10-03T10:55:42.916Z"
   },
   {
    "duration": 1726,
    "start_time": "2021-10-03T10:55:42.989Z"
   },
   {
    "duration": 122,
    "start_time": "2021-10-03T10:55:44.717Z"
   },
   {
    "duration": 84,
    "start_time": "2021-10-03T10:55:44.842Z"
   },
   {
    "duration": 6,
    "start_time": "2021-10-03T10:55:44.928Z"
   },
   {
    "duration": 31,
    "start_time": "2021-10-03T10:55:44.936Z"
   },
   {
    "duration": 100,
    "start_time": "2021-10-03T10:55:44.969Z"
   },
   {
    "duration": 310,
    "start_time": "2021-10-03T10:55:45.072Z"
   },
   {
    "duration": 326,
    "start_time": "2021-10-03T10:55:45.385Z"
   },
   {
    "duration": 18,
    "start_time": "2021-10-03T10:55:45.713Z"
   },
   {
    "duration": 68,
    "start_time": "2021-10-03T10:55:45.733Z"
   },
   {
    "duration": 783,
    "start_time": "2021-10-03T10:55:45.804Z"
   },
   {
    "duration": 51,
    "start_time": "2021-10-03T10:55:46.589Z"
   },
   {
    "duration": 91,
    "start_time": "2021-10-03T10:55:46.643Z"
   },
   {
    "duration": 108,
    "start_time": "2021-10-03T10:55:46.736Z"
   },
   {
    "duration": 89,
    "start_time": "2021-10-03T10:55:46.847Z"
   },
   {
    "duration": 1667,
    "start_time": "2021-10-03T11:01:53.000Z"
   },
   {
    "duration": 37,
    "start_time": "2021-10-03T11:01:54.671Z"
   },
   {
    "duration": 14,
    "start_time": "2021-10-03T11:01:54.711Z"
   },
   {
    "duration": 6,
    "start_time": "2021-10-03T11:01:54.729Z"
   },
   {
    "duration": 36,
    "start_time": "2021-10-03T11:01:54.737Z"
   },
   {
    "duration": 28,
    "start_time": "2021-10-03T11:01:54.777Z"
   },
   {
    "duration": 286,
    "start_time": "2021-10-03T11:01:54.807Z"
   },
   {
    "duration": 19,
    "start_time": "2021-10-03T11:01:55.097Z"
   },
   {
    "duration": 60,
    "start_time": "2021-10-03T11:01:55.119Z"
   },
   {
    "duration": 3,
    "start_time": "2021-10-03T11:01:55.183Z"
   },
   {
    "duration": 13,
    "start_time": "2021-10-03T11:01:55.189Z"
   },
   {
    "duration": 16,
    "start_time": "2021-10-03T11:01:55.204Z"
   },
   {
    "duration": 15,
    "start_time": "2021-10-03T11:01:55.222Z"
   },
   {
    "duration": 43,
    "start_time": "2021-10-03T11:01:55.239Z"
   },
   {
    "duration": 14,
    "start_time": "2021-10-03T11:01:55.285Z"
   },
   {
    "duration": 11,
    "start_time": "2021-10-03T11:01:55.302Z"
   },
   {
    "duration": 6,
    "start_time": "2021-10-03T11:01:55.315Z"
   },
   {
    "duration": 7,
    "start_time": "2021-10-03T11:01:55.323Z"
   },
   {
    "duration": 6,
    "start_time": "2021-10-03T11:01:55.368Z"
   },
   {
    "duration": 15,
    "start_time": "2021-10-03T11:01:55.376Z"
   },
   {
    "duration": 18,
    "start_time": "2021-10-03T11:01:55.393Z"
   },
   {
    "duration": 7,
    "start_time": "2021-10-03T11:01:55.414Z"
   },
   {
    "duration": 60,
    "start_time": "2021-10-03T11:01:55.427Z"
   },
   {
    "duration": 11,
    "start_time": "2021-10-03T11:01:55.491Z"
   },
   {
    "duration": 14,
    "start_time": "2021-10-03T11:01:55.570Z"
   },
   {
    "duration": 96,
    "start_time": "2021-10-03T11:01:55.587Z"
   },
   {
    "duration": 10,
    "start_time": "2021-10-03T11:01:55.685Z"
   },
   {
    "duration": 10,
    "start_time": "2021-10-03T11:01:55.698Z"
   },
   {
    "duration": 261,
    "start_time": "2021-10-03T11:01:55.710Z"
   },
   {
    "duration": 538,
    "start_time": "2021-10-03T11:01:55.974Z"
   },
   {
    "duration": 34,
    "start_time": "2021-10-03T11:01:56.515Z"
   },
   {
    "duration": 65,
    "start_time": "2021-10-03T11:01:56.552Z"
   },
   {
    "duration": 1270,
    "start_time": "2021-10-03T11:01:56.619Z"
   },
   {
    "duration": 138,
    "start_time": "2021-10-03T11:01:57.891Z"
   },
   {
    "duration": 100,
    "start_time": "2021-10-03T11:01:58.032Z"
   },
   {
    "duration": 48,
    "start_time": "2021-10-03T11:01:58.134Z"
   },
   {
    "duration": 587,
    "start_time": "2021-10-03T11:01:58.190Z"
   },
   {
    "duration": 487,
    "start_time": "2021-10-03T11:01:58.780Z"
   },
   {
    "duration": 31,
    "start_time": "2021-10-03T11:01:59.270Z"
   },
   {
    "duration": 70,
    "start_time": "2021-10-03T11:01:59.303Z"
   },
   {
    "duration": 1281,
    "start_time": "2021-10-03T11:01:59.376Z"
   },
   {
    "duration": 110,
    "start_time": "2021-10-03T11:02:00.659Z"
   },
   {
    "duration": 75,
    "start_time": "2021-10-03T11:02:00.773Z"
   },
   {
    "duration": 18,
    "start_time": "2021-10-03T11:02:00.850Z"
   },
   {
    "duration": 39,
    "start_time": "2021-10-03T11:02:00.871Z"
   },
   {
    "duration": 75,
    "start_time": "2021-10-03T11:02:00.913Z"
   },
   {
    "duration": 296,
    "start_time": "2021-10-03T11:02:00.992Z"
   },
   {
    "duration": 629,
    "start_time": "2021-10-03T11:02:01.372Z"
   },
   {
    "duration": 38,
    "start_time": "2021-10-03T11:02:02.003Z"
   },
   {
    "duration": 74,
    "start_time": "2021-10-03T11:02:02.043Z"
   },
   {
    "duration": 1945,
    "start_time": "2021-10-03T11:02:02.120Z"
   },
   {
    "duration": 155,
    "start_time": "2021-10-03T11:02:04.068Z"
   },
   {
    "duration": 97,
    "start_time": "2021-10-03T11:02:04.226Z"
   },
   {
    "duration": 8,
    "start_time": "2021-10-03T11:02:04.326Z"
   },
   {
    "duration": 45,
    "start_time": "2021-10-03T11:02:04.337Z"
   },
   {
    "duration": 84,
    "start_time": "2021-10-03T11:02:04.385Z"
   },
   {
    "duration": 497,
    "start_time": "2021-10-03T11:02:04.474Z"
   },
   {
    "duration": 255,
    "start_time": "2021-10-03T11:02:04.976Z"
   },
   {
    "duration": 17,
    "start_time": "2021-10-03T11:02:05.233Z"
   },
   {
    "duration": 66,
    "start_time": "2021-10-03T11:02:05.253Z"
   },
   {
    "duration": 782,
    "start_time": "2021-10-03T11:02:05.321Z"
   },
   {
    "duration": 62,
    "start_time": "2021-10-03T11:02:06.105Z"
   },
   {
    "duration": 73,
    "start_time": "2021-10-03T11:02:06.169Z"
   },
   {
    "duration": 110,
    "start_time": "2021-10-03T11:02:06.245Z"
   },
   {
    "duration": 76,
    "start_time": "2021-10-03T11:02:06.366Z"
   },
   {
    "duration": 1592,
    "start_time": "2021-10-03T11:32:19.700Z"
   },
   {
    "duration": 35,
    "start_time": "2021-10-03T11:32:21.294Z"
   },
   {
    "duration": 14,
    "start_time": "2021-10-03T11:32:21.332Z"
   },
   {
    "duration": 23,
    "start_time": "2021-10-03T11:32:21.349Z"
   },
   {
    "duration": 15,
    "start_time": "2021-10-03T11:32:21.374Z"
   },
   {
    "duration": 25,
    "start_time": "2021-10-03T11:32:21.392Z"
   },
   {
    "duration": 297,
    "start_time": "2021-10-03T11:32:21.420Z"
   },
   {
    "duration": 21,
    "start_time": "2021-10-03T11:32:21.723Z"
   },
   {
    "duration": 52,
    "start_time": "2021-10-03T11:32:21.747Z"
   },
   {
    "duration": 3,
    "start_time": "2021-10-03T11:32:21.801Z"
   },
   {
    "duration": 8,
    "start_time": "2021-10-03T11:32:21.807Z"
   },
   {
    "duration": 17,
    "start_time": "2021-10-03T11:32:21.817Z"
   },
   {
    "duration": 44,
    "start_time": "2021-10-03T11:32:21.837Z"
   },
   {
    "duration": 17,
    "start_time": "2021-10-03T11:32:21.883Z"
   },
   {
    "duration": 21,
    "start_time": "2021-10-03T11:32:21.902Z"
   },
   {
    "duration": 41,
    "start_time": "2021-10-03T11:32:21.926Z"
   },
   {
    "duration": 5,
    "start_time": "2021-10-03T11:32:21.969Z"
   },
   {
    "duration": 15,
    "start_time": "2021-10-03T11:32:21.976Z"
   },
   {
    "duration": 12,
    "start_time": "2021-10-03T11:32:21.993Z"
   },
   {
    "duration": 12,
    "start_time": "2021-10-03T11:32:22.007Z"
   },
   {
    "duration": 28,
    "start_time": "2021-10-03T11:32:22.021Z"
   },
   {
    "duration": 23,
    "start_time": "2021-10-03T11:32:22.051Z"
   },
   {
    "duration": 33,
    "start_time": "2021-10-03T11:32:22.080Z"
   },
   {
    "duration": 11,
    "start_time": "2021-10-03T11:32:22.116Z"
   },
   {
    "duration": 602,
    "start_time": "2021-10-03T11:32:22.169Z"
   },
   {
    "duration": 435,
    "start_time": "2021-10-03T11:32:22.773Z"
   },
   {
    "duration": 34,
    "start_time": "2021-10-03T11:32:23.210Z"
   },
   {
    "duration": 55,
    "start_time": "2021-10-03T11:32:23.246Z"
   },
   {
    "duration": 1192,
    "start_time": "2021-10-03T11:32:23.304Z"
   },
   {
    "duration": 120,
    "start_time": "2021-10-03T11:32:24.498Z"
   },
   {
    "duration": 87,
    "start_time": "2021-10-03T11:32:24.620Z"
   },
   {
    "duration": 59,
    "start_time": "2021-10-03T11:32:24.709Z"
   },
   {
    "duration": 595,
    "start_time": "2021-10-03T11:32:24.772Z"
   },
   {
    "duration": 469,
    "start_time": "2021-10-03T11:32:25.370Z"
   },
   {
    "duration": 42,
    "start_time": "2021-10-03T11:32:25.842Z"
   },
   {
    "duration": 43,
    "start_time": "2021-10-03T11:32:25.887Z"
   },
   {
    "duration": 1224,
    "start_time": "2021-10-03T11:32:25.933Z"
   },
   {
    "duration": 98,
    "start_time": "2021-10-03T11:32:27.159Z"
   },
   {
    "duration": 76,
    "start_time": "2021-10-03T11:32:27.268Z"
   },
   {
    "duration": 5,
    "start_time": "2021-10-03T11:32:27.346Z"
   },
   {
    "duration": 18,
    "start_time": "2021-10-03T11:32:27.367Z"
   },
   {
    "duration": 89,
    "start_time": "2021-10-03T11:32:27.387Z"
   },
   {
    "duration": 591,
    "start_time": "2021-10-03T11:32:27.479Z"
   },
   {
    "duration": 609,
    "start_time": "2021-10-03T11:32:28.073Z"
   },
   {
    "duration": 39,
    "start_time": "2021-10-03T11:32:28.684Z"
   },
   {
    "duration": 66,
    "start_time": "2021-10-03T11:32:28.725Z"
   },
   {
    "duration": 1627,
    "start_time": "2021-10-03T11:32:28.794Z"
   },
   {
    "duration": 134,
    "start_time": "2021-10-03T11:32:30.423Z"
   },
   {
    "duration": 79,
    "start_time": "2021-10-03T11:32:30.559Z"
   },
   {
    "duration": 5,
    "start_time": "2021-10-03T11:32:30.641Z"
   },
   {
    "duration": 52,
    "start_time": "2021-10-03T11:32:30.649Z"
   },
   {
    "duration": 63,
    "start_time": "2021-10-03T11:32:30.704Z"
   },
   {
    "duration": 602,
    "start_time": "2021-10-03T11:32:30.770Z"
   },
   {
    "duration": 240,
    "start_time": "2021-10-03T11:32:31.374Z"
   },
   {
    "duration": 17,
    "start_time": "2021-10-03T11:32:31.616Z"
   },
   {
    "duration": 68,
    "start_time": "2021-10-03T11:32:31.636Z"
   },
   {
    "duration": 751,
    "start_time": "2021-10-03T11:32:31.706Z"
   },
   {
    "duration": 51,
    "start_time": "2021-10-03T11:32:32.459Z"
   },
   {
    "duration": 85,
    "start_time": "2021-10-03T11:32:32.513Z"
   },
   {
    "duration": 105,
    "start_time": "2021-10-03T11:32:32.600Z"
   },
   {
    "duration": 79,
    "start_time": "2021-10-03T11:32:32.707Z"
   },
   {
    "duration": 5,
    "start_time": "2021-10-03T12:50:29.272Z"
   },
   {
    "duration": 8,
    "start_time": "2021-10-03T12:52:49.492Z"
   },
   {
    "duration": 564,
    "start_time": "2021-10-03T13:03:23.146Z"
   },
   {
    "duration": 5,
    "start_time": "2021-10-03T13:07:47.630Z"
   },
   {
    "duration": 1590,
    "start_time": "2021-10-03T13:27:44.252Z"
   },
   {
    "duration": 34,
    "start_time": "2021-10-03T13:27:45.845Z"
   },
   {
    "duration": 13,
    "start_time": "2021-10-03T13:27:45.882Z"
   },
   {
    "duration": 9,
    "start_time": "2021-10-03T13:27:45.898Z"
   },
   {
    "duration": 11,
    "start_time": "2021-10-03T13:27:45.909Z"
   },
   {
    "duration": 51,
    "start_time": "2021-10-03T13:27:45.923Z"
   },
   {
    "duration": 264,
    "start_time": "2021-10-03T13:27:45.977Z"
   },
   {
    "duration": 30,
    "start_time": "2021-10-03T13:27:46.245Z"
   },
   {
    "duration": 35,
    "start_time": "2021-10-03T13:27:46.278Z"
   },
   {
    "duration": 3,
    "start_time": "2021-10-03T13:27:46.316Z"
   },
   {
    "duration": 12,
    "start_time": "2021-10-03T13:27:46.321Z"
   },
   {
    "duration": 38,
    "start_time": "2021-10-03T13:27:46.335Z"
   },
   {
    "duration": 15,
    "start_time": "2021-10-03T13:27:46.376Z"
   },
   {
    "duration": 17,
    "start_time": "2021-10-03T13:27:46.393Z"
   },
   {
    "duration": 15,
    "start_time": "2021-10-03T13:27:46.412Z"
   },
   {
    "duration": 44,
    "start_time": "2021-10-03T13:27:46.429Z"
   },
   {
    "duration": 5,
    "start_time": "2021-10-03T13:27:46.476Z"
   },
   {
    "duration": 10,
    "start_time": "2021-10-03T13:27:46.484Z"
   },
   {
    "duration": 8,
    "start_time": "2021-10-03T13:27:46.497Z"
   },
   {
    "duration": 5,
    "start_time": "2021-10-03T13:27:46.507Z"
   },
   {
    "duration": 7,
    "start_time": "2021-10-03T13:27:46.515Z"
   },
   {
    "duration": 4,
    "start_time": "2021-10-03T13:27:46.567Z"
   },
   {
    "duration": 29,
    "start_time": "2021-10-03T13:27:46.577Z"
   },
   {
    "duration": 58,
    "start_time": "2021-10-03T13:27:46.609Z"
   },
   {
    "duration": 499,
    "start_time": "2021-10-03T13:27:46.672Z"
   },
   {
    "duration": 520,
    "start_time": "2021-10-03T13:27:47.174Z"
   },
   {
    "duration": 33,
    "start_time": "2021-10-03T13:27:47.696Z"
   },
   {
    "duration": 58,
    "start_time": "2021-10-03T13:27:47.731Z"
   },
   {
    "duration": 1230,
    "start_time": "2021-10-03T13:27:47.791Z"
   },
   {
    "duration": 119,
    "start_time": "2021-10-03T13:27:49.023Z"
   },
   {
    "duration": 98,
    "start_time": "2021-10-03T13:27:49.144Z"
   },
   {
    "duration": 52,
    "start_time": "2021-10-03T13:27:49.245Z"
   },
   {
    "duration": 508,
    "start_time": "2021-10-03T13:27:49.367Z"
   },
   {
    "duration": 499,
    "start_time": "2021-10-03T13:27:49.968Z"
   },
   {
    "duration": 29,
    "start_time": "2021-10-03T13:27:50.470Z"
   },
   {
    "duration": 41,
    "start_time": "2021-10-03T13:27:50.502Z"
   },
   {
    "duration": 1326,
    "start_time": "2021-10-03T13:27:50.545Z"
   },
   {
    "duration": 130,
    "start_time": "2021-10-03T13:27:51.873Z"
   },
   {
    "duration": 102,
    "start_time": "2021-10-03T13:27:52.006Z"
   },
   {
    "duration": 6,
    "start_time": "2021-10-03T13:27:52.110Z"
   },
   {
    "duration": 11,
    "start_time": "2021-10-03T13:27:52.119Z"
   },
   {
    "duration": 44,
    "start_time": "2021-10-03T13:27:52.133Z"
   },
   {
    "duration": 6,
    "start_time": "2021-10-03T13:27:52.179Z"
   },
   {
    "duration": 88,
    "start_time": "2021-10-03T13:27:52.187Z"
   },
   {
    "duration": 591,
    "start_time": "2021-10-03T13:27:52.278Z"
   },
   {
    "duration": 610,
    "start_time": "2021-10-03T13:27:52.872Z"
   },
   {
    "duration": 37,
    "start_time": "2021-10-03T13:27:53.484Z"
   },
   {
    "duration": 59,
    "start_time": "2021-10-03T13:27:53.523Z"
   },
   {
    "duration": 1626,
    "start_time": "2021-10-03T13:27:53.585Z"
   },
   {
    "duration": 134,
    "start_time": "2021-10-03T13:27:55.214Z"
   },
   {
    "duration": 82,
    "start_time": "2021-10-03T13:27:55.351Z"
   },
   {
    "duration": 6,
    "start_time": "2021-10-03T13:27:55.435Z"
   },
   {
    "duration": 30,
    "start_time": "2021-10-03T13:27:55.444Z"
   },
   {
    "duration": 8,
    "start_time": "2021-10-03T13:27:55.476Z"
   },
   {
    "duration": 80,
    "start_time": "2021-10-03T13:27:55.488Z"
   },
   {
    "duration": 504,
    "start_time": "2021-10-03T13:27:55.571Z"
   },
   {
    "duration": 308,
    "start_time": "2021-10-03T13:27:56.077Z"
   },
   {
    "duration": 18,
    "start_time": "2021-10-03T13:27:56.387Z"
   },
   {
    "duration": 61,
    "start_time": "2021-10-03T13:27:56.407Z"
   },
   {
    "duration": 735,
    "start_time": "2021-10-03T13:27:56.470Z"
   },
   {
    "duration": 61,
    "start_time": "2021-10-03T13:27:57.207Z"
   },
   {
    "duration": 69,
    "start_time": "2021-10-03T13:27:57.271Z"
   },
   {
    "duration": 112,
    "start_time": "2021-10-03T13:27:57.342Z"
   },
   {
    "duration": 78,
    "start_time": "2021-10-03T13:27:57.456Z"
   },
   {
    "duration": 1147,
    "start_time": "2021-10-04T09:39:17.905Z"
   },
   {
    "duration": 30,
    "start_time": "2021-10-04T09:39:19.053Z"
   },
   {
    "duration": 9,
    "start_time": "2021-10-04T09:39:19.085Z"
   },
   {
    "duration": 14,
    "start_time": "2021-10-04T09:39:19.096Z"
   },
   {
    "duration": 19,
    "start_time": "2021-10-04T09:39:19.112Z"
   },
   {
    "duration": 22,
    "start_time": "2021-10-04T09:39:19.133Z"
   },
   {
    "duration": 140,
    "start_time": "2021-10-04T09:39:19.157Z"
   },
   {
    "duration": 12,
    "start_time": "2021-10-04T09:39:19.299Z"
   },
   {
    "duration": 33,
    "start_time": "2021-10-04T09:39:19.313Z"
   },
   {
    "duration": 10,
    "start_time": "2021-10-04T09:39:19.348Z"
   },
   {
    "duration": 9,
    "start_time": "2021-10-04T09:39:19.360Z"
   },
   {
    "duration": 3,
    "start_time": "2021-10-04T09:39:19.371Z"
   },
   {
    "duration": 6,
    "start_time": "2021-10-04T09:39:19.376Z"
   },
   {
    "duration": 7,
    "start_time": "2021-10-04T09:39:19.383Z"
   },
   {
    "duration": 6,
    "start_time": "2021-10-04T09:39:19.391Z"
   },
   {
    "duration": 10,
    "start_time": "2021-10-04T09:39:19.399Z"
   },
   {
    "duration": 381,
    "start_time": "2021-10-04T09:39:19.411Z"
   },
   {
    "duration": -5482,
    "start_time": "2021-10-04T09:39:25.277Z"
   },
   {
    "duration": -5500,
    "start_time": "2021-10-04T09:39:25.296Z"
   },
   {
    "duration": -5507,
    "start_time": "2021-10-04T09:39:25.304Z"
   },
   {
    "duration": -5514,
    "start_time": "2021-10-04T09:39:25.312Z"
   },
   {
    "duration": -5541,
    "start_time": "2021-10-04T09:39:25.340Z"
   },
   {
    "duration": -5560,
    "start_time": "2021-10-04T09:39:25.360Z"
   },
   {
    "duration": -5569,
    "start_time": "2021-10-04T09:39:25.370Z"
   },
   {
    "duration": -5580,
    "start_time": "2021-10-04T09:39:25.382Z"
   },
   {
    "duration": -5590,
    "start_time": "2021-10-04T09:39:25.393Z"
   },
   {
    "duration": -5597,
    "start_time": "2021-10-04T09:39:25.401Z"
   },
   {
    "duration": -5603,
    "start_time": "2021-10-04T09:39:25.408Z"
   },
   {
    "duration": -5609,
    "start_time": "2021-10-04T09:39:25.415Z"
   },
   {
    "duration": -5614,
    "start_time": "2021-10-04T09:39:25.422Z"
   },
   {
    "duration": -5620,
    "start_time": "2021-10-04T09:39:25.429Z"
   },
   {
    "duration": -5626,
    "start_time": "2021-10-04T09:39:25.436Z"
   },
   {
    "duration": -5632,
    "start_time": "2021-10-04T09:39:25.443Z"
   },
   {
    "duration": -5637,
    "start_time": "2021-10-04T09:39:25.449Z"
   },
   {
    "duration": -5644,
    "start_time": "2021-10-04T09:39:25.457Z"
   },
   {
    "duration": -5880,
    "start_time": "2021-10-04T09:39:25.694Z"
   },
   {
    "duration": -6034,
    "start_time": "2021-10-04T09:39:25.849Z"
   },
   {
    "duration": -6068,
    "start_time": "2021-10-04T09:39:25.885Z"
   },
   {
    "duration": -6095,
    "start_time": "2021-10-04T09:39:25.913Z"
   },
   {
    "duration": -6133,
    "start_time": "2021-10-04T09:39:25.952Z"
   },
   {
    "duration": -6162,
    "start_time": "2021-10-04T09:39:25.982Z"
   },
   {
    "duration": -6171,
    "start_time": "2021-10-04T09:39:25.992Z"
   },
   {
    "duration": -6191,
    "start_time": "2021-10-04T09:39:26.013Z"
   },
   {
    "duration": -6224,
    "start_time": "2021-10-04T09:39:26.048Z"
   },
   {
    "duration": -6256,
    "start_time": "2021-10-04T09:39:26.080Z"
   },
   {
    "duration": -6262,
    "start_time": "2021-10-04T09:39:26.087Z"
   },
   {
    "duration": -6273,
    "start_time": "2021-10-04T09:39:26.099Z"
   },
   {
    "duration": -6379,
    "start_time": "2021-10-04T09:39:26.205Z"
   },
   {
    "duration": -6422,
    "start_time": "2021-10-04T09:39:26.249Z"
   },
   {
    "duration": -6428,
    "start_time": "2021-10-04T09:39:26.256Z"
   },
   {
    "duration": -6447,
    "start_time": "2021-10-04T09:39:26.276Z"
   },
   {
    "duration": -6465,
    "start_time": "2021-10-04T09:39:26.295Z"
   },
   {
    "duration": -6483,
    "start_time": "2021-10-04T09:39:26.313Z"
   },
   {
    "duration": -6489,
    "start_time": "2021-10-04T09:39:26.320Z"
   },
   {
    "duration": -6484,
    "start_time": "2021-10-04T09:39:26.328Z"
   },
   {
    "duration": -6489,
    "start_time": "2021-10-04T09:39:26.334Z"
   },
   {
    "duration": -6495,
    "start_time": "2021-10-04T09:39:26.341Z"
   },
   {
    "duration": -6501,
    "start_time": "2021-10-04T09:39:26.347Z"
   },
   {
    "duration": -6507,
    "start_time": "2021-10-04T09:39:26.354Z"
   },
   {
    "duration": -6513,
    "start_time": "2021-10-04T09:39:26.361Z"
   },
   {
    "duration": -6519,
    "start_time": "2021-10-04T09:39:26.368Z"
   },
   {
    "duration": -6525,
    "start_time": "2021-10-04T09:39:26.375Z"
   },
   {
    "duration": -6531,
    "start_time": "2021-10-04T09:39:26.382Z"
   },
   {
    "duration": -6536,
    "start_time": "2021-10-04T09:39:26.388Z"
   },
   {
    "duration": 12,
    "start_time": "2021-10-04T09:41:03.522Z"
   },
   {
    "duration": 10,
    "start_time": "2021-10-04T09:41:04.801Z"
   },
   {
    "duration": 11,
    "start_time": "2021-10-04T09:41:07.807Z"
   },
   {
    "duration": 5,
    "start_time": "2021-10-04T09:44:51.047Z"
   },
   {
    "duration": 5,
    "start_time": "2021-10-04T09:45:10.162Z"
   },
   {
    "duration": 3,
    "start_time": "2021-10-04T09:45:11.409Z"
   },
   {
    "duration": 17,
    "start_time": "2021-10-04T09:45:13.089Z"
   },
   {
    "duration": 18,
    "start_time": "2021-10-04T09:45:16.958Z"
   },
   {
    "duration": 207,
    "start_time": "2021-10-04T09:45:17.662Z"
   },
   {
    "duration": 278,
    "start_time": "2021-10-04T09:47:31.280Z"
   },
   {
    "duration": 278,
    "start_time": "2021-10-04T09:50:00.600Z"
   },
   {
    "duration": 24,
    "start_time": "2021-10-04T09:50:08.940Z"
   },
   {
    "duration": 25,
    "start_time": "2021-10-04T09:50:13.175Z"
   },
   {
    "duration": 700,
    "start_time": "2021-10-04T09:51:08.518Z"
   },
   {
    "duration": 73,
    "start_time": "2021-10-04T09:51:23.536Z"
   },
   {
    "duration": 51,
    "start_time": "2021-10-04T09:51:26.120Z"
   },
   {
    "duration": 21,
    "start_time": "2021-10-04T09:54:26.000Z"
   },
   {
    "duration": 291,
    "start_time": "2021-10-04T09:54:26.656Z"
   },
   {
    "duration": 325,
    "start_time": "2021-10-04T09:55:22.940Z"
   },
   {
    "duration": 27,
    "start_time": "2021-10-04T09:55:30.041Z"
   },
   {
    "duration": 33,
    "start_time": "2021-10-04T09:55:31.025Z"
   },
   {
    "duration": 1216,
    "start_time": "2021-10-04T09:56:05.115Z"
   },
   {
    "duration": 56,
    "start_time": "2021-10-04T09:56:08.060Z"
   },
   {
    "duration": 41,
    "start_time": "2021-10-04T09:56:12.872Z"
   },
   {
    "duration": 5,
    "start_time": "2021-10-04T09:56:31.763Z"
   },
   {
    "duration": 7,
    "start_time": "2021-10-04T09:56:33.901Z"
   },
   {
    "duration": 11,
    "start_time": "2021-10-04T09:56:43.942Z"
   },
   {
    "duration": 4,
    "start_time": "2021-10-04T09:56:47.136Z"
   },
   {
    "duration": 28,
    "start_time": "2021-10-04T09:57:08.288Z"
   },
   {
    "duration": 76,
    "start_time": "2021-10-04T09:57:08.973Z"
   },
   {
    "duration": 365,
    "start_time": "2021-10-04T09:58:45.538Z"
   },
   {
    "duration": 25,
    "start_time": "2021-10-04T09:58:49.996Z"
   },
   {
    "duration": 29,
    "start_time": "2021-10-04T09:58:53.132Z"
   },
   {
    "duration": 988,
    "start_time": "2021-10-04T09:59:21.566Z"
   },
   {
    "duration": 76,
    "start_time": "2021-10-04T09:59:24.244Z"
   },
   {
    "duration": 48,
    "start_time": "2021-10-04T09:59:28.319Z"
   },
   {
    "duration": 4,
    "start_time": "2021-10-04T09:59:45.727Z"
   },
   {
    "duration": 12,
    "start_time": "2021-10-04T09:59:54.891Z"
   },
   {
    "duration": 4,
    "start_time": "2021-10-04T09:59:55.920Z"
   },
   {
    "duration": 28,
    "start_time": "2021-10-04T10:00:02.200Z"
   },
   {
    "duration": 160,
    "start_time": "2021-10-04T10:00:03.684Z"
   },
   {
    "duration": 132,
    "start_time": "2021-10-04T10:01:09.822Z"
   },
   {
    "duration": 12,
    "start_time": "2021-10-04T10:01:13.430Z"
   },
   {
    "duration": 28,
    "start_time": "2021-10-04T10:01:15.040Z"
   },
   {
    "duration": 417,
    "start_time": "2021-10-04T10:01:51.938Z"
   },
   {
    "duration": 30,
    "start_time": "2021-10-04T10:01:54.051Z"
   },
   {
    "duration": 43,
    "start_time": "2021-10-04T10:01:57.455Z"
   },
   {
    "duration": 55,
    "start_time": "2021-10-04T10:02:13.100Z"
   },
   {
    "duration": 40,
    "start_time": "2021-10-04T10:02:14.532Z"
   },
   {
    "duration": 1223,
    "start_time": "2021-10-04T10:02:44.007Z"
   },
   {
    "duration": 29,
    "start_time": "2021-10-04T10:02:45.232Z"
   },
   {
    "duration": 9,
    "start_time": "2021-10-04T10:02:45.263Z"
   },
   {
    "duration": 4,
    "start_time": "2021-10-04T10:02:45.274Z"
   },
   {
    "duration": 9,
    "start_time": "2021-10-04T10:02:45.280Z"
   },
   {
    "duration": 14,
    "start_time": "2021-10-04T10:02:45.290Z"
   },
   {
    "duration": 154,
    "start_time": "2021-10-04T10:02:45.306Z"
   },
   {
    "duration": 12,
    "start_time": "2021-10-04T10:02:45.462Z"
   },
   {
    "duration": 19,
    "start_time": "2021-10-04T10:02:45.476Z"
   },
   {
    "duration": 9,
    "start_time": "2021-10-04T10:02:45.497Z"
   },
   {
    "duration": 8,
    "start_time": "2021-10-04T10:02:45.507Z"
   },
   {
    "duration": 29,
    "start_time": "2021-10-04T10:02:45.516Z"
   },
   {
    "duration": 3,
    "start_time": "2021-10-04T10:02:45.547Z"
   },
   {
    "duration": 6,
    "start_time": "2021-10-04T10:02:45.551Z"
   },
   {
    "duration": 3,
    "start_time": "2021-10-04T10:02:45.558Z"
   },
   {
    "duration": 10,
    "start_time": "2021-10-04T10:02:45.563Z"
   },
   {
    "duration": 14,
    "start_time": "2021-10-04T10:02:45.574Z"
   },
   {
    "duration": 10,
    "start_time": "2021-10-04T10:02:45.590Z"
   },
   {
    "duration": 45,
    "start_time": "2021-10-04T10:02:45.601Z"
   },
   {
    "duration": 2,
    "start_time": "2021-10-04T10:02:45.648Z"
   },
   {
    "duration": 5,
    "start_time": "2021-10-04T10:02:45.652Z"
   },
   {
    "duration": 4,
    "start_time": "2021-10-04T10:02:45.659Z"
   },
   {
    "duration": 17,
    "start_time": "2021-10-04T10:02:45.667Z"
   },
   {
    "duration": 61,
    "start_time": "2021-10-04T10:02:45.687Z"
   },
   {
    "duration": 600,
    "start_time": "2021-10-04T10:02:45.750Z"
   },
   {
    "duration": 361,
    "start_time": "2021-10-04T10:02:46.352Z"
   },
   {
    "duration": 31,
    "start_time": "2021-10-04T10:02:46.714Z"
   },
   {
    "duration": 25,
    "start_time": "2021-10-04T10:02:46.746Z"
   },
   {
    "duration": 722,
    "start_time": "2021-10-04T10:02:46.773Z"
   },
   {
    "duration": 76,
    "start_time": "2021-10-04T10:02:47.497Z"
   },
   {
    "duration": 47,
    "start_time": "2021-10-04T10:02:47.574Z"
   },
   {
    "duration": 31,
    "start_time": "2021-10-04T10:02:47.623Z"
   },
   {
    "duration": 390,
    "start_time": "2021-10-04T10:02:47.657Z"
   },
   {
    "duration": 373,
    "start_time": "2021-10-04T10:02:48.049Z"
   },
   {
    "duration": 26,
    "start_time": "2021-10-04T10:02:48.424Z"
   },
   {
    "duration": 27,
    "start_time": "2021-10-04T10:02:48.451Z"
   },
   {
    "duration": 731,
    "start_time": "2021-10-04T10:02:48.480Z"
   },
   {
    "duration": 67,
    "start_time": "2021-10-04T10:02:49.213Z"
   },
   {
    "duration": 45,
    "start_time": "2021-10-04T10:02:49.282Z"
   },
   {
    "duration": 18,
    "start_time": "2021-10-04T10:02:49.329Z"
   },
   {
    "duration": 13,
    "start_time": "2021-10-04T10:02:49.349Z"
   },
   {
    "duration": 14,
    "start_time": "2021-10-04T10:02:49.363Z"
   },
   {
    "duration": 3,
    "start_time": "2021-10-04T10:02:49.379Z"
   },
   {
    "duration": 69,
    "start_time": "2021-10-04T10:02:49.384Z"
   },
   {
    "duration": 394,
    "start_time": "2021-10-04T10:02:49.455Z"
   },
   {
    "duration": 453,
    "start_time": "2021-10-04T10:02:49.851Z"
   },
   {
    "duration": 24,
    "start_time": "2021-10-04T10:02:50.306Z"
   },
   {
    "duration": 36,
    "start_time": "2021-10-04T10:02:50.332Z"
   },
   {
    "duration": 948,
    "start_time": "2021-10-04T10:02:50.369Z"
   },
   {
    "duration": 85,
    "start_time": "2021-10-04T10:02:51.319Z"
   },
   {
    "duration": 51,
    "start_time": "2021-10-04T10:02:51.406Z"
   },
   {
    "duration": 4,
    "start_time": "2021-10-04T10:02:51.459Z"
   },
   {
    "duration": 15,
    "start_time": "2021-10-04T10:02:51.464Z"
   },
   {
    "duration": 5,
    "start_time": "2021-10-04T10:02:51.481Z"
   },
   {
    "duration": 60,
    "start_time": "2021-10-04T10:02:51.488Z"
   },
   {
    "duration": 301,
    "start_time": "2021-10-04T10:02:51.550Z"
   },
   {
    "duration": 245,
    "start_time": "2021-10-04T10:02:51.853Z"
   },
   {
    "duration": 14,
    "start_time": "2021-10-04T10:02:52.100Z"
   },
   {
    "duration": 44,
    "start_time": "2021-10-04T10:02:52.115Z"
   },
   {
    "duration": 444,
    "start_time": "2021-10-04T10:02:52.161Z"
   },
   {
    "duration": 41,
    "start_time": "2021-10-04T10:02:52.607Z"
   },
   {
    "duration": 44,
    "start_time": "2021-10-04T10:02:52.649Z"
   },
   {
    "duration": 73,
    "start_time": "2021-10-04T10:02:52.694Z"
   },
   {
    "duration": 40,
    "start_time": "2021-10-04T10:02:52.769Z"
   },
   {
    "duration": 1191,
    "start_time": "2021-10-04T10:05:25.055Z"
   },
   {
    "duration": 31,
    "start_time": "2021-10-04T10:05:26.248Z"
   },
   {
    "duration": 9,
    "start_time": "2021-10-04T10:05:26.281Z"
   },
   {
    "duration": 20,
    "start_time": "2021-10-04T10:05:26.292Z"
   },
   {
    "duration": 16,
    "start_time": "2021-10-04T10:05:26.313Z"
   },
   {
    "duration": 18,
    "start_time": "2021-10-04T10:05:26.331Z"
   },
   {
    "duration": 153,
    "start_time": "2021-10-04T10:05:26.350Z"
   },
   {
    "duration": 13,
    "start_time": "2021-10-04T10:05:26.505Z"
   },
   {
    "duration": 30,
    "start_time": "2021-10-04T10:05:26.520Z"
   },
   {
    "duration": 9,
    "start_time": "2021-10-04T10:05:26.552Z"
   },
   {
    "duration": 8,
    "start_time": "2021-10-04T10:05:26.563Z"
   },
   {
    "duration": 4,
    "start_time": "2021-10-04T10:05:26.572Z"
   },
   {
    "duration": 12,
    "start_time": "2021-10-04T10:05:26.578Z"
   },
   {
    "duration": 8,
    "start_time": "2021-10-04T10:05:26.592Z"
   },
   {
    "duration": 10,
    "start_time": "2021-10-04T10:05:26.601Z"
   },
   {
    "duration": 14,
    "start_time": "2021-10-04T10:05:26.612Z"
   },
   {
    "duration": 30,
    "start_time": "2021-10-04T10:05:26.628Z"
   },
   {
    "duration": 15,
    "start_time": "2021-10-04T10:05:26.659Z"
   },
   {
    "duration": 13,
    "start_time": "2021-10-04T10:05:26.676Z"
   },
   {
    "duration": 13,
    "start_time": "2021-10-04T10:05:26.690Z"
   },
   {
    "duration": 8,
    "start_time": "2021-10-04T10:05:26.704Z"
   },
   {
    "duration": 8,
    "start_time": "2021-10-04T10:05:26.713Z"
   },
   {
    "duration": 17,
    "start_time": "2021-10-04T10:05:26.725Z"
   },
   {
    "duration": 29,
    "start_time": "2021-10-04T10:05:26.745Z"
   },
   {
    "duration": 7,
    "start_time": "2021-10-04T10:05:26.775Z"
   },
   {
    "duration": 462,
    "start_time": "2021-10-04T10:05:26.785Z"
   },
   {
    "duration": 403,
    "start_time": "2021-10-04T10:05:27.249Z"
   },
   {
    "duration": 23,
    "start_time": "2021-10-04T10:05:27.654Z"
   },
   {
    "duration": 27,
    "start_time": "2021-10-04T10:05:27.678Z"
   },
   {
    "duration": 720,
    "start_time": "2021-10-04T10:05:27.706Z"
   },
   {
    "duration": 73,
    "start_time": "2021-10-04T10:05:28.428Z"
   },
   {
    "duration": 50,
    "start_time": "2021-10-04T10:05:28.503Z"
   },
   {
    "duration": 18,
    "start_time": "2021-10-04T10:05:28.555Z"
   },
   {
    "duration": 377,
    "start_time": "2021-10-04T10:05:28.575Z"
   },
   {
    "duration": 368,
    "start_time": "2021-10-04T10:05:28.953Z"
   },
   {
    "duration": 28,
    "start_time": "2021-10-04T10:05:29.322Z"
   },
   {
    "duration": 26,
    "start_time": "2021-10-04T10:05:29.351Z"
   },
   {
    "duration": 723,
    "start_time": "2021-10-04T10:05:29.379Z"
   },
   {
    "duration": 66,
    "start_time": "2021-10-04T10:05:30.104Z"
   },
   {
    "duration": 45,
    "start_time": "2021-10-04T10:05:30.172Z"
   },
   {
    "duration": 4,
    "start_time": "2021-10-04T10:05:30.218Z"
   },
   {
    "duration": 22,
    "start_time": "2021-10-04T10:05:30.223Z"
   },
   {
    "duration": 20,
    "start_time": "2021-10-04T10:05:30.246Z"
   },
   {
    "duration": 23,
    "start_time": "2021-10-04T10:05:30.268Z"
   },
   {
    "duration": 52,
    "start_time": "2021-10-04T10:05:30.292Z"
   },
   {
    "duration": 399,
    "start_time": "2021-10-04T10:05:30.347Z"
   },
   {
    "duration": 369,
    "start_time": "2021-10-04T10:05:30.748Z"
   },
   {
    "duration": 34,
    "start_time": "2021-10-04T10:05:31.119Z"
   },
   {
    "duration": 27,
    "start_time": "2021-10-04T10:05:31.154Z"
   },
   {
    "duration": 941,
    "start_time": "2021-10-04T10:05:31.183Z"
   },
   {
    "duration": 88,
    "start_time": "2021-10-04T10:05:32.126Z"
   },
   {
    "duration": 52,
    "start_time": "2021-10-04T10:05:32.215Z"
   },
   {
    "duration": 3,
    "start_time": "2021-10-04T10:05:32.269Z"
   },
   {
    "duration": 14,
    "start_time": "2021-10-04T10:05:32.273Z"
   },
   {
    "duration": 22,
    "start_time": "2021-10-04T10:05:32.288Z"
   },
   {
    "duration": 41,
    "start_time": "2021-10-04T10:05:32.311Z"
   },
   {
    "duration": 397,
    "start_time": "2021-10-04T10:05:32.354Z"
   },
   {
    "duration": 229,
    "start_time": "2021-10-04T10:05:32.753Z"
   },
   {
    "duration": 11,
    "start_time": "2021-10-04T10:05:32.983Z"
   },
   {
    "duration": 26,
    "start_time": "2021-10-04T10:05:32.995Z"
   },
   {
    "duration": 425,
    "start_time": "2021-10-04T10:05:33.022Z"
   },
   {
    "duration": 29,
    "start_time": "2021-10-04T10:05:33.449Z"
   },
   {
    "duration": 39,
    "start_time": "2021-10-04T10:05:33.480Z"
   },
   {
    "duration": 75,
    "start_time": "2021-10-04T10:05:33.521Z"
   },
   {
    "duration": 51,
    "start_time": "2021-10-04T10:05:33.597Z"
   },
   {
    "duration": 5,
    "start_time": "2021-10-04T10:08:09.983Z"
   },
   {
    "duration": 166,
    "start_time": "2021-10-04T10:09:23.536Z"
   },
   {
    "duration": 165,
    "start_time": "2021-10-04T10:09:36.179Z"
   }
  ],
  "kernelspec": {
   "display_name": "Python 3",
   "language": "python",
   "name": "python3"
  },
  "language_info": {
   "codemirror_mode": {
    "name": "ipython",
    "version": 3
   },
   "file_extension": ".py",
   "mimetype": "text/x-python",
   "name": "python",
   "nbconvert_exporter": "python",
   "pygments_lexer": "ipython3",
   "version": "3.8.5"
  },
  "toc": {
   "base_numbering": 1,
   "nav_menu": {},
   "number_sections": true,
   "sideBar": true,
   "skip_h1_title": true,
   "title_cell": "Содержание",
   "title_sidebar": "Contents",
   "toc_cell": true,
   "toc_position": {
    "height": "calc(100% - 180px)",
    "left": "10px",
    "top": "150px",
    "width": "165px"
   },
   "toc_section_display": true,
   "toc_window_display": false
  }
 },
 "nbformat": 4,
 "nbformat_minor": 2
}
