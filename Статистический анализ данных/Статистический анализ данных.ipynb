{
 "cells": [
  {
   "cell_type": "markdown",
   "metadata": {},
   "source": [
    "# Задача"
   ]
  },
  {
   "cell_type": "markdown",
   "metadata": {},
   "source": [
    "В нашем распоряжении данные 500 пользователей федерального оператора сотовой связи «Мегалайна»: кто они, откуда, каким тарифом пользуются, сколько звонков и сообщений каждый отправил за 2018 год. Клиентам предлагают два тарифных плана: «Смарт» и «Ультра». Чтобы скорректировать рекламный бюджет, коммерческий департамент хочет понять, какой тариф приносит больше денег.  \n",
    "\n",
    "Нам предстоит сделать предварительный анализ тарифов на небольшой выборке клиентов. Нужно проанализировать поведение клиентов и сделать вывод — какой тариф лучше."
   ]
  },
  {
   "cell_type": "markdown",
   "metadata": {},
   "source": [
    "# Чтение и знакомство с данными"
   ]
  },
  {
   "cell_type": "markdown",
   "metadata": {},
   "source": [
    "Данные хранятся в 5 файлах:  \n",
    "1. Calls - информация о звонках  \n",
    "2. Internet - информация об интернет-сессиях\n",
    "3. Messages - информация о сообщениях\n",
    "4. Tariffs - информация о тарифах\n",
    "5. Users - информация о пользователях"
   ]
  },
  {
   "cell_type": "code",
   "execution_count": 1,
   "metadata": {},
   "outputs": [],
   "source": [
    "import pandas as pd\n",
    "import numpy as np\n",
    "import matplotlib.pyplot as plt\n",
    "import seaborn as sns\n",
    "import math as mt\n",
    "from math import factorial\n",
    "from scipy import stats as st"
   ]
  },
  {
   "cell_type": "code",
   "execution_count": 2,
   "metadata": {},
   "outputs": [],
   "source": [
    "calls = pd.read_csv('calls.csv')"
   ]
  },
  {
   "cell_type": "code",
   "execution_count": 3,
   "metadata": {},
   "outputs": [
    {
     "data": {
      "text/html": [
       "<div>\n",
       "<style scoped>\n",
       "    .dataframe tbody tr th:only-of-type {\n",
       "        vertical-align: middle;\n",
       "    }\n",
       "\n",
       "    .dataframe tbody tr th {\n",
       "        vertical-align: top;\n",
       "    }\n",
       "\n",
       "    .dataframe thead th {\n",
       "        text-align: right;\n",
       "    }\n",
       "</style>\n",
       "<table border=\"1\" class=\"dataframe\">\n",
       "  <thead>\n",
       "    <tr style=\"text-align: right;\">\n",
       "      <th></th>\n",
       "      <th>id</th>\n",
       "      <th>call_date</th>\n",
       "      <th>duration</th>\n",
       "      <th>user_id</th>\n",
       "    </tr>\n",
       "  </thead>\n",
       "  <tbody>\n",
       "    <tr>\n",
       "      <th>0</th>\n",
       "      <td>1000_0</td>\n",
       "      <td>2018-07-25</td>\n",
       "      <td>0.00</td>\n",
       "      <td>1000</td>\n",
       "    </tr>\n",
       "    <tr>\n",
       "      <th>1</th>\n",
       "      <td>1000_1</td>\n",
       "      <td>2018-08-17</td>\n",
       "      <td>0.00</td>\n",
       "      <td>1000</td>\n",
       "    </tr>\n",
       "    <tr>\n",
       "      <th>2</th>\n",
       "      <td>1000_2</td>\n",
       "      <td>2018-06-11</td>\n",
       "      <td>2.85</td>\n",
       "      <td>1000</td>\n",
       "    </tr>\n",
       "    <tr>\n",
       "      <th>3</th>\n",
       "      <td>1000_3</td>\n",
       "      <td>2018-09-21</td>\n",
       "      <td>13.80</td>\n",
       "      <td>1000</td>\n",
       "    </tr>\n",
       "    <tr>\n",
       "      <th>4</th>\n",
       "      <td>1000_4</td>\n",
       "      <td>2018-12-15</td>\n",
       "      <td>5.18</td>\n",
       "      <td>1000</td>\n",
       "    </tr>\n",
       "  </tbody>\n",
       "</table>\n",
       "</div>"
      ],
      "text/plain": [
       "       id   call_date  duration  user_id\n",
       "0  1000_0  2018-07-25      0.00     1000\n",
       "1  1000_1  2018-08-17      0.00     1000\n",
       "2  1000_2  2018-06-11      2.85     1000\n",
       "3  1000_3  2018-09-21     13.80     1000\n",
       "4  1000_4  2018-12-15      5.18     1000"
      ]
     },
     "execution_count": 3,
     "metadata": {},
     "output_type": "execute_result"
    }
   ],
   "source": [
    "calls.head()"
   ]
  },
  {
   "cell_type": "code",
   "execution_count": 4,
   "metadata": {},
   "outputs": [],
   "source": [
    "internet = pd.read_csv('internet.csv')"
   ]
  },
  {
   "cell_type": "code",
   "execution_count": 5,
   "metadata": {},
   "outputs": [],
   "source": [
    "del internet['Unnamed: 0']"
   ]
  },
  {
   "cell_type": "code",
   "execution_count": 6,
   "metadata": {},
   "outputs": [
    {
     "data": {
      "text/html": [
       "<div>\n",
       "<style scoped>\n",
       "    .dataframe tbody tr th:only-of-type {\n",
       "        vertical-align: middle;\n",
       "    }\n",
       "\n",
       "    .dataframe tbody tr th {\n",
       "        vertical-align: top;\n",
       "    }\n",
       "\n",
       "    .dataframe thead th {\n",
       "        text-align: right;\n",
       "    }\n",
       "</style>\n",
       "<table border=\"1\" class=\"dataframe\">\n",
       "  <thead>\n",
       "    <tr style=\"text-align: right;\">\n",
       "      <th></th>\n",
       "      <th>id</th>\n",
       "      <th>mb_used</th>\n",
       "      <th>session_date</th>\n",
       "      <th>user_id</th>\n",
       "    </tr>\n",
       "  </thead>\n",
       "  <tbody>\n",
       "    <tr>\n",
       "      <th>0</th>\n",
       "      <td>1000_0</td>\n",
       "      <td>112.95</td>\n",
       "      <td>2018-11-25</td>\n",
       "      <td>1000</td>\n",
       "    </tr>\n",
       "    <tr>\n",
       "      <th>1</th>\n",
       "      <td>1000_1</td>\n",
       "      <td>1052.81</td>\n",
       "      <td>2018-09-07</td>\n",
       "      <td>1000</td>\n",
       "    </tr>\n",
       "    <tr>\n",
       "      <th>2</th>\n",
       "      <td>1000_2</td>\n",
       "      <td>1197.26</td>\n",
       "      <td>2018-06-25</td>\n",
       "      <td>1000</td>\n",
       "    </tr>\n",
       "    <tr>\n",
       "      <th>3</th>\n",
       "      <td>1000_3</td>\n",
       "      <td>550.27</td>\n",
       "      <td>2018-08-22</td>\n",
       "      <td>1000</td>\n",
       "    </tr>\n",
       "    <tr>\n",
       "      <th>4</th>\n",
       "      <td>1000_4</td>\n",
       "      <td>302.56</td>\n",
       "      <td>2018-09-24</td>\n",
       "      <td>1000</td>\n",
       "    </tr>\n",
       "  </tbody>\n",
       "</table>\n",
       "</div>"
      ],
      "text/plain": [
       "       id  mb_used session_date  user_id\n",
       "0  1000_0   112.95   2018-11-25     1000\n",
       "1  1000_1  1052.81   2018-09-07     1000\n",
       "2  1000_2  1197.26   2018-06-25     1000\n",
       "3  1000_3   550.27   2018-08-22     1000\n",
       "4  1000_4   302.56   2018-09-24     1000"
      ]
     },
     "execution_count": 6,
     "metadata": {},
     "output_type": "execute_result"
    }
   ],
   "source": [
    "internet.head()"
   ]
  },
  {
   "cell_type": "code",
   "execution_count": 7,
   "metadata": {},
   "outputs": [],
   "source": [
    "messages = pd.read_csv('messages.csv')"
   ]
  },
  {
   "cell_type": "code",
   "execution_count": 8,
   "metadata": {},
   "outputs": [
    {
     "data": {
      "text/html": [
       "<div>\n",
       "<style scoped>\n",
       "    .dataframe tbody tr th:only-of-type {\n",
       "        vertical-align: middle;\n",
       "    }\n",
       "\n",
       "    .dataframe tbody tr th {\n",
       "        vertical-align: top;\n",
       "    }\n",
       "\n",
       "    .dataframe thead th {\n",
       "        text-align: right;\n",
       "    }\n",
       "</style>\n",
       "<table border=\"1\" class=\"dataframe\">\n",
       "  <thead>\n",
       "    <tr style=\"text-align: right;\">\n",
       "      <th></th>\n",
       "      <th>id</th>\n",
       "      <th>message_date</th>\n",
       "      <th>user_id</th>\n",
       "    </tr>\n",
       "  </thead>\n",
       "  <tbody>\n",
       "    <tr>\n",
       "      <th>0</th>\n",
       "      <td>1000_0</td>\n",
       "      <td>2018-06-27</td>\n",
       "      <td>1000</td>\n",
       "    </tr>\n",
       "    <tr>\n",
       "      <th>1</th>\n",
       "      <td>1000_1</td>\n",
       "      <td>2018-10-08</td>\n",
       "      <td>1000</td>\n",
       "    </tr>\n",
       "    <tr>\n",
       "      <th>2</th>\n",
       "      <td>1000_2</td>\n",
       "      <td>2018-08-04</td>\n",
       "      <td>1000</td>\n",
       "    </tr>\n",
       "    <tr>\n",
       "      <th>3</th>\n",
       "      <td>1000_3</td>\n",
       "      <td>2018-06-16</td>\n",
       "      <td>1000</td>\n",
       "    </tr>\n",
       "    <tr>\n",
       "      <th>4</th>\n",
       "      <td>1000_4</td>\n",
       "      <td>2018-12-05</td>\n",
       "      <td>1000</td>\n",
       "    </tr>\n",
       "  </tbody>\n",
       "</table>\n",
       "</div>"
      ],
      "text/plain": [
       "       id message_date  user_id\n",
       "0  1000_0   2018-06-27     1000\n",
       "1  1000_1   2018-10-08     1000\n",
       "2  1000_2   2018-08-04     1000\n",
       "3  1000_3   2018-06-16     1000\n",
       "4  1000_4   2018-12-05     1000"
      ]
     },
     "execution_count": 8,
     "metadata": {},
     "output_type": "execute_result"
    }
   ],
   "source": [
    "messages.head()"
   ]
  },
  {
   "cell_type": "code",
   "execution_count": 9,
   "metadata": {},
   "outputs": [],
   "source": [
    "tariffs = pd.read_csv('tariffs.csv')"
   ]
  },
  {
   "cell_type": "code",
   "execution_count": 10,
   "metadata": {},
   "outputs": [
    {
     "data": {
      "text/html": [
       "<div>\n",
       "<style scoped>\n",
       "    .dataframe tbody tr th:only-of-type {\n",
       "        vertical-align: middle;\n",
       "    }\n",
       "\n",
       "    .dataframe tbody tr th {\n",
       "        vertical-align: top;\n",
       "    }\n",
       "\n",
       "    .dataframe thead th {\n",
       "        text-align: right;\n",
       "    }\n",
       "</style>\n",
       "<table border=\"1\" class=\"dataframe\">\n",
       "  <thead>\n",
       "    <tr style=\"text-align: right;\">\n",
       "      <th></th>\n",
       "      <th>messages_included</th>\n",
       "      <th>mb_per_month_included</th>\n",
       "      <th>minutes_included</th>\n",
       "      <th>rub_monthly_fee</th>\n",
       "      <th>rub_per_gb</th>\n",
       "      <th>rub_per_message</th>\n",
       "      <th>rub_per_minute</th>\n",
       "      <th>tariff_name</th>\n",
       "    </tr>\n",
       "  </thead>\n",
       "  <tbody>\n",
       "    <tr>\n",
       "      <th>0</th>\n",
       "      <td>50</td>\n",
       "      <td>15360</td>\n",
       "      <td>500</td>\n",
       "      <td>550</td>\n",
       "      <td>200</td>\n",
       "      <td>3</td>\n",
       "      <td>3</td>\n",
       "      <td>smart</td>\n",
       "    </tr>\n",
       "    <tr>\n",
       "      <th>1</th>\n",
       "      <td>1000</td>\n",
       "      <td>30720</td>\n",
       "      <td>3000</td>\n",
       "      <td>1950</td>\n",
       "      <td>150</td>\n",
       "      <td>1</td>\n",
       "      <td>1</td>\n",
       "      <td>ultra</td>\n",
       "    </tr>\n",
       "  </tbody>\n",
       "</table>\n",
       "</div>"
      ],
      "text/plain": [
       "   messages_included  mb_per_month_included  minutes_included  \\\n",
       "0                 50                  15360               500   \n",
       "1               1000                  30720              3000   \n",
       "\n",
       "   rub_monthly_fee  rub_per_gb  rub_per_message  rub_per_minute tariff_name  \n",
       "0              550         200                3               3       smart  \n",
       "1             1950         150                1               1       ultra  "
      ]
     },
     "execution_count": 10,
     "metadata": {},
     "output_type": "execute_result"
    }
   ],
   "source": [
    "tariffs"
   ]
  },
  {
   "cell_type": "code",
   "execution_count": 11,
   "metadata": {},
   "outputs": [],
   "source": [
    "users = pd.read_csv('users.csv')"
   ]
  },
  {
   "cell_type": "code",
   "execution_count": 12,
   "metadata": {},
   "outputs": [
    {
     "data": {
      "text/html": [
       "<div>\n",
       "<style scoped>\n",
       "    .dataframe tbody tr th:only-of-type {\n",
       "        vertical-align: middle;\n",
       "    }\n",
       "\n",
       "    .dataframe tbody tr th {\n",
       "        vertical-align: top;\n",
       "    }\n",
       "\n",
       "    .dataframe thead th {\n",
       "        text-align: right;\n",
       "    }\n",
       "</style>\n",
       "<table border=\"1\" class=\"dataframe\">\n",
       "  <thead>\n",
       "    <tr style=\"text-align: right;\">\n",
       "      <th></th>\n",
       "      <th>user_id</th>\n",
       "      <th>age</th>\n",
       "      <th>churn_date</th>\n",
       "      <th>city</th>\n",
       "      <th>first_name</th>\n",
       "      <th>last_name</th>\n",
       "      <th>reg_date</th>\n",
       "      <th>tariff</th>\n",
       "    </tr>\n",
       "  </thead>\n",
       "  <tbody>\n",
       "    <tr>\n",
       "      <th>0</th>\n",
       "      <td>1000</td>\n",
       "      <td>52</td>\n",
       "      <td>NaN</td>\n",
       "      <td>Краснодар</td>\n",
       "      <td>Рафаил</td>\n",
       "      <td>Верещагин</td>\n",
       "      <td>2018-05-25</td>\n",
       "      <td>ultra</td>\n",
       "    </tr>\n",
       "    <tr>\n",
       "      <th>1</th>\n",
       "      <td>1001</td>\n",
       "      <td>41</td>\n",
       "      <td>NaN</td>\n",
       "      <td>Москва</td>\n",
       "      <td>Иван</td>\n",
       "      <td>Ежов</td>\n",
       "      <td>2018-11-01</td>\n",
       "      <td>smart</td>\n",
       "    </tr>\n",
       "    <tr>\n",
       "      <th>2</th>\n",
       "      <td>1002</td>\n",
       "      <td>59</td>\n",
       "      <td>NaN</td>\n",
       "      <td>Стерлитамак</td>\n",
       "      <td>Евгений</td>\n",
       "      <td>Абрамович</td>\n",
       "      <td>2018-06-17</td>\n",
       "      <td>smart</td>\n",
       "    </tr>\n",
       "    <tr>\n",
       "      <th>3</th>\n",
       "      <td>1003</td>\n",
       "      <td>23</td>\n",
       "      <td>NaN</td>\n",
       "      <td>Москва</td>\n",
       "      <td>Белла</td>\n",
       "      <td>Белякова</td>\n",
       "      <td>2018-08-17</td>\n",
       "      <td>ultra</td>\n",
       "    </tr>\n",
       "    <tr>\n",
       "      <th>4</th>\n",
       "      <td>1004</td>\n",
       "      <td>68</td>\n",
       "      <td>NaN</td>\n",
       "      <td>Новокузнецк</td>\n",
       "      <td>Татьяна</td>\n",
       "      <td>Авдеенко</td>\n",
       "      <td>2018-05-14</td>\n",
       "      <td>ultra</td>\n",
       "    </tr>\n",
       "  </tbody>\n",
       "</table>\n",
       "</div>"
      ],
      "text/plain": [
       "   user_id  age churn_date         city first_name  last_name    reg_date  \\\n",
       "0     1000   52        NaN    Краснодар     Рафаил  Верещагин  2018-05-25   \n",
       "1     1001   41        NaN       Москва       Иван       Ежов  2018-11-01   \n",
       "2     1002   59        NaN  Стерлитамак    Евгений  Абрамович  2018-06-17   \n",
       "3     1003   23        NaN       Москва      Белла   Белякова  2018-08-17   \n",
       "4     1004   68        NaN  Новокузнецк    Татьяна   Авдеенко  2018-05-14   \n",
       "\n",
       "  tariff  \n",
       "0  ultra  \n",
       "1  smart  \n",
       "2  smart  \n",
       "3  ultra  \n",
       "4  ultra  "
      ]
     },
     "execution_count": 12,
     "metadata": {},
     "output_type": "execute_result"
    }
   ],
   "source": [
    "users.head()"
   ]
  },
  {
   "cell_type": "markdown",
   "metadata": {},
   "source": [
    "# Подготовка данных"
   ]
  },
  {
   "cell_type": "markdown",
   "metadata": {},
   "source": [
    "Приведем все столбцы к правильному типу данных "
   ]
  },
  {
   "cell_type": "code",
   "execution_count": 13,
   "metadata": {},
   "outputs": [
    {
     "data": {
      "text/plain": [
       "id            object\n",
       "call_date     object\n",
       "duration     float64\n",
       "user_id        int64\n",
       "dtype: object"
      ]
     },
     "execution_count": 13,
     "metadata": {},
     "output_type": "execute_result"
    }
   ],
   "source": [
    "calls.dtypes"
   ]
  },
  {
   "cell_type": "code",
   "execution_count": 14,
   "metadata": {},
   "outputs": [],
   "source": [
    "calls['call_date'] = pd.to_datetime(calls['call_date'], format='%Y-%m-%d')"
   ]
  },
  {
   "cell_type": "code",
   "execution_count": 15,
   "metadata": {},
   "outputs": [
    {
     "data": {
      "text/plain": [
       "id               object\n",
       "mb_used         float64\n",
       "session_date     object\n",
       "user_id           int64\n",
       "dtype: object"
      ]
     },
     "execution_count": 15,
     "metadata": {},
     "output_type": "execute_result"
    }
   ],
   "source": [
    "internet.dtypes"
   ]
  },
  {
   "cell_type": "code",
   "execution_count": 16,
   "metadata": {},
   "outputs": [],
   "source": [
    "internet['session_date'] = pd.to_datetime(internet['session_date'], format='%Y-%m-%d')"
   ]
  },
  {
   "cell_type": "code",
   "execution_count": 17,
   "metadata": {},
   "outputs": [
    {
     "data": {
      "text/plain": [
       "id              object\n",
       "message_date    object\n",
       "user_id          int64\n",
       "dtype: object"
      ]
     },
     "execution_count": 17,
     "metadata": {},
     "output_type": "execute_result"
    }
   ],
   "source": [
    "messages.dtypes"
   ]
  },
  {
   "cell_type": "code",
   "execution_count": 18,
   "metadata": {},
   "outputs": [],
   "source": [
    "messages['message_date'] = pd.to_datetime(messages['message_date'], format='%Y-%m-%d')"
   ]
  },
  {
   "cell_type": "code",
   "execution_count": 19,
   "metadata": {},
   "outputs": [
    {
     "data": {
      "text/plain": [
       "user_id        int64\n",
       "age            int64\n",
       "churn_date    object\n",
       "city          object\n",
       "first_name    object\n",
       "last_name     object\n",
       "reg_date      object\n",
       "tariff        object\n",
       "dtype: object"
      ]
     },
     "execution_count": 19,
     "metadata": {},
     "output_type": "execute_result"
    }
   ],
   "source": [
    "users.dtypes"
   ]
  },
  {
   "cell_type": "code",
   "execution_count": 20,
   "metadata": {},
   "outputs": [],
   "source": [
    "users['churn_date'] = pd.to_datetime(users['churn_date'], format='%Y-%m-%d')"
   ]
  },
  {
   "cell_type": "code",
   "execution_count": 21,
   "metadata": {},
   "outputs": [],
   "source": [
    "users['reg_date'] = pd.to_datetime(users['reg_date'], format='%Y-%m-%d')"
   ]
  },
  {
   "cell_type": "markdown",
   "metadata": {},
   "source": [
    "# Добавление столбцов"
   ]
  },
  {
   "cell_type": "markdown",
   "metadata": {},
   "source": [
    "## Количество сделанных звонков и израсходованных минут разговора по месяцам"
   ]
  },
  {
   "cell_type": "code",
   "execution_count": 22,
   "metadata": {},
   "outputs": [
    {
     "data": {
      "text/html": [
       "<div>\n",
       "<style scoped>\n",
       "    .dataframe tbody tr th:only-of-type {\n",
       "        vertical-align: middle;\n",
       "    }\n",
       "\n",
       "    .dataframe tbody tr th {\n",
       "        vertical-align: top;\n",
       "    }\n",
       "\n",
       "    .dataframe thead th {\n",
       "        text-align: right;\n",
       "    }\n",
       "</style>\n",
       "<table border=\"1\" class=\"dataframe\">\n",
       "  <thead>\n",
       "    <tr style=\"text-align: right;\">\n",
       "      <th></th>\n",
       "      <th>id</th>\n",
       "      <th>call_date</th>\n",
       "      <th>duration</th>\n",
       "      <th>user_id</th>\n",
       "    </tr>\n",
       "  </thead>\n",
       "  <tbody>\n",
       "    <tr>\n",
       "      <th>0</th>\n",
       "      <td>1000_0</td>\n",
       "      <td>2018-07-25</td>\n",
       "      <td>0.00</td>\n",
       "      <td>1000</td>\n",
       "    </tr>\n",
       "    <tr>\n",
       "      <th>1</th>\n",
       "      <td>1000_1</td>\n",
       "      <td>2018-08-17</td>\n",
       "      <td>0.00</td>\n",
       "      <td>1000</td>\n",
       "    </tr>\n",
       "    <tr>\n",
       "      <th>2</th>\n",
       "      <td>1000_2</td>\n",
       "      <td>2018-06-11</td>\n",
       "      <td>2.85</td>\n",
       "      <td>1000</td>\n",
       "    </tr>\n",
       "    <tr>\n",
       "      <th>3</th>\n",
       "      <td>1000_3</td>\n",
       "      <td>2018-09-21</td>\n",
       "      <td>13.80</td>\n",
       "      <td>1000</td>\n",
       "    </tr>\n",
       "    <tr>\n",
       "      <th>4</th>\n",
       "      <td>1000_4</td>\n",
       "      <td>2018-12-15</td>\n",
       "      <td>5.18</td>\n",
       "      <td>1000</td>\n",
       "    </tr>\n",
       "  </tbody>\n",
       "</table>\n",
       "</div>"
      ],
      "text/plain": [
       "       id  call_date  duration  user_id\n",
       "0  1000_0 2018-07-25      0.00     1000\n",
       "1  1000_1 2018-08-17      0.00     1000\n",
       "2  1000_2 2018-06-11      2.85     1000\n",
       "3  1000_3 2018-09-21     13.80     1000\n",
       "4  1000_4 2018-12-15      5.18     1000"
      ]
     },
     "execution_count": 22,
     "metadata": {},
     "output_type": "execute_result"
    }
   ],
   "source": [
    "calls.head()"
   ]
  },
  {
   "cell_type": "markdown",
   "metadata": {},
   "source": [
    "Добавим столбец где будут храниться месяцы звонка"
   ]
  },
  {
   "cell_type": "code",
   "execution_count": 23,
   "metadata": {},
   "outputs": [],
   "source": [
    "calls['call_date_month'] = calls['call_date'].dt.to_period('M')"
   ]
  },
  {
   "cell_type": "markdown",
   "metadata": {},
   "source": [
    "Сгруппируем данные по user_id и месяцу"
   ]
  },
  {
   "cell_type": "code",
   "execution_count": 24,
   "metadata": {},
   "outputs": [],
   "source": [
    "calls_pivot = pd.pivot_table(calls, index=['user_id', 'call_date_month'], values='duration', aggfunc=['count', 'sum']).reset_index()"
   ]
  },
  {
   "cell_type": "code",
   "execution_count": 25,
   "metadata": {},
   "outputs": [],
   "source": [
    "calls_pivot.columns = ['user_id', 'call_date_month', 'call_count_month', 'call_duration_month']"
   ]
  },
  {
   "cell_type": "code",
   "execution_count": 26,
   "metadata": {
    "scrolled": true
   },
   "outputs": [
    {
     "data": {
      "text/html": [
       "<div>\n",
       "<style scoped>\n",
       "    .dataframe tbody tr th:only-of-type {\n",
       "        vertical-align: middle;\n",
       "    }\n",
       "\n",
       "    .dataframe tbody tr th {\n",
       "        vertical-align: top;\n",
       "    }\n",
       "\n",
       "    .dataframe thead th {\n",
       "        text-align: right;\n",
       "    }\n",
       "</style>\n",
       "<table border=\"1\" class=\"dataframe\">\n",
       "  <thead>\n",
       "    <tr style=\"text-align: right;\">\n",
       "      <th></th>\n",
       "      <th>user_id</th>\n",
       "      <th>call_date_month</th>\n",
       "      <th>call_count_month</th>\n",
       "      <th>call_duration_month</th>\n",
       "    </tr>\n",
       "  </thead>\n",
       "  <tbody>\n",
       "    <tr>\n",
       "      <th>0</th>\n",
       "      <td>1000</td>\n",
       "      <td>2018-05</td>\n",
       "      <td>22</td>\n",
       "      <td>150.06</td>\n",
       "    </tr>\n",
       "    <tr>\n",
       "      <th>1</th>\n",
       "      <td>1000</td>\n",
       "      <td>2018-06</td>\n",
       "      <td>43</td>\n",
       "      <td>158.90</td>\n",
       "    </tr>\n",
       "    <tr>\n",
       "      <th>2</th>\n",
       "      <td>1000</td>\n",
       "      <td>2018-07</td>\n",
       "      <td>47</td>\n",
       "      <td>318.80</td>\n",
       "    </tr>\n",
       "    <tr>\n",
       "      <th>3</th>\n",
       "      <td>1000</td>\n",
       "      <td>2018-08</td>\n",
       "      <td>52</td>\n",
       "      <td>389.87</td>\n",
       "    </tr>\n",
       "    <tr>\n",
       "      <th>4</th>\n",
       "      <td>1000</td>\n",
       "      <td>2018-09</td>\n",
       "      <td>58</td>\n",
       "      <td>440.14</td>\n",
       "    </tr>\n",
       "  </tbody>\n",
       "</table>\n",
       "</div>"
      ],
      "text/plain": [
       "   user_id call_date_month  call_count_month  call_duration_month\n",
       "0     1000         2018-05                22               150.06\n",
       "1     1000         2018-06                43               158.90\n",
       "2     1000         2018-07                47               318.80\n",
       "3     1000         2018-08                52               389.87\n",
       "4     1000         2018-09                58               440.14"
      ]
     },
     "execution_count": 26,
     "metadata": {},
     "output_type": "execute_result"
    }
   ],
   "source": [
    "calls_pivot.head()"
   ]
  },
  {
   "cell_type": "markdown",
   "metadata": {},
   "source": [
    "Округлим значения столбца call_duration_month "
   ]
  },
  {
   "cell_type": "code",
   "execution_count": 27,
   "metadata": {},
   "outputs": [],
   "source": [
    "calls_pivot['call_duration_month'] = np.ceil(calls_pivot['call_duration_month'])"
   ]
  },
  {
   "cell_type": "code",
   "execution_count": 28,
   "metadata": {},
   "outputs": [],
   "source": [
    "calls_pivot['call_duration_month'] = calls_pivot['call_duration_month'].astype('int')"
   ]
  },
  {
   "cell_type": "code",
   "execution_count": 29,
   "metadata": {
    "scrolled": false
   },
   "outputs": [
    {
     "data": {
      "text/html": [
       "<div>\n",
       "<style scoped>\n",
       "    .dataframe tbody tr th:only-of-type {\n",
       "        vertical-align: middle;\n",
       "    }\n",
       "\n",
       "    .dataframe tbody tr th {\n",
       "        vertical-align: top;\n",
       "    }\n",
       "\n",
       "    .dataframe thead th {\n",
       "        text-align: right;\n",
       "    }\n",
       "</style>\n",
       "<table border=\"1\" class=\"dataframe\">\n",
       "  <thead>\n",
       "    <tr style=\"text-align: right;\">\n",
       "      <th></th>\n",
       "      <th>user_id</th>\n",
       "      <th>call_date_month</th>\n",
       "      <th>call_count_month</th>\n",
       "      <th>call_duration_month</th>\n",
       "    </tr>\n",
       "  </thead>\n",
       "  <tbody>\n",
       "    <tr>\n",
       "      <th>0</th>\n",
       "      <td>1000</td>\n",
       "      <td>2018-05</td>\n",
       "      <td>22</td>\n",
       "      <td>151</td>\n",
       "    </tr>\n",
       "    <tr>\n",
       "      <th>1</th>\n",
       "      <td>1000</td>\n",
       "      <td>2018-06</td>\n",
       "      <td>43</td>\n",
       "      <td>159</td>\n",
       "    </tr>\n",
       "    <tr>\n",
       "      <th>2</th>\n",
       "      <td>1000</td>\n",
       "      <td>2018-07</td>\n",
       "      <td>47</td>\n",
       "      <td>319</td>\n",
       "    </tr>\n",
       "    <tr>\n",
       "      <th>3</th>\n",
       "      <td>1000</td>\n",
       "      <td>2018-08</td>\n",
       "      <td>52</td>\n",
       "      <td>390</td>\n",
       "    </tr>\n",
       "    <tr>\n",
       "      <th>4</th>\n",
       "      <td>1000</td>\n",
       "      <td>2018-09</td>\n",
       "      <td>58</td>\n",
       "      <td>441</td>\n",
       "    </tr>\n",
       "  </tbody>\n",
       "</table>\n",
       "</div>"
      ],
      "text/plain": [
       "   user_id call_date_month  call_count_month  call_duration_month\n",
       "0     1000         2018-05                22                  151\n",
       "1     1000         2018-06                43                  159\n",
       "2     1000         2018-07                47                  319\n",
       "3     1000         2018-08                52                  390\n",
       "4     1000         2018-09                58                  441"
      ]
     },
     "execution_count": 29,
     "metadata": {},
     "output_type": "execute_result"
    }
   ],
   "source": [
    "calls_pivot.head()"
   ]
  },
  {
   "cell_type": "markdown",
   "metadata": {},
   "source": [
    "Проверим на наличие аномалий"
   ]
  },
  {
   "cell_type": "code",
   "execution_count": 30,
   "metadata": {
    "scrolled": true
   },
   "outputs": [
    {
     "data": {
      "image/png": "[encoded data removed]",
      "text/plain": [
       "<Figure size 432x288 with 1 Axes>"
      ]
     },
     "metadata": {
      "needs_background": "light"
     },
     "output_type": "display_data"
    }
   ],
   "source": [
    "plt.hist(calls_pivot['call_duration_month'], bins=50)\n",
    "plt.xlim([0,1600])\n",
    "plt.show()"
   ]
  },
  {
   "cell_type": "markdown",
   "metadata": {},
   "source": [
    "Есть нулевые значения, хотя мы все значения округляли в большую сторону. Проверим почему так"
   ]
  },
  {
   "cell_type": "code",
   "execution_count": 31,
   "metadata": {
    "scrolled": true
   },
   "outputs": [
    {
     "data": {
      "text/html": [
       "<div>\n",
       "<style scoped>\n",
       "    .dataframe tbody tr th:only-of-type {\n",
       "        vertical-align: middle;\n",
       "    }\n",
       "\n",
       "    .dataframe tbody tr th {\n",
       "        vertical-align: top;\n",
       "    }\n",
       "\n",
       "    .dataframe thead th {\n",
       "        text-align: right;\n",
       "    }\n",
       "</style>\n",
       "<table border=\"1\" class=\"dataframe\">\n",
       "  <thead>\n",
       "    <tr style=\"text-align: right;\">\n",
       "      <th></th>\n",
       "      <th>user_id</th>\n",
       "      <th>call_date_month</th>\n",
       "      <th>call_count_month</th>\n",
       "      <th>call_duration_month</th>\n",
       "    </tr>\n",
       "  </thead>\n",
       "  <tbody>\n",
       "    <tr>\n",
       "      <th>1493</th>\n",
       "      <td>1240</td>\n",
       "      <td>2018-02</td>\n",
       "      <td>2</td>\n",
       "      <td>0</td>\n",
       "    </tr>\n",
       "    <tr>\n",
       "      <th>1605</th>\n",
       "      <td>1257</td>\n",
       "      <td>2018-07</td>\n",
       "      <td>1</td>\n",
       "      <td>0</td>\n",
       "    </tr>\n",
       "    <tr>\n",
       "      <th>1606</th>\n",
       "      <td>1257</td>\n",
       "      <td>2018-08</td>\n",
       "      <td>2</td>\n",
       "      <td>0</td>\n",
       "    </tr>\n",
       "    <tr>\n",
       "      <th>1607</th>\n",
       "      <td>1257</td>\n",
       "      <td>2018-09</td>\n",
       "      <td>1</td>\n",
       "      <td>0</td>\n",
       "    </tr>\n",
       "    <tr>\n",
       "      <th>2318</th>\n",
       "      <td>1373</td>\n",
       "      <td>2018-01</td>\n",
       "      <td>2</td>\n",
       "      <td>0</td>\n",
       "    </tr>\n",
       "    <tr>\n",
       "      <th>2321</th>\n",
       "      <td>1373</td>\n",
       "      <td>2018-04</td>\n",
       "      <td>1</td>\n",
       "      <td>0</td>\n",
       "    </tr>\n",
       "  </tbody>\n",
       "</table>\n",
       "</div>"
      ],
      "text/plain": [
       "      user_id call_date_month  call_count_month  call_duration_month\n",
       "1493     1240         2018-02                 2                    0\n",
       "1605     1257         2018-07                 1                    0\n",
       "1606     1257         2018-08                 2                    0\n",
       "1607     1257         2018-09                 1                    0\n",
       "2318     1373         2018-01                 2                    0\n",
       "2321     1373         2018-04                 1                    0"
      ]
     },
     "execution_count": 31,
     "metadata": {},
     "output_type": "execute_result"
    }
   ],
   "source": [
    "calls_pivot[calls_pivot['call_duration_month'] == 0]"
   ]
  },
  {
   "cell_type": "markdown",
   "metadata": {},
   "source": [
    "Нулевая длительность звонков у пользователей, которые звонили (или им звонили) всего 1-2 раза в месяц. По-моему они просто не брали трубку или находились за границей и были недоступны. Оставим эти значения как есть"
   ]
  },
  {
   "cell_type": "markdown",
   "metadata": {},
   "source": [
    "Добавим в таблицу calls данные из сводной таблицы"
   ]
  },
  {
   "cell_type": "code",
   "execution_count": 32,
   "metadata": {},
   "outputs": [],
   "source": [
    "calls = calls.merge(calls_pivot, on=['user_id', 'call_date_month'], how='left')"
   ]
  },
  {
   "cell_type": "code",
   "execution_count": 33,
   "metadata": {},
   "outputs": [
    {
     "data": {
      "text/html": [
       "<div>\n",
       "<style scoped>\n",
       "    .dataframe tbody tr th:only-of-type {\n",
       "        vertical-align: middle;\n",
       "    }\n",
       "\n",
       "    .dataframe tbody tr th {\n",
       "        vertical-align: top;\n",
       "    }\n",
       "\n",
       "    .dataframe thead th {\n",
       "        text-align: right;\n",
       "    }\n",
       "</style>\n",
       "<table border=\"1\" class=\"dataframe\">\n",
       "  <thead>\n",
       "    <tr style=\"text-align: right;\">\n",
       "      <th></th>\n",
       "      <th>id</th>\n",
       "      <th>call_date</th>\n",
       "      <th>duration</th>\n",
       "      <th>user_id</th>\n",
       "      <th>call_date_month</th>\n",
       "      <th>call_count_month</th>\n",
       "      <th>call_duration_month</th>\n",
       "    </tr>\n",
       "  </thead>\n",
       "  <tbody>\n",
       "    <tr>\n",
       "      <th>0</th>\n",
       "      <td>1000_0</td>\n",
       "      <td>2018-07-25</td>\n",
       "      <td>0.00</td>\n",
       "      <td>1000</td>\n",
       "      <td>2018-07</td>\n",
       "      <td>47</td>\n",
       "      <td>319</td>\n",
       "    </tr>\n",
       "    <tr>\n",
       "      <th>1</th>\n",
       "      <td>1000_1</td>\n",
       "      <td>2018-08-17</td>\n",
       "      <td>0.00</td>\n",
       "      <td>1000</td>\n",
       "      <td>2018-08</td>\n",
       "      <td>52</td>\n",
       "      <td>390</td>\n",
       "    </tr>\n",
       "    <tr>\n",
       "      <th>2</th>\n",
       "      <td>1000_2</td>\n",
       "      <td>2018-06-11</td>\n",
       "      <td>2.85</td>\n",
       "      <td>1000</td>\n",
       "      <td>2018-06</td>\n",
       "      <td>43</td>\n",
       "      <td>159</td>\n",
       "    </tr>\n",
       "    <tr>\n",
       "      <th>3</th>\n",
       "      <td>1000_3</td>\n",
       "      <td>2018-09-21</td>\n",
       "      <td>13.80</td>\n",
       "      <td>1000</td>\n",
       "      <td>2018-09</td>\n",
       "      <td>58</td>\n",
       "      <td>441</td>\n",
       "    </tr>\n",
       "    <tr>\n",
       "      <th>4</th>\n",
       "      <td>1000_4</td>\n",
       "      <td>2018-12-15</td>\n",
       "      <td>5.18</td>\n",
       "      <td>1000</td>\n",
       "      <td>2018-12</td>\n",
       "      <td>46</td>\n",
       "      <td>313</td>\n",
       "    </tr>\n",
       "  </tbody>\n",
       "</table>\n",
       "</div>"
      ],
      "text/plain": [
       "       id  call_date  duration  user_id call_date_month  call_count_month  \\\n",
       "0  1000_0 2018-07-25      0.00     1000         2018-07                47   \n",
       "1  1000_1 2018-08-17      0.00     1000         2018-08                52   \n",
       "2  1000_2 2018-06-11      2.85     1000         2018-06                43   \n",
       "3  1000_3 2018-09-21     13.80     1000         2018-09                58   \n",
       "4  1000_4 2018-12-15      5.18     1000         2018-12                46   \n",
       "\n",
       "   call_duration_month  \n",
       "0                  319  \n",
       "1                  390  \n",
       "2                  159  \n",
       "3                  441  \n",
       "4                  313  "
      ]
     },
     "execution_count": 33,
     "metadata": {},
     "output_type": "execute_result"
    }
   ],
   "source": [
    "calls.head()"
   ]
  },
  {
   "cell_type": "markdown",
   "metadata": {},
   "source": [
    "Проделаем то же самое с количеством сообщений и объемом интернет-трафика"
   ]
  },
  {
   "cell_type": "markdown",
   "metadata": {},
   "source": [
    "## Количество отправленных сообщений по месяцам"
   ]
  },
  {
   "cell_type": "code",
   "execution_count": 34,
   "metadata": {},
   "outputs": [
    {
     "data": {
      "text/html": [
       "<div>\n",
       "<style scoped>\n",
       "    .dataframe tbody tr th:only-of-type {\n",
       "        vertical-align: middle;\n",
       "    }\n",
       "\n",
       "    .dataframe tbody tr th {\n",
       "        vertical-align: top;\n",
       "    }\n",
       "\n",
       "    .dataframe thead th {\n",
       "        text-align: right;\n",
       "    }\n",
       "</style>\n",
       "<table border=\"1\" class=\"dataframe\">\n",
       "  <thead>\n",
       "    <tr style=\"text-align: right;\">\n",
       "      <th></th>\n",
       "      <th>id</th>\n",
       "      <th>message_date</th>\n",
       "      <th>user_id</th>\n",
       "    </tr>\n",
       "  </thead>\n",
       "  <tbody>\n",
       "    <tr>\n",
       "      <th>0</th>\n",
       "      <td>1000_0</td>\n",
       "      <td>2018-06-27</td>\n",
       "      <td>1000</td>\n",
       "    </tr>\n",
       "    <tr>\n",
       "      <th>1</th>\n",
       "      <td>1000_1</td>\n",
       "      <td>2018-10-08</td>\n",
       "      <td>1000</td>\n",
       "    </tr>\n",
       "    <tr>\n",
       "      <th>2</th>\n",
       "      <td>1000_2</td>\n",
       "      <td>2018-08-04</td>\n",
       "      <td>1000</td>\n",
       "    </tr>\n",
       "    <tr>\n",
       "      <th>3</th>\n",
       "      <td>1000_3</td>\n",
       "      <td>2018-06-16</td>\n",
       "      <td>1000</td>\n",
       "    </tr>\n",
       "    <tr>\n",
       "      <th>4</th>\n",
       "      <td>1000_4</td>\n",
       "      <td>2018-12-05</td>\n",
       "      <td>1000</td>\n",
       "    </tr>\n",
       "  </tbody>\n",
       "</table>\n",
       "</div>"
      ],
      "text/plain": [
       "       id message_date  user_id\n",
       "0  1000_0   2018-06-27     1000\n",
       "1  1000_1   2018-10-08     1000\n",
       "2  1000_2   2018-08-04     1000\n",
       "3  1000_3   2018-06-16     1000\n",
       "4  1000_4   2018-12-05     1000"
      ]
     },
     "execution_count": 34,
     "metadata": {},
     "output_type": "execute_result"
    }
   ],
   "source": [
    "messages.head()"
   ]
  },
  {
   "cell_type": "code",
   "execution_count": 35,
   "metadata": {},
   "outputs": [],
   "source": [
    "messages['message_date_month'] = messages['message_date'].dt.to_period('M')"
   ]
  },
  {
   "cell_type": "code",
   "execution_count": 36,
   "metadata": {},
   "outputs": [],
   "source": [
    "messages_pivot = pd.pivot_table(messages, index=['user_id', 'message_date_month'], values='message_date', aggfunc='count').reset_index()"
   ]
  },
  {
   "cell_type": "code",
   "execution_count": 37,
   "metadata": {},
   "outputs": [],
   "source": [
    "messages_pivot.columns = ['user_id', 'message_date_month', 'message_count_month']"
   ]
  },
  {
   "cell_type": "code",
   "execution_count": 38,
   "metadata": {
    "scrolled": true
   },
   "outputs": [
    {
     "data": {
      "text/html": [
       "<div>\n",
       "<style scoped>\n",
       "    .dataframe tbody tr th:only-of-type {\n",
       "        vertical-align: middle;\n",
       "    }\n",
       "\n",
       "    .dataframe tbody tr th {\n",
       "        vertical-align: top;\n",
       "    }\n",
       "\n",
       "    .dataframe thead th {\n",
       "        text-align: right;\n",
       "    }\n",
       "</style>\n",
       "<table border=\"1\" class=\"dataframe\">\n",
       "  <thead>\n",
       "    <tr style=\"text-align: right;\">\n",
       "      <th></th>\n",
       "      <th>user_id</th>\n",
       "      <th>message_date_month</th>\n",
       "      <th>message_count_month</th>\n",
       "    </tr>\n",
       "  </thead>\n",
       "  <tbody>\n",
       "    <tr>\n",
       "      <th>0</th>\n",
       "      <td>1000</td>\n",
       "      <td>2018-05</td>\n",
       "      <td>22</td>\n",
       "    </tr>\n",
       "    <tr>\n",
       "      <th>1</th>\n",
       "      <td>1000</td>\n",
       "      <td>2018-06</td>\n",
       "      <td>60</td>\n",
       "    </tr>\n",
       "    <tr>\n",
       "      <th>2</th>\n",
       "      <td>1000</td>\n",
       "      <td>2018-07</td>\n",
       "      <td>75</td>\n",
       "    </tr>\n",
       "    <tr>\n",
       "      <th>3</th>\n",
       "      <td>1000</td>\n",
       "      <td>2018-08</td>\n",
       "      <td>81</td>\n",
       "    </tr>\n",
       "    <tr>\n",
       "      <th>4</th>\n",
       "      <td>1000</td>\n",
       "      <td>2018-09</td>\n",
       "      <td>57</td>\n",
       "    </tr>\n",
       "  </tbody>\n",
       "</table>\n",
       "</div>"
      ],
      "text/plain": [
       "   user_id message_date_month  message_count_month\n",
       "0     1000            2018-05                   22\n",
       "1     1000            2018-06                   60\n",
       "2     1000            2018-07                   75\n",
       "3     1000            2018-08                   81\n",
       "4     1000            2018-09                   57"
      ]
     },
     "execution_count": 38,
     "metadata": {},
     "output_type": "execute_result"
    }
   ],
   "source": [
    "messages_pivot.head()"
   ]
  },
  {
   "cell_type": "code",
   "execution_count": 39,
   "metadata": {},
   "outputs": [],
   "source": [
    "messages = messages.merge(messages_pivot, on=['user_id', 'message_date_month'], how='left')"
   ]
  },
  {
   "cell_type": "code",
   "execution_count": 40,
   "metadata": {},
   "outputs": [
    {
     "data": {
      "text/html": [
       "<div>\n",
       "<style scoped>\n",
       "    .dataframe tbody tr th:only-of-type {\n",
       "        vertical-align: middle;\n",
       "    }\n",
       "\n",
       "    .dataframe tbody tr th {\n",
       "        vertical-align: top;\n",
       "    }\n",
       "\n",
       "    .dataframe thead th {\n",
       "        text-align: right;\n",
       "    }\n",
       "</style>\n",
       "<table border=\"1\" class=\"dataframe\">\n",
       "  <thead>\n",
       "    <tr style=\"text-align: right;\">\n",
       "      <th></th>\n",
       "      <th>id</th>\n",
       "      <th>message_date</th>\n",
       "      <th>user_id</th>\n",
       "      <th>message_date_month</th>\n",
       "      <th>message_count_month</th>\n",
       "    </tr>\n",
       "  </thead>\n",
       "  <tbody>\n",
       "    <tr>\n",
       "      <th>0</th>\n",
       "      <td>1000_0</td>\n",
       "      <td>2018-06-27</td>\n",
       "      <td>1000</td>\n",
       "      <td>2018-06</td>\n",
       "      <td>60</td>\n",
       "    </tr>\n",
       "    <tr>\n",
       "      <th>1</th>\n",
       "      <td>1000_1</td>\n",
       "      <td>2018-10-08</td>\n",
       "      <td>1000</td>\n",
       "      <td>2018-10</td>\n",
       "      <td>73</td>\n",
       "    </tr>\n",
       "    <tr>\n",
       "      <th>2</th>\n",
       "      <td>1000_2</td>\n",
       "      <td>2018-08-04</td>\n",
       "      <td>1000</td>\n",
       "      <td>2018-08</td>\n",
       "      <td>81</td>\n",
       "    </tr>\n",
       "    <tr>\n",
       "      <th>3</th>\n",
       "      <td>1000_3</td>\n",
       "      <td>2018-06-16</td>\n",
       "      <td>1000</td>\n",
       "      <td>2018-06</td>\n",
       "      <td>60</td>\n",
       "    </tr>\n",
       "    <tr>\n",
       "      <th>4</th>\n",
       "      <td>1000_4</td>\n",
       "      <td>2018-12-05</td>\n",
       "      <td>1000</td>\n",
       "      <td>2018-12</td>\n",
       "      <td>70</td>\n",
       "    </tr>\n",
       "  </tbody>\n",
       "</table>\n",
       "</div>"
      ],
      "text/plain": [
       "       id message_date  user_id message_date_month  message_count_month\n",
       "0  1000_0   2018-06-27     1000            2018-06                   60\n",
       "1  1000_1   2018-10-08     1000            2018-10                   73\n",
       "2  1000_2   2018-08-04     1000            2018-08                   81\n",
       "3  1000_3   2018-06-16     1000            2018-06                   60\n",
       "4  1000_4   2018-12-05     1000            2018-12                   70"
      ]
     },
     "execution_count": 40,
     "metadata": {},
     "output_type": "execute_result"
    }
   ],
   "source": [
    "messages.head()"
   ]
  },
  {
   "cell_type": "markdown",
   "metadata": {},
   "source": [
    "## Oбъем израсходованного интернет-трафика по месяцам"
   ]
  },
  {
   "cell_type": "code",
   "execution_count": 41,
   "metadata": {},
   "outputs": [
    {
     "data": {
      "text/html": [
       "<div>\n",
       "<style scoped>\n",
       "    .dataframe tbody tr th:only-of-type {\n",
       "        vertical-align: middle;\n",
       "    }\n",
       "\n",
       "    .dataframe tbody tr th {\n",
       "        vertical-align: top;\n",
       "    }\n",
       "\n",
       "    .dataframe thead th {\n",
       "        text-align: right;\n",
       "    }\n",
       "</style>\n",
       "<table border=\"1\" class=\"dataframe\">\n",
       "  <thead>\n",
       "    <tr style=\"text-align: right;\">\n",
       "      <th></th>\n",
       "      <th>id</th>\n",
       "      <th>mb_used</th>\n",
       "      <th>session_date</th>\n",
       "      <th>user_id</th>\n",
       "    </tr>\n",
       "  </thead>\n",
       "  <tbody>\n",
       "    <tr>\n",
       "      <th>0</th>\n",
       "      <td>1000_0</td>\n",
       "      <td>112.95</td>\n",
       "      <td>2018-11-25</td>\n",
       "      <td>1000</td>\n",
       "    </tr>\n",
       "    <tr>\n",
       "      <th>1</th>\n",
       "      <td>1000_1</td>\n",
       "      <td>1052.81</td>\n",
       "      <td>2018-09-07</td>\n",
       "      <td>1000</td>\n",
       "    </tr>\n",
       "    <tr>\n",
       "      <th>2</th>\n",
       "      <td>1000_2</td>\n",
       "      <td>1197.26</td>\n",
       "      <td>2018-06-25</td>\n",
       "      <td>1000</td>\n",
       "    </tr>\n",
       "    <tr>\n",
       "      <th>3</th>\n",
       "      <td>1000_3</td>\n",
       "      <td>550.27</td>\n",
       "      <td>2018-08-22</td>\n",
       "      <td>1000</td>\n",
       "    </tr>\n",
       "    <tr>\n",
       "      <th>4</th>\n",
       "      <td>1000_4</td>\n",
       "      <td>302.56</td>\n",
       "      <td>2018-09-24</td>\n",
       "      <td>1000</td>\n",
       "    </tr>\n",
       "  </tbody>\n",
       "</table>\n",
       "</div>"
      ],
      "text/plain": [
       "       id  mb_used session_date  user_id\n",
       "0  1000_0   112.95   2018-11-25     1000\n",
       "1  1000_1  1052.81   2018-09-07     1000\n",
       "2  1000_2  1197.26   2018-06-25     1000\n",
       "3  1000_3   550.27   2018-08-22     1000\n",
       "4  1000_4   302.56   2018-09-24     1000"
      ]
     },
     "execution_count": 41,
     "metadata": {},
     "output_type": "execute_result"
    }
   ],
   "source": [
    "internet.head()"
   ]
  },
  {
   "cell_type": "code",
   "execution_count": 42,
   "metadata": {},
   "outputs": [],
   "source": [
    "internet['session_date_month'] = internet['session_date'].dt.to_period('M')"
   ]
  },
  {
   "cell_type": "code",
   "execution_count": 43,
   "metadata": {},
   "outputs": [],
   "source": [
    "internet_pivot = pd.pivot_table(internet, index=['user_id', 'session_date_month'], values='mb_used', aggfunc='sum').reset_index()"
   ]
  },
  {
   "cell_type": "code",
   "execution_count": 44,
   "metadata": {},
   "outputs": [],
   "source": [
    "internet_pivot.columns = ['user_id', 'session_date_month', 'mb_used_month']"
   ]
  },
  {
   "cell_type": "code",
   "execution_count": 45,
   "metadata": {
    "scrolled": true
   },
   "outputs": [
    {
     "data": {
      "text/html": [
       "<div>\n",
       "<style scoped>\n",
       "    .dataframe tbody tr th:only-of-type {\n",
       "        vertical-align: middle;\n",
       "    }\n",
       "\n",
       "    .dataframe tbody tr th {\n",
       "        vertical-align: top;\n",
       "    }\n",
       "\n",
       "    .dataframe thead th {\n",
       "        text-align: right;\n",
       "    }\n",
       "</style>\n",
       "<table border=\"1\" class=\"dataframe\">\n",
       "  <thead>\n",
       "    <tr style=\"text-align: right;\">\n",
       "      <th></th>\n",
       "      <th>user_id</th>\n",
       "      <th>session_date_month</th>\n",
       "      <th>mb_used_month</th>\n",
       "    </tr>\n",
       "  </thead>\n",
       "  <tbody>\n",
       "    <tr>\n",
       "      <th>0</th>\n",
       "      <td>1000</td>\n",
       "      <td>2018-05</td>\n",
       "      <td>2253.49</td>\n",
       "    </tr>\n",
       "    <tr>\n",
       "      <th>1</th>\n",
       "      <td>1000</td>\n",
       "      <td>2018-06</td>\n",
       "      <td>23233.77</td>\n",
       "    </tr>\n",
       "    <tr>\n",
       "      <th>2</th>\n",
       "      <td>1000</td>\n",
       "      <td>2018-07</td>\n",
       "      <td>14003.64</td>\n",
       "    </tr>\n",
       "    <tr>\n",
       "      <th>3</th>\n",
       "      <td>1000</td>\n",
       "      <td>2018-08</td>\n",
       "      <td>14055.93</td>\n",
       "    </tr>\n",
       "    <tr>\n",
       "      <th>4</th>\n",
       "      <td>1000</td>\n",
       "      <td>2018-09</td>\n",
       "      <td>14568.91</td>\n",
       "    </tr>\n",
       "  </tbody>\n",
       "</table>\n",
       "</div>"
      ],
      "text/plain": [
       "   user_id session_date_month  mb_used_month\n",
       "0     1000            2018-05        2253.49\n",
       "1     1000            2018-06       23233.77\n",
       "2     1000            2018-07       14003.64\n",
       "3     1000            2018-08       14055.93\n",
       "4     1000            2018-09       14568.91"
      ]
     },
     "execution_count": 45,
     "metadata": {},
     "output_type": "execute_result"
    }
   ],
   "source": [
    "internet_pivot.head()"
   ]
  },
  {
   "cell_type": "markdown",
   "metadata": {},
   "source": [
    "Приведем значения столбца mb_used_month в гигабайты. И округлим в большую сторону"
   ]
  },
  {
   "cell_type": "code",
   "execution_count": 46,
   "metadata": {},
   "outputs": [],
   "source": [
    "internet_pivot.rename(columns={'mb_used_month':'gb_used_month'}, inplace=True)"
   ]
  },
  {
   "cell_type": "code",
   "execution_count": 47,
   "metadata": {},
   "outputs": [],
   "source": [
    "internet_pivot['gb_used_month'] = internet_pivot['gb_used_month'] / 1024"
   ]
  },
  {
   "cell_type": "code",
   "execution_count": 48,
   "metadata": {},
   "outputs": [],
   "source": [
    "internet_pivot['gb_used_month'] = np.ceil(internet_pivot['gb_used_month'])"
   ]
  },
  {
   "cell_type": "code",
   "execution_count": 49,
   "metadata": {},
   "outputs": [],
   "source": [
    "internet_pivot['gb_used_month'] = internet_pivot['gb_used_month'].astype('int')"
   ]
  },
  {
   "cell_type": "code",
   "execution_count": 50,
   "metadata": {
    "scrolled": true
   },
   "outputs": [
    {
     "data": {
      "text/html": [
       "<div>\n",
       "<style scoped>\n",
       "    .dataframe tbody tr th:only-of-type {\n",
       "        vertical-align: middle;\n",
       "    }\n",
       "\n",
       "    .dataframe tbody tr th {\n",
       "        vertical-align: top;\n",
       "    }\n",
       "\n",
       "    .dataframe thead th {\n",
       "        text-align: right;\n",
       "    }\n",
       "</style>\n",
       "<table border=\"1\" class=\"dataframe\">\n",
       "  <thead>\n",
       "    <tr style=\"text-align: right;\">\n",
       "      <th></th>\n",
       "      <th>user_id</th>\n",
       "      <th>session_date_month</th>\n",
       "      <th>gb_used_month</th>\n",
       "    </tr>\n",
       "  </thead>\n",
       "  <tbody>\n",
       "    <tr>\n",
       "      <th>0</th>\n",
       "      <td>1000</td>\n",
       "      <td>2018-05</td>\n",
       "      <td>3</td>\n",
       "    </tr>\n",
       "    <tr>\n",
       "      <th>1</th>\n",
       "      <td>1000</td>\n",
       "      <td>2018-06</td>\n",
       "      <td>23</td>\n",
       "    </tr>\n",
       "    <tr>\n",
       "      <th>2</th>\n",
       "      <td>1000</td>\n",
       "      <td>2018-07</td>\n",
       "      <td>14</td>\n",
       "    </tr>\n",
       "    <tr>\n",
       "      <th>3</th>\n",
       "      <td>1000</td>\n",
       "      <td>2018-08</td>\n",
       "      <td>14</td>\n",
       "    </tr>\n",
       "    <tr>\n",
       "      <th>4</th>\n",
       "      <td>1000</td>\n",
       "      <td>2018-09</td>\n",
       "      <td>15</td>\n",
       "    </tr>\n",
       "  </tbody>\n",
       "</table>\n",
       "</div>"
      ],
      "text/plain": [
       "   user_id session_date_month  gb_used_month\n",
       "0     1000            2018-05              3\n",
       "1     1000            2018-06             23\n",
       "2     1000            2018-07             14\n",
       "3     1000            2018-08             14\n",
       "4     1000            2018-09             15"
      ]
     },
     "execution_count": 50,
     "metadata": {},
     "output_type": "execute_result"
    }
   ],
   "source": [
    "internet_pivot.head()"
   ]
  },
  {
   "cell_type": "markdown",
   "metadata": {},
   "source": [
    "Проверим на наличие аномалий"
   ]
  },
  {
   "cell_type": "code",
   "execution_count": 51,
   "metadata": {
    "scrolled": true
   },
   "outputs": [
    {
     "data": {
      "image/png": "[encoded data removed]",
      "text/plain": [
       "<Figure size 432x288 with 1 Axes>"
      ]
     },
     "metadata": {
      "needs_background": "light"
     },
     "output_type": "display_data"
    }
   ],
   "source": [
    "plt.hist(internet_pivot['gb_used_month'], bins=50)\n",
    "plt.xlim([0,50])\n",
    "plt.show()"
   ]
  },
  {
   "cell_type": "markdown",
   "metadata": {},
   "source": [
    "Все таки есть несколько нулевых значений. Проверим сколько их и почему они появились"
   ]
  },
  {
   "cell_type": "code",
   "execution_count": 52,
   "metadata": {
    "scrolled": true
   },
   "outputs": [
    {
     "data": {
      "text/html": [
       "<div>\n",
       "<style scoped>\n",
       "    .dataframe tbody tr th:only-of-type {\n",
       "        vertical-align: middle;\n",
       "    }\n",
       "\n",
       "    .dataframe tbody tr th {\n",
       "        vertical-align: top;\n",
       "    }\n",
       "\n",
       "    .dataframe thead th {\n",
       "        text-align: right;\n",
       "    }\n",
       "</style>\n",
       "<table border=\"1\" class=\"dataframe\">\n",
       "  <thead>\n",
       "    <tr style=\"text-align: right;\">\n",
       "      <th></th>\n",
       "      <th>user_id</th>\n",
       "      <th>session_date_month</th>\n",
       "      <th>gb_used_month</th>\n",
       "    </tr>\n",
       "  </thead>\n",
       "  <tbody>\n",
       "    <tr>\n",
       "      <th>592</th>\n",
       "      <td>1094</td>\n",
       "      <td>2018-05</td>\n",
       "      <td>0</td>\n",
       "    </tr>\n",
       "    <tr>\n",
       "      <th>2298</th>\n",
       "      <td>1365</td>\n",
       "      <td>2018-10</td>\n",
       "      <td>0</td>\n",
       "    </tr>\n",
       "  </tbody>\n",
       "</table>\n",
       "</div>"
      ],
      "text/plain": [
       "      user_id session_date_month  gb_used_month\n",
       "592      1094            2018-05              0\n",
       "2298     1365            2018-10              0"
      ]
     },
     "execution_count": 52,
     "metadata": {},
     "output_type": "execute_result"
    }
   ],
   "source": [
    "internet_pivot[internet_pivot['gb_used_month']==0]"
   ]
  },
  {
   "cell_type": "markdown",
   "metadata": {},
   "source": [
    "Их всего две. Наверное, они в этом месяце совсем не пользовались интернетом. Оставим эти значения как есть"
   ]
  },
  {
   "cell_type": "code",
   "execution_count": 53,
   "metadata": {},
   "outputs": [],
   "source": [
    "internet = internet.merge(internet_pivot, on=['user_id', 'session_date_month'], how='left')"
   ]
  },
  {
   "cell_type": "code",
   "execution_count": 54,
   "metadata": {},
   "outputs": [
    {
     "data": {
      "text/html": [
       "<div>\n",
       "<style scoped>\n",
       "    .dataframe tbody tr th:only-of-type {\n",
       "        vertical-align: middle;\n",
       "    }\n",
       "\n",
       "    .dataframe tbody tr th {\n",
       "        vertical-align: top;\n",
       "    }\n",
       "\n",
       "    .dataframe thead th {\n",
       "        text-align: right;\n",
       "    }\n",
       "</style>\n",
       "<table border=\"1\" class=\"dataframe\">\n",
       "  <thead>\n",
       "    <tr style=\"text-align: right;\">\n",
       "      <th></th>\n",
       "      <th>id</th>\n",
       "      <th>mb_used</th>\n",
       "      <th>session_date</th>\n",
       "      <th>user_id</th>\n",
       "      <th>session_date_month</th>\n",
       "      <th>gb_used_month</th>\n",
       "    </tr>\n",
       "  </thead>\n",
       "  <tbody>\n",
       "    <tr>\n",
       "      <th>0</th>\n",
       "      <td>1000_0</td>\n",
       "      <td>112.95</td>\n",
       "      <td>2018-11-25</td>\n",
       "      <td>1000</td>\n",
       "      <td>2018-11</td>\n",
       "      <td>15</td>\n",
       "    </tr>\n",
       "    <tr>\n",
       "      <th>1</th>\n",
       "      <td>1000_1</td>\n",
       "      <td>1052.81</td>\n",
       "      <td>2018-09-07</td>\n",
       "      <td>1000</td>\n",
       "      <td>2018-09</td>\n",
       "      <td>15</td>\n",
       "    </tr>\n",
       "    <tr>\n",
       "      <th>2</th>\n",
       "      <td>1000_2</td>\n",
       "      <td>1197.26</td>\n",
       "      <td>2018-06-25</td>\n",
       "      <td>1000</td>\n",
       "      <td>2018-06</td>\n",
       "      <td>23</td>\n",
       "    </tr>\n",
       "    <tr>\n",
       "      <th>3</th>\n",
       "      <td>1000_3</td>\n",
       "      <td>550.27</td>\n",
       "      <td>2018-08-22</td>\n",
       "      <td>1000</td>\n",
       "      <td>2018-08</td>\n",
       "      <td>14</td>\n",
       "    </tr>\n",
       "    <tr>\n",
       "      <th>4</th>\n",
       "      <td>1000_4</td>\n",
       "      <td>302.56</td>\n",
       "      <td>2018-09-24</td>\n",
       "      <td>1000</td>\n",
       "      <td>2018-09</td>\n",
       "      <td>15</td>\n",
       "    </tr>\n",
       "  </tbody>\n",
       "</table>\n",
       "</div>"
      ],
      "text/plain": [
       "       id  mb_used session_date  user_id session_date_month  gb_used_month\n",
       "0  1000_0   112.95   2018-11-25     1000            2018-11             15\n",
       "1  1000_1  1052.81   2018-09-07     1000            2018-09             15\n",
       "2  1000_2  1197.26   2018-06-25     1000            2018-06             23\n",
       "3  1000_3   550.27   2018-08-22     1000            2018-08             14\n",
       "4  1000_4   302.56   2018-09-24     1000            2018-09             15"
      ]
     },
     "execution_count": 54,
     "metadata": {},
     "output_type": "execute_result"
    }
   ],
   "source": [
    "internet.head()"
   ]
  },
  {
   "cell_type": "markdown",
   "metadata": {},
   "source": [
    "## Помесячная выручка с каждого пользователя"
   ]
  },
  {
   "cell_type": "markdown",
   "metadata": {},
   "source": [
    "Чтобы добавить помесячную выручку с каждого пользователя создадим новую таблицу df, в которую добавим все важные данные из всех наших таблиц"
   ]
  },
  {
   "cell_type": "code",
   "execution_count": 55,
   "metadata": {
    "scrolled": false
   },
   "outputs": [
    {
     "data": {
      "text/html": [
       "<div>\n",
       "<style scoped>\n",
       "    .dataframe tbody tr th:only-of-type {\n",
       "        vertical-align: middle;\n",
       "    }\n",
       "\n",
       "    .dataframe tbody tr th {\n",
       "        vertical-align: top;\n",
       "    }\n",
       "\n",
       "    .dataframe thead th {\n",
       "        text-align: right;\n",
       "    }\n",
       "</style>\n",
       "<table border=\"1\" class=\"dataframe\">\n",
       "  <thead>\n",
       "    <tr style=\"text-align: right;\">\n",
       "      <th></th>\n",
       "      <th>user_id</th>\n",
       "      <th>age</th>\n",
       "      <th>churn_date</th>\n",
       "      <th>city</th>\n",
       "      <th>first_name</th>\n",
       "      <th>last_name</th>\n",
       "      <th>reg_date</th>\n",
       "      <th>tariff</th>\n",
       "    </tr>\n",
       "  </thead>\n",
       "  <tbody>\n",
       "    <tr>\n",
       "      <th>0</th>\n",
       "      <td>1000</td>\n",
       "      <td>52</td>\n",
       "      <td>NaT</td>\n",
       "      <td>Краснодар</td>\n",
       "      <td>Рафаил</td>\n",
       "      <td>Верещагин</td>\n",
       "      <td>2018-05-25</td>\n",
       "      <td>ultra</td>\n",
       "    </tr>\n",
       "    <tr>\n",
       "      <th>1</th>\n",
       "      <td>1001</td>\n",
       "      <td>41</td>\n",
       "      <td>NaT</td>\n",
       "      <td>Москва</td>\n",
       "      <td>Иван</td>\n",
       "      <td>Ежов</td>\n",
       "      <td>2018-11-01</td>\n",
       "      <td>smart</td>\n",
       "    </tr>\n",
       "    <tr>\n",
       "      <th>2</th>\n",
       "      <td>1002</td>\n",
       "      <td>59</td>\n",
       "      <td>NaT</td>\n",
       "      <td>Стерлитамак</td>\n",
       "      <td>Евгений</td>\n",
       "      <td>Абрамович</td>\n",
       "      <td>2018-06-17</td>\n",
       "      <td>smart</td>\n",
       "    </tr>\n",
       "    <tr>\n",
       "      <th>3</th>\n",
       "      <td>1003</td>\n",
       "      <td>23</td>\n",
       "      <td>NaT</td>\n",
       "      <td>Москва</td>\n",
       "      <td>Белла</td>\n",
       "      <td>Белякова</td>\n",
       "      <td>2018-08-17</td>\n",
       "      <td>ultra</td>\n",
       "    </tr>\n",
       "    <tr>\n",
       "      <th>4</th>\n",
       "      <td>1004</td>\n",
       "      <td>68</td>\n",
       "      <td>NaT</td>\n",
       "      <td>Новокузнецк</td>\n",
       "      <td>Татьяна</td>\n",
       "      <td>Авдеенко</td>\n",
       "      <td>2018-05-14</td>\n",
       "      <td>ultra</td>\n",
       "    </tr>\n",
       "  </tbody>\n",
       "</table>\n",
       "</div>"
      ],
      "text/plain": [
       "   user_id  age churn_date         city first_name  last_name   reg_date  \\\n",
       "0     1000   52        NaT    Краснодар     Рафаил  Верещагин 2018-05-25   \n",
       "1     1001   41        NaT       Москва       Иван       Ежов 2018-11-01   \n",
       "2     1002   59        NaT  Стерлитамак    Евгений  Абрамович 2018-06-17   \n",
       "3     1003   23        NaT       Москва      Белла   Белякова 2018-08-17   \n",
       "4     1004   68        NaT  Новокузнецк    Татьяна   Авдеенко 2018-05-14   \n",
       "\n",
       "  tariff  \n",
       "0  ultra  \n",
       "1  smart  \n",
       "2  smart  \n",
       "3  ultra  \n",
       "4  ultra  "
      ]
     },
     "execution_count": 55,
     "metadata": {},
     "output_type": "execute_result"
    }
   ],
   "source": [
    "users.head()"
   ]
  },
  {
   "cell_type": "code",
   "execution_count": 56,
   "metadata": {},
   "outputs": [],
   "source": [
    "df = users[['user_id', 'age', 'city', 'tariff']]"
   ]
  },
  {
   "cell_type": "code",
   "execution_count": 57,
   "metadata": {
    "scrolled": true
   },
   "outputs": [
    {
     "data": {
      "text/html": [
       "<div>\n",
       "<style scoped>\n",
       "    .dataframe tbody tr th:only-of-type {\n",
       "        vertical-align: middle;\n",
       "    }\n",
       "\n",
       "    .dataframe tbody tr th {\n",
       "        vertical-align: top;\n",
       "    }\n",
       "\n",
       "    .dataframe thead th {\n",
       "        text-align: right;\n",
       "    }\n",
       "</style>\n",
       "<table border=\"1\" class=\"dataframe\">\n",
       "  <thead>\n",
       "    <tr style=\"text-align: right;\">\n",
       "      <th></th>\n",
       "      <th>user_id</th>\n",
       "      <th>age</th>\n",
       "      <th>city</th>\n",
       "      <th>tariff</th>\n",
       "    </tr>\n",
       "  </thead>\n",
       "  <tbody>\n",
       "    <tr>\n",
       "      <th>0</th>\n",
       "      <td>1000</td>\n",
       "      <td>52</td>\n",
       "      <td>Краснодар</td>\n",
       "      <td>ultra</td>\n",
       "    </tr>\n",
       "    <tr>\n",
       "      <th>1</th>\n",
       "      <td>1001</td>\n",
       "      <td>41</td>\n",
       "      <td>Москва</td>\n",
       "      <td>smart</td>\n",
       "    </tr>\n",
       "    <tr>\n",
       "      <th>2</th>\n",
       "      <td>1002</td>\n",
       "      <td>59</td>\n",
       "      <td>Стерлитамак</td>\n",
       "      <td>smart</td>\n",
       "    </tr>\n",
       "    <tr>\n",
       "      <th>3</th>\n",
       "      <td>1003</td>\n",
       "      <td>23</td>\n",
       "      <td>Москва</td>\n",
       "      <td>ultra</td>\n",
       "    </tr>\n",
       "    <tr>\n",
       "      <th>4</th>\n",
       "      <td>1004</td>\n",
       "      <td>68</td>\n",
       "      <td>Новокузнецк</td>\n",
       "      <td>ultra</td>\n",
       "    </tr>\n",
       "  </tbody>\n",
       "</table>\n",
       "</div>"
      ],
      "text/plain": [
       "   user_id  age         city tariff\n",
       "0     1000   52    Краснодар  ultra\n",
       "1     1001   41       Москва  smart\n",
       "2     1002   59  Стерлитамак  smart\n",
       "3     1003   23       Москва  ultra\n",
       "4     1004   68  Новокузнецк  ultra"
      ]
     },
     "execution_count": 57,
     "metadata": {},
     "output_type": "execute_result"
    }
   ],
   "source": [
    "df.head()"
   ]
  },
  {
   "cell_type": "markdown",
   "metadata": {},
   "source": [
    "Чтобы объединение таблиц сработало корректно, переименуем все столбцы с месяцем в одно название - date_month"
   ]
  },
  {
   "cell_type": "code",
   "execution_count": 58,
   "metadata": {},
   "outputs": [],
   "source": [
    "calls_pivot.rename(columns = {'call_date_month':'date_month'}, inplace = True)"
   ]
  },
  {
   "cell_type": "code",
   "execution_count": 59,
   "metadata": {
    "scrolled": false
   },
   "outputs": [
    {
     "data": {
      "text/html": [
       "<div>\n",
       "<style scoped>\n",
       "    .dataframe tbody tr th:only-of-type {\n",
       "        vertical-align: middle;\n",
       "    }\n",
       "\n",
       "    .dataframe tbody tr th {\n",
       "        vertical-align: top;\n",
       "    }\n",
       "\n",
       "    .dataframe thead th {\n",
       "        text-align: right;\n",
       "    }\n",
       "</style>\n",
       "<table border=\"1\" class=\"dataframe\">\n",
       "  <thead>\n",
       "    <tr style=\"text-align: right;\">\n",
       "      <th></th>\n",
       "      <th>user_id</th>\n",
       "      <th>date_month</th>\n",
       "      <th>call_count_month</th>\n",
       "      <th>call_duration_month</th>\n",
       "    </tr>\n",
       "  </thead>\n",
       "  <tbody>\n",
       "    <tr>\n",
       "      <th>0</th>\n",
       "      <td>1000</td>\n",
       "      <td>2018-05</td>\n",
       "      <td>22</td>\n",
       "      <td>151</td>\n",
       "    </tr>\n",
       "    <tr>\n",
       "      <th>1</th>\n",
       "      <td>1000</td>\n",
       "      <td>2018-06</td>\n",
       "      <td>43</td>\n",
       "      <td>159</td>\n",
       "    </tr>\n",
       "    <tr>\n",
       "      <th>2</th>\n",
       "      <td>1000</td>\n",
       "      <td>2018-07</td>\n",
       "      <td>47</td>\n",
       "      <td>319</td>\n",
       "    </tr>\n",
       "    <tr>\n",
       "      <th>3</th>\n",
       "      <td>1000</td>\n",
       "      <td>2018-08</td>\n",
       "      <td>52</td>\n",
       "      <td>390</td>\n",
       "    </tr>\n",
       "    <tr>\n",
       "      <th>4</th>\n",
       "      <td>1000</td>\n",
       "      <td>2018-09</td>\n",
       "      <td>58</td>\n",
       "      <td>441</td>\n",
       "    </tr>\n",
       "  </tbody>\n",
       "</table>\n",
       "</div>"
      ],
      "text/plain": [
       "   user_id date_month  call_count_month  call_duration_month\n",
       "0     1000    2018-05                22                  151\n",
       "1     1000    2018-06                43                  159\n",
       "2     1000    2018-07                47                  319\n",
       "3     1000    2018-08                52                  390\n",
       "4     1000    2018-09                58                  441"
      ]
     },
     "execution_count": 59,
     "metadata": {},
     "output_type": "execute_result"
    }
   ],
   "source": [
    "calls_pivot.head()"
   ]
  },
  {
   "cell_type": "code",
   "execution_count": 60,
   "metadata": {},
   "outputs": [],
   "source": [
    "messages_pivot.rename(columns = {'message_date_month':'date_month'}, inplace = True)"
   ]
  },
  {
   "cell_type": "code",
   "execution_count": 61,
   "metadata": {
    "scrolled": true
   },
   "outputs": [
    {
     "data": {
      "text/html": [
       "<div>\n",
       "<style scoped>\n",
       "    .dataframe tbody tr th:only-of-type {\n",
       "        vertical-align: middle;\n",
       "    }\n",
       "\n",
       "    .dataframe tbody tr th {\n",
       "        vertical-align: top;\n",
       "    }\n",
       "\n",
       "    .dataframe thead th {\n",
       "        text-align: right;\n",
       "    }\n",
       "</style>\n",
       "<table border=\"1\" class=\"dataframe\">\n",
       "  <thead>\n",
       "    <tr style=\"text-align: right;\">\n",
       "      <th></th>\n",
       "      <th>user_id</th>\n",
       "      <th>date_month</th>\n",
       "      <th>message_count_month</th>\n",
       "    </tr>\n",
       "  </thead>\n",
       "  <tbody>\n",
       "    <tr>\n",
       "      <th>0</th>\n",
       "      <td>1000</td>\n",
       "      <td>2018-05</td>\n",
       "      <td>22</td>\n",
       "    </tr>\n",
       "    <tr>\n",
       "      <th>1</th>\n",
       "      <td>1000</td>\n",
       "      <td>2018-06</td>\n",
       "      <td>60</td>\n",
       "    </tr>\n",
       "    <tr>\n",
       "      <th>2</th>\n",
       "      <td>1000</td>\n",
       "      <td>2018-07</td>\n",
       "      <td>75</td>\n",
       "    </tr>\n",
       "    <tr>\n",
       "      <th>3</th>\n",
       "      <td>1000</td>\n",
       "      <td>2018-08</td>\n",
       "      <td>81</td>\n",
       "    </tr>\n",
       "    <tr>\n",
       "      <th>4</th>\n",
       "      <td>1000</td>\n",
       "      <td>2018-09</td>\n",
       "      <td>57</td>\n",
       "    </tr>\n",
       "  </tbody>\n",
       "</table>\n",
       "</div>"
      ],
      "text/plain": [
       "   user_id date_month  message_count_month\n",
       "0     1000    2018-05                   22\n",
       "1     1000    2018-06                   60\n",
       "2     1000    2018-07                   75\n",
       "3     1000    2018-08                   81\n",
       "4     1000    2018-09                   57"
      ]
     },
     "execution_count": 61,
     "metadata": {},
     "output_type": "execute_result"
    }
   ],
   "source": [
    "messages_pivot.head()"
   ]
  },
  {
   "cell_type": "code",
   "execution_count": 62,
   "metadata": {},
   "outputs": [],
   "source": [
    "internet_pivot.rename(columns = {'session_date_month':'date_month'}, inplace = True)"
   ]
  },
  {
   "cell_type": "code",
   "execution_count": 63,
   "metadata": {
    "scrolled": false
   },
   "outputs": [
    {
     "data": {
      "text/html": [
       "<div>\n",
       "<style scoped>\n",
       "    .dataframe tbody tr th:only-of-type {\n",
       "        vertical-align: middle;\n",
       "    }\n",
       "\n",
       "    .dataframe tbody tr th {\n",
       "        vertical-align: top;\n",
       "    }\n",
       "\n",
       "    .dataframe thead th {\n",
       "        text-align: right;\n",
       "    }\n",
       "</style>\n",
       "<table border=\"1\" class=\"dataframe\">\n",
       "  <thead>\n",
       "    <tr style=\"text-align: right;\">\n",
       "      <th></th>\n",
       "      <th>user_id</th>\n",
       "      <th>date_month</th>\n",
       "      <th>gb_used_month</th>\n",
       "    </tr>\n",
       "  </thead>\n",
       "  <tbody>\n",
       "    <tr>\n",
       "      <th>0</th>\n",
       "      <td>1000</td>\n",
       "      <td>2018-05</td>\n",
       "      <td>3</td>\n",
       "    </tr>\n",
       "    <tr>\n",
       "      <th>1</th>\n",
       "      <td>1000</td>\n",
       "      <td>2018-06</td>\n",
       "      <td>23</td>\n",
       "    </tr>\n",
       "    <tr>\n",
       "      <th>2</th>\n",
       "      <td>1000</td>\n",
       "      <td>2018-07</td>\n",
       "      <td>14</td>\n",
       "    </tr>\n",
       "    <tr>\n",
       "      <th>3</th>\n",
       "      <td>1000</td>\n",
       "      <td>2018-08</td>\n",
       "      <td>14</td>\n",
       "    </tr>\n",
       "    <tr>\n",
       "      <th>4</th>\n",
       "      <td>1000</td>\n",
       "      <td>2018-09</td>\n",
       "      <td>15</td>\n",
       "    </tr>\n",
       "  </tbody>\n",
       "</table>\n",
       "</div>"
      ],
      "text/plain": [
       "   user_id date_month  gb_used_month\n",
       "0     1000    2018-05              3\n",
       "1     1000    2018-06             23\n",
       "2     1000    2018-07             14\n",
       "3     1000    2018-08             14\n",
       "4     1000    2018-09             15"
      ]
     },
     "execution_count": 63,
     "metadata": {},
     "output_type": "execute_result"
    }
   ],
   "source": [
    "internet_pivot.head()"
   ]
  },
  {
   "cell_type": "markdown",
   "metadata": {},
   "source": [
    "Теперь можно объединить таблицы)"
   ]
  },
  {
   "cell_type": "code",
   "execution_count": 64,
   "metadata": {},
   "outputs": [],
   "source": [
    "df = df.merge(internet_pivot, on='user_id', how='outer')"
   ]
  },
  {
   "cell_type": "code",
   "execution_count": 65,
   "metadata": {},
   "outputs": [],
   "source": [
    "df = df.merge(calls_pivot, on=['user_id', 'date_month'], how='outer')"
   ]
  },
  {
   "cell_type": "code",
   "execution_count": 66,
   "metadata": {},
   "outputs": [],
   "source": [
    "df = df.merge(messages_pivot, on=['user_id', 'date_month'], how='outer')"
   ]
  },
  {
   "cell_type": "code",
   "execution_count": 67,
   "metadata": {},
   "outputs": [
    {
     "data": {
      "text/html": [
       "<div>\n",
       "<style scoped>\n",
       "    .dataframe tbody tr th:only-of-type {\n",
       "        vertical-align: middle;\n",
       "    }\n",
       "\n",
       "    .dataframe tbody tr th {\n",
       "        vertical-align: top;\n",
       "    }\n",
       "\n",
       "    .dataframe thead th {\n",
       "        text-align: right;\n",
       "    }\n",
       "</style>\n",
       "<table border=\"1\" class=\"dataframe\">\n",
       "  <thead>\n",
       "    <tr style=\"text-align: right;\">\n",
       "      <th></th>\n",
       "      <th>user_id</th>\n",
       "      <th>age</th>\n",
       "      <th>city</th>\n",
       "      <th>tariff</th>\n",
       "      <th>date_month</th>\n",
       "      <th>gb_used_month</th>\n",
       "      <th>call_count_month</th>\n",
       "      <th>call_duration_month</th>\n",
       "      <th>message_count_month</th>\n",
       "    </tr>\n",
       "  </thead>\n",
       "  <tbody>\n",
       "    <tr>\n",
       "      <th>0</th>\n",
       "      <td>1000</td>\n",
       "      <td>52.0</td>\n",
       "      <td>Краснодар</td>\n",
       "      <td>ultra</td>\n",
       "      <td>2018-05</td>\n",
       "      <td>3.0</td>\n",
       "      <td>22.0</td>\n",
       "      <td>151.0</td>\n",
       "      <td>22.0</td>\n",
       "    </tr>\n",
       "    <tr>\n",
       "      <th>1</th>\n",
       "      <td>1000</td>\n",
       "      <td>52.0</td>\n",
       "      <td>Краснодар</td>\n",
       "      <td>ultra</td>\n",
       "      <td>2018-06</td>\n",
       "      <td>23.0</td>\n",
       "      <td>43.0</td>\n",
       "      <td>159.0</td>\n",
       "      <td>60.0</td>\n",
       "    </tr>\n",
       "    <tr>\n",
       "      <th>2</th>\n",
       "      <td>1000</td>\n",
       "      <td>52.0</td>\n",
       "      <td>Краснодар</td>\n",
       "      <td>ultra</td>\n",
       "      <td>2018-07</td>\n",
       "      <td>14.0</td>\n",
       "      <td>47.0</td>\n",
       "      <td>319.0</td>\n",
       "      <td>75.0</td>\n",
       "    </tr>\n",
       "    <tr>\n",
       "      <th>3</th>\n",
       "      <td>1000</td>\n",
       "      <td>52.0</td>\n",
       "      <td>Краснодар</td>\n",
       "      <td>ultra</td>\n",
       "      <td>2018-08</td>\n",
       "      <td>14.0</td>\n",
       "      <td>52.0</td>\n",
       "      <td>390.0</td>\n",
       "      <td>81.0</td>\n",
       "    </tr>\n",
       "    <tr>\n",
       "      <th>4</th>\n",
       "      <td>1000</td>\n",
       "      <td>52.0</td>\n",
       "      <td>Краснодар</td>\n",
       "      <td>ultra</td>\n",
       "      <td>2018-09</td>\n",
       "      <td>15.0</td>\n",
       "      <td>58.0</td>\n",
       "      <td>441.0</td>\n",
       "      <td>57.0</td>\n",
       "    </tr>\n",
       "  </tbody>\n",
       "</table>\n",
       "</div>"
      ],
      "text/plain": [
       "   user_id   age       city tariff date_month  gb_used_month  \\\n",
       "0     1000  52.0  Краснодар  ultra    2018-05            3.0   \n",
       "1     1000  52.0  Краснодар  ultra    2018-06           23.0   \n",
       "2     1000  52.0  Краснодар  ultra    2018-07           14.0   \n",
       "3     1000  52.0  Краснодар  ultra    2018-08           14.0   \n",
       "4     1000  52.0  Краснодар  ultra    2018-09           15.0   \n",
       "\n",
       "   call_count_month  call_duration_month  message_count_month  \n",
       "0              22.0                151.0                 22.0  \n",
       "1              43.0                159.0                 60.0  \n",
       "2              47.0                319.0                 75.0  \n",
       "3              52.0                390.0                 81.0  \n",
       "4              58.0                441.0                 57.0  "
      ]
     },
     "execution_count": 67,
     "metadata": {},
     "output_type": "execute_result"
    }
   ],
   "source": [
    "df.head()"
   ]
  },
  {
   "cell_type": "code",
   "execution_count": 68,
   "metadata": {
    "scrolled": false
   },
   "outputs": [
    {
     "name": "stdout",
     "output_type": "stream",
     "text": [
      "<class 'pandas.core.frame.DataFrame'>\n",
      "Int64Index: 3217 entries, 0 to 3216\n",
      "Data columns (total 9 columns):\n",
      " #   Column               Non-Null Count  Dtype    \n",
      "---  ------               --------------  -----    \n",
      " 0   user_id              3217 non-null   int64    \n",
      " 1   age                  3206 non-null   float64  \n",
      " 2   city                 3206 non-null   object   \n",
      " 3   tariff               3206 non-null   object   \n",
      " 4   date_month           3214 non-null   period[M]\n",
      " 5   gb_used_month        3203 non-null   float64  \n",
      " 6   call_count_month     3174 non-null   float64  \n",
      " 7   call_duration_month  3174 non-null   float64  \n",
      " 8   message_count_month  2717 non-null   float64  \n",
      "dtypes: float64(5), int64(1), object(2), period[M](1)\n",
      "memory usage: 251.3+ KB\n"
     ]
    }
   ],
   "source": [
    "df.info()"
   ]
  },
  {
   "cell_type": "markdown",
   "metadata": {},
   "source": [
    "Избавимся от пропущенных значений, чтобы они нам не мешали"
   ]
  },
  {
   "cell_type": "code",
   "execution_count": 69,
   "metadata": {},
   "outputs": [],
   "source": [
    "df = df.dropna().reset_index(drop=True)"
   ]
  },
  {
   "cell_type": "code",
   "execution_count": 70,
   "metadata": {},
   "outputs": [
    {
     "name": "stdout",
     "output_type": "stream",
     "text": [
      "<class 'pandas.core.frame.DataFrame'>\n",
      "RangeIndex: 2667 entries, 0 to 2666\n",
      "Data columns (total 9 columns):\n",
      " #   Column               Non-Null Count  Dtype    \n",
      "---  ------               --------------  -----    \n",
      " 0   user_id              2667 non-null   int64    \n",
      " 1   age                  2667 non-null   float64  \n",
      " 2   city                 2667 non-null   object   \n",
      " 3   tariff               2667 non-null   object   \n",
      " 4   date_month           2667 non-null   period[M]\n",
      " 5   gb_used_month        2667 non-null   float64  \n",
      " 6   call_count_month     2667 non-null   float64  \n",
      " 7   call_duration_month  2667 non-null   float64  \n",
      " 8   message_count_month  2667 non-null   float64  \n",
      "dtypes: float64(5), int64(1), object(2), period[M](1)\n",
      "memory usage: 187.6+ KB\n"
     ]
    }
   ],
   "source": [
    "df.info()"
   ]
  },
  {
   "cell_type": "markdown",
   "metadata": {},
   "source": [
    "Приведем все столбцы к правильному типу данных"
   ]
  },
  {
   "cell_type": "code",
   "execution_count": 71,
   "metadata": {
    "scrolled": true
   },
   "outputs": [
    {
     "data": {
      "text/html": [
       "<div>\n",
       "<style scoped>\n",
       "    .dataframe tbody tr th:only-of-type {\n",
       "        vertical-align: middle;\n",
       "    }\n",
       "\n",
       "    .dataframe tbody tr th {\n",
       "        vertical-align: top;\n",
       "    }\n",
       "\n",
       "    .dataframe thead th {\n",
       "        text-align: right;\n",
       "    }\n",
       "</style>\n",
       "<table border=\"1\" class=\"dataframe\">\n",
       "  <thead>\n",
       "    <tr style=\"text-align: right;\">\n",
       "      <th></th>\n",
       "      <th>user_id</th>\n",
       "      <th>age</th>\n",
       "      <th>city</th>\n",
       "      <th>tariff</th>\n",
       "      <th>date_month</th>\n",
       "      <th>gb_used_month</th>\n",
       "      <th>call_count_month</th>\n",
       "      <th>call_duration_month</th>\n",
       "      <th>message_count_month</th>\n",
       "    </tr>\n",
       "  </thead>\n",
       "  <tbody>\n",
       "    <tr>\n",
       "      <th>0</th>\n",
       "      <td>1000</td>\n",
       "      <td>52.0</td>\n",
       "      <td>Краснодар</td>\n",
       "      <td>ultra</td>\n",
       "      <td>2018-05</td>\n",
       "      <td>3.0</td>\n",
       "      <td>22.0</td>\n",
       "      <td>151.0</td>\n",
       "      <td>22.0</td>\n",
       "    </tr>\n",
       "    <tr>\n",
       "      <th>1</th>\n",
       "      <td>1000</td>\n",
       "      <td>52.0</td>\n",
       "      <td>Краснодар</td>\n",
       "      <td>ultra</td>\n",
       "      <td>2018-06</td>\n",
       "      <td>23.0</td>\n",
       "      <td>43.0</td>\n",
       "      <td>159.0</td>\n",
       "      <td>60.0</td>\n",
       "    </tr>\n",
       "    <tr>\n",
       "      <th>2</th>\n",
       "      <td>1000</td>\n",
       "      <td>52.0</td>\n",
       "      <td>Краснодар</td>\n",
       "      <td>ultra</td>\n",
       "      <td>2018-07</td>\n",
       "      <td>14.0</td>\n",
       "      <td>47.0</td>\n",
       "      <td>319.0</td>\n",
       "      <td>75.0</td>\n",
       "    </tr>\n",
       "    <tr>\n",
       "      <th>3</th>\n",
       "      <td>1000</td>\n",
       "      <td>52.0</td>\n",
       "      <td>Краснодар</td>\n",
       "      <td>ultra</td>\n",
       "      <td>2018-08</td>\n",
       "      <td>14.0</td>\n",
       "      <td>52.0</td>\n",
       "      <td>390.0</td>\n",
       "      <td>81.0</td>\n",
       "    </tr>\n",
       "    <tr>\n",
       "      <th>4</th>\n",
       "      <td>1000</td>\n",
       "      <td>52.0</td>\n",
       "      <td>Краснодар</td>\n",
       "      <td>ultra</td>\n",
       "      <td>2018-09</td>\n",
       "      <td>15.0</td>\n",
       "      <td>58.0</td>\n",
       "      <td>441.0</td>\n",
       "      <td>57.0</td>\n",
       "    </tr>\n",
       "  </tbody>\n",
       "</table>\n",
       "</div>"
      ],
      "text/plain": [
       "   user_id   age       city tariff date_month  gb_used_month  \\\n",
       "0     1000  52.0  Краснодар  ultra    2018-05            3.0   \n",
       "1     1000  52.0  Краснодар  ultra    2018-06           23.0   \n",
       "2     1000  52.0  Краснодар  ultra    2018-07           14.0   \n",
       "3     1000  52.0  Краснодар  ultra    2018-08           14.0   \n",
       "4     1000  52.0  Краснодар  ultra    2018-09           15.0   \n",
       "\n",
       "   call_count_month  call_duration_month  message_count_month  \n",
       "0              22.0                151.0                 22.0  \n",
       "1              43.0                159.0                 60.0  \n",
       "2              47.0                319.0                 75.0  \n",
       "3              52.0                390.0                 81.0  \n",
       "4              58.0                441.0                 57.0  "
      ]
     },
     "execution_count": 71,
     "metadata": {},
     "output_type": "execute_result"
    }
   ],
   "source": [
    "df.head()"
   ]
  },
  {
   "cell_type": "code",
   "execution_count": 72,
   "metadata": {},
   "outputs": [],
   "source": [
    "float_to_int = ['age', 'gb_used_month', 'call_count_month', 'call_count_month', 'message_count_month', 'call_duration_month']"
   ]
  },
  {
   "cell_type": "code",
   "execution_count": 73,
   "metadata": {},
   "outputs": [],
   "source": [
    "df[float_to_int] = df[float_to_int].astype('int')"
   ]
  },
  {
   "cell_type": "code",
   "execution_count": 74,
   "metadata": {
    "scrolled": true
   },
   "outputs": [
    {
     "data": {
      "text/html": [
       "<div>\n",
       "<style scoped>\n",
       "    .dataframe tbody tr th:only-of-type {\n",
       "        vertical-align: middle;\n",
       "    }\n",
       "\n",
       "    .dataframe tbody tr th {\n",
       "        vertical-align: top;\n",
       "    }\n",
       "\n",
       "    .dataframe thead th {\n",
       "        text-align: right;\n",
       "    }\n",
       "</style>\n",
       "<table border=\"1\" class=\"dataframe\">\n",
       "  <thead>\n",
       "    <tr style=\"text-align: right;\">\n",
       "      <th></th>\n",
       "      <th>user_id</th>\n",
       "      <th>age</th>\n",
       "      <th>city</th>\n",
       "      <th>tariff</th>\n",
       "      <th>date_month</th>\n",
       "      <th>gb_used_month</th>\n",
       "      <th>call_count_month</th>\n",
       "      <th>call_duration_month</th>\n",
       "      <th>message_count_month</th>\n",
       "    </tr>\n",
       "  </thead>\n",
       "  <tbody>\n",
       "    <tr>\n",
       "      <th>0</th>\n",
       "      <td>1000</td>\n",
       "      <td>52</td>\n",
       "      <td>Краснодар</td>\n",
       "      <td>ultra</td>\n",
       "      <td>2018-05</td>\n",
       "      <td>3</td>\n",
       "      <td>22</td>\n",
       "      <td>151</td>\n",
       "      <td>22</td>\n",
       "    </tr>\n",
       "    <tr>\n",
       "      <th>1</th>\n",
       "      <td>1000</td>\n",
       "      <td>52</td>\n",
       "      <td>Краснодар</td>\n",
       "      <td>ultra</td>\n",
       "      <td>2018-06</td>\n",
       "      <td>23</td>\n",
       "      <td>43</td>\n",
       "      <td>159</td>\n",
       "      <td>60</td>\n",
       "    </tr>\n",
       "    <tr>\n",
       "      <th>2</th>\n",
       "      <td>1000</td>\n",
       "      <td>52</td>\n",
       "      <td>Краснодар</td>\n",
       "      <td>ultra</td>\n",
       "      <td>2018-07</td>\n",
       "      <td>14</td>\n",
       "      <td>47</td>\n",
       "      <td>319</td>\n",
       "      <td>75</td>\n",
       "    </tr>\n",
       "    <tr>\n",
       "      <th>3</th>\n",
       "      <td>1000</td>\n",
       "      <td>52</td>\n",
       "      <td>Краснодар</td>\n",
       "      <td>ultra</td>\n",
       "      <td>2018-08</td>\n",
       "      <td>14</td>\n",
       "      <td>52</td>\n",
       "      <td>390</td>\n",
       "      <td>81</td>\n",
       "    </tr>\n",
       "    <tr>\n",
       "      <th>4</th>\n",
       "      <td>1000</td>\n",
       "      <td>52</td>\n",
       "      <td>Краснодар</td>\n",
       "      <td>ultra</td>\n",
       "      <td>2018-09</td>\n",
       "      <td>15</td>\n",
       "      <td>58</td>\n",
       "      <td>441</td>\n",
       "      <td>57</td>\n",
       "    </tr>\n",
       "  </tbody>\n",
       "</table>\n",
       "</div>"
      ],
      "text/plain": [
       "   user_id  age       city tariff date_month  gb_used_month  call_count_month  \\\n",
       "0     1000   52  Краснодар  ultra    2018-05              3                22   \n",
       "1     1000   52  Краснодар  ultra    2018-06             23                43   \n",
       "2     1000   52  Краснодар  ultra    2018-07             14                47   \n",
       "3     1000   52  Краснодар  ultra    2018-08             14                52   \n",
       "4     1000   52  Краснодар  ultra    2018-09             15                58   \n",
       "\n",
       "   call_duration_month  message_count_month  \n",
       "0                  151                   22  \n",
       "1                  159                   60  \n",
       "2                  319                   75  \n",
       "3                  390                   81  \n",
       "4                  441                   57  "
      ]
     },
     "execution_count": 74,
     "metadata": {},
     "output_type": "execute_result"
    }
   ],
   "source": [
    "df.head()"
   ]
  },
  {
   "cell_type": "markdown",
   "metadata": {},
   "source": [
    "Теперь расчитаем помесячную выручку с каждого пользователя и добавим ее в отдельный столбец"
   ]
  },
  {
   "cell_type": "code",
   "execution_count": 75,
   "metadata": {},
   "outputs": [],
   "source": [
    "def calculate_payment(row):\n",
    "    \n",
    "    total_payment = 0 \n",
    "    \n",
    "    tariff = row['tariff']\n",
    "    \n",
    "    call_duration = row['call_duration_month']\n",
    "    message_count = row['message_count_month']\n",
    "    gb_used = row['gb_used_month']\n",
    "    \n",
    "    if tariff == 'ultra':\n",
    "        total_payment += 1950\n",
    "        if call_duration > 3000:\n",
    "            total_payment += (call_duration - 3000) * 1\n",
    "        else:\n",
    "            total_payment += 0\n",
    "        if message_count > 1000:\n",
    "            total_payment += (message_count - 1000) * 1\n",
    "        else:\n",
    "            total_payment += 0\n",
    "        if gb_used > 30:\n",
    "            total_payment += (gb_used - 30) * 150\n",
    "        else:\n",
    "            total_payment += 0\n",
    "    elif tariff == 'smart':\n",
    "        total_payment += 550\n",
    "        if call_duration > 500:\n",
    "            total_payment += (call_duration - 500) * 3\n",
    "        else:\n",
    "            total_payment += 0\n",
    "        if message_count > 50:\n",
    "            total_payment += (message_count - 50) * 3\n",
    "        else:\n",
    "            total_payment += 0\n",
    "        if gb_used > 15:\n",
    "            total_payment += (gb_used - 15) * 200\n",
    "        else:\n",
    "            total_payment += 0\n",
    "    \n",
    "    return total_payment"
   ]
  },
  {
   "cell_type": "code",
   "execution_count": 76,
   "metadata": {},
   "outputs": [],
   "source": [
    "df['total_payment'] = df.apply(calculate_payment, axis=1)"
   ]
  },
  {
   "cell_type": "code",
   "execution_count": 77,
   "metadata": {
    "scrolled": false
   },
   "outputs": [
    {
     "data": {
      "text/html": [
       "<div>\n",
       "<style scoped>\n",
       "    .dataframe tbody tr th:only-of-type {\n",
       "        vertical-align: middle;\n",
       "    }\n",
       "\n",
       "    .dataframe tbody tr th {\n",
       "        vertical-align: top;\n",
       "    }\n",
       "\n",
       "    .dataframe thead th {\n",
       "        text-align: right;\n",
       "    }\n",
       "</style>\n",
       "<table border=\"1\" class=\"dataframe\">\n",
       "  <thead>\n",
       "    <tr style=\"text-align: right;\">\n",
       "      <th></th>\n",
       "      <th>user_id</th>\n",
       "      <th>age</th>\n",
       "      <th>city</th>\n",
       "      <th>tariff</th>\n",
       "      <th>date_month</th>\n",
       "      <th>gb_used_month</th>\n",
       "      <th>call_count_month</th>\n",
       "      <th>call_duration_month</th>\n",
       "      <th>message_count_month</th>\n",
       "      <th>total_payment</th>\n",
       "    </tr>\n",
       "  </thead>\n",
       "  <tbody>\n",
       "    <tr>\n",
       "      <th>0</th>\n",
       "      <td>1000</td>\n",
       "      <td>52</td>\n",
       "      <td>Краснодар</td>\n",
       "      <td>ultra</td>\n",
       "      <td>2018-05</td>\n",
       "      <td>3</td>\n",
       "      <td>22</td>\n",
       "      <td>151</td>\n",
       "      <td>22</td>\n",
       "      <td>1950</td>\n",
       "    </tr>\n",
       "    <tr>\n",
       "      <th>1</th>\n",
       "      <td>1000</td>\n",
       "      <td>52</td>\n",
       "      <td>Краснодар</td>\n",
       "      <td>ultra</td>\n",
       "      <td>2018-06</td>\n",
       "      <td>23</td>\n",
       "      <td>43</td>\n",
       "      <td>159</td>\n",
       "      <td>60</td>\n",
       "      <td>1950</td>\n",
       "    </tr>\n",
       "    <tr>\n",
       "      <th>2</th>\n",
       "      <td>1000</td>\n",
       "      <td>52</td>\n",
       "      <td>Краснодар</td>\n",
       "      <td>ultra</td>\n",
       "      <td>2018-07</td>\n",
       "      <td>14</td>\n",
       "      <td>47</td>\n",
       "      <td>319</td>\n",
       "      <td>75</td>\n",
       "      <td>1950</td>\n",
       "    </tr>\n",
       "    <tr>\n",
       "      <th>3</th>\n",
       "      <td>1000</td>\n",
       "      <td>52</td>\n",
       "      <td>Краснодар</td>\n",
       "      <td>ultra</td>\n",
       "      <td>2018-08</td>\n",
       "      <td>14</td>\n",
       "      <td>52</td>\n",
       "      <td>390</td>\n",
       "      <td>81</td>\n",
       "      <td>1950</td>\n",
       "    </tr>\n",
       "    <tr>\n",
       "      <th>4</th>\n",
       "      <td>1000</td>\n",
       "      <td>52</td>\n",
       "      <td>Краснодар</td>\n",
       "      <td>ultra</td>\n",
       "      <td>2018-09</td>\n",
       "      <td>15</td>\n",
       "      <td>58</td>\n",
       "      <td>441</td>\n",
       "      <td>57</td>\n",
       "      <td>1950</td>\n",
       "    </tr>\n",
       "    <tr>\n",
       "      <th>5</th>\n",
       "      <td>1000</td>\n",
       "      <td>52</td>\n",
       "      <td>Краснодар</td>\n",
       "      <td>ultra</td>\n",
       "      <td>2018-10</td>\n",
       "      <td>15</td>\n",
       "      <td>57</td>\n",
       "      <td>329</td>\n",
       "      <td>73</td>\n",
       "      <td>1950</td>\n",
       "    </tr>\n",
       "    <tr>\n",
       "      <th>6</th>\n",
       "      <td>1000</td>\n",
       "      <td>52</td>\n",
       "      <td>Краснодар</td>\n",
       "      <td>ultra</td>\n",
       "      <td>2018-11</td>\n",
       "      <td>15</td>\n",
       "      <td>43</td>\n",
       "      <td>320</td>\n",
       "      <td>58</td>\n",
       "      <td>1950</td>\n",
       "    </tr>\n",
       "    <tr>\n",
       "      <th>7</th>\n",
       "      <td>1000</td>\n",
       "      <td>52</td>\n",
       "      <td>Краснодар</td>\n",
       "      <td>ultra</td>\n",
       "      <td>2018-12</td>\n",
       "      <td>10</td>\n",
       "      <td>46</td>\n",
       "      <td>313</td>\n",
       "      <td>70</td>\n",
       "      <td>1950</td>\n",
       "    </tr>\n",
       "    <tr>\n",
       "      <th>8</th>\n",
       "      <td>1002</td>\n",
       "      <td>59</td>\n",
       "      <td>Стерлитамак</td>\n",
       "      <td>smart</td>\n",
       "      <td>2018-06</td>\n",
       "      <td>11</td>\n",
       "      <td>15</td>\n",
       "      <td>111</td>\n",
       "      <td>4</td>\n",
       "      <td>550</td>\n",
       "    </tr>\n",
       "    <tr>\n",
       "      <th>9</th>\n",
       "      <td>1002</td>\n",
       "      <td>59</td>\n",
       "      <td>Стерлитамак</td>\n",
       "      <td>smart</td>\n",
       "      <td>2018-07</td>\n",
       "      <td>18</td>\n",
       "      <td>26</td>\n",
       "      <td>205</td>\n",
       "      <td>11</td>\n",
       "      <td>1150</td>\n",
       "    </tr>\n",
       "    <tr>\n",
       "      <th>10</th>\n",
       "      <td>1002</td>\n",
       "      <td>59</td>\n",
       "      <td>Стерлитамак</td>\n",
       "      <td>smart</td>\n",
       "      <td>2018-08</td>\n",
       "      <td>20</td>\n",
       "      <td>42</td>\n",
       "      <td>270</td>\n",
       "      <td>13</td>\n",
       "      <td>1550</td>\n",
       "    </tr>\n",
       "    <tr>\n",
       "      <th>11</th>\n",
       "      <td>1002</td>\n",
       "      <td>59</td>\n",
       "      <td>Стерлитамак</td>\n",
       "      <td>smart</td>\n",
       "      <td>2018-09</td>\n",
       "      <td>17</td>\n",
       "      <td>36</td>\n",
       "      <td>196</td>\n",
       "      <td>4</td>\n",
       "      <td>950</td>\n",
       "    </tr>\n",
       "    <tr>\n",
       "      <th>12</th>\n",
       "      <td>1002</td>\n",
       "      <td>59</td>\n",
       "      <td>Стерлитамак</td>\n",
       "      <td>smart</td>\n",
       "      <td>2018-10</td>\n",
       "      <td>14</td>\n",
       "      <td>33</td>\n",
       "      <td>200</td>\n",
       "      <td>10</td>\n",
       "      <td>550</td>\n",
       "    </tr>\n",
       "    <tr>\n",
       "      <th>13</th>\n",
       "      <td>1002</td>\n",
       "      <td>59</td>\n",
       "      <td>Стерлитамак</td>\n",
       "      <td>smart</td>\n",
       "      <td>2018-11</td>\n",
       "      <td>19</td>\n",
       "      <td>32</td>\n",
       "      <td>229</td>\n",
       "      <td>16</td>\n",
       "      <td>1350</td>\n",
       "    </tr>\n",
       "    <tr>\n",
       "      <th>14</th>\n",
       "      <td>1002</td>\n",
       "      <td>59</td>\n",
       "      <td>Стерлитамак</td>\n",
       "      <td>smart</td>\n",
       "      <td>2018-12</td>\n",
       "      <td>18</td>\n",
       "      <td>33</td>\n",
       "      <td>223</td>\n",
       "      <td>12</td>\n",
       "      <td>1150</td>\n",
       "    </tr>\n",
       "  </tbody>\n",
       "</table>\n",
       "</div>"
      ],
      "text/plain": [
       "    user_id  age         city tariff date_month  gb_used_month  \\\n",
       "0      1000   52    Краснодар  ultra    2018-05              3   \n",
       "1      1000   52    Краснодар  ultra    2018-06             23   \n",
       "2      1000   52    Краснодар  ultra    2018-07             14   \n",
       "3      1000   52    Краснодар  ultra    2018-08             14   \n",
       "4      1000   52    Краснодар  ultra    2018-09             15   \n",
       "5      1000   52    Краснодар  ultra    2018-10             15   \n",
       "6      1000   52    Краснодар  ultra    2018-11             15   \n",
       "7      1000   52    Краснодар  ultra    2018-12             10   \n",
       "8      1002   59  Стерлитамак  smart    2018-06             11   \n",
       "9      1002   59  Стерлитамак  smart    2018-07             18   \n",
       "10     1002   59  Стерлитамак  smart    2018-08             20   \n",
       "11     1002   59  Стерлитамак  smart    2018-09             17   \n",
       "12     1002   59  Стерлитамак  smart    2018-10             14   \n",
       "13     1002   59  Стерлитамак  smart    2018-11             19   \n",
       "14     1002   59  Стерлитамак  smart    2018-12             18   \n",
       "\n",
       "    call_count_month  call_duration_month  message_count_month  total_payment  \n",
       "0                 22                  151                   22           1950  \n",
       "1                 43                  159                   60           1950  \n",
       "2                 47                  319                   75           1950  \n",
       "3                 52                  390                   81           1950  \n",
       "4                 58                  441                   57           1950  \n",
       "5                 57                  329                   73           1950  \n",
       "6                 43                  320                   58           1950  \n",
       "7                 46                  313                   70           1950  \n",
       "8                 15                  111                    4            550  \n",
       "9                 26                  205                   11           1150  \n",
       "10                42                  270                   13           1550  \n",
       "11                36                  196                    4            950  \n",
       "12                33                  200                   10            550  \n",
       "13                32                  229                   16           1350  \n",
       "14                33                  223                   12           1150  "
      ]
     },
     "execution_count": 77,
     "metadata": {},
     "output_type": "execute_result"
    }
   ],
   "source": [
    "df.head(15)"
   ]
  },
  {
   "cell_type": "markdown",
   "metadata": {},
   "source": [
    "Наша таблица готова для дальнейшего исследования и анализа!"
   ]
  },
  {
   "cell_type": "markdown",
   "metadata": {},
   "source": [
    "# Анализ данных"
   ]
  },
  {
   "cell_type": "markdown",
   "metadata": {},
   "source": [
    "Опишем поведение клиентов оператора, исходя из выборки. Поделим нашу таблицу по тарифам"
   ]
  },
  {
   "cell_type": "code",
   "execution_count": 78,
   "metadata": {},
   "outputs": [],
   "source": [
    "df_ultra = df[df['tariff']=='ultra']"
   ]
  },
  {
   "cell_type": "code",
   "execution_count": 79,
   "metadata": {},
   "outputs": [],
   "source": [
    "df_smart = df[df['tariff']=='smart']"
   ]
  },
  {
   "cell_type": "code",
   "execution_count": 80,
   "metadata": {},
   "outputs": [
    {
     "name": "stdout",
     "output_type": "stream",
     "text": [
      "\n",
      "Тариф 'Ultra'\n",
      "Средняя продолжительность звонков в месяц: 526.1595744680851\n",
      "Дисперсия продолжительности звонков в месяц: 86580.86549343598\n",
      "Стандартное отклонение продолжительности звонков в месяц: 294.44210454832034\n",
      "\n"
     ]
    }
   ],
   "source": [
    "print(f'''\n",
    "Тариф 'Ultra'\n",
    "Средняя продолжительность звонков в месяц: {df_ultra[\"call_duration_month\"].mean()}\n",
    "Дисперсия продолжительности звонков в месяц: {np.var(df_ultra[\"call_duration_month\"])}\n",
    "Стандартное отклонение продолжительности звонков в месяц: {np.std(df_ultra[\"call_duration_month\"], ddof=1)}\n",
    "''')"
   ]
  },
  {
   "cell_type": "code",
   "execution_count": 81,
   "metadata": {
    "scrolled": true
   },
   "outputs": [
    {
     "name": "stdout",
     "output_type": "stream",
     "text": [
      "\n",
      "Тариф 'Smart'\n",
      "Средняя продолжительность звонков в месяц: 397.86109660574414\n",
      "Дисперсия продолжительности звонков в месяц: 31513.39480506378\n",
      "Стандартное отклонение продолжительности звонков в месяц: 177.56649313326352\n",
      "\n"
     ]
    }
   ],
   "source": [
    "print(f'''\n",
    "Тариф 'Smart'\n",
    "Средняя продолжительность звонков в месяц: {df_smart[\"call_duration_month\"].mean()}\n",
    "Дисперсия продолжительности звонков в месяц: {np.var(df_smart[\"call_duration_month\"])}\n",
    "Стандартное отклонение продолжительности звонков в месяц: {np.std(df_smart[\"call_duration_month\"], ddof=1)}\n",
    "''')"
   ]
  },
  {
   "cell_type": "code",
   "execution_count": 82,
   "metadata": {
    "scrolled": true
   },
   "outputs": [
    {
     "data": {
      "image/png": "[encoded data removed]",
      "text/plain": [
       "<Figure size 432x288 with 1 Axes>"
      ]
     },
     "metadata": {
      "needs_background": "light"
     },
     "output_type": "display_data"
    }
   ],
   "source": [
    "plt.hist(df_ultra[\"call_duration_month\"], alpha=0.5, label='ultra', bins=30)\n",
    "plt.hist(df_smart[\"call_duration_month\"], alpha=0.5, label='smart', bins=30)\n",
    "plt.xlim([0, 2000])\n",
    "plt.title('Продолжительность звонков в месяц')\n",
    "plt.xlabel('Продолжительность')\n",
    "plt.legend()\n",
    "plt.show()"
   ]
  },
  {
   "cell_type": "markdown",
   "metadata": {},
   "source": [
    "Среднее тарифа Смарт примерно на 100 минут меньше, чем среднее тарифа Ультра. Зато отклонение от среднего меньше. График тарифа Смарт больше скошен в отрицательную сторону, а график Ультра больше в положительную"
   ]
  },
  {
   "cell_type": "code",
   "execution_count": 83,
   "metadata": {},
   "outputs": [
    {
     "name": "stdout",
     "output_type": "stream",
     "text": [
      "\n",
      "Тариф 'Ultra'\n",
      "Среднее кол-во сообщений в месяц: 61.640957446808514\n",
      "Дисперсия кол-ва сообщений в месяц: 2005.8790671684044\n",
      "Стандартное отклонение кол-ва сообщений в месяц: 44.81684963640807\n",
      "\n"
     ]
    }
   ],
   "source": [
    "print(f'''\n",
    "Тариф 'Ultra'\n",
    "Среднее кол-во сообщений в месяц: {df_ultra[\"message_count_month\"].mean()}\n",
    "Дисперсия кол-ва сообщений в месяц: {np.var(df_ultra[\"message_count_month\"])}\n",
    "Стандартное отклонение кол-ва сообщений в месяц: {np.std(df_ultra[\"message_count_month\"], ddof=1)}\n",
    "''')"
   ]
  },
  {
   "cell_type": "code",
   "execution_count": 84,
   "metadata": {},
   "outputs": [
    {
     "name": "stdout",
     "output_type": "stream",
     "text": [
      "\n",
      "Тариф 'Smart'\n",
      "Среднее кол-во сообщений в месяц: 38.76710182767624\n",
      "Дисперсия кол-ва сообщений в месяц: 718.4282649687415\n",
      "Стандартное отклонение кол-ва сообщений в месяц: 26.81051322409091\n",
      "\n"
     ]
    }
   ],
   "source": [
    "print(f'''\n",
    "Тариф 'Smart'\n",
    "Среднее кол-во сообщений в месяц: {df_smart[\"message_count_month\"].mean()}\n",
    "Дисперсия кол-ва сообщений в месяц: {np.var(df_smart[\"message_count_month\"])}\n",
    "Стандартное отклонение кол-ва сообщений в месяц: {np.std(df_smart[\"message_count_month\"], ddof=1)}\n",
    "''')"
   ]
  },
  {
   "cell_type": "code",
   "execution_count": 85,
   "metadata": {
    "scrolled": true
   },
   "outputs": [
    {
     "data": {
      "image/png": "[encoded data removed]",
      "text/plain": [
       "<Figure size 432x288 with 1 Axes>"
      ]
     },
     "metadata": {
      "needs_background": "light"
     },
     "output_type": "display_data"
    }
   ],
   "source": [
    "plt.hist(df_ultra[\"message_count_month\"], alpha=0.5, label='ultra', bins=30)\n",
    "plt.hist(df_smart[\"message_count_month\"], alpha=0.5, label='smart', bins=30)\n",
    "plt.xlim([0, 250])\n",
    "plt.title('Количество сообщений в месяц')\n",
    "plt.xlabel('Количество сообщений')\n",
    "plt.legend()\n",
    "plt.show()"
   ]
  },
  {
   "cell_type": "markdown",
   "metadata": {},
   "source": [
    "Оба графика скошены вправо. Опять же отклонение от среднего в тарифе Ультра больше"
   ]
  },
  {
   "cell_type": "code",
   "execution_count": 86,
   "metadata": {},
   "outputs": [
    {
     "name": "stdout",
     "output_type": "stream",
     "text": [
      "\n",
      "Тариф 'Ultra'\n",
      "Средний объем интернет-трафика (гб) в месяц: 19.618351063829788\n",
      "Дисперсия интернет-трафика (гб) в месяц: 88.01524834483911\n",
      "Стандартное отклонение интернет-трафика (гб) в месяц: 9.387888247422698\n",
      "\n"
     ]
    }
   ],
   "source": [
    "print(f'''\n",
    "Тариф 'Ultra'\n",
    "Средний объем интернет-трафика (гб) в месяц: {df_ultra[\"gb_used_month\"].mean()}\n",
    "Дисперсия интернет-трафика (гб) в месяц: {np.var(df_ultra[\"gb_used_month\"])}\n",
    "Стандартное отклонение интернет-трафика (гб) в месяц: {np.std(df_ultra[\"gb_used_month\"], ddof=1)}\n",
    "''')"
   ]
  },
  {
   "cell_type": "code",
   "execution_count": 87,
   "metadata": {},
   "outputs": [
    {
     "name": "stdout",
     "output_type": "stream",
     "text": [
      "\n",
      "Тариф 'Smart'\n",
      "Средний объем интернет-трафика (гб) в месяц: 16.362924281984334\n",
      "Дисперсия интернет-трафика (гб) в месяц: 32.1466149472699\n",
      "Стандартное отклонение интернет-трафика (гб) в месяц: 5.671279437822774\n",
      "\n"
     ]
    }
   ],
   "source": [
    "print(f'''\n",
    "Тариф 'Smart'\n",
    "Средний объем интернет-трафика (гб) в месяц: {df_smart[\"gb_used_month\"].mean()}\n",
    "Дисперсия интернет-трафика (гб) в месяц: {np.var(df_smart[\"gb_used_month\"])}\n",
    "Стандартное отклонение интернет-трафика (гб) в месяц: {np.std(df_smart[\"gb_used_month\"], ddof=1)}\n",
    "''')"
   ]
  },
  {
   "cell_type": "code",
   "execution_count": 88,
   "metadata": {
    "scrolled": false
   },
   "outputs": [
    {
     "data": {
      "image/png": "[encoded data removed]",
      "text/plain": [
       "<Figure size 432x288 with 1 Axes>"
      ]
     },
     "metadata": {
      "needs_background": "light"
     },
     "output_type": "display_data"
    }
   ],
   "source": [
    "plt.hist(df_ultra[\"gb_used_month\"], alpha=0.5, label='ultra', bins=30)\n",
    "plt.hist(df_smart[\"gb_used_month\"], alpha=0.5, label='smart', bins=30)\n",
    "plt.xlim([0, 50])\n",
    "plt.title('Объем использованного интернет-трафика в месяц')\n",
    "plt.xlabel('Объем интернет-трафика')\n",
    "plt.legend()\n",
    "plt.show()"
   ]
  },
  {
   "cell_type": "markdown",
   "metadata": {},
   "source": [
    "Оба графика распределены нормальным образом. Видны резкие скачки в некоторых значениях. Пользователи обоих тарифов потребляют почти одинаковое кол-во интернет-трафика"
   ]
  },
  {
   "cell_type": "markdown",
   "metadata": {},
   "source": [
    "# Проверка гипотез"
   ]
  },
  {
   "cell_type": "markdown",
   "metadata": {},
   "source": [
    "## Средняя выручка пользователей тарифов «Ультра» и «Смарт» различаются"
   ]
  },
  {
   "cell_type": "markdown",
   "metadata": {},
   "source": [
    "Нулевая гипотеза - средняя выручка пользователей тарифов «Ультра» и «Смарт» не различаются"
   ]
  },
  {
   "cell_type": "markdown",
   "metadata": {},
   "source": [
    "Альтернативная гипотеза - средняя выручка отличается"
   ]
  },
  {
   "cell_type": "code",
   "execution_count": 89,
   "metadata": {},
   "outputs": [
    {
     "name": "stdout",
     "output_type": "stream",
     "text": [
      "p-значение: 1.0087590178304795e-133\n",
      "Отвергаем нулевую гипотезу\n"
     ]
    }
   ],
   "source": [
    "alpha = 0.05  \n",
    "results = st.ttest_ind(df_ultra['total_payment'], df_smart['total_payment'])\n",
    "print('p-значение:', results.pvalue)\n",
    "if results.pvalue < alpha:\n",
    "    print('Отвергаем нулевую гипотезу')\n",
    "else:\n",
    "    print('Не получилось отвергнуть нулевую гипотезу') "
   ]
  },
  {
   "cell_type": "markdown",
   "metadata": {},
   "source": [
    "Вероятность правильности нулевой гипотезы невероятно мала. Значит средняя выручка пользователей тарифов «Ультра» и «Смарт» различаются"
   ]
  },
  {
   "cell_type": "code",
   "execution_count": 90,
   "metadata": {},
   "outputs": [
    {
     "data": {
      "text/plain": [
       "tariff\n",
       "smart    1257.947258\n",
       "ultra    2048.936170\n",
       "Name: total_payment, dtype: float64"
      ]
     },
     "execution_count": 90,
     "metadata": {},
     "output_type": "execute_result"
    }
   ],
   "source": [
    "df.groupby('tariff')['total_payment'].mean()"
   ]
  },
  {
   "cell_type": "markdown",
   "metadata": {},
   "source": [
    "Тариф Ультра приносит больше денег. Что и следовало ожидать"
   ]
  },
  {
   "cell_type": "markdown",
   "metadata": {},
   "source": [
    "## Cредняя выручка пользователей из Москвы отличается от выручки пользователей из других регионов"
   ]
  },
  {
   "cell_type": "markdown",
   "metadata": {},
   "source": [
    "Нулевая гипотеза - средняя выручка пользователей из Москвы не отличается от выручки пользователей из других регионов"
   ]
  },
  {
   "cell_type": "markdown",
   "metadata": {},
   "source": [
    "Альтернативная гипотеза - средняя выручка пользователей из Москвы отличается от выручки пользователей из других регионов"
   ]
  },
  {
   "cell_type": "code",
   "execution_count": 91,
   "metadata": {},
   "outputs": [],
   "source": [
    "df_moscow = df[df['city']=='Москва']"
   ]
  },
  {
   "cell_type": "code",
   "execution_count": 92,
   "metadata": {},
   "outputs": [
    {
     "data": {
      "text/html": [
       "<div>\n",
       "<style scoped>\n",
       "    .dataframe tbody tr th:only-of-type {\n",
       "        vertical-align: middle;\n",
       "    }\n",
       "\n",
       "    .dataframe tbody tr th {\n",
       "        vertical-align: top;\n",
       "    }\n",
       "\n",
       "    .dataframe thead th {\n",
       "        text-align: right;\n",
       "    }\n",
       "</style>\n",
       "<table border=\"1\" class=\"dataframe\">\n",
       "  <thead>\n",
       "    <tr style=\"text-align: right;\">\n",
       "      <th></th>\n",
       "      <th>user_id</th>\n",
       "      <th>age</th>\n",
       "      <th>city</th>\n",
       "      <th>tariff</th>\n",
       "      <th>date_month</th>\n",
       "      <th>gb_used_month</th>\n",
       "      <th>call_count_month</th>\n",
       "      <th>call_duration_month</th>\n",
       "      <th>message_count_month</th>\n",
       "      <th>total_payment</th>\n",
       "    </tr>\n",
       "  </thead>\n",
       "  <tbody>\n",
       "    <tr>\n",
       "      <th>15</th>\n",
       "      <td>1003</td>\n",
       "      <td>23</td>\n",
       "      <td>Москва</td>\n",
       "      <td>ultra</td>\n",
       "      <td>2018-08</td>\n",
       "      <td>9</td>\n",
       "      <td>55</td>\n",
       "      <td>356</td>\n",
       "      <td>37</td>\n",
       "      <td>1950</td>\n",
       "    </tr>\n",
       "    <tr>\n",
       "      <th>16</th>\n",
       "      <td>1003</td>\n",
       "      <td>23</td>\n",
       "      <td>Москва</td>\n",
       "      <td>ultra</td>\n",
       "      <td>2018-09</td>\n",
       "      <td>13</td>\n",
       "      <td>134</td>\n",
       "      <td>905</td>\n",
       "      <td>91</td>\n",
       "      <td>1950</td>\n",
       "    </tr>\n",
       "    <tr>\n",
       "      <th>17</th>\n",
       "      <td>1003</td>\n",
       "      <td>23</td>\n",
       "      <td>Москва</td>\n",
       "      <td>ultra</td>\n",
       "      <td>2018-10</td>\n",
       "      <td>15</td>\n",
       "      <td>108</td>\n",
       "      <td>810</td>\n",
       "      <td>83</td>\n",
       "      <td>1950</td>\n",
       "    </tr>\n",
       "    <tr>\n",
       "      <th>18</th>\n",
       "      <td>1003</td>\n",
       "      <td>23</td>\n",
       "      <td>Москва</td>\n",
       "      <td>ultra</td>\n",
       "      <td>2018-11</td>\n",
       "      <td>12</td>\n",
       "      <td>115</td>\n",
       "      <td>776</td>\n",
       "      <td>94</td>\n",
       "      <td>1950</td>\n",
       "    </tr>\n",
       "    <tr>\n",
       "      <th>19</th>\n",
       "      <td>1003</td>\n",
       "      <td>23</td>\n",
       "      <td>Москва</td>\n",
       "      <td>ultra</td>\n",
       "      <td>2018-12</td>\n",
       "      <td>10</td>\n",
       "      <td>108</td>\n",
       "      <td>756</td>\n",
       "      <td>75</td>\n",
       "      <td>1950</td>\n",
       "    </tr>\n",
       "  </tbody>\n",
       "</table>\n",
       "</div>"
      ],
      "text/plain": [
       "    user_id  age    city tariff date_month  gb_used_month  call_count_month  \\\n",
       "15     1003   23  Москва  ultra    2018-08              9                55   \n",
       "16     1003   23  Москва  ultra    2018-09             13               134   \n",
       "17     1003   23  Москва  ultra    2018-10             15               108   \n",
       "18     1003   23  Москва  ultra    2018-11             12               115   \n",
       "19     1003   23  Москва  ultra    2018-12             10               108   \n",
       "\n",
       "    call_duration_month  message_count_month  total_payment  \n",
       "15                  356                   37           1950  \n",
       "16                  905                   91           1950  \n",
       "17                  810                   83           1950  \n",
       "18                  776                   94           1950  \n",
       "19                  756                   75           1950  "
      ]
     },
     "execution_count": 92,
     "metadata": {},
     "output_type": "execute_result"
    }
   ],
   "source": [
    "df_moscow.head()"
   ]
  },
  {
   "cell_type": "code",
   "execution_count": 93,
   "metadata": {},
   "outputs": [],
   "source": [
    "df_other_city = df[df['city']!='Москва']"
   ]
  },
  {
   "cell_type": "code",
   "execution_count": 94,
   "metadata": {},
   "outputs": [
    {
     "data": {
      "text/html": [
       "<div>\n",
       "<style scoped>\n",
       "    .dataframe tbody tr th:only-of-type {\n",
       "        vertical-align: middle;\n",
       "    }\n",
       "\n",
       "    .dataframe tbody tr th {\n",
       "        vertical-align: top;\n",
       "    }\n",
       "\n",
       "    .dataframe thead th {\n",
       "        text-align: right;\n",
       "    }\n",
       "</style>\n",
       "<table border=\"1\" class=\"dataframe\">\n",
       "  <thead>\n",
       "    <tr style=\"text-align: right;\">\n",
       "      <th></th>\n",
       "      <th>user_id</th>\n",
       "      <th>age</th>\n",
       "      <th>city</th>\n",
       "      <th>tariff</th>\n",
       "      <th>date_month</th>\n",
       "      <th>gb_used_month</th>\n",
       "      <th>call_count_month</th>\n",
       "      <th>call_duration_month</th>\n",
       "      <th>message_count_month</th>\n",
       "      <th>total_payment</th>\n",
       "    </tr>\n",
       "  </thead>\n",
       "  <tbody>\n",
       "    <tr>\n",
       "      <th>0</th>\n",
       "      <td>1000</td>\n",
       "      <td>52</td>\n",
       "      <td>Краснодар</td>\n",
       "      <td>ultra</td>\n",
       "      <td>2018-05</td>\n",
       "      <td>3</td>\n",
       "      <td>22</td>\n",
       "      <td>151</td>\n",
       "      <td>22</td>\n",
       "      <td>1950</td>\n",
       "    </tr>\n",
       "    <tr>\n",
       "      <th>1</th>\n",
       "      <td>1000</td>\n",
       "      <td>52</td>\n",
       "      <td>Краснодар</td>\n",
       "      <td>ultra</td>\n",
       "      <td>2018-06</td>\n",
       "      <td>23</td>\n",
       "      <td>43</td>\n",
       "      <td>159</td>\n",
       "      <td>60</td>\n",
       "      <td>1950</td>\n",
       "    </tr>\n",
       "    <tr>\n",
       "      <th>2</th>\n",
       "      <td>1000</td>\n",
       "      <td>52</td>\n",
       "      <td>Краснодар</td>\n",
       "      <td>ultra</td>\n",
       "      <td>2018-07</td>\n",
       "      <td>14</td>\n",
       "      <td>47</td>\n",
       "      <td>319</td>\n",
       "      <td>75</td>\n",
       "      <td>1950</td>\n",
       "    </tr>\n",
       "    <tr>\n",
       "      <th>3</th>\n",
       "      <td>1000</td>\n",
       "      <td>52</td>\n",
       "      <td>Краснодар</td>\n",
       "      <td>ultra</td>\n",
       "      <td>2018-08</td>\n",
       "      <td>14</td>\n",
       "      <td>52</td>\n",
       "      <td>390</td>\n",
       "      <td>81</td>\n",
       "      <td>1950</td>\n",
       "    </tr>\n",
       "    <tr>\n",
       "      <th>4</th>\n",
       "      <td>1000</td>\n",
       "      <td>52</td>\n",
       "      <td>Краснодар</td>\n",
       "      <td>ultra</td>\n",
       "      <td>2018-09</td>\n",
       "      <td>15</td>\n",
       "      <td>58</td>\n",
       "      <td>441</td>\n",
       "      <td>57</td>\n",
       "      <td>1950</td>\n",
       "    </tr>\n",
       "  </tbody>\n",
       "</table>\n",
       "</div>"
      ],
      "text/plain": [
       "   user_id  age       city tariff date_month  gb_used_month  call_count_month  \\\n",
       "0     1000   52  Краснодар  ultra    2018-05              3                22   \n",
       "1     1000   52  Краснодар  ultra    2018-06             23                43   \n",
       "2     1000   52  Краснодар  ultra    2018-07             14                47   \n",
       "3     1000   52  Краснодар  ultra    2018-08             14                52   \n",
       "4     1000   52  Краснодар  ultra    2018-09             15                58   \n",
       "\n",
       "   call_duration_month  message_count_month  total_payment  \n",
       "0                  151                   22           1950  \n",
       "1                  159                   60           1950  \n",
       "2                  319                   75           1950  \n",
       "3                  390                   81           1950  \n",
       "4                  441                   57           1950  "
      ]
     },
     "execution_count": 94,
     "metadata": {},
     "output_type": "execute_result"
    }
   ],
   "source": [
    "df_other_city.head()"
   ]
  },
  {
   "cell_type": "code",
   "execution_count": 95,
   "metadata": {},
   "outputs": [
    {
     "name": "stdout",
     "output_type": "stream",
     "text": [
      "p-значение: 0.08244090114571569\n",
      "Не получилось отвергнуть нулевую гипотезу\n"
     ]
    }
   ],
   "source": [
    "alpha = 0.05  \n",
    "results = st.ttest_ind(df_moscow['total_payment'], df_other_city['total_payment'])\n",
    "print('p-значение:', results.pvalue)\n",
    "if results.pvalue < alpha:\n",
    "    print('Отвергаем нулевую гипотезу')\n",
    "else:\n",
    "    print('Не получилось отвергнуть нулевую гипотезу') "
   ]
  },
  {
   "cell_type": "markdown",
   "metadata": {},
   "source": [
    "Значит пользователи в Москве приносят почти ту же выручку, как и в других регионах"
   ]
  },
  {
   "cell_type": "code",
   "execution_count": 96,
   "metadata": {},
   "outputs": [
    {
     "data": {
      "text/plain": [
       "1536.8696537678209"
      ]
     },
     "execution_count": 96,
     "metadata": {},
     "output_type": "execute_result"
    }
   ],
   "source": [
    "df_moscow['total_payment'].mean()"
   ]
  },
  {
   "cell_type": "code",
   "execution_count": 97,
   "metadata": {},
   "outputs": [
    {
     "data": {
      "text/plain": [
       "1468.3667279411766"
      ]
     },
     "execution_count": 97,
     "metadata": {},
     "output_type": "execute_result"
    }
   ],
   "source": [
    "df_other_city['total_payment'].mean()"
   ]
  },
  {
   "cell_type": "markdown",
   "metadata": {},
   "source": [
    "В Москве выручка в месяц от одного пользователя в среднем на 68 рублей больше"
   ]
  },
  {
   "cell_type": "markdown",
   "metadata": {},
   "source": [
    "# Какой же тариф лучше?"
   ]
  },
  {
   "cell_type": "code",
   "execution_count": 98,
   "metadata": {
    "scrolled": true
   },
   "outputs": [
    {
     "data": {
      "text/html": [
       "<div>\n",
       "<style scoped>\n",
       "    .dataframe tbody tr th:only-of-type {\n",
       "        vertical-align: middle;\n",
       "    }\n",
       "\n",
       "    .dataframe tbody tr th {\n",
       "        vertical-align: top;\n",
       "    }\n",
       "\n",
       "    .dataframe thead th {\n",
       "        text-align: right;\n",
       "    }\n",
       "</style>\n",
       "<table border=\"1\" class=\"dataframe\">\n",
       "  <thead>\n",
       "    <tr style=\"text-align: right;\">\n",
       "      <th></th>\n",
       "      <th>user_id</th>\n",
       "      <th>age</th>\n",
       "      <th>city</th>\n",
       "      <th>tariff</th>\n",
       "      <th>date_month</th>\n",
       "      <th>gb_used_month</th>\n",
       "      <th>call_count_month</th>\n",
       "      <th>call_duration_month</th>\n",
       "      <th>message_count_month</th>\n",
       "      <th>total_payment</th>\n",
       "    </tr>\n",
       "  </thead>\n",
       "  <tbody>\n",
       "    <tr>\n",
       "      <th>0</th>\n",
       "      <td>1000</td>\n",
       "      <td>52</td>\n",
       "      <td>Краснодар</td>\n",
       "      <td>ultra</td>\n",
       "      <td>2018-05</td>\n",
       "      <td>3</td>\n",
       "      <td>22</td>\n",
       "      <td>151</td>\n",
       "      <td>22</td>\n",
       "      <td>1950</td>\n",
       "    </tr>\n",
       "    <tr>\n",
       "      <th>1</th>\n",
       "      <td>1000</td>\n",
       "      <td>52</td>\n",
       "      <td>Краснодар</td>\n",
       "      <td>ultra</td>\n",
       "      <td>2018-06</td>\n",
       "      <td>23</td>\n",
       "      <td>43</td>\n",
       "      <td>159</td>\n",
       "      <td>60</td>\n",
       "      <td>1950</td>\n",
       "    </tr>\n",
       "    <tr>\n",
       "      <th>2</th>\n",
       "      <td>1000</td>\n",
       "      <td>52</td>\n",
       "      <td>Краснодар</td>\n",
       "      <td>ultra</td>\n",
       "      <td>2018-07</td>\n",
       "      <td>14</td>\n",
       "      <td>47</td>\n",
       "      <td>319</td>\n",
       "      <td>75</td>\n",
       "      <td>1950</td>\n",
       "    </tr>\n",
       "    <tr>\n",
       "      <th>3</th>\n",
       "      <td>1000</td>\n",
       "      <td>52</td>\n",
       "      <td>Краснодар</td>\n",
       "      <td>ultra</td>\n",
       "      <td>2018-08</td>\n",
       "      <td>14</td>\n",
       "      <td>52</td>\n",
       "      <td>390</td>\n",
       "      <td>81</td>\n",
       "      <td>1950</td>\n",
       "    </tr>\n",
       "    <tr>\n",
       "      <th>4</th>\n",
       "      <td>1000</td>\n",
       "      <td>52</td>\n",
       "      <td>Краснодар</td>\n",
       "      <td>ultra</td>\n",
       "      <td>2018-09</td>\n",
       "      <td>15</td>\n",
       "      <td>58</td>\n",
       "      <td>441</td>\n",
       "      <td>57</td>\n",
       "      <td>1950</td>\n",
       "    </tr>\n",
       "  </tbody>\n",
       "</table>\n",
       "</div>"
      ],
      "text/plain": [
       "   user_id  age       city tariff date_month  gb_used_month  call_count_month  \\\n",
       "0     1000   52  Краснодар  ultra    2018-05              3                22   \n",
       "1     1000   52  Краснодар  ultra    2018-06             23                43   \n",
       "2     1000   52  Краснодар  ultra    2018-07             14                47   \n",
       "3     1000   52  Краснодар  ultra    2018-08             14                52   \n",
       "4     1000   52  Краснодар  ultra    2018-09             15                58   \n",
       "\n",
       "   call_duration_month  message_count_month  total_payment  \n",
       "0                  151                   22           1950  \n",
       "1                  159                   60           1950  \n",
       "2                  319                   75           1950  \n",
       "3                  390                   81           1950  \n",
       "4                  441                   57           1950  "
      ]
     },
     "execution_count": 98,
     "metadata": {},
     "output_type": "execute_result"
    }
   ],
   "source": [
    "df.head()"
   ]
  },
  {
   "cell_type": "code",
   "execution_count": 99,
   "metadata": {
    "scrolled": false
   },
   "outputs": [
    {
     "data": {
      "text/plain": [
       "817.5824175824177"
      ]
     },
     "execution_count": 99,
     "metadata": {},
     "output_type": "execute_result"
    }
   ],
   "source": [
    "df.query('tariff == \"ultra\" and total_payment > 1950')['total_payment'].mean() - 1950"
   ]
  },
  {
   "cell_type": "code",
   "execution_count": 100,
   "metadata": {},
   "outputs": [
    {
     "data": {
      "text/plain": [
       "960.1409348441925"
      ]
     },
     "execution_count": 100,
     "metadata": {},
     "output_type": "execute_result"
    }
   ],
   "source": [
    "df.query('tariff == \"smart\" and total_payment > 550')['total_payment'].mean() - 550"
   ]
  },
  {
   "cell_type": "markdown",
   "metadata": {},
   "source": [
    "Тариф Смарт приносит больше дополнительной прибыли!"
   ]
  },
  {
   "cell_type": "code",
   "execution_count": 101,
   "metadata": {},
   "outputs": [
    {
     "data": {
      "text/html": [
       "<div>\n",
       "<style scoped>\n",
       "    .dataframe tbody tr th:only-of-type {\n",
       "        vertical-align: middle;\n",
       "    }\n",
       "\n",
       "    .dataframe tbody tr th {\n",
       "        vertical-align: top;\n",
       "    }\n",
       "\n",
       "    .dataframe thead th {\n",
       "        text-align: right;\n",
       "    }\n",
       "</style>\n",
       "<table border=\"1\" class=\"dataframe\">\n",
       "  <thead>\n",
       "    <tr style=\"text-align: right;\">\n",
       "      <th></th>\n",
       "      <th>count</th>\n",
       "      <th>mean</th>\n",
       "    </tr>\n",
       "    <tr>\n",
       "      <th>tariff</th>\n",
       "      <th></th>\n",
       "      <th></th>\n",
       "    </tr>\n",
       "  </thead>\n",
       "  <tbody>\n",
       "    <tr>\n",
       "      <th>smart</th>\n",
       "      <td>1915</td>\n",
       "      <td>1257.947258</td>\n",
       "    </tr>\n",
       "    <tr>\n",
       "      <th>ultra</th>\n",
       "      <td>752</td>\n",
       "      <td>2048.936170</td>\n",
       "    </tr>\n",
       "  </tbody>\n",
       "</table>\n",
       "</div>"
      ],
      "text/plain": [
       "        count         mean\n",
       "tariff                    \n",
       "smart    1915  1257.947258\n",
       "ultra     752  2048.936170"
      ]
     },
     "execution_count": 101,
     "metadata": {},
     "output_type": "execute_result"
    }
   ],
   "source": [
    "df.groupby('tariff')['total_payment'].agg(['count', 'mean'])"
   ]
  },
  {
   "cell_type": "markdown",
   "metadata": {},
   "source": [
    "Тариф Ультра в среднем приносит в два раза больше выручки. Но тариф Смарт выбирают в 3 раза больше пользователей"
   ]
  },
  {
   "cell_type": "code",
   "execution_count": 102,
   "metadata": {},
   "outputs": [
    {
     "data": {
      "text/plain": [
       "tariff\n",
       "smart    2408969\n",
       "ultra    1540800\n",
       "Name: total_payment, dtype: int64"
      ]
     },
     "execution_count": 102,
     "metadata": {},
     "output_type": "execute_result"
    }
   ],
   "source": [
    "df.groupby('tariff')['total_payment'].sum()"
   ]
  },
  {
   "cell_type": "markdown",
   "metadata": {},
   "source": [
    "В нашей выборке тариф Смарт принес больше выручки"
   ]
  },
  {
   "cell_type": "markdown",
   "metadata": {},
   "source": [
    "# Вывод"
   ]
  },
  {
   "cell_type": "markdown",
   "metadata": {},
   "source": [
    "Мы провели исследование по данным о пользователях компании Мегалайн и проверили статистические гипотезы. И пришли к таким выводам:\n",
    "1. Поведение пользователей обоих тарифов почти не отличается. Они потребляют столько же трафика (звонки, смс, интернет), но среднее тарифа Ультра больше из-за наличия больших выбросов. Некоторые пользователи этого тарифа стараются использовать все имеющиеся преимущества, но все равно почти никто не доходит до лимита. \n",
    "2. Трафик больше всех выходящий за лимит - интернет. Почти половина пользователей тарифа Смарт переходят за границу лимита\n",
    "3. Средняя выручка пользователей тарифов «Ультра» и «Смарт» различаются. Тариф Ультра в среднем приносит в два раза больше выручки.\n",
    "4. Тариф Смарт выбирают в 3 раза больше пользователей.\n",
    "5. Тариф Смарт приносит больше дополнительной прибыли. Примерно на 150 рублей\n",
    "6. Тариф Смарт приносит больше выручки в общем объеме\n",
    "\n",
    "Исходя из наших выводов, тариф Смарт лучше чем Ультра. Его выбирают больше пользователей, он приносит больше доп. выручки и в общем объеме тоже принес больше денег"
   ]
  }
 ],
 "metadata": {
  "ExecuteTimeLog": [
   {
    "duration": 1710,
    "start_time": "2021-08-21T08:17:59.590Z"
   },
   {
    "duration": 253,
    "start_time": "2021-08-21T08:18:47.983Z"
   },
   {
    "duration": 17,
    "start_time": "2021-08-21T08:18:52.534Z"
   },
   {
    "duration": 171,
    "start_time": "2021-08-21T08:19:29.958Z"
   },
   {
    "duration": 13,
    "start_time": "2021-08-21T08:19:37.837Z"
   },
   {
    "duration": 5,
    "start_time": "2021-08-21T08:21:19.314Z"
   },
   {
    "duration": 12,
    "start_time": "2021-08-21T08:21:24.824Z"
   },
   {
    "duration": 117,
    "start_time": "2021-08-21T08:21:56.959Z"
   },
   {
    "duration": 12,
    "start_time": "2021-08-21T08:22:03.564Z"
   },
   {
    "duration": 13,
    "start_time": "2021-08-21T08:22:32.899Z"
   },
   {
    "duration": 11,
    "start_time": "2021-08-21T08:22:49.503Z"
   },
   {
    "duration": 11,
    "start_time": "2021-08-21T08:23:05.623Z"
   },
   {
    "duration": 18,
    "start_time": "2021-08-21T08:23:32.189Z"
   },
   {
    "duration": 12,
    "start_time": "2021-08-21T08:23:38.873Z"
   },
   {
    "duration": 40,
    "start_time": "2021-08-21T08:24:24.219Z"
   },
   {
    "duration": 15,
    "start_time": "2021-08-21T08:24:29.618Z"
   },
   {
    "duration": 1476,
    "start_time": "2021-08-21T08:25:15.610Z"
   },
   {
    "duration": 203,
    "start_time": "2021-08-21T08:25:17.089Z"
   },
   {
    "duration": 19,
    "start_time": "2021-08-21T08:25:17.295Z"
   },
   {
    "duration": 178,
    "start_time": "2021-08-21T08:25:17.317Z"
   },
   {
    "duration": 5,
    "start_time": "2021-08-21T08:25:17.497Z"
   },
   {
    "duration": 17,
    "start_time": "2021-08-21T08:25:17.505Z"
   },
   {
    "duration": 133,
    "start_time": "2021-08-21T08:25:17.525Z"
   },
   {
    "duration": 10,
    "start_time": "2021-08-21T08:25:17.661Z"
   },
   {
    "duration": 29,
    "start_time": "2021-08-21T08:25:17.674Z"
   },
   {
    "duration": 15,
    "start_time": "2021-08-21T08:25:17.705Z"
   },
   {
    "duration": 43,
    "start_time": "2021-08-21T08:25:17.723Z"
   },
   {
    "duration": 16,
    "start_time": "2021-08-21T08:25:17.768Z"
   },
   {
    "duration": 29,
    "start_time": "2021-08-21T08:27:39.939Z"
   },
   {
    "duration": 42,
    "start_time": "2021-08-21T08:33:20.336Z"
   },
   {
    "duration": 12,
    "start_time": "2021-08-21T08:33:26.109Z"
   },
   {
    "duration": 21,
    "start_time": "2021-08-21T08:33:36.444Z"
   },
   {
    "duration": 22,
    "start_time": "2021-08-21T08:34:00.460Z"
   },
   {
    "duration": 37,
    "start_time": "2021-08-21T08:35:54.234Z"
   },
   {
    "duration": 13,
    "start_time": "2021-08-21T08:35:58.969Z"
   },
   {
    "duration": 17,
    "start_time": "2021-08-21T08:36:05.613Z"
   },
   {
    "duration": 10,
    "start_time": "2021-08-21T08:36:38.978Z"
   },
   {
    "duration": 485,
    "start_time": "2021-08-21T08:36:45.078Z"
   },
   {
    "duration": 21,
    "start_time": "2021-08-21T08:36:48.746Z"
   },
   {
    "duration": 28,
    "start_time": "2021-08-21T08:37:16.803Z"
   },
   {
    "duration": 15,
    "start_time": "2021-08-21T08:37:30.095Z"
   },
   {
    "duration": 10,
    "start_time": "2021-08-21T08:37:56.698Z"
   },
   {
    "duration": 9,
    "start_time": "2021-08-21T08:38:15.419Z"
   },
   {
    "duration": 8,
    "start_time": "2021-08-21T08:39:40.950Z"
   },
   {
    "duration": 7,
    "start_time": "2021-08-21T08:39:46.624Z"
   },
   {
    "duration": 7,
    "start_time": "2021-08-21T08:39:50.141Z"
   },
   {
    "duration": 6,
    "start_time": "2021-08-21T08:39:56.919Z"
   },
   {
    "duration": 20,
    "start_time": "2021-08-21T08:40:16.590Z"
   },
   {
    "duration": 22,
    "start_time": "2021-08-21T08:40:20.359Z"
   },
   {
    "duration": 10,
    "start_time": "2021-08-21T08:41:20.846Z"
   },
   {
    "duration": 7,
    "start_time": "2021-08-21T08:41:36.899Z"
   },
   {
    "duration": 7,
    "start_time": "2021-08-21T08:42:57.148Z"
   },
   {
    "duration": 9,
    "start_time": "2021-08-21T08:43:03.201Z"
   },
   {
    "duration": 21,
    "start_time": "2021-08-21T08:43:11.150Z"
   },
   {
    "duration": 10,
    "start_time": "2021-08-21T08:43:25.986Z"
   },
   {
    "duration": 7,
    "start_time": "2021-08-21T08:43:36.499Z"
   },
   {
    "duration": 11,
    "start_time": "2021-08-21T08:43:42.526Z"
   },
   {
    "duration": 1444,
    "start_time": "2021-08-21T08:44:08.046Z"
   },
   {
    "duration": 199,
    "start_time": "2021-08-21T08:44:09.493Z"
   },
   {
    "duration": 16,
    "start_time": "2021-08-21T08:44:09.695Z"
   },
   {
    "duration": 234,
    "start_time": "2021-08-21T08:44:09.715Z"
   },
   {
    "duration": 6,
    "start_time": "2021-08-21T08:44:09.952Z"
   },
   {
    "duration": 31,
    "start_time": "2021-08-21T08:44:09.961Z"
   },
   {
    "duration": 126,
    "start_time": "2021-08-21T08:44:09.995Z"
   },
   {
    "duration": 12,
    "start_time": "2021-08-21T08:44:10.126Z"
   },
   {
    "duration": 21,
    "start_time": "2021-08-21T08:44:10.141Z"
   },
   {
    "duration": 24,
    "start_time": "2021-08-21T08:44:10.164Z"
   },
   {
    "duration": 43,
    "start_time": "2021-08-21T08:44:10.191Z"
   },
   {
    "duration": 18,
    "start_time": "2021-08-21T08:44:10.237Z"
   },
   {
    "duration": 28,
    "start_time": "2021-08-21T08:44:10.258Z"
   },
   {
    "duration": 42,
    "start_time": "2021-08-21T08:44:10.289Z"
   },
   {
    "duration": 22,
    "start_time": "2021-08-21T08:44:10.334Z"
   },
   {
    "duration": 52,
    "start_time": "2021-08-21T08:44:10.358Z"
   },
   {
    "duration": 18,
    "start_time": "2021-08-21T08:44:10.412Z"
   },
   {
    "duration": 52,
    "start_time": "2021-08-21T08:44:10.433Z"
   },
   {
    "duration": 9,
    "start_time": "2021-08-21T08:44:10.488Z"
   },
   {
    "duration": 10,
    "start_time": "2021-08-21T08:44:10.499Z"
   },
   {
    "duration": 7,
    "start_time": "2021-08-21T08:44:10.512Z"
   },
   {
    "duration": 97,
    "start_time": "2021-08-21T09:05:26.431Z"
   },
   {
    "duration": 22,
    "start_time": "2021-08-21T09:05:29.213Z"
   },
   {
    "duration": 342,
    "start_time": "2021-08-21T09:07:11.077Z"
   },
   {
    "duration": 24,
    "start_time": "2021-08-21T09:07:15.669Z"
   },
   {
    "duration": 1486,
    "start_time": "2021-08-21T09:11:25.963Z"
   },
   {
    "duration": 206,
    "start_time": "2021-08-21T09:11:27.452Z"
   },
   {
    "duration": 26,
    "start_time": "2021-08-21T09:11:27.661Z"
   },
   {
    "duration": 167,
    "start_time": "2021-08-21T09:11:27.690Z"
   },
   {
    "duration": 6,
    "start_time": "2021-08-21T09:11:27.859Z"
   },
   {
    "duration": 24,
    "start_time": "2021-08-21T09:11:27.867Z"
   },
   {
    "duration": 123,
    "start_time": "2021-08-21T09:11:27.894Z"
   },
   {
    "duration": 11,
    "start_time": "2021-08-21T09:11:28.021Z"
   },
   {
    "duration": 22,
    "start_time": "2021-08-21T09:11:28.035Z"
   },
   {
    "duration": 19,
    "start_time": "2021-08-21T09:11:28.060Z"
   },
   {
    "duration": 38,
    "start_time": "2021-08-21T09:11:28.085Z"
   },
   {
    "duration": 21,
    "start_time": "2021-08-21T09:11:28.126Z"
   },
   {
    "duration": 34,
    "start_time": "2021-08-21T09:11:28.150Z"
   },
   {
    "duration": 41,
    "start_time": "2021-08-21T09:11:28.187Z"
   },
   {
    "duration": 31,
    "start_time": "2021-08-21T09:11:28.233Z"
   },
   {
    "duration": 33,
    "start_time": "2021-08-21T09:11:28.286Z"
   },
   {
    "duration": 19,
    "start_time": "2021-08-21T09:11:28.322Z"
   },
   {
    "duration": 56,
    "start_time": "2021-08-21T09:11:28.344Z"
   },
   {
    "duration": 10,
    "start_time": "2021-08-21T09:11:28.402Z"
   },
   {
    "duration": 9,
    "start_time": "2021-08-21T09:11:28.414Z"
   },
   {
    "duration": 10,
    "start_time": "2021-08-21T09:11:28.425Z"
   },
   {
    "duration": 11,
    "start_time": "2021-08-21T09:14:57.093Z"
   },
   {
    "duration": 9,
    "start_time": "2021-08-21T09:16:51.582Z"
   },
   {
    "duration": 8,
    "start_time": "2021-08-21T09:16:55.273Z"
   },
   {
    "duration": 9,
    "start_time": "2021-08-21T09:17:04.398Z"
   },
   {
    "duration": 26,
    "start_time": "2021-08-21T09:19:11.053Z"
   },
   {
    "duration": 35,
    "start_time": "2021-08-21T09:25:10.747Z"
   },
   {
    "duration": 33,
    "start_time": "2021-08-21T09:25:18.940Z"
   },
   {
    "duration": 14,
    "start_time": "2021-08-21T09:25:27.717Z"
   },
   {
    "duration": 46,
    "start_time": "2021-08-21T09:26:57.256Z"
   },
   {
    "duration": 110,
    "start_time": "2021-08-21T09:29:44.221Z"
   },
   {
    "duration": -640,
    "start_time": "2021-08-21T09:30:14.321Z"
   },
   {
    "duration": 116,
    "start_time": "2021-08-21T09:30:14.450Z"
   },
   {
    "duration": 109,
    "start_time": "2021-08-21T09:30:54.331Z"
   },
   {
    "duration": 114,
    "start_time": "2021-08-21T09:31:05.251Z"
   },
   {
    "duration": 93,
    "start_time": "2021-08-21T09:38:27.462Z"
   },
   {
    "duration": 88,
    "start_time": "2021-08-21T09:40:14.121Z"
   },
   {
    "duration": 93,
    "start_time": "2021-08-21T09:40:22.216Z"
   },
   {
    "duration": 108,
    "start_time": "2021-08-21T09:40:48.500Z"
   },
   {
    "duration": 89,
    "start_time": "2021-08-21T09:41:24.618Z"
   },
   {
    "duration": 5,
    "start_time": "2021-08-21T09:41:43.751Z"
   },
   {
    "duration": 12,
    "start_time": "2021-08-21T09:41:54.598Z"
   },
   {
    "duration": 6,
    "start_time": "2021-08-21T09:42:17.703Z"
   },
   {
    "duration": 9,
    "start_time": "2021-08-21T09:42:23.412Z"
   },
   {
    "duration": 22,
    "start_time": "2021-08-21T09:42:32.678Z"
   },
   {
    "duration": 4,
    "start_time": "2021-08-21T09:43:47.498Z"
   },
   {
    "duration": 12,
    "start_time": "2021-08-21T09:43:56.793Z"
   },
   {
    "duration": 23,
    "start_time": "2021-08-21T09:45:11.647Z"
   },
   {
    "duration": 118,
    "start_time": "2021-08-21T09:45:54.415Z"
   },
   {
    "duration": 96,
    "start_time": "2021-08-21T09:46:01.403Z"
   },
   {
    "duration": 4,
    "start_time": "2021-08-21T09:46:30.157Z"
   },
   {
    "duration": 12,
    "start_time": "2021-08-21T09:46:37.020Z"
   },
   {
    "duration": 1507,
    "start_time": "2021-08-21T09:46:47.853Z"
   },
   {
    "duration": 208,
    "start_time": "2021-08-21T09:46:49.362Z"
   },
   {
    "duration": 27,
    "start_time": "2021-08-21T09:46:49.574Z"
   },
   {
    "duration": 173,
    "start_time": "2021-08-21T09:46:49.603Z"
   },
   {
    "duration": 8,
    "start_time": "2021-08-21T09:46:49.778Z"
   },
   {
    "duration": 26,
    "start_time": "2021-08-21T09:46:49.788Z"
   },
   {
    "duration": 119,
    "start_time": "2021-08-21T09:46:49.817Z"
   },
   {
    "duration": 11,
    "start_time": "2021-08-21T09:46:49.939Z"
   },
   {
    "duration": 21,
    "start_time": "2021-08-21T09:46:49.954Z"
   },
   {
    "duration": 17,
    "start_time": "2021-08-21T09:46:49.979Z"
   },
   {
    "duration": 62,
    "start_time": "2021-08-21T09:46:49.998Z"
   },
   {
    "duration": 16,
    "start_time": "2021-08-21T09:46:50.062Z"
   },
   {
    "duration": 31,
    "start_time": "2021-08-21T09:46:50.081Z"
   },
   {
    "duration": 43,
    "start_time": "2021-08-21T09:46:50.114Z"
   },
   {
    "duration": 33,
    "start_time": "2021-08-21T09:46:50.159Z"
   },
   {
    "duration": 33,
    "start_time": "2021-08-21T09:46:50.195Z"
   },
   {
    "duration": 19,
    "start_time": "2021-08-21T09:46:50.232Z"
   },
   {
    "duration": 53,
    "start_time": "2021-08-21T09:46:50.254Z"
   },
   {
    "duration": 10,
    "start_time": "2021-08-21T09:46:50.310Z"
   },
   {
    "duration": 9,
    "start_time": "2021-08-21T09:46:50.322Z"
   },
   {
    "duration": 10,
    "start_time": "2021-08-21T09:46:50.334Z"
   },
   {
    "duration": 48,
    "start_time": "2021-08-21T09:46:50.347Z"
   },
   {
    "duration": 30,
    "start_time": "2021-08-21T09:46:50.398Z"
   },
   {
    "duration": 31,
    "start_time": "2021-08-21T09:46:50.430Z"
   },
   {
    "duration": 64,
    "start_time": "2021-08-21T09:46:50.464Z"
   },
   {
    "duration": 117,
    "start_time": "2021-08-21T09:46:50.530Z"
   },
   {
    "duration": 4,
    "start_time": "2021-08-21T09:46:50.651Z"
   },
   {
    "duration": 29,
    "start_time": "2021-08-21T09:46:50.658Z"
   },
   {
    "duration": 22,
    "start_time": "2021-08-21T09:48:05.096Z"
   },
   {
    "duration": 12,
    "start_time": "2021-08-21T09:49:00.226Z"
   },
   {
    "duration": 582,
    "start_time": "2021-08-21T09:52:22.253Z"
   },
   {
    "duration": 4,
    "start_time": "2021-08-21T09:53:02.198Z"
   },
   {
    "duration": 14,
    "start_time": "2021-08-21T09:53:03.098Z"
   },
   {
    "duration": 55,
    "start_time": "2021-08-21T09:53:05.843Z"
   },
   {
    "duration": 16,
    "start_time": "2021-08-21T09:53:10.503Z"
   },
   {
    "duration": 1457,
    "start_time": "2021-08-21T09:53:54.610Z"
   },
   {
    "duration": 213,
    "start_time": "2021-08-21T09:53:56.070Z"
   },
   {
    "duration": 16,
    "start_time": "2021-08-21T09:53:56.286Z"
   },
   {
    "duration": 177,
    "start_time": "2021-08-21T09:53:56.304Z"
   },
   {
    "duration": 5,
    "start_time": "2021-08-21T09:53:56.484Z"
   },
   {
    "duration": 18,
    "start_time": "2021-08-21T09:53:56.491Z"
   },
   {
    "duration": 128,
    "start_time": "2021-08-21T09:53:56.512Z"
   },
   {
    "duration": 10,
    "start_time": "2021-08-21T09:53:56.644Z"
   },
   {
    "duration": 22,
    "start_time": "2021-08-21T09:53:56.657Z"
   },
   {
    "duration": 13,
    "start_time": "2021-08-21T09:53:56.686Z"
   },
   {
    "duration": 43,
    "start_time": "2021-08-21T09:53:56.702Z"
   },
   {
    "duration": 16,
    "start_time": "2021-08-21T09:53:56.748Z"
   },
   {
    "duration": 38,
    "start_time": "2021-08-21T09:53:56.767Z"
   },
   {
    "duration": 43,
    "start_time": "2021-08-21T09:53:56.807Z"
   },
   {
    "duration": 35,
    "start_time": "2021-08-21T09:53:56.852Z"
   },
   {
    "duration": 33,
    "start_time": "2021-08-21T09:53:56.890Z"
   },
   {
    "duration": 19,
    "start_time": "2021-08-21T09:53:56.926Z"
   },
   {
    "duration": 57,
    "start_time": "2021-08-21T09:53:56.947Z"
   },
   {
    "duration": 8,
    "start_time": "2021-08-21T09:53:57.007Z"
   },
   {
    "duration": 9,
    "start_time": "2021-08-21T09:53:57.018Z"
   },
   {
    "duration": 8,
    "start_time": "2021-08-21T09:53:57.029Z"
   },
   {
    "duration": 48,
    "start_time": "2021-08-21T09:53:57.039Z"
   },
   {
    "duration": 25,
    "start_time": "2021-08-21T09:53:57.091Z"
   },
   {
    "duration": 33,
    "start_time": "2021-08-21T09:53:57.118Z"
   },
   {
    "duration": 120,
    "start_time": "2021-08-21T09:53:57.153Z"
   },
   {
    "duration": 10,
    "start_time": "2021-08-21T09:53:57.276Z"
   },
   {
    "duration": 18,
    "start_time": "2021-08-21T09:53:57.288Z"
   },
   {
    "duration": 14,
    "start_time": "2021-08-21T09:53:57.309Z"
   },
   {
    "duration": 82,
    "start_time": "2021-08-21T09:53:57.325Z"
   },
   {
    "duration": 15,
    "start_time": "2021-08-21T09:53:57.410Z"
   },
   {
    "duration": 31,
    "start_time": "2021-08-21T09:54:41.352Z"
   },
   {
    "duration": 9,
    "start_time": "2021-08-21T09:56:28.013Z"
   },
   {
    "duration": 12,
    "start_time": "2021-08-21T09:56:31.494Z"
   },
   {
    "duration": 32,
    "start_time": "2021-08-21T09:57:32.717Z"
   },
   {
    "duration": 12,
    "start_time": "2021-08-21T09:57:41.481Z"
   },
   {
    "duration": 38,
    "start_time": "2021-08-21T09:59:43.679Z"
   },
   {
    "duration": 39,
    "start_time": "2021-08-21T10:00:04.539Z"
   },
   {
    "duration": 27,
    "start_time": "2021-08-21T10:01:05.371Z"
   },
   {
    "duration": 4,
    "start_time": "2021-08-21T10:02:29.635Z"
   },
   {
    "duration": 12,
    "start_time": "2021-08-21T10:02:37.037Z"
   },
   {
    "duration": 12,
    "start_time": "2021-08-21T10:02:45.018Z"
   },
   {
    "duration": 607,
    "start_time": "2021-08-21T10:06:18.550Z"
   },
   {
    "duration": 28,
    "start_time": "2021-08-21T10:06:25.798Z"
   },
   {
    "duration": 14,
    "start_time": "2021-08-21T10:06:33.500Z"
   },
   {
    "duration": 12,
    "start_time": "2021-08-21T10:07:36.349Z"
   },
   {
    "duration": 1454,
    "start_time": "2021-08-21T10:08:09.482Z"
   },
   {
    "duration": 199,
    "start_time": "2021-08-21T10:08:10.939Z"
   },
   {
    "duration": 17,
    "start_time": "2021-08-21T10:08:11.141Z"
   },
   {
    "duration": 170,
    "start_time": "2021-08-21T10:08:11.161Z"
   },
   {
    "duration": 5,
    "start_time": "2021-08-21T10:08:11.334Z"
   },
   {
    "duration": 33,
    "start_time": "2021-08-21T10:08:11.342Z"
   },
   {
    "duration": 120,
    "start_time": "2021-08-21T10:08:11.377Z"
   },
   {
    "duration": 11,
    "start_time": "2021-08-21T10:08:11.501Z"
   },
   {
    "duration": 37,
    "start_time": "2021-08-21T10:08:11.515Z"
   },
   {
    "duration": 32,
    "start_time": "2021-08-21T10:08:11.555Z"
   },
   {
    "duration": 53,
    "start_time": "2021-08-21T10:08:11.589Z"
   },
   {
    "duration": 30,
    "start_time": "2021-08-21T10:08:11.644Z"
   },
   {
    "duration": 38,
    "start_time": "2021-08-21T10:08:11.676Z"
   },
   {
    "duration": 42,
    "start_time": "2021-08-21T10:08:11.717Z"
   },
   {
    "duration": 30,
    "start_time": "2021-08-21T10:08:11.762Z"
   },
   {
    "duration": 36,
    "start_time": "2021-08-21T10:08:11.795Z"
   },
   {
    "duration": 21,
    "start_time": "2021-08-21T10:08:11.833Z"
   },
   {
    "duration": 60,
    "start_time": "2021-08-21T10:08:11.857Z"
   },
   {
    "duration": 12,
    "start_time": "2021-08-21T10:08:11.920Z"
   },
   {
    "duration": 25,
    "start_time": "2021-08-21T10:08:11.934Z"
   },
   {
    "duration": 14,
    "start_time": "2021-08-21T10:08:11.961Z"
   },
   {
    "duration": 27,
    "start_time": "2021-08-21T10:08:11.977Z"
   },
   {
    "duration": 37,
    "start_time": "2021-08-21T10:08:12.009Z"
   },
   {
    "duration": 102,
    "start_time": "2021-08-21T10:08:12.049Z"
   },
   {
    "duration": 4,
    "start_time": "2021-08-21T10:08:12.154Z"
   },
   {
    "duration": 39,
    "start_time": "2021-08-21T10:08:12.161Z"
   },
   {
    "duration": 26,
    "start_time": "2021-08-21T10:08:12.203Z"
   },
   {
    "duration": 65,
    "start_time": "2021-08-21T10:08:12.232Z"
   },
   {
    "duration": 22,
    "start_time": "2021-08-21T10:08:12.300Z"
   },
   {
    "duration": 12,
    "start_time": "2021-08-21T10:08:12.324Z"
   },
   {
    "duration": 46,
    "start_time": "2021-08-21T10:08:12.339Z"
   },
   {
    "duration": 30,
    "start_time": "2021-08-21T10:08:12.388Z"
   },
   {
    "duration": 4,
    "start_time": "2021-08-21T10:08:12.421Z"
   },
   {
    "duration": 32,
    "start_time": "2021-08-21T10:08:12.427Z"
   },
   {
    "duration": 49,
    "start_time": "2021-08-21T10:08:12.461Z"
   },
   {
    "duration": 14,
    "start_time": "2021-08-21T10:08:12.512Z"
   },
   {
    "duration": 13,
    "start_time": "2021-08-21T10:08:12.528Z"
   },
   {
    "duration": 1464,
    "start_time": "2021-08-21T10:08:52.906Z"
   },
   {
    "duration": 216,
    "start_time": "2021-08-21T10:08:54.374Z"
   },
   {
    "duration": 18,
    "start_time": "2021-08-21T10:08:54.593Z"
   },
   {
    "duration": 183,
    "start_time": "2021-08-21T10:08:54.614Z"
   },
   {
    "duration": 6,
    "start_time": "2021-08-21T10:08:54.799Z"
   },
   {
    "duration": 20,
    "start_time": "2021-08-21T10:08:54.808Z"
   },
   {
    "duration": 131,
    "start_time": "2021-08-21T10:08:54.831Z"
   },
   {
    "duration": 11,
    "start_time": "2021-08-21T10:08:54.964Z"
   },
   {
    "duration": 19,
    "start_time": "2021-08-21T10:08:54.988Z"
   },
   {
    "duration": 27,
    "start_time": "2021-08-21T10:08:55.011Z"
   },
   {
    "duration": 48,
    "start_time": "2021-08-21T10:08:55.041Z"
   },
   {
    "duration": 20,
    "start_time": "2021-08-21T10:08:55.091Z"
   },
   {
    "duration": 38,
    "start_time": "2021-08-21T10:08:55.114Z"
   },
   {
    "duration": 52,
    "start_time": "2021-08-21T10:08:55.154Z"
   },
   {
    "duration": 23,
    "start_time": "2021-08-21T10:08:55.208Z"
   },
   {
    "duration": 51,
    "start_time": "2021-08-21T10:08:55.234Z"
   },
   {
    "duration": 20,
    "start_time": "2021-08-21T10:08:55.288Z"
   },
   {
    "duration": 36,
    "start_time": "2021-08-21T10:08:55.311Z"
   },
   {
    "duration": 10,
    "start_time": "2021-08-21T10:08:55.349Z"
   },
   {
    "duration": 30,
    "start_time": "2021-08-21T10:08:55.362Z"
   },
   {
    "duration": 16,
    "start_time": "2021-08-21T10:08:55.395Z"
   },
   {
    "duration": 16,
    "start_time": "2021-08-21T10:08:55.414Z"
   },
   {
    "duration": 60,
    "start_time": "2021-08-21T10:08:55.433Z"
   },
   {
    "duration": 116,
    "start_time": "2021-08-21T10:08:55.496Z"
   },
   {
    "duration": 4,
    "start_time": "2021-08-21T10:08:55.615Z"
   },
   {
    "duration": 27,
    "start_time": "2021-08-21T10:08:55.622Z"
   },
   {
    "duration": 18,
    "start_time": "2021-08-21T10:08:55.654Z"
   },
   {
    "duration": 73,
    "start_time": "2021-08-21T10:08:55.675Z"
   },
   {
    "duration": 15,
    "start_time": "2021-08-21T10:08:55.751Z"
   },
   {
    "duration": 27,
    "start_time": "2021-08-21T10:08:55.768Z"
   },
   {
    "duration": 36,
    "start_time": "2021-08-21T10:08:55.797Z"
   },
   {
    "duration": 28,
    "start_time": "2021-08-21T10:08:55.836Z"
   },
   {
    "duration": 4,
    "start_time": "2021-08-21T10:08:55.866Z"
   },
   {
    "duration": 20,
    "start_time": "2021-08-21T10:08:55.872Z"
   },
   {
    "duration": 36,
    "start_time": "2021-08-21T10:08:55.894Z"
   },
   {
    "duration": 14,
    "start_time": "2021-08-21T10:08:55.932Z"
   },
   {
    "duration": 39,
    "start_time": "2021-08-21T10:08:55.948Z"
   },
   {
    "duration": 27,
    "start_time": "2021-08-21T10:16:51.506Z"
   },
   {
    "duration": 55,
    "start_time": "2021-08-21T10:17:38.972Z"
   },
   {
    "duration": 43,
    "start_time": "2021-08-21T10:18:50.216Z"
   },
   {
    "duration": 4,
    "start_time": "2021-08-21T10:19:32.572Z"
   },
   {
    "duration": 12,
    "start_time": "2021-08-21T10:19:39.012Z"
   },
   {
    "duration": 11,
    "start_time": "2021-08-21T10:20:07.215Z"
   },
   {
    "duration": 43,
    "start_time": "2021-08-21T10:20:33.447Z"
   },
   {
    "duration": 15,
    "start_time": "2021-08-21T10:20:39.093Z"
   },
   {
    "duration": 17,
    "start_time": "2021-08-21T10:24:14.726Z"
   },
   {
    "duration": 12,
    "start_time": "2021-08-21T10:31:36.091Z"
   },
   {
    "duration": 11,
    "start_time": "2021-08-21T10:32:16.270Z"
   },
   {
    "duration": 10,
    "start_time": "2021-08-21T10:32:26.090Z"
   },
   {
    "duration": 7,
    "start_time": "2021-08-21T10:34:35.940Z"
   },
   {
    "duration": 11,
    "start_time": "2021-08-21T10:34:39.098Z"
   },
   {
    "duration": 10,
    "start_time": "2021-08-21T10:35:13.179Z"
   },
   {
    "duration": 16,
    "start_time": "2021-08-21T10:35:16.035Z"
   },
   {
    "duration": 15,
    "start_time": "2021-08-21T10:36:16.539Z"
   },
   {
    "duration": 29,
    "start_time": "2021-08-21T10:36:22.526Z"
   },
   {
    "duration": 1505,
    "start_time": "2021-08-21T10:38:39.851Z"
   },
   {
    "duration": 204,
    "start_time": "2021-08-21T10:38:41.358Z"
   },
   {
    "duration": 23,
    "start_time": "2021-08-21T10:38:41.565Z"
   },
   {
    "duration": 178,
    "start_time": "2021-08-21T10:38:41.591Z"
   },
   {
    "duration": 4,
    "start_time": "2021-08-21T10:38:41.772Z"
   },
   {
    "duration": 34,
    "start_time": "2021-08-21T10:38:41.778Z"
   },
   {
    "duration": 133,
    "start_time": "2021-08-21T10:38:41.815Z"
   },
   {
    "duration": 10,
    "start_time": "2021-08-21T10:38:41.951Z"
   },
   {
    "duration": 26,
    "start_time": "2021-08-21T10:38:41.964Z"
   },
   {
    "duration": 18,
    "start_time": "2021-08-21T10:38:41.992Z"
   },
   {
    "duration": 39,
    "start_time": "2021-08-21T10:38:42.012Z"
   },
   {
    "duration": 19,
    "start_time": "2021-08-21T10:38:42.053Z"
   },
   {
    "duration": 31,
    "start_time": "2021-08-21T10:38:42.074Z"
   },
   {
    "duration": 42,
    "start_time": "2021-08-21T10:38:42.107Z"
   },
   {
    "duration": 33,
    "start_time": "2021-08-21T10:38:42.152Z"
   },
   {
    "duration": 33,
    "start_time": "2021-08-21T10:38:42.188Z"
   },
   {
    "duration": 19,
    "start_time": "2021-08-21T10:38:42.224Z"
   },
   {
    "duration": 57,
    "start_time": "2021-08-21T10:38:42.245Z"
   },
   {
    "duration": 9,
    "start_time": "2021-08-21T10:38:42.305Z"
   },
   {
    "duration": 11,
    "start_time": "2021-08-21T10:38:42.316Z"
   },
   {
    "duration": 11,
    "start_time": "2021-08-21T10:38:42.329Z"
   },
   {
    "duration": 15,
    "start_time": "2021-08-21T10:38:42.342Z"
   },
   {
    "duration": 35,
    "start_time": "2021-08-21T10:38:42.387Z"
   },
   {
    "duration": 119,
    "start_time": "2021-08-21T10:38:42.425Z"
   },
   {
    "duration": 4,
    "start_time": "2021-08-21T10:38:42.546Z"
   },
   {
    "duration": 19,
    "start_time": "2021-08-21T10:38:42.552Z"
   },
   {
    "duration": 66,
    "start_time": "2021-08-21T10:38:42.574Z"
   },
   {
    "duration": 16,
    "start_time": "2021-08-21T10:38:42.642Z"
   },
   {
    "duration": 34,
    "start_time": "2021-08-21T10:38:42.660Z"
   },
   {
    "duration": 24,
    "start_time": "2021-08-21T10:38:42.696Z"
   },
   {
    "duration": 28,
    "start_time": "2021-08-21T10:38:42.723Z"
   },
   {
    "duration": 32,
    "start_time": "2021-08-21T10:38:42.753Z"
   },
   {
    "duration": 11,
    "start_time": "2021-08-21T10:38:42.788Z"
   },
   {
    "duration": 39,
    "start_time": "2021-08-21T10:38:42.801Z"
   },
   {
    "duration": 14,
    "start_time": "2021-08-21T10:38:42.842Z"
   },
   {
    "duration": 36,
    "start_time": "2021-08-21T10:38:42.859Z"
   },
   {
    "duration": 28,
    "start_time": "2021-08-21T10:38:42.897Z"
   },
   {
    "duration": 62,
    "start_time": "2021-08-21T10:38:42.927Z"
   },
   {
    "duration": 4,
    "start_time": "2021-08-21T10:38:42.991Z"
   },
   {
    "duration": 16,
    "start_time": "2021-08-21T10:38:42.997Z"
   },
   {
    "duration": 70,
    "start_time": "2021-08-21T10:38:43.015Z"
   },
   {
    "duration": 15,
    "start_time": "2021-08-21T10:38:43.088Z"
   },
   {
    "duration": 18,
    "start_time": "2021-08-21T10:38:43.106Z"
   },
   {
    "duration": 14,
    "start_time": "2021-08-21T10:38:43.127Z"
   },
   {
    "duration": 48,
    "start_time": "2021-08-21T10:38:43.144Z"
   },
   {
    "duration": 11,
    "start_time": "2021-08-21T10:38:43.195Z"
   },
   {
    "duration": 10,
    "start_time": "2021-08-21T10:38:43.208Z"
   },
   {
    "duration": 19,
    "start_time": "2021-08-21T10:38:43.220Z"
   },
   {
    "duration": 9,
    "start_time": "2021-08-21T10:40:19.876Z"
   },
   {
    "duration": 431,
    "start_time": "2021-08-21T10:41:12.481Z"
   },
   {
    "duration": 332,
    "start_time": "2021-08-21T10:41:17.602Z"
   },
   {
    "duration": 8,
    "start_time": "2021-08-21T10:55:51.529Z"
   },
   {
    "duration": 1489,
    "start_time": "2021-08-21T11:00:39.883Z"
   },
   {
    "duration": 214,
    "start_time": "2021-08-21T11:00:41.376Z"
   },
   {
    "duration": 17,
    "start_time": "2021-08-21T11:00:41.594Z"
   },
   {
    "duration": 185,
    "start_time": "2021-08-21T11:00:41.614Z"
   },
   {
    "duration": 5,
    "start_time": "2021-08-21T11:00:41.802Z"
   },
   {
    "duration": 18,
    "start_time": "2021-08-21T11:00:41.810Z"
   },
   {
    "duration": 131,
    "start_time": "2021-08-21T11:00:41.831Z"
   },
   {
    "duration": 11,
    "start_time": "2021-08-21T11:00:41.965Z"
   },
   {
    "duration": 19,
    "start_time": "2021-08-21T11:00:41.988Z"
   },
   {
    "duration": 19,
    "start_time": "2021-08-21T11:00:42.011Z"
   },
   {
    "duration": 94,
    "start_time": "2021-08-21T11:00:42.032Z"
   },
   {
    "duration": 15,
    "start_time": "2021-08-21T11:00:42.128Z"
   },
   {
    "duration": 31,
    "start_time": "2021-08-21T11:00:42.145Z"
   },
   {
    "duration": 43,
    "start_time": "2021-08-21T11:00:42.178Z"
   },
   {
    "duration": 21,
    "start_time": "2021-08-21T11:00:42.224Z"
   },
   {
    "duration": 53,
    "start_time": "2021-08-21T11:00:42.248Z"
   },
   {
    "duration": 20,
    "start_time": "2021-08-21T11:00:42.304Z"
   },
   {
    "duration": 30,
    "start_time": "2021-08-21T11:00:42.326Z"
   },
   {
    "duration": 34,
    "start_time": "2021-08-21T11:00:42.358Z"
   },
   {
    "duration": 10,
    "start_time": "2021-08-21T11:00:42.394Z"
   },
   {
    "duration": 13,
    "start_time": "2021-08-21T11:00:42.406Z"
   },
   {
    "duration": 19,
    "start_time": "2021-08-21T11:00:42.422Z"
   },
   {
    "duration": 54,
    "start_time": "2021-08-21T11:00:42.444Z"
   },
   {
    "duration": 108,
    "start_time": "2021-08-21T11:00:42.501Z"
   },
   {
    "duration": 4,
    "start_time": "2021-08-21T11:00:42.612Z"
   },
   {
    "duration": 22,
    "start_time": "2021-08-21T11:00:42.618Z"
   },
   {
    "duration": 76,
    "start_time": "2021-08-21T11:00:42.645Z"
   },
   {
    "duration": 17,
    "start_time": "2021-08-21T11:00:42.724Z"
   },
   {
    "duration": 31,
    "start_time": "2021-08-21T11:00:42.743Z"
   },
   {
    "duration": 30,
    "start_time": "2021-08-21T11:00:42.777Z"
   },
   {
    "duration": 28,
    "start_time": "2021-08-21T11:00:42.810Z"
   },
   {
    "duration": 4,
    "start_time": "2021-08-21T11:00:42.840Z"
   },
   {
    "duration": 41,
    "start_time": "2021-08-21T11:00:42.847Z"
   },
   {
    "duration": 32,
    "start_time": "2021-08-21T11:00:42.891Z"
   },
   {
    "duration": 15,
    "start_time": "2021-08-21T11:00:42.926Z"
   },
   {
    "duration": 48,
    "start_time": "2021-08-21T11:00:42.944Z"
   },
   {
    "duration": 27,
    "start_time": "2021-08-21T11:00:42.994Z"
   },
   {
    "duration": 62,
    "start_time": "2021-08-21T11:00:43.023Z"
   },
   {
    "duration": 4,
    "start_time": "2021-08-21T11:00:43.088Z"
   },
   {
    "duration": 16,
    "start_time": "2021-08-21T11:00:43.094Z"
   },
   {
    "duration": 44,
    "start_time": "2021-08-21T11:00:43.112Z"
   },
   {
    "duration": 40,
    "start_time": "2021-08-21T11:00:43.158Z"
   },
   {
    "duration": 16,
    "start_time": "2021-08-21T11:00:43.201Z"
   },
   {
    "duration": 18,
    "start_time": "2021-08-21T11:00:43.219Z"
   },
   {
    "duration": 45,
    "start_time": "2021-08-21T11:00:43.240Z"
   },
   {
    "duration": 12,
    "start_time": "2021-08-21T11:00:43.288Z"
   },
   {
    "duration": 6,
    "start_time": "2021-08-21T11:00:43.303Z"
   },
   {
    "duration": 17,
    "start_time": "2021-08-21T11:00:43.312Z"
   },
   {
    "duration": 34,
    "start_time": "2021-08-21T12:07:01.509Z"
   },
   {
    "duration": 15,
    "start_time": "2021-08-21T12:10:35.326Z"
   },
   {
    "duration": 18,
    "start_time": "2021-08-21T12:10:35.987Z"
   },
   {
    "duration": 1455,
    "start_time": "2021-08-21T12:11:11.447Z"
   },
   {
    "duration": 209,
    "start_time": "2021-08-21T12:11:12.904Z"
   },
   {
    "duration": 16,
    "start_time": "2021-08-21T12:11:13.116Z"
   },
   {
    "duration": 176,
    "start_time": "2021-08-21T12:11:13.135Z"
   },
   {
    "duration": 4,
    "start_time": "2021-08-21T12:11:13.313Z"
   },
   {
    "duration": 16,
    "start_time": "2021-08-21T12:11:13.319Z"
   },
   {
    "duration": 126,
    "start_time": "2021-08-21T12:11:13.339Z"
   },
   {
    "duration": 18,
    "start_time": "2021-08-21T12:11:13.468Z"
   },
   {
    "duration": 18,
    "start_time": "2021-08-21T12:11:13.489Z"
   },
   {
    "duration": 14,
    "start_time": "2021-08-21T12:11:13.510Z"
   },
   {
    "duration": 52,
    "start_time": "2021-08-21T12:11:13.526Z"
   },
   {
    "duration": 15,
    "start_time": "2021-08-21T12:11:13.580Z"
   },
   {
    "duration": 34,
    "start_time": "2021-08-21T12:11:13.597Z"
   },
   {
    "duration": 55,
    "start_time": "2021-08-21T12:11:13.633Z"
   },
   {
    "duration": 35,
    "start_time": "2021-08-21T12:11:13.691Z"
   },
   {
    "duration": 64,
    "start_time": "2021-08-21T12:11:13.729Z"
   },
   {
    "duration": 29,
    "start_time": "2021-08-21T12:11:13.796Z"
   },
   {
    "duration": 60,
    "start_time": "2021-08-21T12:11:13.828Z"
   },
   {
    "duration": 35,
    "start_time": "2021-08-21T12:11:13.891Z"
   },
   {
    "duration": 16,
    "start_time": "2021-08-21T12:11:13.929Z"
   },
   {
    "duration": 12,
    "start_time": "2021-08-21T12:11:13.949Z"
   },
   {
    "duration": 35,
    "start_time": "2021-08-21T12:11:13.969Z"
   },
   {
    "duration": 50,
    "start_time": "2021-08-21T12:11:14.008Z"
   },
   {
    "duration": 147,
    "start_time": "2021-08-21T12:11:14.061Z"
   },
   {
    "duration": 5,
    "start_time": "2021-08-21T12:11:14.211Z"
   },
   {
    "duration": 18,
    "start_time": "2021-08-21T12:11:14.219Z"
   },
   {
    "duration": 102,
    "start_time": "2021-08-21T12:11:14.240Z"
   },
   {
    "duration": 19,
    "start_time": "2021-08-21T12:11:14.345Z"
   },
   {
    "duration": 29,
    "start_time": "2021-08-21T12:11:14.367Z"
   },
   {
    "duration": 29,
    "start_time": "2021-08-21T12:11:14.399Z"
   },
   {
    "duration": 54,
    "start_time": "2021-08-21T12:11:14.431Z"
   },
   {
    "duration": 5,
    "start_time": "2021-08-21T12:11:14.488Z"
   },
   {
    "duration": 15,
    "start_time": "2021-08-21T12:11:14.496Z"
   },
   {
    "duration": 31,
    "start_time": "2021-08-21T12:11:14.514Z"
   },
   {
    "duration": 47,
    "start_time": "2021-08-21T12:11:14.548Z"
   },
   {
    "duration": 15,
    "start_time": "2021-08-21T12:11:14.598Z"
   },
   {
    "duration": 28,
    "start_time": "2021-08-21T12:11:14.616Z"
   },
   {
    "duration": 81,
    "start_time": "2021-08-21T12:11:14.646Z"
   },
   {
    "duration": 5,
    "start_time": "2021-08-21T12:11:14.729Z"
   },
   {
    "duration": 14,
    "start_time": "2021-08-21T12:11:14.737Z"
   },
   {
    "duration": 71,
    "start_time": "2021-08-21T12:11:14.754Z"
   },
   {
    "duration": 18,
    "start_time": "2021-08-21T12:11:14.827Z"
   },
   {
    "duration": 49,
    "start_time": "2021-08-21T12:11:14.847Z"
   },
   {
    "duration": 17,
    "start_time": "2021-08-21T12:11:14.899Z"
   },
   {
    "duration": 14,
    "start_time": "2021-08-21T12:11:14.919Z"
   },
   {
    "duration": 19,
    "start_time": "2021-08-21T12:11:14.936Z"
   },
   {
    "duration": 30,
    "start_time": "2021-08-21T12:11:14.957Z"
   },
   {
    "duration": 17,
    "start_time": "2021-08-21T12:11:14.990Z"
   },
   {
    "duration": 5,
    "start_time": "2021-08-21T12:12:40.461Z"
   },
   {
    "duration": 12,
    "start_time": "2021-08-21T12:12:44.584Z"
   },
   {
    "duration": 5,
    "start_time": "2021-08-21T12:13:14.805Z"
   },
   {
    "duration": 11,
    "start_time": "2021-08-21T12:13:19.580Z"
   },
   {
    "duration": 5,
    "start_time": "2021-08-21T12:14:16.240Z"
   },
   {
    "duration": 15,
    "start_time": "2021-08-21T12:14:18.375Z"
   },
   {
    "duration": 1433,
    "start_time": "2021-08-21T12:14:41.324Z"
   },
   {
    "duration": 204,
    "start_time": "2021-08-21T12:14:42.759Z"
   },
   {
    "duration": 20,
    "start_time": "2021-08-21T12:14:42.966Z"
   },
   {
    "duration": 176,
    "start_time": "2021-08-21T12:14:42.989Z"
   },
   {
    "duration": 5,
    "start_time": "2021-08-21T12:14:43.167Z"
   },
   {
    "duration": 24,
    "start_time": "2021-08-21T12:14:43.174Z"
   },
   {
    "duration": 159,
    "start_time": "2021-08-21T12:14:43.201Z"
   },
   {
    "duration": 10,
    "start_time": "2021-08-21T12:14:43.365Z"
   },
   {
    "duration": 20,
    "start_time": "2021-08-21T12:14:43.388Z"
   },
   {
    "duration": 15,
    "start_time": "2021-08-21T12:14:43.411Z"
   },
   {
    "duration": 40,
    "start_time": "2021-08-21T12:14:43.429Z"
   },
   {
    "duration": 17,
    "start_time": "2021-08-21T12:14:43.472Z"
   },
   {
    "duration": 29,
    "start_time": "2021-08-21T12:14:43.492Z"
   },
   {
    "duration": 71,
    "start_time": "2021-08-21T12:14:43.524Z"
   },
   {
    "duration": 25,
    "start_time": "2021-08-21T12:14:43.598Z"
   },
   {
    "duration": 58,
    "start_time": "2021-08-21T12:14:43.627Z"
   },
   {
    "duration": 20,
    "start_time": "2021-08-21T12:14:43.688Z"
   },
   {
    "duration": 28,
    "start_time": "2021-08-21T12:14:43.710Z"
   },
   {
    "duration": 9,
    "start_time": "2021-08-21T12:14:43.740Z"
   },
   {
    "duration": 35,
    "start_time": "2021-08-21T12:14:43.751Z"
   },
   {
    "duration": 7,
    "start_time": "2021-08-21T12:14:43.788Z"
   },
   {
    "duration": 17,
    "start_time": "2021-08-21T12:14:43.798Z"
   },
   {
    "duration": 67,
    "start_time": "2021-08-21T12:14:43.821Z"
   },
   {
    "duration": 112,
    "start_time": "2021-08-21T12:14:43.892Z"
   },
   {
    "duration": 5,
    "start_time": "2021-08-21T12:14:44.007Z"
   },
   {
    "duration": 19,
    "start_time": "2021-08-21T12:14:44.015Z"
   },
   {
    "duration": 83,
    "start_time": "2021-08-21T12:14:44.037Z"
   },
   {
    "duration": 16,
    "start_time": "2021-08-21T12:14:44.123Z"
   },
   {
    "duration": 11,
    "start_time": "2021-08-21T12:14:44.142Z"
   },
   {
    "duration": 44,
    "start_time": "2021-08-21T12:14:44.156Z"
   },
   {
    "duration": 29,
    "start_time": "2021-08-21T12:14:44.203Z"
   },
   {
    "duration": 5,
    "start_time": "2021-08-21T12:14:44.235Z"
   },
   {
    "duration": 47,
    "start_time": "2021-08-21T12:14:44.243Z"
   },
   {
    "duration": 31,
    "start_time": "2021-08-21T12:14:44.293Z"
   },
   {
    "duration": 15,
    "start_time": "2021-08-21T12:14:44.327Z"
   },
   {
    "duration": 47,
    "start_time": "2021-08-21T12:14:44.345Z"
   },
   {
    "duration": 26,
    "start_time": "2021-08-21T12:14:44.395Z"
   },
   {
    "duration": 64,
    "start_time": "2021-08-21T12:14:44.424Z"
   },
   {
    "duration": 4,
    "start_time": "2021-08-21T12:14:44.491Z"
   },
   {
    "duration": 16,
    "start_time": "2021-08-21T12:14:44.498Z"
   },
   {
    "duration": 44,
    "start_time": "2021-08-21T12:14:44.516Z"
   },
   {
    "duration": 35,
    "start_time": "2021-08-21T12:14:44.562Z"
   },
   {
    "duration": 18,
    "start_time": "2021-08-21T12:14:44.600Z"
   },
   {
    "duration": 5,
    "start_time": "2021-08-21T12:14:44.621Z"
   },
   {
    "duration": 15,
    "start_time": "2021-08-21T12:14:44.628Z"
   },
   {
    "duration": 39,
    "start_time": "2021-08-21T12:14:44.646Z"
   },
   {
    "duration": 15,
    "start_time": "2021-08-21T12:14:44.688Z"
   },
   {
    "duration": 7,
    "start_time": "2021-08-21T12:14:44.706Z"
   },
   {
    "duration": 13,
    "start_time": "2021-08-21T12:14:44.716Z"
   },
   {
    "duration": 8,
    "start_time": "2021-08-21T12:14:44.732Z"
   },
   {
    "duration": 47,
    "start_time": "2021-08-21T12:14:44.742Z"
   },
   {
    "duration": 10,
    "start_time": "2021-08-21T12:15:32.454Z"
   },
   {
    "duration": 15,
    "start_time": "2021-08-21T12:15:35.537Z"
   },
   {
    "duration": 5,
    "start_time": "2021-08-21T12:16:05.644Z"
   },
   {
    "duration": 11,
    "start_time": "2021-08-21T12:16:06.643Z"
   },
   {
    "duration": 10,
    "start_time": "2021-08-21T12:16:12.937Z"
   },
   {
    "duration": 22,
    "start_time": "2021-08-21T12:16:13.834Z"
   },
   {
    "duration": 13,
    "start_time": "2021-08-21T12:16:34.357Z"
   },
   {
    "duration": 18,
    "start_time": "2021-08-21T12:16:39.083Z"
   },
   {
    "duration": 5,
    "start_time": "2021-08-21T12:16:53.204Z"
   },
   {
    "duration": 11,
    "start_time": "2021-08-21T12:16:53.659Z"
   },
   {
    "duration": 12,
    "start_time": "2021-08-21T12:16:54.801Z"
   },
   {
    "duration": 17,
    "start_time": "2021-08-21T12:16:55.691Z"
   },
   {
    "duration": 14,
    "start_time": "2021-08-21T12:17:35.466Z"
   },
   {
    "duration": 16,
    "start_time": "2021-08-21T12:17:40.398Z"
   },
   {
    "duration": 26,
    "start_time": "2021-08-21T12:17:57.479Z"
   },
   {
    "duration": 8,
    "start_time": "2021-08-21T12:18:43.008Z"
   },
   {
    "duration": 10,
    "start_time": "2021-08-21T12:18:47.878Z"
   },
   {
    "duration": 14,
    "start_time": "2021-08-21T12:19:10.008Z"
   },
   {
    "duration": 18,
    "start_time": "2021-08-21T12:19:15.372Z"
   },
   {
    "duration": 30,
    "start_time": "2021-08-21T12:19:20.783Z"
   },
   {
    "duration": 11,
    "start_time": "2021-08-21T12:19:52.080Z"
   },
   {
    "duration": 6,
    "start_time": "2021-08-21T12:21:00.397Z"
   },
   {
    "duration": 6,
    "start_time": "2021-08-21T12:21:17.368Z"
   },
   {
    "duration": 9,
    "start_time": "2021-08-21T12:21:59.482Z"
   },
   {
    "duration": 9,
    "start_time": "2021-08-21T12:22:38.557Z"
   },
   {
    "duration": 6,
    "start_time": "2021-08-21T12:23:49.762Z"
   },
   {
    "duration": 41,
    "start_time": "2021-08-21T12:24:43.909Z"
   },
   {
    "duration": 1499,
    "start_time": "2021-08-21T12:25:40.456Z"
   },
   {
    "duration": 205,
    "start_time": "2021-08-21T12:25:41.958Z"
   },
   {
    "duration": 21,
    "start_time": "2021-08-21T12:25:42.167Z"
   },
   {
    "duration": 177,
    "start_time": "2021-08-21T12:25:42.191Z"
   },
   {
    "duration": 14,
    "start_time": "2021-08-21T12:25:42.371Z"
   },
   {
    "duration": 14,
    "start_time": "2021-08-21T12:25:42.388Z"
   },
   {
    "duration": 134,
    "start_time": "2021-08-21T12:25:42.405Z"
   },
   {
    "duration": 12,
    "start_time": "2021-08-21T12:25:42.542Z"
   },
   {
    "duration": 28,
    "start_time": "2021-08-21T12:25:42.559Z"
   },
   {
    "duration": 15,
    "start_time": "2021-08-21T12:25:42.591Z"
   },
   {
    "duration": 48,
    "start_time": "2021-08-21T12:25:42.609Z"
   },
   {
    "duration": 15,
    "start_time": "2021-08-21T12:25:42.660Z"
   },
   {
    "duration": 31,
    "start_time": "2021-08-21T12:25:42.678Z"
   },
   {
    "duration": 43,
    "start_time": "2021-08-21T12:25:42.711Z"
   },
   {
    "duration": 42,
    "start_time": "2021-08-21T12:25:42.757Z"
   },
   {
    "duration": 33,
    "start_time": "2021-08-21T12:25:42.802Z"
   },
   {
    "duration": 20,
    "start_time": "2021-08-21T12:25:42.837Z"
   },
   {
    "duration": 29,
    "start_time": "2021-08-21T12:25:42.885Z"
   },
   {
    "duration": 9,
    "start_time": "2021-08-21T12:25:42.917Z"
   },
   {
    "duration": 11,
    "start_time": "2021-08-21T12:25:42.928Z"
   },
   {
    "duration": 11,
    "start_time": "2021-08-21T12:25:42.942Z"
   },
   {
    "duration": 39,
    "start_time": "2021-08-21T12:25:42.956Z"
   },
   {
    "duration": 39,
    "start_time": "2021-08-21T12:25:42.997Z"
   },
   {
    "duration": 120,
    "start_time": "2021-08-21T12:25:43.039Z"
   },
   {
    "duration": 4,
    "start_time": "2021-08-21T12:25:43.161Z"
   },
   {
    "duration": 27,
    "start_time": "2021-08-21T12:25:43.167Z"
   },
   {
    "duration": 57,
    "start_time": "2021-08-21T12:25:43.200Z"
   },
   {
    "duration": 36,
    "start_time": "2021-08-21T12:25:43.262Z"
   },
   {
    "duration": 11,
    "start_time": "2021-08-21T12:25:43.301Z"
   },
   {
    "duration": 28,
    "start_time": "2021-08-21T12:25:43.315Z"
   },
   {
    "duration": 67,
    "start_time": "2021-08-21T12:25:43.346Z"
   },
   {
    "duration": 5,
    "start_time": "2021-08-21T12:25:43.416Z"
   },
   {
    "duration": 18,
    "start_time": "2021-08-21T12:25:43.423Z"
   },
   {
    "duration": 70,
    "start_time": "2021-08-21T12:25:43.444Z"
   },
   {
    "duration": 19,
    "start_time": "2021-08-21T12:25:43.517Z"
   },
   {
    "duration": 20,
    "start_time": "2021-08-21T12:25:43.539Z"
   },
   {
    "duration": 51,
    "start_time": "2021-08-21T12:25:43.561Z"
   },
   {
    "duration": 42,
    "start_time": "2021-08-21T12:25:43.614Z"
   },
   {
    "duration": 3,
    "start_time": "2021-08-21T12:25:43.658Z"
   },
   {
    "duration": 29,
    "start_time": "2021-08-21T12:25:43.664Z"
   },
   {
    "duration": 45,
    "start_time": "2021-08-21T12:25:43.696Z"
   },
   {
    "duration": 44,
    "start_time": "2021-08-21T12:25:43.744Z"
   },
   {
    "duration": 30,
    "start_time": "2021-08-21T12:25:43.790Z"
   },
   {
    "duration": 7,
    "start_time": "2021-08-21T12:25:43.823Z"
   },
   {
    "duration": 16,
    "start_time": "2021-08-21T12:25:43.832Z"
   },
   {
    "duration": 11,
    "start_time": "2021-08-21T12:25:43.850Z"
   },
   {
    "duration": 39,
    "start_time": "2021-08-21T12:25:43.863Z"
   },
   {
    "duration": 10,
    "start_time": "2021-08-21T12:25:43.905Z"
   },
   {
    "duration": 14,
    "start_time": "2021-08-21T12:25:43.918Z"
   },
   {
    "duration": 10,
    "start_time": "2021-08-21T12:25:43.935Z"
   },
   {
    "duration": 43,
    "start_time": "2021-08-21T12:25:43.949Z"
   },
   {
    "duration": 14,
    "start_time": "2021-08-21T12:25:43.995Z"
   },
   {
    "duration": 21,
    "start_time": "2021-08-21T12:25:44.013Z"
   },
   {
    "duration": 54,
    "start_time": "2021-08-21T12:25:44.037Z"
   },
   {
    "duration": 19,
    "start_time": "2021-08-21T12:25:44.093Z"
   },
   {
    "duration": 17,
    "start_time": "2021-08-21T12:25:44.114Z"
   },
   {
    "duration": 54,
    "start_time": "2021-08-21T12:25:44.133Z"
   },
   {
    "duration": 14,
    "start_time": "2021-08-21T12:25:44.190Z"
   },
   {
    "duration": 5,
    "start_time": "2021-08-21T12:25:44.206Z"
   },
   {
    "duration": 10,
    "start_time": "2021-08-21T12:25:44.213Z"
   },
   {
    "duration": 13,
    "start_time": "2021-08-21T12:25:44.226Z"
   },
   {
    "duration": 5,
    "start_time": "2021-08-21T12:26:45.751Z"
   },
   {
    "duration": 242,
    "start_time": "2021-08-21T12:26:45.758Z"
   },
   {
    "duration": 11,
    "start_time": "2021-08-21T12:26:46.003Z"
   },
   {
    "duration": 273,
    "start_time": "2021-08-21T12:26:46.017Z"
   },
   {
    "duration": 6,
    "start_time": "2021-08-21T12:26:46.293Z"
   },
   {
    "duration": 19,
    "start_time": "2021-08-21T12:26:46.302Z"
   },
   {
    "duration": 165,
    "start_time": "2021-08-21T12:26:46.323Z"
   },
   {
    "duration": 13,
    "start_time": "2021-08-21T12:26:46.493Z"
   },
   {
    "duration": 25,
    "start_time": "2021-08-21T12:26:46.509Z"
   },
   {
    "duration": 15,
    "start_time": "2021-08-21T12:26:46.537Z"
   },
   {
    "duration": 42,
    "start_time": "2021-08-21T12:26:46.554Z"
   },
   {
    "duration": 15,
    "start_time": "2021-08-21T12:26:46.598Z"
   },
   {
    "duration": 29,
    "start_time": "2021-08-21T12:26:46.615Z"
   },
   {
    "duration": 58,
    "start_time": "2021-08-21T12:26:46.647Z"
   },
   {
    "duration": 21,
    "start_time": "2021-08-21T12:26:46.708Z"
   },
   {
    "duration": 28,
    "start_time": "2021-08-21T12:26:46.732Z"
   },
   {
    "duration": 20,
    "start_time": "2021-08-21T12:26:46.786Z"
   },
   {
    "duration": 45,
    "start_time": "2021-08-21T12:26:46.809Z"
   },
   {
    "duration": 30,
    "start_time": "2021-08-21T12:26:46.857Z"
   },
   {
    "duration": 21,
    "start_time": "2021-08-21T12:26:46.890Z"
   },
   {
    "duration": 16,
    "start_time": "2021-08-21T12:26:46.914Z"
   },
   {
    "duration": 25,
    "start_time": "2021-08-21T12:26:46.933Z"
   },
   {
    "duration": 54,
    "start_time": "2021-08-21T12:26:46.965Z"
   },
   {
    "duration": 138,
    "start_time": "2021-08-21T12:26:47.023Z"
   },
   {
    "duration": 5,
    "start_time": "2021-08-21T12:26:47.163Z"
   },
   {
    "duration": 16,
    "start_time": "2021-08-21T12:26:47.185Z"
   },
   {
    "duration": 100,
    "start_time": "2021-08-21T12:26:47.204Z"
   },
   {
    "duration": 22,
    "start_time": "2021-08-21T12:26:47.307Z"
   },
   {
    "duration": 21,
    "start_time": "2021-08-21T12:26:47.332Z"
   },
   {
    "duration": 55,
    "start_time": "2021-08-21T12:26:47.355Z"
   },
   {
    "duration": 31,
    "start_time": "2021-08-21T12:26:47.413Z"
   },
   {
    "duration": 4,
    "start_time": "2021-08-21T12:26:47.446Z"
   },
   {
    "duration": 41,
    "start_time": "2021-08-21T12:26:47.452Z"
   },
   {
    "duration": 39,
    "start_time": "2021-08-21T12:26:47.495Z"
   },
   {
    "duration": 13,
    "start_time": "2021-08-21T12:26:47.537Z"
   },
   {
    "duration": 40,
    "start_time": "2021-08-21T12:26:47.552Z"
   },
   {
    "duration": 33,
    "start_time": "2021-08-21T12:26:47.595Z"
   },
   {
    "duration": 55,
    "start_time": "2021-08-21T12:26:47.630Z"
   },
   {
    "duration": 3,
    "start_time": "2021-08-21T12:26:47.688Z"
   },
   {
    "duration": 23,
    "start_time": "2021-08-21T12:26:47.694Z"
   },
   {
    "duration": 67,
    "start_time": "2021-08-21T12:26:47.721Z"
   },
   {
    "duration": 16,
    "start_time": "2021-08-21T12:26:47.790Z"
   },
   {
    "duration": 20,
    "start_time": "2021-08-21T12:26:47.808Z"
   },
   {
    "duration": 11,
    "start_time": "2021-08-21T12:26:47.831Z"
   },
   {
    "duration": 43,
    "start_time": "2021-08-21T12:26:47.844Z"
   },
   {
    "duration": 6,
    "start_time": "2021-08-21T12:26:47.890Z"
   },
   {
    "duration": 25,
    "start_time": "2021-08-21T12:26:47.899Z"
   },
   {
    "duration": 21,
    "start_time": "2021-08-21T12:26:47.926Z"
   },
   {
    "duration": 24,
    "start_time": "2021-08-21T12:26:47.949Z"
   },
   {
    "duration": 13,
    "start_time": "2021-08-21T12:26:47.976Z"
   },
   {
    "duration": 17,
    "start_time": "2021-08-21T12:26:47.991Z"
   },
   {
    "duration": 22,
    "start_time": "2021-08-21T12:26:48.010Z"
   },
   {
    "duration": 16,
    "start_time": "2021-08-21T12:26:56.985Z"
   },
   {
    "duration": 10,
    "start_time": "2021-08-21T12:27:04.210Z"
   },
   {
    "duration": 5,
    "start_time": "2021-08-21T12:28:03.512Z"
   },
   {
    "duration": 329,
    "start_time": "2021-08-21T12:28:03.519Z"
   },
   {
    "duration": 16,
    "start_time": "2021-08-21T12:28:03.852Z"
   },
   {
    "duration": 204,
    "start_time": "2021-08-21T12:28:03.872Z"
   },
   {
    "duration": 10,
    "start_time": "2021-08-21T12:28:04.079Z"
   },
   {
    "duration": 27,
    "start_time": "2021-08-21T12:28:04.092Z"
   },
   {
    "duration": 127,
    "start_time": "2021-08-21T12:28:04.123Z"
   },
   {
    "duration": 14,
    "start_time": "2021-08-21T12:28:04.252Z"
   },
   {
    "duration": 38,
    "start_time": "2021-08-21T12:28:04.271Z"
   },
   {
    "duration": 17,
    "start_time": "2021-08-21T12:28:04.313Z"
   },
   {
    "duration": 50,
    "start_time": "2021-08-21T12:28:04.332Z"
   },
   {
    "duration": 20,
    "start_time": "2021-08-21T12:28:04.385Z"
   },
   {
    "duration": 30,
    "start_time": "2021-08-21T12:28:04.408Z"
   },
   {
    "duration": 59,
    "start_time": "2021-08-21T12:28:04.441Z"
   },
   {
    "duration": 23,
    "start_time": "2021-08-21T12:28:04.503Z"
   },
   {
    "duration": 56,
    "start_time": "2021-08-21T12:28:04.529Z"
   },
   {
    "duration": 20,
    "start_time": "2021-08-21T12:28:04.588Z"
   },
   {
    "duration": 28,
    "start_time": "2021-08-21T12:28:04.611Z"
   },
   {
    "duration": 9,
    "start_time": "2021-08-21T12:28:04.641Z"
   },
   {
    "duration": 37,
    "start_time": "2021-08-21T12:28:04.653Z"
   },
   {
    "duration": 13,
    "start_time": "2021-08-21T12:28:04.693Z"
   },
   {
    "duration": 17,
    "start_time": "2021-08-21T12:28:04.709Z"
   },
   {
    "duration": 66,
    "start_time": "2021-08-21T12:28:04.729Z"
   },
   {
    "duration": 114,
    "start_time": "2021-08-21T12:28:04.798Z"
   },
   {
    "duration": 4,
    "start_time": "2021-08-21T12:28:04.915Z"
   },
   {
    "duration": 19,
    "start_time": "2021-08-21T12:28:04.921Z"
   },
   {
    "duration": 75,
    "start_time": "2021-08-21T12:28:04.946Z"
   },
   {
    "duration": 18,
    "start_time": "2021-08-21T12:28:05.024Z"
   },
   {
    "duration": 29,
    "start_time": "2021-08-21T12:28:05.045Z"
   },
   {
    "duration": 33,
    "start_time": "2021-08-21T12:28:05.085Z"
   },
   {
    "duration": 41,
    "start_time": "2021-08-21T12:28:05.121Z"
   },
   {
    "duration": 21,
    "start_time": "2021-08-21T12:28:05.165Z"
   },
   {
    "duration": 38,
    "start_time": "2021-08-21T12:28:05.189Z"
   },
   {
    "duration": 33,
    "start_time": "2021-08-21T12:28:05.230Z"
   },
   {
    "duration": 28,
    "start_time": "2021-08-21T12:28:05.265Z"
   },
   {
    "duration": 27,
    "start_time": "2021-08-21T12:28:05.295Z"
   },
   {
    "duration": 30,
    "start_time": "2021-08-21T12:28:05.325Z"
   },
   {
    "duration": 62,
    "start_time": "2021-08-21T12:28:05.357Z"
   },
   {
    "duration": 3,
    "start_time": "2021-08-21T12:28:05.422Z"
   },
   {
    "duration": 19,
    "start_time": "2021-08-21T12:28:05.428Z"
   },
   {
    "duration": 74,
    "start_time": "2021-08-21T12:28:05.450Z"
   },
   {
    "duration": 18,
    "start_time": "2021-08-21T12:28:05.527Z"
   },
   {
    "duration": 42,
    "start_time": "2021-08-21T12:28:05.548Z"
   },
   {
    "duration": 8,
    "start_time": "2021-08-21T12:28:05.593Z"
   },
   {
    "duration": 18,
    "start_time": "2021-08-21T12:28:05.604Z"
   },
   {
    "duration": 11,
    "start_time": "2021-08-21T12:28:05.624Z"
   },
   {
    "duration": 16,
    "start_time": "2021-08-21T12:28:05.638Z"
   },
   {
    "duration": 32,
    "start_time": "2021-08-21T12:28:05.657Z"
   },
   {
    "duration": 17,
    "start_time": "2021-08-21T12:28:05.692Z"
   },
   {
    "duration": 10,
    "start_time": "2021-08-21T12:28:05.712Z"
   },
   {
    "duration": 19,
    "start_time": "2021-08-21T12:28:05.725Z"
   },
   {
    "duration": 10,
    "start_time": "2021-08-21T12:28:48.391Z"
   },
   {
    "duration": 16,
    "start_time": "2021-08-21T12:28:50.731Z"
   },
   {
    "duration": 9,
    "start_time": "2021-08-21T12:28:55.802Z"
   },
   {
    "duration": 6,
    "start_time": "2021-08-21T12:29:16.115Z"
   },
   {
    "duration": 1678,
    "start_time": "2021-08-21T12:31:49.382Z"
   },
   {
    "duration": 223,
    "start_time": "2021-08-21T12:31:51.063Z"
   },
   {
    "duration": 17,
    "start_time": "2021-08-21T12:31:51.289Z"
   },
   {
    "duration": 184,
    "start_time": "2021-08-21T12:31:51.308Z"
   },
   {
    "duration": 5,
    "start_time": "2021-08-21T12:31:51.495Z"
   },
   {
    "duration": 27,
    "start_time": "2021-08-21T12:31:51.502Z"
   },
   {
    "duration": 146,
    "start_time": "2021-08-21T12:31:51.532Z"
   },
   {
    "duration": 10,
    "start_time": "2021-08-21T12:31:51.682Z"
   },
   {
    "duration": 36,
    "start_time": "2021-08-21T12:31:51.695Z"
   },
   {
    "duration": 33,
    "start_time": "2021-08-21T12:31:51.733Z"
   },
   {
    "duration": 52,
    "start_time": "2021-08-21T12:31:51.768Z"
   },
   {
    "duration": 30,
    "start_time": "2021-08-21T12:31:51.822Z"
   },
   {
    "duration": 42,
    "start_time": "2021-08-21T12:31:51.854Z"
   },
   {
    "duration": 42,
    "start_time": "2021-08-21T12:31:51.898Z"
   },
   {
    "duration": 47,
    "start_time": "2021-08-21T12:31:51.943Z"
   },
   {
    "duration": 33,
    "start_time": "2021-08-21T12:31:51.993Z"
   },
   {
    "duration": 21,
    "start_time": "2021-08-21T12:31:52.028Z"
   },
   {
    "duration": 63,
    "start_time": "2021-08-21T12:31:52.052Z"
   },
   {
    "duration": 10,
    "start_time": "2021-08-21T12:31:52.118Z"
   },
   {
    "duration": 12,
    "start_time": "2021-08-21T12:31:52.131Z"
   },
   {
    "duration": 39,
    "start_time": "2021-08-21T12:31:52.146Z"
   },
   {
    "duration": 14,
    "start_time": "2021-08-21T12:31:52.188Z"
   },
   {
    "duration": 37,
    "start_time": "2021-08-21T12:31:52.210Z"
   },
   {
    "duration": 121,
    "start_time": "2021-08-21T12:31:52.251Z"
   },
   {
    "duration": 13,
    "start_time": "2021-08-21T12:31:52.374Z"
   },
   {
    "duration": 21,
    "start_time": "2021-08-21T12:31:52.390Z"
   },
   {
    "duration": 93,
    "start_time": "2021-08-21T12:31:52.415Z"
   },
   {
    "duration": 21,
    "start_time": "2021-08-21T12:31:52.511Z"
   },
   {
    "duration": 25,
    "start_time": "2021-08-21T12:31:52.535Z"
   },
   {
    "duration": 47,
    "start_time": "2021-08-21T12:31:52.563Z"
   },
   {
    "duration": 38,
    "start_time": "2021-08-21T12:31:52.613Z"
   },
   {
    "duration": 4,
    "start_time": "2021-08-21T12:31:52.654Z"
   },
   {
    "duration": 14,
    "start_time": "2021-08-21T12:31:52.685Z"
   },
   {
    "duration": 40,
    "start_time": "2021-08-21T12:31:52.702Z"
   },
   {
    "duration": 13,
    "start_time": "2021-08-21T12:31:52.744Z"
   },
   {
    "duration": 34,
    "start_time": "2021-08-21T12:31:52.760Z"
   },
   {
    "duration": 25,
    "start_time": "2021-08-21T12:31:52.797Z"
   },
   {
    "duration": 66,
    "start_time": "2021-08-21T12:31:52.824Z"
   },
   {
    "duration": 4,
    "start_time": "2021-08-21T12:31:52.892Z"
   },
   {
    "duration": 35,
    "start_time": "2021-08-21T12:31:52.898Z"
   },
   {
    "duration": 52,
    "start_time": "2021-08-21T12:31:52.935Z"
   },
   {
    "duration": 15,
    "start_time": "2021-08-21T12:31:52.990Z"
   },
   {
    "duration": 18,
    "start_time": "2021-08-21T12:31:53.007Z"
   },
   {
    "duration": 15,
    "start_time": "2021-08-21T12:31:53.028Z"
   },
   {
    "duration": 24,
    "start_time": "2021-08-21T12:31:53.045Z"
   },
   {
    "duration": 14,
    "start_time": "2021-08-21T12:31:53.071Z"
   },
   {
    "duration": 28,
    "start_time": "2021-08-21T12:31:53.088Z"
   },
   {
    "duration": 13,
    "start_time": "2021-08-21T12:31:53.119Z"
   },
   {
    "duration": 18,
    "start_time": "2021-08-21T12:31:53.135Z"
   },
   {
    "duration": 14,
    "start_time": "2021-08-21T12:31:53.156Z"
   },
   {
    "duration": 19,
    "start_time": "2021-08-21T12:31:53.172Z"
   },
   {
    "duration": 7,
    "start_time": "2021-08-21T12:32:30.957Z"
   },
   {
    "duration": 6,
    "start_time": "2021-08-21T12:32:42.901Z"
   },
   {
    "duration": 6,
    "start_time": "2021-08-21T12:32:51.249Z"
   },
   {
    "duration": 10,
    "start_time": "2021-08-21T12:35:11.445Z"
   },
   {
    "duration": 14,
    "start_time": "2021-08-21T12:35:15.574Z"
   },
   {
    "duration": 8,
    "start_time": "2021-08-21T12:35:21.975Z"
   },
   {
    "duration": 12,
    "start_time": "2021-08-21T12:36:31.270Z"
   },
   {
    "duration": 12,
    "start_time": "2021-08-21T12:36:36.696Z"
   },
   {
    "duration": 13,
    "start_time": "2021-08-21T12:36:43.212Z"
   },
   {
    "duration": 19,
    "start_time": "2021-08-21T12:37:23.972Z"
   },
   {
    "duration": 10,
    "start_time": "2021-08-21T12:37:28.345Z"
   },
   {
    "duration": 12,
    "start_time": "2021-08-21T12:38:46.045Z"
   },
   {
    "duration": 1952,
    "start_time": "2021-08-21T12:38:54.582Z"
   },
   {
    "duration": 315,
    "start_time": "2021-08-21T12:38:56.538Z"
   },
   {
    "duration": 29,
    "start_time": "2021-08-21T12:38:56.858Z"
   },
   {
    "duration": 186,
    "start_time": "2021-08-21T12:38:56.890Z"
   },
   {
    "duration": 10,
    "start_time": "2021-08-21T12:38:57.079Z"
   },
   {
    "duration": 15,
    "start_time": "2021-08-21T12:38:57.092Z"
   },
   {
    "duration": 153,
    "start_time": "2021-08-21T12:38:57.110Z"
   },
   {
    "duration": 21,
    "start_time": "2021-08-21T12:38:57.269Z"
   },
   {
    "duration": 20,
    "start_time": "2021-08-21T12:38:57.293Z"
   },
   {
    "duration": 17,
    "start_time": "2021-08-21T12:38:57.316Z"
   },
   {
    "duration": 42,
    "start_time": "2021-08-21T12:38:57.335Z"
   },
   {
    "duration": 16,
    "start_time": "2021-08-21T12:38:57.379Z"
   },
   {
    "duration": 47,
    "start_time": "2021-08-21T12:38:57.398Z"
   },
   {
    "duration": 76,
    "start_time": "2021-08-21T12:38:57.448Z"
   },
   {
    "duration": 22,
    "start_time": "2021-08-21T12:38:57.527Z"
   },
   {
    "duration": 65,
    "start_time": "2021-08-21T12:38:57.552Z"
   },
   {
    "duration": 19,
    "start_time": "2021-08-21T12:38:57.620Z"
   },
   {
    "duration": 48,
    "start_time": "2021-08-21T12:38:57.641Z"
   },
   {
    "duration": 8,
    "start_time": "2021-08-21T12:38:57.692Z"
   },
   {
    "duration": 12,
    "start_time": "2021-08-21T12:38:57.704Z"
   },
   {
    "duration": 11,
    "start_time": "2021-08-21T12:38:57.719Z"
   },
   {
    "duration": 13,
    "start_time": "2021-08-21T12:38:57.732Z"
   },
   {
    "duration": 61,
    "start_time": "2021-08-21T12:38:57.752Z"
   },
   {
    "duration": 113,
    "start_time": "2021-08-21T12:38:57.816Z"
   },
   {
    "duration": 4,
    "start_time": "2021-08-21T12:38:57.931Z"
   },
   {
    "duration": 16,
    "start_time": "2021-08-21T12:38:57.938Z"
   },
   {
    "duration": 78,
    "start_time": "2021-08-21T12:38:57.956Z"
   },
   {
    "duration": 16,
    "start_time": "2021-08-21T12:38:58.036Z"
   },
   {
    "duration": 37,
    "start_time": "2021-08-21T12:38:58.054Z"
   },
   {
    "duration": 44,
    "start_time": "2021-08-21T12:38:58.094Z"
   },
   {
    "duration": 47,
    "start_time": "2021-08-21T12:38:58.141Z"
   },
   {
    "duration": 4,
    "start_time": "2021-08-21T12:38:58.191Z"
   },
   {
    "duration": 18,
    "start_time": "2021-08-21T12:38:58.198Z"
   },
   {
    "duration": 31,
    "start_time": "2021-08-21T12:38:58.219Z"
   },
   {
    "duration": 41,
    "start_time": "2021-08-21T12:38:58.252Z"
   },
   {
    "duration": 16,
    "start_time": "2021-08-21T12:38:58.296Z"
   },
   {
    "duration": 32,
    "start_time": "2021-08-21T12:38:58.315Z"
   },
   {
    "duration": 77,
    "start_time": "2021-08-21T12:38:58.349Z"
   },
   {
    "duration": 4,
    "start_time": "2021-08-21T12:38:58.428Z"
   },
   {
    "duration": 16,
    "start_time": "2021-08-21T12:38:58.435Z"
   },
   {
    "duration": 85,
    "start_time": "2021-08-21T12:38:58.454Z"
   },
   {
    "duration": 22,
    "start_time": "2021-08-21T12:38:58.542Z"
   },
   {
    "duration": 41,
    "start_time": "2021-08-21T12:38:58.568Z"
   },
   {
    "duration": 7,
    "start_time": "2021-08-21T12:38:58.612Z"
   },
   {
    "duration": 15,
    "start_time": "2021-08-21T12:38:58.621Z"
   },
   {
    "duration": 15,
    "start_time": "2021-08-21T12:38:58.639Z"
   },
   {
    "duration": 34,
    "start_time": "2021-08-21T12:38:58.656Z"
   },
   {
    "duration": 9,
    "start_time": "2021-08-21T12:38:58.693Z"
   },
   {
    "duration": 14,
    "start_time": "2021-08-21T12:38:58.704Z"
   },
   {
    "duration": 7,
    "start_time": "2021-08-21T12:38:58.721Z"
   },
   {
    "duration": 56,
    "start_time": "2021-08-21T12:38:58.731Z"
   },
   {
    "duration": 7,
    "start_time": "2021-08-21T12:38:58.790Z"
   },
   {
    "duration": 11,
    "start_time": "2021-08-21T12:38:58.800Z"
   },
   {
    "duration": 23,
    "start_time": "2021-08-21T12:38:58.814Z"
   },
   {
    "duration": 13,
    "start_time": "2021-08-21T12:38:58.840Z"
   },
   {
    "duration": 41,
    "start_time": "2021-08-21T12:38:58.855Z"
   },
   {
    "duration": 11,
    "start_time": "2021-08-21T12:38:58.899Z"
   },
   {
    "duration": 28,
    "start_time": "2021-08-21T12:39:05.298Z"
   },
   {
    "duration": 10,
    "start_time": "2021-08-21T12:39:10.949Z"
   },
   {
    "duration": 12,
    "start_time": "2021-08-21T12:44:33.369Z"
   },
   {
    "duration": 4,
    "start_time": "2021-08-21T12:44:45.029Z"
   },
   {
    "duration": 339,
    "start_time": "2021-08-21T12:44:45.036Z"
   },
   {
    "duration": 20,
    "start_time": "2021-08-21T12:44:45.378Z"
   },
   {
    "duration": 258,
    "start_time": "2021-08-21T12:44:45.401Z"
   },
   {
    "duration": 5,
    "start_time": "2021-08-21T12:44:45.663Z"
   },
   {
    "duration": 26,
    "start_time": "2021-08-21T12:44:45.671Z"
   },
   {
    "duration": 125,
    "start_time": "2021-08-21T12:44:45.702Z"
   },
   {
    "duration": 11,
    "start_time": "2021-08-21T12:44:45.831Z"
   },
   {
    "duration": 24,
    "start_time": "2021-08-21T12:44:45.846Z"
   },
   {
    "duration": 23,
    "start_time": "2021-08-21T12:44:45.873Z"
   },
   {
    "duration": 60,
    "start_time": "2021-08-21T12:44:45.899Z"
   },
   {
    "duration": 27,
    "start_time": "2021-08-21T12:44:45.962Z"
   },
   {
    "duration": 35,
    "start_time": "2021-08-21T12:44:45.992Z"
   },
   {
    "duration": 79,
    "start_time": "2021-08-21T12:44:46.029Z"
   },
   {
    "duration": 35,
    "start_time": "2021-08-21T12:44:46.111Z"
   },
   {
    "duration": 50,
    "start_time": "2021-08-21T12:44:46.149Z"
   },
   {
    "duration": 22,
    "start_time": "2021-08-21T12:44:46.202Z"
   },
   {
    "duration": 65,
    "start_time": "2021-08-21T12:44:46.228Z"
   },
   {
    "duration": 10,
    "start_time": "2021-08-21T12:44:46.298Z"
   },
   {
    "duration": 26,
    "start_time": "2021-08-21T12:44:46.313Z"
   },
   {
    "duration": 25,
    "start_time": "2021-08-21T12:44:46.342Z"
   },
   {
    "duration": 27,
    "start_time": "2021-08-21T12:44:46.370Z"
   },
   {
    "duration": 52,
    "start_time": "2021-08-21T12:44:46.401Z"
   },
   {
    "duration": 142,
    "start_time": "2021-08-21T12:44:46.456Z"
   },
   {
    "duration": 5,
    "start_time": "2021-08-21T12:44:46.601Z"
   },
   {
    "duration": 26,
    "start_time": "2021-08-21T12:44:46.609Z"
   },
   {
    "duration": 76,
    "start_time": "2021-08-21T12:44:46.639Z"
   },
   {
    "duration": 23,
    "start_time": "2021-08-21T12:44:46.717Z"
   },
   {
    "duration": 33,
    "start_time": "2021-08-21T12:44:46.743Z"
   },
   {
    "duration": 44,
    "start_time": "2021-08-21T12:44:46.786Z"
   },
   {
    "duration": 48,
    "start_time": "2021-08-21T12:44:46.833Z"
   },
   {
    "duration": 5,
    "start_time": "2021-08-21T12:44:46.883Z"
   },
   {
    "duration": 40,
    "start_time": "2021-08-21T12:44:46.891Z"
   },
   {
    "duration": 40,
    "start_time": "2021-08-21T12:44:46.934Z"
   },
   {
    "duration": 15,
    "start_time": "2021-08-21T12:44:46.977Z"
   },
   {
    "duration": 24,
    "start_time": "2021-08-21T12:44:46.995Z"
   },
   {
    "duration": 43,
    "start_time": "2021-08-21T12:44:47.022Z"
   },
   {
    "duration": 65,
    "start_time": "2021-08-21T12:44:47.068Z"
   },
   {
    "duration": 4,
    "start_time": "2021-08-21T12:44:47.137Z"
   },
   {
    "duration": 28,
    "start_time": "2021-08-21T12:44:47.143Z"
   },
   {
    "duration": 48,
    "start_time": "2021-08-21T12:44:47.187Z"
   },
   {
    "duration": 17,
    "start_time": "2021-08-21T12:44:47.238Z"
   },
   {
    "duration": 41,
    "start_time": "2021-08-21T12:44:47.258Z"
   },
   {
    "duration": 9,
    "start_time": "2021-08-21T12:44:47.302Z"
   },
   {
    "duration": 34,
    "start_time": "2021-08-21T12:44:47.314Z"
   },
   {
    "duration": 23,
    "start_time": "2021-08-21T12:44:47.351Z"
   },
   {
    "duration": 40,
    "start_time": "2021-08-21T12:44:47.377Z"
   },
   {
    "duration": 22,
    "start_time": "2021-08-21T12:44:47.420Z"
   },
   {
    "duration": 41,
    "start_time": "2021-08-21T12:44:47.445Z"
   },
   {
    "duration": 33,
    "start_time": "2021-08-21T12:44:47.489Z"
   },
   {
    "duration": 32,
    "start_time": "2021-08-21T12:44:47.525Z"
   },
   {
    "duration": 27,
    "start_time": "2021-08-21T12:44:47.560Z"
   },
   {
    "duration": 34,
    "start_time": "2021-08-21T12:44:47.590Z"
   },
   {
    "duration": 23,
    "start_time": "2021-08-21T12:44:47.626Z"
   },
   {
    "duration": 20,
    "start_time": "2021-08-21T12:44:47.657Z"
   },
   {
    "duration": 35,
    "start_time": "2021-08-21T12:44:47.680Z"
   },
   {
    "duration": 25,
    "start_time": "2021-08-21T12:44:47.717Z"
   },
   {
    "duration": 29,
    "start_time": "2021-08-21T12:44:47.746Z"
   },
   {
    "duration": 42,
    "start_time": "2021-08-21T12:44:47.777Z"
   },
   {
    "duration": 11,
    "start_time": "2021-08-21T12:45:03.517Z"
   },
   {
    "duration": 10,
    "start_time": "2021-08-21T12:45:11.375Z"
   },
   {
    "duration": 1593,
    "start_time": "2021-08-21T12:45:51.749Z"
   },
   {
    "duration": 223,
    "start_time": "2021-08-21T12:45:53.345Z"
   },
   {
    "duration": 24,
    "start_time": "2021-08-21T12:45:53.572Z"
   },
   {
    "duration": 187,
    "start_time": "2021-08-21T12:45:53.599Z"
   },
   {
    "duration": 6,
    "start_time": "2021-08-21T12:45:53.789Z"
   },
   {
    "duration": 22,
    "start_time": "2021-08-21T12:45:53.798Z"
   },
   {
    "duration": 127,
    "start_time": "2021-08-21T12:45:53.822Z"
   },
   {
    "duration": 11,
    "start_time": "2021-08-21T12:45:53.952Z"
   },
   {
    "duration": 20,
    "start_time": "2021-08-21T12:45:53.986Z"
   },
   {
    "duration": 16,
    "start_time": "2021-08-21T12:45:54.010Z"
   },
   {
    "duration": 53,
    "start_time": "2021-08-21T12:45:54.029Z"
   },
   {
    "duration": 18,
    "start_time": "2021-08-21T12:45:54.085Z"
   },
   {
    "duration": 30,
    "start_time": "2021-08-21T12:45:54.106Z"
   },
   {
    "duration": 65,
    "start_time": "2021-08-21T12:45:54.139Z"
   },
   {
    "duration": 23,
    "start_time": "2021-08-21T12:45:54.206Z"
   },
   {
    "duration": 54,
    "start_time": "2021-08-21T12:45:54.231Z"
   },
   {
    "duration": 20,
    "start_time": "2021-08-21T12:45:54.288Z"
   },
   {
    "duration": 35,
    "start_time": "2021-08-21T12:45:54.310Z"
   },
   {
    "duration": 9,
    "start_time": "2021-08-21T12:45:54.348Z"
   },
   {
    "duration": 32,
    "start_time": "2021-08-21T12:45:54.359Z"
   },
   {
    "duration": 10,
    "start_time": "2021-08-21T12:45:54.394Z"
   },
   {
    "duration": 24,
    "start_time": "2021-08-21T12:45:54.406Z"
   },
   {
    "duration": 59,
    "start_time": "2021-08-21T12:45:54.433Z"
   },
   {
    "duration": 105,
    "start_time": "2021-08-21T12:45:54.494Z"
   },
   {
    "duration": 4,
    "start_time": "2021-08-21T12:45:54.601Z"
   },
   {
    "duration": 25,
    "start_time": "2021-08-21T12:45:54.608Z"
   },
   {
    "duration": 80,
    "start_time": "2021-08-21T12:45:54.640Z"
   },
   {
    "duration": 17,
    "start_time": "2021-08-21T12:45:54.723Z"
   },
   {
    "duration": 18,
    "start_time": "2021-08-21T12:45:54.742Z"
   },
   {
    "duration": 38,
    "start_time": "2021-08-21T12:45:54.763Z"
   },
   {
    "duration": 28,
    "start_time": "2021-08-21T12:45:54.804Z"
   },
   {
    "duration": 4,
    "start_time": "2021-08-21T12:45:54.834Z"
   },
   {
    "duration": 46,
    "start_time": "2021-08-21T12:45:54.841Z"
   },
   {
    "duration": 38,
    "start_time": "2021-08-21T12:45:54.890Z"
   },
   {
    "duration": 14,
    "start_time": "2021-08-21T12:45:54.930Z"
   },
   {
    "duration": 41,
    "start_time": "2021-08-21T12:45:54.946Z"
   },
   {
    "duration": 39,
    "start_time": "2021-08-21T12:45:54.990Z"
   },
   {
    "duration": 67,
    "start_time": "2021-08-21T12:45:55.031Z"
   },
   {
    "duration": 4,
    "start_time": "2021-08-21T12:45:55.101Z"
   },
   {
    "duration": 15,
    "start_time": "2021-08-21T12:45:55.108Z"
   },
   {
    "duration": 82,
    "start_time": "2021-08-21T12:45:55.126Z"
   },
   {
    "duration": 15,
    "start_time": "2021-08-21T12:45:55.211Z"
   },
   {
    "duration": 25,
    "start_time": "2021-08-21T12:45:55.228Z"
   },
   {
    "duration": 31,
    "start_time": "2021-08-21T12:45:55.256Z"
   },
   {
    "duration": 11,
    "start_time": "2021-08-21T12:45:55.289Z"
   },
   {
    "duration": 19,
    "start_time": "2021-08-21T12:45:55.303Z"
   },
   {
    "duration": 28,
    "start_time": "2021-08-21T12:45:55.325Z"
   },
   {
    "duration": 19,
    "start_time": "2021-08-21T12:45:55.356Z"
   },
   {
    "duration": 40,
    "start_time": "2021-08-21T12:45:55.377Z"
   },
   {
    "duration": 27,
    "start_time": "2021-08-21T12:45:55.419Z"
   },
   {
    "duration": 32,
    "start_time": "2021-08-21T12:45:55.448Z"
   },
   {
    "duration": 18,
    "start_time": "2021-08-21T12:45:55.482Z"
   },
   {
    "duration": 23,
    "start_time": "2021-08-21T12:45:55.502Z"
   },
   {
    "duration": 16,
    "start_time": "2021-08-21T12:45:55.528Z"
   },
   {
    "duration": 24,
    "start_time": "2021-08-21T12:45:55.546Z"
   },
   {
    "duration": 25,
    "start_time": "2021-08-21T12:45:55.572Z"
   },
   {
    "duration": 14,
    "start_time": "2021-08-21T12:45:55.599Z"
   },
   {
    "duration": 21,
    "start_time": "2021-08-21T12:45:55.616Z"
   },
   {
    "duration": 18,
    "start_time": "2021-08-21T12:45:55.639Z"
   },
   {
    "duration": 35,
    "start_time": "2021-08-21T12:45:55.660Z"
   },
   {
    "duration": 19,
    "start_time": "2021-08-21T12:45:55.698Z"
   },
   {
    "duration": 6,
    "start_time": "2021-08-21T12:46:57.909Z"
   },
   {
    "duration": 3,
    "start_time": "2021-08-21T12:48:09.540Z"
   },
   {
    "duration": 604,
    "start_time": "2021-08-21T12:48:33.946Z"
   },
   {
    "duration": 1501,
    "start_time": "2021-08-21T13:05:09.672Z"
   },
   {
    "duration": 222,
    "start_time": "2021-08-21T13:05:11.175Z"
   },
   {
    "duration": 17,
    "start_time": "2021-08-21T13:05:11.403Z"
   },
   {
    "duration": 190,
    "start_time": "2021-08-21T13:05:11.424Z"
   },
   {
    "duration": 6,
    "start_time": "2021-08-21T13:05:11.616Z"
   },
   {
    "duration": 16,
    "start_time": "2021-08-21T13:05:11.625Z"
   },
   {
    "duration": 129,
    "start_time": "2021-08-21T13:05:11.644Z"
   },
   {
    "duration": 20,
    "start_time": "2021-08-21T13:05:11.776Z"
   },
   {
    "duration": 19,
    "start_time": "2021-08-21T13:05:11.802Z"
   },
   {
    "duration": 18,
    "start_time": "2021-08-21T13:05:11.824Z"
   },
   {
    "duration": 54,
    "start_time": "2021-08-21T13:05:11.845Z"
   },
   {
    "duration": 18,
    "start_time": "2021-08-21T13:05:11.902Z"
   },
   {
    "duration": 38,
    "start_time": "2021-08-21T13:05:11.923Z"
   },
   {
    "duration": 49,
    "start_time": "2021-08-21T13:05:11.963Z"
   },
   {
    "duration": 22,
    "start_time": "2021-08-21T13:05:12.015Z"
   },
   {
    "duration": 62,
    "start_time": "2021-08-21T13:05:12.039Z"
   },
   {
    "duration": 21,
    "start_time": "2021-08-21T13:05:12.104Z"
   },
   {
    "duration": 30,
    "start_time": "2021-08-21T13:05:12.128Z"
   },
   {
    "duration": 39,
    "start_time": "2021-08-21T13:05:12.161Z"
   },
   {
    "duration": 26,
    "start_time": "2021-08-21T13:05:12.202Z"
   },
   {
    "duration": 15,
    "start_time": "2021-08-21T13:05:12.231Z"
   },
   {
    "duration": 34,
    "start_time": "2021-08-21T13:05:12.249Z"
   },
   {
    "duration": 46,
    "start_time": "2021-08-21T13:05:12.286Z"
   },
   {
    "duration": 100,
    "start_time": "2021-08-21T13:05:12.334Z"
   },
   {
    "duration": 4,
    "start_time": "2021-08-21T13:05:12.436Z"
   },
   {
    "duration": 25,
    "start_time": "2021-08-21T13:05:12.442Z"
   },
   {
    "duration": 80,
    "start_time": "2021-08-21T13:05:12.473Z"
   },
   {
    "duration": 16,
    "start_time": "2021-08-21T13:05:12.556Z"
   },
   {
    "duration": 27,
    "start_time": "2021-08-21T13:05:12.574Z"
   },
   {
    "duration": 26,
    "start_time": "2021-08-21T13:05:12.603Z"
   },
   {
    "duration": 28,
    "start_time": "2021-08-21T13:05:12.632Z"
   },
   {
    "duration": 26,
    "start_time": "2021-08-21T13:05:12.662Z"
   },
   {
    "duration": 23,
    "start_time": "2021-08-21T13:05:12.690Z"
   },
   {
    "duration": 43,
    "start_time": "2021-08-21T13:05:12.715Z"
   },
   {
    "duration": 13,
    "start_time": "2021-08-21T13:05:12.761Z"
   },
   {
    "duration": 24,
    "start_time": "2021-08-21T13:05:12.777Z"
   },
   {
    "duration": 38,
    "start_time": "2021-08-21T13:05:12.804Z"
   },
   {
    "duration": 59,
    "start_time": "2021-08-21T13:05:12.845Z"
   },
   {
    "duration": 4,
    "start_time": "2021-08-21T13:05:12.907Z"
   },
   {
    "duration": 15,
    "start_time": "2021-08-21T13:05:12.914Z"
   },
   {
    "duration": 68,
    "start_time": "2021-08-21T13:05:12.932Z"
   },
   {
    "duration": 14,
    "start_time": "2021-08-21T13:05:13.003Z"
   },
   {
    "duration": 18,
    "start_time": "2021-08-21T13:05:13.020Z"
   },
   {
    "duration": 8,
    "start_time": "2021-08-21T13:05:13.040Z"
   },
   {
    "duration": 48,
    "start_time": "2021-08-21T13:05:13.051Z"
   },
   {
    "duration": 5,
    "start_time": "2021-08-21T13:05:13.101Z"
   },
   {
    "duration": 14,
    "start_time": "2021-08-21T13:05:13.109Z"
   },
   {
    "duration": 7,
    "start_time": "2021-08-21T13:05:13.126Z"
   },
   {
    "duration": 16,
    "start_time": "2021-08-21T13:05:13.135Z"
   },
   {
    "duration": 46,
    "start_time": "2021-08-21T13:05:13.153Z"
   },
   {
    "duration": 10,
    "start_time": "2021-08-21T13:05:13.202Z"
   },
   {
    "duration": 14,
    "start_time": "2021-08-21T13:05:13.215Z"
   },
   {
    "duration": 9,
    "start_time": "2021-08-21T13:05:13.231Z"
   },
   {
    "duration": 20,
    "start_time": "2021-08-21T13:05:13.242Z"
   },
   {
    "duration": 27,
    "start_time": "2021-08-21T13:05:13.265Z"
   },
   {
    "duration": 23,
    "start_time": "2021-08-21T13:05:13.295Z"
   },
   {
    "duration": 12,
    "start_time": "2021-08-21T13:05:13.321Z"
   },
   {
    "duration": 20,
    "start_time": "2021-08-21T13:05:13.336Z"
   },
   {
    "duration": 30,
    "start_time": "2021-08-21T13:05:13.358Z"
   },
   {
    "duration": 16,
    "start_time": "2021-08-21T13:05:13.390Z"
   },
   {
    "duration": 13,
    "start_time": "2021-08-21T13:05:13.409Z"
   },
   {
    "duration": 5,
    "start_time": "2021-08-21T13:08:04.912Z"
   },
   {
    "duration": 509,
    "start_time": "2021-08-21T13:08:26.575Z"
   },
   {
    "duration": 5,
    "start_time": "2021-08-21T13:08:57.009Z"
   },
   {
    "duration": 327,
    "start_time": "2021-08-21T13:09:18.360Z"
   },
   {
    "duration": 1522,
    "start_time": "2021-08-21T13:09:40.698Z"
   },
   {
    "duration": 219,
    "start_time": "2021-08-21T13:09:42.223Z"
   },
   {
    "duration": 18,
    "start_time": "2021-08-21T13:09:42.445Z"
   },
   {
    "duration": 185,
    "start_time": "2021-08-21T13:09:42.467Z"
   },
   {
    "duration": 5,
    "start_time": "2021-08-21T13:09:42.655Z"
   },
   {
    "duration": 33,
    "start_time": "2021-08-21T13:09:42.662Z"
   },
   {
    "duration": 125,
    "start_time": "2021-08-21T13:09:42.698Z"
   },
   {
    "duration": 11,
    "start_time": "2021-08-21T13:09:42.826Z"
   },
   {
    "duration": 33,
    "start_time": "2021-08-21T13:09:42.842Z"
   },
   {
    "duration": 21,
    "start_time": "2021-08-21T13:09:42.878Z"
   },
   {
    "duration": 47,
    "start_time": "2021-08-21T13:09:42.902Z"
   },
   {
    "duration": 21,
    "start_time": "2021-08-21T13:09:42.951Z"
   },
   {
    "duration": 40,
    "start_time": "2021-08-21T13:09:42.975Z"
   },
   {
    "duration": 49,
    "start_time": "2021-08-21T13:09:43.018Z"
   },
   {
    "duration": 34,
    "start_time": "2021-08-21T13:09:43.069Z"
   },
   {
    "duration": 39,
    "start_time": "2021-08-21T13:09:43.106Z"
   },
   {
    "duration": 41,
    "start_time": "2021-08-21T13:09:43.147Z"
   },
   {
    "duration": 32,
    "start_time": "2021-08-21T13:09:43.191Z"
   },
   {
    "duration": 9,
    "start_time": "2021-08-21T13:09:43.226Z"
   },
   {
    "duration": 22,
    "start_time": "2021-08-21T13:09:43.237Z"
   },
   {
    "duration": 28,
    "start_time": "2021-08-21T13:09:43.261Z"
   },
   {
    "duration": 35,
    "start_time": "2021-08-21T13:09:43.292Z"
   },
   {
    "duration": 43,
    "start_time": "2021-08-21T13:09:43.330Z"
   },
   {
    "duration": 114,
    "start_time": "2021-08-21T13:09:43.376Z"
   },
   {
    "duration": 5,
    "start_time": "2021-08-21T13:09:43.493Z"
   },
   {
    "duration": 28,
    "start_time": "2021-08-21T13:09:43.500Z"
   },
   {
    "duration": 75,
    "start_time": "2021-08-21T13:09:43.535Z"
   },
   {
    "duration": 16,
    "start_time": "2021-08-21T13:09:43.613Z"
   },
   {
    "duration": 19,
    "start_time": "2021-08-21T13:09:43.632Z"
   },
   {
    "duration": 39,
    "start_time": "2021-08-21T13:09:43.654Z"
   },
   {
    "duration": 35,
    "start_time": "2021-08-21T13:09:43.696Z"
   },
   {
    "duration": 4,
    "start_time": "2021-08-21T13:09:43.735Z"
   },
   {
    "duration": 19,
    "start_time": "2021-08-21T13:09:43.742Z"
   },
   {
    "duration": 32,
    "start_time": "2021-08-21T13:09:43.785Z"
   },
   {
    "duration": 14,
    "start_time": "2021-08-21T13:09:43.820Z"
   },
   {
    "duration": 20,
    "start_time": "2021-08-21T13:09:43.837Z"
   },
   {
    "duration": 51,
    "start_time": "2021-08-21T13:09:43.860Z"
   },
   {
    "duration": 43,
    "start_time": "2021-08-21T13:09:43.914Z"
   },
   {
    "duration": 3,
    "start_time": "2021-08-21T13:09:43.960Z"
   },
   {
    "duration": 16,
    "start_time": "2021-08-21T13:09:43.986Z"
   },
   {
    "duration": 68,
    "start_time": "2021-08-21T13:09:44.005Z"
   },
   {
    "duration": 28,
    "start_time": "2021-08-21T13:09:44.075Z"
   },
   {
    "duration": 24,
    "start_time": "2021-08-21T13:09:44.109Z"
   },
   {
    "duration": 12,
    "start_time": "2021-08-21T13:09:44.136Z"
   },
   {
    "duration": 16,
    "start_time": "2021-08-21T13:09:44.150Z"
   },
   {
    "duration": 6,
    "start_time": "2021-08-21T13:09:44.186Z"
   },
   {
    "duration": 30,
    "start_time": "2021-08-21T13:09:44.195Z"
   },
   {
    "duration": 22,
    "start_time": "2021-08-21T13:09:44.227Z"
   },
   {
    "duration": 29,
    "start_time": "2021-08-21T13:09:44.251Z"
   },
   {
    "duration": 20,
    "start_time": "2021-08-21T13:09:44.282Z"
   },
   {
    "duration": 21,
    "start_time": "2021-08-21T13:09:44.305Z"
   },
   {
    "duration": 13,
    "start_time": "2021-08-21T13:09:44.328Z"
   },
   {
    "duration": 12,
    "start_time": "2021-08-21T13:09:44.343Z"
   },
   {
    "duration": 19,
    "start_time": "2021-08-21T13:09:44.358Z"
   },
   {
    "duration": 18,
    "start_time": "2021-08-21T13:09:44.380Z"
   },
   {
    "duration": 25,
    "start_time": "2021-08-21T13:09:44.401Z"
   },
   {
    "duration": 15,
    "start_time": "2021-08-21T13:09:44.429Z"
   },
   {
    "duration": 26,
    "start_time": "2021-08-21T13:09:44.446Z"
   },
   {
    "duration": 20,
    "start_time": "2021-08-21T13:09:44.474Z"
   },
   {
    "duration": 16,
    "start_time": "2021-08-21T13:09:44.497Z"
   },
   {
    "duration": 15,
    "start_time": "2021-08-21T13:09:44.515Z"
   },
   {
    "duration": 1479,
    "start_time": "2021-08-21T13:26:58.098Z"
   },
   {
    "duration": 226,
    "start_time": "2021-08-21T13:26:59.580Z"
   },
   {
    "duration": 17,
    "start_time": "2021-08-21T13:26:59.809Z"
   },
   {
    "duration": 182,
    "start_time": "2021-08-21T13:26:59.829Z"
   },
   {
    "duration": 5,
    "start_time": "2021-08-21T13:27:00.014Z"
   },
   {
    "duration": 26,
    "start_time": "2021-08-21T13:27:00.021Z"
   },
   {
    "duration": 138,
    "start_time": "2021-08-21T13:27:00.050Z"
   },
   {
    "duration": 12,
    "start_time": "2021-08-21T13:27:00.192Z"
   },
   {
    "duration": 48,
    "start_time": "2021-08-21T13:27:00.206Z"
   },
   {
    "duration": 70,
    "start_time": "2021-08-21T13:27:00.257Z"
   },
   {
    "duration": 57,
    "start_time": "2021-08-21T13:27:00.330Z"
   },
   {
    "duration": 30,
    "start_time": "2021-08-21T13:27:00.390Z"
   },
   {
    "duration": 40,
    "start_time": "2021-08-21T13:27:00.422Z"
   },
   {
    "duration": 49,
    "start_time": "2021-08-21T13:27:00.465Z"
   },
   {
    "duration": 23,
    "start_time": "2021-08-21T13:27:00.516Z"
   },
   {
    "duration": 54,
    "start_time": "2021-08-21T13:27:00.542Z"
   },
   {
    "duration": 39,
    "start_time": "2021-08-21T13:27:00.599Z"
   },
   {
    "duration": 48,
    "start_time": "2021-08-21T13:27:00.641Z"
   },
   {
    "duration": 9,
    "start_time": "2021-08-21T13:27:00.692Z"
   },
   {
    "duration": 32,
    "start_time": "2021-08-21T13:27:00.704Z"
   },
   {
    "duration": 35,
    "start_time": "2021-08-21T13:27:00.739Z"
   },
   {
    "duration": 27,
    "start_time": "2021-08-21T13:27:00.777Z"
   },
   {
    "duration": 51,
    "start_time": "2021-08-21T13:27:00.811Z"
   },
   {
    "duration": 103,
    "start_time": "2021-08-21T13:27:00.865Z"
   },
   {
    "duration": 4,
    "start_time": "2021-08-21T13:27:00.970Z"
   },
   {
    "duration": 36,
    "start_time": "2021-08-21T13:27:00.976Z"
   },
   {
    "duration": 72,
    "start_time": "2021-08-21T13:27:01.015Z"
   },
   {
    "duration": 20,
    "start_time": "2021-08-21T13:27:01.090Z"
   },
   {
    "duration": 28,
    "start_time": "2021-08-21T13:27:01.113Z"
   },
   {
    "duration": 43,
    "start_time": "2021-08-21T13:27:01.144Z"
   },
   {
    "duration": 35,
    "start_time": "2021-08-21T13:27:01.190Z"
   },
   {
    "duration": 12,
    "start_time": "2021-08-21T13:27:01.227Z"
   },
   {
    "duration": 29,
    "start_time": "2021-08-21T13:27:01.241Z"
   },
   {
    "duration": 35,
    "start_time": "2021-08-21T13:27:01.273Z"
   },
   {
    "duration": 14,
    "start_time": "2021-08-21T13:27:01.311Z"
   },
   {
    "duration": 56,
    "start_time": "2021-08-21T13:27:01.327Z"
   },
   {
    "duration": 43,
    "start_time": "2021-08-21T13:27:01.386Z"
   },
   {
    "duration": 43,
    "start_time": "2021-08-21T13:27:01.431Z"
   },
   {
    "duration": 9,
    "start_time": "2021-08-21T13:27:01.476Z"
   },
   {
    "duration": 53,
    "start_time": "2021-08-21T13:27:01.487Z"
   },
   {
    "duration": 124,
    "start_time": "2021-08-21T13:27:01.542Z"
   },
   {
    "duration": 16,
    "start_time": "2021-08-21T13:27:01.668Z"
   },
   {
    "duration": 69,
    "start_time": "2021-08-21T13:27:01.687Z"
   },
   {
    "duration": 53,
    "start_time": "2021-08-21T13:27:01.759Z"
   },
   {
    "duration": 24,
    "start_time": "2021-08-21T13:27:01.815Z"
   },
   {
    "duration": 26,
    "start_time": "2021-08-21T13:27:01.841Z"
   },
   {
    "duration": 35,
    "start_time": "2021-08-21T13:27:01.869Z"
   },
   {
    "duration": 70,
    "start_time": "2021-08-21T13:27:01.907Z"
   },
   {
    "duration": 33,
    "start_time": "2021-08-21T13:27:01.979Z"
   },
   {
    "duration": 20,
    "start_time": "2021-08-21T13:27:02.014Z"
   },
   {
    "duration": 44,
    "start_time": "2021-08-21T13:27:02.036Z"
   },
   {
    "duration": 39,
    "start_time": "2021-08-21T13:27:02.083Z"
   },
   {
    "duration": 22,
    "start_time": "2021-08-21T13:27:02.124Z"
   },
   {
    "duration": 22,
    "start_time": "2021-08-21T13:27:02.149Z"
   },
   {
    "duration": 24,
    "start_time": "2021-08-21T13:27:02.173Z"
   },
   {
    "duration": 17,
    "start_time": "2021-08-21T13:27:02.200Z"
   },
   {
    "duration": 12,
    "start_time": "2021-08-21T13:27:02.220Z"
   },
   {
    "duration": 24,
    "start_time": "2021-08-21T13:27:02.234Z"
   },
   {
    "duration": 63,
    "start_time": "2021-08-21T13:27:02.261Z"
   },
   {
    "duration": 53,
    "start_time": "2021-08-21T13:27:02.327Z"
   },
   {
    "duration": 17,
    "start_time": "2021-08-21T13:27:17.797Z"
   },
   {
    "duration": 10,
    "start_time": "2021-08-21T13:27:55.568Z"
   },
   {
    "duration": 5,
    "start_time": "2021-08-21T13:28:12.702Z"
   },
   {
    "duration": 13,
    "start_time": "2021-08-21T13:28:43.069Z"
   },
   {
    "duration": 19,
    "start_time": "2021-08-21T13:28:50.068Z"
   },
   {
    "duration": 4,
    "start_time": "2021-08-21T13:28:57.327Z"
   },
   {
    "duration": 19,
    "start_time": "2021-08-21T13:28:57.941Z"
   },
   {
    "duration": 443,
    "start_time": "2021-08-21T13:29:27.889Z"
   },
   {
    "duration": 286,
    "start_time": "2021-08-21T13:29:39.647Z"
   },
   {
    "duration": 19,
    "start_time": "2021-08-21T13:31:11.773Z"
   },
   {
    "duration": 398,
    "start_time": "2021-08-21T13:31:45.079Z"
   },
   {
    "duration": 352,
    "start_time": "2021-08-21T13:34:30.027Z"
   },
   {
    "duration": 313,
    "start_time": "2021-08-21T13:34:40.857Z"
   },
   {
    "duration": 5,
    "start_time": "2021-08-21T13:35:48.942Z"
   },
   {
    "duration": 4366,
    "start_time": "2021-08-21T13:36:17.592Z"
   },
   {
    "duration": 639,
    "start_time": "2021-08-21T13:37:02.532Z"
   },
   {
    "duration": 5,
    "start_time": "2021-08-21T13:37:10.717Z"
   },
   {
    "duration": 72,
    "start_time": "2021-08-21T13:37:11.666Z"
   },
   {
    "duration": 19,
    "start_time": "2021-08-21T13:37:16.083Z"
   },
   {
    "duration": 3,
    "start_time": "2021-08-21T13:38:29.123Z"
   },
   {
    "duration": 1494,
    "start_time": "2021-08-21T13:38:40.562Z"
   },
   {
    "duration": 202,
    "start_time": "2021-08-21T13:38:42.059Z"
   },
   {
    "duration": 23,
    "start_time": "2021-08-21T13:38:42.265Z"
   },
   {
    "duration": 178,
    "start_time": "2021-08-21T13:38:42.291Z"
   },
   {
    "duration": 15,
    "start_time": "2021-08-21T13:38:42.471Z"
   },
   {
    "duration": 19,
    "start_time": "2021-08-21T13:38:42.489Z"
   },
   {
    "duration": 119,
    "start_time": "2021-08-21T13:38:42.511Z"
   },
   {
    "duration": 12,
    "start_time": "2021-08-21T13:38:42.634Z"
   },
   {
    "duration": 36,
    "start_time": "2021-08-21T13:38:42.650Z"
   },
   {
    "duration": 12,
    "start_time": "2021-08-21T13:38:42.689Z"
   },
   {
    "duration": 42,
    "start_time": "2021-08-21T13:38:42.705Z"
   },
   {
    "duration": 17,
    "start_time": "2021-08-21T13:38:42.750Z"
   },
   {
    "duration": 33,
    "start_time": "2021-08-21T13:38:42.770Z"
   },
   {
    "duration": 42,
    "start_time": "2021-08-21T13:38:42.806Z"
   },
   {
    "duration": 38,
    "start_time": "2021-08-21T13:38:42.850Z"
   },
   {
    "duration": 34,
    "start_time": "2021-08-21T13:38:42.891Z"
   },
   {
    "duration": 21,
    "start_time": "2021-08-21T13:38:42.928Z"
   },
   {
    "duration": 32,
    "start_time": "2021-08-21T13:38:42.986Z"
   },
   {
    "duration": 10,
    "start_time": "2021-08-21T13:38:43.020Z"
   },
   {
    "duration": 11,
    "start_time": "2021-08-21T13:38:43.033Z"
   },
   {
    "duration": 42,
    "start_time": "2021-08-21T13:38:43.047Z"
   },
   {
    "duration": 14,
    "start_time": "2021-08-21T13:38:43.092Z"
   },
   {
    "duration": 34,
    "start_time": "2021-08-21T13:38:43.114Z"
   },
   {
    "duration": 121,
    "start_time": "2021-08-21T13:38:43.152Z"
   },
   {
    "duration": 5,
    "start_time": "2021-08-21T13:38:43.280Z"
   },
   {
    "duration": 15,
    "start_time": "2021-08-21T13:38:43.288Z"
   },
   {
    "duration": 81,
    "start_time": "2021-08-21T13:38:43.306Z"
   },
   {
    "duration": 20,
    "start_time": "2021-08-21T13:38:43.390Z"
   },
   {
    "duration": 23,
    "start_time": "2021-08-21T13:38:43.413Z"
   },
   {
    "duration": 28,
    "start_time": "2021-08-21T13:38:43.439Z"
   },
   {
    "duration": 39,
    "start_time": "2021-08-21T13:38:43.470Z"
   },
   {
    "duration": 5,
    "start_time": "2021-08-21T13:38:43.512Z"
   },
   {
    "duration": 16,
    "start_time": "2021-08-21T13:38:43.520Z"
   },
   {
    "duration": 64,
    "start_time": "2021-08-21T13:38:43.539Z"
   },
   {
    "duration": 13,
    "start_time": "2021-08-21T13:38:43.606Z"
   },
   {
    "duration": 17,
    "start_time": "2021-08-21T13:38:43.622Z"
   },
   {
    "duration": 49,
    "start_time": "2021-08-21T13:38:43.642Z"
   },
   {
    "duration": 42,
    "start_time": "2021-08-21T13:38:43.693Z"
   },
   {
    "duration": 5,
    "start_time": "2021-08-21T13:38:43.738Z"
   },
   {
    "duration": 16,
    "start_time": "2021-08-21T13:38:43.745Z"
   },
   {
    "duration": 69,
    "start_time": "2021-08-21T13:38:43.764Z"
   },
   {
    "duration": 15,
    "start_time": "2021-08-21T13:38:43.835Z"
   },
   {
    "duration": 40,
    "start_time": "2021-08-21T13:38:43.852Z"
   },
   {
    "duration": 6,
    "start_time": "2021-08-21T13:38:43.894Z"
   },
   {
    "duration": 20,
    "start_time": "2021-08-21T13:38:43.902Z"
   },
   {
    "duration": 9,
    "start_time": "2021-08-21T13:38:43.924Z"
   },
   {
    "duration": 18,
    "start_time": "2021-08-21T13:38:43.935Z"
   },
   {
    "duration": 30,
    "start_time": "2021-08-21T13:38:43.956Z"
   },
   {
    "duration": 19,
    "start_time": "2021-08-21T13:38:43.988Z"
   },
   {
    "duration": 13,
    "start_time": "2021-08-21T13:38:44.010Z"
   },
   {
    "duration": 20,
    "start_time": "2021-08-21T13:38:44.025Z"
   },
   {
    "duration": 13,
    "start_time": "2021-08-21T13:38:44.047Z"
   },
   {
    "duration": 25,
    "start_time": "2021-08-21T13:38:44.063Z"
   },
   {
    "duration": 13,
    "start_time": "2021-08-21T13:38:44.091Z"
   },
   {
    "duration": 20,
    "start_time": "2021-08-21T13:38:44.106Z"
   },
   {
    "duration": 15,
    "start_time": "2021-08-21T13:38:44.128Z"
   },
   {
    "duration": 42,
    "start_time": "2021-08-21T13:38:44.146Z"
   },
   {
    "duration": 19,
    "start_time": "2021-08-21T13:38:44.191Z"
   },
   {
    "duration": 15,
    "start_time": "2021-08-21T13:38:44.213Z"
   },
   {
    "duration": 13,
    "start_time": "2021-08-21T13:38:44.231Z"
   },
   {
    "duration": 41,
    "start_time": "2021-08-21T13:38:44.246Z"
   },
   {
    "duration": 18,
    "start_time": "2021-08-21T13:38:44.289Z"
   },
   {
    "duration": 8,
    "start_time": "2021-08-21T13:38:44.309Z"
   },
   {
    "duration": 22,
    "start_time": "2021-08-21T13:38:44.319Z"
   },
   {
    "duration": 17,
    "start_time": "2021-08-21T13:38:44.344Z"
   },
   {
    "duration": 4,
    "start_time": "2021-08-21T13:38:44.385Z"
   },
   {
    "duration": 6,
    "start_time": "2021-08-21T13:39:52.067Z"
   },
   {
    "duration": 17,
    "start_time": "2021-08-21T13:39:55.168Z"
   },
   {
    "duration": 1677,
    "start_time": "2021-08-21T13:40:56.512Z"
   },
   {
    "duration": 4,
    "start_time": "2021-08-21T13:43:12.231Z"
   },
   {
    "duration": 227,
    "start_time": "2021-08-21T13:43:12.239Z"
   },
   {
    "duration": 17,
    "start_time": "2021-08-21T13:43:12.485Z"
   },
   {
    "duration": 181,
    "start_time": "2021-08-21T13:43:12.506Z"
   },
   {
    "duration": 6,
    "start_time": "2021-08-21T13:43:12.690Z"
   },
   {
    "duration": 19,
    "start_time": "2021-08-21T13:43:12.699Z"
   },
   {
    "duration": 124,
    "start_time": "2021-08-21T13:43:12.721Z"
   },
   {
    "duration": 11,
    "start_time": "2021-08-21T13:43:12.849Z"
   },
   {
    "duration": 27,
    "start_time": "2021-08-21T13:43:12.863Z"
   },
   {
    "duration": 20,
    "start_time": "2021-08-21T13:43:12.892Z"
   },
   {
    "duration": 44,
    "start_time": "2021-08-21T13:43:12.914Z"
   },
   {
    "duration": 14,
    "start_time": "2021-08-21T13:43:12.961Z"
   },
   {
    "duration": 37,
    "start_time": "2021-08-21T13:43:12.978Z"
   },
   {
    "duration": 38,
    "start_time": "2021-08-21T13:43:13.018Z"
   },
   {
    "duration": 43,
    "start_time": "2021-08-21T13:43:13.059Z"
   },
   {
    "duration": 29,
    "start_time": "2021-08-21T13:43:13.105Z"
   },
   {
    "duration": 19,
    "start_time": "2021-08-21T13:43:13.136Z"
   },
   {
    "duration": 57,
    "start_time": "2021-08-21T13:43:13.158Z"
   },
   {
    "duration": 9,
    "start_time": "2021-08-21T13:43:13.218Z"
   },
   {
    "duration": 14,
    "start_time": "2021-08-21T13:43:13.229Z"
   },
   {
    "duration": 10,
    "start_time": "2021-08-21T13:43:13.245Z"
   },
   {
    "duration": 41,
    "start_time": "2021-08-21T13:43:13.257Z"
   },
   {
    "duration": 31,
    "start_time": "2021-08-21T13:43:13.305Z"
   },
   {
    "duration": 116,
    "start_time": "2021-08-21T13:43:13.340Z"
   },
   {
    "duration": 4,
    "start_time": "2021-08-21T13:43:13.459Z"
   },
   {
    "duration": 26,
    "start_time": "2021-08-21T13:43:13.465Z"
   },
   {
    "duration": 64,
    "start_time": "2021-08-21T13:43:13.493Z"
   },
   {
    "duration": 30,
    "start_time": "2021-08-21T13:43:13.559Z"
   },
   {
    "duration": 12,
    "start_time": "2021-08-21T13:43:13.592Z"
   },
   {
    "duration": 31,
    "start_time": "2021-08-21T13:43:13.607Z"
   },
   {
    "duration": 59,
    "start_time": "2021-08-21T13:43:13.640Z"
   },
   {
    "duration": 4,
    "start_time": "2021-08-21T13:43:13.701Z"
   },
   {
    "duration": 15,
    "start_time": "2021-08-21T13:43:13.707Z"
   },
   {
    "duration": 31,
    "start_time": "2021-08-21T13:43:13.725Z"
   },
   {
    "duration": 31,
    "start_time": "2021-08-21T13:43:13.759Z"
   },
   {
    "duration": 28,
    "start_time": "2021-08-21T13:43:13.792Z"
   },
   {
    "duration": 26,
    "start_time": "2021-08-21T13:43:13.823Z"
   },
   {
    "duration": 57,
    "start_time": "2021-08-21T13:43:13.851Z"
   },
   {
    "duration": 5,
    "start_time": "2021-08-21T13:43:13.912Z"
   },
   {
    "duration": 16,
    "start_time": "2021-08-21T13:43:13.920Z"
   },
   {
    "duration": 71,
    "start_time": "2021-08-21T13:43:13.939Z"
   },
   {
    "duration": 17,
    "start_time": "2021-08-21T13:43:14.012Z"
   },
   {
    "duration": 28,
    "start_time": "2021-08-21T13:43:14.032Z"
   },
   {
    "duration": 25,
    "start_time": "2021-08-21T13:43:14.063Z"
   },
   {
    "duration": 21,
    "start_time": "2021-08-21T13:43:14.091Z"
   },
   {
    "duration": 7,
    "start_time": "2021-08-21T13:43:14.115Z"
   },
   {
    "duration": 15,
    "start_time": "2021-08-21T13:43:14.124Z"
   },
   {
    "duration": 9,
    "start_time": "2021-08-21T13:43:14.141Z"
   },
   {
    "duration": 43,
    "start_time": "2021-08-21T13:43:14.152Z"
   },
   {
    "duration": 8,
    "start_time": "2021-08-21T13:43:14.198Z"
   },
   {
    "duration": 21,
    "start_time": "2021-08-21T13:43:14.209Z"
   },
   {
    "duration": 12,
    "start_time": "2021-08-21T13:43:14.232Z"
   },
   {
    "duration": 7,
    "start_time": "2021-08-21T13:43:14.247Z"
   },
   {
    "duration": 32,
    "start_time": "2021-08-21T13:43:14.256Z"
   },
   {
    "duration": 11,
    "start_time": "2021-08-21T13:43:14.294Z"
   },
   {
    "duration": 21,
    "start_time": "2021-08-21T13:43:14.307Z"
   },
   {
    "duration": 11,
    "start_time": "2021-08-21T13:43:14.331Z"
   },
   {
    "duration": 17,
    "start_time": "2021-08-21T13:43:14.345Z"
   },
   {
    "duration": 17,
    "start_time": "2021-08-21T13:43:14.385Z"
   },
   {
    "duration": 12,
    "start_time": "2021-08-21T13:43:14.404Z"
   },
   {
    "duration": 14,
    "start_time": "2021-08-21T13:43:14.419Z"
   },
   {
    "duration": 16,
    "start_time": "2021-08-21T13:43:14.436Z"
   },
   {
    "duration": 5,
    "start_time": "2021-08-21T13:43:20.931Z"
   },
   {
    "duration": 6,
    "start_time": "2021-08-21T13:46:01.397Z"
   },
   {
    "duration": 5,
    "start_time": "2021-08-21T13:46:46.954Z"
   },
   {
    "duration": 17,
    "start_time": "2021-08-21T13:46:55.156Z"
   },
   {
    "duration": 7,
    "start_time": "2021-08-21T13:47:06.552Z"
   },
   {
    "duration": 11,
    "start_time": "2021-08-21T13:47:07.922Z"
   },
   {
    "duration": 18,
    "start_time": "2021-08-21T13:47:13.192Z"
   },
   {
    "duration": 1706,
    "start_time": "2021-08-21T13:47:32.941Z"
   },
   {
    "duration": 8,
    "start_time": "2021-08-21T13:47:56.728Z"
   },
   {
    "duration": 32,
    "start_time": "2021-08-21T13:48:25.683Z"
   },
   {
    "duration": 5,
    "start_time": "2021-08-21T13:49:30.272Z"
   },
   {
    "duration": 257,
    "start_time": "2021-08-21T13:49:30.280Z"
   },
   {
    "duration": 11,
    "start_time": "2021-08-21T13:49:30.540Z"
   },
   {
    "duration": 191,
    "start_time": "2021-08-21T13:49:30.555Z"
   },
   {
    "duration": 4,
    "start_time": "2021-08-21T13:49:30.749Z"
   },
   {
    "duration": 37,
    "start_time": "2021-08-21T13:49:30.755Z"
   },
   {
    "duration": 153,
    "start_time": "2021-08-21T13:49:30.795Z"
   },
   {
    "duration": 13,
    "start_time": "2021-08-21T13:49:30.951Z"
   },
   {
    "duration": 35,
    "start_time": "2021-08-21T13:49:30.968Z"
   },
   {
    "duration": 31,
    "start_time": "2021-08-21T13:49:31.006Z"
   },
   {
    "duration": 39,
    "start_time": "2021-08-21T13:49:31.040Z"
   },
   {
    "duration": 45,
    "start_time": "2021-08-21T13:49:31.081Z"
   },
   {
    "duration": 46,
    "start_time": "2021-08-21T13:49:31.128Z"
   },
   {
    "duration": 46,
    "start_time": "2021-08-21T13:49:31.176Z"
   },
   {
    "duration": 21,
    "start_time": "2021-08-21T13:49:31.225Z"
   },
   {
    "duration": 74,
    "start_time": "2021-08-21T13:49:31.248Z"
   },
   {
    "duration": 25,
    "start_time": "2021-08-21T13:49:31.324Z"
   },
   {
    "duration": 35,
    "start_time": "2021-08-21T13:49:31.352Z"
   },
   {
    "duration": 26,
    "start_time": "2021-08-21T13:49:31.391Z"
   },
   {
    "duration": 57,
    "start_time": "2021-08-21T13:49:31.419Z"
   },
   {
    "duration": 49,
    "start_time": "2021-08-21T13:49:31.478Z"
   },
   {
    "duration": 31,
    "start_time": "2021-08-21T13:49:31.530Z"
   },
   {
    "duration": 59,
    "start_time": "2021-08-21T13:49:31.563Z"
   },
   {
    "duration": 97,
    "start_time": "2021-08-21T13:49:31.624Z"
   },
   {
    "duration": 4,
    "start_time": "2021-08-21T13:49:31.723Z"
   },
   {
    "duration": 25,
    "start_time": "2021-08-21T13:49:31.729Z"
   },
   {
    "duration": 71,
    "start_time": "2021-08-21T13:49:31.760Z"
   },
   {
    "duration": 16,
    "start_time": "2021-08-21T13:49:31.834Z"
   },
   {
    "duration": 43,
    "start_time": "2021-08-21T13:49:31.852Z"
   },
   {
    "duration": 41,
    "start_time": "2021-08-21T13:49:31.898Z"
   },
   {
    "duration": 33,
    "start_time": "2021-08-21T13:49:31.942Z"
   },
   {
    "duration": 9,
    "start_time": "2021-08-21T13:49:31.978Z"
   },
   {
    "duration": 42,
    "start_time": "2021-08-21T13:49:31.990Z"
   },
   {
    "duration": 52,
    "start_time": "2021-08-21T13:49:32.034Z"
   },
   {
    "duration": 17,
    "start_time": "2021-08-21T13:49:32.089Z"
   },
   {
    "duration": 26,
    "start_time": "2021-08-21T13:49:32.109Z"
   },
   {
    "duration": 40,
    "start_time": "2021-08-21T13:49:32.139Z"
   },
   {
    "duration": 49,
    "start_time": "2021-08-21T13:49:32.181Z"
   },
   {
    "duration": 4,
    "start_time": "2021-08-21T13:49:32.232Z"
   },
   {
    "duration": 28,
    "start_time": "2021-08-21T13:49:32.239Z"
   },
   {
    "duration": 57,
    "start_time": "2021-08-21T13:49:32.269Z"
   },
   {
    "duration": 15,
    "start_time": "2021-08-21T13:49:32.329Z"
   },
   {
    "duration": 39,
    "start_time": "2021-08-21T13:49:32.347Z"
   },
   {
    "duration": 23,
    "start_time": "2021-08-21T13:49:32.389Z"
   },
   {
    "duration": 21,
    "start_time": "2021-08-21T13:49:32.414Z"
   },
   {
    "duration": 25,
    "start_time": "2021-08-21T13:49:32.437Z"
   },
   {
    "duration": 25,
    "start_time": "2021-08-21T13:49:32.464Z"
   },
   {
    "duration": 20,
    "start_time": "2021-08-21T13:49:32.492Z"
   },
   {
    "duration": 27,
    "start_time": "2021-08-21T13:49:32.514Z"
   },
   {
    "duration": 16,
    "start_time": "2021-08-21T13:49:32.545Z"
   },
   {
    "duration": 36,
    "start_time": "2021-08-21T13:49:32.563Z"
   },
   {
    "duration": 14,
    "start_time": "2021-08-21T13:49:32.602Z"
   },
   {
    "duration": 25,
    "start_time": "2021-08-21T13:49:32.618Z"
   },
   {
    "duration": 27,
    "start_time": "2021-08-21T13:49:32.646Z"
   },
   {
    "duration": 17,
    "start_time": "2021-08-21T13:49:32.676Z"
   },
   {
    "duration": 23,
    "start_time": "2021-08-21T13:49:32.697Z"
   },
   {
    "duration": 16,
    "start_time": "2021-08-21T13:49:32.723Z"
   },
   {
    "duration": 46,
    "start_time": "2021-08-21T13:49:32.742Z"
   },
   {
    "duration": 23,
    "start_time": "2021-08-21T13:49:32.791Z"
   },
   {
    "duration": 17,
    "start_time": "2021-08-21T13:49:32.816Z"
   },
   {
    "duration": 27,
    "start_time": "2021-08-21T13:49:32.835Z"
   },
   {
    "duration": 224,
    "start_time": "2021-08-21T13:49:45.337Z"
   },
   {
    "duration": 25,
    "start_time": "2021-08-21T13:49:51.546Z"
   },
   {
    "duration": 16,
    "start_time": "2021-08-21T13:50:06.757Z"
   },
   {
    "duration": 4,
    "start_time": "2021-08-21T13:50:07.971Z"
   },
   {
    "duration": 6,
    "start_time": "2021-08-21T13:50:08.366Z"
   },
   {
    "duration": 5,
    "start_time": "2021-08-21T13:50:08.767Z"
   },
   {
    "duration": 20,
    "start_time": "2021-08-21T13:50:10.052Z"
   },
   {
    "duration": 4,
    "start_time": "2021-08-21T13:50:12.603Z"
   },
   {
    "duration": 7,
    "start_time": "2021-08-21T13:50:14.208Z"
   },
   {
    "duration": 30,
    "start_time": "2021-08-21T13:50:28.182Z"
   },
   {
    "duration": 10,
    "start_time": "2021-08-21T13:51:38.227Z"
   },
   {
    "duration": 11,
    "start_time": "2021-08-21T13:54:58.842Z"
   },
   {
    "duration": 11,
    "start_time": "2021-08-21T13:54:59.668Z"
   },
   {
    "duration": 18,
    "start_time": "2021-08-21T13:55:04.747Z"
   },
   {
    "duration": 4,
    "start_time": "2021-08-21T13:55:06.862Z"
   },
   {
    "duration": 10,
    "start_time": "2021-08-21T13:55:15.133Z"
   },
   {
    "duration": 8,
    "start_time": "2021-08-21T13:55:15.528Z"
   },
   {
    "duration": 45,
    "start_time": "2021-08-21T13:55:15.833Z"
   },
   {
    "duration": 6,
    "start_time": "2021-08-21T13:55:16.667Z"
   },
   {
    "duration": 14,
    "start_time": "2021-08-21T13:55:17.038Z"
   },
   {
    "duration": 18,
    "start_time": "2021-08-21T13:55:17.338Z"
   },
   {
    "duration": 11,
    "start_time": "2021-08-21T13:55:17.678Z"
   },
   {
    "duration": 20,
    "start_time": "2021-08-21T13:55:35.525Z"
   },
   {
    "duration": 1647,
    "start_time": "2021-08-21T13:56:03.431Z"
   },
   {
    "duration": 226,
    "start_time": "2021-08-21T13:56:05.080Z"
   },
   {
    "duration": 22,
    "start_time": "2021-08-21T13:56:05.310Z"
   },
   {
    "duration": 199,
    "start_time": "2021-08-21T13:56:05.335Z"
   },
   {
    "duration": 6,
    "start_time": "2021-08-21T13:56:05.537Z"
   },
   {
    "duration": 31,
    "start_time": "2021-08-21T13:56:05.546Z"
   },
   {
    "duration": 133,
    "start_time": "2021-08-21T13:56:05.579Z"
   },
   {
    "duration": 12,
    "start_time": "2021-08-21T13:56:05.717Z"
   },
   {
    "duration": 32,
    "start_time": "2021-08-21T13:56:05.734Z"
   },
   {
    "duration": 34,
    "start_time": "2021-08-21T13:56:05.768Z"
   },
   {
    "duration": 70,
    "start_time": "2021-08-21T13:56:05.805Z"
   },
   {
    "duration": 29,
    "start_time": "2021-08-21T13:56:05.878Z"
   },
   {
    "duration": 48,
    "start_time": "2021-08-21T13:56:05.910Z"
   },
   {
    "duration": 49,
    "start_time": "2021-08-21T13:56:05.961Z"
   },
   {
    "duration": 26,
    "start_time": "2021-08-21T13:56:06.013Z"
   },
   {
    "duration": 73,
    "start_time": "2021-08-21T13:56:06.043Z"
   },
   {
    "duration": 31,
    "start_time": "2021-08-21T13:56:06.119Z"
   },
   {
    "duration": 63,
    "start_time": "2021-08-21T13:56:06.152Z"
   },
   {
    "duration": 10,
    "start_time": "2021-08-21T13:56:06.218Z"
   },
   {
    "duration": 10,
    "start_time": "2021-08-21T13:56:06.230Z"
   },
   {
    "duration": 10,
    "start_time": "2021-08-21T13:56:06.243Z"
   },
   {
    "duration": 39,
    "start_time": "2021-08-21T13:56:06.256Z"
   },
   {
    "duration": 39,
    "start_time": "2021-08-21T13:56:06.305Z"
   },
   {
    "duration": 117,
    "start_time": "2021-08-21T13:56:06.348Z"
   },
   {
    "duration": 4,
    "start_time": "2021-08-21T13:56:06.467Z"
   },
   {
    "duration": 26,
    "start_time": "2021-08-21T13:56:06.474Z"
   },
   {
    "duration": 61,
    "start_time": "2021-08-21T13:56:06.505Z"
   },
   {
    "duration": 36,
    "start_time": "2021-08-21T13:56:06.569Z"
   },
   {
    "duration": 19,
    "start_time": "2021-08-21T13:56:06.608Z"
   },
   {
    "duration": 32,
    "start_time": "2021-08-21T13:56:06.630Z"
   },
   {
    "duration": 47,
    "start_time": "2021-08-21T13:56:06.664Z"
   },
   {
    "duration": 4,
    "start_time": "2021-08-21T13:56:06.713Z"
   },
   {
    "duration": 21,
    "start_time": "2021-08-21T13:56:06.720Z"
   },
   {
    "duration": 63,
    "start_time": "2021-08-21T13:56:06.744Z"
   },
   {
    "duration": 14,
    "start_time": "2021-08-21T13:56:06.809Z"
   },
   {
    "duration": 26,
    "start_time": "2021-08-21T13:56:06.825Z"
   },
   {
    "duration": 51,
    "start_time": "2021-08-21T13:56:06.854Z"
   },
   {
    "duration": 43,
    "start_time": "2021-08-21T13:56:06.908Z"
   },
   {
    "duration": 4,
    "start_time": "2021-08-21T13:56:06.954Z"
   },
   {
    "duration": 39,
    "start_time": "2021-08-21T13:56:06.961Z"
   },
   {
    "duration": 52,
    "start_time": "2021-08-21T13:56:07.003Z"
   },
   {
    "duration": 15,
    "start_time": "2021-08-21T13:56:07.057Z"
   },
   {
    "duration": 22,
    "start_time": "2021-08-21T13:56:07.087Z"
   },
   {
    "duration": 20,
    "start_time": "2021-08-21T13:56:07.112Z"
   },
   {
    "duration": 23,
    "start_time": "2021-08-21T13:56:07.134Z"
   },
   {
    "duration": 23,
    "start_time": "2021-08-21T13:56:07.159Z"
   },
   {
    "duration": 34,
    "start_time": "2021-08-21T13:56:07.185Z"
   },
   {
    "duration": 23,
    "start_time": "2021-08-21T13:56:07.222Z"
   },
   {
    "duration": 21,
    "start_time": "2021-08-21T13:56:07.248Z"
   },
   {
    "duration": 21,
    "start_time": "2021-08-21T13:56:07.272Z"
   },
   {
    "duration": 12,
    "start_time": "2021-08-21T13:56:07.300Z"
   },
   {
    "duration": 13,
    "start_time": "2021-08-21T13:56:07.314Z"
   },
   {
    "duration": 12,
    "start_time": "2021-08-21T13:56:07.330Z"
   },
   {
    "duration": 7,
    "start_time": "2021-08-21T13:56:07.344Z"
   },
   {
    "duration": 42,
    "start_time": "2021-08-21T13:56:07.353Z"
   },
   {
    "duration": 15,
    "start_time": "2021-08-21T13:56:07.398Z"
   },
   {
    "duration": 16,
    "start_time": "2021-08-21T13:56:07.415Z"
   },
   {
    "duration": 20,
    "start_time": "2021-08-21T13:56:07.434Z"
   },
   {
    "duration": 45,
    "start_time": "2021-08-21T13:56:07.457Z"
   },
   {
    "duration": 9,
    "start_time": "2021-08-21T13:56:07.504Z"
   },
   {
    "duration": 13,
    "start_time": "2021-08-21T13:56:07.516Z"
   },
   {
    "duration": 61,
    "start_time": "2021-08-21T13:56:07.533Z"
   },
   {
    "duration": 16,
    "start_time": "2021-08-21T13:56:07.597Z"
   },
   {
    "duration": 8,
    "start_time": "2021-08-21T13:56:07.616Z"
   },
   {
    "duration": 15,
    "start_time": "2021-08-21T13:56:07.627Z"
   },
   {
    "duration": 20,
    "start_time": "2021-08-21T13:56:07.645Z"
   },
   {
    "duration": 30,
    "start_time": "2021-08-21T13:56:07.668Z"
   },
   {
    "duration": 8,
    "start_time": "2021-08-21T13:56:07.706Z"
   },
   {
    "duration": 21,
    "start_time": "2021-08-21T13:56:20.318Z"
   },
   {
    "duration": 10,
    "start_time": "2021-08-21T13:57:23.243Z"
   },
   {
    "duration": 17,
    "start_time": "2021-08-21T13:57:23.967Z"
   },
   {
    "duration": 6,
    "start_time": "2021-08-21T13:58:27.806Z"
   },
   {
    "duration": 17,
    "start_time": "2021-08-21T13:58:30.702Z"
   },
   {
    "duration": 6,
    "start_time": "2021-08-21T13:58:57.093Z"
   },
   {
    "duration": 17,
    "start_time": "2021-08-21T13:58:59.456Z"
   },
   {
    "duration": 1666,
    "start_time": "2021-08-21T13:59:07.797Z"
   },
   {
    "duration": 228,
    "start_time": "2021-08-21T13:59:09.466Z"
   },
   {
    "duration": 18,
    "start_time": "2021-08-21T13:59:09.698Z"
   },
   {
    "duration": 188,
    "start_time": "2021-08-21T13:59:09.720Z"
   },
   {
    "duration": 6,
    "start_time": "2021-08-21T13:59:09.911Z"
   },
   {
    "duration": 14,
    "start_time": "2021-08-21T13:59:09.920Z"
   },
   {
    "duration": 171,
    "start_time": "2021-08-21T13:59:09.936Z"
   },
   {
    "duration": 14,
    "start_time": "2021-08-21T13:59:10.110Z"
   },
   {
    "duration": 20,
    "start_time": "2021-08-21T13:59:10.131Z"
   },
   {
    "duration": 37,
    "start_time": "2021-08-21T13:59:10.156Z"
   },
   {
    "duration": 54,
    "start_time": "2021-08-21T13:59:10.197Z"
   },
   {
    "duration": 15,
    "start_time": "2021-08-21T13:59:10.254Z"
   },
   {
    "duration": 43,
    "start_time": "2021-08-21T13:59:10.271Z"
   },
   {
    "duration": 44,
    "start_time": "2021-08-21T13:59:10.319Z"
   },
   {
    "duration": 36,
    "start_time": "2021-08-21T13:59:10.365Z"
   },
   {
    "duration": 48,
    "start_time": "2021-08-21T13:59:10.404Z"
   },
   {
    "duration": 49,
    "start_time": "2021-08-21T13:59:10.455Z"
   },
   {
    "duration": 34,
    "start_time": "2021-08-21T13:59:10.507Z"
   },
   {
    "duration": 12,
    "start_time": "2021-08-21T13:59:10.544Z"
   },
   {
    "duration": 12,
    "start_time": "2021-08-21T13:59:10.587Z"
   },
   {
    "duration": 11,
    "start_time": "2021-08-21T13:59:10.605Z"
   },
   {
    "duration": 24,
    "start_time": "2021-08-21T13:59:10.619Z"
   },
   {
    "duration": 66,
    "start_time": "2021-08-21T13:59:10.646Z"
   },
   {
    "duration": 123,
    "start_time": "2021-08-21T13:59:10.714Z"
   },
   {
    "duration": 5,
    "start_time": "2021-08-21T13:59:10.840Z"
   },
   {
    "duration": 33,
    "start_time": "2021-08-21T13:59:10.848Z"
   },
   {
    "duration": 79,
    "start_time": "2021-08-21T13:59:10.891Z"
   },
   {
    "duration": 28,
    "start_time": "2021-08-21T13:59:10.974Z"
   },
   {
    "duration": 18,
    "start_time": "2021-08-21T13:59:11.005Z"
   },
   {
    "duration": 24,
    "start_time": "2021-08-21T13:59:11.026Z"
   },
   {
    "duration": 62,
    "start_time": "2021-08-21T13:59:11.052Z"
   },
   {
    "duration": 4,
    "start_time": "2021-08-21T13:59:11.116Z"
   },
   {
    "duration": 19,
    "start_time": "2021-08-21T13:59:11.123Z"
   },
   {
    "duration": 78,
    "start_time": "2021-08-21T13:59:11.145Z"
   },
   {
    "duration": 20,
    "start_time": "2021-08-21T13:59:11.227Z"
   },
   {
    "duration": 42,
    "start_time": "2021-08-21T13:59:11.250Z"
   },
   {
    "duration": 27,
    "start_time": "2021-08-21T13:59:11.295Z"
   },
   {
    "duration": 71,
    "start_time": "2021-08-21T13:59:11.325Z"
   },
   {
    "duration": 5,
    "start_time": "2021-08-21T13:59:11.399Z"
   },
   {
    "duration": 27,
    "start_time": "2021-08-21T13:59:11.407Z"
   },
   {
    "duration": 60,
    "start_time": "2021-08-21T13:59:11.436Z"
   },
   {
    "duration": 17,
    "start_time": "2021-08-21T13:59:11.499Z"
   },
   {
    "duration": 24,
    "start_time": "2021-08-21T13:59:11.519Z"
   },
   {
    "duration": 5,
    "start_time": "2021-08-21T13:59:11.546Z"
   },
   {
    "duration": 41,
    "start_time": "2021-08-21T13:59:11.554Z"
   },
   {
    "duration": 17,
    "start_time": "2021-08-21T13:59:11.598Z"
   },
   {
    "duration": 16,
    "start_time": "2021-08-21T13:59:11.618Z"
   },
   {
    "duration": 10,
    "start_time": "2021-08-21T13:59:11.638Z"
   },
   {
    "duration": 43,
    "start_time": "2021-08-21T13:59:11.651Z"
   },
   {
    "duration": 15,
    "start_time": "2021-08-21T13:59:11.697Z"
   },
   {
    "duration": 15,
    "start_time": "2021-08-21T13:59:11.715Z"
   },
   {
    "duration": 8,
    "start_time": "2021-08-21T13:59:11.733Z"
   },
   {
    "duration": 7,
    "start_time": "2021-08-21T13:59:11.743Z"
   },
   {
    "duration": 34,
    "start_time": "2021-08-21T13:59:11.752Z"
   },
   {
    "duration": 12,
    "start_time": "2021-08-21T13:59:11.791Z"
   },
   {
    "duration": 30,
    "start_time": "2021-08-21T13:59:11.805Z"
   },
   {
    "duration": 14,
    "start_time": "2021-08-21T13:59:11.838Z"
   },
   {
    "duration": 40,
    "start_time": "2021-08-21T13:59:11.856Z"
   },
   {
    "duration": 15,
    "start_time": "2021-08-21T13:59:11.899Z"
   },
   {
    "duration": 9,
    "start_time": "2021-08-21T13:59:11.917Z"
   },
   {
    "duration": 16,
    "start_time": "2021-08-21T13:59:11.929Z"
   },
   {
    "duration": 59,
    "start_time": "2021-08-21T13:59:11.948Z"
   },
   {
    "duration": 5,
    "start_time": "2021-08-21T13:59:12.010Z"
   },
   {
    "duration": 17,
    "start_time": "2021-08-21T13:59:12.018Z"
   },
   {
    "duration": 11,
    "start_time": "2021-08-21T13:59:12.037Z"
   },
   {
    "duration": 10,
    "start_time": "2021-08-21T13:59:12.050Z"
   },
   {
    "duration": 34,
    "start_time": "2021-08-21T13:59:12.063Z"
   },
   {
    "duration": 23,
    "start_time": "2021-08-21T13:59:12.099Z"
   },
   {
    "duration": 7,
    "start_time": "2021-08-21T13:59:12.125Z"
   },
   {
    "duration": 17,
    "start_time": "2021-08-21T13:59:12.135Z"
   },
   {
    "duration": 13,
    "start_time": "2021-08-21T13:59:12.155Z"
   },
   {
    "duration": 41,
    "start_time": "2021-08-21T13:59:12.171Z"
   },
   {
    "duration": 627,
    "start_time": "2021-08-21T14:11:46.429Z"
   },
   {
    "duration": 8,
    "start_time": "2021-08-21T14:12:20.355Z"
   },
   {
    "duration": 152,
    "start_time": "2021-08-21T14:13:21.020Z"
   },
   {
    "duration": 16,
    "start_time": "2021-08-21T14:13:24.362Z"
   },
   {
    "duration": 24,
    "start_time": "2021-08-21T14:13:39.296Z"
   },
   {
    "duration": 19,
    "start_time": "2021-08-21T14:14:29.852Z"
   },
   {
    "duration": 1619,
    "start_time": "2021-08-21T14:24:36.521Z"
   },
   {
    "duration": 257,
    "start_time": "2021-08-21T14:24:38.144Z"
   },
   {
    "duration": 22,
    "start_time": "2021-08-21T14:24:38.405Z"
   },
   {
    "duration": 203,
    "start_time": "2021-08-21T14:24:38.429Z"
   },
   {
    "duration": 5,
    "start_time": "2021-08-21T14:24:38.634Z"
   },
   {
    "duration": 17,
    "start_time": "2021-08-21T14:24:38.642Z"
   },
   {
    "duration": 130,
    "start_time": "2021-08-21T14:24:38.661Z"
   },
   {
    "duration": 18,
    "start_time": "2021-08-21T14:24:38.794Z"
   },
   {
    "duration": 32,
    "start_time": "2021-08-21T14:24:38.816Z"
   },
   {
    "duration": 20,
    "start_time": "2021-08-21T14:24:38.853Z"
   },
   {
    "duration": 56,
    "start_time": "2021-08-21T14:24:38.885Z"
   },
   {
    "duration": 51,
    "start_time": "2021-08-21T14:24:38.944Z"
   },
   {
    "duration": 45,
    "start_time": "2021-08-21T14:24:38.999Z"
   },
   {
    "duration": 90,
    "start_time": "2021-08-21T14:24:39.047Z"
   },
   {
    "duration": 32,
    "start_time": "2021-08-21T14:24:39.140Z"
   },
   {
    "duration": 48,
    "start_time": "2021-08-21T14:24:39.174Z"
   },
   {
    "duration": 20,
    "start_time": "2021-08-21T14:24:39.225Z"
   },
   {
    "duration": 52,
    "start_time": "2021-08-21T14:24:39.287Z"
   },
   {
    "duration": 67,
    "start_time": "2021-08-21T14:24:39.342Z"
   },
   {
    "duration": 15,
    "start_time": "2021-08-21T14:24:39.412Z"
   },
   {
    "duration": 12,
    "start_time": "2021-08-21T14:24:39.430Z"
   },
   {
    "duration": 56,
    "start_time": "2021-08-21T14:24:39.446Z"
   },
   {
    "duration": 87,
    "start_time": "2021-08-21T14:24:39.506Z"
   },
   {
    "duration": 143,
    "start_time": "2021-08-21T14:24:39.599Z"
   },
   {
    "duration": 4,
    "start_time": "2021-08-21T14:24:39.744Z"
   },
   {
    "duration": 17,
    "start_time": "2021-08-21T14:24:39.751Z"
   },
   {
    "duration": 63,
    "start_time": "2021-08-21T14:24:39.792Z"
   },
   {
    "duration": 37,
    "start_time": "2021-08-21T14:24:39.859Z"
   },
   {
    "duration": 15,
    "start_time": "2021-08-21T14:24:39.899Z"
   },
   {
    "duration": 31,
    "start_time": "2021-08-21T14:24:39.916Z"
   },
   {
    "duration": 65,
    "start_time": "2021-08-21T14:24:39.949Z"
   },
   {
    "duration": 5,
    "start_time": "2021-08-21T14:24:40.018Z"
   },
   {
    "duration": 40,
    "start_time": "2021-08-21T14:24:40.025Z"
   },
   {
    "duration": 49,
    "start_time": "2021-08-21T14:24:40.068Z"
   },
   {
    "duration": 17,
    "start_time": "2021-08-21T14:24:40.120Z"
   },
   {
    "duration": 18,
    "start_time": "2021-08-21T14:24:40.140Z"
   },
   {
    "duration": 49,
    "start_time": "2021-08-21T14:24:40.185Z"
   },
   {
    "duration": 65,
    "start_time": "2021-08-21T14:24:40.237Z"
   },
   {
    "duration": 4,
    "start_time": "2021-08-21T14:24:40.305Z"
   },
   {
    "duration": 21,
    "start_time": "2021-08-21T14:24:40.311Z"
   },
   {
    "duration": 67,
    "start_time": "2021-08-21T14:24:40.334Z"
   },
   {
    "duration": 15,
    "start_time": "2021-08-21T14:24:40.404Z"
   },
   {
    "duration": 22,
    "start_time": "2021-08-21T14:24:40.422Z"
   },
   {
    "duration": 13,
    "start_time": "2021-08-21T14:24:40.447Z"
   },
   {
    "duration": 41,
    "start_time": "2021-08-21T14:24:40.462Z"
   },
   {
    "duration": 18,
    "start_time": "2021-08-21T14:24:40.506Z"
   },
   {
    "duration": 25,
    "start_time": "2021-08-21T14:24:40.526Z"
   },
   {
    "duration": 14,
    "start_time": "2021-08-21T14:24:40.553Z"
   },
   {
    "duration": 49,
    "start_time": "2021-08-21T14:24:40.570Z"
   },
   {
    "duration": 22,
    "start_time": "2021-08-21T14:24:40.622Z"
   },
   {
    "duration": 26,
    "start_time": "2021-08-21T14:24:40.646Z"
   },
   {
    "duration": 21,
    "start_time": "2021-08-21T14:24:40.674Z"
   },
   {
    "duration": 17,
    "start_time": "2021-08-21T14:24:40.699Z"
   },
   {
    "duration": 11,
    "start_time": "2021-08-21T14:24:40.719Z"
   },
   {
    "duration": 22,
    "start_time": "2021-08-21T14:24:40.732Z"
   },
   {
    "duration": 44,
    "start_time": "2021-08-21T14:24:40.757Z"
   },
   {
    "duration": 10,
    "start_time": "2021-08-21T14:24:40.804Z"
   },
   {
    "duration": 21,
    "start_time": "2021-08-21T14:24:40.816Z"
   },
   {
    "duration": 11,
    "start_time": "2021-08-21T14:24:40.839Z"
   },
   {
    "duration": 36,
    "start_time": "2021-08-21T14:24:40.853Z"
   },
   {
    "duration": 6,
    "start_time": "2021-08-21T14:24:40.893Z"
   },
   {
    "duration": 23,
    "start_time": "2021-08-21T14:24:40.902Z"
   },
   {
    "duration": 21,
    "start_time": "2021-08-21T14:24:40.928Z"
   },
   {
    "duration": 16,
    "start_time": "2021-08-21T14:24:40.952Z"
   },
   {
    "duration": 20,
    "start_time": "2021-08-21T14:24:40.970Z"
   },
   {
    "duration": 8,
    "start_time": "2021-08-21T14:24:40.993Z"
   },
   {
    "duration": 11,
    "start_time": "2021-08-21T14:24:41.003Z"
   },
   {
    "duration": 23,
    "start_time": "2021-08-21T14:24:41.018Z"
   },
   {
    "duration": 49,
    "start_time": "2021-08-21T14:24:41.044Z"
   },
   {
    "duration": 166,
    "start_time": "2021-08-21T14:24:41.097Z"
   },
   {
    "duration": 23,
    "start_time": "2021-08-21T14:24:41.265Z"
   },
   {
    "duration": 6,
    "start_time": "2021-08-21T14:31:12.051Z"
   },
   {
    "duration": 6,
    "start_time": "2021-08-21T14:31:31.352Z"
   },
   {
    "duration": 7,
    "start_time": "2021-08-21T14:32:17.010Z"
   },
   {
    "duration": 5,
    "start_time": "2021-08-21T14:32:37.261Z"
   },
   {
    "duration": 6,
    "start_time": "2021-08-21T14:34:12.722Z"
   },
   {
    "duration": 536,
    "start_time": "2021-08-21T14:34:20.740Z"
   },
   {
    "duration": 28,
    "start_time": "2021-08-21T14:34:25.896Z"
   },
   {
    "duration": 5,
    "start_time": "2021-08-21T14:34:39.174Z"
   },
   {
    "duration": 1880,
    "start_time": "2021-08-21T14:35:12.707Z"
   },
   {
    "duration": 227,
    "start_time": "2021-08-21T14:35:14.593Z"
   },
   {
    "duration": 17,
    "start_time": "2021-08-21T14:35:14.823Z"
   },
   {
    "duration": 250,
    "start_time": "2021-08-21T14:35:14.844Z"
   },
   {
    "duration": 11,
    "start_time": "2021-08-21T14:35:15.098Z"
   },
   {
    "duration": 27,
    "start_time": "2021-08-21T14:35:15.113Z"
   },
   {
    "duration": 157,
    "start_time": "2021-08-21T14:35:15.143Z"
   },
   {
    "duration": 17,
    "start_time": "2021-08-21T14:35:15.304Z"
   },
   {
    "duration": 18,
    "start_time": "2021-08-21T14:35:15.326Z"
   },
   {
    "duration": 14,
    "start_time": "2021-08-21T14:35:15.348Z"
   },
   {
    "duration": 46,
    "start_time": "2021-08-21T14:35:15.365Z"
   },
   {
    "duration": 25,
    "start_time": "2021-08-21T14:35:15.414Z"
   },
   {
    "duration": 50,
    "start_time": "2021-08-21T14:35:15.443Z"
   },
   {
    "duration": 64,
    "start_time": "2021-08-21T14:35:15.497Z"
   },
   {
    "duration": 50,
    "start_time": "2021-08-21T14:35:15.564Z"
   },
   {
    "duration": 71,
    "start_time": "2021-08-21T14:35:15.617Z"
   },
   {
    "duration": 28,
    "start_time": "2021-08-21T14:35:15.691Z"
   },
   {
    "duration": 31,
    "start_time": "2021-08-21T14:35:15.722Z"
   },
   {
    "duration": 38,
    "start_time": "2021-08-21T14:35:15.755Z"
   },
   {
    "duration": 12,
    "start_time": "2021-08-21T14:35:15.799Z"
   },
   {
    "duration": 6,
    "start_time": "2021-08-21T14:35:15.815Z"
   },
   {
    "duration": 15,
    "start_time": "2021-08-21T14:35:15.824Z"
   },
   {
    "duration": 84,
    "start_time": "2021-08-21T14:35:15.841Z"
   },
   {
    "duration": 117,
    "start_time": "2021-08-21T14:35:15.928Z"
   },
   {
    "duration": 4,
    "start_time": "2021-08-21T14:35:16.047Z"
   },
   {
    "duration": 34,
    "start_time": "2021-08-21T14:35:16.053Z"
   },
   {
    "duration": 65,
    "start_time": "2021-08-21T14:35:16.102Z"
   },
   {
    "duration": 23,
    "start_time": "2021-08-21T14:35:16.170Z"
   },
   {
    "duration": 15,
    "start_time": "2021-08-21T14:35:16.196Z"
   },
   {
    "duration": 28,
    "start_time": "2021-08-21T14:35:16.214Z"
   },
   {
    "duration": 61,
    "start_time": "2021-08-21T14:35:16.245Z"
   },
   {
    "duration": 5,
    "start_time": "2021-08-21T14:35:16.309Z"
   },
   {
    "duration": 13,
    "start_time": "2021-08-21T14:35:16.317Z"
   },
   {
    "duration": 57,
    "start_time": "2021-08-21T14:35:16.333Z"
   },
   {
    "duration": 25,
    "start_time": "2021-08-21T14:35:16.393Z"
   },
   {
    "duration": 11,
    "start_time": "2021-08-21T14:35:16.421Z"
   },
   {
    "duration": 58,
    "start_time": "2021-08-21T14:35:16.435Z"
   },
   {
    "duration": 47,
    "start_time": "2021-08-21T14:35:16.501Z"
   },
   {
    "duration": 3,
    "start_time": "2021-08-21T14:35:16.550Z"
   },
   {
    "duration": 13,
    "start_time": "2021-08-21T14:35:16.556Z"
   },
   {
    "duration": 77,
    "start_time": "2021-08-21T14:35:16.572Z"
   },
   {
    "duration": 14,
    "start_time": "2021-08-21T14:35:16.652Z"
   },
   {
    "duration": 43,
    "start_time": "2021-08-21T14:35:16.668Z"
   },
   {
    "duration": 5,
    "start_time": "2021-08-21T14:35:16.715Z"
   },
   {
    "duration": 18,
    "start_time": "2021-08-21T14:35:16.723Z"
   },
   {
    "duration": 7,
    "start_time": "2021-08-21T14:35:16.744Z"
   },
   {
    "duration": 14,
    "start_time": "2021-08-21T14:35:16.753Z"
   },
   {
    "duration": 11,
    "start_time": "2021-08-21T14:35:16.789Z"
   },
   {
    "duration": 16,
    "start_time": "2021-08-21T14:35:16.808Z"
   },
   {
    "duration": 8,
    "start_time": "2021-08-21T14:35:16.827Z"
   },
   {
    "duration": 13,
    "start_time": "2021-08-21T14:35:16.838Z"
   },
   {
    "duration": 48,
    "start_time": "2021-08-21T14:35:16.853Z"
   },
   {
    "duration": 22,
    "start_time": "2021-08-21T14:35:16.904Z"
   },
   {
    "duration": 11,
    "start_time": "2021-08-21T14:35:16.929Z"
   },
   {
    "duration": 18,
    "start_time": "2021-08-21T14:35:16.943Z"
   },
   {
    "duration": 51,
    "start_time": "2021-08-21T14:35:16.962Z"
   },
   {
    "duration": 12,
    "start_time": "2021-08-21T14:35:17.016Z"
   },
   {
    "duration": 17,
    "start_time": "2021-08-21T14:35:17.030Z"
   },
   {
    "duration": 51,
    "start_time": "2021-08-21T14:35:17.050Z"
   },
   {
    "duration": 8,
    "start_time": "2021-08-21T14:35:17.104Z"
   },
   {
    "duration": 8,
    "start_time": "2021-08-21T14:35:17.115Z"
   },
   {
    "duration": 8,
    "start_time": "2021-08-21T14:35:17.126Z"
   },
   {
    "duration": 13,
    "start_time": "2021-08-21T14:35:17.136Z"
   },
   {
    "duration": 20,
    "start_time": "2021-08-21T14:35:17.151Z"
   },
   {
    "duration": 5,
    "start_time": "2021-08-21T14:35:17.202Z"
   },
   {
    "duration": 17,
    "start_time": "2021-08-21T14:35:17.210Z"
   },
   {
    "duration": 16,
    "start_time": "2021-08-21T14:35:17.229Z"
   },
   {
    "duration": 24,
    "start_time": "2021-08-21T14:35:17.248Z"
   },
   {
    "duration": 25,
    "start_time": "2021-08-21T14:35:17.275Z"
   },
   {
    "duration": 177,
    "start_time": "2021-08-21T14:35:17.306Z"
   },
   {
    "duration": 27,
    "start_time": "2021-08-21T14:35:17.489Z"
   },
   {
    "duration": 9,
    "start_time": "2021-08-21T14:35:17.519Z"
   },
   {
    "duration": 7,
    "start_time": "2021-08-21T14:35:17.531Z"
   },
   {
    "duration": 6,
    "start_time": "2021-08-21T14:35:17.541Z"
   },
   {
    "duration": 11,
    "start_time": "2021-08-21T14:35:17.586Z"
   },
   {
    "duration": 11,
    "start_time": "2021-08-21T14:35:17.614Z"
   },
   {
    "duration": 9,
    "start_time": "2021-08-21T14:35:17.629Z"
   },
   {
    "duration": 7,
    "start_time": "2021-08-21T14:38:10.347Z"
   },
   {
    "duration": 5,
    "start_time": "2021-08-21T14:38:36.877Z"
   },
   {
    "duration": 7,
    "start_time": "2021-08-21T14:39:41.288Z"
   },
   {
    "duration": 8,
    "start_time": "2021-08-21T14:39:57.403Z"
   },
   {
    "duration": 109,
    "start_time": "2021-08-21T14:41:39.063Z"
   },
   {
    "duration": 14,
    "start_time": "2021-08-21T14:41:49.581Z"
   },
   {
    "duration": 6,
    "start_time": "2021-08-21T14:42:36.222Z"
   },
   {
    "duration": 143,
    "start_time": "2021-08-21T14:42:47.900Z"
   },
   {
    "duration": 6,
    "start_time": "2021-08-21T14:43:06.697Z"
   },
   {
    "duration": 6,
    "start_time": "2021-08-21T14:43:13.897Z"
   },
   {
    "duration": 6,
    "start_time": "2021-08-21T14:44:25.673Z"
   },
   {
    "duration": 6,
    "start_time": "2021-08-21T14:44:54.063Z"
   },
   {
    "duration": 7,
    "start_time": "2021-08-21T14:45:13.743Z"
   },
   {
    "duration": 6,
    "start_time": "2021-08-21T14:45:24.323Z"
   },
   {
    "duration": 7,
    "start_time": "2021-08-21T14:45:28.077Z"
   },
   {
    "duration": 6,
    "start_time": "2021-08-21T14:45:43.929Z"
   },
   {
    "duration": 6,
    "start_time": "2021-08-21T14:46:04.147Z"
   },
   {
    "duration": 6,
    "start_time": "2021-08-21T14:46:09.708Z"
   },
   {
    "duration": 371,
    "start_time": "2021-08-21T14:48:03.827Z"
   },
   {
    "duration": 314,
    "start_time": "2021-08-21T14:48:19.053Z"
   },
   {
    "duration": 475,
    "start_time": "2021-08-21T14:48:27.379Z"
   },
   {
    "duration": 10,
    "start_time": "2021-08-21T14:54:40.589Z"
   },
   {
    "duration": 8,
    "start_time": "2021-08-21T14:55:27.697Z"
   },
   {
    "duration": 6,
    "start_time": "2021-08-21T14:57:32.563Z"
   },
   {
    "duration": 7,
    "start_time": "2021-08-21T14:58:02.368Z"
   },
   {
    "duration": 359,
    "start_time": "2021-08-21T15:01:16.356Z"
   },
   {
    "duration": 329,
    "start_time": "2021-08-21T15:01:28.673Z"
   },
   {
    "duration": 341,
    "start_time": "2021-08-21T15:02:05.268Z"
   },
   {
    "duration": 403,
    "start_time": "2021-08-21T15:02:20.862Z"
   },
   {
    "duration": 926,
    "start_time": "2021-08-21T15:02:41.817Z"
   },
   {
    "duration": 327,
    "start_time": "2021-08-21T15:02:55.092Z"
   },
   {
    "duration": 397,
    "start_time": "2021-08-21T15:03:01.763Z"
   },
   {
    "duration": 388,
    "start_time": "2021-08-21T15:03:12.957Z"
   },
   {
    "duration": 407,
    "start_time": "2021-08-21T15:03:39.856Z"
   },
   {
    "duration": 404,
    "start_time": "2021-08-21T15:03:58.299Z"
   },
   {
    "duration": 360,
    "start_time": "2021-08-21T15:04:56.806Z"
   },
   {
    "duration": 372,
    "start_time": "2021-08-21T15:05:12.293Z"
   },
   {
    "duration": 378,
    "start_time": "2021-08-21T15:05:23.063Z"
   },
   {
    "duration": 366,
    "start_time": "2021-08-21T15:05:29.003Z"
   },
   {
    "duration": 475,
    "start_time": "2021-08-21T15:05:42.236Z"
   },
   {
    "duration": 384,
    "start_time": "2021-08-21T15:05:49.168Z"
   },
   {
    "duration": 362,
    "start_time": "2021-08-21T15:05:57.561Z"
   },
   {
    "duration": 449,
    "start_time": "2021-08-21T15:06:37.551Z"
   },
   {
    "duration": 524,
    "start_time": "2021-08-21T15:06:49.474Z"
   },
   {
    "duration": 404,
    "start_time": "2021-08-21T15:06:54.148Z"
   },
   {
    "duration": 445,
    "start_time": "2021-08-21T15:07:54.383Z"
   },
   {
    "duration": 409,
    "start_time": "2021-08-21T15:08:10.921Z"
   },
   {
    "duration": 404,
    "start_time": "2021-08-21T15:08:54.741Z"
   },
   {
    "duration": 374,
    "start_time": "2021-08-21T15:09:17.858Z"
   },
   {
    "duration": 424,
    "start_time": "2021-08-21T15:10:22.654Z"
   },
   {
    "duration": 726,
    "start_time": "2021-08-21T15:10:44.268Z"
   },
   {
    "duration": 747,
    "start_time": "2021-08-21T15:10:51.218Z"
   },
   {
    "duration": 450,
    "start_time": "2021-08-21T15:10:58.493Z"
   },
   {
    "duration": 16,
    "start_time": "2021-08-21T15:18:13.401Z"
   },
   {
    "duration": 6,
    "start_time": "2021-08-21T15:21:33.436Z"
   },
   {
    "duration": 17,
    "start_time": "2021-08-21T15:21:41.017Z"
   },
   {
    "duration": 7,
    "start_time": "2021-08-21T15:21:58.368Z"
   },
   {
    "duration": 17,
    "start_time": "2021-08-21T15:22:05.321Z"
   },
   {
    "duration": 9,
    "start_time": "2021-08-21T15:22:41.108Z"
   },
   {
    "duration": 11,
    "start_time": "2021-08-21T16:25:25.522Z"
   },
   {
    "duration": 349,
    "start_time": "2021-08-21T16:39:21.261Z"
   },
   {
    "duration": 385,
    "start_time": "2021-08-21T16:39:28.457Z"
   },
   {
    "duration": 410,
    "start_time": "2021-08-21T16:39:33.411Z"
   },
   {
    "duration": 505,
    "start_time": "2021-08-21T16:39:38.689Z"
   },
   {
    "duration": 397,
    "start_time": "2021-08-21T16:39:50.052Z"
   },
   {
    "duration": 468,
    "start_time": "2021-08-21T16:40:25.940Z"
   },
   {
    "duration": 392,
    "start_time": "2021-08-21T16:40:32.316Z"
   },
   {
    "duration": 389,
    "start_time": "2021-08-21T16:40:54.640Z"
   },
   {
    "duration": 6,
    "start_time": "2021-08-21T16:50:08.166Z"
   },
   {
    "duration": 6,
    "start_time": "2021-08-21T16:50:20.121Z"
   },
   {
    "duration": 425,
    "start_time": "2021-08-21T16:50:27.343Z"
   },
   {
    "duration": 670,
    "start_time": "2021-08-21T16:50:38.136Z"
   },
   {
    "duration": 546,
    "start_time": "2021-08-21T16:50:46.946Z"
   },
   {
    "duration": 7,
    "start_time": "2021-08-21T16:50:58.630Z"
   },
   {
    "duration": 5,
    "start_time": "2021-08-21T16:51:08.051Z"
   },
   {
    "duration": 382,
    "start_time": "2021-08-21T16:51:16.406Z"
   },
   {
    "duration": 506,
    "start_time": "2021-08-21T16:51:23.621Z"
   },
   {
    "duration": 6,
    "start_time": "2021-08-21T16:51:48.545Z"
   },
   {
    "duration": 6,
    "start_time": "2021-08-21T16:51:58.161Z"
   },
   {
    "duration": 493,
    "start_time": "2021-08-21T16:52:06.550Z"
   },
   {
    "duration": 528,
    "start_time": "2021-08-21T16:52:12.733Z"
   },
   {
    "duration": 1541,
    "start_time": "2021-08-21T16:52:56.418Z"
   },
   {
    "duration": 215,
    "start_time": "2021-08-21T16:52:57.961Z"
   },
   {
    "duration": 20,
    "start_time": "2021-08-21T16:52:58.179Z"
   },
   {
    "duration": 202,
    "start_time": "2021-08-21T16:52:58.202Z"
   },
   {
    "duration": 5,
    "start_time": "2021-08-21T16:52:58.407Z"
   },
   {
    "duration": 18,
    "start_time": "2021-08-21T16:52:58.414Z"
   },
   {
    "duration": 132,
    "start_time": "2021-08-21T16:52:58.435Z"
   },
   {
    "duration": 17,
    "start_time": "2021-08-21T16:52:58.570Z"
   },
   {
    "duration": 18,
    "start_time": "2021-08-21T16:52:58.592Z"
   },
   {
    "duration": 21,
    "start_time": "2021-08-21T16:52:58.614Z"
   },
   {
    "duration": 73,
    "start_time": "2021-08-21T16:52:58.637Z"
   },
   {
    "duration": 21,
    "start_time": "2021-08-21T16:52:58.713Z"
   },
   {
    "duration": 33,
    "start_time": "2021-08-21T16:52:58.737Z"
   },
   {
    "duration": 43,
    "start_time": "2021-08-21T16:52:58.785Z"
   },
   {
    "duration": 23,
    "start_time": "2021-08-21T16:52:58.831Z"
   },
   {
    "duration": 60,
    "start_time": "2021-08-21T16:52:58.857Z"
   },
   {
    "duration": 30,
    "start_time": "2021-08-21T16:52:58.920Z"
   },
   {
    "duration": 71,
    "start_time": "2021-08-21T16:52:58.953Z"
   },
   {
    "duration": 13,
    "start_time": "2021-08-21T16:52:59.027Z"
   },
   {
    "duration": 47,
    "start_time": "2021-08-21T16:52:59.042Z"
   },
   {
    "duration": 14,
    "start_time": "2021-08-21T16:52:59.091Z"
   },
   {
    "duration": 13,
    "start_time": "2021-08-21T16:52:59.108Z"
   },
   {
    "duration": 73,
    "start_time": "2021-08-21T16:52:59.124Z"
   },
   {
    "duration": 112,
    "start_time": "2021-08-21T16:52:59.199Z"
   },
   {
    "duration": 5,
    "start_time": "2021-08-21T16:52:59.315Z"
   },
   {
    "duration": 25,
    "start_time": "2021-08-21T16:52:59.323Z"
   },
   {
    "duration": 83,
    "start_time": "2021-08-21T16:52:59.357Z"
   },
   {
    "duration": 16,
    "start_time": "2021-08-21T16:52:59.444Z"
   },
   {
    "duration": 11,
    "start_time": "2021-08-21T16:52:59.485Z"
   },
   {
    "duration": 23,
    "start_time": "2021-08-21T16:52:59.499Z"
   },
   {
    "duration": 72,
    "start_time": "2021-08-21T16:52:59.525Z"
   },
   {
    "duration": 3,
    "start_time": "2021-08-21T16:52:59.599Z"
   },
   {
    "duration": 15,
    "start_time": "2021-08-21T16:52:59.605Z"
   },
   {
    "duration": 75,
    "start_time": "2021-08-21T16:52:59.623Z"
   },
   {
    "duration": 14,
    "start_time": "2021-08-21T16:52:59.700Z"
   },
   {
    "duration": 14,
    "start_time": "2021-08-21T16:52:59.716Z"
   },
   {
    "duration": 65,
    "start_time": "2021-08-21T16:52:59.732Z"
   },
   {
    "duration": 42,
    "start_time": "2021-08-21T16:52:59.799Z"
   },
   {
    "duration": 3,
    "start_time": "2021-08-21T16:52:59.844Z"
   },
   {
    "duration": 16,
    "start_time": "2021-08-21T16:52:59.885Z"
   },
   {
    "duration": 42,
    "start_time": "2021-08-21T16:52:59.903Z"
   },
   {
    "duration": 49,
    "start_time": "2021-08-21T16:52:59.947Z"
   },
   {
    "duration": 24,
    "start_time": "2021-08-21T16:52:59.998Z"
   },
   {
    "duration": 14,
    "start_time": "2021-08-21T16:53:00.025Z"
   },
   {
    "duration": 54,
    "start_time": "2021-08-21T16:53:00.041Z"
   },
   {
    "duration": 13,
    "start_time": "2021-08-21T16:53:00.097Z"
   },
   {
    "duration": 28,
    "start_time": "2021-08-21T16:53:00.113Z"
   },
   {
    "duration": 42,
    "start_time": "2021-08-21T16:53:00.144Z"
   },
   {
    "duration": 35,
    "start_time": "2021-08-21T16:53:00.189Z"
   },
   {
    "duration": 28,
    "start_time": "2021-08-21T16:53:00.227Z"
   },
   {
    "duration": 20,
    "start_time": "2021-08-21T16:53:00.258Z"
   },
   {
    "duration": 34,
    "start_time": "2021-08-21T16:53:00.281Z"
   },
   {
    "duration": 37,
    "start_time": "2021-08-21T16:53:00.317Z"
   },
   {
    "duration": 37,
    "start_time": "2021-08-21T16:53:00.356Z"
   },
   {
    "duration": 24,
    "start_time": "2021-08-21T16:53:00.396Z"
   },
   {
    "duration": 30,
    "start_time": "2021-08-21T16:53:00.424Z"
   },
   {
    "duration": 36,
    "start_time": "2021-08-21T16:53:00.457Z"
   },
   {
    "duration": 20,
    "start_time": "2021-08-21T16:53:00.495Z"
   },
   {
    "duration": 30,
    "start_time": "2021-08-21T16:53:00.517Z"
   },
   {
    "duration": 22,
    "start_time": "2021-08-21T16:53:00.550Z"
   },
   {
    "duration": 26,
    "start_time": "2021-08-21T16:53:00.574Z"
   },
   {
    "duration": 21,
    "start_time": "2021-08-21T16:53:00.603Z"
   },
   {
    "duration": 23,
    "start_time": "2021-08-21T16:53:00.626Z"
   },
   {
    "duration": 29,
    "start_time": "2021-08-21T16:53:00.651Z"
   },
   {
    "duration": 39,
    "start_time": "2021-08-21T16:53:00.683Z"
   },
   {
    "duration": 48,
    "start_time": "2021-08-21T16:53:00.725Z"
   },
   {
    "duration": 28,
    "start_time": "2021-08-21T16:53:00.775Z"
   },
   {
    "duration": 27,
    "start_time": "2021-08-21T16:53:00.805Z"
   },
   {
    "duration": 47,
    "start_time": "2021-08-21T16:53:00.835Z"
   },
   {
    "duration": 9,
    "start_time": "2021-08-21T16:53:00.885Z"
   },
   {
    "duration": 174,
    "start_time": "2021-08-21T16:53:00.897Z"
   },
   {
    "duration": 25,
    "start_time": "2021-08-21T16:53:01.074Z"
   },
   {
    "duration": 18,
    "start_time": "2021-08-21T16:53:01.101Z"
   },
   {
    "duration": 19,
    "start_time": "2021-08-21T16:53:01.121Z"
   },
   {
    "duration": 45,
    "start_time": "2021-08-21T16:53:01.143Z"
   },
   {
    "duration": 29,
    "start_time": "2021-08-21T16:53:01.191Z"
   },
   {
    "duration": 570,
    "start_time": "2021-08-21T16:53:01.222Z"
   },
   {
    "duration": 8,
    "start_time": "2021-08-21T16:53:01.795Z"
   },
   {
    "duration": 66,
    "start_time": "2021-08-21T16:53:01.805Z"
   },
   {
    "duration": 626,
    "start_time": "2021-08-21T16:53:01.874Z"
   },
   {
    "duration": 7,
    "start_time": "2021-08-21T16:53:02.508Z"
   },
   {
    "duration": 16,
    "start_time": "2021-08-21T16:53:02.518Z"
   },
   {
    "duration": 533,
    "start_time": "2021-08-21T16:53:02.537Z"
   },
   {
    "duration": 17,
    "start_time": "2021-08-21T16:53:03.073Z"
   },
   {
    "duration": 9,
    "start_time": "2021-08-21T16:53:03.093Z"
   },
   {
    "duration": 23,
    "start_time": "2021-08-21T16:53:03.105Z"
   },
   {
    "duration": 17,
    "start_time": "2021-08-21T16:53:03.131Z"
   },
   {
    "duration": 45,
    "start_time": "2021-08-21T16:53:03.151Z"
   },
   {
    "duration": 45,
    "start_time": "2021-08-21T16:53:03.199Z"
   },
   {
    "duration": 13,
    "start_time": "2021-08-21T17:01:14.925Z"
   },
   {
    "duration": 9,
    "start_time": "2021-08-21T17:01:26.329Z"
   },
   {
    "duration": 625,
    "start_time": "2021-08-21T17:04:03.239Z"
   },
   {
    "duration": 534,
    "start_time": "2021-08-21T17:07:55.031Z"
   },
   {
    "duration": 550,
    "start_time": "2021-08-21T17:10:22.425Z"
   },
   {
    "duration": 508,
    "start_time": "2021-08-21T17:10:37.163Z"
   },
   {
    "duration": 10,
    "start_time": "2021-08-21T17:28:04.399Z"
   },
   {
    "duration": 7,
    "start_time": "2021-08-21T17:29:39.803Z"
   },
   {
    "duration": 7,
    "start_time": "2021-08-21T17:30:15.920Z"
   },
   {
    "duration": 1616,
    "start_time": "2021-08-21T17:30:44.888Z"
   },
   {
    "duration": 315,
    "start_time": "2021-08-21T17:30:46.507Z"
   },
   {
    "duration": 24,
    "start_time": "2021-08-21T17:30:46.827Z"
   },
   {
    "duration": 290,
    "start_time": "2021-08-21T17:30:46.855Z"
   },
   {
    "duration": 5,
    "start_time": "2021-08-21T17:30:47.147Z"
   },
   {
    "duration": 36,
    "start_time": "2021-08-21T17:30:47.154Z"
   },
   {
    "duration": 125,
    "start_time": "2021-08-21T17:30:47.196Z"
   },
   {
    "duration": 11,
    "start_time": "2021-08-21T17:30:47.324Z"
   },
   {
    "duration": 20,
    "start_time": "2021-08-21T17:30:47.340Z"
   },
   {
    "duration": 33,
    "start_time": "2021-08-21T17:30:47.364Z"
   },
   {
    "duration": 52,
    "start_time": "2021-08-21T17:30:47.400Z"
   },
   {
    "duration": 23,
    "start_time": "2021-08-21T17:30:47.454Z"
   },
   {
    "duration": 48,
    "start_time": "2021-08-21T17:30:47.480Z"
   },
   {
    "duration": 62,
    "start_time": "2021-08-21T17:30:47.530Z"
   },
   {
    "duration": 35,
    "start_time": "2021-08-21T17:30:47.595Z"
   },
   {
    "duration": 60,
    "start_time": "2021-08-21T17:30:47.633Z"
   },
   {
    "duration": 24,
    "start_time": "2021-08-21T17:30:47.696Z"
   },
   {
    "duration": 29,
    "start_time": "2021-08-21T17:30:47.722Z"
   },
   {
    "duration": 37,
    "start_time": "2021-08-21T17:30:47.753Z"
   },
   {
    "duration": 13,
    "start_time": "2021-08-21T17:30:47.793Z"
   },
   {
    "duration": 6,
    "start_time": "2021-08-21T17:30:47.812Z"
   },
   {
    "duration": 15,
    "start_time": "2021-08-21T17:30:47.821Z"
   },
   {
    "duration": 77,
    "start_time": "2021-08-21T17:30:47.839Z"
   },
   {
    "duration": 123,
    "start_time": "2021-08-21T17:30:47.919Z"
   },
   {
    "duration": 4,
    "start_time": "2021-08-21T17:30:48.045Z"
   },
   {
    "duration": 27,
    "start_time": "2021-08-21T17:30:48.052Z"
   },
   {
    "duration": 64,
    "start_time": "2021-08-21T17:30:48.091Z"
   },
   {
    "duration": 39,
    "start_time": "2021-08-21T17:30:48.160Z"
   },
   {
    "duration": 15,
    "start_time": "2021-08-21T17:30:48.202Z"
   },
   {
    "duration": 30,
    "start_time": "2021-08-21T17:30:48.220Z"
   },
   {
    "duration": 66,
    "start_time": "2021-08-21T17:30:48.253Z"
   },
   {
    "duration": 5,
    "start_time": "2021-08-21T17:30:48.322Z"
   },
   {
    "duration": 14,
    "start_time": "2021-08-21T17:30:48.329Z"
   },
   {
    "duration": 71,
    "start_time": "2021-08-21T17:30:48.345Z"
   },
   {
    "duration": 13,
    "start_time": "2021-08-21T17:30:48.418Z"
   },
   {
    "duration": 21,
    "start_time": "2021-08-21T17:30:48.434Z"
   },
   {
    "duration": 50,
    "start_time": "2021-08-21T17:30:48.458Z"
   },
   {
    "duration": 76,
    "start_time": "2021-08-21T17:30:48.511Z"
   },
   {
    "duration": 4,
    "start_time": "2021-08-21T17:30:48.594Z"
   },
   {
    "duration": 23,
    "start_time": "2021-08-21T17:30:48.602Z"
   },
   {
    "duration": 68,
    "start_time": "2021-08-21T17:30:48.628Z"
   },
   {
    "duration": 22,
    "start_time": "2021-08-21T17:30:48.700Z"
   },
   {
    "duration": 19,
    "start_time": "2021-08-21T17:30:48.725Z"
   },
   {
    "duration": 12,
    "start_time": "2021-08-21T17:30:48.746Z"
   },
   {
    "duration": 36,
    "start_time": "2021-08-21T17:30:48.761Z"
   },
   {
    "duration": 10,
    "start_time": "2021-08-21T17:30:48.800Z"
   },
   {
    "duration": 23,
    "start_time": "2021-08-21T17:30:48.813Z"
   },
   {
    "duration": 12,
    "start_time": "2021-08-21T17:30:48.839Z"
   },
   {
    "duration": 38,
    "start_time": "2021-08-21T17:30:48.853Z"
   },
   {
    "duration": 7,
    "start_time": "2021-08-21T17:30:48.894Z"
   },
   {
    "duration": 12,
    "start_time": "2021-08-21T17:30:48.913Z"
   },
   {
    "duration": 19,
    "start_time": "2021-08-21T17:30:48.929Z"
   },
   {
    "duration": 41,
    "start_time": "2021-08-21T17:30:48.951Z"
   },
   {
    "duration": 19,
    "start_time": "2021-08-21T17:30:48.995Z"
   },
   {
    "duration": 27,
    "start_time": "2021-08-21T17:30:49.017Z"
   },
   {
    "duration": 44,
    "start_time": "2021-08-21T17:30:49.048Z"
   },
   {
    "duration": 13,
    "start_time": "2021-08-21T17:30:49.097Z"
   },
   {
    "duration": 14,
    "start_time": "2021-08-21T17:30:49.112Z"
   },
   {
    "duration": 56,
    "start_time": "2021-08-21T17:30:49.129Z"
   },
   {
    "duration": 6,
    "start_time": "2021-08-21T17:30:49.188Z"
   },
   {
    "duration": 15,
    "start_time": "2021-08-21T17:30:49.197Z"
   },
   {
    "duration": 14,
    "start_time": "2021-08-21T17:30:49.214Z"
   },
   {
    "duration": 12,
    "start_time": "2021-08-21T17:30:49.231Z"
   },
   {
    "duration": 20,
    "start_time": "2021-08-21T17:30:49.246Z"
   },
   {
    "duration": 43,
    "start_time": "2021-08-21T17:30:49.270Z"
   },
   {
    "duration": 5,
    "start_time": "2021-08-21T17:30:49.317Z"
   },
   {
    "duration": 14,
    "start_time": "2021-08-21T17:30:49.326Z"
   },
   {
    "duration": 15,
    "start_time": "2021-08-21T17:30:49.343Z"
   },
   {
    "duration": 46,
    "start_time": "2021-08-21T17:30:49.361Z"
   },
   {
    "duration": 13,
    "start_time": "2021-08-21T17:30:49.410Z"
   },
   {
    "duration": 179,
    "start_time": "2021-08-21T17:30:49.426Z"
   },
   {
    "duration": 18,
    "start_time": "2021-08-21T17:30:49.608Z"
   },
   {
    "duration": 11,
    "start_time": "2021-08-21T17:30:49.629Z"
   },
   {
    "duration": 10,
    "start_time": "2021-08-21T17:30:49.643Z"
   },
   {
    "duration": 30,
    "start_time": "2021-08-21T17:30:49.656Z"
   },
   {
    "duration": 19,
    "start_time": "2021-08-21T17:30:49.689Z"
   },
   {
    "duration": 582,
    "start_time": "2021-08-21T17:30:49.711Z"
   },
   {
    "duration": 8,
    "start_time": "2021-08-21T17:30:50.296Z"
   },
   {
    "duration": 8,
    "start_time": "2021-08-21T17:30:50.307Z"
   },
   {
    "duration": 678,
    "start_time": "2021-08-21T17:30:50.318Z"
   },
   {
    "duration": 6,
    "start_time": "2021-08-21T17:30:51.008Z"
   },
   {
    "duration": 32,
    "start_time": "2021-08-21T17:30:51.017Z"
   },
   {
    "duration": 553,
    "start_time": "2021-08-21T17:30:51.052Z"
   },
   {
    "duration": 10,
    "start_time": "2021-08-21T17:30:51.609Z"
   },
   {
    "duration": 14,
    "start_time": "2021-08-21T17:30:51.622Z"
   },
   {
    "duration": 7,
    "start_time": "2021-08-21T17:30:51.639Z"
   },
   {
    "duration": 66,
    "start_time": "2021-08-21T17:30:51.649Z"
   },
   {
    "duration": 8,
    "start_time": "2021-08-21T17:30:51.719Z"
   },
   {
    "duration": 23,
    "start_time": "2021-08-21T17:30:51.730Z"
   },
   {
    "duration": 15,
    "start_time": "2021-08-21T17:30:51.756Z"
   },
   {
    "duration": 21,
    "start_time": "2021-08-21T17:30:51.786Z"
   },
   {
    "duration": 11,
    "start_time": "2021-08-21T17:30:51.809Z"
   },
   {
    "duration": 1115,
    "start_time": "2021-08-21T22:10:42.898Z"
   },
   {
    "duration": 151,
    "start_time": "2021-08-21T22:10:44.015Z"
   },
   {
    "duration": 12,
    "start_time": "2021-08-21T22:10:44.168Z"
   },
   {
    "duration": 127,
    "start_time": "2021-08-21T22:10:44.184Z"
   },
   {
    "duration": 3,
    "start_time": "2021-08-21T22:10:44.313Z"
   },
   {
    "duration": 12,
    "start_time": "2021-08-21T22:10:44.318Z"
   },
   {
    "duration": 89,
    "start_time": "2021-08-21T22:10:44.332Z"
   },
   {
    "duration": 7,
    "start_time": "2021-08-21T22:10:44.423Z"
   },
   {
    "duration": 23,
    "start_time": "2021-08-21T22:10:44.432Z"
   },
   {
    "duration": 32,
    "start_time": "2021-08-21T22:10:44.457Z"
   },
   {
    "duration": 72,
    "start_time": "2021-08-21T22:10:44.490Z"
   },
   {
    "duration": 21,
    "start_time": "2021-08-21T22:10:44.564Z"
   },
   {
    "duration": 32,
    "start_time": "2021-08-21T22:10:44.587Z"
   },
   {
    "duration": 35,
    "start_time": "2021-08-21T22:10:44.621Z"
   },
   {
    "duration": 16,
    "start_time": "2021-08-21T22:10:44.658Z"
   },
   {
    "duration": 29,
    "start_time": "2021-08-21T22:10:44.676Z"
   },
   {
    "duration": 14,
    "start_time": "2021-08-21T22:10:44.706Z"
   },
   {
    "duration": 20,
    "start_time": "2021-08-21T22:10:44.721Z"
   },
   {
    "duration": 6,
    "start_time": "2021-08-21T22:10:44.743Z"
   },
   {
    "duration": 7,
    "start_time": "2021-08-21T22:10:44.751Z"
   },
   {
    "duration": 4,
    "start_time": "2021-08-21T22:10:44.784Z"
   },
   {
    "duration": 11,
    "start_time": "2021-08-21T22:10:44.790Z"
   },
   {
    "duration": 27,
    "start_time": "2021-08-21T22:10:44.805Z"
   },
   {
    "duration": 90,
    "start_time": "2021-08-21T22:10:44.835Z"
   },
   {
    "duration": 3,
    "start_time": "2021-08-21T22:10:44.927Z"
   },
   {
    "duration": 11,
    "start_time": "2021-08-21T22:10:44.932Z"
   },
   {
    "duration": 55,
    "start_time": "2021-08-21T22:10:44.945Z"
   },
   {
    "duration": 11,
    "start_time": "2021-08-21T22:10:45.002Z"
   },
   {
    "duration": 18,
    "start_time": "2021-08-21T22:10:45.015Z"
   },
   {
    "duration": 18,
    "start_time": "2021-08-21T22:10:45.035Z"
   },
   {
    "duration": 37,
    "start_time": "2021-08-21T22:10:45.054Z"
   },
   {
    "duration": 3,
    "start_time": "2021-08-21T22:10:45.092Z"
   },
   {
    "duration": 10,
    "start_time": "2021-08-21T22:10:45.096Z"
   },
   {
    "duration": 22,
    "start_time": "2021-08-21T22:10:45.107Z"
   },
   {
    "duration": 9,
    "start_time": "2021-08-21T22:10:45.131Z"
   },
   {
    "duration": 9,
    "start_time": "2021-08-21T22:10:45.142Z"
   },
   {
    "duration": 48,
    "start_time": "2021-08-21T22:10:45.152Z"
   },
   {
    "duration": 30,
    "start_time": "2021-08-21T22:10:45.202Z"
   },
   {
    "duration": 3,
    "start_time": "2021-08-21T22:10:45.233Z"
   },
   {
    "duration": 10,
    "start_time": "2021-08-21T22:10:45.238Z"
   },
   {
    "duration": 53,
    "start_time": "2021-08-21T22:10:45.250Z"
   },
   {
    "duration": 10,
    "start_time": "2021-08-21T22:10:45.305Z"
   },
   {
    "duration": 12,
    "start_time": "2021-08-21T22:10:45.317Z"
   },
   {
    "duration": 4,
    "start_time": "2021-08-21T22:10:45.330Z"
   },
   {
    "duration": 9,
    "start_time": "2021-08-21T22:10:45.336Z"
   },
   {
    "duration": 3,
    "start_time": "2021-08-21T22:10:45.347Z"
   },
   {
    "duration": 38,
    "start_time": "2021-08-21T22:10:45.351Z"
   },
   {
    "duration": 7,
    "start_time": "2021-08-21T22:10:45.391Z"
   },
   {
    "duration": 9,
    "start_time": "2021-08-21T22:10:45.400Z"
   },
   {
    "duration": 6,
    "start_time": "2021-08-21T22:10:45.410Z"
   },
   {
    "duration": 9,
    "start_time": "2021-08-21T22:10:45.417Z"
   },
   {
    "duration": 7,
    "start_time": "2021-08-21T22:10:45.428Z"
   },
   {
    "duration": 9,
    "start_time": "2021-08-21T22:10:45.436Z"
   },
   {
    "duration": 8,
    "start_time": "2021-08-21T22:10:45.446Z"
   },
   {
    "duration": 39,
    "start_time": "2021-08-21T22:10:45.456Z"
   },
   {
    "duration": 7,
    "start_time": "2021-08-21T22:10:45.496Z"
   },
   {
    "duration": 5,
    "start_time": "2021-08-21T22:10:45.505Z"
   },
   {
    "duration": 6,
    "start_time": "2021-08-21T22:10:45.512Z"
   },
   {
    "duration": 11,
    "start_time": "2021-08-21T22:10:45.519Z"
   },
   {
    "duration": 6,
    "start_time": "2021-08-21T22:10:45.532Z"
   },
   {
    "duration": 5,
    "start_time": "2021-08-21T22:10:45.539Z"
   },
   {
    "duration": 39,
    "start_time": "2021-08-21T22:10:45.546Z"
   },
   {
    "duration": 5,
    "start_time": "2021-08-21T22:10:45.586Z"
   },
   {
    "duration": 6,
    "start_time": "2021-08-21T22:10:45.592Z"
   },
   {
    "duration": 11,
    "start_time": "2021-08-21T22:10:45.600Z"
   },
   {
    "duration": 4,
    "start_time": "2021-08-21T22:10:45.613Z"
   },
   {
    "duration": 8,
    "start_time": "2021-08-21T22:10:45.618Z"
   },
   {
    "duration": 4,
    "start_time": "2021-08-21T22:10:45.631Z"
   },
   {
    "duration": 13,
    "start_time": "2021-08-21T22:10:45.637Z"
   },
   {
    "duration": 4,
    "start_time": "2021-08-21T22:10:45.652Z"
   },
   {
    "duration": 107,
    "start_time": "2021-08-21T22:10:45.658Z"
   },
   {
    "duration": 28,
    "start_time": "2021-08-21T22:10:45.767Z"
   },
   {
    "duration": 7,
    "start_time": "2021-08-21T22:10:45.796Z"
   },
   {
    "duration": 7,
    "start_time": "2021-08-21T22:10:45.804Z"
   },
   {
    "duration": 6,
    "start_time": "2021-08-21T22:10:45.813Z"
   },
   {
    "duration": 6,
    "start_time": "2021-08-21T22:10:45.821Z"
   },
   {
    "duration": 352,
    "start_time": "2021-08-21T22:10:45.829Z"
   },
   {
    "duration": 5,
    "start_time": "2021-08-21T22:10:46.183Z"
   },
   {
    "duration": 7,
    "start_time": "2021-08-21T22:10:46.189Z"
   },
   {
    "duration": 345,
    "start_time": "2021-08-21T22:10:46.198Z"
   },
   {
    "duration": 5,
    "start_time": "2021-08-21T22:10:46.545Z"
   },
   {
    "duration": 6,
    "start_time": "2021-08-21T22:10:46.552Z"
   },
   {
    "duration": 331,
    "start_time": "2021-08-21T22:10:46.560Z"
   },
   {
    "duration": 6,
    "start_time": "2021-08-21T22:10:46.893Z"
   },
   {
    "duration": 26,
    "start_time": "2021-08-21T22:10:46.901Z"
   },
   {
    "duration": 6,
    "start_time": "2021-08-21T22:10:46.929Z"
   },
   {
    "duration": 15,
    "start_time": "2021-08-21T22:10:46.937Z"
   },
   {
    "duration": 5,
    "start_time": "2021-08-21T22:10:46.954Z"
   },
   {
    "duration": 27,
    "start_time": "2021-08-21T22:10:46.961Z"
   },
   {
    "duration": 8,
    "start_time": "2021-08-21T22:10:46.990Z"
   },
   {
    "duration": 6,
    "start_time": "2021-08-21T22:10:46.999Z"
   },
   {
    "duration": 87,
    "start_time": "2021-08-21T22:10:47.007Z"
   },
   {
    "duration": 10,
    "start_time": "2021-08-21T22:15:57.248Z"
   },
   {
    "duration": 1890,
    "start_time": "2021-08-22T05:48:27.599Z"
   },
   {
    "duration": 278,
    "start_time": "2021-08-22T05:48:29.493Z"
   },
   {
    "duration": 21,
    "start_time": "2021-08-22T05:48:29.775Z"
   },
   {
    "duration": 246,
    "start_time": "2021-08-22T05:48:29.800Z"
   },
   {
    "duration": 13,
    "start_time": "2021-08-22T05:48:30.049Z"
   },
   {
    "duration": 16,
    "start_time": "2021-08-22T05:48:30.065Z"
   },
   {
    "duration": 178,
    "start_time": "2021-08-22T05:48:30.084Z"
   },
   {
    "duration": 13,
    "start_time": "2021-08-22T05:48:30.265Z"
   },
   {
    "duration": 31,
    "start_time": "2021-08-22T05:48:30.285Z"
   },
   {
    "duration": 31,
    "start_time": "2021-08-22T05:48:30.319Z"
   },
   {
    "duration": 64,
    "start_time": "2021-08-22T05:48:30.353Z"
   },
   {
    "duration": 29,
    "start_time": "2021-08-22T05:48:30.420Z"
   },
   {
    "duration": 50,
    "start_time": "2021-08-22T05:48:30.453Z"
   },
   {
    "duration": 73,
    "start_time": "2021-08-22T05:48:30.506Z"
   },
   {
    "duration": 34,
    "start_time": "2021-08-22T05:48:30.582Z"
   },
   {
    "duration": 71,
    "start_time": "2021-08-22T05:48:30.618Z"
   },
   {
    "duration": 30,
    "start_time": "2021-08-22T05:48:30.692Z"
   },
   {
    "duration": 54,
    "start_time": "2021-08-22T05:48:30.725Z"
   },
   {
    "duration": 12,
    "start_time": "2021-08-22T05:48:30.782Z"
   },
   {
    "duration": 14,
    "start_time": "2021-08-22T05:48:30.797Z"
   },
   {
    "duration": 21,
    "start_time": "2021-08-22T05:48:30.814Z"
   },
   {
    "duration": 9200,
    "start_time": "2021-08-22T05:49:15.064Z"
   },
   {
    "duration": 310,
    "start_time": "2021-08-22T05:49:29.075Z"
   },
   {
    "duration": 297,
    "start_time": "2021-08-22T05:50:52.237Z"
   },
   {
    "duration": 304,
    "start_time": "2021-08-22T05:50:57.392Z"
   },
   {
    "duration": 318,
    "start_time": "2021-08-22T05:51:48.813Z"
   },
   {
    "duration": 293,
    "start_time": "2021-08-22T05:52:14.632Z"
   },
   {
    "duration": 294,
    "start_time": "2021-08-22T05:52:23.537Z"
   },
   {
    "duration": 295,
    "start_time": "2021-08-22T05:54:10.130Z"
   },
   {
    "duration": 375,
    "start_time": "2021-08-22T05:54:26.133Z"
   },
   {
    "duration": 291,
    "start_time": "2021-08-22T05:54:38.504Z"
   },
   {
    "duration": 12,
    "start_time": "2021-08-22T06:00:04.344Z"
   },
   {
    "duration": 35,
    "start_time": "2021-08-22T06:00:09.028Z"
   },
   {
    "duration": 95,
    "start_time": "2021-08-22T06:00:10.774Z"
   },
   {
    "duration": 4,
    "start_time": "2021-08-22T06:00:11.343Z"
   },
   {
    "duration": 13,
    "start_time": "2021-08-22T06:00:15.063Z"
   },
   {
    "duration": 4,
    "start_time": "2021-08-22T06:00:55.295Z"
   },
   {
    "duration": 17,
    "start_time": "2021-08-22T06:01:04.194Z"
   },
   {
    "duration": 5,
    "start_time": "2021-08-22T06:01:36.038Z"
   },
   {
    "duration": 16,
    "start_time": "2021-08-22T06:01:36.873Z"
   },
   {
    "duration": 265,
    "start_time": "2021-08-22T06:04:01.754Z"
   },
   {
    "duration": 14,
    "start_time": "2021-08-22T06:04:39.818Z"
   },
   {
    "duration": 263,
    "start_time": "2021-08-22T06:06:11.709Z"
   },
   {
    "duration": 391,
    "start_time": "2021-08-22T06:06:26.979Z"
   },
   {
    "duration": 52,
    "start_time": "2021-08-22T06:12:16.118Z"
   },
   {
    "duration": 16,
    "start_time": "2021-08-22T06:12:17.156Z"
   },
   {
    "duration": 13,
    "start_time": "2021-08-22T06:12:23.889Z"
   },
   {
    "duration": 22,
    "start_time": "2021-08-22T06:12:27.743Z"
   },
   {
    "duration": 29,
    "start_time": "2021-08-22T06:12:29.057Z"
   },
   {
    "duration": 4,
    "start_time": "2021-08-22T06:12:29.583Z"
   },
   {
    "duration": 11,
    "start_time": "2021-08-22T06:12:34.278Z"
   },
   {
    "duration": 42,
    "start_time": "2021-08-22T06:12:42.501Z"
   },
   {
    "duration": 14,
    "start_time": "2021-08-22T06:12:44.272Z"
   },
   {
    "duration": 12,
    "start_time": "2021-08-22T06:12:47.603Z"
   },
   {
    "duration": 25,
    "start_time": "2021-08-22T06:12:50.188Z"
   },
   {
    "duration": 41,
    "start_time": "2021-08-22T06:12:54.271Z"
   },
   {
    "duration": 4,
    "start_time": "2021-08-22T06:12:59.463Z"
   },
   {
    "duration": 11,
    "start_time": "2021-08-22T06:13:00.489Z"
   },
   {
    "duration": 743,
    "start_time": "2021-08-22T06:15:29.797Z"
   },
   {
    "duration": 5,
    "start_time": "2021-08-22T06:15:35.903Z"
   },
   {
    "duration": 11,
    "start_time": "2021-08-22T06:15:46.119Z"
   },
   {
    "duration": 12,
    "start_time": "2021-08-22T06:16:25.676Z"
   },
   {
    "duration": 6,
    "start_time": "2021-08-22T06:16:47.642Z"
   },
   {
    "duration": 15,
    "start_time": "2021-08-22T06:16:55.217Z"
   },
   {
    "duration": 6,
    "start_time": "2021-08-22T06:17:20.113Z"
   },
   {
    "duration": 15,
    "start_time": "2021-08-22T06:17:20.853Z"
   },
   {
    "duration": 253,
    "start_time": "2021-08-22T06:18:40.983Z"
   },
   {
    "duration": 257,
    "start_time": "2021-08-22T06:19:01.133Z"
   },
   {
    "duration": 270,
    "start_time": "2021-08-22T06:19:10.729Z"
   },
   {
    "duration": 348,
    "start_time": "2021-08-22T06:19:13.757Z"
   },
   {
    "duration": 13,
    "start_time": "2021-08-22T06:20:33.899Z"
   },
   {
    "duration": 41,
    "start_time": "2021-08-22T06:22:30.067Z"
   },
   {
    "duration": 15,
    "start_time": "2021-08-22T06:22:30.916Z"
   },
   {
    "duration": 16,
    "start_time": "2021-08-22T06:22:59.137Z"
   },
   {
    "duration": 6,
    "start_time": "2021-08-22T06:23:00.213Z"
   },
   {
    "duration": 11,
    "start_time": "2021-08-22T06:23:01.207Z"
   },
   {
    "duration": 5,
    "start_time": "2021-08-22T06:23:05.794Z"
   },
   {
    "duration": 12,
    "start_time": "2021-08-22T06:23:06.503Z"
   },
   {
    "duration": 5,
    "start_time": "2021-08-22T06:23:08.695Z"
   },
   {
    "duration": 11,
    "start_time": "2021-08-22T06:23:10.089Z"
   },
   {
    "duration": 6,
    "start_time": "2021-08-22T06:23:11.756Z"
   },
   {
    "duration": 10,
    "start_time": "2021-08-22T06:23:12.189Z"
   },
   {
    "duration": 11,
    "start_time": "2021-08-22T06:23:15.279Z"
   },
   {
    "duration": 16,
    "start_time": "2021-08-22T06:23:15.761Z"
   },
   {
    "duration": 14,
    "start_time": "2021-08-22T06:23:16.449Z"
   },
   {
    "duration": 19,
    "start_time": "2021-08-22T06:23:18.058Z"
   },
   {
    "duration": 10,
    "start_time": "2021-08-22T06:23:31.813Z"
   },
   {
    "duration": 9,
    "start_time": "2021-08-22T06:23:38.042Z"
   },
   {
    "duration": 10,
    "start_time": "2021-08-22T06:23:39.549Z"
   },
   {
    "duration": 18,
    "start_time": "2021-08-22T06:23:45.740Z"
   },
   {
    "duration": 3,
    "start_time": "2021-08-22T06:25:43.327Z"
   },
   {
    "duration": 15,
    "start_time": "2021-08-22T06:26:03.421Z"
   },
   {
    "duration": 18,
    "start_time": "2021-08-22T06:26:12.464Z"
   },
   {
    "duration": 4,
    "start_time": "2021-08-22T06:26:30.308Z"
   },
   {
    "duration": 15,
    "start_time": "2021-08-22T06:26:31.062Z"
   },
   {
    "duration": 15,
    "start_time": "2021-08-22T06:26:31.507Z"
   },
   {
    "duration": 8,
    "start_time": "2021-08-22T06:26:40.264Z"
   },
   {
    "duration": 143,
    "start_time": "2021-08-22T06:26:40.812Z"
   },
   {
    "duration": 20,
    "start_time": "2021-08-22T06:26:42.012Z"
   },
   {
    "duration": 19,
    "start_time": "2021-08-22T06:27:13.537Z"
   },
   {
    "duration": 7,
    "start_time": "2021-08-22T06:27:35.732Z"
   },
   {
    "duration": 6,
    "start_time": "2021-08-22T06:27:36.258Z"
   },
   {
    "duration": 7,
    "start_time": "2021-08-22T06:27:37.072Z"
   },
   {
    "duration": 7,
    "start_time": "2021-08-22T06:27:38.351Z"
   },
   {
    "duration": 529,
    "start_time": "2021-08-22T06:27:42.296Z"
   },
   {
    "duration": 6,
    "start_time": "2021-08-22T06:27:44.868Z"
   },
   {
    "duration": 7,
    "start_time": "2021-08-22T06:27:47.276Z"
   },
   {
    "duration": 907,
    "start_time": "2021-08-22T06:27:47.850Z"
   },
   {
    "duration": 7,
    "start_time": "2021-08-22T06:27:58.719Z"
   },
   {
    "duration": 12,
    "start_time": "2021-08-22T06:28:00.169Z"
   },
   {
    "duration": 476,
    "start_time": "2021-08-22T06:28:03.993Z"
   },
   {
    "duration": 8,
    "start_time": "2021-08-22T06:29:14.767Z"
   },
   {
    "duration": 13,
    "start_time": "2021-08-22T06:29:25.638Z"
   },
   {
    "duration": 7,
    "start_time": "2021-08-22T06:30:20.218Z"
   },
   {
    "duration": 16,
    "start_time": "2021-08-22T06:30:21.106Z"
   },
   {
    "duration": 8,
    "start_time": "2021-08-22T06:30:23.086Z"
   },
   {
    "duration": 16,
    "start_time": "2021-08-22T06:30:23.818Z"
   },
   {
    "duration": 8,
    "start_time": "2021-08-22T06:30:25.619Z"
   },
   {
    "duration": 6,
    "start_time": "2021-08-22T06:31:45.427Z"
   },
   {
    "duration": 6,
    "start_time": "2021-08-22T06:31:46.033Z"
   },
   {
    "duration": 15,
    "start_time": "2021-08-22T06:41:22.939Z"
   },
   {
    "duration": 403,
    "start_time": "2021-08-22T06:43:49.114Z"
   },
   {
    "duration": 371,
    "start_time": "2021-08-22T06:43:53.803Z"
   },
   {
    "duration": 29,
    "start_time": "2021-08-22T06:44:02.079Z"
   },
   {
    "duration": 28,
    "start_time": "2021-08-22T06:44:22.190Z"
   },
   {
    "duration": 1378,
    "start_time": "2021-08-22T06:44:44.598Z"
   },
   {
    "duration": 273,
    "start_time": "2021-08-22T06:44:58.189Z"
   },
   {
    "duration": 11,
    "start_time": "2021-08-22T06:45:38.598Z"
   },
   {
    "duration": 11,
    "start_time": "2021-08-22T06:45:42.544Z"
   },
   {
    "duration": 11,
    "start_time": "2021-08-22T06:46:11.607Z"
   },
   {
    "duration": 15,
    "start_time": "2021-08-22T06:49:12.241Z"
   },
   {
    "duration": 9,
    "start_time": "2021-08-22T06:50:41.753Z"
   },
   {
    "duration": 481,
    "start_time": "2021-08-22T07:05:52.272Z"
   },
   {
    "duration": 592,
    "start_time": "2021-08-22T07:06:07.627Z"
   },
   {
    "duration": 495,
    "start_time": "2021-08-22T07:06:29.845Z"
   },
   {
    "duration": 496,
    "start_time": "2021-08-22T07:06:51.602Z"
   },
   {
    "duration": 489,
    "start_time": "2021-08-22T07:07:03.203Z"
   },
   {
    "duration": 1564,
    "start_time": "2021-08-22T07:19:21.161Z"
   },
   {
    "duration": 206,
    "start_time": "2021-08-22T07:19:22.727Z"
   },
   {
    "duration": 26,
    "start_time": "2021-08-22T07:19:22.936Z"
   },
   {
    "duration": 174,
    "start_time": "2021-08-22T07:19:22.966Z"
   },
   {
    "duration": 5,
    "start_time": "2021-08-22T07:19:23.143Z"
   },
   {
    "duration": 22,
    "start_time": "2021-08-22T07:19:23.150Z"
   },
   {
    "duration": 168,
    "start_time": "2021-08-22T07:19:23.176Z"
   },
   {
    "duration": 19,
    "start_time": "2021-08-22T07:19:23.347Z"
   },
   {
    "duration": 19,
    "start_time": "2021-08-22T07:19:23.372Z"
   },
   {
    "duration": 18,
    "start_time": "2021-08-22T07:19:23.395Z"
   },
   {
    "duration": 66,
    "start_time": "2021-08-22T07:19:23.416Z"
   },
   {
    "duration": 21,
    "start_time": "2021-08-22T07:19:23.485Z"
   },
   {
    "duration": 41,
    "start_time": "2021-08-22T07:19:23.509Z"
   },
   {
    "duration": 64,
    "start_time": "2021-08-22T07:19:23.561Z"
   },
   {
    "duration": 50,
    "start_time": "2021-08-22T07:19:23.628Z"
   },
   {
    "duration": 48,
    "start_time": "2021-08-22T07:19:23.682Z"
   },
   {
    "duration": 49,
    "start_time": "2021-08-22T07:19:23.734Z"
   },
   {
    "duration": 41,
    "start_time": "2021-08-22T07:19:23.786Z"
   },
   {
    "duration": 33,
    "start_time": "2021-08-22T07:19:23.830Z"
   },
   {
    "duration": 12,
    "start_time": "2021-08-22T07:19:23.867Z"
   },
   {
    "duration": 9,
    "start_time": "2021-08-22T07:19:23.882Z"
   },
   {
    "duration": 17,
    "start_time": "2021-08-22T07:19:23.894Z"
   },
   {
    "duration": 76,
    "start_time": "2021-08-22T07:19:23.914Z"
   },
   {
    "duration": 146,
    "start_time": "2021-08-22T07:19:23.993Z"
   },
   {
    "duration": 5,
    "start_time": "2021-08-22T07:19:24.143Z"
   },
   {
    "duration": 28,
    "start_time": "2021-08-22T07:19:24.151Z"
   },
   {
    "duration": 6,
    "start_time": "2021-08-22T07:19:24.191Z"
   },
   {
    "duration": 8,
    "start_time": "2021-08-22T07:19:24.203Z"
   },
   {
    "duration": 50,
    "start_time": "2021-08-22T07:19:24.214Z"
   },
   {
    "duration": 645,
    "start_time": "2021-08-22T07:19:24.268Z"
   },
   {
    "duration": 19,
    "start_time": "2021-08-22T07:19:24.916Z"
   },
   {
    "duration": 89,
    "start_time": "2021-08-22T07:19:24.938Z"
   },
   {
    "duration": 34,
    "start_time": "2021-08-22T07:19:25.030Z"
   },
   {
    "duration": 16,
    "start_time": "2021-08-22T07:19:25.067Z"
   },
   {
    "duration": 35,
    "start_time": "2021-08-22T07:19:25.086Z"
   },
   {
    "duration": 68,
    "start_time": "2021-08-22T07:19:25.124Z"
   },
   {
    "duration": 5,
    "start_time": "2021-08-22T07:19:25.195Z"
   },
   {
    "duration": 41,
    "start_time": "2021-08-22T07:19:25.203Z"
   },
   {
    "duration": 49,
    "start_time": "2021-08-22T07:19:25.247Z"
   },
   {
    "duration": 19,
    "start_time": "2021-08-22T07:19:25.299Z"
   },
   {
    "duration": 16,
    "start_time": "2021-08-22T07:19:25.320Z"
   },
   {
    "duration": 31,
    "start_time": "2021-08-22T07:19:25.363Z"
   },
   {
    "duration": 78,
    "start_time": "2021-08-22T07:19:25.397Z"
   },
   {
    "duration": 5,
    "start_time": "2021-08-22T07:19:25.478Z"
   },
   {
    "duration": 21,
    "start_time": "2021-08-22T07:19:25.486Z"
   },
   {
    "duration": 12,
    "start_time": "2021-08-22T07:19:25.511Z"
   },
   {
    "duration": 12,
    "start_time": "2021-08-22T07:19:25.526Z"
   },
   {
    "duration": 24,
    "start_time": "2021-08-22T07:19:25.540Z"
   },
   {
    "duration": 9,
    "start_time": "2021-08-22T07:19:25.568Z"
   },
   {
    "duration": 14,
    "start_time": "2021-08-22T07:19:25.580Z"
   },
   {
    "duration": 408,
    "start_time": "2021-08-22T07:19:25.597Z"
   },
   {
    "duration": 14,
    "start_time": "2021-08-22T07:19:26.008Z"
   },
   {
    "duration": 69,
    "start_time": "2021-08-22T07:19:26.024Z"
   },
   {
    "duration": 15,
    "start_time": "2021-08-22T07:19:26.095Z"
   },
   {
    "duration": 19,
    "start_time": "2021-08-22T07:19:26.113Z"
   },
   {
    "duration": 7,
    "start_time": "2021-08-22T07:19:26.163Z"
   },
   {
    "duration": 20,
    "start_time": "2021-08-22T07:19:26.172Z"
   },
   {
    "duration": 8,
    "start_time": "2021-08-22T07:19:26.194Z"
   },
   {
    "duration": 16,
    "start_time": "2021-08-22T07:19:26.205Z"
   },
   {
    "duration": 38,
    "start_time": "2021-08-22T07:19:26.224Z"
   },
   {
    "duration": 13,
    "start_time": "2021-08-22T07:19:26.265Z"
   },
   {
    "duration": 21,
    "start_time": "2021-08-22T07:19:26.280Z"
   },
   {
    "duration": 15,
    "start_time": "2021-08-22T07:19:26.303Z"
   },
   {
    "duration": 16,
    "start_time": "2021-08-22T07:19:26.320Z"
   },
   {
    "duration": 27,
    "start_time": "2021-08-22T07:19:26.339Z"
   },
   {
    "duration": 11,
    "start_time": "2021-08-22T07:19:26.368Z"
   },
   {
    "duration": 19,
    "start_time": "2021-08-22T07:19:26.382Z"
   },
   {
    "duration": 15,
    "start_time": "2021-08-22T07:19:26.403Z"
   },
   {
    "duration": 41,
    "start_time": "2021-08-22T07:19:26.421Z"
   },
   {
    "duration": 15,
    "start_time": "2021-08-22T07:19:26.465Z"
   },
   {
    "duration": 26,
    "start_time": "2021-08-22T07:19:26.483Z"
   },
   {
    "duration": 9,
    "start_time": "2021-08-22T07:19:26.512Z"
   },
   {
    "duration": 47,
    "start_time": "2021-08-22T07:19:26.524Z"
   },
   {
    "duration": 22,
    "start_time": "2021-08-22T07:19:26.574Z"
   },
   {
    "duration": 10,
    "start_time": "2021-08-22T07:19:26.598Z"
   },
   {
    "duration": 185,
    "start_time": "2021-08-22T07:19:26.610Z"
   },
   {
    "duration": 19,
    "start_time": "2021-08-22T07:19:26.797Z"
   },
   {
    "duration": 17,
    "start_time": "2021-08-22T07:19:26.819Z"
   },
   {
    "duration": 6,
    "start_time": "2021-08-22T07:19:26.839Z"
   },
   {
    "duration": 16,
    "start_time": "2021-08-22T07:19:26.848Z"
   },
   {
    "duration": 7,
    "start_time": "2021-08-22T07:19:26.873Z"
   },
   {
    "duration": 9,
    "start_time": "2021-08-22T07:19:26.883Z"
   },
   {
    "duration": 572,
    "start_time": "2021-08-22T07:19:26.894Z"
   },
   {
    "duration": 13,
    "start_time": "2021-08-22T07:19:27.468Z"
   },
   {
    "duration": 10,
    "start_time": "2021-08-22T07:19:27.484Z"
   },
   {
    "duration": 572,
    "start_time": "2021-08-22T07:19:27.497Z"
   },
   {
    "duration": 7,
    "start_time": "2021-08-22T07:19:28.071Z"
   },
   {
    "duration": 28,
    "start_time": "2021-08-22T07:19:28.080Z"
   },
   {
    "duration": 863,
    "start_time": "2021-08-22T07:19:28.110Z"
   },
   {
    "duration": 8,
    "start_time": "2021-08-22T07:19:28.975Z"
   },
   {
    "duration": 11,
    "start_time": "2021-08-22T07:19:28.985Z"
   },
   {
    "duration": 7,
    "start_time": "2021-08-22T07:19:28.999Z"
   },
   {
    "duration": 25,
    "start_time": "2021-08-22T07:19:29.008Z"
   },
   {
    "duration": 6,
    "start_time": "2021-08-22T07:19:29.062Z"
   },
   {
    "duration": 21,
    "start_time": "2021-08-22T07:19:29.070Z"
   },
   {
    "duration": 10,
    "start_time": "2021-08-22T07:19:29.094Z"
   },
   {
    "duration": 14,
    "start_time": "2021-08-22T07:19:29.107Z"
   },
   {
    "duration": 39,
    "start_time": "2021-08-22T07:19:29.123Z"
   },
   {
    "duration": 15,
    "start_time": "2021-08-22T07:19:29.165Z"
   },
   {
    "duration": 13,
    "start_time": "2021-08-22T07:19:29.183Z"
   },
   {
    "duration": 11,
    "start_time": "2021-08-22T07:19:29.198Z"
   },
   {
    "duration": 54,
    "start_time": "2021-08-22T07:19:29.212Z"
   },
   {
    "duration": 11,
    "start_time": "2021-08-22T07:19:29.269Z"
   },
   {
    "duration": 1517,
    "start_time": "2021-08-22T14:07:16.794Z"
   },
   {
    "duration": 214,
    "start_time": "2021-08-22T14:07:18.314Z"
   },
   {
    "duration": 29,
    "start_time": "2021-08-22T14:07:18.532Z"
   },
   {
    "duration": 163,
    "start_time": "2021-08-22T14:07:18.564Z"
   },
   {
    "duration": 5,
    "start_time": "2021-08-22T14:07:18.730Z"
   },
   {
    "duration": 22,
    "start_time": "2021-08-22T14:07:18.737Z"
   },
   {
    "duration": 110,
    "start_time": "2021-08-22T14:07:18.761Z"
   },
   {
    "duration": 10,
    "start_time": "2021-08-22T14:07:18.875Z"
   },
   {
    "duration": 20,
    "start_time": "2021-08-22T14:07:18.888Z"
   },
   {
    "duration": 16,
    "start_time": "2021-08-22T14:07:18.910Z"
   },
   {
    "duration": 38,
    "start_time": "2021-08-22T14:07:18.929Z"
   },
   {
    "duration": 15,
    "start_time": "2021-08-22T14:07:18.970Z"
   },
   {
    "duration": 30,
    "start_time": "2021-08-22T14:07:18.987Z"
   },
   {
    "duration": 62,
    "start_time": "2021-08-22T14:07:19.019Z"
   },
   {
    "duration": 22,
    "start_time": "2021-08-22T14:07:19.084Z"
   },
   {
    "duration": 53,
    "start_time": "2021-08-22T14:07:19.108Z"
   },
   {
    "duration": 18,
    "start_time": "2021-08-22T14:07:19.163Z"
   },
   {
    "duration": 28,
    "start_time": "2021-08-22T14:07:19.184Z"
   },
   {
    "duration": 9,
    "start_time": "2021-08-22T14:07:19.215Z"
   },
   {
    "duration": 6,
    "start_time": "2021-08-22T14:07:19.256Z"
   },
   {
    "duration": 13,
    "start_time": "2021-08-22T14:07:19.264Z"
   },
   {
    "duration": 27,
    "start_time": "2021-08-22T14:07:19.279Z"
   },
   {
    "duration": 43,
    "start_time": "2021-08-22T14:07:19.312Z"
   },
   {
    "duration": 98,
    "start_time": "2021-08-22T14:07:19.359Z"
   },
   {
    "duration": 4,
    "start_time": "2021-08-22T14:07:19.460Z"
   },
   {
    "duration": 26,
    "start_time": "2021-08-22T14:07:19.466Z"
   },
   {
    "duration": 11,
    "start_time": "2021-08-22T14:07:19.495Z"
   },
   {
    "duration": 8,
    "start_time": "2021-08-22T14:07:19.508Z"
   },
   {
    "duration": 21,
    "start_time": "2021-08-22T14:07:19.518Z"
   },
   {
    "duration": 418,
    "start_time": "2021-08-22T14:07:19.542Z"
   },
   {
    "duration": 16,
    "start_time": "2021-08-22T14:07:19.963Z"
   },
   {
    "duration": 75,
    "start_time": "2021-08-22T14:07:19.981Z"
   },
   {
    "duration": 16,
    "start_time": "2021-08-22T14:07:20.058Z"
   },
   {
    "duration": 36,
    "start_time": "2021-08-22T14:07:20.076Z"
   },
   {
    "duration": 42,
    "start_time": "2021-08-22T14:07:20.115Z"
   },
   {
    "duration": 27,
    "start_time": "2021-08-22T14:07:20.159Z"
   },
   {
    "duration": 7,
    "start_time": "2021-08-22T14:07:20.188Z"
   },
   {
    "duration": 21,
    "start_time": "2021-08-22T14:07:20.198Z"
   },
   {
    "duration": 47,
    "start_time": "2021-08-22T14:07:20.222Z"
   },
   {
    "duration": 13,
    "start_time": "2021-08-22T14:07:20.271Z"
   },
   {
    "duration": 19,
    "start_time": "2021-08-22T14:07:20.286Z"
   },
   {
    "duration": 36,
    "start_time": "2021-08-22T14:07:20.307Z"
   },
   {
    "duration": 40,
    "start_time": "2021-08-22T14:07:20.355Z"
   },
   {
    "duration": 3,
    "start_time": "2021-08-22T14:07:20.398Z"
   },
   {
    "duration": 19,
    "start_time": "2021-08-22T14:07:20.403Z"
   },
   {
    "duration": 8,
    "start_time": "2021-08-22T14:07:20.424Z"
   },
   {
    "duration": 11,
    "start_time": "2021-08-22T14:07:20.455Z"
   },
   {
    "duration": 5,
    "start_time": "2021-08-22T14:07:20.468Z"
   },
   {
    "duration": 12,
    "start_time": "2021-08-22T14:07:20.475Z"
   },
   {
    "duration": 23,
    "start_time": "2021-08-22T14:07:20.489Z"
   },
   {
    "duration": 471,
    "start_time": "2021-08-22T14:07:20.514Z"
   },
   {
    "duration": 12,
    "start_time": "2021-08-22T14:07:20.987Z"
   },
   {
    "duration": 57,
    "start_time": "2021-08-22T14:07:21.001Z"
   },
   {
    "duration": 14,
    "start_time": "2021-08-22T14:07:21.060Z"
   },
   {
    "duration": 24,
    "start_time": "2021-08-22T14:07:21.076Z"
   },
   {
    "duration": 16,
    "start_time": "2021-08-22T14:07:21.103Z"
   },
   {
    "duration": 30,
    "start_time": "2021-08-22T14:07:21.121Z"
   },
   {
    "duration": 7,
    "start_time": "2021-08-22T14:07:21.154Z"
   },
   {
    "duration": 16,
    "start_time": "2021-08-22T14:07:21.163Z"
   },
   {
    "duration": 7,
    "start_time": "2021-08-22T14:07:21.181Z"
   },
   {
    "duration": 14,
    "start_time": "2021-08-22T14:07:21.190Z"
   },
   {
    "duration": 8,
    "start_time": "2021-08-22T14:07:21.206Z"
   },
   {
    "duration": 41,
    "start_time": "2021-08-22T14:07:21.217Z"
   },
   {
    "duration": 19,
    "start_time": "2021-08-22T14:07:21.261Z"
   },
   {
    "duration": 14,
    "start_time": "2021-08-22T14:07:21.282Z"
   },
   {
    "duration": 10,
    "start_time": "2021-08-22T14:07:21.299Z"
   },
   {
    "duration": 17,
    "start_time": "2021-08-22T14:07:21.311Z"
   },
   {
    "duration": 10,
    "start_time": "2021-08-22T14:07:21.360Z"
   },
   {
    "duration": 11,
    "start_time": "2021-08-22T14:07:21.374Z"
   },
   {
    "duration": 10,
    "start_time": "2021-08-22T14:07:21.387Z"
   },
   {
    "duration": 23,
    "start_time": "2021-08-22T14:07:21.399Z"
   },
   {
    "duration": 43,
    "start_time": "2021-08-22T14:07:21.425Z"
   },
   {
    "duration": 21,
    "start_time": "2021-08-22T14:07:21.471Z"
   },
   {
    "duration": 15,
    "start_time": "2021-08-22T14:07:21.494Z"
   },
   {
    "duration": 13,
    "start_time": "2021-08-22T14:07:21.512Z"
   },
   {
    "duration": 154,
    "start_time": "2021-08-22T14:07:21.527Z"
   },
   {
    "duration": 18,
    "start_time": "2021-08-22T14:07:21.683Z"
   },
   {
    "duration": 17,
    "start_time": "2021-08-22T14:07:21.704Z"
   },
   {
    "duration": 12,
    "start_time": "2021-08-22T14:07:21.723Z"
   },
   {
    "duration": 22,
    "start_time": "2021-08-22T14:07:21.737Z"
   },
   {
    "duration": 14,
    "start_time": "2021-08-22T14:07:21.761Z"
   },
   {
    "duration": 11,
    "start_time": "2021-08-22T14:07:21.777Z"
   },
   {
    "duration": 518,
    "start_time": "2021-08-22T14:07:21.790Z"
   },
   {
    "duration": 6,
    "start_time": "2021-08-22T14:07:22.310Z"
   },
   {
    "duration": 9,
    "start_time": "2021-08-22T14:07:22.318Z"
   },
   {
    "duration": 569,
    "start_time": "2021-08-22T14:07:22.330Z"
   },
   {
    "duration": 6,
    "start_time": "2021-08-22T14:07:22.902Z"
   },
   {
    "duration": 34,
    "start_time": "2021-08-22T14:07:22.910Z"
   },
   {
    "duration": 490,
    "start_time": "2021-08-22T14:07:22.946Z"
   },
   {
    "duration": 7,
    "start_time": "2021-08-22T14:07:23.438Z"
   },
   {
    "duration": 18,
    "start_time": "2021-08-22T14:07:23.455Z"
   },
   {
    "duration": 19,
    "start_time": "2021-08-22T14:07:23.476Z"
   },
   {
    "duration": 29,
    "start_time": "2021-08-22T14:07:23.497Z"
   },
   {
    "duration": 7,
    "start_time": "2021-08-22T14:07:23.528Z"
   },
   {
    "duration": 33,
    "start_time": "2021-08-22T14:07:23.537Z"
   },
   {
    "duration": 27,
    "start_time": "2021-08-22T14:07:23.573Z"
   },
   {
    "duration": 25,
    "start_time": "2021-08-22T14:07:23.602Z"
   },
   {
    "duration": 8,
    "start_time": "2021-08-22T14:07:23.629Z"
   },
   {
    "duration": 25,
    "start_time": "2021-08-22T14:07:23.639Z"
   },
   {
    "duration": 17,
    "start_time": "2021-08-22T14:07:23.667Z"
   },
   {
    "duration": 21,
    "start_time": "2021-08-22T14:07:23.686Z"
   },
   {
    "duration": 20,
    "start_time": "2021-08-22T14:07:23.710Z"
   },
   {
    "duration": 16,
    "start_time": "2021-08-22T14:07:23.732Z"
   }
  ],
  "kernelspec": {
   "display_name": "Python 3",
   "language": "python",
   "name": "python3"
  },
  "language_info": {
   "codemirror_mode": {
    "name": "ipython",
    "version": 3
   },
   "file_extension": ".py",
   "mimetype": "text/x-python",
   "name": "python",
   "nbconvert_exporter": "python",
   "pygments_lexer": "ipython3",
   "version": "3.8.5"
  },
  "toc": {
   "base_numbering": 1,
   "nav_menu": {},
   "number_sections": true,
   "sideBar": true,
   "skip_h1_title": true,
   "title_cell": "Table of Contents",
   "title_sidebar": "Contents",
   "toc_cell": false,
   "toc_position": {},
   "toc_section_display": true,
   "toc_window_display": false
  }
 },
 "nbformat": 4,
 "nbformat_minor": 2
}
