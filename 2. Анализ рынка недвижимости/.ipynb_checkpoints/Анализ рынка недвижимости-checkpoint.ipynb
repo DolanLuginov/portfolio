{
 "cells": [
  {
   "cell_type": "markdown",
   "metadata": {},
   "source": [
    "# Задача"
   ]
  },
  {
   "cell_type": "markdown",
   "metadata": {},
   "source": [
    "В нашем распоряжении данные сервиса Яндекс.Недвижимость — архив объявлений о продаже квартир в Санкт-Петербурге и соседних населённых пунктах за несколько лет. Нужно научиться определять рыночную стоимость объектов недвижимости. Наша задача — установить параметры. Это позволит построить автоматизированную систему: она отследит аномалии и мошенническую деятельность."
   ]
  },
  {
   "cell_type": "markdown",
   "metadata": {
    "id": "cPZmYsn3OMQk"
   },
   "source": [
    "# **Загрузка и знакомство с данными**"
   ]
  },
  {
   "cell_type": "markdown",
   "metadata": {},
   "source": [
    "Описание полей  \n",
    "\n",
    "- airports_nearest — расстояние до ближайшего аэропорта в метрах (м)  \n",
    "- balcony — число балконов  \n",
    "- ceiling_height — высота потолков (м)  \n",
    "- cityCenters_nearest — расстояние до центра города (м)  \n",
    "- days_exposition — сколько дней было размещено объявление (от публикации до снятия)  \n",
    "- first_day_exposition — дата публикации  \n",
    "- floor — этаж  \n",
    "- floors_total — всего этажей в доме  \n",
    "- is_apartment — апартаменты (булев тип)  \n",
    "- kitchen_area — площадь кухни в квадратных метрах (м²)  \n",
    "- last_price — цена на момент снятия с публикации  \n",
    "- living_area — жилая площадь в квадратных метрах (м²)  \n",
    "- locality_name — название населённого пункта  \n",
    "- open_plan — свободная планировка (булев тип)  \n",
    "- parks_around3000 — число парков в радиусе 3 км  \n",
    "- parks_nearest — расстояние до ближайшего парка (м)  \n",
    "- ponds_around3000 — число водоёмов в радиусе 3 км  \n",
    "- ponds_nearest — расстояние до ближайшего водоёма (м)  \n",
    "- rooms — число комнат  \n",
    "- studio — квартира-студия (булев тип)  \n",
    "- total_area — площадь квартиры в квадратных метрах (м²)  \n",
    "- total_images — число фотографий квартиры в объявлении  "
   ]
  },
  {
   "cell_type": "code",
   "execution_count": 1,
   "metadata": {
    "id": "WqYR0tSqMZRu"
   },
   "outputs": [],
   "source": [
    "import pandas as pd\n",
    "import numpy as np\n",
    "\n",
    "import seaborn as sns\n",
    "import matplotlib.pyplot as plt\n",
    "\n",
    "import warnings\n",
    "warnings.filterwarnings(\"ignore\");"
   ]
  },
  {
   "cell_type": "markdown",
   "metadata": {},
   "source": [
    "Данные разделены символом табуляции"
   ]
  },
  {
   "cell_type": "code",
   "execution_count": 2,
   "metadata": {
    "id": "Wt_ZOa34NL0K"
   },
   "outputs": [],
   "source": [
    "df = pd.read_csv('real_estate_data.csv', sep='\\t')"
   ]
  },
  {
   "cell_type": "code",
   "execution_count": 3,
   "metadata": {
    "colab": {
     "base_uri": "https://localhost:8080/"
    },
    "id": "u4eysCZAO9en",
    "outputId": "98313452-73e8-437d-a1a2-59363ba0c418",
    "scrolled": false
   },
   "outputs": [
    {
     "name": "stdout",
     "output_type": "stream",
     "text": [
      "<class 'pandas.core.frame.DataFrame'>\n",
      "RangeIndex: 23699 entries, 0 to 23698\n",
      "Data columns (total 22 columns):\n",
      " #   Column                Non-Null Count  Dtype  \n",
      "---  ------                --------------  -----  \n",
      " 0   total_images          23699 non-null  int64  \n",
      " 1   last_price            23699 non-null  float64\n",
      " 2   total_area            23699 non-null  float64\n",
      " 3   first_day_exposition  23699 non-null  object \n",
      " 4   rooms                 23699 non-null  int64  \n",
      " 5   ceiling_height        14504 non-null  float64\n",
      " 6   floors_total          23613 non-null  float64\n",
      " 7   living_area           21796 non-null  float64\n",
      " 8   floor                 23699 non-null  int64  \n",
      " 9   is_apartment          2775 non-null   object \n",
      " 10  studio                23699 non-null  bool   \n",
      " 11  open_plan             23699 non-null  bool   \n",
      " 12  kitchen_area          21421 non-null  float64\n",
      " 13  balcony               12180 non-null  float64\n",
      " 14  locality_name         23650 non-null  object \n",
      " 15  airports_nearest      18157 non-null  float64\n",
      " 16  cityCenters_nearest   18180 non-null  float64\n",
      " 17  parks_around3000      18181 non-null  float64\n",
      " 18  parks_nearest         8079 non-null   float64\n",
      " 19  ponds_around3000      18181 non-null  float64\n",
      " 20  ponds_nearest         9110 non-null   float64\n",
      " 21  days_exposition       20518 non-null  float64\n",
      "dtypes: bool(2), float64(14), int64(3), object(3)\n",
      "memory usage: 3.7+ MB\n"
     ]
    }
   ],
   "source": [
    "df.info()"
   ]
  },
  {
   "cell_type": "markdown",
   "metadata": {},
   "source": [
    "В нашем датасете 23699 наблюдений с 22-мя признаками"
   ]
  },
  {
   "cell_type": "code",
   "execution_count": 4,
   "metadata": {
    "colab": {
     "base_uri": "https://localhost:8080/",
     "height": 309
    },
    "id": "bGUMQcqENQ1h",
    "outputId": "7c0d294d-7c7c-4bf7-e7f6-2a7cff891230"
   },
   "outputs": [
    {
     "data": {
      "text/html": [
       "<div>\n",
       "<style scoped>\n",
       "    .dataframe tbody tr th:only-of-type {\n",
       "        vertical-align: middle;\n",
       "    }\n",
       "\n",
       "    .dataframe tbody tr th {\n",
       "        vertical-align: top;\n",
       "    }\n",
       "\n",
       "    .dataframe thead th {\n",
       "        text-align: right;\n",
       "    }\n",
       "</style>\n",
       "<table border=\"1\" class=\"dataframe\">\n",
       "  <thead>\n",
       "    <tr style=\"text-align: right;\">\n",
       "      <th></th>\n",
       "      <th>total_images</th>\n",
       "      <th>last_price</th>\n",
       "      <th>total_area</th>\n",
       "      <th>first_day_exposition</th>\n",
       "      <th>rooms</th>\n",
       "      <th>ceiling_height</th>\n",
       "      <th>floors_total</th>\n",
       "      <th>living_area</th>\n",
       "      <th>floor</th>\n",
       "      <th>is_apartment</th>\n",
       "      <th>...</th>\n",
       "      <th>kitchen_area</th>\n",
       "      <th>balcony</th>\n",
       "      <th>locality_name</th>\n",
       "      <th>airports_nearest</th>\n",
       "      <th>cityCenters_nearest</th>\n",
       "      <th>parks_around3000</th>\n",
       "      <th>parks_nearest</th>\n",
       "      <th>ponds_around3000</th>\n",
       "      <th>ponds_nearest</th>\n",
       "      <th>days_exposition</th>\n",
       "    </tr>\n",
       "  </thead>\n",
       "  <tbody>\n",
       "    <tr>\n",
       "      <th>0</th>\n",
       "      <td>20</td>\n",
       "      <td>13000000.0</td>\n",
       "      <td>108.0</td>\n",
       "      <td>2019-03-07T00:00:00</td>\n",
       "      <td>3</td>\n",
       "      <td>2.70</td>\n",
       "      <td>16.0</td>\n",
       "      <td>51.0</td>\n",
       "      <td>8</td>\n",
       "      <td>NaN</td>\n",
       "      <td>...</td>\n",
       "      <td>25.0</td>\n",
       "      <td>NaN</td>\n",
       "      <td>Санкт-Петербург</td>\n",
       "      <td>18863.0</td>\n",
       "      <td>16028.0</td>\n",
       "      <td>1.0</td>\n",
       "      <td>482.0</td>\n",
       "      <td>2.0</td>\n",
       "      <td>755.0</td>\n",
       "      <td>NaN</td>\n",
       "    </tr>\n",
       "    <tr>\n",
       "      <th>1</th>\n",
       "      <td>7</td>\n",
       "      <td>3350000.0</td>\n",
       "      <td>40.4</td>\n",
       "      <td>2018-12-04T00:00:00</td>\n",
       "      <td>1</td>\n",
       "      <td>NaN</td>\n",
       "      <td>11.0</td>\n",
       "      <td>18.6</td>\n",
       "      <td>1</td>\n",
       "      <td>NaN</td>\n",
       "      <td>...</td>\n",
       "      <td>11.0</td>\n",
       "      <td>2.0</td>\n",
       "      <td>посёлок Шушары</td>\n",
       "      <td>12817.0</td>\n",
       "      <td>18603.0</td>\n",
       "      <td>0.0</td>\n",
       "      <td>NaN</td>\n",
       "      <td>0.0</td>\n",
       "      <td>NaN</td>\n",
       "      <td>81.0</td>\n",
       "    </tr>\n",
       "    <tr>\n",
       "      <th>2</th>\n",
       "      <td>10</td>\n",
       "      <td>5196000.0</td>\n",
       "      <td>56.0</td>\n",
       "      <td>2015-08-20T00:00:00</td>\n",
       "      <td>2</td>\n",
       "      <td>NaN</td>\n",
       "      <td>5.0</td>\n",
       "      <td>34.3</td>\n",
       "      <td>4</td>\n",
       "      <td>NaN</td>\n",
       "      <td>...</td>\n",
       "      <td>8.3</td>\n",
       "      <td>0.0</td>\n",
       "      <td>Санкт-Петербург</td>\n",
       "      <td>21741.0</td>\n",
       "      <td>13933.0</td>\n",
       "      <td>1.0</td>\n",
       "      <td>90.0</td>\n",
       "      <td>2.0</td>\n",
       "      <td>574.0</td>\n",
       "      <td>558.0</td>\n",
       "    </tr>\n",
       "    <tr>\n",
       "      <th>3</th>\n",
       "      <td>0</td>\n",
       "      <td>64900000.0</td>\n",
       "      <td>159.0</td>\n",
       "      <td>2015-07-24T00:00:00</td>\n",
       "      <td>3</td>\n",
       "      <td>NaN</td>\n",
       "      <td>14.0</td>\n",
       "      <td>NaN</td>\n",
       "      <td>9</td>\n",
       "      <td>NaN</td>\n",
       "      <td>...</td>\n",
       "      <td>NaN</td>\n",
       "      <td>0.0</td>\n",
       "      <td>Санкт-Петербург</td>\n",
       "      <td>28098.0</td>\n",
       "      <td>6800.0</td>\n",
       "      <td>2.0</td>\n",
       "      <td>84.0</td>\n",
       "      <td>3.0</td>\n",
       "      <td>234.0</td>\n",
       "      <td>424.0</td>\n",
       "    </tr>\n",
       "    <tr>\n",
       "      <th>4</th>\n",
       "      <td>2</td>\n",
       "      <td>10000000.0</td>\n",
       "      <td>100.0</td>\n",
       "      <td>2018-06-19T00:00:00</td>\n",
       "      <td>2</td>\n",
       "      <td>3.03</td>\n",
       "      <td>14.0</td>\n",
       "      <td>32.0</td>\n",
       "      <td>13</td>\n",
       "      <td>NaN</td>\n",
       "      <td>...</td>\n",
       "      <td>41.0</td>\n",
       "      <td>NaN</td>\n",
       "      <td>Санкт-Петербург</td>\n",
       "      <td>31856.0</td>\n",
       "      <td>8098.0</td>\n",
       "      <td>2.0</td>\n",
       "      <td>112.0</td>\n",
       "      <td>1.0</td>\n",
       "      <td>48.0</td>\n",
       "      <td>121.0</td>\n",
       "    </tr>\n",
       "  </tbody>\n",
       "</table>\n",
       "<p>5 rows × 22 columns</p>\n",
       "</div>"
      ],
      "text/plain": [
       "   total_images  last_price  total_area first_day_exposition  rooms  \\\n",
       "0            20  13000000.0       108.0  2019-03-07T00:00:00      3   \n",
       "1             7   3350000.0        40.4  2018-12-04T00:00:00      1   \n",
       "2            10   5196000.0        56.0  2015-08-20T00:00:00      2   \n",
       "3             0  64900000.0       159.0  2015-07-24T00:00:00      3   \n",
       "4             2  10000000.0       100.0  2018-06-19T00:00:00      2   \n",
       "\n",
       "   ceiling_height  floors_total  living_area  floor is_apartment  ...  \\\n",
       "0            2.70          16.0         51.0      8          NaN  ...   \n",
       "1             NaN          11.0         18.6      1          NaN  ...   \n",
       "2             NaN           5.0         34.3      4          NaN  ...   \n",
       "3             NaN          14.0          NaN      9          NaN  ...   \n",
       "4            3.03          14.0         32.0     13          NaN  ...   \n",
       "\n",
       "   kitchen_area  balcony    locality_name  airports_nearest  \\\n",
       "0          25.0      NaN  Санкт-Петербург           18863.0   \n",
       "1          11.0      2.0   посёлок Шушары           12817.0   \n",
       "2           8.3      0.0  Санкт-Петербург           21741.0   \n",
       "3           NaN      0.0  Санкт-Петербург           28098.0   \n",
       "4          41.0      NaN  Санкт-Петербург           31856.0   \n",
       "\n",
       "  cityCenters_nearest  parks_around3000  parks_nearest  ponds_around3000  \\\n",
       "0             16028.0               1.0          482.0               2.0   \n",
       "1             18603.0               0.0            NaN               0.0   \n",
       "2             13933.0               1.0           90.0               2.0   \n",
       "3              6800.0               2.0           84.0               3.0   \n",
       "4              8098.0               2.0          112.0               1.0   \n",
       "\n",
       "   ponds_nearest  days_exposition  \n",
       "0          755.0              NaN  \n",
       "1            NaN             81.0  \n",
       "2          574.0            558.0  \n",
       "3          234.0            424.0  \n",
       "4           48.0            121.0  \n",
       "\n",
       "[5 rows x 22 columns]"
      ]
     },
     "execution_count": 4,
     "metadata": {},
     "output_type": "execute_result"
    }
   ],
   "source": [
    "df.head()"
   ]
  },
  {
   "cell_type": "markdown",
   "metadata": {
    "id": "IGietukEOnf5"
   },
   "source": [
    "# **Предобработка данных**"
   ]
  },
  {
   "cell_type": "markdown",
   "metadata": {
    "id": "COjTaX4pTnD6"
   },
   "source": [
    "## **Заполнение пропусков**"
   ]
  },
  {
   "cell_type": "code",
   "execution_count": 5,
   "metadata": {
    "colab": {
     "base_uri": "https://localhost:8080/"
    },
    "id": "_qnOT9QfNRut",
    "outputId": "9763fec3-c228-4f09-a882-4300528dd215"
   },
   "outputs": [
    {
     "data": {
      "text/plain": [
       "total_images                0\n",
       "last_price                  0\n",
       "total_area                  0\n",
       "first_day_exposition        0\n",
       "rooms                       0\n",
       "ceiling_height           9195\n",
       "floors_total               86\n",
       "living_area              1903\n",
       "floor                       0\n",
       "is_apartment            20924\n",
       "studio                      0\n",
       "open_plan                   0\n",
       "kitchen_area             2278\n",
       "balcony                 11519\n",
       "locality_name              49\n",
       "airports_nearest         5542\n",
       "cityCenters_nearest      5519\n",
       "parks_around3000         5518\n",
       "parks_nearest           15620\n",
       "ponds_around3000         5518\n",
       "ponds_nearest           14589\n",
       "days_exposition          3181\n",
       "dtype: int64"
      ]
     },
     "execution_count": 5,
     "metadata": {},
     "output_type": "execute_result"
    }
   ],
   "source": [
    "df.isna().sum()"
   ]
  },
  {
   "cell_type": "markdown",
   "metadata": {},
   "source": [
    "В столбце is_apartment пропущенные значения скорее всего означают, что эти наблюдения не являются апартаментом. Поэтому заполним их значением False"
   ]
  },
  {
   "cell_type": "code",
   "execution_count": 6,
   "metadata": {
    "id": "7VM7a2RMcmkz"
   },
   "outputs": [],
   "source": [
    "df['is_apartment'] = df['is_apartment'].fillna(False)"
   ]
  },
  {
   "cell_type": "markdown",
   "metadata": {},
   "source": [
    "Пропущенные значения в столбце balcony скорее всего означают, что балкона в этих наблюдениях нет"
   ]
  },
  {
   "cell_type": "code",
   "execution_count": 7,
   "metadata": {
    "id": "_12VDUP-dI6m"
   },
   "outputs": [],
   "source": [
    "df['balcony'] = df['balcony'].fillna(0)"
   ]
  },
  {
   "cell_type": "markdown",
   "metadata": {},
   "source": [
    "Посмотрим на распределение высоты потолков, чтобы заполнить пропущенные значения медианой"
   ]
  },
  {
   "cell_type": "code",
   "execution_count": 8,
   "metadata": {},
   "outputs": [
    {
     "data": {
      "image/png": "[encoded data removed]",
      "text/plain": [
       "<Figure size 432x288 with 1 Axes>"
      ]
     },
     "metadata": {
      "needs_background": "light"
     },
     "output_type": "display_data"
    }
   ],
   "source": [
    "plt.hist(df['ceiling_height'], bins=50)\n",
    "plt.title('Высота потолка')\n",
    "plt.show()"
   ]
  },
  {
   "cell_type": "markdown",
   "metadata": {},
   "source": [
    "Присутствуют большие выбросы. Избавимся от них с помощью перцентилей"
   ]
  },
  {
   "cell_type": "code",
   "execution_count": 9,
   "metadata": {},
   "outputs": [
    {
     "data": {
      "text/plain": [
       "3.829699999999993"
      ]
     },
     "execution_count": 9,
     "metadata": {},
     "output_type": "execute_result"
    }
   ],
   "source": [
    "max_threshold = df['ceiling_height'].quantile(0.99)\n",
    "min_threshold = 2.0\n",
    "max_threshold"
   ]
  },
  {
   "cell_type": "code",
   "execution_count": 10,
   "metadata": {},
   "outputs": [
    {
     "data": {
      "text/plain": [
       "23550"
      ]
     },
     "execution_count": 10,
     "metadata": {},
     "output_type": "execute_result"
    }
   ],
   "source": [
    "df = df.loc[((df['ceiling_height'] < max_threshold) & (df['ceiling_height'] >= min_threshold)) | (df['ceiling_height'].isna())]\n",
    "len(df)"
   ]
  },
  {
   "cell_type": "code",
   "execution_count": 11,
   "metadata": {},
   "outputs": [
    {
     "data": {
      "image/png": "[encoded data removed]",
      "text/plain": [
       "<Figure size 432x288 with 1 Axes>"
      ]
     },
     "metadata": {
      "needs_background": "light"
     },
     "output_type": "display_data"
    }
   ],
   "source": [
    "plt.hist(df['ceiling_height'], bins=50)\n",
    "plt.title('Высота потолка')\n",
    "plt.show()"
   ]
  },
  {
   "cell_type": "markdown",
   "metadata": {},
   "source": [
    "Можно заполнить пропущенные значения медианным значением высоты потолков"
   ]
  },
  {
   "cell_type": "code",
   "execution_count": 12,
   "metadata": {},
   "outputs": [
    {
     "data": {
      "text/plain": [
       "2.65"
      ]
     },
     "execution_count": 12,
     "metadata": {},
     "output_type": "execute_result"
    }
   ],
   "source": [
    "median_ceiling_height = df['ceiling_height'].median()\n",
    "median_ceiling_height"
   ]
  },
  {
   "cell_type": "code",
   "execution_count": 13,
   "metadata": {},
   "outputs": [],
   "source": [
    "df['ceiling_height'] = df['ceiling_height'].fillna(median_ceiling_height)"
   ]
  },
  {
   "cell_type": "markdown",
   "metadata": {},
   "source": [
    "В столбце floors_total пропущенных значений совсем немного, поэтому можно от них избавиться"
   ]
  },
  {
   "cell_type": "code",
   "execution_count": 14,
   "metadata": {},
   "outputs": [
    {
     "data": {
      "text/plain": [
       "23464"
      ]
     },
     "execution_count": 14,
     "metadata": {},
     "output_type": "execute_result"
    }
   ],
   "source": [
    "df = df[~df['floors_total'].isna()]\n",
    "len(df)"
   ]
  },
  {
   "cell_type": "markdown",
   "metadata": {
    "id": "8sXFD5jprFe6"
   },
   "source": [
    "Заполним пропущенные значения в столбцах living_area и kitchen_areа, используя данные из total_area и rooms"
   ]
  },
  {
   "cell_type": "code",
   "execution_count": 15,
   "metadata": {
    "id": "FnotccXhqgfB"
   },
   "outputs": [],
   "source": [
    "gb = df.groupby(['total_area','rooms'])"
   ]
  },
  {
   "cell_type": "code",
   "execution_count": 16,
   "metadata": {
    "id": "qbas08IOqpMd"
   },
   "outputs": [],
   "source": [
    "df['living_area'] = df['living_area'].fillna(gb['living_area']\\\n",
    "                    .transform(lambda group: group.mean() / (group.name[0])) * df['total_area'])"
   ]
  },
  {
   "cell_type": "code",
   "execution_count": 17,
   "metadata": {
    "id": "n0K39pr6qvCv"
   },
   "outputs": [],
   "source": [
    "df['kitchen_area'] = df['kitchen_area'].fillna(gb['kitchen_area']\\\n",
    "                    .transform(lambda group: group.mean() / (group.name[0])) * df['total_area'])"
   ]
  },
  {
   "cell_type": "code",
   "execution_count": 18,
   "metadata": {},
   "outputs": [
    {
     "data": {
      "text/plain": [
       "total_images                0\n",
       "last_price                  0\n",
       "total_area                  0\n",
       "first_day_exposition        0\n",
       "rooms                       0\n",
       "ceiling_height              0\n",
       "floors_total                0\n",
       "living_area               204\n",
       "floor                       0\n",
       "is_apartment                0\n",
       "studio                      0\n",
       "open_plan                   0\n",
       "kitchen_area              397\n",
       "balcony                     0\n",
       "locality_name              47\n",
       "airports_nearest         5509\n",
       "cityCenters_nearest      5489\n",
       "parks_around3000         5488\n",
       "parks_nearest           15505\n",
       "ponds_around3000         5488\n",
       "ponds_nearest           14491\n",
       "days_exposition          3140\n",
       "dtype: int64"
      ]
     },
     "execution_count": 18,
     "metadata": {},
     "output_type": "execute_result"
    }
   ],
   "source": [
    "df.isna().sum()"
   ]
  },
  {
   "cell_type": "markdown",
   "metadata": {},
   "source": [
    "Немного пропущенных значений осталось. Посмотрим на их распределения"
   ]
  },
  {
   "cell_type": "code",
   "execution_count": 19,
   "metadata": {},
   "outputs": [
    {
     "data": {
      "image/png": "[encoded data removed]",
      "text/plain": [
       "<Figure size 432x288 with 1 Axes>"
      ]
     },
     "metadata": {
      "needs_background": "light"
     },
     "output_type": "display_data"
    }
   ],
   "source": [
    "plt.hist(df['living_area'], bins=50)\n",
    "plt.title('Жилая площадь в квадратных метрах')\n",
    "plt.show()"
   ]
  },
  {
   "cell_type": "markdown",
   "metadata": {},
   "source": [
    "В living_area присутствуют большие выбросы. Удалим их с помощью перцентилей"
   ]
  },
  {
   "cell_type": "code",
   "execution_count": 20,
   "metadata": {},
   "outputs": [
    {
     "name": "stdout",
     "output_type": "stream",
     "text": [
      "13.0 111.04099999999998\n"
     ]
    }
   ],
   "source": [
    "max_threshold = df['living_area'].quantile(0.99)\n",
    "min_threshold = df['living_area'].quantile(0.01)\n",
    "print(min_threshold, max_threshold)"
   ]
  },
  {
   "cell_type": "code",
   "execution_count": 21,
   "metadata": {},
   "outputs": [
    {
     "data": {
      "text/plain": [
       "22989"
      ]
     },
     "execution_count": 21,
     "metadata": {},
     "output_type": "execute_result"
    }
   ],
   "source": [
    "df = df.loc[((df['living_area'] < max_threshold) & (df['living_area'] > min_threshold)) | (df['living_area'].isna())]\n",
    "len(df)"
   ]
  },
  {
   "cell_type": "code",
   "execution_count": 22,
   "metadata": {},
   "outputs": [
    {
     "data": {
      "image/png": "[encoded data removed]",
      "text/plain": [
       "<Figure size 432x288 with 1 Axes>"
      ]
     },
     "metadata": {
      "needs_background": "light"
     },
     "output_type": "display_data"
    }
   ],
   "source": [
    "plt.hist(df['living_area'], bins=50)\n",
    "plt.title('Жилая площадь в квадратных метрах')\n",
    "plt.show()"
   ]
  },
  {
   "cell_type": "markdown",
   "metadata": {},
   "source": [
    "Проверим - связаны ли количество комнат и жилая площадь"
   ]
  },
  {
   "cell_type": "code",
   "execution_count": 23,
   "metadata": {},
   "outputs": [
    {
     "data": {
      "image/png": "[encoded data removed]",
      "text/plain": [
       "<Figure size 432x288 with 1 Axes>"
      ]
     },
     "metadata": {
      "needs_background": "light"
     },
     "output_type": "display_data"
    }
   ],
   "source": [
    "plt.hist(df['rooms'])\n",
    "plt.title('Количество комнат')\n",
    "plt.show()"
   ]
  },
  {
   "cell_type": "markdown",
   "metadata": {},
   "source": [
    "Присутствуют нулевые значения. Также есть выбросы"
   ]
  },
  {
   "cell_type": "code",
   "execution_count": 24,
   "metadata": {},
   "outputs": [
    {
     "data": {
      "text/plain": [
       "22747"
      ]
     },
     "execution_count": 24,
     "metadata": {},
     "output_type": "execute_result"
    }
   ],
   "source": [
    "df = df[(df['rooms']>0) & (df['rooms']<6)]\n",
    "len(df)"
   ]
  },
  {
   "cell_type": "code",
   "execution_count": 25,
   "metadata": {},
   "outputs": [
    {
     "name": "stdout",
     "output_type": "stream",
     "text": [
      "1 17.7\n",
      "2 30.413281250000004\n",
      "3 45.0\n",
      "4 63.0\n",
      "5 82.30000000000001\n"
     ]
    }
   ],
   "source": [
    "for i in range(1, 6):\n",
    "    print(i, df[df['rooms']==i]['living_area'].median())"
   ]
  },
  {
   "cell_type": "markdown",
   "metadata": {},
   "source": [
    "Видна прямая зависимость между ними. Тогда можно заполнить пропущенные значения в living_area, используя количество комнат"
   ]
  },
  {
   "cell_type": "code",
   "execution_count": 26,
   "metadata": {},
   "outputs": [],
   "source": [
    "def fillna_living_area(row):\n",
    "    rooms = row['rooms']\n",
    "    median_living_area = df[df['rooms']==rooms]['living_area'].median()\n",
    "    return median_living_area"
   ]
  },
  {
   "cell_type": "code",
   "execution_count": 27,
   "metadata": {},
   "outputs": [
    {
     "data": {
      "text/plain": [
       "22747"
      ]
     },
     "execution_count": 27,
     "metadata": {},
     "output_type": "execute_result"
    }
   ],
   "source": [
    "df.loc[df['living_area'].isna(), 'living_area'] = df[df['living_area'].isna()].apply(fillna_living_area, axis=1)\n",
    "len(df)"
   ]
  },
  {
   "cell_type": "markdown",
   "metadata": {},
   "source": [
    "Также посмотрим на площадь кухни"
   ]
  },
  {
   "cell_type": "code",
   "execution_count": 28,
   "metadata": {},
   "outputs": [
    {
     "data": {
      "image/png": "[encoded data removed]",
      "text/plain": [
       "<Figure size 432x288 with 1 Axes>"
      ]
     },
     "metadata": {
      "needs_background": "light"
     },
     "output_type": "display_data"
    }
   ],
   "source": [
    "plt.hist(df['kitchen_area'], bins=50)\n",
    "plt.title('Площадь кухни')\n",
    "plt.show()"
   ]
  },
  {
   "cell_type": "markdown",
   "metadata": {},
   "source": [
    "Удалим выбросы с помощью перцентилей"
   ]
  },
  {
   "cell_type": "code",
   "execution_count": 29,
   "metadata": {},
   "outputs": [
    {
     "name": "stdout",
     "output_type": "stream",
     "text": [
      "5.0 40.0\n"
     ]
    }
   ],
   "source": [
    "max_threshold = df['kitchen_area'].quantile(0.995)\n",
    "min_threshold = df['kitchen_area'].quantile(0.005)\n",
    "print(min_threshold, max_threshold)"
   ]
  },
  {
   "cell_type": "code",
   "execution_count": 30,
   "metadata": {},
   "outputs": [
    {
     "data": {
      "text/plain": [
       "22538"
      ]
     },
     "execution_count": 30,
     "metadata": {},
     "output_type": "execute_result"
    }
   ],
   "source": [
    "df = df.loc[((df['kitchen_area'] <= max_threshold) & (df['kitchen_area'] >= min_threshold)) | (df['kitchen_area'].isna())]\n",
    "len(df)"
   ]
  },
  {
   "cell_type": "code",
   "execution_count": 31,
   "metadata": {},
   "outputs": [
    {
     "data": {
      "image/png": "[encoded data removed]",
      "text/plain": [
       "<Figure size 432x288 with 1 Axes>"
      ]
     },
     "metadata": {
      "needs_background": "light"
     },
     "output_type": "display_data"
    }
   ],
   "source": [
    "plt.hist(df['kitchen_area'], bins=50)\n",
    "plt.title('Площадь кухни')\n",
    "plt.show()"
   ]
  },
  {
   "cell_type": "markdown",
   "metadata": {},
   "source": [
    "Можно заменить пропущенные значения на медианное значение"
   ]
  },
  {
   "cell_type": "code",
   "execution_count": 32,
   "metadata": {},
   "outputs": [
    {
     "data": {
      "text/plain": [
       "9.0"
      ]
     },
     "execution_count": 32,
     "metadata": {},
     "output_type": "execute_result"
    }
   ],
   "source": [
    "median_kitchen_area = df['kitchen_area'].median()\n",
    "median_kitchen_area"
   ]
  },
  {
   "cell_type": "code",
   "execution_count": 33,
   "metadata": {},
   "outputs": [
    {
     "data": {
      "text/plain": [
       "22538"
      ]
     },
     "execution_count": 33,
     "metadata": {},
     "output_type": "execute_result"
    }
   ],
   "source": [
    "df['kitchen_area'] = df['kitchen_area'].fillna(median_kitchen_area)\n",
    "len(df)"
   ]
  },
  {
   "cell_type": "markdown",
   "metadata": {},
   "source": [
    "Пропущенных значений в столбце locality_name совсем немного, поэтому от них можно избавиться"
   ]
  },
  {
   "cell_type": "code",
   "execution_count": 34,
   "metadata": {},
   "outputs": [
    {
     "data": {
      "text/plain": [
       "22493"
      ]
     },
     "execution_count": 34,
     "metadata": {},
     "output_type": "execute_result"
    }
   ],
   "source": [
    "df = df.loc[~df['locality_name'].isna()]\n",
    "len(df)"
   ]
  },
  {
   "cell_type": "markdown",
   "metadata": {
    "id": "kPpKwYTjfM-R"
   },
   "source": [
    "В airports_nearest, cityCenters_nearest, parks_around3000 и ponds_around3000 почти одинаковые пропущенные значения. Проверим совпадают ли они"
   ]
  },
  {
   "cell_type": "code",
   "execution_count": 35,
   "metadata": {
    "colab": {
     "base_uri": "https://localhost:8080/"
    },
    "id": "slAOiCBFe7Bu",
    "outputId": "72fc8365-6b88-418c-987c-e39ebd4db05e"
   },
   "outputs": [
    {
     "data": {
      "text/plain": [
       "cityCenters_nearest    5295\n",
       "parks_around3000       5295\n",
       "ponds_around3000       5295\n",
       "dtype: int64"
      ]
     },
     "execution_count": 35,
     "metadata": {},
     "output_type": "execute_result"
    }
   ],
   "source": [
    "df[df['airports_nearest'].isna()][['cityCenters_nearest', 'parks_around3000', 'ponds_around3000']].isna().sum()"
   ]
  },
  {
   "cell_type": "markdown",
   "metadata": {
    "id": "d4ja161whPe6"
   },
   "source": [
    "Да, большинство из них совпадает. Может все эти квартиры находятся за городом?"
   ]
  },
  {
   "cell_type": "code",
   "execution_count": 36,
   "metadata": {
    "colab": {
     "base_uri": "https://localhost:8080/"
    },
    "id": "P3ARDTM4gLDK",
    "outputId": "a2d16217-59ab-457b-83a7-25c5243ca752"
   },
   "outputs": [
    {
     "data": {
      "text/plain": [
       "array(['городской посёлок Янино-1', 'посёлок Мурино', 'Сертолово',\n",
       "       'деревня Кудрово', 'Коммунар',\n",
       "       'поселок городского типа Красный Бор', 'Гатчина', 'поселок Мурино',\n",
       "       'деревня Фёдоровское', 'Выборг', 'Кировск',\n",
       "       'деревня Новое Девяткино', 'Санкт-Петербург',\n",
       "       'посёлок городского типа Лебяжье',\n",
       "       'посёлок городского типа Сиверский', 'поселок Молодцово',\n",
       "       'поселок городского типа Кузьмоловский', 'деревня Пикколово',\n",
       "       'Всеволожск', 'Волхов', 'Кингисепп', 'Приозерск',\n",
       "       'деревня Куттузи', 'посёлок Аннино',\n",
       "       'поселок городского типа Ефимовский', 'посёлок Плодовое',\n",
       "       'деревня Заклинье', 'поселок Торковичи', 'поселок Первомайское',\n",
       "       'Сясьстрой', 'деревня Старая', 'деревня Лесколово',\n",
       "       'посёлок Новый Свет', 'Сланцы', 'село Путилово', 'Ивангород',\n",
       "       'Мурино', 'Шлиссельбург', 'Никольское', 'Сосновый Бор',\n",
       "       'поселок Новый Свет', 'деревня Оржицы', 'деревня Кальтино',\n",
       "       'Кудрово', 'поселок Романовка', 'посёлок Бугры', 'поселок Бугры',\n",
       "       'поселок городского типа Рощино', 'Луга', 'Волосово', 'Отрадное',\n",
       "       'село Павлово', 'поселок Оредеж', 'село Копорье',\n",
       "       'посёлок городского типа Красный Бор', 'Тихвин', 'посёлок Победа',\n",
       "       'деревня Нурма', 'поселок городского типа Синявино', 'Тосно',\n",
       "       'посёлок городского типа Кузьмоловский', 'Бокситогорск',\n",
       "       'деревня Лопухинка', 'Пикалёво', 'поселок Терволово',\n",
       "       'поселок городского типа Советский', 'Кириши', 'Подпорожье',\n",
       "       'посёлок Петровское', 'посёлок городского типа Токсово',\n",
       "       'поселок Сельцо', 'посёлок городского типа Вырица',\n",
       "       'деревня Кипень', 'деревня Келози', 'деревня Вартемяги',\n",
       "       'посёлок Тельмана', 'поселок Севастьяново',\n",
       "       'городской поселок Большая Ижора', 'городской посёлок Павлово',\n",
       "       'деревня Агалатово', 'посёлок Новогорелово',\n",
       "       'городской посёлок Лесогорский', 'деревня Лаголово',\n",
       "       'поселок Цвелодубово', 'поселок городского типа Рахья',\n",
       "       'поселок городского типа Вырица', 'деревня Белогорка',\n",
       "       'поселок Заводской', 'городской посёлок Новоселье',\n",
       "       'деревня Большие Колпаны', 'деревня Горбунки', 'деревня Батово',\n",
       "       'деревня Заневка', 'деревня Иссад', 'Приморск',\n",
       "       'городской посёлок Фёдоровское', 'деревня Мистолово',\n",
       "       'Новая Ладога', 'поселок Зимитицы', 'поселок Барышево',\n",
       "       'деревня Разметелево', 'поселок городского типа имени Свердлова',\n",
       "       'деревня Пеники', 'поселок Рябово', 'деревня Пудомяги',\n",
       "       'деревня Низино', 'деревня Бегуницы', 'посёлок Поляны',\n",
       "       'городской посёлок Мга', 'поселок Елизаветино',\n",
       "       'посёлок городского типа Кузнечное', 'деревня Колтуши',\n",
       "       'поселок Запорожское', 'посёлок городского типа Рощино',\n",
       "       'деревня Гостилицы', 'деревня Малое Карлино',\n",
       "       'посёлок Мичуринское', 'посёлок городского типа имени Морозова',\n",
       "       'посёлок Сосново', 'деревня Аро', 'поселок Ильичёво',\n",
       "       'посёлок городского типа Тайцы', 'деревня Малое Верево',\n",
       "       'деревня Извара', 'поселок станции Вещево', 'село Паша',\n",
       "       'деревня Калитино', 'посёлок городского типа Ульяновка',\n",
       "       'деревня Чудской Бор', 'поселок городского типа Дубровка',\n",
       "       'деревня Мины', 'поселок Войсковицы',\n",
       "       'посёлок городского типа имени Свердлова', 'деревня Коркино',\n",
       "       'посёлок Ропша', 'поселок городского типа Приладожский',\n",
       "       'посёлок Щеглово', 'посёлок Гаврилово', 'Лодейное Поле',\n",
       "       'деревня Рабитицы', 'поселок городского типа Никольский',\n",
       "       'деревня Кузьмолово', 'деревня Малые Колпаны', 'поселок Тельмана',\n",
       "       'городской посёлок Назия', 'поселок Углово',\n",
       "       'поселок Старая Малукса', 'садовое товарищество Рахья',\n",
       "       'поселок Аннино', 'поселок Победа', 'деревня Меньково',\n",
       "       'деревня Старые Бегуницы', 'поселок Семрино', 'поселок Гаврилово',\n",
       "       'поселок Глажево', 'поселок Кобринское', 'деревня Гарболово',\n",
       "       'деревня Юкки', 'поселок станции Приветнинское',\n",
       "       'деревня Мануйлово', 'деревня Пчева', 'поселок Поляны',\n",
       "       'поселок Цвылёво', 'поселок Мельниково', 'посёлок Пудость',\n",
       "       'посёлок Усть-Луга', 'Светогорск', 'Любань', 'поселок Селезнёво',\n",
       "       'поселок городского типа Рябово', 'Каменногорск', 'деревня Кривко',\n",
       "       'поселок Глебычево', 'деревня Парицы', 'поселок Жилпосёлок',\n",
       "       'посёлок городского типа Мга', 'городской поселок Янино-1',\n",
       "       'посёлок Войскорово', 'село Никольское', 'посёлок Терволово',\n",
       "       'поселок Стеклянный', 'посёлок городского типа Важины',\n",
       "       'посёлок Мыза-Ивановка', 'село Русско-Высоцкое',\n",
       "       'поселок городского типа Лебяжье',\n",
       "       'поселок городского типа Форносово', 'Красное Село',\n",
       "       'посёлок Ильичёво', 'село Старая Ладога', 'поселок Житково',\n",
       "       'городской посёлок Виллози', 'деревня Лампово',\n",
       "       'деревня Шпаньково', 'деревня Лаврики', 'посёлок Сумино',\n",
       "       'посёлок Возрождение', 'деревня Старосиверская',\n",
       "       'посёлок Кикерино', 'поселок Возрождение',\n",
       "       'деревня Старое Хинколово', 'посёлок Пригородный',\n",
       "       'посёлок Торфяное', 'городской посёлок Будогощь',\n",
       "       'поселок Суходолье', 'поселок Красная Долина', 'деревня Хапо-Ое',\n",
       "       'поселок городского типа Дружная Горка', 'деревня Яльгелево',\n",
       "       'посёлок Шушары', 'посёлок Стеклянный', 'село Рождествено',\n",
       "       'деревня Старополье', 'деревня Сяськелево', 'деревня Камышовка',\n",
       "       'садоводческое некоммерческое товарищество Лесная Поляна',\n",
       "       'поселок Жилгородок', 'деревня Ялгино', 'Ломоносов',\n",
       "       'поселок Новый Учхоз', 'городской посёлок Рощино',\n",
       "       'поселок Гончарово', 'поселок Почап', 'посёлок Сапёрное',\n",
       "       'посёлок Платформа 69-й километр', 'поселок Каложицы',\n",
       "       'деревня Фалилеево', 'деревня Пельгора',\n",
       "       'поселок городского типа Лесогорский', 'деревня Торошковичи',\n",
       "       'посёлок Алексеевка', 'поселок Серебрянский', 'поселок Лукаши',\n",
       "       'поселок Петровское', 'деревня Щеглово', 'Кронштадт',\n",
       "       'поселок Мичуринское', 'деревня Тарасово', 'поселок Кингисеппский',\n",
       "       'посёлок при железнодорожной станции Вещево', 'поселок Ушаки',\n",
       "       'деревня Котлы', 'деревня Сижно', 'деревня Торосово',\n",
       "       'деревня Новолисино', 'посёлок станции Громово', 'деревня Глинка',\n",
       "       'посёлок Мельниково', 'поселок городского типа Назия',\n",
       "       'деревня Старая Пустошь', 'поселок Коммунары', 'поселок Починок',\n",
       "       'посёлок городского типа Вознесенье', 'деревня Разбегаево',\n",
       "       'посёлок городского типа Рябово', 'поселок Гладкое',\n",
       "       'посёлок при железнодорожной станции Приветнинское',\n",
       "       'поселок Тёсово-4', 'посёлок Жилгородок', 'посёлок Коробицыно',\n",
       "       'деревня Большая Вруда', 'деревня Курковицы',\n",
       "       'городской посёлок Советский', 'посёлок Кобралово',\n",
       "       'деревня Суоранда', 'поселок Кобралово',\n",
       "       'поселок городского типа Кондратьево',\n",
       "       'коттеджный поселок Счастье', 'поселок Любань', 'деревня Реброво',\n",
       "       'деревня Зимитицы', 'деревня Тойворово', 'поселок Семиозерье',\n",
       "       'поселок Лесное', 'поселок Совхозный', 'поселок Усть-Луга',\n",
       "       'посёлок Ленинское', 'посёлок Суйда',\n",
       "       'посёлок городского типа Форносово', 'деревня Нижние Осельки',\n",
       "       'деревня Бор', 'посёлок станции Свирь', 'поселок Перово', 'Высоцк',\n",
       "       'поселок Гарболово', 'село Шум', 'поселок Котельский',\n",
       "       'поселок станции Лужайка', 'деревня Большая Пустомержа',\n",
       "       'поселок Красносельское', 'деревня Вахнова Кара', 'деревня Пижма',\n",
       "       'коттеджный поселок Кивеннапа Север', 'поселок Коробицыно',\n",
       "       'поселок Ромашки', 'посёлок Перово', 'деревня Каськово',\n",
       "       'деревня Куровицы', 'посёлок Плоское', 'поселок Сумино',\n",
       "       'поселок городского типа Большая Ижора', 'поселок Кирпичное',\n",
       "       'посёлок городского типа Павлово', 'деревня Ям-Тесово',\n",
       "       'деревня Раздолье', 'деревня Терпилицы',\n",
       "       'поселок городского типа Токсово', 'посёлок Шугозеро',\n",
       "       'деревня Ваганово', 'поселок Пушное', 'садовое товарищество Садко',\n",
       "       'деревня Выскатка', 'городской посёлок Свирьстрой',\n",
       "       'поселок Громово', 'деревня Кисельня', 'посёлок Старая Малукса',\n",
       "       'деревня Трубников Бор', 'поселок Калитино',\n",
       "       'посёлок Высокоключевой', 'садовое товарищество Приладожский',\n",
       "       'посёлок Пансионат Зелёный Бор', 'деревня Ненимяки',\n",
       "       'поселок Пансионат Зелёный Бор', 'деревня Снегирёвка', 'Пушкин',\n",
       "       'деревня Рапполово', 'деревня Пустынка', 'Колпино',\n",
       "       'поселок Рабитицы', 'деревня Большой Сабск', 'деревня Русско',\n",
       "       'деревня Лупполово', 'деревня Большое Рейзино',\n",
       "       'деревня Малая Романовка', 'поселок Дружноселье', 'поселок Пчевжа',\n",
       "       'поселок Володарское', 'коттеджный посёлок Лесное',\n",
       "       'деревня Тихковицы', 'деревня Борисова Грива',\n",
       "       'посёлок Дзержинского'], dtype=object)"
      ]
     },
     "execution_count": 36,
     "metadata": {},
     "output_type": "execute_result"
    }
   ],
   "source": [
    "df[df['cityCenters_nearest'].isna()]['locality_name'].unique()"
   ]
  },
  {
   "cell_type": "markdown",
   "metadata": {
    "id": "6DsDuw-gh18Y"
   },
   "source": [
    "Наше предположение оказалось правильным. Наверное картограф не смог определить значения этих столбцов, потому что все они находились за городом"
   ]
  },
  {
   "cell_type": "code",
   "execution_count": 37,
   "metadata": {},
   "outputs": [
    {
     "data": {
      "text/plain": [
       "total_images                0\n",
       "last_price                  0\n",
       "total_area                  0\n",
       "first_day_exposition        0\n",
       "rooms                       0\n",
       "ceiling_height              0\n",
       "floors_total                0\n",
       "living_area                 0\n",
       "floor                       0\n",
       "is_apartment                0\n",
       "studio                      0\n",
       "open_plan                   0\n",
       "kitchen_area                0\n",
       "balcony                     0\n",
       "locality_name               0\n",
       "airports_nearest         5316\n",
       "cityCenters_nearest      5296\n",
       "parks_around3000         5295\n",
       "parks_nearest           14927\n",
       "ponds_around3000         5295\n",
       "ponds_nearest           14006\n",
       "days_exposition          2976\n",
       "dtype: int64"
      ]
     },
     "execution_count": 37,
     "metadata": {},
     "output_type": "execute_result"
    }
   ],
   "source": [
    "df.isna().sum()"
   ]
  },
  {
   "cell_type": "markdown",
   "metadata": {},
   "source": [
    "С основными пропущенными значениями разобрались. Остальные можно оставить, так как они не будут сильно влиять на наше дальнейшее исследование"
   ]
  },
  {
   "cell_type": "markdown",
   "metadata": {
    "id": "-wLnJs6ziwth"
   },
   "source": [
    "## **Приведение к правильному типу данных**"
   ]
  },
  {
   "cell_type": "code",
   "execution_count": 38,
   "metadata": {
    "colab": {
     "base_uri": "https://localhost:8080/"
    },
    "id": "jweTxLTPgdIN",
    "outputId": "76f316cf-3f32-452f-f951-1619c0fa2bb2"
   },
   "outputs": [
    {
     "data": {
      "text/plain": [
       "total_images              int64\n",
       "last_price              float64\n",
       "total_area              float64\n",
       "first_day_exposition     object\n",
       "rooms                     int64\n",
       "ceiling_height          float64\n",
       "floors_total            float64\n",
       "living_area             float64\n",
       "floor                     int64\n",
       "is_apartment               bool\n",
       "studio                     bool\n",
       "open_plan                  bool\n",
       "kitchen_area            float64\n",
       "balcony                 float64\n",
       "locality_name            object\n",
       "airports_nearest        float64\n",
       "cityCenters_nearest     float64\n",
       "parks_around3000        float64\n",
       "parks_nearest           float64\n",
       "ponds_around3000        float64\n",
       "ponds_nearest           float64\n",
       "days_exposition         float64\n",
       "dtype: object"
      ]
     },
     "execution_count": 38,
     "metadata": {},
     "output_type": "execute_result"
    }
   ],
   "source": [
    "df.dtypes"
   ]
  },
  {
   "cell_type": "markdown",
   "metadata": {
    "id": "0_Rm9IDRjAW7"
   },
   "source": [
    "Конвертируем значения столбцов  \n",
    "last_price, floors_total, balcony, airports_nearest,\tcityCenters_nearest,\tparks_around3000,\tparks_nearest,\tponds_around3000,\tponds_nearest,\tdays_exposition: float -> int  \n",
    "first_day_exposition: object -> datetime"
   ]
  },
  {
   "cell_type": "code",
   "execution_count": 39,
   "metadata": {
    "id": "L8HWGszEi5JQ"
   },
   "outputs": [
    {
     "data": {
      "text/plain": [
       "dtype('<M8[ns]')"
      ]
     },
     "execution_count": 39,
     "metadata": {},
     "output_type": "execute_result"
    }
   ],
   "source": [
    "df['first_day_exposition'] = pd.to_datetime(df['first_day_exposition'], format='%Y-%m-%dT%H:%M:%S')\n",
    "df['first_day_exposition'].dtype"
   ]
  },
  {
   "cell_type": "code",
   "execution_count": 40,
   "metadata": {
    "id": "Pqed2zhYmmmr"
   },
   "outputs": [],
   "source": [
    "df['last_price'] = df['last_price'].astype('int')"
   ]
  },
  {
   "cell_type": "code",
   "execution_count": 41,
   "metadata": {
    "id": "IzzoMrl9pVJ3"
   },
   "outputs": [],
   "source": [
    "df['balcony'] = df['balcony'].astype('int')"
   ]
  },
  {
   "cell_type": "code",
   "execution_count": 42,
   "metadata": {
    "id": "kdk4V97h3Ucr"
   },
   "outputs": [],
   "source": [
    "float_to_int =  ['floors_total', 'airports_nearest', 'cityCenters_nearest', 'parks_around3000', 'parks_nearest', 'ponds_around3000', 'ponds_nearest', 'days_exposition']"
   ]
  },
  {
   "cell_type": "markdown",
   "metadata": {
    "id": "Z4VyZfU6GZwI"
   },
   "source": [
    "Так как в этих столбцах присутствуют пропущенные значения попробуем перевести их с помощью astype('float32').astype('Int64')"
   ]
  },
  {
   "cell_type": "code",
   "execution_count": 43,
   "metadata": {
    "id": "ujEUHH7pEgW8"
   },
   "outputs": [],
   "source": [
    "df[float_to_int] = df[float_to_int].astype('float32').astype('Int64')"
   ]
  },
  {
   "cell_type": "code",
   "execution_count": 44,
   "metadata": {
    "colab": {
     "base_uri": "https://localhost:8080/"
    },
    "id": "impLD7ALFAc9",
    "outputId": "9399eba2-2c32-46c1-dd9e-a5d42b1649d2"
   },
   "outputs": [
    {
     "data": {
      "text/plain": [
       "total_images                     int64\n",
       "last_price                       int32\n",
       "total_area                     float64\n",
       "first_day_exposition    datetime64[ns]\n",
       "rooms                            int64\n",
       "ceiling_height                 float64\n",
       "floors_total                     Int64\n",
       "living_area                    float64\n",
       "floor                            int64\n",
       "is_apartment                      bool\n",
       "studio                            bool\n",
       "open_plan                         bool\n",
       "kitchen_area                   float64\n",
       "balcony                          int32\n",
       "locality_name                   object\n",
       "airports_nearest                 Int64\n",
       "cityCenters_nearest              Int64\n",
       "parks_around3000                 Int64\n",
       "parks_nearest                    Int64\n",
       "ponds_around3000                 Int64\n",
       "ponds_nearest                    Int64\n",
       "days_exposition                  Int64\n",
       "dtype: object"
      ]
     },
     "execution_count": 44,
     "metadata": {},
     "output_type": "execute_result"
    }
   ],
   "source": [
    "df.dtypes"
   ]
  },
  {
   "cell_type": "markdown",
   "metadata": {
    "id": "UBAi5i5CGEDM"
   },
   "source": [
    "Теперь все столбцы имеют правильный тип даных"
   ]
  },
  {
   "cell_type": "markdown",
   "metadata": {},
   "source": [
    "## Поиск дубликатов"
   ]
  },
  {
   "cell_type": "code",
   "execution_count": 45,
   "metadata": {},
   "outputs": [
    {
     "data": {
      "text/plain": [
       "0"
      ]
     },
     "execution_count": 45,
     "metadata": {},
     "output_type": "execute_result"
    }
   ],
   "source": [
    "df.duplicated().sum()"
   ]
  },
  {
   "cell_type": "code",
   "execution_count": 46,
   "metadata": {},
   "outputs": [
    {
     "data": {
      "text/plain": [
       "358"
      ]
     },
     "execution_count": 46,
     "metadata": {},
     "output_type": "execute_result"
    }
   ],
   "source": [
    "df['locality_name'].nunique()"
   ]
  },
  {
   "cell_type": "code",
   "execution_count": 47,
   "metadata": {},
   "outputs": [
    {
     "data": {
      "text/plain": [
       "358"
      ]
     },
     "execution_count": 47,
     "metadata": {},
     "output_type": "execute_result"
    }
   ],
   "source": [
    "df['locality_name'].str.lower().nunique()"
   ]
  },
  {
   "cell_type": "markdown",
   "metadata": {},
   "source": [
    "Дубликатов не наблюдается"
   ]
  },
  {
   "cell_type": "markdown",
   "metadata": {
    "id": "pw7eHQ40G3lR"
   },
   "source": [
    "# **Добавление столбцов**"
   ]
  },
  {
   "cell_type": "markdown",
   "metadata": {
    "id": "D0Du679kHAzm"
   },
   "source": [
    "## **Цена квадратного метра**"
   ]
  },
  {
   "cell_type": "code",
   "execution_count": 48,
   "metadata": {
    "id": "pWm1w65PFwFS"
   },
   "outputs": [],
   "source": [
    "df['price_per_square_meter'] = df['last_price'] / df['total_area']"
   ]
  },
  {
   "cell_type": "code",
   "execution_count": 49,
   "metadata": {
    "colab": {
     "base_uri": "https://localhost:8080/",
     "height": 309
    },
    "id": "Rq6sgpURHmWL",
    "outputId": "347fa161-4080-48b8-9025-f500ed7fec18"
   },
   "outputs": [
    {
     "data": {
      "text/html": [
       "<div>\n",
       "<style scoped>\n",
       "    .dataframe tbody tr th:only-of-type {\n",
       "        vertical-align: middle;\n",
       "    }\n",
       "\n",
       "    .dataframe tbody tr th {\n",
       "        vertical-align: top;\n",
       "    }\n",
       "\n",
       "    .dataframe thead th {\n",
       "        text-align: right;\n",
       "    }\n",
       "</style>\n",
       "<table border=\"1\" class=\"dataframe\">\n",
       "  <thead>\n",
       "    <tr style=\"text-align: right;\">\n",
       "      <th></th>\n",
       "      <th>total_images</th>\n",
       "      <th>last_price</th>\n",
       "      <th>total_area</th>\n",
       "      <th>first_day_exposition</th>\n",
       "      <th>rooms</th>\n",
       "      <th>ceiling_height</th>\n",
       "      <th>floors_total</th>\n",
       "      <th>living_area</th>\n",
       "      <th>floor</th>\n",
       "      <th>is_apartment</th>\n",
       "      <th>...</th>\n",
       "      <th>balcony</th>\n",
       "      <th>locality_name</th>\n",
       "      <th>airports_nearest</th>\n",
       "      <th>cityCenters_nearest</th>\n",
       "      <th>parks_around3000</th>\n",
       "      <th>parks_nearest</th>\n",
       "      <th>ponds_around3000</th>\n",
       "      <th>ponds_nearest</th>\n",
       "      <th>days_exposition</th>\n",
       "      <th>price_per_square_meter</th>\n",
       "    </tr>\n",
       "  </thead>\n",
       "  <tbody>\n",
       "    <tr>\n",
       "      <th>0</th>\n",
       "      <td>20</td>\n",
       "      <td>13000000</td>\n",
       "      <td>108.0</td>\n",
       "      <td>2019-03-07</td>\n",
       "      <td>3</td>\n",
       "      <td>2.70</td>\n",
       "      <td>16</td>\n",
       "      <td>51.0</td>\n",
       "      <td>8</td>\n",
       "      <td>False</td>\n",
       "      <td>...</td>\n",
       "      <td>0</td>\n",
       "      <td>Санкт-Петербург</td>\n",
       "      <td>18863</td>\n",
       "      <td>16028</td>\n",
       "      <td>1</td>\n",
       "      <td>482</td>\n",
       "      <td>2</td>\n",
       "      <td>755</td>\n",
       "      <td>&lt;NA&gt;</td>\n",
       "      <td>120370.370370</td>\n",
       "    </tr>\n",
       "    <tr>\n",
       "      <th>1</th>\n",
       "      <td>7</td>\n",
       "      <td>3350000</td>\n",
       "      <td>40.4</td>\n",
       "      <td>2018-12-04</td>\n",
       "      <td>1</td>\n",
       "      <td>2.65</td>\n",
       "      <td>11</td>\n",
       "      <td>18.6</td>\n",
       "      <td>1</td>\n",
       "      <td>False</td>\n",
       "      <td>...</td>\n",
       "      <td>2</td>\n",
       "      <td>посёлок Шушары</td>\n",
       "      <td>12817</td>\n",
       "      <td>18603</td>\n",
       "      <td>0</td>\n",
       "      <td>&lt;NA&gt;</td>\n",
       "      <td>0</td>\n",
       "      <td>&lt;NA&gt;</td>\n",
       "      <td>81</td>\n",
       "      <td>82920.792079</td>\n",
       "    </tr>\n",
       "    <tr>\n",
       "      <th>2</th>\n",
       "      <td>10</td>\n",
       "      <td>5196000</td>\n",
       "      <td>56.0</td>\n",
       "      <td>2015-08-20</td>\n",
       "      <td>2</td>\n",
       "      <td>2.65</td>\n",
       "      <td>5</td>\n",
       "      <td>34.3</td>\n",
       "      <td>4</td>\n",
       "      <td>False</td>\n",
       "      <td>...</td>\n",
       "      <td>0</td>\n",
       "      <td>Санкт-Петербург</td>\n",
       "      <td>21741</td>\n",
       "      <td>13933</td>\n",
       "      <td>1</td>\n",
       "      <td>90</td>\n",
       "      <td>2</td>\n",
       "      <td>574</td>\n",
       "      <td>558</td>\n",
       "      <td>92785.714286</td>\n",
       "    </tr>\n",
       "    <tr>\n",
       "      <th>3</th>\n",
       "      <td>0</td>\n",
       "      <td>64900000</td>\n",
       "      <td>159.0</td>\n",
       "      <td>2015-07-24</td>\n",
       "      <td>3</td>\n",
       "      <td>2.65</td>\n",
       "      <td>14</td>\n",
       "      <td>54.0</td>\n",
       "      <td>9</td>\n",
       "      <td>False</td>\n",
       "      <td>...</td>\n",
       "      <td>0</td>\n",
       "      <td>Санкт-Петербург</td>\n",
       "      <td>28098</td>\n",
       "      <td>6800</td>\n",
       "      <td>2</td>\n",
       "      <td>84</td>\n",
       "      <td>3</td>\n",
       "      <td>234</td>\n",
       "      <td>424</td>\n",
       "      <td>408176.100629</td>\n",
       "    </tr>\n",
       "    <tr>\n",
       "      <th>5</th>\n",
       "      <td>10</td>\n",
       "      <td>2890000</td>\n",
       "      <td>30.4</td>\n",
       "      <td>2018-09-10</td>\n",
       "      <td>1</td>\n",
       "      <td>2.65</td>\n",
       "      <td>12</td>\n",
       "      <td>14.4</td>\n",
       "      <td>5</td>\n",
       "      <td>False</td>\n",
       "      <td>...</td>\n",
       "      <td>0</td>\n",
       "      <td>городской посёлок Янино-1</td>\n",
       "      <td>&lt;NA&gt;</td>\n",
       "      <td>&lt;NA&gt;</td>\n",
       "      <td>&lt;NA&gt;</td>\n",
       "      <td>&lt;NA&gt;</td>\n",
       "      <td>&lt;NA&gt;</td>\n",
       "      <td>&lt;NA&gt;</td>\n",
       "      <td>55</td>\n",
       "      <td>95065.789474</td>\n",
       "    </tr>\n",
       "  </tbody>\n",
       "</table>\n",
       "<p>5 rows × 23 columns</p>\n",
       "</div>"
      ],
      "text/plain": [
       "   total_images  last_price  total_area first_day_exposition  rooms  \\\n",
       "0            20    13000000       108.0           2019-03-07      3   \n",
       "1             7     3350000        40.4           2018-12-04      1   \n",
       "2            10     5196000        56.0           2015-08-20      2   \n",
       "3             0    64900000       159.0           2015-07-24      3   \n",
       "5            10     2890000        30.4           2018-09-10      1   \n",
       "\n",
       "   ceiling_height  floors_total  living_area  floor  is_apartment  ...  \\\n",
       "0            2.70            16         51.0      8         False  ...   \n",
       "1            2.65            11         18.6      1         False  ...   \n",
       "2            2.65             5         34.3      4         False  ...   \n",
       "3            2.65            14         54.0      9         False  ...   \n",
       "5            2.65            12         14.4      5         False  ...   \n",
       "\n",
       "   balcony              locality_name  airports_nearest  cityCenters_nearest  \\\n",
       "0        0            Санкт-Петербург             18863                16028   \n",
       "1        2             посёлок Шушары             12817                18603   \n",
       "2        0            Санкт-Петербург             21741                13933   \n",
       "3        0            Санкт-Петербург             28098                 6800   \n",
       "5        0  городской посёлок Янино-1              <NA>                 <NA>   \n",
       "\n",
       "  parks_around3000  parks_nearest  ponds_around3000  ponds_nearest  \\\n",
       "0                1            482                 2            755   \n",
       "1                0           <NA>                 0           <NA>   \n",
       "2                1             90                 2            574   \n",
       "3                2             84                 3            234   \n",
       "5             <NA>           <NA>              <NA>           <NA>   \n",
       "\n",
       "   days_exposition  price_per_square_meter  \n",
       "0             <NA>           120370.370370  \n",
       "1               81            82920.792079  \n",
       "2              558            92785.714286  \n",
       "3              424           408176.100629  \n",
       "5               55            95065.789474  \n",
       "\n",
       "[5 rows x 23 columns]"
      ]
     },
     "execution_count": 49,
     "metadata": {},
     "output_type": "execute_result"
    }
   ],
   "source": [
    "df.head()"
   ]
  },
  {
   "cell_type": "markdown",
   "metadata": {
    "id": "hDfy9Xf6IA2j"
   },
   "source": [
    "## **День недели, месяц и год публикации объявления**"
   ]
  },
  {
   "cell_type": "code",
   "execution_count": 50,
   "metadata": {
    "id": "SfFAYijGHnZY"
   },
   "outputs": [],
   "source": [
    "df['weekday'] = pd.DatetimeIndex(df['first_day_exposition']).weekday"
   ]
  },
  {
   "cell_type": "code",
   "execution_count": 51,
   "metadata": {
    "id": "gqLvACJFIZNv"
   },
   "outputs": [],
   "source": [
    "df['month'] = pd.DatetimeIndex(df['first_day_exposition']).month"
   ]
  },
  {
   "cell_type": "code",
   "execution_count": 52,
   "metadata": {
    "id": "cYdSFqcDI1YV"
   },
   "outputs": [],
   "source": [
    "df['year'] = pd.DatetimeIndex(df['first_day_exposition']).year"
   ]
  },
  {
   "cell_type": "code",
   "execution_count": 53,
   "metadata": {
    "colab": {
     "base_uri": "https://localhost:8080/",
     "height": 309
    },
    "id": "KJD2W_axJCyd",
    "outputId": "f6ae9b22-d128-4d6f-8509-9c4d0c40aab3"
   },
   "outputs": [
    {
     "data": {
      "text/html": [
       "<div>\n",
       "<style scoped>\n",
       "    .dataframe tbody tr th:only-of-type {\n",
       "        vertical-align: middle;\n",
       "    }\n",
       "\n",
       "    .dataframe tbody tr th {\n",
       "        vertical-align: top;\n",
       "    }\n",
       "\n",
       "    .dataframe thead th {\n",
       "        text-align: right;\n",
       "    }\n",
       "</style>\n",
       "<table border=\"1\" class=\"dataframe\">\n",
       "  <thead>\n",
       "    <tr style=\"text-align: right;\">\n",
       "      <th></th>\n",
       "      <th>total_images</th>\n",
       "      <th>last_price</th>\n",
       "      <th>total_area</th>\n",
       "      <th>first_day_exposition</th>\n",
       "      <th>rooms</th>\n",
       "      <th>ceiling_height</th>\n",
       "      <th>floors_total</th>\n",
       "      <th>living_area</th>\n",
       "      <th>floor</th>\n",
       "      <th>is_apartment</th>\n",
       "      <th>...</th>\n",
       "      <th>cityCenters_nearest</th>\n",
       "      <th>parks_around3000</th>\n",
       "      <th>parks_nearest</th>\n",
       "      <th>ponds_around3000</th>\n",
       "      <th>ponds_nearest</th>\n",
       "      <th>days_exposition</th>\n",
       "      <th>price_per_square_meter</th>\n",
       "      <th>weekday</th>\n",
       "      <th>month</th>\n",
       "      <th>year</th>\n",
       "    </tr>\n",
       "  </thead>\n",
       "  <tbody>\n",
       "    <tr>\n",
       "      <th>0</th>\n",
       "      <td>20</td>\n",
       "      <td>13000000</td>\n",
       "      <td>108.0</td>\n",
       "      <td>2019-03-07</td>\n",
       "      <td>3</td>\n",
       "      <td>2.70</td>\n",
       "      <td>16</td>\n",
       "      <td>51.0</td>\n",
       "      <td>8</td>\n",
       "      <td>False</td>\n",
       "      <td>...</td>\n",
       "      <td>16028</td>\n",
       "      <td>1</td>\n",
       "      <td>482</td>\n",
       "      <td>2</td>\n",
       "      <td>755</td>\n",
       "      <td>&lt;NA&gt;</td>\n",
       "      <td>120370.370370</td>\n",
       "      <td>3</td>\n",
       "      <td>3</td>\n",
       "      <td>2019</td>\n",
       "    </tr>\n",
       "    <tr>\n",
       "      <th>1</th>\n",
       "      <td>7</td>\n",
       "      <td>3350000</td>\n",
       "      <td>40.4</td>\n",
       "      <td>2018-12-04</td>\n",
       "      <td>1</td>\n",
       "      <td>2.65</td>\n",
       "      <td>11</td>\n",
       "      <td>18.6</td>\n",
       "      <td>1</td>\n",
       "      <td>False</td>\n",
       "      <td>...</td>\n",
       "      <td>18603</td>\n",
       "      <td>0</td>\n",
       "      <td>&lt;NA&gt;</td>\n",
       "      <td>0</td>\n",
       "      <td>&lt;NA&gt;</td>\n",
       "      <td>81</td>\n",
       "      <td>82920.792079</td>\n",
       "      <td>1</td>\n",
       "      <td>12</td>\n",
       "      <td>2018</td>\n",
       "    </tr>\n",
       "    <tr>\n",
       "      <th>2</th>\n",
       "      <td>10</td>\n",
       "      <td>5196000</td>\n",
       "      <td>56.0</td>\n",
       "      <td>2015-08-20</td>\n",
       "      <td>2</td>\n",
       "      <td>2.65</td>\n",
       "      <td>5</td>\n",
       "      <td>34.3</td>\n",
       "      <td>4</td>\n",
       "      <td>False</td>\n",
       "      <td>...</td>\n",
       "      <td>13933</td>\n",
       "      <td>1</td>\n",
       "      <td>90</td>\n",
       "      <td>2</td>\n",
       "      <td>574</td>\n",
       "      <td>558</td>\n",
       "      <td>92785.714286</td>\n",
       "      <td>3</td>\n",
       "      <td>8</td>\n",
       "      <td>2015</td>\n",
       "    </tr>\n",
       "    <tr>\n",
       "      <th>3</th>\n",
       "      <td>0</td>\n",
       "      <td>64900000</td>\n",
       "      <td>159.0</td>\n",
       "      <td>2015-07-24</td>\n",
       "      <td>3</td>\n",
       "      <td>2.65</td>\n",
       "      <td>14</td>\n",
       "      <td>54.0</td>\n",
       "      <td>9</td>\n",
       "      <td>False</td>\n",
       "      <td>...</td>\n",
       "      <td>6800</td>\n",
       "      <td>2</td>\n",
       "      <td>84</td>\n",
       "      <td>3</td>\n",
       "      <td>234</td>\n",
       "      <td>424</td>\n",
       "      <td>408176.100629</td>\n",
       "      <td>4</td>\n",
       "      <td>7</td>\n",
       "      <td>2015</td>\n",
       "    </tr>\n",
       "    <tr>\n",
       "      <th>5</th>\n",
       "      <td>10</td>\n",
       "      <td>2890000</td>\n",
       "      <td>30.4</td>\n",
       "      <td>2018-09-10</td>\n",
       "      <td>1</td>\n",
       "      <td>2.65</td>\n",
       "      <td>12</td>\n",
       "      <td>14.4</td>\n",
       "      <td>5</td>\n",
       "      <td>False</td>\n",
       "      <td>...</td>\n",
       "      <td>&lt;NA&gt;</td>\n",
       "      <td>&lt;NA&gt;</td>\n",
       "      <td>&lt;NA&gt;</td>\n",
       "      <td>&lt;NA&gt;</td>\n",
       "      <td>&lt;NA&gt;</td>\n",
       "      <td>55</td>\n",
       "      <td>95065.789474</td>\n",
       "      <td>0</td>\n",
       "      <td>9</td>\n",
       "      <td>2018</td>\n",
       "    </tr>\n",
       "  </tbody>\n",
       "</table>\n",
       "<p>5 rows × 26 columns</p>\n",
       "</div>"
      ],
      "text/plain": [
       "   total_images  last_price  total_area first_day_exposition  rooms  \\\n",
       "0            20    13000000       108.0           2019-03-07      3   \n",
       "1             7     3350000        40.4           2018-12-04      1   \n",
       "2            10     5196000        56.0           2015-08-20      2   \n",
       "3             0    64900000       159.0           2015-07-24      3   \n",
       "5            10     2890000        30.4           2018-09-10      1   \n",
       "\n",
       "   ceiling_height  floors_total  living_area  floor  is_apartment  ...  \\\n",
       "0            2.70            16         51.0      8         False  ...   \n",
       "1            2.65            11         18.6      1         False  ...   \n",
       "2            2.65             5         34.3      4         False  ...   \n",
       "3            2.65            14         54.0      9         False  ...   \n",
       "5            2.65            12         14.4      5         False  ...   \n",
       "\n",
       "   cityCenters_nearest  parks_around3000  parks_nearest  ponds_around3000  \\\n",
       "0                16028                 1            482                 2   \n",
       "1                18603                 0           <NA>                 0   \n",
       "2                13933                 1             90                 2   \n",
       "3                 6800                 2             84                 3   \n",
       "5                 <NA>              <NA>           <NA>              <NA>   \n",
       "\n",
       "  ponds_nearest  days_exposition  price_per_square_meter  weekday  month  year  \n",
       "0           755             <NA>           120370.370370        3      3  2019  \n",
       "1          <NA>               81            82920.792079        1     12  2018  \n",
       "2           574              558            92785.714286        3      8  2015  \n",
       "3           234              424           408176.100629        4      7  2015  \n",
       "5          <NA>               55            95065.789474        0      9  2018  \n",
       "\n",
       "[5 rows x 26 columns]"
      ]
     },
     "execution_count": 53,
     "metadata": {},
     "output_type": "execute_result"
    }
   ],
   "source": [
    "df.head()"
   ]
  },
  {
   "cell_type": "markdown",
   "metadata": {
    "id": "SGYIpDJ0JX_Y"
   },
   "source": [
    "## **Этаж квартиры. Варианты — первый, последний, другой**"
   ]
  },
  {
   "cell_type": "code",
   "execution_count": 54,
   "metadata": {
    "id": "vsbgp9j-JLSO"
   },
   "outputs": [],
   "source": [
    "def floor(row):\n",
    "    floors_total = row['floors_total']\n",
    "    floor = row['floor']\n",
    "    if floor == 1:\n",
    "        return 'Первый'\n",
    "    elif floor == floors_total:\n",
    "        return 'Последний'\n",
    "    else:\n",
    "        return 'Другой'"
   ]
  },
  {
   "cell_type": "code",
   "execution_count": 55,
   "metadata": {
    "id": "N8LCGaWoKpgE"
   },
   "outputs": [],
   "source": [
    "df['floor_actual'] = df.apply(floor, axis=1)"
   ]
  },
  {
   "cell_type": "code",
   "execution_count": 56,
   "metadata": {
    "colab": {
     "base_uri": "https://localhost:8080/"
    },
    "id": "qEItDIxfLhIT",
    "outputId": "94c3c930-5943-45c6-fe24-f675e3fe1863"
   },
   "outputs": [
    {
     "data": {
      "text/plain": [
       "Другой       16569\n",
       "Последний     3132\n",
       "Первый        2792\n",
       "Name: floor_actual, dtype: int64"
      ]
     },
     "execution_count": 56,
     "metadata": {},
     "output_type": "execute_result"
    }
   ],
   "source": [
    "df['floor_actual'].value_counts()"
   ]
  },
  {
   "cell_type": "markdown",
   "metadata": {
    "id": "9HaZt9aMMuk9"
   },
   "source": [
    "## **Cоотношение жилой и общей площади**"
   ]
  },
  {
   "cell_type": "code",
   "execution_count": 57,
   "metadata": {
    "id": "MP0N359dMhDo"
   },
   "outputs": [],
   "source": [
    "df['living_to_total_area'] = df['living_area'] / df['total_area']"
   ]
  },
  {
   "cell_type": "code",
   "execution_count": 58,
   "metadata": {
    "colab": {
     "base_uri": "https://localhost:8080/",
     "height": 309
    },
    "id": "7Ni4XE_-NU15",
    "outputId": "ddf91372-a3b0-4846-9ac7-89333cf00fd8"
   },
   "outputs": [
    {
     "data": {
      "text/html": [
       "<div>\n",
       "<style scoped>\n",
       "    .dataframe tbody tr th:only-of-type {\n",
       "        vertical-align: middle;\n",
       "    }\n",
       "\n",
       "    .dataframe tbody tr th {\n",
       "        vertical-align: top;\n",
       "    }\n",
       "\n",
       "    .dataframe thead th {\n",
       "        text-align: right;\n",
       "    }\n",
       "</style>\n",
       "<table border=\"1\" class=\"dataframe\">\n",
       "  <thead>\n",
       "    <tr style=\"text-align: right;\">\n",
       "      <th></th>\n",
       "      <th>total_images</th>\n",
       "      <th>last_price</th>\n",
       "      <th>total_area</th>\n",
       "      <th>first_day_exposition</th>\n",
       "      <th>rooms</th>\n",
       "      <th>ceiling_height</th>\n",
       "      <th>floors_total</th>\n",
       "      <th>living_area</th>\n",
       "      <th>floor</th>\n",
       "      <th>is_apartment</th>\n",
       "      <th>...</th>\n",
       "      <th>parks_nearest</th>\n",
       "      <th>ponds_around3000</th>\n",
       "      <th>ponds_nearest</th>\n",
       "      <th>days_exposition</th>\n",
       "      <th>price_per_square_meter</th>\n",
       "      <th>weekday</th>\n",
       "      <th>month</th>\n",
       "      <th>year</th>\n",
       "      <th>floor_actual</th>\n",
       "      <th>living_to_total_area</th>\n",
       "    </tr>\n",
       "  </thead>\n",
       "  <tbody>\n",
       "    <tr>\n",
       "      <th>0</th>\n",
       "      <td>20</td>\n",
       "      <td>13000000</td>\n",
       "      <td>108.0</td>\n",
       "      <td>2019-03-07</td>\n",
       "      <td>3</td>\n",
       "      <td>2.70</td>\n",
       "      <td>16</td>\n",
       "      <td>51.0</td>\n",
       "      <td>8</td>\n",
       "      <td>False</td>\n",
       "      <td>...</td>\n",
       "      <td>482</td>\n",
       "      <td>2</td>\n",
       "      <td>755</td>\n",
       "      <td>&lt;NA&gt;</td>\n",
       "      <td>120370.370370</td>\n",
       "      <td>3</td>\n",
       "      <td>3</td>\n",
       "      <td>2019</td>\n",
       "      <td>Другой</td>\n",
       "      <td>0.472222</td>\n",
       "    </tr>\n",
       "    <tr>\n",
       "      <th>1</th>\n",
       "      <td>7</td>\n",
       "      <td>3350000</td>\n",
       "      <td>40.4</td>\n",
       "      <td>2018-12-04</td>\n",
       "      <td>1</td>\n",
       "      <td>2.65</td>\n",
       "      <td>11</td>\n",
       "      <td>18.6</td>\n",
       "      <td>1</td>\n",
       "      <td>False</td>\n",
       "      <td>...</td>\n",
       "      <td>&lt;NA&gt;</td>\n",
       "      <td>0</td>\n",
       "      <td>&lt;NA&gt;</td>\n",
       "      <td>81</td>\n",
       "      <td>82920.792079</td>\n",
       "      <td>1</td>\n",
       "      <td>12</td>\n",
       "      <td>2018</td>\n",
       "      <td>Первый</td>\n",
       "      <td>0.460396</td>\n",
       "    </tr>\n",
       "    <tr>\n",
       "      <th>2</th>\n",
       "      <td>10</td>\n",
       "      <td>5196000</td>\n",
       "      <td>56.0</td>\n",
       "      <td>2015-08-20</td>\n",
       "      <td>2</td>\n",
       "      <td>2.65</td>\n",
       "      <td>5</td>\n",
       "      <td>34.3</td>\n",
       "      <td>4</td>\n",
       "      <td>False</td>\n",
       "      <td>...</td>\n",
       "      <td>90</td>\n",
       "      <td>2</td>\n",
       "      <td>574</td>\n",
       "      <td>558</td>\n",
       "      <td>92785.714286</td>\n",
       "      <td>3</td>\n",
       "      <td>8</td>\n",
       "      <td>2015</td>\n",
       "      <td>Другой</td>\n",
       "      <td>0.612500</td>\n",
       "    </tr>\n",
       "    <tr>\n",
       "      <th>3</th>\n",
       "      <td>0</td>\n",
       "      <td>64900000</td>\n",
       "      <td>159.0</td>\n",
       "      <td>2015-07-24</td>\n",
       "      <td>3</td>\n",
       "      <td>2.65</td>\n",
       "      <td>14</td>\n",
       "      <td>54.0</td>\n",
       "      <td>9</td>\n",
       "      <td>False</td>\n",
       "      <td>...</td>\n",
       "      <td>84</td>\n",
       "      <td>3</td>\n",
       "      <td>234</td>\n",
       "      <td>424</td>\n",
       "      <td>408176.100629</td>\n",
       "      <td>4</td>\n",
       "      <td>7</td>\n",
       "      <td>2015</td>\n",
       "      <td>Другой</td>\n",
       "      <td>0.339623</td>\n",
       "    </tr>\n",
       "    <tr>\n",
       "      <th>5</th>\n",
       "      <td>10</td>\n",
       "      <td>2890000</td>\n",
       "      <td>30.4</td>\n",
       "      <td>2018-09-10</td>\n",
       "      <td>1</td>\n",
       "      <td>2.65</td>\n",
       "      <td>12</td>\n",
       "      <td>14.4</td>\n",
       "      <td>5</td>\n",
       "      <td>False</td>\n",
       "      <td>...</td>\n",
       "      <td>&lt;NA&gt;</td>\n",
       "      <td>&lt;NA&gt;</td>\n",
       "      <td>&lt;NA&gt;</td>\n",
       "      <td>55</td>\n",
       "      <td>95065.789474</td>\n",
       "      <td>0</td>\n",
       "      <td>9</td>\n",
       "      <td>2018</td>\n",
       "      <td>Другой</td>\n",
       "      <td>0.473684</td>\n",
       "    </tr>\n",
       "  </tbody>\n",
       "</table>\n",
       "<p>5 rows × 28 columns</p>\n",
       "</div>"
      ],
      "text/plain": [
       "   total_images  last_price  total_area first_day_exposition  rooms  \\\n",
       "0            20    13000000       108.0           2019-03-07      3   \n",
       "1             7     3350000        40.4           2018-12-04      1   \n",
       "2            10     5196000        56.0           2015-08-20      2   \n",
       "3             0    64900000       159.0           2015-07-24      3   \n",
       "5            10     2890000        30.4           2018-09-10      1   \n",
       "\n",
       "   ceiling_height  floors_total  living_area  floor  is_apartment  ...  \\\n",
       "0            2.70            16         51.0      8         False  ...   \n",
       "1            2.65            11         18.6      1         False  ...   \n",
       "2            2.65             5         34.3      4         False  ...   \n",
       "3            2.65            14         54.0      9         False  ...   \n",
       "5            2.65            12         14.4      5         False  ...   \n",
       "\n",
       "   parks_nearest  ponds_around3000  ponds_nearest  days_exposition  \\\n",
       "0            482                 2            755             <NA>   \n",
       "1           <NA>                 0           <NA>               81   \n",
       "2             90                 2            574              558   \n",
       "3             84                 3            234              424   \n",
       "5           <NA>              <NA>           <NA>               55   \n",
       "\n",
       "  price_per_square_meter  weekday  month  year  floor_actual  \\\n",
       "0          120370.370370        3      3  2019        Другой   \n",
       "1           82920.792079        1     12  2018        Первый   \n",
       "2           92785.714286        3      8  2015        Другой   \n",
       "3          408176.100629        4      7  2015        Другой   \n",
       "5           95065.789474        0      9  2018        Другой   \n",
       "\n",
       "   living_to_total_area  \n",
       "0              0.472222  \n",
       "1              0.460396  \n",
       "2              0.612500  \n",
       "3              0.339623  \n",
       "5              0.473684  \n",
       "\n",
       "[5 rows x 28 columns]"
      ]
     },
     "execution_count": 58,
     "metadata": {},
     "output_type": "execute_result"
    }
   ],
   "source": [
    "df.head()"
   ]
  },
  {
   "cell_type": "markdown",
   "metadata": {
    "id": "t25VgGRtNeE6"
   },
   "source": [
    "## **Coотношение площади кухни к общей**"
   ]
  },
  {
   "cell_type": "code",
   "execution_count": 59,
   "metadata": {
    "id": "wtkznr7bNVxs"
   },
   "outputs": [],
   "source": [
    "df['kitchen_to_total_area'] = df['kitchen_area'] / df['total_area']"
   ]
  },
  {
   "cell_type": "code",
   "execution_count": 60,
   "metadata": {
    "colab": {
     "base_uri": "https://localhost:8080/",
     "height": 309
    },
    "id": "OzYHriTjNmc8",
    "outputId": "f4c4f1a4-aa7f-4ce0-e120-77f1781f11a8"
   },
   "outputs": [
    {
     "data": {
      "text/html": [
       "<div>\n",
       "<style scoped>\n",
       "    .dataframe tbody tr th:only-of-type {\n",
       "        vertical-align: middle;\n",
       "    }\n",
       "\n",
       "    .dataframe tbody tr th {\n",
       "        vertical-align: top;\n",
       "    }\n",
       "\n",
       "    .dataframe thead th {\n",
       "        text-align: right;\n",
       "    }\n",
       "</style>\n",
       "<table border=\"1\" class=\"dataframe\">\n",
       "  <thead>\n",
       "    <tr style=\"text-align: right;\">\n",
       "      <th></th>\n",
       "      <th>total_images</th>\n",
       "      <th>last_price</th>\n",
       "      <th>total_area</th>\n",
       "      <th>first_day_exposition</th>\n",
       "      <th>rooms</th>\n",
       "      <th>ceiling_height</th>\n",
       "      <th>floors_total</th>\n",
       "      <th>living_area</th>\n",
       "      <th>floor</th>\n",
       "      <th>is_apartment</th>\n",
       "      <th>...</th>\n",
       "      <th>ponds_around3000</th>\n",
       "      <th>ponds_nearest</th>\n",
       "      <th>days_exposition</th>\n",
       "      <th>price_per_square_meter</th>\n",
       "      <th>weekday</th>\n",
       "      <th>month</th>\n",
       "      <th>year</th>\n",
       "      <th>floor_actual</th>\n",
       "      <th>living_to_total_area</th>\n",
       "      <th>kitchen_to_total_area</th>\n",
       "    </tr>\n",
       "  </thead>\n",
       "  <tbody>\n",
       "    <tr>\n",
       "      <th>0</th>\n",
       "      <td>20</td>\n",
       "      <td>13000000</td>\n",
       "      <td>108.0</td>\n",
       "      <td>2019-03-07</td>\n",
       "      <td>3</td>\n",
       "      <td>2.70</td>\n",
       "      <td>16</td>\n",
       "      <td>51.0</td>\n",
       "      <td>8</td>\n",
       "      <td>False</td>\n",
       "      <td>...</td>\n",
       "      <td>2</td>\n",
       "      <td>755</td>\n",
       "      <td>&lt;NA&gt;</td>\n",
       "      <td>120370.370370</td>\n",
       "      <td>3</td>\n",
       "      <td>3</td>\n",
       "      <td>2019</td>\n",
       "      <td>Другой</td>\n",
       "      <td>0.472222</td>\n",
       "      <td>0.231481</td>\n",
       "    </tr>\n",
       "    <tr>\n",
       "      <th>1</th>\n",
       "      <td>7</td>\n",
       "      <td>3350000</td>\n",
       "      <td>40.4</td>\n",
       "      <td>2018-12-04</td>\n",
       "      <td>1</td>\n",
       "      <td>2.65</td>\n",
       "      <td>11</td>\n",
       "      <td>18.6</td>\n",
       "      <td>1</td>\n",
       "      <td>False</td>\n",
       "      <td>...</td>\n",
       "      <td>0</td>\n",
       "      <td>&lt;NA&gt;</td>\n",
       "      <td>81</td>\n",
       "      <td>82920.792079</td>\n",
       "      <td>1</td>\n",
       "      <td>12</td>\n",
       "      <td>2018</td>\n",
       "      <td>Первый</td>\n",
       "      <td>0.460396</td>\n",
       "      <td>0.272277</td>\n",
       "    </tr>\n",
       "    <tr>\n",
       "      <th>2</th>\n",
       "      <td>10</td>\n",
       "      <td>5196000</td>\n",
       "      <td>56.0</td>\n",
       "      <td>2015-08-20</td>\n",
       "      <td>2</td>\n",
       "      <td>2.65</td>\n",
       "      <td>5</td>\n",
       "      <td>34.3</td>\n",
       "      <td>4</td>\n",
       "      <td>False</td>\n",
       "      <td>...</td>\n",
       "      <td>2</td>\n",
       "      <td>574</td>\n",
       "      <td>558</td>\n",
       "      <td>92785.714286</td>\n",
       "      <td>3</td>\n",
       "      <td>8</td>\n",
       "      <td>2015</td>\n",
       "      <td>Другой</td>\n",
       "      <td>0.612500</td>\n",
       "      <td>0.148214</td>\n",
       "    </tr>\n",
       "    <tr>\n",
       "      <th>3</th>\n",
       "      <td>0</td>\n",
       "      <td>64900000</td>\n",
       "      <td>159.0</td>\n",
       "      <td>2015-07-24</td>\n",
       "      <td>3</td>\n",
       "      <td>2.65</td>\n",
       "      <td>14</td>\n",
       "      <td>54.0</td>\n",
       "      <td>9</td>\n",
       "      <td>False</td>\n",
       "      <td>...</td>\n",
       "      <td>3</td>\n",
       "      <td>234</td>\n",
       "      <td>424</td>\n",
       "      <td>408176.100629</td>\n",
       "      <td>4</td>\n",
       "      <td>7</td>\n",
       "      <td>2015</td>\n",
       "      <td>Другой</td>\n",
       "      <td>0.339623</td>\n",
       "      <td>0.094340</td>\n",
       "    </tr>\n",
       "    <tr>\n",
       "      <th>5</th>\n",
       "      <td>10</td>\n",
       "      <td>2890000</td>\n",
       "      <td>30.4</td>\n",
       "      <td>2018-09-10</td>\n",
       "      <td>1</td>\n",
       "      <td>2.65</td>\n",
       "      <td>12</td>\n",
       "      <td>14.4</td>\n",
       "      <td>5</td>\n",
       "      <td>False</td>\n",
       "      <td>...</td>\n",
       "      <td>&lt;NA&gt;</td>\n",
       "      <td>&lt;NA&gt;</td>\n",
       "      <td>55</td>\n",
       "      <td>95065.789474</td>\n",
       "      <td>0</td>\n",
       "      <td>9</td>\n",
       "      <td>2018</td>\n",
       "      <td>Другой</td>\n",
       "      <td>0.473684</td>\n",
       "      <td>0.299342</td>\n",
       "    </tr>\n",
       "  </tbody>\n",
       "</table>\n",
       "<p>5 rows × 29 columns</p>\n",
       "</div>"
      ],
      "text/plain": [
       "   total_images  last_price  total_area first_day_exposition  rooms  \\\n",
       "0            20    13000000       108.0           2019-03-07      3   \n",
       "1             7     3350000        40.4           2018-12-04      1   \n",
       "2            10     5196000        56.0           2015-08-20      2   \n",
       "3             0    64900000       159.0           2015-07-24      3   \n",
       "5            10     2890000        30.4           2018-09-10      1   \n",
       "\n",
       "   ceiling_height  floors_total  living_area  floor  is_apartment  ...  \\\n",
       "0            2.70            16         51.0      8         False  ...   \n",
       "1            2.65            11         18.6      1         False  ...   \n",
       "2            2.65             5         34.3      4         False  ...   \n",
       "3            2.65            14         54.0      9         False  ...   \n",
       "5            2.65            12         14.4      5         False  ...   \n",
       "\n",
       "   ponds_around3000  ponds_nearest  days_exposition  price_per_square_meter  \\\n",
       "0                 2            755             <NA>           120370.370370   \n",
       "1                 0           <NA>               81            82920.792079   \n",
       "2                 2            574              558            92785.714286   \n",
       "3                 3            234              424           408176.100629   \n",
       "5              <NA>           <NA>               55            95065.789474   \n",
       "\n",
       "  weekday  month  year  floor_actual  living_to_total_area  \\\n",
       "0       3      3  2019        Другой              0.472222   \n",
       "1       1     12  2018        Первый              0.460396   \n",
       "2       3      8  2015        Другой              0.612500   \n",
       "3       4      7  2015        Другой              0.339623   \n",
       "5       0      9  2018        Другой              0.473684   \n",
       "\n",
       "   kitchen_to_total_area  \n",
       "0               0.231481  \n",
       "1               0.272277  \n",
       "2               0.148214  \n",
       "3               0.094340  \n",
       "5               0.299342  \n",
       "\n",
       "[5 rows x 29 columns]"
      ]
     },
     "execution_count": 60,
     "metadata": {},
     "output_type": "execute_result"
    }
   ],
   "source": [
    "df.head()"
   ]
  },
  {
   "cell_type": "markdown",
   "metadata": {},
   "source": [
    "Предобработка закончена, можно приступать к анализу данных"
   ]
  },
  {
   "cell_type": "markdown",
   "metadata": {
    "id": "zrlconNFNzlU"
   },
   "source": [
    "# **Исследовательский анализ данных**"
   ]
  },
  {
   "cell_type": "code",
   "execution_count": 61,
   "metadata": {
    "colab": {
     "base_uri": "https://localhost:8080/",
     "height": 295
    },
    "id": "_FNFFcMkNtly",
    "outputId": "a59321c6-3c8f-4b26-8d0a-5de2d6d05846"
   },
   "outputs": [
    {
     "data": {
      "image/png": "[encoded data removed]",
      "text/plain": [
       "<Figure size 432x288 with 1 Axes>"
      ]
     },
     "metadata": {
      "needs_background": "light"
     },
     "output_type": "display_data"
    }
   ],
   "source": [
    "plt.hist(df['total_area'], bins=50, range=(0, 300))\n",
    "plt.title('Частота площадей квартир')\n",
    "plt.xlabel('Общая площадь')\n",
    "plt.grid(True)\n",
    "plt.show()"
   ]
  },
  {
   "cell_type": "code",
   "execution_count": 62,
   "metadata": {
    "colab": {
     "base_uri": "https://localhost:8080/"
    },
    "id": "sSu5KSmNPbi1",
    "outputId": "e8334ea4-ca2a-41f9-ecdc-f01836f00cc9"
   },
   "outputs": [
    {
     "data": {
      "text/plain": [
       "0    45.0\n",
       "dtype: float64"
      ]
     },
     "execution_count": 62,
     "metadata": {},
     "output_type": "execute_result"
    }
   ],
   "source": [
    "df['total_area'].mode()"
   ]
  },
  {
   "cell_type": "markdown",
   "metadata": {
    "id": "hmv3yVjTOi90"
   },
   "source": [
    "Преобладают квартиры с 45 кв метрами"
   ]
  },
  {
   "cell_type": "code",
   "execution_count": 63,
   "metadata": {
    "colab": {
     "base_uri": "https://localhost:8080/",
     "height": 295
    },
    "id": "l4tHDaR_OQ1i",
    "outputId": "b04ea77b-30b5-4930-cc4f-69e8250b84bc"
   },
   "outputs": [
    {
     "data": {
      "image/png": "[encoded data removed]",
      "text/plain": [
       "<Figure size 432x288 with 1 Axes>"
      ]
     },
     "metadata": {
      "needs_background": "light"
     },
     "output_type": "display_data"
    }
   ],
   "source": [
    "plt.hist(df['last_price'], bins=50, range=(0, 40000000))\n",
    "plt.title('Частота цен')\n",
    "plt.xlabel('Цена продажи')\n",
    "plt.grid(True)\n",
    "plt.show()"
   ]
  },
  {
   "cell_type": "code",
   "execution_count": 64,
   "metadata": {
    "colab": {
     "base_uri": "https://localhost:8080/"
    },
    "id": "jyM9V51WPRBe",
    "outputId": "720ff15f-42c4-4ab6-c8f1-aca7c206648b"
   },
   "outputs": [
    {
     "data": {
      "text/plain": [
       "0    4500000\n",
       "dtype: int32"
      ]
     },
     "execution_count": 64,
     "metadata": {},
     "output_type": "execute_result"
    }
   ],
   "source": [
    "df['last_price'].mode()"
   ]
  },
  {
   "cell_type": "markdown",
   "metadata": {
    "id": "WylzHKg2Pe_Q"
   },
   "source": [
    "Мода в ценах на квартиры 4.5 млн рублей"
   ]
  },
  {
   "cell_type": "code",
   "execution_count": 65,
   "metadata": {
    "colab": {
     "base_uri": "https://localhost:8080/",
     "height": 295
    },
    "id": "bjmVBg17QXOE",
    "outputId": "94e2c9e3-e7b0-4219-8b19-3ae3b0cea073"
   },
   "outputs": [
    {
     "data": {
      "image/png": "[encoded data removed]",
      "text/plain": [
       "<Figure size 432x288 with 1 Axes>"
      ]
     },
     "metadata": {
      "needs_background": "light"
     },
     "output_type": "display_data"
    }
   ],
   "source": [
    "plt.hist(df['rooms'], range=(0, 10))\n",
    "plt.title('Частота количества комнат')\n",
    "plt.xlabel('Количество комнат')\n",
    "plt.grid(True)\n",
    "plt.show()"
   ]
  },
  {
   "cell_type": "markdown",
   "metadata": {
    "id": "8Ts4NBNhQvNk"
   },
   "source": [
    "Большинство квартир с 1 до 4 комнатами"
   ]
  },
  {
   "cell_type": "code",
   "execution_count": 66,
   "metadata": {
    "colab": {
     "base_uri": "https://localhost:8080/",
     "height": 295
    },
    "id": "jCLGyxJ7QjyG",
    "outputId": "97171f9f-1e66-4ea0-d1a8-591bfdb03645"
   },
   "outputs": [
    {
     "data": {
      "image/png": "[encoded data removed]",
      "text/plain": [
       "<Figure size 432x288 with 1 Axes>"
      ]
     },
     "metadata": {
      "needs_background": "light"
     },
     "output_type": "display_data"
    }
   ],
   "source": [
    "plt.hist(df['ceiling_height'], range=(0, 5))\n",
    "plt.title('Частота высоты потолков')\n",
    "plt.xlabel('Высота потолка')\n",
    "plt.grid(True)\n",
    "plt.show()"
   ]
  },
  {
   "cell_type": "markdown",
   "metadata": {
    "id": "r9G-AOeNRYU_"
   },
   "source": [
    "Большинство потолков от 2.5 до 3 метров"
   ]
  },
  {
   "cell_type": "code",
   "execution_count": 67,
   "metadata": {
    "colab": {
     "base_uri": "https://localhost:8080/",
     "height": 282
    },
    "id": "DzcN5N3pRX4N",
    "outputId": "a06df9a9-19d7-4003-cd5b-4a1e6315c373"
   },
   "outputs": [
    {
     "data": {
      "image/png": "[encoded data removed]",
      "text/plain": [
       "<Figure size 432x288 with 1 Axes>"
      ]
     },
     "metadata": {
      "needs_background": "light"
     },
     "output_type": "display_data"
    }
   ],
   "source": [
    "df['days_exposition'].hist(bins=50)\n",
    "plt.title('Количество дней до продажи')\n",
    "plt.show()"
   ]
  },
  {
   "cell_type": "code",
   "execution_count": 68,
   "metadata": {
    "colab": {
     "base_uri": "https://localhost:8080/"
    },
    "id": "AVdGup6vR_Uc",
    "outputId": "ed7b1ab1-a7cd-4ad0-ae5f-2626e37a6937"
   },
   "outputs": [
    {
     "data": {
      "text/plain": [
       "179.4767126095199"
      ]
     },
     "execution_count": 68,
     "metadata": {},
     "output_type": "execute_result"
    }
   ],
   "source": [
    "df['days_exposition'].mean()"
   ]
  },
  {
   "cell_type": "code",
   "execution_count": 69,
   "metadata": {
    "colab": {
     "base_uri": "https://localhost:8080/"
    },
    "id": "Va2P-apqRKUg",
    "outputId": "3f81a0d1-2ab8-464e-e786-7ab0a076d8b0"
   },
   "outputs": [
    {
     "data": {
      "text/plain": [
       "95.0"
      ]
     },
     "execution_count": 69,
     "metadata": {},
     "output_type": "execute_result"
    }
   ],
   "source": [
    "df['days_exposition'].median()"
   ]
  },
  {
   "cell_type": "markdown",
   "metadata": {
    "id": "bWMHI434SJVT"
   },
   "source": [
    "Разница между средним и медианным значением слишком большая! Это из-за того, что некоторые дома не продавались и по 1500 дней, а это сильно влияет на среднюю величину. Медиана здесь кажется более реалистичной, да и график это подтверждает"
   ]
  },
  {
   "cell_type": "code",
   "execution_count": 70,
   "metadata": {
    "colab": {
     "base_uri": "https://localhost:8080/",
     "height": 283
    },
    "id": "I4R3uk4VR9az",
    "outputId": "d964664e-19c0-437b-b373-c6f26c733171"
   },
   "outputs": [
    {
     "data": {
      "image/png": "[encoded data removed]",
      "text/plain": [
       "<Figure size 432x288 with 1 Axes>"
      ]
     },
     "metadata": {
      "needs_background": "light"
     },
     "output_type": "display_data"
    }
   ],
   "source": [
    "df.boxplot(column='days_exposition')\n",
    "plt.show()"
   ]
  },
  {
   "cell_type": "markdown",
   "metadata": {
    "id": "oUW5VlFCUMKp"
   },
   "source": [
    "На графике видно, что квартиры проданные после 500 дней очень сильно отклоняются от среднего. Значит 500 дней и дольше можно считать долгими продажами"
   ]
  },
  {
   "cell_type": "code",
   "execution_count": 71,
   "metadata": {
    "id": "TPKUOzZX1Vb5"
   },
   "outputs": [],
   "source": [
    "df = df.dropna(subset=['days_exposition']).reset_index(drop=True)"
   ]
  },
  {
   "cell_type": "code",
   "execution_count": 72,
   "metadata": {
    "id": "Gf0-0ql11Wmn"
   },
   "outputs": [],
   "source": [
    "df['days_exposition'] = df['days_exposition'].astype('int')"
   ]
  },
  {
   "cell_type": "code",
   "execution_count": 73,
   "metadata": {
    "id": "9oUX3AGO1aJX"
   },
   "outputs": [],
   "source": [
    "df = df.query('days_exposition <= 500')"
   ]
  },
  {
   "cell_type": "markdown",
   "metadata": {
    "id": "Q5XkJoyZzj3G"
   },
   "source": [
    "Чтобы посчитать корреляцию, нам сначала нужно избавиться от всех пропущенных значений. Создадим для этого отдельную таблицу"
   ]
  },
  {
   "cell_type": "code",
   "execution_count": 74,
   "metadata": {
    "id": "z3dmacHdWFhB"
   },
   "outputs": [],
   "source": [
    "df_without_na = df.dropna().reset_index(drop=True)"
   ]
  },
  {
   "cell_type": "markdown",
   "metadata": {
    "id": "ljwrqglgf5L8"
   },
   "source": [
    " Таблица силы корреляции  \n",
    " от 0 до 0,3\tочень слабая  \n",
    " от 0,3 до 0,5\tслабая  \n",
    " от 0, 5 до 0,7\tсредняя  \n",
    " от 0,7 до 0, 9\tвысокая  \n",
    " от 0,9 до 1\tочень высокая  "
   ]
  },
  {
   "cell_type": "code",
   "execution_count": 75,
   "metadata": {
    "colab": {
     "base_uri": "https://localhost:8080/",
     "height": 290
    },
    "id": "C7TEe_nWYOqW",
    "outputId": "5a9bdc44-a391-4785-826d-c716c26cb3b3"
   },
   "outputs": [
    {
     "data": {
      "image/png": "[encoded data removed]",
      "text/plain": [
       "<Figure size 432x288 with 1 Axes>"
      ]
     },
     "metadata": {
      "needs_background": "light"
     },
     "output_type": "display_data"
    }
   ],
   "source": [
    "plt.scatter(x=df_without_na['total_area'], y=df_without_na['last_price'], alpha=0.5)\n",
    "plt.xlabel('Площадь')\n",
    "plt.ylabel('Цена продажи')\n",
    "plt.show()"
   ]
  },
  {
   "cell_type": "code",
   "execution_count": 76,
   "metadata": {
    "colab": {
     "base_uri": "https://localhost:8080/"
    },
    "id": "acSkeKGYYycQ",
    "outputId": "441496fe-04d0-440f-ee29-6a9ff659591a"
   },
   "outputs": [
    {
     "data": {
      "text/plain": [
       "0.6312216531073177"
      ]
     },
     "execution_count": 76,
     "metadata": {},
     "output_type": "execute_result"
    }
   ],
   "source": [
    "df_without_na['total_area'].corr(df_without_na['last_price'])"
   ]
  },
  {
   "cell_type": "markdown",
   "metadata": {
    "id": "Ngya-KcYgDo4"
   },
   "source": [
    "Зависимость между площадью и ценой - средняя. Цены постепенно увеличиваются с увеличением площади квартиры"
   ]
  },
  {
   "cell_type": "code",
   "execution_count": 77,
   "metadata": {
    "colab": {
     "base_uri": "https://localhost:8080/",
     "height": 290
    },
    "id": "uKaopSdIZcuV",
    "outputId": "7cb5d5fc-8a93-4522-cf3a-e8198484a0f9"
   },
   "outputs": [
    {
     "data": {
      "image/png": "[encoded data removed]",
      "text/plain": [
       "<Figure size 432x288 with 1 Axes>"
      ]
     },
     "metadata": {
      "needs_background": "light"
     },
     "output_type": "display_data"
    }
   ],
   "source": [
    "plt.scatter(x=df_without_na['rooms'], y=df_without_na['last_price'], alpha=0.5)\n",
    "plt.xlabel('Количество комнат')\n",
    "plt.ylabel('Цена продажи')\n",
    "plt.show()"
   ]
  },
  {
   "cell_type": "code",
   "execution_count": 78,
   "metadata": {
    "colab": {
     "base_uri": "https://localhost:8080/"
    },
    "id": "jKqXupwhd0FN",
    "outputId": "cc9a2c11-8b55-4fad-ae8a-8281c512f301"
   },
   "outputs": [
    {
     "data": {
      "text/plain": [
       "0.3251733642740818"
      ]
     },
     "execution_count": 78,
     "metadata": {},
     "output_type": "execute_result"
    }
   ],
   "source": [
    "df_without_na['rooms'].corr(df_without_na['last_price'])"
   ]
  },
  {
   "cell_type": "markdown",
   "metadata": {
    "id": "WuSKRj5WgMi7"
   },
   "source": [
    "Слабая зависимость между количеством комнат и ценой. Но видно, что с увеличением комнат с 1 до 5 цена соответственно увеличивается. Но потом уже не имеет значения "
   ]
  },
  {
   "cell_type": "code",
   "execution_count": 79,
   "metadata": {
    "id": "sjMtJ3TtaYYW"
   },
   "outputs": [],
   "source": [
    "df_without_na['cityCenters_nearest'] = df_without_na['cityCenters_nearest'].astype('float')"
   ]
  },
  {
   "cell_type": "code",
   "execution_count": 80,
   "metadata": {
    "colab": {
     "base_uri": "https://localhost:8080/",
     "height": 290
    },
    "id": "fw2jrH72Z2qe",
    "outputId": "19cc2061-f650-4f38-c99c-7936d2397b7c"
   },
   "outputs": [
    {
     "data": {
      "image/png": "[encoded data removed]",
      "text/plain": [
       "<Figure size 432x288 with 1 Axes>"
      ]
     },
     "metadata": {
      "needs_background": "light"
     },
     "output_type": "display_data"
    }
   ],
   "source": [
    "plt.scatter(x=df_without_na['cityCenters_nearest'], y=df_without_na['last_price'], alpha=0.3)\n",
    "plt.xlabel('Расстояние до центра')\n",
    "plt.ylabel('Цена продажи')\n",
    "plt.show()"
   ]
  },
  {
   "cell_type": "code",
   "execution_count": 81,
   "metadata": {
    "colab": {
     "base_uri": "https://localhost:8080/"
    },
    "id": "PhejeSyVaEGt",
    "outputId": "ed96bab2-cf3a-4aa1-a2df-e8b3720ed410"
   },
   "outputs": [
    {
     "data": {
      "text/plain": [
       "-0.21908874407300183"
      ]
     },
     "execution_count": 81,
     "metadata": {},
     "output_type": "execute_result"
    }
   ],
   "source": [
    "df_without_na['cityCenters_nearest'].corr(df_without_na['last_price'])"
   ]
  },
  {
   "cell_type": "markdown",
   "metadata": {
    "id": "hEUoxRe9gxcj"
   },
   "source": [
    "Очень слабая отрицательная зависимость между расстоянием от центра города и ценой. Видно что цены в среднем больше, когда расстояние составляет от 0 до 13 км"
   ]
  },
  {
   "cell_type": "code",
   "execution_count": 82,
   "metadata": {
    "colab": {
     "base_uri": "https://localhost:8080/"
    },
    "id": "nUREn0Ocahqm",
    "outputId": "9c921d04-0b05-45d8-c030-8eeaa9031de0"
   },
   "outputs": [
    {
     "data": {
      "text/plain": [
       "floor_actual\n",
       "Другой       4650000\n",
       "Первый       3800000\n",
       "Последний    4190000\n",
       "Name: last_price, dtype: int32"
      ]
     },
     "execution_count": 82,
     "metadata": {},
     "output_type": "execute_result"
    }
   ],
   "source": [
    "df.groupby('floor_actual')['last_price'].median()"
   ]
  },
  {
   "cell_type": "markdown",
   "metadata": {
    "id": "AvGxYd1shTIU"
   },
   "source": [
    "Квартиры на первом этаже стоят намного дешевле, чем в других этажах. Квартиры на последнем этаже тоже дешевле других этажей, но дороже, чем на первом этаже"
   ]
  },
  {
   "cell_type": "code",
   "execution_count": 83,
   "metadata": {
    "colab": {
     "base_uri": "https://localhost:8080/"
    },
    "id": "C0VEWa4nd7lP",
    "outputId": "c61c5ffa-09a4-454d-fbdd-72d07023b944"
   },
   "outputs": [
    {
     "data": {
      "text/plain": [
       "weekday\n",
       "0    4500000\n",
       "1    4500000\n",
       "2    4500000\n",
       "3    4500000\n",
       "4    4470000\n",
       "5    4500000\n",
       "6    4390000\n",
       "Name: last_price, dtype: int32"
      ]
     },
     "execution_count": 83,
     "metadata": {},
     "output_type": "execute_result"
    }
   ],
   "source": [
    "df.groupby('weekday')['last_price'].median()"
   ]
  },
  {
   "cell_type": "markdown",
   "metadata": {
    "id": "uw3e9VGqiG-3"
   },
   "source": [
    "День недели публикации никак не влияет на цену продажи квартиры"
   ]
  },
  {
   "cell_type": "code",
   "execution_count": 84,
   "metadata": {
    "colab": {
     "base_uri": "https://localhost:8080/"
    },
    "id": "mF3oekTMeoYB",
    "outputId": "7a606d87-2012-4b41-efdd-9135895d543b"
   },
   "outputs": [
    {
     "data": {
      "text/plain": [
       "month\n",
       "1     4500000\n",
       "2     4500000\n",
       "3     4450000\n",
       "4     4500000\n",
       "5     4450000\n",
       "6     4300000\n",
       "7     4500000\n",
       "8     4500000\n",
       "9     4600000\n",
       "10    4490000\n",
       "11    4599500\n",
       "12    4490000\n",
       "Name: last_price, dtype: int32"
      ]
     },
     "execution_count": 84,
     "metadata": {},
     "output_type": "execute_result"
    }
   ],
   "source": [
    "df.groupby('month')['last_price'].median()"
   ]
  },
  {
   "cell_type": "markdown",
   "metadata": {
    "id": "yMVB7FWZiVjM"
   },
   "source": [
    "Самая низкая цена продажи происходит, когда продавец публикует объявление в июне, а самая высокая - в ноябре. В остальных месяцах цена почти одинаковая"
   ]
  },
  {
   "cell_type": "code",
   "execution_count": 85,
   "metadata": {
    "colab": {
     "base_uri": "https://localhost:8080/"
    },
    "id": "_U5Q1a9_ex9l",
    "outputId": "d851c5d3-750a-4b0d-821e-c60267ab6219"
   },
   "outputs": [
    {
     "data": {
      "text/plain": [
       "year\n",
       "2015    4700000\n",
       "2016    4450000\n",
       "2017    4450000\n",
       "2018    4500000\n",
       "2019    4790000\n",
       "Name: last_price, dtype: int32"
      ]
     },
     "execution_count": 85,
     "metadata": {},
     "output_type": "execute_result"
    }
   ],
   "source": [
    "df.groupby('year')['last_price'].median()"
   ]
  },
  {
   "cell_type": "markdown",
   "metadata": {
    "id": "_qhWnBaqi3yv"
   },
   "source": [
    "Квартиры в 2015 и 2019 году продавались по более высоким ценам"
   ]
  },
  {
   "cell_type": "markdown",
   "metadata": {
    "id": "f2XBK-d5l1t6"
   },
   "source": [
    "Найдем 10 населённых пунктов с наибольшим числом объявлений"
   ]
  },
  {
   "cell_type": "code",
   "execution_count": 86,
   "metadata": {
    "id": "1JCW9VZxe4f2"
   },
   "outputs": [],
   "source": [
    "locality_group = df.groupby('locality_name')['days_exposition'].count().sort_values(ascending=False).head(10)"
   ]
  },
  {
   "cell_type": "code",
   "execution_count": 87,
   "metadata": {
    "id": "_oSR8H_Xk2NU"
   },
   "outputs": [],
   "source": [
    "locality_top = ['Санкт-Петербург', 'посёлок Мурино', 'посёлок Шушары', 'Всеволожск', 'Колпино', 'посёлок Парголово', 'Пушкин', 'деревня Кудрово', 'Гатчина', 'Выборг']"
   ]
  },
  {
   "cell_type": "code",
   "execution_count": 88,
   "metadata": {
    "id": "IsWJRDy7kW8l"
   },
   "outputs": [],
   "source": [
    "df['locality_top'] = df['locality_name'].where(\n",
    "    df['locality_name'].isin(locality_group.index), 'Другие'\n",
    ")"
   ]
  },
  {
   "cell_type": "code",
   "execution_count": 89,
   "metadata": {
    "colab": {
     "base_uri": "https://localhost:8080/",
     "height": 326
    },
    "id": "s5o46DCSlkzY",
    "outputId": "1f591ead-d43a-4d12-b032-f94830df229a"
   },
   "outputs": [
    {
     "data": {
      "text/html": [
       "<div>\n",
       "<style scoped>\n",
       "    .dataframe tbody tr th:only-of-type {\n",
       "        vertical-align: middle;\n",
       "    }\n",
       "\n",
       "    .dataframe tbody tr th {\n",
       "        vertical-align: top;\n",
       "    }\n",
       "\n",
       "    .dataframe thead th {\n",
       "        text-align: right;\n",
       "    }\n",
       "</style>\n",
       "<table border=\"1\" class=\"dataframe\">\n",
       "  <thead>\n",
       "    <tr style=\"text-align: right;\">\n",
       "      <th></th>\n",
       "      <th>total_images</th>\n",
       "      <th>last_price</th>\n",
       "      <th>total_area</th>\n",
       "      <th>first_day_exposition</th>\n",
       "      <th>rooms</th>\n",
       "      <th>ceiling_height</th>\n",
       "      <th>floors_total</th>\n",
       "      <th>living_area</th>\n",
       "      <th>floor</th>\n",
       "      <th>is_apartment</th>\n",
       "      <th>...</th>\n",
       "      <th>ponds_nearest</th>\n",
       "      <th>days_exposition</th>\n",
       "      <th>price_per_square_meter</th>\n",
       "      <th>weekday</th>\n",
       "      <th>month</th>\n",
       "      <th>year</th>\n",
       "      <th>floor_actual</th>\n",
       "      <th>living_to_total_area</th>\n",
       "      <th>kitchen_to_total_area</th>\n",
       "      <th>locality_top</th>\n",
       "    </tr>\n",
       "  </thead>\n",
       "  <tbody>\n",
       "    <tr>\n",
       "      <th>0</th>\n",
       "      <td>7</td>\n",
       "      <td>3350000</td>\n",
       "      <td>40.40</td>\n",
       "      <td>2018-12-04</td>\n",
       "      <td>1</td>\n",
       "      <td>2.65</td>\n",
       "      <td>11</td>\n",
       "      <td>18.60</td>\n",
       "      <td>1</td>\n",
       "      <td>False</td>\n",
       "      <td>...</td>\n",
       "      <td>&lt;NA&gt;</td>\n",
       "      <td>81</td>\n",
       "      <td>82920.792079</td>\n",
       "      <td>1</td>\n",
       "      <td>12</td>\n",
       "      <td>2018</td>\n",
       "      <td>Первый</td>\n",
       "      <td>0.460396</td>\n",
       "      <td>0.272277</td>\n",
       "      <td>посёлок Шушары</td>\n",
       "    </tr>\n",
       "    <tr>\n",
       "      <th>2</th>\n",
       "      <td>0</td>\n",
       "      <td>64900000</td>\n",
       "      <td>159.00</td>\n",
       "      <td>2015-07-24</td>\n",
       "      <td>3</td>\n",
       "      <td>2.65</td>\n",
       "      <td>14</td>\n",
       "      <td>54.00</td>\n",
       "      <td>9</td>\n",
       "      <td>False</td>\n",
       "      <td>...</td>\n",
       "      <td>234</td>\n",
       "      <td>424</td>\n",
       "      <td>408176.100629</td>\n",
       "      <td>4</td>\n",
       "      <td>7</td>\n",
       "      <td>2015</td>\n",
       "      <td>Другой</td>\n",
       "      <td>0.339623</td>\n",
       "      <td>0.094340</td>\n",
       "      <td>Санкт-Петербург</td>\n",
       "    </tr>\n",
       "    <tr>\n",
       "      <th>3</th>\n",
       "      <td>10</td>\n",
       "      <td>2890000</td>\n",
       "      <td>30.40</td>\n",
       "      <td>2018-09-10</td>\n",
       "      <td>1</td>\n",
       "      <td>2.65</td>\n",
       "      <td>12</td>\n",
       "      <td>14.40</td>\n",
       "      <td>5</td>\n",
       "      <td>False</td>\n",
       "      <td>...</td>\n",
       "      <td>&lt;NA&gt;</td>\n",
       "      <td>55</td>\n",
       "      <td>95065.789474</td>\n",
       "      <td>0</td>\n",
       "      <td>9</td>\n",
       "      <td>2018</td>\n",
       "      <td>Другой</td>\n",
       "      <td>0.473684</td>\n",
       "      <td>0.299342</td>\n",
       "      <td>Другие</td>\n",
       "    </tr>\n",
       "    <tr>\n",
       "      <th>4</th>\n",
       "      <td>20</td>\n",
       "      <td>2900000</td>\n",
       "      <td>33.16</td>\n",
       "      <td>2018-05-23</td>\n",
       "      <td>1</td>\n",
       "      <td>2.65</td>\n",
       "      <td>27</td>\n",
       "      <td>15.43</td>\n",
       "      <td>26</td>\n",
       "      <td>False</td>\n",
       "      <td>...</td>\n",
       "      <td>&lt;NA&gt;</td>\n",
       "      <td>189</td>\n",
       "      <td>87454.764777</td>\n",
       "      <td>2</td>\n",
       "      <td>5</td>\n",
       "      <td>2018</td>\n",
       "      <td>Другой</td>\n",
       "      <td>0.465320</td>\n",
       "      <td>0.265682</td>\n",
       "      <td>посёлок Мурино</td>\n",
       "    </tr>\n",
       "    <tr>\n",
       "      <th>5</th>\n",
       "      <td>18</td>\n",
       "      <td>5400000</td>\n",
       "      <td>61.00</td>\n",
       "      <td>2017-02-26</td>\n",
       "      <td>3</td>\n",
       "      <td>2.50</td>\n",
       "      <td>9</td>\n",
       "      <td>43.60</td>\n",
       "      <td>7</td>\n",
       "      <td>False</td>\n",
       "      <td>...</td>\n",
       "      <td>&lt;NA&gt;</td>\n",
       "      <td>289</td>\n",
       "      <td>88524.590164</td>\n",
       "      <td>6</td>\n",
       "      <td>2</td>\n",
       "      <td>2017</td>\n",
       "      <td>Другой</td>\n",
       "      <td>0.714754</td>\n",
       "      <td>0.106557</td>\n",
       "      <td>Санкт-Петербург</td>\n",
       "    </tr>\n",
       "  </tbody>\n",
       "</table>\n",
       "<p>5 rows × 30 columns</p>\n",
       "</div>"
      ],
      "text/plain": [
       "   total_images  last_price  total_area first_day_exposition  rooms  \\\n",
       "0             7     3350000       40.40           2018-12-04      1   \n",
       "2             0    64900000      159.00           2015-07-24      3   \n",
       "3            10     2890000       30.40           2018-09-10      1   \n",
       "4            20     2900000       33.16           2018-05-23      1   \n",
       "5            18     5400000       61.00           2017-02-26      3   \n",
       "\n",
       "   ceiling_height  floors_total  living_area  floor  is_apartment  ...  \\\n",
       "0            2.65            11        18.60      1         False  ...   \n",
       "2            2.65            14        54.00      9         False  ...   \n",
       "3            2.65            12        14.40      5         False  ...   \n",
       "4            2.65            27        15.43     26         False  ...   \n",
       "5            2.50             9        43.60      7         False  ...   \n",
       "\n",
       "   ponds_nearest  days_exposition  price_per_square_meter  weekday month  \\\n",
       "0           <NA>               81            82920.792079        1    12   \n",
       "2            234              424           408176.100629        4     7   \n",
       "3           <NA>               55            95065.789474        0     9   \n",
       "4           <NA>              189            87454.764777        2     5   \n",
       "5           <NA>              289            88524.590164        6     2   \n",
       "\n",
       "   year  floor_actual  living_to_total_area  kitchen_to_total_area  \\\n",
       "0  2018        Первый              0.460396               0.272277   \n",
       "2  2015        Другой              0.339623               0.094340   \n",
       "3  2018        Другой              0.473684               0.299342   \n",
       "4  2018        Другой              0.465320               0.265682   \n",
       "5  2017        Другой              0.714754               0.106557   \n",
       "\n",
       "      locality_top  \n",
       "0   посёлок Шушары  \n",
       "2  Санкт-Петербург  \n",
       "3           Другие  \n",
       "4   посёлок Мурино  \n",
       "5  Санкт-Петербург  \n",
       "\n",
       "[5 rows x 30 columns]"
      ]
     },
     "execution_count": 89,
     "metadata": {},
     "output_type": "execute_result"
    }
   ],
   "source": [
    "df.head()"
   ]
  },
  {
   "cell_type": "code",
   "execution_count": 90,
   "metadata": {
    "colab": {
     "base_uri": "https://localhost:8080/",
     "height": 399
    },
    "id": "EXX_tjGFlpqQ",
    "outputId": "acbca956-56bb-4f7d-aa1f-7af2b2ee0ab2"
   },
   "outputs": [
    {
     "data": {
      "image/png": "[encoded data removed]",
      "text/plain": [
       "<Figure size 432x288 with 1 Axes>"
      ]
     },
     "metadata": {
      "needs_background": "light"
     },
     "output_type": "display_data"
    }
   ],
   "source": [
    "df.groupby('locality_top')['last_price'].median().sort_values(ascending=False).plot(kind='bar')\n",
    "plt.show()"
   ]
  },
  {
   "cell_type": "markdown",
   "metadata": {
    "id": "GfrjsfvEminT"
   },
   "source": [
    "Самые высокие цены, естественно, в Санкт-Петербурге. Самые низкие - в Выборге"
   ]
  },
  {
   "cell_type": "markdown",
   "metadata": {
    "id": "Xum7zQ_8rWxw"
   },
   "source": [
    "Создадим новую таблицу, где будут входить только квартиры рядом с центром города. И сравним исследования этой таблицы и полной таблицы"
   ]
  },
  {
   "cell_type": "code",
   "execution_count": 91,
   "metadata": {
    "id": "VlOVBjp5mOdi"
   },
   "outputs": [],
   "source": [
    "df['cityCenter_distance'] = df['cityCenters_nearest'] / 1000"
   ]
  },
  {
   "cell_type": "code",
   "execution_count": 92,
   "metadata": {
    "id": "tEGlQdg0oV3B"
   },
   "outputs": [],
   "source": [
    "df_test = df.dropna(subset=['cityCenter_distance']).reset_index(drop=True)"
   ]
  },
  {
   "cell_type": "code",
   "execution_count": 93,
   "metadata": {
    "id": "oJM6WcUioySZ"
   },
   "outputs": [],
   "source": [
    "df_test['cityCenter_distance'] = df_test['cityCenter_distance'].astype('int')"
   ]
  },
  {
   "cell_type": "code",
   "execution_count": 94,
   "metadata": {
    "colab": {
     "base_uri": "https://localhost:8080/",
     "height": 365
    },
    "id": "v5q228Pgo0w4",
    "outputId": "e72dfef6-0948-457f-a9ac-ce197ad6a43d"
   },
   "outputs": [
    {
     "data": {
      "image/png": "[encoded data removed]",
      "text/plain": [
       "<Figure size 720x360 with 1 Axes>"
      ]
     },
     "metadata": {
      "needs_background": "light"
     },
     "output_type": "display_data"
    }
   ],
   "source": [
    "df_test.groupby('cityCenter_distance')['last_price'].mean().plot(kind='bar', rot=90, figsize=(10,5))\n",
    "plt.show()"
   ]
  },
  {
   "cell_type": "markdown",
   "metadata": {
    "id": "9iadFWwCqCMK"
   },
   "source": [
    "После 7 км от центра города цены на квартиры резко уменьшается"
   ]
  },
  {
   "cell_type": "code",
   "execution_count": 95,
   "metadata": {
    "id": "b5Fsl53Do8zh"
   },
   "outputs": [],
   "source": [
    "df_test = df_test[df_test['cityCenter_distance']<8]"
   ]
  },
  {
   "cell_type": "code",
   "execution_count": 96,
   "metadata": {
    "colab": {
     "base_uri": "https://localhost:8080/",
     "height": 606
    },
    "id": "zrRW4D0H7F6m",
    "outputId": "d9dc2b31-53d1-4a55-bc90-c588bad4f1c3"
   },
   "outputs": [
    {
     "data": {
      "image/png": "[encoded data removed]",
      "text/plain": [
       "<Figure size 720x720 with 2 Axes>"
      ]
     },
     "metadata": {
      "needs_background": "light"
     },
     "output_type": "display_data"
    }
   ],
   "source": [
    "fig, (ax1, ax2) = plt.subplots(nrows=2, ncols=1, sharex=True, figsize=(10,10))\n",
    "\n",
    "ax1.hist(df_test['total_area'], bins=50, range=(0, 300), label='Квартиры в центре', color='#3cb371')\n",
    "ax1.legend()\n",
    "ax1.set_xlabel('Площадь')\n",
    "ax1.grid(True)\n",
    "\n",
    "ax2.hist(df['total_area'], bins=50, range=(0, 300), label='Общая выборка', color='#1e90ff')\n",
    "ax2.legend()\n",
    "ax2.set_xlabel('Площадь')\n",
    "ax2.grid(True)\n",
    "\n",
    "plt.show()"
   ]
  },
  {
   "cell_type": "markdown",
   "metadata": {
    "id": "ajbZ_LHfsz__"
   },
   "source": [
    "В выборке, где квартиры рядом с центром города, средняя площадь квартир больше"
   ]
  },
  {
   "cell_type": "code",
   "execution_count": 97,
   "metadata": {
    "colab": {
     "base_uri": "https://localhost:8080/",
     "height": 606
    },
    "id": "ZfYZ4rWD_bNH",
    "outputId": "f22bc432-abdd-4c07-c9ac-6c2f29daec0f"
   },
   "outputs": [
    {
     "data": {
      "image/png": "[encoded data removed]",
      "text/plain": [
       "<Figure size 720x720 with 2 Axes>"
      ]
     },
     "metadata": {
      "needs_background": "light"
     },
     "output_type": "display_data"
    }
   ],
   "source": [
    "fig, (ax1, ax2) = plt.subplots(nrows=2, ncols=1, sharex=True, figsize=(10,10))\n",
    "\n",
    "ax1.hist(df_test['last_price'], bins=50, range=(0, 40000000), label='Квартиры в центре', color='#3cb371')\n",
    "ax1.legend()\n",
    "ax1.set_xlabel('Цена')\n",
    "ax1.grid(True)\n",
    "\n",
    "ax2.hist(df['last_price'], bins=50, range=(0, 40000000), label='Общая выборка', color='#1e90ff')\n",
    "ax2.legend()\n",
    "ax2.set_xlabel('Цена')\n",
    "ax2.grid(True)\n",
    "\n",
    "plt.show()"
   ]
  },
  {
   "cell_type": "markdown",
   "metadata": {
    "id": "5ukFPtkNta_n"
   },
   "source": [
    "В выборке, где квартиры рядом с центром города, средняя цена квартир больше"
   ]
  },
  {
   "cell_type": "code",
   "execution_count": 98,
   "metadata": {
    "colab": {
     "base_uri": "https://localhost:8080/",
     "height": 606
    },
    "id": "LXs-pQoF_tA6",
    "outputId": "c0516611-6619-4181-a259-c4561bb0a427"
   },
   "outputs": [
    {
     "data": {
      "image/png": "[encoded data removed]",
      "text/plain": [
       "<Figure size 720x720 with 2 Axes>"
      ]
     },
     "metadata": {
      "needs_background": "light"
     },
     "output_type": "display_data"
    }
   ],
   "source": [
    "fig, (ax1, ax2) = plt.subplots(nrows=2, ncols=1, sharex=True, figsize=(10,10))\n",
    "\n",
    "ax1.hist(df_test['rooms'], range=(0, 10), label='Квартиры в центре', color='#3cb371')\n",
    "ax1.legend()\n",
    "ax1.set_xlabel('Кол-во комнат')\n",
    "ax1.grid(True)\n",
    "\n",
    "ax2.hist(df['rooms'], range=(0, 10), label='Общая выборка', color='#1e90ff')\n",
    "ax2.legend()\n",
    "ax2.set_xlabel('Кол-во комнат')\n",
    "ax2.grid(True)\n",
    "\n",
    "plt.show()"
   ]
  },
  {
   "cell_type": "markdown",
   "metadata": {
    "id": "ZHkacb94t6rb"
   },
   "source": [
    "Количество комнат тоже в среднем больше"
   ]
  },
  {
   "cell_type": "code",
   "execution_count": 99,
   "metadata": {
    "colab": {
     "base_uri": "https://localhost:8080/",
     "height": 606
    },
    "id": "hwxDgv0N_8Mt",
    "outputId": "3ea25c58-2942-4cac-a0ac-f6ddda944142"
   },
   "outputs": [
    {
     "data": {
      "image/png": "[encoded data removed]",
      "text/plain": [
       "<Figure size 720x720 with 2 Axes>"
      ]
     },
     "metadata": {
      "needs_background": "light"
     },
     "output_type": "display_data"
    }
   ],
   "source": [
    "fig, (ax1, ax2) = plt.subplots(nrows=2, ncols=1, sharex=True, figsize=(10,10))\n",
    "\n",
    "ax1.hist(df_test['ceiling_height'], range=(0,5), label='Квартиры в центре', color='#3cb371')\n",
    "ax1.legend()\n",
    "ax1.set_xlabel('Высота потолка')\n",
    "ax1.grid(True)\n",
    "\n",
    "ax2.hist(df['ceiling_height'], range=(0,5), label='Общая выборка', color='#1e90ff')\n",
    "ax2.legend()\n",
    "ax2.set_xlabel('Высота потолка')\n",
    "ax2.grid(True)\n",
    "\n",
    "plt.show()"
   ]
  },
  {
   "cell_type": "markdown",
   "metadata": {
    "id": "h1MFAaDkuMgi"
   },
   "source": [
    "Высота потолков в среднем такая же"
   ]
  },
  {
   "cell_type": "code",
   "execution_count": 100,
   "metadata": {
    "colab": {
     "base_uri": "https://localhost:8080/",
     "height": 606
    },
    "id": "LysS5CwpAOxJ",
    "outputId": "4477e357-b2fd-4af8-e247-351e7a343970"
   },
   "outputs": [
    {
     "data": {
      "image/png": "[encoded data removed]",
      "text/plain": [
       "<Figure size 720x720 with 2 Axes>"
      ]
     },
     "metadata": {
      "needs_background": "light"
     },
     "output_type": "display_data"
    }
   ],
   "source": [
    "fig, (ax1, ax2) = plt.subplots(nrows=2, ncols=1, sharex=True, figsize=(10,10))\n",
    "\n",
    "ax1.hist(df_test['days_exposition'], bins=50, label='Квартиры в центре', color='#3cb371')\n",
    "ax1.legend()\n",
    "ax1.set_xlabel('Дней до покупки')\n",
    "ax1.grid(True)\n",
    "\n",
    "ax2.hist(df['days_exposition'], bins=50, label='Общая выборка', color='#1e90ff')\n",
    "ax2.legend()\n",
    "ax2.set_xlabel('Дней до покупки')\n",
    "ax2.grid(True)\n",
    "\n",
    "plt.show()"
   ]
  },
  {
   "cell_type": "markdown",
   "metadata": {
    "id": "qMJqlx6Iupsy"
   },
   "source": [
    "Квартиры в центре быстрее продаются в первые дни после объявления о продаже"
   ]
  },
  {
   "cell_type": "code",
   "execution_count": 101,
   "metadata": {
    "colab": {
     "base_uri": "https://localhost:8080/",
     "height": 616
    },
    "id": "fKCNfJagAi6r",
    "outputId": "3ff75910-7af9-4388-e6d0-69f53afe885b"
   },
   "outputs": [
    {
     "data": {
      "image/png": "[encoded data removed]",
      "text/plain": [
       "<Figure size 720x720 with 2 Axes>"
      ]
     },
     "metadata": {
      "needs_background": "light"
     },
     "output_type": "display_data"
    }
   ],
   "source": [
    "fig, (ax1, ax2) = plt.subplots(nrows=2, ncols=1, sharex=True, figsize=(10,10))\n",
    "\n",
    "ax1.scatter(x=df_test['rooms'], y=df_test['last_price'], label='Квартиры в центре', color='#3cb371', alpha=0.5)\n",
    "ax1.legend()\n",
    "ax1.set_xlabel('Количество комнат')\n",
    "\n",
    "ax2.scatter(x=df['rooms'], y=df['last_price'], label='Общая выборка', color='#1e90ff', alpha=0.5)\n",
    "ax2.legend()\n",
    "ax2.set_xlabel('Количество комнат')\n",
    "\n",
    "plt.show()"
   ]
  },
  {
   "cell_type": "markdown",
   "metadata": {
    "id": "io59yPFSwU_U"
   },
   "source": [
    "Как и в начальной таблице цена квартиры увеличивается с увеличением кол-ва комнат. Но только до определенного числа комнат, после 4 комнат рост цен уже незначительная"
   ]
  },
  {
   "cell_type": "code",
   "execution_count": 102,
   "metadata": {
    "colab": {
     "base_uri": "https://localhost:8080/",
     "height": 616
    },
    "id": "1xDUk34XCuZk",
    "outputId": "c0f5c4c0-7a2a-4a3e-e6ab-4752bea3b2af"
   },
   "outputs": [
    {
     "data": {
      "image/png": "[encoded data removed]",
      "text/plain": [
       "<Figure size 720x720 with 2 Axes>"
      ]
     },
     "metadata": {
      "needs_background": "light"
     },
     "output_type": "display_data"
    }
   ],
   "source": [
    "fig, (ax1, ax2) = plt.subplots(nrows=2, ncols=1, sharex=True, figsize=(10,10))\n",
    "\n",
    "ax1.scatter(x=df_test['floor'], y=df_test['last_price'], label='Квартиры в центре', color='#3cb371', alpha=0.5)\n",
    "ax1.set_xlim(0,30)\n",
    "ax1.legend()\n",
    "ax1.set_xlabel('Этаж')\n",
    "\n",
    "ax2.scatter(x=df['floor'], y=df['last_price'], label='Общая выборка', color='#1e90ff', alpha=0.5)\n",
    "ax2.set_xlim(0,30)\n",
    "ax2.legend()\n",
    "ax2.set_xlabel('Этаж')\n",
    "\n",
    "plt.show()"
   ]
  },
  {
   "cell_type": "markdown",
   "metadata": {
    "id": "J-l9BYtvxK_E"
   },
   "source": [
    "На первом и последних этажах цены низкие"
   ]
  },
  {
   "cell_type": "code",
   "execution_count": 103,
   "metadata": {
    "colab": {
     "base_uri": "https://localhost:8080/",
     "height": 305
    },
    "id": "2b8Ny8LDxwL-",
    "outputId": "ff906f16-c516-4a4c-f0d0-bf95ceb89ad1"
   },
   "outputs": [
    {
     "data": {
      "image/png": "[encoded data removed]",
      "text/plain": [
       "<Figure size 432x288 with 1 Axes>"
      ]
     },
     "metadata": {
      "needs_background": "light"
     },
     "output_type": "display_data"
    }
   ],
   "source": [
    "df_test.groupby('cityCenter_distance')['last_price'].mean().plot(kind='bar', rot=90)\n",
    "plt.show()"
   ]
  },
  {
   "cell_type": "markdown",
   "metadata": {
    "id": "S_iMURX2zI0Q"
   },
   "source": [
    "Чем ближе к центру - тем выше цена"
   ]
  },
  {
   "cell_type": "code",
   "execution_count": 104,
   "metadata": {
    "colab": {
     "base_uri": "https://localhost:8080/",
     "height": 404
    },
    "id": "gtRao9nizE-L",
    "outputId": "0be278ed-9e4e-424a-fd2e-542ab03b47d0"
   },
   "outputs": [
    {
     "data": {
      "image/png": "[encoded data removed]",
      "text/plain": [
       "<Figure size 1080x360 with 1 Axes>"
      ]
     },
     "metadata": {
      "needs_background": "light"
     },
     "output_type": "display_data"
    }
   ],
   "source": [
    "df_test.pivot_table(index=['year', 'month'], values='last_price').plot(kind='bar', figsize=(15,5))\n",
    "plt.show()"
   ]
  },
  {
   "cell_type": "markdown",
   "metadata": {
    "id": "ruwZivWr0TIY"
   },
   "source": [
    "Цены на недвижимость сильно подскочили в июле 2015 и апреле 2018 года. В целом цены каждые три месяца достигают своего пика, а потом падают"
   ]
  },
  {
   "cell_type": "code",
   "execution_count": 105,
   "metadata": {
    "colab": {
     "base_uri": "https://localhost:8080/"
    },
    "id": "edRumNVWzaIB",
    "outputId": "94652a34-d6c9-4973-bc70-6d61ed09796b"
   },
   "outputs": [
    {
     "data": {
      "text/plain": [
       "weekday\n",
       "0    8455000.0\n",
       "1    8050000.0\n",
       "2    8000000.0\n",
       "3    7887500.0\n",
       "4    8260000.0\n",
       "5    7900000.0\n",
       "6    8599999.5\n",
       "Name: last_price, dtype: float64"
      ]
     },
     "execution_count": 105,
     "metadata": {},
     "output_type": "execute_result"
    }
   ],
   "source": [
    "df_test.groupby('weekday')['last_price'].median()"
   ]
  },
  {
   "cell_type": "markdown",
   "metadata": {
    "id": "lJduNXzD0z4k"
   },
   "source": [
    "Объявления выложенные в понедельник или воскресенье продаются по более высокой цене"
   ]
  },
  {
   "cell_type": "code",
   "execution_count": 106,
   "metadata": {
    "colab": {
     "base_uri": "https://localhost:8080/"
    },
    "id": "MwZILPrD0sJF",
    "outputId": "f1eb8731-7002-45df-8062-3dd2da7bc570"
   },
   "outputs": [
    {
     "data": {
      "text/plain": [
       "month\n",
       "1     8500000.0\n",
       "2     8180000.0\n",
       "3     8225000.0\n",
       "4     7780000.0\n",
       "5     7680000.0\n",
       "6     8300000.0\n",
       "7     8175000.0\n",
       "8     7997500.0\n",
       "9     8500000.0\n",
       "10    7990000.0\n",
       "11    8422102.5\n",
       "12    7340000.0\n",
       "Name: last_price, dtype: float64"
      ]
     },
     "execution_count": 106,
     "metadata": {},
     "output_type": "execute_result"
    }
   ],
   "source": [
    "df_test.groupby('month')['last_price'].median()"
   ]
  },
  {
   "cell_type": "markdown",
   "metadata": {
    "id": "oY4mIvbc2V3I"
   },
   "source": [
    "В декабре цена на квартиры рядом с центром самая низкая. В январе и сентябре самая высокая"
   ]
  },
  {
   "cell_type": "code",
   "execution_count": 107,
   "metadata": {
    "colab": {
     "base_uri": "https://localhost:8080/"
    },
    "id": "ocQ3A0wW1iu0",
    "outputId": "0e84ccc5-ba17-4ea5-db46-f6035c52b1ba"
   },
   "outputs": [
    {
     "data": {
      "text/plain": [
       "year\n",
       "2015    7650000\n",
       "2016    8750000\n",
       "2017    8090000\n",
       "2018    8100000\n",
       "2019    7800000\n",
       "Name: last_price, dtype: int32"
      ]
     },
     "execution_count": 107,
     "metadata": {},
     "output_type": "execute_result"
    }
   ],
   "source": [
    "df_test.groupby('year')['last_price'].median()"
   ]
  },
  {
   "cell_type": "markdown",
   "metadata": {
    "id": "sSR0Ek-l14FK"
   },
   "source": [
    "Квартиры рядом с центром города в 2019 году стоили ниже и в 2016 году выше, чем в остальные годы"
   ]
  },
  {
   "cell_type": "code",
   "execution_count": 108,
   "metadata": {
    "colab": {
     "base_uri": "https://localhost:8080/"
    },
    "id": "4h4AeYUo63II",
    "outputId": "b77f8eb5-04a9-484f-f165-fdc0a193a33b"
   },
   "outputs": [
    {
     "data": {
      "text/plain": [
       "8125000.0"
      ]
     },
     "execution_count": 108,
     "metadata": {},
     "output_type": "execute_result"
    }
   ],
   "source": [
    "df_test['last_price'].median()"
   ]
  },
  {
   "cell_type": "code",
   "execution_count": 109,
   "metadata": {
    "colab": {
     "base_uri": "https://localhost:8080/"
    },
    "id": "JxOylEcI68i8",
    "outputId": "63db55f9-65cd-4126-bf97-4a34779d0575"
   },
   "outputs": [
    {
     "data": {
      "text/plain": [
       "4500000.0"
      ]
     },
     "execution_count": 109,
     "metadata": {},
     "output_type": "execute_result"
    }
   ],
   "source": [
    "df['last_price'].median()"
   ]
  },
  {
   "cell_type": "markdown",
   "metadata": {
    "id": "kAsNUzgW7DI4"
   },
   "source": [
    "Квартиры в центре в 2 раза дороже"
   ]
  },
  {
   "cell_type": "markdown",
   "metadata": {
    "id": "AHz6Sl4O3CXq"
   },
   "source": [
    "# **Вывод**"
   ]
  },
  {
   "cell_type": "markdown",
   "metadata": {
    "id": "Z0S5mjKc3S_T"
   },
   "source": [
    "Мы провели большое исследование объявлений о продаже квартир в Санкт-Петербурге и соседних населённых пунктах за несколько лет. И пришли к таким выводам:  \n",
    "1. Преобладают квартиры с 45 кв метрами\n",
    "2. Большинство квартир с 1.5 до 4 комнатами\n",
    "3. В среднем квартира продается за 95 дней\n",
    "4. Цены постепенно увеличиваются с увеличением площади квартиры\n",
    "5. С увеличением количества комнат цена соответственно увеличивается\n",
    "6. Квартиры на первом этаже стоят намного дешевле, чем на других этажах. Квартиры на последнем этаже тоже дешевле других этажей, но дороже, чем на первом \n",
    "7. Квартиры рядом с центром продаются быстрее и почти в 2 раза дороже "
   ]
  }
 ],
 "metadata": {
  "ExecuteTimeLog": [
   {
    "duration": 659,
    "start_time": "2021-08-09T02:48:45.269Z"
   },
   {
    "duration": 611,
    "start_time": "2021-08-09T02:48:45.929Z"
   },
   {
    "duration": 1298,
    "start_time": "2021-08-09T02:48:46.542Z"
   },
   {
    "duration": -225,
    "start_time": "2021-08-09T02:48:48.069Z"
   },
   {
    "duration": -227,
    "start_time": "2021-08-09T02:48:48.072Z"
   },
   {
    "duration": -227,
    "start_time": "2021-08-09T02:48:48.074Z"
   },
   {
    "duration": -229,
    "start_time": "2021-08-09T02:48:48.077Z"
   },
   {
    "duration": -230,
    "start_time": "2021-08-09T02:48:48.079Z"
   },
   {
    "duration": -247,
    "start_time": "2021-08-09T02:48:48.097Z"
   },
   {
    "duration": -249,
    "start_time": "2021-08-09T02:48:48.100Z"
   },
   {
    "duration": -251,
    "start_time": "2021-08-09T02:48:48.103Z"
   },
   {
    "duration": -251,
    "start_time": "2021-08-09T02:48:48.105Z"
   },
   {
    "duration": -254,
    "start_time": "2021-08-09T02:48:48.109Z"
   },
   {
    "duration": -255,
    "start_time": "2021-08-09T02:48:48.111Z"
   },
   {
    "duration": -257,
    "start_time": "2021-08-09T02:48:48.114Z"
   },
   {
    "duration": -258,
    "start_time": "2021-08-09T02:48:48.117Z"
   },
   {
    "duration": -259,
    "start_time": "2021-08-09T02:48:48.119Z"
   },
   {
    "duration": -261,
    "start_time": "2021-08-09T02:48:48.122Z"
   },
   {
    "duration": -262,
    "start_time": "2021-08-09T02:48:48.124Z"
   },
   {
    "duration": -263,
    "start_time": "2021-08-09T02:48:48.126Z"
   },
   {
    "duration": -277,
    "start_time": "2021-08-09T02:48:48.141Z"
   },
   {
    "duration": -278,
    "start_time": "2021-08-09T02:48:48.143Z"
   },
   {
    "duration": -280,
    "start_time": "2021-08-09T02:48:48.146Z"
   },
   {
    "duration": -286,
    "start_time": "2021-08-09T02:48:48.153Z"
   },
   {
    "duration": -289,
    "start_time": "2021-08-09T02:48:48.157Z"
   },
   {
    "duration": -290,
    "start_time": "2021-08-09T02:48:48.159Z"
   },
   {
    "duration": -292,
    "start_time": "2021-08-09T02:48:48.162Z"
   },
   {
    "duration": -293,
    "start_time": "2021-08-09T02:48:48.164Z"
   },
   {
    "duration": -295,
    "start_time": "2021-08-09T02:48:48.167Z"
   },
   {
    "duration": -296,
    "start_time": "2021-08-09T02:48:48.169Z"
   },
   {
    "duration": -298,
    "start_time": "2021-08-09T02:48:48.172Z"
   },
   {
    "duration": -298,
    "start_time": "2021-08-09T02:48:48.174Z"
   },
   {
    "duration": -300,
    "start_time": "2021-08-09T02:48:48.177Z"
   },
   {
    "duration": -301,
    "start_time": "2021-08-09T02:48:48.179Z"
   },
   {
    "duration": -302,
    "start_time": "2021-08-09T02:48:48.182Z"
   },
   {
    "duration": -304,
    "start_time": "2021-08-09T02:48:48.185Z"
   },
   {
    "duration": -305,
    "start_time": "2021-08-09T02:48:48.187Z"
   },
   {
    "duration": -306,
    "start_time": "2021-08-09T02:48:48.189Z"
   },
   {
    "duration": -308,
    "start_time": "2021-08-09T02:48:48.192Z"
   },
   {
    "duration": -309,
    "start_time": "2021-08-09T02:48:48.194Z"
   },
   {
    "duration": -311,
    "start_time": "2021-08-09T02:48:48.197Z"
   },
   {
    "duration": -312,
    "start_time": "2021-08-09T02:48:48.199Z"
   },
   {
    "duration": -314,
    "start_time": "2021-08-09T02:48:48.202Z"
   },
   {
    "duration": -315,
    "start_time": "2021-08-09T02:48:48.204Z"
   },
   {
    "duration": -318,
    "start_time": "2021-08-09T02:48:48.207Z"
   },
   {
    "duration": -319,
    "start_time": "2021-08-09T02:48:48.209Z"
   },
   {
    "duration": -321,
    "start_time": "2021-08-09T02:48:48.212Z"
   },
   {
    "duration": -322,
    "start_time": "2021-08-09T02:48:48.214Z"
   },
   {
    "duration": -323,
    "start_time": "2021-08-09T02:48:48.216Z"
   },
   {
    "duration": -325,
    "start_time": "2021-08-09T02:48:48.219Z"
   },
   {
    "duration": -333,
    "start_time": "2021-08-09T02:48:48.228Z"
   },
   {
    "duration": -334,
    "start_time": "2021-08-09T02:48:48.230Z"
   },
   {
    "duration": -336,
    "start_time": "2021-08-09T02:48:48.233Z"
   },
   {
    "duration": -338,
    "start_time": "2021-08-09T02:48:48.236Z"
   },
   {
    "duration": -339,
    "start_time": "2021-08-09T02:48:48.238Z"
   },
   {
    "duration": -341,
    "start_time": "2021-08-09T02:48:48.241Z"
   },
   {
    "duration": -343,
    "start_time": "2021-08-09T02:48:48.244Z"
   },
   {
    "duration": -344,
    "start_time": "2021-08-09T02:48:48.246Z"
   },
   {
    "duration": -346,
    "start_time": "2021-08-09T02:48:48.249Z"
   },
   {
    "duration": -347,
    "start_time": "2021-08-09T02:48:48.251Z"
   },
   {
    "duration": -348,
    "start_time": "2021-08-09T02:48:48.253Z"
   },
   {
    "duration": -351,
    "start_time": "2021-08-09T02:48:48.256Z"
   },
   {
    "duration": -352,
    "start_time": "2021-08-09T02:48:48.258Z"
   },
   {
    "duration": -563,
    "start_time": "2021-08-09T02:48:48.470Z"
   },
   {
    "duration": -565,
    "start_time": "2021-08-09T02:48:48.473Z"
   },
   {
    "duration": -566,
    "start_time": "2021-08-09T02:48:48.475Z"
   },
   {
    "duration": -567,
    "start_time": "2021-08-09T02:48:48.477Z"
   },
   {
    "duration": -568,
    "start_time": "2021-08-09T02:48:48.479Z"
   },
   {
    "duration": -570,
    "start_time": "2021-08-09T02:48:48.482Z"
   },
   {
    "duration": -571,
    "start_time": "2021-08-09T02:48:48.484Z"
   },
   {
    "duration": -572,
    "start_time": "2021-08-09T02:48:48.486Z"
   },
   {
    "duration": -573,
    "start_time": "2021-08-09T02:48:48.488Z"
   },
   {
    "duration": -574,
    "start_time": "2021-08-09T02:48:48.490Z"
   },
   {
    "duration": -575,
    "start_time": "2021-08-09T02:48:48.492Z"
   },
   {
    "duration": -577,
    "start_time": "2021-08-09T02:48:48.495Z"
   },
   {
    "duration": -578,
    "start_time": "2021-08-09T02:48:48.497Z"
   },
   {
    "duration": -578,
    "start_time": "2021-08-09T02:48:48.499Z"
   },
   {
    "duration": -579,
    "start_time": "2021-08-09T02:48:48.501Z"
   },
   {
    "duration": -580,
    "start_time": "2021-08-09T02:48:48.503Z"
   },
   {
    "duration": -520,
    "start_time": "2021-08-09T02:48:48.505Z"
   },
   {
    "duration": -524,
    "start_time": "2021-08-09T02:48:48.510Z"
   },
   {
    "duration": -525,
    "start_time": "2021-08-09T02:48:48.512Z"
   },
   {
    "duration": -527,
    "start_time": "2021-08-09T02:48:48.515Z"
   },
   {
    "duration": -528,
    "start_time": "2021-08-09T02:48:48.517Z"
   },
   {
    "duration": -530,
    "start_time": "2021-08-09T02:48:48.520Z"
   },
   {
    "duration": -531,
    "start_time": "2021-08-09T02:48:48.522Z"
   },
   {
    "duration": -533,
    "start_time": "2021-08-09T02:48:48.525Z"
   },
   {
    "duration": 4,
    "start_time": "2021-08-09T02:50:24.359Z"
   },
   {
    "duration": 76,
    "start_time": "2021-08-09T02:50:24.369Z"
   },
   {
    "duration": 38,
    "start_time": "2021-08-09T02:50:24.447Z"
   },
   {
    "duration": 27,
    "start_time": "2021-08-09T02:50:24.487Z"
   },
   {
    "duration": 9,
    "start_time": "2021-08-09T02:50:24.517Z"
   },
   {
    "duration": 6,
    "start_time": "2021-08-09T02:50:24.528Z"
   },
   {
    "duration": 5,
    "start_time": "2021-08-09T02:50:24.536Z"
   },
   {
    "duration": 43,
    "start_time": "2021-08-09T02:50:24.543Z"
   },
   {
    "duration": 10,
    "start_time": "2021-08-09T02:50:24.587Z"
   },
   {
    "duration": 9,
    "start_time": "2021-08-09T02:50:24.600Z"
   },
   {
    "duration": 8,
    "start_time": "2021-08-09T02:50:24.611Z"
   },
   {
    "duration": 3,
    "start_time": "2021-08-09T02:50:24.621Z"
   },
   {
    "duration": 1105,
    "start_time": "2021-08-09T02:50:24.626Z"
   },
   {
    "duration": 986,
    "start_time": "2021-08-09T02:50:25.733Z"
   },
   {
    "duration": 5,
    "start_time": "2021-08-09T02:50:26.721Z"
   },
   {
    "duration": 8,
    "start_time": "2021-08-09T02:50:26.728Z"
   },
   {
    "duration": 5,
    "start_time": "2021-08-09T02:50:26.737Z"
   },
   {
    "duration": 6,
    "start_time": "2021-08-09T02:50:26.744Z"
   },
   {
    "duration": 5,
    "start_time": "2021-08-09T02:50:26.751Z"
   },
   {
    "duration": 27,
    "start_time": "2021-08-09T02:50:26.758Z"
   },
   {
    "duration": 19,
    "start_time": "2021-08-09T02:50:26.786Z"
   },
   {
    "duration": 4,
    "start_time": "2021-08-09T02:50:26.807Z"
   },
   {
    "duration": 4,
    "start_time": "2021-08-09T02:50:26.813Z"
   },
   {
    "duration": 23,
    "start_time": "2021-08-09T02:50:26.819Z"
   },
   {
    "duration": 6,
    "start_time": "2021-08-09T02:50:26.843Z"
   },
   {
    "duration": 34,
    "start_time": "2021-08-09T02:50:26.851Z"
   },
   {
    "duration": 5,
    "start_time": "2021-08-09T02:50:26.886Z"
   },
   {
    "duration": 21,
    "start_time": "2021-08-09T02:50:26.895Z"
   },
   {
    "duration": 2,
    "start_time": "2021-08-09T02:50:26.919Z"
   },
   {
    "duration": 7,
    "start_time": "2021-08-09T02:50:26.923Z"
   },
   {
    "duration": 4,
    "start_time": "2021-08-09T02:50:26.931Z"
   },
   {
    "duration": 509,
    "start_time": "2021-08-09T02:50:26.936Z"
   },
   {
    "duration": 7,
    "start_time": "2021-08-09T02:50:27.447Z"
   },
   {
    "duration": 6,
    "start_time": "2021-08-09T02:50:27.455Z"
   },
   {
    "duration": 35,
    "start_time": "2021-08-09T02:50:27.463Z"
   },
   {
    "duration": 3,
    "start_time": "2021-08-09T02:50:27.499Z"
   },
   {
    "duration": 22,
    "start_time": "2021-08-09T02:50:27.504Z"
   },
   {
    "duration": 276,
    "start_time": "2021-08-09T02:50:27.528Z"
   },
   {
    "duration": 5,
    "start_time": "2021-08-09T02:50:27.806Z"
   },
   {
    "duration": 277,
    "start_time": "2021-08-09T02:50:27.813Z"
   },
   {
    "duration": 5,
    "start_time": "2021-08-09T02:50:28.091Z"
   },
   {
    "duration": 197,
    "start_time": "2021-08-09T02:50:28.098Z"
   },
   {
    "duration": 195,
    "start_time": "2021-08-09T02:50:28.297Z"
   },
   {
    "duration": 316,
    "start_time": "2021-08-09T02:50:28.493Z"
   },
   {
    "duration": 4,
    "start_time": "2021-08-09T02:50:28.811Z"
   },
   {
    "duration": 5,
    "start_time": "2021-08-09T02:50:28.817Z"
   },
   {
    "duration": 196,
    "start_time": "2021-08-09T02:50:28.824Z"
   },
   {
    "duration": 16,
    "start_time": "2021-08-09T02:50:29.021Z"
   },
   {
    "duration": 4,
    "start_time": "2021-08-09T02:50:29.038Z"
   },
   {
    "duration": 11,
    "start_time": "2021-08-09T02:50:29.044Z"
   },
   {
    "duration": 32,
    "start_time": "2021-08-09T02:50:29.057Z"
   },
   {
    "duration": 349,
    "start_time": "2021-08-09T02:50:29.091Z"
   },
   {
    "duration": 5,
    "start_time": "2021-08-09T02:50:29.442Z"
   },
   {
    "duration": 352,
    "start_time": "2021-08-09T02:50:29.448Z"
   },
   {
    "duration": 4,
    "start_time": "2021-08-09T02:50:29.802Z"
   },
   {
    "duration": 6,
    "start_time": "2021-08-09T02:50:29.808Z"
   },
   {
    "duration": 292,
    "start_time": "2021-08-09T02:50:29.816Z"
   },
   {
    "duration": 4,
    "start_time": "2021-08-09T02:50:30.110Z"
   },
   {
    "duration": 18,
    "start_time": "2021-08-09T02:50:30.116Z"
   },
   {
    "duration": 8,
    "start_time": "2021-08-09T02:50:30.136Z"
   },
   {
    "duration": 12,
    "start_time": "2021-08-09T02:50:30.146Z"
   },
   {
    "duration": 13,
    "start_time": "2021-08-09T02:50:30.159Z"
   },
   {
    "duration": 13,
    "start_time": "2021-08-09T02:50:30.174Z"
   },
   {
    "duration": 5,
    "start_time": "2021-08-09T02:50:30.189Z"
   },
   {
    "duration": 13,
    "start_time": "2021-08-09T02:50:30.196Z"
   },
   {
    "duration": 28,
    "start_time": "2021-08-09T02:50:30.211Z"
   },
   {
    "duration": 237,
    "start_time": "2021-08-09T02:50:30.240Z"
   },
   {
    "duration": 8,
    "start_time": "2021-08-09T02:50:30.479Z"
   },
   {
    "duration": 15,
    "start_time": "2021-08-09T02:50:30.488Z"
   },
   {
    "duration": 4,
    "start_time": "2021-08-09T02:50:30.504Z"
   },
   {
    "duration": 787,
    "start_time": "2021-08-09T02:50:30.509Z"
   },
   {
    "duration": 6,
    "start_time": "2021-08-09T02:50:31.298Z"
   },
   {
    "duration": 667,
    "start_time": "2021-08-09T02:50:31.305Z"
   },
   {
    "duration": 656,
    "start_time": "2021-08-09T02:50:31.973Z"
   },
   {
    "duration": 564,
    "start_time": "2021-08-09T02:50:32.631Z"
   },
   {
    "duration": 491,
    "start_time": "2021-08-09T02:50:33.197Z"
   },
   {
    "duration": 647,
    "start_time": "2021-08-09T02:50:33.689Z"
   },
   {
    "duration": 937,
    "start_time": "2021-08-09T02:50:34.338Z"
   },
   {
    "duration": 911,
    "start_time": "2021-08-09T02:50:35.277Z"
   },
   {
    "duration": 280,
    "start_time": "2021-08-09T02:50:36.189Z"
   },
   {
    "duration": 946,
    "start_time": "2021-08-09T02:50:36.471Z"
   },
   {
    "duration": 6,
    "start_time": "2021-08-09T02:50:37.422Z"
   },
   {
    "duration": 6,
    "start_time": "2021-08-09T02:50:37.429Z"
   },
   {
    "duration": 5,
    "start_time": "2021-08-09T02:50:37.437Z"
   },
   {
    "duration": 4,
    "start_time": "2021-08-09T02:50:37.443Z"
   },
   {
    "duration": 8,
    "start_time": "2021-08-09T02:50:37.448Z"
   },
   {
    "duration": 671,
    "start_time": "2021-08-09T03:07:19.474Z"
   },
   {
    "duration": 70,
    "start_time": "2021-08-09T03:07:20.147Z"
   },
   {
    "duration": 10,
    "start_time": "2021-08-09T03:07:20.219Z"
   },
   {
    "duration": 24,
    "start_time": "2021-08-09T03:07:20.231Z"
   },
   {
    "duration": 7,
    "start_time": "2021-08-09T03:07:20.257Z"
   },
   {
    "duration": 22,
    "start_time": "2021-08-09T03:07:20.266Z"
   },
   {
    "duration": 8,
    "start_time": "2021-08-09T03:07:20.289Z"
   },
   {
    "duration": 9,
    "start_time": "2021-08-09T03:07:20.299Z"
   },
   {
    "duration": 10,
    "start_time": "2021-08-09T03:07:20.310Z"
   },
   {
    "duration": 7,
    "start_time": "2021-08-09T03:07:20.322Z"
   },
   {
    "duration": 7,
    "start_time": "2021-08-09T03:07:20.331Z"
   },
   {
    "duration": 3,
    "start_time": "2021-08-09T03:07:20.339Z"
   },
   {
    "duration": 1085,
    "start_time": "2021-08-09T03:07:20.343Z"
   },
   {
    "duration": 1005,
    "start_time": "2021-08-09T03:07:21.430Z"
   },
   {
    "duration": 5,
    "start_time": "2021-08-09T03:07:22.437Z"
   },
   {
    "duration": 9,
    "start_time": "2021-08-09T03:07:22.443Z"
   },
   {
    "duration": 5,
    "start_time": "2021-08-09T03:07:22.454Z"
   },
   {
    "duration": 9,
    "start_time": "2021-08-09T03:07:22.460Z"
   },
   {
    "duration": 5,
    "start_time": "2021-08-09T03:07:22.485Z"
   },
   {
    "duration": 4,
    "start_time": "2021-08-09T03:07:22.491Z"
   },
   {
    "duration": 20,
    "start_time": "2021-08-09T03:07:22.496Z"
   },
   {
    "duration": 5,
    "start_time": "2021-08-09T03:07:22.517Z"
   },
   {
    "duration": 4,
    "start_time": "2021-08-09T03:07:22.523Z"
   },
   {
    "duration": 22,
    "start_time": "2021-08-09T03:07:22.529Z"
   },
   {
    "duration": 33,
    "start_time": "2021-08-09T03:07:22.553Z"
   },
   {
    "duration": 5,
    "start_time": "2021-08-09T03:07:22.588Z"
   },
   {
    "duration": 14,
    "start_time": "2021-08-09T03:07:22.597Z"
   },
   {
    "duration": 22,
    "start_time": "2021-08-09T03:07:22.613Z"
   },
   {
    "duration": 2,
    "start_time": "2021-08-09T03:07:22.637Z"
   },
   {
    "duration": 21,
    "start_time": "2021-08-09T03:07:22.641Z"
   },
   {
    "duration": 14,
    "start_time": "2021-08-09T03:07:22.663Z"
   },
   {
    "duration": 506,
    "start_time": "2021-08-09T03:07:22.679Z"
   },
   {
    "duration": 7,
    "start_time": "2021-08-09T03:07:23.186Z"
   },
   {
    "duration": 5,
    "start_time": "2021-08-09T03:07:23.195Z"
   },
   {
    "duration": 27,
    "start_time": "2021-08-09T03:07:23.202Z"
   },
   {
    "duration": 4,
    "start_time": "2021-08-09T03:07:23.230Z"
   },
   {
    "duration": 54,
    "start_time": "2021-08-09T03:07:23.235Z"
   },
   {
    "duration": 271,
    "start_time": "2021-08-09T03:07:23.290Z"
   },
   {
    "duration": 5,
    "start_time": "2021-08-09T03:07:23.563Z"
   },
   {
    "duration": 285,
    "start_time": "2021-08-09T03:07:23.570Z"
   },
   {
    "duration": 5,
    "start_time": "2021-08-09T03:07:23.856Z"
   },
   {
    "duration": 205,
    "start_time": "2021-08-09T03:07:23.863Z"
   },
   {
    "duration": 189,
    "start_time": "2021-08-09T03:07:24.070Z"
   },
   {
    "duration": 312,
    "start_time": "2021-08-09T03:07:24.261Z"
   },
   {
    "duration": 4,
    "start_time": "2021-08-09T03:07:24.574Z"
   },
   {
    "duration": 4,
    "start_time": "2021-08-09T03:07:24.585Z"
   },
   {
    "duration": 180,
    "start_time": "2021-08-09T03:07:24.591Z"
   },
   {
    "duration": 19,
    "start_time": "2021-08-09T03:07:24.772Z"
   },
   {
    "duration": 4,
    "start_time": "2021-08-09T03:07:24.793Z"
   },
   {
    "duration": 10,
    "start_time": "2021-08-09T03:07:24.799Z"
   },
   {
    "duration": 9,
    "start_time": "2021-08-09T03:07:24.811Z"
   },
   {
    "duration": 302,
    "start_time": "2021-08-09T03:07:24.821Z"
   },
   {
    "duration": 5,
    "start_time": "2021-08-09T03:07:25.125Z"
   },
   {
    "duration": 369,
    "start_time": "2021-08-09T03:07:25.131Z"
   },
   {
    "duration": 5,
    "start_time": "2021-08-09T03:07:25.501Z"
   },
   {
    "duration": 4,
    "start_time": "2021-08-09T03:07:25.507Z"
   },
   {
    "duration": 314,
    "start_time": "2021-08-09T03:07:25.513Z"
   },
   {
    "duration": 5,
    "start_time": "2021-08-09T03:07:25.829Z"
   },
   {
    "duration": 9,
    "start_time": "2021-08-09T03:07:25.836Z"
   },
   {
    "duration": 7,
    "start_time": "2021-08-09T03:07:25.846Z"
   },
   {
    "duration": 34,
    "start_time": "2021-08-09T03:07:25.854Z"
   },
   {
    "duration": 7,
    "start_time": "2021-08-09T03:07:25.890Z"
   },
   {
    "duration": 5,
    "start_time": "2021-08-09T03:07:25.899Z"
   },
   {
    "duration": 6,
    "start_time": "2021-08-09T03:07:25.906Z"
   },
   {
    "duration": 8,
    "start_time": "2021-08-09T03:07:25.914Z"
   },
   {
    "duration": 23,
    "start_time": "2021-08-09T03:07:25.923Z"
   },
   {
    "duration": 240,
    "start_time": "2021-08-09T03:07:25.947Z"
   },
   {
    "duration": 4,
    "start_time": "2021-08-09T03:07:26.189Z"
   },
   {
    "duration": 13,
    "start_time": "2021-08-09T03:07:26.195Z"
   },
   {
    "duration": 4,
    "start_time": "2021-08-09T03:07:26.209Z"
   },
   {
    "duration": 777,
    "start_time": "2021-08-09T03:07:26.214Z"
   },
   {
    "duration": 6,
    "start_time": "2021-08-09T03:07:26.993Z"
   },
   {
    "duration": 634,
    "start_time": "2021-08-09T03:07:27.001Z"
   },
   {
    "duration": 643,
    "start_time": "2021-08-09T03:07:27.637Z"
   },
   {
    "duration": 557,
    "start_time": "2021-08-09T03:07:28.282Z"
   },
   {
    "duration": 480,
    "start_time": "2021-08-09T03:07:28.841Z"
   },
   {
    "duration": 658,
    "start_time": "2021-08-09T03:07:29.323Z"
   },
   {
    "duration": 937,
    "start_time": "2021-08-09T03:07:29.983Z"
   },
   {
    "duration": 876,
    "start_time": "2021-08-09T03:07:30.922Z"
   },
   {
    "duration": 271,
    "start_time": "2021-08-09T03:07:31.800Z"
   },
   {
    "duration": 945,
    "start_time": "2021-08-09T03:07:32.076Z"
   },
   {
    "duration": 7,
    "start_time": "2021-08-09T03:07:33.023Z"
   },
   {
    "duration": 8,
    "start_time": "2021-08-09T03:07:33.031Z"
   },
   {
    "duration": 7,
    "start_time": "2021-08-09T03:07:33.040Z"
   },
   {
    "duration": 5,
    "start_time": "2021-08-09T03:07:33.048Z"
   },
   {
    "duration": 31,
    "start_time": "2021-08-09T03:07:33.055Z"
   }
  ],
  "colab": {
   "collapsed_sections": [],
   "name": "real_estate_dolan.ipynb",
   "provenance": []
  },
  "kernelspec": {
   "display_name": "Python 3",
   "language": "python",
   "name": "python3"
  },
  "language_info": {
   "codemirror_mode": {
    "name": "ipython",
    "version": 3
   },
   "file_extension": ".py",
   "mimetype": "text/x-python",
   "name": "python",
   "nbconvert_exporter": "python",
   "pygments_lexer": "ipython3",
   "version": "3.8.5"
  },
  "toc": {
   "base_numbering": 1,
   "nav_menu": {},
   "number_sections": true,
   "sideBar": true,
   "skip_h1_title": true,
   "title_cell": "Table of Contents",
   "title_sidebar": "Contents",
   "toc_cell": false,
   "toc_position": {},
   "toc_section_display": true,
   "toc_window_display": false
  }
 },
 "nbformat": 4,
 "nbformat_minor": 1
}
