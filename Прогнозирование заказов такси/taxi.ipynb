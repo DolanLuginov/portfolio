{
 "cells": [
  {
   "cell_type": "markdown",
   "metadata": {},
   "source": [
    "#  Прогнозирование заказов такси"
   ]
  },
  {
   "cell_type": "markdown",
   "metadata": {},
   "source": [
    "В нашем распоряжении исторические данные о заказах такси в аэропортах. Чтобы привлекать больше водителей в период пиковой нагрузки, нужно спрогнозировать количество заказов такси на следующий час."
   ]
  },
  {
   "cell_type": "code",
   "execution_count": 1,
   "metadata": {},
   "outputs": [],
   "source": [
    "import pandas as pd\n",
    "import numpy as np\n",
    "from statsmodels.tsa.seasonal import seasonal_decompose\n",
    "import matplotlib.pyplot as plt\n",
    "from sklearn.model_selection import train_test_split\n",
    "from sklearn.linear_model import LinearRegression\n",
    "from sklearn.model_selection import cross_val_score\n",
    "from sklearn.model_selection import TimeSeriesSplit\n",
    "from sklearn.metrics import make_scorer\n",
    "from sklearn.model_selection import GridSearchCV\n",
    "from sklearn.linear_model import LinearRegression\n",
    "from sklearn.linear_model import Ridge\n",
    "from sklearn.ensemble import RandomForestRegressor\n",
    "from sklearn.neighbors import KNeighborsRegressor\n",
    "from lightgbm import LGBMRegressor\n",
    "\n",
    "import warnings\n",
    "warnings.filterwarnings('ignore')\n",
    "\n",
    "RAND = 22"
   ]
  },
  {
   "cell_type": "markdown",
   "metadata": {},
   "source": [
    "# Чтение данных"
   ]
  },
  {
   "cell_type": "code",
   "execution_count": 2,
   "metadata": {},
   "outputs": [
    {
     "data": {
      "text/html": [
       "<div>\n",
       "<style scoped>\n",
       "    .dataframe tbody tr th:only-of-type {\n",
       "        vertical-align: middle;\n",
       "    }\n",
       "\n",
       "    .dataframe tbody tr th {\n",
       "        vertical-align: top;\n",
       "    }\n",
       "\n",
       "    .dataframe thead th {\n",
       "        text-align: right;\n",
       "    }\n",
       "</style>\n",
       "<table border=\"1\" class=\"dataframe\">\n",
       "  <thead>\n",
       "    <tr style=\"text-align: right;\">\n",
       "      <th></th>\n",
       "      <th>num_orders</th>\n",
       "    </tr>\n",
       "    <tr>\n",
       "      <th>datetime</th>\n",
       "      <th></th>\n",
       "    </tr>\n",
       "  </thead>\n",
       "  <tbody>\n",
       "    <tr>\n",
       "      <th>2018-03-01 00:00:00</th>\n",
       "      <td>9</td>\n",
       "    </tr>\n",
       "    <tr>\n",
       "      <th>2018-03-01 00:10:00</th>\n",
       "      <td>14</td>\n",
       "    </tr>\n",
       "    <tr>\n",
       "      <th>2018-03-01 00:20:00</th>\n",
       "      <td>28</td>\n",
       "    </tr>\n",
       "    <tr>\n",
       "      <th>2018-03-01 00:30:00</th>\n",
       "      <td>20</td>\n",
       "    </tr>\n",
       "    <tr>\n",
       "      <th>2018-03-01 00:40:00</th>\n",
       "      <td>32</td>\n",
       "    </tr>\n",
       "  </tbody>\n",
       "</table>\n",
       "</div>"
      ],
      "text/plain": [
       "                     num_orders\n",
       "datetime                       \n",
       "2018-03-01 00:00:00           9\n",
       "2018-03-01 00:10:00          14\n",
       "2018-03-01 00:20:00          28\n",
       "2018-03-01 00:30:00          20\n",
       "2018-03-01 00:40:00          32"
      ]
     },
     "execution_count": 2,
     "metadata": {},
     "output_type": "execute_result"
    }
   ],
   "source": [
    "df = pd.read_csv('taxi.csv', parse_dates=[0], index_col=[0])\n",
    "df.head()"
   ]
  },
  {
   "cell_type": "code",
   "execution_count": 3,
   "metadata": {},
   "outputs": [
    {
     "name": "stdout",
     "output_type": "stream",
     "text": [
      "<class 'pandas.core.frame.DataFrame'>\n",
      "DatetimeIndex: 26496 entries, 2018-03-01 00:00:00 to 2018-08-31 23:50:00\n",
      "Data columns (total 1 columns):\n",
      " #   Column      Non-Null Count  Dtype\n",
      "---  ------      --------------  -----\n",
      " 0   num_orders  26496 non-null  int64\n",
      "dtypes: int64(1)\n",
      "memory usage: 414.0 KB\n"
     ]
    }
   ],
   "source": [
    "df.info()"
   ]
  },
  {
   "cell_type": "markdown",
   "metadata": {},
   "source": [
    "В нашей выборке 26496 наблюдений с интервалом в одну минуту. Проверим сохранен ли порядок"
   ]
  },
  {
   "cell_type": "code",
   "execution_count": 4,
   "metadata": {},
   "outputs": [
    {
     "data": {
      "text/plain": [
       "True"
      ]
     },
     "execution_count": 4,
     "metadata": {},
     "output_type": "execute_result"
    }
   ],
   "source": [
    "df.index.is_monotonic"
   ]
  },
  {
   "cell_type": "markdown",
   "metadata": {},
   "source": [
    "Данные упорядочены. Выполним ресемплирование по одному часу"
   ]
  },
  {
   "cell_type": "code",
   "execution_count": 5,
   "metadata": {},
   "outputs": [
    {
     "data": {
      "text/html": [
       "<div>\n",
       "<style scoped>\n",
       "    .dataframe tbody tr th:only-of-type {\n",
       "        vertical-align: middle;\n",
       "    }\n",
       "\n",
       "    .dataframe tbody tr th {\n",
       "        vertical-align: top;\n",
       "    }\n",
       "\n",
       "    .dataframe thead th {\n",
       "        text-align: right;\n",
       "    }\n",
       "</style>\n",
       "<table border=\"1\" class=\"dataframe\">\n",
       "  <thead>\n",
       "    <tr style=\"text-align: right;\">\n",
       "      <th></th>\n",
       "      <th>num_orders</th>\n",
       "    </tr>\n",
       "    <tr>\n",
       "      <th>datetime</th>\n",
       "      <th></th>\n",
       "    </tr>\n",
       "  </thead>\n",
       "  <tbody>\n",
       "    <tr>\n",
       "      <th>2018-03-01 00:00:00</th>\n",
       "      <td>124</td>\n",
       "    </tr>\n",
       "    <tr>\n",
       "      <th>2018-03-01 01:00:00</th>\n",
       "      <td>85</td>\n",
       "    </tr>\n",
       "    <tr>\n",
       "      <th>2018-03-01 02:00:00</th>\n",
       "      <td>71</td>\n",
       "    </tr>\n",
       "    <tr>\n",
       "      <th>2018-03-01 03:00:00</th>\n",
       "      <td>66</td>\n",
       "    </tr>\n",
       "    <tr>\n",
       "      <th>2018-03-01 04:00:00</th>\n",
       "      <td>43</td>\n",
       "    </tr>\n",
       "  </tbody>\n",
       "</table>\n",
       "</div>"
      ],
      "text/plain": [
       "                     num_orders\n",
       "datetime                       \n",
       "2018-03-01 00:00:00         124\n",
       "2018-03-01 01:00:00          85\n",
       "2018-03-01 02:00:00          71\n",
       "2018-03-01 03:00:00          66\n",
       "2018-03-01 04:00:00          43"
      ]
     },
     "execution_count": 5,
     "metadata": {},
     "output_type": "execute_result"
    }
   ],
   "source": [
    "df = df.resample('1H').sum()\n",
    "df.head()"
   ]
  },
  {
   "cell_type": "code",
   "execution_count": 6,
   "metadata": {},
   "outputs": [
    {
     "data": {
      "text/plain": [
       "num_orders    0\n",
       "dtype: int64"
      ]
     },
     "execution_count": 6,
     "metadata": {},
     "output_type": "execute_result"
    }
   ],
   "source": [
    "df.isna().sum()"
   ]
  },
  {
   "cell_type": "markdown",
   "metadata": {},
   "source": [
    "# Анализ данных"
   ]
  },
  {
   "cell_type": "markdown",
   "metadata": {},
   "source": [
    "Для детального анализа данных добавим дополнительные столбцы"
   ]
  },
  {
   "cell_type": "code",
   "execution_count": 7,
   "metadata": {
    "scrolled": true
   },
   "outputs": [
    {
     "data": {
      "text/html": [
       "<div>\n",
       "<style scoped>\n",
       "    .dataframe tbody tr th:only-of-type {\n",
       "        vertical-align: middle;\n",
       "    }\n",
       "\n",
       "    .dataframe tbody tr th {\n",
       "        vertical-align: top;\n",
       "    }\n",
       "\n",
       "    .dataframe thead th {\n",
       "        text-align: right;\n",
       "    }\n",
       "</style>\n",
       "<table border=\"1\" class=\"dataframe\">\n",
       "  <thead>\n",
       "    <tr style=\"text-align: right;\">\n",
       "      <th></th>\n",
       "      <th>num_orders</th>\n",
       "      <th>month</th>\n",
       "      <th>day</th>\n",
       "      <th>dayofweek</th>\n",
       "      <th>hour</th>\n",
       "    </tr>\n",
       "    <tr>\n",
       "      <th>datetime</th>\n",
       "      <th></th>\n",
       "      <th></th>\n",
       "      <th></th>\n",
       "      <th></th>\n",
       "      <th></th>\n",
       "    </tr>\n",
       "  </thead>\n",
       "  <tbody>\n",
       "    <tr>\n",
       "      <th>2018-03-01 00:00:00</th>\n",
       "      <td>124</td>\n",
       "      <td>3</td>\n",
       "      <td>1</td>\n",
       "      <td>3</td>\n",
       "      <td>0</td>\n",
       "    </tr>\n",
       "    <tr>\n",
       "      <th>2018-03-01 01:00:00</th>\n",
       "      <td>85</td>\n",
       "      <td>3</td>\n",
       "      <td>1</td>\n",
       "      <td>3</td>\n",
       "      <td>1</td>\n",
       "    </tr>\n",
       "    <tr>\n",
       "      <th>2018-03-01 02:00:00</th>\n",
       "      <td>71</td>\n",
       "      <td>3</td>\n",
       "      <td>1</td>\n",
       "      <td>3</td>\n",
       "      <td>2</td>\n",
       "    </tr>\n",
       "    <tr>\n",
       "      <th>2018-03-01 03:00:00</th>\n",
       "      <td>66</td>\n",
       "      <td>3</td>\n",
       "      <td>1</td>\n",
       "      <td>3</td>\n",
       "      <td>3</td>\n",
       "    </tr>\n",
       "    <tr>\n",
       "      <th>2018-03-01 04:00:00</th>\n",
       "      <td>43</td>\n",
       "      <td>3</td>\n",
       "      <td>1</td>\n",
       "      <td>3</td>\n",
       "      <td>4</td>\n",
       "    </tr>\n",
       "    <tr>\n",
       "      <th>2018-03-01 05:00:00</th>\n",
       "      <td>6</td>\n",
       "      <td>3</td>\n",
       "      <td>1</td>\n",
       "      <td>3</td>\n",
       "      <td>5</td>\n",
       "    </tr>\n",
       "    <tr>\n",
       "      <th>2018-03-01 06:00:00</th>\n",
       "      <td>12</td>\n",
       "      <td>3</td>\n",
       "      <td>1</td>\n",
       "      <td>3</td>\n",
       "      <td>6</td>\n",
       "    </tr>\n",
       "    <tr>\n",
       "      <th>2018-03-01 07:00:00</th>\n",
       "      <td>15</td>\n",
       "      <td>3</td>\n",
       "      <td>1</td>\n",
       "      <td>3</td>\n",
       "      <td>7</td>\n",
       "    </tr>\n",
       "    <tr>\n",
       "      <th>2018-03-01 08:00:00</th>\n",
       "      <td>34</td>\n",
       "      <td>3</td>\n",
       "      <td>1</td>\n",
       "      <td>3</td>\n",
       "      <td>8</td>\n",
       "    </tr>\n",
       "    <tr>\n",
       "      <th>2018-03-01 09:00:00</th>\n",
       "      <td>69</td>\n",
       "      <td>3</td>\n",
       "      <td>1</td>\n",
       "      <td>3</td>\n",
       "      <td>9</td>\n",
       "    </tr>\n",
       "  </tbody>\n",
       "</table>\n",
       "</div>"
      ],
      "text/plain": [
       "                     num_orders  month  day  dayofweek  hour\n",
       "datetime                                                    \n",
       "2018-03-01 00:00:00         124      3    1          3     0\n",
       "2018-03-01 01:00:00          85      3    1          3     1\n",
       "2018-03-01 02:00:00          71      3    1          3     2\n",
       "2018-03-01 03:00:00          66      3    1          3     3\n",
       "2018-03-01 04:00:00          43      3    1          3     4\n",
       "2018-03-01 05:00:00           6      3    1          3     5\n",
       "2018-03-01 06:00:00          12      3    1          3     6\n",
       "2018-03-01 07:00:00          15      3    1          3     7\n",
       "2018-03-01 08:00:00          34      3    1          3     8\n",
       "2018-03-01 09:00:00          69      3    1          3     9"
      ]
     },
     "execution_count": 7,
     "metadata": {},
     "output_type": "execute_result"
    }
   ],
   "source": [
    "df['month'] = df.index.month\n",
    "df['day'] = df.index.day\n",
    "df['dayofweek'] = df.index.dayofweek\n",
    "df['hour'] = df.index.hour \n",
    "df.head(10)"
   ]
  },
  {
   "cell_type": "code",
   "execution_count": 8,
   "metadata": {},
   "outputs": [
    {
     "data": {
      "image/png": "[encoded data removed]",
      "text/plain": [
       "<Figure size 432x288 with 1 Axes>"
      ]
     },
     "metadata": {
      "needs_background": "light"
     },
     "output_type": "display_data"
    }
   ],
   "source": [
    "df['num_orders'].rolling(50).mean().plot()\n",
    "plt.title('Распределение заказов')\n",
    "plt.show()"
   ]
  },
  {
   "cell_type": "markdown",
   "metadata": {},
   "source": [
    "В данных есть восходящий тренд. Этот подъём действительно за счёт роста компании или есть влияние сезонности? Скорее всего здесь влияние месячной сезонности, потому что летом люди начинают больше путешествовать и, соответственно, мы видим рост заказов такси"
   ]
  },
  {
   "cell_type": "code",
   "execution_count": 9,
   "metadata": {},
   "outputs": [
    {
     "data": {
      "image/png": "[encoded data removed]",
      "text/plain": [
       "<Figure size 432x288 with 1 Axes>"
      ]
     },
     "metadata": {
      "needs_background": "light"
     },
     "output_type": "display_data"
    }
   ],
   "source": [
    "# раскладываем временной ряд на три составляющие: тренд, сезонность и остаток\n",
    "decomposed = seasonal_decompose(df['num_orders'])\n",
    "decomposed.seasonal['2018-03-06':'2018-03-07'].plot()\n",
    "plt.title('Bнутрисуточная сезонность')\n",
    "plt.show()"
   ]
  },
  {
   "cell_type": "code",
   "execution_count": 10,
   "metadata": {},
   "outputs": [
    {
     "data": {
      "text/plain": [
       "hour\n",
       "0     144.402174\n",
       "16    114.146739\n",
       "2     113.070652\n",
       "23    109.766304\n",
       "1     104.364130\n",
       "Name: num_orders, dtype: float64"
      ]
     },
     "execution_count": 10,
     "metadata": {},
     "output_type": "execute_result"
    }
   ],
   "source": [
    "df.groupby('hour')['num_orders'].mean().sort_values(ascending=False).head(5)"
   ]
  },
  {
   "cell_type": "code",
   "execution_count": 11,
   "metadata": {},
   "outputs": [
    {
     "data": {
      "text/plain": [
       "hour\n",
       "6     25.173913\n",
       "7     29.271739\n",
       "5     42.630435\n",
       "12    67.630435\n",
       "18    69.358696\n",
       "Name: num_orders, dtype: float64"
      ]
     },
     "execution_count": 11,
     "metadata": {},
     "output_type": "execute_result"
    }
   ],
   "source": [
    "df.groupby('hour')['num_orders'].mean().sort_values().head(5)"
   ]
  },
  {
   "cell_type": "markdown",
   "metadata": {},
   "source": [
    "В 12 часов ночи - пик заказов такси. Видимо, ночью не работает общественный транспорт, поэтому люди вынуждены ехать на такси.  \n",
    "А утром меньше всего заказов."
   ]
  },
  {
   "cell_type": "code",
   "execution_count": 12,
   "metadata": {},
   "outputs": [
    {
     "data": {
      "image/png": "[encoded data removed]",
      "text/plain": [
       "<Figure size 432x288 with 1 Axes>"
      ]
     },
     "metadata": {
      "needs_background": "light"
     },
     "output_type": "display_data"
    }
   ],
   "source": [
    "decomposed = seasonal_decompose(df.resample('1D').sum()['num_orders'])\n",
    "decomposed.seasonal['2018-03-01':'2018-03-15'].plot()\n",
    "plt.title('Дневная сезонность')\n",
    "plt.show()"
   ]
  },
  {
   "cell_type": "code",
   "execution_count": 13,
   "metadata": {},
   "outputs": [
    {
     "data": {
      "text/plain": [
       "datetime\n",
       "2018-03-01          Среда\n",
       "2018-03-02        Четверг\n",
       "2018-03-03        Пятница\n",
       "2018-03-04        Суббота\n",
       "2018-03-05    Воскресенье\n",
       "2018-03-06    Понедельник\n",
       "2018-03-07        Вторник\n",
       "2018-03-08          Среда\n",
       "2018-03-09        Четверг\n",
       "2018-03-10        Пятница\n",
       "2018-03-11        Суббота\n",
       "2018-03-12    Воскресенье\n",
       "2018-03-13    Понедельник\n",
       "2018-03-14        Вторник\n",
       "2018-03-15          Среда\n",
       "Freq: D, Name: dayofweek, dtype: object"
      ]
     },
     "execution_count": 13,
     "metadata": {},
     "output_type": "execute_result"
    }
   ],
   "source": [
    "df.resample('1D').median()['dayofweek'].map({\n",
    "    1.0: 'Понедельник',\n",
    "    2.0: 'Вторник',\n",
    "    3.0: 'Среда',\n",
    "    4.0: 'Четверг',\n",
    "    5.0: 'Пятница',\n",
    "    6.0: 'Суббота',\n",
    "    0.0: 'Воскресенье',\n",
    "})['2018-03-01':'2018-03-15']"
   ]
  },
  {
   "cell_type": "markdown",
   "metadata": {},
   "source": [
    "Люди чаще всего заказывают такси в четверг и воскресенье. Меньше всего заказов - в понедельник и субботу."
   ]
  },
  {
   "cell_type": "markdown",
   "metadata": {},
   "source": [
    "# Обучение моделей"
   ]
  },
  {
   "cell_type": "markdown",
   "metadata": {},
   "source": [
    "Заново загрузим данные"
   ]
  },
  {
   "cell_type": "code",
   "execution_count": 14,
   "metadata": {},
   "outputs": [],
   "source": [
    "df = pd.read_csv('taxi.csv', parse_dates=[0], index_col=[0])\n",
    "df = df.resample('1H').sum()"
   ]
  },
  {
   "cell_type": "code",
   "execution_count": 15,
   "metadata": {},
   "outputs": [
    {
     "data": {
      "text/html": [
       "<div>\n",
       "<style scoped>\n",
       "    .dataframe tbody tr th:only-of-type {\n",
       "        vertical-align: middle;\n",
       "    }\n",
       "\n",
       "    .dataframe tbody tr th {\n",
       "        vertical-align: top;\n",
       "    }\n",
       "\n",
       "    .dataframe thead th {\n",
       "        text-align: right;\n",
       "    }\n",
       "</style>\n",
       "<table border=\"1\" class=\"dataframe\">\n",
       "  <thead>\n",
       "    <tr style=\"text-align: right;\">\n",
       "      <th></th>\n",
       "      <th>num_orders</th>\n",
       "    </tr>\n",
       "    <tr>\n",
       "      <th>datetime</th>\n",
       "      <th></th>\n",
       "    </tr>\n",
       "  </thead>\n",
       "  <tbody>\n",
       "    <tr>\n",
       "      <th>2018-03-01 00:00:00</th>\n",
       "      <td>124</td>\n",
       "    </tr>\n",
       "    <tr>\n",
       "      <th>2018-03-01 01:00:00</th>\n",
       "      <td>85</td>\n",
       "    </tr>\n",
       "    <tr>\n",
       "      <th>2018-03-01 02:00:00</th>\n",
       "      <td>71</td>\n",
       "    </tr>\n",
       "    <tr>\n",
       "      <th>2018-03-01 03:00:00</th>\n",
       "      <td>66</td>\n",
       "    </tr>\n",
       "    <tr>\n",
       "      <th>2018-03-01 04:00:00</th>\n",
       "      <td>43</td>\n",
       "    </tr>\n",
       "  </tbody>\n",
       "</table>\n",
       "</div>"
      ],
      "text/plain": [
       "                     num_orders\n",
       "datetime                       \n",
       "2018-03-01 00:00:00         124\n",
       "2018-03-01 01:00:00          85\n",
       "2018-03-01 02:00:00          71\n",
       "2018-03-01 03:00:00          66\n",
       "2018-03-01 04:00:00          43"
      ]
     },
     "execution_count": 15,
     "metadata": {},
     "output_type": "execute_result"
    }
   ],
   "source": [
    "df.head()"
   ]
  },
  {
   "cell_type": "markdown",
   "metadata": {},
   "source": [
    "Добавим дополнительные признаки"
   ]
  },
  {
   "cell_type": "code",
   "execution_count": 16,
   "metadata": {},
   "outputs": [
    {
     "data": {
      "text/html": [
       "<div>\n",
       "<style scoped>\n",
       "    .dataframe tbody tr th:only-of-type {\n",
       "        vertical-align: middle;\n",
       "    }\n",
       "\n",
       "    .dataframe tbody tr th {\n",
       "        vertical-align: top;\n",
       "    }\n",
       "\n",
       "    .dataframe thead th {\n",
       "        text-align: right;\n",
       "    }\n",
       "</style>\n",
       "<table border=\"1\" class=\"dataframe\">\n",
       "  <thead>\n",
       "    <tr style=\"text-align: right;\">\n",
       "      <th></th>\n",
       "      <th>num_orders</th>\n",
       "      <th>dayofweek</th>\n",
       "      <th>hour</th>\n",
       "    </tr>\n",
       "    <tr>\n",
       "      <th>datetime</th>\n",
       "      <th></th>\n",
       "      <th></th>\n",
       "      <th></th>\n",
       "    </tr>\n",
       "  </thead>\n",
       "  <tbody>\n",
       "    <tr>\n",
       "      <th>2018-03-01 00:00:00</th>\n",
       "      <td>124</td>\n",
       "      <td>3</td>\n",
       "      <td>0</td>\n",
       "    </tr>\n",
       "    <tr>\n",
       "      <th>2018-03-01 01:00:00</th>\n",
       "      <td>85</td>\n",
       "      <td>3</td>\n",
       "      <td>1</td>\n",
       "    </tr>\n",
       "    <tr>\n",
       "      <th>2018-03-01 02:00:00</th>\n",
       "      <td>71</td>\n",
       "      <td>3</td>\n",
       "      <td>2</td>\n",
       "    </tr>\n",
       "    <tr>\n",
       "      <th>2018-03-01 03:00:00</th>\n",
       "      <td>66</td>\n",
       "      <td>3</td>\n",
       "      <td>3</td>\n",
       "    </tr>\n",
       "    <tr>\n",
       "      <th>2018-03-01 04:00:00</th>\n",
       "      <td>43</td>\n",
       "      <td>3</td>\n",
       "      <td>4</td>\n",
       "    </tr>\n",
       "  </tbody>\n",
       "</table>\n",
       "</div>"
      ],
      "text/plain": [
       "                     num_orders  dayofweek  hour\n",
       "datetime                                        \n",
       "2018-03-01 00:00:00         124          3     0\n",
       "2018-03-01 01:00:00          85          3     1\n",
       "2018-03-01 02:00:00          71          3     2\n",
       "2018-03-01 03:00:00          66          3     3\n",
       "2018-03-01 04:00:00          43          3     4"
      ]
     },
     "execution_count": 16,
     "metadata": {},
     "output_type": "execute_result"
    }
   ],
   "source": [
    "df['dayofweek'] = df.index.dayofweek\n",
    "df['hour'] = df.index.hour\n",
    "df.head()"
   ]
  },
  {
   "cell_type": "markdown",
   "metadata": {},
   "source": [
    "Создадим один признак сдвига в 1 час и признак скользящего среднего, который считается по 24 объектам, т.е. за 1 день"
   ]
  },
  {
   "cell_type": "code",
   "execution_count": 17,
   "metadata": {},
   "outputs": [
    {
     "data": {
      "text/html": [
       "<div>\n",
       "<style scoped>\n",
       "    .dataframe tbody tr th:only-of-type {\n",
       "        vertical-align: middle;\n",
       "    }\n",
       "\n",
       "    .dataframe tbody tr th {\n",
       "        vertical-align: top;\n",
       "    }\n",
       "\n",
       "    .dataframe thead th {\n",
       "        text-align: right;\n",
       "    }\n",
       "</style>\n",
       "<table border=\"1\" class=\"dataframe\">\n",
       "  <thead>\n",
       "    <tr style=\"text-align: right;\">\n",
       "      <th></th>\n",
       "      <th>num_orders</th>\n",
       "      <th>dayofweek</th>\n",
       "      <th>hour</th>\n",
       "      <th>lag_1</th>\n",
       "      <th>rolling_mean</th>\n",
       "    </tr>\n",
       "    <tr>\n",
       "      <th>datetime</th>\n",
       "      <th></th>\n",
       "      <th></th>\n",
       "      <th></th>\n",
       "      <th></th>\n",
       "      <th></th>\n",
       "    </tr>\n",
       "  </thead>\n",
       "  <tbody>\n",
       "    <tr>\n",
       "      <th>2018-03-01 00:00:00</th>\n",
       "      <td>124</td>\n",
       "      <td>3</td>\n",
       "      <td>0</td>\n",
       "      <td>NaN</td>\n",
       "      <td>NaN</td>\n",
       "    </tr>\n",
       "    <tr>\n",
       "      <th>2018-03-01 01:00:00</th>\n",
       "      <td>85</td>\n",
       "      <td>3</td>\n",
       "      <td>1</td>\n",
       "      <td>124.0</td>\n",
       "      <td>NaN</td>\n",
       "    </tr>\n",
       "    <tr>\n",
       "      <th>2018-03-01 02:00:00</th>\n",
       "      <td>71</td>\n",
       "      <td>3</td>\n",
       "      <td>2</td>\n",
       "      <td>85.0</td>\n",
       "      <td>NaN</td>\n",
       "    </tr>\n",
       "    <tr>\n",
       "      <th>2018-03-01 03:00:00</th>\n",
       "      <td>66</td>\n",
       "      <td>3</td>\n",
       "      <td>3</td>\n",
       "      <td>71.0</td>\n",
       "      <td>NaN</td>\n",
       "    </tr>\n",
       "    <tr>\n",
       "      <th>2018-03-01 04:00:00</th>\n",
       "      <td>43</td>\n",
       "      <td>3</td>\n",
       "      <td>4</td>\n",
       "      <td>66.0</td>\n",
       "      <td>NaN</td>\n",
       "    </tr>\n",
       "  </tbody>\n",
       "</table>\n",
       "</div>"
      ],
      "text/plain": [
       "                     num_orders  dayofweek  hour  lag_1  rolling_mean\n",
       "datetime                                                             \n",
       "2018-03-01 00:00:00         124          3     0    NaN           NaN\n",
       "2018-03-01 01:00:00          85          3     1  124.0           NaN\n",
       "2018-03-01 02:00:00          71          3     2   85.0           NaN\n",
       "2018-03-01 03:00:00          66          3     3   71.0           NaN\n",
       "2018-03-01 04:00:00          43          3     4   66.0           NaN"
      ]
     },
     "execution_count": 17,
     "metadata": {},
     "output_type": "execute_result"
    }
   ],
   "source": [
    "df['lag_1'] = df['num_orders'].shift(1)\n",
    "df['rolling_mean'] = df['num_orders'].shift().rolling(24).mean()\n",
    "df.head()"
   ]
  },
  {
   "cell_type": "markdown",
   "metadata": {},
   "source": [
    "Подготовим данные для обучения"
   ]
  },
  {
   "cell_type": "code",
   "execution_count": 18,
   "metadata": {},
   "outputs": [],
   "source": [
    "train, test = train_test_split(df, shuffle=False, test_size=0.1)\n",
    "train = train.dropna()"
   ]
  },
  {
   "cell_type": "code",
   "execution_count": 19,
   "metadata": {},
   "outputs": [
    {
     "data": {
      "text/plain": [
       "((3950, 5), (442, 5))"
      ]
     },
     "execution_count": 19,
     "metadata": {},
     "output_type": "execute_result"
    }
   ],
   "source": [
    "train.shape, test.shape"
   ]
  },
  {
   "cell_type": "code",
   "execution_count": 20,
   "metadata": {},
   "outputs": [],
   "source": [
    "X_train = train.drop('num_orders', axis=1)\n",
    "y_train = train['num_orders']\n",
    "X_test = test.drop('num_orders', axis=1)\n",
    "y_test = test['num_orders']"
   ]
  },
  {
   "cell_type": "code",
   "execution_count": 21,
   "metadata": {},
   "outputs": [],
   "source": [
    "# функция для расчета rmse\n",
    "\n",
    "def rmse(predict, actual):\n",
    "    predict = np.array(predict)\n",
    "    actual = np.array(actual)\n",
    "\n",
    "    distance = predict - actual\n",
    "\n",
    "    square_distance = distance ** 2\n",
    "\n",
    "    mean_square_distance = square_distance.mean()\n",
    "\n",
    "    score = np.sqrt(mean_square_distance)\n",
    "\n",
    "    return score\n",
    "\n",
    "rmse_score = make_scorer(rmse, greater_is_better = False)"
   ]
  },
  {
   "cell_type": "markdown",
   "metadata": {},
   "source": [
    "## Линейная регрессия"
   ]
  },
  {
   "cell_type": "code",
   "execution_count": 22,
   "metadata": {},
   "outputs": [
    {
     "name": "stdout",
     "output_type": "stream",
     "text": [
      "{'copy_X': True, 'fit_intercept': False, 'n_jobs': -1}\n"
     ]
    }
   ],
   "source": [
    "model = LinearRegression()\n",
    "\n",
    "parameters = {\n",
    "    'copy_X': [True, False],\n",
    "    'fit_intercept':[True, False],\n",
    "    'n_jobs': [-1, 1, 2, 3, 4, None]\n",
    "}\n",
    "\n",
    "tscv = TimeSeriesSplit(n_splits=8)\n",
    "grid = GridSearchCV(model, parameters, scoring=rmse_score, n_jobs=-1, cv=tscv)\n",
    "grid.fit(X_train, y_train)\n",
    "print(grid.best_params_)"
   ]
  },
  {
   "cell_type": "code",
   "execution_count": 23,
   "metadata": {},
   "outputs": [
    {
     "name": "stdout",
     "output_type": "stream",
     "text": [
      "51.108283569922236\n"
     ]
    }
   ],
   "source": [
    "model = LinearRegression(copy_X=True, fit_intercept=False, n_jobs=-1)\n",
    "model.fit(X_train, y_train)\n",
    "pred = model.predict(X_test)\n",
    "print(rmse(y_test, pred))"
   ]
  },
  {
   "cell_type": "markdown",
   "metadata": {},
   "source": [
    "## Случайный лес"
   ]
  },
  {
   "cell_type": "code",
   "execution_count": 24,
   "metadata": {},
   "outputs": [],
   "source": [
    "model = RandomForestRegressor(random_state=RAND)\n",
    "\n",
    "parameters = {\n",
    "    'max_depth': [5, 8, 15],\n",
    "    'min_samples_split': [2, 5, 10],\n",
    "    'min_samples_leaf': [1, 2, 5]\n",
    "}\n",
    "\n",
    "tscv = TimeSeriesSplit(n_splits=8)\n",
    "grid = GridSearchCV(model, parameters, scoring=rmse_score, n_jobs=-1, cv=tscv, verbose=100)"
   ]
  },
  {
   "cell_type": "code",
   "execution_count": 25,
   "metadata": {
    "scrolled": true
   },
   "outputs": [],
   "source": [
    "# grid.fit(X_train, y_train)"
   ]
  },
  {
   "cell_type": "code",
   "execution_count": 26,
   "metadata": {},
   "outputs": [],
   "source": [
    "# grid.best_params_\n",
    "\n",
    "# {'max_depth': 15, 'min_samples_leaf': 2, 'min_samples_split': 10}"
   ]
  },
  {
   "cell_type": "code",
   "execution_count": 27,
   "metadata": {},
   "outputs": [],
   "source": [
    "model = RandomForestRegressor(random_state=RAND)\n",
    "\n",
    "parameters = {\n",
    "    'max_depth': [10, 15, 20],\n",
    "    'min_samples_split': [10, 12, 15],\n",
    "    'min_samples_leaf': [2, 3, 4]\n",
    "}\n",
    "\n",
    "tscv = TimeSeriesSplit(n_splits=8)\n",
    "grid = GridSearchCV(model, parameters, scoring=rmse_score, n_jobs=-1, cv=tscv, verbose=100)"
   ]
  },
  {
   "cell_type": "code",
   "execution_count": 28,
   "metadata": {
    "scrolled": true
   },
   "outputs": [],
   "source": [
    "# grid.fit(X_train, y_train)"
   ]
  },
  {
   "cell_type": "code",
   "execution_count": 29,
   "metadata": {
    "scrolled": true
   },
   "outputs": [],
   "source": [
    "# grid.best_params_\n",
    "\n",
    "# {'max_depth': 20, 'min_samples_leaf': 2, 'min_samples_split': 12}"
   ]
  },
  {
   "cell_type": "code",
   "execution_count": 30,
   "metadata": {},
   "outputs": [],
   "source": [
    "model = RandomForestRegressor(min_samples_leaf=2, random_state=RAND)\n",
    "\n",
    "parameters = {\n",
    "    'max_depth': [18, 20, 22],\n",
    "    'min_samples_split': [11, 12, 13]\n",
    "}\n",
    "\n",
    "tscv = TimeSeriesSplit(n_splits=8)\n",
    "grid = GridSearchCV(model, parameters, scoring=rmse_score, n_jobs=-1, cv=tscv, verbose=100)"
   ]
  },
  {
   "cell_type": "code",
   "execution_count": 31,
   "metadata": {
    "scrolled": true
   },
   "outputs": [],
   "source": [
    "# grid.fit(X_train, y_train)"
   ]
  },
  {
   "cell_type": "code",
   "execution_count": 32,
   "metadata": {},
   "outputs": [],
   "source": [
    "# grid.best_params_\n",
    "\n",
    "# {'max_depth': 18, 'min_samples_split': 12}"
   ]
  },
  {
   "cell_type": "code",
   "execution_count": 33,
   "metadata": {},
   "outputs": [],
   "source": [
    "model = RandomForestRegressor(min_samples_leaf=2, min_samples_split=12, random_state=RAND)\n",
    "\n",
    "parameters = {\n",
    "    'max_depth': [16, 17, 18, 19]\n",
    "}\n",
    "\n",
    "tscv = TimeSeriesSplit(n_splits=8)\n",
    "grid = GridSearchCV(model, parameters, scoring=rmse_score, n_jobs=-1, cv=tscv, verbose=100)"
   ]
  },
  {
   "cell_type": "code",
   "execution_count": 34,
   "metadata": {
    "scrolled": true
   },
   "outputs": [],
   "source": [
    "# grid.fit(X_train, y_train)"
   ]
  },
  {
   "cell_type": "code",
   "execution_count": 35,
   "metadata": {},
   "outputs": [],
   "source": [
    "# grid.best_params_\n",
    "\n",
    "# {'max_depth': 18}"
   ]
  },
  {
   "cell_type": "code",
   "execution_count": 36,
   "metadata": {},
   "outputs": [
    {
     "name": "stdout",
     "output_type": "stream",
     "text": [
      "46.021522681035805\n"
     ]
    }
   ],
   "source": [
    "model = RandomForestRegressor(max_depth=18, min_samples_leaf=2, min_samples_split=12, random_state=RAND)\n",
    "model.fit(X_train, y_train)\n",
    "pred = model.predict(X_test)\n",
    "print(rmse(y_test, pred))"
   ]
  },
  {
   "cell_type": "markdown",
   "metadata": {},
   "source": [
    "## LightGBM"
   ]
  },
  {
   "cell_type": "code",
   "execution_count": 37,
   "metadata": {},
   "outputs": [],
   "source": [
    "parameters = {\n",
    "    'max_depth': [5, 7, 10],\n",
    "    'num_leaves': [50, 80, 110],\n",
    "    'n_estimators': [100, 300, 500]\n",
    "}\n",
    "\n",
    "model = LGBMRegressor(random_state=RAND)\n",
    "tscv = TimeSeriesSplit(n_splits=8)\n",
    "grid = GridSearchCV(model, parameters, scoring=rmse_score, n_jobs=-1, cv=tscv, verbose=100)"
   ]
  },
  {
   "cell_type": "code",
   "execution_count": 38,
   "metadata": {
    "scrolled": true
   },
   "outputs": [],
   "source": [
    "# grid.fit(X_train, y_train)"
   ]
  },
  {
   "cell_type": "code",
   "execution_count": 39,
   "metadata": {},
   "outputs": [],
   "source": [
    "# grid.best_params_\n",
    "\n",
    "# {'max_depth': 5, 'n_estimators': 100, 'num_leaves': 50}"
   ]
  },
  {
   "cell_type": "code",
   "execution_count": 40,
   "metadata": {},
   "outputs": [],
   "source": [
    "parameters = {\n",
    "    'max_depth': [4, 5, 6],\n",
    "    'num_leaves': [40, 50, 60],\n",
    "    'n_estimators': [50, 100, 150]\n",
    "}\n",
    "\n",
    "model = LGBMRegressor(random_state=RAND)\n",
    "tscv = TimeSeriesSplit(n_splits=8)\n",
    "grid = GridSearchCV(model, parameters, scoring=rmse_score, n_jobs=-1, cv=tscv, verbose=100)"
   ]
  },
  {
   "cell_type": "code",
   "execution_count": 41,
   "metadata": {
    "scrolled": true
   },
   "outputs": [],
   "source": [
    "# grid.fit(X_train, y_train)"
   ]
  },
  {
   "cell_type": "code",
   "execution_count": 42,
   "metadata": {},
   "outputs": [],
   "source": [
    "# grid.best_params_\n",
    "\n",
    "# {'max_depth': 5, 'n_estimators': 100, 'num_leaves': 40}"
   ]
  },
  {
   "cell_type": "code",
   "execution_count": 43,
   "metadata": {},
   "outputs": [],
   "source": [
    "parameters = {\n",
    "    'num_leaves': [35, 40, 45],\n",
    "    'n_estimators': [80, 100, 120]\n",
    "}\n",
    "\n",
    "model = LGBMRegressor(max_depth=5, random_state=RAND)\n",
    "tscv = TimeSeriesSplit(n_splits=8)\n",
    "grid = GridSearchCV(model, parameters, scoring=rmse_score, n_jobs=-1, cv=tscv, verbose=100)"
   ]
  },
  {
   "cell_type": "code",
   "execution_count": 44,
   "metadata": {
    "scrolled": true
   },
   "outputs": [],
   "source": [
    "# grid.fit(X_train, y_train)"
   ]
  },
  {
   "cell_type": "code",
   "execution_count": 45,
   "metadata": {},
   "outputs": [],
   "source": [
    "# grid.best_params_\n",
    "\n",
    "# {'n_estimators': 100, 'num_leaves': 35}"
   ]
  },
  {
   "cell_type": "code",
   "execution_count": 46,
   "metadata": {},
   "outputs": [],
   "source": [
    "parameters = {\n",
    "    'num_leaves': [25, 30, 35],\n",
    "    'n_estimators': [95, 100, 105]\n",
    "}\n",
    "\n",
    "model = LGBMRegressor(max_depth=5, random_state=RAND)\n",
    "tscv = TimeSeriesSplit(n_splits=8)\n",
    "grid = GridSearchCV(model, parameters, scoring=rmse_score, n_jobs=-1, cv=tscv, verbose=100)"
   ]
  },
  {
   "cell_type": "code",
   "execution_count": 47,
   "metadata": {
    "scrolled": true
   },
   "outputs": [],
   "source": [
    "# grid.fit(X_train, y_train)"
   ]
  },
  {
   "cell_type": "code",
   "execution_count": 48,
   "metadata": {
    "scrolled": true
   },
   "outputs": [],
   "source": [
    "# grid.best_params_\n",
    "\n",
    "# {'n_estimators': 100, 'num_leaves': 30}"
   ]
  },
  {
   "cell_type": "code",
   "execution_count": 49,
   "metadata": {},
   "outputs": [],
   "source": [
    "parameters = {\n",
    "    'num_leaves': [26, 28, 30, 32, 34],\n",
    "    'n_estimators': [96, 98, 100, 102, 104]\n",
    "}\n",
    "\n",
    "model = LGBMRegressor(max_depth=5, random_state=RAND)\n",
    "tscv = TimeSeriesSplit(n_splits=8)\n",
    "grid = GridSearchCV(model, parameters, scoring=rmse_score, n_jobs=-1, cv=tscv, verbose=100)"
   ]
  },
  {
   "cell_type": "code",
   "execution_count": 50,
   "metadata": {
    "scrolled": true
   },
   "outputs": [],
   "source": [
    "# grid.fit(X_train, y_train)"
   ]
  },
  {
   "cell_type": "code",
   "execution_count": 51,
   "metadata": {},
   "outputs": [],
   "source": [
    "# grid.best_params_\n",
    "\n",
    "# {'n_estimators': 102, 'num_leaves': 28}"
   ]
  },
  {
   "cell_type": "code",
   "execution_count": 52,
   "metadata": {},
   "outputs": [
    {
     "name": "stdout",
     "output_type": "stream",
     "text": [
      "43.18571542750772\n"
     ]
    }
   ],
   "source": [
    "model = LGBMRegressor(max_depth=5, n_estimators=102, num_leaves=28, random_state=RAND)\n",
    "model.fit(X_train, y_train)\n",
    "pred = model.predict(X_test)\n",
    "print(rmse(y_test, pred))"
   ]
  },
  {
   "cell_type": "code",
   "execution_count": 53,
   "metadata": {},
   "outputs": [
    {
     "data": {
      "image/png": "[encoded data removed]",
      "text/plain": [
       "<Figure size 432x288 with 1 Axes>"
      ]
     },
     "metadata": {
      "needs_background": "light"
     },
     "output_type": "display_data"
    }
   ],
   "source": [
    "y_pred = pd.Series(model.predict(X_test[:100]), index=y_test[:100].index)\n",
    "y_true = y_test[:100]\n",
    "plt.plot(y_pred, label='pred')\n",
    "plt.plot(y_true, label='true')\n",
    "plt.legend()\n",
    "plt.xticks(rotation=45)\n",
    "plt.show()"
   ]
  },
  {
   "cell_type": "markdown",
   "metadata": {},
   "source": [
    "В интервале пяти дней, предсказанные значения почти совпадают с истинными. Только у истинных значений присутствуют более выразительные колебания"
   ]
  },
  {
   "cell_type": "markdown",
   "metadata": {},
   "source": [
    "# Вывод"
   ]
  },
  {
   "cell_type": "markdown",
   "metadata": {},
   "source": [
    "В этом проекте мы работали с временными рядами, историческими данными о заказах такси в аэропортах. Сначала мы проанализировали данные и пришли к таким выводам:  \n",
    "  \n",
    "1. В течение данного интервала времени (март-сентябрь 2018 года) виден растущий тренд количества заказов такси, но возможно он обусловлен месячной сезонностью. Продажи летом увеличиваются, и именно это мы наблюдаем в наших данных.\n",
    "2. Больше всего заказов приходится в четверг и воскресенье, меньше всего - в субботу и понедельник;  \n",
    "3. В 12 часов ночи - пик заказов такси. Утром меньше всего заказов\n",
    "  \n",
    "Затем мы обучали различные модели, чтобы спрогнозировать количество заказов такси на следующий час. Лучшим оказался градиентный бустинг библиотеки LightGBM. Показатель RMSE на тестовой выборке составил 43"
   ]
  }
 ],
 "metadata": {
  "ExecuteTimeLog": [
   {
    "duration": 994,
    "start_time": "2021-12-08T07:03:54.283Z"
   },
   {
    "duration": 66,
    "start_time": "2021-12-08T07:04:25.317Z"
   },
   {
    "duration": 51,
    "start_time": "2021-12-08T07:04:48.744Z"
   },
   {
    "duration": 9,
    "start_time": "2021-12-08T07:04:56.562Z"
   },
   {
    "duration": 44,
    "start_time": "2021-12-08T07:05:01.890Z"
   },
   {
    "duration": 11,
    "start_time": "2021-12-08T07:05:02.252Z"
   },
   {
    "duration": 51,
    "start_time": "2021-12-08T07:05:13.330Z"
   },
   {
    "duration": 10,
    "start_time": "2021-12-08T07:05:13.844Z"
   },
   {
    "duration": 8,
    "start_time": "2021-12-08T07:05:44.453Z"
   },
   {
    "duration": 18,
    "start_time": "2021-12-08T07:06:30.624Z"
   },
   {
    "duration": 16,
    "start_time": "2021-12-08T07:06:44.112Z"
   },
   {
    "duration": 605,
    "start_time": "2021-12-08T07:06:56.515Z"
   },
   {
    "duration": 514,
    "start_time": "2021-12-08T07:06:59.754Z"
   },
   {
    "duration": 16,
    "start_time": "2021-12-08T07:07:39.989Z"
   },
   {
    "duration": 479,
    "start_time": "2021-12-08T07:07:51.449Z"
   },
   {
    "duration": 446,
    "start_time": "2021-12-08T07:07:56.306Z"
   },
   {
    "duration": 455,
    "start_time": "2021-12-08T07:08:02.671Z"
   },
   {
    "duration": 448,
    "start_time": "2021-12-08T07:08:25.205Z"
   },
   {
    "duration": 440,
    "start_time": "2021-12-08T07:09:04.580Z"
   },
   {
    "duration": 496,
    "start_time": "2021-12-08T07:09:08.189Z"
   },
   {
    "duration": 492,
    "start_time": "2021-12-08T07:10:17.845Z"
   },
   {
    "duration": 466,
    "start_time": "2021-12-08T07:10:21.555Z"
   },
   {
    "duration": 518,
    "start_time": "2021-12-08T07:10:24.058Z"
   },
   {
    "duration": 416,
    "start_time": "2021-12-08T07:11:01.830Z"
   },
   {
    "duration": 4543,
    "start_time": "2021-12-08T07:11:06.722Z"
   },
   {
    "duration": 9,
    "start_time": "2021-12-08T07:11:25.071Z"
   },
   {
    "duration": 493,
    "start_time": "2021-12-08T07:12:10.679Z"
   },
   {
    "duration": 488,
    "start_time": "2021-12-08T07:12:14.172Z"
   },
   {
    "duration": 391,
    "start_time": "2021-12-08T07:20:59.521Z"
   },
   {
    "duration": 383,
    "start_time": "2021-12-08T07:21:04.337Z"
   },
   {
    "duration": 673,
    "start_time": "2021-12-08T07:21:16.924Z"
   },
   {
    "duration": 354,
    "start_time": "2021-12-08T07:25:37.249Z"
   },
   {
    "duration": 18,
    "start_time": "2021-12-08T07:28:27.258Z"
   },
   {
    "duration": 419,
    "start_time": "2021-12-08T07:28:37.480Z"
   },
   {
    "duration": 407,
    "start_time": "2021-12-08T07:28:45.919Z"
   },
   {
    "duration": 11,
    "start_time": "2021-12-08T07:29:12.195Z"
   },
   {
    "duration": 9,
    "start_time": "2021-12-08T07:29:18.104Z"
   },
   {
    "duration": 9,
    "start_time": "2021-12-08T07:29:38.301Z"
   },
   {
    "duration": 330,
    "start_time": "2021-12-08T07:31:29.319Z"
   },
   {
    "duration": 441,
    "start_time": "2021-12-08T07:31:41.040Z"
   },
   {
    "duration": 422,
    "start_time": "2021-12-08T07:31:55.049Z"
   },
   {
    "duration": 531,
    "start_time": "2021-12-08T07:31:57.657Z"
   },
   {
    "duration": 434,
    "start_time": "2021-12-08T07:32:26.461Z"
   },
   {
    "duration": 2261,
    "start_time": "2021-12-08T07:35:27.710Z"
   },
   {
    "duration": 435,
    "start_time": "2021-12-08T07:38:14.424Z"
   },
   {
    "duration": 351,
    "start_time": "2021-12-08T07:38:36.676Z"
   },
   {
    "duration": 339,
    "start_time": "2021-12-08T07:38:41.952Z"
   },
   {
    "duration": 11,
    "start_time": "2021-12-08T07:39:10.230Z"
   },
   {
    "duration": 52,
    "start_time": "2021-12-08T07:39:59.462Z"
   },
   {
    "duration": 8,
    "start_time": "2021-12-08T07:40:00.324Z"
   },
   {
    "duration": 17,
    "start_time": "2021-12-08T07:40:00.860Z"
   },
   {
    "duration": 17,
    "start_time": "2021-12-08T07:40:03.137Z"
   },
   {
    "duration": 400,
    "start_time": "2021-12-08T07:40:04.035Z"
   },
   {
    "duration": 435,
    "start_time": "2021-12-08T07:40:08.711Z"
   },
   {
    "duration": 428,
    "start_time": "2021-12-08T07:40:13.626Z"
   },
   {
    "duration": 406,
    "start_time": "2021-12-08T07:40:19.399Z"
   },
   {
    "duration": 9,
    "start_time": "2021-12-08T07:40:30.259Z"
   },
   {
    "duration": 9,
    "start_time": "2021-12-08T07:40:39.898Z"
   },
   {
    "duration": 429,
    "start_time": "2021-12-08T07:40:46.704Z"
   },
   {
    "duration": 15,
    "start_time": "2021-12-08T07:42:17.614Z"
   },
   {
    "duration": 332,
    "start_time": "2021-12-08T07:43:03.153Z"
   },
   {
    "duration": 321,
    "start_time": "2021-12-08T07:43:22.396Z"
   },
   {
    "duration": 4,
    "start_time": "2021-12-08T07:44:07.152Z"
   },
   {
    "duration": 54,
    "start_time": "2021-12-08T07:44:07.546Z"
   },
   {
    "duration": 15,
    "start_time": "2021-12-08T07:44:08.309Z"
   },
   {
    "duration": 17,
    "start_time": "2021-12-08T07:44:09.719Z"
   },
   {
    "duration": 23,
    "start_time": "2021-12-08T07:44:34.898Z"
   },
   {
    "duration": 428,
    "start_time": "2021-12-08T07:44:40.313Z"
   },
   {
    "duration": 536,
    "start_time": "2021-12-08T07:44:43.307Z"
   },
   {
    "duration": 514,
    "start_time": "2021-12-08T07:44:51.106Z"
   },
   {
    "duration": 9,
    "start_time": "2021-12-08T07:44:55.745Z"
   },
   {
    "duration": 9,
    "start_time": "2021-12-08T07:45:32.775Z"
   },
   {
    "duration": 342,
    "start_time": "2021-12-08T07:46:14.419Z"
   },
   {
    "duration": 555,
    "start_time": "2021-12-08T07:47:29.058Z"
   },
   {
    "duration": 359,
    "start_time": "2021-12-08T07:47:39.354Z"
   },
   {
    "duration": 329,
    "start_time": "2021-12-08T07:48:10.577Z"
   },
   {
    "duration": 346,
    "start_time": "2021-12-08T07:50:09.492Z"
   },
   {
    "duration": 377,
    "start_time": "2021-12-08T07:50:23.034Z"
   },
   {
    "duration": 271,
    "start_time": "2021-12-08T07:50:45.701Z"
   },
   {
    "duration": 280,
    "start_time": "2021-12-08T07:51:09.857Z"
   },
   {
    "duration": 269,
    "start_time": "2021-12-08T07:52:01.604Z"
   },
   {
    "duration": 407,
    "start_time": "2021-12-08T07:52:09.531Z"
   },
   {
    "duration": 236,
    "start_time": "2021-12-08T07:52:48.043Z"
   },
   {
    "duration": -4169,
    "start_time": "2021-12-08T07:53:03.756Z"
   },
   {
    "duration": 278,
    "start_time": "2021-12-08T07:53:01.917Z"
   },
   {
    "duration": 338,
    "start_time": "2021-12-08T07:53:14.513Z"
   },
   {
    "duration": 14,
    "start_time": "2021-12-08T07:54:02.996Z"
   },
   {
    "duration": 21,
    "start_time": "2021-12-08T07:54:09.658Z"
   },
   {
    "duration": 20,
    "start_time": "2021-12-08T07:54:17.995Z"
   },
   {
    "duration": 11,
    "start_time": "2021-12-08T07:54:38.312Z"
   },
   {
    "duration": 21,
    "start_time": "2021-12-08T07:54:42.745Z"
   },
   {
    "duration": 11,
    "start_time": "2021-12-08T07:55:34.371Z"
   },
   {
    "duration": 18,
    "start_time": "2021-12-08T07:55:39.247Z"
   },
   {
    "duration": 22,
    "start_time": "2021-12-08T07:55:48.357Z"
   },
   {
    "duration": 23,
    "start_time": "2021-12-08T07:55:53.954Z"
   },
   {
    "duration": 14,
    "start_time": "2021-12-08T07:56:10.558Z"
   },
   {
    "duration": 14,
    "start_time": "2021-12-08T07:56:55.843Z"
   },
   {
    "duration": 16,
    "start_time": "2021-12-08T07:57:27.605Z"
   },
   {
    "duration": 124,
    "start_time": "2021-12-08T07:57:47.142Z"
   },
   {
    "duration": 14,
    "start_time": "2021-12-08T07:57:51.233Z"
   },
   {
    "duration": 14,
    "start_time": "2021-12-08T07:57:58.398Z"
   },
   {
    "duration": 14,
    "start_time": "2021-12-08T07:59:10.621Z"
   },
   {
    "duration": 15,
    "start_time": "2021-12-08T07:59:19.354Z"
   },
   {
    "duration": 12,
    "start_time": "2021-12-08T08:00:15.260Z"
   },
   {
    "duration": 5,
    "start_time": "2021-12-08T08:01:27.442Z"
   },
   {
    "duration": 364,
    "start_time": "2021-12-08T08:01:57.501Z"
   },
   {
    "duration": 20,
    "start_time": "2021-12-08T08:02:02.060Z"
   },
   {
    "duration": 22,
    "start_time": "2021-12-08T08:02:05.126Z"
   },
   {
    "duration": 331,
    "start_time": "2021-12-08T08:05:40.682Z"
   },
   {
    "duration": 298,
    "start_time": "2021-12-08T08:05:44.592Z"
   },
   {
    "duration": 101,
    "start_time": "2021-12-08T08:06:03.021Z"
   },
   {
    "duration": 10,
    "start_time": "2021-12-08T08:06:09.448Z"
   },
   {
    "duration": 5,
    "start_time": "2021-12-08T08:06:17.571Z"
   },
   {
    "duration": 11,
    "start_time": "2021-12-08T08:06:26.936Z"
   },
   {
    "duration": 5,
    "start_time": "2021-12-08T08:06:27.361Z"
   },
   {
    "duration": 6,
    "start_time": "2021-12-08T08:06:33.151Z"
   },
   {
    "duration": 303,
    "start_time": "2021-12-08T08:06:56.027Z"
   },
   {
    "duration": 8,
    "start_time": "2021-12-08T08:07:38.461Z"
   },
   {
    "duration": 14,
    "start_time": "2021-12-08T08:07:41.397Z"
   },
   {
    "duration": 5,
    "start_time": "2021-12-08T08:08:08.257Z"
   },
   {
    "duration": 5,
    "start_time": "2021-12-08T08:08:15.846Z"
   },
   {
    "duration": 5,
    "start_time": "2021-12-08T08:09:48.996Z"
   },
   {
    "duration": 47,
    "start_time": "2021-12-08T08:10:29.446Z"
   },
   {
    "duration": 7,
    "start_time": "2021-12-08T08:10:30.356Z"
   },
   {
    "duration": 45,
    "start_time": "2021-12-08T08:10:31.848Z"
   },
   {
    "duration": 29,
    "start_time": "2021-12-08T08:10:32.918Z"
   },
   {
    "duration": 21,
    "start_time": "2021-12-08T08:10:36.942Z"
   },
   {
    "duration": 5,
    "start_time": "2021-12-08T08:10:37.523Z"
   },
   {
    "duration": 9,
    "start_time": "2021-12-08T08:10:38.101Z"
   },
   {
    "duration": 114,
    "start_time": "2021-12-08T08:10:38.605Z"
   },
   {
    "duration": 6,
    "start_time": "2021-12-08T08:10:39.735Z"
   },
   {
    "duration": 45,
    "start_time": "2021-12-08T08:10:58.424Z"
   },
   {
    "duration": 6,
    "start_time": "2021-12-08T08:10:59.668Z"
   },
   {
    "duration": 46,
    "start_time": "2021-12-08T08:11:00.057Z"
   },
   {
    "duration": 30,
    "start_time": "2021-12-08T08:11:01.460Z"
   },
   {
    "duration": 25,
    "start_time": "2021-12-08T08:11:02.210Z"
   },
   {
    "duration": 6,
    "start_time": "2021-12-08T08:11:04.052Z"
   },
   {
    "duration": 9,
    "start_time": "2021-12-08T08:11:04.837Z"
   },
   {
    "duration": 108,
    "start_time": "2021-12-08T08:11:05.513Z"
   },
   {
    "duration": 6,
    "start_time": "2021-12-08T08:11:06.715Z"
   },
   {
    "duration": 31,
    "start_time": "2021-12-08T08:11:57.804Z"
   },
   {
    "duration": 3462,
    "start_time": "2021-12-08T08:12:03.388Z"
   },
   {
    "duration": 7,
    "start_time": "2021-12-08T08:12:15.245Z"
   },
   {
    "duration": 1784,
    "start_time": "2021-12-08T08:12:27.233Z"
   },
   {
    "duration": 5,
    "start_time": "2021-12-08T08:12:29.569Z"
   },
   {
    "duration": 2594,
    "start_time": "2021-12-08T08:12:32.643Z"
   },
   {
    "duration": 5,
    "start_time": "2021-12-08T08:12:35.239Z"
   },
   {
    "duration": 5,
    "start_time": "2021-12-08T08:16:36.471Z"
   },
   {
    "duration": 356,
    "start_time": "2021-12-08T08:16:45.907Z"
   },
   {
    "duration": 21,
    "start_time": "2021-12-08T08:17:13.889Z"
   },
   {
    "duration": 5,
    "start_time": "2021-12-08T08:17:21.142Z"
   },
   {
    "duration": 5,
    "start_time": "2021-12-08T08:17:29.550Z"
   },
   {
    "duration": 9,
    "start_time": "2021-12-08T08:18:13.681Z"
   },
   {
    "duration": 5,
    "start_time": "2021-12-08T08:18:15.140Z"
   },
   {
    "duration": 787,
    "start_time": "2021-12-08T08:18:19.867Z"
   },
   {
    "duration": 6,
    "start_time": "2021-12-08T08:18:43.722Z"
   },
   {
    "duration": 28650,
    "start_time": "2021-12-08T08:18:47.482Z"
   },
   {
    "duration": 69,
    "start_time": "2021-12-08T08:20:47.554Z"
   },
   {
    "duration": 44,
    "start_time": "2021-12-08T08:21:10.183Z"
   },
   {
    "duration": 6,
    "start_time": "2021-12-08T08:21:10.722Z"
   },
   {
    "duration": 36,
    "start_time": "2021-12-08T08:21:11.291Z"
   },
   {
    "duration": 25,
    "start_time": "2021-12-08T08:21:11.853Z"
   },
   {
    "duration": 15,
    "start_time": "2021-12-08T08:21:14.122Z"
   },
   {
    "duration": 6,
    "start_time": "2021-12-08T08:21:14.782Z"
   },
   {
    "duration": 8,
    "start_time": "2021-12-08T08:21:18.463Z"
   },
   {
    "duration": 62,
    "start_time": "2021-12-08T08:21:24.159Z"
   },
   {
    "duration": 1078,
    "start_time": "2021-12-09T07:14:52.971Z"
   },
   {
    "duration": 40,
    "start_time": "2021-12-09T07:14:58.463Z"
   },
   {
    "duration": 5,
    "start_time": "2021-12-09T07:14:59.282Z"
   },
   {
    "duration": 314,
    "start_time": "2021-12-09T07:17:02.165Z"
   },
   {
    "duration": 4,
    "start_time": "2021-12-09T07:17:07.216Z"
   },
   {
    "duration": 12,
    "start_time": "2021-12-09T07:18:08.031Z"
   },
   {
    "duration": 13,
    "start_time": "2021-12-09T07:19:43.637Z"
   },
   {
    "duration": 235,
    "start_time": "2021-12-09T07:19:48.927Z"
   },
   {
    "duration": 229,
    "start_time": "2021-12-09T07:20:46.899Z"
   },
   {
    "duration": 227,
    "start_time": "2021-12-09T07:20:52.254Z"
   },
   {
    "duration": 272,
    "start_time": "2021-12-09T07:21:57.573Z"
   },
   {
    "duration": 226,
    "start_time": "2021-12-09T07:22:18.366Z"
   },
   {
    "duration": 7,
    "start_time": "2021-12-09T07:24:07.352Z"
   },
   {
    "duration": 6,
    "start_time": "2021-12-09T07:25:19.101Z"
   },
   {
    "duration": 7,
    "start_time": "2021-12-09T07:25:35.247Z"
   },
   {
    "duration": 149,
    "start_time": "2021-12-09T07:26:24.738Z"
   },
   {
    "duration": 1124,
    "start_time": "2021-12-09T14:29:34.791Z"
   },
   {
    "duration": 41,
    "start_time": "2021-12-09T14:29:35.916Z"
   },
   {
    "duration": 6,
    "start_time": "2021-12-09T14:29:36.110Z"
   },
   {
    "duration": 4,
    "start_time": "2021-12-09T14:29:36.118Z"
   },
   {
    "duration": 14,
    "start_time": "2021-12-09T14:29:36.123Z"
   },
   {
    "duration": 12,
    "start_time": "2021-12-09T14:29:36.139Z"
   },
   {
    "duration": 249,
    "start_time": "2021-12-09T14:29:36.587Z"
   },
   {
    "duration": 234,
    "start_time": "2021-12-09T14:29:36.838Z"
   },
   {
    "duration": 13,
    "start_time": "2021-12-09T14:29:37.075Z"
   },
   {
    "duration": 5,
    "start_time": "2021-12-09T14:29:37.090Z"
   },
   {
    "duration": 156,
    "start_time": "2021-12-09T14:29:37.096Z"
   },
   {
    "duration": 34,
    "start_time": "2021-12-09T14:30:54.718Z"
   },
   {
    "duration": 4,
    "start_time": "2021-12-09T14:31:15.922Z"
   },
   {
    "duration": 38,
    "start_time": "2021-12-09T14:33:53.257Z"
   },
   {
    "duration": 24,
    "start_time": "2021-12-09T14:33:53.402Z"
   },
   {
    "duration": 38,
    "start_time": "2021-12-09T14:34:34.347Z"
   },
   {
    "duration": 4,
    "start_time": "2021-12-09T14:34:35.120Z"
   },
   {
    "duration": 14,
    "start_time": "2021-12-09T14:34:36.245Z"
   },
   {
    "duration": 16,
    "start_time": "2021-12-09T14:34:36.832Z"
   },
   {
    "duration": 8,
    "start_time": "2021-12-09T14:34:43.820Z"
   },
   {
    "duration": 4,
    "start_time": "2021-12-09T14:34:52.249Z"
   },
   {
    "duration": 6,
    "start_time": "2021-12-09T14:34:58.875Z"
   },
   {
    "duration": 3,
    "start_time": "2021-12-09T14:35:01.538Z"
   },
   {
    "duration": 8456,
    "start_time": "2021-12-09T14:35:03.534Z"
   },
   {
    "duration": 9,
    "start_time": "2021-12-09T14:35:16.784Z"
   },
   {
    "duration": 38,
    "start_time": "2021-12-09T14:36:10.915Z"
   },
   {
    "duration": 4,
    "start_time": "2021-12-09T14:36:11.012Z"
   },
   {
    "duration": 12,
    "start_time": "2021-12-09T14:36:12.471Z"
   },
   {
    "duration": 11,
    "start_time": "2021-12-09T14:36:14.271Z"
   },
   {
    "duration": 7,
    "start_time": "2021-12-09T14:36:14.683Z"
   },
   {
    "duration": 4,
    "start_time": "2021-12-09T14:36:16.233Z"
   },
   {
    "duration": 7,
    "start_time": "2021-12-09T14:36:17.375Z"
   },
   {
    "duration": 4,
    "start_time": "2021-12-09T14:36:19.329Z"
   },
   {
    "duration": 1808,
    "start_time": "2021-12-09T14:36:19.589Z"
   },
   {
    "duration": 7,
    "start_time": "2021-12-09T14:36:21.399Z"
   },
   {
    "duration": 38,
    "start_time": "2021-12-09T14:36:58.537Z"
   },
   {
    "duration": 1113,
    "start_time": "2021-12-09T14:38:49.007Z"
   },
   {
    "duration": 41,
    "start_time": "2021-12-09T14:38:50.121Z"
   },
   {
    "duration": 5,
    "start_time": "2021-12-09T14:38:50.164Z"
   },
   {
    "duration": 5,
    "start_time": "2021-12-09T14:38:50.171Z"
   },
   {
    "duration": 19,
    "start_time": "2021-12-09T14:38:50.178Z"
   },
   {
    "duration": 13,
    "start_time": "2021-12-09T14:38:50.199Z"
   },
   {
    "duration": 252,
    "start_time": "2021-12-09T14:38:50.213Z"
   },
   {
    "duration": 237,
    "start_time": "2021-12-09T14:38:50.468Z"
   },
   {
    "duration": 6,
    "start_time": "2021-12-09T14:38:50.707Z"
   },
   {
    "duration": 6,
    "start_time": "2021-12-09T14:38:50.714Z"
   },
   {
    "duration": 170,
    "start_time": "2021-12-09T14:38:50.721Z"
   },
   {
    "duration": 28,
    "start_time": "2021-12-09T14:38:50.893Z"
   },
   {
    "duration": 4,
    "start_time": "2021-12-09T14:38:50.923Z"
   },
   {
    "duration": 335,
    "start_time": "2021-12-09T14:38:50.928Z"
   },
   {
    "duration": -5447,
    "start_time": "2021-12-09T14:38:56.712Z"
   },
   {
    "duration": -5453,
    "start_time": "2021-12-09T14:38:56.719Z"
   },
   {
    "duration": -5456,
    "start_time": "2021-12-09T14:38:56.723Z"
   },
   {
    "duration": -5461,
    "start_time": "2021-12-09T14:38:56.729Z"
   },
   {
    "duration": -5467,
    "start_time": "2021-12-09T14:38:56.735Z"
   },
   {
    "duration": -5471,
    "start_time": "2021-12-09T14:38:56.740Z"
   },
   {
    "duration": 15,
    "start_time": "2021-12-09T14:39:03.455Z"
   },
   {
    "duration": 8,
    "start_time": "2021-12-09T14:39:04.785Z"
   },
   {
    "duration": 4,
    "start_time": "2021-12-09T14:39:06.249Z"
   },
   {
    "duration": 6,
    "start_time": "2021-12-09T14:39:06.742Z"
   },
   {
    "duration": 3,
    "start_time": "2021-12-09T14:39:07.608Z"
   },
   {
    "duration": 6650,
    "start_time": "2021-12-09T14:39:08.942Z"
   },
   {
    "duration": 7,
    "start_time": "2021-12-09T14:39:15.842Z"
   },
   {
    "duration": 106485,
    "start_time": "2021-12-09T14:44:27.639Z"
   },
   {
    "duration": 366,
    "start_time": "2021-12-09T14:46:59.281Z"
   },
   {
    "duration": 11897,
    "start_time": "2021-12-09T14:47:18.248Z"
   },
   {
    "duration": 37075,
    "start_time": "2021-12-09T14:47:53.281Z"
   },
   {
    "duration": 45492,
    "start_time": "2021-12-09T14:48:36.145Z"
   },
   {
    "duration": 23351,
    "start_time": "2021-12-09T14:50:35.557Z"
   },
   {
    "duration": 20344,
    "start_time": "2021-12-09T14:52:04.159Z"
   },
   {
    "duration": 13142,
    "start_time": "2021-12-09T14:52:36.126Z"
   },
   {
    "duration": 15954,
    "start_time": "2021-12-09T14:53:00.798Z"
   },
   {
    "duration": 19464,
    "start_time": "2021-12-09T14:55:12.923Z"
   },
   {
    "duration": 1497,
    "start_time": "2021-12-09T14:57:55.253Z"
   },
   {
    "duration": 1230,
    "start_time": "2021-12-09T14:59:12.719Z"
   },
   {
    "duration": 3,
    "start_time": "2021-12-09T14:59:21.049Z"
   },
   {
    "duration": 1715,
    "start_time": "2021-12-09T15:00:39.504Z"
   },
   {
    "duration": 4440,
    "start_time": "2021-12-09T15:00:49.020Z"
   },
   {
    "duration": 40,
    "start_time": "2021-12-09T15:01:12.294Z"
   },
   {
    "duration": 1593,
    "start_time": "2021-12-09T15:01:54.314Z"
   },
   {
    "duration": 55303,
    "start_time": "2021-12-09T15:02:28.188Z"
   },
   {
    "duration": 250,
    "start_time": "2021-12-09T15:05:33.903Z"
   },
   {
    "duration": 49559,
    "start_time": "2021-12-09T15:05:49.637Z"
   },
   {
    "duration": 59313,
    "start_time": "2021-12-09T15:07:05.194Z"
   },
   {
    "duration": 16186,
    "start_time": "2021-12-09T15:09:11.113Z"
   },
   {
    "duration": 37141,
    "start_time": "2021-12-09T15:10:19.457Z"
   },
   {
    "duration": 10345,
    "start_time": "2021-12-09T15:12:01.353Z"
   },
   {
    "duration": 948,
    "start_time": "2021-12-09T15:13:31.141Z"
   },
   {
    "duration": 119033,
    "start_time": "2021-12-09T15:14:25.190Z"
   },
   {
    "duration": 26265,
    "start_time": "2021-12-09T15:16:29.137Z"
   },
   {
    "duration": 27751,
    "start_time": "2021-12-09T15:17:24.027Z"
   },
   {
    "duration": 15085,
    "start_time": "2021-12-09T15:18:40.744Z"
   },
   {
    "duration": 1583,
    "start_time": "2021-12-09T15:21:24.781Z"
   },
   {
    "duration": 1466,
    "start_time": "2021-12-09T15:21:29.206Z"
   },
   {
    "duration": 1558,
    "start_time": "2021-12-09T15:21:33.384Z"
   },
   {
    "duration": 1685,
    "start_time": "2021-12-09T15:21:38.703Z"
   },
   {
    "duration": 1560,
    "start_time": "2021-12-09T15:21:42.568Z"
   },
   {
    "duration": 614,
    "start_time": "2021-12-09T15:21:47.410Z"
   },
   {
    "duration": 1116,
    "start_time": "2021-12-09T15:21:52.263Z"
   },
   {
    "duration": 1197,
    "start_time": "2021-12-09T15:21:56.146Z"
   },
   {
    "duration": 1278,
    "start_time": "2021-12-09T15:22:00.492Z"
   },
   {
    "duration": 1343,
    "start_time": "2021-12-09T15:22:04.153Z"
   },
   {
    "duration": 1412,
    "start_time": "2021-12-09T15:22:09.238Z"
   },
   {
    "duration": 1333,
    "start_time": "2021-12-09T15:22:13.444Z"
   },
   {
    "duration": 1426,
    "start_time": "2021-12-09T15:22:18.493Z"
   },
   {
    "duration": 1235,
    "start_time": "2021-12-09T15:22:24.008Z"
   },
   {
    "duration": 1416,
    "start_time": "2021-12-09T15:22:28.774Z"
   },
   {
    "duration": 1448,
    "start_time": "2021-12-09T15:22:37.602Z"
   },
   {
    "duration": 1324,
    "start_time": "2021-12-09T15:22:42.907Z"
   },
   {
    "duration": 1243,
    "start_time": "2021-12-09T15:22:46.545Z"
   },
   {
    "duration": 1332,
    "start_time": "2021-12-09T15:22:50.080Z"
   },
   {
    "duration": 1523,
    "start_time": "2021-12-09T15:22:56.136Z"
   },
   {
    "duration": 1514,
    "start_time": "2021-12-09T15:23:01.125Z"
   },
   {
    "duration": 1618,
    "start_time": "2021-12-09T15:23:29.385Z"
   },
   {
    "duration": 1385,
    "start_time": "2021-12-09T15:23:34.808Z"
   },
   {
    "duration": 22403,
    "start_time": "2021-12-09T15:23:52.502Z"
   },
   {
    "duration": 20125,
    "start_time": "2021-12-09T15:24:39.093Z"
   },
   {
    "duration": 1346,
    "start_time": "2021-12-09T15:25:06.451Z"
   },
   {
    "duration": 4005,
    "start_time": "2021-12-09T15:25:32.135Z"
   },
   {
    "duration": 35,
    "start_time": "2021-12-09T15:25:37.099Z"
   },
   {
    "duration": 16,
    "start_time": "2021-12-09T15:27:11.435Z"
   },
   {
    "duration": 650,
    "start_time": "2021-12-09T15:27:15.444Z"
   },
   {
    "duration": 8,
    "start_time": "2021-12-09T15:27:25.221Z"
   },
   {
    "duration": 832,
    "start_time": "2021-12-09T15:27:26.073Z"
   },
   {
    "duration": 7,
    "start_time": "2021-12-09T15:27:31.607Z"
   },
   {
    "duration": 577,
    "start_time": "2021-12-09T15:27:31.922Z"
   },
   {
    "duration": 38,
    "start_time": "2021-12-09T15:27:58.808Z"
   },
   {
    "duration": 5,
    "start_time": "2021-12-09T15:28:02.467Z"
   },
   {
    "duration": 4,
    "start_time": "2021-12-09T15:28:03.838Z"
   },
   {
    "duration": 4,
    "start_time": "2021-12-09T15:28:06.541Z"
   },
   {
    "duration": 271,
    "start_time": "2021-12-09T15:28:10.750Z"
   },
   {
    "duration": 15,
    "start_time": "2021-12-09T15:28:37.812Z"
   },
   {
    "duration": 8,
    "start_time": "2021-12-09T15:28:44.552Z"
   },
   {
    "duration": 4,
    "start_time": "2021-12-09T15:28:44.942Z"
   },
   {
    "duration": 5,
    "start_time": "2021-12-09T15:28:45.395Z"
   },
   {
    "duration": 4,
    "start_time": "2021-12-09T15:28:45.855Z"
   },
   {
    "duration": 6572,
    "start_time": "2021-12-09T15:28:47.419Z"
   },
   {
    "duration": 98,
    "start_time": "2021-12-09T15:28:53.993Z"
   },
   {
    "duration": 1087,
    "start_time": "2021-12-09T15:29:13.014Z"
   },
   {
    "duration": 40,
    "start_time": "2021-12-09T15:29:14.102Z"
   },
   {
    "duration": 5,
    "start_time": "2021-12-09T15:29:14.144Z"
   },
   {
    "duration": 3,
    "start_time": "2021-12-09T15:29:14.151Z"
   },
   {
    "duration": 13,
    "start_time": "2021-12-09T15:29:14.155Z"
   },
   {
    "duration": 24,
    "start_time": "2021-12-09T15:29:14.169Z"
   },
   {
    "duration": 246,
    "start_time": "2021-12-09T15:29:14.194Z"
   },
   {
    "duration": 238,
    "start_time": "2021-12-09T15:29:14.443Z"
   },
   {
    "duration": 6,
    "start_time": "2021-12-09T15:29:14.687Z"
   },
   {
    "duration": 6,
    "start_time": "2021-12-09T15:29:14.695Z"
   },
   {
    "duration": 163,
    "start_time": "2021-12-09T15:29:14.703Z"
   },
   {
    "duration": 31,
    "start_time": "2021-12-09T15:29:14.867Z"
   },
   {
    "duration": 4,
    "start_time": "2021-12-09T15:29:14.899Z"
   },
   {
    "duration": 19,
    "start_time": "2021-12-09T15:29:14.904Z"
   },
   {
    "duration": 6,
    "start_time": "2021-12-09T15:29:14.925Z"
   },
   {
    "duration": 3,
    "start_time": "2021-12-09T15:29:14.933Z"
   },
   {
    "duration": 6,
    "start_time": "2021-12-09T15:29:14.937Z"
   },
   {
    "duration": 5,
    "start_time": "2021-12-09T15:29:14.945Z"
   },
   {
    "duration": 7740,
    "start_time": "2021-12-09T15:29:14.951Z"
   },
   {
    "duration": 8,
    "start_time": "2021-12-09T15:29:22.693Z"
   },
   {
    "duration": 28402,
    "start_time": "2021-12-09T15:29:22.788Z"
   },
   {
    "duration": 11706,
    "start_time": "2021-12-09T15:29:51.193Z"
   },
   {
    "duration": -5591,
    "start_time": "2021-12-09T15:30:08.492Z"
   },
   {
    "duration": -5596,
    "start_time": "2021-12-09T15:30:08.498Z"
   },
   {
    "duration": -5599,
    "start_time": "2021-12-09T15:30:08.502Z"
   },
   {
    "duration": -5603,
    "start_time": "2021-12-09T15:30:08.506Z"
   },
   {
    "duration": -5606,
    "start_time": "2021-12-09T15:30:08.510Z"
   },
   {
    "duration": -5609,
    "start_time": "2021-12-09T15:30:08.514Z"
   },
   {
    "duration": -5612,
    "start_time": "2021-12-09T15:30:08.517Z"
   },
   {
    "duration": -5615,
    "start_time": "2021-12-09T15:30:08.521Z"
   },
   {
    "duration": 27927,
    "start_time": "2021-12-09T15:30:08.625Z"
   },
   {
    "duration": 15935,
    "start_time": "2021-12-09T15:30:41.642Z"
   },
   {
    "duration": 17560,
    "start_time": "2021-12-09T15:31:21.162Z"
   },
   {
    "duration": 24057,
    "start_time": "2021-12-09T15:32:05.979Z"
   },
   {
    "duration": 14459,
    "start_time": "2021-12-09T15:32:36.229Z"
   },
   {
    "duration": 20825,
    "start_time": "2021-12-09T15:33:38.365Z"
   },
   {
    "duration": 23787,
    "start_time": "2021-12-09T15:34:23.220Z"
   },
   {
    "duration": 18463,
    "start_time": "2021-12-09T15:34:58.372Z"
   },
   {
    "duration": 95,
    "start_time": "2021-12-09T15:35:19.242Z"
   },
   {
    "duration": 18467,
    "start_time": "2021-12-09T15:35:24.913Z"
   },
   {
    "duration": 1367,
    "start_time": "2021-12-09T15:36:13.450Z"
   },
   {
    "duration": 4182,
    "start_time": "2021-12-09T15:36:26.708Z"
   },
   {
    "duration": 36,
    "start_time": "2021-12-09T15:36:31.913Z"
   },
   {
    "duration": 62120,
    "start_time": "2021-12-09T15:36:39.470Z"
   },
   {
    "duration": 45556,
    "start_time": "2021-12-09T15:37:55.636Z"
   },
   {
    "duration": 59380,
    "start_time": "2021-12-09T15:38:52.515Z"
   },
   {
    "duration": 39990,
    "start_time": "2021-12-09T15:40:21.907Z"
   },
   {
    "duration": 697,
    "start_time": "2021-12-09T15:41:29.693Z"
   },
   {
    "duration": 43,
    "start_time": "2021-12-09T15:42:14.976Z"
   },
   {
    "duration": 2021,
    "start_time": "2021-12-09T15:42:31.500Z"
   },
   {
    "duration": 1630,
    "start_time": "2021-12-09T15:42:55.598Z"
   },
   {
    "duration": 44978,
    "start_time": "2021-12-09T15:43:01.471Z"
   },
   {
    "duration": 1175,
    "start_time": "2021-12-09T15:44:04.476Z"
   },
   {
    "duration": 40,
    "start_time": "2021-12-09T15:44:05.652Z"
   },
   {
    "duration": 7,
    "start_time": "2021-12-09T15:44:05.693Z"
   },
   {
    "duration": 4,
    "start_time": "2021-12-09T15:44:05.701Z"
   },
   {
    "duration": 18,
    "start_time": "2021-12-09T15:44:05.706Z"
   },
   {
    "duration": 17,
    "start_time": "2021-12-09T15:44:05.725Z"
   },
   {
    "duration": 259,
    "start_time": "2021-12-09T15:44:05.744Z"
   },
   {
    "duration": 240,
    "start_time": "2021-12-09T15:44:06.006Z"
   },
   {
    "duration": 6,
    "start_time": "2021-12-09T15:44:06.248Z"
   },
   {
    "duration": 6,
    "start_time": "2021-12-09T15:44:06.255Z"
   },
   {
    "duration": 173,
    "start_time": "2021-12-09T15:44:06.262Z"
   },
   {
    "duration": 30,
    "start_time": "2021-12-09T15:44:06.437Z"
   },
   {
    "duration": 4,
    "start_time": "2021-12-09T15:44:06.468Z"
   },
   {
    "duration": 46,
    "start_time": "2021-12-09T15:44:06.473Z"
   },
   {
    "duration": 7,
    "start_time": "2021-12-09T15:44:06.520Z"
   },
   {
    "duration": 9,
    "start_time": "2021-12-09T15:44:06.528Z"
   },
   {
    "duration": 62,
    "start_time": "2021-12-09T15:44:06.539Z"
   },
   {
    "duration": 10,
    "start_time": "2021-12-09T15:44:06.603Z"
   },
   {
    "duration": 7174,
    "start_time": "2021-12-09T15:44:06.614Z"
   },
   {
    "duration": 94,
    "start_time": "2021-12-09T15:44:13.794Z"
   },
   {
    "duration": 20592,
    "start_time": "2021-12-09T15:44:13.891Z"
   },
   {
    "duration": 23543,
    "start_time": "2021-12-09T15:44:34.487Z"
   },
   {
    "duration": 18436,
    "start_time": "2021-12-09T15:44:58.033Z"
   },
   {
    "duration": 1581,
    "start_time": "2021-12-09T15:45:16.471Z"
   },
   {
    "duration": 4103,
    "start_time": "2021-12-09T15:45:18.053Z"
   },
   {
    "duration": 53,
    "start_time": "2021-12-09T15:45:22.158Z"
   },
   {
    "duration": 44679,
    "start_time": "2021-12-09T15:45:22.213Z"
   },
   {
    "duration": 60495,
    "start_time": "2021-12-09T15:46:06.894Z"
   },
   {
    "duration": 46105,
    "start_time": "2021-12-09T15:47:07.390Z"
   },
   {
    "duration": 793,
    "start_time": "2021-12-09T15:47:53.497Z"
   },
   {
    "duration": 51,
    "start_time": "2021-12-09T15:49:22.835Z"
   },
   {
    "duration": 683,
    "start_time": "2021-12-09T15:49:26.911Z"
   },
   {
    "duration": 58,
    "start_time": "2021-12-09T15:49:44.466Z"
   },
   {
    "duration": 855,
    "start_time": "2021-12-09T15:49:48.834Z"
   },
   {
    "duration": 37739,
    "start_time": "2021-12-09T15:50:53.467Z"
   },
   {
    "duration": 63974,
    "start_time": "2021-12-09T15:51:53.924Z"
   },
   {
    "duration": 38837,
    "start_time": "2021-12-09T15:55:50.296Z"
   },
   {
    "duration": -5875,
    "start_time": "2021-12-09T15:56:35.010Z"
   },
   {
    "duration": 60,
    "start_time": "2021-12-09T15:56:33.374Z"
   },
   {
    "duration": 1274,
    "start_time": "2021-12-09T15:56:34.214Z"
   },
   {
    "duration": 57,
    "start_time": "2021-12-09T15:56:42.493Z"
   },
   {
    "duration": 735,
    "start_time": "2021-12-09T15:56:42.857Z"
   },
   {
    "duration": 1578,
    "start_time": "2021-12-10T07:00:09.824Z"
   },
   {
    "duration": 54,
    "start_time": "2021-12-10T07:00:11.405Z"
   },
   {
    "duration": 10,
    "start_time": "2021-12-10T07:00:11.462Z"
   },
   {
    "duration": 13,
    "start_time": "2021-12-10T07:00:11.475Z"
   },
   {
    "duration": 35,
    "start_time": "2021-12-10T07:00:11.491Z"
   },
   {
    "duration": 25,
    "start_time": "2021-12-10T07:00:11.528Z"
   },
   {
    "duration": 449,
    "start_time": "2021-12-10T07:00:11.567Z"
   },
   {
    "duration": 469,
    "start_time": "2021-12-10T07:00:12.020Z"
   },
   {
    "duration": 9,
    "start_time": "2021-12-10T07:00:12.492Z"
   },
   {
    "duration": 23,
    "start_time": "2021-12-10T07:00:12.504Z"
   },
   {
    "duration": 295,
    "start_time": "2021-12-10T07:00:12.529Z"
   },
   {
    "duration": 51,
    "start_time": "2021-12-10T07:00:12.826Z"
   },
   {
    "duration": 5,
    "start_time": "2021-12-10T07:00:12.880Z"
   },
   {
    "duration": 46,
    "start_time": "2021-12-10T07:00:12.887Z"
   },
   {
    "duration": 10,
    "start_time": "2021-12-10T07:00:12.936Z"
   },
   {
    "duration": 25,
    "start_time": "2021-12-10T07:00:12.948Z"
   },
   {
    "duration": 19,
    "start_time": "2021-12-10T07:00:12.976Z"
   },
   {
    "duration": 32,
    "start_time": "2021-12-10T07:00:12.997Z"
   },
   {
    "duration": 12740,
    "start_time": "2021-12-10T07:00:13.031Z"
   },
   {
    "duration": 94,
    "start_time": "2021-12-10T07:00:25.774Z"
   },
   {
    "duration": 29823,
    "start_time": "2021-12-10T07:00:25.871Z"
   },
   {
    "duration": 33819,
    "start_time": "2021-12-10T07:00:55.698Z"
   },
   {
    "duration": 26675,
    "start_time": "2021-12-10T07:01:29.521Z"
   },
   {
    "duration": 1947,
    "start_time": "2021-12-10T07:01:56.199Z"
   },
   {
    "duration": 7174,
    "start_time": "2021-12-10T07:01:58.149Z"
   },
   {
    "duration": 93,
    "start_time": "2021-12-10T07:02:05.327Z"
   },
   {
    "duration": 60249,
    "start_time": "2021-12-10T07:02:05.423Z"
   },
   {
    "duration": 78503,
    "start_time": "2021-12-10T07:03:05.674Z"
   },
   {
    "duration": 49712,
    "start_time": "2021-12-10T07:04:24.268Z"
   },
   {
    "duration": 1099,
    "start_time": "2021-12-10T07:05:13.982Z"
   },
   {
    "duration": 138,
    "start_time": "2021-12-10T07:05:15.084Z"
   },
   {
    "duration": 1056,
    "start_time": "2021-12-10T07:05:15.225Z"
   },
   {
    "duration": 154,
    "start_time": "2021-12-10T07:05:16.284Z"
   },
   {
    "duration": 1128,
    "start_time": "2021-12-10T07:05:16.440Z"
   },
   {
    "duration": 7,
    "start_time": "2021-12-10T07:07:23.880Z"
   },
   {
    "duration": 4702,
    "start_time": "2021-12-10T07:12:40.768Z"
   },
   {
    "duration": 4739,
    "start_time": "2021-12-10T07:13:24.129Z"
   },
   {
    "duration": 965,
    "start_time": "2021-12-10T07:13:40.403Z"
   },
   {
    "duration": 4330,
    "start_time": "2021-12-10T07:13:52.638Z"
   },
   {
    "duration": 3919,
    "start_time": "2021-12-10T07:14:16.652Z"
   },
   {
    "duration": 43575,
    "start_time": "2021-12-10T07:15:05.700Z"
   },
   {
    "duration": 428,
    "start_time": "2021-12-10T07:16:40.955Z"
   },
   {
    "duration": 12,
    "start_time": "2021-12-10T07:16:46.888Z"
   },
   {
    "duration": 109,
    "start_time": "2021-12-10T07:17:07.559Z"
   },
   {
    "duration": 16,
    "start_time": "2021-12-10T07:17:16.248Z"
   },
   {
    "duration": 6,
    "start_time": "2021-12-10T07:17:32.125Z"
   },
   {
    "duration": 1298,
    "start_time": "2021-12-10T07:18:53.172Z"
   },
   {
    "duration": 1394,
    "start_time": "2021-12-10T07:19:00.174Z"
   },
   {
    "duration": 1360,
    "start_time": "2021-12-10T07:26:31.961Z"
   },
   {
    "duration": 170210,
    "start_time": "2021-12-10T07:27:04.201Z"
   },
   {
    "duration": 142756,
    "start_time": "2021-12-10T07:29:57.026Z"
   },
   {
    "duration": 368,
    "start_time": "2021-12-10T07:32:39.170Z"
   },
   {
    "duration": 467,
    "start_time": "2021-12-10T07:32:45.111Z"
   },
   {
    "duration": 361,
    "start_time": "2021-12-10T07:32:51.440Z"
   },
   {
    "duration": 377,
    "start_time": "2021-12-10T07:32:56.033Z"
   },
   {
    "duration": 369,
    "start_time": "2021-12-10T07:33:02.454Z"
   },
   {
    "duration": 63351,
    "start_time": "2021-12-10T07:34:45.442Z"
   },
   {
    "duration": 64025,
    "start_time": "2021-12-10T07:35:58.773Z"
   },
   {
    "duration": 55939,
    "start_time": "2021-12-10T07:39:27.036Z"
   },
   {
    "duration": 350,
    "start_time": "2021-12-10T07:41:19.150Z"
   },
   {
    "duration": 494,
    "start_time": "2021-12-10T07:41:34.057Z"
   },
   {
    "duration": 5,
    "start_time": "2021-12-10T07:41:45.156Z"
   },
   {
    "duration": 48545,
    "start_time": "2021-12-10T07:42:25.025Z"
   },
   {
    "duration": 1441,
    "start_time": "2021-12-10T07:44:48.933Z"
   },
   {
    "duration": 1340,
    "start_time": "2021-12-10T07:45:19.820Z"
   },
   {
    "duration": 1272,
    "start_time": "2021-12-10T07:45:55.405Z"
   },
   {
    "duration": 1321,
    "start_time": "2021-12-10T07:46:08.074Z"
   },
   {
    "duration": 1190,
    "start_time": "2021-12-10T07:46:24.165Z"
   },
   {
    "duration": 1210,
    "start_time": "2021-12-10T07:46:38.557Z"
   },
   {
    "duration": 1290,
    "start_time": "2021-12-10T07:46:47.483Z"
   },
   {
    "duration": 1292,
    "start_time": "2021-12-10T07:46:58.175Z"
   },
   {
    "duration": 1605,
    "start_time": "2021-12-10T07:47:33.853Z"
   },
   {
    "duration": 1083,
    "start_time": "2021-12-10T07:48:23.987Z"
   },
   {
    "duration": 1506,
    "start_time": "2021-12-10T07:48:45.900Z"
   },
   {
    "duration": 59,
    "start_time": "2021-12-10T07:48:47.409Z"
   },
   {
    "duration": 8,
    "start_time": "2021-12-10T07:48:47.471Z"
   },
   {
    "duration": 5,
    "start_time": "2021-12-10T07:48:47.482Z"
   },
   {
    "duration": 20,
    "start_time": "2021-12-10T07:48:47.490Z"
   },
   {
    "duration": 56,
    "start_time": "2021-12-10T07:48:47.513Z"
   },
   {
    "duration": 467,
    "start_time": "2021-12-10T07:48:47.571Z"
   },
   {
    "duration": 457,
    "start_time": "2021-12-10T07:48:48.042Z"
   },
   {
    "duration": 9,
    "start_time": "2021-12-10T07:48:48.502Z"
   },
   {
    "duration": 10,
    "start_time": "2021-12-10T07:48:48.513Z"
   },
   {
    "duration": 309,
    "start_time": "2021-12-10T07:48:48.525Z"
   },
   {
    "duration": 54,
    "start_time": "2021-12-10T07:48:48.836Z"
   },
   {
    "duration": 5,
    "start_time": "2021-12-10T07:48:48.893Z"
   },
   {
    "duration": 53,
    "start_time": "2021-12-10T07:48:48.900Z"
   },
   {
    "duration": 13,
    "start_time": "2021-12-10T07:48:48.955Z"
   },
   {
    "duration": 13,
    "start_time": "2021-12-10T07:48:48.970Z"
   },
   {
    "duration": 19,
    "start_time": "2021-12-10T07:48:48.986Z"
   },
   {
    "duration": 12,
    "start_time": "2021-12-10T07:48:49.007Z"
   },
   {
    "duration": 12047,
    "start_time": "2021-12-10T07:48:49.021Z"
   },
   {
    "duration": 94,
    "start_time": "2021-12-10T07:49:01.074Z"
   },
   {
    "duration": 3595,
    "start_time": "2021-12-10T07:49:01.172Z"
   },
   {
    "duration": 41699,
    "start_time": "2021-12-10T07:49:04.771Z"
   },
   {
    "duration": 11,
    "start_time": "2021-12-10T07:49:46.566Z"
   },
   {
    "duration": 29132,
    "start_time": "2021-12-10T07:49:46.580Z"
   },
   {
    "duration": 33591,
    "start_time": "2021-12-10T07:50:15.715Z"
   },
   {
    "duration": 26338,
    "start_time": "2021-12-10T07:50:49.308Z"
   },
   {
    "duration": 2001,
    "start_time": "2021-12-10T07:51:15.649Z"
   },
   {
    "duration": 6907,
    "start_time": "2021-12-10T07:51:17.652Z"
   },
   {
    "duration": 59,
    "start_time": "2021-12-10T07:51:24.561Z"
   },
   {
    "duration": 58655,
    "start_time": "2021-12-10T07:51:24.623Z"
   },
   {
    "duration": 101189,
    "start_time": "2021-12-10T07:52:23.280Z"
   },
   {
    "duration": 55098,
    "start_time": "2021-12-10T07:54:04.472Z"
   },
   {
    "duration": 1211,
    "start_time": "2021-12-10T07:54:59.572Z"
   },
   {
    "duration": 53901,
    "start_time": "2021-12-10T07:55:00.785Z"
   },
   {
    "duration": 53898,
    "start_time": "2021-12-10T07:55:54.688Z"
   },
   {
    "duration": 1093,
    "start_time": "2021-12-10T07:56:48.589Z"
   },
   {
    "duration": 1568,
    "start_time": "2021-12-10T09:54:34.310Z"
   },
   {
    "duration": 54,
    "start_time": "2021-12-10T09:54:35.880Z"
   },
   {
    "duration": 8,
    "start_time": "2021-12-10T09:54:35.937Z"
   },
   {
    "duration": 5,
    "start_time": "2021-12-10T09:54:35.948Z"
   },
   {
    "duration": 21,
    "start_time": "2021-12-10T09:54:36.111Z"
   },
   {
    "duration": 22,
    "start_time": "2021-12-10T09:55:19.487Z"
   },
   {
    "duration": 538,
    "start_time": "2021-12-10T09:55:20.085Z"
   },
   {
    "duration": 429,
    "start_time": "2021-12-10T09:55:21.164Z"
   },
   {
    "duration": 11,
    "start_time": "2021-12-10T09:55:23.156Z"
   },
   {
    "duration": 9,
    "start_time": "2021-12-10T09:55:23.765Z"
   },
   {
    "duration": 51,
    "start_time": "2021-12-10T09:56:36.257Z"
   },
   {
    "duration": 6,
    "start_time": "2021-12-10T09:56:36.680Z"
   },
   {
    "duration": 22,
    "start_time": "2021-12-10T09:57:33.328Z"
   },
   {
    "duration": 11,
    "start_time": "2021-12-10T09:57:57.185Z"
   },
   {
    "duration": 5,
    "start_time": "2021-12-10T09:57:57.728Z"
   },
   {
    "duration": 7,
    "start_time": "2021-12-10T09:57:57.909Z"
   },
   {
    "duration": 5,
    "start_time": "2021-12-10T09:57:58.491Z"
   },
   {
    "duration": 14302,
    "start_time": "2021-12-10T09:58:18.416Z"
   },
   {
    "duration": 11,
    "start_time": "2021-12-10T09:58:32.721Z"
   },
   {
    "duration": 4092,
    "start_time": "2021-12-10T09:58:32.735Z"
   },
   {
    "duration": 40499,
    "start_time": "2021-12-10T09:58:36.920Z"
   },
   {
    "duration": 100,
    "start_time": "2021-12-10T09:59:17.422Z"
   },
   {
    "duration": 33012,
    "start_time": "2021-12-10T10:00:17.170Z"
   },
   {
    "duration": 1915,
    "start_time": "2021-12-10T10:00:50.184Z"
   },
   {
    "duration": 1146,
    "start_time": "2021-12-11T07:42:40.714Z"
   },
   {
    "duration": 45,
    "start_time": "2021-12-11T07:42:44.645Z"
   },
   {
    "duration": 7,
    "start_time": "2021-12-11T07:42:47.676Z"
   },
   {
    "duration": 4,
    "start_time": "2021-12-11T07:42:52.349Z"
   },
   {
    "duration": 15,
    "start_time": "2021-12-11T07:42:55.999Z"
   },
   {
    "duration": 14,
    "start_time": "2021-12-11T07:43:11.911Z"
   },
   {
    "duration": 290,
    "start_time": "2021-12-11T07:43:54.573Z"
   },
   {
    "duration": 305,
    "start_time": "2021-12-11T07:44:15.975Z"
   },
   {
    "duration": 251,
    "start_time": "2021-12-11T07:44:32.796Z"
   },
   {
    "duration": 306,
    "start_time": "2021-12-11T07:44:46.744Z"
   },
   {
    "duration": 322,
    "start_time": "2021-12-11T07:44:50.271Z"
   },
   {
    "duration": 389,
    "start_time": "2021-12-11T07:44:57.229Z"
   },
   {
    "duration": 327,
    "start_time": "2021-12-11T07:45:02.201Z"
   },
   {
    "duration": 299,
    "start_time": "2021-12-11T07:45:05.720Z"
   },
   {
    "duration": 292,
    "start_time": "2021-12-11T07:45:09.180Z"
   },
   {
    "duration": 250,
    "start_time": "2021-12-11T07:45:13.409Z"
   },
   {
    "duration": 257,
    "start_time": "2021-12-11T07:45:21.491Z"
   },
   {
    "duration": 265,
    "start_time": "2021-12-11T07:45:33.560Z"
   },
   {
    "duration": 6,
    "start_time": "2021-12-11T07:47:53.496Z"
   },
   {
    "duration": 2946,
    "start_time": "2021-12-11T07:50:46.172Z"
   },
   {
    "duration": 241,
    "start_time": "2021-12-11T07:51:14.802Z"
   },
   {
    "duration": 216,
    "start_time": "2021-12-11T07:51:25.364Z"
   },
   {
    "duration": 170,
    "start_time": "2021-12-11T07:52:40.387Z"
   },
   {
    "duration": 216,
    "start_time": "2021-12-11T07:53:36.675Z"
   },
   {
    "duration": 208,
    "start_time": "2021-12-11T07:53:53.469Z"
   },
   {
    "duration": 283,
    "start_time": "2021-12-11T07:54:13.423Z"
   },
   {
    "duration": 250,
    "start_time": "2021-12-11T07:54:36.751Z"
   },
   {
    "duration": 203,
    "start_time": "2021-12-11T07:55:40.323Z"
   },
   {
    "duration": 173,
    "start_time": "2021-12-11T07:56:02.406Z"
   },
   {
    "duration": 226,
    "start_time": "2021-12-11T07:56:28.709Z"
   },
   {
    "duration": 194,
    "start_time": "2021-12-11T07:56:46.066Z"
   },
   {
    "duration": 214,
    "start_time": "2021-12-11T07:57:26.547Z"
   },
   {
    "duration": 202,
    "start_time": "2021-12-11T07:57:31.557Z"
   },
   {
    "duration": 218,
    "start_time": "2021-12-11T07:57:37.550Z"
   },
   {
    "duration": 229,
    "start_time": "2021-12-11T07:57:46.776Z"
   },
   {
    "duration": 210,
    "start_time": "2021-12-11T07:58:13.761Z"
   },
   {
    "duration": 197,
    "start_time": "2021-12-11T07:58:18.641Z"
   },
   {
    "duration": 256,
    "start_time": "2021-12-11T07:58:50.401Z"
   },
   {
    "duration": 178,
    "start_time": "2021-12-11T07:59:06.346Z"
   },
   {
    "duration": 235,
    "start_time": "2021-12-11T07:59:10.489Z"
   },
   {
    "duration": 271,
    "start_time": "2021-12-11T07:59:33.061Z"
   },
   {
    "duration": 222,
    "start_time": "2021-12-11T07:59:53.755Z"
   },
   {
    "duration": 5,
    "start_time": "2021-12-11T08:04:20.862Z"
   },
   {
    "duration": 15,
    "start_time": "2021-12-11T08:04:26.532Z"
   },
   {
    "duration": 17,
    "start_time": "2021-12-11T08:04:47.967Z"
   },
   {
    "duration": 10,
    "start_time": "2021-12-11T08:05:06.548Z"
   },
   {
    "duration": 10,
    "start_time": "2021-12-11T08:05:53.373Z"
   },
   {
    "duration": 13,
    "start_time": "2021-12-11T08:07:27.087Z"
   },
   {
    "duration": 7,
    "start_time": "2021-12-11T08:09:58.470Z"
   },
   {
    "duration": 7,
    "start_time": "2021-12-11T08:10:04.341Z"
   },
   {
    "duration": 7,
    "start_time": "2021-12-11T08:10:17.654Z"
   },
   {
    "duration": 8,
    "start_time": "2021-12-11T08:10:27.745Z"
   },
   {
    "duration": 7,
    "start_time": "2021-12-11T08:10:33.685Z"
   },
   {
    "duration": 7,
    "start_time": "2021-12-11T08:11:09.643Z"
   },
   {
    "duration": 362,
    "start_time": "2021-12-11T08:13:44.503Z"
   },
   {
    "duration": 251,
    "start_time": "2021-12-11T08:13:48.612Z"
   },
   {
    "duration": 179,
    "start_time": "2021-12-11T08:14:56.610Z"
   },
   {
    "duration": 212,
    "start_time": "2021-12-11T08:28:19.201Z"
   },
   {
    "duration": 264,
    "start_time": "2021-12-11T08:28:32.610Z"
   },
   {
    "duration": 182,
    "start_time": "2021-12-11T08:29:02.205Z"
   },
   {
    "duration": 165,
    "start_time": "2021-12-11T08:29:34.391Z"
   },
   {
    "duration": 165,
    "start_time": "2021-12-11T08:29:47.365Z"
   },
   {
    "duration": 148,
    "start_time": "2021-12-11T08:30:41.755Z"
   },
   {
    "duration": 232,
    "start_time": "2021-12-11T08:30:51.818Z"
   },
   {
    "duration": 265,
    "start_time": "2021-12-11T08:31:14.429Z"
   },
   {
    "duration": 339,
    "start_time": "2021-12-11T08:31:32.663Z"
   },
   {
    "duration": 314,
    "start_time": "2021-12-11T08:31:43.509Z"
   },
   {
    "duration": 249,
    "start_time": "2021-12-11T08:32:23.876Z"
   },
   {
    "duration": 262,
    "start_time": "2021-12-11T08:32:38.097Z"
   },
   {
    "duration": 245,
    "start_time": "2021-12-11T08:32:50.585Z"
   },
   {
    "duration": 245,
    "start_time": "2021-12-11T08:34:08.307Z"
   },
   {
    "duration": 245,
    "start_time": "2021-12-11T08:34:14.629Z"
   },
   {
    "duration": 40,
    "start_time": "2021-12-11T08:34:28.871Z"
   },
   {
    "duration": 4,
    "start_time": "2021-12-11T08:34:31.491Z"
   },
   {
    "duration": 9,
    "start_time": "2021-12-11T08:35:49.336Z"
   },
   {
    "duration": 9,
    "start_time": "2021-12-11T08:36:10.819Z"
   },
   {
    "duration": 4,
    "start_time": "2021-12-11T08:36:13.469Z"
   },
   {
    "duration": 5,
    "start_time": "2021-12-11T08:36:18.712Z"
   },
   {
    "duration": 4,
    "start_time": "2021-12-11T08:36:22.204Z"
   },
   {
    "duration": 379,
    "start_time": "2021-12-11T08:36:24.813Z"
   },
   {
    "duration": 7,
    "start_time": "2021-12-11T08:36:26.559Z"
   },
   {
    "duration": 169,
    "start_time": "2021-12-11T08:36:39.827Z"
   },
   {
    "duration": 1478,
    "start_time": "2021-12-11T08:36:44.110Z"
   },
   {
    "duration": 7,
    "start_time": "2021-12-11T08:36:56.805Z"
   },
   {
    "duration": 6789,
    "start_time": "2021-12-11T08:37:52.456Z"
   },
   {
    "duration": 179,
    "start_time": "2021-12-11T08:40:15.109Z"
   },
   {
    "duration": 4,
    "start_time": "2021-12-11T08:41:17.310Z"
   },
   {
    "duration": 4987,
    "start_time": "2021-12-11T08:41:26.567Z"
   },
   {
    "duration": 1524,
    "start_time": "2021-12-11T08:42:06.167Z"
   },
   {
    "duration": 177,
    "start_time": "2021-12-11T08:42:15.287Z"
   },
   {
    "duration": 180,
    "start_time": "2021-12-11T08:42:25.638Z"
   },
   {
    "duration": 173,
    "start_time": "2021-12-11T08:42:32.805Z"
   },
   {
    "duration": 1596,
    "start_time": "2021-12-11T08:42:38.069Z"
   },
   {
    "duration": 382,
    "start_time": "2021-12-11T08:42:47.936Z"
   },
   {
    "duration": 7,
    "start_time": "2021-12-11T08:42:54.148Z"
   },
   {
    "duration": 179,
    "start_time": "2021-12-11T08:42:56.703Z"
   },
   {
    "duration": 1523,
    "start_time": "2021-12-11T08:42:58.184Z"
   },
   {
    "duration": 4546,
    "start_time": "2021-12-11T08:43:08.174Z"
   },
   {
    "duration": 4952,
    "start_time": "2021-12-11T08:44:06.282Z"
   },
   {
    "duration": 3667,
    "start_time": "2021-12-11T08:44:22.659Z"
   },
   {
    "duration": 9950,
    "start_time": "2021-12-11T08:44:32.017Z"
   },
   {
    "duration": 202,
    "start_time": "2021-12-11T08:44:53.841Z"
   },
   {
    "duration": 206,
    "start_time": "2021-12-11T08:45:04.493Z"
   },
   {
    "duration": 208,
    "start_time": "2021-12-11T08:45:08.164Z"
   },
   {
    "duration": 1908,
    "start_time": "2021-12-11T08:45:19.095Z"
   },
   {
    "duration": 2839,
    "start_time": "2021-12-11T08:45:22.787Z"
   },
   {
    "duration": 5273,
    "start_time": "2021-12-11T08:45:36.222Z"
   },
   {
    "duration": 200,
    "start_time": "2021-12-11T08:45:49.479Z"
   },
   {
    "duration": 4996,
    "start_time": "2021-12-11T08:46:01.271Z"
   },
   {
    "duration": 8180,
    "start_time": "2021-12-11T08:46:16.157Z"
   },
   {
    "duration": 2152,
    "start_time": "2021-12-11T08:46:35.512Z"
   },
   {
    "duration": 2116,
    "start_time": "2021-12-11T08:46:45.152Z"
   },
   {
    "duration": 2119,
    "start_time": "2021-12-11T08:46:54.803Z"
   },
   {
    "duration": 3154,
    "start_time": "2021-12-11T08:47:00.464Z"
   },
   {
    "duration": 2097,
    "start_time": "2021-12-11T08:47:07.443Z"
   },
   {
    "duration": 8268,
    "start_time": "2021-12-11T08:47:30.413Z"
   },
   {
    "duration": 589,
    "start_time": "2021-12-11T08:47:57.172Z"
   },
   {
    "duration": 579,
    "start_time": "2021-12-11T08:48:30.553Z"
   },
   {
    "duration": 964,
    "start_time": "2021-12-11T08:48:43.954Z"
   },
   {
    "duration": 13,
    "start_time": "2021-12-11T08:48:53.517Z"
   },
   {
    "duration": 122931,
    "start_time": "2021-12-11T08:49:05.254Z"
   },
   {
    "duration": 1094,
    "start_time": "2021-12-11T08:51:22.754Z"
   },
   {
    "duration": 46,
    "start_time": "2021-12-11T08:51:27.213Z"
   },
   {
    "duration": 10,
    "start_time": "2021-12-11T08:51:28.897Z"
   },
   {
    "duration": 4,
    "start_time": "2021-12-11T08:51:31.113Z"
   },
   {
    "duration": 14,
    "start_time": "2021-12-11T08:51:32.037Z"
   },
   {
    "duration": 15,
    "start_time": "2021-12-11T08:51:34.757Z"
   },
   {
    "duration": 287,
    "start_time": "2021-12-11T08:51:39.576Z"
   },
   {
    "duration": 211,
    "start_time": "2021-12-11T08:52:26.788Z"
   },
   {
    "duration": 8,
    "start_time": "2021-12-11T08:52:30.165Z"
   },
   {
    "duration": 7,
    "start_time": "2021-12-11T08:52:30.954Z"
   },
   {
    "duration": 207,
    "start_time": "2021-12-11T08:52:49.723Z"
   },
   {
    "duration": 11,
    "start_time": "2021-12-11T08:52:51.917Z"
   },
   {
    "duration": 42,
    "start_time": "2021-12-11T08:53:03.415Z"
   },
   {
    "duration": 4,
    "start_time": "2021-12-11T08:53:06.937Z"
   },
   {
    "duration": 7,
    "start_time": "2021-12-11T08:53:12.864Z"
   },
   {
    "duration": 8,
    "start_time": "2021-12-11T08:53:15.384Z"
   },
   {
    "duration": 4,
    "start_time": "2021-12-11T08:53:16.120Z"
   },
   {
    "duration": 5,
    "start_time": "2021-12-11T08:53:17.494Z"
   },
   {
    "duration": 4,
    "start_time": "2021-12-11T08:53:20.075Z"
   },
   {
    "duration": 382,
    "start_time": "2021-12-11T08:53:24.228Z"
   },
   {
    "duration": 7,
    "start_time": "2021-12-11T08:53:26.728Z"
   },
   {
    "duration": 589,
    "start_time": "2021-12-11T08:54:40.813Z"
   },
   {
    "duration": 7,
    "start_time": "2021-12-11T08:54:44.532Z"
   },
   {
    "duration": 584,
    "start_time": "2021-12-11T08:55:38.959Z"
   },
   {
    "duration": 7,
    "start_time": "2021-12-11T08:55:40.171Z"
   },
   {
    "duration": 15628,
    "start_time": "2021-12-11T08:55:44.872Z"
   },
   {
    "duration": 10202,
    "start_time": "2021-12-11T08:56:28.884Z"
   },
   {
    "duration": 2005,
    "start_time": "2021-12-11T08:56:45.086Z"
   },
   {
    "duration": 3026,
    "start_time": "2021-12-11T08:56:53.583Z"
   },
   {
    "duration": 12775,
    "start_time": "2021-12-11T08:57:11.404Z"
   },
   {
    "duration": 578,
    "start_time": "2021-12-11T08:57:37.366Z"
   },
   {
    "duration": 379130,
    "start_time": "2021-12-11T08:58:02.450Z"
   },
   {
    "duration": 84579,
    "start_time": "2021-12-11T09:05:19.825Z"
   },
   {
    "duration": 76859,
    "start_time": "2021-12-11T09:07:00.147Z"
   },
   {
    "duration": 3917,
    "start_time": "2021-12-11T09:08:20.575Z"
   },
   {
    "duration": 396,
    "start_time": "2021-12-11T09:08:33.207Z"
   },
   {
    "duration": 285,
    "start_time": "2021-12-11T09:08:39.409Z"
   },
   {
    "duration": 246,
    "start_time": "2021-12-11T09:08:47.057Z"
   },
   {
    "duration": 201,
    "start_time": "2021-12-11T09:08:50.700Z"
   },
   {
    "duration": 320,
    "start_time": "2021-12-11T09:08:52.989Z"
   },
   {
    "duration": 46,
    "start_time": "2021-12-11T09:08:55.558Z"
   },
   {
    "duration": 10734,
    "start_time": "2021-12-11T09:09:00.278Z"
   },
   {
    "duration": 6323,
    "start_time": "2021-12-11T09:09:15.585Z"
   },
   {
    "duration": 4009,
    "start_time": "2021-12-11T09:09:24.090Z"
   },
   {
    "duration": 1296,
    "start_time": "2021-12-11T09:09:32.113Z"
   },
   {
    "duration": 2974,
    "start_time": "2021-12-11T09:09:40.531Z"
   },
   {
    "duration": 6581,
    "start_time": "2021-12-11T09:09:46.529Z"
   },
   {
    "duration": 247,
    "start_time": "2021-12-11T09:10:01.056Z"
   },
   {
    "duration": 235,
    "start_time": "2021-12-11T09:10:05.560Z"
   },
   {
    "duration": 273,
    "start_time": "2021-12-11T09:10:09.433Z"
   },
   {
    "duration": 309,
    "start_time": "2021-12-11T09:10:12.591Z"
   },
   {
    "duration": 2072,
    "start_time": "2021-12-11T09:10:16.425Z"
   },
   {
    "duration": 2377,
    "start_time": "2021-12-11T09:10:21.216Z"
   },
   {
    "duration": 1369,
    "start_time": "2021-12-11T09:10:26.027Z"
   },
   {
    "duration": 304,
    "start_time": "2021-12-11T09:11:07.400Z"
   },
   {
    "duration": 35413,
    "start_time": "2021-12-11T09:11:26.980Z"
   },
   {
    "duration": 100044,
    "start_time": "2021-12-11T09:12:51.672Z"
   },
   {
    "duration": 9271,
    "start_time": "2021-12-11T09:14:34.932Z"
   },
   {
    "duration": 1110,
    "start_time": "2021-12-11T09:16:45.746Z"
   },
   {
    "duration": 47,
    "start_time": "2021-12-11T09:16:46.858Z"
   },
   {
    "duration": 7,
    "start_time": "2021-12-11T09:16:46.908Z"
   },
   {
    "duration": 3,
    "start_time": "2021-12-11T09:16:46.917Z"
   },
   {
    "duration": 16,
    "start_time": "2021-12-11T09:16:46.922Z"
   },
   {
    "duration": 14,
    "start_time": "2021-12-11T09:16:46.940Z"
   },
   {
    "duration": 316,
    "start_time": "2021-12-11T09:16:46.956Z"
   },
   {
    "duration": 196,
    "start_time": "2021-12-11T09:16:47.275Z"
   },
   {
    "duration": 19,
    "start_time": "2021-12-11T09:16:47.474Z"
   },
   {
    "duration": 7,
    "start_time": "2021-12-11T09:16:47.494Z"
   },
   {
    "duration": 228,
    "start_time": "2021-12-11T09:16:47.503Z"
   },
   {
    "duration": 11,
    "start_time": "2021-12-11T09:16:47.733Z"
   },
   {
    "duration": 44,
    "start_time": "2021-12-11T09:16:47.746Z"
   },
   {
    "duration": 4,
    "start_time": "2021-12-11T09:16:47.792Z"
   },
   {
    "duration": 9,
    "start_time": "2021-12-11T09:16:47.798Z"
   },
   {
    "duration": 6,
    "start_time": "2021-12-11T09:16:47.809Z"
   },
   {
    "duration": 4,
    "start_time": "2021-12-11T09:16:47.816Z"
   },
   {
    "duration": 6,
    "start_time": "2021-12-11T09:16:47.822Z"
   },
   {
    "duration": 5,
    "start_time": "2021-12-11T09:16:47.830Z"
   },
   {
    "duration": 642,
    "start_time": "2021-12-11T09:16:47.837Z"
   },
   {
    "duration": 10,
    "start_time": "2021-12-11T09:16:48.481Z"
   },
   {
    "duration": 10446,
    "start_time": "2021-12-11T09:16:48.493Z"
   },
   {
    "duration": 3142,
    "start_time": "2021-12-11T09:16:58.941Z"
   },
   {
    "duration": 13132,
    "start_time": "2021-12-11T09:17:02.085Z"
   },
   {
    "duration": 582,
    "start_time": "2021-12-11T09:17:15.219Z"
   },
   {
    "duration": 27396,
    "start_time": "2021-12-11T09:17:15.802Z"
   },
   {
    "duration": 53706,
    "start_time": "2021-12-11T09:17:43.200Z"
   },
   {
    "duration": 145293,
    "start_time": "2021-12-11T09:18:36.909Z"
   },
   {
    "duration": 396,
    "start_time": "2021-12-11T09:21:02.205Z"
   },
   {
    "duration": 40,
    "start_time": "2021-12-11T09:26:37.723Z"
   },
   {
    "duration": 5,
    "start_time": "2021-12-11T09:26:39.776Z"
   },
   {
    "duration": 6,
    "start_time": "2021-12-11T09:26:40.706Z"
   },
   {
    "duration": 7,
    "start_time": "2021-12-11T09:26:50.808Z"
   },
   {
    "duration": 4,
    "start_time": "2021-12-11T09:26:50.816Z"
   },
   {
    "duration": 5,
    "start_time": "2021-12-11T09:26:51.425Z"
   },
   {
    "duration": 5,
    "start_time": "2021-12-11T09:26:52.735Z"
   },
   {
    "duration": 590,
    "start_time": "2021-12-11T09:26:54.050Z"
   },
   {
    "duration": 6,
    "start_time": "2021-12-11T09:26:55.674Z"
   },
   {
    "duration": 10134,
    "start_time": "2021-12-11T09:26:58.012Z"
   },
   {
    "duration": 12811,
    "start_time": "2021-12-11T09:27:16.265Z"
   },
   {
    "duration": 3042,
    "start_time": "2021-12-11T09:27:29.078Z"
   },
   {
    "duration": 302,
    "start_time": "2021-12-11T09:29:31.901Z"
   },
   {
    "duration": 14,
    "start_time": "2021-12-11T09:29:42.276Z"
   },
   {
    "duration": 9,
    "start_time": "2021-12-11T09:29:50.648Z"
   },
   {
    "duration": 11,
    "start_time": "2021-12-11T09:30:00.907Z"
   },
   {
    "duration": 4,
    "start_time": "2021-12-11T09:30:28.369Z"
   },
   {
    "duration": 12,
    "start_time": "2021-12-11T09:30:34.998Z"
   },
   {
    "duration": 11,
    "start_time": "2021-12-11T09:31:14.744Z"
   },
   {
    "duration": 182,
    "start_time": "2021-12-11T09:31:47.379Z"
   },
   {
    "duration": 91,
    "start_time": "2021-12-11T09:32:03.105Z"
   },
   {
    "duration": 175,
    "start_time": "2021-12-11T09:32:19.543Z"
   },
   {
    "duration": 189,
    "start_time": "2021-12-11T09:32:31.105Z"
   },
   {
    "duration": 181,
    "start_time": "2021-12-11T09:33:25.011Z"
   },
   {
    "duration": 229,
    "start_time": "2021-12-11T09:33:56.484Z"
   },
   {
    "duration": 454,
    "start_time": "2021-12-11T09:34:12.673Z"
   },
   {
    "duration": 246,
    "start_time": "2021-12-11T09:34:39.696Z"
   },
   {
    "duration": 221,
    "start_time": "2021-12-11T09:34:49.390Z"
   },
   {
    "duration": 192,
    "start_time": "2021-12-11T09:35:03.276Z"
   },
   {
    "duration": 193,
    "start_time": "2021-12-11T09:37:44.166Z"
   },
   {
    "duration": 291,
    "start_time": "2021-12-11T09:37:52.341Z"
   },
   {
    "duration": 1153,
    "start_time": "2021-12-11T09:45:45.981Z"
   },
   {
    "duration": 44,
    "start_time": "2021-12-11T09:45:47.136Z"
   },
   {
    "duration": 5,
    "start_time": "2021-12-11T09:45:47.182Z"
   },
   {
    "duration": 8,
    "start_time": "2021-12-11T09:45:47.189Z"
   },
   {
    "duration": 20,
    "start_time": "2021-12-11T09:45:47.199Z"
   },
   {
    "duration": 13,
    "start_time": "2021-12-11T09:45:47.220Z"
   },
   {
    "duration": 280,
    "start_time": "2021-12-11T09:45:47.234Z"
   },
   {
    "duration": 188,
    "start_time": "2021-12-11T09:45:47.516Z"
   },
   {
    "duration": 9,
    "start_time": "2021-12-11T09:45:47.707Z"
   },
   {
    "duration": 7,
    "start_time": "2021-12-11T09:45:47.717Z"
   },
   {
    "duration": 227,
    "start_time": "2021-12-11T09:45:47.725Z"
   },
   {
    "duration": 11,
    "start_time": "2021-12-11T09:45:47.954Z"
   },
   {
    "duration": 46,
    "start_time": "2021-12-11T09:45:47.966Z"
   },
   {
    "duration": 5,
    "start_time": "2021-12-11T09:45:48.013Z"
   },
   {
    "duration": 5,
    "start_time": "2021-12-11T09:45:48.020Z"
   },
   {
    "duration": 7,
    "start_time": "2021-12-11T09:45:48.027Z"
   },
   {
    "duration": 3,
    "start_time": "2021-12-11T09:45:48.035Z"
   },
   {
    "duration": 5,
    "start_time": "2021-12-11T09:45:48.040Z"
   },
   {
    "duration": 5,
    "start_time": "2021-12-11T09:45:48.047Z"
   },
   {
    "duration": 629,
    "start_time": "2021-12-11T09:45:48.053Z"
   },
   {
    "duration": 11,
    "start_time": "2021-12-11T09:45:48.683Z"
   },
   {
    "duration": 10124,
    "start_time": "2021-12-11T09:45:48.696Z"
   },
   {
    "duration": 3104,
    "start_time": "2021-12-11T09:45:58.823Z"
   },
   {
    "duration": 12739,
    "start_time": "2021-12-11T09:46:01.928Z"
   },
   {
    "duration": 565,
    "start_time": "2021-12-11T09:46:14.669Z"
   },
   {
    "duration": 359,
    "start_time": "2021-12-11T09:46:15.235Z"
   },
   {
    "duration": 277,
    "start_time": "2021-12-11T09:46:15.595Z"
   }
  ],
  "kernelspec": {
   "display_name": "Python 3",
   "language": "python",
   "name": "python3"
  },
  "language_info": {
   "codemirror_mode": {
    "name": "ipython",
    "version": 3
   },
   "file_extension": ".py",
   "mimetype": "text/x-python",
   "name": "python",
   "nbconvert_exporter": "python",
   "pygments_lexer": "ipython3",
   "version": "3.8.5"
  },
  "toc": {
   "base_numbering": 1,
   "nav_menu": {},
   "number_sections": false,
   "sideBar": false,
   "skip_h1_title": false,
   "title_cell": "",
   "title_sidebar": "",
   "toc_cell": false,
   "toc_position": {
    "height": "calc(100% - 180px)",
    "left": "10px",
    "top": "150px",
    "width": "165px"
   },
   "toc_section_display": true,
   "toc_window_display": false
  }
 },
 "nbformat": 4,
 "nbformat_minor": 2
}
