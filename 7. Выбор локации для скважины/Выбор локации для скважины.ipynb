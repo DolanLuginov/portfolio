{
 "cells": [
  {
   "cell_type": "markdown",
   "metadata": {},
   "source": [
    "# Выбор локации для скважины"
   ]
  },
  {
   "cell_type": "markdown",
   "metadata": {},
   "source": [
    "Нам предоставлены пробы нефти в трёх регионах: в каждом 10 000 месторождений, где измерили качество нефти и объём её запасов. Нужно построить модель машинного обучения, которая поможет определить регион, где добыча принесёт наибольшую прибыль. Проанализируем возможную прибыль и риски техникой Bootstrap"
   ]
  },
  {
   "cell_type": "markdown",
   "metadata": {},
   "source": [
    "## Загрузка и подготовка данных"
   ]
  },
  {
   "cell_type": "code",
   "execution_count": 1,
   "metadata": {},
   "outputs": [],
   "source": [
    "import numpy as np\n",
    "from math import *\n",
    "import pandas as pd\n",
    "import matplotlib.pyplot as plt\n",
    "%matplotlib inline\n",
    "import seaborn as sns\n",
    "\n",
    "from sklearn.model_selection import train_test_split\n",
    "from sklearn.model_selection import cross_val_score\n",
    "from sklearn.linear_model import LinearRegression\n",
    "from sklearn.metrics import mean_squared_error\n",
    "from sklearn.preprocessing import StandardScaler"
   ]
  },
  {
   "cell_type": "code",
   "execution_count": 2,
   "metadata": {},
   "outputs": [],
   "source": [
    "df_1 = pd.read_csv('geo_data_0.csv')\n",
    "df_2 = pd.read_csv('geo_data_1.csv')\n",
    "df_3 = pd.read_csv('geo_data_2.csv')"
   ]
  },
  {
   "cell_type": "code",
   "execution_count": 3,
   "metadata": {
    "scrolled": false
   },
   "outputs": [
    {
     "data": {
      "text/html": [
       "<div>\n",
       "<style scoped>\n",
       "    .dataframe tbody tr th:only-of-type {\n",
       "        vertical-align: middle;\n",
       "    }\n",
       "\n",
       "    .dataframe tbody tr th {\n",
       "        vertical-align: top;\n",
       "    }\n",
       "\n",
       "    .dataframe thead th {\n",
       "        text-align: right;\n",
       "    }\n",
       "</style>\n",
       "<table border=\"1\" class=\"dataframe\">\n",
       "  <thead>\n",
       "    <tr style=\"text-align: right;\">\n",
       "      <th></th>\n",
       "      <th>id</th>\n",
       "      <th>f0</th>\n",
       "      <th>f1</th>\n",
       "      <th>f2</th>\n",
       "      <th>product</th>\n",
       "    </tr>\n",
       "  </thead>\n",
       "  <tbody>\n",
       "    <tr>\n",
       "      <th>0</th>\n",
       "      <td>txEyH</td>\n",
       "      <td>0.705745</td>\n",
       "      <td>-0.497823</td>\n",
       "      <td>1.221170</td>\n",
       "      <td>105.280062</td>\n",
       "    </tr>\n",
       "    <tr>\n",
       "      <th>1</th>\n",
       "      <td>2acmU</td>\n",
       "      <td>1.334711</td>\n",
       "      <td>-0.340164</td>\n",
       "      <td>4.365080</td>\n",
       "      <td>73.037750</td>\n",
       "    </tr>\n",
       "    <tr>\n",
       "      <th>2</th>\n",
       "      <td>409Wp</td>\n",
       "      <td>1.022732</td>\n",
       "      <td>0.151990</td>\n",
       "      <td>1.419926</td>\n",
       "      <td>85.265647</td>\n",
       "    </tr>\n",
       "    <tr>\n",
       "      <th>3</th>\n",
       "      <td>iJLyR</td>\n",
       "      <td>-0.032172</td>\n",
       "      <td>0.139033</td>\n",
       "      <td>2.978566</td>\n",
       "      <td>168.620776</td>\n",
       "    </tr>\n",
       "    <tr>\n",
       "      <th>4</th>\n",
       "      <td>Xdl7t</td>\n",
       "      <td>1.988431</td>\n",
       "      <td>0.155413</td>\n",
       "      <td>4.751769</td>\n",
       "      <td>154.036647</td>\n",
       "    </tr>\n",
       "  </tbody>\n",
       "</table>\n",
       "</div>"
      ],
      "text/plain": [
       "      id        f0        f1        f2     product\n",
       "0  txEyH  0.705745 -0.497823  1.221170  105.280062\n",
       "1  2acmU  1.334711 -0.340164  4.365080   73.037750\n",
       "2  409Wp  1.022732  0.151990  1.419926   85.265647\n",
       "3  iJLyR -0.032172  0.139033  2.978566  168.620776\n",
       "4  Xdl7t  1.988431  0.155413  4.751769  154.036647"
      ]
     },
     "execution_count": 3,
     "metadata": {},
     "output_type": "execute_result"
    }
   ],
   "source": [
    "df_1.head()"
   ]
  },
  {
   "cell_type": "code",
   "execution_count": 4,
   "metadata": {
    "scrolled": true
   },
   "outputs": [
    {
     "name": "stdout",
     "output_type": "stream",
     "text": [
      "<class 'pandas.core.frame.DataFrame'>\n",
      "RangeIndex: 100000 entries, 0 to 99999\n",
      "Data columns (total 5 columns):\n",
      " #   Column   Non-Null Count   Dtype  \n",
      "---  ------   --------------   -----  \n",
      " 0   id       100000 non-null  object \n",
      " 1   f0       100000 non-null  float64\n",
      " 2   f1       100000 non-null  float64\n",
      " 3   f2       100000 non-null  float64\n",
      " 4   product  100000 non-null  float64\n",
      "dtypes: float64(4), object(1)\n",
      "memory usage: 3.8+ MB\n"
     ]
    }
   ],
   "source": [
    "df_1.info()"
   ]
  },
  {
   "cell_type": "code",
   "execution_count": 5,
   "metadata": {
    "scrolled": true
   },
   "outputs": [
    {
     "data": {
      "text/plain": [
       "0"
      ]
     },
     "execution_count": 5,
     "metadata": {},
     "output_type": "execute_result"
    }
   ],
   "source": [
    "df_1.duplicated().sum()"
   ]
  },
  {
   "cell_type": "code",
   "execution_count": 6,
   "metadata": {},
   "outputs": [
    {
     "data": {
      "text/plain": [
       "id         0\n",
       "f0         0\n",
       "f1         0\n",
       "f2         0\n",
       "product    0\n",
       "dtype: int64"
      ]
     },
     "execution_count": 6,
     "metadata": {},
     "output_type": "execute_result"
    }
   ],
   "source": [
    "df_1.isna().sum()"
   ]
  },
  {
   "cell_type": "code",
   "execution_count": 7,
   "metadata": {
    "scrolled": false
   },
   "outputs": [
    {
     "data": {
      "text/html": [
       "<div>\n",
       "<style scoped>\n",
       "    .dataframe tbody tr th:only-of-type {\n",
       "        vertical-align: middle;\n",
       "    }\n",
       "\n",
       "    .dataframe tbody tr th {\n",
       "        vertical-align: top;\n",
       "    }\n",
       "\n",
       "    .dataframe thead th {\n",
       "        text-align: right;\n",
       "    }\n",
       "</style>\n",
       "<table border=\"1\" class=\"dataframe\">\n",
       "  <thead>\n",
       "    <tr style=\"text-align: right;\">\n",
       "      <th></th>\n",
       "      <th>id</th>\n",
       "      <th>f0</th>\n",
       "      <th>f1</th>\n",
       "      <th>f2</th>\n",
       "      <th>product</th>\n",
       "    </tr>\n",
       "  </thead>\n",
       "  <tbody>\n",
       "    <tr>\n",
       "      <th>0</th>\n",
       "      <td>kBEdx</td>\n",
       "      <td>-15.001348</td>\n",
       "      <td>-8.276000</td>\n",
       "      <td>-0.005876</td>\n",
       "      <td>3.179103</td>\n",
       "    </tr>\n",
       "    <tr>\n",
       "      <th>1</th>\n",
       "      <td>62mP7</td>\n",
       "      <td>14.272088</td>\n",
       "      <td>-3.475083</td>\n",
       "      <td>0.999183</td>\n",
       "      <td>26.953261</td>\n",
       "    </tr>\n",
       "    <tr>\n",
       "      <th>2</th>\n",
       "      <td>vyE1P</td>\n",
       "      <td>6.263187</td>\n",
       "      <td>-5.948386</td>\n",
       "      <td>5.001160</td>\n",
       "      <td>134.766305</td>\n",
       "    </tr>\n",
       "    <tr>\n",
       "      <th>3</th>\n",
       "      <td>KcrkZ</td>\n",
       "      <td>-13.081196</td>\n",
       "      <td>-11.506057</td>\n",
       "      <td>4.999415</td>\n",
       "      <td>137.945408</td>\n",
       "    </tr>\n",
       "    <tr>\n",
       "      <th>4</th>\n",
       "      <td>AHL4O</td>\n",
       "      <td>12.702195</td>\n",
       "      <td>-8.147433</td>\n",
       "      <td>5.004363</td>\n",
       "      <td>134.766305</td>\n",
       "    </tr>\n",
       "  </tbody>\n",
       "</table>\n",
       "</div>"
      ],
      "text/plain": [
       "      id         f0         f1        f2     product\n",
       "0  kBEdx -15.001348  -8.276000 -0.005876    3.179103\n",
       "1  62mP7  14.272088  -3.475083  0.999183   26.953261\n",
       "2  vyE1P   6.263187  -5.948386  5.001160  134.766305\n",
       "3  KcrkZ -13.081196 -11.506057  4.999415  137.945408\n",
       "4  AHL4O  12.702195  -8.147433  5.004363  134.766305"
      ]
     },
     "execution_count": 7,
     "metadata": {},
     "output_type": "execute_result"
    }
   ],
   "source": [
    "df_2.head()"
   ]
  },
  {
   "cell_type": "code",
   "execution_count": 8,
   "metadata": {
    "scrolled": true
   },
   "outputs": [
    {
     "name": "stdout",
     "output_type": "stream",
     "text": [
      "<class 'pandas.core.frame.DataFrame'>\n",
      "RangeIndex: 100000 entries, 0 to 99999\n",
      "Data columns (total 5 columns):\n",
      " #   Column   Non-Null Count   Dtype  \n",
      "---  ------   --------------   -----  \n",
      " 0   id       100000 non-null  object \n",
      " 1   f0       100000 non-null  float64\n",
      " 2   f1       100000 non-null  float64\n",
      " 3   f2       100000 non-null  float64\n",
      " 4   product  100000 non-null  float64\n",
      "dtypes: float64(4), object(1)\n",
      "memory usage: 3.8+ MB\n"
     ]
    }
   ],
   "source": [
    "df_2.info()"
   ]
  },
  {
   "cell_type": "code",
   "execution_count": 9,
   "metadata": {},
   "outputs": [
    {
     "data": {
      "text/plain": [
       "0"
      ]
     },
     "execution_count": 9,
     "metadata": {},
     "output_type": "execute_result"
    }
   ],
   "source": [
    "df_2.duplicated().sum()"
   ]
  },
  {
   "cell_type": "code",
   "execution_count": 10,
   "metadata": {},
   "outputs": [
    {
     "data": {
      "text/plain": [
       "id         0\n",
       "f0         0\n",
       "f1         0\n",
       "f2         0\n",
       "product    0\n",
       "dtype: int64"
      ]
     },
     "execution_count": 10,
     "metadata": {},
     "output_type": "execute_result"
    }
   ],
   "source": [
    "df_2.isna().sum()"
   ]
  },
  {
   "cell_type": "code",
   "execution_count": 11,
   "metadata": {},
   "outputs": [
    {
     "data": {
      "text/html": [
       "<div>\n",
       "<style scoped>\n",
       "    .dataframe tbody tr th:only-of-type {\n",
       "        vertical-align: middle;\n",
       "    }\n",
       "\n",
       "    .dataframe tbody tr th {\n",
       "        vertical-align: top;\n",
       "    }\n",
       "\n",
       "    .dataframe thead th {\n",
       "        text-align: right;\n",
       "    }\n",
       "</style>\n",
       "<table border=\"1\" class=\"dataframe\">\n",
       "  <thead>\n",
       "    <tr style=\"text-align: right;\">\n",
       "      <th></th>\n",
       "      <th>id</th>\n",
       "      <th>f0</th>\n",
       "      <th>f1</th>\n",
       "      <th>f2</th>\n",
       "      <th>product</th>\n",
       "    </tr>\n",
       "  </thead>\n",
       "  <tbody>\n",
       "    <tr>\n",
       "      <th>0</th>\n",
       "      <td>fwXo0</td>\n",
       "      <td>-1.146987</td>\n",
       "      <td>0.963328</td>\n",
       "      <td>-0.828965</td>\n",
       "      <td>27.758673</td>\n",
       "    </tr>\n",
       "    <tr>\n",
       "      <th>1</th>\n",
       "      <td>WJtFt</td>\n",
       "      <td>0.262778</td>\n",
       "      <td>0.269839</td>\n",
       "      <td>-2.530187</td>\n",
       "      <td>56.069697</td>\n",
       "    </tr>\n",
       "    <tr>\n",
       "      <th>2</th>\n",
       "      <td>ovLUW</td>\n",
       "      <td>0.194587</td>\n",
       "      <td>0.289035</td>\n",
       "      <td>-5.586433</td>\n",
       "      <td>62.871910</td>\n",
       "    </tr>\n",
       "    <tr>\n",
       "      <th>3</th>\n",
       "      <td>q6cA6</td>\n",
       "      <td>2.236060</td>\n",
       "      <td>-0.553760</td>\n",
       "      <td>0.930038</td>\n",
       "      <td>114.572842</td>\n",
       "    </tr>\n",
       "    <tr>\n",
       "      <th>4</th>\n",
       "      <td>WPMUX</td>\n",
       "      <td>-0.515993</td>\n",
       "      <td>1.716266</td>\n",
       "      <td>5.899011</td>\n",
       "      <td>149.600746</td>\n",
       "    </tr>\n",
       "  </tbody>\n",
       "</table>\n",
       "</div>"
      ],
      "text/plain": [
       "      id        f0        f1        f2     product\n",
       "0  fwXo0 -1.146987  0.963328 -0.828965   27.758673\n",
       "1  WJtFt  0.262778  0.269839 -2.530187   56.069697\n",
       "2  ovLUW  0.194587  0.289035 -5.586433   62.871910\n",
       "3  q6cA6  2.236060 -0.553760  0.930038  114.572842\n",
       "4  WPMUX -0.515993  1.716266  5.899011  149.600746"
      ]
     },
     "execution_count": 11,
     "metadata": {},
     "output_type": "execute_result"
    }
   ],
   "source": [
    "df_3.head()"
   ]
  },
  {
   "cell_type": "code",
   "execution_count": 12,
   "metadata": {
    "scrolled": false
   },
   "outputs": [
    {
     "name": "stdout",
     "output_type": "stream",
     "text": [
      "<class 'pandas.core.frame.DataFrame'>\n",
      "RangeIndex: 100000 entries, 0 to 99999\n",
      "Data columns (total 5 columns):\n",
      " #   Column   Non-Null Count   Dtype  \n",
      "---  ------   --------------   -----  \n",
      " 0   id       100000 non-null  object \n",
      " 1   f0       100000 non-null  float64\n",
      " 2   f1       100000 non-null  float64\n",
      " 3   f2       100000 non-null  float64\n",
      " 4   product  100000 non-null  float64\n",
      "dtypes: float64(4), object(1)\n",
      "memory usage: 3.8+ MB\n"
     ]
    }
   ],
   "source": [
    "df_3.info()"
   ]
  },
  {
   "cell_type": "code",
   "execution_count": 13,
   "metadata": {},
   "outputs": [
    {
     "data": {
      "text/plain": [
       "0"
      ]
     },
     "execution_count": 13,
     "metadata": {},
     "output_type": "execute_result"
    }
   ],
   "source": [
    "df_3.duplicated().sum()"
   ]
  },
  {
   "cell_type": "code",
   "execution_count": 14,
   "metadata": {
    "scrolled": false
   },
   "outputs": [
    {
     "data": {
      "text/plain": [
       "id         0\n",
       "f0         0\n",
       "f1         0\n",
       "f2         0\n",
       "product    0\n",
       "dtype: int64"
      ]
     },
     "execution_count": 14,
     "metadata": {},
     "output_type": "execute_result"
    }
   ],
   "source": [
    "df_3.isna().sum()"
   ]
  },
  {
   "cell_type": "markdown",
   "metadata": {},
   "source": [
    "Данные чистые. Можно приступить к анализу"
   ]
  },
  {
   "cell_type": "markdown",
   "metadata": {},
   "source": [
    "## Исследовательский анализ данных"
   ]
  },
  {
   "cell_type": "code",
   "execution_count": 15,
   "metadata": {},
   "outputs": [],
   "source": [
    "# Функция для вывода частот признаков отдельного региона\n",
    "\n",
    "def f_hist(df, region_name):\n",
    "    fig, (ax1, ax2, ax3) = plt.subplots(nrows=1, ncols=3, figsize=(20,5))\n",
    "\n",
    "    ax1.hist(df['f0'], label='f 0');\n",
    "    ax1.grid()\n",
    "    ax1.legend()\n",
    "\n",
    "    ax2.hist(df['f1'], label='f 1');\n",
    "    ax2.grid()\n",
    "    ax2.legend()\n",
    "    ax2.set_title(region_name)\n",
    "\n",
    "    ax3.hist(df['f2'], label='f 2');\n",
    "    ax3.grid()\n",
    "    ax3.legend()\n",
    "\n",
    "    plt.show()"
   ]
  },
  {
   "cell_type": "code",
   "execution_count": 16,
   "metadata": {
    "scrolled": true
   },
   "outputs": [
    {
     "data": {
      "image/png": "[encoded data removed]",
      "text/plain": [
       "<Figure size 1440x360 with 3 Axes>"
      ]
     },
     "metadata": {
      "needs_background": "light"
     },
     "output_type": "display_data"
    }
   ],
   "source": [
    "f_hist(df_1, 'Первый регион')"
   ]
  },
  {
   "cell_type": "markdown",
   "metadata": {},
   "source": [
    "Размах значений сильно отличается по признакам. После разбиения выборки нужно провести стандартизацию масштабов"
   ]
  },
  {
   "cell_type": "code",
   "execution_count": 17,
   "metadata": {
    "scrolled": true
   },
   "outputs": [
    {
     "data": {
      "image/png": "[encoded data removed]",
      "text/plain": [
       "<Figure size 1440x360 with 3 Axes>"
      ]
     },
     "metadata": {
      "needs_background": "light"
     },
     "output_type": "display_data"
    }
   ],
   "source": [
    "f_hist(df_2, 'Второй регион')"
   ]
  },
  {
   "cell_type": "markdown",
   "metadata": {},
   "source": [
    "Здесь тоже размах значений отличается. Интересное распределение получилось у признака f2 - в нескольких отдельных значениях частота очень высокая, в остальных - сильно низкая"
   ]
  },
  {
   "cell_type": "code",
   "execution_count": 18,
   "metadata": {
    "scrolled": true
   },
   "outputs": [
    {
     "data": {
      "image/png": "[encoded data removed]",
      "text/plain": [
       "<Figure size 1440x360 with 3 Axes>"
      ]
     },
     "metadata": {
      "needs_background": "light"
     },
     "output_type": "display_data"
    }
   ],
   "source": [
    "f_hist(df_3, 'Третий регион')"
   ]
  },
  {
   "cell_type": "markdown",
   "metadata": {},
   "source": [
    "Здесь размах значений не сильно отличается. Распределения все симметричные"
   ]
  },
  {
   "cell_type": "markdown",
   "metadata": {},
   "source": [
    "Построим график распределения частот целевого признака по каждому региону"
   ]
  },
  {
   "cell_type": "code",
   "execution_count": 19,
   "metadata": {
    "scrolled": true
   },
   "outputs": [
    {
     "data": {
      "image/png": "[encoded data removed]",
      "text/plain": [
       "<Figure size 1440x360 with 3 Axes>"
      ]
     },
     "metadata": {
      "needs_background": "light"
     },
     "output_type": "display_data"
    }
   ],
   "source": [
    "fig, (ax1, ax2, ax3) = plt.subplots(nrows=1, ncols=3, figsize=(20,5))\n",
    "\n",
    "ax1.hist(df_1['product']);\n",
    "ax1.set_title('Первый регион')\n",
    "ax1.grid()\n",
    "\n",
    "ax2.hist(df_2['product']);\n",
    "ax2.set_title('Второй регион')\n",
    "ax2.grid()\n",
    "\n",
    "ax3.hist(df_3['product']);\n",
    "ax3.set_title('Третий регион')\n",
    "ax3.grid()\n",
    "\n",
    "plt.show()"
   ]
  },
  {
   "cell_type": "markdown",
   "metadata": {},
   "source": [
    "Графики первого и третьего региона очень похожи.  \n",
    "Напротив, график второго региона не обычный. Большинство значений частот примерно равны 8000, значений с 0 до 10 больше 16000, столько же значений с 125 до 140"
   ]
  },
  {
   "cell_type": "markdown",
   "metadata": {},
   "source": [
    "Посмотрим на график корреляции между признаками"
   ]
  },
  {
   "cell_type": "code",
   "execution_count": 20,
   "metadata": {
    "scrolled": true
   },
   "outputs": [
    {
     "data": {
      "image/png": "[encoded data removed]",
      "text/plain": [
       "<Figure size 432x288 with 2 Axes>"
      ]
     },
     "metadata": {
      "needs_background": "light"
     },
     "output_type": "display_data"
    }
   ],
   "source": [
    "sns.heatmap(df_1.corr()).set_title('Первый регион');"
   ]
  },
  {
   "cell_type": "markdown",
   "metadata": {},
   "source": [
    "Средняя корреляция между признаком f2 и целевым признаком"
   ]
  },
  {
   "cell_type": "code",
   "execution_count": 21,
   "metadata": {
    "scrolled": false
   },
   "outputs": [
    {
     "data": {
      "image/png": "[encoded data removed]",
      "text/plain": [
       "<Figure size 432x288 with 2 Axes>"
      ]
     },
     "metadata": {
      "needs_background": "light"
     },
     "output_type": "display_data"
    }
   ],
   "source": [
    "sns.heatmap(df_2.corr()).set_title('Второй регион');"
   ]
  },
  {
   "cell_type": "markdown",
   "metadata": {},
   "source": [
    "Во втором регионе идеальная корреляция между признаком f2 и целевым признаком. Можно предсказать объем сырья основываясь на этом признаке"
   ]
  },
  {
   "cell_type": "code",
   "execution_count": 22,
   "metadata": {
    "scrolled": true
   },
   "outputs": [
    {
     "data": {
      "image/png": "[encoded data removed]",
      "text/plain": [
       "<Figure size 432x288 with 2 Axes>"
      ]
     },
     "metadata": {
      "needs_background": "light"
     },
     "output_type": "display_data"
    }
   ],
   "source": [
    "sns.heatmap(df_3.corr()).set_title('Третий регион');"
   ]
  },
  {
   "cell_type": "markdown",
   "metadata": {},
   "source": [
    "В третьем регионе тоже средняя корреляция между признаком f2 и целевым признаком"
   ]
  },
  {
   "cell_type": "markdown",
   "metadata": {},
   "source": [
    "## Обучение и проверка модели"
   ]
  },
  {
   "cell_type": "code",
   "execution_count": 23,
   "metadata": {},
   "outputs": [],
   "source": [
    "model = LinearRegression()"
   ]
  },
  {
   "cell_type": "code",
   "execution_count": 24,
   "metadata": {},
   "outputs": [],
   "source": [
    "scaler = StandardScaler()"
   ]
  },
  {
   "cell_type": "code",
   "execution_count": 25,
   "metadata": {},
   "outputs": [],
   "source": [
    "# Функция для разбиения на обучающую и валидационную выборки\n",
    "\n",
    "def train_test_split_function(df):\n",
    "    X = df.drop(['id', 'product'], axis=1)\n",
    "    y = df['product']\n",
    "    X_train, X_valid, y_train, y_valid = train_test_split(X, y, test_size=0.25, random_state=22)\n",
    "    return X, y, X_train, X_valid, y_train, y_valid"
   ]
  },
  {
   "cell_type": "code",
   "execution_count": 26,
   "metadata": {},
   "outputs": [],
   "source": [
    "# Функция для расчета rmse\n",
    "\n",
    "def rmse_calculation(X_train, y_train, X_valid, y_valid):\n",
    "    model.fit(X_train, y_train)\n",
    "    y_pred = model.predict(X_valid)\n",
    "    rmse = mean_squared_error(y_valid, y_pred) ** 0.5\n",
    "    return model, y_pred, rmse"
   ]
  },
  {
   "cell_type": "code",
   "execution_count": 27,
   "metadata": {},
   "outputs": [],
   "source": [
    "# Функция для стандартизации масштабов признаков\n",
    "\n",
    "def scaling(X_train, X_valid):\n",
    "    X_train_scaled = pd.DataFrame(scaler.fit_transform(X_train), columns=X_train.columns, index=X_train.index)\n",
    "    X_valid_scaled = pd.DataFrame(scaler.transform(X_valid), columns=X_valid.columns, index=X_valid.index)\n",
    "    return X_train_scaled, X_valid_scaled"
   ]
  },
  {
   "cell_type": "code",
   "execution_count": 28,
   "metadata": {},
   "outputs": [],
   "source": [
    "X_1, y_1, X_1_train, X_1_valid, y_1_train, y_1_valid = train_test_split_function(df_1)"
   ]
  },
  {
   "cell_type": "code",
   "execution_count": 29,
   "metadata": {
    "scrolled": false
   },
   "outputs": [
    {
     "data": {
      "text/plain": [
       "((75000, 3), (25000, 3), (75000,), (25000,))"
      ]
     },
     "execution_count": 29,
     "metadata": {},
     "output_type": "execute_result"
    }
   ],
   "source": [
    "X_1_train.shape, X_1_valid.shape, y_1_train.shape, y_1_valid.shape"
   ]
  },
  {
   "cell_type": "code",
   "execution_count": 30,
   "metadata": {},
   "outputs": [],
   "source": [
    "X_1_train, X_1_valid = scaling(X_1_train, X_1_valid)"
   ]
  },
  {
   "cell_type": "code",
   "execution_count": 31,
   "metadata": {},
   "outputs": [],
   "source": [
    "model_1, y_1_pred, rmse_1 = rmse_calculation(X_1_train, y_1_train, X_1_valid, y_1_valid)"
   ]
  },
  {
   "cell_type": "code",
   "execution_count": 32,
   "metadata": {},
   "outputs": [
    {
     "data": {
      "text/plain": [
       "92.53987606504546"
      ]
     },
     "execution_count": 32,
     "metadata": {},
     "output_type": "execute_result"
    }
   ],
   "source": [
    "y_1_pred.mean()"
   ]
  },
  {
   "cell_type": "code",
   "execution_count": 33,
   "metadata": {
    "scrolled": true
   },
   "outputs": [
    {
     "data": {
      "text/plain": [
       "37.411414310487665"
      ]
     },
     "execution_count": 33,
     "metadata": {},
     "output_type": "execute_result"
    }
   ],
   "source": [
    "rmse_1"
   ]
  },
  {
   "cell_type": "markdown",
   "metadata": {},
   "source": [
    "Средний запас предсказанного сырья в первом регионе составил 92.5 . И в среднем наша модель ошибается на 37.4"
   ]
  },
  {
   "cell_type": "code",
   "execution_count": 34,
   "metadata": {},
   "outputs": [],
   "source": [
    "X_2, y_2, X_2_train, X_2_valid, y_2_train, y_2_valid = train_test_split_function(df_2)"
   ]
  },
  {
   "cell_type": "code",
   "execution_count": 35,
   "metadata": {},
   "outputs": [
    {
     "data": {
      "text/plain": [
       "((75000, 3), (25000, 3), (75000,), (25000,))"
      ]
     },
     "execution_count": 35,
     "metadata": {},
     "output_type": "execute_result"
    }
   ],
   "source": [
    "X_2_train.shape, X_2_valid.shape, y_2_train.shape, y_2_valid.shape"
   ]
  },
  {
   "cell_type": "code",
   "execution_count": 36,
   "metadata": {},
   "outputs": [],
   "source": [
    "X_2_train, X_2_valid = scaling(X_2_train, X_2_valid)"
   ]
  },
  {
   "cell_type": "code",
   "execution_count": 37,
   "metadata": {},
   "outputs": [],
   "source": [
    "model_2, y_2_pred, rmse_2 = rmse_calculation(X_2_train, y_2_train, X_2_valid, y_2_valid)"
   ]
  },
  {
   "cell_type": "code",
   "execution_count": 38,
   "metadata": {},
   "outputs": [
    {
     "data": {
      "text/plain": [
       "68.72413030510705"
      ]
     },
     "execution_count": 38,
     "metadata": {},
     "output_type": "execute_result"
    }
   ],
   "source": [
    "y_2_pred.mean()"
   ]
  },
  {
   "cell_type": "code",
   "execution_count": 39,
   "metadata": {
    "scrolled": true
   },
   "outputs": [
    {
     "data": {
      "text/plain": [
       "0.8916430396076002"
      ]
     },
     "execution_count": 39,
     "metadata": {},
     "output_type": "execute_result"
    }
   ],
   "source": [
    "rmse_2"
   ]
  },
  {
   "cell_type": "markdown",
   "metadata": {},
   "source": [
    "Во втором регионе средний запас предсказанного сырья меньше - 68.7. Но зато ошибаемся меньше)"
   ]
  },
  {
   "cell_type": "code",
   "execution_count": 40,
   "metadata": {},
   "outputs": [],
   "source": [
    "X_3, y_3, X_3_train, X_3_valid, y_3_train, y_3_valid = train_test_split_function(df_3)"
   ]
  },
  {
   "cell_type": "code",
   "execution_count": 41,
   "metadata": {},
   "outputs": [
    {
     "data": {
      "text/plain": [
       "((75000, 3), (25000, 3), (75000,), (25000,))"
      ]
     },
     "execution_count": 41,
     "metadata": {},
     "output_type": "execute_result"
    }
   ],
   "source": [
    "X_3_train.shape, X_3_valid.shape, y_3_train.shape, y_3_valid.shape"
   ]
  },
  {
   "cell_type": "code",
   "execution_count": 42,
   "metadata": {},
   "outputs": [],
   "source": [
    "model_3, y_3_pred, rmse_3 = rmse_calculation(X_3_train, y_3_train, X_3_valid, y_3_valid)"
   ]
  },
  {
   "cell_type": "code",
   "execution_count": 43,
   "metadata": {},
   "outputs": [
    {
     "data": {
      "text/plain": [
       "94.87523935481292"
      ]
     },
     "execution_count": 43,
     "metadata": {},
     "output_type": "execute_result"
    }
   ],
   "source": [
    "y_3_pred.mean()"
   ]
  },
  {
   "cell_type": "code",
   "execution_count": 44,
   "metadata": {},
   "outputs": [
    {
     "data": {
      "text/plain": [
       "40.161072438148516"
      ]
     },
     "execution_count": 44,
     "metadata": {},
     "output_type": "execute_result"
    }
   ],
   "source": [
    "rmse_3"
   ]
  },
  {
   "cell_type": "markdown",
   "metadata": {},
   "source": [
    "Средний запас предсказанного сырья в третьем регионе 94.9 с средней ошибкой 40. Очень похож на первый регион"
   ]
  },
  {
   "cell_type": "markdown",
   "metadata": {},
   "source": [
    "## Подготовка к расчёту прибыли"
   ]
  },
  {
   "cell_type": "markdown",
   "metadata": {},
   "source": [
    "Сохраним ключевые значения для расчетов в отдельные переменные"
   ]
  },
  {
   "cell_type": "code",
   "execution_count": 45,
   "metadata": {},
   "outputs": [],
   "source": [
    "NUMBER_OF_WELLS = 200\n",
    "PROFIT_PER_PRODUCT = 450000\n",
    "BUDGET = 10000000000"
   ]
  },
  {
   "cell_type": "code",
   "execution_count": 46,
   "metadata": {},
   "outputs": [
    {
     "data": {
      "text/plain": [
       "112"
      ]
     },
     "execution_count": 46,
     "metadata": {},
     "output_type": "execute_result"
    }
   ],
   "source": [
    "optimal_product_well = ceil(BUDGET / (PROFIT_PER_PRODUCT * NUMBER_OF_WELLS))\n",
    "optimal_product_well"
   ]
  },
  {
   "cell_type": "markdown",
   "metadata": {},
   "source": [
    "Достаточный объём сырья для безубыточной разработки новой скважины равен 112. Все средние значения предсказанного сырья меньше, чем это значение"
   ]
  },
  {
   "cell_type": "markdown",
   "metadata": {},
   "source": [
    "## Расчёт прибыли и рисков "
   ]
  },
  {
   "cell_type": "code",
   "execution_count": 47,
   "metadata": {},
   "outputs": [],
   "source": [
    "state = np.random.RandomState(12345)"
   ]
  },
  {
   "cell_type": "code",
   "execution_count": 48,
   "metadata": {},
   "outputs": [],
   "source": [
    "# Функция расчета прибыли\n",
    "\n",
    "def profit_calculation(predictions, target):\n",
    "    top_200_pred = predictions.sort_values(ascending=False).head(NUMBER_OF_WELLS)\n",
    "    top_200 = target[top_200_pred.index]\n",
    "    profit = top_200.sum() * PROFIT_PER_PRODUCT - BUDGET\n",
    "    return profit"
   ]
  },
  {
   "cell_type": "code",
   "execution_count": 49,
   "metadata": {},
   "outputs": [],
   "source": [
    "# Функция для техники Bootstrap, чтобы найти распределение прибыли\n",
    "\n",
    "def bootstrap(bootstrap_samples, X, y, model):\n",
    "    values = []\n",
    "    loss = 0\n",
    "    for _ in range(bootstrap_samples):\n",
    "        features_subsample = X.sample(500, replace=True, random_state=state)\n",
    "        target_subsample = y[features_subsample.index]\n",
    "        predictions_subsample = pd.Series(model.predict(features_subsample), index=target_subsample.index)\n",
    "        profit = profit_calculation(predictions_subsample, target_subsample)\n",
    "        values.append(profit)\n",
    "        if profit < 0:\n",
    "            loss += 1\n",
    "    values = pd.Series(values)\n",
    "    mean_profit = floor(values.mean())\n",
    "    confidence_interval = (floor(values.quantile(0.025)), floor(values.quantile(0.975)))\n",
    "    loss_risk = round((loss/bootstrap_samples)*100)\n",
    "    return mean_profit, confidence_interval, loss_risk"
   ]
  },
  {
   "cell_type": "code",
   "execution_count": 50,
   "metadata": {},
   "outputs": [
    {
     "data": {
      "text/plain": [
       "(333875490, (-213887605, 920918059), 11)"
      ]
     },
     "execution_count": 50,
     "metadata": {},
     "output_type": "execute_result"
    }
   ],
   "source": [
    "bootstrap(1000, X_1, y_1, model_1)"
   ]
  },
  {
   "cell_type": "code",
   "execution_count": 51,
   "metadata": {},
   "outputs": [
    {
     "data": {
      "text/plain": [
       "(479716185, (58661567, 916462576), 1)"
      ]
     },
     "execution_count": 51,
     "metadata": {},
     "output_type": "execute_result"
    }
   ],
   "source": [
    "bootstrap(1000, X_2, y_2, model_2)"
   ]
  },
  {
   "cell_type": "code",
   "execution_count": 52,
   "metadata": {},
   "outputs": [
    {
     "data": {
      "text/plain": [
       "(437628651, (-105660519, 971297932), 7)"
      ]
     },
     "execution_count": 52,
     "metadata": {},
     "output_type": "execute_result"
    }
   ],
   "source": [
    "bootstrap(1000, X_3, y_3, model_3)"
   ]
  },
  {
   "cell_type": "markdown",
   "metadata": {},
   "source": [
    "Лучше всех себя показал второй регион с доверительным интервалом прибыли (58661567, 916462576) и риском убытка в 1%"
   ]
  },
  {
   "cell_type": "markdown",
   "metadata": {},
   "source": [
    "# Вывод"
   ]
  },
  {
   "cell_type": "markdown",
   "metadata": {},
   "source": [
    "Мы исследовали три региона с целью определить один, где добыча принесёт наибольшую прибыль. Для каждого построили модель машинного обучения и сделали предсказания на валидационной выборке. Получили такие результаты:   \n",
    "1. Для первого региона средний запас предсказанного сырья составил 92.5, с средней ошибкой 37.4  \n",
    "2. Для второго региона средний запас предсказанного сырья составил 68.7, с средней ошибкой 0.9  \n",
    "3. Для третьего региона средний запас предсказанного сырья составил 94.9, с средней ошибкой 40  \n",
    "\n",
    "Затем мы техникой Bootstrap посчитали риски и прибыль для каждого региона. И получили результаты:\n",
    "1. Доверительный интервал для первого региона (-213887605, 920918059), с риском убытка в 11%\n",
    "2. Доверительный интервал для второго региона (58661567, 916462576), с риском убытка в 1%\n",
    "3. Доверительный интервал для третьего региона (-105660519, 971297932), с риском убытка в 7%\n",
    "\n",
    "По результатам исследования очевидным фаворитом является второй регион. Потому что нижнее значение доверительного интервала прибыли положительно. Риск убытка 1%, что меньше чем требование компании - 2.5%. Также можно предсказать объем сырья основываясь только на признаке f2. Поэтому я предлагаю для разработки скважин выбрать второй регион"
   ]
  }
 ],
 "metadata": {
  "ExecuteTimeLog": [
   {
    "duration": 1441,
    "start_time": "2021-10-16T08:21:07.188Z"
   },
   {
    "duration": 2296,
    "start_time": "2021-10-16T08:21:47.503Z"
   },
   {
    "duration": 484,
    "start_time": "2021-10-16T08:22:01.243Z"
   },
   {
    "duration": 18,
    "start_time": "2021-10-16T08:22:10.704Z"
   },
   {
    "duration": 13,
    "start_time": "2021-10-16T08:22:28.194Z"
   },
   {
    "duration": 12,
    "start_time": "2021-10-16T08:22:36.364Z"
   },
   {
    "duration": 15,
    "start_time": "2021-10-16T08:27:01.299Z"
   },
   {
    "duration": 65,
    "start_time": "2021-10-16T08:27:29.179Z"
   },
   {
    "duration": 14,
    "start_time": "2021-10-16T08:29:45.311Z"
   },
   {
    "duration": 67,
    "start_time": "2021-10-16T08:30:01.412Z"
   },
   {
    "duration": 13,
    "start_time": "2021-10-16T08:30:36.675Z"
   },
   {
    "duration": 12,
    "start_time": "2021-10-16T08:30:46.524Z"
   },
   {
    "duration": 375,
    "start_time": "2021-10-16T08:30:57.971Z"
   },
   {
    "duration": 70,
    "start_time": "2021-10-16T08:31:02.167Z"
   },
   {
    "duration": 12,
    "start_time": "2021-10-16T08:31:14.092Z"
   },
   {
    "duration": 12,
    "start_time": "2021-10-16T08:31:24.485Z"
   },
   {
    "duration": 347,
    "start_time": "2021-10-16T08:32:45.263Z"
   },
   {
    "duration": 326,
    "start_time": "2021-10-16T08:33:07.253Z"
   },
   {
    "duration": 317,
    "start_time": "2021-10-16T08:33:11.089Z"
   },
   {
    "duration": 336,
    "start_time": "2021-10-16T08:33:19.167Z"
   },
   {
    "duration": 372,
    "start_time": "2021-10-16T08:33:44.327Z"
   },
   {
    "duration": 378,
    "start_time": "2021-10-16T08:33:54.322Z"
   },
   {
    "duration": 469,
    "start_time": "2021-10-16T08:34:01.155Z"
   },
   {
    "duration": 381,
    "start_time": "2021-10-16T08:34:05.389Z"
   },
   {
    "duration": 373,
    "start_time": "2021-10-16T08:34:10.498Z"
   },
   {
    "duration": 376,
    "start_time": "2021-10-16T08:34:42.573Z"
   },
   {
    "duration": 335,
    "start_time": "2021-10-16T08:35:01.802Z"
   },
   {
    "duration": 366,
    "start_time": "2021-10-16T08:35:40.474Z"
   },
   {
    "duration": 398,
    "start_time": "2021-10-16T08:36:12.127Z"
   },
   {
    "duration": 379,
    "start_time": "2021-10-16T08:36:21.782Z"
   },
   {
    "duration": 376,
    "start_time": "2021-10-16T08:36:53.558Z"
   },
   {
    "duration": 483,
    "start_time": "2021-10-16T08:38:01.792Z"
   },
   {
    "duration": 370,
    "start_time": "2021-10-16T08:39:48.928Z"
   },
   {
    "duration": 376,
    "start_time": "2021-10-16T08:43:55.332Z"
   },
   {
    "duration": 1075,
    "start_time": "2021-10-16T08:44:05.587Z"
   },
   {
    "duration": 980,
    "start_time": "2021-10-16T08:45:02.482Z"
   },
   {
    "duration": 636,
    "start_time": "2021-10-16T08:45:08.447Z"
   },
   {
    "duration": 286,
    "start_time": "2021-10-16T08:45:57.818Z"
   },
   {
    "duration": 333,
    "start_time": "2021-10-16T08:46:04.161Z"
   },
   {
    "duration": 641,
    "start_time": "2021-10-16T08:46:23.996Z"
   },
   {
    "duration": 254,
    "start_time": "2021-10-16T08:46:32.184Z"
   },
   {
    "duration": 657,
    "start_time": "2021-10-16T08:46:36.753Z"
   },
   {
    "duration": 1142,
    "start_time": "2021-10-16T08:46:50.783Z"
   },
   {
    "duration": 1206,
    "start_time": "2021-10-16T08:46:58.041Z"
   },
   {
    "duration": 1548,
    "start_time": "2021-10-16T08:47:22.666Z"
   },
   {
    "duration": 764,
    "start_time": "2021-10-16T08:47:33.339Z"
   },
   {
    "duration": 726,
    "start_time": "2021-10-16T08:47:46.402Z"
   },
   {
    "duration": 752,
    "start_time": "2021-10-16T08:47:56.606Z"
   },
   {
    "duration": 978,
    "start_time": "2021-10-16T08:48:00.553Z"
   },
   {
    "duration": 738,
    "start_time": "2021-10-16T08:48:06.953Z"
   },
   {
    "duration": 839,
    "start_time": "2021-10-16T08:48:10.234Z"
   },
   {
    "duration": 810,
    "start_time": "2021-10-16T08:48:16.012Z"
   },
   {
    "duration": 864,
    "start_time": "2021-10-16T08:48:29.884Z"
   },
   {
    "duration": 1035,
    "start_time": "2021-10-16T08:49:11.209Z"
   },
   {
    "duration": 946,
    "start_time": "2021-10-16T08:49:22.287Z"
   },
   {
    "duration": 1066,
    "start_time": "2021-10-16T08:49:52.882Z"
   },
   {
    "duration": 1093,
    "start_time": "2021-10-16T08:50:03.701Z"
   },
   {
    "duration": 935,
    "start_time": "2021-10-16T08:50:08.474Z"
   },
   {
    "duration": 943,
    "start_time": "2021-10-16T08:50:20.640Z"
   },
   {
    "duration": 1077,
    "start_time": "2021-10-16T08:51:18.202Z"
   },
   {
    "duration": 981,
    "start_time": "2021-10-16T08:51:30.989Z"
   },
   {
    "duration": 1132,
    "start_time": "2021-10-16T08:52:01.765Z"
   },
   {
    "duration": 1125,
    "start_time": "2021-10-16T08:52:14.255Z"
   },
   {
    "duration": 1065,
    "start_time": "2021-10-16T08:52:42.184Z"
   },
   {
    "duration": 1410,
    "start_time": "2021-10-16T08:53:11.847Z"
   },
   {
    "duration": 1194,
    "start_time": "2021-10-16T08:53:16.404Z"
   },
   {
    "duration": 909,
    "start_time": "2021-10-16T08:53:29.424Z"
   },
   {
    "duration": 888,
    "start_time": "2021-10-16T08:53:57.758Z"
   },
   {
    "duration": 936,
    "start_time": "2021-10-16T08:55:19.479Z"
   },
   {
    "duration": 292,
    "start_time": "2021-10-16T08:56:11.079Z"
   },
   {
    "duration": 314,
    "start_time": "2021-10-16T08:56:15.045Z"
   },
   {
    "duration": 308,
    "start_time": "2021-10-16T08:56:24.066Z"
   },
   {
    "duration": 449,
    "start_time": "2021-10-16T08:57:00.027Z"
   },
   {
    "duration": 6,
    "start_time": "2021-10-16T08:58:42.513Z"
   },
   {
    "duration": 954,
    "start_time": "2021-10-16T08:59:11.232Z"
   },
   {
    "duration": 952,
    "start_time": "2021-10-16T08:59:48.301Z"
   },
   {
    "duration": 6,
    "start_time": "2021-10-16T09:00:12.806Z"
   },
   {
    "duration": 1040,
    "start_time": "2021-10-16T09:00:13.577Z"
   },
   {
    "duration": 912,
    "start_time": "2021-10-16T09:00:17.768Z"
   },
   {
    "duration": 980,
    "start_time": "2021-10-16T09:00:40.753Z"
   },
   {
    "duration": 1085,
    "start_time": "2021-10-16T09:01:52.840Z"
   },
   {
    "duration": 90,
    "start_time": "2021-10-16T09:04:21.919Z"
   },
   {
    "duration": 1015,
    "start_time": "2021-10-16T09:05:19.819Z"
   },
   {
    "duration": 17,
    "start_time": "2021-10-16T09:06:15.895Z"
   },
   {
    "duration": 370,
    "start_time": "2021-10-16T09:06:29.218Z"
   },
   {
    "duration": 381,
    "start_time": "2021-10-16T09:06:46.185Z"
   },
   {
    "duration": 17,
    "start_time": "2021-10-16T09:07:00.734Z"
   },
   {
    "duration": 374,
    "start_time": "2021-10-16T09:07:25.193Z"
   },
   {
    "duration": 267,
    "start_time": "2021-10-16T09:07:39.992Z"
   },
   {
    "duration": 389,
    "start_time": "2021-10-16T09:07:44.602Z"
   },
   {
    "duration": 511,
    "start_time": "2021-10-16T09:08:26.623Z"
   },
   {
    "duration": 552,
    "start_time": "2021-10-16T09:08:35.043Z"
   },
   {
    "duration": 6,
    "start_time": "2021-10-16T09:12:27.206Z"
   },
   {
    "duration": 8,
    "start_time": "2021-10-16T09:15:10.132Z"
   },
   {
    "duration": 12,
    "start_time": "2021-10-16T09:15:17.914Z"
   },
   {
    "duration": 3,
    "start_time": "2021-10-16T09:16:13.497Z"
   },
   {
    "duration": 17,
    "start_time": "2021-10-16T09:17:34.105Z"
   },
   {
    "duration": 298,
    "start_time": "2021-10-16T09:17:44.508Z"
   },
   {
    "duration": 329,
    "start_time": "2021-10-16T09:17:50.005Z"
   },
   {
    "duration": 5,
    "start_time": "2021-10-16T09:17:52.304Z"
   },
   {
    "duration": 6,
    "start_time": "2021-10-16T09:18:11.575Z"
   },
   {
    "duration": 255,
    "start_time": "2021-10-16T09:18:30.053Z"
   },
   {
    "duration": 5,
    "start_time": "2021-10-16T09:18:36.376Z"
   },
   {
    "duration": 12,
    "start_time": "2021-10-16T09:20:32.452Z"
   },
   {
    "duration": 262,
    "start_time": "2021-10-16T09:20:49.690Z"
   },
   {
    "duration": 6,
    "start_time": "2021-10-16T09:21:06.817Z"
   },
   {
    "duration": 18,
    "start_time": "2021-10-16T09:21:07.605Z"
   },
   {
    "duration": 7,
    "start_time": "2021-10-16T09:21:08.720Z"
   },
   {
    "duration": 3,
    "start_time": "2021-10-16T09:21:09.880Z"
   },
   {
    "duration": 12,
    "start_time": "2021-10-16T09:21:42.700Z"
   },
   {
    "duration": 14,
    "start_time": "2021-10-16T09:22:26.650Z"
   },
   {
    "duration": 12,
    "start_time": "2021-10-16T09:22:37.513Z"
   },
   {
    "duration": 6,
    "start_time": "2021-10-16T09:24:09.379Z"
   },
   {
    "duration": 17,
    "start_time": "2021-10-16T09:24:09.972Z"
   },
   {
    "duration": 7,
    "start_time": "2021-10-16T09:24:10.602Z"
   },
   {
    "duration": 10,
    "start_time": "2021-10-16T09:24:12.522Z"
   },
   {
    "duration": 4,
    "start_time": "2021-10-16T09:24:14.373Z"
   },
   {
    "duration": 13,
    "start_time": "2021-10-16T09:24:16.258Z"
   },
   {
    "duration": 11,
    "start_time": "2021-10-16T09:24:17.462Z"
   },
   {
    "duration": 12,
    "start_time": "2021-10-16T09:24:30.317Z"
   },
   {
    "duration": 3,
    "start_time": "2021-10-16T09:26:45.667Z"
   },
   {
    "duration": 15,
    "start_time": "2021-10-16T09:27:24.255Z"
   },
   {
    "duration": 13,
    "start_time": "2021-10-16T09:27:33.223Z"
   },
   {
    "duration": 6,
    "start_time": "2021-10-16T09:30:06.853Z"
   },
   {
    "duration": 283,
    "start_time": "2021-10-16T09:30:22.309Z"
   },
   {
    "duration": 14,
    "start_time": "2021-10-16T09:30:27.669Z"
   },
   {
    "duration": 5,
    "start_time": "2021-10-16T09:31:05.404Z"
   },
   {
    "duration": 7,
    "start_time": "2021-10-16T09:32:01.404Z"
   },
   {
    "duration": 5,
    "start_time": "2021-10-16T09:35:02.138Z"
   },
   {
    "duration": 4,
    "start_time": "2021-10-16T09:36:42.942Z"
   },
   {
    "duration": 14,
    "start_time": "2021-10-16T09:37:19.099Z"
   },
   {
    "duration": 6,
    "start_time": "2021-10-16T09:37:28.868Z"
   },
   {
    "duration": 5,
    "start_time": "2021-10-16T09:38:14.441Z"
   },
   {
    "duration": 571,
    "start_time": "2021-10-16T09:39:18.633Z"
   },
   {
    "duration": 5,
    "start_time": "2021-10-16T09:42:35.382Z"
   },
   {
    "duration": 20,
    "start_time": "2021-10-16T09:42:58.703Z"
   },
   {
    "duration": 6,
    "start_time": "2021-10-16T09:43:07.883Z"
   },
   {
    "duration": 4,
    "start_time": "2021-10-16T09:43:09.663Z"
   },
   {
    "duration": 13,
    "start_time": "2021-10-16T09:43:11.452Z"
   },
   {
    "duration": 12,
    "start_time": "2021-10-16T09:43:12.056Z"
   },
   {
    "duration": 11,
    "start_time": "2021-10-16T09:43:41.047Z"
   },
   {
    "duration": 4,
    "start_time": "2021-10-16T09:43:44.139Z"
   },
   {
    "duration": 20,
    "start_time": "2021-10-16T09:43:45.575Z"
   },
   {
    "duration": 5,
    "start_time": "2021-10-16T09:43:46.337Z"
   },
   {
    "duration": 5,
    "start_time": "2021-10-16T09:43:47.785Z"
   },
   {
    "duration": 18,
    "start_time": "2021-10-16T09:45:26.394Z"
   },
   {
    "duration": 6,
    "start_time": "2021-10-16T09:45:41.189Z"
   },
   {
    "duration": 13,
    "start_time": "2021-10-16T09:46:20.329Z"
   },
   {
    "duration": 21,
    "start_time": "2021-10-16T09:46:58.597Z"
   },
   {
    "duration": 5,
    "start_time": "2021-10-16T09:47:06.432Z"
   },
   {
    "duration": 5,
    "start_time": "2021-10-16T09:47:16.395Z"
   },
   {
    "duration": 20,
    "start_time": "2021-10-16T09:48:11.819Z"
   },
   {
    "duration": 7,
    "start_time": "2021-10-16T09:48:25.524Z"
   },
   {
    "duration": 15,
    "start_time": "2021-10-16T09:48:53.370Z"
   },
   {
    "duration": 20,
    "start_time": "2021-10-16T09:49:16.848Z"
   },
   {
    "duration": 5,
    "start_time": "2021-10-16T09:49:24.994Z"
   },
   {
    "duration": 5,
    "start_time": "2021-10-16T09:49:31.678Z"
   },
   {
    "duration": 1533,
    "start_time": "2021-10-16T09:50:40.802Z"
   },
   {
    "duration": 449,
    "start_time": "2021-10-16T09:50:42.337Z"
   },
   {
    "duration": 33,
    "start_time": "2021-10-16T09:50:42.789Z"
   },
   {
    "duration": 14,
    "start_time": "2021-10-16T09:50:42.825Z"
   },
   {
    "duration": 86,
    "start_time": "2021-10-16T09:50:42.842Z"
   },
   {
    "duration": 13,
    "start_time": "2021-10-16T09:50:42.930Z"
   },
   {
    "duration": 12,
    "start_time": "2021-10-16T09:50:42.946Z"
   },
   {
    "duration": 14,
    "start_time": "2021-10-16T09:50:42.964Z"
   },
   {
    "duration": 97,
    "start_time": "2021-10-16T09:50:42.982Z"
   },
   {
    "duration": 12,
    "start_time": "2021-10-16T09:50:43.082Z"
   },
   {
    "duration": 35,
    "start_time": "2021-10-16T09:50:43.096Z"
   },
   {
    "duration": 17,
    "start_time": "2021-10-16T09:50:43.134Z"
   },
   {
    "duration": 95,
    "start_time": "2021-10-16T09:50:43.153Z"
   },
   {
    "duration": 12,
    "start_time": "2021-10-16T09:50:43.251Z"
   },
   {
    "duration": 6,
    "start_time": "2021-10-16T09:50:43.266Z"
   },
   {
    "duration": 936,
    "start_time": "2021-10-16T09:50:43.274Z"
   },
   {
    "duration": 914,
    "start_time": "2021-10-16T09:50:44.212Z"
   },
   {
    "duration": 998,
    "start_time": "2021-10-16T09:50:45.128Z"
   },
   {
    "duration": 886,
    "start_time": "2021-10-16T09:50:46.129Z"
   },
   {
    "duration": 385,
    "start_time": "2021-10-16T09:50:47.017Z"
   },
   {
    "duration": 401,
    "start_time": "2021-10-16T09:50:47.404Z"
   },
   {
    "duration": 382,
    "start_time": "2021-10-16T09:50:47.808Z"
   },
   {
    "duration": 4,
    "start_time": "2021-10-16T09:50:48.196Z"
   },
   {
    "duration": 19,
    "start_time": "2021-10-16T09:50:48.202Z"
   },
   {
    "duration": 7,
    "start_time": "2021-10-16T09:50:48.224Z"
   },
   {
    "duration": 6,
    "start_time": "2021-10-16T09:50:48.234Z"
   },
   {
    "duration": 30,
    "start_time": "2021-10-16T09:50:48.243Z"
   },
   {
    "duration": 6,
    "start_time": "2021-10-16T09:50:48.275Z"
   },
   {
    "duration": 19,
    "start_time": "2021-10-16T09:50:48.283Z"
   },
   {
    "duration": 12,
    "start_time": "2021-10-16T09:50:48.322Z"
   },
   {
    "duration": 19,
    "start_time": "2021-10-16T09:50:48.336Z"
   },
   {
    "duration": 74,
    "start_time": "2021-10-16T09:50:48.357Z"
   },
   {
    "duration": 6,
    "start_time": "2021-10-16T09:50:48.524Z"
   },
   {
    "duration": 21,
    "start_time": "2021-10-16T09:50:48.532Z"
   },
   {
    "duration": 22,
    "start_time": "2021-10-16T09:50:48.556Z"
   },
   {
    "duration": 7,
    "start_time": "2021-10-16T09:50:48.581Z"
   },
   {
    "duration": 44,
    "start_time": "2021-10-16T09:50:48.591Z"
   },
   {
    "duration": 85,
    "start_time": "2021-10-16T09:50:48.638Z"
   },
   {
    "duration": 100,
    "start_time": "2021-10-16T09:50:48.726Z"
   },
   {
    "duration": 18,
    "start_time": "2021-10-16T09:50:48.828Z"
   },
   {
    "duration": 33,
    "start_time": "2021-10-16T09:50:48.849Z"
   },
   {
    "duration": 8,
    "start_time": "2021-10-16T09:50:48.884Z"
   },
   {
    "duration": 32,
    "start_time": "2021-10-16T09:50:48.895Z"
   },
   {
    "duration": 21,
    "start_time": "2021-10-16T09:50:48.930Z"
   },
   {
    "duration": 99,
    "start_time": "2021-10-16T09:50:49.024Z"
   },
   {
    "duration": 5,
    "start_time": "2021-10-16T09:50:49.125Z"
   },
   {
    "duration": 1576,
    "start_time": "2021-10-16T14:39:57.007Z"
   },
   {
    "duration": 447,
    "start_time": "2021-10-16T14:39:58.586Z"
   },
   {
    "duration": 27,
    "start_time": "2021-10-16T14:39:59.035Z"
   },
   {
    "duration": 13,
    "start_time": "2021-10-16T14:39:59.064Z"
   },
   {
    "duration": 84,
    "start_time": "2021-10-16T14:39:59.079Z"
   },
   {
    "duration": 12,
    "start_time": "2021-10-16T14:39:59.165Z"
   },
   {
    "duration": 17,
    "start_time": "2021-10-16T14:39:59.180Z"
   },
   {
    "duration": 22,
    "start_time": "2021-10-16T14:39:59.200Z"
   },
   {
    "duration": 84,
    "start_time": "2021-10-16T14:39:59.226Z"
   },
   {
    "duration": 12,
    "start_time": "2021-10-16T14:39:59.312Z"
   },
   {
    "duration": 33,
    "start_time": "2021-10-16T14:39:59.327Z"
   },
   {
    "duration": 20,
    "start_time": "2021-10-16T14:39:59.363Z"
   },
   {
    "duration": 78,
    "start_time": "2021-10-16T14:39:59.385Z"
   },
   {
    "duration": 11,
    "start_time": "2021-10-16T14:39:59.466Z"
   },
   {
    "duration": 13,
    "start_time": "2021-10-16T14:39:59.480Z"
   },
   {
    "duration": 1024,
    "start_time": "2021-10-16T14:39:59.495Z"
   },
   {
    "duration": 926,
    "start_time": "2021-10-16T14:40:00.522Z"
   },
   {
    "duration": 1178,
    "start_time": "2021-10-16T14:40:01.457Z"
   },
   {
    "duration": 930,
    "start_time": "2021-10-16T14:40:02.637Z"
   },
   {
    "duration": 373,
    "start_time": "2021-10-16T14:40:03.570Z"
   },
   {
    "duration": 377,
    "start_time": "2021-10-16T14:40:03.946Z"
   },
   {
    "duration": 378,
    "start_time": "2021-10-16T14:40:04.326Z"
   },
   {
    "duration": 4,
    "start_time": "2021-10-16T14:40:04.712Z"
   },
   {
    "duration": 27,
    "start_time": "2021-10-16T14:40:04.720Z"
   },
   {
    "duration": 25,
    "start_time": "2021-10-16T14:40:04.750Z"
   },
   {
    "duration": 33,
    "start_time": "2021-10-16T14:40:04.778Z"
   },
   {
    "duration": 48,
    "start_time": "2021-10-16T14:40:04.814Z"
   },
   {
    "duration": 22,
    "start_time": "2021-10-16T14:40:04.865Z"
   },
   {
    "duration": 46,
    "start_time": "2021-10-16T14:40:04.889Z"
   },
   {
    "duration": 37,
    "start_time": "2021-10-16T14:40:04.938Z"
   },
   {
    "duration": 7,
    "start_time": "2021-10-16T14:40:05.059Z"
   },
   {
    "duration": 121,
    "start_time": "2021-10-16T14:40:05.069Z"
   },
   {
    "duration": 56,
    "start_time": "2021-10-16T14:40:05.193Z"
   },
   {
    "duration": 7,
    "start_time": "2021-10-16T14:40:05.252Z"
   },
   {
    "duration": 38,
    "start_time": "2021-10-16T14:40:05.262Z"
   },
   {
    "duration": 58,
    "start_time": "2021-10-16T14:40:05.303Z"
   },
   {
    "duration": 98,
    "start_time": "2021-10-16T14:40:05.364Z"
   },
   {
    "duration": 21,
    "start_time": "2021-10-16T14:40:05.465Z"
   },
   {
    "duration": 81,
    "start_time": "2021-10-16T14:40:05.489Z"
   },
   {
    "duration": 10,
    "start_time": "2021-10-16T14:40:05.572Z"
   },
   {
    "duration": 36,
    "start_time": "2021-10-16T14:40:05.587Z"
   },
   {
    "duration": 37,
    "start_time": "2021-10-16T14:40:05.626Z"
   },
   {
    "duration": 103,
    "start_time": "2021-10-16T14:40:05.666Z"
   },
   {
    "duration": 95,
    "start_time": "2021-10-16T14:40:05.772Z"
   },
   {
    "duration": 1464,
    "start_time": "2021-10-17T08:24:19.773Z"
   },
   {
    "duration": 449,
    "start_time": "2021-10-17T08:24:21.240Z"
   },
   {
    "duration": 19,
    "start_time": "2021-10-17T08:24:21.692Z"
   },
   {
    "duration": 22,
    "start_time": "2021-10-17T08:24:21.722Z"
   },
   {
    "duration": 77,
    "start_time": "2021-10-17T08:24:21.747Z"
   },
   {
    "duration": 13,
    "start_time": "2021-10-17T08:24:21.826Z"
   },
   {
    "duration": 19,
    "start_time": "2021-10-17T08:24:21.841Z"
   },
   {
    "duration": 31,
    "start_time": "2021-10-17T08:24:21.863Z"
   },
   {
    "duration": 81,
    "start_time": "2021-10-17T08:24:21.898Z"
   },
   {
    "duration": 13,
    "start_time": "2021-10-17T08:24:21.982Z"
   },
   {
    "duration": 40,
    "start_time": "2021-10-17T08:24:21.997Z"
   },
   {
    "duration": 15,
    "start_time": "2021-10-17T08:24:22.040Z"
   },
   {
    "duration": 87,
    "start_time": "2021-10-17T08:24:22.058Z"
   },
   {
    "duration": 13,
    "start_time": "2021-10-17T08:24:22.147Z"
   },
   {
    "duration": 14,
    "start_time": "2021-10-17T08:24:22.162Z"
   },
   {
    "duration": 932,
    "start_time": "2021-10-17T08:24:22.178Z"
   },
   {
    "duration": 914,
    "start_time": "2021-10-17T08:24:23.112Z"
   },
   {
    "duration": 1019,
    "start_time": "2021-10-17T08:24:24.029Z"
   },
   {
    "duration": 947,
    "start_time": "2021-10-17T08:24:25.051Z"
   },
   {
    "duration": 381,
    "start_time": "2021-10-17T08:24:26.001Z"
   },
   {
    "duration": 389,
    "start_time": "2021-10-17T08:24:26.385Z"
   },
   {
    "duration": 383,
    "start_time": "2021-10-17T08:24:26.777Z"
   },
   {
    "duration": 3,
    "start_time": "2021-10-17T08:24:27.162Z"
   },
   {
    "duration": 20,
    "start_time": "2021-10-17T08:24:27.168Z"
   },
   {
    "duration": 18,
    "start_time": "2021-10-17T08:24:27.190Z"
   },
   {
    "duration": 24,
    "start_time": "2021-10-17T08:24:27.210Z"
   },
   {
    "duration": 29,
    "start_time": "2021-10-17T08:24:27.240Z"
   },
   {
    "duration": 6,
    "start_time": "2021-10-17T08:24:27.272Z"
   },
   {
    "duration": 39,
    "start_time": "2021-10-17T08:24:27.280Z"
   },
   {
    "duration": 20,
    "start_time": "2021-10-17T08:24:27.322Z"
   },
   {
    "duration": 11,
    "start_time": "2021-10-17T08:24:27.424Z"
   },
   {
    "duration": 12,
    "start_time": "2021-10-17T08:24:27.523Z"
   },
   {
    "duration": 31,
    "start_time": "2021-10-17T08:24:27.537Z"
   },
   {
    "duration": 25,
    "start_time": "2021-10-17T08:24:27.570Z"
   },
   {
    "duration": 28,
    "start_time": "2021-10-17T08:24:27.598Z"
   },
   {
    "duration": 17,
    "start_time": "2021-10-17T08:24:27.628Z"
   },
   {
    "duration": 82,
    "start_time": "2021-10-17T08:24:27.648Z"
   },
   {
    "duration": 109,
    "start_time": "2021-10-17T08:24:27.733Z"
   },
   {
    "duration": 32,
    "start_time": "2021-10-17T08:24:27.844Z"
   },
   {
    "duration": 5,
    "start_time": "2021-10-17T08:24:27.879Z"
   },
   {
    "duration": 31,
    "start_time": "2021-10-17T08:24:27.886Z"
   },
   {
    "duration": 16,
    "start_time": "2021-10-17T08:24:27.919Z"
   },
   {
    "duration": 85,
    "start_time": "2021-10-17T08:24:27.939Z"
   },
   {
    "duration": 99,
    "start_time": "2021-10-17T08:24:28.028Z"
   },
   {
    "duration": 4,
    "start_time": "2021-10-17T08:26:51.715Z"
   },
   {
    "duration": 4,
    "start_time": "2021-10-17T08:31:15.428Z"
   },
   {
    "duration": 5,
    "start_time": "2021-10-17T08:33:19.838Z"
   },
   {
    "duration": 8,
    "start_time": "2021-10-17T08:33:46.556Z"
   },
   {
    "duration": 6,
    "start_time": "2021-10-17T08:33:59.608Z"
   },
   {
    "duration": 6,
    "start_time": "2021-10-17T08:34:07.169Z"
   },
   {
    "duration": 6,
    "start_time": "2021-10-17T08:35:01.416Z"
   },
   {
    "duration": 5,
    "start_time": "2021-10-17T08:47:41.315Z"
   },
   {
    "duration": 5,
    "start_time": "2021-10-17T08:47:52.046Z"
   },
   {
    "duration": 6,
    "start_time": "2021-10-17T08:48:09.173Z"
   },
   {
    "duration": 8,
    "start_time": "2021-10-17T08:48:16.875Z"
   },
   {
    "duration": 4,
    "start_time": "2021-10-17T08:50:27.214Z"
   },
   {
    "duration": 5,
    "start_time": "2021-10-17T08:50:33.864Z"
   },
   {
    "duration": 3,
    "start_time": "2021-10-17T08:52:41.444Z"
   },
   {
    "duration": 5,
    "start_time": "2021-10-17T08:52:42.121Z"
   },
   {
    "duration": 6,
    "start_time": "2021-10-17T08:54:46.757Z"
   },
   {
    "duration": 382,
    "start_time": "2021-10-17T08:54:54.225Z"
   },
   {
    "duration": 8,
    "start_time": "2021-10-17T08:54:59.909Z"
   },
   {
    "duration": 4,
    "start_time": "2021-10-17T08:55:42.645Z"
   },
   {
    "duration": 8,
    "start_time": "2021-10-17T08:55:47.363Z"
   },
   {
    "duration": 1467,
    "start_time": "2021-10-17T08:56:07.850Z"
   },
   {
    "duration": 447,
    "start_time": "2021-10-17T08:56:09.320Z"
   },
   {
    "duration": 17,
    "start_time": "2021-10-17T08:56:09.770Z"
   },
   {
    "duration": 31,
    "start_time": "2021-10-17T08:56:09.790Z"
   },
   {
    "duration": 69,
    "start_time": "2021-10-17T08:56:09.824Z"
   },
   {
    "duration": 32,
    "start_time": "2021-10-17T08:56:09.896Z"
   },
   {
    "duration": 13,
    "start_time": "2021-10-17T08:56:09.931Z"
   },
   {
    "duration": 29,
    "start_time": "2021-10-17T08:56:09.947Z"
   },
   {
    "duration": 87,
    "start_time": "2021-10-17T08:56:09.980Z"
   },
   {
    "duration": 13,
    "start_time": "2021-10-17T08:56:10.070Z"
   },
   {
    "duration": 39,
    "start_time": "2021-10-17T08:56:10.085Z"
   },
   {
    "duration": 23,
    "start_time": "2021-10-17T08:56:10.127Z"
   },
   {
    "duration": 83,
    "start_time": "2021-10-17T08:56:10.153Z"
   },
   {
    "duration": 12,
    "start_time": "2021-10-17T08:56:10.239Z"
   },
   {
    "duration": 15,
    "start_time": "2021-10-17T08:56:10.254Z"
   },
   {
    "duration": 964,
    "start_time": "2021-10-17T08:56:10.271Z"
   },
   {
    "duration": 944,
    "start_time": "2021-10-17T08:56:11.238Z"
   },
   {
    "duration": 1095,
    "start_time": "2021-10-17T08:56:12.184Z"
   },
   {
    "duration": 913,
    "start_time": "2021-10-17T08:56:13.282Z"
   },
   {
    "duration": 386,
    "start_time": "2021-10-17T08:56:14.198Z"
   },
   {
    "duration": 404,
    "start_time": "2021-10-17T08:56:14.586Z"
   },
   {
    "duration": 379,
    "start_time": "2021-10-17T08:56:14.992Z"
   },
   {
    "duration": 3,
    "start_time": "2021-10-17T08:56:15.374Z"
   },
   {
    "duration": 35,
    "start_time": "2021-10-17T08:56:15.380Z"
   },
   {
    "duration": 27,
    "start_time": "2021-10-17T08:56:15.417Z"
   },
   {
    "duration": 22,
    "start_time": "2021-10-17T08:56:15.447Z"
   },
   {
    "duration": 32,
    "start_time": "2021-10-17T08:56:15.474Z"
   },
   {
    "duration": 6,
    "start_time": "2021-10-17T08:56:15.509Z"
   },
   {
    "duration": 42,
    "start_time": "2021-10-17T08:56:15.517Z"
   },
   {
    "duration": 64,
    "start_time": "2021-10-17T08:56:15.561Z"
   },
   {
    "duration": 98,
    "start_time": "2021-10-17T08:56:15.628Z"
   },
   {
    "duration": 34,
    "start_time": "2021-10-17T08:56:15.728Z"
   },
   {
    "duration": 65,
    "start_time": "2021-10-17T08:56:15.764Z"
   },
   {
    "duration": 32,
    "start_time": "2021-10-17T08:56:15.831Z"
   },
   {
    "duration": 34,
    "start_time": "2021-10-17T08:56:15.866Z"
   },
   {
    "duration": 27,
    "start_time": "2021-10-17T08:56:15.903Z"
   },
   {
    "duration": 93,
    "start_time": "2021-10-17T08:56:15.934Z"
   },
   {
    "duration": 96,
    "start_time": "2021-10-17T08:56:16.030Z"
   },
   {
    "duration": 37,
    "start_time": "2021-10-17T08:56:16.128Z"
   },
   {
    "duration": 15,
    "start_time": "2021-10-17T08:56:16.167Z"
   },
   {
    "duration": 36,
    "start_time": "2021-10-17T08:56:16.184Z"
   },
   {
    "duration": 23,
    "start_time": "2021-10-17T08:56:16.222Z"
   },
   {
    "duration": 102,
    "start_time": "2021-10-17T08:56:16.324Z"
   },
   {
    "duration": 36,
    "start_time": "2021-10-17T08:56:16.429Z"
   },
   {
    "duration": 22,
    "start_time": "2021-10-17T08:56:16.467Z"
   },
   {
    "duration": 15,
    "start_time": "2021-10-17T08:56:16.491Z"
   },
   {
    "duration": 130,
    "start_time": "2021-10-17T08:56:16.509Z"
   },
   {
    "duration": -3332,
    "start_time": "2021-10-17T08:56:19.975Z"
   },
   {
    "duration": -3346,
    "start_time": "2021-10-17T08:56:19.991Z"
   },
   {
    "duration": 4,
    "start_time": "2021-10-17T08:56:34.568Z"
   },
   {
    "duration": 8,
    "start_time": "2021-10-17T08:56:35.697Z"
   },
   {
    "duration": 7,
    "start_time": "2021-10-17T08:56:46.307Z"
   },
   {
    "duration": 11,
    "start_time": "2021-10-17T08:58:10.705Z"
   },
   {
    "duration": 11,
    "start_time": "2021-10-17T08:58:18.931Z"
   },
   {
    "duration": 12,
    "start_time": "2021-10-17T08:58:29.390Z"
   },
   {
    "duration": 9,
    "start_time": "2021-10-17T08:59:12.960Z"
   },
   {
    "duration": 410,
    "start_time": "2021-10-17T08:59:50.276Z"
   },
   {
    "duration": 12,
    "start_time": "2021-10-17T09:00:10.280Z"
   },
   {
    "duration": 11,
    "start_time": "2021-10-17T09:00:13.929Z"
   },
   {
    "duration": 10,
    "start_time": "2021-10-17T09:01:27.826Z"
   },
   {
    "duration": 9,
    "start_time": "2021-10-17T09:01:51.490Z"
   },
   {
    "duration": 276,
    "start_time": "2021-10-17T09:02:23.190Z"
   },
   {
    "duration": 12,
    "start_time": "2021-10-17T09:04:08.264Z"
   },
   {
    "duration": 7,
    "start_time": "2021-10-17T09:04:17.200Z"
   },
   {
    "duration": 7,
    "start_time": "2021-10-17T09:04:30.222Z"
   },
   {
    "duration": 5,
    "start_time": "2021-10-17T09:05:57.152Z"
   },
   {
    "duration": 6,
    "start_time": "2021-10-17T09:09:18.179Z"
   },
   {
    "duration": 11,
    "start_time": "2021-10-17T09:09:42.595Z"
   },
   {
    "duration": 13,
    "start_time": "2021-10-17T09:10:00.059Z"
   },
   {
    "duration": 13,
    "start_time": "2021-10-17T09:10:11.200Z"
   },
   {
    "duration": 4,
    "start_time": "2021-10-17T09:11:16.745Z"
   },
   {
    "duration": 6,
    "start_time": "2021-10-17T09:11:17.334Z"
   },
   {
    "duration": 5,
    "start_time": "2021-10-17T09:11:21.264Z"
   },
   {
    "duration": 10,
    "start_time": "2021-10-17T09:11:21.750Z"
   },
   {
    "duration": 11,
    "start_time": "2021-10-17T09:11:23.785Z"
   },
   {
    "duration": 11,
    "start_time": "2021-10-17T09:11:24.646Z"
   },
   {
    "duration": 4,
    "start_time": "2021-10-17T09:48:20.582Z"
   },
   {
    "duration": 3,
    "start_time": "2021-10-17T09:48:28.643Z"
   },
   {
    "duration": 362,
    "start_time": "2021-10-17T09:54:56.260Z"
   },
   {
    "duration": 277,
    "start_time": "2021-10-17T09:55:00.896Z"
   },
   {
    "duration": 3,
    "start_time": "2021-10-17T09:56:16.043Z"
   },
   {
    "duration": 7,
    "start_time": "2021-10-17T09:56:23.277Z"
   },
   {
    "duration": 496,
    "start_time": "2021-10-17T09:57:01.099Z"
   },
   {
    "duration": 313,
    "start_time": "2021-10-17T09:57:10.991Z"
   },
   {
    "duration": 272,
    "start_time": "2021-10-17T09:57:19.841Z"
   },
   {
    "duration": 262,
    "start_time": "2021-10-17T09:57:23.653Z"
   },
   {
    "duration": 5,
    "start_time": "2021-10-17T09:57:46.038Z"
   },
   {
    "duration": 3,
    "start_time": "2021-10-17T09:58:11.630Z"
   },
   {
    "duration": 3,
    "start_time": "2021-10-17T09:58:13.294Z"
   },
   {
    "duration": 6,
    "start_time": "2021-10-17T09:58:13.583Z"
   },
   {
    "duration": 394,
    "start_time": "2021-10-17T09:58:27.228Z"
   },
   {
    "duration": 7,
    "start_time": "2021-10-17T09:58:29.213Z"
   },
   {
    "duration": 5,
    "start_time": "2021-10-17T09:58:38.102Z"
   },
   {
    "duration": 5,
    "start_time": "2021-10-17T09:59:28.776Z"
   },
   {
    "duration": 7,
    "start_time": "2021-10-17T09:59:33.104Z"
   },
   {
    "duration": 6,
    "start_time": "2021-10-17T09:59:46.740Z"
   },
   {
    "duration": 8,
    "start_time": "2021-10-17T10:00:18.319Z"
   },
   {
    "duration": 7,
    "start_time": "2021-10-17T10:01:54.807Z"
   },
   {
    "duration": 1548,
    "start_time": "2021-10-18T07:17:19.136Z"
   },
   {
    "duration": 459,
    "start_time": "2021-10-18T07:17:20.686Z"
   },
   {
    "duration": 26,
    "start_time": "2021-10-18T07:17:21.148Z"
   },
   {
    "duration": 17,
    "start_time": "2021-10-18T07:17:21.177Z"
   },
   {
    "duration": 92,
    "start_time": "2021-10-18T07:17:21.196Z"
   },
   {
    "duration": 13,
    "start_time": "2021-10-18T07:17:21.290Z"
   },
   {
    "duration": 12,
    "start_time": "2021-10-18T07:17:21.305Z"
   },
   {
    "duration": 42,
    "start_time": "2021-10-18T07:17:21.320Z"
   },
   {
    "duration": 63,
    "start_time": "2021-10-18T07:17:21.366Z"
   },
   {
    "duration": 31,
    "start_time": "2021-10-18T07:17:21.433Z"
   },
   {
    "duration": 17,
    "start_time": "2021-10-18T07:17:21.466Z"
   },
   {
    "duration": 27,
    "start_time": "2021-10-18T07:17:21.485Z"
   },
   {
    "duration": 89,
    "start_time": "2021-10-18T07:17:21.514Z"
   },
   {
    "duration": 12,
    "start_time": "2021-10-18T07:17:21.605Z"
   },
   {
    "duration": 23,
    "start_time": "2021-10-18T07:17:21.620Z"
   },
   {
    "duration": 953,
    "start_time": "2021-10-18T07:17:21.645Z"
   },
   {
    "duration": 918,
    "start_time": "2021-10-18T07:17:22.600Z"
   },
   {
    "duration": 1098,
    "start_time": "2021-10-18T07:17:23.521Z"
   },
   {
    "duration": 954,
    "start_time": "2021-10-18T07:17:24.621Z"
   },
   {
    "duration": 379,
    "start_time": "2021-10-18T07:17:25.578Z"
   },
   {
    "duration": 353,
    "start_time": "2021-10-18T07:17:25.959Z"
   },
   {
    "duration": 385,
    "start_time": "2021-10-18T07:17:26.315Z"
   },
   {
    "duration": 4,
    "start_time": "2021-10-18T07:17:26.703Z"
   },
   {
    "duration": 20,
    "start_time": "2021-10-18T07:17:26.709Z"
   },
   {
    "duration": 13,
    "start_time": "2021-10-18T07:17:26.731Z"
   },
   {
    "duration": 14,
    "start_time": "2021-10-18T07:17:26.746Z"
   },
   {
    "duration": 593,
    "start_time": "2021-10-18T07:17:26.765Z"
   },
   {
    "duration": 1039,
    "start_time": "2021-10-18T07:17:26.322Z"
   },
   {
    "duration": 1038,
    "start_time": "2021-10-18T07:17:26.325Z"
   },
   {
    "duration": 992,
    "start_time": "2021-10-18T07:17:26.372Z"
   },
   {
    "duration": 991,
    "start_time": "2021-10-18T07:17:26.374Z"
   },
   {
    "duration": 992,
    "start_time": "2021-10-18T07:17:26.375Z"
   },
   {
    "duration": 988,
    "start_time": "2021-10-18T07:17:26.380Z"
   },
   {
    "duration": 988,
    "start_time": "2021-10-18T07:17:26.382Z"
   },
   {
    "duration": 988,
    "start_time": "2021-10-18T07:17:26.383Z"
   },
   {
    "duration": 986,
    "start_time": "2021-10-18T07:17:26.386Z"
   },
   {
    "duration": 985,
    "start_time": "2021-10-18T07:17:26.388Z"
   },
   {
    "duration": 985,
    "start_time": "2021-10-18T07:17:26.390Z"
   },
   {
    "duration": 985,
    "start_time": "2021-10-18T07:17:26.391Z"
   },
   {
    "duration": 985,
    "start_time": "2021-10-18T07:17:26.392Z"
   },
   {
    "duration": 985,
    "start_time": "2021-10-18T07:17:26.394Z"
   },
   {
    "duration": 984,
    "start_time": "2021-10-18T07:17:26.396Z"
   },
   {
    "duration": 984,
    "start_time": "2021-10-18T07:17:26.397Z"
   },
   {
    "duration": 378,
    "start_time": "2021-10-18T07:19:37.550Z"
   },
   {
    "duration": 391,
    "start_time": "2021-10-18T07:19:48.184Z"
   },
   {
    "duration": 4,
    "start_time": "2021-10-18T07:20:41.524Z"
   },
   {
    "duration": 21,
    "start_time": "2021-10-18T07:20:46.546Z"
   },
   {
    "duration": 6,
    "start_time": "2021-10-18T07:20:50.654Z"
   },
   {
    "duration": 17,
    "start_time": "2021-10-18T07:21:13.786Z"
   },
   {
    "duration": 5,
    "start_time": "2021-10-18T07:21:47.578Z"
   },
   {
    "duration": 398,
    "start_time": "2021-10-18T07:22:03.836Z"
   },
   {
    "duration": 7,
    "start_time": "2021-10-18T07:22:10.157Z"
   },
   {
    "duration": 12,
    "start_time": "2021-10-18T07:22:20.441Z"
   },
   {
    "duration": 14,
    "start_time": "2021-10-18T07:22:22.811Z"
   },
   {
    "duration": 6,
    "start_time": "2021-10-18T07:22:24.117Z"
   },
   {
    "duration": 5,
    "start_time": "2021-10-18T07:22:25.182Z"
   },
   {
    "duration": 20,
    "start_time": "2021-10-18T07:22:27.971Z"
   },
   {
    "duration": 7,
    "start_time": "2021-10-18T07:22:28.876Z"
   },
   {
    "duration": 14,
    "start_time": "2021-10-18T07:22:29.666Z"
   },
   {
    "duration": 14,
    "start_time": "2021-10-18T07:22:30.584Z"
   },
   {
    "duration": 6,
    "start_time": "2021-10-18T07:22:31.885Z"
   },
   {
    "duration": 5,
    "start_time": "2021-10-18T07:22:32.553Z"
   },
   {
    "duration": 19,
    "start_time": "2021-10-18T07:22:34.615Z"
   },
   {
    "duration": 5,
    "start_time": "2021-10-18T07:22:35.187Z"
   },
   {
    "duration": 14,
    "start_time": "2021-10-18T07:22:35.975Z"
   },
   {
    "duration": 14,
    "start_time": "2021-10-18T07:22:36.904Z"
   },
   {
    "duration": 6,
    "start_time": "2021-10-18T07:22:37.842Z"
   },
   {
    "duration": 6,
    "start_time": "2021-10-18T07:22:42.879Z"
   },
   {
    "duration": 4,
    "start_time": "2021-10-18T07:22:53.315Z"
   },
   {
    "duration": 6,
    "start_time": "2021-10-18T07:22:56.502Z"
   },
   {
    "duration": 4,
    "start_time": "2021-10-18T07:27:35.538Z"
   },
   {
    "duration": 4,
    "start_time": "2021-10-18T07:27:36.821Z"
   },
   {
    "duration": 3,
    "start_time": "2021-10-18T07:30:01.320Z"
   },
   {
    "duration": 5,
    "start_time": "2021-10-18T07:30:26.418Z"
   },
   {
    "duration": 7,
    "start_time": "2021-10-18T07:30:35.516Z"
   },
   {
    "duration": 8,
    "start_time": "2021-10-18T07:30:52.543Z"
   },
   {
    "duration": 9,
    "start_time": "2021-10-18T07:31:08.848Z"
   },
   {
    "duration": 9,
    "start_time": "2021-10-18T07:31:14.285Z"
   },
   {
    "duration": 12,
    "start_time": "2021-10-18T07:31:55.316Z"
   },
   {
    "duration": 9,
    "start_time": "2021-10-18T07:32:22.104Z"
   },
   {
    "duration": 8,
    "start_time": "2021-10-18T07:32:32.894Z"
   },
   {
    "duration": 7,
    "start_time": "2021-10-18T07:34:52.085Z"
   },
   {
    "duration": 5,
    "start_time": "2021-10-18T07:37:44.731Z"
   },
   {
    "duration": 16,
    "start_time": "2021-10-18T07:38:00.669Z"
   },
   {
    "duration": 9,
    "start_time": "2021-10-18T07:38:25.071Z"
   },
   {
    "duration": 13,
    "start_time": "2021-10-18T07:39:20.442Z"
   },
   {
    "duration": 9,
    "start_time": "2021-10-18T07:40:11.451Z"
   },
   {
    "duration": 9,
    "start_time": "2021-10-18T07:40:44.210Z"
   },
   {
    "duration": 8,
    "start_time": "2021-10-18T07:40:49.728Z"
   },
   {
    "duration": 1471,
    "start_time": "2021-10-18T07:41:38.105Z"
   },
   {
    "duration": 461,
    "start_time": "2021-10-18T07:41:39.579Z"
   },
   {
    "duration": 23,
    "start_time": "2021-10-18T07:41:40.043Z"
   },
   {
    "duration": 25,
    "start_time": "2021-10-18T07:41:40.069Z"
   },
   {
    "duration": 82,
    "start_time": "2021-10-18T07:41:40.096Z"
   },
   {
    "duration": 13,
    "start_time": "2021-10-18T07:41:40.180Z"
   },
   {
    "duration": 14,
    "start_time": "2021-10-18T07:41:40.196Z"
   },
   {
    "duration": 44,
    "start_time": "2021-10-18T07:41:40.214Z"
   },
   {
    "duration": 69,
    "start_time": "2021-10-18T07:41:40.261Z"
   },
   {
    "duration": 30,
    "start_time": "2021-10-18T07:41:40.332Z"
   },
   {
    "duration": 15,
    "start_time": "2021-10-18T07:41:40.364Z"
   },
   {
    "duration": 18,
    "start_time": "2021-10-18T07:41:40.382Z"
   },
   {
    "duration": 106,
    "start_time": "2021-10-18T07:41:40.402Z"
   },
   {
    "duration": 13,
    "start_time": "2021-10-18T07:41:40.510Z"
   },
   {
    "duration": 8,
    "start_time": "2021-10-18T07:41:40.525Z"
   },
   {
    "duration": 949,
    "start_time": "2021-10-18T07:41:40.535Z"
   },
   {
    "duration": 907,
    "start_time": "2021-10-18T07:41:41.488Z"
   },
   {
    "duration": 1012,
    "start_time": "2021-10-18T07:41:42.397Z"
   },
   {
    "duration": 902,
    "start_time": "2021-10-18T07:41:43.412Z"
   },
   {
    "duration": 394,
    "start_time": "2021-10-18T07:41:44.317Z"
   },
   {
    "duration": 401,
    "start_time": "2021-10-18T07:41:44.714Z"
   },
   {
    "duration": 453,
    "start_time": "2021-10-18T07:41:45.118Z"
   },
   {
    "duration": 3,
    "start_time": "2021-10-18T07:41:45.579Z"
   },
   {
    "duration": 12,
    "start_time": "2021-10-18T07:41:45.586Z"
   },
   {
    "duration": 8,
    "start_time": "2021-10-18T07:41:45.600Z"
   },
   {
    "duration": 9,
    "start_time": "2021-10-18T07:41:45.611Z"
   },
   {
    "duration": 49,
    "start_time": "2021-10-18T07:41:45.623Z"
   },
   {
    "duration": 7,
    "start_time": "2021-10-18T07:41:45.675Z"
   },
   {
    "duration": 75,
    "start_time": "2021-10-18T07:41:45.685Z"
   },
   {
    "duration": 96,
    "start_time": "2021-10-18T07:41:45.764Z"
   },
   {
    "duration": 5,
    "start_time": "2021-10-18T07:41:45.863Z"
   },
   {
    "duration": 24,
    "start_time": "2021-10-18T07:41:45.870Z"
   },
   {
    "duration": 6,
    "start_time": "2021-10-18T07:41:45.896Z"
   },
   {
    "duration": 56,
    "start_time": "2021-10-18T07:41:45.905Z"
   },
   {
    "duration": 187,
    "start_time": "2021-10-18T07:41:45.969Z"
   },
   {
    "duration": 5,
    "start_time": "2021-10-18T07:41:46.159Z"
   },
   {
    "duration": 23,
    "start_time": "2021-10-18T07:41:46.166Z"
   },
   {
    "duration": 5,
    "start_time": "2021-10-18T07:41:46.192Z"
   },
   {
    "duration": 59,
    "start_time": "2021-10-18T07:41:46.199Z"
   },
   {
    "duration": 98,
    "start_time": "2021-10-18T07:41:46.262Z"
   },
   {
    "duration": 5,
    "start_time": "2021-10-18T07:41:46.362Z"
   },
   {
    "duration": 9,
    "start_time": "2021-10-18T07:41:46.369Z"
   },
   {
    "duration": 7,
    "start_time": "2021-10-18T07:41:46.380Z"
   },
   {
    "duration": 9,
    "start_time": "2021-10-18T07:41:46.389Z"
   },
   {
    "duration": 7,
    "start_time": "2021-10-18T07:41:46.400Z"
   },
   {
    "duration": 7,
    "start_time": "2021-10-18T07:41:46.409Z"
   },
   {
    "duration": 51,
    "start_time": "2021-10-18T07:41:46.419Z"
   },
   {
    "duration": 11,
    "start_time": "2021-10-18T07:41:46.472Z"
   },
   {
    "duration": 8,
    "start_time": "2021-10-18T07:41:46.486Z"
   },
   {
    "duration": 8,
    "start_time": "2021-10-18T07:41:46.497Z"
   },
   {
    "duration": 10,
    "start_time": "2021-10-18T07:42:49.200Z"
   },
   {
    "duration": 10,
    "start_time": "2021-10-18T07:43:38.158Z"
   },
   {
    "duration": 9,
    "start_time": "2021-10-18T07:43:51.895Z"
   },
   {
    "duration": 6,
    "start_time": "2021-10-18T07:44:22.852Z"
   },
   {
    "duration": 7,
    "start_time": "2021-10-18T07:44:29.884Z"
   },
   {
    "duration": 5217,
    "start_time": "2021-10-18T07:50:17.186Z"
   },
   {
    "duration": 4,
    "start_time": "2021-10-18T07:50:43.087Z"
   },
   {
    "duration": 6,
    "start_time": "2021-10-18T07:50:48.683Z"
   },
   {
    "duration": 5,
    "start_time": "2021-10-18T07:51:03.415Z"
   },
   {
    "duration": 6,
    "start_time": "2021-10-18T07:52:37.703Z"
   },
   {
    "duration": 5,
    "start_time": "2021-10-18T07:52:49.884Z"
   },
   {
    "duration": 4,
    "start_time": "2021-10-18T07:54:33.359Z"
   },
   {
    "duration": 4,
    "start_time": "2021-10-18T07:54:44.451Z"
   },
   {
    "duration": 639,
    "start_time": "2021-10-18T07:55:28.601Z"
   },
   {
    "duration": 5,
    "start_time": "2021-10-18T07:56:41.271Z"
   },
   {
    "duration": 4,
    "start_time": "2021-10-18T07:57:11.044Z"
   },
   {
    "duration": 406,
    "start_time": "2021-10-18T07:57:14.924Z"
   },
   {
    "duration": 3,
    "start_time": "2021-10-18T07:57:27.940Z"
   },
   {
    "duration": 3,
    "start_time": "2021-10-18T07:57:31.221Z"
   },
   {
    "duration": 5,
    "start_time": "2021-10-18T07:57:40.940Z"
   },
   {
    "duration": 4,
    "start_time": "2021-10-18T07:57:41.348Z"
   },
   {
    "duration": 3,
    "start_time": "2021-10-18T07:57:41.725Z"
   },
   {
    "duration": 5255,
    "start_time": "2021-10-18T07:57:42.294Z"
   },
   {
    "duration": 4,
    "start_time": "2021-10-18T07:57:49.255Z"
   },
   {
    "duration": 6,
    "start_time": "2021-10-18T07:57:50.151Z"
   },
   {
    "duration": 5,
    "start_time": "2021-10-18T07:57:59.973Z"
   },
   {
    "duration": 4,
    "start_time": "2021-10-18T07:58:07.821Z"
   },
   {
    "duration": 4,
    "start_time": "2021-10-18T07:58:08.325Z"
   },
   {
    "duration": 3,
    "start_time": "2021-10-18T07:58:08.896Z"
   },
   {
    "duration": 3,
    "start_time": "2021-10-18T07:58:09.489Z"
   },
   {
    "duration": 5251,
    "start_time": "2021-10-18T07:58:12.861Z"
   },
   {
    "duration": 5,
    "start_time": "2021-10-18T07:58:18.604Z"
   },
   {
    "duration": 7,
    "start_time": "2021-10-18T07:58:19.591Z"
   },
   {
    "duration": 4,
    "start_time": "2021-10-18T07:58:20.380Z"
   },
   {
    "duration": 4,
    "start_time": "2021-10-18T07:58:24.710Z"
   },
   {
    "duration": 5,
    "start_time": "2021-10-18T07:58:25.543Z"
   },
   {
    "duration": 4,
    "start_time": "2021-10-18T07:58:26.461Z"
   },
   {
    "duration": 3,
    "start_time": "2021-10-18T07:58:27.461Z"
   },
   {
    "duration": 5062,
    "start_time": "2021-10-18T07:58:28.451Z"
   },
   {
    "duration": 4,
    "start_time": "2021-10-18T07:58:34.031Z"
   },
   {
    "duration": 6,
    "start_time": "2021-10-18T07:58:34.809Z"
   },
   {
    "duration": 6,
    "start_time": "2021-10-18T07:58:35.494Z"
   },
   {
    "duration": 6,
    "start_time": "2021-10-18T08:02:07.959Z"
   },
   {
    "duration": 7,
    "start_time": "2021-10-18T08:09:46.310Z"
   },
   {
    "duration": 5349,
    "start_time": "2021-10-18T08:10:30.319Z"
   },
   {
    "duration": 7,
    "start_time": "2021-10-18T08:11:08.225Z"
   },
   {
    "duration": 5349,
    "start_time": "2021-10-18T08:11:09.294Z"
   },
   {
    "duration": 7,
    "start_time": "2021-10-18T08:12:15.953Z"
   },
   {
    "duration": 5323,
    "start_time": "2021-10-18T08:12:16.805Z"
   },
   {
    "duration": 5238,
    "start_time": "2021-10-18T08:12:38.204Z"
   },
   {
    "duration": 5268,
    "start_time": "2021-10-18T08:13:04.218Z"
   },
   {
    "duration": 7,
    "start_time": "2021-10-18T08:13:35.825Z"
   },
   {
    "duration": 5184,
    "start_time": "2021-10-18T08:13:36.828Z"
   },
   {
    "duration": 5243,
    "start_time": "2021-10-18T08:13:42.015Z"
   },
   {
    "duration": 5152,
    "start_time": "2021-10-18T08:13:47.261Z"
   },
   {
    "duration": 1666,
    "start_time": "2021-10-18T08:15:40.197Z"
   },
   {
    "duration": 457,
    "start_time": "2021-10-18T08:15:41.865Z"
   },
   {
    "duration": 20,
    "start_time": "2021-10-18T08:15:42.326Z"
   },
   {
    "duration": 17,
    "start_time": "2021-10-18T08:15:42.357Z"
   },
   {
    "duration": 83,
    "start_time": "2021-10-18T08:15:42.376Z"
   },
   {
    "duration": 12,
    "start_time": "2021-10-18T08:15:42.462Z"
   },
   {
    "duration": 26,
    "start_time": "2021-10-18T08:15:42.476Z"
   },
   {
    "duration": 17,
    "start_time": "2021-10-18T08:15:42.505Z"
   },
   {
    "duration": 87,
    "start_time": "2021-10-18T08:15:42.529Z"
   },
   {
    "duration": 13,
    "start_time": "2021-10-18T08:15:42.618Z"
   },
   {
    "duration": 30,
    "start_time": "2021-10-18T08:15:42.633Z"
   },
   {
    "duration": 32,
    "start_time": "2021-10-18T08:15:42.665Z"
   },
   {
    "duration": 77,
    "start_time": "2021-10-18T08:15:42.699Z"
   },
   {
    "duration": 13,
    "start_time": "2021-10-18T08:15:42.778Z"
   },
   {
    "duration": 9,
    "start_time": "2021-10-18T08:15:42.793Z"
   },
   {
    "duration": 962,
    "start_time": "2021-10-18T08:15:42.804Z"
   },
   {
    "duration": 959,
    "start_time": "2021-10-18T08:15:43.769Z"
   },
   {
    "duration": 996,
    "start_time": "2021-10-18T08:15:44.730Z"
   },
   {
    "duration": 940,
    "start_time": "2021-10-18T08:15:45.729Z"
   },
   {
    "duration": 429,
    "start_time": "2021-10-18T08:15:46.671Z"
   },
   {
    "duration": 419,
    "start_time": "2021-10-18T08:15:47.103Z"
   },
   {
    "duration": 411,
    "start_time": "2021-10-18T08:15:47.524Z"
   },
   {
    "duration": 4,
    "start_time": "2021-10-18T08:15:47.937Z"
   },
   {
    "duration": 16,
    "start_time": "2021-10-18T08:15:47.944Z"
   },
   {
    "duration": 7,
    "start_time": "2021-10-18T08:15:47.962Z"
   },
   {
    "duration": 8,
    "start_time": "2021-10-18T08:15:47.972Z"
   },
   {
    "duration": 24,
    "start_time": "2021-10-18T08:15:47.987Z"
   },
   {
    "duration": 44,
    "start_time": "2021-10-18T08:15:48.015Z"
   },
   {
    "duration": 98,
    "start_time": "2021-10-18T08:15:48.062Z"
   },
   {
    "duration": 97,
    "start_time": "2021-10-18T08:15:48.163Z"
   },
   {
    "duration": 7,
    "start_time": "2021-10-18T08:15:48.263Z"
   },
   {
    "duration": 21,
    "start_time": "2021-10-18T08:15:48.273Z"
   },
   {
    "duration": 5,
    "start_time": "2021-10-18T08:15:48.297Z"
   },
   {
    "duration": 68,
    "start_time": "2021-10-18T08:15:48.304Z"
   },
   {
    "duration": 7,
    "start_time": "2021-10-18T08:15:48.460Z"
   },
   {
    "duration": 9,
    "start_time": "2021-10-18T08:15:48.558Z"
   },
   {
    "duration": 25,
    "start_time": "2021-10-18T08:15:48.570Z"
   },
   {
    "duration": 6,
    "start_time": "2021-10-18T08:15:48.598Z"
   },
   {
    "duration": 55,
    "start_time": "2021-10-18T08:15:48.607Z"
   },
   {
    "duration": 95,
    "start_time": "2021-10-18T08:15:48.665Z"
   },
   {
    "duration": 98,
    "start_time": "2021-10-18T08:15:48.763Z"
   },
   {
    "duration": 5,
    "start_time": "2021-10-18T08:15:48.863Z"
   },
   {
    "duration": 7,
    "start_time": "2021-10-18T08:15:48.870Z"
   },
   {
    "duration": 6,
    "start_time": "2021-10-18T08:15:48.879Z"
   },
   {
    "duration": 7,
    "start_time": "2021-10-18T08:15:48.887Z"
   },
   {
    "duration": 7,
    "start_time": "2021-10-18T08:15:48.896Z"
   },
   {
    "duration": 5110,
    "start_time": "2021-10-18T08:15:48.905Z"
   },
   {
    "duration": 5106,
    "start_time": "2021-10-18T08:15:54.018Z"
   },
   {
    "duration": 5103,
    "start_time": "2021-10-18T08:15:59.126Z"
   },
   {
    "duration": 1658,
    "start_time": "2021-10-18T08:21:01.328Z"
   },
   {
    "duration": 522,
    "start_time": "2021-10-18T08:21:02.989Z"
   },
   {
    "duration": 18,
    "start_time": "2021-10-18T08:21:03.513Z"
   },
   {
    "duration": 29,
    "start_time": "2021-10-18T08:21:03.534Z"
   },
   {
    "duration": 113,
    "start_time": "2021-10-18T08:21:03.566Z"
   },
   {
    "duration": 21,
    "start_time": "2021-10-18T08:21:03.682Z"
   },
   {
    "duration": 39,
    "start_time": "2021-10-18T08:21:03.708Z"
   },
   {
    "duration": 26,
    "start_time": "2021-10-18T08:21:03.769Z"
   },
   {
    "duration": 170,
    "start_time": "2021-10-18T08:21:03.799Z"
   },
   {
    "duration": 22,
    "start_time": "2021-10-18T08:21:03.978Z"
   },
   {
    "duration": 32,
    "start_time": "2021-10-18T08:21:04.004Z"
   },
   {
    "duration": 39,
    "start_time": "2021-10-18T08:21:04.047Z"
   },
   {
    "duration": 92,
    "start_time": "2021-10-18T08:21:04.096Z"
   },
   {
    "duration": 13,
    "start_time": "2021-10-18T08:21:04.190Z"
   },
   {
    "duration": 10,
    "start_time": "2021-10-18T08:21:04.205Z"
   },
   {
    "duration": 960,
    "start_time": "2021-10-18T08:21:04.218Z"
   },
   {
    "duration": 913,
    "start_time": "2021-10-18T08:21:05.181Z"
   },
   {
    "duration": 1001,
    "start_time": "2021-10-18T08:21:06.096Z"
   },
   {
    "duration": 886,
    "start_time": "2021-10-18T08:21:07.099Z"
   },
   {
    "duration": 397,
    "start_time": "2021-10-18T08:21:07.987Z"
   },
   {
    "duration": 403,
    "start_time": "2021-10-18T08:21:08.387Z"
   },
   {
    "duration": 403,
    "start_time": "2021-10-18T08:21:08.792Z"
   },
   {
    "duration": 3,
    "start_time": "2021-10-18T08:21:09.201Z"
   },
   {
    "duration": 6,
    "start_time": "2021-10-18T08:21:09.207Z"
   },
   {
    "duration": 7,
    "start_time": "2021-10-18T08:21:09.216Z"
   },
   {
    "duration": 47,
    "start_time": "2021-10-18T08:21:09.226Z"
   },
   {
    "duration": 7,
    "start_time": "2021-10-18T08:21:09.275Z"
   },
   {
    "duration": 79,
    "start_time": "2021-10-18T08:21:09.284Z"
   },
   {
    "duration": 97,
    "start_time": "2021-10-18T08:21:09.367Z"
   },
   {
    "duration": 13,
    "start_time": "2021-10-18T08:21:09.467Z"
   },
   {
    "duration": 31,
    "start_time": "2021-10-18T08:21:09.483Z"
   },
   {
    "duration": 7,
    "start_time": "2021-10-18T08:21:09.517Z"
   },
   {
    "duration": 18,
    "start_time": "2021-10-18T08:21:09.559Z"
   },
   {
    "duration": 81,
    "start_time": "2021-10-18T08:21:09.580Z"
   },
   {
    "duration": 96,
    "start_time": "2021-10-18T08:21:09.664Z"
   },
   {
    "duration": 30,
    "start_time": "2021-10-18T08:21:09.763Z"
   },
   {
    "duration": 6,
    "start_time": "2021-10-18T08:21:09.795Z"
   },
   {
    "duration": 55,
    "start_time": "2021-10-18T08:21:09.803Z"
   },
   {
    "duration": 97,
    "start_time": "2021-10-18T08:21:09.861Z"
   },
   {
    "duration": 5,
    "start_time": "2021-10-18T08:21:09.961Z"
   },
   {
    "duration": 8,
    "start_time": "2021-10-18T08:21:09.968Z"
   },
   {
    "duration": 8,
    "start_time": "2021-10-18T08:21:09.978Z"
   },
   {
    "duration": 9,
    "start_time": "2021-10-18T08:21:09.988Z"
   },
   {
    "duration": 16,
    "start_time": "2021-10-18T08:21:09.999Z"
   },
   {
    "duration": 40,
    "start_time": "2021-10-18T08:21:10.018Z"
   },
   {
    "duration": 5267,
    "start_time": "2021-10-18T08:21:10.060Z"
   },
   {
    "duration": 5324,
    "start_time": "2021-10-18T08:21:15.330Z"
   },
   {
    "duration": 5601,
    "start_time": "2021-10-18T08:21:20.658Z"
   },
   {
    "duration": 6,
    "start_time": "2021-10-18T10:04:48.471Z"
   },
   {
    "duration": 354,
    "start_time": "2021-10-18T10:23:46.765Z"
   },
   {
    "duration": 417,
    "start_time": "2021-10-18T10:26:25.403Z"
   },
   {
    "duration": 391,
    "start_time": "2021-10-18T10:26:27.909Z"
   },
   {
    "duration": 4,
    "start_time": "2021-10-18T10:29:57.713Z"
   },
   {
    "duration": 1481,
    "start_time": "2021-10-18T10:31:42.994Z"
   },
   {
    "duration": 472,
    "start_time": "2021-10-18T10:31:44.477Z"
   },
   {
    "duration": 18,
    "start_time": "2021-10-18T10:31:44.952Z"
   },
   {
    "duration": 16,
    "start_time": "2021-10-18T10:31:44.972Z"
   },
   {
    "duration": 104,
    "start_time": "2021-10-18T10:31:44.991Z"
   },
   {
    "duration": 12,
    "start_time": "2021-10-18T10:31:45.098Z"
   },
   {
    "duration": 11,
    "start_time": "2021-10-18T10:31:45.113Z"
   },
   {
    "duration": 43,
    "start_time": "2021-10-18T10:31:45.127Z"
   },
   {
    "duration": 85,
    "start_time": "2021-10-18T10:31:45.175Z"
   },
   {
    "duration": 13,
    "start_time": "2021-10-18T10:31:45.263Z"
   },
   {
    "duration": 12,
    "start_time": "2021-10-18T10:31:45.279Z"
   },
   {
    "duration": 15,
    "start_time": "2021-10-18T10:31:45.294Z"
   },
   {
    "duration": 107,
    "start_time": "2021-10-18T10:31:45.312Z"
   },
   {
    "duration": 42,
    "start_time": "2021-10-18T10:31:45.422Z"
   },
   {
    "duration": 6,
    "start_time": "2021-10-18T10:31:45.466Z"
   },
   {
    "duration": 941,
    "start_time": "2021-10-18T10:31:45.475Z"
   },
   {
    "duration": 909,
    "start_time": "2021-10-18T10:31:46.419Z"
   },
   {
    "duration": 1028,
    "start_time": "2021-10-18T10:31:47.331Z"
   },
   {
    "duration": 1059,
    "start_time": "2021-10-18T10:31:48.362Z"
   },
   {
    "duration": 396,
    "start_time": "2021-10-18T10:31:49.423Z"
   },
   {
    "duration": 385,
    "start_time": "2021-10-18T10:31:49.822Z"
   },
   {
    "duration": 405,
    "start_time": "2021-10-18T10:31:50.211Z"
   },
   {
    "duration": 4,
    "start_time": "2021-10-18T10:31:50.619Z"
   },
   {
    "duration": 11,
    "start_time": "2021-10-18T10:31:50.626Z"
   },
   {
    "duration": 6,
    "start_time": "2021-10-18T10:31:50.659Z"
   },
   {
    "duration": 6,
    "start_time": "2021-10-18T10:31:50.669Z"
   },
   {
    "duration": 25,
    "start_time": "2021-10-18T10:31:50.682Z"
   },
   {
    "duration": 53,
    "start_time": "2021-10-18T10:31:50.710Z"
   },
   {
    "duration": 15,
    "start_time": "2021-10-18T10:32:16.130Z"
   },
   {
    "duration": 22,
    "start_time": "2021-10-18T10:32:28.257Z"
   },
   {
    "duration": 22,
    "start_time": "2021-10-18T10:32:54.420Z"
   },
   {
    "duration": 23,
    "start_time": "2021-10-18T10:33:15.990Z"
   },
   {
    "duration": 15,
    "start_time": "2021-10-18T10:33:30.451Z"
   },
   {
    "duration": 15,
    "start_time": "2021-10-18T10:34:03.300Z"
   },
   {
    "duration": 15,
    "start_time": "2021-10-18T10:34:11.699Z"
   },
   {
    "duration": 5,
    "start_time": "2021-10-18T10:36:33.412Z"
   },
   {
    "duration": 15,
    "start_time": "2021-10-18T10:37:07.837Z"
   },
   {
    "duration": 14,
    "start_time": "2021-10-18T10:37:13.294Z"
   },
   {
    "duration": 24,
    "start_time": "2021-10-18T10:37:27.631Z"
   },
   {
    "duration": 5,
    "start_time": "2021-10-18T10:37:28.472Z"
   },
   {
    "duration": 6,
    "start_time": "2021-10-18T10:37:29.222Z"
   },
   {
    "duration": 22,
    "start_time": "2021-10-18T10:37:35.580Z"
   },
   {
    "duration": 6,
    "start_time": "2021-10-18T10:37:41.300Z"
   },
   {
    "duration": 16,
    "start_time": "2021-10-18T10:37:56.338Z"
   },
   {
    "duration": 16,
    "start_time": "2021-10-18T10:37:57.115Z"
   },
   {
    "duration": 6,
    "start_time": "2021-10-18T10:37:57.651Z"
   },
   {
    "duration": 7,
    "start_time": "2021-10-18T10:37:59.892Z"
   },
   {
    "duration": 19,
    "start_time": "2021-10-18T10:38:11.236Z"
   },
   {
    "duration": 5,
    "start_time": "2021-10-18T10:38:12.041Z"
   },
   {
    "duration": 36,
    "start_time": "2021-10-18T10:38:22.621Z"
   },
   {
    "duration": 5,
    "start_time": "2021-10-18T10:38:23.067Z"
   },
   {
    "duration": 6,
    "start_time": "2021-10-18T10:38:24.189Z"
   },
   {
    "duration": 4,
    "start_time": "2021-10-18T10:38:39.325Z"
   },
   {
    "duration": 6,
    "start_time": "2021-10-18T10:38:39.851Z"
   },
   {
    "duration": 4,
    "start_time": "2021-10-18T10:38:42.237Z"
   },
   {
    "duration": 5,
    "start_time": "2021-10-18T10:38:42.735Z"
   },
   {
    "duration": 7,
    "start_time": "2021-10-18T10:38:44.506Z"
   },
   {
    "duration": 5127,
    "start_time": "2021-10-18T10:38:45.487Z"
   },
   {
    "duration": 5122,
    "start_time": "2021-10-18T10:38:50.617Z"
   },
   {
    "duration": 5163,
    "start_time": "2021-10-18T10:38:55.742Z"
   },
   {
    "duration": 1485,
    "start_time": "2021-10-18T10:55:09.684Z"
   },
   {
    "duration": 463,
    "start_time": "2021-10-18T10:55:11.171Z"
   },
   {
    "duration": 27,
    "start_time": "2021-10-18T10:55:11.639Z"
   },
   {
    "duration": 33,
    "start_time": "2021-10-18T10:55:11.670Z"
   },
   {
    "duration": 78,
    "start_time": "2021-10-18T10:55:11.706Z"
   },
   {
    "duration": 14,
    "start_time": "2021-10-18T10:55:11.787Z"
   },
   {
    "duration": 17,
    "start_time": "2021-10-18T10:55:11.804Z"
   },
   {
    "duration": 37,
    "start_time": "2021-10-18T10:55:11.824Z"
   },
   {
    "duration": 62,
    "start_time": "2021-10-18T10:55:11.866Z"
   },
   {
    "duration": 11,
    "start_time": "2021-10-18T10:55:11.957Z"
   },
   {
    "duration": 31,
    "start_time": "2021-10-18T10:55:11.971Z"
   },
   {
    "duration": 27,
    "start_time": "2021-10-18T10:55:12.005Z"
   },
   {
    "duration": 66,
    "start_time": "2021-10-18T10:55:12.035Z"
   },
   {
    "duration": 14,
    "start_time": "2021-10-18T10:55:12.103Z"
   },
   {
    "duration": 21,
    "start_time": "2021-10-18T10:55:12.119Z"
   },
   {
    "duration": 961,
    "start_time": "2021-10-18T10:55:12.142Z"
   },
   {
    "duration": 928,
    "start_time": "2021-10-18T10:55:13.106Z"
   },
   {
    "duration": 1030,
    "start_time": "2021-10-18T10:55:14.037Z"
   },
   {
    "duration": 911,
    "start_time": "2021-10-18T10:55:15.069Z"
   },
   {
    "duration": 425,
    "start_time": "2021-10-18T10:55:15.983Z"
   },
   {
    "duration": 398,
    "start_time": "2021-10-18T10:55:16.411Z"
   },
   {
    "duration": 395,
    "start_time": "2021-10-18T10:55:16.812Z"
   },
   {
    "duration": 4,
    "start_time": "2021-10-18T10:55:17.210Z"
   },
   {
    "duration": 14,
    "start_time": "2021-10-18T10:55:17.217Z"
   },
   {
    "duration": 8,
    "start_time": "2021-10-18T10:55:17.233Z"
   },
   {
    "duration": 7,
    "start_time": "2021-10-18T10:55:17.258Z"
   },
   {
    "duration": 19,
    "start_time": "2021-10-18T10:55:17.272Z"
   },
   {
    "duration": 48,
    "start_time": "2021-10-18T10:55:17.294Z"
   },
   {
    "duration": 10,
    "start_time": "2021-10-18T10:55:17.344Z"
   },
   {
    "duration": 23,
    "start_time": "2021-10-18T10:55:17.357Z"
   },
   {
    "duration": 77,
    "start_time": "2021-10-18T10:55:17.382Z"
   },
   {
    "duration": 106,
    "start_time": "2021-10-18T10:55:17.462Z"
   },
   {
    "duration": 21,
    "start_time": "2021-10-18T10:55:17.571Z"
   },
   {
    "duration": 36,
    "start_time": "2021-10-18T10:55:17.595Z"
   },
   {
    "duration": 14,
    "start_time": "2021-10-18T10:55:17.634Z"
   },
   {
    "duration": 30,
    "start_time": "2021-10-18T10:55:17.650Z"
   },
   {
    "duration": 24,
    "start_time": "2021-10-18T10:55:17.683Z"
   },
   {
    "duration": 100,
    "start_time": "2021-10-18T10:55:17.761Z"
   },
   {
    "duration": 10,
    "start_time": "2021-10-18T10:55:17.864Z"
   },
   {
    "duration": 22,
    "start_time": "2021-10-18T10:55:17.876Z"
   },
   {
    "duration": 5,
    "start_time": "2021-10-18T10:55:17.901Z"
   },
   {
    "duration": 58,
    "start_time": "2021-10-18T10:55:17.909Z"
   },
   {
    "duration": 7,
    "start_time": "2021-10-18T10:55:18.059Z"
   },
   {
    "duration": 6,
    "start_time": "2021-10-18T10:55:18.159Z"
   },
   {
    "duration": 7,
    "start_time": "2021-10-18T10:55:18.167Z"
   },
   {
    "duration": 7,
    "start_time": "2021-10-18T10:55:18.177Z"
   },
   {
    "duration": 5,
    "start_time": "2021-10-18T10:55:18.187Z"
   },
   {
    "duration": 5,
    "start_time": "2021-10-18T10:55:18.194Z"
   },
   {
    "duration": 55,
    "start_time": "2021-10-18T10:55:18.202Z"
   },
   {
    "duration": 5252,
    "start_time": "2021-10-18T10:55:18.261Z"
   },
   {
    "duration": 5341,
    "start_time": "2021-10-18T10:55:23.516Z"
   },
   {
    "duration": 5152,
    "start_time": "2021-10-18T10:55:28.860Z"
   },
   {
    "duration": 2805,
    "start_time": "2021-10-19T07:52:37.871Z"
   },
   {
    "duration": 4139,
    "start_time": "2021-10-19T07:52:40.679Z"
   },
   {
    "duration": 16,
    "start_time": "2021-10-19T07:52:44.821Z"
   },
   {
    "duration": 10,
    "start_time": "2021-10-19T07:52:44.839Z"
   },
   {
    "duration": 57,
    "start_time": "2021-10-19T07:52:44.851Z"
   },
   {
    "duration": 10,
    "start_time": "2021-10-19T07:52:44.910Z"
   },
   {
    "duration": 8,
    "start_time": "2021-10-19T07:52:44.921Z"
   },
   {
    "duration": 12,
    "start_time": "2021-10-19T07:52:44.931Z"
   },
   {
    "duration": 64,
    "start_time": "2021-10-19T07:52:44.946Z"
   },
   {
    "duration": 10,
    "start_time": "2021-10-19T07:52:45.012Z"
   },
   {
    "duration": 21,
    "start_time": "2021-10-19T07:52:45.023Z"
   },
   {
    "duration": 11,
    "start_time": "2021-10-19T07:52:45.046Z"
   },
   {
    "duration": 52,
    "start_time": "2021-10-19T07:52:45.059Z"
   },
   {
    "duration": 10,
    "start_time": "2021-10-19T07:52:45.113Z"
   },
   {
    "duration": 7,
    "start_time": "2021-10-19T07:52:45.124Z"
   },
   {
    "duration": 560,
    "start_time": "2021-10-19T07:52:45.132Z"
   },
   {
    "duration": 538,
    "start_time": "2021-10-19T07:52:45.694Z"
   },
   {
    "duration": 633,
    "start_time": "2021-10-19T07:52:46.235Z"
   },
   {
    "duration": 569,
    "start_time": "2021-10-19T07:52:46.870Z"
   },
   {
    "duration": 312,
    "start_time": "2021-10-19T07:52:47.441Z"
   },
   {
    "duration": 284,
    "start_time": "2021-10-19T07:52:47.754Z"
   },
   {
    "duration": 294,
    "start_time": "2021-10-19T07:52:48.039Z"
   },
   {
    "duration": 2,
    "start_time": "2021-10-19T07:52:48.335Z"
   },
   {
    "duration": 19,
    "start_time": "2021-10-19T07:52:48.339Z"
   },
   {
    "duration": 9,
    "start_time": "2021-10-19T07:52:48.360Z"
   },
   {
    "duration": 16,
    "start_time": "2021-10-19T07:52:48.370Z"
   },
   {
    "duration": 8,
    "start_time": "2021-10-19T07:52:48.390Z"
   },
   {
    "duration": 21,
    "start_time": "2021-10-19T07:52:48.400Z"
   },
   {
    "duration": 4,
    "start_time": "2021-10-19T07:52:48.423Z"
   },
   {
    "duration": 18,
    "start_time": "2021-10-19T07:52:48.428Z"
   },
   {
    "duration": 33,
    "start_time": "2021-10-19T07:52:48.448Z"
   },
   {
    "duration": 102,
    "start_time": "2021-10-19T07:52:48.483Z"
   },
   {
    "duration": 91,
    "start_time": "2021-10-19T07:52:48.587Z"
   },
   {
    "duration": 17,
    "start_time": "2021-10-19T07:52:48.680Z"
   },
   {
    "duration": 4,
    "start_time": "2021-10-19T07:52:48.699Z"
   },
   {
    "duration": 15,
    "start_time": "2021-10-19T07:52:48.705Z"
   },
   {
    "duration": 62,
    "start_time": "2021-10-19T07:52:48.721Z"
   },
   {
    "duration": 92,
    "start_time": "2021-10-19T07:52:48.785Z"
   },
   {
    "duration": 4,
    "start_time": "2021-10-19T07:52:48.879Z"
   },
   {
    "duration": 92,
    "start_time": "2021-10-19T07:52:48.885Z"
   },
   {
    "duration": 3,
    "start_time": "2021-10-19T07:52:48.979Z"
   },
   {
    "duration": 22,
    "start_time": "2021-10-19T07:52:48.984Z"
   },
   {
    "duration": 71,
    "start_time": "2021-10-19T07:52:49.009Z"
   },
   {
    "duration": 96,
    "start_time": "2021-10-19T07:52:49.083Z"
   },
   {
    "duration": 7,
    "start_time": "2021-10-19T07:52:49.180Z"
   },
   {
    "duration": 27,
    "start_time": "2021-10-19T07:52:49.189Z"
   },
   {
    "duration": 5,
    "start_time": "2021-10-19T07:52:49.217Z"
   },
   {
    "duration": 6,
    "start_time": "2021-10-19T07:52:49.224Z"
   },
   {
    "duration": 6,
    "start_time": "2021-10-19T07:52:49.231Z"
   },
   {
    "duration": 3239,
    "start_time": "2021-10-19T07:52:49.239Z"
   },
   {
    "duration": 3081,
    "start_time": "2021-10-19T07:52:52.479Z"
   },
   {
    "duration": 3008,
    "start_time": "2021-10-19T07:52:55.562Z"
   },
   {
    "duration": 1173,
    "start_time": "2021-10-19T07:57:28.295Z"
   },
   {
    "duration": 378,
    "start_time": "2021-10-19T07:57:29.470Z"
   },
   {
    "duration": 14,
    "start_time": "2021-10-19T07:57:29.850Z"
   },
   {
    "duration": 16,
    "start_time": "2021-10-19T07:57:29.866Z"
   },
   {
    "duration": 42,
    "start_time": "2021-10-19T07:57:29.884Z"
   },
   {
    "duration": 11,
    "start_time": "2021-10-19T07:57:29.928Z"
   },
   {
    "duration": 37,
    "start_time": "2021-10-19T07:57:29.941Z"
   },
   {
    "duration": 12,
    "start_time": "2021-10-19T07:57:29.981Z"
   },
   {
    "duration": 41,
    "start_time": "2021-10-19T07:57:29.995Z"
   },
   {
    "duration": 20,
    "start_time": "2021-10-19T07:57:30.038Z"
   },
   {
    "duration": 9,
    "start_time": "2021-10-19T07:57:30.078Z"
   },
   {
    "duration": 17,
    "start_time": "2021-10-19T07:57:30.089Z"
   },
   {
    "duration": 44,
    "start_time": "2021-10-19T07:57:30.108Z"
   },
   {
    "duration": 11,
    "start_time": "2021-10-19T07:57:30.176Z"
   },
   {
    "duration": 23,
    "start_time": "2021-10-19T07:57:30.189Z"
   },
   {
    "duration": 535,
    "start_time": "2021-10-19T07:57:30.214Z"
   },
   {
    "duration": 530,
    "start_time": "2021-10-19T07:57:30.751Z"
   },
   {
    "duration": 604,
    "start_time": "2021-10-19T07:57:31.284Z"
   },
   {
    "duration": 526,
    "start_time": "2021-10-19T07:57:31.891Z"
   },
   {
    "duration": 299,
    "start_time": "2021-10-19T07:57:32.419Z"
   },
   {
    "duration": 277,
    "start_time": "2021-10-19T07:57:32.720Z"
   },
   {
    "duration": 282,
    "start_time": "2021-10-19T07:57:32.999Z"
   },
   {
    "duration": 3,
    "start_time": "2021-10-19T07:57:33.284Z"
   },
   {
    "duration": 5,
    "start_time": "2021-10-19T07:57:33.289Z"
   },
   {
    "duration": 10,
    "start_time": "2021-10-19T07:57:33.296Z"
   },
   {
    "duration": 9,
    "start_time": "2021-10-19T07:57:33.307Z"
   },
   {
    "duration": 14,
    "start_time": "2021-10-19T07:57:33.318Z"
   },
   {
    "duration": 21,
    "start_time": "2021-10-19T07:57:33.333Z"
   },
   {
    "duration": 3,
    "start_time": "2021-10-19T07:57:33.356Z"
   },
   {
    "duration": 19,
    "start_time": "2021-10-19T07:57:33.361Z"
   },
   {
    "duration": 17,
    "start_time": "2021-10-19T07:57:33.382Z"
   },
   {
    "duration": 5,
    "start_time": "2021-10-19T07:57:33.478Z"
   },
   {
    "duration": 94,
    "start_time": "2021-10-19T07:57:33.485Z"
   },
   {
    "duration": 20,
    "start_time": "2021-10-19T07:57:33.580Z"
   },
   {
    "duration": 3,
    "start_time": "2021-10-19T07:57:33.602Z"
   },
   {
    "duration": 14,
    "start_time": "2021-10-19T07:57:33.607Z"
   },
   {
    "duration": 58,
    "start_time": "2021-10-19T07:57:33.622Z"
   },
   {
    "duration": 95,
    "start_time": "2021-10-19T07:57:33.683Z"
   },
   {
    "duration": 11,
    "start_time": "2021-10-19T07:57:33.780Z"
   },
   {
    "duration": 36,
    "start_time": "2021-10-19T07:57:33.792Z"
   },
   {
    "duration": 5,
    "start_time": "2021-10-19T07:57:33.829Z"
   },
   {
    "duration": 41,
    "start_time": "2021-10-19T07:57:33.836Z"
   },
   {
    "duration": 6,
    "start_time": "2021-10-19T07:57:33.880Z"
   },
   {
    "duration": 5,
    "start_time": "2021-10-19T07:57:33.978Z"
   },
   {
    "duration": 12,
    "start_time": "2021-10-19T07:57:33.985Z"
   },
   {
    "duration": 7,
    "start_time": "2021-10-19T07:57:33.999Z"
   },
   {
    "duration": 69,
    "start_time": "2021-10-19T07:57:34.008Z"
   },
   {
    "duration": 7,
    "start_time": "2021-10-19T07:57:34.078Z"
   },
   {
    "duration": 11,
    "start_time": "2021-10-19T07:57:34.087Z"
   },
   {
    "duration": 3031,
    "start_time": "2021-10-19T07:57:34.100Z"
   },
   {
    "duration": 3020,
    "start_time": "2021-10-19T07:57:37.132Z"
   },
   {
    "duration": 3079,
    "start_time": "2021-10-19T07:57:40.154Z"
   }
  ],
  "kernelspec": {
   "display_name": "Python 3",
   "language": "python",
   "name": "python3"
  },
  "language_info": {
   "codemirror_mode": {
    "name": "ipython",
    "version": 3
   },
   "file_extension": ".py",
   "mimetype": "text/x-python",
   "name": "python",
   "nbconvert_exporter": "python",
   "pygments_lexer": "ipython3",
   "version": "3.8.5"
  },
  "toc": {
   "base_numbering": 1,
   "nav_menu": {},
   "number_sections": true,
   "sideBar": true,
   "skip_h1_title": true,
   "title_cell": "Table of Contents",
   "title_sidebar": "Contents",
   "toc_cell": false,
   "toc_position": {},
   "toc_section_display": true,
   "toc_window_display": false
  }
 },
 "nbformat": 4,
 "nbformat_minor": 2
}
