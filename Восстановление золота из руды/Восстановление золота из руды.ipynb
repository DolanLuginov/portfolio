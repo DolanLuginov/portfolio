{
 "cells": [
  {
   "cell_type": "markdown",
   "metadata": {},
   "source": [
    "# Восстановление золота из руды"
   ]
  },
  {
   "cell_type": "markdown",
   "metadata": {},
   "source": [
    "Нам нужно подготовить прототип модели машинного обучения для «Цифры». Компания разрабатывает решения для эффективной работы промышленных предприятий. Модель должна предсказать коэффициент восстановления золота из золотосодержащей руды. В нашем распоряжении данные с параметрами добычи и очистки. Модель поможет оптимизировать производство, чтобы не запускать предприятие с убыточными характеристиками."
   ]
  },
  {
   "cell_type": "markdown",
   "metadata": {},
   "source": [
    "# Подготовка данных"
   ]
  },
  {
   "cell_type": "code",
   "execution_count": 1,
   "metadata": {},
   "outputs": [],
   "source": [
    "import numpy as np\n",
    "import pandas as pd\n",
    "import matplotlib.pyplot as plt\n",
    "%matplotlib inline\n",
    "import seaborn as sns\n",
    "\n",
    "from sklearn.metrics import mean_absolute_error\n",
    "from sklearn.linear_model import LinearRegression\n",
    "from sklearn.linear_model import Lasso\n",
    "from sklearn.linear_model import Ridge\n",
    "from sklearn.ensemble import RandomForestRegressor\n",
    "from sklearn.model_selection import GridSearchCV\n",
    "from sklearn.metrics import make_scorer\n",
    "\n",
    "import warnings\n",
    "warnings.filterwarnings(\"ignore\")\n",
    "\n",
    "from IPython import display"
   ]
  },
  {
   "cell_type": "markdown",
   "metadata": {},
   "source": [
    "Так как индексы у нас должны быть датой, применим соответствующие параметры при чтении файлов"
   ]
  },
  {
   "cell_type": "code",
   "execution_count": 2,
   "metadata": {},
   "outputs": [],
   "source": [
    "df = pd.read_csv('gold_recovery_full_new.csv', parse_dates=['date'], index_col='date')"
   ]
  },
  {
   "cell_type": "code",
   "execution_count": 3,
   "metadata": {},
   "outputs": [],
   "source": [
    "train = pd.read_csv('gold_recovery_train_new.csv', parse_dates=['date'], index_col='date')"
   ]
  },
  {
   "cell_type": "code",
   "execution_count": 4,
   "metadata": {},
   "outputs": [],
   "source": [
    "test = pd.read_csv('gold_recovery_test_new.csv', parse_dates=['date'], index_col='date')"
   ]
  },
  {
   "cell_type": "code",
   "execution_count": 5,
   "metadata": {
    "scrolled": true
   },
   "outputs": [
    {
     "data": {
      "text/plain": [
       "DatetimeIndex(['2016-01-15 00:00:00', '2016-01-15 01:00:00',\n",
       "               '2016-01-15 02:00:00', '2016-01-15 03:00:00',\n",
       "               '2016-01-15 04:00:00', '2016-01-15 05:00:00',\n",
       "               '2016-01-15 06:00:00', '2016-01-15 07:00:00',\n",
       "               '2016-01-15 08:00:00', '2016-01-15 09:00:00',\n",
       "               ...\n",
       "               '2018-08-18 01:59:59', '2018-08-18 02:59:59',\n",
       "               '2018-08-18 03:59:59', '2018-08-18 04:59:59',\n",
       "               '2018-08-18 05:59:59', '2018-08-18 06:59:59',\n",
       "               '2018-08-18 07:59:59', '2018-08-18 08:59:59',\n",
       "               '2018-08-18 09:59:59', '2018-08-18 10:59:59'],\n",
       "              dtype='datetime64[ns]', name='date', length=19439, freq=None)"
      ]
     },
     "execution_count": 5,
     "metadata": {},
     "output_type": "execute_result"
    }
   ],
   "source": [
    "df.index"
   ]
  },
  {
   "cell_type": "markdown",
   "metadata": {},
   "source": [
    "Тип данных у индексов datetime"
   ]
  },
  {
   "cell_type": "code",
   "execution_count": 6,
   "metadata": {
    "scrolled": true
   },
   "outputs": [
    {
     "data": {
      "text/html": [
       "<div>\n",
       "<style scoped>\n",
       "    .dataframe tbody tr th:only-of-type {\n",
       "        vertical-align: middle;\n",
       "    }\n",
       "\n",
       "    .dataframe tbody tr th {\n",
       "        vertical-align: top;\n",
       "    }\n",
       "\n",
       "    .dataframe thead th {\n",
       "        text-align: right;\n",
       "    }\n",
       "</style>\n",
       "<table border=\"1\" class=\"dataframe\">\n",
       "  <thead>\n",
       "    <tr style=\"text-align: right;\">\n",
       "      <th></th>\n",
       "      <th>final.output.concentrate_ag</th>\n",
       "      <th>final.output.concentrate_pb</th>\n",
       "      <th>final.output.concentrate_sol</th>\n",
       "      <th>final.output.concentrate_au</th>\n",
       "      <th>final.output.recovery</th>\n",
       "      <th>final.output.tail_ag</th>\n",
       "      <th>final.output.tail_pb</th>\n",
       "      <th>final.output.tail_sol</th>\n",
       "      <th>final.output.tail_au</th>\n",
       "      <th>primary_cleaner.input.sulfate</th>\n",
       "      <th>...</th>\n",
       "      <th>secondary_cleaner.state.floatbank4_a_air</th>\n",
       "      <th>secondary_cleaner.state.floatbank4_a_level</th>\n",
       "      <th>secondary_cleaner.state.floatbank4_b_air</th>\n",
       "      <th>secondary_cleaner.state.floatbank4_b_level</th>\n",
       "      <th>secondary_cleaner.state.floatbank5_a_air</th>\n",
       "      <th>secondary_cleaner.state.floatbank5_a_level</th>\n",
       "      <th>secondary_cleaner.state.floatbank5_b_air</th>\n",
       "      <th>secondary_cleaner.state.floatbank5_b_level</th>\n",
       "      <th>secondary_cleaner.state.floatbank6_a_air</th>\n",
       "      <th>secondary_cleaner.state.floatbank6_a_level</th>\n",
       "    </tr>\n",
       "    <tr>\n",
       "      <th>date</th>\n",
       "      <th></th>\n",
       "      <th></th>\n",
       "      <th></th>\n",
       "      <th></th>\n",
       "      <th></th>\n",
       "      <th></th>\n",
       "      <th></th>\n",
       "      <th></th>\n",
       "      <th></th>\n",
       "      <th></th>\n",
       "      <th></th>\n",
       "      <th></th>\n",
       "      <th></th>\n",
       "      <th></th>\n",
       "      <th></th>\n",
       "      <th></th>\n",
       "      <th></th>\n",
       "      <th></th>\n",
       "      <th></th>\n",
       "      <th></th>\n",
       "      <th></th>\n",
       "    </tr>\n",
       "  </thead>\n",
       "  <tbody>\n",
       "    <tr>\n",
       "      <th>2016-01-15 00:00:00</th>\n",
       "      <td>6.055403</td>\n",
       "      <td>9.889648</td>\n",
       "      <td>5.507324</td>\n",
       "      <td>42.192020</td>\n",
       "      <td>70.541216</td>\n",
       "      <td>10.411962</td>\n",
       "      <td>0.895447</td>\n",
       "      <td>16.904297</td>\n",
       "      <td>2.143149</td>\n",
       "      <td>127.092003</td>\n",
       "      <td>...</td>\n",
       "      <td>14.016835</td>\n",
       "      <td>-502.488007</td>\n",
       "      <td>12.099931</td>\n",
       "      <td>-504.715942</td>\n",
       "      <td>9.925633</td>\n",
       "      <td>-498.310211</td>\n",
       "      <td>8.079666</td>\n",
       "      <td>-500.470978</td>\n",
       "      <td>14.151341</td>\n",
       "      <td>-605.841980</td>\n",
       "    </tr>\n",
       "    <tr>\n",
       "      <th>2016-01-15 01:00:00</th>\n",
       "      <td>6.029369</td>\n",
       "      <td>9.968944</td>\n",
       "      <td>5.257781</td>\n",
       "      <td>42.701629</td>\n",
       "      <td>69.266198</td>\n",
       "      <td>10.462676</td>\n",
       "      <td>0.927452</td>\n",
       "      <td>16.634514</td>\n",
       "      <td>2.224930</td>\n",
       "      <td>125.629232</td>\n",
       "      <td>...</td>\n",
       "      <td>13.992281</td>\n",
       "      <td>-505.503262</td>\n",
       "      <td>11.950531</td>\n",
       "      <td>-501.331529</td>\n",
       "      <td>10.039245</td>\n",
       "      <td>-500.169983</td>\n",
       "      <td>7.984757</td>\n",
       "      <td>-500.582168</td>\n",
       "      <td>13.998353</td>\n",
       "      <td>-599.787184</td>\n",
       "    </tr>\n",
       "    <tr>\n",
       "      <th>2016-01-15 02:00:00</th>\n",
       "      <td>6.055926</td>\n",
       "      <td>10.213995</td>\n",
       "      <td>5.383759</td>\n",
       "      <td>42.657501</td>\n",
       "      <td>68.116445</td>\n",
       "      <td>10.507046</td>\n",
       "      <td>0.953716</td>\n",
       "      <td>16.208849</td>\n",
       "      <td>2.257889</td>\n",
       "      <td>123.819808</td>\n",
       "      <td>...</td>\n",
       "      <td>14.015015</td>\n",
       "      <td>-502.520901</td>\n",
       "      <td>11.912783</td>\n",
       "      <td>-501.133383</td>\n",
       "      <td>10.070913</td>\n",
       "      <td>-500.129135</td>\n",
       "      <td>8.013877</td>\n",
       "      <td>-500.517572</td>\n",
       "      <td>14.028663</td>\n",
       "      <td>-601.427363</td>\n",
       "    </tr>\n",
       "    <tr>\n",
       "      <th>2016-01-15 03:00:00</th>\n",
       "      <td>6.047977</td>\n",
       "      <td>9.977019</td>\n",
       "      <td>4.858634</td>\n",
       "      <td>42.689819</td>\n",
       "      <td>68.347543</td>\n",
       "      <td>10.422762</td>\n",
       "      <td>0.883763</td>\n",
       "      <td>16.532835</td>\n",
       "      <td>2.146849</td>\n",
       "      <td>122.270188</td>\n",
       "      <td>...</td>\n",
       "      <td>14.036510</td>\n",
       "      <td>-500.857308</td>\n",
       "      <td>11.999550</td>\n",
       "      <td>-501.193686</td>\n",
       "      <td>9.970366</td>\n",
       "      <td>-499.201640</td>\n",
       "      <td>7.977324</td>\n",
       "      <td>-500.255908</td>\n",
       "      <td>14.005551</td>\n",
       "      <td>-599.996129</td>\n",
       "    </tr>\n",
       "    <tr>\n",
       "      <th>2016-01-15 04:00:00</th>\n",
       "      <td>6.148599</td>\n",
       "      <td>10.142511</td>\n",
       "      <td>4.939416</td>\n",
       "      <td>42.774141</td>\n",
       "      <td>66.927016</td>\n",
       "      <td>10.360302</td>\n",
       "      <td>0.792826</td>\n",
       "      <td>16.525686</td>\n",
       "      <td>2.055292</td>\n",
       "      <td>117.988169</td>\n",
       "      <td>...</td>\n",
       "      <td>14.027298</td>\n",
       "      <td>-499.838632</td>\n",
       "      <td>11.953070</td>\n",
       "      <td>-501.053894</td>\n",
       "      <td>9.925709</td>\n",
       "      <td>-501.686727</td>\n",
       "      <td>7.894242</td>\n",
       "      <td>-500.356035</td>\n",
       "      <td>13.996647</td>\n",
       "      <td>-601.496691</td>\n",
       "    </tr>\n",
       "  </tbody>\n",
       "</table>\n",
       "<p>5 rows × 86 columns</p>\n",
       "</div>"
      ],
      "text/plain": [
       "                     final.output.concentrate_ag  final.output.concentrate_pb  \\\n",
       "date                                                                            \n",
       "2016-01-15 00:00:00                     6.055403                     9.889648   \n",
       "2016-01-15 01:00:00                     6.029369                     9.968944   \n",
       "2016-01-15 02:00:00                     6.055926                    10.213995   \n",
       "2016-01-15 03:00:00                     6.047977                     9.977019   \n",
       "2016-01-15 04:00:00                     6.148599                    10.142511   \n",
       "\n",
       "                     final.output.concentrate_sol  \\\n",
       "date                                                \n",
       "2016-01-15 00:00:00                      5.507324   \n",
       "2016-01-15 01:00:00                      5.257781   \n",
       "2016-01-15 02:00:00                      5.383759   \n",
       "2016-01-15 03:00:00                      4.858634   \n",
       "2016-01-15 04:00:00                      4.939416   \n",
       "\n",
       "                     final.output.concentrate_au  final.output.recovery  \\\n",
       "date                                                                      \n",
       "2016-01-15 00:00:00                    42.192020              70.541216   \n",
       "2016-01-15 01:00:00                    42.701629              69.266198   \n",
       "2016-01-15 02:00:00                    42.657501              68.116445   \n",
       "2016-01-15 03:00:00                    42.689819              68.347543   \n",
       "2016-01-15 04:00:00                    42.774141              66.927016   \n",
       "\n",
       "                     final.output.tail_ag  final.output.tail_pb  \\\n",
       "date                                                              \n",
       "2016-01-15 00:00:00             10.411962              0.895447   \n",
       "2016-01-15 01:00:00             10.462676              0.927452   \n",
       "2016-01-15 02:00:00             10.507046              0.953716   \n",
       "2016-01-15 03:00:00             10.422762              0.883763   \n",
       "2016-01-15 04:00:00             10.360302              0.792826   \n",
       "\n",
       "                     final.output.tail_sol  final.output.tail_au  \\\n",
       "date                                                               \n",
       "2016-01-15 00:00:00              16.904297              2.143149   \n",
       "2016-01-15 01:00:00              16.634514              2.224930   \n",
       "2016-01-15 02:00:00              16.208849              2.257889   \n",
       "2016-01-15 03:00:00              16.532835              2.146849   \n",
       "2016-01-15 04:00:00              16.525686              2.055292   \n",
       "\n",
       "                     primary_cleaner.input.sulfate  ...  \\\n",
       "date                                                ...   \n",
       "2016-01-15 00:00:00                     127.092003  ...   \n",
       "2016-01-15 01:00:00                     125.629232  ...   \n",
       "2016-01-15 02:00:00                     123.819808  ...   \n",
       "2016-01-15 03:00:00                     122.270188  ...   \n",
       "2016-01-15 04:00:00                     117.988169  ...   \n",
       "\n",
       "                     secondary_cleaner.state.floatbank4_a_air  \\\n",
       "date                                                            \n",
       "2016-01-15 00:00:00                                 14.016835   \n",
       "2016-01-15 01:00:00                                 13.992281   \n",
       "2016-01-15 02:00:00                                 14.015015   \n",
       "2016-01-15 03:00:00                                 14.036510   \n",
       "2016-01-15 04:00:00                                 14.027298   \n",
       "\n",
       "                     secondary_cleaner.state.floatbank4_a_level  \\\n",
       "date                                                              \n",
       "2016-01-15 00:00:00                                 -502.488007   \n",
       "2016-01-15 01:00:00                                 -505.503262   \n",
       "2016-01-15 02:00:00                                 -502.520901   \n",
       "2016-01-15 03:00:00                                 -500.857308   \n",
       "2016-01-15 04:00:00                                 -499.838632   \n",
       "\n",
       "                     secondary_cleaner.state.floatbank4_b_air  \\\n",
       "date                                                            \n",
       "2016-01-15 00:00:00                                 12.099931   \n",
       "2016-01-15 01:00:00                                 11.950531   \n",
       "2016-01-15 02:00:00                                 11.912783   \n",
       "2016-01-15 03:00:00                                 11.999550   \n",
       "2016-01-15 04:00:00                                 11.953070   \n",
       "\n",
       "                     secondary_cleaner.state.floatbank4_b_level  \\\n",
       "date                                                              \n",
       "2016-01-15 00:00:00                                 -504.715942   \n",
       "2016-01-15 01:00:00                                 -501.331529   \n",
       "2016-01-15 02:00:00                                 -501.133383   \n",
       "2016-01-15 03:00:00                                 -501.193686   \n",
       "2016-01-15 04:00:00                                 -501.053894   \n",
       "\n",
       "                     secondary_cleaner.state.floatbank5_a_air  \\\n",
       "date                                                            \n",
       "2016-01-15 00:00:00                                  9.925633   \n",
       "2016-01-15 01:00:00                                 10.039245   \n",
       "2016-01-15 02:00:00                                 10.070913   \n",
       "2016-01-15 03:00:00                                  9.970366   \n",
       "2016-01-15 04:00:00                                  9.925709   \n",
       "\n",
       "                     secondary_cleaner.state.floatbank5_a_level  \\\n",
       "date                                                              \n",
       "2016-01-15 00:00:00                                 -498.310211   \n",
       "2016-01-15 01:00:00                                 -500.169983   \n",
       "2016-01-15 02:00:00                                 -500.129135   \n",
       "2016-01-15 03:00:00                                 -499.201640   \n",
       "2016-01-15 04:00:00                                 -501.686727   \n",
       "\n",
       "                     secondary_cleaner.state.floatbank5_b_air  \\\n",
       "date                                                            \n",
       "2016-01-15 00:00:00                                  8.079666   \n",
       "2016-01-15 01:00:00                                  7.984757   \n",
       "2016-01-15 02:00:00                                  8.013877   \n",
       "2016-01-15 03:00:00                                  7.977324   \n",
       "2016-01-15 04:00:00                                  7.894242   \n",
       "\n",
       "                     secondary_cleaner.state.floatbank5_b_level  \\\n",
       "date                                                              \n",
       "2016-01-15 00:00:00                                 -500.470978   \n",
       "2016-01-15 01:00:00                                 -500.582168   \n",
       "2016-01-15 02:00:00                                 -500.517572   \n",
       "2016-01-15 03:00:00                                 -500.255908   \n",
       "2016-01-15 04:00:00                                 -500.356035   \n",
       "\n",
       "                     secondary_cleaner.state.floatbank6_a_air  \\\n",
       "date                                                            \n",
       "2016-01-15 00:00:00                                 14.151341   \n",
       "2016-01-15 01:00:00                                 13.998353   \n",
       "2016-01-15 02:00:00                                 14.028663   \n",
       "2016-01-15 03:00:00                                 14.005551   \n",
       "2016-01-15 04:00:00                                 13.996647   \n",
       "\n",
       "                     secondary_cleaner.state.floatbank6_a_level  \n",
       "date                                                             \n",
       "2016-01-15 00:00:00                                 -605.841980  \n",
       "2016-01-15 01:00:00                                 -599.787184  \n",
       "2016-01-15 02:00:00                                 -601.427363  \n",
       "2016-01-15 03:00:00                                 -599.996129  \n",
       "2016-01-15 04:00:00                                 -601.496691  \n",
       "\n",
       "[5 rows x 86 columns]"
      ]
     },
     "execution_count": 6,
     "metadata": {},
     "output_type": "execute_result"
    }
   ],
   "source": [
    "df.head()"
   ]
  },
  {
   "cell_type": "code",
   "execution_count": 7,
   "metadata": {
    "scrolled": true
   },
   "outputs": [
    {
     "name": "stdout",
     "output_type": "stream",
     "text": [
      "<class 'pandas.core.frame.DataFrame'>\n",
      "DatetimeIndex: 19439 entries, 2016-01-15 00:00:00 to 2018-08-18 10:59:59\n",
      "Data columns (total 86 columns):\n",
      " #   Column                                              Non-Null Count  Dtype  \n",
      "---  ------                                              --------------  -----  \n",
      " 0   final.output.concentrate_ag                         19438 non-null  float64\n",
      " 1   final.output.concentrate_pb                         19438 non-null  float64\n",
      " 2   final.output.concentrate_sol                        19228 non-null  float64\n",
      " 3   final.output.concentrate_au                         19439 non-null  float64\n",
      " 4   final.output.recovery                               19439 non-null  float64\n",
      " 5   final.output.tail_ag                                19438 non-null  float64\n",
      " 6   final.output.tail_pb                                19338 non-null  float64\n",
      " 7   final.output.tail_sol                               19433 non-null  float64\n",
      " 8   final.output.tail_au                                19439 non-null  float64\n",
      " 9   primary_cleaner.input.sulfate                       19415 non-null  float64\n",
      " 10  primary_cleaner.input.depressant                    19402 non-null  float64\n",
      " 11  primary_cleaner.input.feed_size                     19439 non-null  float64\n",
      " 12  primary_cleaner.input.xanthate                      19335 non-null  float64\n",
      " 13  primary_cleaner.output.concentrate_ag               19439 non-null  float64\n",
      " 14  primary_cleaner.output.concentrate_pb               19323 non-null  float64\n",
      " 15  primary_cleaner.output.concentrate_sol              19069 non-null  float64\n",
      " 16  primary_cleaner.output.concentrate_au               19439 non-null  float64\n",
      " 17  primary_cleaner.output.tail_ag                      19435 non-null  float64\n",
      " 18  primary_cleaner.output.tail_pb                      19418 non-null  float64\n",
      " 19  primary_cleaner.output.tail_sol                     19377 non-null  float64\n",
      " 20  primary_cleaner.output.tail_au                      19439 non-null  float64\n",
      " 21  primary_cleaner.state.floatbank8_a_air              19435 non-null  float64\n",
      " 22  primary_cleaner.state.floatbank8_a_level            19438 non-null  float64\n",
      " 23  primary_cleaner.state.floatbank8_b_air              19435 non-null  float64\n",
      " 24  primary_cleaner.state.floatbank8_b_level            19438 non-null  float64\n",
      " 25  primary_cleaner.state.floatbank8_c_air              19437 non-null  float64\n",
      " 26  primary_cleaner.state.floatbank8_c_level            19438 non-null  float64\n",
      " 27  primary_cleaner.state.floatbank8_d_air              19436 non-null  float64\n",
      " 28  primary_cleaner.state.floatbank8_d_level            19438 non-null  float64\n",
      " 29  rougher.calculation.sulfate_to_au_concentrate       19437 non-null  float64\n",
      " 30  rougher.calculation.floatbank10_sulfate_to_au_feed  19437 non-null  float64\n",
      " 31  rougher.calculation.floatbank11_sulfate_to_au_feed  19437 non-null  float64\n",
      " 32  rougher.calculation.au_pb_ratio                     19439 non-null  float64\n",
      " 33  rougher.input.feed_ag                               19439 non-null  float64\n",
      " 34  rougher.input.feed_pb                               19339 non-null  float64\n",
      " 35  rougher.input.feed_rate                             19428 non-null  float64\n",
      " 36  rougher.input.feed_size                             19294 non-null  float64\n",
      " 37  rougher.input.feed_sol                              19340 non-null  float64\n",
      " 38  rougher.input.feed_au                               19439 non-null  float64\n",
      " 39  rougher.input.floatbank10_sulfate                   19405 non-null  float64\n",
      " 40  rougher.input.floatbank10_xanthate                  19431 non-null  float64\n",
      " 41  rougher.input.floatbank11_sulfate                   19395 non-null  float64\n",
      " 42  rougher.input.floatbank11_xanthate                  18986 non-null  float64\n",
      " 43  rougher.output.concentrate_ag                       19439 non-null  float64\n",
      " 44  rougher.output.concentrate_pb                       19439 non-null  float64\n",
      " 45  rougher.output.concentrate_sol                      19416 non-null  float64\n",
      " 46  rougher.output.concentrate_au                       19439 non-null  float64\n",
      " 47  rougher.output.recovery                             19439 non-null  float64\n",
      " 48  rougher.output.tail_ag                              19438 non-null  float64\n",
      " 49  rougher.output.tail_pb                              19439 non-null  float64\n",
      " 50  rougher.output.tail_sol                             19439 non-null  float64\n",
      " 51  rougher.output.tail_au                              19439 non-null  float64\n",
      " 52  rougher.state.floatbank10_a_air                     19438 non-null  float64\n",
      " 53  rougher.state.floatbank10_a_level                   19438 non-null  float64\n",
      " 54  rougher.state.floatbank10_b_air                     19438 non-null  float64\n",
      " 55  rougher.state.floatbank10_b_level                   19438 non-null  float64\n",
      " 56  rougher.state.floatbank10_c_air                     19438 non-null  float64\n",
      " 57  rougher.state.floatbank10_c_level                   19438 non-null  float64\n",
      " 58  rougher.state.floatbank10_d_air                     19439 non-null  float64\n",
      " 59  rougher.state.floatbank10_d_level                   19439 non-null  float64\n",
      " 60  rougher.state.floatbank10_e_air                     19003 non-null  float64\n",
      " 61  rougher.state.floatbank10_e_level                   19439 non-null  float64\n",
      " 62  rougher.state.floatbank10_f_air                     19439 non-null  float64\n",
      " 63  rougher.state.floatbank10_f_level                   19439 non-null  float64\n",
      " 64  secondary_cleaner.output.tail_ag                    19437 non-null  float64\n",
      " 65  secondary_cleaner.output.tail_pb                    19427 non-null  float64\n",
      " 66  secondary_cleaner.output.tail_sol                   17691 non-null  float64\n",
      " 67  secondary_cleaner.output.tail_au                    19439 non-null  float64\n",
      " 68  secondary_cleaner.state.floatbank2_a_air            19219 non-null  float64\n",
      " 69  secondary_cleaner.state.floatbank2_a_level          19438 non-null  float64\n",
      " 70  secondary_cleaner.state.floatbank2_b_air            19416 non-null  float64\n",
      " 71  secondary_cleaner.state.floatbank2_b_level          19438 non-null  float64\n",
      " 72  secondary_cleaner.state.floatbank3_a_air            19426 non-null  float64\n",
      " 73  secondary_cleaner.state.floatbank3_a_level          19438 non-null  float64\n",
      " 74  secondary_cleaner.state.floatbank3_b_air            19438 non-null  float64\n",
      " 75  secondary_cleaner.state.floatbank3_b_level          19438 non-null  float64\n",
      " 76  secondary_cleaner.state.floatbank4_a_air            19433 non-null  float64\n",
      " 77  secondary_cleaner.state.floatbank4_a_level          19438 non-null  float64\n",
      " 78  secondary_cleaner.state.floatbank4_b_air            19438 non-null  float64\n",
      " 79  secondary_cleaner.state.floatbank4_b_level          19438 non-null  float64\n",
      " 80  secondary_cleaner.state.floatbank5_a_air            19438 non-null  float64\n",
      " 81  secondary_cleaner.state.floatbank5_a_level          19438 non-null  float64\n",
      " 82  secondary_cleaner.state.floatbank5_b_air            19438 non-null  float64\n",
      " 83  secondary_cleaner.state.floatbank5_b_level          19438 non-null  float64\n",
      " 84  secondary_cleaner.state.floatbank6_a_air            19437 non-null  float64\n",
      " 85  secondary_cleaner.state.floatbank6_a_level          19438 non-null  float64\n",
      "dtypes: float64(86)\n",
      "memory usage: 12.9 MB\n"
     ]
    }
   ],
   "source": [
    "df.info()"
   ]
  },
  {
   "cell_type": "markdown",
   "metadata": {},
   "source": [
    "В основном датафрейме у нас 19439 наблюдений"
   ]
  },
  {
   "cell_type": "code",
   "execution_count": 8,
   "metadata": {
    "scrolled": true
   },
   "outputs": [
    {
     "data": {
      "text/html": [
       "<div>\n",
       "<style scoped>\n",
       "    .dataframe tbody tr th:only-of-type {\n",
       "        vertical-align: middle;\n",
       "    }\n",
       "\n",
       "    .dataframe tbody tr th {\n",
       "        vertical-align: top;\n",
       "    }\n",
       "\n",
       "    .dataframe thead th {\n",
       "        text-align: right;\n",
       "    }\n",
       "</style>\n",
       "<table border=\"1\" class=\"dataframe\">\n",
       "  <thead>\n",
       "    <tr style=\"text-align: right;\">\n",
       "      <th></th>\n",
       "      <th>final.output.concentrate_ag</th>\n",
       "      <th>final.output.concentrate_pb</th>\n",
       "      <th>final.output.concentrate_sol</th>\n",
       "      <th>final.output.concentrate_au</th>\n",
       "      <th>final.output.recovery</th>\n",
       "      <th>final.output.tail_ag</th>\n",
       "      <th>final.output.tail_pb</th>\n",
       "      <th>final.output.tail_sol</th>\n",
       "      <th>final.output.tail_au</th>\n",
       "      <th>primary_cleaner.input.sulfate</th>\n",
       "      <th>...</th>\n",
       "      <th>secondary_cleaner.state.floatbank4_a_air</th>\n",
       "      <th>secondary_cleaner.state.floatbank4_a_level</th>\n",
       "      <th>secondary_cleaner.state.floatbank4_b_air</th>\n",
       "      <th>secondary_cleaner.state.floatbank4_b_level</th>\n",
       "      <th>secondary_cleaner.state.floatbank5_a_air</th>\n",
       "      <th>secondary_cleaner.state.floatbank5_a_level</th>\n",
       "      <th>secondary_cleaner.state.floatbank5_b_air</th>\n",
       "      <th>secondary_cleaner.state.floatbank5_b_level</th>\n",
       "      <th>secondary_cleaner.state.floatbank6_a_air</th>\n",
       "      <th>secondary_cleaner.state.floatbank6_a_level</th>\n",
       "    </tr>\n",
       "    <tr>\n",
       "      <th>date</th>\n",
       "      <th></th>\n",
       "      <th></th>\n",
       "      <th></th>\n",
       "      <th></th>\n",
       "      <th></th>\n",
       "      <th></th>\n",
       "      <th></th>\n",
       "      <th></th>\n",
       "      <th></th>\n",
       "      <th></th>\n",
       "      <th></th>\n",
       "      <th></th>\n",
       "      <th></th>\n",
       "      <th></th>\n",
       "      <th></th>\n",
       "      <th></th>\n",
       "      <th></th>\n",
       "      <th></th>\n",
       "      <th></th>\n",
       "      <th></th>\n",
       "      <th></th>\n",
       "    </tr>\n",
       "  </thead>\n",
       "  <tbody>\n",
       "    <tr>\n",
       "      <th>2016-01-15 00:00:00</th>\n",
       "      <td>6.055403</td>\n",
       "      <td>9.889648</td>\n",
       "      <td>5.507324</td>\n",
       "      <td>42.192020</td>\n",
       "      <td>70.541216</td>\n",
       "      <td>10.411962</td>\n",
       "      <td>0.895447</td>\n",
       "      <td>16.904297</td>\n",
       "      <td>2.143149</td>\n",
       "      <td>127.092003</td>\n",
       "      <td>...</td>\n",
       "      <td>14.016835</td>\n",
       "      <td>-502.488007</td>\n",
       "      <td>12.099931</td>\n",
       "      <td>-504.715942</td>\n",
       "      <td>9.925633</td>\n",
       "      <td>-498.310211</td>\n",
       "      <td>8.079666</td>\n",
       "      <td>-500.470978</td>\n",
       "      <td>14.151341</td>\n",
       "      <td>-605.841980</td>\n",
       "    </tr>\n",
       "    <tr>\n",
       "      <th>2016-01-15 01:00:00</th>\n",
       "      <td>6.029369</td>\n",
       "      <td>9.968944</td>\n",
       "      <td>5.257781</td>\n",
       "      <td>42.701629</td>\n",
       "      <td>69.266198</td>\n",
       "      <td>10.462676</td>\n",
       "      <td>0.927452</td>\n",
       "      <td>16.634514</td>\n",
       "      <td>2.224930</td>\n",
       "      <td>125.629232</td>\n",
       "      <td>...</td>\n",
       "      <td>13.992281</td>\n",
       "      <td>-505.503262</td>\n",
       "      <td>11.950531</td>\n",
       "      <td>-501.331529</td>\n",
       "      <td>10.039245</td>\n",
       "      <td>-500.169983</td>\n",
       "      <td>7.984757</td>\n",
       "      <td>-500.582168</td>\n",
       "      <td>13.998353</td>\n",
       "      <td>-599.787184</td>\n",
       "    </tr>\n",
       "    <tr>\n",
       "      <th>2016-01-15 02:00:00</th>\n",
       "      <td>6.055926</td>\n",
       "      <td>10.213995</td>\n",
       "      <td>5.383759</td>\n",
       "      <td>42.657501</td>\n",
       "      <td>68.116445</td>\n",
       "      <td>10.507046</td>\n",
       "      <td>0.953716</td>\n",
       "      <td>16.208849</td>\n",
       "      <td>2.257889</td>\n",
       "      <td>123.819808</td>\n",
       "      <td>...</td>\n",
       "      <td>14.015015</td>\n",
       "      <td>-502.520901</td>\n",
       "      <td>11.912783</td>\n",
       "      <td>-501.133383</td>\n",
       "      <td>10.070913</td>\n",
       "      <td>-500.129135</td>\n",
       "      <td>8.013877</td>\n",
       "      <td>-500.517572</td>\n",
       "      <td>14.028663</td>\n",
       "      <td>-601.427363</td>\n",
       "    </tr>\n",
       "    <tr>\n",
       "      <th>2016-01-15 03:00:00</th>\n",
       "      <td>6.047977</td>\n",
       "      <td>9.977019</td>\n",
       "      <td>4.858634</td>\n",
       "      <td>42.689819</td>\n",
       "      <td>68.347543</td>\n",
       "      <td>10.422762</td>\n",
       "      <td>0.883763</td>\n",
       "      <td>16.532835</td>\n",
       "      <td>2.146849</td>\n",
       "      <td>122.270188</td>\n",
       "      <td>...</td>\n",
       "      <td>14.036510</td>\n",
       "      <td>-500.857308</td>\n",
       "      <td>11.999550</td>\n",
       "      <td>-501.193686</td>\n",
       "      <td>9.970366</td>\n",
       "      <td>-499.201640</td>\n",
       "      <td>7.977324</td>\n",
       "      <td>-500.255908</td>\n",
       "      <td>14.005551</td>\n",
       "      <td>-599.996129</td>\n",
       "    </tr>\n",
       "    <tr>\n",
       "      <th>2016-01-15 04:00:00</th>\n",
       "      <td>6.148599</td>\n",
       "      <td>10.142511</td>\n",
       "      <td>4.939416</td>\n",
       "      <td>42.774141</td>\n",
       "      <td>66.927016</td>\n",
       "      <td>10.360302</td>\n",
       "      <td>0.792826</td>\n",
       "      <td>16.525686</td>\n",
       "      <td>2.055292</td>\n",
       "      <td>117.988169</td>\n",
       "      <td>...</td>\n",
       "      <td>14.027298</td>\n",
       "      <td>-499.838632</td>\n",
       "      <td>11.953070</td>\n",
       "      <td>-501.053894</td>\n",
       "      <td>9.925709</td>\n",
       "      <td>-501.686727</td>\n",
       "      <td>7.894242</td>\n",
       "      <td>-500.356035</td>\n",
       "      <td>13.996647</td>\n",
       "      <td>-601.496691</td>\n",
       "    </tr>\n",
       "  </tbody>\n",
       "</table>\n",
       "<p>5 rows × 86 columns</p>\n",
       "</div>"
      ],
      "text/plain": [
       "                     final.output.concentrate_ag  final.output.concentrate_pb  \\\n",
       "date                                                                            \n",
       "2016-01-15 00:00:00                     6.055403                     9.889648   \n",
       "2016-01-15 01:00:00                     6.029369                     9.968944   \n",
       "2016-01-15 02:00:00                     6.055926                    10.213995   \n",
       "2016-01-15 03:00:00                     6.047977                     9.977019   \n",
       "2016-01-15 04:00:00                     6.148599                    10.142511   \n",
       "\n",
       "                     final.output.concentrate_sol  \\\n",
       "date                                                \n",
       "2016-01-15 00:00:00                      5.507324   \n",
       "2016-01-15 01:00:00                      5.257781   \n",
       "2016-01-15 02:00:00                      5.383759   \n",
       "2016-01-15 03:00:00                      4.858634   \n",
       "2016-01-15 04:00:00                      4.939416   \n",
       "\n",
       "                     final.output.concentrate_au  final.output.recovery  \\\n",
       "date                                                                      \n",
       "2016-01-15 00:00:00                    42.192020              70.541216   \n",
       "2016-01-15 01:00:00                    42.701629              69.266198   \n",
       "2016-01-15 02:00:00                    42.657501              68.116445   \n",
       "2016-01-15 03:00:00                    42.689819              68.347543   \n",
       "2016-01-15 04:00:00                    42.774141              66.927016   \n",
       "\n",
       "                     final.output.tail_ag  final.output.tail_pb  \\\n",
       "date                                                              \n",
       "2016-01-15 00:00:00             10.411962              0.895447   \n",
       "2016-01-15 01:00:00             10.462676              0.927452   \n",
       "2016-01-15 02:00:00             10.507046              0.953716   \n",
       "2016-01-15 03:00:00             10.422762              0.883763   \n",
       "2016-01-15 04:00:00             10.360302              0.792826   \n",
       "\n",
       "                     final.output.tail_sol  final.output.tail_au  \\\n",
       "date                                                               \n",
       "2016-01-15 00:00:00              16.904297              2.143149   \n",
       "2016-01-15 01:00:00              16.634514              2.224930   \n",
       "2016-01-15 02:00:00              16.208849              2.257889   \n",
       "2016-01-15 03:00:00              16.532835              2.146849   \n",
       "2016-01-15 04:00:00              16.525686              2.055292   \n",
       "\n",
       "                     primary_cleaner.input.sulfate  ...  \\\n",
       "date                                                ...   \n",
       "2016-01-15 00:00:00                     127.092003  ...   \n",
       "2016-01-15 01:00:00                     125.629232  ...   \n",
       "2016-01-15 02:00:00                     123.819808  ...   \n",
       "2016-01-15 03:00:00                     122.270188  ...   \n",
       "2016-01-15 04:00:00                     117.988169  ...   \n",
       "\n",
       "                     secondary_cleaner.state.floatbank4_a_air  \\\n",
       "date                                                            \n",
       "2016-01-15 00:00:00                                 14.016835   \n",
       "2016-01-15 01:00:00                                 13.992281   \n",
       "2016-01-15 02:00:00                                 14.015015   \n",
       "2016-01-15 03:00:00                                 14.036510   \n",
       "2016-01-15 04:00:00                                 14.027298   \n",
       "\n",
       "                     secondary_cleaner.state.floatbank4_a_level  \\\n",
       "date                                                              \n",
       "2016-01-15 00:00:00                                 -502.488007   \n",
       "2016-01-15 01:00:00                                 -505.503262   \n",
       "2016-01-15 02:00:00                                 -502.520901   \n",
       "2016-01-15 03:00:00                                 -500.857308   \n",
       "2016-01-15 04:00:00                                 -499.838632   \n",
       "\n",
       "                     secondary_cleaner.state.floatbank4_b_air  \\\n",
       "date                                                            \n",
       "2016-01-15 00:00:00                                 12.099931   \n",
       "2016-01-15 01:00:00                                 11.950531   \n",
       "2016-01-15 02:00:00                                 11.912783   \n",
       "2016-01-15 03:00:00                                 11.999550   \n",
       "2016-01-15 04:00:00                                 11.953070   \n",
       "\n",
       "                     secondary_cleaner.state.floatbank4_b_level  \\\n",
       "date                                                              \n",
       "2016-01-15 00:00:00                                 -504.715942   \n",
       "2016-01-15 01:00:00                                 -501.331529   \n",
       "2016-01-15 02:00:00                                 -501.133383   \n",
       "2016-01-15 03:00:00                                 -501.193686   \n",
       "2016-01-15 04:00:00                                 -501.053894   \n",
       "\n",
       "                     secondary_cleaner.state.floatbank5_a_air  \\\n",
       "date                                                            \n",
       "2016-01-15 00:00:00                                  9.925633   \n",
       "2016-01-15 01:00:00                                 10.039245   \n",
       "2016-01-15 02:00:00                                 10.070913   \n",
       "2016-01-15 03:00:00                                  9.970366   \n",
       "2016-01-15 04:00:00                                  9.925709   \n",
       "\n",
       "                     secondary_cleaner.state.floatbank5_a_level  \\\n",
       "date                                                              \n",
       "2016-01-15 00:00:00                                 -498.310211   \n",
       "2016-01-15 01:00:00                                 -500.169983   \n",
       "2016-01-15 02:00:00                                 -500.129135   \n",
       "2016-01-15 03:00:00                                 -499.201640   \n",
       "2016-01-15 04:00:00                                 -501.686727   \n",
       "\n",
       "                     secondary_cleaner.state.floatbank5_b_air  \\\n",
       "date                                                            \n",
       "2016-01-15 00:00:00                                  8.079666   \n",
       "2016-01-15 01:00:00                                  7.984757   \n",
       "2016-01-15 02:00:00                                  8.013877   \n",
       "2016-01-15 03:00:00                                  7.977324   \n",
       "2016-01-15 04:00:00                                  7.894242   \n",
       "\n",
       "                     secondary_cleaner.state.floatbank5_b_level  \\\n",
       "date                                                              \n",
       "2016-01-15 00:00:00                                 -500.470978   \n",
       "2016-01-15 01:00:00                                 -500.582168   \n",
       "2016-01-15 02:00:00                                 -500.517572   \n",
       "2016-01-15 03:00:00                                 -500.255908   \n",
       "2016-01-15 04:00:00                                 -500.356035   \n",
       "\n",
       "                     secondary_cleaner.state.floatbank6_a_air  \\\n",
       "date                                                            \n",
       "2016-01-15 00:00:00                                 14.151341   \n",
       "2016-01-15 01:00:00                                 13.998353   \n",
       "2016-01-15 02:00:00                                 14.028663   \n",
       "2016-01-15 03:00:00                                 14.005551   \n",
       "2016-01-15 04:00:00                                 13.996647   \n",
       "\n",
       "                     secondary_cleaner.state.floatbank6_a_level  \n",
       "date                                                             \n",
       "2016-01-15 00:00:00                                 -605.841980  \n",
       "2016-01-15 01:00:00                                 -599.787184  \n",
       "2016-01-15 02:00:00                                 -601.427363  \n",
       "2016-01-15 03:00:00                                 -599.996129  \n",
       "2016-01-15 04:00:00                                 -601.496691  \n",
       "\n",
       "[5 rows x 86 columns]"
      ]
     },
     "execution_count": 8,
     "metadata": {},
     "output_type": "execute_result"
    }
   ],
   "source": [
    "train.head()"
   ]
  },
  {
   "cell_type": "code",
   "execution_count": 9,
   "metadata": {
    "scrolled": true
   },
   "outputs": [
    {
     "name": "stdout",
     "output_type": "stream",
     "text": [
      "<class 'pandas.core.frame.DataFrame'>\n",
      "DatetimeIndex: 14149 entries, 2016-01-15 00:00:00 to 2018-08-18 10:59:59\n",
      "Data columns (total 86 columns):\n",
      " #   Column                                              Non-Null Count  Dtype  \n",
      "---  ------                                              --------------  -----  \n",
      " 0   final.output.concentrate_ag                         14148 non-null  float64\n",
      " 1   final.output.concentrate_pb                         14148 non-null  float64\n",
      " 2   final.output.concentrate_sol                        13938 non-null  float64\n",
      " 3   final.output.concentrate_au                         14149 non-null  float64\n",
      " 4   final.output.recovery                               14149 non-null  float64\n",
      " 5   final.output.tail_ag                                14149 non-null  float64\n",
      " 6   final.output.tail_pb                                14049 non-null  float64\n",
      " 7   final.output.tail_sol                               14144 non-null  float64\n",
      " 8   final.output.tail_au                                14149 non-null  float64\n",
      " 9   primary_cleaner.input.sulfate                       14129 non-null  float64\n",
      " 10  primary_cleaner.input.depressant                    14117 non-null  float64\n",
      " 11  primary_cleaner.input.feed_size                     14149 non-null  float64\n",
      " 12  primary_cleaner.input.xanthate                      14049 non-null  float64\n",
      " 13  primary_cleaner.output.concentrate_ag               14149 non-null  float64\n",
      " 14  primary_cleaner.output.concentrate_pb               14063 non-null  float64\n",
      " 15  primary_cleaner.output.concentrate_sol              13863 non-null  float64\n",
      " 16  primary_cleaner.output.concentrate_au               14149 non-null  float64\n",
      " 17  primary_cleaner.output.tail_ag                      14148 non-null  float64\n",
      " 18  primary_cleaner.output.tail_pb                      14134 non-null  float64\n",
      " 19  primary_cleaner.output.tail_sol                     14103 non-null  float64\n",
      " 20  primary_cleaner.output.tail_au                      14149 non-null  float64\n",
      " 21  primary_cleaner.state.floatbank8_a_air              14145 non-null  float64\n",
      " 22  primary_cleaner.state.floatbank8_a_level            14148 non-null  float64\n",
      " 23  primary_cleaner.state.floatbank8_b_air              14145 non-null  float64\n",
      " 24  primary_cleaner.state.floatbank8_b_level            14148 non-null  float64\n",
      " 25  primary_cleaner.state.floatbank8_c_air              14147 non-null  float64\n",
      " 26  primary_cleaner.state.floatbank8_c_level            14148 non-null  float64\n",
      " 27  primary_cleaner.state.floatbank8_d_air              14146 non-null  float64\n",
      " 28  primary_cleaner.state.floatbank8_d_level            14148 non-null  float64\n",
      " 29  rougher.calculation.sulfate_to_au_concentrate       14148 non-null  float64\n",
      " 30  rougher.calculation.floatbank10_sulfate_to_au_feed  14148 non-null  float64\n",
      " 31  rougher.calculation.floatbank11_sulfate_to_au_feed  14148 non-null  float64\n",
      " 32  rougher.calculation.au_pb_ratio                     14149 non-null  float64\n",
      " 33  rougher.input.feed_ag                               14149 non-null  float64\n",
      " 34  rougher.input.feed_pb                               14049 non-null  float64\n",
      " 35  rougher.input.feed_rate                             14141 non-null  float64\n",
      " 36  rougher.input.feed_size                             14005 non-null  float64\n",
      " 37  rougher.input.feed_sol                              14071 non-null  float64\n",
      " 38  rougher.input.feed_au                               14149 non-null  float64\n",
      " 39  rougher.input.floatbank10_sulfate                   14120 non-null  float64\n",
      " 40  rougher.input.floatbank10_xanthate                  14141 non-null  float64\n",
      " 41  rougher.input.floatbank11_sulfate                   14113 non-null  float64\n",
      " 42  rougher.input.floatbank11_xanthate                  13721 non-null  float64\n",
      " 43  rougher.output.concentrate_ag                       14149 non-null  float64\n",
      " 44  rougher.output.concentrate_pb                       14149 non-null  float64\n",
      " 45  rougher.output.concentrate_sol                      14127 non-null  float64\n",
      " 46  rougher.output.concentrate_au                       14149 non-null  float64\n",
      " 47  rougher.output.recovery                             14149 non-null  float64\n",
      " 48  rougher.output.tail_ag                              14148 non-null  float64\n",
      " 49  rougher.output.tail_pb                              14149 non-null  float64\n",
      " 50  rougher.output.tail_sol                             14149 non-null  float64\n",
      " 51  rougher.output.tail_au                              14149 non-null  float64\n",
      " 52  rougher.state.floatbank10_a_air                     14148 non-null  float64\n",
      " 53  rougher.state.floatbank10_a_level                   14148 non-null  float64\n",
      " 54  rougher.state.floatbank10_b_air                     14148 non-null  float64\n",
      " 55  rougher.state.floatbank10_b_level                   14148 non-null  float64\n",
      " 56  rougher.state.floatbank10_c_air                     14148 non-null  float64\n",
      " 57  rougher.state.floatbank10_c_level                   14148 non-null  float64\n",
      " 58  rougher.state.floatbank10_d_air                     14149 non-null  float64\n",
      " 59  rougher.state.floatbank10_d_level                   14149 non-null  float64\n",
      " 60  rougher.state.floatbank10_e_air                     13713 non-null  float64\n",
      " 61  rougher.state.floatbank10_e_level                   14149 non-null  float64\n",
      " 62  rougher.state.floatbank10_f_air                     14149 non-null  float64\n",
      " 63  rougher.state.floatbank10_f_level                   14149 non-null  float64\n",
      " 64  secondary_cleaner.output.tail_ag                    14147 non-null  float64\n",
      " 65  secondary_cleaner.output.tail_pb                    14139 non-null  float64\n",
      " 66  secondary_cleaner.output.tail_sol                   12544 non-null  float64\n",
      " 67  secondary_cleaner.output.tail_au                    14149 non-null  float64\n",
      " 68  secondary_cleaner.state.floatbank2_a_air            13932 non-null  float64\n",
      " 69  secondary_cleaner.state.floatbank2_a_level          14148 non-null  float64\n",
      " 70  secondary_cleaner.state.floatbank2_b_air            14128 non-null  float64\n",
      " 71  secondary_cleaner.state.floatbank2_b_level          14148 non-null  float64\n",
      " 72  secondary_cleaner.state.floatbank3_a_air            14145 non-null  float64\n",
      " 73  secondary_cleaner.state.floatbank3_a_level          14148 non-null  float64\n",
      " 74  secondary_cleaner.state.floatbank3_b_air            14148 non-null  float64\n",
      " 75  secondary_cleaner.state.floatbank3_b_level          14148 non-null  float64\n",
      " 76  secondary_cleaner.state.floatbank4_a_air            14143 non-null  float64\n",
      " 77  secondary_cleaner.state.floatbank4_a_level          14148 non-null  float64\n",
      " 78  secondary_cleaner.state.floatbank4_b_air            14148 non-null  float64\n",
      " 79  secondary_cleaner.state.floatbank4_b_level          14148 non-null  float64\n",
      " 80  secondary_cleaner.state.floatbank5_a_air            14148 non-null  float64\n",
      " 81  secondary_cleaner.state.floatbank5_a_level          14148 non-null  float64\n",
      " 82  secondary_cleaner.state.floatbank5_b_air            14148 non-null  float64\n",
      " 83  secondary_cleaner.state.floatbank5_b_level          14148 non-null  float64\n",
      " 84  secondary_cleaner.state.floatbank6_a_air            14147 non-null  float64\n",
      " 85  secondary_cleaner.state.floatbank6_a_level          14148 non-null  float64\n",
      "dtypes: float64(86)\n",
      "memory usage: 9.4 MB\n"
     ]
    }
   ],
   "source": [
    "train.info()"
   ]
  },
  {
   "cell_type": "markdown",
   "metadata": {},
   "source": [
    "В обучающей выборке 14149 наблюдений"
   ]
  },
  {
   "cell_type": "code",
   "execution_count": 10,
   "metadata": {
    "scrolled": true
   },
   "outputs": [
    {
     "data": {
      "text/html": [
       "<div>\n",
       "<style scoped>\n",
       "    .dataframe tbody tr th:only-of-type {\n",
       "        vertical-align: middle;\n",
       "    }\n",
       "\n",
       "    .dataframe tbody tr th {\n",
       "        vertical-align: top;\n",
       "    }\n",
       "\n",
       "    .dataframe thead th {\n",
       "        text-align: right;\n",
       "    }\n",
       "</style>\n",
       "<table border=\"1\" class=\"dataframe\">\n",
       "  <thead>\n",
       "    <tr style=\"text-align: right;\">\n",
       "      <th></th>\n",
       "      <th>primary_cleaner.input.sulfate</th>\n",
       "      <th>primary_cleaner.input.depressant</th>\n",
       "      <th>primary_cleaner.input.feed_size</th>\n",
       "      <th>primary_cleaner.input.xanthate</th>\n",
       "      <th>primary_cleaner.state.floatbank8_a_air</th>\n",
       "      <th>primary_cleaner.state.floatbank8_a_level</th>\n",
       "      <th>primary_cleaner.state.floatbank8_b_air</th>\n",
       "      <th>primary_cleaner.state.floatbank8_b_level</th>\n",
       "      <th>primary_cleaner.state.floatbank8_c_air</th>\n",
       "      <th>primary_cleaner.state.floatbank8_c_level</th>\n",
       "      <th>...</th>\n",
       "      <th>secondary_cleaner.state.floatbank4_a_air</th>\n",
       "      <th>secondary_cleaner.state.floatbank4_a_level</th>\n",
       "      <th>secondary_cleaner.state.floatbank4_b_air</th>\n",
       "      <th>secondary_cleaner.state.floatbank4_b_level</th>\n",
       "      <th>secondary_cleaner.state.floatbank5_a_air</th>\n",
       "      <th>secondary_cleaner.state.floatbank5_a_level</th>\n",
       "      <th>secondary_cleaner.state.floatbank5_b_air</th>\n",
       "      <th>secondary_cleaner.state.floatbank5_b_level</th>\n",
       "      <th>secondary_cleaner.state.floatbank6_a_air</th>\n",
       "      <th>secondary_cleaner.state.floatbank6_a_level</th>\n",
       "    </tr>\n",
       "    <tr>\n",
       "      <th>date</th>\n",
       "      <th></th>\n",
       "      <th></th>\n",
       "      <th></th>\n",
       "      <th></th>\n",
       "      <th></th>\n",
       "      <th></th>\n",
       "      <th></th>\n",
       "      <th></th>\n",
       "      <th></th>\n",
       "      <th></th>\n",
       "      <th></th>\n",
       "      <th></th>\n",
       "      <th></th>\n",
       "      <th></th>\n",
       "      <th></th>\n",
       "      <th></th>\n",
       "      <th></th>\n",
       "      <th></th>\n",
       "      <th></th>\n",
       "      <th></th>\n",
       "      <th></th>\n",
       "    </tr>\n",
       "  </thead>\n",
       "  <tbody>\n",
       "    <tr>\n",
       "      <th>2016-09-01 00:59:59</th>\n",
       "      <td>210.800909</td>\n",
       "      <td>14.993118</td>\n",
       "      <td>8.080000</td>\n",
       "      <td>1.005021</td>\n",
       "      <td>1398.981301</td>\n",
       "      <td>-500.225577</td>\n",
       "      <td>1399.144926</td>\n",
       "      <td>-499.919735</td>\n",
       "      <td>1400.102998</td>\n",
       "      <td>-500.704369</td>\n",
       "      <td>...</td>\n",
       "      <td>12.023554</td>\n",
       "      <td>-497.795834</td>\n",
       "      <td>8.016656</td>\n",
       "      <td>-501.289139</td>\n",
       "      <td>7.946562</td>\n",
       "      <td>-432.317850</td>\n",
       "      <td>4.872511</td>\n",
       "      <td>-500.037437</td>\n",
       "      <td>26.705889</td>\n",
       "      <td>-499.709414</td>\n",
       "    </tr>\n",
       "    <tr>\n",
       "      <th>2016-09-01 01:59:59</th>\n",
       "      <td>215.392455</td>\n",
       "      <td>14.987471</td>\n",
       "      <td>8.080000</td>\n",
       "      <td>0.990469</td>\n",
       "      <td>1398.777912</td>\n",
       "      <td>-500.057435</td>\n",
       "      <td>1398.055362</td>\n",
       "      <td>-499.778182</td>\n",
       "      <td>1396.151033</td>\n",
       "      <td>-499.240168</td>\n",
       "      <td>...</td>\n",
       "      <td>12.058140</td>\n",
       "      <td>-498.695773</td>\n",
       "      <td>8.130979</td>\n",
       "      <td>-499.634209</td>\n",
       "      <td>7.958270</td>\n",
       "      <td>-525.839648</td>\n",
       "      <td>4.878850</td>\n",
       "      <td>-500.162375</td>\n",
       "      <td>25.019940</td>\n",
       "      <td>-499.819438</td>\n",
       "    </tr>\n",
       "    <tr>\n",
       "      <th>2016-09-01 02:59:59</th>\n",
       "      <td>215.259946</td>\n",
       "      <td>12.884934</td>\n",
       "      <td>7.786667</td>\n",
       "      <td>0.996043</td>\n",
       "      <td>1398.493666</td>\n",
       "      <td>-500.868360</td>\n",
       "      <td>1398.860436</td>\n",
       "      <td>-499.764529</td>\n",
       "      <td>1398.075709</td>\n",
       "      <td>-502.151509</td>\n",
       "      <td>...</td>\n",
       "      <td>11.962366</td>\n",
       "      <td>-498.767484</td>\n",
       "      <td>8.096893</td>\n",
       "      <td>-500.827423</td>\n",
       "      <td>8.071056</td>\n",
       "      <td>-500.801673</td>\n",
       "      <td>4.905125</td>\n",
       "      <td>-499.828510</td>\n",
       "      <td>24.994862</td>\n",
       "      <td>-500.622559</td>\n",
       "    </tr>\n",
       "    <tr>\n",
       "      <th>2016-09-01 03:59:59</th>\n",
       "      <td>215.336236</td>\n",
       "      <td>12.006805</td>\n",
       "      <td>7.640000</td>\n",
       "      <td>0.863514</td>\n",
       "      <td>1399.618111</td>\n",
       "      <td>-498.863574</td>\n",
       "      <td>1397.440120</td>\n",
       "      <td>-499.211024</td>\n",
       "      <td>1400.129303</td>\n",
       "      <td>-498.355873</td>\n",
       "      <td>...</td>\n",
       "      <td>12.033091</td>\n",
       "      <td>-498.350935</td>\n",
       "      <td>8.074946</td>\n",
       "      <td>-499.474407</td>\n",
       "      <td>7.897085</td>\n",
       "      <td>-500.868509</td>\n",
       "      <td>4.931400</td>\n",
       "      <td>-499.963623</td>\n",
       "      <td>24.948919</td>\n",
       "      <td>-498.709987</td>\n",
       "    </tr>\n",
       "    <tr>\n",
       "      <th>2016-09-01 04:59:59</th>\n",
       "      <td>199.099327</td>\n",
       "      <td>10.682530</td>\n",
       "      <td>7.530000</td>\n",
       "      <td>0.805575</td>\n",
       "      <td>1401.268123</td>\n",
       "      <td>-500.808305</td>\n",
       "      <td>1398.128818</td>\n",
       "      <td>-499.504543</td>\n",
       "      <td>1402.172226</td>\n",
       "      <td>-500.810606</td>\n",
       "      <td>...</td>\n",
       "      <td>12.025367</td>\n",
       "      <td>-500.786497</td>\n",
       "      <td>8.054678</td>\n",
       "      <td>-500.397500</td>\n",
       "      <td>8.107890</td>\n",
       "      <td>-509.526725</td>\n",
       "      <td>4.957674</td>\n",
       "      <td>-500.360026</td>\n",
       "      <td>25.003331</td>\n",
       "      <td>-500.856333</td>\n",
       "    </tr>\n",
       "  </tbody>\n",
       "</table>\n",
       "<p>5 rows × 52 columns</p>\n",
       "</div>"
      ],
      "text/plain": [
       "                     primary_cleaner.input.sulfate  \\\n",
       "date                                                 \n",
       "2016-09-01 00:59:59                     210.800909   \n",
       "2016-09-01 01:59:59                     215.392455   \n",
       "2016-09-01 02:59:59                     215.259946   \n",
       "2016-09-01 03:59:59                     215.336236   \n",
       "2016-09-01 04:59:59                     199.099327   \n",
       "\n",
       "                     primary_cleaner.input.depressant  \\\n",
       "date                                                    \n",
       "2016-09-01 00:59:59                         14.993118   \n",
       "2016-09-01 01:59:59                         14.987471   \n",
       "2016-09-01 02:59:59                         12.884934   \n",
       "2016-09-01 03:59:59                         12.006805   \n",
       "2016-09-01 04:59:59                         10.682530   \n",
       "\n",
       "                     primary_cleaner.input.feed_size  \\\n",
       "date                                                   \n",
       "2016-09-01 00:59:59                         8.080000   \n",
       "2016-09-01 01:59:59                         8.080000   \n",
       "2016-09-01 02:59:59                         7.786667   \n",
       "2016-09-01 03:59:59                         7.640000   \n",
       "2016-09-01 04:59:59                         7.530000   \n",
       "\n",
       "                     primary_cleaner.input.xanthate  \\\n",
       "date                                                  \n",
       "2016-09-01 00:59:59                        1.005021   \n",
       "2016-09-01 01:59:59                        0.990469   \n",
       "2016-09-01 02:59:59                        0.996043   \n",
       "2016-09-01 03:59:59                        0.863514   \n",
       "2016-09-01 04:59:59                        0.805575   \n",
       "\n",
       "                     primary_cleaner.state.floatbank8_a_air  \\\n",
       "date                                                          \n",
       "2016-09-01 00:59:59                             1398.981301   \n",
       "2016-09-01 01:59:59                             1398.777912   \n",
       "2016-09-01 02:59:59                             1398.493666   \n",
       "2016-09-01 03:59:59                             1399.618111   \n",
       "2016-09-01 04:59:59                             1401.268123   \n",
       "\n",
       "                     primary_cleaner.state.floatbank8_a_level  \\\n",
       "date                                                            \n",
       "2016-09-01 00:59:59                               -500.225577   \n",
       "2016-09-01 01:59:59                               -500.057435   \n",
       "2016-09-01 02:59:59                               -500.868360   \n",
       "2016-09-01 03:59:59                               -498.863574   \n",
       "2016-09-01 04:59:59                               -500.808305   \n",
       "\n",
       "                     primary_cleaner.state.floatbank8_b_air  \\\n",
       "date                                                          \n",
       "2016-09-01 00:59:59                             1399.144926   \n",
       "2016-09-01 01:59:59                             1398.055362   \n",
       "2016-09-01 02:59:59                             1398.860436   \n",
       "2016-09-01 03:59:59                             1397.440120   \n",
       "2016-09-01 04:59:59                             1398.128818   \n",
       "\n",
       "                     primary_cleaner.state.floatbank8_b_level  \\\n",
       "date                                                            \n",
       "2016-09-01 00:59:59                               -499.919735   \n",
       "2016-09-01 01:59:59                               -499.778182   \n",
       "2016-09-01 02:59:59                               -499.764529   \n",
       "2016-09-01 03:59:59                               -499.211024   \n",
       "2016-09-01 04:59:59                               -499.504543   \n",
       "\n",
       "                     primary_cleaner.state.floatbank8_c_air  \\\n",
       "date                                                          \n",
       "2016-09-01 00:59:59                             1400.102998   \n",
       "2016-09-01 01:59:59                             1396.151033   \n",
       "2016-09-01 02:59:59                             1398.075709   \n",
       "2016-09-01 03:59:59                             1400.129303   \n",
       "2016-09-01 04:59:59                             1402.172226   \n",
       "\n",
       "                     primary_cleaner.state.floatbank8_c_level  ...  \\\n",
       "date                                                           ...   \n",
       "2016-09-01 00:59:59                               -500.704369  ...   \n",
       "2016-09-01 01:59:59                               -499.240168  ...   \n",
       "2016-09-01 02:59:59                               -502.151509  ...   \n",
       "2016-09-01 03:59:59                               -498.355873  ...   \n",
       "2016-09-01 04:59:59                               -500.810606  ...   \n",
       "\n",
       "                     secondary_cleaner.state.floatbank4_a_air  \\\n",
       "date                                                            \n",
       "2016-09-01 00:59:59                                 12.023554   \n",
       "2016-09-01 01:59:59                                 12.058140   \n",
       "2016-09-01 02:59:59                                 11.962366   \n",
       "2016-09-01 03:59:59                                 12.033091   \n",
       "2016-09-01 04:59:59                                 12.025367   \n",
       "\n",
       "                     secondary_cleaner.state.floatbank4_a_level  \\\n",
       "date                                                              \n",
       "2016-09-01 00:59:59                                 -497.795834   \n",
       "2016-09-01 01:59:59                                 -498.695773   \n",
       "2016-09-01 02:59:59                                 -498.767484   \n",
       "2016-09-01 03:59:59                                 -498.350935   \n",
       "2016-09-01 04:59:59                                 -500.786497   \n",
       "\n",
       "                     secondary_cleaner.state.floatbank4_b_air  \\\n",
       "date                                                            \n",
       "2016-09-01 00:59:59                                  8.016656   \n",
       "2016-09-01 01:59:59                                  8.130979   \n",
       "2016-09-01 02:59:59                                  8.096893   \n",
       "2016-09-01 03:59:59                                  8.074946   \n",
       "2016-09-01 04:59:59                                  8.054678   \n",
       "\n",
       "                     secondary_cleaner.state.floatbank4_b_level  \\\n",
       "date                                                              \n",
       "2016-09-01 00:59:59                                 -501.289139   \n",
       "2016-09-01 01:59:59                                 -499.634209   \n",
       "2016-09-01 02:59:59                                 -500.827423   \n",
       "2016-09-01 03:59:59                                 -499.474407   \n",
       "2016-09-01 04:59:59                                 -500.397500   \n",
       "\n",
       "                     secondary_cleaner.state.floatbank5_a_air  \\\n",
       "date                                                            \n",
       "2016-09-01 00:59:59                                  7.946562   \n",
       "2016-09-01 01:59:59                                  7.958270   \n",
       "2016-09-01 02:59:59                                  8.071056   \n",
       "2016-09-01 03:59:59                                  7.897085   \n",
       "2016-09-01 04:59:59                                  8.107890   \n",
       "\n",
       "                     secondary_cleaner.state.floatbank5_a_level  \\\n",
       "date                                                              \n",
       "2016-09-01 00:59:59                                 -432.317850   \n",
       "2016-09-01 01:59:59                                 -525.839648   \n",
       "2016-09-01 02:59:59                                 -500.801673   \n",
       "2016-09-01 03:59:59                                 -500.868509   \n",
       "2016-09-01 04:59:59                                 -509.526725   \n",
       "\n",
       "                     secondary_cleaner.state.floatbank5_b_air  \\\n",
       "date                                                            \n",
       "2016-09-01 00:59:59                                  4.872511   \n",
       "2016-09-01 01:59:59                                  4.878850   \n",
       "2016-09-01 02:59:59                                  4.905125   \n",
       "2016-09-01 03:59:59                                  4.931400   \n",
       "2016-09-01 04:59:59                                  4.957674   \n",
       "\n",
       "                     secondary_cleaner.state.floatbank5_b_level  \\\n",
       "date                                                              \n",
       "2016-09-01 00:59:59                                 -500.037437   \n",
       "2016-09-01 01:59:59                                 -500.162375   \n",
       "2016-09-01 02:59:59                                 -499.828510   \n",
       "2016-09-01 03:59:59                                 -499.963623   \n",
       "2016-09-01 04:59:59                                 -500.360026   \n",
       "\n",
       "                     secondary_cleaner.state.floatbank6_a_air  \\\n",
       "date                                                            \n",
       "2016-09-01 00:59:59                                 26.705889   \n",
       "2016-09-01 01:59:59                                 25.019940   \n",
       "2016-09-01 02:59:59                                 24.994862   \n",
       "2016-09-01 03:59:59                                 24.948919   \n",
       "2016-09-01 04:59:59                                 25.003331   \n",
       "\n",
       "                     secondary_cleaner.state.floatbank6_a_level  \n",
       "date                                                             \n",
       "2016-09-01 00:59:59                                 -499.709414  \n",
       "2016-09-01 01:59:59                                 -499.819438  \n",
       "2016-09-01 02:59:59                                 -500.622559  \n",
       "2016-09-01 03:59:59                                 -498.709987  \n",
       "2016-09-01 04:59:59                                 -500.856333  \n",
       "\n",
       "[5 rows x 52 columns]"
      ]
     },
     "execution_count": 10,
     "metadata": {},
     "output_type": "execute_result"
    }
   ],
   "source": [
    "test.head()"
   ]
  },
  {
   "cell_type": "code",
   "execution_count": 11,
   "metadata": {
    "scrolled": true
   },
   "outputs": [
    {
     "name": "stdout",
     "output_type": "stream",
     "text": [
      "<class 'pandas.core.frame.DataFrame'>\n",
      "DatetimeIndex: 5290 entries, 2016-09-01 00:59:59 to 2017-12-31 23:59:59\n",
      "Data columns (total 52 columns):\n",
      " #   Column                                      Non-Null Count  Dtype  \n",
      "---  ------                                      --------------  -----  \n",
      " 0   primary_cleaner.input.sulfate               5286 non-null   float64\n",
      " 1   primary_cleaner.input.depressant            5285 non-null   float64\n",
      " 2   primary_cleaner.input.feed_size             5290 non-null   float64\n",
      " 3   primary_cleaner.input.xanthate              5286 non-null   float64\n",
      " 4   primary_cleaner.state.floatbank8_a_air      5290 non-null   float64\n",
      " 5   primary_cleaner.state.floatbank8_a_level    5290 non-null   float64\n",
      " 6   primary_cleaner.state.floatbank8_b_air      5290 non-null   float64\n",
      " 7   primary_cleaner.state.floatbank8_b_level    5290 non-null   float64\n",
      " 8   primary_cleaner.state.floatbank8_c_air      5290 non-null   float64\n",
      " 9   primary_cleaner.state.floatbank8_c_level    5290 non-null   float64\n",
      " 10  primary_cleaner.state.floatbank8_d_air      5290 non-null   float64\n",
      " 11  primary_cleaner.state.floatbank8_d_level    5290 non-null   float64\n",
      " 12  rougher.input.feed_ag                       5290 non-null   float64\n",
      " 13  rougher.input.feed_pb                       5290 non-null   float64\n",
      " 14  rougher.input.feed_rate                     5287 non-null   float64\n",
      " 15  rougher.input.feed_size                     5289 non-null   float64\n",
      " 16  rougher.input.feed_sol                      5269 non-null   float64\n",
      " 17  rougher.input.feed_au                       5290 non-null   float64\n",
      " 18  rougher.input.floatbank10_sulfate           5285 non-null   float64\n",
      " 19  rougher.input.floatbank10_xanthate          5290 non-null   float64\n",
      " 20  rougher.input.floatbank11_sulfate           5282 non-null   float64\n",
      " 21  rougher.input.floatbank11_xanthate          5265 non-null   float64\n",
      " 22  rougher.state.floatbank10_a_air             5290 non-null   float64\n",
      " 23  rougher.state.floatbank10_a_level           5290 non-null   float64\n",
      " 24  rougher.state.floatbank10_b_air             5290 non-null   float64\n",
      " 25  rougher.state.floatbank10_b_level           5290 non-null   float64\n",
      " 26  rougher.state.floatbank10_c_air             5290 non-null   float64\n",
      " 27  rougher.state.floatbank10_c_level           5290 non-null   float64\n",
      " 28  rougher.state.floatbank10_d_air             5290 non-null   float64\n",
      " 29  rougher.state.floatbank10_d_level           5290 non-null   float64\n",
      " 30  rougher.state.floatbank10_e_air             5290 non-null   float64\n",
      " 31  rougher.state.floatbank10_e_level           5290 non-null   float64\n",
      " 32  rougher.state.floatbank10_f_air             5290 non-null   float64\n",
      " 33  rougher.state.floatbank10_f_level           5290 non-null   float64\n",
      " 34  secondary_cleaner.state.floatbank2_a_air    5287 non-null   float64\n",
      " 35  secondary_cleaner.state.floatbank2_a_level  5290 non-null   float64\n",
      " 36  secondary_cleaner.state.floatbank2_b_air    5288 non-null   float64\n",
      " 37  secondary_cleaner.state.floatbank2_b_level  5290 non-null   float64\n",
      " 38  secondary_cleaner.state.floatbank3_a_air    5281 non-null   float64\n",
      " 39  secondary_cleaner.state.floatbank3_a_level  5290 non-null   float64\n",
      " 40  secondary_cleaner.state.floatbank3_b_air    5290 non-null   float64\n",
      " 41  secondary_cleaner.state.floatbank3_b_level  5290 non-null   float64\n",
      " 42  secondary_cleaner.state.floatbank4_a_air    5290 non-null   float64\n",
      " 43  secondary_cleaner.state.floatbank4_a_level  5290 non-null   float64\n",
      " 44  secondary_cleaner.state.floatbank4_b_air    5290 non-null   float64\n",
      " 45  secondary_cleaner.state.floatbank4_b_level  5290 non-null   float64\n",
      " 46  secondary_cleaner.state.floatbank5_a_air    5290 non-null   float64\n",
      " 47  secondary_cleaner.state.floatbank5_a_level  5290 non-null   float64\n",
      " 48  secondary_cleaner.state.floatbank5_b_air    5290 non-null   float64\n",
      " 49  secondary_cleaner.state.floatbank5_b_level  5290 non-null   float64\n",
      " 50  secondary_cleaner.state.floatbank6_a_air    5290 non-null   float64\n",
      " 51  secondary_cleaner.state.floatbank6_a_level  5290 non-null   float64\n",
      "dtypes: float64(52)\n",
      "memory usage: 2.1 MB\n"
     ]
    }
   ],
   "source": [
    "test.info()"
   ]
  },
  {
   "cell_type": "markdown",
   "metadata": {},
   "source": [
    "В тестовой выборке 5290 наблюдений.  \n",
    "14149 + 5290 = 19439  \n",
    "Все сходится)"
   ]
  },
  {
   "cell_type": "markdown",
   "metadata": {},
   "source": [
    "Выясним, правильно ли рассчитана эффективность обогащения. Для примера возьмем столбец rougher.output.recovery из обучающей выборки"
   ]
  },
  {
   "cell_type": "code",
   "execution_count": 12,
   "metadata": {},
   "outputs": [],
   "source": [
    "recovery_pred = (train['rougher.output.concentrate_au']*(train['rougher.input.feed_au'] - train['rougher.output.tail_au']))*100/(train['rougher.input.feed_au']*(train['rougher.output.concentrate_au'] - train['rougher.output.tail_au']))"
   ]
  },
  {
   "cell_type": "code",
   "execution_count": 13,
   "metadata": {},
   "outputs": [
    {
     "data": {
      "text/plain": [
       "1.1100347049376097e-14"
      ]
     },
     "execution_count": 13,
     "metadata": {},
     "output_type": "execute_result"
    }
   ],
   "source": [
    "mean_absolute_error(train['rougher.output.recovery'], recovery_pred)"
   ]
  },
  {
   "cell_type": "markdown",
   "metadata": {},
   "source": [
    "Совсем незначительная ошибка. Скорее всего из-за погрешностей в вычислении Python (4/2=2,000000000000000000000000000000001)"
   ]
  },
  {
   "cell_type": "markdown",
   "metadata": {},
   "source": [
    "Давайте посмотрим на столбцы, которые есть в обучающей выборке, но нет в тестовой"
   ]
  },
  {
   "cell_type": "code",
   "execution_count": 14,
   "metadata": {
    "scrolled": true
   },
   "outputs": [
    {
     "name": "stdout",
     "output_type": "stream",
     "text": [
      "final.output.concentrate_ag\n",
      "final.output.concentrate_pb\n",
      "final.output.concentrate_sol\n",
      "final.output.concentrate_au\n",
      "final.output.recovery\n",
      "final.output.tail_ag\n",
      "final.output.tail_pb\n",
      "final.output.tail_sol\n",
      "final.output.tail_au\n",
      "primary_cleaner.output.concentrate_ag\n",
      "primary_cleaner.output.concentrate_pb\n",
      "primary_cleaner.output.concentrate_sol\n",
      "primary_cleaner.output.concentrate_au\n",
      "primary_cleaner.output.tail_ag\n",
      "primary_cleaner.output.tail_pb\n",
      "primary_cleaner.output.tail_sol\n",
      "primary_cleaner.output.tail_au\n",
      "rougher.calculation.sulfate_to_au_concentrate\n",
      "rougher.calculation.floatbank10_sulfate_to_au_feed\n",
      "rougher.calculation.floatbank11_sulfate_to_au_feed\n",
      "rougher.calculation.au_pb_ratio\n",
      "rougher.output.concentrate_ag\n",
      "rougher.output.concentrate_pb\n",
      "rougher.output.concentrate_sol\n",
      "rougher.output.concentrate_au\n",
      "rougher.output.recovery\n",
      "rougher.output.tail_ag\n",
      "rougher.output.tail_pb\n",
      "rougher.output.tail_sol\n",
      "rougher.output.tail_au\n",
      "secondary_cleaner.output.tail_ag\n",
      "secondary_cleaner.output.tail_pb\n",
      "secondary_cleaner.output.tail_sol\n",
      "secondary_cleaner.output.tail_au\n"
     ]
    }
   ],
   "source": [
    "print(*[column for column in train.columns if column not in test.columns], sep='\\n')"
   ]
  },
  {
   "cell_type": "markdown",
   "metadata": {},
   "source": [
    "Все колонки относятся к типам output или calculation. В реальном применении модели машинного обучения эти признаки будут недоступны, поэтому их не включили в тестовую выборку"
   ]
  },
  {
   "cell_type": "markdown",
   "metadata": {},
   "source": [
    "Посмотрим на отсутствующие значения в обучающей и тестовой выборках"
   ]
  },
  {
   "cell_type": "code",
   "execution_count": 15,
   "metadata": {},
   "outputs": [
    {
     "data": {
      "text/plain": [
       "secondary_cleaner.output.tail_sol           1605\n",
       "rougher.state.floatbank10_e_air              436\n",
       "rougher.input.floatbank11_xanthate           428\n",
       "primary_cleaner.output.concentrate_sol       286\n",
       "secondary_cleaner.state.floatbank2_a_air     217\n",
       "final.output.concentrate_sol                 211\n",
       "rougher.input.feed_size                      144\n",
       "final.output.tail_pb                         100\n",
       "primary_cleaner.input.xanthate               100\n",
       "rougher.input.feed_pb                        100\n",
       "dtype: int64"
      ]
     },
     "execution_count": 15,
     "metadata": {},
     "output_type": "execute_result"
    }
   ],
   "source": [
    "train.isna().sum().sort_values(ascending=False).head(10)"
   ]
  },
  {
   "cell_type": "code",
   "execution_count": 16,
   "metadata": {},
   "outputs": [
    {
     "data": {
      "text/plain": [
       "rougher.input.floatbank11_xanthate          25\n",
       "rougher.input.feed_sol                      21\n",
       "secondary_cleaner.state.floatbank3_a_air     9\n",
       "rougher.input.floatbank11_sulfate            8\n",
       "primary_cleaner.input.depressant             5\n",
       "rougher.input.floatbank10_sulfate            5\n",
       "primary_cleaner.input.sulfate                4\n",
       "primary_cleaner.input.xanthate               4\n",
       "secondary_cleaner.state.floatbank2_a_air     3\n",
       "rougher.input.feed_rate                      3\n",
       "dtype: int64"
      ]
     },
     "execution_count": 16,
     "metadata": {},
     "output_type": "execute_result"
    }
   ],
   "source": [
    "test.isna().sum().sort_values(ascending=False).head(10)"
   ]
  },
  {
   "cell_type": "markdown",
   "metadata": {},
   "source": [
    "В обеих выборках есть пропущенные значения. Так как соседние по времени параметры похожи, заполним их ближайшими соседями. Но прежде проверим на наличие больших промежутков между наблюдениями. Если таковые есть, то этот метод будет некорректным"
   ]
  },
  {
   "cell_type": "code",
   "execution_count": 17,
   "metadata": {
    "scrolled": true
   },
   "outputs": [
    {
     "data": {
      "text/plain": [
       "0 days 01:00:00      13820\n",
       "0 days 02:00:00        145\n",
       "0 days 03:00:00         47\n",
       "0 days 04:00:00         27\n",
       "0 days 05:00:00         18\n",
       "0 days 06:00:00         14\n",
       "0 days 09:00:00          8\n",
       "0 days 08:00:00          7\n",
       "0 days 07:00:00          7\n",
       "0 days 12:00:00          5\n",
       "0 days 15:00:00          5\n",
       "0 days 11:00:00          3\n",
       "1 days 08:00:00          3\n",
       "0 days 13:00:00          3\n",
       "0 days 14:00:00          3\n",
       "0 days 10:00:00          3\n",
       "122 days 01:00:00        2\n",
       "1 days 02:00:00          2\n",
       "0 days 20:00:00          2\n",
       "4 days 13:00:00          1\n",
       "3 days 06:00:00          1\n",
       "1 days 05:00:00          1\n",
       "2 days 00:00:00          1\n",
       "1 days 03:00:00          1\n",
       "5 days 04:00:00          1\n",
       "0 days 21:00:00          1\n",
       "0 days 16:00:00          1\n",
       "3 days 07:00:00          1\n",
       "5 days 14:00:00          1\n",
       "0 days 06:59:59          1\n",
       "0 days 18:00:00          1\n",
       "8 days 03:00:00          1\n",
       "6 days 12:00:00          1\n",
       "2 days 12:00:00          1\n",
       "0 days 22:00:00          1\n",
       "6 days 15:00:00          1\n",
       "1 days 23:00:00          1\n",
       "1 days 04:00:00          1\n",
       "1 days 10:00:00          1\n",
       "5 days 13:00:00          1\n",
       "1 days 14:00:00          1\n",
       "0 days 19:00:00          1\n",
       "4 days 03:00:00          1\n",
       "dtype: int64"
      ]
     },
     "execution_count": 17,
     "metadata": {},
     "output_type": "execute_result"
    }
   ],
   "source": [
    "pd.Series([train.index[i+1] - train.index[i] for i in range(len(train)-1)]).value_counts()"
   ]
  },
  {
   "cell_type": "code",
   "execution_count": 18,
   "metadata": {
    "scrolled": false
   },
   "outputs": [
    {
     "data": {
      "text/plain": [
       "0 days 01:00:00      5193\n",
       "0 days 02:00:00        46\n",
       "0 days 03:00:00        12\n",
       "0 days 04:00:00         6\n",
       "0 days 05:00:00         6\n",
       "0 days 08:00:00         5\n",
       "0 days 06:00:00         4\n",
       "0 days 07:00:00         4\n",
       "0 days 10:00:00         3\n",
       "0 days 12:00:00         2\n",
       "0 days 21:00:00         1\n",
       "0 days 19:00:00         1\n",
       "6 days 19:00:00         1\n",
       "0 days 18:00:00         1\n",
       "243 days 01:00:00       1\n",
       "0 days 13:00:00         1\n",
       "0 days 14:00:00         1\n",
       "3 days 13:00:00         1\n",
       "dtype: int64"
      ]
     },
     "execution_count": 18,
     "metadata": {},
     "output_type": "execute_result"
    }
   ],
   "source": [
    "pd.Series([test.index[i+1] - test.index[i] for i in range(len(test)-1)]).value_counts()"
   ]
  },
  {
   "cell_type": "markdown",
   "metadata": {},
   "source": [
    "Оказывается, не все промежутки составляют 1 час. Есть и периоды в 122 и 243 дней. Тогда нельзя заполнять их ближайшими соседями. Давайте заполним пропуски их ближайшими соседями только для тех наблюдений, у которых разница между следующим наблюдением меньше или равна одному дню"
   ]
  },
  {
   "cell_type": "code",
   "execution_count": 19,
   "metadata": {},
   "outputs": [],
   "source": [
    "def fill_gaps(data):\n",
    "    for i in range(len(data)-1):\n",
    "        if data.iloc[i].isna().sum() > 0 and (data.iloc[i+1].name - data.iloc[i].name) <= pd.to_timedelta('1 days 00:00:00'):\n",
    "            data.iloc[i] = data.iloc[i].fillna(method='bfill')\n",
    "    return data"
   ]
  },
  {
   "cell_type": "code",
   "execution_count": 20,
   "metadata": {},
   "outputs": [
    {
     "data": {
      "text/plain": [
       "90"
      ]
     },
     "execution_count": 20,
     "metadata": {},
     "output_type": "execute_result"
    }
   ],
   "source": [
    "test.isna().sum().sum()"
   ]
  },
  {
   "cell_type": "code",
   "execution_count": 21,
   "metadata": {},
   "outputs": [],
   "source": [
    "test = fill_gaps(test)"
   ]
  },
  {
   "cell_type": "code",
   "execution_count": 22,
   "metadata": {},
   "outputs": [
    {
     "data": {
      "text/plain": [
       "0"
      ]
     },
     "execution_count": 22,
     "metadata": {},
     "output_type": "execute_result"
    }
   ],
   "source": [
    "test.isna().sum().sum()"
   ]
  },
  {
   "cell_type": "code",
   "execution_count": 23,
   "metadata": {},
   "outputs": [
    {
     "data": {
      "text/plain": [
       "4100"
      ]
     },
     "execution_count": 23,
     "metadata": {},
     "output_type": "execute_result"
    }
   ],
   "source": [
    "train.isna().sum().sum()"
   ]
  },
  {
   "cell_type": "code",
   "execution_count": 24,
   "metadata": {},
   "outputs": [],
   "source": [
    "train = fill_gaps(train)"
   ]
  },
  {
   "cell_type": "code",
   "execution_count": 25,
   "metadata": {},
   "outputs": [
    {
     "data": {
      "text/plain": [
       "34"
      ]
     },
     "execution_count": 25,
     "metadata": {},
     "output_type": "execute_result"
    }
   ],
   "source": [
    "train.isna().sum().sum()"
   ]
  },
  {
   "cell_type": "markdown",
   "metadata": {},
   "source": [
    "В обучающей выборке еще остались пропущенные значения. Так как их немного, можно их удалить"
   ]
  },
  {
   "cell_type": "code",
   "execution_count": 26,
   "metadata": {},
   "outputs": [],
   "source": [
    "train.dropna(inplace=True)"
   ]
  },
  {
   "cell_type": "markdown",
   "metadata": {},
   "source": [
    "Также проверим на наличие дубликатов"
   ]
  },
  {
   "cell_type": "code",
   "execution_count": 27,
   "metadata": {},
   "outputs": [
    {
     "data": {
      "text/plain": [
       "0"
      ]
     },
     "execution_count": 27,
     "metadata": {},
     "output_type": "execute_result"
    }
   ],
   "source": [
    "train.duplicated().sum()"
   ]
  },
  {
   "cell_type": "code",
   "execution_count": 28,
   "metadata": {},
   "outputs": [
    {
     "data": {
      "text/plain": [
       "0"
      ]
     },
     "execution_count": 28,
     "metadata": {},
     "output_type": "execute_result"
    }
   ],
   "source": [
    "test.duplicated().sum()"
   ]
  },
  {
   "cell_type": "markdown",
   "metadata": {},
   "source": [
    "Прекрасно!)"
   ]
  },
  {
   "cell_type": "markdown",
   "metadata": {},
   "source": [
    "# Анализ данных"
   ]
  },
  {
   "cell_type": "markdown",
   "metadata": {},
   "source": [
    "Посмотрим, как меняется концентрация металлов (Au, Ag, Pb) на различных этапах очистки"
   ]
  },
  {
   "cell_type": "code",
   "execution_count": 29,
   "metadata": {},
   "outputs": [],
   "source": [
    "# Функция для отображения графика концентратов для отдельного металла на разных стадиях обработки\n",
    "def plot_concentrates(metal):\n",
    "    steps = ['rougher input', 'rougher output', 'primary cleaner', 'secondary cleaner']\n",
    "    concentrates = [df['rougher.input.feed_' + metal].mean(), df['rougher.output.concentrate_' + metal].mean(), df['primary_cleaner.output.concentrate_' + metal].mean(), df['final.output.concentrate_' + metal].mean()]\n",
    "    plt.bar(steps, concentrates)\n",
    "    plt.title(metal.title() + ' concentrate')\n",
    "    plt.grid()\n",
    "    plt.xticks(rotation = 45)\n",
    "    plt.show()"
   ]
  },
  {
   "cell_type": "code",
   "execution_count": 30,
   "metadata": {
    "scrolled": true
   },
   "outputs": [
    {
     "data": {
      "image/png": "[encoded data removed]",
      "text/plain": [
       "<Figure size 432x288 with 1 Axes>"
      ]
     },
     "metadata": {
      "needs_background": "light"
     },
     "output_type": "display_data"
    }
   ],
   "source": [
    "plot_concentrates('ag')"
   ]
  },
  {
   "cell_type": "markdown",
   "metadata": {},
   "source": [
    "Концентрация серебра в начальном сырье составляет 8.5%. После флотации его концентрация увеличивается до 12%, а после двух этапов очистки понижается до 5%"
   ]
  },
  {
   "cell_type": "code",
   "execution_count": 31,
   "metadata": {
    "scrolled": true
   },
   "outputs": [
    {
     "data": {
      "image/png": "[encoded data removed]",
      "text/plain": [
       "<Figure size 432x288 with 1 Axes>"
      ]
     },
     "metadata": {
      "needs_background": "light"
     },
     "output_type": "display_data"
    }
   ],
   "source": [
    "plot_concentrates('pb')"
   ]
  },
  {
   "cell_type": "markdown",
   "metadata": {},
   "source": [
    "Концентрация свинца постепенно увеличивается. В начальном сырье составило 3.8%, а после вторичной очистки - 10%"
   ]
  },
  {
   "cell_type": "code",
   "execution_count": 32,
   "metadata": {},
   "outputs": [
    {
     "data": {
      "image/png": "[encoded data removed]",
      "text/plain": [
       "<Figure size 432x288 with 1 Axes>"
      ]
     },
     "metadata": {
      "needs_background": "light"
     },
     "output_type": "display_data"
    }
   ],
   "source": [
    "plot_concentrates('au')"
   ]
  },
  {
   "cell_type": "markdown",
   "metadata": {},
   "source": [
    "Золота в начальном сырье составило лишь 8%. После всех этапов его концентрация увеличивается до 43%"
   ]
  },
  {
   "cell_type": "markdown",
   "metadata": {},
   "source": [
    "Сравним распределения размеров гранул сырья на обучающей и тестовой выборках. Если распределения сильно отличаются друг от друга, оценка модели будет неправильной"
   ]
  },
  {
   "cell_type": "code",
   "execution_count": 33,
   "metadata": {
    "scrolled": false
   },
   "outputs": [
    {
     "data": {
      "image/png": "[encoded data removed]",
      "text/plain": [
       "<Figure size 432x288 with 1 Axes>"
      ]
     },
     "metadata": {
      "needs_background": "light"
     },
     "output_type": "display_data"
    }
   ],
   "source": [
    "plt.hist(train['rougher.input.feed_size'], bins=50, alpha=0.5, label='train')\n",
    "plt.hist(test['rougher.input.feed_size'], bins=50, alpha=0.5, label='test')\n",
    "plt.legend(loc='upper right')\n",
    "plt.show()"
   ]
  },
  {
   "cell_type": "markdown",
   "metadata": {},
   "source": [
    "В принципе, распределения похожи. Распределение для тестовой выборки немного отличается от обучающей - первое сдвинуто немного в меньшую сторону. Также присутствуют сильные выбросы, которые могут помешать построению модели. Удалим их с помощью процентилей. По данным сайта https://techade.ru/stati/flotatsiya-rudy размеры большинства частиц должны лежать в оптимальном интервале 40—100 мкм."
   ]
  },
  {
   "cell_type": "code",
   "execution_count": 34,
   "metadata": {},
   "outputs": [
    {
     "name": "stdout",
     "output_type": "stream",
     "text": [
      "32.23834220477678 124.24636883656001\n"
     ]
    }
   ],
   "source": [
    "max_threshold_train = train['rougher.input.feed_size'].quantile(0.99)\n",
    "min_threshold_train = train['rougher.input.feed_size'].quantile(0.01)\n",
    "print(min_threshold_train, max_threshold_train)"
   ]
  },
  {
   "cell_type": "code",
   "execution_count": 35,
   "metadata": {},
   "outputs": [
    {
     "name": "stdout",
     "output_type": "stream",
     "text": [
      "38.469979740817855 111.93013945747064\n"
     ]
    }
   ],
   "source": [
    "max_threshold_test = test['rougher.input.feed_size'].quantile(0.99)\n",
    "min_threshold_test = test['rougher.input.feed_size'].quantile(0.01)\n",
    "print(min_threshold_test, max_threshold_test)"
   ]
  },
  {
   "cell_type": "code",
   "execution_count": 36,
   "metadata": {},
   "outputs": [],
   "source": [
    "train = train[(train['rougher.input.feed_size'] >= min_threshold_train) & (train['rougher.input.feed_size'] <= max_threshold_train)]\n",
    "test = test[(test['rougher.input.feed_size'] >= min_threshold_test) & (test['rougher.input.feed_size'] <= max_threshold_test)]"
   ]
  },
  {
   "cell_type": "code",
   "execution_count": 37,
   "metadata": {},
   "outputs": [
    {
     "data": {
      "text/plain": [
       "(13857, 86)"
      ]
     },
     "execution_count": 37,
     "metadata": {},
     "output_type": "execute_result"
    }
   ],
   "source": [
    "train.shape"
   ]
  },
  {
   "cell_type": "code",
   "execution_count": 38,
   "metadata": {},
   "outputs": [
    {
     "data": {
      "text/plain": [
       "(5184, 52)"
      ]
     },
     "execution_count": 38,
     "metadata": {},
     "output_type": "execute_result"
    }
   ],
   "source": [
    "test.shape"
   ]
  },
  {
   "cell_type": "markdown",
   "metadata": {},
   "source": [
    "Также построим график суммарной концентрации всех веществ на разных стадиях: в сырье, в черновом и финальном концентратах"
   ]
  },
  {
   "cell_type": "code",
   "execution_count": 39,
   "metadata": {},
   "outputs": [],
   "source": [
    "rougher_input = pd.Series(df['rougher.input.feed_au'] + df['rougher.input.feed_ag'] + df['rougher.input.feed_pb'] + df['rougher.input.feed_sol'])\n",
    "rougher_output = pd.Series(df['rougher.output.concentrate_au'] + df['rougher.output.concentrate_ag'] + df['rougher.output.concentrate_pb'] + df['rougher.output.concentrate_sol'])\n",
    "primary_cleaner = pd.Series(df['primary_cleaner.output.concentrate_au'] + df['primary_cleaner.output.concentrate_ag'] + df['primary_cleaner.output.concentrate_pb'] + df['primary_cleaner.output.concentrate_sol'])\n",
    "secondary_cleaner = pd.Series(df['final.output.concentrate_au'] + df['final.output.concentrate_ag'] + df['final.output.concentrate_pb'] + df['final.output.concentrate_sol'])"
   ]
  },
  {
   "cell_type": "code",
   "execution_count": 40,
   "metadata": {},
   "outputs": [
    {
     "data": {
      "image/png": "[encoded data removed]",
      "text/plain": [
       "<Figure size 432x288 with 1 Axes>"
      ]
     },
     "metadata": {
      "needs_background": "light"
     },
     "output_type": "display_data"
    }
   ],
   "source": [
    "plt.hist(rougher_input, bins=50, label='input', alpha=0.5)\n",
    "plt.hist(rougher_output, bins=50, label='rougher', alpha=0.5)\n",
    "plt.hist(primary_cleaner, bins=50, label='primary', alpha=0.5)\n",
    "plt.hist(secondary_cleaner, bins=50, label='secondary', alpha=0.5)\n",
    "plt.legend()\n",
    "plt.show()"
   ]
  },
  {
   "cell_type": "markdown",
   "metadata": {},
   "source": [
    "Присутствуют нулевые аномалии в суммарных концентрациях. Отдельно по каждой руде нуль может быть. А вот нуль суммарно - это уже вряд ли. Избавимся от таких наблюдений"
   ]
  },
  {
   "cell_type": "code",
   "execution_count": 41,
   "metadata": {},
   "outputs": [
    {
     "data": {
      "text/plain": [
       "(13320, 86)"
      ]
     },
     "execution_count": 41,
     "metadata": {},
     "output_type": "execute_result"
    }
   ],
   "source": [
    "train = train.loc[[index for index in train.index if index not in rougher_input[rougher_input<1].index], :]\n",
    "train = train.loc[[index for index in train.index if index not in rougher_output[rougher_output<1].index], :]\n",
    "train = train.loc[[index for index in train.index if index not in primary_cleaner[primary_cleaner<1].index], :]\n",
    "train = train.loc[[index for index in train.index if index not in secondary_cleaner[secondary_cleaner<1].index], :]\n",
    "train.shape"
   ]
  },
  {
   "cell_type": "code",
   "execution_count": 42,
   "metadata": {},
   "outputs": [
    {
     "data": {
      "text/plain": [
       "(5027, 52)"
      ]
     },
     "execution_count": 42,
     "metadata": {},
     "output_type": "execute_result"
    }
   ],
   "source": [
    "test = test.loc[[index for index in test.index if index not in rougher_input[rougher_input<1].index], :]\n",
    "test = test.loc[[index for index in test.index if index not in rougher_output[rougher_output<1].index], :]\n",
    "test = test.loc[[index for index in test.index if index not in primary_cleaner[primary_cleaner<1].index], :]\n",
    "test = test.loc[[index for index in test.index if index not in secondary_cleaner[secondary_cleaner<1].index], :]\n",
    "test.shape"
   ]
  },
  {
   "cell_type": "markdown",
   "metadata": {},
   "source": [
    "# Моделирование"
   ]
  },
  {
   "cell_type": "markdown",
   "metadata": {},
   "source": [
    "Функцией потерь у нас является метрика smape. В идеале она должна быть максимально маленькой. Я буду использовать следующие алгоритмы: линейная регрессия, случайный лес, Lasso и Ridge. Для начала подготовим все функции для расчета итогового smape"
   ]
  },
  {
   "cell_type": "code",
   "execution_count": 43,
   "metadata": {},
   "outputs": [
    {
     "data": {
      "image/jpeg": "[encoded data removed]",
      "text/plain": [
       "<IPython.core.display.Image object>"
      ]
     },
     "execution_count": 43,
     "metadata": {},
     "output_type": "execute_result"
    }
   ],
   "source": [
    "display.Image(\"smape.jpg\")"
   ]
  },
  {
   "cell_type": "code",
   "execution_count": 44,
   "metadata": {},
   "outputs": [],
   "source": [
    "# Функция для расчета симметричного среднего абсолютного процентного отклонения\n",
    "def smape(y_true, y_pred):\n",
    "    return 100/len(y_true) * np.sum(2 * np.abs(y_pred - y_true) / (np.abs(y_true) + np.abs(y_pred)))"
   ]
  },
  {
   "cell_type": "code",
   "execution_count": 45,
   "metadata": {},
   "outputs": [
    {
     "data": {
      "image/jpeg": "[encoded data removed]",
      "text/plain": [
       "<IPython.core.display.Image object>"
      ]
     },
     "execution_count": 45,
     "metadata": {},
     "output_type": "execute_result"
    }
   ],
   "source": [
    "display.Image(\"_smape.jpg\")"
   ]
  },
  {
   "cell_type": "code",
   "execution_count": 46,
   "metadata": {},
   "outputs": [],
   "source": [
    "# Функция для расчета итогового smape\n",
    "def total_smape(smape_rougher, smape_final):\n",
    "    return 0.25 * smape_rougher + 0.75 * smape_final"
   ]
  },
  {
   "cell_type": "code",
   "execution_count": 47,
   "metadata": {},
   "outputs": [],
   "source": [
    "# Функция для кросс-валидации. Возвращает среднее значение smape\n",
    "def cross_validation(model, X, y, cv):\n",
    "    scores = []\n",
    "\n",
    "    sample_size = int(len(X)/cv)\n",
    "\n",
    "    count = 0\n",
    "\n",
    "    for i in range(0, len(X), sample_size):\n",
    "        if count == cv:\n",
    "            break\n",
    "        valid_indexes = list(range(i, i+sample_size))\n",
    "        train_indexes = list(range(0, i)) + list(range(valid_indexes[-1]+1, len(X)))\n",
    "        X_train = X[X.index.isin(train_indexes)]\n",
    "        X_valid = X[X.index.isin(valid_indexes)]\n",
    "        y_train = y[y.index.isin(train_indexes)]\n",
    "        y_true = y[y.index.isin(valid_indexes)]\n",
    "        model.fit(X_train, y_train)\n",
    "        y_pred = model.predict(X_valid)\n",
    "        score = smape(y_true, y_pred)\n",
    "        scores.append(score)\n",
    "        count += 1\n",
    "        \n",
    "    return np.mean(scores)"
   ]
  },
  {
   "cell_type": "markdown",
   "metadata": {},
   "source": [
    "Нам нужно предсказать сразу два показателя - rougher.output.recovery и final.output.recovery. Тогда у нас будет 2 целевых признака. Также нужно убрать из обучающей выборки признаки, которые отсутствуют в тестовой. Плюс нужно поменять индексы типа datetime"
   ]
  },
  {
   "cell_type": "code",
   "execution_count": 48,
   "metadata": {},
   "outputs": [],
   "source": [
    "X_train = train.loc[:, [column for column in train.columns if column in test.columns]].reset_index(drop=True)\n",
    "y_train_rougher = train['rougher.output.recovery'].reset_index(drop=True)\n",
    "y_train_final = train['final.output.recovery'].reset_index(drop=True)"
   ]
  },
  {
   "cell_type": "markdown",
   "metadata": {},
   "source": [
    "Первым алгоритмом я выбрал линейную регрессию, так как она быстро обучается. Применим GridSearchCV для нахождения лучшей модели"
   ]
  },
  {
   "cell_type": "code",
   "execution_count": 49,
   "metadata": {},
   "outputs": [],
   "source": [
    "smape_score = make_scorer(smape, greater_is_better=False)"
   ]
  },
  {
   "cell_type": "code",
   "execution_count": 50,
   "metadata": {},
   "outputs": [
    {
     "name": "stdout",
     "output_type": "stream",
     "text": [
      "best model rougher params: {'copy_X': True, 'fit_intercept': True, 'n_jobs': -1}\n",
      "best model final params: {'copy_X': True, 'fit_intercept': False, 'n_jobs': -1}\n"
     ]
    },
    {
     "data": {
      "text/plain": [
       "9.779472474398393"
      ]
     },
     "execution_count": 50,
     "metadata": {},
     "output_type": "execute_result"
    }
   ],
   "source": [
    "model = LinearRegression()\n",
    "\n",
    "parameters = {\n",
    "    'copy_X': [True, False],\n",
    "    'fit_intercept':[True, False],\n",
    "    'n_jobs': [-1, 1, 2, 3, 4, None]\n",
    "}\n",
    "\n",
    "grid = GridSearchCV(estimator=model, param_grid=parameters, cv=5, scoring=smape_score)\n",
    "\n",
    "grid.fit(X_train, y_train_rougher)\n",
    "model_rougher = grid.best_estimator_\n",
    "print(f'best model rougher params: {grid.best_params_}')\n",
    "smape_train_rougher = cross_validation(model_rougher, X_train, y_train_rougher, 5)\n",
    "\n",
    "grid.fit(X_train, y_train_final)\n",
    "model_final = grid.best_estimator_\n",
    "print(f'best model final params: {grid.best_params_}')\n",
    "smape_train_final = cross_validation(model_final, X_train, y_train_final, 5)\n",
    "\n",
    "total_smape(smape_train_rougher, smape_train_final)"
   ]
  },
  {
   "cell_type": "markdown",
   "metadata": {},
   "source": [
    "Линейная регрессия в среднем ошибается на 9.78%"
   ]
  },
  {
   "cell_type": "markdown",
   "metadata": {},
   "source": [
    "Случайный лес для различных значений глубины дерева"
   ]
  },
  {
   "cell_type": "code",
   "execution_count": 51,
   "metadata": {},
   "outputs": [
    {
     "name": "stdout",
     "output_type": "stream",
     "text": [
      "1 8.81108687580725\n",
      "2 8.395418504984779\n",
      "3 8.284271380825924\n",
      "4 8.330649532091009\n",
      "5 8.352784705360433\n",
      "6 8.276537106739653\n",
      "7 8.34021903213582\n",
      "8 8.325380372097436\n",
      "9 8.410142248434521\n",
      "10 8.507748033858238\n"
     ]
    }
   ],
   "source": [
    "for depth in range(1, 11):\n",
    "    model = RandomForestRegressor(max_depth=depth, random_state=22)\n",
    "    smape_train_rougher = cross_validation(model, X_train, y_train_rougher, 5)\n",
    "    smape_train_final = cross_validation(model, X_train, y_train_final, 5)\n",
    "    print(depth, total_smape(smape_train_rougher, smape_train_final))"
   ]
  },
  {
   "cell_type": "markdown",
   "metadata": {},
   "source": [
    "Лучший показатель у глубины дерева 3, в среднем она ошиблась на 8.27%"
   ]
  },
  {
   "cell_type": "markdown",
   "metadata": {},
   "source": [
    "Алгоритм Lasso для различных значений параметра alpha"
   ]
  },
  {
   "cell_type": "code",
   "execution_count": 52,
   "metadata": {},
   "outputs": [
    {
     "name": "stdout",
     "output_type": "stream",
     "text": [
      "10 9.1526449039637\n",
      "20 8.995674109477704\n",
      "30 8.929580021626695\n",
      "40 8.918811335868877\n",
      "50 8.907918966665713\n",
      "60 8.91665757319949\n",
      "70 8.948378135047149\n",
      "80 8.991809091996124\n",
      "90 9.069872887375789\n",
      "100 9.146621343981968\n"
     ]
    }
   ],
   "source": [
    "for alpha in range(10, 101, 10):\n",
    "    model = Lasso(alpha=alpha)\n",
    "    smape_train_rougher = cross_validation(model, X_train, y_train_rougher, 5)\n",
    "    smape_train_final = cross_validation(model, X_train, y_train_final, 5)\n",
    "    print(alpha, total_smape(smape_train_rougher, smape_train_final))"
   ]
  },
  {
   "cell_type": "markdown",
   "metadata": {},
   "source": [
    "Lasso показал свой лучший результат со значением alpha 50, и он составил 8.9"
   ]
  },
  {
   "cell_type": "markdown",
   "metadata": {},
   "source": [
    "Также посмотрим на алгоритм Ridge для различных значений параметра alpha"
   ]
  },
  {
   "cell_type": "code",
   "execution_count": 53,
   "metadata": {},
   "outputs": [
    {
     "name": "stdout",
     "output_type": "stream",
     "text": [
      "10 9.793101104544212\n",
      "20 9.792230186456866\n",
      "30 9.791388191783843\n",
      "40 9.79056580842202\n",
      "50 9.789759871610743\n",
      "60 9.788975593433506\n",
      "70 9.788223290852944\n",
      "80 9.78748835944588\n",
      "90 9.786764386431082\n",
      "100 9.78605139693175\n"
     ]
    }
   ],
   "source": [
    "for alpha in range(10, 101, 10):\n",
    "    model = Ridge(alpha=alpha)\n",
    "    smape_train_rougher = cross_validation(model, X_train, y_train_rougher, 5)\n",
    "    smape_train_final = cross_validation(model, X_train, y_train_final, 5)\n",
    "    print(alpha, total_smape(smape_train_rougher, smape_train_final))"
   ]
  },
  {
   "cell_type": "markdown",
   "metadata": {},
   "source": [
    "Результат не лучше, чем у линейной регрессии. Отбрасываем"
   ]
  },
  {
   "cell_type": "markdown",
   "metadata": {},
   "source": [
    "Итого, лучший результат показал случайный лес с глубиной дерева 3"
   ]
  },
  {
   "cell_type": "markdown",
   "metadata": {},
   "source": [
    "# Тест"
   ]
  },
  {
   "cell_type": "markdown",
   "metadata": {},
   "source": [
    "Проверим нашу модель на тестовой выборке"
   ]
  },
  {
   "cell_type": "code",
   "execution_count": 54,
   "metadata": {},
   "outputs": [],
   "source": [
    "X_test = test.reset_index(drop=True)\n",
    "y_test_rougher = df.loc[[index for index in test.index], 'rougher.output.recovery'].reset_index(drop=True)\n",
    "y_test_final = df.loc[[index for index in test.index], 'final.output.recovery'].reset_index(drop=True)"
   ]
  },
  {
   "cell_type": "code",
   "execution_count": 55,
   "metadata": {
    "scrolled": true
   },
   "outputs": [
    {
     "name": "stdout",
     "output_type": "stream",
     "text": [
      "6.914031505518821\n"
     ]
    }
   ],
   "source": [
    "model = RandomForestRegressor(max_depth=3, random_state=22)\n",
    "model.fit(X_train, y_train_rougher)\n",
    "y_pred_rougher = model.predict(X_test)\n",
    "smape_test_rougher = smape(y_test_rougher, y_pred_rougher)\n",
    "model.fit(X_train, y_train_final)\n",
    "y_pred_final = model.predict(X_test)\n",
    "smape_test_final = smape(y_test_final, y_pred_final)\n",
    "print(total_smape(smape_test_rougher, smape_test_final))"
   ]
  },
  {
   "cell_type": "markdown",
   "metadata": {},
   "source": [
    "Итоговый показатель smape для тестовой выборки - 6.8. Проверим модель на адекватность - посмотрим на результат константной модели, где в предикте будет медианное значение"
   ]
  },
  {
   "cell_type": "code",
   "execution_count": 56,
   "metadata": {},
   "outputs": [
    {
     "data": {
      "text/plain": [
       "7.262280157556283"
      ]
     },
     "execution_count": 56,
     "metadata": {},
     "output_type": "execute_result"
    }
   ],
   "source": [
    "y_train_rougher_median = pd.Series(y_train_rougher.median(), y_test_rougher.index)\n",
    "y_train_final_median = pd.Series(y_train_final.median(), y_test_final.index)\n",
    "smape_test_rougher = smape(y_test_rougher, y_train_rougher_median)\n",
    "smape_test_final = smape(y_test_final, y_train_final_median)\n",
    "total_smape(smape_test_rougher, smape_test_final)"
   ]
  },
  {
   "cell_type": "markdown",
   "metadata": {},
   "source": [
    "Наша модель прошла тест на адекватность!)"
   ]
  },
  {
   "cell_type": "markdown",
   "metadata": {},
   "source": [
    "# Вывод"
   ]
  },
  {
   "cell_type": "markdown",
   "metadata": {},
   "source": [
    "Золото, чтобы стать золотом, проходит несколько этапов обработки. Из сырья с большим количеством примесей до 99.9 процентного содержания золота, оно сначала дробится до состояния песка, затем проходит этап под названием флотация и несколько этапов очистки. Все это делается в специальных промешленных предприятиях. Мы исследовали данные компании Цифра, которая разрабатывает решения для эффективной работы таких предприятий.   \n",
    "Сначала мы подготовили данные: прочитали данные, проверили правильно ли рассчитана эффективность обогащения, избавились от пропущенных значений; провели анализ данных: посмотрели, как меняется концентрация металлов на различных этапах очистки, сравнили распределения размеров гранул сырья на обучающей и тестовой выборках, исследовали суммарную концентрацию всех веществ на разных стадиях; и в конце подготовили прототип модели машинного обучения: написали функцию для вычисления итоговой sMAPE, обучили разные модели и оцените их качество кросс-валидацией.  \n",
    "В итоге лучший результат показал случайный лес с глубиной 3. Показатель smape на тестовой выборке составил 6.8%"
   ]
  }
 ],
 "metadata": {
  "ExecuteTimeLog": [
   {
    "duration": 1447,
    "start_time": "2021-10-26T05:43:51.040Z"
   },
   {
    "duration": 1589,
    "start_time": "2021-10-26T05:43:55.000Z"
   },
   {
    "duration": 548,
    "start_time": "2021-10-26T05:44:16.651Z"
   },
   {
    "duration": 37,
    "start_time": "2021-10-26T05:44:33.274Z"
   },
   {
    "duration": 218,
    "start_time": "2021-10-26T05:45:50.233Z"
   },
   {
    "duration": 342,
    "start_time": "2021-10-26T05:46:14.790Z"
   },
   {
    "duration": 32,
    "start_time": "2021-10-26T05:46:15.745Z"
   },
   {
    "duration": 67,
    "start_time": "2021-10-26T05:52:43.330Z"
   },
   {
    "duration": 336,
    "start_time": "2021-10-26T05:52:48.990Z"
   },
   {
    "duration": 31,
    "start_time": "2021-10-26T05:52:49.989Z"
   },
   {
    "duration": 330,
    "start_time": "2021-10-26T05:52:57.790Z"
   },
   {
    "duration": 6,
    "start_time": "2021-10-26T05:53:04.073Z"
   },
   {
    "duration": 341,
    "start_time": "2021-10-26T05:53:18.898Z"
   },
   {
    "duration": 6,
    "start_time": "2021-10-26T05:53:19.845Z"
   },
   {
    "duration": 32,
    "start_time": "2021-10-26T05:54:17.902Z"
   },
   {
    "duration": 41,
    "start_time": "2021-10-26T05:55:45.335Z"
   },
   {
    "duration": 6,
    "start_time": "2021-10-26T05:55:57.560Z"
   },
   {
    "duration": 23,
    "start_time": "2021-10-26T05:56:50.954Z"
   },
   {
    "duration": 5,
    "start_time": "2021-10-26T05:58:34.309Z"
   },
   {
    "duration": 340,
    "start_time": "2021-10-26T06:00:13.024Z"
   },
   {
    "duration": 339,
    "start_time": "2021-10-26T06:00:28.546Z"
   },
   {
    "duration": 32,
    "start_time": "2021-10-26T06:00:36.336Z"
   },
   {
    "duration": 23,
    "start_time": "2021-10-26T06:00:53.844Z"
   },
   {
    "duration": 3132,
    "start_time": "2021-10-26T06:01:33.158Z"
   },
   {
    "duration": 8,
    "start_time": "2021-10-26T06:01:37.148Z"
   },
   {
    "duration": 31,
    "start_time": "2021-10-26T06:01:40.323Z"
   },
   {
    "duration": 24,
    "start_time": "2021-10-26T06:01:44.905Z"
   },
   {
    "duration": 587,
    "start_time": "2021-10-26T06:03:01.845Z"
   },
   {
    "duration": 31,
    "start_time": "2021-10-26T06:03:08.486Z"
   },
   {
    "duration": 18,
    "start_time": "2021-10-26T06:03:23.395Z"
   },
   {
    "duration": 1429,
    "start_time": "2021-10-26T06:16:18.173Z"
   },
   {
    "duration": 474,
    "start_time": "2021-10-26T06:16:19.605Z"
   },
   {
    "duration": 12,
    "start_time": "2021-10-26T06:16:20.083Z"
   },
   {
    "duration": 55,
    "start_time": "2021-10-26T06:16:20.099Z"
   },
   {
    "duration": 23,
    "start_time": "2021-10-26T06:16:20.157Z"
   },
   {
    "duration": 365,
    "start_time": "2021-10-26T06:16:20.182Z"
   },
   {
    "duration": 47,
    "start_time": "2021-10-26T06:16:20.550Z"
   },
   {
    "duration": 54,
    "start_time": "2021-10-26T06:16:20.602Z"
   },
   {
    "duration": 116,
    "start_time": "2021-10-26T06:16:20.659Z"
   },
   {
    "duration": 55,
    "start_time": "2021-10-26T06:16:20.778Z"
   },
   {
    "duration": 21,
    "start_time": "2021-10-26T06:16:20.835Z"
   },
   {
    "duration": 5141,
    "start_time": "2021-10-26T07:23:44.103Z"
   },
   {
    "duration": 9,
    "start_time": "2021-10-26T07:24:08.269Z"
   },
   {
    "duration": 11,
    "start_time": "2021-10-26T07:30:47.450Z"
   },
   {
    "duration": 9,
    "start_time": "2021-10-26T07:30:54.268Z"
   },
   {
    "duration": 8,
    "start_time": "2021-10-26T07:31:26.631Z"
   },
   {
    "duration": 40,
    "start_time": "2021-10-26T07:32:02.015Z"
   },
   {
    "duration": 8,
    "start_time": "2021-10-26T07:32:19.028Z"
   },
   {
    "duration": 7,
    "start_time": "2021-10-26T07:33:39.581Z"
   },
   {
    "duration": 8,
    "start_time": "2021-10-26T07:33:45.511Z"
   },
   {
    "duration": 8,
    "start_time": "2021-10-26T07:33:49.098Z"
   },
   {
    "duration": 7,
    "start_time": "2021-10-26T07:33:51.190Z"
   },
   {
    "duration": 7,
    "start_time": "2021-10-26T07:33:56.399Z"
   },
   {
    "duration": 52,
    "start_time": "2021-10-26T07:34:26.751Z"
   },
   {
    "duration": 5312,
    "start_time": "2021-10-26T07:34:59.458Z"
   },
   {
    "duration": 22,
    "start_time": "2021-10-26T07:35:11.634Z"
   },
   {
    "duration": 5,
    "start_time": "2021-10-26T07:37:01.735Z"
   },
   {
    "duration": 10,
    "start_time": "2021-10-26T07:37:13.444Z"
   },
   {
    "duration": 11,
    "start_time": "2021-10-26T07:37:21.900Z"
   },
   {
    "duration": 38,
    "start_time": "2021-10-26T08:09:31.879Z"
   },
   {
    "duration": 8,
    "start_time": "2021-10-26T08:09:41.334Z"
   },
   {
    "duration": 11,
    "start_time": "2021-10-26T08:09:56.959Z"
   },
   {
    "duration": 184,
    "start_time": "2021-10-26T08:10:01.766Z"
   },
   {
    "duration": 11,
    "start_time": "2021-10-26T08:10:24.145Z"
   },
   {
    "duration": 12,
    "start_time": "2021-10-26T08:10:29.319Z"
   },
   {
    "duration": 14,
    "start_time": "2021-10-26T08:10:36.631Z"
   },
   {
    "duration": 16,
    "start_time": "2021-10-26T08:11:06.029Z"
   },
   {
    "duration": 17,
    "start_time": "2021-10-26T08:11:13.165Z"
   },
   {
    "duration": 17,
    "start_time": "2021-10-26T08:11:19.126Z"
   },
   {
    "duration": 16,
    "start_time": "2021-10-26T08:11:24.025Z"
   },
   {
    "duration": 17,
    "start_time": "2021-10-26T08:12:17.344Z"
   },
   {
    "duration": 45,
    "start_time": "2021-10-26T08:13:40.633Z"
   },
   {
    "duration": 42,
    "start_time": "2021-10-26T08:27:13.571Z"
   },
   {
    "duration": 241,
    "start_time": "2021-10-26T09:26:11.739Z"
   },
   {
    "duration": 48,
    "start_time": "2021-10-26T09:26:20.204Z"
   },
   {
    "duration": 18,
    "start_time": "2021-10-26T09:26:28.350Z"
   },
   {
    "duration": 46,
    "start_time": "2021-10-26T09:30:56.855Z"
   },
   {
    "duration": 31,
    "start_time": "2021-10-26T09:31:19.604Z"
   },
   {
    "duration": 40,
    "start_time": "2021-10-26T09:31:24.223Z"
   },
   {
    "duration": 32,
    "start_time": "2021-10-26T09:31:39.796Z"
   },
   {
    "duration": 7,
    "start_time": "2021-10-26T09:31:54.214Z"
   },
   {
    "duration": 7,
    "start_time": "2021-10-26T09:32:00.997Z"
   },
   {
    "duration": 7,
    "start_time": "2021-10-26T09:32:03.828Z"
   },
   {
    "duration": 8,
    "start_time": "2021-10-26T09:32:07.994Z"
   },
   {
    "duration": 12,
    "start_time": "2021-10-26T09:32:22.836Z"
   },
   {
    "duration": 40,
    "start_time": "2021-10-26T09:32:32.808Z"
   },
   {
    "duration": 35,
    "start_time": "2021-10-26T09:33:00.288Z"
   },
   {
    "duration": 34,
    "start_time": "2021-10-26T09:33:51.649Z"
   },
   {
    "duration": 41,
    "start_time": "2021-10-26T09:33:57.360Z"
   },
   {
    "duration": 41,
    "start_time": "2021-10-26T09:34:15.376Z"
   },
   {
    "duration": 44,
    "start_time": "2021-10-26T09:34:31.165Z"
   },
   {
    "duration": 11,
    "start_time": "2021-10-26T09:34:35.238Z"
   },
   {
    "duration": 13,
    "start_time": "2021-10-26T09:34:44.234Z"
   },
   {
    "duration": 13,
    "start_time": "2021-10-26T09:34:48.454Z"
   },
   {
    "duration": 12,
    "start_time": "2021-10-26T09:34:55.554Z"
   },
   {
    "duration": 12,
    "start_time": "2021-10-26T09:35:01.355Z"
   },
   {
    "duration": 52,
    "start_time": "2021-10-26T09:35:42.775Z"
   },
   {
    "duration": 19,
    "start_time": "2021-10-26T09:35:50.518Z"
   },
   {
    "duration": 15,
    "start_time": "2021-10-26T09:35:53.785Z"
   },
   {
    "duration": 17,
    "start_time": "2021-10-26T09:35:58.810Z"
   },
   {
    "duration": 10,
    "start_time": "2021-10-26T09:36:12.810Z"
   },
   {
    "duration": 14,
    "start_time": "2021-10-26T09:36:17.526Z"
   },
   {
    "duration": 8,
    "start_time": "2021-10-26T09:36:22.245Z"
   },
   {
    "duration": 21,
    "start_time": "2021-10-26T09:36:33.133Z"
   },
   {
    "duration": 32,
    "start_time": "2021-10-26T09:38:32.270Z"
   },
   {
    "duration": 6,
    "start_time": "2021-10-26T09:38:51.654Z"
   },
   {
    "duration": 7,
    "start_time": "2021-10-26T09:40:42.506Z"
   },
   {
    "duration": 12,
    "start_time": "2021-10-26T09:43:24.730Z"
   },
   {
    "duration": 226,
    "start_time": "2021-10-26T09:43:45.963Z"
   },
   {
    "duration": 19,
    "start_time": "2021-10-26T09:43:50.386Z"
   },
   {
    "duration": 6,
    "start_time": "2021-10-26T09:45:32.641Z"
   },
   {
    "duration": 7,
    "start_time": "2021-10-26T09:45:43.324Z"
   },
   {
    "duration": 1510,
    "start_time": "2021-10-26T09:46:04.624Z"
   },
   {
    "duration": 1353,
    "start_time": "2021-10-26T09:46:27.169Z"
   },
   {
    "duration": 474,
    "start_time": "2021-10-26T09:46:28.525Z"
   },
   {
    "duration": 28,
    "start_time": "2021-10-26T09:46:29.003Z"
   },
   {
    "duration": 36,
    "start_time": "2021-10-26T09:46:29.035Z"
   },
   {
    "duration": 55,
    "start_time": "2021-10-26T09:46:29.074Z"
   },
   {
    "duration": 348,
    "start_time": "2021-10-26T09:46:29.132Z"
   },
   {
    "duration": 47,
    "start_time": "2021-10-26T09:46:29.482Z"
   },
   {
    "duration": 22,
    "start_time": "2021-10-26T09:46:29.533Z"
   },
   {
    "duration": 116,
    "start_time": "2021-10-26T09:46:29.559Z"
   },
   {
    "duration": 31,
    "start_time": "2021-10-26T09:46:29.677Z"
   },
   {
    "duration": 31,
    "start_time": "2021-10-26T09:46:29.711Z"
   },
   {
    "duration": 8,
    "start_time": "2021-10-26T09:46:29.745Z"
   },
   {
    "duration": 6,
    "start_time": "2021-10-26T09:46:29.756Z"
   },
   {
    "duration": 10,
    "start_time": "2021-10-26T09:46:29.764Z"
   },
   {
    "duration": 54,
    "start_time": "2021-10-26T09:46:29.776Z"
   },
   {
    "duration": 17,
    "start_time": "2021-10-26T09:46:29.832Z"
   },
   {
    "duration": 11,
    "start_time": "2021-10-26T09:46:29.851Z"
   },
   {
    "duration": 17,
    "start_time": "2021-10-26T09:46:29.864Z"
   },
   {
    "duration": 49,
    "start_time": "2021-10-26T09:46:29.883Z"
   },
   {
    "duration": 21,
    "start_time": "2021-10-26T09:46:29.934Z"
   },
   {
    "duration": 1315,
    "start_time": "2021-10-27T08:16:38.340Z"
   },
   {
    "duration": 391,
    "start_time": "2021-10-27T08:16:39.656Z"
   },
   {
    "duration": 280,
    "start_time": "2021-10-27T08:16:40.049Z"
   },
   {
    "duration": 83,
    "start_time": "2021-10-27T08:16:40.331Z"
   },
   {
    "duration": 6,
    "start_time": "2021-10-27T08:16:40.416Z"
   },
   {
    "duration": 26,
    "start_time": "2021-10-27T08:16:40.424Z"
   },
   {
    "duration": 24,
    "start_time": "2021-10-27T08:16:40.452Z"
   },
   {
    "duration": 19,
    "start_time": "2021-10-27T08:16:40.478Z"
   },
   {
    "duration": 21,
    "start_time": "2021-10-27T08:16:40.500Z"
   },
   {
    "duration": 42,
    "start_time": "2021-10-27T08:16:40.523Z"
   },
   {
    "duration": 20,
    "start_time": "2021-10-27T08:16:40.567Z"
   },
   {
    "duration": 14,
    "start_time": "2021-10-27T08:16:40.589Z"
   },
   {
    "duration": 9,
    "start_time": "2021-10-27T08:16:40.605Z"
   },
   {
    "duration": 13,
    "start_time": "2021-10-27T08:16:40.615Z"
   },
   {
    "duration": 25,
    "start_time": "2021-10-27T08:16:40.629Z"
   },
   {
    "duration": 12,
    "start_time": "2021-10-27T08:16:40.656Z"
   },
   {
    "duration": 9,
    "start_time": "2021-10-27T08:16:40.669Z"
   },
   {
    "duration": 21,
    "start_time": "2021-10-27T08:16:40.680Z"
   },
   {
    "duration": 7,
    "start_time": "2021-10-27T08:16:40.703Z"
   },
   {
    "duration": 24,
    "start_time": "2021-10-27T08:16:40.711Z"
   },
   {
    "duration": 13,
    "start_time": "2021-10-27T08:17:59.830Z"
   },
   {
    "duration": 6,
    "start_time": "2021-10-27T08:18:53.420Z"
   },
   {
    "duration": 6112,
    "start_time": "2021-10-27T08:19:13.827Z"
   },
   {
    "duration": 5,
    "start_time": "2021-10-27T08:19:32.764Z"
   },
   {
    "duration": 8,
    "start_time": "2021-10-27T08:20:27.560Z"
   },
   {
    "duration": 5,
    "start_time": "2021-10-27T08:20:32.259Z"
   },
   {
    "duration": 7,
    "start_time": "2021-10-27T08:21:11.740Z"
   },
   {
    "duration": 6,
    "start_time": "2021-10-27T08:21:17.472Z"
   },
   {
    "duration": 6,
    "start_time": "2021-10-27T08:21:47.163Z"
   },
   {
    "duration": 6,
    "start_time": "2021-10-27T08:25:30.420Z"
   },
   {
    "duration": 5,
    "start_time": "2021-10-27T08:25:41.615Z"
   },
   {
    "duration": 5,
    "start_time": "2021-10-27T08:26:14.334Z"
   },
   {
    "duration": 5,
    "start_time": "2021-10-27T08:26:48.547Z"
   },
   {
    "duration": 5,
    "start_time": "2021-10-27T08:27:02.183Z"
   },
   {
    "duration": 4,
    "start_time": "2021-10-27T08:27:16.607Z"
   },
   {
    "duration": 6,
    "start_time": "2021-10-27T08:30:51.408Z"
   },
   {
    "duration": 232,
    "start_time": "2021-10-27T08:30:56.533Z"
   },
   {
    "duration": 283,
    "start_time": "2021-10-27T08:31:04.852Z"
   },
   {
    "duration": 303,
    "start_time": "2021-10-27T08:31:20.730Z"
   },
   {
    "duration": 6,
    "start_time": "2021-10-27T08:39:07.835Z"
   },
   {
    "duration": 305,
    "start_time": "2021-10-27T08:39:18.975Z"
   },
   {
    "duration": 7,
    "start_time": "2021-10-27T08:39:22.808Z"
   },
   {
    "duration": 34,
    "start_time": "2021-10-27T08:41:08.774Z"
   },
   {
    "duration": 42,
    "start_time": "2021-10-27T08:41:17.776Z"
   },
   {
    "duration": 50,
    "start_time": "2021-10-27T08:43:00.153Z"
   },
   {
    "duration": 252,
    "start_time": "2021-10-27T08:43:26.123Z"
   },
   {
    "duration": 33,
    "start_time": "2021-10-27T08:43:40.665Z"
   },
   {
    "duration": 278,
    "start_time": "2021-10-27T08:43:54.139Z"
   },
   {
    "duration": 344,
    "start_time": "2021-10-27T08:44:02.444Z"
   },
   {
    "duration": 265,
    "start_time": "2021-10-27T08:44:21.188Z"
   },
   {
    "duration": 456,
    "start_time": "2021-10-27T08:44:28.849Z"
   },
   {
    "duration": 433,
    "start_time": "2021-10-27T08:44:57.888Z"
   },
   {
    "duration": 471,
    "start_time": "2021-10-27T08:45:42.809Z"
   },
   {
    "duration": 7,
    "start_time": "2021-10-27T08:47:25.640Z"
   },
   {
    "duration": 10,
    "start_time": "2021-10-27T08:47:39.923Z"
   },
   {
    "duration": 7,
    "start_time": "2021-10-27T08:48:09.044Z"
   },
   {
    "duration": 7,
    "start_time": "2021-10-27T08:48:20.877Z"
   },
   {
    "duration": 16,
    "start_time": "2021-10-27T08:49:15.923Z"
   },
   {
    "duration": 12,
    "start_time": "2021-10-27T08:49:17.803Z"
   },
   {
    "duration": 436,
    "start_time": "2021-10-27T08:49:30.943Z"
   },
   {
    "duration": 275,
    "start_time": "2021-10-27T08:49:41.929Z"
   },
   {
    "duration": 1198,
    "start_time": "2021-10-27T08:50:46.655Z"
   },
   {
    "duration": 396,
    "start_time": "2021-10-27T08:50:47.855Z"
   },
   {
    "duration": 328,
    "start_time": "2021-10-27T08:50:48.253Z"
   },
   {
    "duration": 87,
    "start_time": "2021-10-27T08:50:48.583Z"
   },
   {
    "duration": 6,
    "start_time": "2021-10-27T08:50:48.671Z"
   },
   {
    "duration": 21,
    "start_time": "2021-10-27T08:50:48.679Z"
   },
   {
    "duration": 21,
    "start_time": "2021-10-27T08:50:48.702Z"
   },
   {
    "duration": 19,
    "start_time": "2021-10-27T08:50:48.745Z"
   },
   {
    "duration": 16,
    "start_time": "2021-10-27T08:50:48.768Z"
   },
   {
    "duration": 20,
    "start_time": "2021-10-27T08:50:48.787Z"
   },
   {
    "duration": 12,
    "start_time": "2021-10-27T08:50:48.809Z"
   },
   {
    "duration": 45,
    "start_time": "2021-10-27T08:50:48.824Z"
   },
   {
    "duration": 7,
    "start_time": "2021-10-27T08:50:48.871Z"
   },
   {
    "duration": 10,
    "start_time": "2021-10-27T08:50:48.879Z"
   },
   {
    "duration": 19,
    "start_time": "2021-10-27T08:50:48.891Z"
   },
   {
    "duration": 18,
    "start_time": "2021-10-27T08:50:48.912Z"
   },
   {
    "duration": 41,
    "start_time": "2021-10-27T08:50:48.933Z"
   },
   {
    "duration": 18,
    "start_time": "2021-10-27T08:50:48.976Z"
   },
   {
    "duration": 8,
    "start_time": "2021-10-27T08:50:48.997Z"
   },
   {
    "duration": 57,
    "start_time": "2021-10-27T08:50:49.008Z"
   },
   {
    "duration": 6,
    "start_time": "2021-10-27T08:50:49.067Z"
   },
   {
    "duration": 11,
    "start_time": "2021-10-27T08:50:49.075Z"
   },
   {
    "duration": 5,
    "start_time": "2021-10-27T08:50:49.088Z"
   },
   {
    "duration": 7,
    "start_time": "2021-10-27T08:50:49.095Z"
   },
   {
    "duration": 12,
    "start_time": "2021-10-27T08:50:49.104Z"
   },
   {
    "duration": 7,
    "start_time": "2021-10-27T08:50:49.118Z"
   },
   {
    "duration": 34,
    "start_time": "2021-10-27T08:50:49.129Z"
   },
   {
    "duration": 5,
    "start_time": "2021-10-27T08:50:49.166Z"
   },
   {
    "duration": 8,
    "start_time": "2021-10-27T08:50:49.173Z"
   },
   {
    "duration": 5,
    "start_time": "2021-10-27T08:52:01.654Z"
   },
   {
    "duration": 5,
    "start_time": "2021-10-27T08:52:23.441Z"
   },
   {
    "duration": 5,
    "start_time": "2021-10-27T08:52:42.961Z"
   },
   {
    "duration": 161,
    "start_time": "2021-10-27T09:01:39.098Z"
   },
   {
    "duration": 149,
    "start_time": "2021-10-27T09:01:45.708Z"
   },
   {
    "duration": 157,
    "start_time": "2021-10-27T09:03:58.132Z"
   },
   {
    "duration": 177,
    "start_time": "2021-10-27T09:04:46.765Z"
   },
   {
    "duration": 159,
    "start_time": "2021-10-27T09:04:58.345Z"
   },
   {
    "duration": 239,
    "start_time": "2021-10-27T09:05:11.935Z"
   },
   {
    "duration": 132,
    "start_time": "2021-10-27T09:05:37.766Z"
   },
   {
    "duration": 610,
    "start_time": "2021-10-27T09:05:53.346Z"
   },
   {
    "duration": 143,
    "start_time": "2021-10-27T09:05:59.841Z"
   },
   {
    "duration": 163,
    "start_time": "2021-10-27T09:06:09.985Z"
   },
   {
    "duration": 139,
    "start_time": "2021-10-27T09:06:19.276Z"
   },
   {
    "duration": 150,
    "start_time": "2021-10-27T09:06:42.477Z"
   },
   {
    "duration": 146,
    "start_time": "2021-10-27T09:06:52.568Z"
   },
   {
    "duration": 141,
    "start_time": "2021-10-27T09:07:37.220Z"
   },
   {
    "duration": 140,
    "start_time": "2021-10-27T09:07:43.573Z"
   },
   {
    "duration": 5,
    "start_time": "2021-10-27T09:10:25.464Z"
   },
   {
    "duration": 174,
    "start_time": "2021-10-27T09:10:36.771Z"
   },
   {
    "duration": 5,
    "start_time": "2021-10-27T09:10:47.158Z"
   },
   {
    "duration": 225,
    "start_time": "2021-10-27T09:10:47.764Z"
   },
   {
    "duration": 138,
    "start_time": "2021-10-27T09:11:08.985Z"
   },
   {
    "duration": 282,
    "start_time": "2021-10-27T09:11:18.759Z"
   },
   {
    "duration": 70,
    "start_time": "2021-10-27T09:14:40.661Z"
   },
   {
    "duration": 28,
    "start_time": "2021-10-27T09:15:06.204Z"
   },
   {
    "duration": 10,
    "start_time": "2021-10-27T09:18:25.841Z"
   },
   {
    "duration": 1522,
    "start_time": "2021-10-27T09:19:29.093Z"
   },
   {
    "duration": 595,
    "start_time": "2021-10-27T09:19:30.618Z"
   },
   {
    "duration": 423,
    "start_time": "2021-10-27T09:19:31.216Z"
   },
   {
    "duration": 92,
    "start_time": "2021-10-27T09:19:31.642Z"
   },
   {
    "duration": 7,
    "start_time": "2021-10-27T09:19:31.736Z"
   },
   {
    "duration": 37,
    "start_time": "2021-10-27T09:19:31.745Z"
   },
   {
    "duration": 20,
    "start_time": "2021-10-27T09:19:31.784Z"
   },
   {
    "duration": 22,
    "start_time": "2021-10-27T09:19:31.806Z"
   },
   {
    "duration": 32,
    "start_time": "2021-10-27T09:19:31.831Z"
   },
   {
    "duration": 19,
    "start_time": "2021-10-27T09:19:31.865Z"
   },
   {
    "duration": 19,
    "start_time": "2021-10-27T09:19:31.887Z"
   },
   {
    "duration": 10,
    "start_time": "2021-10-27T09:19:31.909Z"
   },
   {
    "duration": 6,
    "start_time": "2021-10-27T09:19:31.921Z"
   },
   {
    "duration": 50,
    "start_time": "2021-10-27T09:19:31.929Z"
   },
   {
    "duration": 17,
    "start_time": "2021-10-27T09:19:31.981Z"
   },
   {
    "duration": 12,
    "start_time": "2021-10-27T09:19:32.000Z"
   },
   {
    "duration": 8,
    "start_time": "2021-10-27T09:19:32.014Z"
   },
   {
    "duration": 16,
    "start_time": "2021-10-27T09:19:32.024Z"
   },
   {
    "duration": 23,
    "start_time": "2021-10-27T09:19:32.042Z"
   },
   {
    "duration": 13,
    "start_time": "2021-10-27T09:19:32.067Z"
   },
   {
    "duration": 4,
    "start_time": "2021-10-27T09:19:32.082Z"
   },
   {
    "duration": 164,
    "start_time": "2021-10-27T09:19:32.088Z"
   },
   {
    "duration": 155,
    "start_time": "2021-10-27T09:19:32.254Z"
   },
   {
    "duration": 152,
    "start_time": "2021-10-27T09:19:32.411Z"
   },
   {
    "duration": 282,
    "start_time": "2021-10-27T09:19:32.565Z"
   },
   {
    "duration": 301,
    "start_time": "2021-10-27T09:19:32.849Z"
   },
   {
    "duration": 19,
    "start_time": "2021-10-27T09:19:33.154Z"
   },
   {
    "duration": 401,
    "start_time": "2021-10-27T09:19:33.175Z"
   },
   {
    "duration": 12,
    "start_time": "2021-10-27T09:19:33.578Z"
   },
   {
    "duration": 291,
    "start_time": "2021-10-27T09:19:33.592Z"
   },
   {
    "duration": 17,
    "start_time": "2021-10-27T09:19:33.885Z"
   },
   {
    "duration": 1514,
    "start_time": "2021-10-27T09:21:00.688Z"
   },
   {
    "duration": 587,
    "start_time": "2021-10-27T09:21:02.205Z"
   },
   {
    "duration": 285,
    "start_time": "2021-10-27T09:21:02.794Z"
   },
   {
    "duration": 87,
    "start_time": "2021-10-27T09:21:03.082Z"
   },
   {
    "duration": 7,
    "start_time": "2021-10-27T09:21:03.171Z"
   },
   {
    "duration": 26,
    "start_time": "2021-10-27T09:21:03.180Z"
   },
   {
    "duration": 25,
    "start_time": "2021-10-27T09:21:03.208Z"
   },
   {
    "duration": 32,
    "start_time": "2021-10-27T09:21:03.235Z"
   },
   {
    "duration": 21,
    "start_time": "2021-10-27T09:21:03.271Z"
   },
   {
    "duration": 20,
    "start_time": "2021-10-27T09:21:03.294Z"
   },
   {
    "duration": 12,
    "start_time": "2021-10-27T09:21:03.316Z"
   },
   {
    "duration": 39,
    "start_time": "2021-10-27T09:21:03.330Z"
   },
   {
    "duration": 5,
    "start_time": "2021-10-27T09:21:03.371Z"
   },
   {
    "duration": 19,
    "start_time": "2021-10-27T09:21:03.378Z"
   },
   {
    "duration": 30,
    "start_time": "2021-10-27T09:21:03.399Z"
   },
   {
    "duration": 19,
    "start_time": "2021-10-27T09:21:03.431Z"
   },
   {
    "duration": 28,
    "start_time": "2021-10-27T09:21:03.452Z"
   },
   {
    "duration": 23,
    "start_time": "2021-10-27T09:21:03.482Z"
   },
   {
    "duration": 18,
    "start_time": "2021-10-27T09:21:03.507Z"
   },
   {
    "duration": 25,
    "start_time": "2021-10-27T09:21:03.526Z"
   },
   {
    "duration": 10,
    "start_time": "2021-10-27T09:21:03.553Z"
   },
   {
    "duration": 162,
    "start_time": "2021-10-27T09:21:03.564Z"
   },
   {
    "duration": 147,
    "start_time": "2021-10-27T09:21:03.728Z"
   },
   {
    "duration": 160,
    "start_time": "2021-10-27T09:21:03.878Z"
   },
   {
    "duration": 269,
    "start_time": "2021-10-27T09:21:04.040Z"
   },
   {
    "duration": 296,
    "start_time": "2021-10-27T09:21:04.311Z"
   },
   {
    "duration": 898,
    "start_time": "2021-10-27T09:32:20.778Z"
   },
   {
    "duration": 227,
    "start_time": "2021-10-27T09:33:48.448Z"
   },
   {
    "duration": 169,
    "start_time": "2021-10-27T09:39:19.540Z"
   },
   {
    "duration": 1270,
    "start_time": "2021-10-28T05:47:03.704Z"
   },
   {
    "duration": 400,
    "start_time": "2021-10-28T05:47:04.976Z"
   },
   {
    "duration": 305,
    "start_time": "2021-10-28T05:47:05.378Z"
   },
   {
    "duration": 92,
    "start_time": "2021-10-28T05:47:05.684Z"
   },
   {
    "duration": 7,
    "start_time": "2021-10-28T05:47:05.778Z"
   },
   {
    "duration": 24,
    "start_time": "2021-10-28T05:47:05.786Z"
   },
   {
    "duration": 18,
    "start_time": "2021-10-28T05:47:05.812Z"
   },
   {
    "duration": 36,
    "start_time": "2021-10-28T05:47:05.832Z"
   },
   {
    "duration": 15,
    "start_time": "2021-10-28T05:47:05.871Z"
   },
   {
    "duration": 21,
    "start_time": "2021-10-28T05:47:05.888Z"
   },
   {
    "duration": 46,
    "start_time": "2021-10-28T05:47:05.911Z"
   },
   {
    "duration": 11,
    "start_time": "2021-10-28T05:47:05.959Z"
   },
   {
    "duration": 6,
    "start_time": "2021-10-28T05:47:05.971Z"
   },
   {
    "duration": 7,
    "start_time": "2021-10-28T05:47:05.979Z"
   },
   {
    "duration": 15,
    "start_time": "2021-10-28T05:47:05.987Z"
   },
   {
    "duration": 56,
    "start_time": "2021-10-28T05:47:06.004Z"
   },
   {
    "duration": 13,
    "start_time": "2021-10-28T05:47:06.061Z"
   },
   {
    "duration": 9,
    "start_time": "2021-10-28T05:47:06.077Z"
   },
   {
    "duration": 4,
    "start_time": "2021-10-28T05:47:06.087Z"
   },
   {
    "duration": 15,
    "start_time": "2021-10-28T05:47:06.092Z"
   },
   {
    "duration": 4,
    "start_time": "2021-10-28T05:47:06.109Z"
   },
   {
    "duration": 188,
    "start_time": "2021-10-28T05:47:06.114Z"
   },
   {
    "duration": 164,
    "start_time": "2021-10-28T05:47:06.304Z"
   },
   {
    "duration": 144,
    "start_time": "2021-10-28T05:47:06.470Z"
   },
   {
    "duration": 278,
    "start_time": "2021-10-28T05:47:06.616Z"
   },
   {
    "duration": 306,
    "start_time": "2021-10-28T05:47:06.896Z"
   },
   {
    "duration": 241,
    "start_time": "2021-10-28T05:47:07.205Z"
   },
   {
    "duration": 3,
    "start_time": "2021-10-28T06:03:12.539Z"
   },
   {
    "duration": 3,
    "start_time": "2021-10-28T06:16:32.206Z"
   },
   {
    "duration": 2,
    "start_time": "2021-10-28T06:31:04.948Z"
   },
   {
    "duration": 26,
    "start_time": "2021-10-28T06:31:12.938Z"
   },
   {
    "duration": 21,
    "start_time": "2021-10-28T06:31:19.851Z"
   },
   {
    "duration": 14,
    "start_time": "2021-10-28T06:31:25.907Z"
   },
   {
    "duration": 468,
    "start_time": "2021-10-28T06:34:58.692Z"
   },
   {
    "duration": 27,
    "start_time": "2021-10-28T06:35:05.033Z"
   },
   {
    "duration": 410,
    "start_time": "2021-10-28T06:35:13.591Z"
   },
   {
    "duration": 10,
    "start_time": "2021-10-28T06:35:19.711Z"
   },
   {
    "duration": 11,
    "start_time": "2021-10-28T06:35:58.773Z"
   },
   {
    "duration": 29,
    "start_time": "2021-10-28T06:36:44.085Z"
   },
   {
    "duration": 30,
    "start_time": "2021-10-28T06:37:21.246Z"
   },
   {
    "duration": 29,
    "start_time": "2021-10-28T06:37:47.438Z"
   },
   {
    "duration": 30,
    "start_time": "2021-10-28T06:38:34.586Z"
   },
   {
    "duration": 8,
    "start_time": "2021-10-28T06:43:43.200Z"
   },
   {
    "duration": 4,
    "start_time": "2021-10-28T06:48:25.940Z"
   },
   {
    "duration": 4,
    "start_time": "2021-10-28T06:48:30.425Z"
   },
   {
    "duration": 4,
    "start_time": "2021-10-28T06:48:38.306Z"
   },
   {
    "duration": 41,
    "start_time": "2021-10-28T06:50:29.401Z"
   },
   {
    "duration": 287,
    "start_time": "2021-10-28T06:52:23.308Z"
   },
   {
    "duration": 45,
    "start_time": "2021-10-28T06:53:20.738Z"
   },
   {
    "duration": 40,
    "start_time": "2021-10-28T06:53:27.951Z"
   },
   {
    "duration": 37,
    "start_time": "2021-10-28T06:53:32.676Z"
   },
   {
    "duration": 67,
    "start_time": "2021-10-28T06:54:02.748Z"
   },
   {
    "duration": 38,
    "start_time": "2021-10-28T06:54:30.538Z"
   },
   {
    "duration": 37,
    "start_time": "2021-10-28T06:55:22.761Z"
   },
   {
    "duration": 25,
    "start_time": "2021-10-28T06:55:34.301Z"
   },
   {
    "duration": 12,
    "start_time": "2021-10-28T06:56:01.596Z"
   },
   {
    "duration": 4,
    "start_time": "2021-10-28T06:56:02.915Z"
   },
   {
    "duration": 27,
    "start_time": "2021-10-28T06:56:07.538Z"
   },
   {
    "duration": 356,
    "start_time": "2021-10-28T06:56:23.342Z"
   },
   {
    "duration": 6,
    "start_time": "2021-10-28T06:56:48.077Z"
   },
   {
    "duration": 12,
    "start_time": "2021-10-28T06:57:16.717Z"
   },
   {
    "duration": 5,
    "start_time": "2021-10-28T06:57:17.201Z"
   },
   {
    "duration": 10,
    "start_time": "2021-10-28T06:57:17.671Z"
   },
   {
    "duration": 10,
    "start_time": "2021-10-28T06:57:40.548Z"
   },
   {
    "duration": 27,
    "start_time": "2021-10-28T06:57:45.103Z"
   },
   {
    "duration": 7,
    "start_time": "2021-10-28T06:58:10.616Z"
   },
   {
    "duration": 25,
    "start_time": "2021-10-28T06:58:11.167Z"
   },
   {
    "duration": 608,
    "start_time": "2021-10-28T06:58:15.856Z"
   },
   {
    "duration": 10,
    "start_time": "2021-10-28T06:59:13.999Z"
   },
   {
    "duration": 1051,
    "start_time": "2021-10-28T06:59:20.502Z"
   },
   {
    "duration": 354,
    "start_time": "2021-10-28T06:59:27.046Z"
   },
   {
    "duration": 4,
    "start_time": "2021-10-28T06:59:31.263Z"
   },
   {
    "duration": 1482,
    "start_time": "2021-10-28T06:59:47.471Z"
   },
   {
    "duration": 4,
    "start_time": "2021-10-28T06:59:50.106Z"
   },
   {
    "duration": 1660,
    "start_time": "2021-10-28T07:00:46.388Z"
   },
   {
    "duration": 1709,
    "start_time": "2021-10-28T07:01:30.637Z"
   },
   {
    "duration": 1733,
    "start_time": "2021-10-28T07:02:05.313Z"
   },
   {
    "duration": 5,
    "start_time": "2021-10-28T07:02:50.858Z"
   },
   {
    "duration": 6,
    "start_time": "2021-10-28T07:02:55.837Z"
   },
   {
    "duration": 1254,
    "start_time": "2021-10-28T07:03:02.299Z"
   },
   {
    "duration": 4,
    "start_time": "2021-10-28T07:03:20.771Z"
   },
   {
    "duration": 4,
    "start_time": "2021-10-28T07:03:36.832Z"
   },
   {
    "duration": 3377,
    "start_time": "2021-10-28T07:04:29.268Z"
   },
   {
    "duration": 4,
    "start_time": "2021-10-28T07:04:45.551Z"
   },
   {
    "duration": 5,
    "start_time": "2021-10-28T07:08:12.347Z"
   },
   {
    "duration": 5,
    "start_time": "2021-10-28T07:08:34.886Z"
   },
   {
    "duration": 8,
    "start_time": "2021-10-28T07:09:21.290Z"
   },
   {
    "duration": 2461,
    "start_time": "2021-10-28T07:09:50.394Z"
   },
   {
    "duration": 6,
    "start_time": "2021-10-28T07:10:03.253Z"
   },
   {
    "duration": 9220,
    "start_time": "2021-10-28T07:10:05.310Z"
   },
   {
    "duration": 8769,
    "start_time": "2021-10-28T07:12:29.203Z"
   },
   {
    "duration": 5,
    "start_time": "2021-10-28T07:12:37.974Z"
   },
   {
    "duration": 8931,
    "start_time": "2021-10-28T07:12:42.579Z"
   },
   {
    "duration": 4,
    "start_time": "2021-10-28T07:12:53.042Z"
   },
   {
    "duration": 6,
    "start_time": "2021-10-28T07:13:05.442Z"
   },
   {
    "duration": 9108,
    "start_time": "2021-10-28T07:13:13.838Z"
   },
   {
    "duration": 17408,
    "start_time": "2021-10-28T07:13:49.037Z"
   },
   {
    "duration": 17193,
    "start_time": "2021-10-28T07:14:07.873Z"
   },
   {
    "duration": 2919,
    "start_time": "2021-10-28T07:15:00.627Z"
   },
   {
    "duration": 31117,
    "start_time": "2021-10-28T07:15:12.092Z"
   },
   {
    "duration": 6,
    "start_time": "2021-10-28T07:35:25.825Z"
   },
   {
    "duration": 50786,
    "start_time": "2021-10-28T07:35:42.962Z"
   },
   {
    "duration": 3,
    "start_time": "2021-10-28T07:38:45.108Z"
   },
   {
    "duration": 3347,
    "start_time": "2021-10-28T07:39:16.892Z"
   },
   {
    "duration": 3001,
    "start_time": "2021-10-28T07:39:33.348Z"
   },
   {
    "duration": 33207,
    "start_time": "2021-10-28T07:40:10.880Z"
   },
   {
    "duration": 32178,
    "start_time": "2021-10-28T07:41:02.327Z"
   },
   {
    "duration": 2839,
    "start_time": "2021-10-28T07:41:34.507Z"
   },
   {
    "duration": 31800,
    "start_time": "2021-10-28T07:41:37.349Z"
   },
   {
    "duration": 3004,
    "start_time": "2021-10-28T07:42:09.151Z"
   },
   {
    "duration": 39075,
    "start_time": "2021-10-28T07:43:48.976Z"
   },
   {
    "duration": 4,
    "start_time": "2021-10-28T07:45:54.591Z"
   },
   {
    "duration": 4376,
    "start_time": "2021-10-28T07:46:32.468Z"
   },
   {
    "duration": 376830,
    "start_time": "2021-10-28T07:46:47.501Z"
   },
   {
    "duration": 3125,
    "start_time": "2021-10-28T08:01:42.923Z"
   },
   {
    "duration": 304,
    "start_time": "2021-10-28T08:01:49.142Z"
   },
   {
    "duration": 39683,
    "start_time": "2021-10-28T08:02:15.067Z"
   },
   {
    "duration": 3,
    "start_time": "2021-10-28T08:03:42.153Z"
   },
   {
    "duration": 36501,
    "start_time": "2021-10-28T08:05:36.244Z"
   },
   {
    "duration": 483636,
    "start_time": "2021-10-28T08:07:58.608Z"
   },
   {
    "duration": 70926,
    "start_time": "2021-10-28T08:17:45.622Z"
   },
   {
    "duration": 39828,
    "start_time": "2021-10-28T08:19:22.615Z"
   },
   {
    "duration": 28905,
    "start_time": "2021-10-28T08:20:02.446Z"
   },
   {
    "duration": 91,
    "start_time": "2021-10-28T08:21:51.021Z"
   },
   {
    "duration": 2647,
    "start_time": "2021-10-28T08:21:59.405Z"
   },
   {
    "duration": 3,
    "start_time": "2021-10-28T08:22:51.013Z"
   },
   {
    "duration": 25,
    "start_time": "2021-10-28T08:23:31.707Z"
   },
   {
    "duration": 5,
    "start_time": "2021-10-28T08:23:45.782Z"
   },
   {
    "duration": 25,
    "start_time": "2021-10-28T08:24:08.400Z"
   },
   {
    "duration": 381,
    "start_time": "2021-10-28T08:24:14.752Z"
   },
   {
    "duration": 4,
    "start_time": "2021-10-28T08:24:17.505Z"
   },
   {
    "duration": 299,
    "start_time": "2021-10-28T08:24:43.740Z"
   },
   {
    "duration": 22,
    "start_time": "2021-10-28T08:25:01.057Z"
   },
   {
    "duration": 273,
    "start_time": "2021-10-28T08:25:17.507Z"
   },
   {
    "duration": 769,
    "start_time": "2021-10-28T08:26:00.403Z"
   },
   {
    "duration": 5,
    "start_time": "2021-10-28T08:26:29.785Z"
   },
   {
    "duration": 564,
    "start_time": "2021-10-28T08:26:47.741Z"
   },
   {
    "duration": 6905,
    "start_time": "2021-10-28T08:27:12.698Z"
   },
   {
    "duration": 26,
    "start_time": "2021-10-28T08:27:33.741Z"
   },
   {
    "duration": 26,
    "start_time": "2021-10-28T08:27:41.881Z"
   },
   {
    "duration": 33,
    "start_time": "2021-10-28T08:27:48.058Z"
   },
   {
    "duration": 19,
    "start_time": "2021-10-28T08:28:04.801Z"
   },
   {
    "duration": 6987,
    "start_time": "2021-10-28T08:28:12.647Z"
   },
   {
    "duration": 19,
    "start_time": "2021-10-28T08:28:28.851Z"
   },
   {
    "duration": 7256,
    "start_time": "2021-10-28T08:29:14.955Z"
   },
   {
    "duration": 27,
    "start_time": "2021-10-28T08:29:24.545Z"
   },
   {
    "duration": 662,
    "start_time": "2021-10-28T08:30:22.068Z"
   },
   {
    "duration": 470,
    "start_time": "2021-10-28T08:30:31.167Z"
   },
   {
    "duration": 301,
    "start_time": "2021-10-28T08:30:49.631Z"
   },
   {
    "duration": 289,
    "start_time": "2021-10-28T08:31:02.723Z"
   },
   {
    "duration": 26,
    "start_time": "2021-10-28T08:32:22.017Z"
   },
   {
    "duration": 5,
    "start_time": "2021-10-28T08:32:26.194Z"
   },
   {
    "duration": 1256,
    "start_time": "2021-10-28T08:33:00.717Z"
   },
   {
    "duration": 404,
    "start_time": "2021-10-28T08:33:01.975Z"
   },
   {
    "duration": 292,
    "start_time": "2021-10-28T08:33:02.384Z"
   },
   {
    "duration": 87,
    "start_time": "2021-10-28T08:33:02.678Z"
   },
   {
    "duration": 7,
    "start_time": "2021-10-28T08:33:02.767Z"
   },
   {
    "duration": 33,
    "start_time": "2021-10-28T08:33:02.776Z"
   },
   {
    "duration": 20,
    "start_time": "2021-10-28T08:33:02.810Z"
   },
   {
    "duration": 29,
    "start_time": "2021-10-28T08:33:02.833Z"
   },
   {
    "duration": 23,
    "start_time": "2021-10-28T08:33:02.864Z"
   },
   {
    "duration": 20,
    "start_time": "2021-10-28T08:33:02.889Z"
   },
   {
    "duration": 13,
    "start_time": "2021-10-28T08:33:02.910Z"
   },
   {
    "duration": 28,
    "start_time": "2021-10-28T08:33:02.925Z"
   },
   {
    "duration": 7,
    "start_time": "2021-10-28T08:33:02.954Z"
   },
   {
    "duration": 8,
    "start_time": "2021-10-28T08:33:02.963Z"
   },
   {
    "duration": 14,
    "start_time": "2021-10-28T08:33:02.973Z"
   },
   {
    "duration": 11,
    "start_time": "2021-10-28T08:33:02.989Z"
   },
   {
    "duration": 45,
    "start_time": "2021-10-28T08:33:03.002Z"
   },
   {
    "duration": 10,
    "start_time": "2021-10-28T08:33:03.049Z"
   },
   {
    "duration": 4,
    "start_time": "2021-10-28T08:33:03.060Z"
   },
   {
    "duration": 17,
    "start_time": "2021-10-28T08:33:03.066Z"
   },
   {
    "duration": 4,
    "start_time": "2021-10-28T08:33:03.085Z"
   },
   {
    "duration": 170,
    "start_time": "2021-10-28T08:33:03.091Z"
   },
   {
    "duration": 146,
    "start_time": "2021-10-28T08:33:03.263Z"
   },
   {
    "duration": 141,
    "start_time": "2021-10-28T08:33:03.411Z"
   },
   {
    "duration": 278,
    "start_time": "2021-10-28T08:33:03.554Z"
   },
   {
    "duration": 358,
    "start_time": "2021-10-28T08:33:03.836Z"
   },
   {
    "duration": 170,
    "start_time": "2021-10-28T08:33:04.196Z"
   },
   {
    "duration": 4,
    "start_time": "2021-10-28T08:33:04.368Z"
   },
   {
    "duration": 14,
    "start_time": "2021-10-28T08:33:04.374Z"
   },
   {
    "duration": 14,
    "start_time": "2021-10-28T08:33:04.389Z"
   },
   {
    "duration": 6,
    "start_time": "2021-10-28T08:33:04.406Z"
   },
   {
    "duration": 188630,
    "start_time": "2021-10-28T08:33:04.414Z"
   },
   {
    "duration": 3100,
    "start_time": "2021-10-28T08:36:13.046Z"
   },
   {
    "duration": 42809,
    "start_time": "2021-10-28T08:36:16.148Z"
   },
   {
    "duration": 28787,
    "start_time": "2021-10-28T08:36:58.961Z"
   },
   {
    "duration": 94,
    "start_time": "2021-10-28T08:37:27.750Z"
   },
   {
    "duration": 5,
    "start_time": "2021-10-28T08:37:27.847Z"
   },
   {
    "duration": 384,
    "start_time": "2021-10-28T08:37:30.823Z"
   },
   {
    "duration": 18,
    "start_time": "2021-10-28T08:37:44.946Z"
   },
   {
    "duration": 12,
    "start_time": "2021-10-28T08:37:51.317Z"
   },
   {
    "duration": 28,
    "start_time": "2021-10-28T08:37:54.486Z"
   },
   {
    "duration": 8035,
    "start_time": "2021-10-28T08:38:05.346Z"
   },
   {
    "duration": 7559,
    "start_time": "2021-10-28T08:38:20.677Z"
   },
   {
    "duration": 8598,
    "start_time": "2021-10-28T08:38:29.694Z"
   },
   {
    "duration": 1197,
    "start_time": "2021-10-28T08:41:12.063Z"
   },
   {
    "duration": 383,
    "start_time": "2021-10-28T08:41:13.262Z"
   },
   {
    "duration": 287,
    "start_time": "2021-10-28T08:41:13.647Z"
   },
   {
    "duration": 83,
    "start_time": "2021-10-28T08:41:13.936Z"
   },
   {
    "duration": 6,
    "start_time": "2021-10-28T08:41:14.021Z"
   },
   {
    "duration": 29,
    "start_time": "2021-10-28T08:41:14.029Z"
   },
   {
    "duration": 19,
    "start_time": "2021-10-28T08:41:14.060Z"
   },
   {
    "duration": 21,
    "start_time": "2021-10-28T08:41:14.081Z"
   },
   {
    "duration": 30,
    "start_time": "2021-10-28T08:41:14.104Z"
   },
   {
    "duration": 24,
    "start_time": "2021-10-28T08:41:14.136Z"
   },
   {
    "duration": 11,
    "start_time": "2021-10-28T08:41:14.161Z"
   },
   {
    "duration": 15,
    "start_time": "2021-10-28T08:41:14.174Z"
   },
   {
    "duration": 15,
    "start_time": "2021-10-28T08:41:14.191Z"
   },
   {
    "duration": 8,
    "start_time": "2021-10-28T08:41:14.209Z"
   },
   {
    "duration": 35,
    "start_time": "2021-10-28T08:41:14.218Z"
   },
   {
    "duration": 13,
    "start_time": "2021-10-28T08:41:14.256Z"
   },
   {
    "duration": 9,
    "start_time": "2021-10-28T08:41:14.271Z"
   },
   {
    "duration": 10,
    "start_time": "2021-10-28T08:41:14.282Z"
   },
   {
    "duration": 5,
    "start_time": "2021-10-28T08:41:14.294Z"
   },
   {
    "duration": 52,
    "start_time": "2021-10-28T08:41:14.301Z"
   },
   {
    "duration": 3,
    "start_time": "2021-10-28T08:41:14.355Z"
   },
   {
    "duration": 163,
    "start_time": "2021-10-28T08:41:14.360Z"
   },
   {
    "duration": 138,
    "start_time": "2021-10-28T08:41:14.526Z"
   },
   {
    "duration": 136,
    "start_time": "2021-10-28T08:41:14.666Z"
   },
   {
    "duration": 265,
    "start_time": "2021-10-28T08:41:14.803Z"
   },
   {
    "duration": 352,
    "start_time": "2021-10-28T08:41:15.069Z"
   },
   {
    "duration": 186,
    "start_time": "2021-10-28T08:41:15.423Z"
   },
   {
    "duration": 3,
    "start_time": "2021-10-28T08:41:15.611Z"
   },
   {
    "duration": 5,
    "start_time": "2021-10-28T08:41:15.616Z"
   },
   {
    "duration": 26,
    "start_time": "2021-10-28T08:41:15.623Z"
   },
   {
    "duration": 6,
    "start_time": "2021-10-28T08:41:15.651Z"
   },
   {
    "duration": 191137,
    "start_time": "2021-10-28T08:41:15.658Z"
   },
   {
    "duration": 2854,
    "start_time": "2021-10-28T08:44:26.797Z"
   },
   {
    "duration": 41695,
    "start_time": "2021-10-28T08:44:29.653Z"
   },
   {
    "duration": 29302,
    "start_time": "2021-10-28T08:45:11.350Z"
   },
   {
    "duration": 92,
    "start_time": "2021-10-28T08:45:40.654Z"
   },
   {
    "duration": 38,
    "start_time": "2021-10-28T08:51:50.073Z"
   },
   {
    "duration": 20,
    "start_time": "2021-10-28T08:52:02.427Z"
   },
   {
    "duration": 71,
    "start_time": "2021-10-28T08:55:05.907Z"
   },
   {
    "duration": 10,
    "start_time": "2021-10-28T08:55:14.304Z"
   },
   {
    "duration": 19,
    "start_time": "2021-10-28T08:55:17.278Z"
   },
   {
    "duration": 6493,
    "start_time": "2021-10-28T08:56:33.463Z"
   },
   {
    "duration": 2842,
    "start_time": "2021-10-28T08:57:02.404Z"
   },
   {
    "duration": 1946,
    "start_time": "2021-10-28T08:57:55.407Z"
   },
   {
    "duration": 4035,
    "start_time": "2021-10-28T08:59:01.078Z"
   },
   {
    "duration": 2833,
    "start_time": "2021-10-28T09:09:33.274Z"
   },
   {
    "duration": 10,
    "start_time": "2021-10-28T09:15:50.599Z"
   },
   {
    "duration": 2819,
    "start_time": "2021-10-28T09:16:07.430Z"
   },
   {
    "duration": 1260,
    "start_time": "2021-10-28T09:16:51.024Z"
   },
   {
    "duration": 386,
    "start_time": "2021-10-28T09:16:52.286Z"
   },
   {
    "duration": 296,
    "start_time": "2021-10-28T09:16:52.675Z"
   },
   {
    "duration": 86,
    "start_time": "2021-10-28T09:16:52.973Z"
   },
   {
    "duration": 8,
    "start_time": "2021-10-28T09:16:53.061Z"
   },
   {
    "duration": 41,
    "start_time": "2021-10-28T09:16:53.070Z"
   },
   {
    "duration": 25,
    "start_time": "2021-10-28T09:16:53.113Z"
   },
   {
    "duration": 21,
    "start_time": "2021-10-28T09:16:53.140Z"
   },
   {
    "duration": 27,
    "start_time": "2021-10-28T09:16:53.164Z"
   },
   {
    "duration": 21,
    "start_time": "2021-10-28T09:16:53.193Z"
   },
   {
    "duration": 31,
    "start_time": "2021-10-28T09:16:53.216Z"
   },
   {
    "duration": 31,
    "start_time": "2021-10-28T09:16:53.248Z"
   },
   {
    "duration": 19,
    "start_time": "2021-10-28T09:16:53.281Z"
   },
   {
    "duration": 27,
    "start_time": "2021-10-28T09:16:53.302Z"
   },
   {
    "duration": 32,
    "start_time": "2021-10-28T09:16:53.331Z"
   },
   {
    "duration": 21,
    "start_time": "2021-10-28T09:16:53.365Z"
   },
   {
    "duration": 20,
    "start_time": "2021-10-28T09:16:53.388Z"
   },
   {
    "duration": 26,
    "start_time": "2021-10-28T09:16:53.410Z"
   },
   {
    "duration": 21,
    "start_time": "2021-10-28T09:16:53.438Z"
   },
   {
    "duration": 40,
    "start_time": "2021-10-28T09:16:53.460Z"
   },
   {
    "duration": 14,
    "start_time": "2021-10-28T09:16:53.502Z"
   },
   {
    "duration": 167,
    "start_time": "2021-10-28T09:16:53.517Z"
   },
   {
    "duration": 144,
    "start_time": "2021-10-28T09:16:53.687Z"
   },
   {
    "duration": 149,
    "start_time": "2021-10-28T09:16:53.834Z"
   },
   {
    "duration": 261,
    "start_time": "2021-10-28T09:16:53.985Z"
   },
   {
    "duration": 364,
    "start_time": "2021-10-28T09:16:54.248Z"
   },
   {
    "duration": 222,
    "start_time": "2021-10-28T09:16:54.617Z"
   },
   {
    "duration": 3,
    "start_time": "2021-10-28T09:16:54.841Z"
   },
   {
    "duration": 12,
    "start_time": "2021-10-28T09:16:54.847Z"
   },
   {
    "duration": 29,
    "start_time": "2021-10-28T09:16:54.861Z"
   },
   {
    "duration": 8,
    "start_time": "2021-10-28T09:16:54.893Z"
   },
   {
    "duration": 189929,
    "start_time": "2021-10-28T09:16:54.903Z"
   },
   {
    "duration": 3517,
    "start_time": "2021-10-28T09:20:04.834Z"
   },
   {
    "duration": 45693,
    "start_time": "2021-10-28T09:20:08.353Z"
   },
   {
    "duration": 31702,
    "start_time": "2021-10-28T09:20:54.048Z"
   },
   {
    "duration": 217,
    "start_time": "2021-10-28T09:21:25.753Z"
   },
   {
    "duration": 2854,
    "start_time": "2021-10-28T09:21:25.972Z"
   },
   {
    "duration": 1531,
    "start_time": "2021-10-29T07:23:19.671Z"
   },
   {
    "duration": 456,
    "start_time": "2021-10-29T07:23:21.205Z"
   },
   {
    "duration": 389,
    "start_time": "2021-10-29T07:23:21.664Z"
   },
   {
    "duration": 125,
    "start_time": "2021-10-29T07:23:22.056Z"
   },
   {
    "duration": 9,
    "start_time": "2021-10-29T07:23:22.183Z"
   },
   {
    "duration": 61,
    "start_time": "2021-10-29T07:23:22.194Z"
   },
   {
    "duration": 25,
    "start_time": "2021-10-29T07:23:22.257Z"
   },
   {
    "duration": 52,
    "start_time": "2021-10-29T07:23:22.285Z"
   },
   {
    "duration": 23,
    "start_time": "2021-10-29T07:23:22.341Z"
   },
   {
    "duration": 31,
    "start_time": "2021-10-29T07:23:22.366Z"
   },
   {
    "duration": 20,
    "start_time": "2021-10-29T07:23:22.428Z"
   },
   {
    "duration": 9,
    "start_time": "2021-10-29T07:23:22.451Z"
   },
   {
    "duration": 7,
    "start_time": "2021-10-29T07:23:22.463Z"
   },
   {
    "duration": 10,
    "start_time": "2021-10-29T07:23:22.472Z"
   },
   {
    "duration": 19,
    "start_time": "2021-10-29T07:23:22.530Z"
   },
   {
    "duration": 16,
    "start_time": "2021-10-29T07:23:22.551Z"
   },
   {
    "duration": 11,
    "start_time": "2021-10-29T07:23:22.569Z"
   },
   {
    "duration": 46,
    "start_time": "2021-10-29T07:23:22.583Z"
   },
   {
    "duration": 9,
    "start_time": "2021-10-29T07:23:22.631Z"
   },
   {
    "duration": 14,
    "start_time": "2021-10-29T07:23:22.642Z"
   },
   {
    "duration": 6,
    "start_time": "2021-10-29T07:23:22.658Z"
   },
   {
    "duration": 252,
    "start_time": "2021-10-29T07:23:22.666Z"
   },
   {
    "duration": 228,
    "start_time": "2021-10-29T07:23:22.920Z"
   },
   {
    "duration": 227,
    "start_time": "2021-10-29T07:23:23.150Z"
   },
   {
    "duration": 588,
    "start_time": "2021-10-29T07:23:29.371Z"
   },
   {
    "duration": 1594,
    "start_time": "2021-10-29T08:28:10.291Z"
   },
   {
    "duration": 466,
    "start_time": "2021-10-29T08:28:11.888Z"
   },
   {
    "duration": 334,
    "start_time": "2021-10-29T08:28:12.357Z"
   },
   {
    "duration": 101,
    "start_time": "2021-10-29T08:28:12.694Z"
   },
   {
    "duration": 11,
    "start_time": "2021-10-29T08:28:12.798Z"
   },
   {
    "duration": 51,
    "start_time": "2021-10-29T08:28:12.812Z"
   },
   {
    "duration": 25,
    "start_time": "2021-10-29T08:28:12.866Z"
   },
   {
    "duration": 60,
    "start_time": "2021-10-29T08:28:12.894Z"
   },
   {
    "duration": 23,
    "start_time": "2021-10-29T08:28:12.960Z"
   },
   {
    "duration": 69,
    "start_time": "2021-10-29T08:28:12.986Z"
   },
   {
    "duration": 14,
    "start_time": "2021-10-29T08:28:13.057Z"
   },
   {
    "duration": 13,
    "start_time": "2021-10-29T08:28:13.073Z"
   },
   {
    "duration": 15,
    "start_time": "2021-10-29T08:28:13.088Z"
   },
   {
    "duration": 33,
    "start_time": "2021-10-29T08:28:13.105Z"
   },
   {
    "duration": 25,
    "start_time": "2021-10-29T08:28:13.140Z"
   },
   {
    "duration": 15,
    "start_time": "2021-10-29T08:28:13.168Z"
   },
   {
    "duration": 10,
    "start_time": "2021-10-29T08:28:13.186Z"
   },
   {
    "duration": 41,
    "start_time": "2021-10-29T08:28:13.198Z"
   },
   {
    "duration": 6,
    "start_time": "2021-10-29T08:28:13.241Z"
   },
   {
    "duration": 15,
    "start_time": "2021-10-29T08:28:13.250Z"
   },
   {
    "duration": 5,
    "start_time": "2021-10-29T08:28:13.268Z"
   },
   {
    "duration": 276,
    "start_time": "2021-10-29T08:28:13.276Z"
   },
   {
    "duration": 229,
    "start_time": "2021-10-29T08:28:13.555Z"
   },
   {
    "duration": 233,
    "start_time": "2021-10-29T08:28:13.786Z"
   },
   {
    "duration": 621,
    "start_time": "2021-10-29T08:28:14.021Z"
   },
   {
    "duration": 256,
    "start_time": "2021-10-29T08:28:14.645Z"
   },
   {
    "duration": 4,
    "start_time": "2021-10-29T08:28:14.906Z"
   },
   {
    "duration": 27,
    "start_time": "2021-10-29T08:28:14.912Z"
   },
   {
    "duration": 24,
    "start_time": "2021-10-29T08:28:14.942Z"
   },
   {
    "duration": 26,
    "start_time": "2021-10-29T08:28:14.968Z"
   },
   {
    "duration": 3938,
    "start_time": "2021-10-29T08:28:14.996Z"
   },
   {
    "duration": 237699,
    "start_time": "2021-10-29T08:28:18.939Z"
   },
   {
    "duration": 71690,
    "start_time": "2021-10-29T08:32:16.641Z"
   },
   {
    "duration": 28897,
    "start_time": "2021-10-29T08:33:28.336Z"
   },
   {
    "duration": 178,
    "start_time": "2021-10-29T08:33:57.241Z"
   },
   {
    "duration": 3742,
    "start_time": "2021-10-29T08:33:57.421Z"
   },
   {
    "duration": 1201,
    "start_time": "2021-10-29T09:43:32.552Z"
   },
   {
    "duration": 387,
    "start_time": "2021-10-29T09:43:33.959Z"
   },
   {
    "duration": 279,
    "start_time": "2021-10-29T09:43:34.348Z"
   },
   {
    "duration": 84,
    "start_time": "2021-10-29T09:43:34.629Z"
   },
   {
    "duration": 7,
    "start_time": "2021-10-29T09:44:13.199Z"
   },
   {
    "duration": 22,
    "start_time": "2021-10-29T09:44:14.093Z"
   },
   {
    "duration": 15,
    "start_time": "2021-10-29T09:44:14.627Z"
   },
   {
    "duration": 19,
    "start_time": "2021-10-29T09:44:15.576Z"
   },
   {
    "duration": 17,
    "start_time": "2021-10-29T09:44:15.866Z"
   },
   {
    "duration": 19,
    "start_time": "2021-10-29T09:44:16.506Z"
   },
   {
    "duration": 10,
    "start_time": "2021-10-29T09:44:17.057Z"
   },
   {
    "duration": 11,
    "start_time": "2021-10-29T09:45:14.340Z"
   },
   {
    "duration": 5,
    "start_time": "2021-10-29T09:45:14.774Z"
   },
   {
    "duration": 6,
    "start_time": "2021-10-29T09:45:49.037Z"
   },
   {
    "duration": 13,
    "start_time": "2021-10-29T09:45:52.061Z"
   },
   {
    "duration": 12,
    "start_time": "2021-10-29T09:45:52.463Z"
   },
   {
    "duration": 8,
    "start_time": "2021-10-29T09:45:52.644Z"
   },
   {
    "duration": 10,
    "start_time": "2021-10-29T09:45:53.181Z"
   },
   {
    "duration": 5,
    "start_time": "2021-10-29T09:45:53.495Z"
   },
   {
    "duration": 13,
    "start_time": "2021-10-29T09:45:53.789Z"
   },
   {
    "duration": 6,
    "start_time": "2021-10-29T09:47:40.242Z"
   },
   {
    "duration": 141,
    "start_time": "2021-10-29T09:47:41.040Z"
   },
   {
    "duration": 131,
    "start_time": "2021-10-29T09:47:41.798Z"
   },
   {
    "duration": 129,
    "start_time": "2021-10-29T09:47:42.882Z"
   },
   {
    "duration": 358,
    "start_time": "2021-10-29T09:48:27.937Z"
   },
   {
    "duration": 141,
    "start_time": "2021-10-29T09:49:07.504Z"
   },
   {
    "duration": 3,
    "start_time": "2021-10-29T09:50:24.314Z"
   },
   {
    "duration": 3,
    "start_time": "2021-10-29T09:50:24.973Z"
   },
   {
    "duration": 5,
    "start_time": "2021-10-29T09:50:25.764Z"
   },
   {
    "duration": 11,
    "start_time": "2021-10-29T09:50:30.581Z"
   },
   {
    "duration": 2495,
    "start_time": "2021-10-29T09:50:31.352Z"
   },
   {
    "duration": 206136,
    "start_time": "2021-10-29T09:50:36.966Z"
   },
   {
    "duration": 40542,
    "start_time": "2021-10-29T09:54:03.104Z"
   },
   {
    "duration": 31299,
    "start_time": "2021-10-29T09:54:43.649Z"
   },
   {
    "duration": 1830,
    "start_time": "2021-10-29T09:55:14.951Z"
   },
   {
    "duration": 76,
    "start_time": "2021-10-29T10:00:02.208Z"
   },
   {
    "duration": 2800,
    "start_time": "2021-10-29T10:00:03.527Z"
   },
   {
    "duration": 1537,
    "start_time": "2021-10-30T06:38:11.227Z"
   },
   {
    "duration": 470,
    "start_time": "2021-10-30T06:38:12.767Z"
   },
   {
    "duration": 350,
    "start_time": "2021-10-30T06:38:13.240Z"
   },
   {
    "duration": 105,
    "start_time": "2021-10-30T06:38:13.593Z"
   },
   {
    "duration": 9,
    "start_time": "2021-10-30T06:38:13.700Z"
   },
   {
    "duration": 36,
    "start_time": "2021-10-30T06:38:13.711Z"
   },
   {
    "duration": 50,
    "start_time": "2021-10-30T06:38:13.750Z"
   },
   {
    "duration": 33,
    "start_time": "2021-10-30T06:38:13.804Z"
   },
   {
    "duration": 27,
    "start_time": "2021-10-30T06:38:13.841Z"
   },
   {
    "duration": 53,
    "start_time": "2021-10-30T06:38:13.870Z"
   },
   {
    "duration": 16,
    "start_time": "2021-10-30T06:38:13.925Z"
   },
   {
    "duration": 12,
    "start_time": "2021-10-30T06:38:13.944Z"
   },
   {
    "duration": 43,
    "start_time": "2021-10-30T06:38:13.959Z"
   },
   {
    "duration": 8,
    "start_time": "2021-10-30T06:38:14.004Z"
   },
   {
    "duration": 22,
    "start_time": "2021-10-30T06:38:14.016Z"
   },
   {
    "duration": 16,
    "start_time": "2021-10-30T06:38:14.041Z"
   },
   {
    "duration": 48,
    "start_time": "2021-10-30T06:38:14.059Z"
   },
   {
    "duration": 12,
    "start_time": "2021-10-30T06:38:14.110Z"
   },
   {
    "duration": 6,
    "start_time": "2021-10-30T06:38:14.125Z"
   },
   {
    "duration": 20,
    "start_time": "2021-10-30T06:38:14.134Z"
   },
   {
    "duration": 48,
    "start_time": "2021-10-30T06:38:14.156Z"
   },
   {
    "duration": 251,
    "start_time": "2021-10-30T06:38:14.207Z"
   },
   {
    "duration": 236,
    "start_time": "2021-10-30T06:38:14.461Z"
   },
   {
    "duration": 226,
    "start_time": "2021-10-30T06:38:14.701Z"
   },
   {
    "duration": 666,
    "start_time": "2021-10-30T06:38:14.929Z"
   },
   {
    "duration": 266,
    "start_time": "2021-10-30T06:38:15.600Z"
   },
   {
    "duration": 4,
    "start_time": "2021-10-30T06:38:15.872Z"
   },
   {
    "duration": 25,
    "start_time": "2021-10-30T06:38:15.878Z"
   },
   {
    "duration": 22,
    "start_time": "2021-10-30T06:38:15.906Z"
   },
   {
    "duration": 17,
    "start_time": "2021-10-30T06:38:15.931Z"
   },
   {
    "duration": 3758,
    "start_time": "2021-10-30T06:38:15.951Z"
   },
   {
    "duration": 7834,
    "start_time": "2021-10-30T06:38:19.712Z"
   },
   {
    "duration": 656,
    "start_time": "2021-10-30T06:38:26.892Z"
   },
   {
    "duration": 656,
    "start_time": "2021-10-30T06:38:26.894Z"
   },
   {
    "duration": 655,
    "start_time": "2021-10-30T06:38:26.896Z"
   },
   {
    "duration": 655,
    "start_time": "2021-10-30T06:38:26.898Z"
   },
   {
    "duration": 1664,
    "start_time": "2021-10-30T06:39:06.987Z"
   },
   {
    "duration": 465,
    "start_time": "2021-10-30T06:39:08.654Z"
   },
   {
    "duration": 346,
    "start_time": "2021-10-30T06:39:09.122Z"
   },
   {
    "duration": 99,
    "start_time": "2021-10-30T06:39:09.471Z"
   },
   {
    "duration": 10,
    "start_time": "2021-10-30T06:39:09.572Z"
   },
   {
    "duration": 47,
    "start_time": "2021-10-30T06:39:09.584Z"
   },
   {
    "duration": 24,
    "start_time": "2021-10-30T06:39:09.633Z"
   },
   {
    "duration": 61,
    "start_time": "2021-10-30T06:39:09.659Z"
   },
   {
    "duration": 24,
    "start_time": "2021-10-30T06:39:09.724Z"
   },
   {
    "duration": 58,
    "start_time": "2021-10-30T06:39:09.750Z"
   },
   {
    "duration": 16,
    "start_time": "2021-10-30T06:39:09.811Z"
   },
   {
    "duration": 27,
    "start_time": "2021-10-30T06:39:09.829Z"
   },
   {
    "duration": 6,
    "start_time": "2021-10-30T06:39:09.858Z"
   },
   {
    "duration": 38,
    "start_time": "2021-10-30T06:39:09.866Z"
   },
   {
    "duration": 19,
    "start_time": "2021-10-30T06:39:09.906Z"
   },
   {
    "duration": 16,
    "start_time": "2021-10-30T06:39:09.927Z"
   },
   {
    "duration": 11,
    "start_time": "2021-10-30T06:39:09.945Z"
   },
   {
    "duration": 49,
    "start_time": "2021-10-30T06:39:09.958Z"
   },
   {
    "duration": 6,
    "start_time": "2021-10-30T06:39:10.010Z"
   },
   {
    "duration": 15,
    "start_time": "2021-10-30T06:39:10.019Z"
   },
   {
    "duration": 7,
    "start_time": "2021-10-30T06:39:10.037Z"
   },
   {
    "duration": 288,
    "start_time": "2021-10-30T06:39:10.047Z"
   },
   {
    "duration": 256,
    "start_time": "2021-10-30T06:39:10.338Z"
   },
   {
    "duration": 235,
    "start_time": "2021-10-30T06:39:10.597Z"
   },
   {
    "duration": 651,
    "start_time": "2021-10-30T06:39:10.834Z"
   },
   {
    "duration": 7,
    "start_time": "2021-10-30T06:41:42.999Z"
   },
   {
    "duration": 500,
    "start_time": "2021-10-30T06:41:43.009Z"
   },
   {
    "duration": 384,
    "start_time": "2021-10-30T06:41:43.513Z"
   },
   {
    "duration": 104,
    "start_time": "2021-10-30T06:41:43.900Z"
   },
   {
    "duration": 9,
    "start_time": "2021-10-30T06:41:44.007Z"
   },
   {
    "duration": 34,
    "start_time": "2021-10-30T06:41:44.019Z"
   },
   {
    "duration": 61,
    "start_time": "2021-10-30T06:41:44.056Z"
   },
   {
    "duration": 33,
    "start_time": "2021-10-30T06:41:44.120Z"
   },
   {
    "duration": 50,
    "start_time": "2021-10-30T06:41:44.157Z"
   },
   {
    "duration": 33,
    "start_time": "2021-10-30T06:41:44.210Z"
   },
   {
    "duration": 18,
    "start_time": "2021-10-30T06:41:44.245Z"
   },
   {
    "duration": 35,
    "start_time": "2021-10-30T06:41:44.265Z"
   },
   {
    "duration": 11,
    "start_time": "2021-10-30T06:41:44.303Z"
   },
   {
    "duration": 12,
    "start_time": "2021-10-30T06:41:44.317Z"
   },
   {
    "duration": 19,
    "start_time": "2021-10-30T06:41:44.331Z"
   },
   {
    "duration": 52,
    "start_time": "2021-10-30T06:41:44.353Z"
   },
   {
    "duration": 11,
    "start_time": "2021-10-30T06:41:44.407Z"
   },
   {
    "duration": 10,
    "start_time": "2021-10-30T06:41:44.420Z"
   },
   {
    "duration": 5,
    "start_time": "2021-10-30T06:41:44.433Z"
   },
   {
    "duration": 17,
    "start_time": "2021-10-30T06:41:44.440Z"
   },
   {
    "duration": 6,
    "start_time": "2021-10-30T06:41:44.459Z"
   },
   {
    "duration": 240,
    "start_time": "2021-10-30T06:41:44.501Z"
   },
   {
    "duration": 245,
    "start_time": "2021-10-30T06:41:44.744Z"
   },
   {
    "duration": 234,
    "start_time": "2021-10-30T06:41:44.992Z"
   },
   {
    "duration": 571,
    "start_time": "2021-10-30T06:41:45.229Z"
   },
   {
    "duration": 722,
    "start_time": "2021-10-30T06:42:29.431Z"
   },
   {
    "duration": 21,
    "start_time": "2021-10-30T06:43:00.480Z"
   },
   {
    "duration": 10,
    "start_time": "2021-10-30T06:45:21.055Z"
   },
   {
    "duration": 330,
    "start_time": "2021-10-30T06:45:32.120Z"
   },
   {
    "duration": 703,
    "start_time": "2021-10-30T06:45:57.320Z"
   },
   {
    "duration": 584,
    "start_time": "2021-10-30T06:46:04.868Z"
   },
   {
    "duration": 567,
    "start_time": "2021-10-30T06:46:10.075Z"
   },
   {
    "duration": 24,
    "start_time": "2021-10-30T06:47:15.807Z"
   },
   {
    "duration": 41,
    "start_time": "2021-10-30T06:47:26.217Z"
   },
   {
    "duration": 9,
    "start_time": "2021-10-30T06:47:44.973Z"
   },
   {
    "duration": 6,
    "start_time": "2021-10-30T06:48:16.009Z"
   },
   {
    "duration": 10,
    "start_time": "2021-10-30T06:48:28.065Z"
   },
   {
    "duration": 9,
    "start_time": "2021-10-30T06:48:40.219Z"
   },
   {
    "duration": 10,
    "start_time": "2021-10-30T06:48:46.264Z"
   },
   {
    "duration": 9,
    "start_time": "2021-10-30T06:49:16.359Z"
   },
   {
    "duration": 330,
    "start_time": "2021-10-30T06:49:44.301Z"
   },
   {
    "duration": 7,
    "start_time": "2021-10-30T06:50:53.074Z"
   },
   {
    "duration": 337,
    "start_time": "2021-10-30T06:51:03.666Z"
   },
   {
    "duration": 10,
    "start_time": "2021-10-30T06:51:40.834Z"
   },
   {
    "duration": 8,
    "start_time": "2021-10-30T06:53:05.925Z"
   },
   {
    "duration": 9,
    "start_time": "2021-10-30T06:53:12.603Z"
   },
   {
    "duration": 10,
    "start_time": "2021-10-30T06:54:32.279Z"
   },
   {
    "duration": 9,
    "start_time": "2021-10-30T06:54:36.884Z"
   },
   {
    "duration": 510,
    "start_time": "2021-10-30T06:55:08.549Z"
   },
   {
    "duration": 377,
    "start_time": "2021-10-30T06:55:19.499Z"
   },
   {
    "duration": 941,
    "start_time": "2021-10-30T06:56:11.259Z"
   },
   {
    "duration": 826,
    "start_time": "2021-10-30T06:57:07.865Z"
   },
   {
    "duration": 1090,
    "start_time": "2021-10-30T06:57:15.693Z"
   },
   {
    "duration": 960,
    "start_time": "2021-10-30T06:57:49.770Z"
   },
   {
    "duration": 976,
    "start_time": "2021-10-30T06:59:04.964Z"
   },
   {
    "duration": 1142,
    "start_time": "2021-10-30T06:59:13.311Z"
   },
   {
    "duration": 1012,
    "start_time": "2021-10-30T06:59:30.664Z"
   },
   {
    "duration": 8,
    "start_time": "2021-10-30T06:59:56.900Z"
   },
   {
    "duration": 9,
    "start_time": "2021-10-30T07:00:03.419Z"
   },
   {
    "duration": 9,
    "start_time": "2021-10-30T07:00:07.004Z"
   },
   {
    "duration": 374,
    "start_time": "2021-10-30T07:00:24.403Z"
   },
   {
    "duration": 36,
    "start_time": "2021-10-30T07:00:39.798Z"
   },
   {
    "duration": 9,
    "start_time": "2021-10-30T07:01:00.985Z"
   },
   {
    "duration": 35,
    "start_time": "2021-10-30T07:01:16.013Z"
   },
   {
    "duration": 54,
    "start_time": "2021-10-30T07:01:31.910Z"
   },
   {
    "duration": 40,
    "start_time": "2021-10-30T07:02:37.221Z"
   },
   {
    "duration": 5,
    "start_time": "2021-10-30T07:02:45.025Z"
   },
   {
    "duration": 1612,
    "start_time": "2021-10-30T07:04:00.913Z"
   },
   {
    "duration": 484,
    "start_time": "2021-10-30T07:04:02.528Z"
   },
   {
    "duration": 356,
    "start_time": "2021-10-30T07:04:03.016Z"
   },
   {
    "duration": 103,
    "start_time": "2021-10-30T07:04:03.375Z"
   },
   {
    "duration": 23,
    "start_time": "2021-10-30T07:04:03.481Z"
   },
   {
    "duration": 33,
    "start_time": "2021-10-30T07:04:03.506Z"
   },
   {
    "duration": 24,
    "start_time": "2021-10-30T07:04:03.542Z"
   },
   {
    "duration": 56,
    "start_time": "2021-10-30T07:04:03.569Z"
   },
   {
    "duration": 28,
    "start_time": "2021-10-30T07:04:03.629Z"
   },
   {
    "duration": 55,
    "start_time": "2021-10-30T07:04:03.660Z"
   },
   {
    "duration": 16,
    "start_time": "2021-10-30T07:04:03.717Z"
   },
   {
    "duration": 12,
    "start_time": "2021-10-30T07:04:03.735Z"
   },
   {
    "duration": 7,
    "start_time": "2021-10-30T07:04:03.749Z"
   },
   {
    "duration": 47,
    "start_time": "2021-10-30T07:04:03.759Z"
   },
   {
    "duration": 19,
    "start_time": "2021-10-30T07:04:03.809Z"
   },
   {
    "duration": 16,
    "start_time": "2021-10-30T07:04:03.830Z"
   },
   {
    "duration": 56,
    "start_time": "2021-10-30T07:04:03.849Z"
   },
   {
    "duration": 11,
    "start_time": "2021-10-30T07:04:03.908Z"
   },
   {
    "duration": 5,
    "start_time": "2021-10-30T07:04:03.922Z"
   },
   {
    "duration": 20,
    "start_time": "2021-10-30T07:04:03.929Z"
   },
   {
    "duration": 5,
    "start_time": "2021-10-30T07:04:03.952Z"
   },
   {
    "duration": 281,
    "start_time": "2021-10-30T07:04:03.960Z"
   },
   {
    "duration": 236,
    "start_time": "2021-10-30T07:04:04.244Z"
   },
   {
    "duration": 230,
    "start_time": "2021-10-30T07:04:04.483Z"
   },
   {
    "duration": 626,
    "start_time": "2021-10-30T07:04:04.715Z"
   },
   {
    "duration": 10,
    "start_time": "2021-10-30T07:04:05.344Z"
   },
   {
    "duration": 976,
    "start_time": "2021-10-30T07:04:05.359Z"
   },
   {
    "duration": 551,
    "start_time": "2021-10-30T07:04:41.338Z"
   },
   {
    "duration": 10892,
    "start_time": "2021-10-30T07:05:49.546Z"
   },
   {
    "duration": 10727,
    "start_time": "2021-10-30T07:06:20.659Z"
   },
   {
    "duration": 11293,
    "start_time": "2021-10-30T07:06:36.573Z"
   },
   {
    "duration": 43347,
    "start_time": "2021-10-30T07:07:43.946Z"
   },
   {
    "duration": 16349,
    "start_time": "2021-10-30T07:09:03.799Z"
   },
   {
    "duration": 1620,
    "start_time": "2021-10-30T07:11:12.737Z"
   },
   {
    "duration": 485,
    "start_time": "2021-10-30T07:11:14.360Z"
   },
   {
    "duration": 348,
    "start_time": "2021-10-30T07:11:14.848Z"
   },
   {
    "duration": 99,
    "start_time": "2021-10-30T07:11:15.201Z"
   },
   {
    "duration": 9,
    "start_time": "2021-10-30T07:11:15.303Z"
   },
   {
    "duration": 37,
    "start_time": "2021-10-30T07:11:15.314Z"
   },
   {
    "duration": 24,
    "start_time": "2021-10-30T07:11:15.353Z"
   },
   {
    "duration": 38,
    "start_time": "2021-10-30T07:11:15.379Z"
   },
   {
    "duration": 23,
    "start_time": "2021-10-30T07:11:15.421Z"
   },
   {
    "duration": 31,
    "start_time": "2021-10-30T07:11:15.448Z"
   },
   {
    "duration": 24,
    "start_time": "2021-10-30T07:11:15.481Z"
   },
   {
    "duration": 23,
    "start_time": "2021-10-30T07:11:15.508Z"
   },
   {
    "duration": 6,
    "start_time": "2021-10-30T07:11:15.534Z"
   },
   {
    "duration": 7,
    "start_time": "2021-10-30T07:11:15.542Z"
   },
   {
    "duration": 49,
    "start_time": "2021-10-30T07:11:15.551Z"
   },
   {
    "duration": 16,
    "start_time": "2021-10-30T07:11:15.603Z"
   },
   {
    "duration": 10,
    "start_time": "2021-10-30T07:11:15.622Z"
   },
   {
    "duration": 11,
    "start_time": "2021-10-30T07:11:15.635Z"
   },
   {
    "duration": 6,
    "start_time": "2021-10-30T07:11:15.701Z"
   },
   {
    "duration": 18,
    "start_time": "2021-10-30T07:11:15.709Z"
   },
   {
    "duration": 5,
    "start_time": "2021-10-30T07:11:15.730Z"
   },
   {
    "duration": 289,
    "start_time": "2021-10-30T07:11:15.737Z"
   },
   {
    "duration": 364,
    "start_time": "2021-10-30T07:11:16.029Z"
   },
   {
    "duration": 238,
    "start_time": "2021-10-30T07:11:16.396Z"
   },
   {
    "duration": 628,
    "start_time": "2021-10-30T07:11:16.636Z"
   },
   {
    "duration": 10,
    "start_time": "2021-10-30T07:11:17.266Z"
   },
   {
    "duration": 983,
    "start_time": "2021-10-30T07:11:17.281Z"
   },
   {
    "duration": 44229,
    "start_time": "2021-10-30T07:11:18.266Z"
   },
   {
    "duration": 16638,
    "start_time": "2021-10-30T07:12:02.501Z"
   },
   {
    "duration": 4,
    "start_time": "2021-10-30T07:12:19.142Z"
   },
   {
    "duration": 10,
    "start_time": "2021-10-30T07:12:19.148Z"
   },
   {
    "duration": 7,
    "start_time": "2021-10-30T07:12:19.161Z"
   },
   {
    "duration": 36,
    "start_time": "2021-10-30T07:12:19.171Z"
   },
   {
    "duration": 3193,
    "start_time": "2021-10-30T07:12:19.210Z"
   },
   {
    "duration": 220711,
    "start_time": "2021-10-30T07:12:22.406Z"
   },
   {
    "duration": 49483,
    "start_time": "2021-10-30T07:16:03.120Z"
   },
   {
    "duration": 31799,
    "start_time": "2021-10-30T07:16:52.608Z"
   },
   {
    "duration": 154,
    "start_time": "2021-10-30T07:17:24.500Z"
   },
   {
    "duration": 3380,
    "start_time": "2021-10-30T07:17:24.656Z"
   },
   {
    "duration": 7,
    "start_time": "2021-10-30T07:20:06.951Z"
   },
   {
    "duration": 6,
    "start_time": "2021-10-30T07:20:20.732Z"
   },
   {
    "duration": 8,
    "start_time": "2021-10-30T07:20:40.312Z"
   },
   {
    "duration": 12,
    "start_time": "2021-10-30T07:24:57.675Z"
   },
   {
    "duration": 12,
    "start_time": "2021-10-30T07:26:52.252Z"
   },
   {
    "duration": 1168,
    "start_time": "2021-11-01T06:28:08.110Z"
   },
   {
    "duration": 387,
    "start_time": "2021-11-01T06:28:09.281Z"
   },
   {
    "duration": 292,
    "start_time": "2021-11-01T06:28:09.671Z"
   },
   {
    "duration": 85,
    "start_time": "2021-11-01T06:28:09.965Z"
   },
   {
    "duration": 6,
    "start_time": "2021-11-01T06:28:10.052Z"
   },
   {
    "duration": 32,
    "start_time": "2021-11-01T06:28:10.060Z"
   },
   {
    "duration": 15,
    "start_time": "2021-11-01T06:28:10.094Z"
   },
   {
    "duration": 18,
    "start_time": "2021-11-01T06:28:10.110Z"
   },
   {
    "duration": 19,
    "start_time": "2021-11-01T06:28:10.130Z"
   },
   {
    "duration": 19,
    "start_time": "2021-11-01T06:28:10.163Z"
   },
   {
    "duration": 16,
    "start_time": "2021-11-01T06:28:10.184Z"
   },
   {
    "duration": 9,
    "start_time": "2021-11-01T06:28:10.202Z"
   },
   {
    "duration": 5,
    "start_time": "2021-11-01T06:28:10.212Z"
   },
   {
    "duration": 8,
    "start_time": "2021-11-01T06:28:10.218Z"
   },
   {
    "duration": 41,
    "start_time": "2021-11-01T06:28:10.227Z"
   },
   {
    "duration": 12,
    "start_time": "2021-11-01T06:28:10.270Z"
   },
   {
    "duration": 9,
    "start_time": "2021-11-01T06:28:10.284Z"
   },
   {
    "duration": 17,
    "start_time": "2021-11-01T06:28:10.294Z"
   },
   {
    "duration": 8,
    "start_time": "2021-11-01T06:28:10.312Z"
   },
   {
    "duration": 15,
    "start_time": "2021-11-01T06:28:10.322Z"
   },
   {
    "duration": 24,
    "start_time": "2021-11-01T06:28:10.339Z"
   },
   {
    "duration": 161,
    "start_time": "2021-11-01T06:28:10.365Z"
   },
   {
    "duration": 132,
    "start_time": "2021-11-01T06:28:10.528Z"
   },
   {
    "duration": 132,
    "start_time": "2021-11-01T06:28:10.663Z"
   },
   {
    "duration": 399,
    "start_time": "2021-11-01T06:28:10.797Z"
   },
   {
    "duration": 6,
    "start_time": "2021-11-01T06:28:11.198Z"
   },
   {
    "duration": 549,
    "start_time": "2021-11-01T06:28:11.207Z"
   },
   {
    "duration": 26322,
    "start_time": "2021-11-01T06:28:11.758Z"
   },
   {
    "duration": 9718,
    "start_time": "2021-11-01T06:28:38.082Z"
   },
   {
    "duration": 4,
    "start_time": "2021-11-01T06:28:47.802Z"
   },
   {
    "duration": 7,
    "start_time": "2021-11-01T06:28:47.807Z"
   },
   {
    "duration": 7,
    "start_time": "2021-11-01T06:28:47.815Z"
   },
   {
    "duration": 13,
    "start_time": "2021-11-01T06:28:47.823Z"
   },
   {
    "duration": 28,
    "start_time": "2021-11-01T06:28:47.838Z"
   },
   {
    "duration": 5,
    "start_time": "2021-11-01T06:30:19.217Z"
   },
   {
    "duration": 315,
    "start_time": "2021-11-01T06:30:46.533Z"
   },
   {
    "duration": 5,
    "start_time": "2021-11-01T06:31:21.781Z"
   },
   {
    "duration": 240,
    "start_time": "2021-11-01T06:31:28.757Z"
   },
   {
    "duration": 35044,
    "start_time": "2021-11-01T06:32:10.821Z"
   },
   {
    "duration": 5,
    "start_time": "2021-11-01T06:33:42.646Z"
   },
   {
    "duration": 2,
    "start_time": "2021-11-01T06:34:00.788Z"
   },
   {
    "duration": 1394,
    "start_time": "2021-11-01T06:34:42.877Z"
   },
   {
    "duration": 35562,
    "start_time": "2021-11-01T06:35:02.402Z"
   },
   {
    "duration": 3,
    "start_time": "2021-11-01T06:36:00.729Z"
   },
   {
    "duration": 1393,
    "start_time": "2021-11-01T06:36:19.270Z"
   },
   {
    "duration": 4,
    "start_time": "2021-11-01T06:36:34.839Z"
   },
   {
    "duration": 72104,
    "start_time": "2021-11-01T06:38:54.861Z"
   },
   {
    "duration": 71475,
    "start_time": "2021-11-01T06:42:49.990Z"
   },
   {
    "duration": 72126,
    "start_time": "2021-11-01T06:45:02.336Z"
   },
   {
    "duration": 71300,
    "start_time": "2021-11-01T06:46:28.170Z"
   },
   {
    "duration": 3,
    "start_time": "2021-11-01T06:47:44.627Z"
   },
   {
    "duration": 537797,
    "start_time": "2021-11-01T06:59:25.417Z"
   },
   {
    "duration": 1192,
    "start_time": "2021-11-01T07:10:39.088Z"
   },
   {
    "duration": 382,
    "start_time": "2021-11-01T07:10:40.282Z"
   },
   {
    "duration": 280,
    "start_time": "2021-11-01T07:10:40.666Z"
   },
   {
    "duration": 88,
    "start_time": "2021-11-01T07:10:40.948Z"
   },
   {
    "duration": 8,
    "start_time": "2021-11-01T07:10:41.037Z"
   },
   {
    "duration": 35,
    "start_time": "2021-11-01T07:10:41.046Z"
   },
   {
    "duration": 16,
    "start_time": "2021-11-01T07:10:41.082Z"
   },
   {
    "duration": 21,
    "start_time": "2021-11-01T07:10:41.099Z"
   },
   {
    "duration": 41,
    "start_time": "2021-11-01T07:10:41.123Z"
   },
   {
    "duration": 21,
    "start_time": "2021-11-01T07:10:41.166Z"
   },
   {
    "duration": 11,
    "start_time": "2021-11-01T07:10:41.189Z"
   },
   {
    "duration": 8,
    "start_time": "2021-11-01T07:10:41.202Z"
   },
   {
    "duration": 4,
    "start_time": "2021-11-01T07:10:41.212Z"
   },
   {
    "duration": 7,
    "start_time": "2021-11-01T07:10:41.218Z"
   },
   {
    "duration": 45,
    "start_time": "2021-11-01T07:10:41.226Z"
   },
   {
    "duration": 13,
    "start_time": "2021-11-01T07:10:41.272Z"
   },
   {
    "duration": 8,
    "start_time": "2021-11-01T07:10:41.286Z"
   },
   {
    "duration": 12,
    "start_time": "2021-11-01T07:10:41.295Z"
   },
   {
    "duration": 4,
    "start_time": "2021-11-01T07:10:41.309Z"
   },
   {
    "duration": 22,
    "start_time": "2021-11-01T07:10:41.314Z"
   },
   {
    "duration": 25,
    "start_time": "2021-11-01T07:10:41.338Z"
   },
   {
    "duration": 145,
    "start_time": "2021-11-01T07:10:41.365Z"
   },
   {
    "duration": 136,
    "start_time": "2021-11-01T07:10:41.512Z"
   },
   {
    "duration": 136,
    "start_time": "2021-11-01T07:10:41.650Z"
   },
   {
    "duration": 377,
    "start_time": "2021-11-01T07:10:41.788Z"
   },
   {
    "duration": 7,
    "start_time": "2021-11-01T07:10:42.167Z"
   },
   {
    "duration": 538,
    "start_time": "2021-11-01T07:10:42.177Z"
   },
   {
    "duration": 24502,
    "start_time": "2021-11-01T07:10:42.717Z"
   },
   {
    "duration": 9163,
    "start_time": "2021-11-01T07:11:07.221Z"
   },
   {
    "duration": 3,
    "start_time": "2021-11-01T07:11:16.386Z"
   },
   {
    "duration": 5,
    "start_time": "2021-11-01T07:11:16.391Z"
   },
   {
    "duration": 6,
    "start_time": "2021-11-01T07:11:16.398Z"
   },
   {
    "duration": 68,
    "start_time": "2021-11-01T07:11:38.079Z"
   },
   {
    "duration": 8,
    "start_time": "2021-11-01T07:11:40.915Z"
   },
   {
    "duration": 9,
    "start_time": "2021-11-01T07:12:45.955Z"
   },
   {
    "duration": 328,
    "start_time": "2021-11-01T07:13:08.479Z"
   },
   {
    "duration": 22,
    "start_time": "2021-11-01T07:13:16.167Z"
   },
   {
    "duration": 246,
    "start_time": "2021-11-01T07:13:21.047Z"
   },
   {
    "duration": 111267,
    "start_time": "2021-11-01T07:13:38.437Z"
   },
   {
    "duration": 6,
    "start_time": "2021-11-01T09:13:25.442Z"
   },
   {
    "duration": 415,
    "start_time": "2021-11-01T09:13:25.450Z"
   },
   {
    "duration": 316,
    "start_time": "2021-11-01T09:13:25.867Z"
   },
   {
    "duration": 87,
    "start_time": "2021-11-01T09:13:26.186Z"
   },
   {
    "duration": 5,
    "start_time": "2021-11-01T09:13:26.275Z"
   },
   {
    "duration": 27,
    "start_time": "2021-11-01T09:13:26.282Z"
   },
   {
    "duration": 19,
    "start_time": "2021-11-01T09:13:26.312Z"
   },
   {
    "duration": 48,
    "start_time": "2021-11-01T09:13:26.333Z"
   },
   {
    "duration": 19,
    "start_time": "2021-11-01T09:13:26.385Z"
   },
   {
    "duration": 21,
    "start_time": "2021-11-01T09:13:26.407Z"
   },
   {
    "duration": 39,
    "start_time": "2021-11-01T09:13:26.430Z"
   },
   {
    "duration": 5,
    "start_time": "2021-11-01T09:13:26.471Z"
   },
   {
    "duration": 8,
    "start_time": "2021-11-01T09:13:26.477Z"
   },
   {
    "duration": 9,
    "start_time": "2021-11-01T09:13:26.487Z"
   },
   {
    "duration": 15,
    "start_time": "2021-11-01T09:13:26.498Z"
   },
   {
    "duration": 15,
    "start_time": "2021-11-01T09:13:26.564Z"
   },
   {
    "duration": 8,
    "start_time": "2021-11-01T09:13:26.581Z"
   },
   {
    "duration": 12,
    "start_time": "2021-11-01T09:13:26.591Z"
   },
   {
    "duration": 4,
    "start_time": "2021-11-01T09:13:26.605Z"
   },
   {
    "duration": 52,
    "start_time": "2021-11-01T09:13:26.611Z"
   },
   {
    "duration": 4,
    "start_time": "2021-11-01T09:13:26.666Z"
   },
   {
    "duration": 161,
    "start_time": "2021-11-01T09:13:26.672Z"
   },
   {
    "duration": 148,
    "start_time": "2021-11-01T09:13:26.835Z"
   },
   {
    "duration": 153,
    "start_time": "2021-11-01T09:13:26.985Z"
   },
   {
    "duration": 343,
    "start_time": "2021-11-01T09:13:27.140Z"
   },
   {
    "duration": 8,
    "start_time": "2021-11-01T09:13:27.485Z"
   },
   {
    "duration": 690,
    "start_time": "2021-11-01T09:13:27.496Z"
   },
   {
    "duration": 25909,
    "start_time": "2021-11-01T09:13:28.188Z"
   },
   {
    "duration": 9574,
    "start_time": "2021-11-01T09:13:54.100Z"
   },
   {
    "duration": 4,
    "start_time": "2021-11-01T09:14:03.676Z"
   },
   {
    "duration": 10,
    "start_time": "2021-11-01T09:14:03.681Z"
   },
   {
    "duration": 9,
    "start_time": "2021-11-01T09:14:03.693Z"
   },
   {
    "duration": 9,
    "start_time": "2021-11-01T09:14:43.436Z"
   },
   {
    "duration": 146,
    "start_time": "2021-11-01T09:16:27.303Z"
   },
   {
    "duration": 12,
    "start_time": "2021-11-01T09:16:32.872Z"
   },
   {
    "duration": 9,
    "start_time": "2021-11-01T09:17:45.378Z"
   },
   {
    "duration": 1240,
    "start_time": "2021-11-02T06:06:08.404Z"
   },
   {
    "duration": 393,
    "start_time": "2021-11-02T06:06:09.647Z"
   },
   {
    "duration": 290,
    "start_time": "2021-11-02T06:06:10.042Z"
   },
   {
    "duration": 86,
    "start_time": "2021-11-02T06:06:10.334Z"
   },
   {
    "duration": 8,
    "start_time": "2021-11-02T06:06:10.422Z"
   },
   {
    "duration": 39,
    "start_time": "2021-11-02T06:06:10.431Z"
   },
   {
    "duration": 23,
    "start_time": "2021-11-02T06:06:10.472Z"
   },
   {
    "duration": 24,
    "start_time": "2021-11-02T06:06:10.498Z"
   },
   {
    "duration": 29,
    "start_time": "2021-11-02T06:06:10.524Z"
   },
   {
    "duration": 21,
    "start_time": "2021-11-02T06:06:10.555Z"
   },
   {
    "duration": 30,
    "start_time": "2021-11-02T06:06:10.578Z"
   },
   {
    "duration": 13,
    "start_time": "2021-11-02T06:06:10.610Z"
   },
   {
    "duration": 17,
    "start_time": "2021-11-02T06:06:10.625Z"
   },
   {
    "duration": 24,
    "start_time": "2021-11-02T06:06:10.643Z"
   },
   {
    "duration": 23,
    "start_time": "2021-11-02T06:06:10.669Z"
   },
   {
    "duration": 19,
    "start_time": "2021-11-02T06:06:10.694Z"
   },
   {
    "duration": 13,
    "start_time": "2021-11-02T06:06:10.715Z"
   },
   {
    "duration": 1276,
    "start_time": "2021-11-02T06:06:39.868Z"
   },
   {
    "duration": 391,
    "start_time": "2021-11-02T06:06:41.146Z"
   },
   {
    "duration": 298,
    "start_time": "2021-11-02T06:06:41.539Z"
   },
   {
    "duration": 85,
    "start_time": "2021-11-02T06:06:41.839Z"
   },
   {
    "duration": 7,
    "start_time": "2021-11-02T06:06:41.926Z"
   },
   {
    "duration": 25,
    "start_time": "2021-11-02T06:06:41.934Z"
   },
   {
    "duration": 15,
    "start_time": "2021-11-02T06:06:41.960Z"
   },
   {
    "duration": 40,
    "start_time": "2021-11-02T06:06:41.977Z"
   },
   {
    "duration": 15,
    "start_time": "2021-11-02T06:06:42.019Z"
   },
   {
    "duration": 20,
    "start_time": "2021-11-02T06:06:42.036Z"
   },
   {
    "duration": 15,
    "start_time": "2021-11-02T06:06:42.058Z"
   },
   {
    "duration": 31,
    "start_time": "2021-11-02T06:06:42.075Z"
   },
   {
    "duration": 5,
    "start_time": "2021-11-02T06:06:42.108Z"
   },
   {
    "duration": 10,
    "start_time": "2021-11-02T06:06:42.115Z"
   },
   {
    "duration": 14,
    "start_time": "2021-11-02T06:06:42.127Z"
   },
   {
    "duration": 11,
    "start_time": "2021-11-02T06:06:42.143Z"
   },
   {
    "duration": 10,
    "start_time": "2021-11-02T06:06:42.157Z"
   },
   {
    "duration": 424,
    "start_time": "2021-11-02T06:07:06.281Z"
   },
   {
    "duration": 5,
    "start_time": "2021-11-02T06:07:15.852Z"
   },
   {
    "duration": 1189,
    "start_time": "2021-11-02T06:11:48.746Z"
   },
   {
    "duration": 387,
    "start_time": "2021-11-02T06:11:49.937Z"
   },
   {
    "duration": 287,
    "start_time": "2021-11-02T06:11:50.326Z"
   },
   {
    "duration": 86,
    "start_time": "2021-11-02T06:11:50.615Z"
   },
   {
    "duration": 7,
    "start_time": "2021-11-02T06:11:50.703Z"
   },
   {
    "duration": 27,
    "start_time": "2021-11-02T06:11:50.711Z"
   },
   {
    "duration": 22,
    "start_time": "2021-11-02T06:11:50.740Z"
   },
   {
    "duration": 23,
    "start_time": "2021-11-02T06:11:50.763Z"
   },
   {
    "duration": 36,
    "start_time": "2021-11-02T06:11:50.788Z"
   },
   {
    "duration": 23,
    "start_time": "2021-11-02T06:11:50.826Z"
   },
   {
    "duration": 18,
    "start_time": "2021-11-02T06:11:50.851Z"
   },
   {
    "duration": 13,
    "start_time": "2021-11-02T06:11:50.871Z"
   },
   {
    "duration": 23,
    "start_time": "2021-11-02T06:11:50.886Z"
   },
   {
    "duration": 30,
    "start_time": "2021-11-02T06:11:50.912Z"
   },
   {
    "duration": 31,
    "start_time": "2021-11-02T06:11:50.944Z"
   },
   {
    "duration": 16,
    "start_time": "2021-11-02T06:11:50.976Z"
   },
   {
    "duration": 24,
    "start_time": "2021-11-02T06:11:50.994Z"
   },
   {
    "duration": 330,
    "start_time": "2021-11-02T06:14:21.601Z"
   },
   {
    "duration": 301,
    "start_time": "2021-11-02T06:14:41.561Z"
   },
   {
    "duration": 377,
    "start_time": "2021-11-02T06:15:33.849Z"
   },
   {
    "duration": 330,
    "start_time": "2021-11-02T06:17:02.061Z"
   },
   {
    "duration": 6,
    "start_time": "2021-11-02T06:17:05.780Z"
   },
   {
    "duration": 4,
    "start_time": "2021-11-02T06:17:12.641Z"
   },
   {
    "duration": 6,
    "start_time": "2021-11-02T06:17:20.720Z"
   },
   {
    "duration": 8,
    "start_time": "2021-11-02T06:17:32.766Z"
   },
   {
    "duration": 184,
    "start_time": "2021-11-02T06:19:00.331Z"
   },
   {
    "duration": 7,
    "start_time": "2021-11-02T06:19:13.150Z"
   },
   {
    "duration": 33,
    "start_time": "2021-11-02T06:20:20.416Z"
   },
   {
    "duration": 30,
    "start_time": "2021-11-02T06:20:31.051Z"
   },
   {
    "duration": 8,
    "start_time": "2021-11-02T06:27:03.164Z"
   },
   {
    "duration": 7,
    "start_time": "2021-11-02T06:27:11.877Z"
   },
   {
    "duration": 6,
    "start_time": "2021-11-02T06:28:52.000Z"
   },
   {
    "duration": 7,
    "start_time": "2021-11-02T06:29:10.711Z"
   },
   {
    "duration": 8,
    "start_time": "2021-11-02T06:29:30.171Z"
   },
   {
    "duration": 6,
    "start_time": "2021-11-02T06:29:35.968Z"
   },
   {
    "duration": 10,
    "start_time": "2021-11-02T06:29:47.740Z"
   },
   {
    "duration": 8,
    "start_time": "2021-11-02T06:30:10.520Z"
   },
   {
    "duration": 7,
    "start_time": "2021-11-02T06:30:15.475Z"
   },
   {
    "duration": 8,
    "start_time": "2021-11-02T06:30:20.316Z"
   },
   {
    "duration": 8,
    "start_time": "2021-11-02T06:30:35.546Z"
   },
   {
    "duration": 6,
    "start_time": "2021-11-02T06:32:04.136Z"
   },
   {
    "duration": 7,
    "start_time": "2021-11-02T06:32:10.436Z"
   },
   {
    "duration": 6,
    "start_time": "2021-11-02T06:32:19.669Z"
   },
   {
    "duration": 5,
    "start_time": "2021-11-02T06:32:24.211Z"
   },
   {
    "duration": 5,
    "start_time": "2021-11-02T06:32:26.931Z"
   },
   {
    "duration": 6,
    "start_time": "2021-11-02T06:32:31.157Z"
   },
   {
    "duration": 5,
    "start_time": "2021-11-02T06:32:35.530Z"
   },
   {
    "duration": 8,
    "start_time": "2021-11-02T06:32:54.531Z"
   },
   {
    "duration": 1262,
    "start_time": "2021-11-02T06:34:26.641Z"
   },
   {
    "duration": 1332,
    "start_time": "2021-11-02T06:34:35.941Z"
   },
   {
    "duration": 1240,
    "start_time": "2021-11-02T06:34:44.989Z"
   },
   {
    "duration": 1348,
    "start_time": "2021-11-02T06:35:20.151Z"
   },
   {
    "duration": 1249,
    "start_time": "2021-11-02T06:35:30.391Z"
   },
   {
    "duration": 6,
    "start_time": "2021-11-02T06:35:58.371Z"
   },
   {
    "duration": 5,
    "start_time": "2021-11-02T06:36:03.191Z"
   },
   {
    "duration": 6,
    "start_time": "2021-11-02T06:36:24.891Z"
   },
   {
    "duration": 135,
    "start_time": "2021-11-02T06:37:14.041Z"
   },
   {
    "duration": 335,
    "start_time": "2021-11-02T06:37:26.967Z"
   },
   {
    "duration": 32,
    "start_time": "2021-11-02T06:38:22.491Z"
   },
   {
    "duration": 4,
    "start_time": "2021-11-02T06:38:46.859Z"
   },
   {
    "duration": 6,
    "start_time": "2021-11-02T06:43:11.501Z"
   },
   {
    "duration": 6,
    "start_time": "2021-11-02T06:43:17.951Z"
   },
   {
    "duration": 6,
    "start_time": "2021-11-02T06:43:22.945Z"
   },
   {
    "duration": 6,
    "start_time": "2021-11-02T06:44:00.691Z"
   },
   {
    "duration": 5,
    "start_time": "2021-11-02T06:44:09.511Z"
   },
   {
    "duration": 4,
    "start_time": "2021-11-02T06:44:15.931Z"
   },
   {
    "duration": 5,
    "start_time": "2021-11-02T06:44:27.721Z"
   },
   {
    "duration": 6,
    "start_time": "2021-11-02T06:45:55.550Z"
   },
   {
    "duration": 8,
    "start_time": "2021-11-02T06:46:12.531Z"
   },
   {
    "duration": 125,
    "start_time": "2021-11-02T06:46:29.061Z"
   },
   {
    "duration": 4,
    "start_time": "2021-11-02T06:46:33.861Z"
   },
   {
    "duration": 5,
    "start_time": "2021-11-02T06:47:16.631Z"
   },
   {
    "duration": 1243,
    "start_time": "2021-11-02T06:47:36.747Z"
   },
   {
    "duration": 4,
    "start_time": "2021-11-02T06:48:02.631Z"
   },
   {
    "duration": 1215,
    "start_time": "2021-11-02T06:48:14.849Z"
   },
   {
    "duration": 8,
    "start_time": "2021-11-02T06:48:22.451Z"
   },
   {
    "duration": 6,
    "start_time": "2021-11-02T06:48:27.091Z"
   },
   {
    "duration": 4,
    "start_time": "2021-11-02T06:48:59.562Z"
   },
   {
    "duration": 8,
    "start_time": "2021-11-02T06:49:12.591Z"
   },
   {
    "duration": 7,
    "start_time": "2021-11-02T06:49:17.171Z"
   },
   {
    "duration": 2177,
    "start_time": "2021-11-02T06:49:27.571Z"
   },
   {
    "duration": 4,
    "start_time": "2021-11-02T06:50:47.221Z"
   },
   {
    "duration": 2076,
    "start_time": "2021-11-02T06:50:49.171Z"
   },
   {
    "duration": 4,
    "start_time": "2021-11-02T06:51:11.911Z"
   },
   {
    "duration": 1222,
    "start_time": "2021-11-02T06:51:22.401Z"
   },
   {
    "duration": 6,
    "start_time": "2021-11-02T06:51:24.139Z"
   },
   {
    "duration": 7,
    "start_time": "2021-11-02T06:51:26.139Z"
   },
   {
    "duration": 3957,
    "start_time": "2021-11-02T06:51:27.081Z"
   },
   {
    "duration": 7,
    "start_time": "2021-11-02T06:51:39.312Z"
   },
   {
    "duration": 6,
    "start_time": "2021-11-02T06:52:11.801Z"
   },
   {
    "duration": 20555,
    "start_time": "2021-11-02T06:53:04.912Z"
   },
   {
    "duration": 4,
    "start_time": "2021-11-02T06:54:20.551Z"
   },
   {
    "duration": 5,
    "start_time": "2021-11-02T06:54:21.399Z"
   },
   {
    "duration": 1817,
    "start_time": "2021-11-02T06:54:21.951Z"
   },
   {
    "duration": 1367,
    "start_time": "2021-11-02T06:55:14.964Z"
   },
   {
    "duration": 5,
    "start_time": "2021-11-02T06:55:21.491Z"
   },
   {
    "duration": 5,
    "start_time": "2021-11-02T06:55:26.341Z"
   },
   {
    "duration": 341,
    "start_time": "2021-11-02T06:55:48.431Z"
   },
   {
    "duration": 5,
    "start_time": "2021-11-02T06:57:03.081Z"
   },
   {
    "duration": 4,
    "start_time": "2021-11-02T06:57:12.834Z"
   },
   {
    "duration": 6,
    "start_time": "2021-11-02T06:57:14.751Z"
   },
   {
    "duration": 1284,
    "start_time": "2021-11-02T06:57:15.300Z"
   },
   {
    "duration": 5,
    "start_time": "2021-11-02T06:57:18.189Z"
   },
   {
    "duration": 7,
    "start_time": "2021-11-02T06:57:21.951Z"
   },
   {
    "duration": 5798,
    "start_time": "2021-11-02T06:57:22.731Z"
   },
   {
    "duration": 7,
    "start_time": "2021-11-02T06:57:29.110Z"
   },
   {
    "duration": 383,
    "start_time": "2021-11-02T06:58:26.751Z"
   },
   {
    "duration": 289,
    "start_time": "2021-11-02T06:58:27.671Z"
   },
   {
    "duration": 88,
    "start_time": "2021-11-02T06:58:28.371Z"
   },
   {
    "duration": 4,
    "start_time": "2021-11-02T06:58:48.931Z"
   },
   {
    "duration": 6,
    "start_time": "2021-11-02T06:58:49.670Z"
   },
   {
    "duration": 1283,
    "start_time": "2021-11-02T06:58:52.592Z"
   },
   {
    "duration": 6,
    "start_time": "2021-11-02T06:58:54.651Z"
   },
   {
    "duration": 7,
    "start_time": "2021-11-02T06:58:56.601Z"
   },
   {
    "duration": 5750,
    "start_time": "2021-11-02T06:58:59.689Z"
   },
   {
    "duration": 7,
    "start_time": "2021-11-02T06:59:06.661Z"
   },
   {
    "duration": 34,
    "start_time": "2021-11-02T06:59:22.441Z"
   },
   {
    "duration": 12,
    "start_time": "2021-11-02T07:00:16.112Z"
   },
   {
    "duration": 11,
    "start_time": "2021-11-02T07:00:23.812Z"
   },
   {
    "duration": 6,
    "start_time": "2021-11-02T07:00:38.851Z"
   },
   {
    "duration": 21,
    "start_time": "2021-11-02T07:00:50.251Z"
   },
   {
    "duration": 16,
    "start_time": "2021-11-02T07:00:58.446Z"
   },
   {
    "duration": 104,
    "start_time": "2021-11-02T07:01:46.281Z"
   },
   {
    "duration": 21,
    "start_time": "2021-11-02T07:01:57.691Z"
   },
   {
    "duration": 4,
    "start_time": "2021-11-02T07:05:02.881Z"
   },
   {
    "duration": 148,
    "start_time": "2021-11-02T07:05:03.630Z"
   },
   {
    "duration": 142,
    "start_time": "2021-11-02T07:05:07.571Z"
   },
   {
    "duration": 140,
    "start_time": "2021-11-02T07:05:12.160Z"
   },
   {
    "duration": 395,
    "start_time": "2021-11-02T07:05:23.581Z"
   },
   {
    "duration": 208,
    "start_time": "2021-11-02T07:05:51.381Z"
   },
   {
    "duration": 356,
    "start_time": "2021-11-02T07:06:11.573Z"
   },
   {
    "duration": 149,
    "start_time": "2021-11-02T07:06:29.711Z"
   },
   {
    "duration": 5,
    "start_time": "2021-11-02T07:07:50.975Z"
   },
   {
    "duration": 6,
    "start_time": "2021-11-02T07:07:55.231Z"
   },
   {
    "duration": 6,
    "start_time": "2021-11-02T07:08:07.201Z"
   },
   {
    "duration": 6,
    "start_time": "2021-11-02T07:08:24.031Z"
   },
   {
    "duration": 7,
    "start_time": "2021-11-02T07:08:37.311Z"
   },
   {
    "duration": 7,
    "start_time": "2021-11-02T07:08:47.098Z"
   },
   {
    "duration": 907,
    "start_time": "2021-11-02T07:11:18.767Z"
   },
   {
    "duration": 36,
    "start_time": "2021-11-02T07:12:18.201Z"
   },
   {
    "duration": 340,
    "start_time": "2021-11-02T07:12:33.011Z"
   },
   {
    "duration": 34,
    "start_time": "2021-11-02T07:13:03.966Z"
   },
   {
    "duration": 5421,
    "start_time": "2021-11-02T07:13:18.443Z"
   },
   {
    "duration": 8,
    "start_time": "2021-11-02T07:13:50.131Z"
   },
   {
    "duration": 7,
    "start_time": "2021-11-02T07:14:19.862Z"
   },
   {
    "duration": 8,
    "start_time": "2021-11-02T07:15:17.397Z"
   },
   {
    "duration": 29,
    "start_time": "2021-11-02T07:15:59.545Z"
   },
   {
    "duration": 11,
    "start_time": "2021-11-02T07:16:13.693Z"
   },
   {
    "duration": 339,
    "start_time": "2021-11-02T07:16:30.412Z"
   },
   {
    "duration": 7,
    "start_time": "2021-11-02T07:16:40.031Z"
   },
   {
    "duration": 550,
    "start_time": "2021-11-02T07:17:04.695Z"
   },
   {
    "duration": 25417,
    "start_time": "2021-11-02T07:17:10.771Z"
   },
   {
    "duration": 9738,
    "start_time": "2021-11-02T07:17:36.190Z"
   },
   {
    "duration": 3,
    "start_time": "2021-11-02T07:17:53.961Z"
   },
   {
    "duration": 3,
    "start_time": "2021-11-02T07:17:54.597Z"
   },
   {
    "duration": 5,
    "start_time": "2021-11-02T07:17:56.732Z"
   },
   {
    "duration": 9,
    "start_time": "2021-11-02T07:18:06.644Z"
   },
   {
    "duration": 3,
    "start_time": "2021-11-02T07:18:11.953Z"
   },
   {
    "duration": 71654,
    "start_time": "2021-11-02T07:18:25.462Z"
   },
   {
    "duration": 1162092,
    "start_time": "2021-11-02T07:21:24.440Z"
   },
   {
    "duration": 170162,
    "start_time": "2021-11-02T07:45:31.350Z"
   },
   {
    "duration": 712,
    "start_time": "2021-11-02T07:49:56.290Z"
   },
   {
    "duration": 567747,
    "start_time": "2021-11-02T07:50:18.910Z"
   },
   {
    "duration": 101,
    "start_time": "2021-11-02T08:00:27.690Z"
   },
   {
    "duration": 9,
    "start_time": "2021-11-02T08:00:31.352Z"
   },
   {
    "duration": 117188,
    "start_time": "2021-11-02T08:02:03.491Z"
   },
   {
    "duration": 2547,
    "start_time": "2021-11-02T08:04:38.620Z"
   },
   {
    "duration": 6,
    "start_time": "2021-11-02T08:08:54.750Z"
   },
   {
    "duration": 50476,
    "start_time": "2021-11-02T08:09:33.130Z"
   },
   {
    "duration": 28297,
    "start_time": "2021-11-02T08:10:23.611Z"
   },
   {
    "duration": 1254,
    "start_time": "2021-11-02T08:29:51.280Z"
   },
   {
    "duration": 498,
    "start_time": "2021-11-02T08:29:52.535Z"
   },
   {
    "duration": 298,
    "start_time": "2021-11-02T08:29:53.036Z"
   },
   {
    "duration": 87,
    "start_time": "2021-11-02T08:29:53.336Z"
   },
   {
    "duration": 7,
    "start_time": "2021-11-02T08:29:53.425Z"
   },
   {
    "duration": 37,
    "start_time": "2021-11-02T08:29:53.434Z"
   },
   {
    "duration": 30,
    "start_time": "2021-11-02T08:29:53.473Z"
   },
   {
    "duration": 21,
    "start_time": "2021-11-02T08:29:53.505Z"
   },
   {
    "duration": 20,
    "start_time": "2021-11-02T08:29:53.530Z"
   },
   {
    "duration": 21,
    "start_time": "2021-11-02T08:29:53.553Z"
   },
   {
    "duration": 36,
    "start_time": "2021-11-02T08:29:53.577Z"
   },
   {
    "duration": 13,
    "start_time": "2021-11-02T08:29:53.616Z"
   },
   {
    "duration": 7,
    "start_time": "2021-11-02T08:29:53.631Z"
   },
   {
    "duration": 17,
    "start_time": "2021-11-02T08:29:53.640Z"
   },
   {
    "duration": 14,
    "start_time": "2021-11-02T08:29:53.659Z"
   },
   {
    "duration": 9,
    "start_time": "2021-11-02T08:29:53.675Z"
   },
   {
    "duration": 373,
    "start_time": "2021-11-02T08:29:53.707Z"
   },
   {
    "duration": 154,
    "start_time": "2021-11-02T08:29:54.083Z"
   },
   {
    "duration": 4,
    "start_time": "2021-11-02T08:29:54.239Z"
   },
   {
    "duration": 9,
    "start_time": "2021-11-02T08:29:54.245Z"
   },
   {
    "duration": 1311,
    "start_time": "2021-11-02T08:29:54.256Z"
   },
   {
    "duration": 5,
    "start_time": "2021-11-02T08:29:55.569Z"
   },
   {
    "duration": 18,
    "start_time": "2021-11-02T08:29:55.575Z"
   },
   {
    "duration": 5957,
    "start_time": "2021-11-02T08:29:55.595Z"
   },
   {
    "duration": 6,
    "start_time": "2021-11-02T08:30:01.554Z"
   },
   {
    "duration": 25,
    "start_time": "2021-11-02T08:30:01.562Z"
   },
   {
    "duration": 9,
    "start_time": "2021-11-02T08:30:01.591Z"
   },
   {
    "duration": 130,
    "start_time": "2021-11-02T08:30:01.605Z"
   },
   {
    "duration": 24,
    "start_time": "2021-11-02T08:30:01.737Z"
   },
   {
    "duration": 30,
    "start_time": "2021-11-02T08:30:01.763Z"
   },
   {
    "duration": 173,
    "start_time": "2021-11-02T08:30:01.795Z"
   },
   {
    "duration": 212,
    "start_time": "2021-11-02T08:30:01.970Z"
   },
   {
    "duration": 143,
    "start_time": "2021-11-02T08:30:02.184Z"
   },
   {
    "duration": 340,
    "start_time": "2021-11-02T08:30:02.328Z"
   },
   {
    "duration": 7,
    "start_time": "2021-11-02T08:30:02.670Z"
   },
   {
    "duration": 589,
    "start_time": "2021-11-02T08:30:02.679Z"
   },
   {
    "duration": 26803,
    "start_time": "2021-11-02T08:30:03.269Z"
   },
   {
    "duration": 9928,
    "start_time": "2021-11-02T08:30:30.074Z"
   },
   {
    "duration": 4,
    "start_time": "2021-11-02T08:30:40.007Z"
   },
   {
    "duration": 18,
    "start_time": "2021-11-02T08:30:40.013Z"
   },
   {
    "duration": 15,
    "start_time": "2021-11-02T08:30:40.033Z"
   },
   {
    "duration": 15,
    "start_time": "2021-11-02T08:30:40.050Z"
   },
   {
    "duration": 9,
    "start_time": "2021-11-02T08:30:40.067Z"
   },
   {
    "duration": 71232,
    "start_time": "2021-11-02T08:30:40.078Z"
   },
   {
    "duration": 168747,
    "start_time": "2021-11-02T08:31:51.313Z"
   },
   {
    "duration": 772,
    "start_time": "2021-11-02T08:34:39.290Z"
   },
   {
    "duration": 766,
    "start_time": "2021-11-02T08:34:39.297Z"
   },
   {
    "duration": 765,
    "start_time": "2021-11-02T08:34:39.299Z"
   },
   {
    "duration": 763,
    "start_time": "2021-11-02T08:34:39.302Z"
   },
   {
    "duration": 762,
    "start_time": "2021-11-02T08:34:39.304Z"
   },
   {
    "duration": 756,
    "start_time": "2021-11-02T08:34:39.311Z"
   },
   {
    "duration": 1612,
    "start_time": "2021-11-02T08:39:12.332Z"
   },
   {
    "duration": 393,
    "start_time": "2021-11-02T08:39:13.946Z"
   },
   {
    "duration": 291,
    "start_time": "2021-11-02T08:39:14.341Z"
   },
   {
    "duration": 90,
    "start_time": "2021-11-02T08:39:14.635Z"
   },
   {
    "duration": 9,
    "start_time": "2021-11-02T08:39:14.727Z"
   },
   {
    "duration": 36,
    "start_time": "2021-11-02T08:39:14.738Z"
   },
   {
    "duration": 21,
    "start_time": "2021-11-02T08:39:14.775Z"
   },
   {
    "duration": 25,
    "start_time": "2021-11-02T08:39:14.799Z"
   },
   {
    "duration": 29,
    "start_time": "2021-11-02T08:39:14.826Z"
   },
   {
    "duration": 24,
    "start_time": "2021-11-02T08:39:14.856Z"
   },
   {
    "duration": 19,
    "start_time": "2021-11-02T08:39:14.882Z"
   },
   {
    "duration": 18,
    "start_time": "2021-11-02T08:39:14.903Z"
   },
   {
    "duration": 25,
    "start_time": "2021-11-02T08:39:14.923Z"
   },
   {
    "duration": 22,
    "start_time": "2021-11-02T08:39:14.950Z"
   },
   {
    "duration": 13,
    "start_time": "2021-11-02T08:39:14.974Z"
   },
   {
    "duration": 11,
    "start_time": "2021-11-02T08:39:14.989Z"
   },
   {
    "duration": 352,
    "start_time": "2021-11-02T08:39:15.002Z"
   },
   {
    "duration": 142,
    "start_time": "2021-11-02T08:39:15.355Z"
   },
   {
    "duration": 9,
    "start_time": "2021-11-02T08:39:15.498Z"
   },
   {
    "duration": 9,
    "start_time": "2021-11-02T08:39:15.508Z"
   },
   {
    "duration": 1316,
    "start_time": "2021-11-02T08:39:15.519Z"
   },
   {
    "duration": 5,
    "start_time": "2021-11-02T08:39:16.836Z"
   },
   {
    "duration": 27,
    "start_time": "2021-11-02T08:39:16.844Z"
   },
   {
    "duration": 5849,
    "start_time": "2021-11-02T08:39:16.873Z"
   },
   {
    "duration": 6,
    "start_time": "2021-11-02T08:39:22.724Z"
   },
   {
    "duration": 14,
    "start_time": "2021-11-02T08:39:22.732Z"
   },
   {
    "duration": 8,
    "start_time": "2021-11-02T08:39:22.747Z"
   },
   {
    "duration": 139,
    "start_time": "2021-11-02T08:39:22.756Z"
   },
   {
    "duration": 27,
    "start_time": "2021-11-02T08:39:22.897Z"
   },
   {
    "duration": 4,
    "start_time": "2021-11-02T08:39:22.926Z"
   },
   {
    "duration": 164,
    "start_time": "2021-11-02T08:39:22.931Z"
   },
   {
    "duration": 210,
    "start_time": "2021-11-02T08:39:23.097Z"
   },
   {
    "duration": 147,
    "start_time": "2021-11-02T08:39:23.309Z"
   },
   {
    "duration": 338,
    "start_time": "2021-11-02T08:39:23.458Z"
   },
   {
    "duration": 8,
    "start_time": "2021-11-02T08:39:35.433Z"
   },
   {
    "duration": 7,
    "start_time": "2021-11-02T08:39:43.406Z"
   },
   {
    "duration": 7,
    "start_time": "2021-11-02T08:40:01.765Z"
   },
   {
    "duration": 31,
    "start_time": "2021-11-02T08:45:56.985Z"
   },
   {
    "duration": 33,
    "start_time": "2021-11-02T08:46:37.233Z"
   },
   {
    "duration": 6,
    "start_time": "2021-11-02T08:46:50.573Z"
   },
   {
    "duration": 32,
    "start_time": "2021-11-02T08:46:55.655Z"
   },
   {
    "duration": 7,
    "start_time": "2021-11-02T08:47:02.352Z"
   },
   {
    "duration": 33,
    "start_time": "2021-11-02T08:47:05.013Z"
   },
   {
    "duration": 3,
    "start_time": "2021-11-02T08:47:51.307Z"
   },
   {
    "duration": 31,
    "start_time": "2021-11-02T08:47:59.359Z"
   },
   {
    "duration": 3,
    "start_time": "2021-11-02T08:48:41.405Z"
   },
   {
    "duration": 11,
    "start_time": "2021-11-02T08:48:51.786Z"
   },
   {
    "duration": 12,
    "start_time": "2021-11-02T08:49:16.255Z"
   },
   {
    "duration": 8,
    "start_time": "2021-11-02T08:49:20.809Z"
   },
   {
    "duration": 572,
    "start_time": "2021-11-02T08:49:22.604Z"
   },
   {
    "duration": 1208,
    "start_time": "2021-11-02T08:50:09.135Z"
   },
   {
    "duration": 389,
    "start_time": "2021-11-02T08:50:10.345Z"
   },
   {
    "duration": 289,
    "start_time": "2021-11-02T08:50:10.737Z"
   },
   {
    "duration": 86,
    "start_time": "2021-11-02T08:50:11.028Z"
   },
   {
    "duration": 7,
    "start_time": "2021-11-02T08:50:11.116Z"
   },
   {
    "duration": 29,
    "start_time": "2021-11-02T08:50:11.124Z"
   },
   {
    "duration": 20,
    "start_time": "2021-11-02T08:50:11.155Z"
   },
   {
    "duration": 33,
    "start_time": "2021-11-02T08:50:11.177Z"
   },
   {
    "duration": 20,
    "start_time": "2021-11-02T08:50:11.213Z"
   },
   {
    "duration": 20,
    "start_time": "2021-11-02T08:50:11.236Z"
   },
   {
    "duration": 10,
    "start_time": "2021-11-02T08:50:11.258Z"
   },
   {
    "duration": 9,
    "start_time": "2021-11-02T08:50:11.270Z"
   },
   {
    "duration": 5,
    "start_time": "2021-11-02T08:50:11.307Z"
   },
   {
    "duration": 8,
    "start_time": "2021-11-02T08:50:11.314Z"
   },
   {
    "duration": 11,
    "start_time": "2021-11-02T08:50:11.323Z"
   },
   {
    "duration": 8,
    "start_time": "2021-11-02T08:50:11.336Z"
   },
   {
    "duration": 373,
    "start_time": "2021-11-02T08:50:11.345Z"
   },
   {
    "duration": 144,
    "start_time": "2021-11-02T08:50:11.720Z"
   },
   {
    "duration": 4,
    "start_time": "2021-11-02T08:50:11.866Z"
   },
   {
    "duration": 10,
    "start_time": "2021-11-02T08:50:11.871Z"
   },
   {
    "duration": 1288,
    "start_time": "2021-11-02T08:50:11.882Z"
   },
   {
    "duration": 5,
    "start_time": "2021-11-02T08:50:13.172Z"
   },
   {
    "duration": 14,
    "start_time": "2021-11-02T08:50:13.180Z"
   },
   {
    "duration": 5641,
    "start_time": "2021-11-02T08:50:13.207Z"
   },
   {
    "duration": 6,
    "start_time": "2021-11-02T08:50:18.850Z"
   },
   {
    "duration": 11,
    "start_time": "2021-11-02T08:50:18.858Z"
   },
   {
    "duration": 6,
    "start_time": "2021-11-02T08:50:18.871Z"
   },
   {
    "duration": 137,
    "start_time": "2021-11-02T08:50:18.879Z"
   },
   {
    "duration": 24,
    "start_time": "2021-11-02T08:50:19.018Z"
   },
   {
    "duration": 4,
    "start_time": "2021-11-02T08:50:19.044Z"
   },
   {
    "duration": 163,
    "start_time": "2021-11-02T08:50:19.049Z"
   },
   {
    "duration": 202,
    "start_time": "2021-11-02T08:50:19.214Z"
   },
   {
    "duration": 147,
    "start_time": "2021-11-02T08:50:19.418Z"
   },
   {
    "duration": 334,
    "start_time": "2021-11-02T08:50:19.567Z"
   },
   {
    "duration": 3,
    "start_time": "2021-11-02T08:50:19.904Z"
   },
   {
    "duration": 18,
    "start_time": "2021-11-02T08:50:19.909Z"
   },
   {
    "duration": 4,
    "start_time": "2021-11-02T08:50:34.517Z"
   },
   {
    "duration": 4,
    "start_time": "2021-11-02T08:50:40.110Z"
   },
   {
    "duration": 7,
    "start_time": "2021-11-02T08:50:48.970Z"
   },
   {
    "duration": 578,
    "start_time": "2021-11-02T08:50:50.262Z"
   },
   {
    "duration": 6081,
    "start_time": "2021-11-02T08:53:11.876Z"
   },
   {
    "duration": 6060,
    "start_time": "2021-11-02T08:53:35.138Z"
   },
   {
    "duration": 25085,
    "start_time": "2021-11-02T08:54:00.444Z"
   },
   {
    "duration": 9225,
    "start_time": "2021-11-02T08:54:25.531Z"
   },
   {
    "duration": 3,
    "start_time": "2021-11-02T08:55:44.460Z"
   },
   {
    "duration": 3,
    "start_time": "2021-11-02T08:55:44.752Z"
   },
   {
    "duration": 5,
    "start_time": "2021-11-02T08:55:45.055Z"
   },
   {
    "duration": 10,
    "start_time": "2021-11-02T08:55:51.168Z"
   },
   {
    "duration": 3,
    "start_time": "2021-11-02T08:55:57.836Z"
   },
   {
    "duration": 71336,
    "start_time": "2021-11-02T08:55:59.375Z"
   },
   {
    "duration": 1703,
    "start_time": "2021-11-03T06:15:34.217Z"
   },
   {
    "duration": 475,
    "start_time": "2021-11-03T06:15:35.923Z"
   },
   {
    "duration": 345,
    "start_time": "2021-11-03T06:15:36.401Z"
   },
   {
    "duration": 99,
    "start_time": "2021-11-03T06:15:36.749Z"
   },
   {
    "duration": 25,
    "start_time": "2021-11-03T06:15:36.850Z"
   },
   {
    "duration": 37,
    "start_time": "2021-11-03T06:15:36.879Z"
   },
   {
    "duration": 65,
    "start_time": "2021-11-03T06:15:36.919Z"
   },
   {
    "duration": 31,
    "start_time": "2021-11-03T06:15:36.987Z"
   },
   {
    "duration": 59,
    "start_time": "2021-11-03T06:15:37.023Z"
   },
   {
    "duration": 32,
    "start_time": "2021-11-03T06:15:37.085Z"
   },
   {
    "duration": 49,
    "start_time": "2021-11-03T06:15:37.120Z"
   },
   {
    "duration": 12,
    "start_time": "2021-11-03T06:15:37.172Z"
   },
   {
    "duration": 13,
    "start_time": "2021-11-03T06:15:37.187Z"
   },
   {
    "duration": 9,
    "start_time": "2021-11-03T06:15:37.203Z"
   },
   {
    "duration": 68,
    "start_time": "2021-11-03T06:15:37.214Z"
   },
   {
    "duration": 12,
    "start_time": "2021-11-03T06:15:37.284Z"
   },
   {
    "duration": 849,
    "start_time": "2021-11-03T06:15:37.298Z"
   },
   {
    "duration": 255,
    "start_time": "2021-11-03T06:15:38.149Z"
   },
   {
    "duration": 5,
    "start_time": "2021-11-03T06:15:38.406Z"
   },
   {
    "duration": 11,
    "start_time": "2021-11-03T06:15:38.413Z"
   },
   {
    "duration": 2557,
    "start_time": "2021-11-03T06:15:38.427Z"
   },
   {
    "duration": 6,
    "start_time": "2021-11-03T06:15:40.986Z"
   },
   {
    "duration": 8,
    "start_time": "2021-11-03T06:15:40.995Z"
   },
   {
    "duration": 10624,
    "start_time": "2021-11-03T06:15:41.005Z"
   },
   {
    "duration": 8,
    "start_time": "2021-11-03T06:15:51.632Z"
   },
   {
    "duration": 37,
    "start_time": "2021-11-03T06:15:51.643Z"
   },
   {
    "duration": 9,
    "start_time": "2021-11-03T06:15:51.684Z"
   },
   {
    "duration": 208,
    "start_time": "2021-11-03T06:15:51.696Z"
   },
   {
    "duration": 39,
    "start_time": "2021-11-03T06:15:51.906Z"
   },
   {
    "duration": 21,
    "start_time": "2021-11-03T06:15:51.947Z"
   },
   {
    "duration": 259,
    "start_time": "2021-11-03T06:15:51.970Z"
   },
   {
    "duration": 301,
    "start_time": "2021-11-03T06:15:52.231Z"
   },
   {
    "duration": 233,
    "start_time": "2021-11-03T06:15:52.535Z"
   },
   {
    "duration": 564,
    "start_time": "2021-11-03T06:15:52.770Z"
   },
   {
    "duration": 9,
    "start_time": "2021-11-03T06:16:06.959Z"
   },
   {
    "duration": 9,
    "start_time": "2021-11-03T06:16:29.516Z"
   },
   {
    "duration": 8,
    "start_time": "2021-11-03T06:17:16.116Z"
   },
   {
    "duration": 9,
    "start_time": "2021-11-03T06:17:17.026Z"
   },
   {
    "duration": 17,
    "start_time": "2021-11-03T06:18:28.688Z"
   },
   {
    "duration": 5,
    "start_time": "2021-11-03T06:18:30.028Z"
   },
   {
    "duration": 5,
    "start_time": "2021-11-03T06:18:31.488Z"
   },
   {
    "duration": 10,
    "start_time": "2021-11-03T06:18:36.476Z"
   },
   {
    "duration": 983,
    "start_time": "2021-11-03T06:18:37.647Z"
   },
   {
    "duration": 43856,
    "start_time": "2021-11-03T06:18:42.436Z"
   },
   {
    "duration": 1584,
    "start_time": "2021-11-03T06:19:34.240Z"
   },
   {
    "duration": 469,
    "start_time": "2021-11-03T06:19:35.827Z"
   },
   {
    "duration": 335,
    "start_time": "2021-11-03T06:19:36.299Z"
   },
   {
    "duration": 103,
    "start_time": "2021-11-03T06:19:36.636Z"
   },
   {
    "duration": 10,
    "start_time": "2021-11-03T06:19:36.741Z"
   },
   {
    "duration": 34,
    "start_time": "2021-11-03T06:19:36.767Z"
   },
   {
    "duration": 22,
    "start_time": "2021-11-03T06:19:36.803Z"
   },
   {
    "duration": 68,
    "start_time": "2021-11-03T06:19:36.828Z"
   },
   {
    "duration": 23,
    "start_time": "2021-11-03T06:19:36.900Z"
   },
   {
    "duration": 64,
    "start_time": "2021-11-03T06:19:36.926Z"
   },
   {
    "duration": 17,
    "start_time": "2021-11-03T06:19:36.992Z"
   },
   {
    "duration": 13,
    "start_time": "2021-11-03T06:19:37.012Z"
   },
   {
    "duration": 45,
    "start_time": "2021-11-03T06:19:37.027Z"
   },
   {
    "duration": 8,
    "start_time": "2021-11-03T06:19:37.075Z"
   },
   {
    "duration": 20,
    "start_time": "2021-11-03T06:19:37.089Z"
   },
   {
    "duration": 15,
    "start_time": "2021-11-03T06:19:37.168Z"
   },
   {
    "duration": 718,
    "start_time": "2021-11-03T06:19:37.186Z"
   },
   {
    "duration": 246,
    "start_time": "2021-11-03T06:19:37.907Z"
   },
   {
    "duration": 12,
    "start_time": "2021-11-03T06:19:38.155Z"
   },
   {
    "duration": 10,
    "start_time": "2021-11-03T06:19:38.170Z"
   },
   {
    "duration": 2649,
    "start_time": "2021-11-03T06:19:38.182Z"
   },
   {
    "duration": 7,
    "start_time": "2021-11-03T06:19:40.833Z"
   },
   {
    "duration": 29,
    "start_time": "2021-11-03T06:19:40.842Z"
   },
   {
    "duration": 10585,
    "start_time": "2021-11-03T06:19:40.874Z"
   },
   {
    "duration": 9,
    "start_time": "2021-11-03T06:19:51.466Z"
   },
   {
    "duration": 15,
    "start_time": "2021-11-03T06:19:51.478Z"
   },
   {
    "duration": 9,
    "start_time": "2021-11-03T06:19:51.498Z"
   },
   {
    "duration": 228,
    "start_time": "2021-11-03T06:19:51.510Z"
   },
   {
    "duration": 53,
    "start_time": "2021-11-03T06:19:51.740Z"
   },
   {
    "duration": 5,
    "start_time": "2021-11-03T06:19:51.796Z"
   },
   {
    "duration": 252,
    "start_time": "2021-11-03T06:19:51.803Z"
   },
   {
    "duration": 303,
    "start_time": "2021-11-03T06:19:52.066Z"
   },
   {
    "duration": 236,
    "start_time": "2021-11-03T06:19:52.372Z"
   },
   {
    "duration": 553,
    "start_time": "2021-11-03T06:19:52.610Z"
   },
   {
    "duration": 9,
    "start_time": "2021-11-03T06:19:53.168Z"
   },
   {
    "duration": 9,
    "start_time": "2021-11-03T06:19:53.179Z"
   },
   {
    "duration": 18,
    "start_time": "2021-11-03T06:19:53.190Z"
   },
   {
    "duration": 5,
    "start_time": "2021-11-03T06:19:53.210Z"
   },
   {
    "duration": 54,
    "start_time": "2021-11-03T06:19:53.217Z"
   },
   {
    "duration": 13,
    "start_time": "2021-11-03T06:19:53.274Z"
   },
   {
    "duration": 1208,
    "start_time": "2021-11-03T06:19:53.290Z"
   },
   {
    "duration": 43730,
    "start_time": "2021-11-03T06:19:54.500Z"
   },
   {
    "duration": 16654,
    "start_time": "2021-11-03T06:20:38.232Z"
   },
   {
    "duration": 4,
    "start_time": "2021-11-03T06:20:54.889Z"
   },
   {
    "duration": 12,
    "start_time": "2021-11-03T06:20:54.895Z"
   },
   {
    "duration": 12,
    "start_time": "2021-11-03T06:20:54.909Z"
   },
   {
    "duration": 44,
    "start_time": "2021-11-03T06:20:54.923Z"
   },
   {
    "duration": 4,
    "start_time": "2021-11-03T06:20:54.970Z"
   },
   {
    "duration": 82492,
    "start_time": "2021-11-03T06:20:54.977Z"
   },
   {
    "duration": 215266,
    "start_time": "2021-11-03T06:22:17.471Z"
   },
   {
    "duration": 61527,
    "start_time": "2021-11-03T06:25:52.740Z"
   },
   {
    "duration": 29698,
    "start_time": "2021-11-03T06:26:54.271Z"
   },
   {
    "duration": 55555,
    "start_time": "2021-11-03T06:27:23.972Z"
   },
   {
    "duration": -15045,
    "start_time": "2021-11-03T06:28:34.574Z"
   },
   {
    "duration": -15052,
    "start_time": "2021-11-03T06:28:34.582Z"
   },
   {
    "duration": -15056,
    "start_time": "2021-11-03T06:28:34.588Z"
   },
   {
    "duration": 104,
    "start_time": "2021-11-03T06:28:30.870Z"
   },
   {
    "duration": 15,
    "start_time": "2021-11-03T06:28:33.219Z"
   },
   {
    "duration": 3305,
    "start_time": "2021-11-03T06:35:06.498Z"
   },
   {
    "duration": 2285,
    "start_time": "2021-11-03T06:38:32.548Z"
   },
   {
    "duration": 301,
    "start_time": "2021-11-03T06:38:43.988Z"
   },
   {
    "duration": 154568,
    "start_time": "2021-11-03T06:39:42.224Z"
   },
   {
    "duration": 6,
    "start_time": "2021-11-03T06:43:02.872Z"
   },
   {
    "duration": 2520,
    "start_time": "2021-11-03T06:44:04.599Z"
   },
   {
    "duration": 6,
    "start_time": "2021-11-03T06:44:18.568Z"
   },
   {
    "duration": 1983,
    "start_time": "2021-11-03T06:44:19.228Z"
   },
   {
    "duration": 6,
    "start_time": "2021-11-03T06:44:48.999Z"
   },
   {
    "duration": 1961,
    "start_time": "2021-11-03T06:44:49.700Z"
   },
   {
    "duration": 6,
    "start_time": "2021-11-03T06:45:04.849Z"
   },
   {
    "duration": 1972,
    "start_time": "2021-11-03T06:45:05.352Z"
   },
   {
    "duration": 6,
    "start_time": "2021-11-03T06:45:21.427Z"
   },
   {
    "duration": 1975,
    "start_time": "2021-11-03T06:45:22.229Z"
   },
   {
    "duration": 6,
    "start_time": "2021-11-03T06:45:40.584Z"
   },
   {
    "duration": 80061,
    "start_time": "2021-11-03T06:45:41.250Z"
   },
   {
    "duration": 1530,
    "start_time": "2021-11-03T07:01:52.508Z"
   },
   {
    "duration": 470,
    "start_time": "2021-11-03T07:01:54.040Z"
   },
   {
    "duration": 348,
    "start_time": "2021-11-03T07:01:54.513Z"
   },
   {
    "duration": 104,
    "start_time": "2021-11-03T07:01:54.864Z"
   },
   {
    "duration": 10,
    "start_time": "2021-11-03T07:01:54.970Z"
   },
   {
    "duration": 35,
    "start_time": "2021-11-03T07:01:54.982Z"
   },
   {
    "duration": 52,
    "start_time": "2021-11-03T07:01:55.020Z"
   },
   {
    "duration": 36,
    "start_time": "2021-11-03T07:01:55.076Z"
   },
   {
    "duration": 24,
    "start_time": "2021-11-03T07:01:55.115Z"
   },
   {
    "duration": 35,
    "start_time": "2021-11-03T07:01:55.168Z"
   },
   {
    "duration": 17,
    "start_time": "2021-11-03T07:01:55.207Z"
   },
   {
    "duration": 48,
    "start_time": "2021-11-03T07:01:55.227Z"
   },
   {
    "duration": 7,
    "start_time": "2021-11-03T07:01:55.278Z"
   },
   {
    "duration": 12,
    "start_time": "2021-11-03T07:01:55.288Z"
   },
   {
    "duration": 19,
    "start_time": "2021-11-03T07:01:55.303Z"
   },
   {
    "duration": 12,
    "start_time": "2021-11-03T07:01:55.368Z"
   },
   {
    "duration": 634,
    "start_time": "2021-11-03T07:01:55.383Z"
   },
   {
    "duration": 282,
    "start_time": "2021-11-03T07:01:56.020Z"
   },
   {
    "duration": 7,
    "start_time": "2021-11-03T07:01:56.305Z"
   },
   {
    "duration": 13,
    "start_time": "2021-11-03T07:01:56.315Z"
   },
   {
    "duration": 2709,
    "start_time": "2021-11-03T07:01:56.331Z"
   },
   {
    "duration": 6,
    "start_time": "2021-11-03T07:01:59.043Z"
   },
   {
    "duration": 9,
    "start_time": "2021-11-03T07:01:59.070Z"
   },
   {
    "duration": 10538,
    "start_time": "2021-11-03T07:01:59.083Z"
   },
   {
    "duration": 9,
    "start_time": "2021-11-03T07:02:09.623Z"
   },
   {
    "duration": 36,
    "start_time": "2021-11-03T07:02:09.634Z"
   },
   {
    "duration": 9,
    "start_time": "2021-11-03T07:02:09.672Z"
   },
   {
    "duration": 202,
    "start_time": "2021-11-03T07:02:09.683Z"
   },
   {
    "duration": 39,
    "start_time": "2021-11-03T07:02:09.888Z"
   },
   {
    "duration": 43,
    "start_time": "2021-11-03T07:02:09.929Z"
   },
   {
    "duration": 260,
    "start_time": "2021-11-03T07:02:09.974Z"
   },
   {
    "duration": 300,
    "start_time": "2021-11-03T07:02:10.236Z"
   },
   {
    "duration": 232,
    "start_time": "2021-11-03T07:02:10.538Z"
   },
   {
    "duration": 734,
    "start_time": "2021-11-03T07:02:10.772Z"
   },
   {
    "duration": 10,
    "start_time": "2021-11-03T07:02:11.509Z"
   },
   {
    "duration": 9,
    "start_time": "2021-11-03T07:02:11.522Z"
   },
   {
    "duration": 45,
    "start_time": "2021-11-03T07:02:11.533Z"
   },
   {
    "duration": 5,
    "start_time": "2021-11-03T07:02:11.581Z"
   },
   {
    "duration": 13,
    "start_time": "2021-11-03T07:02:11.588Z"
   },
   {
    "duration": 10,
    "start_time": "2021-11-03T07:02:11.603Z"
   },
   {
    "duration": 1030,
    "start_time": "2021-11-03T07:02:11.668Z"
   },
   {
    "duration": 42686,
    "start_time": "2021-11-03T07:02:12.701Z"
   },
   {
    "duration": 16818,
    "start_time": "2021-11-03T07:02:55.389Z"
   },
   {
    "duration": 4,
    "start_time": "2021-11-03T07:03:12.210Z"
   },
   {
    "duration": 7,
    "start_time": "2021-11-03T07:03:12.216Z"
   },
   {
    "duration": 8,
    "start_time": "2021-11-03T07:03:12.226Z"
   },
   {
    "duration": 38,
    "start_time": "2021-11-03T07:03:12.236Z"
   },
   {
    "duration": 5,
    "start_time": "2021-11-03T07:03:12.277Z"
   },
   {
    "duration": 84591,
    "start_time": "2021-11-03T07:03:12.284Z"
   },
   {
    "duration": 213499,
    "start_time": "2021-11-03T07:04:36.968Z"
   },
   {
    "duration": 51102,
    "start_time": "2021-11-03T07:08:10.469Z"
   },
   {
    "duration": 30100,
    "start_time": "2021-11-03T07:09:01.574Z"
   },
   {
    "duration": 255,
    "start_time": "2021-11-03T07:09:31.678Z"
   },
   {
    "duration": 3263,
    "start_time": "2021-11-03T07:09:31.936Z"
   },
   {
    "duration": 13,
    "start_time": "2021-11-03T07:09:35.202Z"
   }
  ],
  "kernelspec": {
   "display_name": "Python 3",
   "language": "python",
   "name": "python3"
  },
  "language_info": {
   "codemirror_mode": {
    "name": "ipython",
    "version": 3
   },
   "file_extension": ".py",
   "mimetype": "text/x-python",
   "name": "python",
   "nbconvert_exporter": "python",
   "pygments_lexer": "ipython3",
   "version": "3.8.5"
  },
  "toc": {
   "base_numbering": 1,
   "nav_menu": {},
   "number_sections": false,
   "sideBar": true,
   "skip_h1_title": false,
   "title_cell": "Содержание",
   "title_sidebar": "Contents",
   "toc_cell": true,
   "toc_position": {
    "height": "calc(100% - 180px)",
    "left": "10px",
    "top": "150px",
    "width": "165px"
   },
   "toc_section_display": true,
   "toc_window_display": true
  }
 },
 "nbformat": 4,
 "nbformat_minor": 2
}
